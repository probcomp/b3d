{
 "cells": [
  {
   "cell_type": "code",
   "execution_count": 1,
   "metadata": {},
   "outputs": [],
   "source": [
    "%load_ext autoreload\n",
    "%autoreload 2"
   ]
  },
  {
   "cell_type": "code",
   "execution_count": 2,
   "metadata": {},
   "outputs": [],
   "source": [
    "import rerun as rr\n",
    "import genjax\n",
    "import os\n",
    "import numpy as np\n",
    "import jax.numpy as jnp\n",
    "import jax\n",
    "from b3d import Pose\n",
    "import b3d\n",
    "from tqdm   import tqdm\n",
    "\n",
    "PORT = 8812\n",
    "rr.init(\"object_prior_test\")\n",
    "rr.connect(addr=f'127.0.0.1:{PORT}')"
   ]
  },
  {
   "cell_type": "code",
   "execution_count": 4,
   "metadata": {},
   "outputs": [],
   "source": [
    "path = os.path.join(b3d.get_assets_path(),\n",
    "#  \"shared_data_bucket/input_data/orange_mug_pan_around_and_pickup.r3d.video_input.npz\")\n",
    "# \"shared_data_bucket/input_data/shout_on_desk.r3d.video_input.npz\")\n",
    "\"shared_data_bucket/input_data/desk_ramen2_spray1.r3d.video_input.npz\")\n",
    "video_input = b3d.VideoInput.load(path)"
   ]
  },
  {
   "cell_type": "code",
   "execution_count": 5,
   "metadata": {},
   "outputs": [],
   "source": [
    "image_width, image_height, fx,fy, cx,cy,near,far = np.array(video_input.camera_intrinsics_depth)\n",
    "image_width, image_height = int(image_width), int(image_height)\n",
    "fx,fy, cx,cy,near,far = float(fx),float(fy), float(cx),float(cy),float(near),float(far)\n",
    "\n",
    "rgbs = video_input.rgb[::3] / 255.0\n",
    "xyzs = video_input.xyz[::3]\n",
    "# Resize rgbs to be same size as depth.\n",
    "rgbs_resized = jnp.clip(jax.vmap(jax.image.resize, in_axes=(0, None, None))(\n",
    "    rgbs, (video_input.xyz.shape[1], video_input.xyz.shape[2], 3), \"linear\"\n",
    "), 0.0, 1.0)\n",
    "\n",
    "point_cloud_og = xyzs[0].reshape(-1,3)\n",
    "colors_og = rgbs_resized[0].reshape(-1,3)"
   ]
  },
  {
   "cell_type": "code",
   "execution_count": null,
   "metadata": {},
   "outputs": [],
   "source": []
  },
  {
   "cell_type": "code",
   "execution_count": 6,
   "metadata": {},
   "outputs": [],
   "source": [
    "import b3d.model2 as model2"
   ]
  },
  {
   "cell_type": "code",
   "execution_count": null,
   "metadata": {},
   "outputs": [],
   "source": [
    "genjax.const"
   ]
  },
  {
   "cell_type": "code",
   "execution_count": 125,
   "metadata": {},
   "outputs": [],
   "source": [
    "key = jax.random.PRNGKey(0)\n",
    "intrinsics = (fx,fy, cx,cy,near,far)\n",
    "subx, suby = 8, 8\n",
    "p_occupancy = 0.4\n",
    "C = genjax.Pytree.const\n",
    "args = (\n",
    "    C(image_width), C(image_height),\n",
    "    C(subx), C(suby),\n",
    "    C(intrinsics), p_occupancy\n",
    ")\n",
    "trace = model2.generate_object_voxel_mesh.simulate(key, args)"
   ]
  },
  {
   "cell_type": "code",
   "execution_count": 126,
   "metadata": {},
   "outputs": [],
   "source": [
    "vertices, faces, vertex_colors, face_colors, point_centers, depth = trace.get_retval()"
   ]
  },
  {
   "cell_type": "code",
   "execution_count": null,
   "metadata": {},
   "outputs": [],
   "source": []
  },
  {
   "cell_type": "code",
   "execution_count": null,
   "metadata": {},
   "outputs": [],
   "source": []
  },
  {
   "cell_type": "code",
   "execution_count": 127,
   "metadata": {},
   "outputs": [],
   "source": [
    "rr.log(\n",
    "    \"/3d/mesh\",\n",
    "    rr.Mesh3D(\n",
    "        vertex_positions=vertices,\n",
    "        indices=faces,\n",
    "        vertex_colors=vertex_colors\n",
    "    ),\n",
    "    timeless=True\n",
    ")"
   ]
  },
  {
   "cell_type": "code",
   "execution_count": 97,
   "metadata": {},
   "outputs": [
    {
     "data": {
      "text/plain": [
       "Array([-36.591602, -59.232773, 100.00007 ], dtype=float32)"
      ]
     },
     "execution_count": 97,
     "metadata": {},
     "output_type": "execute_result"
    }
   ],
   "source": [
    "vertices[-1]"
   ]
  },
  {
   "cell_type": "code",
   "execution_count": 91,
   "metadata": {},
   "outputs": [
    {
     "data": {
      "text/plain": [
       "Array([[-47.20476 , -72.08062 ,  99.99984 ],\n",
       "       [-47.20476 , -72.08062 , 100.00016 ],\n",
       "       [-47.20476 , -72.0803  ,  99.99984 ],\n",
       "       [-47.20476 , -72.0803  , 100.00016 ],\n",
       "       [-46.646496, -72.08063 ,  99.99983 ],\n",
       "       [-46.646496, -72.08063 , 100.00017 ],\n",
       "       [-46.646496, -72.08029 ,  99.99983 ],\n",
       "       [-46.646496, -72.08029 , 100.00017 ],\n",
       "       [-46.646168, -72.08063 ,  99.99983 ],\n",
       "       [-46.646168, -72.08063 , 100.00017 ],\n",
       "       [-46.646168, -72.08029 ,  99.99983 ],\n",
       "       [-46.646168, -72.08029 , 100.00017 ],\n",
       "       [-46.087868, -72.08059 ,  99.99987 ],\n",
       "       [-46.087868, -72.08059 , 100.00013 ],\n",
       "       [-46.087868, -72.08033 ,  99.99987 ],\n",
       "       [-46.087868, -72.08033 , 100.00013 ],\n",
       "       [-46.08761 , -72.08059 ,  99.99987 ],\n",
       "       [-46.08761 , -72.08059 , 100.00013 ],\n",
       "       [-46.08761 , -72.08033 ,  99.99987 ],\n",
       "       [-46.08761 , -72.08033 , 100.00013 ]], dtype=float32)"
      ]
     },
     "execution_count": 91,
     "metadata": {},
     "output_type": "execute_result"
    }
   ],
   "source": [
    "vertices[100:120,]"
   ]
  },
  {
   "cell_type": "code",
   "execution_count": 83,
   "metadata": {},
   "outputs": [
    {
     "data": {
      "text/plain": [
       "100.0"
      ]
     },
     "execution_count": 83,
     "metadata": {},
     "output_type": "execute_result"
    }
   ],
   "source": [
    "far"
   ]
  },
  {
   "cell_type": "code",
   "execution_count": null,
   "metadata": {},
   "outputs": [],
   "source": []
  },
  {
   "cell_type": "code",
   "execution_count": 56,
   "metadata": {},
   "outputs": [],
   "source": [
    "(voxel_present, depth, colors, resolutions, point_centers) = trace.get_retval()\n",
    "depth_flat = depth.reshape(-1)\n",
    "colors_flat = colors.reshape(-1, 3)"
   ]
  },
  {
   "cell_type": "code",
   "execution_count": 59,
   "metadata": {},
   "outputs": [
    {
     "data": {
      "text/plain": [
       "(3072,)"
      ]
     },
     "execution_count": 59,
     "metadata": {},
     "output_type": "execute_result"
    }
   ],
   "source": [
    "resolutions.shape"
   ]
  },
  {
   "cell_type": "code",
   "execution_count": 61,
   "metadata": {},
   "outputs": [
    {
     "data": {
      "text/plain": [
       "(48, 64)"
      ]
     },
     "execution_count": 61,
     "metadata": {},
     "output_type": "execute_result"
    }
   ],
   "source": [
    "voxel_present.shape"
   ]
  },
  {
   "cell_type": "code",
   "execution_count": 62,
   "metadata": {},
   "outputs": [],
   "source": [
    "vertices, faces, vertex_colors, face_colors = b3d.utils.make_mesh_from_point_cloud_and_resolution_2(\n",
    "    point_centers,\n",
    "    colors_flat,\n",
    "    resolutions,\n",
    "    voxel_present.reshape(-1)\n",
    ")"
   ]
  },
  {
   "cell_type": "code",
   "execution_count": 18,
   "metadata": {},
   "outputs": [],
   "source": [
    "voxel_present, depth, colors = trace.get_retval()"
   ]
  },
  {
   "cell_type": "code",
   "execution_count": 28,
   "metadata": {},
   "outputs": [
    {
     "data": {
      "text/plain": [
       "Array([[ 8.2909977e-03,  7.7206809e-03,  5.9520635e-03, ...,\n",
       "         4.7618030e-03,  9.8284325e-03, -1.0000000e+00],\n",
       "       [ 1.9602785e-03,  1.8960666e-03, -1.0000000e+00, ...,\n",
       "         3.5102842e-03,  1.7511351e-03,  6.8051419e-03],\n",
       "       [ 3.4411047e-03, -1.0000000e+00,  8.8439239e-03, ...,\n",
       "         4.7888327e-03,  2.6385877e-03, -1.0000000e+00],\n",
       "       ...,\n",
       "       [-1.0000000e+00,  4.2594587e-03,  3.0224035e-03, ...,\n",
       "         2.0125713e-03,  7.3168082e-03,  7.4895606e-03],\n",
       "       [ 8.3255786e-03,  7.2128675e-03,  2.3591798e-04, ...,\n",
       "         6.9076382e-04,  4.4467375e-03,  8.7554250e-03],\n",
       "       [ 2.0493641e-03, -1.0000000e+00,  3.4507955e-03, ...,\n",
       "        -1.0000000e+00,  2.1509863e-03,  5.5744122e-03]], dtype=float32)"
      ]
     },
     "execution_count": 28,
     "metadata": {},
     "output_type": "execute_result"
    }
   ],
   "source": [
    "f = lambda m : m.match(lambda: -1.0, lambda x : x)\n",
    "jax.vmap(jax.vmap(f, in_axes=(0,)), in_axes=(0,))(depth)"
   ]
  },
  {
   "cell_type": "code",
   "execution_count": 24,
   "metadata": {},
   "outputs": [
    {
     "data": {
      "text/plain": [
       "BoundMethod(\n",
       "  __func__=<wrapped function match>,\n",
       "  __self__=Mask(flag=i32[48,64], value=f32[48,64])\n",
       ")"
      ]
     },
     "execution_count": 24,
     "metadata": {},
     "output_type": "execute_result"
    }
   ],
   "source": [
    "genjax.Mask.match"
   ]
  },
  {
   "cell_type": "code",
   "execution_count": null,
   "metadata": {},
   "outputs": [],
   "source": [
    "vertices, faces, vertex_colors, face_colors = trace.get_retval()"
   ]
  }
 ],
 "metadata": {
  "kernelspec": {
   "display_name": "b3d",
   "language": "python",
   "name": "python3"
  },
  "language_info": {
   "codemirror_mode": {
    "name": "ipython",
    "version": 3
   },
   "file_extension": ".py",
   "mimetype": "text/x-python",
   "name": "python",
   "nbconvert_exporter": "python",
   "pygments_lexer": "ipython3",
   "version": "3.10.14"
  }
 },
 "nbformat": 4,
 "nbformat_minor": 2
}
