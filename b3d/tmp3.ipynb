{
 "cells": [
  {
   "cell_type": "code",
   "execution_count": 1,
   "metadata": {},
   "outputs": [],
   "source": [
    "%load_ext autoreload\n",
    "%autoreload 2"
   ]
  },
  {
   "cell_type": "code",
   "execution_count": 2,
   "metadata": {},
   "outputs": [],
   "source": [
    "import rerun as rr\n",
    "import genjax\n",
    "import os\n",
    "import numpy as np\n",
    "import jax.numpy as jnp\n",
    "import jax\n",
    "from b3d import Pose\n",
    "import b3d\n",
    "from tqdm   import tqdm\n",
    "\n",
    "PORT = 8812\n",
    "rr.init(\"object_prior_test\")\n",
    "rr.connect(addr=f'127.0.0.1:{PORT}')"
   ]
  },
  {
   "cell_type": "code",
   "execution_count": 3,
   "metadata": {},
   "outputs": [],
   "source": [
    "path = os.path.join(b3d.get_assets_path(),\n",
    "#  \"shared_data_bucket/input_data/orange_mug_pan_around_and_pickup.r3d.video_input.npz\")\n",
    "# \"shared_data_bucket/input_data/shout_on_desk.r3d.video_input.npz\")\n",
    "\"shared_data_bucket/input_data/desk_ramen2_spray1.r3d.video_input.npz\")\n",
    "video_input = b3d.VideoInput.load(path)"
   ]
  },
  {
   "cell_type": "code",
   "execution_count": 4,
   "metadata": {},
   "outputs": [],
   "source": [
    "image_width, image_height, fx,fy, cx,cy,near,far = np.array(video_input.camera_intrinsics_depth)\n",
    "image_width, image_height = int(image_width), int(image_height)\n",
    "fx,fy, cx,cy,near,far = float(fx),float(fy), float(cx),float(cy),float(near),float(far)\n",
    "\n",
    "rgbs = video_input.rgb[::3] / 255.0\n",
    "xyzs = video_input.xyz[::3]\n",
    "# Resize rgbs to be same size as depth.\n",
    "rgbs_resized = jnp.clip(jax.vmap(jax.image.resize, in_axes=(0, None, None))(\n",
    "    rgbs, (video_input.xyz.shape[1], video_input.xyz.shape[2], 3), \"linear\"\n",
    "), 0.0, 1.0)\n",
    "\n",
    "point_cloud_og = xyzs[0].reshape(-1,3)\n",
    "colors_og = rgbs_resized[0].reshape(-1,3)"
   ]
  },
  {
   "cell_type": "code",
   "execution_count": null,
   "metadata": {},
   "outputs": [],
   "source": []
  },
  {
   "cell_type": "code",
   "execution_count": 5,
   "metadata": {},
   "outputs": [],
   "source": [
    "import b3d.model2 as model2"
   ]
  },
  {
   "cell_type": "code",
   "execution_count": 146,
   "metadata": {},
   "outputs": [],
   "source": [
    "key = jax.random.PRNGKey(0)\n",
    "intrinsics = (fx,fy, cx,cy,near,far)\n",
    "subx, suby = 2, 2\n",
    "w, h = image_width//subx, image_height//suby\n",
    "p_occupancy = 0.4\n",
    "C = genjax.Pytree.const\n",
    "object_model_args = (\n",
    "    C(image_width), C(image_height),\n",
    "    C(subx), C(suby),\n",
    "    C(intrinsics), p_occupancy\n",
    ")\n",
    "trace1 = model2.generate_object_voxel_mesh.simulate(key, object_model_args)"
   ]
  },
  {
   "cell_type": "code",
   "execution_count": 147,
   "metadata": {},
   "outputs": [],
   "source": [
    "xy_indices = jnp.meshgrid(jnp.arange(0, image_width, subx), jnp.arange(0, image_height, suby))\n",
    "depth_constraint = xyzs[0, :, :, 2][tuple(xy_indices)]\n",
    "color_constraint = rgbs_resized[0, :, :, :][tuple(xy_indices)]"
   ]
  },
  {
   "cell_type": "code",
   "execution_count": 148,
   "metadata": {},
   "outputs": [],
   "source": [
    "# \"inference\" has never been so easy...\n",
    "background_object_constraints = genjax.choice_map({\n",
    "    \"voxel_present\": genjax.vector_choice_map(\n",
    "        genjax.vector_choice_map(genjax.choice(jnp.ones((w, h), dtype=int)))\n",
    "    ),\n",
    "    \"depth\": genjax.vector_choice_map(\n",
    "        genjax.vector_choice_map(\n",
    "            genjax.Mask(\n",
    "                jnp.ones((w, h), dtype=int),\n",
    "                genjax.choice(depth_constraint.transpose())\n",
    "            )\n",
    "        )\n",
    "    ),\n",
    "    \"color\": genjax.vector_choice_map(\n",
    "        genjax.vector_choice_map(\n",
    "            genjax.vector_choice_map(\n",
    "                genjax.Mask(\n",
    "                    jnp.ones((w, h, 3), dtype=int),\n",
    "                    genjax.choice(color_constraint.swapaxes(0, 1))\n",
    "                )\n",
    "            )\n",
    "        )\n",
    "    )\n",
    "})"
   ]
  },
  {
   "cell_type": "code",
   "execution_count": 149,
   "metadata": {},
   "outputs": [],
   "source": [
    "trace2, _ = model2.generate_object_voxel_mesh.importance(key, background_object_constraints, object_model_args)"
   ]
  },
  {
   "cell_type": "code",
   "execution_count": 151,
   "metadata": {},
   "outputs": [],
   "source": [
    "# Visualize the object in the trace\n",
    "vertices, faces, vertex_colors = trace2.get_retval()\n",
    "rr.log(\n",
    "    \"/3d/mesh\",\n",
    "    rr.Mesh3D(\n",
    "        vertex_positions=vertices,\n",
    "        indices=faces,\n",
    "        vertex_colors=vertex_colors\n",
    "    ),\n",
    "    timeless=True\n",
    ")"
   ]
  },
  {
   "cell_type": "code",
   "execution_count": null,
   "metadata": {},
   "outputs": [],
   "source": []
  },
  {
   "cell_type": "markdown",
   "metadata": {},
   "source": [
    "## Make trace for full model (@ t=0)"
   ]
  },
  {
   "cell_type": "code",
   "execution_count": 152,
   "metadata": {},
   "outputs": [],
   "source": [
    "color_error, depth_error = (jnp.float32(30.0), jnp.float32(0.02))\n",
    "inlier_score, outlier_prob = (jnp.float32(5.0), jnp.float32(0.001))\n",
    "color_multiplier, depth_multiplier = (jnp.float32(3000.0), jnp.float32(3000.0))\n",
    "\n",
    "full_model_args = (\n",
    "    jnp.arange(1),\n",
    "    color_error, depth_error,\n",
    "    inlier_score, outlier_prob, color_multiplier, depth_multiplier,\n",
    "    object_model_args\n",
    ")\n"
   ]
  },
  {
   "cell_type": "code",
   "execution_count": 153,
   "metadata": {},
   "outputs": [],
   "source": [
    "START_T = 0\n",
    "full_model_constraints = genjax.choice_map({\n",
    "    \"camera_pose\": Pose.identity(),\n",
    "    \"object_pose_0\": Pose.identity(),\n",
    "    \"object_0\": 0,\n",
    "    \"observed_rgb\": rgbs_resized[START_T],\n",
    "    \"observed_depth\": xyzs[START_T,...,2],\n",
    "    \"mesh\": background_object_constraints\n",
    "})"
   ]
  },
  {
   "cell_type": "code",
   "execution_count": 154,
   "metadata": {},
   "outputs": [],
   "source": [
    "renderer = b3d.Renderer(image_width, image_height, fx, fy, cx, cy, near, far)\n",
    "model = model2.model_multiobject_gl_factory(renderer)"
   ]
  },
  {
   "cell_type": "code",
   "execution_count": 155,
   "metadata": {},
   "outputs": [
    {
     "name": "stdout",
     "output_type": "stream",
     "text": [
      "Traced<ShapedArray(float32[98304,3])>with<DynamicJaxprTrace(level=1/0)> Traced<ShapedArray(int32[147456,3])>with<DynamicJaxprTrace(level=1/0)> Traced<ShapedArray(float32[98304,3])>with<DynamicJaxprTrace(level=1/0)>\n"
     ]
    }
   ],
   "source": [
    "trace_, _ = model.importance(\n",
    "    key,\n",
    "    full_model_constraints,\n",
    "    full_model_args\n",
    ")"
   ]
  },
  {
   "cell_type": "code",
   "execution_count": 156,
   "metadata": {},
   "outputs": [],
   "source": [
    "(observed_rgb, rendered_rgb), (observed_depth, rendered_depth) = trace_.get_retval()"
   ]
  },
  {
   "cell_type": "code",
   "execution_count": 159,
   "metadata": {},
   "outputs": [],
   "source": [
    "rr.log(\"/rgb\", rr.Image(observed_rgb))\n",
    "rr.log(\"/depth\", rr.DepthImage(observed_depth))\n",
    "rr.log(\"/rgb/rendered\", rr.Image(rendered_rgb))\n",
    "rr.log(\"/depth/rendered\", rr.DepthImage(rendered_depth))"
   ]
  },
  {
   "cell_type": "code",
   "execution_count": null,
   "metadata": {},
   "outputs": [],
   "source": []
  },
  {
   "cell_type": "code",
   "execution_count": null,
   "metadata": {},
   "outputs": [],
   "source": []
  },
  {
   "cell_type": "code",
   "execution_count": null,
   "metadata": {},
   "outputs": [],
   "source": []
  },
  {
   "cell_type": "code",
   "execution_count": null,
   "metadata": {},
   "outputs": [],
   "source": []
  },
  {
   "cell_type": "markdown",
   "metadata": {},
   "source": [
    "# Below here is scratch work"
   ]
  },
  {
   "cell_type": "code",
   "execution_count": 56,
   "metadata": {},
   "outputs": [],
   "source": [
    "(voxel_present, depth, colors, resolutions, point_centers) = trace.get_retval()\n",
    "depth_flat = depth.reshape(-1)\n",
    "colors_flat = colors.reshape(-1, 3)"
   ]
  },
  {
   "cell_type": "code",
   "execution_count": 59,
   "metadata": {},
   "outputs": [
    {
     "data": {
      "text/plain": [
       "(3072,)"
      ]
     },
     "execution_count": 59,
     "metadata": {},
     "output_type": "execute_result"
    }
   ],
   "source": [
    "resolutions.shape"
   ]
  },
  {
   "cell_type": "code",
   "execution_count": 61,
   "metadata": {},
   "outputs": [
    {
     "data": {
      "text/plain": [
       "(48, 64)"
      ]
     },
     "execution_count": 61,
     "metadata": {},
     "output_type": "execute_result"
    }
   ],
   "source": [
    "voxel_present.shape"
   ]
  },
  {
   "cell_type": "code",
   "execution_count": 62,
   "metadata": {},
   "outputs": [],
   "source": [
    "vertices, faces, vertex_colors, face_colors = b3d.utils.make_mesh_from_point_cloud_and_resolution_2(\n",
    "    point_centers,\n",
    "    colors_flat,\n",
    "    resolutions,\n",
    "    voxel_present.reshape(-1)\n",
    ")"
   ]
  },
  {
   "cell_type": "code",
   "execution_count": 18,
   "metadata": {},
   "outputs": [],
   "source": [
    "voxel_present, depth, colors = trace.get_retval()"
   ]
  },
  {
   "cell_type": "code",
   "execution_count": 28,
   "metadata": {},
   "outputs": [
    {
     "data": {
      "text/plain": [
       "Array([[ 8.2909977e-03,  7.7206809e-03,  5.9520635e-03, ...,\n",
       "         4.7618030e-03,  9.8284325e-03, -1.0000000e+00],\n",
       "       [ 1.9602785e-03,  1.8960666e-03, -1.0000000e+00, ...,\n",
       "         3.5102842e-03,  1.7511351e-03,  6.8051419e-03],\n",
       "       [ 3.4411047e-03, -1.0000000e+00,  8.8439239e-03, ...,\n",
       "         4.7888327e-03,  2.6385877e-03, -1.0000000e+00],\n",
       "       ...,\n",
       "       [-1.0000000e+00,  4.2594587e-03,  3.0224035e-03, ...,\n",
       "         2.0125713e-03,  7.3168082e-03,  7.4895606e-03],\n",
       "       [ 8.3255786e-03,  7.2128675e-03,  2.3591798e-04, ...,\n",
       "         6.9076382e-04,  4.4467375e-03,  8.7554250e-03],\n",
       "       [ 2.0493641e-03, -1.0000000e+00,  3.4507955e-03, ...,\n",
       "        -1.0000000e+00,  2.1509863e-03,  5.5744122e-03]], dtype=float32)"
      ]
     },
     "execution_count": 28,
     "metadata": {},
     "output_type": "execute_result"
    }
   ],
   "source": [
    "f = lambda m : m.match(lambda: -1.0, lambda x : x)\n",
    "jax.vmap(jax.vmap(f, in_axes=(0,)), in_axes=(0,))(depth)"
   ]
  },
  {
   "cell_type": "code",
   "execution_count": 24,
   "metadata": {},
   "outputs": [
    {
     "data": {
      "text/plain": [
       "BoundMethod(\n",
       "  __func__=<wrapped function match>,\n",
       "  __self__=Mask(flag=i32[48,64], value=f32[48,64])\n",
       ")"
      ]
     },
     "execution_count": 24,
     "metadata": {},
     "output_type": "execute_result"
    }
   ],
   "source": [
    "genjax.Mask.match"
   ]
  },
  {
   "cell_type": "code",
   "execution_count": null,
   "metadata": {},
   "outputs": [],
   "source": [
    "vertices, faces, vertex_colors, face_colors = trace.get_retval()"
   ]
  }
 ],
 "metadata": {
  "kernelspec": {
   "display_name": "b3d",
   "language": "python",
   "name": "python3"
  },
  "language_info": {
   "codemirror_mode": {
    "name": "ipython",
    "version": 3
   },
   "file_extension": ".py",
   "mimetype": "text/x-python",
   "name": "python",
   "nbconvert_exporter": "python",
   "pygments_lexer": "ipython3",
   "version": "3.10.14"
  }
 },
 "nbformat": 4,
 "nbformat_minor": 2
}
