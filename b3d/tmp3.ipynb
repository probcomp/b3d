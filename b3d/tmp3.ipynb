{
 "cells": [
  {
   "cell_type": "code",
   "execution_count": 1,
   "metadata": {},
   "outputs": [],
   "source": [
    "%load_ext autoreload\n",
    "%autoreload 2"
   ]
  },
  {
   "cell_type": "code",
   "execution_count": 2,
   "metadata": {},
   "outputs": [],
   "source": [
    "import rerun as rr\n",
    "import genjax\n",
    "import os\n",
    "import numpy as np\n",
    "import jax.numpy as jnp\n",
    "import jax\n",
    "from b3d import Pose\n",
    "import b3d\n",
    "from tqdm   import tqdm\n",
    "\n",
    "PORT = 8812\n",
    "rr.init(\"object_prior_test\")\n",
    "rr.connect(addr=f'127.0.0.1:{PORT}')"
   ]
  },
  {
   "cell_type": "code",
   "execution_count": 3,
   "metadata": {},
   "outputs": [],
   "source": [
    "path = os.path.join(b3d.get_assets_path(),\n",
    "#  \"shared_data_bucket/input_data/orange_mug_pan_around_and_pickup.r3d.video_input.npz\")\n",
    "# \"shared_data_bucket/input_data/shout_on_desk.r3d.video_input.npz\")\n",
    "\"shared_data_bucket/input_data/desk_ramen2_spray1.r3d.video_input.npz\")\n",
    "video_input = b3d.VideoInput.load(path)"
   ]
  },
  {
   "cell_type": "code",
   "execution_count": 4,
   "metadata": {},
   "outputs": [],
   "source": [
    "image_width, image_height, fx,fy, cx,cy,near,far = np.array(video_input.camera_intrinsics_depth)\n",
    "image_width, image_height = int(image_width), int(image_height)\n",
    "fx,fy, cx,cy,near,far = float(fx),float(fy), float(cx),float(cy),float(near),float(far)\n",
    "\n",
    "rgbs = video_input.rgb[::3] / 255.0\n",
    "xyzs = video_input.xyz[::3]\n",
    "# Resize rgbs to be same size as depth.\n",
    "rgbs_resized = jnp.clip(jax.vmap(jax.image.resize, in_axes=(0, None, None))(\n",
    "    rgbs, (video_input.xyz.shape[1], video_input.xyz.shape[2], 3), \"linear\"\n",
    "), 0.0, 1.0)\n",
    "\n",
    "point_cloud_og = xyzs[0].reshape(-1,3)\n",
    "colors_og = rgbs_resized[0].reshape(-1,3)"
   ]
  },
  {
   "cell_type": "code",
   "execution_count": null,
   "metadata": {},
   "outputs": [],
   "source": []
  },
  {
   "cell_type": "code",
   "execution_count": 5,
   "metadata": {},
   "outputs": [],
   "source": [
    "import b3d.model2 as model2"
   ]
  },
  {
   "cell_type": "code",
   "execution_count": 6,
   "metadata": {},
   "outputs": [],
   "source": [
    "key = jax.random.PRNGKey(0)\n",
    "intrinsics = (fx,fy, cx,cy,near,far)\n",
    "subx, suby = 2, 2\n",
    "w, h = image_width//subx, image_height//suby\n",
    "p_occupancy = 0.4\n",
    "C = genjax.Pytree.const\n",
    "object_model_args = (\n",
    "    C(image_width), C(image_height),\n",
    "    C(subx), C(suby),\n",
    "    C(intrinsics), p_occupancy\n",
    ")\n",
    "trace1 = model2.generate_object_voxel_mesh.simulate(key, object_model_args)"
   ]
  },
  {
   "cell_type": "code",
   "execution_count": 7,
   "metadata": {},
   "outputs": [],
   "source": [
    "xy_indices = jnp.meshgrid(jnp.arange(0, image_width, subx), jnp.arange(0, image_height, suby))\n",
    "depth_constraint = xyzs[0, :, :, 2][tuple(xy_indices)]\n",
    "color_constraint = rgbs_resized[0, :, :, :][tuple(xy_indices)]"
   ]
  },
  {
   "cell_type": "code",
   "execution_count": 8,
   "metadata": {},
   "outputs": [],
   "source": [
    "# \"inference\" has never been so easy...\n",
    "background_object_constraints = genjax.choice_map({\n",
    "    \"voxel_present\": genjax.vector_choice_map(\n",
    "        genjax.vector_choice_map(genjax.choice(jnp.ones((w, h), dtype=int)))\n",
    "    ),\n",
    "    \"depth\": genjax.vector_choice_map(\n",
    "        genjax.vector_choice_map(\n",
    "            genjax.Mask(\n",
    "                jnp.ones((w, h), dtype=int),\n",
    "                genjax.choice(depth_constraint.transpose())\n",
    "            )\n",
    "        )\n",
    "    ),\n",
    "    \"color\": genjax.vector_choice_map(\n",
    "        genjax.vector_choice_map(\n",
    "            genjax.vector_choice_map(\n",
    "                genjax.Mask(\n",
    "                    jnp.ones((w, h, 3), dtype=int),\n",
    "                    genjax.choice(color_constraint.swapaxes(0, 1))\n",
    "                )\n",
    "            )\n",
    "        )\n",
    "    )\n",
    "})"
   ]
  },
  {
   "cell_type": "code",
   "execution_count": 9,
   "metadata": {},
   "outputs": [],
   "source": [
    "trace2, _ = model2.generate_object_voxel_mesh.importance(key, background_object_constraints, object_model_args)"
   ]
  },
  {
   "cell_type": "code",
   "execution_count": 10,
   "metadata": {},
   "outputs": [],
   "source": [
    "# Visualize the object in the trace\n",
    "vertices, faces, vertex_colors = trace2.get_retval()\n",
    "rr.log(\n",
    "    \"/3d/mesh\",\n",
    "    rr.Mesh3D(\n",
    "        vertex_positions=vertices,\n",
    "        indices=faces,\n",
    "        vertex_colors=vertex_colors\n",
    "    ),\n",
    "    timeless=True\n",
    ")"
   ]
  },
  {
   "cell_type": "markdown",
   "metadata": {},
   "source": [
    "## Make trace for full model (@ t=0)"
   ]
  },
  {
   "cell_type": "code",
   "execution_count": 11,
   "metadata": {},
   "outputs": [],
   "source": [
    "renderer = b3d.Renderer(image_width, image_height, fx, fy, cx, cy, near, far)\n",
    "model = model2.model_multiobject_gl_factory(renderer)\n",
    "importance_jit = jax.jit(model.importance)"
   ]
  },
  {
   "cell_type": "code",
   "execution_count": 12,
   "metadata": {},
   "outputs": [],
   "source": [
    "color_error, depth_error = (jnp.float32(30.0), jnp.float32(0.02))\n",
    "inlier_score, outlier_prob = (jnp.float32(5.0), jnp.float32(0.001))\n",
    "color_multiplier, depth_multiplier = (jnp.float32(3000.0), jnp.float32(3000.0))\n",
    "max_n_frames_arr = jnp.arange(20)\n",
    "n_step_frames = 0\n",
    "\n",
    "full_model_args = (\n",
    "    jnp.arange(1),\n",
    "    color_error, depth_error,\n",
    "    inlier_score, outlier_prob, color_multiplier, depth_multiplier,\n",
    "    object_model_args,\n",
    "    max_n_frames_arr, n_step_frames\n",
    ")\n"
   ]
  },
  {
   "cell_type": "code",
   "execution_count": 13,
   "metadata": {},
   "outputs": [],
   "source": [
    "START_T = 0\n",
    "full_model_constraints = genjax.choice_map({\n",
    "    \"camera_pose\": Pose.identity(),\n",
    "    \"object_pose_0\": Pose.identity(),\n",
    "    \"object_0\": 0,\n",
    "    \"obs\": genjax.choice_map({\n",
    "        \"observed_rgb\": rgbs_resized[START_T],\n",
    "        \"observed_depth\": xyzs[START_T,...,2]\n",
    "    }),\n",
    "    \"mesh\": background_object_constraints\n",
    "})"
   ]
  },
  {
   "cell_type": "code",
   "execution_count": 14,
   "metadata": {},
   "outputs": [],
   "source": [
    "trace_, _ = importance_jit(\n",
    "    key,\n",
    "    full_model_constraints,\n",
    "    full_model_args\n",
    ")"
   ]
  },
  {
   "cell_type": "code",
   "execution_count": 15,
   "metadata": {},
   "outputs": [],
   "source": [
    "# model2.rerun_visualize_trace_t(trace_, 0)\n",
    "model2.rerun_visualize_trace_across_time(trace_)"
   ]
  },
  {
   "cell_type": "code",
   "execution_count": null,
   "metadata": {},
   "outputs": [],
   "source": []
  },
  {
   "cell_type": "markdown",
   "metadata": {},
   "source": [
    "### inference over time"
   ]
  },
  {
   "cell_type": "code",
   "execution_count": 16,
   "metadata": {},
   "outputs": [],
   "source": [
    "translation_deltas = Pose.concatenate_poses([jax.vmap(lambda p: Pose.from_translation(p))(jnp.stack(\n",
    "    jnp.meshgrid(\n",
    "        jnp.linspace(-0.01, 0.01, 11),\n",
    "        jnp.linspace(-0.01, 0.01, 11),\n",
    "        jnp.linspace(-0.01, 0.01, 11),\n",
    "    ),\n",
    "    axis=-1,\n",
    ").reshape(-1, 3)), Pose.identity()[None,...]])\n",
    "\n",
    "rotation_deltas = Pose.concatenate_poses([jax.vmap(Pose.sample_gaussian_vmf_pose, in_axes=(0,None, None, None))(\n",
    "    jax.random.split(jax.random.PRNGKey(0), 11*11*11),\n",
    "    Pose.identity(),\n",
    "    0.00001, 1000.0\n",
    "), Pose.identity()[None,...]])\n"
   ]
  },
  {
   "cell_type": "code",
   "execution_count": 17,
   "metadata": {},
   "outputs": [],
   "source": [
    "all_deltas =  Pose.stack_poses([translation_deltas, rotation_deltas])"
   ]
  },
  {
   "cell_type": "code",
   "execution_count": 18,
   "metadata": {},
   "outputs": [],
   "source": [
    "update_jit = jax.jit(model.update)"
   ]
  },
  {
   "cell_type": "code",
   "execution_count": 22,
   "metadata": {},
   "outputs": [
    {
     "ename": "TypeError",
     "evalue": "true_fun and false_fun output must have same type structure, got PyTreeDef((*, (CustomNode(Pose[None], [CustomNode(Diff[('primal', 'tangent'), (), ()], [*, CustomNode(_NoChange[(), (), ()], [])]), CustomNode(Diff[('primal', 'tangent'), (), ()], [*, CustomNode(_NoChange[(), (), ()], [])])]), [CustomNode(Pose[None], [CustomNode(Diff[('primal', 'tangent'), (), ()], [*, CustomNode(_NoChange[(), (), ()], [])]), CustomNode(Diff[('primal', 'tangent'), (), ()], [*, CustomNode(_NoChange[(), (), ()], [])])])]), *, *)) and PyTreeDef((*, (CustomNode(Pose[None], [*, *]), [CustomNode(Pose[None], [*, *])]), *, *)).",
     "output_type": "error",
     "traceback": [
      "\u001b[0;31m---------------------------------------------------------------------------\u001b[0m",
      "\u001b[0;31mTypeError\u001b[0m                                 Traceback (most recent call last)",
      "Cell \u001b[0;32mIn[22], line 19\u001b[0m\n\u001b[1;32m      3\u001b[0m diffed_args \u001b[38;5;241m=\u001b[39m (\n\u001b[1;32m      4\u001b[0m     \u001b[38;5;241m*\u001b[39m( \u001b[38;5;66;03m# all args except the last one (n timesteps) have nochange\u001b[39;00m\n\u001b[1;32m      5\u001b[0m         genjax\u001b[38;5;241m.\u001b[39mDiff(a, genjax\u001b[38;5;241m.\u001b[39mNoChange)\n\u001b[0;32m   (...)\u001b[0m\n\u001b[1;32m      8\u001b[0m     genjax\u001b[38;5;241m.\u001b[39mDiff(t, genjax\u001b[38;5;241m.\u001b[39mUnknownChange)\n\u001b[1;32m      9\u001b[0m )\n\u001b[1;32m     10\u001b[0m constraints \u001b[38;5;241m=\u001b[39m genjax\u001b[38;5;241m.\u001b[39mchoice_map({\n\u001b[1;32m     11\u001b[0m     \u001b[38;5;124m\"\u001b[39m\u001b[38;5;124mobs_steps\u001b[39m\u001b[38;5;124m\"\u001b[39m: genjax\u001b[38;5;241m.\u001b[39mindexed_choice_map(\n\u001b[1;32m     12\u001b[0m         jnp\u001b[38;5;241m.\u001b[39marray([t]),\n\u001b[0;32m   (...)\u001b[0m\n\u001b[1;32m     17\u001b[0m     )\n\u001b[1;32m     18\u001b[0m })\n\u001b[0;32m---> 19\u001b[0m trace \u001b[38;5;241m=\u001b[39m \u001b[43mupdate_jit\u001b[49m\u001b[43m(\u001b[49m\n\u001b[1;32m     20\u001b[0m \u001b[43m    \u001b[49m\u001b[43mkey\u001b[49m\u001b[43m,\u001b[49m\u001b[43m \u001b[49m\u001b[43mtrace_\u001b[49m\u001b[43m,\u001b[49m\n\u001b[1;32m     21\u001b[0m \u001b[43m    \u001b[49m\u001b[43mconstraints\u001b[49m\u001b[43m,\u001b[49m\n\u001b[1;32m     22\u001b[0m \u001b[43m    \u001b[49m\u001b[43mdiffed_args\u001b[49m\n\u001b[1;32m     23\u001b[0m \u001b[43m)\u001b[49m\n",
      "    \u001b[0;31m[... skipping hidden 11 frame]\u001b[0m\n",
      "File \u001b[0;32m/opt/conda/envs/b3d/lib/python3.10/site-packages/plum/function.py:484\u001b[0m, in \u001b[0;36m_BoundFunction.__call__\u001b[0;34m(self, _, *args, **kw_args)\u001b[0m\n\u001b[1;32m    483\u001b[0m \u001b[38;5;28;01mdef\u001b[39;00m \u001b[38;5;21m__call__\u001b[39m(\u001b[38;5;28mself\u001b[39m, _, \u001b[38;5;241m*\u001b[39margs, \u001b[38;5;241m*\u001b[39m\u001b[38;5;241m*\u001b[39mkw_args):\n\u001b[0;32m--> 484\u001b[0m     \u001b[38;5;28;01mreturn\u001b[39;00m \u001b[38;5;28;43mself\u001b[39;49m\u001b[38;5;241;43m.\u001b[39;49m\u001b[43m_f\u001b[49m\u001b[43m(\u001b[49m\u001b[38;5;28;43mself\u001b[39;49m\u001b[38;5;241;43m.\u001b[39;49m\u001b[43m_instance\u001b[49m\u001b[43m,\u001b[49m\u001b[43m \u001b[49m\u001b[38;5;241;43m*\u001b[39;49m\u001b[43margs\u001b[49m\u001b[43m,\u001b[49m\u001b[43m \u001b[49m\u001b[38;5;241;43m*\u001b[39;49m\u001b[38;5;241;43m*\u001b[39;49m\u001b[43mkw_args\u001b[49m\u001b[43m)\u001b[49m\n",
      "    \u001b[0;31m[... skipping hidden 1 frame]\u001b[0m\n",
      "File \u001b[0;32m/opt/conda/envs/b3d/lib/python3.10/site-packages/genjax/_src/generative_functions/static/static_gen_fn.py:200\u001b[0m, in \u001b[0;36mStaticGenerativeFunction.update\u001b[0;34m(self, key, prev, constraints, argdiffs)\u001b[0m\n\u001b[1;32m    183\u001b[0m \u001b[38;5;28;01massert\u001b[39;00m Diff\u001b[38;5;241m.\u001b[39mstatic_check_tree_diff(argdiffs)\n\u001b[1;32m    184\u001b[0m syntax_sugar_handled \u001b[38;5;241m=\u001b[39m push_trace_overload_stack(\n\u001b[1;32m    185\u001b[0m     handler_trace_with_static, \u001b[38;5;28mself\u001b[39m\u001b[38;5;241m.\u001b[39msource\n\u001b[1;32m    186\u001b[0m )\n\u001b[1;32m    187\u001b[0m (\n\u001b[1;32m    188\u001b[0m     (\n\u001b[1;32m    189\u001b[0m         retval_diffs,\n\u001b[1;32m    190\u001b[0m         weight,\n\u001b[1;32m    191\u001b[0m         (\n\u001b[1;32m    192\u001b[0m             arg_primals,\n\u001b[1;32m    193\u001b[0m             retval_primals,\n\u001b[1;32m    194\u001b[0m             address_choices,\n\u001b[1;32m    195\u001b[0m             score,\n\u001b[1;32m    196\u001b[0m         ),\n\u001b[1;32m    197\u001b[0m         discard,\n\u001b[1;32m    198\u001b[0m     ),\n\u001b[1;32m    199\u001b[0m     cache_state,\n\u001b[0;32m--> 200\u001b[0m ) \u001b[38;5;241m=\u001b[39m \u001b[43mupdate_transform\u001b[49m\u001b[43m(\u001b[49m\u001b[43msyntax_sugar_handled\u001b[49m\u001b[43m)\u001b[49m\u001b[43m(\u001b[49m\u001b[43mkey\u001b[49m\u001b[43m,\u001b[49m\u001b[43m \u001b[49m\u001b[43mprev\u001b[49m\u001b[43m,\u001b[49m\u001b[43m \u001b[49m\u001b[43mconstraints\u001b[49m\u001b[43m,\u001b[49m\u001b[43m \u001b[49m\u001b[43margdiffs\u001b[49m\u001b[43m)\u001b[49m\n\u001b[1;32m    201\u001b[0m \u001b[38;5;28;01mreturn\u001b[39;00m (\n\u001b[1;32m    202\u001b[0m     StaticTrace(\n\u001b[1;32m    203\u001b[0m         \u001b[38;5;28mself\u001b[39m,\n\u001b[0;32m   (...)\u001b[0m\n\u001b[1;32m    212\u001b[0m     HierarchicalChoiceMap(discard),\n\u001b[1;32m    213\u001b[0m )\n",
      "File \u001b[0;32m<@beartype(genjax._src.generative_functions.static.static_transforms.update_transform.wrapper) at 0x7fb440745c60>:30\u001b[0m, in \u001b[0;36mwrapper\u001b[0;34m(__beartype_func, __beartype_conf, __beartype_get_violation, *args, **kwargs)\u001b[0m\n",
      "File \u001b[0;32m/opt/conda/envs/b3d/lib/python3.10/site-packages/genjax/_src/generative_functions/static/static_transforms.py:455\u001b[0m, in \u001b[0;36mupdate_transform.<locals>.wrapper\u001b[0;34m(key, previous_trace, constraints, diffs)\u001b[0m\n\u001b[1;32m    453\u001b[0m diff_primals \u001b[38;5;241m=\u001b[39m Diff\u001b[38;5;241m.\u001b[39mtree_primal(diffs)\n\u001b[1;32m    454\u001b[0m diff_tangents \u001b[38;5;241m=\u001b[39m Diff\u001b[38;5;241m.\u001b[39mtree_tangent(diffs)\n\u001b[0;32m--> 455\u001b[0m retval_diffs \u001b[38;5;241m=\u001b[39m \u001b[43mincremental\u001b[49m\u001b[43m(\u001b[49m\u001b[43msource_fn\u001b[49m\u001b[43m)\u001b[49m\u001b[43m(\u001b[49m\n\u001b[1;32m    456\u001b[0m \u001b[43m    \u001b[49m\u001b[43mstateful_handler\u001b[49m\u001b[43m,\u001b[49m\u001b[43m \u001b[49m\u001b[43mdiff_primals\u001b[49m\u001b[43m,\u001b[49m\u001b[43m \u001b[49m\u001b[43mdiff_tangents\u001b[49m\n\u001b[1;32m    457\u001b[0m \u001b[43m\u001b[49m\u001b[43m)\u001b[49m\n\u001b[1;32m    458\u001b[0m retval_primals \u001b[38;5;241m=\u001b[39m Diff\u001b[38;5;241m.\u001b[39mtree_primal(retval_diffs)\n\u001b[1;32m    459\u001b[0m (\n\u001b[1;32m    460\u001b[0m     score,\n\u001b[1;32m    461\u001b[0m     weight,\n\u001b[0;32m   (...)\u001b[0m\n\u001b[1;32m    464\u001b[0m     cache_state,\n\u001b[1;32m    465\u001b[0m ) \u001b[38;5;241m=\u001b[39m stateful_handler\u001b[38;5;241m.\u001b[39myield_state()\n",
      "File \u001b[0;32m<@beartype(genjax._src.core.interpreters.incremental.incremental.wrapped) at 0x7fb445314ca0>:67\u001b[0m, in \u001b[0;36mwrapped\u001b[0;34m(__beartype_func, __beartype_conf, __beartype_get_violation, __beartype_object_94116743421424, *args, **kwargs)\u001b[0m\n",
      "File \u001b[0;32m/opt/conda/envs/b3d/lib/python3.10/site-packages/genjax/_src/core/interpreters/incremental.py:301\u001b[0m, in \u001b[0;36mincremental.<locals>.wrapped\u001b[0;34m(_stateful_handler, primals, tangents)\u001b[0m\n\u001b[1;32m    293\u001b[0m \u001b[38;5;129m@functools\u001b[39m\u001b[38;5;241m.\u001b[39mwraps(f)\n\u001b[1;32m    294\u001b[0m \u001b[38;5;129m@typecheck\u001b[39m\n\u001b[1;32m    295\u001b[0m \u001b[38;5;28;01mdef\u001b[39;00m \u001b[38;5;21mwrapped\u001b[39m(\n\u001b[0;32m   (...)\u001b[0m\n\u001b[1;32m    298\u001b[0m     tangents: Tuple,\n\u001b[1;32m    299\u001b[0m ):\n\u001b[1;32m    300\u001b[0m     interpreter \u001b[38;5;241m=\u001b[39m IncrementalInterpreter(hashable_dict())\n\u001b[0;32m--> 301\u001b[0m     \u001b[38;5;28;01mreturn\u001b[39;00m \u001b[43minterpreter\u001b[49m\u001b[38;5;241;43m.\u001b[39;49m\u001b[43mrun_interpreter\u001b[49m\u001b[43m(\u001b[49m\n\u001b[1;32m    302\u001b[0m \u001b[43m        \u001b[49m\u001b[43m_stateful_handler\u001b[49m\u001b[43m,\u001b[49m\n\u001b[1;32m    303\u001b[0m \u001b[43m        \u001b[49m\u001b[43mf\u001b[49m\u001b[43m,\u001b[49m\n\u001b[1;32m    304\u001b[0m \u001b[43m        \u001b[49m\u001b[43mprimals\u001b[49m\u001b[43m,\u001b[49m\n\u001b[1;32m    305\u001b[0m \u001b[43m        \u001b[49m\u001b[43mtangents\u001b[49m\u001b[43m,\u001b[49m\n\u001b[1;32m    306\u001b[0m \u001b[43m    \u001b[49m\u001b[43m)\u001b[49m\n",
      "    \u001b[0;31m[... skipping hidden 1 frame]\u001b[0m\n",
      "File \u001b[0;32m/opt/conda/envs/b3d/lib/python3.10/site-packages/genjax/_src/core/interpreters/incremental.py:281\u001b[0m, in \u001b[0;36mIncrementalInterpreter.run_interpreter\u001b[0;34m(self, _stateful_handler, fn, primals, tangents, **kwargs)\u001b[0m\n\u001b[1;32m    277\u001b[0m flat_tangents \u001b[38;5;241m=\u001b[39m jtu\u001b[38;5;241m.\u001b[39mtree_leaves(\n\u001b[1;32m    278\u001b[0m     tangents, is_leaf\u001b[38;5;241m=\u001b[39m\u001b[38;5;28;01mlambda\u001b[39;00m v: \u001b[38;5;28misinstance\u001b[39m(v, ChangeTangent)\n\u001b[1;32m    279\u001b[0m )\n\u001b[1;32m    280\u001b[0m _jaxpr, consts \u001b[38;5;241m=\u001b[39m _closed_jaxpr\u001b[38;5;241m.\u001b[39mjaxpr, _closed_jaxpr\u001b[38;5;241m.\u001b[39mliterals\n\u001b[0;32m--> 281\u001b[0m flat_out \u001b[38;5;241m=\u001b[39m \u001b[38;5;28;43mself\u001b[39;49m\u001b[38;5;241;43m.\u001b[39;49m\u001b[43m_eval_jaxpr_forward\u001b[49m\u001b[43m(\u001b[49m\n\u001b[1;32m    282\u001b[0m \u001b[43m    \u001b[49m\u001b[43m_stateful_handler\u001b[49m\u001b[43m,\u001b[49m\n\u001b[1;32m    283\u001b[0m \u001b[43m    \u001b[49m\u001b[43m_jaxpr\u001b[49m\u001b[43m,\u001b[49m\n\u001b[1;32m    284\u001b[0m \u001b[43m    \u001b[49m\u001b[43mconsts\u001b[49m\u001b[43m,\u001b[49m\n\u001b[1;32m    285\u001b[0m \u001b[43m    \u001b[49m\u001b[43mflat_primals\u001b[49m\u001b[43m,\u001b[49m\n\u001b[1;32m    286\u001b[0m \u001b[43m    \u001b[49m\u001b[43mflat_tangents\u001b[49m\u001b[43m,\u001b[49m\n\u001b[1;32m    287\u001b[0m \u001b[43m\u001b[49m\u001b[43m)\u001b[49m\n\u001b[1;32m    288\u001b[0m \u001b[38;5;28;01mreturn\u001b[39;00m jtu\u001b[38;5;241m.\u001b[39mtree_unflatten(out_tree(), flat_out)\n",
      "    \u001b[0;31m[... skipping hidden 1 frame]\u001b[0m\n",
      "File \u001b[0;32m/opt/conda/envs/b3d/lib/python3.10/site-packages/genjax/_src/core/interpreters/incremental.py:263\u001b[0m, in \u001b[0;36mIncrementalInterpreter._eval_jaxpr_forward\u001b[0;34m(self, _stateful_handler, _jaxpr, consts, primals, tangents)\u001b[0m\n\u001b[1;32m    261\u001b[0m args \u001b[38;5;241m=\u001b[39m subfuns \u001b[38;5;241m+\u001b[39m induals\n\u001b[1;32m    262\u001b[0m \u001b[38;5;28;01mif\u001b[39;00m _stateful_handler\u001b[38;5;241m.\u001b[39mhandles(_eqn\u001b[38;5;241m.\u001b[39mprimitive):\n\u001b[0;32m--> 263\u001b[0m     outduals \u001b[38;5;241m=\u001b[39m \u001b[43m_stateful_handler\u001b[49m\u001b[38;5;241;43m.\u001b[39;49m\u001b[43mdispatch\u001b[49m\u001b[43m(\u001b[49m\u001b[43m_eqn\u001b[49m\u001b[38;5;241;43m.\u001b[39;49m\u001b[43mprimitive\u001b[49m\u001b[43m,\u001b[49m\u001b[43m \u001b[49m\u001b[38;5;241;43m*\u001b[39;49m\u001b[43margs\u001b[49m\u001b[43m,\u001b[49m\u001b[43m \u001b[49m\u001b[38;5;241;43m*\u001b[39;49m\u001b[38;5;241;43m*\u001b[39;49m\u001b[43m_params\u001b[49m\u001b[43m)\u001b[49m\n\u001b[1;32m    264\u001b[0m \u001b[38;5;28;01melse\u001b[39;00m:\n\u001b[1;32m    265\u001b[0m     outduals \u001b[38;5;241m=\u001b[39m default_propagation_rule(_eqn\u001b[38;5;241m.\u001b[39mprimitive, \u001b[38;5;241m*\u001b[39margs, \u001b[38;5;241m*\u001b[39m\u001b[38;5;241m*\u001b[39m_params)\n",
      "File \u001b[0;32m/opt/conda/envs/b3d/lib/python3.10/site-packages/genjax/_src/generative_functions/static/static_transforms.py:234\u001b[0m, in \u001b[0;36mStaticLanguageHandler.dispatch\u001b[0;34m(self, prim, *tracers, **_params)\u001b[0m\n\u001b[1;32m    232\u001b[0m \u001b[38;5;28;01mdef\u001b[39;00m \u001b[38;5;21mdispatch\u001b[39m(\u001b[38;5;28mself\u001b[39m, prim, \u001b[38;5;241m*\u001b[39mtracers, \u001b[38;5;241m*\u001b[39m\u001b[38;5;241m*\u001b[39m_params):\n\u001b[1;32m    233\u001b[0m     \u001b[38;5;28;01mif\u001b[39;00m prim \u001b[38;5;241m==\u001b[39m trace_p:\n\u001b[0;32m--> 234\u001b[0m         \u001b[38;5;28;01mreturn\u001b[39;00m \u001b[38;5;28;43mself\u001b[39;49m\u001b[38;5;241;43m.\u001b[39;49m\u001b[43mhandle_trace\u001b[49m\u001b[43m(\u001b[49m\u001b[38;5;241;43m*\u001b[39;49m\u001b[43mtracers\u001b[49m\u001b[43m,\u001b[49m\u001b[43m \u001b[49m\u001b[38;5;241;43m*\u001b[39;49m\u001b[38;5;241;43m*\u001b[39;49m\u001b[43m_params\u001b[49m\u001b[43m)\u001b[49m\n\u001b[1;32m    235\u001b[0m     \u001b[38;5;28;01melif\u001b[39;00m prim \u001b[38;5;241m==\u001b[39m cache_p:\n\u001b[1;32m    236\u001b[0m         \u001b[38;5;28;01mreturn\u001b[39;00m \u001b[38;5;28mself\u001b[39m\u001b[38;5;241m.\u001b[39mhandle_cache(\u001b[38;5;241m*\u001b[39mtracers, \u001b[38;5;241m*\u001b[39m\u001b[38;5;241m*\u001b[39m_params)\n",
      "File \u001b[0;32m/opt/conda/envs/b3d/lib/python3.10/site-packages/genjax/_src/generative_functions/static/static_transforms.py:414\u001b[0m, in \u001b[0;36mUpdateHandler.handle_trace\u001b[0;34m(self, *tracers, **_params)\u001b[0m\n\u001b[1;32m    412\u001b[0m argdiffs \u001b[38;5;241m=\u001b[39m \u001b[38;5;28mtuple\u001b[39m(argdiffs)\n\u001b[1;32m    413\u001b[0m \u001b[38;5;28mself\u001b[39m\u001b[38;5;241m.\u001b[39mkey, sub_key \u001b[38;5;241m=\u001b[39m jax\u001b[38;5;241m.\u001b[39mrandom\u001b[38;5;241m.\u001b[39msplit(\u001b[38;5;28mself\u001b[39m\u001b[38;5;241m.\u001b[39mkey)\n\u001b[0;32m--> 414\u001b[0m (tr, w, retval_diff, discard) \u001b[38;5;241m=\u001b[39m \u001b[43mgen_fn\u001b[49m\u001b[38;5;241;43m.\u001b[39;49m\u001b[43mupdate\u001b[49m\u001b[43m(\u001b[49m\n\u001b[1;32m    415\u001b[0m \u001b[43m    \u001b[49m\u001b[43msub_key\u001b[49m\u001b[43m,\u001b[49m\u001b[43m \u001b[49m\u001b[43msubtrace\u001b[49m\u001b[43m,\u001b[49m\u001b[43m \u001b[49m\u001b[43msubconstraints\u001b[49m\u001b[43m,\u001b[49m\u001b[43m \u001b[49m\u001b[43margdiffs\u001b[49m\n\u001b[1;32m    416\u001b[0m \u001b[43m\u001b[49m\u001b[43m)\u001b[49m\n\u001b[1;32m    417\u001b[0m \u001b[38;5;28mself\u001b[39m\u001b[38;5;241m.\u001b[39mscore \u001b[38;5;241m+\u001b[39m\u001b[38;5;241m=\u001b[39m tr\u001b[38;5;241m.\u001b[39mget_score()\n\u001b[1;32m    418\u001b[0m \u001b[38;5;28mself\u001b[39m\u001b[38;5;241m.\u001b[39mweight \u001b[38;5;241m+\u001b[39m\u001b[38;5;241m=\u001b[39m w\n",
      "    \u001b[0;31m[... skipping hidden 1 frame]\u001b[0m\n",
      "File \u001b[0;32m<@beartype(genjax._src.generative_functions.combinators.vector.unfold_combinator.UnfoldCombinator.update) at 0x7fb432887130>:91\u001b[0m, in \u001b[0;36mupdate\u001b[0;34m(__beartype_func, __beartype_conf, __beartype_get_violation, __beartype_object_140412286760128, __beartype_object_94116753240560, __beartype_object_94116752831440, __beartype_object_94116743406976, *args, **kwargs)\u001b[0m\n",
      "File \u001b[0;32m/opt/conda/envs/b3d/lib/python3.10/site-packages/genjax/_src/generative_functions/combinators/vector/unfold_combinator.py:683\u001b[0m, in \u001b[0;36mUnfoldCombinator.update\u001b[0;34m(self, key, prev, choice, argdiffs)\u001b[0m\n\u001b[1;32m    681\u001b[0m     state \u001b[38;5;241m=\u001b[39m Diff\u001b[38;5;241m.\u001b[39mtree_primal(state)\n\u001b[1;32m    682\u001b[0m     static_args \u001b[38;5;241m=\u001b[39m Diff\u001b[38;5;241m.\u001b[39mtree_primal(static_args)\n\u001b[0;32m--> 683\u001b[0m     \u001b[38;5;28;01mreturn\u001b[39;00m \u001b[38;5;28;43mself\u001b[39;49m\u001b[38;5;241;43m.\u001b[39;49m\u001b[43m_update_specialized\u001b[49m\u001b[43m(\u001b[49m\n\u001b[1;32m    684\u001b[0m \u001b[43m        \u001b[49m\u001b[43mkey\u001b[49m\u001b[43m,\u001b[49m\n\u001b[1;32m    685\u001b[0m \u001b[43m        \u001b[49m\u001b[43mprev\u001b[49m\u001b[43m,\u001b[49m\n\u001b[1;32m    686\u001b[0m \u001b[43m        \u001b[49m\u001b[43mchoice\u001b[49m\u001b[43m,\u001b[49m\n\u001b[1;32m    687\u001b[0m \u001b[43m        \u001b[49m\u001b[43mlength\u001b[49m\u001b[43m,\u001b[49m\n\u001b[1;32m    688\u001b[0m \u001b[43m        \u001b[49m\u001b[43mstate\u001b[49m\u001b[43m,\u001b[49m\n\u001b[1;32m    689\u001b[0m \u001b[43m        \u001b[49m\u001b[38;5;241;43m*\u001b[39;49m\u001b[43mstatic_args\u001b[49m\u001b[43m,\u001b[49m\n\u001b[1;32m    690\u001b[0m \u001b[43m    \u001b[49m\u001b[43m)\u001b[49m\n\u001b[1;32m    691\u001b[0m \u001b[38;5;28;01melse\u001b[39;00m:\n\u001b[1;32m    692\u001b[0m     \u001b[38;5;28;01mreturn\u001b[39;00m \u001b[38;5;28mself\u001b[39m\u001b[38;5;241m.\u001b[39m_update_fallback(\n\u001b[1;32m    693\u001b[0m         key,\n\u001b[1;32m    694\u001b[0m         prev,\n\u001b[0;32m   (...)\u001b[0m\n\u001b[1;32m    698\u001b[0m         \u001b[38;5;241m*\u001b[39mstatic_args,\n\u001b[1;32m    699\u001b[0m     )\n",
      "File \u001b[0;32m/opt/conda/envs/b3d/lib/python3.10/site-packages/plum/function.py:484\u001b[0m, in \u001b[0;36m_BoundFunction.__call__\u001b[0;34m(self, _, *args, **kw_args)\u001b[0m\n\u001b[1;32m    483\u001b[0m \u001b[38;5;28;01mdef\u001b[39;00m \u001b[38;5;21m__call__\u001b[39m(\u001b[38;5;28mself\u001b[39m, _, \u001b[38;5;241m*\u001b[39margs, \u001b[38;5;241m*\u001b[39m\u001b[38;5;241m*\u001b[39mkw_args):\n\u001b[0;32m--> 484\u001b[0m     \u001b[38;5;28;01mreturn\u001b[39;00m \u001b[38;5;28;43mself\u001b[39;49m\u001b[38;5;241;43m.\u001b[39;49m\u001b[43m_f\u001b[49m\u001b[43m(\u001b[49m\u001b[38;5;28;43mself\u001b[39;49m\u001b[38;5;241;43m.\u001b[39;49m\u001b[43m_instance\u001b[49m\u001b[43m,\u001b[49m\u001b[43m \u001b[49m\u001b[38;5;241;43m*\u001b[39;49m\u001b[43margs\u001b[49m\u001b[43m,\u001b[49m\u001b[43m \u001b[49m\u001b[38;5;241;43m*\u001b[39;49m\u001b[38;5;241;43m*\u001b[39;49m\u001b[43mkw_args\u001b[49m\u001b[43m)\u001b[49m\n",
      "    \u001b[0;31m[... skipping hidden 1 frame]\u001b[0m\n",
      "File \u001b[0;32m/opt/conda/envs/b3d/lib/python3.10/site-packages/genjax/_src/generative_functions/combinators/vector/unfold_combinator.py:497\u001b[0m, in \u001b[0;36mUnfoldCombinator._update_specialized\u001b[0;34m(self, key, prev, choice, length, state, *static_args)\u001b[0m\n\u001b[1;32m    494\u001b[0m     \u001b[38;5;28;01mreturn\u001b[39;00m (count, key, state), (state, score, weight, tr, discard)\n\u001b[1;32m    496\u001b[0m prev_inner_trace \u001b[38;5;241m=\u001b[39m prev\u001b[38;5;241m.\u001b[39minner\n\u001b[0;32m--> 497\u001b[0m (_, _, state), (retval_diff, score, w, tr, discard) \u001b[38;5;241m=\u001b[39m \u001b[43mjax\u001b[49m\u001b[38;5;241;43m.\u001b[39;49m\u001b[43mlax\u001b[49m\u001b[38;5;241;43m.\u001b[39;49m\u001b[43mscan\u001b[49m\u001b[43m(\u001b[49m\n\u001b[1;32m    498\u001b[0m \u001b[43m    \u001b[49m\u001b[43m_inner\u001b[49m\u001b[43m,\u001b[49m\n\u001b[1;32m    499\u001b[0m \u001b[43m    \u001b[49m\u001b[43m(\u001b[49m\u001b[38;5;241;43m0\u001b[39;49m\u001b[43m,\u001b[49m\u001b[43m \u001b[49m\u001b[43mkey\u001b[49m\u001b[43m,\u001b[49m\u001b[43m \u001b[49m\u001b[43mstate\u001b[49m\u001b[43m)\u001b[49m\u001b[43m,\u001b[49m\n\u001b[1;32m    500\u001b[0m \u001b[43m    \u001b[49m\u001b[43m(\u001b[49m\u001b[43mprev_inner_trace\u001b[49m\u001b[43m,\u001b[49m\u001b[43m)\u001b[49m\u001b[43m,\u001b[49m\n\u001b[1;32m    501\u001b[0m \u001b[43m    \u001b[49m\u001b[43mlength\u001b[49m\u001b[38;5;241;43m=\u001b[39;49m\u001b[38;5;28;43mself\u001b[39;49m\u001b[38;5;241;43m.\u001b[39;49m\u001b[43mmax_length\u001b[49m\u001b[43m,\u001b[49m\n\u001b[1;32m    502\u001b[0m \u001b[43m\u001b[49m\u001b[43m)\u001b[49m\n\u001b[1;32m    504\u001b[0m unfold_tr \u001b[38;5;241m=\u001b[39m UnfoldTrace(\n\u001b[1;32m    505\u001b[0m     \u001b[38;5;28mself\u001b[39m,\n\u001b[1;32m    506\u001b[0m     tr,\n\u001b[0;32m   (...)\u001b[0m\n\u001b[1;32m    510\u001b[0m     jnp\u001b[38;5;241m.\u001b[39msum(score),\n\u001b[1;32m    511\u001b[0m )\n\u001b[1;32m    513\u001b[0m w \u001b[38;5;241m=\u001b[39m jnp\u001b[38;5;241m.\u001b[39msum(w)\n",
      "    \u001b[0;31m[... skipping hidden 9 frame]\u001b[0m\n",
      "File \u001b[0;32m/opt/conda/envs/b3d/lib/python3.10/site-packages/genjax/_src/generative_functions/combinators/vector/unfold_combinator.py:489\u001b[0m, in \u001b[0;36mUnfoldCombinator._update_specialized.<locals>._inner\u001b[0;34m(carry, slice)\u001b[0m\n\u001b[1;32m    481\u001b[0m (tr, w, retval_diff, discard) \u001b[38;5;241m=\u001b[39m \u001b[38;5;28mself\u001b[39m\u001b[38;5;241m.\u001b[39mkernel\u001b[38;5;241m.\u001b[39mupdate(\n\u001b[1;32m    482\u001b[0m     sub_key,\n\u001b[1;32m    483\u001b[0m     prev,\n\u001b[1;32m    484\u001b[0m     choice,\n\u001b[1;32m    485\u001b[0m     Diff\u001b[38;5;241m.\u001b[39mtree_diff_no_change((state, \u001b[38;5;241m*\u001b[39mstatic_args)),\n\u001b[1;32m    486\u001b[0m )\n\u001b[1;32m    488\u001b[0m check \u001b[38;5;241m=\u001b[39m jnp\u001b[38;5;241m.\u001b[39mless(count, length \u001b[38;5;241m+\u001b[39m \u001b[38;5;241m1\u001b[39m)\n\u001b[0;32m--> 489\u001b[0m count, state, score, weight \u001b[38;5;241m=\u001b[39m \u001b[43mjax\u001b[49m\u001b[38;5;241;43m.\u001b[39;49m\u001b[43mlax\u001b[49m\u001b[38;5;241;43m.\u001b[39;49m\u001b[43mcond\u001b[49m\u001b[43m(\u001b[49m\n\u001b[1;32m    490\u001b[0m \u001b[43m    \u001b[49m\u001b[43mcheck\u001b[49m\u001b[43m,\u001b[49m\n\u001b[1;32m    491\u001b[0m \u001b[43m    \u001b[49m\u001b[38;5;28;43;01mlambda\u001b[39;49;00m\u001b[43m \u001b[49m\u001b[38;5;241;43m*\u001b[39;49m\u001b[43margs\u001b[49m\u001b[43m:\u001b[49m\u001b[43m \u001b[49m\u001b[43m(\u001b[49m\u001b[43mcount\u001b[49m\u001b[43m \u001b[49m\u001b[38;5;241;43m+\u001b[39;49m\u001b[43m \u001b[49m\u001b[38;5;241;43m1\u001b[39;49m\u001b[43m,\u001b[49m\u001b[43m \u001b[49m\u001b[43mretval_diff\u001b[49m\u001b[43m,\u001b[49m\u001b[43m \u001b[49m\u001b[43mtr\u001b[49m\u001b[38;5;241;43m.\u001b[39;49m\u001b[43mget_score\u001b[49m\u001b[43m(\u001b[49m\u001b[43m)\u001b[49m\u001b[43m,\u001b[49m\u001b[43m \u001b[49m\u001b[43mw\u001b[49m\u001b[43m)\u001b[49m\u001b[43m,\u001b[49m\n\u001b[1;32m    492\u001b[0m \u001b[43m    \u001b[49m\u001b[38;5;28;43;01mlambda\u001b[39;49;00m\u001b[43m \u001b[49m\u001b[38;5;241;43m*\u001b[39;49m\u001b[43margs\u001b[49m\u001b[43m:\u001b[49m\u001b[43m \u001b[49m\u001b[43m(\u001b[49m\u001b[43mcount\u001b[49m\u001b[43m,\u001b[49m\u001b[43m \u001b[49m\u001b[43mstate\u001b[49m\u001b[43m,\u001b[49m\u001b[43m \u001b[49m\u001b[38;5;241;43m0.0\u001b[39;49m\u001b[43m,\u001b[49m\u001b[43m \u001b[49m\u001b[38;5;241;43m0.0\u001b[39;49m\u001b[43m)\u001b[49m\u001b[43m,\u001b[49m\n\u001b[1;32m    493\u001b[0m \u001b[43m\u001b[49m\u001b[43m)\u001b[49m\n\u001b[1;32m    494\u001b[0m \u001b[38;5;28;01mreturn\u001b[39;00m (count, key, state), (state, score, weight, tr, discard)\n",
      "    \u001b[0;31m[... skipping hidden 3 frame]\u001b[0m\n",
      "File \u001b[0;32m/opt/conda/envs/b3d/lib/python3.10/site-packages/jax/_src/lax/control_flow/common.py:210\u001b[0m, in \u001b[0;36m_check_tree_and_avals\u001b[0;34m(what, tree1, avals1, tree2, avals2)\u001b[0m\n\u001b[1;32m    203\u001b[0m \u001b[38;5;250m\u001b[39m\u001b[38;5;124;03m\"\"\"Raises TypeError if (tree1, avals1) does not match (tree2, avals2).\u001b[39;00m\n\u001b[1;32m    204\u001b[0m \n\u001b[1;32m    205\u001b[0m \u001b[38;5;124;03mCorresponding `tree` and `avals` must match in the sense that the number of\u001b[39;00m\n\u001b[1;32m    206\u001b[0m \u001b[38;5;124;03mleaves in `tree` must be equal to the length of `avals`. `what` will be\u001b[39;00m\n\u001b[1;32m    207\u001b[0m \u001b[38;5;124;03mprepended to details of the mismatch in TypeError.\u001b[39;00m\n\u001b[1;32m    208\u001b[0m \u001b[38;5;124;03m\"\"\"\u001b[39;00m\n\u001b[1;32m    209\u001b[0m \u001b[38;5;28;01mif\u001b[39;00m tree1 \u001b[38;5;241m!=\u001b[39m tree2:\n\u001b[0;32m--> 210\u001b[0m   \u001b[38;5;28;01mraise\u001b[39;00m \u001b[38;5;167;01mTypeError\u001b[39;00m(\n\u001b[1;32m    211\u001b[0m       \u001b[38;5;124mf\u001b[39m\u001b[38;5;124m\"\u001b[39m\u001b[38;5;132;01m{\u001b[39;00mwhat\u001b[38;5;132;01m}\u001b[39;00m\u001b[38;5;124m must have same type structure, got \u001b[39m\u001b[38;5;132;01m{\u001b[39;00mtree1\u001b[38;5;132;01m}\u001b[39;00m\u001b[38;5;124m and \u001b[39m\u001b[38;5;132;01m{\u001b[39;00mtree2\u001b[38;5;132;01m}\u001b[39;00m\u001b[38;5;124m.\u001b[39m\u001b[38;5;124m\"\u001b[39m)\n\u001b[1;32m    212\u001b[0m \u001b[38;5;28;01mif\u001b[39;00m \u001b[38;5;129;01mnot\u001b[39;00m \u001b[38;5;28mall\u001b[39m(\u001b[38;5;28mmap\u001b[39m(core\u001b[38;5;241m.\u001b[39mtypematch, avals1, avals2)):\n\u001b[1;32m    213\u001b[0m   diff \u001b[38;5;241m=\u001b[39m tree_map(_show_diff, tree_unflatten(tree1, avals1),\n\u001b[1;32m    214\u001b[0m                   tree_unflatten(tree2, avals2))\n",
      "\u001b[0;31mTypeError\u001b[0m: true_fun and false_fun output must have same type structure, got PyTreeDef((*, (CustomNode(Pose[None], [CustomNode(Diff[('primal', 'tangent'), (), ()], [*, CustomNode(_NoChange[(), (), ()], [])]), CustomNode(Diff[('primal', 'tangent'), (), ()], [*, CustomNode(_NoChange[(), (), ()], [])])]), [CustomNode(Pose[None], [CustomNode(Diff[('primal', 'tangent'), (), ()], [*, CustomNode(_NoChange[(), (), ()], [])]), CustomNode(Diff[('primal', 'tangent'), (), ()], [*, CustomNode(_NoChange[(), (), ()], [])])])]), *, *)) and PyTreeDef((*, (CustomNode(Pose[None], [*, *]), [CustomNode(Pose[None], [*, *])]), *, *))."
     ]
    }
   ],
   "source": [
    "# for t in tqdm(range(10)):\n",
    "t = 1\n",
    "diffed_args = (\n",
    "    *( # all args except the last one (n timesteps) have nochange\n",
    "        genjax.Diff(a, genjax.NoChange)\n",
    "        for a in full_model_args[:-1]\n",
    "    ),\n",
    "    genjax.Diff(t, genjax.UnknownChange)\n",
    ")\n",
    "constraints = genjax.choice_map({\n",
    "    \"obs_steps\": genjax.indexed_choice_map(\n",
    "        jnp.array([t]),\n",
    "        genjax.choice_map({\n",
    "            \"observed_rgb\": jnp.array([rgbs_resized[t]]),\n",
    "            \"observed_depth\": jnp.array([xyzs[t,...,2]])\n",
    "        })\n",
    "    )\n",
    "})\n",
    "trace = update_jit(\n",
    "    key, trace_,\n",
    "    constraints,\n",
    "    diffed_args\n",
    ")"
   ]
  },
  {
   "cell_type": "code",
   "execution_count": null,
   "metadata": {},
   "outputs": [],
   "source": []
  },
  {
   "cell_type": "code",
   "execution_count": null,
   "metadata": {},
   "outputs": [],
   "source": []
  },
  {
   "cell_type": "code",
   "execution_count": null,
   "metadata": {},
   "outputs": [],
   "source": []
  },
  {
   "cell_type": "code",
   "execution_count": null,
   "metadata": {},
   "outputs": [],
   "source": []
  },
  {
   "cell_type": "code",
   "execution_count": null,
   "metadata": {},
   "outputs": [
    {
     "ename": "NameError",
     "evalue": "name 'observed_rgb' is not defined",
     "output_type": "error",
     "traceback": [
      "\u001b[0;31m---------------------------------------------------------------------------\u001b[0m",
      "\u001b[0;31mNameError\u001b[0m                                 Traceback (most recent call last)",
      "Cell \u001b[0;32mIn[16], line 1\u001b[0m\n\u001b[0;32m----> 1\u001b[0m rr\u001b[38;5;241m.\u001b[39mlog(\u001b[38;5;124m\"\u001b[39m\u001b[38;5;124m/rgb\u001b[39m\u001b[38;5;124m\"\u001b[39m, rr\u001b[38;5;241m.\u001b[39mImage(\u001b[43mobserved_rgb\u001b[49m))\n\u001b[1;32m      2\u001b[0m rr\u001b[38;5;241m.\u001b[39mlog(\u001b[38;5;124m\"\u001b[39m\u001b[38;5;124m/depth\u001b[39m\u001b[38;5;124m\"\u001b[39m, rr\u001b[38;5;241m.\u001b[39mDepthImage(observed_depth))\n\u001b[1;32m      3\u001b[0m rr\u001b[38;5;241m.\u001b[39mlog(\u001b[38;5;124m\"\u001b[39m\u001b[38;5;124m/rgb/rendered\u001b[39m\u001b[38;5;124m\"\u001b[39m, rr\u001b[38;5;241m.\u001b[39mImage(rendered_rgb))\n",
      "\u001b[0;31mNameError\u001b[0m: name 'observed_rgb' is not defined"
     ]
    }
   ],
   "source": [
    "rr.log(\"/rgb\", rr.Image(observed_rgb))\n",
    "rr.log(\"/depth\", rr.DepthImage(observed_depth))\n",
    "rr.log(\"/rgb/rendered\", rr.Image(rendered_rgb))\n",
    "rr.log(\"/depth/rendered\", rr.DepthImage(rendered_depth))"
   ]
  },
  {
   "cell_type": "code",
   "execution_count": null,
   "metadata": {},
   "outputs": [],
   "source": [
    "start, length = object_library.ranges[0]"
   ]
  },
  {
   "cell_type": "code",
   "execution_count": null,
   "metadata": {},
   "outputs": [
    {
     "data": {
      "text/plain": [
       "(147456, 3)"
      ]
     },
     "execution_count": 193,
     "metadata": {},
     "output_type": "execute_result"
    }
   ],
   "source": [
    "object_library.faces[start:start+length].shape"
   ]
  },
  {
   "cell_type": "code",
   "execution_count": null,
   "metadata": {},
   "outputs": [],
   "source": [
    "vp, f, vc = object_library.get_object(0)\n",
    "rr.log(\n",
    "    f\"/foo\",\n",
    "    rr.Mesh3D(\n",
    "        vertex_positions=vp,\n",
    "        indices=f,\n",
    "        vertex_colors=vc\n",
    "    ),\n",
    "    timeless=True\n",
    ")"
   ]
  },
  {
   "cell_type": "markdown",
   "metadata": {},
   "source": [
    "# Below here is scratch work"
   ]
  },
  {
   "cell_type": "code",
   "execution_count": null,
   "metadata": {},
   "outputs": [],
   "source": [
    "(voxel_present, depth, colors, resolutions, point_centers) = trace.get_retval()\n",
    "depth_flat = depth.reshape(-1)\n",
    "colors_flat = colors.reshape(-1, 3)"
   ]
  },
  {
   "cell_type": "code",
   "execution_count": null,
   "metadata": {},
   "outputs": [
    {
     "data": {
      "text/plain": [
       "(3072,)"
      ]
     },
     "execution_count": 59,
     "metadata": {},
     "output_type": "execute_result"
    }
   ],
   "source": [
    "resolutions.shape"
   ]
  },
  {
   "cell_type": "code",
   "execution_count": null,
   "metadata": {},
   "outputs": [
    {
     "data": {
      "text/plain": [
       "(48, 64)"
      ]
     },
     "execution_count": 61,
     "metadata": {},
     "output_type": "execute_result"
    }
   ],
   "source": [
    "voxel_present.shape"
   ]
  },
  {
   "cell_type": "code",
   "execution_count": null,
   "metadata": {},
   "outputs": [],
   "source": [
    "vertices, faces, vertex_colors, face_colors = b3d.utils.make_mesh_from_point_cloud_and_resolution_2(\n",
    "    point_centers,\n",
    "    colors_flat,\n",
    "    resolutions,\n",
    "    voxel_present.reshape(-1)\n",
    ")"
   ]
  },
  {
   "cell_type": "code",
   "execution_count": null,
   "metadata": {},
   "outputs": [],
   "source": [
    "voxel_present, depth, colors = trace.get_retval()"
   ]
  },
  {
   "cell_type": "code",
   "execution_count": null,
   "metadata": {},
   "outputs": [
    {
     "data": {
      "text/plain": [
       "Array([[ 8.2909977e-03,  7.7206809e-03,  5.9520635e-03, ...,\n",
       "         4.7618030e-03,  9.8284325e-03, -1.0000000e+00],\n",
       "       [ 1.9602785e-03,  1.8960666e-03, -1.0000000e+00, ...,\n",
       "         3.5102842e-03,  1.7511351e-03,  6.8051419e-03],\n",
       "       [ 3.4411047e-03, -1.0000000e+00,  8.8439239e-03, ...,\n",
       "         4.7888327e-03,  2.6385877e-03, -1.0000000e+00],\n",
       "       ...,\n",
       "       [-1.0000000e+00,  4.2594587e-03,  3.0224035e-03, ...,\n",
       "         2.0125713e-03,  7.3168082e-03,  7.4895606e-03],\n",
       "       [ 8.3255786e-03,  7.2128675e-03,  2.3591798e-04, ...,\n",
       "         6.9076382e-04,  4.4467375e-03,  8.7554250e-03],\n",
       "       [ 2.0493641e-03, -1.0000000e+00,  3.4507955e-03, ...,\n",
       "        -1.0000000e+00,  2.1509863e-03,  5.5744122e-03]], dtype=float32)"
      ]
     },
     "execution_count": 28,
     "metadata": {},
     "output_type": "execute_result"
    }
   ],
   "source": [
    "f = lambda m : m.match(lambda: -1.0, lambda x : x)\n",
    "jax.vmap(jax.vmap(f, in_axes=(0,)), in_axes=(0,))(depth)"
   ]
  },
  {
   "cell_type": "code",
   "execution_count": null,
   "metadata": {},
   "outputs": [
    {
     "data": {
      "text/plain": [
       "BoundMethod(\n",
       "  __func__=<wrapped function match>,\n",
       "  __self__=Mask(flag=i32[48,64], value=f32[48,64])\n",
       ")"
      ]
     },
     "execution_count": 24,
     "metadata": {},
     "output_type": "execute_result"
    }
   ],
   "source": [
    "genjax.Mask.match"
   ]
  },
  {
   "cell_type": "code",
   "execution_count": null,
   "metadata": {},
   "outputs": [],
   "source": [
    "vertices, faces, vertex_colors, face_colors = trace.get_retval()"
   ]
  }
 ],
 "metadata": {
  "kernelspec": {
   "display_name": "b3d",
   "language": "python",
   "name": "python3"
  },
  "language_info": {
   "codemirror_mode": {
    "name": "ipython",
    "version": 3
   },
   "file_extension": ".py",
   "mimetype": "text/x-python",
   "name": "python",
   "nbconvert_exporter": "python",
   "pygments_lexer": "ipython3",
   "version": "3.10.14"
  }
 },
 "nbformat": 4,
 "nbformat_minor": 2
}
