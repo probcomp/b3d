{
 "cells": [
  {
   "cell_type": "code",
   "execution_count": 1,
   "metadata": {},
   "outputs": [],
   "source": [
    "import torch\n",
    "import b3d\n",
    "import os\n",
    "import numpy as np\n",
    "import time\n",
    "import jax.numpy as jnp\n",
    "import jax\n",
    "import trimesh"
   ]
  },
  {
   "cell_type": "code",
   "execution_count": 2,
   "metadata": {},
   "outputs": [],
   "source": [
    "width=64\n",
    "height=64\n",
    "fx=32.0\n",
    "fy=32.0\n",
    "cx=32.0\n",
    "cy=32.0\n",
    "near=0.001\n",
    "far=16.0\n",
    "renderer = b3d.Renderer(\n",
    "    width, height, fx, fy, cx, cy, near, far\n",
    ")"
   ]
  },
  {
   "cell_type": "code",
   "execution_count": 3,
   "metadata": {},
   "outputs": [],
   "source": [
    "def rotation_from_axis_angle(axis, angle):\n",
    "    \"\"\"Creates a rotation matrix from an axis and angle.\n",
    "\n",
    "    Args:\n",
    "        axis (jnp.ndarray): The axis vector. Shape (3,)\n",
    "        angle (float): The angle in radians.\n",
    "    Returns:\n",
    "        jnp.ndarray: The rotation matrix. Shape (3, 3)\n",
    "    \"\"\"\n",
    "    sina = jnp.sin(angle)\n",
    "    cosa = jnp.cos(angle)\n",
    "    direction = axis / jnp.linalg.norm(axis)\n",
    "    # rotation matrix around unit vector\n",
    "    R = jnp.diag(jnp.array([cosa, cosa, cosa]))\n",
    "    R = R + jnp.outer(direction, direction) * (1.0 - cosa)\n",
    "    direction = direction * sina\n",
    "    R = R + jnp.array(\n",
    "        [\n",
    "            [0.0, -direction[2], direction[1]],\n",
    "            [direction[2], 0.0, -direction[0]],\n",
    "            [-direction[1], direction[0], 0.0],\n",
    "        ]\n",
    "    )\n",
    "    return R\n",
    "\n",
    "def transform_from_rot(rotation):\n",
    "    \"\"\"Creates a pose matrix from a rotation matrix.\n",
    "\n",
    "    Args:\n",
    "        rotation (jnp.ndarray): The rotation matrix. Shape (3, 3)\n",
    "    Returns:\n",
    "        jnp.ndarray: The pose matrix. Shape (4, 4)\n",
    "    \"\"\"\n",
    "    return jnp.vstack(\n",
    "        [jnp.hstack([rotation, jnp.zeros((3, 1))]), jnp.array([0.0, 0.0, 0.0, 1.0])]\n",
    "    )\n",
    "\n",
    "def transform_from_axis_angle(axis, angle):\n",
    "    \"\"\"Creates a pose matrix from an axis and angle.\n",
    "\n",
    "    Args:\n",
    "        axis (jnp.ndarray): The axis vector. Shape (3,)\n",
    "        angle (float): The angle in radians.\n",
    "    Returns:\n",
    "        jnp.ndarray: The pose matrix. Shape (4, 4)\n",
    "    \"\"\"\n",
    "    return transform_from_rot(rotation_from_axis_angle(axis, angle))\n",
    "\n"
   ]
  },
  {
   "cell_type": "code",
   "execution_count": 4,
   "metadata": {},
   "outputs": [],
   "source": [
    "r_mat = transform_from_axis_angle(jnp.array([0,0,1]), jnp.pi/2)\n",
    "\n",
    "vec_transform_axis_angle = jax.vmap(transform_from_axis_angle, (None, 0))\n",
    "rots = vec_transform_axis_angle(jnp.array([0,0,1]), jnp.linspace(jnp.pi/4, 17*jnp.pi/4, 64))"
   ]
  },
  {
   "cell_type": "code",
   "execution_count": 5,
   "metadata": {},
   "outputs": [],
   "source": [
    "mesh_path = os.path.join(b3d.get_root_path(),\n",
    "    \"assets/shared_data_bucket/ycb_video_models/models/003_cracker_box/textured_simple.obj\")\n",
    "mesh = trimesh.load(mesh_path)\n",
    "\n",
    "object_library = b3d.MeshLibrary.make_empty_library()\n",
    "object_library.add_trimesh(mesh)\n",
    "\n",
    "cam_inv_pose = b3d.Pose.from_position_and_target(\n",
    "    jnp.array([0.15, 0.15, 0.0]),\n",
    "    jnp.array([0.0, 0.0, 0.0])\n",
    ").inv()\n",
    "\n",
    "\n",
    "in_place_rots = b3d.Pose.from_matrix(rots)\n",
    "\n",
    "\n",
    "compound_pose = cam_inv_pose @ in_place_rots #in_place_rot\n"
   ]
  },
  {
   "cell_type": "code",
   "execution_count": 6,
   "metadata": {},
   "outputs": [
    {
     "data": {
      "text/plain": [
       "(64,)"
      ]
     },
     "execution_count": 6,
     "metadata": {},
     "output_type": "execute_result"
    }
   ],
   "source": [
    "compound_pose.shape"
   ]
  },
  {
   "cell_type": "code",
   "execution_count": 7,
   "metadata": {},
   "outputs": [],
   "source": [
    "\n",
    "rgbs, depths = renderer.render_attribute_many(\n",
    "    compound_pose[:,None,...],\n",
    "    object_library.vertices,\n",
    "    object_library.faces,\n",
    "    jnp.array([[0, len(object_library.faces)]]),\n",
    "    object_library.attributes\n",
    ")\n",
    "#b3d.get_rgb_pil_image(rgb).save(b3d.get_root_path() / \"assets/test_ycb.png\")"
   ]
  },
  {
   "cell_type": "code",
   "execution_count": 8,
   "metadata": {},
   "outputs": [
    {
     "data": {
      "text/plain": [
       "(64, 64, 64, 3)"
      ]
     },
     "execution_count": 8,
     "metadata": {},
     "output_type": "execute_result"
    }
   ],
   "source": [
    "rgbs.shape"
   ]
  },
  {
   "cell_type": "code",
   "execution_count": 9,
   "metadata": {},
   "outputs": [],
   "source": [
    "frames = np.savez('frames_64', rgbs)"
   ]
  },
  {
   "cell_type": "code",
   "execution_count": null,
   "metadata": {},
   "outputs": [],
   "source": []
  },
  {
   "cell_type": "code",
   "execution_count": 10,
   "metadata": {},
   "outputs": [
    {
     "data": {
      "text/plain": [
       "(64, 64, 64, 3)"
      ]
     },
     "execution_count": 10,
     "metadata": {},
     "output_type": "execute_result"
    }
   ],
   "source": [
    "frames = np.load('frames_64.npz')['arr_0']\n",
    "frames.shape"
   ]
  },
  {
   "cell_type": "code",
   "execution_count": 11,
   "metadata": {},
   "outputs": [
    {
     "name": "stdout",
     "output_type": "stream",
     "text": [
      "(64, 64, 64, 3)\n"
     ]
    },
    {
     "name": "stderr",
     "output_type": "stream",
     "text": [
      "Using cache found in /home/esli/.cache/torch/hub/facebookresearch_co-tracker_main\n"
     ]
    },
    {
     "name": "stdout",
     "output_type": "stream",
     "text": [
      "Cotracker took  5.535351514816284  seconds\n",
      "Cotracker took  5.504244565963745  seconds\n"
     ]
    }
   ],
   "source": [
    "frames = np.array(frames*255).astype(int)\n",
    "print(frames.shape)\n",
    "\n",
    "device = 'cuda'\n",
    "cotracker = torch.hub.load(\"facebookresearch/co-tracker\", \"cotracker2\").to(device)\n",
    "\n",
    "video = torch.tensor(frames).permute(0, 3, 1, 2)[None].float().to(device)  # B T C H W\n",
    "\n",
    "grid_size = 25\n",
    "t0 = time.time()\n",
    "pred_tracks, pred_visibility = cotracker(video, grid_size=grid_size) # B T N 2,  B T N 1\n",
    "t1 = time.time()\n",
    "\n",
    "print(\"Cotracker took \", t1-t0, \" seconds\")\n",
    "\n",
    "t0 = time.time()\n",
    "pred_tracks, pred_visibility = cotracker(video, grid_size=grid_size) # B T N 2,  B T N 1\n",
    "t1 = time.time()\n",
    "\n",
    "print(\"Cotracker took \", t1-t0, \" seconds\")\n"
   ]
  },
  {
   "cell_type": "code",
   "execution_count": 12,
   "metadata": {},
   "outputs": [],
   "source": [
    "frames_resized =  jax.vmap(jax.image.resize, in_axes=(0, None, None))(\n",
    "        frames, (512, 512, 3), \"linear\"\n",
    "    )\n",
    "\n",
    "\n",
    "video_resized = torch.tensor(np.array(frames_resized)).permute(0, 3, 1, 2)[None].float().to(device)  # B T C H W\n"
   ]
  },
  {
   "cell_type": "code",
   "execution_count": 14,
   "metadata": {},
   "outputs": [
    {
     "name": "stdout",
     "output_type": "stream",
     "text": [
      "Video saved to ./video_64.mp4\n"
     ]
    }
   ],
   "source": [
    "\n",
    "from cotracker.utils.visualizer import Visualizer\n",
    "\n",
    "vis = Visualizer(save_dir=\".\", pad_value=120, linewidth=3)\n",
    "vis.visualize(video_resized, pred_tracks*8, pred_visibility, filename='video_64')\n",
    "\n",
    "pred_tracks_ = pred_tracks.cpu().numpy()\n",
    "pred_visibility_ = pred_visibility.cpu().numpy()\n",
    "np.savez(\"cotracker_output_64.npz\", pred_tracks=pred_tracks_, pred_visibility=pred_visibility_)"
   ]
  },
  {
   "cell_type": "code",
   "execution_count": null,
   "metadata": {},
   "outputs": [],
   "source": []
  },
  {
   "cell_type": "code",
   "execution_count": null,
   "metadata": {},
   "outputs": [],
   "source": []
  },
  {
   "cell_type": "code",
   "execution_count": null,
   "metadata": {},
   "outputs": [],
   "source": []
  },
  {
   "cell_type": "code",
   "execution_count": null,
   "metadata": {},
   "outputs": [],
   "source": []
  }
 ],
 "metadata": {
  "kernelspec": {
   "display_name": "b3d",
   "language": "python",
   "name": "python3"
  },
  "language_info": {
   "codemirror_mode": {
    "name": "ipython",
    "version": 3
   },
   "file_extension": ".py",
   "mimetype": "text/x-python",
   "name": "python",
   "nbconvert_exporter": "python",
   "pygments_lexer": "ipython3",
   "version": "3.11.8"
  }
 },
 "nbformat": 4,
 "nbformat_minor": 2
}
