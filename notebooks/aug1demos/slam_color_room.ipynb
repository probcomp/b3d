{
 "cells": [
  {
   "cell_type": "code",
   "execution_count": 4,
   "metadata": {},
   "outputs": [],
   "source": [
    "import b3d\n",
    "import jax.numpy as jnp\n",
    "import os\n",
    "from b3d import Mesh, Pose\n",
    "import jax\n",
    "import genjax\n",
    "from genjax import Pytree\n",
    "import rerun as rr\n",
    "from b3d.modeling_utils import uniform_discrete, uniform_pose, gaussian_vmf\n",
    "import matplotlib.pyplot as plt\n",
    "from functools import partial\n",
    "import importlib\n",
    "from ipywidgets import interact\n",
    "import ipywidgets as widgets\n",
    "\n",
    "import matplotlib.pyplot as plt\n",
    "import numpy as np"
   ]
  },
  {
   "cell_type": "code",
   "execution_count": 10,
   "metadata": {},
   "outputs": [],
   "source": [
    "b3d.rr_init(\"slma\")"
   ]
  },
  {
   "cell_type": "code",
   "execution_count": 11,
   "metadata": {},
   "outputs": [],
   "source": [
    "room_h = 1.0\n",
    "room_w = 0.8\n",
    "\n",
    "\n",
    "def plane_mesh_from_plane_and_dimensions(pose, w, h, color):\n",
    "    vertices = jnp.array(\n",
    "        [\n",
    "            [-w / 2, -h / 2, 0],\n",
    "            [-w / 2, h / 2, 0],\n",
    "            [w / 2, h / 2, 0],\n",
    "            [w / 2, -h / 2, 0],\n",
    "        ]\n",
    "    )\n",
    "    vertices = pose.apply(vertices)\n",
    "    faces = jnp.array(\n",
    "        [\n",
    "            [0, 1, 3],\n",
    "            [3, 1, 2],\n",
    "        ]\n",
    "    )\n",
    "    vertex_attributes = jnp.ones((len(vertices), 3)) * color\n",
    "    return Mesh(vertices, faces, vertex_attributes)\n",
    "\n",
    "\n",
    "m = plane_mesh_from_plane_and_dimensions(\n",
    "    Pose.identity(), room_w, room_h, jnp.array([1.0, 0.0, 0.0])\n",
    ")\n",
    "m.rr_visualize(\"mesh\")"
   ]
  },
  {
   "cell_type": "code",
   "execution_count": 4,
   "metadata": {},
   "outputs": [],
   "source": [
    "b3d.rr_init(\"slam\")"
   ]
  },
  {
   "cell_type": "code",
   "execution_count": 7,
   "metadata": {},
   "outputs": [
    {
     "ename": "TypeError",
     "evalue": "unsupported operand type(s) for *: 'int' and 'NoneType'",
     "output_type": "error",
     "traceback": [
      "\u001b[0;31m---------------------------------------------------------------------------\u001b[0m",
      "\u001b[0;31mTypeError\u001b[0m                                 Traceback (most recent call last)",
      "Cell \u001b[0;32mIn[7], line 1\u001b[0m\n\u001b[0;32m----> 1\u001b[0m obj \u001b[38;5;241m=\u001b[39m \u001b[43mMesh\u001b[49m\u001b[38;5;241;43m.\u001b[39;49m\u001b[43mfrom_obj\u001b[49m\u001b[43m(\u001b[49m\u001b[38;5;124;43m\"\u001b[39;49m\u001b[38;5;124;43midentical_rooms_single_mesh.obj\u001b[39;49m\u001b[38;5;124;43m\"\u001b[39;49m\u001b[43m)\u001b[49m\n\u001b[1;32m      2\u001b[0m obj\u001b[38;5;241m.\u001b[39mrr_visualize(\u001b[38;5;124m\"\u001b[39m\u001b[38;5;124mmesh\u001b[39m\u001b[38;5;124m\"\u001b[39m)\n",
      "File \u001b[0;32m~/b3d/src/b3d/mesh.py:110\u001b[0m, in \u001b[0;36mMesh.from_obj_file\u001b[0;34m(path)\u001b[0m\n\u001b[1;32m    107\u001b[0m \u001b[38;5;129m@staticmethod\u001b[39m\n\u001b[1;32m    108\u001b[0m \u001b[38;5;28;01mdef\u001b[39;00m \u001b[38;5;21mfrom_obj_file\u001b[39m(path):\n\u001b[1;32m    109\u001b[0m     trimesh_mesh \u001b[38;5;241m=\u001b[39m trimesh\u001b[38;5;241m.\u001b[39mload_mesh(path, process\u001b[38;5;241m=\u001b[39m\u001b[38;5;28;01mFalse\u001b[39;00m, validate\u001b[38;5;241m=\u001b[39m\u001b[38;5;28;01mFalse\u001b[39;00m)\n\u001b[0;32m--> 110\u001b[0m     \u001b[38;5;28;01mreturn\u001b[39;00m \u001b[43mMesh\u001b[49m\u001b[38;5;241;43m.\u001b[39;49m\u001b[43mfrom_trimesh\u001b[49m\u001b[43m(\u001b[49m\u001b[43mtrimesh_mesh\u001b[49m\u001b[43m)\u001b[49m\n",
      "File \u001b[0;32m~/b3d/src/b3d/mesh.py:120\u001b[0m, in \u001b[0;36mMesh.from_trimesh\u001b[0;34m(trimesh_mesh)\u001b[0m\n\u001b[1;32m    117\u001b[0m faces \u001b[38;5;241m=\u001b[39m jnp\u001b[38;5;241m.\u001b[39marray(trimesh_mesh\u001b[38;5;241m.\u001b[39mfaces)\n\u001b[1;32m    118\u001b[0m \u001b[38;5;28;01mif\u001b[39;00m \u001b[38;5;129;01mnot\u001b[39;00m \u001b[38;5;28misinstance\u001b[39m(trimesh_mesh\u001b[38;5;241m.\u001b[39mvisual, trimesh\u001b[38;5;241m.\u001b[39mvisual\u001b[38;5;241m.\u001b[39mcolor\u001b[38;5;241m.\u001b[39mColorVisuals):\n\u001b[1;32m    119\u001b[0m     vertex_colors \u001b[38;5;241m=\u001b[39m (\n\u001b[0;32m--> 120\u001b[0m         jnp\u001b[38;5;241m.\u001b[39marray(\u001b[43mtrimesh_mesh\u001b[49m\u001b[38;5;241;43m.\u001b[39;49m\u001b[43mvisual\u001b[49m\u001b[38;5;241;43m.\u001b[39;49m\u001b[43mto_color\u001b[49m\u001b[43m(\u001b[49m\u001b[43m)\u001b[49m\u001b[38;5;241;43m.\u001b[39;49m\u001b[43mvertex_colors\u001b[49m)[\u001b[38;5;241m.\u001b[39m\u001b[38;5;241m.\u001b[39m\u001b[38;5;241m.\u001b[39m, :\u001b[38;5;241m3\u001b[39m] \u001b[38;5;241m/\u001b[39m \u001b[38;5;241m255.0\u001b[39m\n\u001b[1;32m    121\u001b[0m     )\n\u001b[1;32m    122\u001b[0m \u001b[38;5;28;01melse\u001b[39;00m:\n\u001b[1;32m    123\u001b[0m     vertex_colors \u001b[38;5;241m=\u001b[39m (\n\u001b[1;32m    124\u001b[0m         jnp\u001b[38;5;241m.\u001b[39marray(trimesh_mesh\u001b[38;5;241m.\u001b[39mvisual\u001b[38;5;241m.\u001b[39mvertex_colors)[\u001b[38;5;241m.\u001b[39m\u001b[38;5;241m.\u001b[39m\u001b[38;5;241m.\u001b[39m, :\u001b[38;5;241m3\u001b[39m] \u001b[38;5;241m/\u001b[39m \u001b[38;5;241m255.0\u001b[39m\n\u001b[1;32m    125\u001b[0m     )\n",
      "File \u001b[0;32m/opt/conda/envs/b3d/lib/python3.12/site-packages/trimesh/visual/color.py:205\u001b[0m, in \u001b[0;36mColorVisuals.vertex_colors\u001b[0;34m(self)\u001b[0m\n\u001b[1;32m    196\u001b[0m \u001b[38;5;129m@property\u001b[39m\n\u001b[1;32m    197\u001b[0m \u001b[38;5;28;01mdef\u001b[39;00m \u001b[38;5;21mvertex_colors\u001b[39m(\u001b[38;5;28mself\u001b[39m):\n\u001b[1;32m    198\u001b[0m \u001b[38;5;250m    \u001b[39m\u001b[38;5;124;03m\"\"\"\u001b[39;00m\n\u001b[1;32m    199\u001b[0m \u001b[38;5;124;03m    Return the colors for each vertex of a mesh\u001b[39;00m\n\u001b[1;32m    200\u001b[0m \n\u001b[0;32m   (...)\u001b[0m\n\u001b[1;32m    203\u001b[0m \u001b[38;5;124;03m    colors: (len(mesh.vertices), 4) uint8, color for each vertex\u001b[39;00m\n\u001b[1;32m    204\u001b[0m \u001b[38;5;124;03m    \"\"\"\u001b[39;00m\n\u001b[0;32m--> 205\u001b[0m     \u001b[38;5;28;01mreturn\u001b[39;00m \u001b[38;5;28;43mself\u001b[39;49m\u001b[38;5;241;43m.\u001b[39;49m\u001b[43m_get_colors\u001b[49m\u001b[43m(\u001b[49m\u001b[43mname\u001b[49m\u001b[38;5;241;43m=\u001b[39;49m\u001b[38;5;124;43m\"\u001b[39;49m\u001b[38;5;124;43mvertex\u001b[39;49m\u001b[38;5;124;43m\"\u001b[39;49m\u001b[43m)\u001b[49m\n",
      "File \u001b[0;32m/opt/conda/envs/b3d/lib/python3.12/site-packages/trimesh/visual/color.py:315\u001b[0m, in \u001b[0;36mColorVisuals._get_colors\u001b[0;34m(self, name)\u001b[0m\n\u001b[1;32m    310\u001b[0m \u001b[38;5;28;01melse\u001b[39;00m:\n\u001b[1;32m    311\u001b[0m     \u001b[38;5;66;03m# colors have never been accessed\u001b[39;00m\n\u001b[1;32m    312\u001b[0m     \u001b[38;5;28;01mif\u001b[39;00m \u001b[38;5;28mself\u001b[39m\u001b[38;5;241m.\u001b[39mkind \u001b[38;5;129;01mis\u001b[39;00m \u001b[38;5;28;01mNone\u001b[39;00m:\n\u001b[1;32m    313\u001b[0m         \u001b[38;5;66;03m# no colors are defined, so create a (count, 4) tiled\u001b[39;00m\n\u001b[1;32m    314\u001b[0m         \u001b[38;5;66;03m# copy of the default color\u001b[39;00m\n\u001b[0;32m--> 315\u001b[0m         colors \u001b[38;5;241m=\u001b[39m \u001b[43mnp\u001b[49m\u001b[38;5;241;43m.\u001b[39;49m\u001b[43mtile\u001b[49m\u001b[43m(\u001b[49m\u001b[38;5;28;43mself\u001b[39;49m\u001b[38;5;241;43m.\u001b[39;49m\u001b[43mdefaults\u001b[49m\u001b[43m[\u001b[49m\u001b[38;5;124;43m\"\u001b[39;49m\u001b[38;5;124;43mmaterial_diffuse\u001b[39;49m\u001b[38;5;124;43m\"\u001b[39;49m\u001b[43m]\u001b[49m\u001b[43m,\u001b[49m\u001b[43m \u001b[49m\u001b[43m(\u001b[49m\u001b[43mcount\u001b[49m\u001b[43m,\u001b[49m\u001b[43m \u001b[49m\u001b[38;5;241;43m1\u001b[39;49m\u001b[43m)\u001b[49m\u001b[43m)\u001b[49m\n\u001b[1;32m    316\u001b[0m     \u001b[38;5;28;01melif\u001b[39;00m \u001b[38;5;28mself\u001b[39m\u001b[38;5;241m.\u001b[39mkind \u001b[38;5;241m==\u001b[39m \u001b[38;5;124m\"\u001b[39m\u001b[38;5;124mvertex\u001b[39m\u001b[38;5;124m\"\u001b[39m \u001b[38;5;129;01mand\u001b[39;00m name \u001b[38;5;241m==\u001b[39m \u001b[38;5;124m\"\u001b[39m\u001b[38;5;124mface\u001b[39m\u001b[38;5;124m\"\u001b[39m:\n\u001b[1;32m    317\u001b[0m         colors \u001b[38;5;241m=\u001b[39m vertex_to_face_color(\n\u001b[1;32m    318\u001b[0m             vertex_colors\u001b[38;5;241m=\u001b[39m\u001b[38;5;28mself\u001b[39m\u001b[38;5;241m.\u001b[39mvertex_colors, faces\u001b[38;5;241m=\u001b[39m\u001b[38;5;28mself\u001b[39m\u001b[38;5;241m.\u001b[39mmesh\u001b[38;5;241m.\u001b[39mfaces\n\u001b[1;32m    319\u001b[0m         )\n",
      "File \u001b[0;32m/opt/conda/envs/b3d/lib/python3.12/site-packages/numpy/lib/shape_base.py:1267\u001b[0m, in \u001b[0;36mtile\u001b[0;34m(A, reps)\u001b[0m\n\u001b[1;32m   1265\u001b[0m \u001b[38;5;28;01mif\u001b[39;00m (d \u001b[38;5;241m<\u001b[39m c\u001b[38;5;241m.\u001b[39mndim):\n\u001b[1;32m   1266\u001b[0m     tup \u001b[38;5;241m=\u001b[39m (\u001b[38;5;241m1\u001b[39m,)\u001b[38;5;241m*\u001b[39m(c\u001b[38;5;241m.\u001b[39mndim\u001b[38;5;241m-\u001b[39md) \u001b[38;5;241m+\u001b[39m tup\n\u001b[0;32m-> 1267\u001b[0m shape_out \u001b[38;5;241m=\u001b[39m \u001b[38;5;28;43mtuple\u001b[39;49m\u001b[43m(\u001b[49m\u001b[43ms\u001b[49m\u001b[38;5;241;43m*\u001b[39;49m\u001b[43mt\u001b[49m\u001b[43m \u001b[49m\u001b[38;5;28;43;01mfor\u001b[39;49;00m\u001b[43m \u001b[49m\u001b[43ms\u001b[49m\u001b[43m,\u001b[49m\u001b[43m \u001b[49m\u001b[43mt\u001b[49m\u001b[43m \u001b[49m\u001b[38;5;129;43;01min\u001b[39;49;00m\u001b[43m \u001b[49m\u001b[38;5;28;43mzip\u001b[39;49m\u001b[43m(\u001b[49m\u001b[43mc\u001b[49m\u001b[38;5;241;43m.\u001b[39;49m\u001b[43mshape\u001b[49m\u001b[43m,\u001b[49m\u001b[43m \u001b[49m\u001b[43mtup\u001b[49m\u001b[43m)\u001b[49m\u001b[43m)\u001b[49m\n\u001b[1;32m   1268\u001b[0m n \u001b[38;5;241m=\u001b[39m c\u001b[38;5;241m.\u001b[39msize\n\u001b[1;32m   1269\u001b[0m \u001b[38;5;28;01mif\u001b[39;00m n \u001b[38;5;241m>\u001b[39m \u001b[38;5;241m0\u001b[39m:\n",
      "File \u001b[0;32m/opt/conda/envs/b3d/lib/python3.12/site-packages/numpy/lib/shape_base.py:1267\u001b[0m, in \u001b[0;36m<genexpr>\u001b[0;34m(.0)\u001b[0m\n\u001b[1;32m   1265\u001b[0m \u001b[38;5;28;01mif\u001b[39;00m (d \u001b[38;5;241m<\u001b[39m c\u001b[38;5;241m.\u001b[39mndim):\n\u001b[1;32m   1266\u001b[0m     tup \u001b[38;5;241m=\u001b[39m (\u001b[38;5;241m1\u001b[39m,)\u001b[38;5;241m*\u001b[39m(c\u001b[38;5;241m.\u001b[39mndim\u001b[38;5;241m-\u001b[39md) \u001b[38;5;241m+\u001b[39m tup\n\u001b[0;32m-> 1267\u001b[0m shape_out \u001b[38;5;241m=\u001b[39m \u001b[38;5;28mtuple\u001b[39m(\u001b[43ms\u001b[49m\u001b[38;5;241;43m*\u001b[39;49m\u001b[43mt\u001b[49m \u001b[38;5;28;01mfor\u001b[39;00m s, t \u001b[38;5;129;01min\u001b[39;00m \u001b[38;5;28mzip\u001b[39m(c\u001b[38;5;241m.\u001b[39mshape, tup))\n\u001b[1;32m   1268\u001b[0m n \u001b[38;5;241m=\u001b[39m c\u001b[38;5;241m.\u001b[39msize\n\u001b[1;32m   1269\u001b[0m \u001b[38;5;28;01mif\u001b[39;00m n \u001b[38;5;241m>\u001b[39m \u001b[38;5;241m0\u001b[39m:\n",
      "\u001b[0;31mTypeError\u001b[0m: unsupported operand type(s) for *: 'int' and 'NoneType'"
     ]
    }
   ],
   "source": [
    "obj = Mesh.from_obj(\"identical_rooms_single_mesh.obj\")\n",
    "obj.rr_visualize(\"mesh\")"
   ]
  },
  {
   "cell_type": "code",
   "execution_count": null,
   "metadata": {},
   "outputs": [],
   "source": []
  }
 ],
 "metadata": {
  "kernelspec": {
   "display_name": "b3d",
   "language": "python",
   "name": "python3"
  },
  "language_info": {
   "codemirror_mode": {
    "name": "ipython",
    "version": 3
   },
   "file_extension": ".py",
   "mimetype": "text/x-python",
   "name": "python",
   "nbconvert_exporter": "python",
   "pygments_lexer": "ipython3",
   "version": "3.12.4"
  }
 },
 "nbformat": 4,
 "nbformat_minor": 2
}
