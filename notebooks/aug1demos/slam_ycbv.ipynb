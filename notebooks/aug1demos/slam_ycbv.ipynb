{
 "cells": [
  {
   "cell_type": "code",
   "execution_count": 258,
   "metadata": {},
   "outputs": [],
   "source": [
    "import b3d\n",
    "import jax.numpy as jnp\n",
    "import os\n",
    "from b3d import Mesh, Pose\n",
    "import jax\n",
    "import genjax\n",
    "from genjax import Pytree\n",
    "import rerun as rr\n",
    "from b3d.modeling_utils import uniform_discrete, uniform_pose, gaussian_vmf\n",
    "import matplotlib.pyplot as plt\n",
    "from functools import partial\n",
    "import importlib\n",
    "from ipywidgets import interact\n",
    "import ipywidgets as widgets\n",
    "from tqdm import tqdm\n",
    "import matplotlib.pyplot as plt\n",
    "import numpy as np\n",
    "from genjax import SelectionBuilder as S\n",
    "\n",
    "gvmf_and_select_best_move = b3d.bayes3d.enumerative_proposals.gvmf_and_select_best_move"
   ]
  },
  {
   "cell_type": "code",
   "execution_count": 259,
   "metadata": {},
   "outputs": [],
   "source": [
    "b3d.rr_init(\"slam_ycbv\")\n",
    "key = jax.random.PRNGKey(0)"
   ]
  },
  {
   "cell_type": "code",
   "execution_count": 260,
   "metadata": {},
   "outputs": [
    {
     "name": "stdout",
     "output_type": "stream",
     "text": [
      "Scene 48\n"
     ]
    },
    {
     "name": "stderr",
     "output_type": "stream",
     "text": [
      " 56%|█████▌    | 32/57 [00:15<00:11,  2.13it/s]\n"
     ]
    },
    {
     "ename": "KeyboardInterrupt",
     "evalue": "",
     "output_type": "error",
     "traceback": [
      "\u001b[0;31m---------------------------------------------------------------------------\u001b[0m",
      "\u001b[0;31mKeyboardInterrupt\u001b[0m                         Traceback (most recent call last)",
      "Cell \u001b[0;32mIn[260], line 24\u001b[0m\n\u001b[1;32m     22\u001b[0m \u001b[38;5;66;03m# image_ids = [image] if image is not None else range(1, num_scenes, FRAME_RATE)\u001b[39;00m\n\u001b[1;32m     23\u001b[0m image_ids \u001b[38;5;241m=\u001b[39m \u001b[38;5;28mrange\u001b[39m(\u001b[38;5;241m1\u001b[39m, num_scenes \u001b[38;5;241m+\u001b[39m \u001b[38;5;241m1\u001b[39m, FRAME_RATE)\n\u001b[0;32m---> 24\u001b[0m all_data \u001b[38;5;241m=\u001b[39m \u001b[43mb3d\u001b[49m\u001b[38;5;241;43m.\u001b[39;49m\u001b[43mio\u001b[49m\u001b[38;5;241;43m.\u001b[39;49m\u001b[43mdata_loader\u001b[49m\u001b[38;5;241;43m.\u001b[39;49m\u001b[43mget_ycbv_test_images\u001b[49m\u001b[43m(\u001b[49m\u001b[43mycb_dir\u001b[49m\u001b[43m,\u001b[49m\u001b[43m \u001b[49m\u001b[43mscene_id\u001b[49m\u001b[43m,\u001b[49m\u001b[43m \u001b[49m\u001b[43mimage_ids\u001b[49m\u001b[43m)\u001b[49m\n\u001b[1;32m     26\u001b[0m meshes \u001b[38;5;241m=\u001b[39m [\n\u001b[1;32m     27\u001b[0m     Mesh\u001b[38;5;241m.\u001b[39mfrom_obj_file(\n\u001b[1;32m     28\u001b[0m         os\u001b[38;5;241m.\u001b[39mpath\u001b[38;5;241m.\u001b[39mjoin(ycb_dir, \u001b[38;5;124mf\u001b[39m\u001b[38;5;124m'\u001b[39m\u001b[38;5;124mmodels/obj_\u001b[39m\u001b[38;5;132;01m{\u001b[39;00m\u001b[38;5;124mf\u001b[39m\u001b[38;5;124m\"\u001b[39m\u001b[38;5;132;01m{\u001b[39;00m\u001b[38;5;28mid\u001b[39m\u001b[38;5;250m \u001b[39m\u001b[38;5;241m+\u001b[39m\u001b[38;5;250m \u001b[39m\u001b[38;5;241m1\u001b[39m\u001b[38;5;132;01m}\u001b[39;00m\u001b[38;5;124m\"\u001b[39m\u001b[38;5;241m.\u001b[39mrjust(\u001b[38;5;241m6\u001b[39m,\u001b[38;5;250m \u001b[39m\u001b[38;5;124m\"\u001b[39m\u001b[38;5;124m0\u001b[39m\u001b[38;5;124m\"\u001b[39m)\u001b[38;5;132;01m}\u001b[39;00m\u001b[38;5;124m.ply\u001b[39m\u001b[38;5;124m'\u001b[39m)\n\u001b[1;32m     29\u001b[0m     )\u001b[38;5;241m.\u001b[39mscale(\u001b[38;5;241m0.001\u001b[39m)\n\u001b[1;32m     30\u001b[0m     \u001b[38;5;28;01mfor\u001b[39;00m \u001b[38;5;28mid\u001b[39m \u001b[38;5;129;01min\u001b[39;00m all_data[\u001b[38;5;241m0\u001b[39m][\u001b[38;5;124m\"\u001b[39m\u001b[38;5;124mobject_types\u001b[39m\u001b[38;5;124m\"\u001b[39m]\n\u001b[1;32m     31\u001b[0m ]\n\u001b[1;32m     33\u001b[0m height, width \u001b[38;5;241m=\u001b[39m all_data[\u001b[38;5;241m0\u001b[39m][\u001b[38;5;124m\"\u001b[39m\u001b[38;5;124mrgbd\u001b[39m\u001b[38;5;124m\"\u001b[39m]\u001b[38;5;241m.\u001b[39mshape[:\u001b[38;5;241m2\u001b[39m]\n",
      "File \u001b[0;32m~/b3d/src/b3d/io/data_loader.py:158\u001b[0m, in \u001b[0;36mget_ycbv_test_images\u001b[0;34m(ycb_dir, scene_id, images_indices, fields)\u001b[0m\n\u001b[1;32m    154\u001b[0m         gt_ids\u001b[38;5;241m.\u001b[39mappend(obj_id)\n\u001b[1;32m    156\u001b[0m     data[\u001b[38;5;124m\"\u001b[39m\u001b[38;5;124mobject_types\u001b[39m\u001b[38;5;124m\"\u001b[39m] \u001b[38;5;241m=\u001b[39m jnp\u001b[38;5;241m.\u001b[39marray(gt_ids)\n\u001b[1;32m    157\u001b[0m     data[\u001b[38;5;124m\"\u001b[39m\u001b[38;5;124mobject_poses\u001b[39m\u001b[38;5;124m\"\u001b[39m] \u001b[38;5;241m=\u001b[39m cam_pose \u001b[38;5;241m@\u001b[39m Pose\u001b[38;5;241m.\u001b[39mstack_poses(\n\u001b[0;32m--> 158\u001b[0m         [\u001b[43mPose\u001b[49m\u001b[38;5;241;43m.\u001b[39;49m\u001b[43mfrom_matrix\u001b[49m\u001b[43m(\u001b[49m\u001b[43mp\u001b[49m\u001b[43m)\u001b[49m \u001b[38;5;28;01mfor\u001b[39;00m p \u001b[38;5;129;01min\u001b[39;00m jnp\u001b[38;5;241m.\u001b[39marray(gt_poses)]\n\u001b[1;32m    159\u001b[0m     )\n\u001b[1;32m    161\u001b[0m     all_data\u001b[38;5;241m.\u001b[39mappend(data)\n\u001b[1;32m    162\u001b[0m \u001b[38;5;28;01mreturn\u001b[39;00m all_data\n",
      "File \u001b[0;32m~/b3d/src/b3d/pose/core.py:337\u001b[0m, in \u001b[0;36mPose.from_matrix\u001b[0;34m(matrix)\u001b[0m\n\u001b[1;32m    334\u001b[0m \u001b[38;5;129m@staticmethod\u001b[39m\n\u001b[1;32m    335\u001b[0m \u001b[38;5;28;01mdef\u001b[39;00m \u001b[38;5;21mfrom_matrix\u001b[39m(matrix):\n\u001b[1;32m    336\u001b[0m \u001b[38;5;250m    \u001b[39m\u001b[38;5;124;03m\"\"\"Create an Pose from a 4x4 matrix.\"\"\"\u001b[39;00m\n\u001b[0;32m--> 337\u001b[0m     \u001b[38;5;28;01mreturn\u001b[39;00m Pose(matrix[\u001b[38;5;241m.\u001b[39m\u001b[38;5;241m.\u001b[39m\u001b[38;5;241m.\u001b[39m, :\u001b[38;5;241m3\u001b[39m, \u001b[38;5;241m3\u001b[39m], \u001b[43mRot\u001b[49m\u001b[38;5;241;43m.\u001b[39;49m\u001b[43mfrom_matrix\u001b[49m\u001b[43m(\u001b[49m\u001b[43mmatrix\u001b[49m\u001b[43m[\u001b[49m\u001b[38;5;241;43m.\u001b[39;49m\u001b[38;5;241;43m.\u001b[39;49m\u001b[38;5;241;43m.\u001b[39;49m\u001b[43m,\u001b[49m\u001b[43m \u001b[49m\u001b[43m:\u001b[49m\u001b[38;5;241;43m3\u001b[39;49m\u001b[43m,\u001b[49m\u001b[43m \u001b[49m\u001b[43m:\u001b[49m\u001b[38;5;241;43m3\u001b[39;49m\u001b[43m]\u001b[49m\u001b[43m)\u001b[49m\u001b[38;5;241m.\u001b[39mas_quat())\n",
      "File \u001b[0;32m/opt/conda/envs/b3d/lib/python3.12/site-packages/jax/_src/scipy/spatial/transform.py:90\u001b[0m, in \u001b[0;36mRotation.from_matrix\u001b[0;34m(cls, matrix)\u001b[0m\n\u001b[1;32m     87\u001b[0m \u001b[38;5;129m@classmethod\u001b[39m\n\u001b[1;32m     88\u001b[0m \u001b[38;5;28;01mdef\u001b[39;00m \u001b[38;5;21mfrom_matrix\u001b[39m(\u001b[38;5;28mcls\u001b[39m, matrix: jax\u001b[38;5;241m.\u001b[39mArray):\n\u001b[1;32m     89\u001b[0m \u001b[38;5;250m  \u001b[39m\u001b[38;5;124;03m\"\"\"Initialize from rotation matrix.\"\"\"\u001b[39;00m\n\u001b[0;32m---> 90\u001b[0m   \u001b[38;5;28;01mreturn\u001b[39;00m \u001b[38;5;28mcls\u001b[39m(\u001b[43m_from_matrix\u001b[49m\u001b[43m(\u001b[49m\u001b[43mmatrix\u001b[49m\u001b[43m)\u001b[49m)\n",
      "File \u001b[0;32m/opt/conda/envs/b3d/lib/python3.12/site-packages/jax/_src/numpy/vectorize.py:321\u001b[0m, in \u001b[0;36mvectorize.<locals>.wrapped\u001b[0;34m(*args, **kwargs)\u001b[0m\n\u001b[1;32m    319\u001b[0m   \u001b[38;5;28;01melse\u001b[39;00m:\n\u001b[1;32m    320\u001b[0m     vectorized_func \u001b[38;5;241m=\u001b[39m api\u001b[38;5;241m.\u001b[39mvmap(vectorized_func, in_axes)\n\u001b[0;32m--> 321\u001b[0m result \u001b[38;5;241m=\u001b[39m \u001b[43mvectorized_func\u001b[49m\u001b[43m(\u001b[49m\u001b[38;5;241;43m*\u001b[39;49m\u001b[43msqueezed_args\u001b[49m\u001b[43m)\u001b[49m\n\u001b[1;32m    323\u001b[0m \u001b[38;5;28;01mif\u001b[39;00m \u001b[38;5;129;01mnot\u001b[39;00m dims_to_expand:\n\u001b[1;32m    324\u001b[0m   \u001b[38;5;28;01mreturn\u001b[39;00m result\n",
      "File \u001b[0;32m/opt/conda/envs/b3d/lib/python3.12/site-packages/jax/_src/numpy/vectorize.py:138\u001b[0m, in \u001b[0;36m_check_output_dims.<locals>.wrapped\u001b[0;34m(*args)\u001b[0m\n\u001b[1;32m    137\u001b[0m \u001b[38;5;28;01mdef\u001b[39;00m \u001b[38;5;21mwrapped\u001b[39m(\u001b[38;5;241m*\u001b[39margs):\n\u001b[0;32m--> 138\u001b[0m   out \u001b[38;5;241m=\u001b[39m \u001b[43mfunc\u001b[49m\u001b[43m(\u001b[49m\u001b[38;5;241;43m*\u001b[39;49m\u001b[43margs\u001b[49m\u001b[43m)\u001b[49m\n\u001b[1;32m    139\u001b[0m   out_shapes \u001b[38;5;241m=\u001b[39m \u001b[38;5;28mmap\u001b[39m(jnp\u001b[38;5;241m.\u001b[39mshape, out \u001b[38;5;28;01mif\u001b[39;00m \u001b[38;5;28misinstance\u001b[39m(out, \u001b[38;5;28mtuple\u001b[39m) \u001b[38;5;28;01melse\u001b[39;00m [out])\n\u001b[1;32m    141\u001b[0m   \u001b[38;5;28;01mif\u001b[39;00m expected_output_core_dims \u001b[38;5;129;01mis\u001b[39;00m \u001b[38;5;28;01mNone\u001b[39;00m:\n",
      "File \u001b[0;32m/opt/conda/envs/b3d/lib/python3.12/site-packages/jax/_src/scipy/spatial/transform.py:397\u001b[0m, in \u001b[0;36m_from_matrix\u001b[0;34m(matrix)\u001b[0m\n\u001b[1;32m    395\u001b[0m k \u001b[38;5;241m=\u001b[39m (j \u001b[38;5;241m+\u001b[39m \u001b[38;5;241m1\u001b[39m) \u001b[38;5;241m%\u001b[39m \u001b[38;5;241m3\u001b[39m\n\u001b[1;32m    396\u001b[0m quat_012 \u001b[38;5;241m=\u001b[39m jnp\u001b[38;5;241m.\u001b[39mempty(\u001b[38;5;241m4\u001b[39m, dtype\u001b[38;5;241m=\u001b[39mmatrix\u001b[38;5;241m.\u001b[39mdtype)\n\u001b[0;32m--> 397\u001b[0m quat_012 \u001b[38;5;241m=\u001b[39m \u001b[43mquat_012\u001b[49m\u001b[38;5;241;43m.\u001b[39;49m\u001b[43mat\u001b[49m\u001b[43m[\u001b[49m\u001b[43mi\u001b[49m\u001b[43m]\u001b[49m\u001b[38;5;241;43m.\u001b[39;49m\u001b[43mset\u001b[49m\u001b[43m(\u001b[49m\u001b[38;5;241;43m1\u001b[39;49m\u001b[43m \u001b[49m\u001b[38;5;241;43m-\u001b[39;49m\u001b[43m \u001b[49m\u001b[43mdecision\u001b[49m\u001b[43m[\u001b[49m\u001b[38;5;241;43m3\u001b[39;49m\u001b[43m]\u001b[49m\u001b[43m \u001b[49m\u001b[38;5;241;43m+\u001b[39;49m\u001b[43m \u001b[49m\u001b[38;5;241;43m2\u001b[39;49m\u001b[43m \u001b[49m\u001b[38;5;241;43m*\u001b[39;49m\u001b[43m \u001b[49m\u001b[43mmatrix\u001b[49m\u001b[43m[\u001b[49m\u001b[43mi\u001b[49m\u001b[43m,\u001b[49m\u001b[43m \u001b[49m\u001b[43mi\u001b[49m\u001b[43m]\u001b[49m\u001b[43m)\u001b[49m\n\u001b[1;32m    398\u001b[0m quat_012 \u001b[38;5;241m=\u001b[39m quat_012\u001b[38;5;241m.\u001b[39mat[j]\u001b[38;5;241m.\u001b[39mset(matrix[j, i] \u001b[38;5;241m+\u001b[39m matrix[i, j])\n\u001b[1;32m    399\u001b[0m quat_012 \u001b[38;5;241m=\u001b[39m quat_012\u001b[38;5;241m.\u001b[39mat[k]\u001b[38;5;241m.\u001b[39mset(matrix[k, i] \u001b[38;5;241m+\u001b[39m matrix[i, k])\n",
      "File \u001b[0;32m/opt/conda/envs/b3d/lib/python3.12/site-packages/jax/_src/numpy/array_methods.py:493\u001b[0m, in \u001b[0;36m_IndexUpdateRef.set\u001b[0;34m(self, values, indices_are_sorted, unique_indices, mode)\u001b[0m\n\u001b[1;32m    484\u001b[0m \u001b[38;5;28;01mdef\u001b[39;00m \u001b[38;5;21mset\u001b[39m(\u001b[38;5;28mself\u001b[39m, values, \u001b[38;5;241m*\u001b[39m, indices_are_sorted\u001b[38;5;241m=\u001b[39m\u001b[38;5;28;01mFalse\u001b[39;00m, unique_indices\u001b[38;5;241m=\u001b[39m\u001b[38;5;28;01mFalse\u001b[39;00m,\n\u001b[1;32m    485\u001b[0m         mode\u001b[38;5;241m=\u001b[39m\u001b[38;5;28;01mNone\u001b[39;00m):\n\u001b[1;32m    486\u001b[0m \u001b[38;5;250m  \u001b[39m\u001b[38;5;124;03m\"\"\"Pure equivalent of ``x[idx] = y``.\u001b[39;00m\n\u001b[1;32m    487\u001b[0m \n\u001b[1;32m    488\u001b[0m \u001b[38;5;124;03m  Returns the value of ``x`` that would result from the NumPy-style\u001b[39;00m\n\u001b[0;32m   (...)\u001b[0m\n\u001b[1;32m    491\u001b[0m \u001b[38;5;124;03m  See :mod:`jax.ops` for details.\u001b[39;00m\n\u001b[1;32m    492\u001b[0m \u001b[38;5;124;03m  \"\"\"\u001b[39;00m\n\u001b[0;32m--> 493\u001b[0m   \u001b[38;5;28;01mreturn\u001b[39;00m \u001b[43mscatter\u001b[49m\u001b[38;5;241;43m.\u001b[39;49m\u001b[43m_scatter_update\u001b[49m\u001b[43m(\u001b[49m\u001b[38;5;28;43mself\u001b[39;49m\u001b[38;5;241;43m.\u001b[39;49m\u001b[43marray\u001b[49m\u001b[43m,\u001b[49m\u001b[43m \u001b[49m\u001b[38;5;28;43mself\u001b[39;49m\u001b[38;5;241;43m.\u001b[39;49m\u001b[43mindex\u001b[49m\u001b[43m,\u001b[49m\u001b[43m \u001b[49m\u001b[43mvalues\u001b[49m\u001b[43m,\u001b[49m\u001b[43m \u001b[49m\u001b[43mlax\u001b[49m\u001b[38;5;241;43m.\u001b[39;49m\u001b[43mscatter\u001b[49m\u001b[43m,\u001b[49m\n\u001b[1;32m    494\u001b[0m \u001b[43m                                 \u001b[49m\u001b[43mindices_are_sorted\u001b[49m\u001b[38;5;241;43m=\u001b[39;49m\u001b[43mindices_are_sorted\u001b[49m\u001b[43m,\u001b[49m\n\u001b[1;32m    495\u001b[0m \u001b[43m                                 \u001b[49m\u001b[43munique_indices\u001b[49m\u001b[38;5;241;43m=\u001b[39;49m\u001b[43munique_indices\u001b[49m\u001b[43m,\u001b[49m\u001b[43m \u001b[49m\u001b[43mmode\u001b[49m\u001b[38;5;241;43m=\u001b[39;49m\u001b[43mmode\u001b[49m\u001b[43m)\u001b[49m\n",
      "File \u001b[0;32m/opt/conda/envs/b3d/lib/python3.12/site-packages/jax/_src/ops/scatter.py:80\u001b[0m, in \u001b[0;36m_scatter_update\u001b[0;34m(x, idx, y, scatter_op, indices_are_sorted, unique_indices, mode, normalize_indices)\u001b[0m\n\u001b[1;32m     77\u001b[0m \u001b[38;5;66;03m# XLA gathers and scatters are very similar in structure; the scatter logic\u001b[39;00m\n\u001b[1;32m     78\u001b[0m \u001b[38;5;66;03m# is more or less a transpose of the gather equivalent.\u001b[39;00m\n\u001b[1;32m     79\u001b[0m treedef, static_idx, dynamic_idx \u001b[38;5;241m=\u001b[39m jnp\u001b[38;5;241m.\u001b[39m_split_index_for_jit(idx, x\u001b[38;5;241m.\u001b[39mshape)\n\u001b[0;32m---> 80\u001b[0m \u001b[38;5;28;01mreturn\u001b[39;00m \u001b[43m_scatter_impl\u001b[49m\u001b[43m(\u001b[49m\u001b[43mx\u001b[49m\u001b[43m,\u001b[49m\u001b[43m \u001b[49m\u001b[43my\u001b[49m\u001b[43m,\u001b[49m\u001b[43m \u001b[49m\u001b[43mscatter_op\u001b[49m\u001b[43m,\u001b[49m\u001b[43m \u001b[49m\u001b[43mtreedef\u001b[49m\u001b[43m,\u001b[49m\u001b[43m \u001b[49m\u001b[43mstatic_idx\u001b[49m\u001b[43m,\u001b[49m\u001b[43m \u001b[49m\u001b[43mdynamic_idx\u001b[49m\u001b[43m,\u001b[49m\n\u001b[1;32m     81\u001b[0m \u001b[43m                     \u001b[49m\u001b[43mindices_are_sorted\u001b[49m\u001b[43m,\u001b[49m\u001b[43m \u001b[49m\u001b[43munique_indices\u001b[49m\u001b[43m,\u001b[49m\u001b[43m \u001b[49m\u001b[43mmode\u001b[49m\u001b[43m,\u001b[49m\n\u001b[1;32m     82\u001b[0m \u001b[43m                     \u001b[49m\u001b[43mnormalize_indices\u001b[49m\u001b[43m)\u001b[49m\n",
      "File \u001b[0;32m/opt/conda/envs/b3d/lib/python3.12/site-packages/jax/_src/ops/scatter.py:104\u001b[0m, in \u001b[0;36m_scatter_impl\u001b[0;34m(x, y, scatter_op, treedef, static_idx, dynamic_idx, indices_are_sorted, unique_indices, mode, normalize_indices)\u001b[0m\n\u001b[1;32m     96\u001b[0m   warnings\u001b[38;5;241m.\u001b[39mwarn(\n\u001b[1;32m     97\u001b[0m     \u001b[38;5;124m\"\u001b[39m\u001b[38;5;124mscatter inputs have incompatible types: cannot safely cast value \u001b[39m\u001b[38;5;124m\"\u001b[39m\n\u001b[1;32m     98\u001b[0m     \u001b[38;5;124mf\u001b[39m\u001b[38;5;124m\"\u001b[39m\u001b[38;5;124mfrom dtype=\u001b[39m\u001b[38;5;132;01m{\u001b[39;00mlax\u001b[38;5;241m.\u001b[39mdtype(y)\u001b[38;5;132;01m}\u001b[39;00m\u001b[38;5;124m to dtype=\u001b[39m\u001b[38;5;132;01m{\u001b[39;00mlax\u001b[38;5;241m.\u001b[39mdtype(x)\u001b[38;5;132;01m}\u001b[39;00m\u001b[38;5;124m with \u001b[39m\u001b[38;5;124m\"\u001b[39m\n\u001b[1;32m     99\u001b[0m     \u001b[38;5;124mf\u001b[39m\u001b[38;5;124m\"\u001b[39m\u001b[38;5;124mjax_numpy_dtype_promotion=\u001b[39m\u001b[38;5;132;01m{\u001b[39;00mconfig\u001b[38;5;241m.\u001b[39mnumpy_dtype_promotion\u001b[38;5;241m.\u001b[39mvalue\u001b[38;5;132;01m!r}\u001b[39;00m\u001b[38;5;124m. \u001b[39m\u001b[38;5;124m\"\u001b[39m\n\u001b[1;32m    100\u001b[0m     \u001b[38;5;124m\"\u001b[39m\u001b[38;5;124mIn future JAX releases this will result in an error.\u001b[39m\u001b[38;5;124m\"\u001b[39m,\n\u001b[1;32m    101\u001b[0m     \u001b[38;5;167;01mFutureWarning\u001b[39;00m)\n\u001b[1;32m    103\u001b[0m idx \u001b[38;5;241m=\u001b[39m jnp\u001b[38;5;241m.\u001b[39m_merge_static_and_dynamic_indices(treedef, static_idx, dynamic_idx)\n\u001b[0;32m--> 104\u001b[0m indexer \u001b[38;5;241m=\u001b[39m \u001b[43mjnp\u001b[49m\u001b[38;5;241;43m.\u001b[39;49m\u001b[43m_index_to_gather\u001b[49m\u001b[43m(\u001b[49m\u001b[43mjnp\u001b[49m\u001b[38;5;241;43m.\u001b[39;49m\u001b[43mshape\u001b[49m\u001b[43m(\u001b[49m\u001b[43mx\u001b[49m\u001b[43m)\u001b[49m\u001b[43m,\u001b[49m\u001b[43m \u001b[49m\u001b[43midx\u001b[49m\u001b[43m,\u001b[49m\n\u001b[1;32m    105\u001b[0m \u001b[43m                               \u001b[49m\u001b[43mnormalize_indices\u001b[49m\u001b[38;5;241;43m=\u001b[39;49m\u001b[43mnormalize_indices\u001b[49m\u001b[43m)\u001b[49m\n\u001b[1;32m    106\u001b[0m \u001b[38;5;66;03m# TODO(jakevdp): implement scalar boolean logic.\u001b[39;00m\n\u001b[1;32m    107\u001b[0m \u001b[38;5;28;01mif\u001b[39;00m indexer\u001b[38;5;241m.\u001b[39mscalar_bool_dims:\n",
      "File \u001b[0;32m/opt/conda/envs/b3d/lib/python3.12/site-packages/jax/_src/numpy/lax_numpy.py:5844\u001b[0m, in \u001b[0;36m_index_to_gather\u001b[0;34m(x_shape, idx, normalize_indices)\u001b[0m\n\u001b[1;32m   5841\u001b[0m \u001b[38;5;28;01mif\u001b[39;00m core\u001b[38;5;241m.\u001b[39mdefinitely_equal(x_shape[x_axis], \u001b[38;5;241m0\u001b[39m):\n\u001b[1;32m   5842\u001b[0m   \u001b[38;5;66;03m# XLA gives error when indexing into an axis of size 0\u001b[39;00m\n\u001b[1;32m   5843\u001b[0m   \u001b[38;5;28;01mraise\u001b[39;00m \u001b[38;5;167;01mIndexError\u001b[39;00m(\u001b[38;5;124mf\u001b[39m\u001b[38;5;124m\"\u001b[39m\u001b[38;5;124mindex is out of bounds for axis \u001b[39m\u001b[38;5;132;01m{\u001b[39;00mx_axis\u001b[38;5;132;01m}\u001b[39;00m\u001b[38;5;124m with size 0\u001b[39m\u001b[38;5;124m\"\u001b[39m)\n\u001b[0;32m-> 5844\u001b[0m i \u001b[38;5;241m=\u001b[39m \u001b[43m_normalize_index\u001b[49m\u001b[43m(\u001b[49m\u001b[43mi\u001b[49m\u001b[43m,\u001b[49m\u001b[43m \u001b[49m\u001b[43mx_shape\u001b[49m\u001b[43m[\u001b[49m\u001b[43mx_axis\u001b[49m\u001b[43m]\u001b[49m\u001b[43m)\u001b[49m \u001b[38;5;28;01mif\u001b[39;00m normalize_indices \u001b[38;5;28;01melse\u001b[39;00m i\n\u001b[1;32m   5845\u001b[0m i_converted \u001b[38;5;241m=\u001b[39m lax\u001b[38;5;241m.\u001b[39mconvert_element_type(i, index_dtype)\n\u001b[1;32m   5846\u001b[0m gather_indices\u001b[38;5;241m.\u001b[39mappend((i_converted, \u001b[38;5;28mlen\u001b[39m(gather_indices_shape)))\n",
      "File \u001b[0;32m/opt/conda/envs/b3d/lib/python3.12/site-packages/jax/_src/numpy/lax_numpy.py:5377\u001b[0m, in \u001b[0;36m_normalize_index\u001b[0;34m(index, axis_size)\u001b[0m\n\u001b[1;32m   5375\u001b[0m   \u001b[38;5;28;01mreturn\u001b[39;00m lax\u001b[38;5;241m.\u001b[39madd(index, axis_size_val) \u001b[38;5;28;01mif\u001b[39;00m index \u001b[38;5;241m<\u001b[39m \u001b[38;5;241m0\u001b[39m \u001b[38;5;28;01melse\u001b[39;00m index\n\u001b[1;32m   5376\u001b[0m \u001b[38;5;28;01melse\u001b[39;00m:\n\u001b[0;32m-> 5377\u001b[0m   \u001b[38;5;28;01mreturn\u001b[39;00m lax\u001b[38;5;241m.\u001b[39mselect(index \u001b[38;5;241m<\u001b[39m \u001b[38;5;241m0\u001b[39m, \u001b[43mlax\u001b[49m\u001b[38;5;241;43m.\u001b[39;49m\u001b[43madd\u001b[49m\u001b[43m(\u001b[49m\u001b[43mindex\u001b[49m\u001b[43m,\u001b[49m\u001b[43m \u001b[49m\u001b[43maxis_size_val\u001b[49m\u001b[43m)\u001b[49m, index)\n",
      "File \u001b[0;32m/opt/conda/envs/b3d/lib/python3.12/site-packages/jax/_src/lax/lax.py:420\u001b[0m, in \u001b[0;36madd\u001b[0;34m(x, y)\u001b[0m\n\u001b[1;32m    418\u001b[0m \u001b[38;5;28;01mdef\u001b[39;00m \u001b[38;5;21madd\u001b[39m(x: ArrayLike, y: ArrayLike) \u001b[38;5;241m-\u001b[39m\u001b[38;5;241m>\u001b[39m Array:\n\u001b[1;32m    419\u001b[0m \u001b[38;5;250m  \u001b[39m\u001b[38;5;124mr\u001b[39m\u001b[38;5;124;03m\"\"\"Elementwise addition: :math:`x + y`.\"\"\"\u001b[39;00m\n\u001b[0;32m--> 420\u001b[0m   \u001b[38;5;28;01mreturn\u001b[39;00m \u001b[43madd_p\u001b[49m\u001b[38;5;241;43m.\u001b[39;49m\u001b[43mbind\u001b[49m\u001b[43m(\u001b[49m\u001b[43mx\u001b[49m\u001b[43m,\u001b[49m\u001b[43m \u001b[49m\u001b[43my\u001b[49m\u001b[43m)\u001b[49m\n",
      "File \u001b[0;32m/opt/conda/envs/b3d/lib/python3.12/site-packages/jax/_src/core.py:387\u001b[0m, in \u001b[0;36mPrimitive.bind\u001b[0;34m(self, *args, **params)\u001b[0m\n\u001b[1;32m    384\u001b[0m \u001b[38;5;28;01mdef\u001b[39;00m \u001b[38;5;21mbind\u001b[39m(\u001b[38;5;28mself\u001b[39m, \u001b[38;5;241m*\u001b[39margs, \u001b[38;5;241m*\u001b[39m\u001b[38;5;241m*\u001b[39mparams):\n\u001b[1;32m    385\u001b[0m   \u001b[38;5;28;01massert\u001b[39;00m (\u001b[38;5;129;01mnot\u001b[39;00m config\u001b[38;5;241m.\u001b[39menable_checks\u001b[38;5;241m.\u001b[39mvalue \u001b[38;5;129;01mor\u001b[39;00m\n\u001b[1;32m    386\u001b[0m           \u001b[38;5;28mall\u001b[39m(\u001b[38;5;28misinstance\u001b[39m(arg, Tracer) \u001b[38;5;129;01mor\u001b[39;00m valid_jaxtype(arg) \u001b[38;5;28;01mfor\u001b[39;00m arg \u001b[38;5;129;01min\u001b[39;00m args)), args\n\u001b[0;32m--> 387\u001b[0m   \u001b[38;5;28;01mreturn\u001b[39;00m \u001b[38;5;28;43mself\u001b[39;49m\u001b[38;5;241;43m.\u001b[39;49m\u001b[43mbind_with_trace\u001b[49m\u001b[43m(\u001b[49m\u001b[43mfind_top_trace\u001b[49m\u001b[43m(\u001b[49m\u001b[43margs\u001b[49m\u001b[43m)\u001b[49m\u001b[43m,\u001b[49m\u001b[43m \u001b[49m\u001b[43margs\u001b[49m\u001b[43m,\u001b[49m\u001b[43m \u001b[49m\u001b[43mparams\u001b[49m\u001b[43m)\u001b[49m\n",
      "File \u001b[0;32m/opt/conda/envs/b3d/lib/python3.12/site-packages/jax/_src/core.py:391\u001b[0m, in \u001b[0;36mPrimitive.bind_with_trace\u001b[0;34m(self, trace, args, params)\u001b[0m\n\u001b[1;32m    389\u001b[0m \u001b[38;5;28;01mdef\u001b[39;00m \u001b[38;5;21mbind_with_trace\u001b[39m(\u001b[38;5;28mself\u001b[39m, trace, args, params):\n\u001b[1;32m    390\u001b[0m   \u001b[38;5;28;01mwith\u001b[39;00m pop_level(trace\u001b[38;5;241m.\u001b[39mlevel):\n\u001b[0;32m--> 391\u001b[0m     out \u001b[38;5;241m=\u001b[39m \u001b[43mtrace\u001b[49m\u001b[38;5;241;43m.\u001b[39;49m\u001b[43mprocess_primitive\u001b[49m\u001b[43m(\u001b[49m\u001b[38;5;28;43mself\u001b[39;49m\u001b[43m,\u001b[49m\u001b[43m \u001b[49m\u001b[38;5;28;43mmap\u001b[39;49m\u001b[43m(\u001b[49m\u001b[43mtrace\u001b[49m\u001b[38;5;241;43m.\u001b[39;49m\u001b[43mfull_raise\u001b[49m\u001b[43m,\u001b[49m\u001b[43m \u001b[49m\u001b[43margs\u001b[49m\u001b[43m)\u001b[49m\u001b[43m,\u001b[49m\u001b[43m \u001b[49m\u001b[43mparams\u001b[49m\u001b[43m)\u001b[49m\n\u001b[1;32m    392\u001b[0m   \u001b[38;5;28;01mreturn\u001b[39;00m \u001b[38;5;28mmap\u001b[39m(full_lower, out) \u001b[38;5;28;01mif\u001b[39;00m \u001b[38;5;28mself\u001b[39m\u001b[38;5;241m.\u001b[39mmultiple_results \u001b[38;5;28;01melse\u001b[39;00m full_lower(out)\n",
      "File \u001b[0;32m/opt/conda/envs/b3d/lib/python3.12/site-packages/jax/_src/core.py:879\u001b[0m, in \u001b[0;36mEvalTrace.process_primitive\u001b[0;34m(self, primitive, tracers, params)\u001b[0m\n\u001b[1;32m    877\u001b[0m   \u001b[38;5;28;01mreturn\u001b[39;00m call_impl_with_key_reuse_checks(primitive, primitive\u001b[38;5;241m.\u001b[39mimpl, \u001b[38;5;241m*\u001b[39mtracers, \u001b[38;5;241m*\u001b[39m\u001b[38;5;241m*\u001b[39mparams)\n\u001b[1;32m    878\u001b[0m \u001b[38;5;28;01melse\u001b[39;00m:\n\u001b[0;32m--> 879\u001b[0m   \u001b[38;5;28;01mreturn\u001b[39;00m \u001b[43mprimitive\u001b[49m\u001b[38;5;241;43m.\u001b[39;49m\u001b[43mimpl\u001b[49m\u001b[43m(\u001b[49m\u001b[38;5;241;43m*\u001b[39;49m\u001b[43mtracers\u001b[49m\u001b[43m,\u001b[49m\u001b[43m \u001b[49m\u001b[38;5;241;43m*\u001b[39;49m\u001b[38;5;241;43m*\u001b[39;49m\u001b[43mparams\u001b[49m\u001b[43m)\u001b[49m\n",
      "File \u001b[0;32m/opt/conda/envs/b3d/lib/python3.12/site-packages/jax/_src/dispatch.py:86\u001b[0m, in \u001b[0;36mapply_primitive\u001b[0;34m(prim, *args, **params)\u001b[0m\n\u001b[1;32m     84\u001b[0m prev \u001b[38;5;241m=\u001b[39m lib\u001b[38;5;241m.\u001b[39mjax_jit\u001b[38;5;241m.\u001b[39mswap_thread_local_state_disable_jit(\u001b[38;5;28;01mFalse\u001b[39;00m)\n\u001b[1;32m     85\u001b[0m \u001b[38;5;28;01mtry\u001b[39;00m:\n\u001b[0;32m---> 86\u001b[0m   outs \u001b[38;5;241m=\u001b[39m \u001b[43mfun\u001b[49m\u001b[43m(\u001b[49m\u001b[38;5;241;43m*\u001b[39;49m\u001b[43margs\u001b[49m\u001b[43m)\u001b[49m\n\u001b[1;32m     87\u001b[0m \u001b[38;5;28;01mfinally\u001b[39;00m:\n\u001b[1;32m     88\u001b[0m   lib\u001b[38;5;241m.\u001b[39mjax_jit\u001b[38;5;241m.\u001b[39mswap_thread_local_state_disable_jit(prev)\n",
      "\u001b[0;31mKeyboardInterrupt\u001b[0m: "
     ]
    }
   ],
   "source": [
    "scene = 48\n",
    "\n",
    "FRAME_RATE = 40\n",
    "\n",
    "ycb_dir = os.path.join(b3d.get_assets_path(), \"bop/ycbv\")\n",
    "\n",
    "\n",
    "if scene is None:\n",
    "    scenes = range(48, 60)\n",
    "elif isinstance(scene, int):\n",
    "    scenes = [scene]\n",
    "elif isinstance(scene, list):\n",
    "    scenes = scene\n",
    "\n",
    "scene_id = scenes[0]\n",
    "\n",
    "\n",
    "print(f\"Scene {scene_id}\")\n",
    "b3d.reload(b3d.io.data_loader)\n",
    "num_scenes = b3d.io.data_loader.get_ycbv_num_test_images(ycb_dir, scene_id)\n",
    "\n",
    "# image_ids = [image] if image is not None else range(1, num_scenes, FRAME_RATE)\n",
    "image_ids = range(1, num_scenes + 1, FRAME_RATE)\n",
    "all_data = b3d.io.data_loader.get_ycbv_test_images(ycb_dir, scene_id, image_ids)\n",
    "\n",
    "meshes = [\n",
    "    Mesh.from_obj_file(\n",
    "        os.path.join(ycb_dir, f'models/obj_{f\"{id + 1}\".rjust(6, \"0\")}.ply')\n",
    "    ).scale(0.001)\n",
    "    for id in all_data[0][\"object_types\"]\n",
    "]\n",
    "\n",
    "height, width = all_data[0][\"rgbd\"].shape[:2]\n",
    "fx, fy, cx, cy = all_data[0][\"camera_intrinsics\"]\n",
    "scaling_factor = 0.3\n",
    "renderer = b3d.renderer.renderer_original.RendererOriginal(\n",
    "    width * scaling_factor,\n",
    "    height * scaling_factor,\n",
    "    fx * scaling_factor,\n",
    "    fy * scaling_factor,\n",
    "    cx * scaling_factor,\n",
    "    cy * scaling_factor,\n",
    "    0.01,\n",
    "    2.0,\n",
    ")\n",
    "b3d.viz_rgb(all_data[0][\"rgbd\"])\n"
   ]
  },
  {
   "cell_type": "code",
   "execution_count": null,
   "metadata": {},
   "outputs": [],
   "source": [
    "import b3d.chisight.dense.dense_model\n",
    "b3d.reload(b3d.chisight.dense.dense_model)\n",
    "b3d.reload(b3d.utils)\n",
    "import b3d.chisight.dense.likelihoods.blur_likelihood\n",
    "b3d.reload(b3d.chisight.dense.likelihoods.blur_likelihood)\n",
    "intermediate_likelihood_func = b3d.chisight.dense.likelihoods.blur_likelihood.blur_intermediate_likelihood_func\n",
    "blur_intermediate_sample_func = b3d.chisight.dense.likelihoods.blur_likelihood.blur_intermediate_sample_func\n",
    "model, viz_trace, info_from_trace = (\n",
    "    b3d.chisight.dense.dense_model.make_dense_multiobject_model(\n",
    "        renderer, intermediate_likelihood_func, blur_intermediate_sample_func\n",
    "    )\n",
    ")\n",
    "importance_jit = jax.jit(model.importance)"
   ]
  },
  {
   "cell_type": "code",
   "execution_count": null,
   "metadata": {},
   "outputs": [
    {
     "name": "stdout",
     "output_type": "stream",
     "text": [
      "Mesh(vertices=(368640,), faces=(184320,), vertex_attributes=(368640,))\n",
      "-4740.068\n"
     ]
    }
   ],
   "source": [
    "START_T = 0\n",
    "\n",
    "rgbd = all_data[START_T][\"rgbd\"]\n",
    "point_cloud_colors = rgbd[..., :3].reshape(-1,3)\n",
    "point_cloud = b3d.xyz_from_depth(rgbd[..., 3], fx, fy, cx, cy)\n",
    "point_cloud = point_cloud.reshape(-1, 3)\n",
    "key = jax.random.PRNGKey(0)\n",
    "m = jax.random.choice(key, len(point_cloud), (len(point_cloud) // 20,), replace=False)\n",
    "background_mesh = Mesh.mesh_from_xyz_colors_dimensions(\n",
    "    point_cloud[m],  point_cloud_colors[m] , point_cloud[m][:, 2] / fx * 6.0\n",
    ")\n",
    "print(background_mesh)\n",
    "\n",
    "learned_object_mesh = background_mesh.transform(all_data[START_T][\"camera_pose\"])\n",
    "\n",
    "# OBJECT_INDEX = 1\n",
    "# rgbd = all_data[START_T][\"rgbd\"]\n",
    "# mask = all_data[START_T][\"masks\"][OBJECT_INDEX] == 1\n",
    "# point_cloud = b3d.xyz_from_depth(rgbd[..., 3], fx, fy, cx, cy)[mask]\n",
    "# point_cloud_colors = rgbd[..., :3][mask]\n",
    "# subsample_mask = jax.random.choice(key, len(point_cloud), (len(point_cloud) // 10,), replace=False)\n",
    "# learned_object_mesh = Mesh.mesh_from_xyz_colors_dimensions(\n",
    "#     point_cloud[subsample_mask],  point_cloud_colors[subsample_mask] , point_cloud[subsample_mask][:, 2] / fx * 3.0\n",
    "# )\n",
    "# learned_object_mesh = learned_object_mesh.transform(all_data[START_T][\"camera_pose\"])\n",
    "# print(learned_object_mesh)\n",
    "\n",
    "\n",
    "k = 5000\n",
    "keys = jax.random.split(key, 2 * k)\n",
    "rows = jax.vmap(genjax.categorical.sample,in_axes=(0, 0,))(\n",
    "        keys[:k],\n",
    "        jnp.ones((k, renderer.height)))\n",
    "cols = jax.vmap(genjax.categorical.sample,in_axes=(0, 0,))(\n",
    "        keys[k:],\n",
    "        jnp.ones((k, renderer.width)))\n",
    "args = ({\n",
    "    \"num_objects\": Pytree.const(2),\n",
    "    \"meshes\": [learned_object_mesh],\n",
    "    \"likelihood_args\": {\n",
    "        \"fx\": renderer.fx,\n",
    "        \"fy\": renderer.fy,\n",
    "        \"cx\": renderer.cx,\n",
    "        \"cy\": renderer.cy,\n",
    "        \"rows\":  rows,\n",
    "        \"cols\": cols,\n",
    "    },\n",
    "},)\n",
    "\n",
    "\n",
    "choicemap = genjax.ChoiceMap.d(\n",
    "    {\n",
    "        \"camera_pose\": all_data[START_T][\"camera_pose\"],\n",
    "        \"object_pose_0\": Pose.identity(),\n",
    "        # \"object_pose_0\": all_data[T][\"object_poses\"][0],\n",
    "        \"color_variance_0\": 0.2,\n",
    "        \"depth_variance_0\": 0.005,\n",
    "        \"outlier_probability_0\": 0.1,\n",
    "        \"blur\": 3.0,\n",
    "    }\n",
    ")\n",
    "trace = importance_jit(key, choicemap, args)[0]\n",
    "\n",
    "rgbd = all_data[START_T][\"rgbd\"]\n",
    "trace = b3d.update_choices(trace, Pytree.const((\"rgbd\",)), b3d.resize_image_nearest(rgbd, renderer.height, renderer.width))\n",
    "print(trace.get_score())\n",
    "viz_trace(trace, START_T)"
   ]
  },
  {
   "cell_type": "code",
   "execution_count": null,
   "metadata": {},
   "outputs": [
    {
     "name": "stderr",
     "output_type": "stream",
     "text": [
      " 21%|██        | 12/57 [00:25<01:37,  2.16s/it]\n"
     ]
    },
    {
     "ename": "KeyboardInterrupt",
     "evalue": "",
     "output_type": "error",
     "traceback": [
      "\u001b[0;31m---------------------------------------------------------------------------\u001b[0m",
      "\u001b[0;31mKeyboardInterrupt\u001b[0m                         Traceback (most recent call last)",
      "Cell \u001b[0;32mIn[257], line 11\u001b[0m\n\u001b[1;32m      9\u001b[0m \u001b[38;5;28;01mfor\u001b[39;00m var \u001b[38;5;129;01min\u001b[39;00m [\u001b[38;5;241m0.04\u001b[39m, \u001b[38;5;241m0.02\u001b[39m, \u001b[38;5;241m0.01\u001b[39m]:\n\u001b[1;32m     10\u001b[0m     trace \u001b[38;5;241m=\u001b[39m saved_trace\n\u001b[0;32m---> 11\u001b[0m     trace, key \u001b[38;5;241m=\u001b[39m \u001b[43mgvmf_and_select_best_move\u001b[49m\u001b[43m(\u001b[49m\n\u001b[1;32m     12\u001b[0m \u001b[43m        \u001b[49m\u001b[43mtrace\u001b[49m\u001b[43m,\u001b[49m\u001b[43m \u001b[49m\u001b[43mkey\u001b[49m\u001b[43m,\u001b[49m\u001b[43m \u001b[49m\u001b[43mvar\u001b[49m\u001b[43m,\u001b[49m\u001b[43m \u001b[49m\u001b[38;5;241;43m2000.0\u001b[39;49m\u001b[43m,\u001b[49m\u001b[43m \u001b[49m\u001b[38;5;124;43m\"\u001b[39;49m\u001b[38;5;124;43mcamera_pose\u001b[39;49m\u001b[38;5;124;43m\"\u001b[39;49m\u001b[43m,\u001b[49m\u001b[43m \u001b[49m\u001b[38;5;241;43m700\u001b[39;49m\n\u001b[1;32m     13\u001b[0m \u001b[43m    \u001b[49m\u001b[43m)\u001b[49m\n\u001b[1;32m     14\u001b[0m     potential_traces\u001b[38;5;241m.\u001b[39mappend(trace)\n\u001b[1;32m     15\u001b[0m trace \u001b[38;5;241m=\u001b[39m \u001b[38;5;28mmax\u001b[39m(potential_traces, key\u001b[38;5;241m=\u001b[39m\u001b[38;5;28;01mlambda\u001b[39;00m x: x\u001b[38;5;241m.\u001b[39mget_score())\n",
      "    \u001b[0;31m[... skipping hidden 1 frame]\u001b[0m\n",
      "File \u001b[0;32m/opt/conda/envs/b3d/lib/python3.12/site-packages/jax/_src/pjit.py:304\u001b[0m, in \u001b[0;36m_cpp_pjit.<locals>.cache_miss\u001b[0;34m(*args, **kwargs)\u001b[0m\n\u001b[1;32m    302\u001b[0m \u001b[38;5;129m@api_boundary\u001b[39m\n\u001b[1;32m    303\u001b[0m \u001b[38;5;28;01mdef\u001b[39;00m \u001b[38;5;21mcache_miss\u001b[39m(\u001b[38;5;241m*\u001b[39margs, \u001b[38;5;241m*\u001b[39m\u001b[38;5;241m*\u001b[39mkwargs):\n\u001b[0;32m--> 304\u001b[0m   outs, out_flat, out_tree, args_flat, jaxpr, attrs_tracked \u001b[38;5;241m=\u001b[39m \u001b[43m_python_pjit_helper\u001b[49m\u001b[43m(\u001b[49m\n\u001b[1;32m    305\u001b[0m \u001b[43m      \u001b[49m\u001b[43mjit_info\u001b[49m\u001b[43m,\u001b[49m\u001b[43m \u001b[49m\u001b[38;5;241;43m*\u001b[39;49m\u001b[43margs\u001b[49m\u001b[43m,\u001b[49m\u001b[43m \u001b[49m\u001b[38;5;241;43m*\u001b[39;49m\u001b[38;5;241;43m*\u001b[39;49m\u001b[43mkwargs\u001b[49m\u001b[43m)\u001b[49m\n\u001b[1;32m    306\u001b[0m   executable \u001b[38;5;241m=\u001b[39m _read_most_recent_pjit_call_executable(jaxpr)\n\u001b[1;32m    307\u001b[0m   maybe_fastpath_data \u001b[38;5;241m=\u001b[39m _get_fastpath_data(\n\u001b[1;32m    308\u001b[0m       executable, out_tree, args_flat, out_flat, attrs_tracked, jaxpr\u001b[38;5;241m.\u001b[39meffects,\n\u001b[1;32m    309\u001b[0m       jaxpr\u001b[38;5;241m.\u001b[39mconsts, jit_info\u001b[38;5;241m.\u001b[39mabstracted_axes)\n",
      "File \u001b[0;32m/opt/conda/envs/b3d/lib/python3.12/site-packages/jax/_src/pjit.py:181\u001b[0m, in \u001b[0;36m_python_pjit_helper\u001b[0;34m(jit_info, *args, **kwargs)\u001b[0m\n\u001b[1;32m    178\u001b[0m   args_flat \u001b[38;5;241m=\u001b[39m [\u001b[38;5;241m*\u001b[39minit_states, \u001b[38;5;241m*\u001b[39margs_flat]\n\u001b[1;32m    180\u001b[0m \u001b[38;5;28;01mtry\u001b[39;00m:\n\u001b[0;32m--> 181\u001b[0m   out_flat \u001b[38;5;241m=\u001b[39m \u001b[43mpjit_p\u001b[49m\u001b[38;5;241;43m.\u001b[39;49m\u001b[43mbind\u001b[49m\u001b[43m(\u001b[49m\u001b[38;5;241;43m*\u001b[39;49m\u001b[43margs_flat\u001b[49m\u001b[43m,\u001b[49m\u001b[43m \u001b[49m\u001b[38;5;241;43m*\u001b[39;49m\u001b[38;5;241;43m*\u001b[39;49m\u001b[43mparams\u001b[49m\u001b[43m)\u001b[49m\n\u001b[1;32m    182\u001b[0m \u001b[38;5;28;01mexcept\u001b[39;00m pxla\u001b[38;5;241m.\u001b[39mDeviceAssignmentMismatchError \u001b[38;5;28;01mas\u001b[39;00m e:\n\u001b[1;32m    183\u001b[0m   fails, \u001b[38;5;241m=\u001b[39m e\u001b[38;5;241m.\u001b[39margs\n",
      "File \u001b[0;32m/opt/conda/envs/b3d/lib/python3.12/site-packages/jax/_src/core.py:2789\u001b[0m, in \u001b[0;36mAxisPrimitive.bind\u001b[0;34m(self, *args, **params)\u001b[0m\n\u001b[1;32m   2785\u001b[0m axis_main \u001b[38;5;241m=\u001b[39m \u001b[38;5;28mmax\u001b[39m((axis_frame(a)\u001b[38;5;241m.\u001b[39mmain_trace \u001b[38;5;28;01mfor\u001b[39;00m a \u001b[38;5;129;01min\u001b[39;00m used_axis_names(\u001b[38;5;28mself\u001b[39m, params)),\n\u001b[1;32m   2786\u001b[0m                 default\u001b[38;5;241m=\u001b[39m\u001b[38;5;28;01mNone\u001b[39;00m, key\u001b[38;5;241m=\u001b[39m\u001b[38;5;28;01mlambda\u001b[39;00m t: \u001b[38;5;28mgetattr\u001b[39m(t, \u001b[38;5;124m'\u001b[39m\u001b[38;5;124mlevel\u001b[39m\u001b[38;5;124m'\u001b[39m, \u001b[38;5;241m-\u001b[39m\u001b[38;5;241m1\u001b[39m))\n\u001b[1;32m   2787\u001b[0m top_trace \u001b[38;5;241m=\u001b[39m (top_trace \u001b[38;5;28;01mif\u001b[39;00m \u001b[38;5;129;01mnot\u001b[39;00m axis_main \u001b[38;5;129;01mor\u001b[39;00m axis_main\u001b[38;5;241m.\u001b[39mlevel \u001b[38;5;241m<\u001b[39m top_trace\u001b[38;5;241m.\u001b[39mlevel\n\u001b[1;32m   2788\u001b[0m              \u001b[38;5;28;01melse\u001b[39;00m axis_main\u001b[38;5;241m.\u001b[39mwith_cur_sublevel())\n\u001b[0;32m-> 2789\u001b[0m \u001b[38;5;28;01mreturn\u001b[39;00m \u001b[38;5;28;43mself\u001b[39;49m\u001b[38;5;241;43m.\u001b[39;49m\u001b[43mbind_with_trace\u001b[49m\u001b[43m(\u001b[49m\u001b[43mtop_trace\u001b[49m\u001b[43m,\u001b[49m\u001b[43m \u001b[49m\u001b[43margs\u001b[49m\u001b[43m,\u001b[49m\u001b[43m \u001b[49m\u001b[43mparams\u001b[49m\u001b[43m)\u001b[49m\n",
      "File \u001b[0;32m/opt/conda/envs/b3d/lib/python3.12/site-packages/jax/_src/core.py:391\u001b[0m, in \u001b[0;36mPrimitive.bind_with_trace\u001b[0;34m(self, trace, args, params)\u001b[0m\n\u001b[1;32m    389\u001b[0m \u001b[38;5;28;01mdef\u001b[39;00m \u001b[38;5;21mbind_with_trace\u001b[39m(\u001b[38;5;28mself\u001b[39m, trace, args, params):\n\u001b[1;32m    390\u001b[0m   \u001b[38;5;28;01mwith\u001b[39;00m pop_level(trace\u001b[38;5;241m.\u001b[39mlevel):\n\u001b[0;32m--> 391\u001b[0m     out \u001b[38;5;241m=\u001b[39m \u001b[43mtrace\u001b[49m\u001b[38;5;241;43m.\u001b[39;49m\u001b[43mprocess_primitive\u001b[49m\u001b[43m(\u001b[49m\u001b[38;5;28;43mself\u001b[39;49m\u001b[43m,\u001b[49m\u001b[43m \u001b[49m\u001b[38;5;28;43mmap\u001b[39;49m\u001b[43m(\u001b[49m\u001b[43mtrace\u001b[49m\u001b[38;5;241;43m.\u001b[39;49m\u001b[43mfull_raise\u001b[49m\u001b[43m,\u001b[49m\u001b[43m \u001b[49m\u001b[43margs\u001b[49m\u001b[43m)\u001b[49m\u001b[43m,\u001b[49m\u001b[43m \u001b[49m\u001b[43mparams\u001b[49m\u001b[43m)\u001b[49m\n\u001b[1;32m    392\u001b[0m   \u001b[38;5;28;01mreturn\u001b[39;00m \u001b[38;5;28mmap\u001b[39m(full_lower, out) \u001b[38;5;28;01mif\u001b[39;00m \u001b[38;5;28mself\u001b[39m\u001b[38;5;241m.\u001b[39mmultiple_results \u001b[38;5;28;01melse\u001b[39;00m full_lower(out)\n",
      "File \u001b[0;32m/opt/conda/envs/b3d/lib/python3.12/site-packages/jax/_src/core.py:879\u001b[0m, in \u001b[0;36mEvalTrace.process_primitive\u001b[0;34m(self, primitive, tracers, params)\u001b[0m\n\u001b[1;32m    877\u001b[0m   \u001b[38;5;28;01mreturn\u001b[39;00m call_impl_with_key_reuse_checks(primitive, primitive\u001b[38;5;241m.\u001b[39mimpl, \u001b[38;5;241m*\u001b[39mtracers, \u001b[38;5;241m*\u001b[39m\u001b[38;5;241m*\u001b[39mparams)\n\u001b[1;32m    878\u001b[0m \u001b[38;5;28;01melse\u001b[39;00m:\n\u001b[0;32m--> 879\u001b[0m   \u001b[38;5;28;01mreturn\u001b[39;00m \u001b[43mprimitive\u001b[49m\u001b[38;5;241;43m.\u001b[39;49m\u001b[43mimpl\u001b[49m\u001b[43m(\u001b[49m\u001b[38;5;241;43m*\u001b[39;49m\u001b[43mtracers\u001b[49m\u001b[43m,\u001b[49m\u001b[43m \u001b[49m\u001b[38;5;241;43m*\u001b[39;49m\u001b[38;5;241;43m*\u001b[39;49m\u001b[43mparams\u001b[49m\u001b[43m)\u001b[49m\n",
      "File \u001b[0;32m/opt/conda/envs/b3d/lib/python3.12/site-packages/jax/_src/pjit.py:1525\u001b[0m, in \u001b[0;36m_pjit_call_impl\u001b[0;34m(jaxpr, in_shardings, out_shardings, in_layouts, out_layouts, resource_env, donated_invars, name, keep_unused, inline, *args)\u001b[0m\n\u001b[1;32m   1522\u001b[0m donated_argnums \u001b[38;5;241m=\u001b[39m [i \u001b[38;5;28;01mfor\u001b[39;00m i, d \u001b[38;5;129;01min\u001b[39;00m \u001b[38;5;28menumerate\u001b[39m(donated_invars) \u001b[38;5;28;01mif\u001b[39;00m d]\n\u001b[1;32m   1523\u001b[0m has_explicit_sharding \u001b[38;5;241m=\u001b[39m _pjit_explicit_sharding(\n\u001b[1;32m   1524\u001b[0m     in_shardings, out_shardings, \u001b[38;5;28;01mNone\u001b[39;00m, \u001b[38;5;28;01mNone\u001b[39;00m)\n\u001b[0;32m-> 1525\u001b[0m \u001b[38;5;28;01mreturn\u001b[39;00m \u001b[43mxc\u001b[49m\u001b[38;5;241;43m.\u001b[39;49m\u001b[43m_xla\u001b[49m\u001b[38;5;241;43m.\u001b[39;49m\u001b[43mpjit\u001b[49m\u001b[43m(\u001b[49m\n\u001b[1;32m   1526\u001b[0m \u001b[43m    \u001b[49m\u001b[43mname\u001b[49m\u001b[43m,\u001b[49m\u001b[43m \u001b[49m\u001b[43mf\u001b[49m\u001b[43m,\u001b[49m\u001b[43m \u001b[49m\u001b[43mcall_impl_cache_miss\u001b[49m\u001b[43m,\u001b[49m\u001b[43m \u001b[49m\u001b[43m[\u001b[49m\u001b[43m]\u001b[49m\u001b[43m,\u001b[49m\u001b[43m \u001b[49m\u001b[43m[\u001b[49m\u001b[43m]\u001b[49m\u001b[43m,\u001b[49m\u001b[43m \u001b[49m\u001b[43mdonated_argnums\u001b[49m\u001b[43m,\u001b[49m\n\u001b[1;32m   1527\u001b[0m \u001b[43m    \u001b[49m\u001b[43mtree_util\u001b[49m\u001b[38;5;241;43m.\u001b[39;49m\u001b[43mdispatch_registry\u001b[49m\u001b[43m,\u001b[49m\n\u001b[1;32m   1528\u001b[0m \u001b[43m    \u001b[49m\u001b[43mpxla\u001b[49m\u001b[38;5;241;43m.\u001b[39;49m\u001b[43mshard_arg\u001b[49m\u001b[43m,\u001b[49m\u001b[43m  \u001b[49m\u001b[38;5;66;43;03m# type: ignore\u001b[39;49;00m\n\u001b[1;32m   1529\u001b[0m \u001b[43m    \u001b[49m\u001b[43m_get_cpp_global_cache\u001b[49m\u001b[43m(\u001b[49m\u001b[43mhas_explicit_sharding\u001b[49m\u001b[43m)\u001b[49m\u001b[43m)\u001b[49m\u001b[43m(\u001b[49m\u001b[38;5;241;43m*\u001b[39;49m\u001b[43margs\u001b[49m\u001b[43m)\u001b[49m\n",
      "File \u001b[0;32m/opt/conda/envs/b3d/lib/python3.12/site-packages/jax/_src/pjit.py:1508\u001b[0m, in \u001b[0;36m_pjit_call_impl.<locals>.call_impl_cache_miss\u001b[0;34m(*args_, **kwargs_)\u001b[0m\n\u001b[1;32m   1507\u001b[0m \u001b[38;5;28;01mdef\u001b[39;00m \u001b[38;5;21mcall_impl_cache_miss\u001b[39m(\u001b[38;5;241m*\u001b[39margs_, \u001b[38;5;241m*\u001b[39m\u001b[38;5;241m*\u001b[39mkwargs_):\n\u001b[0;32m-> 1508\u001b[0m   out_flat, compiled \u001b[38;5;241m=\u001b[39m \u001b[43m_pjit_call_impl_python\u001b[49m\u001b[43m(\u001b[49m\n\u001b[1;32m   1509\u001b[0m \u001b[43m      \u001b[49m\u001b[38;5;241;43m*\u001b[39;49m\u001b[43margs\u001b[49m\u001b[43m,\u001b[49m\u001b[43m \u001b[49m\u001b[43mjaxpr\u001b[49m\u001b[38;5;241;43m=\u001b[39;49m\u001b[43mjaxpr\u001b[49m\u001b[43m,\u001b[49m\u001b[43m \u001b[49m\u001b[43min_shardings\u001b[49m\u001b[38;5;241;43m=\u001b[39;49m\u001b[43min_shardings\u001b[49m\u001b[43m,\u001b[49m\n\u001b[1;32m   1510\u001b[0m \u001b[43m      \u001b[49m\u001b[43mout_shardings\u001b[49m\u001b[38;5;241;43m=\u001b[39;49m\u001b[43mout_shardings\u001b[49m\u001b[43m,\u001b[49m\u001b[43m \u001b[49m\u001b[43min_layouts\u001b[49m\u001b[38;5;241;43m=\u001b[39;49m\u001b[43min_layouts\u001b[49m\u001b[43m,\u001b[49m\n\u001b[1;32m   1511\u001b[0m \u001b[43m      \u001b[49m\u001b[43mout_layouts\u001b[49m\u001b[38;5;241;43m=\u001b[39;49m\u001b[43mout_layouts\u001b[49m\u001b[43m,\u001b[49m\u001b[43m \u001b[49m\u001b[43mresource_env\u001b[49m\u001b[38;5;241;43m=\u001b[39;49m\u001b[43mresource_env\u001b[49m\u001b[43m,\u001b[49m\n\u001b[1;32m   1512\u001b[0m \u001b[43m      \u001b[49m\u001b[43mdonated_invars\u001b[49m\u001b[38;5;241;43m=\u001b[39;49m\u001b[43mdonated_invars\u001b[49m\u001b[43m,\u001b[49m\u001b[43m \u001b[49m\u001b[43mname\u001b[49m\u001b[38;5;241;43m=\u001b[39;49m\u001b[43mname\u001b[49m\u001b[43m,\u001b[49m\u001b[43m \u001b[49m\u001b[43mkeep_unused\u001b[49m\u001b[38;5;241;43m=\u001b[39;49m\u001b[43mkeep_unused\u001b[49m\u001b[43m,\u001b[49m\n\u001b[1;32m   1513\u001b[0m \u001b[43m      \u001b[49m\u001b[43minline\u001b[49m\u001b[38;5;241;43m=\u001b[39;49m\u001b[43minline\u001b[49m\u001b[43m)\u001b[49m\n\u001b[1;32m   1514\u001b[0m   fastpath_data \u001b[38;5;241m=\u001b[39m _get_fastpath_data(\n\u001b[1;32m   1515\u001b[0m       compiled, tree_structure(out_flat), args, out_flat, [], jaxpr\u001b[38;5;241m.\u001b[39meffects,\n\u001b[1;32m   1516\u001b[0m       jaxpr\u001b[38;5;241m.\u001b[39mconsts, \u001b[38;5;28;01mNone\u001b[39;00m)\n\u001b[1;32m   1517\u001b[0m   \u001b[38;5;28;01mreturn\u001b[39;00m out_flat, fastpath_data\n",
      "File \u001b[0;32m/opt/conda/envs/b3d/lib/python3.12/site-packages/jax/_src/pjit.py:1462\u001b[0m, in \u001b[0;36m_pjit_call_impl_python\u001b[0;34m(jaxpr, in_shardings, out_shardings, in_layouts, out_layouts, resource_env, donated_invars, name, keep_unused, inline, *args)\u001b[0m\n\u001b[1;32m   1454\u001b[0m   distributed_debug_log((\u001b[38;5;124m\"\u001b[39m\u001b[38;5;124mRunning pjit\u001b[39m\u001b[38;5;124m'\u001b[39m\u001b[38;5;124md function\u001b[39m\u001b[38;5;124m\"\u001b[39m, name),\n\u001b[1;32m   1455\u001b[0m                         (\u001b[38;5;124m\"\u001b[39m\u001b[38;5;124min_shardings\u001b[39m\u001b[38;5;124m\"\u001b[39m, in_shardings),\n\u001b[1;32m   1456\u001b[0m                         (\u001b[38;5;124m\"\u001b[39m\u001b[38;5;124mout_shardings\u001b[39m\u001b[38;5;124m\"\u001b[39m, out_shardings),\n\u001b[0;32m   (...)\u001b[0m\n\u001b[1;32m   1459\u001b[0m                         (\u001b[38;5;124m\"\u001b[39m\u001b[38;5;124mabstract args\u001b[39m\u001b[38;5;124m\"\u001b[39m, \u001b[38;5;28mmap\u001b[39m(xla\u001b[38;5;241m.\u001b[39mabstractify, args)),\n\u001b[1;32m   1460\u001b[0m                         (\u001b[38;5;124m\"\u001b[39m\u001b[38;5;124mfingerprint\u001b[39m\u001b[38;5;124m\"\u001b[39m, fingerprint))\n\u001b[1;32m   1461\u001b[0m \u001b[38;5;28;01mtry\u001b[39;00m:\n\u001b[0;32m-> 1462\u001b[0m   \u001b[38;5;28;01mreturn\u001b[39;00m \u001b[43mcompiled\u001b[49m\u001b[38;5;241;43m.\u001b[39;49m\u001b[43munsafe_call\u001b[49m\u001b[43m(\u001b[49m\u001b[38;5;241;43m*\u001b[39;49m\u001b[43margs\u001b[49m\u001b[43m)\u001b[49m, compiled\n\u001b[1;32m   1463\u001b[0m \u001b[38;5;28;01mexcept\u001b[39;00m \u001b[38;5;167;01mFloatingPointError\u001b[39;00m \u001b[38;5;28;01mas\u001b[39;00m e:\n\u001b[1;32m   1464\u001b[0m   \u001b[38;5;28;01massert\u001b[39;00m config\u001b[38;5;241m.\u001b[39mdebug_nans\u001b[38;5;241m.\u001b[39mvalue \u001b[38;5;129;01mor\u001b[39;00m config\u001b[38;5;241m.\u001b[39mdebug_infs\u001b[38;5;241m.\u001b[39mvalue  \u001b[38;5;66;03m# compiled_fun can only raise in this case\u001b[39;00m\n",
      "File \u001b[0;32m/opt/conda/envs/b3d/lib/python3.12/site-packages/jax/_src/profiler.py:335\u001b[0m, in \u001b[0;36mannotate_function.<locals>.wrapper\u001b[0;34m(*args, **kwargs)\u001b[0m\n\u001b[1;32m    332\u001b[0m \u001b[38;5;129m@wraps\u001b[39m(func)\n\u001b[1;32m    333\u001b[0m \u001b[38;5;28;01mdef\u001b[39;00m \u001b[38;5;21mwrapper\u001b[39m(\u001b[38;5;241m*\u001b[39margs, \u001b[38;5;241m*\u001b[39m\u001b[38;5;241m*\u001b[39mkwargs):\n\u001b[1;32m    334\u001b[0m   \u001b[38;5;28;01mwith\u001b[39;00m TraceAnnotation(name, \u001b[38;5;241m*\u001b[39m\u001b[38;5;241m*\u001b[39mdecorator_kwargs):\n\u001b[0;32m--> 335\u001b[0m     \u001b[38;5;28;01mreturn\u001b[39;00m \u001b[43mfunc\u001b[49m\u001b[43m(\u001b[49m\u001b[38;5;241;43m*\u001b[39;49m\u001b[43margs\u001b[49m\u001b[43m,\u001b[49m\u001b[43m \u001b[49m\u001b[38;5;241;43m*\u001b[39;49m\u001b[38;5;241;43m*\u001b[39;49m\u001b[43mkwargs\u001b[49m\u001b[43m)\u001b[49m\n\u001b[1;32m    336\u001b[0m   \u001b[38;5;28;01mreturn\u001b[39;00m wrapper\n",
      "File \u001b[0;32m/opt/conda/envs/b3d/lib/python3.12/site-packages/jax/_src/interpreters/pxla.py:1185\u001b[0m, in \u001b[0;36mExecuteReplicated.__call__\u001b[0;34m(self, *args)\u001b[0m\n\u001b[1;32m   1183\u001b[0m   \u001b[38;5;28mself\u001b[39m\u001b[38;5;241m.\u001b[39m_handle_token_bufs(result_token_bufs, sharded_runtime_token)\n\u001b[1;32m   1184\u001b[0m \u001b[38;5;28;01melse\u001b[39;00m:\n\u001b[0;32m-> 1185\u001b[0m   results \u001b[38;5;241m=\u001b[39m \u001b[38;5;28;43mself\u001b[39;49m\u001b[38;5;241;43m.\u001b[39;49m\u001b[43mxla_executable\u001b[49m\u001b[38;5;241;43m.\u001b[39;49m\u001b[43mexecute_sharded\u001b[49m\u001b[43m(\u001b[49m\u001b[43minput_bufs\u001b[49m\u001b[43m)\u001b[49m\n\u001b[1;32m   1186\u001b[0m \u001b[38;5;28;01mif\u001b[39;00m dispatch\u001b[38;5;241m.\u001b[39mneeds_check_special():\n\u001b[1;32m   1187\u001b[0m   out_arrays \u001b[38;5;241m=\u001b[39m results\u001b[38;5;241m.\u001b[39mdisassemble_into_single_device_arrays()\n",
      "\u001b[0;31mKeyboardInterrupt\u001b[0m: "
     ]
    }
   ],
   "source": [
    "# Tracking camera pose\n",
    "traces = {}\n",
    "for T in tqdm(range(START_T, len(all_data))):\n",
    "    rgbd = all_data[T][\"rgbd\"]\n",
    "    trace = b3d.update_choices(trace, Pytree.const((\"rgbd\",)), b3d.resize_image_nearest(rgbd, renderer.height, renderer.width))\n",
    "\n",
    "    saved_trace = trace\n",
    "    potential_traces = []\n",
    "    for var in [0.04, 0.02, 0.01]:\n",
    "        trace = saved_trace\n",
    "        trace, key = gvmf_and_select_best_move(\n",
    "            trace, key, var, 2000.0, \"camera_pose\", 700\n",
    "        )\n",
    "        potential_traces.append(trace)\n",
    "    trace = max(potential_traces, key=lambda x: x.get_score())\n",
    "    viz_trace(trace, T)\n",
    "    traces[T] = trace"
   ]
  },
  {
   "cell_type": "code",
   "execution_count": null,
   "metadata": {},
   "outputs": [
    {
     "name": "stdout",
     "output_type": "stream",
     "text": [
      "Trace  -10315.308\n",
      "GT Trace  -11480.306\n",
      "GT Greater than Inferred  False\n"
     ]
    }
   ],
   "source": [
    "T = 44\n",
    "trace = traces[T]\n",
    "gt_trace = b3d.update_choices(trace, Pytree.const((\"camera_pose\",)) , all_data[T][\"camera_pose\"])\n",
    "viz_trace(gt_trace, T)\n",
    "viz_trace(trace,T)\n",
    "print(\"Trace \", trace.get_score())\n",
    "print(\"GT Trace \", gt_trace.get_score())\n",
    "print(\"GT Greater than Inferred \", gt_trace.get_score() > trace.get_score())"
   ]
  },
  {
   "cell_type": "code",
   "execution_count": null,
   "metadata": {},
   "outputs": [
    {
     "data": {
      "image/jpeg": "[encoded data removed]",
      "image/png": "[encoded data removed]",
      "text/plain": [
       "<PIL.Image.Image image mode=RGB size=192x144>"
      ]
     },
     "execution_count": 214,
     "metadata": {},
     "output_type": "execute_result"
    }
   ],
   "source": [
    "T = 35\n",
    "OBJECT_INDEX = 2\n",
    "rgbd = renderer.render_rgbd_from_mesh(\n",
    "    meshes[OBJECT_INDEX].transform(\n",
    "        all_data[T][\"camera_pose\"].inv() @ \n",
    "        all_data[START_T][\"object_poses\"][OBJECT_INDEX]\n",
    "    )\n",
    ")\n",
    "original_rgbd = all_data[T][\"rgbd\"]\n",
    "b3d.overlay_image(b3d.viz_rgb(rgbd), b3d.viz_rgb(b3d.resize_image_nearest(original_rgbd[..., :3], renderer.height, renderer.width)))"
   ]
  },
  {
   "cell_type": "code",
   "execution_count": null,
   "metadata": {},
   "outputs": [],
   "source": []
  },
  {
   "cell_type": "markdown",
   "metadata": {},
   "source": [
    "# Tracking single object mesh"
   ]
  },
  {
   "cell_type": "code",
   "execution_count": 300,
   "metadata": {},
   "outputs": [
    {
     "name": "stdout",
     "output_type": "stream",
     "text": [
      "Mesh(vertices=(47160,), faces=(23580,), vertex_attributes=(47160,))\n",
      "-11437.878\n"
     ]
    }
   ],
   "source": [
    "START_T = 20\n",
    "\n",
    "# rgbd = all_data[START_T][\"rgbd\"]\n",
    "# point_cloud_colors = rgbd[..., :3].reshape(-1,3)\n",
    "# point_cloud = b3d.xyz_from_depth(rgbd[..., 3], fx, fy, cx, cy)\n",
    "# point_cloud = point_cloud.reshape(-1, 3)\n",
    "# key = jax.random.PRNGKey(0)\n",
    "# m = jax.random.choice(key, len(point_cloud), (len(point_cloud) // 20,), replace=False)\n",
    "# background_mesh = Mesh.mesh_from_xyz_colors_dimensions(\n",
    "#     point_cloud[m],  point_cloud_colors[m] , point_cloud[m][:, 2] / fx * 6.0\n",
    "# )\n",
    "# print(background_mesh)\n",
    "\n",
    "# learned_object_mesh = background_mesh.transform(all_data[START_T][\"camera_pose\"])\n",
    "\n",
    "OBJECT_INDEX = 1\n",
    "rgbd = all_data[START_T][\"rgbd\"]\n",
    "mask = all_data[START_T][\"masks\"][OBJECT_INDEX] == 1\n",
    "point_cloud = b3d.xyz_from_depth(rgbd[..., 3], fx, fy, cx, cy)[mask]\n",
    "point_cloud_colors = rgbd[..., :3][mask]\n",
    "subsample_mask = jax.random.choice(key, len(point_cloud), (len(point_cloud) // 3,), replace=False)\n",
    "learned_object_mesh = Mesh.mesh_from_xyz_colors_dimensions(\n",
    "    point_cloud[subsample_mask],  point_cloud_colors[subsample_mask] , point_cloud[subsample_mask][:, 2] / fx * 6.0\n",
    ")\n",
    "object_pose_in_camera_frame = all_data[START_T][\"camera_pose\"].inv() @ all_data[START_T][\"object_poses\"][OBJECT_INDEX]\n",
    "learned_object_mesh = learned_object_mesh.transform(object_pose_in_camera_frame.inv())\n",
    "print(learned_object_mesh)\n",
    "\n",
    "\n",
    "k = 5000\n",
    "keys = jax.random.split(key, 2 * k)\n",
    "rows = jax.vmap(genjax.categorical.sample,in_axes=(0, 0,))(\n",
    "        keys[:k],\n",
    "        jnp.ones((k, renderer.height)))\n",
    "cols = jax.vmap(genjax.categorical.sample,in_axes=(0, 0,))(\n",
    "        keys[k:],\n",
    "        jnp.ones((k, renderer.width)))\n",
    "args = ({\n",
    "    \"num_objects\": Pytree.const(2),\n",
    "    \"meshes\": [learned_object_mesh],\n",
    "    \"likelihood_args\": {\n",
    "        \"fx\": renderer.fx,\n",
    "        \"fy\": renderer.fy,\n",
    "        \"cx\": renderer.cx,\n",
    "        \"cy\": renderer.cy,\n",
    "        \"rows\":  rows,\n",
    "        \"cols\": cols,\n",
    "    },\n",
    "},)\n",
    "\n",
    "\n",
    "choicemap = genjax.ChoiceMap.d(\n",
    "    {\n",
    "        \"camera_pose\": Pose.identity(),\n",
    "        \"object_pose_0\": object_pose_in_camera_frame,\n",
    "        # \"object_pose_0\": all_data[T][\"object_poses\"][0],\n",
    "        \"color_variance_0\": 0.1,\n",
    "        \"depth_variance_0\": 0.005,\n",
    "        \"outlier_probability_0\": 0.1,\n",
    "        \"blur\": 2.0,\n",
    "    }\n",
    ")\n",
    "trace = importance_jit(key, choicemap, args)[0]\n",
    "\n",
    "rgbd = all_data[START_T][\"rgbd\"]\n",
    "trace = b3d.update_choices(trace, Pytree.const((\"rgbd\",)), b3d.resize_image_nearest(rgbd, renderer.height, renderer.width))\n",
    "print(trace.get_score())\n",
    "viz_trace(trace, START_T)"
   ]
  },
  {
   "cell_type": "code",
   "execution_count": 301,
   "metadata": {},
   "outputs": [
    {
     "name": "stderr",
     "output_type": "stream",
     "text": [
      "100%|██████████| 37/37 [00:59<00:00,  1.60s/it]\n"
     ]
    }
   ],
   "source": [
    "# Tracking camera pose\n",
    "traces = {}\n",
    "for T in tqdm(range(START_T, len(all_data))):\n",
    "    rgbd = all_data[T][\"rgbd\"]\n",
    "    trace = b3d.update_choices(trace, Pytree.const((\"rgbd\",)), b3d.resize_image_nearest(rgbd, renderer.height, renderer.width))\n",
    "\n",
    "    saved_trace = trace\n",
    "    potential_traces = []\n",
    "    for var in [0.04, 0.02, 0.01, 0.005]:\n",
    "        trace = saved_trace\n",
    "        for _ in range(3):\n",
    "            trace, key = gvmf_and_select_best_move(\n",
    "                trace, key, var, 2000.0, \"object_pose_0\", 1000\n",
    "            )\n",
    "        potential_traces.append(trace)\n",
    "    trace = max(potential_traces, key=lambda x: x.get_score())\n",
    "    viz_trace(trace, T)\n",
    "    traces[T] = trace"
   ]
  },
  {
   "cell_type": "code",
   "execution_count": 298,
   "metadata": {},
   "outputs": [
    {
     "name": "stdout",
     "output_type": "stream",
     "text": [
      "camera pose before Pose(position=Array([0.08481739, 0.06211757, 0.91221064], dtype=float32), quaternion=Array([ 0.13904771, -0.7891375 ,  0.58540183,  0.12342031], dtype=float32))\n",
      "camera pose after Pose(position=Array([0.12829743, 0.10331223, 0.9133683 ], dtype=float32), quaternion=Array([ 0.160932  , -0.773458  ,  0.5987974 ,  0.13155003], dtype=float32))\n",
      "Trace  -11418.604\n",
      "GT Trace  -11560.937\n",
      "GT Greater than Inferred  False\n"
     ]
    }
   ],
   "source": [
    "T = 35\n",
    "trace = traces[T]\n",
    "gt_trace = b3d.update_choices(trace, Pytree.const((\"camera_pose\",)) , all_data[T][\"camera_pose\"])\n",
    "viz_trace(gt_trace, T)\n",
    "viz_trace(trace,T)\n",
    "\n",
    "print(\"camera pose before\", all_data[T-1][\"camera_pose\"].inv() @ all_data[T-1][\"object_poses\"][OBJECT_INDEX])\n",
    "print(\"camera pose after\", all_data[T][\"camera_pose\"].inv() @ all_data[T][\"object_poses\"][OBJECT_INDEX])\n",
    "\n",
    "print(\"Trace \", trace.get_score())\n",
    "print(\"GT Trace \", gt_trace.get_score())\n",
    "print(\"GT Greater than Inferred \", gt_trace.get_score() > trace.get_score())"
   ]
  },
  {
   "cell_type": "code",
   "execution_count": null,
   "metadata": {},
   "outputs": [],
   "source": []
  },
  {
   "cell_type": "code",
   "execution_count": null,
   "metadata": {},
   "outputs": [],
   "source": []
  },
  {
   "cell_type": "code",
   "execution_count": null,
   "metadata": {},
   "outputs": [
    {
     "name": "stderr",
     "output_type": "stream",
     "text": [
      "  0%|          | 0/44 [00:00<?, ?it/s]"
     ]
    },
    {
     "name": "stdout",
     "output_type": "stream",
     "text": [
      "Mesh(vertices=(368640,), faces=(184320,), vertex_attributes=(368640,))\n"
     ]
    },
    {
     "name": "stderr",
     "output_type": "stream",
     "text": [
      "  2%|▏         | 1/44 [00:05<03:56,  5.50s/it]"
     ]
    },
    {
     "name": "stdout",
     "output_type": "stream",
     "text": [
      "Mesh(vertices=(368640,), faces=(184320,), vertex_attributes=(368640,))\n"
     ]
    },
    {
     "name": "stderr",
     "output_type": "stream",
     "text": [
      "  5%|▍         | 2/44 [00:11<03:53,  5.55s/it]"
     ]
    },
    {
     "name": "stdout",
     "output_type": "stream",
     "text": [
      "Mesh(vertices=(368640,), faces=(184320,), vertex_attributes=(368640,))\n"
     ]
    },
    {
     "name": "stderr",
     "output_type": "stream",
     "text": [
      "  7%|▋         | 3/44 [00:16<03:47,  5.54s/it]"
     ]
    },
    {
     "name": "stdout",
     "output_type": "stream",
     "text": [
      "Mesh(vertices=(368640,), faces=(184320,), vertex_attributes=(368640,))\n"
     ]
    },
    {
     "name": "stderr",
     "output_type": "stream",
     "text": [
      "  9%|▉         | 4/44 [00:22<03:42,  5.55s/it]"
     ]
    },
    {
     "name": "stdout",
     "output_type": "stream",
     "text": [
      "Mesh(vertices=(368640,), faces=(184320,), vertex_attributes=(368640,))\n"
     ]
    },
    {
     "name": "stderr",
     "output_type": "stream",
     "text": [
      " 11%|█▏        | 5/44 [00:27<03:37,  5.57s/it]"
     ]
    },
    {
     "name": "stdout",
     "output_type": "stream",
     "text": [
      "Mesh(vertices=(368640,), faces=(184320,), vertex_attributes=(368640,))\n"
     ]
    },
    {
     "name": "stderr",
     "output_type": "stream",
     "text": [
      " 14%|█▎        | 6/44 [00:33<03:32,  5.58s/it]"
     ]
    },
    {
     "name": "stdout",
     "output_type": "stream",
     "text": [
      "Mesh(vertices=(368640,), faces=(184320,), vertex_attributes=(368640,))\n"
     ]
    },
    {
     "name": "stderr",
     "output_type": "stream",
     "text": [
      " 16%|█▌        | 7/44 [00:39<03:26,  5.59s/it]"
     ]
    },
    {
     "name": "stdout",
     "output_type": "stream",
     "text": [
      "Mesh(vertices=(368640,), faces=(184320,), vertex_attributes=(368640,))\n"
     ]
    },
    {
     "name": "stderr",
     "output_type": "stream",
     "text": [
      " 18%|█▊        | 8/44 [00:44<03:21,  5.61s/it]"
     ]
    },
    {
     "name": "stdout",
     "output_type": "stream",
     "text": [
      "Mesh(vertices=(368640,), faces=(184320,), vertex_attributes=(368640,))\n"
     ]
    },
    {
     "name": "stderr",
     "output_type": "stream",
     "text": [
      " 20%|██        | 9/44 [00:50<03:16,  5.62s/it]"
     ]
    },
    {
     "name": "stdout",
     "output_type": "stream",
     "text": [
      "Mesh(vertices=(368640,), faces=(184320,), vertex_attributes=(368640,))\n"
     ]
    },
    {
     "name": "stderr",
     "output_type": "stream",
     "text": [
      " 23%|██▎       | 10/44 [00:55<03:11,  5.62s/it]"
     ]
    },
    {
     "name": "stdout",
     "output_type": "stream",
     "text": [
      "Mesh(vertices=(368640,), faces=(184320,), vertex_attributes=(368640,))\n"
     ]
    },
    {
     "name": "stderr",
     "output_type": "stream",
     "text": [
      " 25%|██▌       | 11/44 [01:01<03:06,  5.65s/it]"
     ]
    },
    {
     "name": "stdout",
     "output_type": "stream",
     "text": [
      "Mesh(vertices=(368640,), faces=(184320,), vertex_attributes=(368640,))\n"
     ]
    },
    {
     "name": "stderr",
     "output_type": "stream",
     "text": [
      " 27%|██▋       | 12/44 [01:07<03:00,  5.63s/it]"
     ]
    },
    {
     "name": "stdout",
     "output_type": "stream",
     "text": [
      "Mesh(vertices=(368640,), faces=(184320,), vertex_attributes=(368640,))\n"
     ]
    },
    {
     "name": "stderr",
     "output_type": "stream",
     "text": [
      " 30%|██▉       | 13/44 [01:12<02:54,  5.62s/it]"
     ]
    },
    {
     "name": "stdout",
     "output_type": "stream",
     "text": [
      "Mesh(vertices=(368640,), faces=(184320,), vertex_attributes=(368640,))\n"
     ]
    },
    {
     "name": "stderr",
     "output_type": "stream",
     "text": [
      " 32%|███▏      | 14/44 [01:18<02:48,  5.61s/it]"
     ]
    },
    {
     "name": "stdout",
     "output_type": "stream",
     "text": [
      "Mesh(vertices=(368640,), faces=(184320,), vertex_attributes=(368640,))\n"
     ]
    },
    {
     "name": "stderr",
     "output_type": "stream",
     "text": [
      " 34%|███▍      | 15/44 [01:23<02:42,  5.60s/it]"
     ]
    },
    {
     "name": "stdout",
     "output_type": "stream",
     "text": [
      "Mesh(vertices=(368640,), faces=(184320,), vertex_attributes=(368640,))\n"
     ]
    },
    {
     "name": "stderr",
     "output_type": "stream",
     "text": [
      " 36%|███▋      | 16/44 [01:29<02:36,  5.59s/it]"
     ]
    },
    {
     "name": "stdout",
     "output_type": "stream",
     "text": [
      "Mesh(vertices=(368640,), faces=(184320,), vertex_attributes=(368640,))\n"
     ]
    },
    {
     "name": "stderr",
     "output_type": "stream",
     "text": [
      " 39%|███▊      | 17/44 [01:35<02:30,  5.58s/it]"
     ]
    },
    {
     "name": "stdout",
     "output_type": "stream",
     "text": [
      "Mesh(vertices=(368640,), faces=(184320,), vertex_attributes=(368640,))\n"
     ]
    },
    {
     "name": "stderr",
     "output_type": "stream",
     "text": [
      " 41%|████      | 18/44 [01:40<02:25,  5.58s/it]"
     ]
    },
    {
     "name": "stdout",
     "output_type": "stream",
     "text": [
      "Mesh(vertices=(368640,), faces=(184320,), vertex_attributes=(368640,))\n"
     ]
    },
    {
     "name": "stderr",
     "output_type": "stream",
     "text": [
      " 43%|████▎     | 19/44 [01:46<02:19,  5.58s/it]"
     ]
    },
    {
     "name": "stdout",
     "output_type": "stream",
     "text": [
      "Mesh(vertices=(368640,), faces=(184320,), vertex_attributes=(368640,))\n"
     ]
    },
    {
     "name": "stderr",
     "output_type": "stream",
     "text": [
      " 45%|████▌     | 20/44 [01:51<02:13,  5.58s/it]"
     ]
    },
    {
     "name": "stdout",
     "output_type": "stream",
     "text": [
      "Mesh(vertices=(368640,), faces=(184320,), vertex_attributes=(368640,))\n"
     ]
    },
    {
     "name": "stderr",
     "output_type": "stream",
     "text": [
      " 48%|████▊     | 21/44 [01:57<02:08,  5.58s/it]"
     ]
    },
    {
     "name": "stdout",
     "output_type": "stream",
     "text": [
      "Mesh(vertices=(368640,), faces=(184320,), vertex_attributes=(368640,))\n"
     ]
    },
    {
     "name": "stderr",
     "output_type": "stream",
     "text": [
      " 50%|█████     | 22/44 [02:03<02:03,  5.62s/it]"
     ]
    },
    {
     "name": "stdout",
     "output_type": "stream",
     "text": [
      "Mesh(vertices=(368640,), faces=(184320,), vertex_attributes=(368640,))\n"
     ]
    },
    {
     "name": "stderr",
     "output_type": "stream",
     "text": [
      " 52%|█████▏    | 23/44 [02:08<01:57,  5.62s/it]"
     ]
    },
    {
     "name": "stdout",
     "output_type": "stream",
     "text": [
      "Mesh(vertices=(368640,), faces=(184320,), vertex_attributes=(368640,))\n"
     ]
    },
    {
     "name": "stderr",
     "output_type": "stream",
     "text": [
      " 55%|█████▍    | 24/44 [02:14<01:52,  5.62s/it]"
     ]
    },
    {
     "name": "stdout",
     "output_type": "stream",
     "text": [
      "Mesh(vertices=(368640,), faces=(184320,), vertex_attributes=(368640,))\n"
     ]
    },
    {
     "name": "stderr",
     "output_type": "stream",
     "text": [
      " 57%|█████▋    | 25/44 [02:19<01:46,  5.62s/it]"
     ]
    },
    {
     "name": "stdout",
     "output_type": "stream",
     "text": [
      "Mesh(vertices=(368640,), faces=(184320,), vertex_attributes=(368640,))\n"
     ]
    },
    {
     "name": "stderr",
     "output_type": "stream",
     "text": [
      " 59%|█████▉    | 26/44 [02:25<01:41,  5.62s/it]"
     ]
    },
    {
     "name": "stdout",
     "output_type": "stream",
     "text": [
      "Mesh(vertices=(368640,), faces=(184320,), vertex_attributes=(368640,))\n"
     ]
    },
    {
     "name": "stderr",
     "output_type": "stream",
     "text": [
      " 61%|██████▏   | 27/44 [02:31<01:35,  5.63s/it]"
     ]
    },
    {
     "name": "stdout",
     "output_type": "stream",
     "text": [
      "Mesh(vertices=(368640,), faces=(184320,), vertex_attributes=(368640,))\n"
     ]
    },
    {
     "name": "stderr",
     "output_type": "stream",
     "text": [
      " 64%|██████▎   | 28/44 [02:36<01:29,  5.62s/it]"
     ]
    },
    {
     "name": "stdout",
     "output_type": "stream",
     "text": [
      "Mesh(vertices=(368640,), faces=(184320,), vertex_attributes=(368640,))\n"
     ]
    },
    {
     "name": "stderr",
     "output_type": "stream",
     "text": [
      " 66%|██████▌   | 29/44 [02:42<01:24,  5.62s/it]"
     ]
    },
    {
     "name": "stdout",
     "output_type": "stream",
     "text": [
      "Mesh(vertices=(368640,), faces=(184320,), vertex_attributes=(368640,))\n"
     ]
    },
    {
     "name": "stderr",
     "output_type": "stream",
     "text": [
      " 68%|██████▊   | 30/44 [02:48<01:18,  5.62s/it]"
     ]
    },
    {
     "name": "stdout",
     "output_type": "stream",
     "text": [
      "Mesh(vertices=(368640,), faces=(184320,), vertex_attributes=(368640,))\n"
     ]
    },
    {
     "name": "stderr",
     "output_type": "stream",
     "text": [
      " 70%|███████   | 31/44 [02:53<01:13,  5.62s/it]"
     ]
    },
    {
     "name": "stdout",
     "output_type": "stream",
     "text": [
      "Mesh(vertices=(368640,), faces=(184320,), vertex_attributes=(368640,))\n"
     ]
    },
    {
     "name": "stderr",
     "output_type": "stream",
     "text": [
      " 73%|███████▎  | 32/44 [02:59<01:07,  5.61s/it]"
     ]
    },
    {
     "name": "stdout",
     "output_type": "stream",
     "text": [
      "Mesh(vertices=(368640,), faces=(184320,), vertex_attributes=(368640,))\n"
     ]
    },
    {
     "name": "stderr",
     "output_type": "stream",
     "text": [
      " 75%|███████▌  | 33/44 [03:05<01:02,  5.65s/it]"
     ]
    },
    {
     "name": "stdout",
     "output_type": "stream",
     "text": [
      "Mesh(vertices=(368640,), faces=(184320,), vertex_attributes=(368640,))\n"
     ]
    },
    {
     "name": "stderr",
     "output_type": "stream",
     "text": [
      " 77%|███████▋  | 34/44 [03:10<00:56,  5.64s/it]"
     ]
    },
    {
     "name": "stdout",
     "output_type": "stream",
     "text": [
      "Mesh(vertices=(368640,), faces=(184320,), vertex_attributes=(368640,))\n"
     ]
    },
    {
     "name": "stderr",
     "output_type": "stream",
     "text": [
      " 80%|███████▉  | 35/44 [03:16<00:50,  5.63s/it]"
     ]
    },
    {
     "name": "stdout",
     "output_type": "stream",
     "text": [
      "Mesh(vertices=(368640,), faces=(184320,), vertex_attributes=(368640,))\n"
     ]
    },
    {
     "name": "stderr",
     "output_type": "stream",
     "text": [
      " 82%|████████▏ | 36/44 [03:21<00:45,  5.63s/it]"
     ]
    },
    {
     "name": "stdout",
     "output_type": "stream",
     "text": [
      "Mesh(vertices=(368640,), faces=(184320,), vertex_attributes=(368640,))\n"
     ]
    },
    {
     "name": "stderr",
     "output_type": "stream",
     "text": [
      " 84%|████████▍ | 37/44 [03:27<00:39,  5.62s/it]"
     ]
    },
    {
     "name": "stdout",
     "output_type": "stream",
     "text": [
      "Mesh(vertices=(368640,), faces=(184320,), vertex_attributes=(368640,))\n"
     ]
    },
    {
     "name": "stderr",
     "output_type": "stream",
     "text": [
      " 86%|████████▋ | 38/44 [03:33<00:33,  5.61s/it]"
     ]
    },
    {
     "name": "stdout",
     "output_type": "stream",
     "text": [
      "Mesh(vertices=(368640,), faces=(184320,), vertex_attributes=(368640,))\n"
     ]
    },
    {
     "name": "stderr",
     "output_type": "stream",
     "text": [
      " 89%|████████▊ | 39/44 [03:38<00:28,  5.61s/it]"
     ]
    },
    {
     "name": "stdout",
     "output_type": "stream",
     "text": [
      "Mesh(vertices=(368640,), faces=(184320,), vertex_attributes=(368640,))\n"
     ]
    },
    {
     "name": "stderr",
     "output_type": "stream",
     "text": [
      " 91%|█████████ | 40/44 [03:44<00:22,  5.61s/it]"
     ]
    },
    {
     "name": "stdout",
     "output_type": "stream",
     "text": [
      "Mesh(vertices=(368640,), faces=(184320,), vertex_attributes=(368640,))\n"
     ]
    },
    {
     "name": "stderr",
     "output_type": "stream",
     "text": [
      " 93%|█████████▎| 41/44 [03:49<00:16,  5.61s/it]"
     ]
    },
    {
     "name": "stdout",
     "output_type": "stream",
     "text": [
      "Mesh(vertices=(368640,), faces=(184320,), vertex_attributes=(368640,))\n"
     ]
    },
    {
     "name": "stderr",
     "output_type": "stream",
     "text": [
      " 95%|█████████▌| 42/44 [03:55<00:11,  5.60s/it]"
     ]
    },
    {
     "name": "stdout",
     "output_type": "stream",
     "text": [
      "Mesh(vertices=(368640,), faces=(184320,), vertex_attributes=(368640,))\n"
     ]
    },
    {
     "name": "stderr",
     "output_type": "stream",
     "text": [
      " 98%|█████████▊| 43/44 [04:01<00:05,  5.60s/it]"
     ]
    },
    {
     "name": "stdout",
     "output_type": "stream",
     "text": [
      "Mesh(vertices=(368640,), faces=(184320,), vertex_attributes=(368640,))\n"
     ]
    },
    {
     "name": "stderr",
     "output_type": "stream",
     "text": [
      "100%|██████████| 44/44 [04:06<00:00,  5.61s/it]\n"
     ]
    }
   ],
   "source": [
    "traces = [trace]\n",
    "for T in tqdm(range(1, len(all_data))):\n",
    "\n",
    "    rgbd = all_data[T-1][\"rgbd\"]\n",
    "    point_cloud_colors = rgbd[..., :3].reshape(-1,3)\n",
    "    point_cloud = b3d.xyz_from_depth(rgbd[..., 3], fx, fy, cx, cy)\n",
    "    point_cloud = point_cloud.reshape(-1, 3)\n",
    "    key = jax.random.PRNGKey(0)\n",
    "    m = jax.random.choice(key, len(point_cloud), (len(point_cloud) // 20,), replace=False)\n",
    "    background_mesh = Mesh.mesh_from_xyz_colors_dimensions(\n",
    "        point_cloud[m],  point_cloud_colors[m] , point_cloud[m][:, 2] / fx * 6.0\n",
    "    )\n",
    "    print(background_mesh)\n",
    "    # background_mesh.rr_visualize(\"background_mesh\")\n",
    "    background_mesh = background_mesh.transform(trace.get_choices()[\"camera_pose\"])\n",
    "\n",
    "    args = ({\n",
    "        \"num_objects\": Pytree.const(1),\n",
    "        \"meshes\": [background_mesh],\n",
    "        \"likelihood_args\": {\n",
    "            \"fx\": renderer.fx,\n",
    "            \"fy\": renderer.fy,\n",
    "            \"cx\": renderer.cx,\n",
    "            \"cy\": renderer.cy,\n",
    "            \"rows\":  rows,\n",
    "            \"cols\": cols,\n",
    "        },\n",
    "    },)\n",
    "\n",
    "    rgbd = all_data[T][\"rgbd\"]\n",
    "    choicemap = genjax.ChoiceMap.d(\n",
    "        {\n",
    "            \"rgbd\": b3d.resize_image_nearest(rgbd, renderer.height, renderer.width),\n",
    "            \"camera_pose\": trace.get_choices()[\"camera_pose\"],\n",
    "            \"object_pose_0\": Pose.identity(),\n",
    "            \"color_variance_0\": 0.1,\n",
    "            \"depth_variance_0\": 0.001,\n",
    "            \"outlier_probability_0\": 0.1,\n",
    "            \"blur\": 0.5,\n",
    "        }\n",
    "    )\n",
    "    trace = importance_jit(key, choicemap, args)[0]\n",
    "    rgbd = all_data[T][\"rgbd\"]\n",
    "    trace = b3d.update_choices(trace, Pytree.const((\"rgbd\",)), b3d.resize_image_nearest(rgbd, renderer.height, renderer.width))\n",
    "\n",
    "    for _ in range(5):\n",
    "        var = 0.01\n",
    "        trace, key = gvmf_and_select_best_move(\n",
    "            trace, key, var, 2000.0, \"camera_pose\", 700\n",
    "        )\n",
    "    for _ in range(10):\n",
    "        var = 0.01\n",
    "        trace, key = gvmf_and_select_best_move(\n",
    "            trace, key, var, 2000.0, \"camera_pose\", 700\n",
    "        )\n",
    "    viz_trace(trace, T)\n",
    "\n",
    "    traces.append(trace)\n",
    "    "
   ]
  },
  {
   "cell_type": "code",
   "execution_count": null,
   "metadata": {},
   "outputs": [
    {
     "data": {
      "image/jpeg": "[encoded data removed]",
      "image/png": "[encoded data removed]",
      "text/plain": [
       "<PIL.Image.Image image mode=RGB size=192x144>"
      ]
     },
     "execution_count": 94,
     "metadata": {},
     "output_type": "execute_result"
    }
   ],
   "source": []
  },
  {
   "cell_type": "code",
   "execution_count": null,
   "metadata": {},
   "outputs": [
    {
     "name": "stderr",
     "output_type": "stream",
     "text": [
      " 56%|█████▌    | 25/45 [00:48<00:38,  1.94s/it]\n"
     ]
    },
    {
     "ename": "KeyboardInterrupt",
     "evalue": "",
     "output_type": "error",
     "traceback": [
      "\u001b[0;31m---------------------------------------------------------------------------\u001b[0m",
      "\u001b[0;31mKeyboardInterrupt\u001b[0m                         Traceback (most recent call last)",
      "Cell \u001b[0;32mIn[50], line 8\u001b[0m\n\u001b[1;32m      6\u001b[0m \u001b[38;5;28;01mfor\u001b[39;00m _ \u001b[38;5;129;01min\u001b[39;00m \u001b[38;5;28mrange\u001b[39m(\u001b[38;5;241m5\u001b[39m):\n\u001b[1;32m      7\u001b[0m     var \u001b[38;5;241m=\u001b[39m \u001b[38;5;241m0.005\u001b[39m\n\u001b[0;32m----> 8\u001b[0m     trace, key \u001b[38;5;241m=\u001b[39m \u001b[43mgvmf_and_select_best_move\u001b[49m\u001b[43m(\u001b[49m\n\u001b[1;32m      9\u001b[0m \u001b[43m        \u001b[49m\u001b[43mtrace\u001b[49m\u001b[43m,\u001b[49m\u001b[43m \u001b[49m\u001b[43mkey\u001b[49m\u001b[43m,\u001b[49m\u001b[43m \u001b[49m\u001b[43mvar\u001b[49m\u001b[43m,\u001b[49m\u001b[43m \u001b[49m\u001b[38;5;241;43m2000.0\u001b[39;49m\u001b[43m,\u001b[49m\u001b[43m \u001b[49m\u001b[38;5;124;43m\"\u001b[39;49m\u001b[38;5;124;43mcamera_pose\u001b[39;49m\u001b[38;5;124;43m\"\u001b[39;49m\u001b[43m,\u001b[49m\u001b[43m \u001b[49m\u001b[38;5;241;43m700\u001b[39;49m\n\u001b[1;32m     10\u001b[0m \u001b[43m    \u001b[49m\u001b[43m)\u001b[49m\n\u001b[1;32m     11\u001b[0m viz_trace(trace, T)\n\u001b[1;32m     13\u001b[0m traces\u001b[38;5;241m.\u001b[39mappend(trace)\n",
      "File \u001b[0;32m/opt/conda/envs/b3d/lib/python3.12/site-packages/penzai/core/struct.py:630\u001b[0m, in \u001b[0;36mStruct.tree_unflatten\u001b[0;34m(cls, aux_data, children)\u001b[0m\n\u001b[1;32m    627\u001b[0m       children\u001b[38;5;241m.\u001b[39mappend(value)\n\u001b[1;32m    628\u001b[0m   \u001b[38;5;28;01mreturn\u001b[39;00m children, StructStaticMetadata(child_field_names, static_fields)\n\u001b[0;32m--> 630\u001b[0m \u001b[38;5;129m@typing\u001b[39m\u001b[38;5;241m.\u001b[39mfinal\n\u001b[1;32m    631\u001b[0m \u001b[38;5;129m@classmethod\u001b[39m\n\u001b[1;32m    632\u001b[0m \u001b[38;5;28;01mdef\u001b[39;00m \u001b[38;5;21mtree_unflatten\u001b[39m(\u001b[38;5;28mcls\u001b[39m, aux_data: Any, children: Sequence[Any]) \u001b[38;5;241m-\u001b[39m\u001b[38;5;241m>\u001b[39m Struct:\n\u001b[1;32m    633\u001b[0m \u001b[38;5;250m  \u001b[39m\u001b[38;5;124;03m\"\"\"Unflattens this tree node.\u001b[39;00m\n\u001b[1;32m    634\u001b[0m \n\u001b[1;32m    635\u001b[0m \u001b[38;5;124;03m  See `jax.tree_util.register_pytree_with_keys_class`.\u001b[39;00m\n\u001b[0;32m   (...)\u001b[0m\n\u001b[1;32m    649\u001b[0m \u001b[38;5;124;03m    An instance of the struct.\u001b[39;00m\n\u001b[1;32m    650\u001b[0m \u001b[38;5;124;03m  \"\"\"\u001b[39;00m\n\u001b[1;32m    651\u001b[0m   \u001b[38;5;28;01massert\u001b[39;00m \u001b[38;5;28misinstance\u001b[39m(aux_data, StructStaticMetadata)\n",
      "\u001b[0;31mKeyboardInterrupt\u001b[0m: "
     ]
    }
   ],
   "source": [
    "traces = [trace]\n",
    "for T in tqdm(range(len(all_data))):\n",
    "    rgbd = all_data[T][\"rgbd\"]\n",
    "    trace = b3d.update_choices(trace, Pytree.const((\"rgbd\",)), b3d.resize_image_nearest(rgbd, renderer.height, renderer.width))\n",
    "\n",
    "    for _ in range(5):\n",
    "        var = 0.005\n",
    "        trace, key = gvmf_and_select_best_move(\n",
    "            trace, key, var, 2000.0, \"camera_pose\", 700\n",
    "        )\n",
    "    viz_trace(trace, T)\n",
    "\n",
    "    traces.append(trace)\n",
    "    "
   ]
  },
  {
   "cell_type": "code",
   "execution_count": null,
   "metadata": {},
   "outputs": [],
   "source": [
    "\n",
    "# color_variance_sweep = jnp.linspace(0.05, 0.4, 5)\n",
    "# outlier_probability_sweep = jnp.linspace(0.01, 0.4, 10)\n",
    "# blur_sweep = jnp.linspace(0.001, 50.0, 30)\n",
    "\n",
    "# key = b3d.split_key(key)\n",
    "# addresses= Pytree.const((\"color_variance_0\",\"outlier_probability_0\",\"blur\"))\n",
    "# sweeps = [color_variance_sweep, outlier_probability_sweep, blur_sweep]\n",
    "# scores = b3d.utils.grid_trace(\n",
    "#     trace,\n",
    "#     addresses,\n",
    "#     sweeps,\n",
    "# )\n",
    "# index = jnp.unravel_index(scores.argmax(), scores.shape)\n",
    "\n",
    "# sampled_indices = jax.vmap(jnp.unravel_index, in_axes=(0, None))(\n",
    "#     jax.random.categorical(key, scores.reshape(-1), shape=(1000,)), scores.shape\n",
    "# )\n",
    "# sampled_parameters = jnp.vstack(\n",
    "#     [sweep[indices] for indices, sweep in zip(sampled_indices, sweeps)]\n",
    "# ).T\n",
    "# print(sampled_parameters)\n",
    "# trace = b3d.update_choices(trace, addresses, *sampled_parameters[0])\n",
    "# trace0 = trace\n"
   ]
  },
  {
   "cell_type": "code",
   "execution_count": null,
   "metadata": {},
   "outputs": [
    {
     "name": "stderr",
     "output_type": "stream",
     "text": [
      "  0%|          | 0/8 [00:00<?, ?it/s]"
     ]
    },
    {
     "name": "stderr",
     "output_type": "stream",
     "text": [
      "100%|██████████| 8/8 [00:37<00:00,  4.75s/it]\n"
     ]
    }
   ],
   "source": [
    "# gvmf_and_select_best_move = b3d.bayes3d.enumerative_proposals.gvmf_and_select_best_move\n",
    "# tracking_results = {}\n",
    "\n",
    "# t = 0\n",
    "\n",
    "# saved_trace = trace\n",
    "# potential_traces = []\n",
    "# for var in tqdm([0.03, 0.02, 0.01, 0.005, 0.03, 0.02, 0.01, 0.005]):\n",
    "#     trace = saved_trace\n",
    "\n",
    "#     trace, key = gvmf_and_select_best_move(\n",
    "#         trace, key, var, 700.0, \"camera_pose\", 700\n",
    "#     )\n",
    "#     trace, key = gvmf_and_select_best_move(\n",
    "#         trace, key, var, 700.0, \"camera_pose\", 700\n",
    "#     )\n",
    "#     trace, key = gvmf_and_select_best_move(\n",
    "#         trace, key, var, 1000.0, \"camera_pose\", 700\n",
    "#     )\n",
    "#     trace, key = gvmf_and_select_best_move(\n",
    "#         trace, key, var, 1000.0, \"camera_pose\", 700\n",
    "#     )\n",
    "\n",
    "#     potential_traces.append(trace)\n",
    "# scores = jnp.array([t.get_score() for t in potential_traces])\n",
    "# trace = potential_traces[scores.argmax()]\n",
    "# tracking_results[t] = trace\n",
    "# prin(trace.get_score())\n",
    "# viz_trace(trace, t)"
   ]
  },
  {
   "cell_type": "code",
   "execution_count": null,
   "metadata": {},
   "outputs": [
    {
     "name": "stdout",
     "output_type": "stream",
     "text": [
      "Pose(position=Array([ 0.6119743 , -0.5681531 ,  0.35543242], dtype=float32), quaternion=Array([ 0.7359642 ,  0.34018153, -0.2612223 , -0.5238284 ], dtype=float32))\n",
      "Pose(position=Array([ 0.628628 , -0.5580711,  0.350356 ], dtype=float32), quaternion=Array([ 0.72794473,  0.3531367 , -0.26430002, -0.5249157 ], dtype=float32))\n",
      "[3110574731 3425328128]\n",
      "1485.7969\n"
     ]
    }
   ],
   "source": []
  },
  {
   "cell_type": "code",
   "execution_count": null,
   "metadata": {},
   "outputs": [
    {
     "name": "stdout",
     "output_type": "stream",
     "text": [
      "1594.9683\n",
      "1498.501\n"
     ]
    }
   ],
   "source": [
    "addresses= Pytree.const((\"color_variance_0\",\"depth_variance_0\",\"outlier_probability_0\",\"blur\"))\n",
    "# trace = b3d.update_choices(trace, addresses,\n",
    "#                            0.05, 0.0005, 0.1, 10.0)\n",
    "print(trace.get_score())\n",
    "gt_trace = b3d.update_choices(trace, Pytree.const((\"camera_pose\",)) , all_data[T][\"camera_pose\"])\n",
    "print(gt_trace.get_score())\n",
    "viz_trace(trace)\n",
    "viz_trace(gt_trace, 1)\n",
    "\n",
    "info_trace, info_gt_trace = info_from_trace(trace), info_from_trace(gt_trace)\n",
    "b3d.rr_log_depth(\"rgb/better\", (info_trace[\"pixelwise_score\"] > info_gt_trace[\"pixelwise_score\"])  *  (info_trace[\"pixelwise_score\"] - info_gt_trace[\"pixelwise_score\"])* 1.0)\n",
    "b3d.rr_log_rgbd(\"rgb/gt_latent\", gt_trace.get_retval()[\"latent_rgbd\"])\n",
    "# plt.matshow(info_trace[\"pixelwise_score\"]"
   ]
  },
  {
   "cell_type": "code",
   "execution_count": null,
   "metadata": {},
   "outputs": [
    {
     "name": "stdout",
     "output_type": "stream",
     "text": [
      "1.5644295 -1.1604867\n",
      "[0. 0. 0. 0.] [0. 0. 0. 0.]\n"
     ]
    }
   ],
   "source": [
    "i,j = 81,64\n",
    "print(info_trace[\"pixelwise_score\"][i,j], info_gt_trace[\"pixelwise_score\"][i,j])\n",
    "print(trace.get_retval()[\"latent_rgbd\"][i,j], gt_trace.get_retval()[\"latent_rgbd\"][i,j])\n"
   ]
  },
  {
   "cell_type": "code",
   "execution_count": null,
   "metadata": {},
   "outputs": [
    {
     "data": {
      "text/plain": [
       "Array(-20.288393, dtype=float32)"
      ]
     },
     "execution_count": 35,
     "metadata": {},
     "output_type": "execute_result"
    }
   ],
   "source": [
    "trace_focus = trace\n",
    "# trace_focus = gt_trace\n",
    "color_variance = trace_focus.get_choices()[\"color_variance_0\"]\n",
    "depth_variance = trace_focus.get_choices()[\"depth_variance_0\"]\n",
    "scores_inlier = genjax.truncated_normal.logpdf(\n",
    "    trace_focus.get_choices()[\"rgbd\"][i,j, :],\n",
    "    trace_focus.get_retval()[\"latent_rgbd\"][i,j,:],\n",
    "    jnp.array([color_variance, color_variance, color_variance, depth_variance]),\n",
    "    0.0,\n",
    "    1.0,\n",
    ").sum(-1)\n",
    "scores_inlier"
   ]
  },
  {
   "cell_type": "code",
   "execution_count": null,
   "metadata": {},
   "outputs": [
    {
     "data": {
      "text/plain": [
       "Array(-1.1604877, dtype=float32)"
      ]
     },
     "execution_count": 27,
     "metadata": {},
     "output_type": "execute_result"
    }
   ],
   "source": [
    "jnp.log(trace.get_choices()[\"outlier_probability_0\"])"
   ]
  },
  {
   "cell_type": "code",
   "execution_count": null,
   "metadata": {},
   "outputs": [],
   "source": [
    "sampled_trace = (importance_jit(\n",
    "    key,\n",
    "    trace.get_choices().filter( ~S[\"rgbd\"]),\n",
    "    trace.get_args(),\n",
    ")[0])\n",
    "viz_trace(sampled_trace)"
   ]
  },
  {
   "cell_type": "code",
   "execution_count": null,
   "metadata": {},
   "outputs": [],
   "source": [
    "viz_trace(gt_trace)"
   ]
  },
  {
   "cell_type": "code",
   "execution_count": null,
   "metadata": {},
   "outputs": [
    {
     "name": "stdout",
     "output_type": "stream",
     "text": [
      "1.349655 -2.3011475\n",
      "[ 0.  0.  0. -0.] [0. 0. 0. 0.]\n"
     ]
    }
   ],
   "source": [
    "i,j = 37, 65\n",
    "print(info_trace[\"pixelwise_score\"][i,j], info_gt_trace[\"pixelwise_score\"][i,j])\n",
    "print(trace.get_retval()[\"latent_rgbd\"][i,j], gt_trace.get_retval()[\"latent_rgbd\"][i,j])"
   ]
  },
  {
   "cell_type": "code",
   "execution_count": null,
   "metadata": {},
   "outputs": [],
   "source": [
    "b3d.rr_log_depth(\"rgb/latent_diff\", (info_trace[\"pixelwise_score\"] - info_gt_trace[\"pixelwise_score\"]))\n",
    "b3d.rr_log_rgb(\"rgb/gt_trace\", gt_trace.get_retval()[\"latent_rgbd\"][...,:3])"
   ]
  },
  {
   "cell_type": "code",
   "execution_count": null,
   "metadata": {},
   "outputs": [
    {
     "name": "stdout",
     "output_type": "stream",
     "text": [
      "3562.708\n"
     ]
    }
   ],
   "source": [
    "viz_trace(gt_trace)\n",
    "print(gt_trace.get_score())"
   ]
  },
  {
   "cell_type": "code",
   "execution_count": null,
   "metadata": {},
   "outputs": [
    {
     "data": {
      "text/plain": [
       "<matplotlib.colorbar.Colorbar at 0x7f944baa2270>"
      ]
     },
     "execution_count": 76,
     "metadata": {},
     "output_type": "execute_result"
    },
    {
     "data": {
      "image/png": "[encoded data removed]",
      "text/plain": [
       "<Figure size 640x480 with 2 Axes>"
      ]
     },
     "metadata": {},
     "output_type": "display_data"
    }
   ],
   "source": []
  },
  {
   "cell_type": "code",
   "execution_count": null,
   "metadata": {},
   "outputs": [],
   "source": []
  }
 ],
 "metadata": {
  "kernelspec": {
   "display_name": "b3d",
   "language": "python",
   "name": "python3"
  },
  "language_info": {
   "codemirror_mode": {
    "name": "ipython",
    "version": 3
   },
   "file_extension": ".py",
   "mimetype": "text/x-python",
   "name": "python",
   "nbconvert_exporter": "python",
   "pygments_lexer": "ipython3",
   "version": "3.12.4"
  }
 },
 "nbformat": 4,
 "nbformat_minor": 2
}
