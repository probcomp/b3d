{
 "cells": [
  {
   "cell_type": "code",
   "execution_count": 627,
   "metadata": {},
   "outputs": [],
   "source": [
    "import b3d\n",
    "import jax.numpy as jnp\n",
    "import jax\n",
    "from b3d import Mesh, Pose\n",
    "import os\n",
    "import functools\n",
    "import genjax\n",
    "import matplotlib.pyplot as plt\n",
    "from genjax import Pytree"
   ]
  },
  {
   "cell_type": "code",
   "execution_count": 623,
   "metadata": {},
   "outputs": [],
   "source": [
    "renderer = b3d.renderer.RendererOriginal()"
   ]
  },
  {
   "cell_type": "code",
   "execution_count": 634,
   "metadata": {},
   "outputs": [],
   "source": [
    "b3d.rr_init()"
   ]
  },
  {
   "cell_type": "code",
   "execution_count": 625,
   "metadata": {},
   "outputs": [
    {
     "data": {
      "image/jpeg": "[encoded data removed]",
      "image/png": "[encoded data removed]",
      "text/plain": [
       "<PIL.Image.Image image mode=RGB size=100x100>"
      ]
     },
     "execution_count": 625,
     "metadata": {},
     "output_type": "execute_result"
    }
   ],
   "source": [
    "ycb_dir = os.path.join(b3d.get_assets_path(), \"bop/ycbv\")\n",
    "id = 4\n",
    "mesh = Mesh.from_obj_file(\n",
    "        os.path.join(ycb_dir, f'models/obj_{f\"{id + 1}\".rjust(6, \"0\")}.ply')\n",
    "    ).scale(0.001)\n",
    "gt_pose = Pose.from_position_and_target(jnp.array([0.25, 0.25, 0.2])).inv()\n",
    "observed_rgbd = renderer.render_rgbd_from_mesh(mesh.transform(gt_pose))\n",
    "b3d.viz_rgb(observed_rgbd)"
   ]
  },
  {
   "cell_type": "code",
   "execution_count": 661,
   "metadata": {},
   "outputs": [],
   "source": [
    "import b3d.chisight.dense.dense_model\n",
    "b3d.reload(b3d.chisight.dense.dense_model)\n",
    "b3d.reload(b3d.utils)\n",
    "import b3d.chisight.dense.likelihoods.blur_likelihood\n",
    "b3d.reload(b3d.chisight.dense.likelihoods.blur_likelihood)\n",
    "intermediate_likelihood_func = b3d.chisight.dense.likelihoods.blur_likelihood.blur_intermediate_likelihood_func\n",
    "# blur_intermediate_sample_func = b3d.chisight.dense.likelihoods.blur_likelihood.blur_intermediate_sample_func\n",
    "model, viz_trace, info_from_trace = (\n",
    "    b3d.chisight.dense.dense_model.make_dense_multiobject_model(\n",
    "        renderer, intermediate_likelihood_func\n",
    "    )\n",
    ")\n",
    "importance_jit = jax.jit(model.importance)\n",
    "value_and_grad_func = jax.jit(\n",
    "    jax.value_and_grad(\n",
    "        lambda trace, pose: b3d.update_choices_get_score(trace, Pytree.const((\"object_pose_0\",)), pose),\n",
    "        argnums=1\n",
    "    )\n",
    ")"
   ]
  },
  {
   "cell_type": "code",
   "execution_count": 670,
   "metadata": {},
   "outputs": [],
   "source": [
    "filter_half_width = 4\n",
    "\n",
    "k = 1000\n",
    "rows = jax.vmap(genjax.categorical.sample,in_axes=(0, 0,))(\n",
    "        jax.random.split(jax.random.PRNGKey(10), k),\n",
    "        jnp.ones((k, renderer.height - (filter_half_width * 2 + 1)))) + filter_half_width\n",
    "cols = jax.vmap(genjax.categorical.sample,in_axes=(0, 0,))(\n",
    "        jax.random.split(jax.random.PRNGKey(11), k),\n",
    "        jnp.ones((k, renderer.width  - (filter_half_width * 2 + 1)))) + filter_half_width\n",
    "\n",
    "\n",
    "args = ({\n",
    "    \"num_objects\": Pytree.const(1),\n",
    "    \"meshes\": [mesh],\n",
    "    \"likelihood_args\": {\n",
    "        \"fx\": renderer.fx,\n",
    "        \"fy\": renderer.fy,\n",
    "        \"cx\": renderer.cx,\n",
    "        \"cy\": renderer.cy,\n",
    "        \"rows\":  rows,\n",
    "        \"cols\": cols,\n",
    "    },\n",
    "},)\n",
    "\n",
    "pose = gt_pose\n",
    "pose = Pose.from_position_and_target(jnp.array([0.3, 0.2, 0.0])).inv()\n",
    "\n",
    "choicemap = genjax.ChoiceMap.d(\n",
    "    {\n",
    "        \"camera_pose\": Pose.identity(),\n",
    "        \"object_pose_0\": pose,\n",
    "        # \"object_pose_0\": all_data[T][\"object_poses\"][0],\n",
    "        \"color_variance_0\": 0.05,\n",
    "        \"depth_variance_0\": 0.01,\n",
    "        \"outlier_probability_0\": 0.01,\n",
    "        \"blur\": 1.5,\n",
    "    }\n",
    ")\n",
    "key = jax.random.PRNGKey(10)\n",
    "trace = importance_jit(key, choicemap, args)[0]\n",
    "trace = b3d.update_choices(trace, Pytree.const((\"rgbd\",)), b3d.resize_image_nearest(observed_rgbd, renderer.height, renderer.width))\n",
    "viz_trace(trace, 0)"
   ]
  },
  {
   "cell_type": "code",
   "execution_count": 671,
   "metadata": {},
   "outputs": [
    {
     "name": "stdout",
     "output_type": "stream",
     "text": [
      "21.777847\n",
      "[[ 0.4        32.793102  ]\n",
      " [ 0.37310344 34.513794  ]\n",
      " [ 0.4        48.27931   ]\n",
      " [ 0.4        36.234486  ]\n",
      " [ 0.4        36.234486  ]]\n"
     ]
    }
   ],
   "source": [
    "# hierachical bayes inference of  \"outlier_probability_0\", \"blur\"\n",
    "outlier_probability_sweep = jnp.linspace(0.01, 0.4, 30)\n",
    "blur_sweep = jnp.linspace(0.1, 50.0, 30)\n",
    "addresses= Pytree.const(( \"outlier_probability_0\", \"blur\"))\n",
    "sweeps = [ outlier_probability_sweep, blur_sweep]\n",
    "scores = b3d.utils.grid_trace(\n",
    "    trace,\n",
    "    addresses,\n",
    "    sweeps,\n",
    ")\n",
    "print(scores.max())\n",
    "index = jnp.unravel_index(scores.argmax(), scores.shape)\n",
    "\n",
    "sampled_indices = jax.vmap(jnp.unravel_index, in_axes=(0, None))(\n",
    "    jax.random.categorical(key, scores.reshape(-1), shape=(1000,)), scores.shape\n",
    ")\n",
    "sampled_parameters = jnp.vstack(\n",
    "    [sweep[indices] for indices, sweep in zip(sampled_indices, sweeps)]\n",
    ").T\n",
    "\n",
    "print(sampled_parameters[:5])\n",
    "\n",
    "trace = b3d.update_choices(trace, addresses, *sampled_parameters[0])\n",
    "viz_trace(trace,0)"
   ]
  },
  {
   "cell_type": "code",
   "execution_count": 672,
   "metadata": {},
   "outputs": [
    {
     "name": "stderr",
     "output_type": "stream",
     "text": [
      "Loss 434.9935607910156: 100%|██████████| 1000/1000 [00:06<00:00, 156.74it/s]\n"
     ]
    }
   ],
   "source": [
    "pbar = tqdm(range(1000))\n",
    "for _ in pbar:\n",
    "    loss, grad_pose = value_and_grad_func(trace, trace.get_choices()[\"object_pose_0\"])\n",
    "    pbar.set_description(f\"Loss {loss}\")\n",
    "    trace = b3d.update_choices(trace, Pytree.const((\"object_pose_0\",)), trace.get_choices()[\"object_pose_0\"] + grad_pose * 0.000001)\n",
    "viz_trace(trace, 0)\n"
   ]
  },
  {
   "cell_type": "code",
   "execution_count": 650,
   "metadata": {},
   "outputs": [],
   "source": []
  },
  {
   "cell_type": "code",
   "execution_count": 597,
   "metadata": {},
   "outputs": [],
   "source": [
    "# pose = gt_pose\n",
    "\n",
    "# filter_half_width = 5\n",
    "# k = 1000\n",
    "# rows = jax.vmap(genjax.categorical.sample,in_axes=(0, 0,))(\n",
    "#         jax.random.split(jax.random.PRNGKey(10), k),\n",
    "#         jnp.ones((k, renderer.height - (filter_half_width * 2 + 1)))) + filter_half_width\n",
    "# cols = jax.vmap(genjax.categorical.sample,in_axes=(0, 0,))(\n",
    "#         jax.random.split(jax.random.PRNGKey(11), k),\n",
    "#         jnp.ones((k, renderer.width  - (filter_half_width * 2 + 1)))) + filter_half_width\n",
    "\n",
    "\n",
    "# def render(pose):\n",
    "#     mesh_transformed = mesh.transform(pose)\n",
    "#     fx,fy,cx,cy = renderer.fx, renderer.fy, renderer.cx, renderer.cy\n",
    "\n",
    "#     rasterize_results = renderer.rasterize(mesh_transformed.vertices, mesh_transformed.faces)\n",
    "#     triangle_collision_indices_image = rasterize_results[..., 3].astype(jnp.int32) - 1\n",
    "#     valid = triangle_collision_indices_image >= 0\n",
    "\n",
    "#     far_plane_xyz = b3d.xyz_from_depth(jnp.ones((renderer.height, renderer.width)), fx, fy, cx, cy)\n",
    "#     vertices_mean_image = (\n",
    "#         valid[...,None] * mesh_transformed.vertices[mesh_transformed.faces[triangle_collision_indices_image]].mean(axis=-2) +\n",
    "#         ~valid[...,None] * far_plane_xyz\n",
    "#     )\n",
    "#     colors_image = renderer.render_rgbd_from_mesh(mesh_transformed)[..., :3]\n",
    "\n",
    "\n",
    "\n",
    "#     color_variance = 0.05\n",
    "#     depth_variance = 0.01\n",
    "\n",
    "#     sigma = 1.5\n",
    "#     outlier_probability = 0.01\n",
    "\n",
    "\n",
    "#     ###########\n",
    "#     @functools.partial(\n",
    "#         jnp.vectorize,\n",
    "#         signature=\"(m)->()\",\n",
    "#     )\n",
    "#     def score_pixel(ij):\n",
    "#         lower_indices = (ij[0] - filter_half_width, ij[1] - filter_half_width, 0)\n",
    "#         length = (2 * filter_half_width + 1, 2 * filter_half_width + 1, 3)\n",
    "#         vertices_mean_window = jax.lax.dynamic_slice(\n",
    "#             vertices_mean_image,\n",
    "#             lower_indices, length\n",
    "#         )\n",
    "#         colors_window = jax.lax.dynamic_slice(\n",
    "#             colors_image,\n",
    "#             lower_indices, length\n",
    "#         )\n",
    "#         valid_window = jax.lax.dynamic_slice(\n",
    "#             valid,\n",
    "#             lower_indices[:2], length[:2]\n",
    "#         )\n",
    "\n",
    "#         observed_color = observed_rgbd[ij[0], ij[1], :3]\n",
    "#         observed_depth = observed_rgbd[ij[0], ij[1], 3]\n",
    "#         depth_probability = jax.scipy.stats.norm.logpdf(\n",
    "#             observed_depth,\n",
    "#             vertices_mean_window[..., 2],\n",
    "#             depth_variance,\n",
    "#         )\n",
    "#         color_probability = jax.scipy.stats.norm.logpdf(\n",
    "#             observed_color,\n",
    "#             colors_window,\n",
    "#             color_variance,\n",
    "#         )\n",
    "#         probability = color_probability.sum(-1) + depth_probability\n",
    "#         # error = jnp.abs(colors_window - observed_color)\n",
    "#         # inliers = jnp.all(\n",
    "#         #     error\n",
    "#         #     < jnp.array(\n",
    "#         #         [color_variance, color_variance, color_variance]\n",
    "#         #     ),\n",
    "#         #     axis=-1,\n",
    "#         # )\n",
    "\n",
    "#         scores_inlier = (valid_window * probability)\n",
    "\n",
    "#         pixel_coordinates = b3d.xyz_to_pixel_coordinates(vertices_mean_window, fx, fy, cx, cy)\n",
    "\n",
    "#         _log_kernel = (((pixel_coordinates - ij)**2).sum(-1) * -1.0  / (2.0 * sigma**2))\n",
    "#         log_kernel = _log_kernel - jax.nn.logsumexp(_log_kernel)\n",
    "#         log_kernel = log_kernel - jax.nn.logsumexp(log_kernel)\n",
    "\n",
    "#         score_mixed = jax.nn.logsumexp(scores_inlier + log_kernel)\n",
    "#         final_score = jnp.logaddexp(\n",
    "#             score_mixed + jnp.log(1.0 - outlier_probability),\n",
    "#             jnp.log(outlier_probability),\n",
    "#         )\n",
    "#         return {\"log_kernel\": log_kernel,\"scores_inlier\": scores_inlier, \"score_mixed\": score_mixed, \"valid_window\": valid_window, \"colors_window\": colors_window, \"score\": final_score}\n",
    "\n",
    "\n",
    "#     indices = jnp.stack([rows, cols], axis=-1)\n",
    "#     index_image = jnp.zeros((renderer.height, renderer.width))\n",
    "#     index_image = index_image.at[rows + filter_half_width, cols + filter_half_width].set(jnp.arange(len(indices)))\n",
    "#     data = score_pixel(\n",
    "#         indices\n",
    "#     )\n",
    "#     data[\"color_image\"] = colors_image\n",
    "#     return data\n",
    "\n",
    "# IDX = 626\n",
    "# data = render(gt_pose)\n",
    "# value_and_grad_func = jax.jit(jax.value_and_grad(lambda pose: render(pose)[\"score\"].sum()))\n"
   ]
  },
  {
   "cell_type": "code",
   "execution_count": 598,
   "metadata": {},
   "outputs": [],
   "source": [
    "pose = gt_pose"
   ]
  },
  {
   "cell_type": "code",
   "execution_count": 606,
   "metadata": {},
   "outputs": [],
   "source": [
    "pose = Pose.from_position_and_target(jnp.array([0.3, 0.1, 0.0])).inv()\n",
    "# pose = Pose.from_position_and_target(jnp.array([0.11, 0.4, 0.0])).inv()"
   ]
  },
  {
   "cell_type": "code",
   "execution_count": 621,
   "metadata": {},
   "outputs": [
    {
     "name": "stdout",
     "output_type": "stream",
     "text": [
      "Full score  422.47424\n",
      "[0. 0. 0.]\n",
      "55 26\n",
      "Score  8.381903e-09\n",
      "Score mixed  0.0\n",
      "scores_inlier  [[0. 0. 0. 0. 0. 0. 0. 0. 0. 0. 0.]\n",
      " [0. 0. 0. 0. 0. 0. 0. 0. 0. 0. 0.]\n",
      " [0. 0. 0. 0. 0. 0. 0. 0. 0. 0. 0.]\n",
      " [0. 0. 0. 0. 0. 0. 0. 0. 0. 0. 0.]\n",
      " [0. 0. 0. 0. 0. 0. 0. 0. 0. 0. 0.]\n",
      " [0. 0. 0. 0. 0. 0. 0. 0. 0. 0. 0.]\n",
      " [0. 0. 0. 0. 0. 0. 0. 0. 0. 0. 0.]\n",
      " [0. 0. 0. 0. 0. 0. 0. 0. 0. 0. 0.]\n",
      " [0. 0. 0. 0. 0. 0. 0. 0. 0. 0. 0.]\n",
      " [0. 0. 0. 0. 0. 0. 0. 0. 0. 0. 0.]\n",
      " [0. 0. 0. 0. 0. 0. 0. 0. 0. 0. 0.]]\n",
      "[[False False False False False False False False False False False]\n",
      " [False False False False False False False False False False False]\n",
      " [False False False False False False False False False False False]\n",
      " [False False False False False False False False False False False]\n",
      " [False False False False False False False False False False False]\n",
      " [False False False False False False False False False False False]\n",
      " [False False False False False False False False False False False]\n",
      " [False False False False False False False False False False False]\n",
      " [False False False False False False False False False False False]\n",
      " [False False False False False False False False False False False]\n",
      " [False False False False False False False False False False False]]\n"
     ]
    },
    {
     "data": {
      "image/png": "[encoded data removed]",
      "text/plain": [
       "<Figure size 640x480 with 6 Axes>"
      ]
     },
     "metadata": {},
     "output_type": "display_data"
    }
   ],
   "source": [
    "data = render(pose)\n",
    "scores_image = jnp.zeros((renderer.height, renderer.width))\n",
    "scores_image = scores_image.at[rows , cols ].set(data[\"score\"])\n",
    "b3d.rr_log_depth(scores_image, \"scores\")\n",
    "b3d.rr_log_rgb(data[\"color_image\"], \"scores/rgb\")\n",
    "b3d.rr_log_rgb(observed_rgbd[...,:3], \"scores/rgb_actual\")\n",
    "indices_image = jnp.zeros((renderer.height, renderer.width))\n",
    "indices_image = indices_image.at[rows , cols ].set(jnp.arange(len(data[\"score\"])))\n",
    "b3d.rr_log_rgb(indices_image, \"scores/indices\")\n",
    "\n",
    "print(\"Full score \", data[\"score\"].sum())\n",
    "\n",
    "\n",
    "IDX = 626\n",
    "fig,ax = plt.subplots(1,5)\n",
    "# plt.matshow(jnp.exp(data[\"log_kernel\"][IDX]))\n",
    "ax[0].matshow(data[\"scores_inlier\"][IDX])\n",
    "ax[0].set_title(\"scores_inlier\")\n",
    "ax[1].imshow(data[\"colors_window\"][IDX])\n",
    "ax[1].set_title(\"Colors\")\n",
    "print(data[\"colors_window\"][IDX][filter_half_width, filter_half_width])\n",
    "i,j = rows[IDX], cols[IDX]\n",
    "print(i,j)\n",
    "print(\"Score \", data[\"score\"][IDX])\n",
    "print(\"Score mixed \", data[\"score_mixed\"][IDX])\n",
    "print(\"scores_inlier \", data[\"scores_inlier\"][IDX])\n",
    "ax[2].imshow(jnp.ones((4,4,3)) * (observed_rgbd[i + filter_half_width,j + filter_half_width,:3]))\n",
    "ax[2].set_title(\"Observed Color\")\n",
    "fig.colorbar(ax[3].matshow(jnp.exp(data[\"log_kernel\"][IDX])))\n",
    "ax[3].set_title(\"Log Kernel\")\n",
    "ax[4].matshow(data[\"valid_window\"][IDX])\n",
    "ax[4].set_title(\"Valid Window\")\n",
    "print(data[\"valid_window\"][IDX])"
   ]
  },
  {
   "cell_type": "code",
   "execution_count": 620,
   "metadata": {},
   "outputs": [
    {
     "name": "stderr",
     "output_type": "stream",
     "text": [
      "Loss 416.986328125: 100%|██████████| 1000/1000 [00:03<00:00, 277.46it/s]    \n"
     ]
    }
   ],
   "source": [
    "pbar = tqdm(range(1000))\n",
    "for _ in pbar:\n",
    "    loss, grad_pose = value_and_grad_func(pose)\n",
    "    pbar.set_description(f\"Loss {loss}\")\n",
    "    pose = pose + grad_pose * 0.000001"
   ]
  },
  {
   "cell_type": "code",
   "execution_count": 528,
   "metadata": {},
   "outputs": [
    {
     "data": {
      "text/plain": [
       "Pose(position=Array([-0.00085643, -0.00051613,  0.353866  ], dtype=float32), quaternion=Array([ 0.25555003,  0.70065314, -0.6084522 ,  0.27124184], dtype=float32))"
      ]
     },
     "execution_count": 528,
     "metadata": {},
     "output_type": "execute_result"
    }
   ],
   "source": [
    "pose"
   ]
  },
  {
   "cell_type": "code",
   "execution_count": 59,
   "metadata": {},
   "outputs": [
    {
     "name": "stdout",
     "output_type": "stream",
     "text": [
      "[35 39]\n"
     ]
    },
    {
     "data": {
      "text/plain": [
       "<matplotlib.colorbar.Colorbar at 0x7fa60187d4f0>"
      ]
     },
     "execution_count": 59,
     "metadata": {},
     "output_type": "execute_result"
    },
    {
     "data": {
      "image/png": "[encoded data removed]",
      "text/plain": [
       "<Figure size 480x480 with 2 Axes>"
      ]
     },
     "metadata": {},
     "output_type": "display_data"
    }
   ],
   "source": [
    "plt.matshow(jnp.exp(data[\"log_kernel\"][10]))\n",
    "print(indices[0])\n",
    "plt.colorbar()"
   ]
  },
  {
   "cell_type": "code",
   "execution_count": 47,
   "metadata": {},
   "outputs": [
    {
     "data": {
      "text/plain": [
       "<matplotlib.image.AxesImage at 0x7fa601e029c0>"
      ]
     },
     "execution_count": 47,
     "metadata": {},
     "output_type": "execute_result"
    },
    {
     "data": {
      "image/png": "[encoded data removed]",
      "text/plain": [
       "<Figure size 480x480 with 1 Axes>"
      ]
     },
     "metadata": {},
     "output_type": "display_data"
    }
   ],
   "source": [
    "plt.matshow(data[\"log_kernel\"][0])"
   ]
  },
  {
   "cell_type": "code",
   "execution_count": null,
   "metadata": {},
   "outputs": [],
   "source": [
    "rgbd = renderer.render_rgbd_from_mesh(meshes[0].transform(Pose.from_position_and_target(jnp.array([0.25, 0.25, 0.0])).inv()))\n"
   ]
  }
 ],
 "metadata": {
  "kernelspec": {
   "display_name": "b3d",
   "language": "python",
   "name": "python3"
  },
  "language_info": {
   "codemirror_mode": {
    "name": "ipython",
    "version": 3
   },
   "file_extension": ".py",
   "mimetype": "text/x-python",
   "name": "python",
   "nbconvert_exporter": "python",
   "pygments_lexer": "ipython3",
   "version": "3.12.4"
  }
 },
 "nbformat": 4,
 "nbformat_minor": 2
}
