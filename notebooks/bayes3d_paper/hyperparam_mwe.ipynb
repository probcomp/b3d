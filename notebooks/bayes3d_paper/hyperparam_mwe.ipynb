{
 "cells": [
  {
   "cell_type": "code",
   "execution_count": 4,
   "metadata": {},
   "outputs": [],
   "source": [
    "import jax\n",
    "import jax.numpy as jnp\n",
    "import jax.random as r\n",
    "import genjax\n",
    "from genjax import Pytree\n",
    "genjax.pretty()"
   ]
  },
  {
   "cell_type": "code",
   "execution_count": 18,
   "metadata": {},
   "outputs": [],
   "source": [
    "import jax\n",
    "import jax.numpy as jnp\n",
    "import jax.random as r\n",
    "import genjax\n",
    "from genjax import Pytree\n",
    "\n",
    "@Pytree.dataclass\n",
    "class MyDistribution(genjax.ExactDensity):\n",
    "    mean: jnp.ndarray\n",
    "\n",
    "    def sample(self, key):\n",
    "        return self.mean + jax.random.normal(key, self.mean.shape)\n",
    "    \n",
    "    def logpdf(self, x):\n",
    "        return -0.5 * jnp.sum((x - self.mean) ** 2)\n",
    "\n",
    "@genjax.gen\n",
    "def foo(h):\n",
    "    dist = h[\"dist\"]\n",
    "    x = dist() @ \"x\"\n",
    "    return x\n",
    "\n",
    "foo.importance(\n",
    "    r.PRNGKey(0),\n",
    "    genjax.ChoiceMapBuilder.n(),\n",
    "    ({\"dist\": MyDistribution(11.)},)\n",
    ")"
   ]
  },
  {
   "cell_type": "code",
   "execution_count": 19,
   "metadata": {},
   "outputs": [
    {
     "name": "stdout",
     "output_type": "stream",
     "text": [
      "-1.8233095\n"
     ]
    }
   ],
   "source": [
    "d = MyDistribution(jnp.array([1., 2., 3.]))\n",
    "\n",
    "val = d.sample(r.PRNGKey(0))\n",
    "print(d.logpdf(val))"
   ]
  },
  {
   "cell_type": "code",
   "execution_count": 20,
   "metadata": {},
   "outputs": [],
   "source": [
    "@genjax.gen\n",
    "def foo(h):\n",
    "    dist = h[\"dist\"]\n",
    "    x = dist() @ \"x\"\n",
    "    return x"
   ]
  },
  {
   "cell_type": "code",
   "execution_count": 28,
   "metadata": {},
   "outputs": [],
   "source": [
    "sj = jax.jit(foo.simulate)"
   ]
  },
  {
   "cell_type": "code",
   "execution_count": 33,
   "metadata": {},
   "outputs": [
    {
     "data": {
      "text/html": [
       "<script> (()=>{ if (customElements.get('treescope-container') === undefined) { class TreescopeContainer extends HTMLElement { constructor() { super(); this.attachShadow({mode: \"open\"}); this.defns = {}; this.state = {}; } } customElements.define(\"treescope-container\", TreescopeContainer); } if (customElements.get('treescope-run-here') === undefined) { class RunHere extends HTMLElement { constructor() { super() } connectedCallback() { const run = child => { const fn = new Function(child.textContent); child.textContent = \"\"; fn.call(this); this.remove(); }; const child = this.querySelector(\"script\"); if (child) { run(child); } else { new MutationObserver(()=>{ run(this.querySelector(\"script\")); }).observe(this, {childList: true}); } } } customElements.define(\"treescope-run-here\", RunHere); } })(); </script> <treescope-container class=\"treescope_out_8d6b3b9293d4458faaaeb3fe6f3f2fbe\" ></treescope-container> <treescope-run-here><script type=\"application/octet-stream\"> const root = ( Array.from(document.getElementsByClassName( \"treescope_out_8d6b3b9293d4458faaaeb3fe6f3f2fbe\")) .filter((elt) => !elt.dataset.setup) )[0]; root.dataset.setup = 1; const msg = document.createElement(\"span\"); msg.style = \"color: #aaaaaa; font-family: monospace; transition: opacity 0.2s; opacity: 0.0;\"; msg.textContent = \"(Loading...)\"; root.state.loadingMsg = msg; root.shadowRoot.appendChild(msg); root.state.chain = new Promise((resolve, reject) => { const observer = new IntersectionObserver((entries) => { for (const entry of entries) { if (entry.isIntersecting) { resolve(); observer.disconnect(); return; } } }, {rootMargin: \"1000px\"}); window.setTimeout(() => { if (root.loadingMsg) { root.loadingMsg.style.opacity = \"1.0\"; } observer.observe(root); }, 0); }); root.state.deferring = false; const _insertNode = (node) => { for (let oldScript of node.querySelectorAll(\"script\")) { let newScript = document.createElement(\"script\"); newScript.type = oldScript.type; newScript.textContent = oldScript.textContent; oldScript.parentNode.replaceChild(newScript, oldScript); } if (root.state.loadingMsg) { root.state.loadingMsg.remove(); root.state.loadingMsg = null; } root.shadowRoot.appendChild(node); }; root.defns.insertContent = ((contentNode, compressed) => { if (compressed) { root.state.deferring = true; } if (root.state.deferring) { root.state.chain = (async () => { await root.state.chain; if (compressed) { const encoded = contentNode.textContent; const blob = new Blob([ Uint8Array.from(atob(encoded), (m) => m.codePointAt(0)) ]); const reader = blob.stream().pipeThrough( new DecompressionStream(\"deflate\") ).pipeThrough( new TextDecoderStream(\"utf-8\") ).getReader(); const parts = []; while (true) { const step = await reader.read(); if (step.done) { break; } parts.push(step.value); } const tpl = document.createElement('template'); tpl.innerHTML = parts.join(\"\"); _insertNode(tpl.content); } else { _insertNode(contentNode.content); } })(); } else { _insertNode(contentNode.content); } }); </script></treescope-run-here><div style=\"display:none\"> <script type=\"application/octet-stream\" >eNrFVluP6jYQ/itWKp0NVZNluZxzNkCkfan6UPWhfehDWyEnmSQuxk7tCbu02v/esRNggbCq1KMWHiDjmfm+ucZLi3sJaYwGwOa6gbXRGtlfrNFWoNAqYQYkR7GDBSu1wqjkWyH3CdtqpW3Dc5I/1wIh8g8JawxJpLAYedcR7huSKq1InPF8UxndqiLKtdQm6UwXrH/KJCmQP1FgnbBSIKkpBIUL1vCiEKqKJJSYsEleOxAFUQ2iqknyEM+dG4VcEOejWf8n2gkrMiEFEnPeoj7qRkKhEcqKPLLiT+hOe7qvy/suPctjeiLTKsI0JLO5EQ0yF9/qjjeNFDl3GbvXOYKL3gDf3qVhOFqllFDCs8gKKJVlK4a1sHEF+CNl+wddQDiKa20x9ucUGiBbN6BcyE+58+qMfvlt6OQ7rgoJdKxaKRcdQkw0f9JakTR81mYzYm856J9J5I7OxChyJ2zAlNpsucohVvo5HPn6EkB4dcKizmjJppMR+RElCy9YxxJUhTVbrdjYqbxL3QC2RlHeGUgLJ2J1qxyzS9e2FiU6fl7B/Xml7w2EkLpKFfo5NvBHCxaflNj6cn1r+BbCLicj52NxBdS0tu7SuBiI8QCx6sJ4J8p/zsGx6AqJuqpkN5VrPznUrY3z5SQg8RsGO2rwvpKOnX+ON7B3SQ9M4Aj1ynEuubXf03D2fsPg6HO9pTYMDuCvI8ontb/v8XR5PzQAhdgx73AVnK+PgCHPKFJ4WQXjgGlFZChsRXrvtf1wrKGzOUQZ0Nh1C4sswBgo1g3tDKi1LMD4jvGL5Cv+yX37leVNEiaQ04xSbHFJ6jwjKEUcbiy7V3autu7YkXYhLIHuD0vtUpGlTPIMZJJkQPMCb1jl/rMYxOsWW/TgNlu/AMeLE5ZQft1lUrsNeROz1jsw18gFNxsLvKIyqWvrRGkML0Q1t2HqfaaDefA2SV5DvoFiNGJfj04cnOmw0UH/jKHf0Am7+3Uyz/K7/5PeudFNkh//A5Kujg64NdYVsNH0ngIzgCvsl4P1o+CBIj9v9laPfxnUU3gIL3iNEgu7LoWxuNZq7dp/YLTeG6V4MnfTNFgq9q/pdxW/pOii2nJT0c2io+EH+nSToFuSYqJYBccFBh/L2Xj88DifTrPZbJI/fvo8HWczmOTF/HH28DnojfpVez73l/Ck3AWxFKpp+9tJ4Gln+iUYdNJHSIdddLTuvTH99r7e4g8t3iD9IHHxO3+Jn4zhe1ZKzXE6oRtCHMfsQ4XuVUI+0ssfeoWkfwNU8bYO</script> <treescope-run-here><script type=\"application/octet-stream\"> const root = ( Array.from(document.getElementsByClassName( \"treescope_out_8d6b3b9293d4458faaaeb3fe6f3f2fbe\")) .filter((elt) => !elt.dataset['step0']) )[0]; root.dataset['step0'] = 1; root.defns.insertContent( this.parentNode.querySelector('script[type=\"application/octet-stream\"]'), true ); this.parentNode.remove(); </script></treescope-run-here> </div>"
      ],
      "text/plain": [
       "<IPython.core.display.HTML object>"
      ]
     },
     "metadata": {},
     "output_type": "display_data"
    },
    {
     "data": {
      "text/html": [
       "<div style=\"display:none\"> <script type=\"application/octet-stream\" >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</script> <treescope-run-here><script type=\"application/octet-stream\"> const root = ( Array.from(document.getElementsByClassName( \"treescope_out_8d6b3b9293d4458faaaeb3fe6f3f2fbe\")) .filter((elt) => !elt.dataset['step1']) )[0]; root.dataset['step1'] = 1; root.defns.insertContent( this.parentNode.querySelector('script[type=\"application/octet-stream\"]'), true ); this.parentNode.remove(); </script></treescope-run-here> </div>"
      ],
      "text/plain": [
       "<IPython.core.display.HTML object>"
      ]
     },
     "metadata": {},
     "output_type": "display_data"
    },
    {
     "data": {
      "text/html": [
       "<treescope-run-here><script type=\"application/octet-stream\"> const root = ( Array.from(document.getElementsByClassName( \"treescope_out_8d6b3b9293d4458faaaeb3fe6f3f2fbe\")) .filter((elt) => !elt.dataset.stolen) )[0]; root.dataset.stolen = 1; this.parentNode.replaceChild(root, this); </script></treescope-run-here>"
      ],
      "text/plain": [
       "<jax.Array(9.748461, dtype=float32)>"
      ]
     },
     "execution_count": 33,
     "metadata": {},
     "output_type": "execute_result"
    }
   ],
   "source": [
    "sj(r.PRNGKey(0), (\n",
    "    {\"dist\": MyDistribution(11.)},\n",
    ")).get_retval()"
   ]
  },
  {
   "cell_type": "code",
   "execution_count": 36,
   "metadata": {},
   "outputs": [
    {
     "ename": "AttributeError",
     "evalue": "'Diff' object has no attribute 'shape'",
     "output_type": "error",
     "traceback": [
      "\u001b[0;31m---------------------------------------------------------------------------\u001b[0m",
      "\u001b[0;31mAttributeError\u001b[0m                            Traceback (most recent call last)",
      "Cell \u001b[0;32mIn[36], line 1\u001b[0m\n\u001b[0;32m----> 1\u001b[0m \u001b[43mfoo\u001b[49m\u001b[38;5;241;43m.\u001b[39;49m\u001b[43mimportance\u001b[49m\u001b[43m(\u001b[49m\n\u001b[1;32m      2\u001b[0m \u001b[43m    \u001b[49m\u001b[43mr\u001b[49m\u001b[38;5;241;43m.\u001b[39;49m\u001b[43mPRNGKey\u001b[49m\u001b[43m(\u001b[49m\u001b[38;5;241;43m0\u001b[39;49m\u001b[43m)\u001b[49m\u001b[43m,\u001b[49m\n\u001b[1;32m      3\u001b[0m \u001b[43m    \u001b[49m\u001b[43mgenjax\u001b[49m\u001b[38;5;241;43m.\u001b[39;49m\u001b[43mChoiceMapBuilder\u001b[49m\u001b[38;5;241;43m.\u001b[39;49m\u001b[43mn\u001b[49m\u001b[43m(\u001b[49m\u001b[43m)\u001b[49m\u001b[43m,\u001b[49m\n\u001b[1;32m      4\u001b[0m \u001b[43m    \u001b[49m\u001b[43m(\u001b[49m\u001b[43m{\u001b[49m\u001b[38;5;124;43m\"\u001b[39;49m\u001b[38;5;124;43mdist\u001b[39;49m\u001b[38;5;124;43m\"\u001b[39;49m\u001b[43m:\u001b[49m\u001b[43m \u001b[49m\u001b[43mMyDistribution\u001b[49m\u001b[43m(\u001b[49m\u001b[38;5;241;43m11.\u001b[39;49m\u001b[43m)\u001b[49m\u001b[43m}\u001b[49m\u001b[43m,\u001b[49m\u001b[43m)\u001b[49m\n\u001b[1;32m      5\u001b[0m \u001b[43m)\u001b[49m\n",
      "File \u001b[0;32m<@beartype(genjax._src.core.generative.core.GenerativeFunction.importance) at 0x7f9bdbc0f4c0>:76\u001b[0m, in \u001b[0;36mimportance\u001b[0;34m(__beartype_object_140307383520256, __beartype_get_violation, __beartype_conf, __beartype_object_99299206470752, __beartype_object_99299206435840, __beartype_object_99299204204192, __beartype_func, *args, **kwargs)\u001b[0m\n",
      "File \u001b[0;32m~/b3d/.pixi/envs/gpu/lib/python3.12/site-packages/genjax/_src/core/generative/core.py:749\u001b[0m, in \u001b[0;36mGenerativeFunction.importance\u001b[0;34m(self, key, constraint, args)\u001b[0m\n\u001b[1;32m    708\u001b[0m \u001b[38;5;28;01mdef\u001b[39;00m \u001b[38;5;21mimportance\u001b[39m(\n\u001b[1;32m    709\u001b[0m     \u001b[38;5;28mself\u001b[39m,\n\u001b[1;32m    710\u001b[0m     key: PRNGKey,\n\u001b[1;32m    711\u001b[0m     constraint: Constraint,\n\u001b[1;32m    712\u001b[0m     args: Arguments,\n\u001b[1;32m    713\u001b[0m ) \u001b[38;5;241m-\u001b[39m\u001b[38;5;241m>\u001b[39m \u001b[38;5;28mtuple\u001b[39m[Trace[R], Weight]:\n\u001b[1;32m    714\u001b[0m \u001b[38;5;250m    \u001b[39m\u001b[38;5;124;03m\"\"\"\u001b[39;00m\n\u001b[1;32m    715\u001b[0m \u001b[38;5;124;03m    Returns a properly weighted pair, a [`Trace`][genjax.core.Trace] and a [`Weight`][genjax.core.Weight], properly weighted for the target induced by the generative function for the provided constraint and arguments.\u001b[39;00m\n\u001b[1;32m    716\u001b[0m \n\u001b[0;32m   (...)\u001b[0m\n\u001b[1;32m    747\u001b[0m \u001b[38;5;124;03m    Under the hood, creates an [`UpdateProblem`][genjax.core.UpdateProblem] which requests that the generative function respond with a move from the _empty_ trace (the only possible value for _empty_ target $\\\\delta_\\\\emptyset$) to the target induced by the generative function for constraint $C$ with arguments $a$.\u001b[39;00m\n\u001b[1;32m    748\u001b[0m \u001b[38;5;124;03m    \"\"\"\u001b[39;00m\n\u001b[0;32m--> 749\u001b[0m     tr, w, _, _ \u001b[38;5;241m=\u001b[39m \u001b[38;5;28;43mself\u001b[39;49m\u001b[38;5;241;43m.\u001b[39;49m\u001b[43mupdate\u001b[49m\u001b[43m(\u001b[49m\n\u001b[1;32m    750\u001b[0m \u001b[43m        \u001b[49m\u001b[43mkey\u001b[49m\u001b[43m,\u001b[49m\n\u001b[1;32m    751\u001b[0m \u001b[43m        \u001b[49m\u001b[43mEmptyTrace\u001b[49m\u001b[43m(\u001b[49m\u001b[38;5;28;43mself\u001b[39;49m\u001b[43m)\u001b[49m\u001b[43m,\u001b[49m\n\u001b[1;32m    752\u001b[0m \u001b[43m        \u001b[49m\u001b[43mGenericProblem\u001b[49m\u001b[43m(\u001b[49m\u001b[43mDiff\u001b[49m\u001b[38;5;241;43m.\u001b[39;49m\u001b[43munknown_change\u001b[49m\u001b[43m(\u001b[49m\u001b[43margs\u001b[49m\u001b[43m)\u001b[49m\u001b[43m,\u001b[49m\u001b[43m \u001b[49m\u001b[43mImportanceProblem\u001b[49m\u001b[43m(\u001b[49m\u001b[43mconstraint\u001b[49m\u001b[43m)\u001b[49m\u001b[43m)\u001b[49m\u001b[43m,\u001b[49m\n\u001b[1;32m    753\u001b[0m \u001b[43m    \u001b[49m\u001b[43m)\u001b[49m\n\u001b[1;32m    754\u001b[0m     \u001b[38;5;28;01mreturn\u001b[39;00m tr, w\n",
      "File \u001b[0;32m<@beartype(genjax._src.generative_functions.static.StaticGenerativeFunction.update) at 0x7f9bd995b2e0>:81\u001b[0m, in \u001b[0;36mupdate\u001b[0;34m(__beartype_object_140307383520256, __beartype_get_violation, __beartype_conf, __beartype_object_99299206435840, __beartype_object_99299205344448, __beartype_object_99299219001952, __beartype_object_99299204204192, __beartype_object_140307385455680, __beartype_func, *args, **kwargs)\u001b[0m\n",
      "File \u001b[0;32m~/b3d/.pixi/envs/gpu/lib/python3.12/site-packages/genjax/_src/generative_functions/static.py:588\u001b[0m, in \u001b[0;36mStaticGenerativeFunction.update\u001b[0;34m(self, key, trace, update_problem)\u001b[0m\n\u001b[1;32m    586\u001b[0m \u001b[38;5;28;01mmatch\u001b[39;00m update_problem:\n\u001b[1;32m    587\u001b[0m     \u001b[38;5;28;01mcase\u001b[39;00m GenericProblem(argdiffs, subproblem):\n\u001b[0;32m--> 588\u001b[0m         \u001b[38;5;28;01mreturn\u001b[39;00m \u001b[38;5;28;43mself\u001b[39;49m\u001b[38;5;241;43m.\u001b[39;49m\u001b[43mupdate_change_target\u001b[49m\u001b[43m(\u001b[49m\u001b[43mkey\u001b[49m\u001b[43m,\u001b[49m\u001b[43m \u001b[49m\u001b[43mtrace\u001b[49m\u001b[43m,\u001b[49m\u001b[43m \u001b[49m\u001b[43msubproblem\u001b[49m\u001b[43m,\u001b[49m\u001b[43m \u001b[49m\u001b[43margdiffs\u001b[49m\u001b[43m)\u001b[49m\n\u001b[1;32m    589\u001b[0m     \u001b[38;5;28;01mcase\u001b[39;00m\u001b[38;5;250m \u001b[39m\u001b[38;5;28;01m_\u001b[39;00m:\n\u001b[1;32m    590\u001b[0m         \u001b[38;5;28;01mreturn\u001b[39;00m \u001b[38;5;28mself\u001b[39m\u001b[38;5;241m.\u001b[39mupdate(\n\u001b[1;32m    591\u001b[0m             key,\n\u001b[1;32m    592\u001b[0m             trace,\n\u001b[1;32m    593\u001b[0m             GenericProblem(Diff\u001b[38;5;241m.\u001b[39mno_change(trace\u001b[38;5;241m.\u001b[39mget_args()), update_problem),\n\u001b[1;32m    594\u001b[0m         )\n",
      "File \u001b[0;32m<@beartype(genjax._src.generative_functions.static.StaticGenerativeFunction.update_change_target) at 0x7f9bd995b240>:106\u001b[0m, in \u001b[0;36mupdate_change_target\u001b[0;34m(__beartype_object_140307383520256, __beartype_get_violation, __beartype_conf, __beartype_object_99299206435840, __beartype_object_99299205344448, __beartype_object_140307387008320, __beartype_object_99299219001952, __beartype_object_99299204204192, __beartype_object_140307385455680, __beartype_func, *args, **kwargs)\u001b[0m\n",
      "File \u001b[0;32m~/b3d/.pixi/envs/gpu/lib/python3.12/site-packages/genjax/_src/generative_functions/static.py:557\u001b[0m, in \u001b[0;36mStaticGenerativeFunction.update_change_target\u001b[0;34m(self, key, trace, update_problem, argdiffs)\u001b[0m\n\u001b[1;32m    534\u001b[0m \u001b[38;5;28;01mdef\u001b[39;00m \u001b[38;5;21mupdate_change_target\u001b[39m(\n\u001b[1;32m    535\u001b[0m     \u001b[38;5;28mself\u001b[39m,\n\u001b[1;32m    536\u001b[0m     key: PRNGKey,\n\u001b[0;32m   (...)\u001b[0m\n\u001b[1;32m    539\u001b[0m     argdiffs: Argdiffs,\n\u001b[1;32m    540\u001b[0m ) \u001b[38;5;241m-\u001b[39m\u001b[38;5;241m>\u001b[39m \u001b[38;5;28mtuple\u001b[39m[StaticTrace[R], Weight, Retdiff[R], UpdateProblem]:\n\u001b[1;32m    541\u001b[0m     syntax_sugar_handled \u001b[38;5;241m=\u001b[39m push_trace_overload_stack(\n\u001b[1;32m    542\u001b[0m         handler_trace_with_static, \u001b[38;5;28mself\u001b[39m\u001b[38;5;241m.\u001b[39msource\n\u001b[1;32m    543\u001b[0m     )\n\u001b[1;32m    544\u001b[0m     (\n\u001b[1;32m    545\u001b[0m         (\n\u001b[1;32m    546\u001b[0m             retval_diffs,\n\u001b[1;32m    547\u001b[0m             weight,\n\u001b[1;32m    548\u001b[0m             (\n\u001b[1;32m    549\u001b[0m                 arg_primals,\n\u001b[1;32m    550\u001b[0m                 retval_primals,\n\u001b[1;32m    551\u001b[0m                 address_visitor,\n\u001b[1;32m    552\u001b[0m                 address_traces,\n\u001b[1;32m    553\u001b[0m                 score,\n\u001b[1;32m    554\u001b[0m             ),\n\u001b[1;32m    555\u001b[0m             bwd_problems,\n\u001b[1;32m    556\u001b[0m         ),\n\u001b[0;32m--> 557\u001b[0m     ) \u001b[38;5;241m=\u001b[39m \u001b[43mupdate_transform\u001b[49m\u001b[43m(\u001b[49m\u001b[43msyntax_sugar_handled\u001b[49m\u001b[43m)\u001b[49m\u001b[43m(\u001b[49m\u001b[43mkey\u001b[49m\u001b[43m,\u001b[49m\u001b[43m \u001b[49m\u001b[43mtrace\u001b[49m\u001b[43m,\u001b[49m\u001b[43m \u001b[49m\u001b[43mupdate_problem\u001b[49m\u001b[43m,\u001b[49m\u001b[43m \u001b[49m\u001b[43margdiffs\u001b[49m\u001b[43m)\u001b[49m\n\u001b[1;32m    559\u001b[0m     \u001b[38;5;28;01mdef\u001b[39;00m \u001b[38;5;21mmake_bwd_problem\u001b[39m(\n\u001b[1;32m    560\u001b[0m         visitor: AddressVisitor, subproblems: \u001b[38;5;28mlist\u001b[39m[UpdateProblem]\n\u001b[1;32m    561\u001b[0m     ) \u001b[38;5;241m-\u001b[39m\u001b[38;5;241m>\u001b[39m ChoiceMap:\n\u001b[1;32m    562\u001b[0m         addresses \u001b[38;5;241m=\u001b[39m visitor\u001b[38;5;241m.\u001b[39mget_visited()\n",
      "File \u001b[0;32m~/b3d/.pixi/envs/gpu/lib/python3.12/site-packages/genjax/_src/generative_functions/static.py:368\u001b[0m, in \u001b[0;36mwrapper\u001b[0;34m(key, previous_trace, constraints, diffs)\u001b[0m\n\u001b[1;32m    366\u001b[0m diff_primals \u001b[38;5;241m=\u001b[39m Diff\u001b[38;5;241m.\u001b[39mtree_primal(diffs)\n\u001b[1;32m    367\u001b[0m diff_tangents \u001b[38;5;241m=\u001b[39m Diff\u001b[38;5;241m.\u001b[39mtree_tangent(diffs)\n\u001b[0;32m--> 368\u001b[0m retval_diffs \u001b[38;5;241m=\u001b[39m \u001b[43mincremental\u001b[49m\u001b[43m(\u001b[49m\u001b[43msource_fn\u001b[49m\u001b[43m)\u001b[49m\u001b[43m(\u001b[49m\n\u001b[1;32m    369\u001b[0m \u001b[43m    \u001b[49m\u001b[43mstateful_handler\u001b[49m\u001b[43m,\u001b[49m\u001b[43m \u001b[49m\u001b[43mdiff_primals\u001b[49m\u001b[43m,\u001b[49m\u001b[43m \u001b[49m\u001b[43mdiff_tangents\u001b[49m\n\u001b[1;32m    370\u001b[0m \u001b[43m\u001b[49m\u001b[43m)\u001b[49m\n\u001b[1;32m    371\u001b[0m retval_primals \u001b[38;5;241m=\u001b[39m Diff\u001b[38;5;241m.\u001b[39mtree_primal(retval_diffs)\n\u001b[1;32m    372\u001b[0m (\n\u001b[1;32m    373\u001b[0m     score,\n\u001b[1;32m    374\u001b[0m     weight,\n\u001b[0;32m   (...)\u001b[0m\n\u001b[1;32m    377\u001b[0m     bwd_problems,\n\u001b[1;32m    378\u001b[0m ) \u001b[38;5;241m=\u001b[39m stateful_handler\u001b[38;5;241m.\u001b[39myield_state()\n",
      "File \u001b[0;32m~/b3d/.pixi/envs/gpu/lib/python3.12/site-packages/genjax/_src/core/interpreters/incremental.py:278\u001b[0m, in \u001b[0;36mwrapped\u001b[0;34m(_stateful_handler, primals, tangents)\u001b[0m\n\u001b[1;32m    271\u001b[0m \u001b[38;5;129m@functools\u001b[39m\u001b[38;5;241m.\u001b[39mwraps(f)\n\u001b[1;32m    272\u001b[0m \u001b[38;5;28;01mdef\u001b[39;00m \u001b[38;5;21mwrapped\u001b[39m(\n\u001b[1;32m    273\u001b[0m     _stateful_handler: StatefulHandler \u001b[38;5;241m|\u001b[39m \u001b[38;5;28;01mNone\u001b[39;00m,\n\u001b[1;32m    274\u001b[0m     primals: \u001b[38;5;28mtuple\u001b[39m[Any, \u001b[38;5;241m.\u001b[39m\u001b[38;5;241m.\u001b[39m\u001b[38;5;241m.\u001b[39m],\n\u001b[1;32m    275\u001b[0m     tangents: \u001b[38;5;28mtuple\u001b[39m[Any, \u001b[38;5;241m.\u001b[39m\u001b[38;5;241m.\u001b[39m\u001b[38;5;241m.\u001b[39m],\n\u001b[1;32m    276\u001b[0m ):\n\u001b[1;32m    277\u001b[0m     interpreter \u001b[38;5;241m=\u001b[39m IncrementalInterpreter()\n\u001b[0;32m--> 278\u001b[0m     \u001b[38;5;28;01mreturn\u001b[39;00m \u001b[43minterpreter\u001b[49m\u001b[38;5;241;43m.\u001b[39;49m\u001b[43mrun_interpreter\u001b[49m\u001b[43m(\u001b[49m\n\u001b[1;32m    279\u001b[0m \u001b[43m        \u001b[49m\u001b[43m_stateful_handler\u001b[49m\u001b[43m,\u001b[49m\n\u001b[1;32m    280\u001b[0m \u001b[43m        \u001b[49m\u001b[43mf\u001b[49m\u001b[43m,\u001b[49m\n\u001b[1;32m    281\u001b[0m \u001b[43m        \u001b[49m\u001b[43mprimals\u001b[49m\u001b[43m,\u001b[49m\n\u001b[1;32m    282\u001b[0m \u001b[43m        \u001b[49m\u001b[43mtangents\u001b[49m\u001b[43m,\u001b[49m\n\u001b[1;32m    283\u001b[0m \u001b[43m    \u001b[49m\u001b[43m)\u001b[49m\n",
      "File \u001b[0;32m~/b3d/.pixi/envs/gpu/lib/python3.12/site-packages/genjax/_src/core/interpreters/incremental.py:260\u001b[0m, in \u001b[0;36mIncrementalInterpreter.run_interpreter\u001b[0;34m(self, _stateful_handler, fn, primals, tangents, **kwargs)\u001b[0m\n\u001b[1;32m    256\u001b[0m flat_tangents \u001b[38;5;241m=\u001b[39m jtu\u001b[38;5;241m.\u001b[39mtree_leaves(\n\u001b[1;32m    257\u001b[0m     tangents, is_leaf\u001b[38;5;241m=\u001b[39m\u001b[38;5;28;01mlambda\u001b[39;00m v: \u001b[38;5;28misinstance\u001b[39m(v, ChangeTangent)\n\u001b[1;32m    258\u001b[0m )\n\u001b[1;32m    259\u001b[0m _jaxpr, consts \u001b[38;5;241m=\u001b[39m _closed_jaxpr\u001b[38;5;241m.\u001b[39mjaxpr, _closed_jaxpr\u001b[38;5;241m.\u001b[39mliterals\n\u001b[0;32m--> 260\u001b[0m flat_out \u001b[38;5;241m=\u001b[39m \u001b[38;5;28;43mself\u001b[39;49m\u001b[38;5;241;43m.\u001b[39;49m\u001b[43m_eval_jaxpr_forward\u001b[49m\u001b[43m(\u001b[49m\n\u001b[1;32m    261\u001b[0m \u001b[43m    \u001b[49m\u001b[43m_stateful_handler\u001b[49m\u001b[43m,\u001b[49m\n\u001b[1;32m    262\u001b[0m \u001b[43m    \u001b[49m\u001b[43m_jaxpr\u001b[49m\u001b[43m,\u001b[49m\n\u001b[1;32m    263\u001b[0m \u001b[43m    \u001b[49m\u001b[43mconsts\u001b[49m\u001b[43m,\u001b[49m\n\u001b[1;32m    264\u001b[0m \u001b[43m    \u001b[49m\u001b[43mflat_primals\u001b[49m\u001b[43m,\u001b[49m\n\u001b[1;32m    265\u001b[0m \u001b[43m    \u001b[49m\u001b[43mflat_tangents\u001b[49m\u001b[43m,\u001b[49m\n\u001b[1;32m    266\u001b[0m \u001b[43m\u001b[49m\u001b[43m)\u001b[49m\n\u001b[1;32m    267\u001b[0m \u001b[38;5;28;01mreturn\u001b[39;00m jtu\u001b[38;5;241m.\u001b[39mtree_unflatten(out_tree(), flat_out)\n",
      "File \u001b[0;32m<@beartype(genjax._src.core.interpreters.incremental.IncrementalInterpreter._eval_jaxpr_forward) at 0x7f9bdbde8b80>:101\u001b[0m, in \u001b[0;36m_eval_jaxpr_forward\u001b[0;34m(__beartype_object_99299197801248, __beartype_get_violation, __beartype_conf, __beartype_object_99299206353488, __beartype_getrandbits, __beartype_func, *args, **kwargs)\u001b[0m\n",
      "File \u001b[0;32m~/b3d/.pixi/envs/gpu/lib/python3.12/site-packages/genjax/_src/core/interpreters/incremental.py:242\u001b[0m, in \u001b[0;36mIncrementalInterpreter._eval_jaxpr_forward\u001b[0;34m(self, _stateful_handler, _jaxpr, consts, primals, tangents)\u001b[0m\n\u001b[1;32m    240\u001b[0m args \u001b[38;5;241m=\u001b[39m subfuns \u001b[38;5;241m+\u001b[39m induals\n\u001b[1;32m    241\u001b[0m \u001b[38;5;28;01mif\u001b[39;00m _stateful_handler \u001b[38;5;129;01mand\u001b[39;00m _stateful_handler\u001b[38;5;241m.\u001b[39mhandles(_eqn\u001b[38;5;241m.\u001b[39mprimitive):\n\u001b[0;32m--> 242\u001b[0m     outduals \u001b[38;5;241m=\u001b[39m \u001b[43m_stateful_handler\u001b[49m\u001b[38;5;241;43m.\u001b[39;49m\u001b[43mdispatch\u001b[49m\u001b[43m(\u001b[49m\u001b[43m_eqn\u001b[49m\u001b[38;5;241;43m.\u001b[39;49m\u001b[43mprimitive\u001b[49m\u001b[43m,\u001b[49m\u001b[43m \u001b[49m\u001b[38;5;241;43m*\u001b[39;49m\u001b[43margs\u001b[49m\u001b[43m,\u001b[49m\u001b[43m \u001b[49m\u001b[38;5;241;43m*\u001b[39;49m\u001b[38;5;241;43m*\u001b[39;49m\u001b[43m_params\u001b[49m\u001b[43m)\u001b[49m\n\u001b[1;32m    243\u001b[0m \u001b[38;5;28;01melse\u001b[39;00m:\n\u001b[1;32m    244\u001b[0m     outduals \u001b[38;5;241m=\u001b[39m default_propagation_rule(_eqn\u001b[38;5;241m.\u001b[39mprimitive, \u001b[38;5;241m*\u001b[39margs, \u001b[38;5;241m*\u001b[39m\u001b[38;5;241m*\u001b[39m_params)\n",
      "File \u001b[0;32m~/b3d/.pixi/envs/gpu/lib/python3.12/site-packages/genjax/_src/generative_functions/static.py:220\u001b[0m, in \u001b[0;36mStaticHandler.dispatch\u001b[0;34m(self, primitive, *tracers, **_params)\u001b[0m\n\u001b[1;32m    218\u001b[0m addr \u001b[38;5;241m=\u001b[39m Pytree\u001b[38;5;241m.\u001b[39mtree_const_unwrap(addr)\n\u001b[1;32m    219\u001b[0m \u001b[38;5;28;01mif\u001b[39;00m primitive \u001b[38;5;241m==\u001b[39m trace_p:\n\u001b[0;32m--> 220\u001b[0m     v \u001b[38;5;241m=\u001b[39m \u001b[38;5;28;43mself\u001b[39;49m\u001b[38;5;241;43m.\u001b[39;49m\u001b[43mhandle_trace\u001b[49m\u001b[43m(\u001b[49m\u001b[43maddr\u001b[49m\u001b[43m,\u001b[49m\u001b[43m \u001b[49m\u001b[43mgen_fn\u001b[49m\u001b[43m,\u001b[49m\u001b[43m \u001b[49m\u001b[43margs\u001b[49m\u001b[43m)\u001b[49m\n\u001b[1;32m    221\u001b[0m     \u001b[38;5;28;01mreturn\u001b[39;00m \u001b[38;5;28mself\u001b[39m\u001b[38;5;241m.\u001b[39mhandle_retval(v)\n\u001b[1;32m    222\u001b[0m \u001b[38;5;28;01melse\u001b[39;00m:\n",
      "File \u001b[0;32m<@beartype(genjax._src.generative_functions.static.UpdateHandler.handle_trace) at 0x7f9bd9959e40>:92\u001b[0m, in \u001b[0;36mhandle_trace\u001b[0;34m(__beartype_getrandbits, __beartype_get_violation, __beartype_conf, __beartype_object_99299206526512, __beartype_func, *args, **kwargs)\u001b[0m\n",
      "File \u001b[0;32m~/b3d/.pixi/envs/gpu/lib/python3.12/site-packages/genjax/_src/generative_functions/static.py:351\u001b[0m, in \u001b[0;36mUpdateHandler.handle_trace\u001b[0;34m(self, addr, gen_fn, args)\u001b[0m\n\u001b[1;32m    349\u001b[0m subproblem \u001b[38;5;241m=\u001b[39m \u001b[38;5;28mself\u001b[39m\u001b[38;5;241m.\u001b[39mget_subproblem(addr)\n\u001b[1;32m    350\u001b[0m \u001b[38;5;28mself\u001b[39m\u001b[38;5;241m.\u001b[39mkey, sub_key \u001b[38;5;241m=\u001b[39m jax\u001b[38;5;241m.\u001b[39mrandom\u001b[38;5;241m.\u001b[39msplit(\u001b[38;5;28mself\u001b[39m\u001b[38;5;241m.\u001b[39mkey)\n\u001b[0;32m--> 351\u001b[0m (tr, w, retval_diff, bwd_problem) \u001b[38;5;241m=\u001b[39m \u001b[43mgen_fn\u001b[49m\u001b[38;5;241;43m.\u001b[39;49m\u001b[43mupdate\u001b[49m\u001b[43m(\u001b[49m\n\u001b[1;32m    352\u001b[0m \u001b[43m    \u001b[49m\u001b[43msub_key\u001b[49m\u001b[43m,\u001b[49m\u001b[43m \u001b[49m\u001b[43msubtrace\u001b[49m\u001b[43m,\u001b[49m\u001b[43m \u001b[49m\u001b[43mGenericProblem\u001b[49m\u001b[43m(\u001b[49m\u001b[43margdiffs\u001b[49m\u001b[43m,\u001b[49m\u001b[43m \u001b[49m\u001b[43msubproblem\u001b[49m\u001b[43m)\u001b[49m\n\u001b[1;32m    353\u001b[0m \u001b[43m\u001b[49m\u001b[43m)\u001b[49m\n\u001b[1;32m    354\u001b[0m \u001b[38;5;28mself\u001b[39m\u001b[38;5;241m.\u001b[39mscore \u001b[38;5;241m+\u001b[39m\u001b[38;5;241m=\u001b[39m tr\u001b[38;5;241m.\u001b[39mget_score()\n\u001b[1;32m    355\u001b[0m \u001b[38;5;28mself\u001b[39m\u001b[38;5;241m.\u001b[39mweight \u001b[38;5;241m+\u001b[39m\u001b[38;5;241m=\u001b[39m w\n",
      "File \u001b[0;32m<@beartype(genjax._src.generative_functions.distributions.distribution.Distribution.update) at 0x7f9bdbb240e0>:80\u001b[0m, in \u001b[0;36mupdate\u001b[0;34m(__beartype_object_140307383520256, __beartype_get_violation, __beartype_conf, __beartype_object_99299206435840, __beartype_object_99299205344448, __beartype_object_99299204204192, __beartype_object_140307385455680, __beartype_func, *args, **kwargs)\u001b[0m\n",
      "File \u001b[0;32m~/b3d/.pixi/envs/gpu/lib/python3.12/site-packages/genjax/_src/generative_functions/distributions/distribution.py:465\u001b[0m, in \u001b[0;36mDistribution.update\u001b[0;34m(self, key, trace, update_problem)\u001b[0m\n\u001b[1;32m    463\u001b[0m \u001b[38;5;28;01mmatch\u001b[39;00m update_problem:\n\u001b[1;32m    464\u001b[0m     \u001b[38;5;28;01mcase\u001b[39;00m GenericProblem(argdiffs, subproblem):\n\u001b[0;32m--> 465\u001b[0m         \u001b[38;5;28;01mreturn\u001b[39;00m \u001b[38;5;28;43mself\u001b[39;49m\u001b[38;5;241;43m.\u001b[39;49m\u001b[43mupdate_change_target\u001b[49m\u001b[43m(\u001b[49m\u001b[43mkey\u001b[49m\u001b[43m,\u001b[49m\u001b[43m \u001b[49m\u001b[43mtrace\u001b[49m\u001b[43m,\u001b[49m\u001b[43m \u001b[49m\u001b[43msubproblem\u001b[49m\u001b[43m,\u001b[49m\u001b[43m \u001b[49m\u001b[43margdiffs\u001b[49m\u001b[43m)\u001b[49m\n\u001b[1;32m    466\u001b[0m     \u001b[38;5;28;01mcase\u001b[39;00m\u001b[38;5;250m \u001b[39m\u001b[38;5;28;01m_\u001b[39;00m:\n\u001b[1;32m    467\u001b[0m         \u001b[38;5;28;01mreturn\u001b[39;00m \u001b[38;5;28mself\u001b[39m\u001b[38;5;241m.\u001b[39mupdate_change_target(\n\u001b[1;32m    468\u001b[0m             key, trace, update_problem, Diff\u001b[38;5;241m.\u001b[39mno_change(trace\u001b[38;5;241m.\u001b[39mget_args())\n\u001b[1;32m    469\u001b[0m         )\n",
      "File \u001b[0;32m<@beartype(genjax._src.generative_functions.distributions.distribution.Distribution.update_change_target) at 0x7f9bdbb24040>:105\u001b[0m, in \u001b[0;36mupdate_change_target\u001b[0;34m(__beartype_object_140307383520256, __beartype_get_violation, __beartype_conf, __beartype_object_99299206435840, __beartype_object_99299205344448, __beartype_object_140307387008320, __beartype_object_99299204204192, __beartype_object_140307385455680, __beartype_func, *args, **kwargs)\u001b[0m\n",
      "File \u001b[0;32m~/b3d/.pixi/envs/gpu/lib/python3.12/site-packages/genjax/_src/generative_functions/distributions/distribution.py:452\u001b[0m, in \u001b[0;36mDistribution.update_change_target\u001b[0;34m(self, key, trace, update_problem, argdiffs)\u001b[0m\n\u001b[1;32m    450\u001b[0m \u001b[38;5;28;01mcase\u001b[39;00m ImportanceProblem(constraint) \u001b[38;5;28;01mif\u001b[39;00m \u001b[38;5;28misinstance\u001b[39m(trace, EmptyTrace):\n\u001b[1;32m    451\u001b[0m     primals \u001b[38;5;241m=\u001b[39m Diff\u001b[38;5;241m.\u001b[39mtree_primal(argdiffs)\n\u001b[0;32m--> 452\u001b[0m     \u001b[38;5;28;01mreturn\u001b[39;00m \u001b[38;5;28;43mself\u001b[39;49m\u001b[38;5;241;43m.\u001b[39;49m\u001b[43mupdate_importance\u001b[49m\u001b[43m(\u001b[49m\u001b[43mkey\u001b[49m\u001b[43m,\u001b[49m\u001b[43m \u001b[49m\u001b[43mconstraint\u001b[49m\u001b[43m,\u001b[49m\u001b[43m \u001b[49m\u001b[43mprimals\u001b[49m\u001b[43m)\u001b[49m\n\u001b[1;32m    454\u001b[0m \u001b[38;5;28;01mcase\u001b[39;00m\u001b[38;5;250m \u001b[39m\u001b[38;5;28;01m_\u001b[39;00m:\n\u001b[1;32m    455\u001b[0m     \u001b[38;5;28;01mraise\u001b[39;00m \u001b[38;5;167;01mException\u001b[39;00m(\u001b[38;5;124mf\u001b[39m\u001b[38;5;124m\"\u001b[39m\u001b[38;5;124mNot implement fwd problem: \u001b[39m\u001b[38;5;132;01m{\u001b[39;00mupdate_problem\u001b[38;5;132;01m}\u001b[39;00m\u001b[38;5;124m.\u001b[39m\u001b[38;5;124m\"\u001b[39m)\n",
      "File \u001b[0;32m<@beartype(genjax._src.generative_functions.distributions.distribution.Distribution.update_importance) at 0x7f9bdbaffb00>:78\u001b[0m, in \u001b[0;36mupdate_importance\u001b[0;34m(__beartype_object_140307383520256, __beartype_get_violation, __beartype_conf, __beartype_object_99299206470752, __beartype_object_99299206435840, __beartype_object_99299204204192, __beartype_object_140307385455680, __beartype_object_99299205344448, __beartype_func, *args, **kwargs)\u001b[0m\n",
      "File \u001b[0;32m~/b3d/.pixi/envs/gpu/lib/python3.12/site-packages/genjax/_src/generative_functions/distributions/distribution.py:190\u001b[0m, in \u001b[0;36mDistribution.update_importance\u001b[0;34m(self, key, constraint, args)\u001b[0m\n\u001b[1;32m    188\u001b[0m \u001b[38;5;28;01mmatch\u001b[39;00m constraint:\n\u001b[1;32m    189\u001b[0m     \u001b[38;5;28;01mcase\u001b[39;00m ChoiceMap():\n\u001b[0;32m--> 190\u001b[0m         tr, w, bwd_problem \u001b[38;5;241m=\u001b[39m \u001b[38;5;28;43mself\u001b[39;49m\u001b[38;5;241;43m.\u001b[39;49m\u001b[43mimportance_choice_map\u001b[49m\u001b[43m(\u001b[49m\u001b[43mkey\u001b[49m\u001b[43m,\u001b[49m\u001b[43m \u001b[49m\u001b[43mconstraint\u001b[49m\u001b[43m,\u001b[49m\u001b[43m \u001b[49m\u001b[43margs\u001b[49m\u001b[43m)\u001b[49m\n\u001b[1;32m    191\u001b[0m     \u001b[38;5;28;01mcase\u001b[39;00m MaskedConstraint(flag, inner_constraint):\n\u001b[1;32m    192\u001b[0m         \u001b[38;5;28;01mif\u001b[39;00m staged_check(flag):\n",
      "File \u001b[0;32m<@beartype(genjax._src.generative_functions.distributions.distribution.Distribution.importance_choice_map) at 0x7f9bdbaff9c0>:74\u001b[0m, in \u001b[0;36mimportance_choice_map\u001b[0;34m(__beartype_object_140307383520256, __beartype_get_violation, __beartype_conf, __beartype_object_99299206751344, __beartype_func, *args, **kwargs)\u001b[0m\n",
      "File \u001b[0;32m~/b3d/.pixi/envs/gpu/lib/python3.12/site-packages/genjax/_src/generative_functions/distributions/distribution.py:130\u001b[0m, in \u001b[0;36mDistribution.importance_choice_map\u001b[0;34m(self, key, chm, args)\u001b[0m\n\u001b[1;32m    128\u001b[0m \u001b[38;5;28;01mmatch\u001b[39;00m v:\n\u001b[1;32m    129\u001b[0m     \u001b[38;5;28;01mcase\u001b[39;00m \u001b[38;5;28;01mNone\u001b[39;00m:\n\u001b[0;32m--> 130\u001b[0m         tr \u001b[38;5;241m=\u001b[39m \u001b[38;5;28;43mself\u001b[39;49m\u001b[38;5;241;43m.\u001b[39;49m\u001b[43msimulate\u001b[49m\u001b[43m(\u001b[49m\u001b[43mkey\u001b[49m\u001b[43m,\u001b[49m\u001b[43m \u001b[49m\u001b[43margs\u001b[49m\u001b[43m)\u001b[49m\n\u001b[1;32m    131\u001b[0m         \u001b[38;5;28;01mreturn\u001b[39;00m tr, jnp\u001b[38;5;241m.\u001b[39marray(\u001b[38;5;241m0.0\u001b[39m), EmptyProblem()\n\u001b[1;32m    133\u001b[0m     \u001b[38;5;28;01mcase\u001b[39;00m Mask(flag, value):\n",
      "File \u001b[0;32m<@beartype(genjax._src.generative_functions.distributions.distribution.Distribution.simulate) at 0x7f9bdbaff920>:55\u001b[0m, in \u001b[0;36msimulate\u001b[0;34m(__beartype_object_140307383520256, __beartype_get_violation, __beartype_conf, __beartype_object_99299206435840, __beartype_func, *args, **kwargs)\u001b[0m\n",
      "File \u001b[0;32m~/b3d/.pixi/envs/gpu/lib/python3.12/site-packages/genjax/_src/generative_functions/distributions/distribution.py:117\u001b[0m, in \u001b[0;36mDistribution.simulate\u001b[0;34m(self, key, args)\u001b[0m\n\u001b[1;32m    112\u001b[0m \u001b[38;5;28;01mdef\u001b[39;00m \u001b[38;5;21msimulate\u001b[39m(\n\u001b[1;32m    113\u001b[0m     \u001b[38;5;28mself\u001b[39m,\n\u001b[1;32m    114\u001b[0m     key: PRNGKey,\n\u001b[1;32m    115\u001b[0m     args: \u001b[38;5;28mtuple\u001b[39m[Any, \u001b[38;5;241m.\u001b[39m\u001b[38;5;241m.\u001b[39m\u001b[38;5;241m.\u001b[39m],\n\u001b[1;32m    116\u001b[0m ) \u001b[38;5;241m-\u001b[39m\u001b[38;5;241m>\u001b[39m Trace[R]:\n\u001b[0;32m--> 117\u001b[0m     (w, v) \u001b[38;5;241m=\u001b[39m \u001b[38;5;28;43mself\u001b[39;49m\u001b[38;5;241;43m.\u001b[39;49m\u001b[43mrandom_weighted\u001b[49m\u001b[43m(\u001b[49m\u001b[43mkey\u001b[49m\u001b[43m,\u001b[49m\u001b[43m \u001b[49m\u001b[38;5;241;43m*\u001b[39;49m\u001b[43margs\u001b[49m\u001b[43m)\u001b[49m\n\u001b[1;32m    118\u001b[0m     tr \u001b[38;5;241m=\u001b[39m DistributionTrace(\u001b[38;5;28mself\u001b[39m, args, v, w)\n\u001b[1;32m    119\u001b[0m     \u001b[38;5;28;01mreturn\u001b[39;00m tr\n",
      "File \u001b[0;32m<@beartype(genjax._src.generative_functions.distributions.distribution.ExactDensity.random_weighted) at 0x7f9bdbb25940>:36\u001b[0m, in \u001b[0;36mrandom_weighted\u001b[0;34m(__beartype_object_140307383520256, __beartype_get_violation, __beartype_conf, __beartype_object_99299204204192, __beartype_func, *args, **kwargs)\u001b[0m\n",
      "File \u001b[0;32m~/b3d/.pixi/envs/gpu/lib/python3.12/site-packages/genjax/_src/generative_functions/distributions/distribution.py:519\u001b[0m, in \u001b[0;36mExactDensity.random_weighted\u001b[0;34m(self, key, *args)\u001b[0m\n\u001b[1;32m    511\u001b[0m \u001b[38;5;28;01mdef\u001b[39;00m \u001b[38;5;21mrandom_weighted\u001b[39m(\n\u001b[1;32m    512\u001b[0m     \u001b[38;5;28mself\u001b[39m,\n\u001b[1;32m    513\u001b[0m     key: PRNGKey,\n\u001b[1;32m    514\u001b[0m     \u001b[38;5;241m*\u001b[39margs,\n\u001b[1;32m    515\u001b[0m ) \u001b[38;5;241m-\u001b[39m\u001b[38;5;241m>\u001b[39m \u001b[38;5;28mtuple\u001b[39m[Score, R]:\n\u001b[1;32m    516\u001b[0m \u001b[38;5;250m    \u001b[39m\u001b[38;5;124;03m\"\"\"\u001b[39;00m\n\u001b[1;32m    517\u001b[0m \u001b[38;5;124;03m    Given arguments to the distribution, sample from the distribution, and return the exact log density of the sample, and the sample.\u001b[39;00m\n\u001b[1;32m    518\u001b[0m \u001b[38;5;124;03m    \"\"\"\u001b[39;00m\n\u001b[0;32m--> 519\u001b[0m     v \u001b[38;5;241m=\u001b[39m \u001b[38;5;28;43mself\u001b[39;49m\u001b[38;5;241;43m.\u001b[39;49m\u001b[43msample\u001b[49m\u001b[43m(\u001b[49m\u001b[43mkey\u001b[49m\u001b[43m,\u001b[49m\u001b[43m \u001b[49m\u001b[38;5;241;43m*\u001b[39;49m\u001b[43margs\u001b[49m\u001b[43m)\u001b[49m\n\u001b[1;32m    520\u001b[0m     w \u001b[38;5;241m=\u001b[39m \u001b[38;5;28mself\u001b[39m\u001b[38;5;241m.\u001b[39mestimate_logpdf(key, v, \u001b[38;5;241m*\u001b[39margs)\n\u001b[1;32m    521\u001b[0m     \u001b[38;5;28;01mreturn\u001b[39;00m (w, v)\n",
      "Cell \u001b[0;32mIn[18], line 6\u001b[0m, in \u001b[0;36mMyDistribution.sample\u001b[0;34m(self, key)\u001b[0m\n\u001b[1;32m      5\u001b[0m \u001b[38;5;28;01mdef\u001b[39;00m \u001b[38;5;21msample\u001b[39m(\u001b[38;5;28mself\u001b[39m, key):\n\u001b[0;32m----> 6\u001b[0m     \u001b[38;5;28;01mreturn\u001b[39;00m \u001b[38;5;28mself\u001b[39m\u001b[38;5;241m.\u001b[39mmean \u001b[38;5;241m+\u001b[39m jax\u001b[38;5;241m.\u001b[39mrandom\u001b[38;5;241m.\u001b[39mnormal(key, \u001b[38;5;28;43mself\u001b[39;49m\u001b[38;5;241;43m.\u001b[39;49m\u001b[43mmean\u001b[49m\u001b[38;5;241;43m.\u001b[39;49m\u001b[43mshape\u001b[49m)\n",
      "\u001b[0;31mAttributeError\u001b[0m: 'Diff' object has no attribute 'shape'"
     ]
    }
   ],
   "source": [
    "foo.importance(\n",
    "    r.PRNGKey(0),\n",
    "    genjax.ChoiceMapBuilder.n(),\n",
    "    ({\"dist\": MyDistribution(11.)},)\n",
    ")"
   ]
  },
  {
   "cell_type": "code",
   "execution_count": null,
   "metadata": {},
   "outputs": [],
   "source": []
  }
 ],
 "metadata": {
  "kernelspec": {
   "display_name": "gpu",
   "language": "python",
   "name": "python3"
  },
  "language_info": {
   "codemirror_mode": {
    "name": "ipython",
    "version": 3
   },
   "file_extension": ".py",
   "mimetype": "text/x-python",
   "name": "python",
   "nbconvert_exporter": "python",
   "pygments_lexer": "ipython3",
   "version": "3.12.5"
  }
 },
 "nbformat": 4,
 "nbformat_minor": 2
}
