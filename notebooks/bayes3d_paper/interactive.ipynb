{
 "cells": [
  {
   "cell_type": "code",
   "execution_count": 1,
   "metadata": {},
   "outputs": [],
   "source": [
    "import b3d\n",
    "import jax.numpy as jnp\n",
    "import os\n",
    "from b3d import Mesh, Pose\n",
    "import jax\n",
    "import genjax\n",
    "from genjax import Pytree\n",
    "import rerun as rr\n",
    "from b3d.modeling_utils import uniform_discrete, uniform_pose, gaussian_vmf\n"
   ]
  },
  {
   "cell_type": "code",
   "execution_count": 11,
   "metadata": {},
   "outputs": [
    {
     "name": "stderr",
     "output_type": "stream",
     "text": [
      "100%|██████████| 1/1 [00:00<00:00,  2.85it/s]\n"
     ]
    }
   ],
   "source": [
    "b3d.rr_init(\"interactive\")\n",
    "key = jax.random.PRNGKey(0)\n",
    "ycb_dir = os.path.join(b3d.get_assets_path(), \"bop/ycbv\")\n",
    "scene_id = 49\n",
    "image_id = 100\n",
    "\n",
    "all_data = b3d.io.get_ycbv_test_images(ycb_dir, scene_id, [image_id])\n",
    "\n",
    "meshes = [\n",
    "    Mesh.from_obj_file(os.path.join(ycb_dir, f'models/obj_{f\"{id + 1}\".rjust(6, \"0\")}.ply')).scale(0.001)\n",
    "    for id in all_data[0][\"object_types\"]\n",
    "]\n",
    "\n",
    "height, width = all_data[0][\"rgbd\"].shape[:2]\n",
    "fx,fy,cx,cy = all_data[0][\"camera_intrinsics\"]\n",
    "scaling_factor = 0.3\n",
    "renderer = b3d.renderer.renderer_original.RendererOriginal(\n",
    "    width * scaling_factor, height * scaling_factor, fx * scaling_factor, fy * scaling_factor, cx * scaling_factor, cy * scaling_factor, 0.01, 2.0\n",
    ")"
   ]
  },
  {
   "cell_type": "code",
   "execution_count": 34,
   "metadata": {},
   "outputs": [],
   "source": [
    "from functools import partial\n",
    "\n",
    "# @partial(jax.jit, static_argnums=(2,))\n",
    "@jax.jit\n",
    "def surface_krays_likelihood_intermediate(observed_rgbd, rendered_rgbd, likelihood_args):\n",
    "    scaling_factor = likelihood_args[\"scaling_factor\"].const\n",
    "    fx = likelihood_args[\"fx\"] * scaling_factor\n",
    "    fy = likelihood_args[\"fy\"] * scaling_factor\n",
    "\n",
    "\n",
    "    observed_rgbd = b3d.utils.resize_image(\n",
    "        observed_rgbd, observed_rgbd.shape[0], observed_rgbd.shape[1]\n",
    "    )\n",
    "    rendered_rgbd = b3d.utils.resize_image(\n",
    "        rendered_rgbd, observed_rgbd.shape[0], observed_rgbd.shape[1]\n",
    "    )\n",
    "\n",
    "    observed_rgb = observed_rgbd[..., :3]\n",
    "    observed_depth = observed_rgbd[...,3]\n",
    "\n",
    "    rendered_rgb = rendered_rgbd[..., :3]\n",
    "    rendered_depth = rendered_rgbd[...,3]\n",
    "\n",
    "    observed_lab = b3d.colors.rgb_to_lab(observed_rgb) / jnp.array([100.0, 256.0, 256.0]) + jnp.array([0.0, 0.5, 0.5])\n",
    "    rendered_lab = b3d.colors.rgb_to_lab(rendered_rgb) / jnp.array([100.0, 256.0, 256.0]) + jnp.array([0.0, 0.5, 0.5])\n",
    "\n",
    "    color_variance = likelihood_args[\"color_variance\"]\n",
    "    depth_variance = likelihood_args[\"depth_variance\"]\n",
    "    outlier_prob = likelihood_args[\"outlier_prob\"]\n",
    "    outlier_volume = likelihood_args[\"outlier_volume\"]\n",
    "\n",
    "    multiplier = likelihood_args[\"multiplier\"]\n",
    "\n",
    "    observed_depth_corrected = observed_depth + (observed_depth == 0.0) * renderer.far\n",
    "    rendered_areas = (rendered_depth / fx) * (rendered_depth / fy)\n",
    "    observed_areas = (observed_depth_corrected / fx) * (observed_depth_corrected / fy)\n",
    "\n",
    "    color_pdf = jax.scipy.stats.truncnorm.pdf(\n",
    "        (observed_lab - rendered_lab),\n",
    "        a=jnp.ones(3) * -1.0,\n",
    "        b=jnp.ones(3) * 1.0,\n",
    "        loc=jnp.zeros(3),\n",
    "        scale=color_variance\n",
    "    ).prod(-1)\n",
    "\n",
    "    depth_width = 0.1\n",
    "    depth_multiplier = 0.1\n",
    "    depth_pdf = jax.scipy.stats.truncnorm.pdf(\n",
    "        (observed_depth - rendered_depth) * depth_multiplier,\n",
    "        a=-depth_width * depth_multiplier,\n",
    "        b=depth_width * depth_multiplier,\n",
    "        loc=0.0,\n",
    "        scale=depth_variance\n",
    "    )\n",
    "\n",
    "    inliers_integral = color_pdf * depth_pdf * rendered_areas * (1.0 - outlier_prob)\n",
    "    outlier_integral = observed_areas * 1 / outlier_volume * outlier_prob \n",
    "    pixelwise_score = (inliers_integral + outlier_integral)\n",
    "\n",
    "    return {\n",
    "        \"score\": jnp.log(jnp.sum(pixelwise_score))  * multiplier,\n",
    "        \"depth_score\": depth_pdf,\n",
    "        \"color_score\": color_pdf,\n",
    "        \"observed_rgbd\": observed_rgbd,\n",
    "        \"rendered_rgbd\": rendered_rgbd,\n",
    "        \"outlier_integral\": outlier_integral,\n",
    "        \"inliers_integral\": inliers_integral,\n",
    "        \"pixelwise_score\": pixelwise_score,\n",
    "    }\n",
    "\n",
    "import b3d.chisight.dense.dense_model\n",
    "import importlib; importlib.reload(b3d.chisight.dense.dense_model)\n",
    "dense_multiobject_model = b3d.chisight.dense.dense_model.make_dense_multiobject_model(\n",
    "    renderer, surface_krays_likelihood_intermediate\n",
    ")\n",
    "importance_jit = jax.jit(dense_multiobject_model.importance)"
   ]
  },
  {
   "cell_type": "code",
   "execution_count": 50,
   "metadata": {},
   "outputs": [
    {
     "name": "stdout",
     "output_type": "stream",
     "text": [
      "-900.4117\n"
     ]
    }
   ],
   "source": [
    "\n",
    "color_variance=0.01\n",
    "depth_variance=0.02\n",
    "outlier_prob=0.0001\n",
    "outlier_volume=5.0\n",
    "multiplier=65.0\n",
    "likelihood_args= {\n",
    "    \"color_variance\": jnp.ones(3) * color_variance,\n",
    "    \"depth_variance\": depth_variance,\n",
    "    \"outlier_prob\": outlier_prob,\n",
    "    \"outlier_volume\": outlier_volume,\n",
    "    \"multiplier\": multiplier,\n",
    "    \"fx\": fx,\n",
    "    \"fy\": fy,\n",
    "    \"scaling_factor\": Pytree.const(0.5)\n",
    "}\n",
    "initial_camera_pose = all_data[0][\"camera_pose\"]\n",
    "initial_object_poses = all_data[0][\"object_poses\"]\n",
    "IDX = 0\n",
    "pose = initial_camera_pose.inv() @ initial_object_poses[IDX]\n",
    "\n",
    "choicemap = genjax.ChoiceMap.d(\n",
    "    dict(\n",
    "        [\n",
    "            (\"object_pose_0\",  pose),\n",
    "            (\"image\", \n",
    "                b3d.utils.resize_image(\n",
    "                    all_data[0][\"rgbd\"], int(renderer.height * likelihood_args[\"scaling_factor\"].const), int(renderer.width * likelihood_args[\"scaling_factor\"].const)\n",
    "                )\n",
    "            )\n",
    "        ]\n",
    "    )\n",
    ")\n",
    "\n",
    "trace, _ = importance_jit(\n",
    "    jax.random.PRNGKey(2),\n",
    "    choicemap,\n",
    "    ({\"num_objects\": Pytree.const(1), \"meshes\": [meshes[IDX]], \"likelihood_args\": likelihood_args},),\n",
    ")\n",
    "print(trace.get_score())\n",
    "\n",
    "\n",
    "b3d.rr_init(\"interactive\")\n",
    "num_samples = 10\n",
    "for t in range(num_samples):\n",
    "    rr.log(\n",
    "        f\"img_{t}\",\n",
    "        rr.Image(trace.get_choices()[\"image\"][..., :3]),\n",
    "        timeless=True\n",
    "    )"
   ]
  },
  {
   "cell_type": "code",
   "execution_count": 107,
   "metadata": {},
   "outputs": [
    {
     "name": "stdout",
     "output_type": "stream",
     "text": [
      "21\n"
     ]
    }
   ],
   "source": [
    "key = jax.random.split(key, 2)[-1]\n",
    "w = 0.05\n",
    "batch_length = 1000\n",
    "test_poses = Pose.concatenate_poses(\n",
    "    [\n",
    "        pose @ Pose.sample_uniform_pose_vmap(\n",
    "            jax.random.split(key, 20000),\n",
    "            -w/2*jnp.ones(3),\n",
    "            w/2*jnp.ones(3)\n",
    "        ),\n",
    "        # pose[None,...]\n",
    "    ]\n",
    ")\n",
    "split_poses = [test_poses[i] for i in jnp.array_split(jnp.arange(test_poses.shape[0]), test_poses.shape[0] // batch_length + 1)]\n",
    "print(len(split_poses))"
   ]
  },
  {
   "cell_type": "code",
   "execution_count": 105,
   "metadata": {},
   "outputs": [],
   "source": [
    "@jax.jit\n",
    "def fine_grain_inference(\n",
    "    color_variance,\n",
    "    depth_variance,\n",
    "    outlier_prob,\n",
    "    outlier_volume,\n",
    "    multiplier,\n",
    "    scaling_factor,\n",
    "    test_poses,\n",
    "    split_poses, \n",
    "):\n",
    "    key = jax.random.split(jax.random.PRNGKey(0), 2)[-1]\n",
    "    likelihood_args= {\n",
    "        \"color_variance\": jnp.ones(3) * color_variance,\n",
    "        \"depth_variance\": depth_variance,\n",
    "        \"outlier_prob\": outlier_prob,\n",
    "        \"outlier_volume\": outlier_volume,\n",
    "        \"multiplier\": multiplier,\n",
    "        \"fx\": fx,\n",
    "        \"fy\": fy,\n",
    "        \"scaling_factor\": scaling_factor\n",
    "    }\n",
    "    choicemap = genjax.ChoiceMap.d(\n",
    "        dict(\n",
    "            [\n",
    "                (\"object_pose_0\",  pose),\n",
    "                (\"image\", \n",
    "                    b3d.utils.resize_image(\n",
    "                        all_data[0][\"rgbd\"], int(renderer.height * likelihood_args[\"scaling_factor\"].const), int(renderer.width * likelihood_args[\"scaling_factor\"].const)\n",
    "                    )\n",
    "                )\n",
    "            ]\n",
    "        )\n",
    "    )\n",
    "    trace, _ = importance_jit(\n",
    "        jax.random.PRNGKey(2),\n",
    "        choicemap,\n",
    "        ({\"num_objects\": Pytree.const(1), \"meshes\": [meshes[IDX]], \"likelihood_args\": likelihood_args},),\n",
    "    )\n",
    "    scores = jnp.concatenate([\n",
    "        b3d.enumerate_choices_get_scores(\n",
    "            trace, key, Pytree.const((\"object_pose_0\",)), p\n",
    "        )\n",
    "        for p in split_poses\n",
    "    ])\n",
    "\n",
    "    sampled_indices = jax.random.categorical(key, scores, shape=(num_samples,))\n",
    "    traces = b3d.enumerate_choices(\n",
    "        trace, key, Pytree.const((\"object_pose_0\",)), test_poses[sampled_indices]\n",
    "    )\n",
    "    return traces"
   ]
  },
  {
   "cell_type": "code",
   "execution_count": 110,
   "metadata": {},
   "outputs": [
    {
     "name": "stdout",
     "output_type": "stream",
     "text": [
      "Done!\n"
     ]
    }
   ],
   "source": [
    "def visualize_posterior_samples(\n",
    "    color_variance,\n",
    "    depth_variance,\n",
    "    outlier_prob,\n",
    "    outlier_volume,\n",
    "    multiplier,\n",
    "    scaling_factor,\n",
    "    test_poses,\n",
    "    split_poses,\n",
    "):\n",
    "    traces = fine_grain_inference(\n",
    "        color_variance,\n",
    "        depth_variance,\n",
    "        outlier_prob,\n",
    "        outlier_volume,\n",
    "        multiplier,\n",
    "        Pytree.const(scaling_factor),\n",
    "        test_poses,\n",
    "        split_poses,\n",
    "    )\n",
    "\n",
    "    intermediate_info = jax.vmap(surface_krays_likelihood_intermediate)(\n",
    "        traces.get_choices()[\"image\"], \n",
    "        traces.get_retval()[\"latent_rgbd\"],\n",
    "        traces.get_args()[0][\"likelihood_args\"]\n",
    "    )\n",
    "\n",
    "    for t in range(num_samples):\n",
    "        rr.log(\n",
    "            f\"img_{t}\",\n",
    "            rr.Image(intermediate_info[\"observed_rgbd\"][t][...,:3])\n",
    "        )\n",
    "        rr.log(\n",
    "            f\"img_{t}/rerender\",\n",
    "            rr.Image(intermediate_info[\"rendered_rgbd\"][t][...,:3])\n",
    "        )\n",
    "    print(\"Done!\")\n",
    "    \n",
    "    \n",
    "visualize_posterior_samples(\n",
    "    color_variance=0.01,\n",
    "    depth_variance=0.02,\n",
    "    outlier_prob=0.0001,\n",
    "    outlier_volume=5.0,\n",
    "    multiplier=65.0,\n",
    "    scaling_factor=0.5,\n",
    "    test_poses=test_poses,\n",
    "    split_poses=split_poses\n",
    ")"
   ]
  },
  {
   "cell_type": "code",
   "execution_count": 111,
   "metadata": {},
   "outputs": [
    {
     "data": {
      "application/vnd.jupyter.widget-view+json": {
       "model_id": "802f504310f7495097437f6ac32a7da3",
       "version_major": 2,
       "version_minor": 0
      },
      "text/plain": [
       "interactive(children=(FloatSlider(value=0.13, continuous_update=False, description='color_variance', max=0.5, …"
      ]
     },
     "metadata": {},
     "output_type": "display_data"
    },
    {
     "data": {
      "text/plain": [
       "<function __main__.visualize_posterior_samples(color_variance, depth_variance, outlier_prob, outlier_volume, multiplier, scaling_factor, test_poses, split_poses)>"
      ]
     },
     "execution_count": 111,
     "metadata": {},
     "output_type": "execute_result"
    }
   ],
   "source": [
    "from ipywidgets import interact, interactive, fixed, interact_manual\n",
    "from ipywidgets import FloatSlider\n",
    "rr.set_time_sequence(\"time\", 0)\n",
    "cu = False\n",
    "interact(\n",
    "    visualize_posterior_samples,\n",
    "    color_variance=FloatSlider(value=0.13,min=0.001, max=0.5, step=0.001, continuous_update=cu),\n",
    "    depth_variance=FloatSlider(value=0.06,min=0.001, max=0.5, step=0.001, continuous_update=cu),\n",
    "    outlier_prob=FloatSlider(value=0.001, min=0.00001, max=1.0, step=0.05, continuous_update=cu),\n",
    "    outlier_volume=FloatSlider(value=1.0,min=1.0, max=10.0, step=1.0, continuous_update=cu),\n",
    "    multiplier=FloatSlider(value=3.0,min=1.0, max=200.0, step=1.0, continuous_update=cu),\n",
    "    scaling_factor=FloatSlider(value=0.5,min=0.2, max=1.0, step=0.1, continuous_update=cu),\n",
    "    test_poses=fixed(test_poses),\n",
    "    split_poses=fixed(split_poses)\n",
    ")"
   ]
  },
  {
   "cell_type": "code",
   "execution_count": null,
   "metadata": {},
   "outputs": [],
   "source": []
  },
  {
   "cell_type": "code",
   "execution_count": 33,
   "metadata": {},
   "outputs": [
    {
     "data": {
      "text/plain": [
       "(Array([-6.003183 , -5.982863 , -5.952487 , ..., -5.967316 , -5.9038825,\n",
       "        -5.699437 ], dtype=float32),\n",
       " Array(-5.699437, dtype=float32))"
      ]
     },
     "execution_count": 33,
     "metadata": {},
     "output_type": "execute_result"
    }
   ],
   "source": [
    "scores, scores.max()"
   ]
  },
  {
   "cell_type": "code",
   "execution_count": null,
   "metadata": {},
   "outputs": [],
   "source": []
  },
  {
   "cell_type": "code",
   "execution_count": 102,
   "metadata": {},
   "outputs": [
    {
     "name": "stdout",
     "output_type": "stream",
     "text": [
      "[14095 14095 14095 14095 14095 14095 14095 14095 14095 14095 14095 14095\n",
      " 14095 14095 14095 14095 14095 14095 14095 14095 14095 14095 14095 14095\n",
      " 14095 14095 14095 14095 14095 14095 14095 14095 14095 14095 14095 14095\n",
      " 14095 14095 14095 14095 14095 14095 14095 14095 14095 14095 14095 14095\n",
      " 14095 14095 14095 14095 14095 14095 14095 14095 14095 14095 14095 14095\n",
      " 14095 14095 14095 14095 14095 14095 14095 14095 14095 14095 14095 14095\n",
      " 14095 14095 14095 14095 14095 14095 14095 14095 14095 14095 14095 14095\n",
      " 14095 14095 14095 14095 14095 14095 14095 14095 14095 14095 14095 14095\n",
      " 14095 14095 14095 14095]\n"
     ]
    }
   ],
   "source": [
    "print(sampled_indices)\n",
    "pose_samples = test_poses[sampled_indices]\n",
    "images = renderer.render_rgbd_from_mesh(\n",
    "    meshes[IDX].transform(pose_samples[0])\n",
    ")\n",
    "images = jax.vmap(\n",
    "    lambda i: renderer.render_rgbd_from_mesh(\n",
    "        meshes[IDX].transform(pose_samples[i])\n",
    "    )\n",
    ")(jnp.arange(len(pose_samples)))\n",
    "\n",
    "\n",
    "\n",
    "for t in range(len(images)):\n",
    "    rr.set_time_sequence(\"time\", t)\n",
    "    rr.log(\n",
    "        \"image/rerender\",\n",
    "        rr.Image(images[t][..., :3]),\n",
    "    )\n"
   ]
  },
  {
   "cell_type": "code",
   "execution_count": 104,
   "metadata": {},
   "outputs": [
    {
     "data": {
      "text/plain": [
       "Array(2492.451, dtype=float32)"
      ]
     },
     "execution_count": 104,
     "metadata": {},
     "output_type": "execute_result"
    }
   ],
   "source": [
    "scores.max()"
   ]
  },
  {
   "cell_type": "code",
   "execution_count": 103,
   "metadata": {},
   "outputs": [
    {
     "data": {
      "text/plain": [
       "Array([-6.0253487, -6.025215 , 86.84036  , ..., -3.1231146,  3.211216 ,\n",
       "       99.93143  ], dtype=float32)"
      ]
     },
     "execution_count": 103,
     "metadata": {},
     "output_type": "execute_result"
    }
   ],
   "source": [
    "scores"
   ]
  },
  {
   "cell_type": "code",
   "execution_count": 75,
   "metadata": {},
   "outputs": [
    {
     "data": {
      "text/plain": [
       "Array([2138, 2138, 2138, 2138, 2138, 2138, 2138, 2138, 2138, 2138, 2138,\n",
       "       2138, 2138, 2138, 2138, 2138, 2138, 2138, 2138, 2138, 2138, 2138,\n",
       "       2138, 2138, 2138, 2138, 2138, 2138, 2138, 2138, 2138, 2138, 2138,\n",
       "       2138, 2138, 2138, 2138, 2138, 2138, 2138, 2138, 2138, 2138, 2138,\n",
       "       2138, 2138, 2138, 2138, 2138, 2138, 2138, 2138, 2138, 2138, 2138,\n",
       "       2138, 2138, 2138, 2138, 2138, 2138, 2138, 2138, 2138, 2138, 2138,\n",
       "       2138, 2138, 2138, 2138, 2138, 2138, 2138, 2138, 2138, 2138, 2138,\n",
       "       2138, 2138, 2138, 2138, 2138, 2138, 2138, 2138, 2138, 2138, 2138,\n",
       "       2138, 2138, 2138, 2138, 2138, 2138, 2138, 2138, 2138, 2138, 2138,\n",
       "       2138], dtype=int32)"
      ]
     },
     "execution_count": 75,
     "metadata": {},
     "output_type": "execute_result"
    }
   ],
   "source": []
  },
  {
   "cell_type": "code",
   "execution_count": 72,
   "metadata": {},
   "outputs": [],
   "source": []
  },
  {
   "cell_type": "code",
   "execution_count": null,
   "metadata": {},
   "outputs": [],
   "source": []
  }
 ],
 "metadata": {
  "kernelspec": {
   "display_name": "b3d",
   "language": "python",
   "name": "python3"
  },
  "language_info": {
   "codemirror_mode": {
    "name": "ipython",
    "version": 3
   },
   "file_extension": ".py",
   "mimetype": "text/x-python",
   "name": "python",
   "nbconvert_exporter": "python",
   "pygments_lexer": "ipython3",
   "version": "3.12.4"
  }
 },
 "nbformat": 4,
 "nbformat_minor": 2
}
