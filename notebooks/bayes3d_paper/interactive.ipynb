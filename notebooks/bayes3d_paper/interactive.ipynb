{
    "cells": [
        {
            "cell_type": "code",
            "execution_count": 1,
            "metadata": {},
            "outputs": [],
            "source": [
                "import b3d\n",
                "import jax.numpy as jnp\n",
                "import os\n",
                "from b3d import Mesh, Pose\n",
                "import jax\n",
                "import genjax\n",
                "from genjax import Pytree\n",
                "import rerun as rr\n",
                "from b3d.modeling_utils import uniform_discrete, uniform_pose, gaussian_vmf\n",
                "import matplotlib.pyplot as plt\n",
                "from functools import partial\n",
                "import importlib\n",
                "from ipywidgets import interact\n",
                "import ipywidgets as widgets\n",
                "\n",
                "import matplotlib.pyplot as plt\n",
                "import numpy as np\n"
            ]
        },
        {
            "cell_type": "code",
            "execution_count": null,
            "metadata": {},
            "outputs": [],
            "source": []
        },
        {
            "cell_type": "code",
            "execution_count": 2,
            "metadata": {},
            "outputs": [
                {
                    "name": "stderr",
                    "output_type": "stream",
                    "text": [
                        "100%|██████████| 20/20 [00:09<00:00,  2.20it/s]\n"
                    ]
                }
            ],
            "source": [
                "b3d.rr_init(\"interactive\")\n",
                "key = jax.random.PRNGKey(0)\n",
                "ycb_dir = os.path.join(b3d.get_assets_path(), \"bop/ycbv\")\n",
                "scene_id = 49\n",
                "image_id = 100\n",
                "\n",
                "all_data = b3d.io.get_ycbv_test_images(ycb_dir, scene_id, range(1,1000,50))\n",
                "\n",
                "meshes = [\n",
                "    Mesh.from_obj_file(os.path.join(ycb_dir, f'models/obj_{f\"{id + 1}\".rjust(6, \"0\")}.ply')).scale(0.001)\n",
                "    for id in all_data[0][\"object_types\"]\n",
                "]\n",
                "\n",
                "height, width = all_data[0][\"rgbd\"].shape[:2]\n",
                "fx,fy,cx,cy = all_data[0][\"camera_intrinsics\"]\n",
                "scaling_factor = 0.1\n",
                "renderer = b3d.renderer.renderer_original.RendererOriginal(\n",
                "    width * scaling_factor, height * scaling_factor, fx * scaling_factor, fy * scaling_factor, cx * scaling_factor, cy * scaling_factor, 0.01, 2.0\n",
                ")\n",
                "\n",
                "IDX = 0\n",
                "rendered_rgbds = [\n",
                "    renderer.render_rgbd_from_mesh(meshes[IDX].transform(all_data[T][\"camera_pose\"].inv() @ all_data[T][\"object_poses\"][IDX]))\n",
                "    for T in range(len(all_data))\n",
                "]\n",
                "\n",
                "observed_rgbd_scaled_down = b3d.resize_image(all_data[0][\"rgbd\"], renderer.height, renderer.width)"
            ]
        },
        {
            "cell_type": "code",
            "execution_count": 3,
            "metadata": {},
            "outputs": [
                {
                    "data": {
                        "image/jpeg": "[encoded data removed]",
                        "image/png": "[encoded data removed]",
                        "text/plain": [
                            "<PIL.Image.Image image mode=RGB size=64x48>"
                        ]
                    },
                    "execution_count": 3,
                    "metadata": {},
                    "output_type": "execute_result"
                }
            ],
            "source": [
                "b3d.viz_rgb(rendered_rgbds[0])"
            ]
        },
        {
            "cell_type": "code",
            "execution_count": 47,
            "metadata": {},
            "outputs": [],
            "source": [
                "@Pytree.dataclass\n",
                "class MaskedKImageLikelihoodMarginalizeOutlier(genjax.ExactDensity):\n",
                "    def sample(self, key,\n",
                "        row_coordinates,\n",
                "        column_coordinates,\n",
                "        rendered_color_space_d,\n",
                "        inlier_variances,\n",
                "        outlier_variances,\n",
                "        outlier_probability,\n",
                "        lower_bound, upper_bound,\n",
                "        image_height, image_width\n",
                "    ):\n",
                "        observed_image = jnp.zeros((image_height.const, image_width.const, 4))\n",
                "\n",
                "        no_mesh_surface = (rendered_color_space_d[..., 3] == 0)[row_coordinates, column_coordinates]\n",
                "        outlier_probability_adjusted = outlier_probability * (1 - no_mesh_surface) + no_mesh_surface * 1.0\n",
                "\n",
                "        is_outlier = jax.vmap(genjax.bernoulli.sample,in_axes=(0, 0))(\n",
                "            jax.random.split(key, len(row_coordinates)), jax.scipy.special.logit(outlier_probability_adjusted)\n",
                "        )\n",
                "\n",
                "        sampled_inlier_values = jax.vmap(genjax.truncated_normal.sample, in_axes=(0, 0, None, None, None))(\n",
                "            jax.random.split(key, len(row_coordinates)), rendered_color_space_d[row_coordinates, column_coordinates], inlier_variances,\n",
                "            lower_bound, upper_bound\n",
                "        )\n",
                "        sampled_outlier_values = jax.vmap(genjax.truncated_normal.sample, in_axes=(0, 0, None, None, None))(\n",
                "            jax.random.split(key, len(row_coordinates)), rendered_color_space_d[row_coordinates, column_coordinates], outlier_variances,\n",
                "            lower_bound, upper_bound\n",
                "        )\n",
                "        sampled_values = (\n",
                "            is_outlier[...,None] * sampled_outlier_values + (1 - is_outlier[...,None]) * sampled_inlier_values\n",
                "        )\n",
                "        # sampled_values = jnp.where(is_outlier, sampled_outlier_values, sampled_inlier_values)\n",
                "\n",
                "        observed_image = observed_image.at[row_coordinates, column_coordinates, :].set(sampled_values)\n",
                "        return observed_image\n",
                "\n",
                "    def logpdf(self,\n",
                "        observed_color_space_d,\n",
                "        row_coordinates,\n",
                "        column_coordinates,\n",
                "        rendered_color_space_d,\n",
                "        inlier_variances,\n",
                "        outlier_variances,\n",
                "        outlier_probability,\n",
                "        lower_bound, upper_bound,\n",
                "        image_height, image_width\n",
                "    ):\n",
                "        no_mesh_surface = (rendered_color_space_d[..., 3] == 0)[row_coordinates, column_coordinates]\n",
                "        subset_observed = observed_color_space_d[row_coordinates, column_coordinates]\n",
                "\n",
                "        outlier_probability_adjusted = outlier_probability * (1 - no_mesh_surface) + no_mesh_surface * 1.0\n",
                "\n",
                "        subset_observed_rescaled = (subset_observed - lower_bound) / (upper_bound - lower_bound)\n",
                "        rendered_values_rescaled = (rendered_color_space_d[row_coordinates, column_coordinates] - lower_bound) / (upper_bound - lower_bound)\n",
                "\n",
                "        scores_inlier = jax.vmap(genjax.truncated_normal.logpdf, in_axes=(0, 0, None, None, None))(\n",
                "            subset_observed_rescaled, rendered_values_rescaled, inlier_variances / (upper_bound - lower_bound),\n",
                "            0.0, 1.0\n",
                "        )\n",
                "        scores_outlier = jax.vmap(genjax.truncated_normal.logpdf, in_axes=(0, None, None, None, None))(\n",
                "            subset_observed_rescaled, 0.5, outlier_variances / (upper_bound - lower_bound),\n",
                "            0.0, 1.0\n",
                "        )\n",
                "\n",
                "        scores_inlier_merged = jax.nn.logsumexp(scores_inlier[..., 1:3] + jnp.log(1/3), axis=-1) + scores_inlier[..., 3] + jnp.log(1.0 - outlier_probability_adjusted) \n",
                "        scores_outlier_merged = jax.nn.logsumexp(scores_outlier[..., 1:3] + jnp.log(1/3), axis=-1) + scores_outlier[..., 3] + jnp.log(outlier_probability_adjusted)\n",
                "        return jnp.logaddexp(scores_inlier_merged, scores_outlier_merged).sum()\n",
                "\n",
                "masked_k_image_likelihood_marginalize_outlier_prob = MaskedKImageLikelihoodMarginalizeOutlier()\n",
                "\n",
                "\n",
                "# k = 10\n",
                "# masked_k_image_likelihood.logpdf(\n",
                "#     jnp.zeros((renderer.height, renderer.width, 4)),\n",
                "#     jnp.arange(k),\n",
                "#     jnp.arange(k),\n",
                "#     jnp.ones(k) * 0.1,\n",
                "#     jnp.zeros(k),\n",
                "#     jnp.zeros(4)- 0.1,\n",
                "#     jnp.ones(4),\n",
                "#     renderer.height,\n",
                "#     renderer.width\n",
                "# )\n",
                "# masked_k_image_likelihood.sample(\n",
                "#     key,\n",
                "#     jnp.arange(k),\n",
                "#     jnp.arange(k),\n",
                "#     jnp.ones(k) * 0.1,\n",
                "#     jnp.zeros(k),\n",
                "#     jnp.zeros(4)- 0.1,\n",
                "#     jnp.ones(4),\n",
                "#     renderer.height,\n",
                "#     renderer.width\n",
                "# );"
            ]
        },
        {
            "cell_type": "code",
            "execution_count": 103,
            "metadata": {},
            "outputs": [],
            "source": [
                "def plot_trace(trace):\n",
                "    fig, ax = plt.subplots(1, 5, figsize=(10, 5))\n",
                "\n",
                "    ax[0].imshow(trace.get_retval()[\"rendered_rgbd\"][..., :3])\n",
                "    ax[0].axis('off')\n",
                "\n",
                "    ax[1].imshow(trace.get_retval()[\"sampled_rgbd\"][..., :3])\n",
                "    ax[1].axis('off')\n",
                "\n",
                "    ax[2].matshow(trace.get_retval()[\"sampled_rgbd\"][..., 3])\n",
                "    ax[2].axis('off')\n",
                "\n",
                "\n",
                "    ax[3].imshow(trace.get_retval()[\"observed_rgbd\"][..., :3])\n",
                "    ax[3].axis('off')\n",
                "\n",
                "\n",
                "    ax[4].imshow(trace.get_retval()[\"observed_rgbd\"][..., :3],alpha=1.0)\n",
                "    ax[4].imshow(trace.get_retval()[\"rendered_rgbd\"][..., :3],alpha=0.5)\n",
                "    ax[4].axis('off')\n",
                "    return fig\n"
            ]
        },
        {
            "cell_type": "code",
            "execution_count": 132,
            "metadata": {},
            "outputs": [],
            "source": [
                "lower_bound = jnp.array([0.0, -100.0, -100.0, 0.0])\n",
                "upper_bound = jnp.array([100.0, 100.0, 100.0, 4.0])\n",
                "convert_rgbd_to_color_space = lambda x: b3d.colors.rgbd_to_labd(x)\n",
                "convert_color_space_to_rgbd = lambda x: b3d.colors.labd_to_rgbd(x)\n",
                "\n",
                "@genjax.gen\n",
                "def ray_model(args):\n",
                "    likelihood_args = args[\"likelihood_args\"]\n",
                "    pose = (\n",
                "        uniform_pose(jnp.ones(3) * -100.0, jnp.ones(3) * 100.0) @ f\"object_pose_0\"\n",
                "    )\n",
                "    rendered_rgbd = renderer.render_rgbd_from_mesh(meshes[IDX].transform(pose))\n",
                "    rendered_color_space_d = convert_rgbd_to_color_space(rendered_rgbd)\n",
                "\n",
                "    k = likelihood_args[\"k\"].const\n",
                "    image_height, image_width = rendered_color_space_d.shape[0], rendered_color_space_d.shape[1]\n",
                "    image_height = Pytree.const(image_height)\n",
                "    image_width = Pytree.const(image_width)\n",
                "\n",
                "    row_coordinates = genjax.categorical.vmap(in_axes=(0,))(\n",
                "            jnp.ones((k, image_height.const))\n",
                "    )  @ \"row_coordinates\"\n",
                "    column_coordinates = genjax.categorical.vmap(in_axes=(0,))(\n",
                "            jnp.ones((k, image_width.const))\n",
                "    ) @ \"column_coordinates\"\n",
                "\n",
                "\n",
                "    outlier_probability = genjax.uniform(0.0, 1.0) @ \"outlier_probability\"\n",
                "    inlier_color_variance = genjax.uniform(0.01, 100.0) @ \"inlier_color_variance\"\n",
                "    inlier_lightness_variance = genjax.uniform(0.01, 100.0) @ \"inlier_lightness_variance\"\n",
                "    inlier_depth_variance = genjax.uniform(0.01, 1000.0) @ \"inlier_depth_variance\"\n",
                "\n",
                "    inlier_variances = jnp.array([inlier_lightness_variance, inlier_color_variance, inlier_color_variance, inlier_depth_variance])\n",
                "    outlier_variances = jnp.array([1000000.0, 1000000.0, 1000000.0, 1000000.0])\n",
                "\n",
                "\n",
                "    sampled_color_space_d = masked_k_image_likelihood_marginalize_outlier_prob.sample(\n",
                "        key,\n",
                "        row_coordinates,\n",
                "        column_coordinates,\n",
                "        rendered_color_space_d,\n",
                "        inlier_variances,\n",
                "        outlier_variances,\n",
                "        outlier_probability,\n",
                "        lower_bound, upper_bound,\n",
                "        image_height, image_width\n",
                "    )\n",
                "\n",
                "    observed_color_space_d = masked_k_image_likelihood_marginalize_outlier_prob(\n",
                "        row_coordinates,\n",
                "        column_coordinates,\n",
                "        rendered_color_space_d,\n",
                "        inlier_variances,\n",
                "        outlier_variances,\n",
                "        outlier_probability,\n",
                "        lower_bound, upper_bound,\n",
                "        image_height, image_width\n",
                "    ) @ \"observed_color_space_d\"\n",
                "\n",
                "    observed_rgbd = convert_color_space_to_rgbd(observed_color_space_d)\n",
                "    sampled_rgbd = convert_color_space_to_rgbd(sampled_color_space_d)\n",
                "\n",
                "    return {\n",
                "        \"rendered_rgbd\": rendered_rgbd,\n",
                "        \"sampled_rgbd\": sampled_rgbd,\n",
                "        \"observed_rgbd\": observed_rgbd,\n",
                "\n",
                "        \"rendered_color_space_d\": rendered_color_space_d,\n",
                "        \"sampled_color_space_d\": sampled_color_space_d,\n",
                "        \"observed_color_space_d\": observed_color_space_d,\n",
                "    }\n",
                "\n",
                "importance_jit = jax.jit(ray_model.importance)\n",
                "update_jit = jax.jit(ray_model.update)\n",
                "\n",
                "\n",
                "\n",
                "\n",
                "def plot_interactive(trace):\n",
                "    def _make_viz(outlier_probability, inlier_lightness_variance, inlier_color_variance, inlier_depth_variance):\n",
                "        choicemap = genjax.ChoiceMap.d(\n",
                "            {\n",
                "                \"outlier_probability\": outlier_probability,\n",
                "                \"inlier_lightness_variance\": inlier_lightness_variance,\n",
                "                \"inlier_color_variance\": inlier_color_variance,\n",
                "                \"inlier_depth_variance\": inlier_depth_variance,\n",
                "            }\n",
                "        )\n",
                "        modified_trace = update_jit(\n",
                "            key,\n",
                "            trace,\n",
                "            choicemap\n",
                "        )[0]\n",
                "        plot_trace(modified_trace)\n",
                "\n",
                "    interact(_make_viz,\n",
                "        k = widgets.IntSlider(value=10000, min=1, max=100000, step=1),\n",
                "        outlier_probability = widgets.FloatSlider(\n",
                "            value=trace.get_choices()[\"outlier_probability\"],\n",
                "            min=outlier_probability_sweep.min(),\n",
                "            max=outlier_probability_sweep.max(),\n",
                "            step=0.01\n",
                "        ),\n",
                "        inlier_lightness_variance = widgets.FloatSlider(\n",
                "            value=trace.get_choices()[\"inlier_lightness_variance\"],\n",
                "            min=inlier_lightness_variance_sweep.min(),\n",
                "            max=inlier_lightness_variance_sweep.max(),\n",
                "            step=0.01\n",
                "        ),\n",
                "        inlier_color_variance = widgets.FloatSlider(\n",
                "            value=trace.get_choices()[\"inlier_color_variance\"],\n",
                "            min=inlier_color_variance_sweep.min(),\n",
                "            max=inlier_color_variance_sweep.max(),\n",
                "            step=0.01\n",
                "        ),\n",
                "        inlier_depth_variance = widgets.FloatSlider(\n",
                "            value=trace.get_choices()[\"inlier_depth_variance\"],\n",
                "            min=inlier_depth_variance_sweep.min(),\n",
                "            max=inlier_depth_variance_sweep.max(),\n",
                "            step=0.01\n",
                "        ),\n",
                "    )\n",
                "\n",
                "@jax.jit\n",
                "def update_parameters(\n",
                "    trace,\n",
                "    key,\n",
                "    outlier_probability,\n",
                "    inlier_lightness_variance,\n",
                "    inlier_color_variance,\n",
                "    inlier_depth_variance,\n",
                "):\n",
                "    choicemap = genjax.ChoiceMap.d(\n",
                "        {\n",
                "            \"outlier_probability\": outlier_probability,\n",
                "            \"inlier_lightness_variance\": inlier_lightness_variance,\n",
                "            \"inlier_color_variance\": inlier_color_variance,\n",
                "            \"inlier_depth_variance\": inlier_depth_variance,\n",
                "        }\n",
                "    )\n",
                "    return trace.update(\n",
                "        key, \n",
                "        choicemap,\n",
                "    )[0]\n",
                "\n",
                "@jax.jit\n",
                "def update_parameters_get_score(\n",
                "    trace,\n",
                "    key,\n",
                "    outlier_probability,\n",
                "    inlier_lightness_variance,\n",
                "    inlier_color_variance,\n",
                "    inlier_depth_variance,\n",
                "):\n",
                "    return update_parameters(\n",
                "        trace,\n",
                "        key,\n",
                "        outlier_probability,\n",
                "        inlier_lightness_variance,\n",
                "        inlier_color_variance,\n",
                "        inlier_depth_variance,\n",
                "    ).get_score()\n",
                "\n",
                "vmapped_grid = jax.jit(b3d.multivmap(update_parameters_get_score, args=(False, False, True, True, True, True)))\n",
                "\n",
                "\n",
                "outlier_probability_sweep = jnp.linspace(0.0, 1.0, 30)\n",
                "inlier_lightness_variance_sweep = jnp.linspace(1.0, 60.0, 20)\n",
                "inlier_color_variance_sweep = jnp.linspace(1.0, 20.0, 20)\n",
                "inlier_depth_variance_sweep = jnp.linspace(0.005, 0.04, 15)\n",
                "\n",
                "\n",
                "key = jax.random.split(key, 2)[-1]\n",
                "likelikood_args = {\n",
                "    \"fx\": fx,\n",
                "    \"fy\": fy,\n",
                "    \"k\": Pytree.const(20000),\n",
                "}\n",
                "\n",
                "choicemap = genjax.ChoiceMap.d(\n",
                "    {\n",
                "        \"outlier_probability\": 0.1,\n",
                "        \"inlier_lightness_variance\": 0.1,\n",
                "        \"inlier_color_variance\": 0.1,\n",
                "        \"inlier_depth_variance\": 0.1,\n",
                "        \"observed_color_space_d\": convert_rgbd_to_color_space(observed_rgbd_scaled_down),\n",
                "    }\n",
                ")\n",
                "\n",
                "trace = importance_jit(\n",
                "    key, \n",
                "    choicemap,\n",
                "    ({\"likelihood_args\": likelikood_args},)\n",
                ")[0]"
            ]
        },
        {
            "cell_type": "code",
            "execution_count": 133,
            "metadata": {},
            "outputs": [],
            "source": [
                "T = 5\n",
                "trace = b3d.update_choices(\n",
                "    trace,\n",
                "    key,\n",
                "    Pytree.const((\"object_pose_0\",)),\n",
                "    all_data[T][\"camera_pose\"].inv() @ all_data[T][\"object_poses\"][IDX]\n",
                ")\n"
            ]
        },
        {
            "cell_type": "code",
            "execution_count": 134,
            "metadata": {},
            "outputs": [
                {
                    "name": "stdout",
                    "output_type": "stream",
                    "text": [
                        "[0.03448275849223137, 38.26315689086914, 20.0, 0.03999999910593033]\n",
                        "-164811.3\n"
                    ]
                },
                {
                    "data": {
                        "application/vnd.jupyter.widget-view+json": {
                            "model_id": "be0a4bf032a54aeea1d7d8464fe2e185",
                            "version_major": 2,
                            "version_minor": 0
                        },
                        "text/plain": [
                            "interactive(children=(FloatSlider(value=0.03448275849223137, description='outlier_probability', max=1.0, step=…"
                        ]
                    },
                    "metadata": {},
                    "output_type": "display_data"
                }
            ],
            "source": [
                "key = jax.random.split(key, 2)[-1]\n",
                "\n",
                "sweeps = [\n",
                "    outlier_probability_sweep,\n",
                "    inlier_lightness_variance_sweep,\n",
                "    inlier_color_variance_sweep,\n",
                "    inlier_depth_variance_sweep,\n",
                "]\n",
                "scores = vmapped_grid(\n",
                "    trace,\n",
                "    key,\n",
                "    *sweeps\n",
                ")\n",
                "sampled_indices = jax.vmap(\n",
                "    jnp.unravel_index,\n",
                "    in_axes=(0,None)\n",
                ")(jax.random.categorical(key, scores.reshape(-1),shape=(100,)), scores.shape)\n",
                "sampled_parameters = [\n",
                "    sweep[indices]\n",
                "    for indices, sweep in zip(sampled_indices, sweeps)\n",
                "]\n",
                "trace = update_parameters(\n",
                "    trace,\n",
                "    key,\n",
                "    *[param[0] for param in sampled_parameters]\n",
                ")\n",
                "print([i[0].item() for i in sampled_parameters])\n",
                "print(trace.get_score())\n",
                "plot_interactive(trace)"
            ]
        },
        {
            "cell_type": "code",
            "execution_count": null,
            "metadata": {},
            "outputs": [],
            "source": []
        },
        {
            "cell_type": "code",
            "execution_count": null,
            "metadata": {},
            "outputs": [],
            "source": []
        },
        {
            "cell_type": "code",
            "execution_count": 128,
            "metadata": {},
            "outputs": [
                {
                    "name": "stdout",
                    "output_type": "stream",
                    "text": [
                        "-157607.31\n"
                    ]
                },
                {
                    "data": {
                        "application/vnd.jupyter.widget-view+json": {
                            "model_id": "b52d53845b7741069069c2a62b68b87a",
                            "version_major": 2,
                            "version_minor": 0
                        },
                        "text/plain": [
                            "interactive(children=(FloatSlider(value=0.0, description='outlier_probability', max=1.0, step=0.01), FloatSlid…"
                        ]
                    },
                    "metadata": {},
                    "output_type": "display_data"
                }
            ],
            "source": [
                "from b3d.bayes3d.enumerative_proposals import gvmf_and_select_best_move\n",
                "\n",
                "saved_trace = trace\n",
                "potential_traces = []\n",
                "for var in [0.03, 0.02, 0.01, 0.005, 0.03, 0.02, 0.01, 0.005]:\n",
                "    trace = saved_trace\n",
                "    trace, key = gvmf_and_select_best_move(\n",
                "        trace, key, var, 700.0, \"object_pose_0\", 700\n",
                "    )\n",
                "    trace, key = gvmf_and_select_best_move(\n",
                "        trace, key, var, 700.0, \"object_pose_0\", 700\n",
                "    )\n",
                "    trace, key = gvmf_and_select_best_move(\n",
                "        trace, key, var, 1000.0, \"object_pose_0\", 700\n",
                "    )\n",
                "    trace, key = gvmf_and_select_best_move(\n",
                "        trace, key, var, 1000.0, \"object_pose_0\", 700\n",
                "    )\n",
                "    potential_traces.append(trace)\n",
                "scores = jnp.array([t.get_score() for t in potential_traces])\n",
                "trace = potential_traces[scores.argmax()]\n",
                "print(trace.get_score())\n",
                "plot_interactive(trace)"
            ]
        },
        {
            "cell_type": "code",
            "execution_count": 15,
            "metadata": {},
            "outputs": [],
            "source": [
                "rendered_rgbd = trace.get_retval()[\"rendered_rgbd\"]\n",
                "observed_rgbd = trace.get_retval()[\"observed_rgbd\"]\n",
                "rendered_color_space_d = trace.get_retval()[\"rendered_color_space_d\"]\n",
                "observed_color_space_d = trace.get_retval()[\"observed_color_space_d\"]"
            ]
        },
        {
            "cell_type": "code",
            "execution_count": 38,
            "metadata": {},
            "outputs": [
                {
                    "name": "stdout",
                    "output_type": "stream",
                    "text": [
                        "-4.6051702\n",
                        "-4.528345\n"
                    ]
                }
            ],
            "source": [
                "w = 100.0\n",
                "print(jnp.log(1/w))\n",
                "print(genjax.truncated_normal.logpdf(\n",
                "    0.2 *w, 0.3 * w, 0.05 * w, -w/2, w/2\n",
                "))"
            ]
        },
        {
            "cell_type": "code",
            "execution_count": null,
            "metadata": {},
            "outputs": [],
            "source": [
                "trace.get_retval()[\"observed_color_space_d\"].shape"
            ]
        },
        {
            "cell_type": "code",
            "execution_count": null,
            "metadata": {},
            "outputs": [],
            "source": [
                "no_mesh_surface = (rendered_labd[...,3] == 0.0)\n",
                "\n",
                "inlier_variances = jnp.array([60.0, 60.0, 60.0, 0.6])\n",
                "\n",
                "lower_bound = jnp.array([0.0, -100.0, -100.0, 0.0])\n",
                "upper_bound = jnp.array([100.0, 100.0, 100.0, 20.0])\n",
                "\n",
                "outlier_variances = jnp.ones(4) * 1000000.0\n",
                "\n",
                "scores_inlier = jax.vmap(genjax.truncated_normal.logpdf, in_axes=(0, 0, None, None, None))(\n",
                "    observed_labd.reshape(-1, 4), rendered_labd.reshape(-1,4), inlier_variances,\n",
                "    lower_bound, upper_bound\n",
                ")\n",
                "scores_outlier = jax.vmap(genjax.truncated_normal.logpdf, in_axes=(0, None, None, None, None))(\n",
                "    observed_labd.reshape(-1, 4), (lower_bound + upper_bound) / 2.0, outlier_variances,\n",
                "    lower_bound, upper_bound\n",
                ")\n",
                "\n",
                "scores_inlier_merged = jax.nn.logsumexp(scores_inlier[..., :3] + jnp.log(1/3), axis=-1) + scores_inlier[..., 3]\n",
                "scores_outlier_merged = jax.nn.logsumexp(scores_outlier[..., :3] + jnp.log(1/3), axis=-1) + scores_outlier[..., 3]\n",
                "\n",
                "plt.imshow((scores_inlier_merged - scores_outlier_merged).reshape(renderer.height, renderer.width))\n",
                "plt.colorbar()"
            ]
        },
        {
            "cell_type": "code",
            "execution_count": null,
            "metadata": {},
            "outputs": [],
            "source": [
                "rendered_labd = trace.get_retval()[\"rendered_color_space_d\"]\n",
                "observed_labd = trace.get_retval()[\"observed_color_space_d\"]\n",
                "\n",
                "rendered_labd = trace.get_retval()[\"rendered_color_space_d\"]\n",
                "observed_labd = trace.get_retval()[\"observed_color_space_d\"]\n",
                "rr.set_time_sequence(\"time\", 0)\n",
                "rr.log(\n",
                "    \"image\", rr.Image(trace.get_retval()[\"observed_rgbd\"][...,:3]),\n",
                ")\n",
                "rr.log(\n",
                "    \"image/rendered_rgbd\", rr.Image(trace.get_retval()[\"rendered_rgbd\"][...,:3]),\n",
                ")\n",
                "rr.log(\n",
                "    \"image/sampled_rgbd\", rr.Image(trace.get_retval()[\"sampled_rgbd\"][...,:3]),\n",
                ")\n",
                "\n",
                "rr.log(\n",
                "    \"image/labd\", rr.Image(trace.get_retval()[\"observed_color_space_d\"][...,:3]),\n",
                ")\n",
                "rr.log(\n",
                "    \"image/rendered_labd\", rr.Image(trace.get_retval()[\"rendered_color_space_d\"][...,:3]),\n",
                ")\n",
                "\n",
                "rr.log(\n",
                "    \"image/error\", rr.DepthImage((rendered_labd[..., 0] - observed_labd[..., 0]) * (rendered_labd[..., 3] > 0))\n",
                ")"
            ]
        },
        {
            "cell_type": "code",
            "execution_count": null,
            "metadata": {},
            "outputs": [],
            "source": [
                "rendered_labd = trace.get_retval()[\"rendered_color_space_d\"]\n",
                "observed_labd = trace.get_retval()[\"observed_color_space_d\"]\n",
                "rr.set_time_sequence(\"time\", 0)\n",
                "rr.log(\n",
                "    \"image\", rr.Image(trace.get_retval()[\"observed_rgbd\"][...,:3]),\n",
                ")\n",
                "rr.log(\n",
                "    \"image/rendered_rgbd\", rr.Image(trace.get_retval()[\"rendered_rgbd\"][...,:3]),\n",
                ")\n",
                "rr.log(\n",
                "    \"image/sampled_rgbd\", rr.Image(trace.get_retval()[\"sampled_rgbd\"][...,:3]),\n",
                ")\n",
                "\n",
                "rr.log(\n",
                "    \"image/labd\", rr.Image(trace.get_retval()[\"observed_color_space_d\"][...,:3]),\n",
                ")\n",
                "rr.log(\n",
                "    \"image/rendered_labd\", rr.Image(trace.get_retval()[\"rendered_color_space_d\"][...,:3]),\n",
                ")\n"
            ]
        },
        {
            "cell_type": "code",
            "execution_count": null,
            "metadata": {},
            "outputs": [],
            "source": []
        },
        {
            "cell_type": "code",
            "execution_count": null,
            "metadata": {},
            "outputs": [],
            "source": [
                "rr.set_time_sequence(\"time\", 0)\n",
                "rr.log(\n",
                "    \"image\", rr.Image(trace.get_retval()[\"observed_rgbd\"][...,:3]),\n",
                ")\n",
                "rr.log(\n",
                "    \"image/rendered_rgbd\", rr.Image(trace.get_retval()[\"rendered_rgbd\"][...,:3]),\n",
                ")\n",
                "rr.log(\n",
                "    \"image/sampled_rgbd\", rr.Image(trace.get_retval()[\"sampled_rgbd\"][...,:3]),\n",
                ")\n",
                "\n",
                "rr.log(\n",
                "    \"image/labd\", rr.Image(trace.get_retval()[\"observed_labd\"][...,:3]),\n",
                ")\n",
                "rr.log(\n",
                "    \"image/rendered_labd\", rr.Image(trace.get_retval()[\"rendered_labd\"][...,:3]),\n",
                ")\n"
            ]
        },
        {
            "cell_type": "code",
            "execution_count": null,
            "metadata": {},
            "outputs": [],
            "source": [
                "rr.set_time_sequence(\"time\", 0)\n",
                "rr.log(\n",
                "    \"image\", rr.Image(trace.get_retval()[\"observed_rgbd\"][...,:3]),\n",
                ")\n",
                "rr.log(\n",
                "    \"image/rendered_rgbd\", rr.Image(trace.get_retval()[\"rendered_rgbd\"][...,:3]),\n",
                ")\n",
                "rr.log(\n",
                "    \"image/sampled_rgbd\", rr.Image(trace.get_retval()[\"sampled_rgbd\"][...,:3]),\n",
                ")\n",
                "\n",
                "rr.log(\n",
                "    \"image/labd\", rr.Image(trace.get_retval()[\"observed_labd\"][...,:3]),\n",
                ")\n",
                "rr.log(\n",
                "    \"image/rendered_labd\", rr.Image(trace.get_retval()[\"rendered_labd\"][...,:3]),\n",
                ")\n"
            ]
        },
        {
            "cell_type": "code",
            "execution_count": null,
            "metadata": {},
            "outputs": [],
            "source": [
                "b3d.rr_init()"
            ]
        },
        {
            "cell_type": "code",
            "execution_count": null,
            "metadata": {},
            "outputs": [],
            "source": []
        },
        {
            "cell_type": "code",
            "execution_count": null,
            "metadata": {},
            "outputs": [],
            "source": [
                "b3d.rr_init()"
            ]
        },
        {
            "cell_type": "code",
            "execution_count": null,
            "metadata": {},
            "outputs": [],
            "source": []
        },
        {
            "cell_type": "code",
            "execution_count": null,
            "metadata": {},
            "outputs": [],
            "source": []
        },
        {
            "cell_type": "code",
            "execution_count": null,
            "metadata": {},
            "outputs": [],
            "source": []
        },
        {
            "cell_type": "code",
            "execution_count": null,
            "metadata": {},
            "outputs": [],
            "source": []
        },
        {
            "cell_type": "code",
            "execution_count": null,
            "metadata": {},
            "outputs": [],
            "source": []
        },
        {
            "cell_type": "code",
            "execution_count": null,
            "metadata": {},
            "outputs": [],
            "source": []
        },
        {
            "cell_type": "code",
            "execution_count": null,
            "metadata": {},
            "outputs": [],
            "source": []
        },
        {
            "cell_type": "code",
            "execution_count": null,
            "metadata": {},
            "outputs": [],
            "source": []
        },
        {
            "cell_type": "code",
            "execution_count": null,
            "metadata": {},
            "outputs": [],
            "source": []
        },
        {
            "cell_type": "code",
            "execution_count": null,
            "metadata": {},
            "outputs": [],
            "source": []
        },
        {
            "cell_type": "code",
            "execution_count": null,
            "metadata": {},
            "outputs": [],
            "source": [
                "sampled_indices"
            ]
        },
        {
            "cell_type": "code",
            "execution_count": null,
            "metadata": {},
            "outputs": [],
            "source": []
        },
        {
            "cell_type": "code",
            "execution_count": null,
            "metadata": {},
            "outputs": [],
            "source": []
        },
        {
            "cell_type": "code",
            "execution_count": null,
            "metadata": {},
            "outputs": [],
            "source": []
        },
        {
            "cell_type": "code",
            "execution_count": null,
            "metadata": {},
            "outputs": [],
            "source": []
        },
        {
            "cell_type": "code",
            "execution_count": null,
            "metadata": {},
            "outputs": [],
            "source": [
                "rendered_rgbd = trace.get_retval()[\"rendered_rgbd\"]\n",
                "observed_rgbd = trace.get_retval()[\"observed_rgbd\"]\n",
                "mask = rendered_rgbd[..., 3] > 0.0\n",
                "rendered_depth= rendered_rgbd[..., 3]\n",
                "observed_depth = observed_rgbd[..., 3]"
            ]
        },
        {
            "cell_type": "code",
            "execution_count": null,
            "metadata": {},
            "outputs": [],
            "source": [
                "b3d.rr_init(\"interactive\")"
            ]
        },
        {
            "cell_type": "code",
            "execution_count": null,
            "metadata": {},
            "outputs": [],
            "source": [
                "import rerun as rr\n",
                "rr.log(\"depth\", rr.DepthImage(rendered_rgbd[..., 3]))\n",
                "rr.log(\"depth/observed\", rr.DepthImage(observed_rgbd[..., 3]))\n",
                "rr.log(\"depth/error\", rr.DepthImage((rendered_depth- observed_depth) * mask))"
            ]
        },
        {
            "cell_type": "code",
            "execution_count": null,
            "metadata": {},
            "outputs": [],
            "source": []
        },
        {
            "cell_type": "code",
            "execution_count": null,
            "metadata": {},
            "outputs": [],
            "source": []
        },
        {
            "cell_type": "code",
            "execution_count": null,
            "metadata": {},
            "outputs": [],
            "source": []
        },
        {
            "cell_type": "code",
            "execution_count": null,
            "metadata": {},
            "outputs": [],
            "source": []
        },
        {
            "cell_type": "code",
            "execution_count": null,
            "metadata": {},
            "outputs": [],
            "source": []
        },
        {
            "cell_type": "code",
            "execution_count": null,
            "metadata": {},
            "outputs": [],
            "source": []
        },
        {
            "cell_type": "code",
            "execution_count": null,
            "metadata": {},
            "outputs": [],
            "source": []
        },
        {
            "cell_type": "code",
            "execution_count": null,
            "metadata": {},
            "outputs": [],
            "source": []
        },
        {
            "cell_type": "code",
            "execution_count": null,
            "metadata": {},
            "outputs": [],
            "source": []
        },
        {
            "cell_type": "code",
            "execution_count": null,
            "metadata": {},
            "outputs": [],
            "source": []
        },
        {
            "cell_type": "code",
            "execution_count": null,
            "metadata": {},
            "outputs": [],
            "source": []
        },
        {
            "cell_type": "code",
            "execution_count": null,
            "metadata": {},
            "outputs": [],
            "source": []
        },
        {
            "cell_type": "code",
            "execution_count": null,
            "metadata": {},
            "outputs": [],
            "source": []
        },
        {
            "cell_type": "code",
            "execution_count": null,
            "metadata": {},
            "outputs": [],
            "source": []
        },
        {
            "cell_type": "code",
            "execution_count": null,
            "metadata": {},
            "outputs": [],
            "source": []
        },
        {
            "cell_type": "code",
            "execution_count": null,
            "metadata": {},
            "outputs": [],
            "source": [
                "inlier_color_variance_sweep"
            ]
        },
        {
            "cell_type": "code",
            "execution_count": null,
            "metadata": {},
            "outputs": [],
            "source": []
        },
        {
            "cell_type": "code",
            "execution_count": null,
            "metadata": {},
            "outputs": [],
            "source": []
        },
        {
            "cell_type": "code",
            "execution_count": null,
            "metadata": {},
            "outputs": [],
            "source": []
        },
        {
            "cell_type": "code",
            "execution_count": null,
            "metadata": {},
            "outputs": [],
            "source": []
        },
        {
            "cell_type": "code",
            "execution_count": null,
            "metadata": {},
            "outputs": [],
            "source": [
                "outlier_probability_sweep"
            ]
        },
        {
            "cell_type": "code",
            "execution_count": null,
            "metadata": {},
            "outputs": [],
            "source": []
        },
        {
            "cell_type": "code",
            "execution_count": null,
            "metadata": {},
            "outputs": [],
            "source": []
        },
        {
            "cell_type": "code",
            "execution_count": null,
            "metadata": {},
            "outputs": [],
            "source": []
        },
        {
            "cell_type": "code",
            "execution_count": null,
            "metadata": {},
            "outputs": [],
            "source": [
                "plot_interactive(trace)"
            ]
        },
        {
            "cell_type": "code",
            "execution_count": null,
            "metadata": {},
            "outputs": [],
            "source": []
        },
        {
            "cell_type": "code",
            "execution_count": null,
            "metadata": {},
            "outputs": [],
            "source": []
        },
        {
            "cell_type": "code",
            "execution_count": null,
            "metadata": {},
            "outputs": [],
            "source": []
        },
        {
            "cell_type": "code",
            "execution_count": null,
            "metadata": {},
            "outputs": [],
            "source": []
        },
        {
            "cell_type": "code",
            "execution_count": null,
            "metadata": {},
            "outputs": [],
            "source": []
        },
        {
            "cell_type": "code",
            "execution_count": null,
            "metadata": {},
            "outputs": [],
            "source": []
        },
        {
            "cell_type": "code",
            "execution_count": null,
            "metadata": {},
            "outputs": [],
            "source": []
        },
        {
            "cell_type": "code",
            "execution_count": null,
            "metadata": {},
            "outputs": [],
            "source": []
        },
        {
            "cell_type": "code",
            "execution_count": null,
            "metadata": {},
            "outputs": [],
            "source": []
        },
        {
            "cell_type": "code",
            "execution_count": null,
            "metadata": {},
            "outputs": [],
            "source": []
        },
        {
            "cell_type": "code",
            "execution_count": null,
            "metadata": {},
            "outputs": [],
            "source": []
        },
        {
            "cell_type": "code",
            "execution_count": null,
            "metadata": {},
            "outputs": [],
            "source": []
        },
        {
            "cell_type": "code",
            "execution_count": null,
            "metadata": {},
            "outputs": [],
            "source": []
        },
        {
            "cell_type": "code",
            "execution_count": null,
            "metadata": {},
            "outputs": [],
            "source": []
        },
        {
            "cell_type": "code",
            "execution_count": null,
            "metadata": {},
            "outputs": [],
            "source": [
                "sampled_indices.shape"
            ]
        },
        {
            "cell_type": "code",
            "execution_count": null,
            "metadata": {},
            "outputs": [],
            "source": []
        },
        {
            "cell_type": "code",
            "execution_count": null,
            "metadata": {},
            "outputs": [],
            "source": []
        },
        {
            "cell_type": "code",
            "execution_count": null,
            "metadata": {},
            "outputs": [],
            "source": []
        },
        {
            "cell_type": "code",
            "execution_count": null,
            "metadata": {},
            "outputs": [],
            "source": []
        },
        {
            "cell_type": "code",
            "execution_count": null,
            "metadata": {},
            "outputs": [],
            "source": []
        },
        {
            "cell_type": "code",
            "execution_count": null,
            "metadata": {},
            "outputs": [],
            "source": []
        },
        {
            "cell_type": "code",
            "execution_count": null,
            "metadata": {},
            "outputs": [],
            "source": []
        },
        {
            "cell_type": "code",
            "execution_count": null,
            "metadata": {},
            "outputs": [],
            "source": []
        },
        {
            "cell_type": "code",
            "execution_count": null,
            "metadata": {},
            "outputs": [],
            "source": []
        },
        {
            "cell_type": "code",
            "execution_count": null,
            "metadata": {},
            "outputs": [],
            "source": [
                "\n",
                "scores = vmapped_grid(\n",
                "    trace,\n",
                "    key,\n",
                "    outlier_probability_sweep,\n",
                "    inlier_lightness_variance_sweep,\n",
                "    inlier_color_variance_sweep,\n",
                "    inlier_depth_variance_sweep\n",
                ")\n",
                "print(scores.shape)\n",
                "samples = jax.random.categorical(key, scores.reshape(-1),shape=(100,))\n",
                "print(samples)\n",
                "\n",
                "\n",
                "sample_index=1\n",
                "print(\n",
                "    \"Outlier Probability\", outlier_probability_sweep[indices[0][sample_index]], \"\\n\",\n",
                "    \"Inlier Lightness Variance\", inlier_lightness_variance_sweep[indices[1][sample_index]], \"\\n\",\n",
                "    \"Inlier Color Variance\", inlier_color_variance_sweep[indices[2][sample_index]], \"\\n\",\n",
                "    \"Inlier Depth Variance\", inlier_depth_variance_sweep[indices[3][sample_index]], \"\\n\",\n",
                ")\n",
                "interact(\n",
                "    plot,\n",
                "    k = widgets.IntSlider(value=10000, min=1, max=100000, step=1),\n",
                "    outlier_probability = widgets.FloatSlider(value=outlier_probability_sweep[indices[0][sample_index]], min=0.01, max=1.0, step=0.01),\n",
                "    inlier_lightness_variance = widgets.FloatSlider(value=inlier_lightness_variance_sweep[indices[1][sample_index]], min=0.1, max=100.0, step=0.01),\n",
                "    inlier_color_variance = widgets.FloatSlider(value=inlier_color_variance_sweep[indices[2][sample_index]], min=0.1, max=100.0, step=0.01),\n",
                "    inlier_depth_variance = widgets.FloatSlider(value=inlier_depth_variance_sweep[indices[3][sample_index]], min=0.0001, max=100.0, step=0.01),\n",
                ")\n"
            ]
        },
        {
            "cell_type": "code",
            "execution_count": null,
            "metadata": {},
            "outputs": [],
            "source": [
                "b3d.en"
            ]
        },
        {
            "cell_type": "code",
            "execution_count": null,
            "metadata": {},
            "outputs": [],
            "source": [
                "for sample_index in range(len(indices[0])):\n",
                "    print(\n",
                "        \"Outlier Probability\", outlier_probability_sweep[indices[0][sample_index]], \"\\n\",\n",
                "        \"Inlier Lightness Variance\", inlier_lightness_variance_sweep[indices[1][sample_index]], \"\\n\",\n",
                "        \"Inlier Color Variance\", inlier_color_variance_sweep[indices[2][sample_index]], \"\\n\",\n",
                "        \"Inlier Depth Variance\", inlier_depth_variance_sweep[indices[3][sample_index]], \"\\n\",\n",
                "    )"
            ]
        },
        {
            "cell_type": "code",
            "execution_count": null,
            "metadata": {},
            "outputs": [],
            "source": [
                "# Matched\n",
                "Outlier Probability 0.120000005 \n",
                " Inlier Lightness Variance 50.0 \n",
                " Inlier Color Variance 32.14286 \n",
                " Inlier Depth Variance 0.1 \n",
                "\n",
                "# Mismatched\n",
                "Outlier Probability 0.120000005 \n",
                " Inlier Lightness Variance 100.0 \n",
                " Inlier Color Variance 52.500004 \n",
                " Inlier Depth Variance 0.1 "
            ]
        },
        {
            "cell_type": "code",
            "execution_count": null,
            "metadata": {},
            "outputs": [],
            "source": [
                "trace.get_choices()[\"noisy_lab_color\",...].shape"
            ]
        },
        {
            "cell_type": "code",
            "execution_count": null,
            "metadata": {},
            "outputs": [],
            "source": []
        }
    ],
    "metadata": {
        "kernelspec": {
            "display_name": "b3d",
            "language": "python",
            "name": "python3"
        },
        "language_info": {
            "codemirror_mode": {
                "name": "ipython",
                "version": 3
            },
            "file_extension": ".py",
            "mimetype": "text/x-python",
            "name": "python",
            "nbconvert_exporter": "python",
            "pygments_lexer": "ipython3",
            "version": "3.12.4"
        }
    },
    "nbformat": 4,
    "nbformat_minor": 2
}
