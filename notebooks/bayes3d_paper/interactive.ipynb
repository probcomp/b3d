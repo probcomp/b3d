{
 "cells": [
  {
   "cell_type": "code",
   "execution_count": 1,
   "metadata": {},
   "outputs": [],
   "source": [
    "import b3d\n",
    "import jax.numpy as jnp\n",
    "import os\n",
    "from b3d import Mesh, Pose\n",
    "import jax\n",
    "import genjax\n",
    "from genjax import Pytree\n",
    "import rerun as rr\n",
    "from b3d.modeling_utils import uniform_discrete, uniform_pose, gaussian_vmf\n",
    "import matplotlib.pyplot as plt\n",
    "from functools import partial\n",
    "import importlib"
   ]
  },
  {
   "cell_type": "code",
   "execution_count": 66,
   "metadata": {},
   "outputs": [
    {
     "name": "stderr",
     "output_type": "stream",
     "text": [
      "100%|██████████| 1/1 [00:00<00:00,  3.19it/s]\n"
     ]
    }
   ],
   "source": [
    "b3d.rr_init(\"interactive\")\n",
    "key = jax.random.PRNGKey(0)\n",
    "ycb_dir = os.path.join(b3d.get_assets_path(), \"bop/ycbv\")\n",
    "scene_id = 49\n",
    "image_id = 100\n",
    "\n",
    "all_data = b3d.io.get_ycbv_test_images(ycb_dir, scene_id, [image_id])\n",
    "\n",
    "meshes = [\n",
    "    Mesh.from_obj_file(os.path.join(ycb_dir, f'models/obj_{f\"{id + 1}\".rjust(6, \"0\")}.ply')).scale(0.001)\n",
    "    for id in all_data[0][\"object_types\"]\n",
    "]\n",
    "\n",
    "height, width = all_data[0][\"rgbd\"].shape[:2]\n",
    "fx,fy,cx,cy = all_data[0][\"camera_intrinsics\"]\n",
    "scaling_factor = 0.1\n",
    "renderer = b3d.renderer.renderer_original.RendererOriginal(\n",
    "    width * scaling_factor, height * scaling_factor, fx * scaling_factor, fy * scaling_factor, cx * scaling_factor, cy * scaling_factor, 0.01, 2.0\n",
    ")\n",
    "observed_rgbd_scaled_down = b3d.resize_image(all_data[0][\"rgbd\"], renderer.height, renderer.width)"
   ]
  },
  {
   "cell_type": "code",
   "execution_count": 3,
   "metadata": {},
   "outputs": [
    {
     "data": {
      "image/jpeg": "[encoded data removed]",
      "image/png": "[encoded data removed]",
      "text/plain": [
       "<PIL.Image.Image image mode=RGB size=64x48>"
      ]
     },
     "execution_count": 3,
     "metadata": {},
     "output_type": "execute_result"
    }
   ],
   "source": [
    "initial_camera_pose = all_data[0][\"camera_pose\"]\n",
    "initial_object_poses = all_data[0][\"object_poses\"]\n",
    "IDX = 0\n",
    "pose = initial_camera_pose.inv() @ initial_object_poses[IDX]\n",
    "rendered_rgbd = renderer.render_rgbd_from_mesh(meshes[IDX].transform(pose))\n",
    "b3d.viz_rgb(rendered_rgbd)"
   ]
  },
  {
   "cell_type": "code",
   "execution_count": 127,
   "metadata": {},
   "outputs": [],
   "source": [
    "importlib.reload(b3d.colors)\n",
    "def labd_to_rgbd(labd):\n",
    "    return jnp.concatenate(\n",
    "        [\n",
    "            b3d.colors.lab_to_rgb(labd[..., :3]),\n",
    "            labd[..., 3:4]\n",
    "        ],\n",
    "        axis=-1\n",
    "    )\n",
    "\n",
    "def rgbd_to_labd(rgbd):\n",
    "    return jnp.concatenate(\n",
    "        [\n",
    "            b3d.colors.rgb_to_lab(rgbd[..., :3]),\n",
    "            rgbd[..., 3:4]\n",
    "        ],\n",
    "        axis=-1\n",
    "    )"
   ]
  },
  {
   "cell_type": "code",
   "execution_count": 128,
   "metadata": {},
   "outputs": [],
   "source": [
    "@Pytree.dataclass\n",
    "class MaskedKImageLikelihood(genjax.ExactDensity):\n",
    "    def sample(self, key, row_coordinates, column_coordinates, variances, center_points, lower_bound, upper_bound, image_height, image_width):\n",
    "        observed_image = jnp.zeros((image_height.const, image_width.const, 4))\n",
    "\n",
    "        sampled_values = jax.vmap(genjax.truncated_normal.sample, in_axes=(0, 0, 0, None, None))(\n",
    "            jax.random.split(key, len(row_coordinates)), center_points, variances,\n",
    "            lower_bound, upper_bound\n",
    "        )\n",
    "        observed_image = observed_image.at[row_coordinates, column_coordinates, :].set(sampled_values)\n",
    "        return observed_image\n",
    "\n",
    "    def logpdf(self, observed_labd, row_coordinates, column_coordinates, variances, center_points, lower_bound, upper_bound, image_height, image_width):\n",
    "        subset_observed_labd = observed_labd[row_coordinates, column_coordinates]\n",
    "        scores = jax.vmap(genjax.truncated_normal.logpdf, in_axes=(0, 0, 0, None, None))(\n",
    "            subset_observed_labd, center_points, variances,\n",
    "            lower_bound, upper_bound\n",
    "        )\n",
    "        return scores.sum()\n",
    "\n",
    "masked_k_image_likelihood = MaskedKImageLikelihood()\n",
    "\n",
    "# k = 10\n",
    "# masked_k_image_likelihood.logpdf(\n",
    "#     jnp.zeros((renderer.height, renderer.width, 4)),\n",
    "#     jnp.arange(k),\n",
    "#     jnp.arange(k),\n",
    "#     jnp.ones(k) * 0.1,\n",
    "#     jnp.zeros(k),\n",
    "#     jnp.zeros(4)- 0.1,\n",
    "#     jnp.ones(4),\n",
    "#     renderer.height,\n",
    "#     renderer.width\n",
    "# )\n",
    "# masked_k_image_likelihood.sample(\n",
    "#     key,\n",
    "#     jnp.arange(k),\n",
    "#     jnp.arange(k),\n",
    "#     jnp.ones(k) * 0.1,\n",
    "#     jnp.zeros(k),\n",
    "#     jnp.zeros(4)- 0.1,\n",
    "#     jnp.ones(4),\n",
    "#     renderer.height,\n",
    "#     renderer.width\n",
    "# );"
   ]
  },
  {
   "cell_type": "code",
   "execution_count": 129,
   "metadata": {},
   "outputs": [
    {
     "name": "stdout",
     "output_type": "stream",
     "text": [
      "-270960.78\n"
     ]
    },
    {
     "data": {
      "text/plain": [
       "<matplotlib.image.AxesImage at 0x7fb87a0402c0>"
      ]
     },
     "execution_count": 129,
     "metadata": {},
     "output_type": "execute_result"
    },
    {
     "data": {
      "image/png": "[encoded data removed]",
      "text/plain": [
       "<Figure size 640x480 with 1 Axes>"
      ]
     },
     "metadata": {},
     "output_type": "display_data"
    }
   ],
   "source": [
    "@genjax.gen\n",
    "def ray_model(rendered_rgbd, likelihood_args):\n",
    "    k = likelihood_args[\"k\"].const\n",
    "    image_height, image_width = likelihood_args[\"image_height\"], likelihood_args[\"image_width\"]\n",
    "\n",
    "    row_coordinates = genjax.categorical.vmap(in_axes=(0,))(\n",
    "            jnp.ones((k, image_height.const))\n",
    "    )  @ \"row_coordinates\"\n",
    "    column_coordinates = genjax.categorical.vmap(in_axes=(0,))(\n",
    "            jnp.ones((k, image_width.const))\n",
    "    ) @ \"column_coordinates\"\n",
    "\n",
    "    rgb = rendered_rgbd[row_coordinates, column_coordinates, :3]\n",
    "    lab = b3d.colors.rgb_to_lab(rgb)\n",
    "    depth = rendered_rgbd[row_coordinates, column_coordinates, 3]\n",
    "\n",
    "    outlier_probability = genjax.uniform(0.0, 1.0) @ \"outlier_probability\"\n",
    "    inlier_color_variance = genjax.uniform(0.0001, 100.0) @ \"inlier_color_variance\"\n",
    "    inlier_lightness_variance = genjax.uniform(0.0001, 100.0) @ \"inlier_lightness_variance\"\n",
    "    inlier_depth_variance = genjax.uniform(0.0001, 10.0) @ \"inlier_depth_variance\"\n",
    "\n",
    "\n",
    "    is_outlier = genjax.bernoulli.vmap(in_axes=(0,))(\n",
    "        jnp.ones(k) * jax.scipy.special.logit(outlier_probability)\n",
    "    )@ \"is_outlier\"\n",
    "\n",
    "    no_mesh_surface = (depth == 0.0)\n",
    "\n",
    "    is_outlier_adjusted = jnp.logical_or(is_outlier, no_mesh_surface)\n",
    "\n",
    "\n",
    "    adjusted_lab_variance = (\n",
    "        is_outlier_adjusted[..., None] * 1000000.0 +\n",
    "        (1.0 - is_outlier_adjusted)[...,None] * jnp.ones((k,3)) * jnp.array([inlier_lightness_variance, inlier_color_variance, inlier_color_variance])\n",
    "    )\n",
    "    adjusted_depth_variance = is_outlier_adjusted * 1000000.0 + jnp.ones(k) * inlier_depth_variance\n",
    "    variances = jnp.concatenate([adjusted_lab_variance, adjusted_depth_variance[:,None]], axis=-1)\n",
    "\n",
    "    noiseless_labd = jnp.concatenate([lab, depth[:,None]], axis=-1)\n",
    "\n",
    "    sampled_labd = masked_k_image_likelihood.sample(\n",
    "        key,\n",
    "        row_coordinates,\n",
    "        column_coordinates,\n",
    "        variances,\n",
    "        noiseless_labd, jnp.array([0.0, -128.0, -128.0, 0.0]), jnp.array([100.0, 128.0, 128.0, 20.0]), image_height, image_width\n",
    "    )\n",
    "\n",
    "    observed_labd = masked_k_image_likelihood(\n",
    "        row_coordinates,\n",
    "        column_coordinates,\n",
    "        variances,\n",
    "        noiseless_labd, jnp.array([0.0, -128.0, -128.0, 0.0]), jnp.array([100.0, 128.0, 128.0, 20.0]), image_height, image_width\n",
    "    ) @ \"observed_labd\"\n",
    "\n",
    "    observed_rgbd = labd_to_rgbd(observed_labd)\n",
    "    sampled_rgbd = labd_to_rgbd(sampled_labd)\n",
    "    return {\"sampled_rgbd\": sampled_rgbd, \"observed_rgbd\": observed_rgbd}\n",
    "\n",
    "    \n",
    "@partial(jax.jit, static_argnums=(2,3,4))\n",
    "def trace_from_parameters(\n",
    "    key,\n",
    "    rendered_rgbd,\n",
    "    k,\n",
    "    image_height,\n",
    "    image_width,\n",
    "    outlier_probability,\n",
    "    inlier_lightness_variance,\n",
    "    inlier_color_variance,\n",
    "    inlier_depth_variance,\n",
    "    observed_rgbd,\n",
    "):\n",
    "    key = jax.random.split(key, 2)[-1]\n",
    "    \n",
    "    likelikood_args = {\n",
    "        \"fx\": fx,\n",
    "        \"fy\": fy,\n",
    "        \"k\": Pytree.const(k),\n",
    "        \"image_height\": Pytree.const(image_height),\n",
    "        \"image_width\": Pytree.const(image_width),\n",
    "    }\n",
    "\n",
    "    choicemap = genjax.ChoiceMap.d(\n",
    "        {\n",
    "            \"outlier_probability\": outlier_probability,\n",
    "            \"inlier_lightness_variance\": inlier_lightness_variance,\n",
    "            \"inlier_color_variance\": inlier_color_variance,\n",
    "            \"inlier_depth_variance\": inlier_depth_variance,\n",
    "            \"observed_labd\": rgbd_to_labd(observed_rgbd),\n",
    "        }\n",
    "    )\n",
    "\n",
    "    trace = ray_model.importance(\n",
    "        key, \n",
    "        choicemap,\n",
    "        (rendered_rgbd, likelikood_args,),\n",
    "    )[0]\n",
    "    return trace, key\n",
    "    \n",
    "trace, key = trace_from_parameters(\n",
    "    jax.random.PRNGKey(10),\n",
    "    rendered_rgbd,\n",
    "    10000,\n",
    "    rendered_rgbd.shape[0], rendered_rgbd.shape[1],\n",
    "    inlier_lightness_variance=10.0,\n",
    "    inlier_color_variance=40.0,\n",
    "    inlier_depth_variance=0.1,\n",
    "    outlier_probability=0.1,\n",
    "    observed_rgbd=observed_rgbd_scaled_down\n",
    ")\n",
    "\n",
    "choicemap = genjax.ChoiceMap.d(\n",
    "    {\n",
    "        \"outlier_probability\": 1.0,\n",
    "        \"inlier_lightness_variance\": 1.0,\n",
    "        \"inlier_color_variance\": 1.0,\n",
    "        \"inlier_depth_variance\": 1.0,\n",
    "    }\n",
    ")\n",
    "trace.update(\n",
    "    key, \n",
    "    choicemap,\n",
    ")\n",
    "print(trace.get_score())\n",
    "\n",
    "plt.imshow(trace.get_retval()[\"observed_rgbd\"][..., :3])"
   ]
  },
  {
   "cell_type": "code",
   "execution_count": 131,
   "metadata": {},
   "outputs": [
    {
     "data": {
      "application/vnd.jupyter.widget-view+json": {
       "model_id": "b38f0011e3ed4badbff5d8a916ef07c5",
       "version_major": 2,
       "version_minor": 0
      },
      "text/plain": [
       "interactive(children=(IntSlider(value=10000, description='k', max=100000, min=1), FloatSlider(value=0.01, desc…"
      ]
     },
     "metadata": {},
     "output_type": "display_data"
    },
    {
     "data": {
      "text/plain": [
       "<function __main__.plot(k, outlier_probability, inlier_lightness_variance, inlier_color_variance, inlier_depth_variance)>"
      ]
     },
     "execution_count": 131,
     "metadata": {},
     "output_type": "execute_result"
    }
   ],
   "source": [
    "from ipywidgets import interact\n",
    "import ipywidgets as widgets\n",
    "\n",
    "import matplotlib.pyplot as plt\n",
    "import numpy as np\n",
    "\n",
    "\n",
    "def plot(k,\n",
    "    outlier_probability,\n",
    "    inlier_lightness_variance,\n",
    "    inlier_color_variance,\n",
    "    inlier_depth_variance,):\n",
    "    global key\n",
    "    trace, key = trace_from_parameters(\n",
    "        key,\n",
    "        rendered_rgbd, k,\n",
    "        rendered_rgbd.shape[0], rendered_rgbd.shape[1],\n",
    "        outlier_probability,\n",
    "        inlier_lightness_variance,\n",
    "        inlier_color_variance,\n",
    "        inlier_depth_variance,\n",
    "        observed_rgbd_scaled_down\n",
    "    )\n",
    "\n",
    "    fig, ax = plt.subplots(1, 4, figsize=(10, 5))\n",
    "\n",
    "    ax[0].imshow(rendered_rgbd[..., :3])\n",
    "    ax[0].axis('off')\n",
    "\n",
    "    ax[1].imshow(trace.get_retval()[\"sampled_rgbd\"][..., :3])\n",
    "    ax[1].axis('off')\n",
    "\n",
    "    ax[2].matshow(trace.get_retval()[\"sampled_rgbd\"][..., 3])\n",
    "    ax[2].axis('off')\n",
    "\n",
    "\n",
    "    ax[3].imshow(trace.get_retval()[\"observed_rgbd\"][..., :3])\n",
    "    ax[3].axis('off')\n",
    "\n",
    "interact(plot,\n",
    "    k = widgets.IntSlider(value=10000, min=1, max=100000, step=1),\n",
    "    outlier_probability = widgets.FloatSlider(value=0.0, min=0.01, max=1.0, step=0.01),\n",
    "    inlier_color_variance = widgets.FloatSlider(value=0.1, min=0.1, max=100.0, step=0.01),\n",
    "    inlier_lightness_variance = widgets.FloatSlider(value=0.1, min=0.1, max=100.0, step=0.01),\n",
    "    inlier_depth_variance = widgets.FloatSlider(value=0.0001, min=0.0001, max=100.0, step=0.01),\n",
    ")\n",
    "\n",
    "# Questions for vkm\n",
    "# RGB is 3 channels. D is one. So doesn't RGB then get 3 times the influence as D\n",
    "# The scales on L A B D are much different too.\n",
    "# Outlier branch"
   ]
  },
  {
   "cell_type": "code",
   "execution_count": 146,
   "metadata": {},
   "outputs": [],
   "source": [
    "def grid(\n",
    "    trace,\n",
    "    key,\n",
    "    outlier_probability,\n",
    "    inlier_lightness_variance,\n",
    "    inlier_color_variance,\n",
    "    inlier_depth_variance,\n",
    "):\n",
    "    choicemap = genjax.ChoiceMap.d(\n",
    "        {\n",
    "            \"outlier_probability\": outlier_probability,\n",
    "            \"inlier_lightness_variance\": inlier_lightness_variance,\n",
    "            \"inlier_color_variance\": inlier_color_variance,\n",
    "            \"inlier_depth_variance\": inlier_depth_variance,\n",
    "        }\n",
    "    )\n",
    "    return trace.update(\n",
    "        key, \n",
    "        choicemap,\n",
    "    )[0].get_score()\n",
    "vmapped_grid = jax.jit(b3d.multivmap(grid, args=(False, False, True, True, True, True)))"
   ]
  },
  {
   "cell_type": "code",
   "execution_count": 153,
   "metadata": {},
   "outputs": [
    {
     "data": {
      "text/plain": [
       "<matplotlib.colorbar.Colorbar at 0x7fb87706f350>"
      ]
     },
     "execution_count": 153,
     "metadata": {},
     "output_type": "execute_result"
    },
    {
     "data": {
      "image/png": "[encoded data removed]",
      "text/plain": [
       "<Figure size 480x480 with 2 Axes>"
      ]
     },
     "metadata": {},
     "output_type": "display_data"
    }
   ],
   "source": [
    "outlier_probability_sweep = jnp.linspace(0.01, 1.0, 10)\n",
    "inlier_lightness_variance_sweep = jnp.linspace(0.1, 10.0, 10)\n",
    "inlier_color_variance_sweep = jnp.linspace(0.1, 0.1, 10)\n",
    "inlier_depth_variance_sweep = jnp.linspace(0.0001, 0.1, 10)\n",
    "\n",
    "scores = vmapped_grid(\n",
    "    trace,\n",
    "    key,\n",
    "    outlier_probability_sweep,\n",
    "    inlier_lightness_variance_sweep,\n",
    "    inlier_color_variance_sweep,\n",
    "    inlier_depth_variance_sweep\n",
    ")\n",
    "plt.matshow(\n",
    "    scores[:, :, 0,1]\n",
    ")\n",
    "plt.colorbar()"
   ]
  },
  {
   "cell_type": "code",
   "execution_count": 41,
   "metadata": {},
   "outputs": [
    {
     "data": {
      "text/plain": [
       "(10000, 3)"
      ]
     },
     "execution_count": 41,
     "metadata": {},
     "output_type": "execute_result"
    }
   ],
   "source": [
    "trace.get_choices()[\"noisy_lab_color\",...].shape"
   ]
  },
  {
   "cell_type": "code",
   "execution_count": null,
   "metadata": {},
   "outputs": [],
   "source": []
  }
 ],
 "metadata": {
  "kernelspec": {
   "display_name": "b3d",
   "language": "python",
   "name": "python3"
  },
  "language_info": {
   "codemirror_mode": {
    "name": "ipython",
    "version": 3
   },
   "file_extension": ".py",
   "mimetype": "text/x-python",
   "name": "python",
   "nbconvert_exporter": "python",
   "pygments_lexer": "ipython3",
   "version": "3.12.4"
  }
 },
 "nbformat": 4,
 "nbformat_minor": 2
}
