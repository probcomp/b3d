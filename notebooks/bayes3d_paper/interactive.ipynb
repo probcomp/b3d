{
 "cells": [
  {
   "cell_type": "code",
   "execution_count": 1,
   "metadata": {},
   "outputs": [],
   "source": [
    "import b3d\n",
    "import jax.numpy as jnp\n",
    "import os\n",
    "from b3d import Mesh, Pose\n",
    "import jax\n",
    "import genjax\n",
    "from genjax import Pytree\n",
    "import rerun as rr\n",
    "from b3d.modeling_utils import uniform_discrete, uniform_pose, gaussian_vmf\n",
    "import matplotlib.pyplot as plt\n",
    "from functools import partial\n",
    "import importlib"
   ]
  },
  {
   "cell_type": "code",
   "execution_count": 2,
   "metadata": {},
   "outputs": [
    {
     "name": "stderr",
     "output_type": "stream",
     "text": [
      "100%|██████████| 1/1 [00:02<00:00,  2.93s/it]\n"
     ]
    }
   ],
   "source": [
    "b3d.rr_init(\"interactive\")\n",
    "key = jax.random.PRNGKey(0)\n",
    "ycb_dir = os.path.join(b3d.get_assets_path(), \"bop/ycbv\")\n",
    "scene_id = 49\n",
    "image_id = 100\n",
    "\n",
    "all_data = b3d.io.get_ycbv_test_images(ycb_dir, scene_id, [image_id])\n",
    "\n",
    "meshes = [\n",
    "    Mesh.from_obj_file(os.path.join(ycb_dir, f'models/obj_{f\"{id + 1}\".rjust(6, \"0\")}.ply')).scale(0.001)\n",
    "    for id in all_data[0][\"object_types\"]\n",
    "]\n",
    "\n",
    "height, width = all_data[0][\"rgbd\"].shape[:2]\n",
    "fx,fy,cx,cy = all_data[0][\"camera_intrinsics\"]\n",
    "scaling_factor = 0.1\n",
    "renderer = b3d.renderer.renderer_original.RendererOriginal(\n",
    "    width * scaling_factor, height * scaling_factor, fx * scaling_factor, fy * scaling_factor, cx * scaling_factor, cy * scaling_factor, 0.01, 2.0\n",
    ")\n",
    "observed_image_scaled_down = b3d.resize_image(all_data[0][\"rgbd\"], renderer.height, renderer.width)"
   ]
  },
  {
   "cell_type": "code",
   "execution_count": 3,
   "metadata": {},
   "outputs": [
    {
     "data": {
      "image/jpeg": "[encoded data removed]",
      "image/png": "[encoded data removed]",
      "text/plain": [
       "<PIL.Image.Image image mode=RGB size=64x48>"
      ]
     },
     "execution_count": 3,
     "metadata": {},
     "output_type": "execute_result"
    }
   ],
   "source": [
    "initial_camera_pose = all_data[0][\"camera_pose\"]\n",
    "initial_object_poses = all_data[0][\"object_poses\"]\n",
    "IDX = 0\n",
    "pose = initial_camera_pose.inv() @ initial_object_poses[IDX]\n",
    "rendered_rgbd = renderer.render_rgbd_from_mesh(meshes[IDX].transform(pose))\n",
    "b3d.viz_rgb(rendered_rgbd)"
   ]
  },
  {
   "cell_type": "code",
   "execution_count": 19,
   "metadata": {},
   "outputs": [
    {
     "data": {
      "text/plain": [
       "<matplotlib.image.AxesImage at 0x7fb8a02a5e80>"
      ]
     },
     "execution_count": 19,
     "metadata": {},
     "output_type": "execute_result"
    },
    {
     "data": {
      "image/png": "[encoded data removed]",
      "text/plain": [
       "<Figure size 640x480 with 1 Axes>"
      ]
     },
     "metadata": {},
     "output_type": "display_data"
    }
   ],
   "source": [
    "@genjax.gen\n",
    "def ray_model(rendered_rgbd, likelihood_args):\n",
    "    k = likelihood_args[\"k\"].const\n",
    "    image_height, image_width = rendered_rgbd.shape[:2]\n",
    "\n",
    "    row_coordinate = genjax.categorical.vmap(in_axes=(0,))(\n",
    "            jnp.ones((k, image_height))\n",
    "    )  @ \"row_coordinate\"\n",
    "    column_coordinate = genjax.categorical.vmap(in_axes=(0,))(\n",
    "            jnp.ones((k, image_width))\n",
    "    ) @ \"column_coordinate\"\n",
    "\n",
    "    rgb = rendered_rgbd[row_coordinate, column_coordinate, :3]\n",
    "    lab = b3d.colors.rgb_to_lab(rgb)\n",
    "    depth = rendered_rgbd[row_coordinate, column_coordinate, 3]\n",
    "\n",
    "    outlier_probability = genjax.uniform(0.0, 1.0) @ \"outlier_probability\"\n",
    "    inlier_color_variance = genjax.uniform(0.0001, 10.0) @ \"inlier_color_variance\"\n",
    "    inlier_lightness_variance = genjax.uniform(0.0001, 10.0) @ \"inlier_lightness_variance\"\n",
    "    inlier_depth_variance = genjax.uniform(0.0001, 1.0) @ \"inlier_depth_variance\"\n",
    "\n",
    "\n",
    "    is_outlier = genjax.bernoulli.vmap(in_axes=(0,))(\n",
    "        jnp.ones(k) * jax.scipy.special.logit(outlier_probability)\n",
    "    )@ \"is_outlier\"\n",
    "\n",
    "    no_mesh_surface = (depth == 0.0)\n",
    "\n",
    "    is_outlier_adjusted = jnp.logical_or(is_outlier, no_mesh_surface)\n",
    "\n",
    "    adjusted_lab_variance = (\n",
    "        is_outlier_adjusted[..., None] * 1000000.0 +\n",
    "        (1.0 - is_outlier_adjusted)[...,None] * jnp.ones((k,3)) * jnp.array([inlier_lightness_variance, inlier_color_variance, inlier_color_variance])\n",
    "    )\n",
    "\n",
    "    noisy_lab = genjax.truncated_normal.vmap(in_axes=(0, 0, None, None))(\n",
    "        lab, adjusted_lab_variance,\n",
    "        jnp.array([0.0, -128.0, -128.0]), jnp.array([100.0, 128.0, 128.0])\n",
    "    ) @ \"noisy_lab_color\"\n",
    "\n",
    "    adjusted_depth_variance = is_outlier_adjusted * 1000000.0 + jnp.ones(k) * inlier_depth_variance\n",
    "    noisy_depth = genjax.truncated_normal.vmap(in_axes=(0, 0, None, None))(\n",
    "        depth, adjusted_depth_variance,\n",
    "        0.0, 20.0\n",
    "    ) @ \"noisy_depth\"\n",
    "\n",
    "    noisy_rgb = b3d.colors.lab_to_rgb(noisy_lab)\n",
    "    rgbd_values = jnp.concatenate([noisy_rgb, noisy_depth[:,None]], axis=-1)\n",
    "\n",
    "    observed_image = jnp.zeros((image_height, image_width, 4))\n",
    "    observed_image = observed_image.at[row_coordinate, column_coordinate, :].set(rgbd_values)\n",
    "    return {\"observed_image\": observed_image}\n",
    "    \n",
    "\n",
    "\n",
    "@partial(jax.jit, static_argnums=(2,))\n",
    "def trace_from_parameters(\n",
    "    key,\n",
    "    rendered_rgbd,\n",
    "    k,\n",
    "    outlier_probability,\n",
    "    inlier_lightness_variance,\n",
    "    inlier_color_variance,\n",
    "    inlier_depth_variance,\n",
    "):\n",
    "    key = jax.random.split(key, 2)[-1]\n",
    "    \n",
    "    likelikood_args = {\n",
    "        \"fx\": fx,\n",
    "        \"fy\": fy,\n",
    "        \"k\": Pytree.const(k)\n",
    "    }\n",
    "\n",
    "    choicemap = genjax.ChoiceMap.d(\n",
    "        {\n",
    "            \"outlier_probability\": outlier_probability,\n",
    "            \"inlier_lightness_variance\": inlier_lightness_variance,\n",
    "            \"inlier_color_variance\": inlier_color_variance,\n",
    "            \"inlier_depth_variance\": inlier_depth_variance,\n",
    "        }\n",
    "    )\n",
    "\n",
    "    trace = ray_model.importance(\n",
    "        key, \n",
    "        choicemap,\n",
    "        (rendered_rgbd, likelikood_args,),\n",
    "    )[0]\n",
    "    return trace, key\n",
    "    \n",
    "trace, key = trace_from_parameters(\n",
    "    jax.random.PRNGKey(10),\n",
    "    rendered_rgbd,\n",
    "    10000,\n",
    "    inlier_lightness_variance=10.0,\n",
    "    inlier_color_variance=40.0,\n",
    "    inlier_depth_variance=0.1,\n",
    "    outlier_probability=0.1,\n",
    ")\n",
    "plt.imshow(trace.get_retval()[\"observed_image\"][..., :3])"
   ]
  },
  {
   "cell_type": "code",
   "execution_count": 20,
   "metadata": {},
   "outputs": [
    {
     "data": {
      "application/vnd.jupyter.widget-view+json": {
       "model_id": "fae0b7f926fd4be49acbb32bc0f26016",
       "version_major": 2,
       "version_minor": 0
      },
      "text/plain": [
       "interactive(children=(IntSlider(value=10000, description='k', max=100000, min=1), FloatSlider(value=0.01, desc…"
      ]
     },
     "metadata": {},
     "output_type": "display_data"
    },
    {
     "data": {
      "text/plain": [
       "<function __main__.plot(k, outlier_probability, inlier_lightness_variance, inlier_color_variance, inlier_depth_variance)>"
      ]
     },
     "execution_count": 20,
     "metadata": {},
     "output_type": "execute_result"
    }
   ],
   "source": [
    "from ipywidgets import interact\n",
    "import ipywidgets as widgets\n",
    "\n",
    "import matplotlib.pyplot as plt\n",
    "import numpy as np\n",
    "\n",
    "\n",
    "def plot(k,\n",
    "    outlier_probability,\n",
    "    inlier_lightness_variance,\n",
    "    inlier_color_variance,\n",
    "    inlier_depth_variance,):\n",
    "    global key\n",
    "    trace, key = trace_from_parameters(\n",
    "        key,\n",
    "        rendered_rgbd, k,\n",
    "        outlier_probability,\n",
    "        inlier_lightness_variance,\n",
    "        inlier_color_variance,\n",
    "        inlier_depth_variance\n",
    "    )\n",
    "\n",
    "    fig, ax = plt.subplots(1, 4, figsize=(10, 5))\n",
    "\n",
    "    ax[0].imshow(rendered_rgbd[..., :3])\n",
    "    ax[0].axis('off')\n",
    "\n",
    "    ax[1].imshow(trace.get_retval()[\"observed_image\"][..., :3])\n",
    "    ax[1].axis('off')\n",
    "\n",
    "    ax[2].matshow(trace.get_retval()[\"observed_image\"][..., 3])\n",
    "    ax[2].axis('off')\n",
    "\n",
    "    ax[3].matshow(observed_image_scaled_down[..., :3])\n",
    "    ax[3].axis('off')\n",
    "\n",
    "interact(plot,\n",
    "    k = widgets.IntSlider(value=10000, min=1, max=100000, step=1),\n",
    "    outlier_probability = widgets.FloatSlider(value=0.0, min=0.01, max=1.0, step=0.01),\n",
    "    inlier_color_variance = widgets.FloatSlider(value=0.1, min=0.1, max=100.0, step=0.01),\n",
    "    inlier_lightness_variance = widgets.FloatSlider(value=0.1, min=0.1, max=100.0, step=0.01),\n",
    "    inlier_depth_variance = widgets.FloatSlider(value=0.0001, min=0.0001, max=100.0, step=0.01),\n",
    ")\n",
    "\n",
    "# Questions for vkm\n",
    "# RGB is 3 channels. D is one. So doesn't RGB then get 3 times the influence as D\n",
    "# The scales on L A B D are much different too.\n",
    "# Outlier branch"
   ]
  }
 ],
 "metadata": {
  "kernelspec": {
   "display_name": "b3d",
   "language": "python",
   "name": "python3"
  },
  "language_info": {
   "codemirror_mode": {
    "name": "ipython",
    "version": 3
   },
   "file_extension": ".py",
   "mimetype": "text/x-python",
   "name": "python",
   "nbconvert_exporter": "python",
   "pygments_lexer": "ipython3",
   "version": "3.12.4"
  }
 },
 "nbformat": 4,
 "nbformat_minor": 2
}
