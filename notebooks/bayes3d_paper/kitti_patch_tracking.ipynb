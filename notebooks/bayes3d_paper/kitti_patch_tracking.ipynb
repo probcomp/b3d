{
 "cells": [
  {
   "cell_type": "code",
   "execution_count": 1,
   "metadata": {},
   "outputs": [],
   "source": [
    "import pykitti\n",
    "import b3d\n",
    "import os\n",
    "import jax.numpy as jnp\n",
    "from tqdm import tqdm\n",
    "import genjax\n",
    "from b3d import Mesh, Pose\n",
    "import rerun as rr\n",
    "import jax\n",
    "from genjax import Pytree\n",
    "import matplotlib.pyplot as plt\n",
    "\n",
    "kitti_data_path = b3d.get_assets_path() / \"shared_data_bucket/foundation_pose_tracking_datasets/kitti_initial_data.npz\"\n",
    "data = jnp.load(kitti_data_path)\n",
    "rgbd = jnp.concatenate([data[\"rgb\"], data[\"depths\"][...,None]], axis=-1)\n",
    "key = jax.random.PRNGKey(0)\n",
    "\n",
    "image_height, image_width = data[\"rgb\"][0].shape[:2]\n",
    "fx,fy,cx,cy,near,far = data[\"camera_intrinsics\"]\n",
    "scaling_factor = 0.3\n",
    "renderer = b3d.renderer.renderer_original.RendererOriginal(\n",
    "    image_width * scaling_factor, image_height * scaling_factor, fx * scaling_factor, fy * scaling_factor, cx * scaling_factor, cy * scaling_factor, 0.01, 2.0\n",
    ")\n"
   ]
  },
  {
   "cell_type": "code",
   "execution_count": 2,
   "metadata": {},
   "outputs": [],
   "source": [
    "b3d.rr_init(\"kitti_patch_tracking\")"
   ]
  },
  {
   "cell_type": "code",
   "execution_count": 3,
   "metadata": {},
   "outputs": [],
   "source": [
    "rgbds = b3d.utils.resize_image_nearest_vmap(\n",
    "    rgbd, renderer.height, renderer.width\n",
    ")"
   ]
  },
  {
   "cell_type": "code",
   "execution_count": 4,
   "metadata": {},
   "outputs": [],
   "source": [
    "for t in range(len(rgbds)):\n",
    "    b3d.rr_set_time(t)\n",
    "    b3d.rr_log_rgb(rgbds[t][..., :3])"
   ]
  },
  {
   "cell_type": "code",
   "execution_count": 22,
   "metadata": {},
   "outputs": [
    {
     "data": {
      "text/plain": [
       "(456, 2)"
      ]
     },
     "execution_count": 22,
     "metadata": {},
     "output_type": "execute_result"
    }
   ],
   "source": [
    "import functools\n",
    "\n",
    "@jax.jit\n",
    "@functools.partial(\n",
    "    jnp.vectorize,\n",
    "    signature=\"(2)->(2),(h,h),(w,w,3)\",\n",
    "    excluded=(\n",
    "        1,\n",
    "        2,\n",
    "    ),\n",
    ")\n",
    "def get_new_ij(ij, rgbd0, rgbd1):\n",
    "    width = 8\n",
    "    i,j = ij\n",
    "    window = jax.lax.dynamic_slice(rgbd0[...,:3], (i - width, j-width, 0), (width*2 + 1, width*2+1, 3))\n",
    "    search_radius = 10\n",
    "\n",
    "    @functools.partial(\n",
    "        jnp.vectorize,\n",
    "        signature=\"(2)->()\",\n",
    "        excluded=(\n",
    "            1,\n",
    "            2,\n",
    "            3,\n",
    "        ),\n",
    "    )\n",
    "    def score_potential_ijs(ij_offset, ij, window):\n",
    "        i_delta,j_delta = ij_offset\n",
    "        i,j  = ij\n",
    "        i,j = i + i_delta, j + j_delta\n",
    "        potential_window = jax.lax.dynamic_slice(rgbd1[...,:3], (i  - width, j-width, 0), (width*2 + 1, width*2+1, 3))\n",
    "        error = (jnp.abs(window - potential_window)).sum()\n",
    "        return error\n",
    "\n",
    "    potential_ij_offset = jnp.stack(jnp.meshgrid(\n",
    "        jnp.arange(-search_radius, search_radius + 1),\n",
    "        jnp.arange(-search_radius, search_radius + 1),\n",
    "    ),axis=-1)\n",
    "\n",
    "    scores = score_potential_ijs(potential_ij_offset, ij, window)\n",
    "    return (potential_ij_offset[jnp.unravel_index(jnp.argmin(scores), scores.shape)] + ij, scores, window)\n",
    "\n",
    "\n",
    "\n",
    "stride = 10\n",
    "pixels = jnp.stack(jnp.meshgrid(jnp.arange(0, int(image_height * scaling_factor), stride), jnp.arange(0, int(image_width * scaling_factor), stride)), axis=-1).reshape(-1, 2)\n",
    "pixels.shape"
   ]
  },
  {
   "cell_type": "code",
   "execution_count": 23,
   "metadata": {},
   "outputs": [
    {
     "name": "stdout",
     "output_type": "stream",
     "text": [
      "(456, 21, 21)\n",
      "CPU times: user 415 ms, sys: 15.5 ms, total: 430 ms\n",
      "Wall time: 523 ms\n"
     ]
    }
   ],
   "source": [
    "%%time\n",
    "new_pixels, errors, windows = get_new_ij(pixels, rgbds[0], rgbds[1])\n",
    "print(errors.shape)\n",
    "\n",
    "import matplotlib.pyplot as plt\n",
    "\n",
    "colors = plt.cm.jet(jnp.linspace(0,1,len(pixels)))\n",
    "colors = colors * jnp.array([1.0, 1.0, 1.0, 1.0])\n",
    "mask = errors.min(-1).min(-1) < 60.0\n",
    "b3d.rr_set_time(0)\n",
    "\n",
    "rr.log(\"rgb/pixels\",\n",
    "       rr.Points2D(\n",
    "           pixels[:,jnp.array([1,0])][mask],\n",
    "           colors=colors[mask],\n",
    "           radii=2\n",
    "        )\n",
    ")\n",
    "\n",
    "b3d.rr_set_time(1)\n",
    "\n",
    "rr.log(\"rgb/pixels\",\n",
    "       rr.Points2D(\n",
    "           new_pixels[:,jnp.array([1,0])][mask],\n",
    "           colors=colors[mask],\n",
    "           radii=2,\n",
    "        )\n",
    ")"
   ]
  },
  {
   "cell_type": "code",
   "execution_count": 24,
   "metadata": {},
   "outputs": [],
   "source": [
    "for t in range(100):\n",
    "    rr.set_time_sequence(\"step\", t)\n",
    "    rr.log(f\"error\", rr.Clear(recursive=True))"
   ]
  },
  {
   "cell_type": "code",
   "execution_count": 39,
   "metadata": {},
   "outputs": [
    {
     "name": "stdout",
     "output_type": "stream",
     "text": [
      "1 37.137253\n",
      "2 57.94902\n",
      "3 76.83922\n",
      "4 77.274506\n",
      "5 92.24314\n",
      "6 127.701965\n",
      "7 79.247055\n",
      "8 84.274506\n",
      "9 100.796074\n",
      "10 105.15686\n"
     ]
    }
   ],
   "source": [
    "ij = jnp.array([91, 243])\n",
    "ij = jnp.array([78, 260])\n",
    "ij = jnp.array([70, 119])\n",
    "ij = jnp.array([70, 132])\n",
    "ijs = [ij]\n",
    "rr.set_time_sequence(\"step\", 0)\n",
    "\n",
    "rr.log(\"rgb/pixels\",\n",
    "    rr.Points2D(\n",
    "        jnp.array([ij[1], ij[0]])[None],\n",
    "        radii=2\n",
    "    )\n",
    ")\n",
    "for t in range(10):\n",
    "    rr.set_time_sequence(\"step\", t+1)\n",
    "    ij, scores, _ = get_new_ij(ij, rgbds[t], rgbds[t+1])\n",
    "    rr.log(\"rgb/pixels\",\n",
    "        rr.Points2D(\n",
    "            jnp.array([ij[1], ij[0]])[None],\n",
    "            radii=3\n",
    "        )\n",
    "    )\n",
    "    rr.log(\"error4\", rr.Scalar(scores.min()))\n",
    "    print(t+1, scores.min())"
   ]
  },
  {
   "cell_type": "code",
   "execution_count": 27,
   "metadata": {},
   "outputs": [],
   "source": [
    "for t in range(100):\n",
    "    rr.set_time_sequence(\"step\", t)\n",
    "    rr.log(f\"error3\", rr.Clear(recursive=False))"
   ]
  },
  {
   "cell_type": "code",
   "execution_count": null,
   "metadata": {},
   "outputs": [],
   "source": []
  },
  {
   "cell_type": "code",
   "execution_count": 108,
   "metadata": {},
   "outputs": [
    {
     "data": {
      "text/plain": [
       "99"
      ]
     },
     "execution_count": 108,
     "metadata": {},
     "output_type": "execute_result"
    }
   ],
   "source": [
    "t"
   ]
  },
  {
   "cell_type": "code",
   "execution_count": 105,
   "metadata": {},
   "outputs": [],
   "source": [
    "from math import cos, sin, tau\n",
    "\n",
    "\n",
    "rr.log(\n",
    "    \"trig/cos\",\n",
    "    rr.SeriesPoint(\n",
    "        color=[0, 255, 0],\n",
    "        name=\"cos(0.01t)\",\n",
    "        marker=\"cross\",\n",
    "        marker_size=2,\n",
    "    ),\n",
    "    static=True,\n",
    ")\n",
    "\n",
    "# Log the data on a timeline called \"step\".\n",
    "for t in range(0, int(tau * 2 * 10.0)):\n",
    "    rr.set_time_sequence(\"step\", t)\n",
    "\n",
    "    rr.log(\"trig/sin\", rr.Scalar(sin(float(t) / 10.0)))\n",
    "    rr.log(\"trig/cos\", rr.Scalar(cos(float(t) / 10.0)))"
   ]
  },
  {
   "cell_type": "code",
   "execution_count": 75,
   "metadata": {},
   "outputs": [
    {
     "data": {
      "text/plain": [
       "<matplotlib.image.AxesImage at 0x7faf32ff60f0>"
      ]
     },
     "execution_count": 75,
     "metadata": {},
     "output_type": "execute_result"
    },
    {
     "data": {
      "image/png": "[encoded data removed]",
      "text/plain": [
       "<Figure size 1000x500 with 3 Axes>"
      ]
     },
     "metadata": {},
     "output_type": "display_data"
    }
   ],
   "source": [
    "INDEX = 205\n",
    "pixels[jnp.where(mask)[0][INDEX]]\n",
    "fig,ax = plt.subplots(1,2, figsize=(10,5))\n",
    "\n",
    "errors_for_this_window = errors[jnp.where(mask)[0][INDEX]]\n",
    "fig.colorbar(ax[0].matshow(errors_for_this_window))\n",
    "ax[1].imshow(windows[jnp.where(mask)[0][INDEX]])"
   ]
  },
  {
   "cell_type": "code",
   "execution_count": 71,
   "metadata": {},
   "outputs": [
    {
     "data": {
      "text/plain": [
       "<matplotlib.colorbar.Colorbar at 0x7faf32fa0350>"
      ]
     },
     "execution_count": 71,
     "metadata": {},
     "output_type": "execute_result"
    },
    {
     "data": {
      "image/png": "[encoded data removed]",
      "text/plain": [
       "<Figure size 480x480 with 2 Axes>"
      ]
     },
     "metadata": {},
     "output_type": "display_data"
    }
   ],
   "source": [
    "plt.matshow(errors_for_this_window / errors_for_this_window.sum())\n",
    "plt.colorbar()"
   ]
  },
  {
   "cell_type": "code",
   "execution_count": null,
   "metadata": {},
   "outputs": [],
   "source": []
  }
 ],
 "metadata": {
  "kernelspec": {
   "display_name": "b3d",
   "language": "python",
   "name": "python3"
  },
  "language_info": {
   "codemirror_mode": {
    "name": "ipython",
    "version": 3
   },
   "file_extension": ".py",
   "mimetype": "text/x-python",
   "name": "python",
   "nbconvert_exporter": "python",
   "pygments_lexer": "ipython3",
   "version": "3.12.4"
  }
 },
 "nbformat": 4,
 "nbformat_minor": 2
}
