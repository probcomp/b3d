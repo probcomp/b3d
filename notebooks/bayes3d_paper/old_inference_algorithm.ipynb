{
 "cells": [
  {
   "cell_type": "code",
   "execution_count": 1,
   "metadata": {},
   "outputs": [],
   "source": [
    "### IMPORTS ###\n",
    "\n",
    "import b3d\n",
    "import jax.numpy as jnp\n",
    "import os\n",
    "from b3d import Mesh, Pose\n",
    "import jax\n",
    "import genjax\n",
    "from genjax import Pytree\n",
    "import rerun as rr\n",
    "from b3d.modeling_utils import uniform_discrete, uniform_pose, gaussian_vmf\n",
    "import matplotlib.pyplot as plt\n",
    "from functools import partial\n",
    "import importlib\n",
    "from ipywidgets import interact\n",
    "import ipywidgets as widgets\n",
    "from tqdm import tqdm\n",
    "import matplotlib.pyplot as plt\n",
    "import numpy as np\n",
    "from genjax import SelectionBuilder as S\n",
    "from genjax import ChoiceMapBuilder as C\n",
    "\n",
    "b3d.rr_init(\"dynamics2\")"
   ]
  },
  {
   "cell_type": "code",
   "execution_count": null,
   "metadata": {},
   "outputs": [],
   "source": [
    "### Loading data ###\n",
    "b3d.reload(b3d.io.data_loader)\n",
    "scene_id = 49\n",
    "FRAME_RATE = 50\n",
    "ycb_dir = os.path.join(b3d.get_assets_path(), \"bop/ycbv\")\n",
    "print(f\"Scene {scene_id}\")\n",
    "b3d.reload(b3d.io.data_loader)\n",
    "num_scenes = b3d.io.data_loader.get_ycbv_num_test_images(ycb_dir, scene_id)\n",
    "\n",
    "# image_ids = [image] if image is not None else range(1, num_scenes, FRAME_RATE)\n",
    "image_ids = range(1, num_scenes + 1, FRAME_RATE)\n",
    "all_data = b3d.io.data_loader.get_ycbv_test_images(ycb_dir, scene_id, image_ids)\n",
    "\n",
    "meshes = [\n",
    "    Mesh.from_obj_file(\n",
    "        os.path.join(ycb_dir, f'models/obj_{f\"{id + 1}\".rjust(6, \"0\")}.ply')\n",
    "    ).scale(0.001)\n",
    "    for id in all_data[0][\"object_types\"]\n",
    "]\n",
    "\n",
    "image_height, image_width = all_data[0][\"rgbd\"].shape[:2]\n",
    "fx,fy,cx,cy = all_data[0][\"camera_intrinsics\"]\n",
    "scaling_factor = 1.0\n",
    "renderer = b3d.renderer.renderer_original.RendererOriginal(\n",
    "    image_width * scaling_factor, image_height * scaling_factor, fx * scaling_factor, fy * scaling_factor, cx * scaling_factor, cy * scaling_factor, 0.01, 2.0\n",
    ")\n",
    "b3d.viz_rgb(all_data[0][\"rgbd\"])"
   ]
  },
  {
   "cell_type": "code",
   "execution_count": 136,
   "metadata": {},
   "outputs": [],
   "source": [
    "import b3d\n",
    "import b3d.chisight.gen3d.model\n",
    "b3d.reload(b3d.chisight.gen3d.model)\n",
    "import b3d.chisight.gen3d.transition_kernels as transition_kernels\n",
    "b3d.reload(b3d.chisight.gen3d.transition_kernels)\n",
    "import b3d.chisight.gen3d.image_kernel as image_kernel\n",
    "b3d.reload(b3d.chisight.gen3d.image_kernel)\n",
    "import b3d.io.data_loader\n",
    "import jax\n",
    "import jax.numpy as jnp\n",
    "from b3d import Mesh, Pose\n",
    "from b3d.chisight.gen3d.model import (\n",
    "    make_colors_choicemap,\n",
    "    make_depth_nonreturn_prob_choicemap,\n",
    "    make_visibility_prob_choicemap,\n",
    ")\n",
    "from b3d.chisight.gen3d.model import dynamic_object_generative_model\n",
    "from genjax import ChoiceMapBuilder as C\n",
    "from genjax import Pytree\n",
    "from b3d.chisight.gen3d.projection import PixelsPointsAssociation\n",
    "\n",
    "p_resample_color = 0.005\n",
    "hyperparams = {\n",
    "    \"pose_kernel\": transition_kernels.UniformPoseDriftKernel(max_shift=0.2),\n",
    "    \"color_kernel\": transition_kernels.LaplaceNotTruncatedColorDriftKernel(scale=0.05),\n",
    "    \"visibility_prob_kernel\": transition_kernels.DiscreteFlipKernel(\n",
    "        resample_probability=0.05, support=jnp.array([0.001, 0.999])\n",
    "    ),\n",
    "    \"depth_nonreturn_prob_kernel\": transition_kernels.DiscreteFlipKernel(\n",
    "        resample_probability=0.05, support=jnp.array([0.001, 0.999])\n",
    "    ),\n",
    "    \"depth_scale_kernel\": transition_kernels.DiscreteFlipKernel(\n",
    "        resample_probability=0.05,\n",
    "        support=jnp.array([0.0025, 0.005, 0.01, 0.02]),\n",
    "    ),\n",
    "    \"color_scale_kernel\": transition_kernels.DiscreteFlipKernel(\n",
    "        resample_probability=0.05, support=jnp.array([0.01])\n",
    "    ),\n",
    "    \"image_kernel\": image_kernel.NoOcclusionPerVertexImageKernel(image_kernel.OldOcclusionPixelRGBDDistribution()),\n",
    "}\n",
    "\n"
   ]
  },
  {
   "cell_type": "code",
   "execution_count": 137,
   "metadata": {},
   "outputs": [
    {
     "name": "stdout",
     "output_type": "stream",
     "text": [
      "-10053.277\n"
     ]
    }
   ],
   "source": [
    "\n",
    "T = 0\n",
    "b3d.rr_set_time(T)\n",
    "OBJECT_INDEX = 2\n",
    "\n",
    "template_pose = all_data[T][\"camera_pose\"].inv() @ all_data[T][\"object_poses\"][OBJECT_INDEX]\n",
    "rendered_rgbd = renderer.render_rgbd_from_mesh(meshes[OBJECT_INDEX].transform(template_pose))\n",
    "xyz_rendered = b3d.xyz_from_depth(rendered_rgbd[..., 3], fx, fy, cx, cy)\n",
    "\n",
    "fx, fy, cx, cy = all_data[T][\"camera_intrinsics\"]\n",
    "xyz_observed = b3d.xyz_from_depth(all_data[T][\"rgbd\"][..., 3], fx, fy, cx, cy)\n",
    "mask = all_data[T][\"masks\"][OBJECT_INDEX] * (xyz_observed[..., 2] > 0) * (jnp.linalg.norm(xyz_rendered - xyz_observed, axis=-1) < 0.01)\n",
    "model_vertices = template_pose.inv().apply(xyz_rendered[mask])\n",
    "model_colors = vertex_attributes=all_data[T][\"rgbd\"][..., :3][mask]\n",
    "\n",
    "# subset = jax.random.permutation(jax.random.PRNGKey(0), len(model_vertices))[:len(model_vertices) // 2]\n",
    "# model_vertices = model_vertices[subset]\n",
    "# model_colors = model_colors[subset]\n",
    "mesh = meshes[OBJECT_INDEX]\n",
    "model_vertices = mesh.vertices\n",
    "model_colors = mesh.vertex_attributes\n",
    "\n",
    "hyperparams[\"intrinsics\"] = {\n",
    "    \"fx\": fx, \"fy\": fy, \"cx\": cx, \"cy\": cy,\n",
    "        \"image_height\": Pytree.const(image_height),\n",
    "    \"image_width\": Pytree.const(image_width),\n",
    "    \"near\": 0.01,\n",
    "    \"far\": 3.0,\n",
    "}\n",
    "hyperparams[\"vertices\"] = model_vertices\n",
    "\n",
    "\n",
    "num_vertices = model_vertices.shape[0]\n",
    "previous_state = {\n",
    "    \"pose\": template_pose,\n",
    "    \"colors\": model_colors,\n",
    "    \"visibility_prob\": jnp.ones(num_vertices)\n",
    "    * hyperparams[\"visibility_prob_kernel\"].support[-1],\n",
    "    \"depth_nonreturn_prob\": jnp.ones(num_vertices)\n",
    "    * hyperparams[\"depth_nonreturn_prob_kernel\"].support[0],\n",
    "    \"depth_scale\": hyperparams[\"depth_scale_kernel\"].support[0],\n",
    "    \"color_scale\": hyperparams[\"color_scale_kernel\"].support[0],\n",
    "}\n",
    "\n",
    "choicemap = (\n",
    "    genjax.ChoiceMap.d(\n",
    "        {\n",
    "            \"pose\": previous_state[\"pose\"],\n",
    "            \"color_scale\": previous_state[\"color_scale\"],\n",
    "            \"depth_scale\": previous_state[\"depth_scale\"],\n",
    "            \"rgbd\": all_data[T][\"rgbd\"],\n",
    "        }\n",
    "    ) ^ \n",
    "    make_visibility_prob_choicemap(previous_state[\"visibility_prob\"]) ^\n",
    "    make_colors_choicemap(previous_state[\"colors\"]) ^\n",
    "    make_depth_nonreturn_prob_choicemap(previous_state[\"depth_nonreturn_prob\"])\n",
    ")\n",
    "key = jax.random.PRNGKey(0)\n",
    "\n",
    "trace= dynamic_object_generative_model.importance(key, choicemap, (hyperparams, previous_state))[0]\n",
    "print(trace.get_score())\n",
    "og_trace = trace\n",
    "b3d.chisight.gen3d.model.viz_trace(trace, T,\n",
    "        ground_truth_vertices=meshes[OBJECT_INDEX].vertices,\n",
    "        ground_truth_pose=all_data[T][\"camera_pose\"].inv() @ all_data[T][\"object_poses\"][OBJECT_INDEX]                                   \n",
    ")\n",
    "results = {}"
   ]
  },
  {
   "cell_type": "code",
   "execution_count": 138,
   "metadata": {},
   "outputs": [],
   "source": [
    "import b3d.chisight.gen3d.inference_old as inference\n",
    "import b3d.chisight.gen3d.settings \n",
    "b3d.reload(b3d.chisight.gen3d.inference_old)\n",
    "inference_hyperparams = b3d.chisight.gen3d.settings.inference_hyperparams\n",
    "import b3d.chisight.gen3d.visualization as viz\n",
    "b3d.reload(b3d.chisight.gen3d.visualization)\n",
    "import b3d.chisight.gen3d.visualization as viz\n",
    "import b3d.chisight.gen3d.image_kernel\n",
    "b3d.reload(b3d.chisight.gen3d.image_kernel)"
   ]
  },
  {
   "cell_type": "code",
   "execution_count": 139,
   "metadata": {},
   "outputs": [],
   "source": [
    "# trace, _ = inference.update_vertex_attributes(key, trace, inference_hyperparams)\n",
    "# b3d.chisight.gen3d.model.viz_trace(trace, 1,\n",
    "#         ground_truth_vertices=meshes[OBJECT_INDEX].vertices,\n",
    "#         ground_truth_pose=all_data[T][\"camera_pose\"].inv() @ all_data[T][\"object_poses\"][OBJECT_INDEX]                                   \n",
    "# )\n",
    "# choicemap_good = trace.get_choices()"
   ]
  },
  {
   "cell_type": "code",
   "execution_count": 140,
   "metadata": {},
   "outputs": [],
   "source": [
    "trace = trace.update(key, choicemap_good)[0]\n",
    "b3d.chisight.gen3d.model.viz_trace(trace, 0,\n",
    "        ground_truth_vertices=meshes[OBJECT_INDEX].vertices,\n",
    "        ground_truth_pose=all_data[T][\"camera_pose\"].inv() @ all_data[T][\"object_poses\"][OBJECT_INDEX]                                   \n",
    ")"
   ]
  },
  {
   "cell_type": "code",
   "execution_count": 141,
   "metadata": {},
   "outputs": [
    {
     "name": "stderr",
     "output_type": "stream",
     "text": [
      "100%|██████████| 49/49 [02:09<00:00,  2.65s/it]\n"
     ]
    }
   ],
   "source": [
    "for T in tqdm(range(len(all_data))):\n",
    "    trace = inference.advance_time(key, trace, all_data[T][\"rgbd\"])\n",
    "    trace = inference.inference_step(trace, key, inference_hyperparams)[0]\n",
    "    results[T] = trace\n",
    "\n",
    "    b3d.chisight.gen3d.model.viz_trace(trace, T,\n",
    "            ground_truth_vertices=meshes[OBJECT_INDEX].vertices,\n",
    "            ground_truth_pose=all_data[T][\"camera_pose\"].inv() @ all_data[T][\"object_poses\"][OBJECT_INDEX]                                   \n",
    "    )"
   ]
  },
  {
   "cell_type": "code",
   "execution_count": 84,
   "metadata": {},
   "outputs": [
    {
     "data": {
      "text/plain": [
       "Array(0., dtype=float32)"
      ]
     },
     "execution_count": 84,
     "metadata": {},
     "output_type": "execute_result"
    }
   ],
   "source": [
    "vertex_index = 2426\n",
    "trace.get_retval()[\"new_state\"][\"visibility_prob\"][vertex_index]"
   ]
  },
  {
   "cell_type": "code",
   "execution_count": null,
   "metadata": {},
   "outputs": [],
   "source": [
    "for T in tqdm(range(len(all_data))):\n",
    "    trace = inference.advance_time(key, trace, all_data[T][\"rgbd\"])\n",
    "    trace = inference.inference_step(trace, key, inference_hyperparams)[0]\n",
    "    results[T] = trace\n",
    "\n",
    "    b3d.chisight.gen3d.model.viz_trace(trace, T,\n",
    "            ground_truth_vertices=meshes[OBJECT_INDEX].vertices,\n",
    "            ground_truth_pose=all_data[T][\"camera_pose\"].inv() @ all_data[T][\"object_poses\"][OBJECT_INDEX]                                   \n",
    "    )"
   ]
  },
  {
   "cell_type": "code",
   "execution_count": 42,
   "metadata": {},
   "outputs": [],
   "source": [
    "T = 1\n",
    "trace = inference.advance_time(key, trace, all_data[T][\"rgbd\"])\n",
    "trace = inference.inference_step(trace, key, inference_hyperparams)[0]\n",
    "b3d.chisight.gen3d.model.viz_trace(trace, T)"
   ]
  },
  {
   "cell_type": "code",
   "execution_count": null,
   "metadata": {},
   "outputs": [],
   "source": []
  },
  {
   "cell_type": "code",
   "execution_count": 72,
   "metadata": {},
   "outputs": [
    {
     "name": "stdout",
     "output_type": "stream",
     "text": [
      "[0.54117644 0.37647057 0.2352941  0.9140787 ] [0.54117644 0.37647057 0.2352941  0.851     ]\n"
     ]
    },
    {
     "data": {
      "application/vnd.jupyter.widget-view+json": {
       "model_id": "a6a6bb735693451490d8a25f64893e94",
       "version_major": 2,
       "version_minor": 0
      },
      "text/plain": [
       "interactive(children=(FloatSlider(value=0.009999999776482582, continuous_update=False, description='Color Scal…"
      ]
     },
     "metadata": {},
     "output_type": "display_data"
    }
   ],
   "source": [
    "b3d.reload(b3d.chisight.gen3d.visualization)\n",
    "import b3d.chisight.gen3d.visualization as viz\n",
    "\n",
    "latent_rgbd_per_point, observed_rgbd_per_point = b3d.chisight.gen3d.image_kernel.get_latent_and_observed_correspondences(\n",
    "    trace.get_retval()[\"new_state\"], trace.get_args()[0], trace.get_choices()[\"rgbd\"]\n",
    ")\n",
    "previous_state = trace.get_args()[1]\n",
    "vertex_index = 602\n",
    "print(latent_rgbd_per_point[vertex_index], observed_rgbd_per_point[vertex_index])\n",
    "previous_color = previous_state[\"colors\"][vertex_index]\n",
    "previous_visibility_prob = previous_state[\"visibility_prob\"][vertex_index]\n",
    "previous_dnrp = previous_state[\"depth_nonreturn_prob\"][vertex_index]\n",
    "observed_rgbd_for_point = observed_rgbd_per_point[vertex_index]\n",
    "latent_rgbd_for_point = latent_rgbd_per_point[vertex_index]\n",
    "attribute_proposal_function = inference.attribute_proposal_only_color_and_visibility\n",
    "viz.create_interactive_visualization(\n",
    "    observed_rgbd_for_point,\n",
    "    latent_rgbd_for_point,\n",
    "    hyperparams, inference_hyperparams,\n",
    "    previous_color,\n",
    "    previous_visibility_prob,\n",
    "    previous_dnrp,\n",
    "    attribute_proposal_function,\n",
    ")"
   ]
  }
 ],
 "metadata": {
  "kernelspec": {
   "display_name": "Python 3 (ipykernel)",
   "language": "python",
   "name": "python3"
  },
  "language_info": {
   "codemirror_mode": {
    "name": "ipython",
    "version": 3
   },
   "file_extension": ".py",
   "mimetype": "text/x-python",
   "name": "python",
   "nbconvert_exporter": "python",
   "pygments_lexer": "ipython3",
   "version": "3.12.4"
  }
 },
 "nbformat": 4,
 "nbformat_minor": 2
}
