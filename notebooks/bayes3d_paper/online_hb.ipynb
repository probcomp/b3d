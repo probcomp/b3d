{
 "cells": [
  {
   "cell_type": "code",
   "execution_count": null,
   "metadata": {},
   "outputs": [],
   "source": [
    "%load_ext autoreload\n",
    "%autoreload 2"
   ]
  },
  {
   "cell_type": "code",
   "execution_count": 20,
   "metadata": {},
   "outputs": [],
   "source": [
    "### IMPORTS ###\n",
    "\n",
    "import b3d\n",
    "import jax.numpy as jnp\n",
    "import os\n",
    "from b3d import Mesh, Pose\n",
    "import jax\n",
    "import genjax\n",
    "from genjax import Pytree\n",
    "import rerun as rr\n",
    "from b3d.modeling_utils import uniform_discrete, uniform_pose, gaussian_vmf\n",
    "import matplotlib.pyplot as plt\n",
    "from functools import partial\n",
    "import importlib\n",
    "from ipywidgets import interact\n",
    "import ipywidgets as widgets\n",
    "from tqdm import tqdm\n",
    "import matplotlib.pyplot as plt\n",
    "import numpy as np\n",
    "from genjax import SelectionBuilder as S\n",
    "from genjax import ChoiceMapBuilder as C\n",
    "\n",
    "b3d.rr_init(\"dynamics\")"
   ]
  },
  {
   "cell_type": "code",
   "execution_count": null,
   "metadata": {},
   "outputs": [],
   "source": [
    "### Loading data ###\n",
    "\n",
    "scene_id = 55\n",
    "FRAME_RATE = 50\n",
    "ycb_dir = os.path.join(b3d.get_assets_path(), \"bop/ycbv\")\n",
    "print(f\"Scene {scene_id}\")\n",
    "b3d.reload(b3d.io.data_loader)\n",
    "num_scenes = b3d.io.data_loader.get_ycbv_num_test_images(ycb_dir, scene_id)\n",
    "\n",
    "# image_ids = [image] if image is not None else range(1, num_scenes, FRAME_RATE)\n",
    "image_ids = range(1, num_scenes + 1, FRAME_RATE)\n",
    "all_data = b3d.io.data_loader.get_ycbv_test_images(ycb_dir, scene_id, image_ids)\n",
    "\n",
    "meshes = [\n",
    "    Mesh.from_obj_file(\n",
    "        os.path.join(ycb_dir, f'models/obj_{f\"{id + 1}\".rjust(6, \"0\")}.ply')\n",
    "    ).scale(0.001)\n",
    "    for id in all_data[0][\"object_types\"]\n",
    "]\n",
    "\n",
    "image_height, image_width = all_data[0][\"rgbd\"].shape[:2]\n",
    "fx,fy,cx,cy = all_data[0][\"camera_intrinsics\"]\n",
    "scaling_factor = 1.0\n",
    "renderer = b3d.renderer.renderer_original.RendererOriginal(\n",
    "    image_width * scaling_factor, image_height * scaling_factor, fx * scaling_factor, fy * scaling_factor, cx * scaling_factor, cy * scaling_factor, 0.01, 2.0\n",
    ")\n",
    "b3d.viz_rgb(all_data[0][\"rgbd\"])"
   ]
  },
  {
   "cell_type": "code",
   "execution_count": 61,
   "metadata": {},
   "outputs": [],
   "source": [
    "from b3d.chisight.dynamic_object_model.dynamic_object_model import dynamic_object_generative_model, viz_trace, info_from_trace\n",
    "from b3d.chisight.dynamic_object_model.dynamic_object_inference import inference_step\n",
    "b3d.reload(b3d.chisight.dynamic_object_model.dynamic_object_model)\n",
    "b3d.reload(b3d.chisight.dynamic_object_model.dynamic_object_inference)"
   ]
  },
  {
   "cell_type": "code",
   "execution_count": null,
   "metadata": {},
   "outputs": [],
   "source": [
    "### Set up model ###\n",
    "\n",
    "T = 0\n",
    "b3d.rr_set_time(T)\n",
    "O1JECT_INDEX = 1\n",
    "\n",
    "template_pose = all_data[T][\"camera_pose\"].inv() @ all_data[T][\"object_poses\"][OBJECT_INDEX]\n",
    "rendered_rgbd = renderer.render_rgbd_from_mesh(meshes[OBJECT_INDEX].transform(template_pose))\n",
    "xyz_rendered = b3d.xyz_from_depth(rendered_rgbd[..., 3], fx, fy, cx, cy)\n",
    "\n",
    "fx, fy, cx, cy = all_data[T][\"camera_intrinsics\"]\n",
    "xyz_observed = b3d.xyz_from_depth(all_data[T][\"rgbd\"][..., 3], fx, fy, cx, cy)\n",
    "mask = all_data[T][\"masks\"][OBJECT_INDEX] * (xyz_observed[..., 2] > 0) * (jnp.linalg.norm(xyz_rendered - xyz_observed, axis=-1) < 0.01)\n",
    "model_vertices = template_pose.inv().apply(xyz_rendered[mask])\n",
    "model_colors = vertex_attributes=all_data[T][\"rgbd\"][..., :3][mask]\n",
    "\n",
    "hyperparams = {\n",
    "    \"vertices\": model_vertices,\n",
    "    \"max_color_shift\": Pytree.const(0.05),\n",
    "    \"max_pose_position_shift\": Pytree.const(0.1),\n",
    "    \"fx\": fx,\n",
    "    \"fy\": fy,\n",
    "    \"cx\": cx,\n",
    "    \"cy\": cy,\n",
    "    \"image_height\": Pytree.const(image_height),\n",
    "    \"image_width\": Pytree.const(image_width)\n",
    "}\n",
    "\n",
    "previous_state = {\n",
    "    \"pose\": template_pose,\n",
    "    \"colors\": model_colors,\n",
    "}\n",
    "\n",
    "choicemap = genjax.ChoiceMap.d(\n",
    "    {\n",
    "        \"pose\": template_pose,\n",
    "        \"colors\": model_colors,\n",
    "\n",
    "        \"rgbd\": all_data[T][\"rgbd\"],\n",
    "\n",
    "        \"color_variance\": 0.05,\n",
    "        \"depth_variance\": 0.005,\n",
    "        \"color_outlier_probability\": jnp.ones(len(model_vertices)) * 0.01,\n",
    "        \"depth_outlier_probability\": jnp.ones(len(model_vertices)) * 0.01,\n",
    "    }\n",
    ")\n",
    "key = jax.random.PRNGKey(0)\n",
    "trace, _ = dynamic_object_generative_model.importance(key, choicemap, (hyperparams, previous_state))\n",
    "viz_trace(trace, 0)\n",
    "results = {}\n",
    "info = info_from_trace(trace)\n",
    "trace.get_score()"
   ]
  },
  {
   "cell_type": "code",
   "execution_count": 65,
   "metadata": {},
   "outputs": [
    {
     "name": "stderr",
     "output_type": "stream",
     "text": [
      "  0%|          | 0/37 [00:00<?, ?it/s]"
     ]
    },
    {
     "name": "stderr",
     "output_type": "stream",
     "text": [
      "100%|██████████| 37/37 [00:36<00:00,  1.00it/s]\n"
     ]
    }
   ],
   "source": [
    "\n",
    "### Run inference ###\n",
    "for T in tqdm(range(len(all_data))):\n",
    "    trace = inference_step(trace, key, all_data[T][\"rgbd\"])\n",
    "    viz_trace(trace, T)\n",
    "    results[T] = trace\n",
    "\n",
    "viz_trace(trace, T, ground_truth_vertices=meshes[OBJECT_INDEX].vertices, ground_truth_pose=all_data[T][\"camera_pose\"].inv() @ all_data[T][\"object_poses\"][OBJECT_INDEX])"
   ]
  },
  {
   "cell_type": "code",
   "execution_count": null,
   "metadata": {},
   "outputs": [],
   "source": [
    "info_from_trace(trace)[\"scores\"] < 0.0"
   ]
  },
  {
   "cell_type": "code",
   "execution_count": 304,
   "metadata": {},
   "outputs": [
    {
     "data": {
      "text/plain": [
       "Array([ 1.8246567 ,  0.98210424, -0.11121082, ..., -8.72367   ,\n",
       "        2.7278347 ,  2.7573478 ], dtype=float32)"
      ]
     },
     "execution_count": 304,
     "metadata": {},
     "output_type": "execute_result"
    }
   ],
   "source": [
    "info_from_trace(trace)[\"scores\"] < 0.0"
   ]
  }
 ],
 "metadata": {
  "kernelspec": {
   "display_name": "b3d",
   "language": "python",
   "name": "python3"
  },
  "language_info": {
   "codemirror_mode": {
    "name": "ipython",
    "version": 3
   },
   "file_extension": ".py",
   "mimetype": "text/x-python",
   "name": "python",
   "nbconvert_exporter": "python",
   "pygments_lexer": "ipython3",
   "version": "3.12.4"
  }
 },
 "nbformat": 4,
 "nbformat_minor": 2
}
