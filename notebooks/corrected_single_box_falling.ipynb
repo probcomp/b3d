{
 "cells": [
  {
   "cell_type": "code",
   "execution_count": 1,
   "metadata": {},
   "outputs": [],
   "source": [
    "import jax.numpy as jnp\n",
    "import jax\n",
    "import matplotlib.pyplot as plt\n",
    "import numpy as np\n",
    "import os\n",
    "import trimesh\n",
    "import b3d\n",
    "from jax.scipy.spatial.transform import Rotation as Rot\n",
    "from b3d import Pose\n",
    "#from b3d.utils import unproject_depth\n",
    "import rerun as rr\n",
    "import genjax\n",
    "from tqdm import tqdm\n",
    "\n",
    "\n",
    "rr.init(\"demo.py\")\n",
    "rr.connect(\"127.0.0.1:8812\")\n",
    "#rr.save('single_box')\n"
   ]
  },
  {
   "cell_type": "code",
   "execution_count": 2,
   "metadata": {},
   "outputs": [],
   "source": [
    "width=128\n",
    "height=128\n",
    "fx=64.0\n",
    "fy=64.0\n",
    "cx=64.0\n",
    "cy=64.0\n",
    "near=0.001\n",
    "far=16.0\n",
    "renderer = b3d.Renderer(\n",
    "    width, height, fx, fy, cx, cy, near, far\n",
    ")"
   ]
  },
  {
   "cell_type": "code",
   "execution_count": 3,
   "metadata": {},
   "outputs": [],
   "source": [
    "def rotation_from_axis_angle(axis, angle):\n",
    "    \"\"\"Creates a rotation matrix from an axis and angle.\n",
    "\n",
    "    Args:\n",
    "        axis (jnp.ndarray): The axis vector. Shape (3,)\n",
    "        angle (float): The angle in radians.\n",
    "    Returns:\n",
    "        jnp.ndarray: The rotation matrix. Shape (3, 3)\n",
    "    \"\"\"\n",
    "    sina = jnp.sin(angle)\n",
    "    cosa = jnp.cos(angle)\n",
    "    direction = axis / jnp.linalg.norm(axis)\n",
    "    # rotation matrix around unit vector\n",
    "    R = jnp.diag(jnp.array([cosa, cosa, cosa]))\n",
    "    R = R + jnp.outer(direction, direction) * (1.0 - cosa)\n",
    "    direction = direction * sina\n",
    "    R = R + jnp.array(\n",
    "        [\n",
    "            [0.0, -direction[2], direction[1]],\n",
    "            [direction[2], 0.0, -direction[0]],\n",
    "            [-direction[1], direction[0], 0.0],\n",
    "        ]\n",
    "    )\n",
    "    return R\n",
    "\n",
    "def transform_from_rot(rotation):\n",
    "    \"\"\"Creates a pose matrix from a rotation matrix.\n",
    "\n",
    "    Args:\n",
    "        rotation (jnp.ndarray): The rotation matrix. Shape (3, 3)\n",
    "    Returns:\n",
    "        jnp.ndarray: The pose matrix. Shape (4, 4)\n",
    "    \"\"\"\n",
    "    return jnp.vstack(\n",
    "        [jnp.hstack([rotation, jnp.zeros((3, 1))]), jnp.array([0.0, 0.0, 0.0, 1.0])]\n",
    "    )\n",
    "\n",
    "def transform_from_axis_angle(axis, angle):\n",
    "    \"\"\"Creates a pose matrix from an axis and angle.\n",
    "\n",
    "    Args:\n",
    "        axis (jnp.ndarray): The axis vector. Shape (3,)\n",
    "        angle (float): The angle in radians.\n",
    "    Returns:\n",
    "        jnp.ndarray: The pose matrix. Shape (4, 4)\n",
    "    \"\"\"\n",
    "    return transform_from_rot(rotation_from_axis_angle(axis, angle))\n",
    "\n"
   ]
  },
  {
   "cell_type": "code",
   "execution_count": 4,
   "metadata": {},
   "outputs": [],
   "source": [
    "r_mat = transform_from_axis_angle(jnp.array([0,0,1]), jnp.pi/2)"
   ]
  },
  {
   "cell_type": "code",
   "execution_count": 5,
   "metadata": {},
   "outputs": [],
   "source": [
    "\n",
    "vec_transform_axis_angle = jax.vmap(transform_from_axis_angle, (None, 0))\n",
    "rots = vec_transform_axis_angle(jnp.array([0,0,1]), jnp.linspace(0, 3*jnp.pi/4, 30))"
   ]
  },
  {
   "cell_type": "code",
   "execution_count": 6,
   "metadata": {},
   "outputs": [],
   "source": [
    "mesh_path = os.path.join(b3d.get_root_path(),\n",
    "    \"assets/shared_data_bucket/ycb_video_models/models/003_cracker_box/textured_simple.obj\")\n",
    "mesh = trimesh.load(mesh_path)\n",
    "\n",
    "object_library = b3d.MeshLibrary.make_empty_library()\n",
    "object_library.add_trimesh(mesh)\n",
    "\n",
    "cam_inv_pose = b3d.Pose.from_position_and_target(\n",
    "    jnp.array([0.15, 0.15, 0.0]),\n",
    "    jnp.array([0.0, 0.0, 0.0])\n",
    ").inv()\n",
    "\n",
    "\n",
    "in_place_rots = b3d.Pose.from_matrix(rots)\n",
    "\n",
    "\n",
    "compound_pose = cam_inv_pose @ in_place_rots #in_place_rot\n",
    "\n",
    "\n",
    "\n",
    "rgbs, depths = renderer.render_attribute_many(\n",
    "    compound_pose[:,None,...],\n",
    "    object_library.vertices,\n",
    "    object_library.faces,\n",
    "    jnp.array([[0, len(object_library.faces)]]),\n",
    "    object_library.attributes\n",
    ")\n",
    "#b3d.get_rgb_pil_image(rgb).save(b3d.get_root_path() / \"assets/test_ycb.png\")"
   ]
  },
  {
   "cell_type": "code",
   "execution_count": 7,
   "metadata": {},
   "outputs": [],
   "source": [
    "class Intrinsics:\n",
    "    width=128\n",
    "    height=128\n",
    "    fx=64.0\n",
    "    fy=64.0\n",
    "    cx=64.0\n",
    "    cy=64.0\n",
    "    near=0.001\n",
    "    far=16.0\n",
    "\n",
    "intrinsics = Intrinsics()\n",
    "\n",
    "def unproject_depth(depth, intrinsics):\n",
    "    \"\"\"Unprojects a depth image into a point cloud.\n",
    "\n",
    "    Args:\n",
    "        depth (jnp.ndarray): The depth image. Shape (H, W)\n",
    "        intrinsics (b.camera.Intrinsics): The camera intrinsics.\n",
    "    Returns:\n",
    "        jnp.ndarray: The point cloud. Shape (H, W, 3)\n",
    "    \"\"\"\n",
    "    mask = (depth < intrinsics.far) * (depth > intrinsics.near)\n",
    "    depth = depth * mask + intrinsics.far * (1.0 - mask)\n",
    "    y, x = jnp.mgrid[: depth.shape[0], : depth.shape[1]]\n",
    "    x = (x - intrinsics.cx) / intrinsics.fx\n",
    "    y = (y - intrinsics.cy) / intrinsics.fy\n",
    "    point_cloud_image = jnp.stack([x, y, jnp.ones_like(x)], axis=-1) * depth[:, :, None]\n",
    "    return point_cloud_image"
   ]
  },
  {
   "cell_type": "code",
   "execution_count": 8,
   "metadata": {},
   "outputs": [],
   "source": [
    "unproject_depth_vec = jax.vmap(unproject_depth, (0, None))"
   ]
  },
  {
   "cell_type": "code",
   "execution_count": 9,
   "metadata": {},
   "outputs": [],
   "source": [
    "xyzs = unproject_depth_vec(depths, intrinsics)"
   ]
  },
  {
   "cell_type": "code",
   "execution_count": 10,
   "metadata": {},
   "outputs": [],
   "source": [
    "from b3d import Pose\n",
    "\n",
    "num_layers = 2048\n",
    "renderer = b3d.Renderer(width, height, fx, fy, cx, cy, near, far, num_layers)\n",
    "model = b3d.model_multiobject_gl_factory(renderer)\n",
    "importance_jit = jax.jit(model.importance)\n",
    "update_jit = jax.jit(model.update)\n",
    "\n",
    "# Arguments of the generative model.\n",
    "# These control the inlier / outlier decision boundary for color error and depth error.\n",
    "#color_error, depth_error = (jnp.float32(10.0), jnp.float32(0.001))\n",
    "color_error, depth_error = (jnp.float32(50.0), jnp.float32(0.02))\n",
    "# TODO: explain\n",
    "inlier_score, outlier_prob = (jnp.float32(50.0), jnp.float32(0.001))\n",
    "# TODO: explain\n",
    "color_multiplier, depth_multiplier = (jnp.float32(3000.0), jnp.float32(3000.0))\n",
    "\n",
    "\n",
    "# Defines the enumeration schedule.\n",
    "key = jax.random.PRNGKey(0)\n",
    "# Gridding on translation only.\n",
    "translation_deltas = Pose.concatenate_poses([jax.vmap(lambda p: Pose.from_translation(p))(jnp.stack(\n",
    "    jnp.meshgrid(\n",
    "        jnp.linspace(-0.01, 0.01, 11),\n",
    "        jnp.linspace(-0.01, 0.01, 11),\n",
    "        jnp.linspace(-0.01, 0.01, 11),\n",
    "    ),\n",
    "    axis=-1,\n",
    ").reshape(-1, 3)), Pose.identity()[None,...]])\n",
    "# Sample orientations from a VMF to define a \"grid\" over orientations.\n",
    "\n",
    "#tighter grid centered at current orientation\n",
    "\n",
    "rotation_deltas = Pose.concatenate_poses([jax.vmap(Pose.sample_gaussian_vmf_pose, in_axes=(0,None, None, None))(\n",
    "    jax.random.split(jax.random.PRNGKey(0), 11*11*11),\n",
    "    Pose.identity(),\n",
    "    0.00001, 1000.0\n",
    "    #0.01, 1000.0\n",
    "), Pose.identity()[None,...]])\n",
    "all_deltas =  Pose.stack_poses([translation_deltas, rotation_deltas])"
   ]
  },
  {
   "cell_type": "code",
   "execution_count": 11,
   "metadata": {},
   "outputs": [],
   "source": [
    "# Make empty library\n",
    "object_library = b3d.MeshLibrary.make_empty_library()"
   ]
  },
  {
   "cell_type": "code",
   "execution_count": 12,
   "metadata": {},
   "outputs": [],
   "source": [
    "x_center = 64\n",
    "y_center = 64 \n",
    "del_pix = 5 \n",
    "\n",
    "local_points = xyzs[0,x_center-del_pix:x_center+del_pix,y_center-del_pix:y_center+del_pix,:].reshape(-1,3)\n",
    "local_rgbs = rgbs[0,x_center-del_pix:x_center+del_pix,y_center-del_pix:y_center+del_pix,:].reshape(-1,3)\n",
    "patch_center = xyzs[0,x_center,y_center,:]\n",
    "\n",
    "point_cloud = local_points\n",
    "point_cloud_colors = local_rgbs"
   ]
  },
  {
   "cell_type": "code",
   "execution_count": 13,
   "metadata": {},
   "outputs": [],
   "source": [
    "# Create new mesh.\n",
    "vertices, faces, vertex_colors, face_colors = b3d.make_mesh_from_point_cloud_and_resolution(\n",
    "    point_cloud, point_cloud_colors, point_cloud[:,2] / fx * 2.0\n",
    ")\n",
    "object_pose = Pose.from_translation(vertices.mean(0))\n",
    "vertices = object_pose.inverse().apply(vertices)\n",
    "object_library.add_object(vertices, faces, vertex_colors)\n"
   ]
  },
  {
   "cell_type": "code",
   "execution_count": 14,
   "metadata": {},
   "outputs": [
    {
     "name": "stderr",
     "output_type": "stream",
     "text": [
      "  0%|          | 0/30 [00:00<?, ?it/s]/var/tmp/ipykernel_384548/2793158847.py:40: DeprecationWarning: Use the `Scalar` + (optional) `SeriesLine`/`SeriesPoint` archetypes instead, logged on the same entity. See [0.13 migration guide](https://www.rerun.io/docs/reference/migration/migration-0-13).\n",
      "  rr.log('/vmf_score', rr.TimeSeriesScalar(score))\n",
      "100%|██████████| 30/30 [00:16<00:00,  1.79it/s]\n"
     ]
    }
   ],
   "source": [
    "\n",
    "model_args = b3d.model.ModelArgs(color_error, depth_error,\n",
    "                            inlier_score, outlier_prob,\n",
    "                            color_multiplier, depth_multiplier)\n",
    "\n",
    "trace, _ = importance_jit(\n",
    "    jax.random.PRNGKey(0),\n",
    "    genjax.choice_map(\n",
    "        dict([\n",
    "            (\"camera_pose\", Pose.identity()),\n",
    "            (\"object_pose_0\", object_pose),\n",
    "            (\"object_0\", 0),\n",
    "            (\"observed_rgb_depth\", (rgbs[0], xyzs[0,...,2])),\n",
    "        ])\n",
    "    ),\n",
    "    (jnp.arange(1),model_args, object_library)\n",
    ")\n",
    "\n",
    "# Visualize trace\n",
    "#b3d.rerun_visualize_trace_t(trace, 0)\n",
    "\n",
    "FINAL_T = len(xyzs)\n",
    "scores = []\n",
    "for T_observed_image in tqdm(range(0, FINAL_T)):\n",
    "    # Constrain on new RGB and Depth data.\n",
    "    trace = b3d.update_choices_jit(trace, key,\n",
    "        genjax.Pytree.const([\"observed_rgb_depth\"]),\n",
    "        (rgbs[T_observed_image],xyzs[T_observed_image,...,2])\n",
    "    )\n",
    "    trace,key = b3d.enumerate_and_select_best_move(trace, genjax.Pytree.const([\"camera_pose\"]), key, all_deltas)\n",
    "    trace,key = b3d.enumerate_and_select_best_move(trace, genjax.Pytree.const([f\"object_pose_0\"]), key, all_deltas)\n",
    "\n",
    "    score = trace.get_score()\n",
    "    scores.append(score)\n",
    "    #b3d.rerun_visualize_trace_t(trace, T_observed_image)\n",
    "\n",
    "    (observed_rgb, rendered_rgb), (observed_depth, rendered_depth) = trace.get_retval()\n",
    "    rr.set_time_sequence(\"frame\", T_observed_image)\n",
    "    rr.log(\"/vmf_tracking\", rr.Image(observed_rgb))\n",
    "    rr.log(\"/vmf_tracking/rgb_rendering\", rr.Image(rendered_rgb))\n",
    "    rr.log('/vmf_score', rr.TimeSeriesScalar(score))\n",
    "\n",
    "    (inliers, color_inliers, depth_inliers, valid_data_mask) = b3d.get_rgb_depth_inliers_from_trace(trace)\n",
    "    rr.log(\"/vmf_tracking/color_inliers\", rr.DepthImage(color_inliers * 1.0))"
   ]
  },
  {
   "cell_type": "code",
   "execution_count": 15,
   "metadata": {},
   "outputs": [
    {
     "data": {
      "text/plain": [
       "[<matplotlib.lines.Line2D at 0x7f267f3a2b90>]"
      ]
     },
     "execution_count": 15,
     "metadata": {},
     "output_type": "execute_result"
    },
    {
     "data": {
      "image/png": "[encoded data removed]",
      "text/plain": [
       "<Figure size 640x480 with 1 Axes>"
      ]
     },
     "metadata": {},
     "output_type": "display_data"
    }
   ],
   "source": [
    "plt.plot(scores)"
   ]
  },
  {
   "cell_type": "code",
   "execution_count": 16,
   "metadata": {},
   "outputs": [],
   "source": [
    "vertices, faces, vertex_colors, face_colors = b3d.make_mesh_from_point_cloud_and_resolution(\n",
    "    point_cloud, point_cloud_colors, point_cloud[:,2] / fx * 2.0\n",
    ")\n",
    "object_pose = Pose.identity()\n",
    "vertices = object_pose.inverse().apply(vertices)\n",
    "object_library.add_object(vertices, faces, vertex_colors)\n"
   ]
  },
  {
   "cell_type": "code",
   "execution_count": 17,
   "metadata": {},
   "outputs": [
    {
     "name": "stderr",
     "output_type": "stream",
     "text": [
      "  0%|          | 0/30 [00:00<?, ?it/s]/var/tmp/ipykernel_384548/1399644787.py:46: DeprecationWarning: Use the `Scalar` + (optional) `SeriesLine`/`SeriesPoint` archetypes instead, logged on the same entity. See [0.13 migration guide](https://www.rerun.io/docs/reference/migration/migration-0-13).\n",
      "  rr.log('/gt_score', rr.TimeSeriesScalar(score))\n",
      "100%|██████████| 30/30 [00:06<00:00,  4.80it/s]\n"
     ]
    }
   ],
   "source": [
    "model_args = b3d.model.ModelArgs(color_error, depth_error,\n",
    "                            inlier_score, outlier_prob,\n",
    "                            color_multiplier, depth_multiplier)\n",
    "\n",
    "trace, _ = importance_jit(\n",
    "    jax.random.PRNGKey(0),\n",
    "    genjax.choice_map(\n",
    "        dict([\n",
    "            (\"camera_pose\", Pose.identity()),\n",
    "            (\"object_pose_0\", Pose.identity()),\n",
    "            (\"object_0\", 1),\n",
    "            (\"observed_rgb_depth\", (rgbs[0], xyzs[0,...,2])),\n",
    "        ])\n",
    "    ),\n",
    "    (jnp.arange(2),model_args, object_library)\n",
    ")\n",
    "\n",
    "# Visualize trace\n",
    "#b3d.rerun_visualize_trace_t(trace, 0)\n",
    "\n",
    "\n",
    "FINAL_T = len(xyzs)\n",
    "scores = []\n",
    "for T_observed_image in tqdm(range(FINAL_T)):\n",
    "    # Constrain on new RGB and Depth data.\n",
    "    trace = b3d.update_choices_jit(trace, key,\n",
    "        genjax.Pytree.const([\"observed_rgb_depth\"]),\n",
    "        (rgbs[T_observed_image],xyzs[T_observed_image,...,2])\n",
    "    )\n",
    "    #trace,key = b3d.enumerate_and_select_best_move(trace, genjax.Pytree.const([\"camera_pose\"]), key, all_deltas)\n",
    "    #trace,key = b3d.enumerate_and_select_best_move(trace, genjax.Pytree.const([f\"object_pose_0\"]), key, all_deltas)\n",
    "\n",
    "    #in_place_rots[T_observed_image] @ in_place_rots[T_observed_image-1].inv() @ \n",
    "\n",
    "    update_pose = cam_inv_pose @ in_place_rots[T_observed_image] @ cam_inv_pose.inv()\n",
    "\n",
    "    trace = b3d.update_choices_jit(trace, key, genjax.Pytree.const([f\"object_pose_0\"]), update_pose)\n",
    "    score = trace.get_score()\n",
    "    scores.append(score)\n",
    "    #b3d.rerun_visualize_trace_t(trace, T_observed_image)\n",
    "    \n",
    "    (observed_rgb, rendered_rgb), (observed_depth, rendered_depth) = trace.get_retval()\n",
    "    rr.set_time_sequence(\"frame\", T_observed_image)\n",
    "    rr.log(\"/gt_tracking\", rr.Image(observed_rgb))\n",
    "    rr.log(\"/gt_tracking/rgb_rendering\", rr.Image(rendered_rgb))\n",
    "    rr.log('/gt_score', rr.TimeSeriesScalar(score))\n",
    "\n",
    "    (inliers, color_inliers, depth_inliers, valid_data_mask) = b3d.get_rgb_depth_inliers_from_trace(trace)\n",
    "    rr.log(\"/gt_tracking/color_inliers\", rr.DepthImage(color_inliers * 1.0))"
   ]
  },
  {
   "cell_type": "code",
   "execution_count": 18,
   "metadata": {},
   "outputs": [
    {
     "data": {
      "text/plain": [
       "[<matplotlib.lines.Line2D at 0x7f1fa06d2050>]"
      ]
     },
     "execution_count": 18,
     "metadata": {},
     "output_type": "execute_result"
    },
    {
     "data": {
      "image/png": "[encoded data removed]",
      "text/plain": [
       "<Figure size 640x480 with 1 Axes>"
      ]
     },
     "metadata": {},
     "output_type": "display_data"
    }
   ],
   "source": [
    "plt.plot(scores)"
   ]
  },
  {
   "cell_type": "code",
   "execution_count": 19,
   "metadata": {},
   "outputs": [
    {
     "data": {
      "text/plain": [
       "[Array(12006.466, dtype=float32),\n",
       " Array(12021.129, dtype=float32),\n",
       " Array(12022.336, dtype=float32),\n",
       " Array(12026.722, dtype=float32),\n",
       " Array(12027.497, dtype=float32),\n",
       " Array(12034.581, dtype=float32),\n",
       " Array(12038.632, dtype=float32),\n",
       " Array(12040.367, dtype=float32),\n",
       " Array(12039.618, dtype=float32),\n",
       " Array(12043.571, dtype=float32),\n",
       " Array(12045.722, dtype=float32),\n",
       " Array(12049.728, dtype=float32),\n",
       " Array(12047.004, dtype=float32),\n",
       " Array(12051.377, dtype=float32),\n",
       " Array(12055.609, dtype=float32),\n",
       " Array(12040.626, dtype=float32),\n",
       " Array(12040.641, dtype=float32),\n",
       " Array(12039.003, dtype=float32),\n",
       " Array(12031.71, dtype=float32),\n",
       " Array(12025.55, dtype=float32),\n",
       " Array(12027.531, dtype=float32),\n",
       " Array(12026.344, dtype=float32),\n",
       " Array(12009.054, dtype=float32),\n",
       " Array(12003.088, dtype=float32),\n",
       " Array(11999.518, dtype=float32),\n",
       " Array(11978.148, dtype=float32),\n",
       " Array(11973.211, dtype=float32),\n",
       " Array(11967.33, dtype=float32),\n",
       " Array(11961.417, dtype=float32),\n",
       " Array(11957.022, dtype=float32)]"
      ]
     },
     "execution_count": 19,
     "metadata": {},
     "output_type": "execute_result"
    }
   ],
   "source": [
    "scores"
   ]
  },
  {
   "cell_type": "code",
   "execution_count": 20,
   "metadata": {},
   "outputs": [],
   "source": [
    "## numerical stability issues, per peaked plot above\n",
    "## TODO: fix numerical instability"
   ]
  },
  {
   "cell_type": "code",
   "execution_count": 21,
   "metadata": {},
   "outputs": [],
   "source": [
    "#show cloud"
   ]
  },
  {
   "cell_type": "code",
   "execution_count": 22,
   "metadata": {},
   "outputs": [],
   "source": [
    "# rr.log('frag', rr.Points3D(unproject_depth(rendered_depth, intrinsics).reshape(-1,3), colors=rendered_rgb.reshape(-1,3)))\n",
    "# rr.log('full', rr.Points3D(unproject_depth(observed_depth, intrinsics).reshape(-1,3), colors=observed_rgb.reshape(-1,3)))\n"
   ]
  },
  {
   "cell_type": "code",
   "execution_count": 23,
   "metadata": {},
   "outputs": [],
   "source": [
    "## write new renderer that natively outputs surface normal"
   ]
  },
  {
   "cell_type": "code",
   "execution_count": null,
   "metadata": {},
   "outputs": [],
   "source": []
  },
  {
   "cell_type": "code",
   "execution_count": null,
   "metadata": {},
   "outputs": [],
   "source": []
  }
 ],
 "metadata": {
  "kernelspec": {
   "display_name": "b3d",
   "language": "python",
   "name": "python3"
  },
  "language_info": {
   "codemirror_mode": {
    "name": "ipython",
    "version": 3
   },
   "file_extension": ".py",
   "mimetype": "text/x-python",
   "name": "python",
   "nbconvert_exporter": "python",
   "pygments_lexer": "ipython3",
   "version": "3.11.8"
  }
 },
 "nbformat": 4,
 "nbformat_minor": 2
}
