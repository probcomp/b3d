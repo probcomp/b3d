{
 "cells": [
  {
   "cell_type": "code",
   "execution_count": 100,
   "metadata": {},
   "outputs": [],
   "source": [
    "import jax\n",
    "import jax.numpy as jnp\n",
    "import matplotlib.pyplot as plt"
   ]
  },
  {
   "cell_type": "code",
   "execution_count": 68,
   "metadata": {},
   "outputs": [],
   "source": [
    "import rerun as rr\n",
    "rr.init(\"demo.py\")\n",
    "rr.connect(\"127.0.0.1:8812\")"
   ]
  },
  {
   "cell_type": "code",
   "execution_count": 4,
   "metadata": {},
   "outputs": [],
   "source": [
    "xs = jnp.arange(0,51)\n",
    "ys = jnp.arange(0,51)"
   ]
  },
  {
   "cell_type": "code",
   "execution_count": 7,
   "metadata": {},
   "outputs": [],
   "source": [
    "x_grid, y_grid = jnp.meshgrid(xs, ys)"
   ]
  },
  {
   "cell_type": "code",
   "execution_count": 36,
   "metadata": {},
   "outputs": [],
   "source": [
    "p0x, p0y, p0z = 0, 0, 200\n",
    "n = jnp.array([0,0,1])\n",
    "nx, ny, nz = n\n",
    "f = 20"
   ]
  },
  {
   "cell_type": "code",
   "execution_count": 21,
   "metadata": {},
   "outputs": [
    {
     "data": {
      "text/plain": [
       "(50, 50, 2)"
      ]
     },
     "execution_count": 21,
     "metadata": {},
     "output_type": "execute_result"
    }
   ],
   "source": [
    "jnp.dstack((x_grid[0:50,0:50], y_grid[0:50,0:50])).shape"
   ]
  },
  {
   "cell_type": "code",
   "execution_count": 27,
   "metadata": {},
   "outputs": [],
   "source": [
    "a_s = jnp.dstack((x_grid[0:50,0:50], y_grid[0:50,0:50])).reshape(-1,2)\n",
    "b_s = jnp.dstack((x_grid[1:51,0:50], y_grid[1:51,0:50])).reshape(-1,2)\n",
    "c_s = jnp.dstack((x_grid[0:50,1:51], y_grid[0:50,1:51])).reshape(-1,2)\n",
    "d_s = jnp.dstack((x_grid[1:51,1:51], y_grid[1:51,1:51])).reshape(-1,2)"
   ]
  },
  {
   "cell_type": "code",
   "execution_count": 30,
   "metadata": {},
   "outputs": [
    {
     "data": {
      "text/plain": [
       "(2500, 4, 2)"
      ]
     },
     "execution_count": 30,
     "metadata": {},
     "output_type": "execute_result"
    }
   ],
   "source": [
    "jnp.stack((a_s,b_s,c_s,d_s), axis=1).shape"
   ]
  },
  {
   "cell_type": "code",
   "execution_count": 41,
   "metadata": {},
   "outputs": [],
   "source": [
    "twoDpoints = jnp.stack((a_s,b_s,c_s,d_s), axis=1)"
   ]
  },
  {
   "cell_type": "code",
   "execution_count": 35,
   "metadata": {},
   "outputs": [],
   "source": [
    "# linear system solver for triangle pose to \n",
    "# px / f = x / z\n",
    "# py / f = y / z\n",
    "# nx * (x - p0x) + ny * (y - p0y) + nz * (z - p0z) = 0 \n",
    "\n",
    "# -x * f + px * z= 0\n",
    "# -y * f + py * z= 0\n",
    "# nx * (x - p0x) + ny * (y - p0y) + nz * (z - p0z) = 0 \n",
    "\n",
    "def solve_3d_from_2d(px, py, p0x, p0y, p0z, nx, ny, nz, f):\n",
    "    A = jnp.array([[-f, 0, px],\n",
    "                   [0, -f, py],\n",
    "                   [nx, ny, nz]])\n",
    "    b = jnp.array([nx * p0x, ny * p0y, nz * p0z])\n",
    "    return jnp.linalg.solve(A, b)\n"
   ]
  },
  {
   "cell_type": "code",
   "execution_count": 37,
   "metadata": {},
   "outputs": [
    {
     "data": {
      "text/plain": [
       "Array([150., 150., 200.], dtype=float32)"
      ]
     },
     "execution_count": 37,
     "metadata": {},
     "output_type": "execute_result"
    }
   ],
   "source": [
    "px, py = 15, 15\n",
    "solve_3d_from_2d(px, py, p0x, p0y, p0z, nx, ny, nz, f)"
   ]
  },
  {
   "cell_type": "code",
   "execution_count": 112,
   "metadata": {},
   "outputs": [],
   "source": [
    "def wrap_solve(point):\n",
    "    px, py = point\n",
    "    p0x, p0y, p0z = 0, 0, 200\n",
    "    n = jnp.array([0.2,0.5,1])\n",
    "    nx, ny, nz = n\n",
    "    f = 20\n",
    "    return solve_3d_from_2d(px, py, p0x, p0y, p0z, nx, ny, nz, f)"
   ]
  },
  {
   "cell_type": "code",
   "execution_count": 113,
   "metadata": {},
   "outputs": [],
   "source": [
    "map_solve = jax.vmap(jax.vmap(wrap_solve))"
   ]
  },
  {
   "cell_type": "code",
   "execution_count": 114,
   "metadata": {},
   "outputs": [
    {
     "data": {
      "text/plain": [
       "(2500, 4, 2)"
      ]
     },
     "execution_count": 114,
     "metadata": {},
     "output_type": "execute_result"
    }
   ],
   "source": [
    "twoDpoints.shape"
   ]
  },
  {
   "cell_type": "code",
   "execution_count": 115,
   "metadata": {},
   "outputs": [],
   "source": [
    "out_cloud = map_solve(twoDpoints)"
   ]
  },
  {
   "cell_type": "code",
   "execution_count": 116,
   "metadata": {},
   "outputs": [],
   "source": [
    "def calculate_area(points):\n",
    "    a, b, c, d = points\n",
    "    ab = b-a\n",
    "    ac = c-a\n",
    "    ad = d-a\n",
    "    area = 1/2 * (jnp.linalg.norm(jnp.cross(ab,ac)) + jnp.linalg.norm(jnp.cross(ac,ad)))\n",
    "    return area\n",
    "\n",
    "mapped_area = jax.vmap(calculate_area, in_axes=(0))"
   ]
  },
  {
   "cell_type": "code",
   "execution_count": 117,
   "metadata": {},
   "outputs": [
    {
     "data": {
      "text/plain": [
       "(2500, 4, 3)"
      ]
     },
     "execution_count": 117,
     "metadata": {},
     "output_type": "execute_result"
    }
   ],
   "source": [
    "out_cloud.shape"
   ]
  },
  {
   "cell_type": "code",
   "execution_count": 118,
   "metadata": {},
   "outputs": [],
   "source": [
    "out_area = mapped_area(out_cloud)"
   ]
  },
  {
   "cell_type": "code",
   "execution_count": 119,
   "metadata": {},
   "outputs": [],
   "source": [
    "out_area = out_area.reshape((50,50))"
   ]
  },
  {
   "cell_type": "code",
   "execution_count": 120,
   "metadata": {},
   "outputs": [
    {
     "data": {
      "text/plain": [
       "<matplotlib.image.AxesImage at 0x7f227c39f110>"
      ]
     },
     "execution_count": 120,
     "metadata": {},
     "output_type": "execute_result"
    },
    {
     "data": {
      "image/png": "[encoded data removed]",
      "text/plain": [
       "<Figure size 640x480 with 1 Axes>"
      ]
     },
     "metadata": {},
     "output_type": "display_data"
    }
   ],
   "source": [
    "plt.imshow(out_area)"
   ]
  },
  {
   "cell_type": "code",
   "execution_count": 121,
   "metadata": {},
   "outputs": [],
   "source": [
    "rr.log(\n",
    "    '/log_cloud',\n",
    "    rr.Points3D(out_cloud.reshape(-1,3))\n",
    ")"
   ]
  },
  {
   "cell_type": "code",
   "execution_count": 122,
   "metadata": {},
   "outputs": [],
   "source": [
    "# appproximate surface normal since no real triangle"
   ]
  },
  {
   "cell_type": "code",
   "execution_count": 123,
   "metadata": {},
   "outputs": [],
   "source": [
    "# from pc points, get triangle and normal\n",
    "# normal is cross product of two vectors on edges\n"
   ]
  },
  {
   "cell_type": "code",
   "execution_count": null,
   "metadata": {},
   "outputs": [],
   "source": [
    "# depth at centroid of triangle (axis mean for x, y, z)\n"
   ]
  },
  {
   "cell_type": "code",
   "execution_count": null,
   "metadata": {},
   "outputs": [],
   "source": []
  },
  {
   "cell_type": "code",
   "execution_count": null,
   "metadata": {},
   "outputs": [],
   "source": []
  }
 ],
 "metadata": {
  "kernelspec": {
   "display_name": "b3d",
   "language": "python",
   "name": "python3"
  },
  "language_info": {
   "codemirror_mode": {
    "name": "ipython",
    "version": 3
   },
   "file_extension": ".py",
   "mimetype": "text/x-python",
   "name": "python",
   "nbconvert_exporter": "python",
   "pygments_lexer": "ipython3",
   "version": "3.11.8"
  }
 },
 "nbformat": 4,
 "nbformat_minor": 2
}
