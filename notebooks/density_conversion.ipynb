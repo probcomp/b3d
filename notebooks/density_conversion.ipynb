{
 "cells": [
  {
   "cell_type": "code",
   "execution_count": 1,
   "metadata": {},
   "outputs": [],
   "source": [
    "import jax\n",
    "import jax.numpy as jnp\n",
    "import matplotlib.pyplot as plt"
   ]
  },
  {
   "cell_type": "code",
   "execution_count": 2,
   "metadata": {},
   "outputs": [
    {
     "name": "stderr",
     "output_type": "stream",
     "text": [
      "[2024-04-22T17:07:17Z WARN  re_sdk_comms::buffered_client] Failed to send message after 3 attempts: Failed to connect to Rerun server at 127.0.0.1:8812: Connection refused (os error 111)\n",
      "[2024-04-22T17:07:19Z WARN  re_sdk_comms::buffered_client] Dropping messages because tcp client has timed out.\n",
      "[2024-04-22T17:07:19Z WARN  re_sdk_comms::buffered_client] Dropping messages because tcp client has timed out.\n",
      "[2024-04-22T17:07:19Z WARN  re_sdk_comms::tcp_client] Tried to flush while TCP stream was still Pending. Data was possibly dropped.\n"
     ]
    }
   ],
   "source": [
    "import rerun as rr\n",
    "rr.init(\"demo.py\")\n",
    "rr.connect(\"127.0.0.1:8812\")"
   ]
  },
  {
   "cell_type": "code",
   "execution_count": 3,
   "metadata": {},
   "outputs": [],
   "source": [
    "xs = jnp.arange(0,51)\n",
    "ys = jnp.arange(0,51)"
   ]
  },
  {
   "cell_type": "code",
   "execution_count": 4,
   "metadata": {},
   "outputs": [],
   "source": [
    "x_grid, y_grid = jnp.meshgrid(xs, ys)"
   ]
  },
  {
   "cell_type": "code",
   "execution_count": 5,
   "metadata": {},
   "outputs": [],
   "source": [
    "p0x, p0y, p0z = 0, 0, 200\n",
    "n = jnp.array([0,0,1])\n",
    "nx, ny, nz = n\n",
    "f = 20"
   ]
  },
  {
   "cell_type": "code",
   "execution_count": 6,
   "metadata": {},
   "outputs": [
    {
     "data": {
      "text/plain": [
       "(50, 50, 2)"
      ]
     },
     "execution_count": 6,
     "metadata": {},
     "output_type": "execute_result"
    }
   ],
   "source": [
    "jnp.dstack((x_grid[0:50,0:50], y_grid[0:50,0:50])).shape"
   ]
  },
  {
   "cell_type": "code",
   "execution_count": 7,
   "metadata": {},
   "outputs": [],
   "source": [
    "a_s = jnp.dstack((x_grid[0:50,0:50], y_grid[0:50,0:50])).reshape(-1,2)\n",
    "b_s = jnp.dstack((x_grid[1:51,0:50], y_grid[1:51,0:50])).reshape(-1,2)\n",
    "c_s = jnp.dstack((x_grid[0:50,1:51], y_grid[0:50,1:51])).reshape(-1,2)\n",
    "d_s = jnp.dstack((x_grid[1:51,1:51], y_grid[1:51,1:51])).reshape(-1,2)"
   ]
  },
  {
   "cell_type": "code",
   "execution_count": 8,
   "metadata": {},
   "outputs": [
    {
     "data": {
      "text/plain": [
       "(2500, 4, 2)"
      ]
     },
     "execution_count": 8,
     "metadata": {},
     "output_type": "execute_result"
    }
   ],
   "source": [
    "jnp.stack((a_s,b_s,c_s,d_s), axis=1).shape"
   ]
  },
  {
   "cell_type": "code",
   "execution_count": 9,
   "metadata": {},
   "outputs": [],
   "source": [
    "twoDpoints = jnp.stack((a_s,b_s,c_s,d_s), axis=1)"
   ]
  },
  {
   "cell_type": "code",
   "execution_count": 10,
   "metadata": {},
   "outputs": [],
   "source": [
    "# linear system solver for triangle pose to \n",
    "# px / f = x / z\n",
    "# py / f = y / z\n",
    "# nx * (x - p0x) + ny * (y - p0y) + nz * (z - p0z) = 0 \n",
    "\n",
    "# -x * f + px * z= 0\n",
    "# -y * f + py * z= 0\n",
    "# nx * (x - p0x) + ny * (y - p0y) + nz * (z - p0z) = 0 \n",
    "\n",
    "def solve_3d_from_2d(px, py, p0x, p0y, p0z, nx, ny, nz, f):\n",
    "    A = jnp.array([[-f, 0, px],\n",
    "                   [0, -f, py],\n",
    "                   [nx, ny, nz]])\n",
    "    b = jnp.array([nx * p0x, ny * p0y, nz * p0z])\n",
    "    return jnp.linalg.solve(A, b)\n"
   ]
  },
  {
   "cell_type": "code",
   "execution_count": 11,
   "metadata": {},
   "outputs": [
    {
     "data": {
      "text/plain": [
       "Array([150., 150., 200.], dtype=float32)"
      ]
     },
     "execution_count": 11,
     "metadata": {},
     "output_type": "execute_result"
    }
   ],
   "source": [
    "px, py = 15, 15\n",
    "solve_3d_from_2d(px, py, p0x, p0y, p0z, nx, ny, nz, f)"
   ]
  },
  {
   "cell_type": "code",
   "execution_count": 12,
   "metadata": {},
   "outputs": [],
   "source": [
    "def wrap_solve(point):\n",
    "    px, py = point\n",
    "    p0x, p0y, p0z = 0, 0, 200\n",
    "    n = jnp.array([0.2,0.5,1])\n",
    "    nx, ny, nz = n\n",
    "    f = 20\n",
    "    return solve_3d_from_2d(px, py, p0x, p0y, p0z, nx, ny, nz, f)"
   ]
  },
  {
   "cell_type": "code",
   "execution_count": 13,
   "metadata": {},
   "outputs": [],
   "source": [
    "map_solve = jax.vmap(jax.vmap(wrap_solve))"
   ]
  },
  {
   "cell_type": "code",
   "execution_count": 14,
   "metadata": {},
   "outputs": [
    {
     "data": {
      "text/plain": [
       "(2500, 4, 2)"
      ]
     },
     "execution_count": 14,
     "metadata": {},
     "output_type": "execute_result"
    }
   ],
   "source": [
    "twoDpoints.shape"
   ]
  },
  {
   "cell_type": "code",
   "execution_count": 15,
   "metadata": {},
   "outputs": [],
   "source": [
    "out_cloud = map_solve(twoDpoints)"
   ]
  },
  {
   "cell_type": "code",
   "execution_count": 16,
   "metadata": {},
   "outputs": [],
   "source": [
    "def calculate_area(points):\n",
    "    a, b, c, d = points\n",
    "    ab = b-a\n",
    "    ac = c-a\n",
    "    ad = d-a\n",
    "    area = 1/2 * (jnp.linalg.norm(jnp.cross(ab,ac)) + jnp.linalg.norm(jnp.cross(ac,ad)))\n",
    "    return area\n",
    "\n",
    "mapped_area = jax.vmap(calculate_area, in_axes=(0))"
   ]
  },
  {
   "cell_type": "code",
   "execution_count": 17,
   "metadata": {},
   "outputs": [
    {
     "data": {
      "text/plain": [
       "(2500, 4, 3)"
      ]
     },
     "execution_count": 17,
     "metadata": {},
     "output_type": "execute_result"
    }
   ],
   "source": [
    "out_cloud.shape"
   ]
  },
  {
   "cell_type": "code",
   "execution_count": 18,
   "metadata": {},
   "outputs": [],
   "source": [
    "out_area = mapped_area(out_cloud)"
   ]
  },
  {
   "cell_type": "code",
   "execution_count": 19,
   "metadata": {},
   "outputs": [],
   "source": [
    "out_area = out_area.reshape((50,50))"
   ]
  },
  {
   "cell_type": "code",
   "execution_count": 20,
   "metadata": {},
   "outputs": [
    {
     "data": {
      "text/plain": [
       "<matplotlib.image.AxesImage at 0x7fed3a2aa0d0>"
      ]
     },
     "execution_count": 20,
     "metadata": {},
     "output_type": "execute_result"
    },
    {
     "data": {
      "image/png": "[encoded data removed]",
      "text/plain": [
       "<Figure size 640x480 with 1 Axes>"
      ]
     },
     "metadata": {},
     "output_type": "display_data"
    }
   ],
   "source": [
    "plt.imshow(out_area)"
   ]
  },
  {
   "cell_type": "code",
   "execution_count": 21,
   "metadata": {},
   "outputs": [
    {
     "data": {
      "text/plain": [
       "(50, 50)"
      ]
     },
     "execution_count": 21,
     "metadata": {},
     "output_type": "execute_result"
    }
   ],
   "source": [
    "out_area.shape"
   ]
  },
  {
   "cell_type": "code",
   "execution_count": 25,
   "metadata": {},
   "outputs": [],
   "source": [
    "height, width = 50, 50,\n",
    "indices = jnp.indices((height, width)).transpose(1,2,0)\n",
    "# restrict to circles not within 3 of the edge\n",
    "edge_buffer = triangle_boundary_radius = 5\n",
    "indices = indices[edge_buffer:height-edge_buffer, edge_buffer:width-edge_buffer, :]\n",
    "indices = indices.reshape(-1, 2)\n",
    "\n",
    "key = jax.random.PRNGKey(15)\n",
    "triangles = 500\n",
    "choices = jax.random.choice(key, indices, shape=(triangles,))\n",
    "\n",
    "r = triangle_boundary_radius\n",
    "theta_1 = jax.random.uniform(key, shape=(triangles,)) * 2 * jnp.pi / 3 \n",
    "theta_2 = theta_1 + 2 * jnp.pi / 3 \n",
    "theta_3 = theta_1 + 4 * jnp.pi / 3\n",
    "\n",
    "vertex1 = jnp.round(choices + jnp.array([jnp.multiply(r,jnp.cos(theta_1)), jnp.multiply(r,jnp.sin(theta_1))]).T).astype(int)\n",
    "vertex2 = jnp.round(choices + jnp.array([jnp.multiply(r,jnp.cos(theta_2)), jnp.multiply(r,jnp.sin(theta_2))]).T).astype(int)\n",
    "vertex3 = jnp.round(choices + jnp.array([jnp.multiply(r,jnp.cos(theta_3)), jnp.multiply(r,jnp.sin(theta_3))]).T).astype(int)"
   ]
  },
  {
   "cell_type": "code",
   "execution_count": null,
   "metadata": {},
   "outputs": [],
   "source": []
  },
  {
   "cell_type": "code",
   "execution_count": 26,
   "metadata": {},
   "outputs": [],
   "source": [
    "# determine if point is inside triangle\n",
    "def sign(p1, p2, p3):\n",
    "    return (p1[0] - p3[0]) * (p2[1] - p3[1]) - (p2[0] - p3[0]) * (p1[1] - p3[1])\n",
    "\n",
    "def point_in_triangle(pt, v1, v2, v3):\n",
    "    d1 = sign(pt, v1, v2)\n",
    "    d2 = sign(pt, v2, v3)\n",
    "    d3 = sign(pt, v3, v1)\n",
    "\n",
    "    has_neg = (d1 < 0) | (d2 < 0) | (d3 < 0)\n",
    "    has_pos = (d1 > 0) | (d2 > 0) | (d3 > 0)\n",
    "\n",
    "    return jnp.logical_not(jnp.array((has_neg & has_pos)))\n",
    "\n",
    "point_in_triangles_vec = jax.vmap(point_in_triangle, in_axes=(None, 0, 0, 0))\n",
    "points_in_triangles_vec = jax.vmap(point_in_triangles_vec, in_axes=(0, None, None, None))"
   ]
  },
  {
   "cell_type": "code",
   "execution_count": 27,
   "metadata": {},
   "outputs": [],
   "source": [
    "indices = jnp.indices((height, width)).transpose(1,2,0).reshape(-1,2)\n",
    "ptv = points_in_triangles_vec(indices, vertex1, vertex2, vertex3)"
   ]
  },
  {
   "cell_type": "code",
   "execution_count": 32,
   "metadata": {},
   "outputs": [
    {
     "data": {
      "text/plain": [
       "<matplotlib.image.AxesImage at 0x7fecb841ad50>"
      ]
     },
     "execution_count": 32,
     "metadata": {},
     "output_type": "execute_result"
    },
    {
     "data": {
      "image/png": "[encoded data removed]",
      "text/plain": [
       "<Figure size 640x480 with 1 Axes>"
      ]
     },
     "metadata": {},
     "output_type": "display_data"
    }
   ],
   "source": [
    "tri_1 = ptv[:,0].reshape(50,50)\n",
    "plt.imshow(tri_1)"
   ]
  },
  {
   "cell_type": "code",
   "execution_count": 36,
   "metadata": {},
   "outputs": [
    {
     "data": {
      "text/plain": [
       "<matplotlib.colorbar.Colorbar at 0x7fec980b88d0>"
      ]
     },
     "execution_count": 36,
     "metadata": {},
     "output_type": "execute_result"
    },
    {
     "data": {
      "image/png": "[encoded data removed]",
      "text/plain": [
       "<Figure size 640x480 with 2 Axes>"
      ]
     },
     "metadata": {},
     "output_type": "display_data"
    },
    {
     "data": {
      "image/png": "[encoded data removed]",
      "text/plain": [
       "<Figure size 640x480 with 2 Axes>"
      ]
     },
     "metadata": {},
     "output_type": "display_data"
    },
    {
     "data": {
      "image/png": "[encoded data removed]",
      "text/plain": [
       "<Figure size 640x480 with 2 Axes>"
      ]
     },
     "metadata": {},
     "output_type": "display_data"
    }
   ],
   "source": [
    "plt.imshow(jnp.multiply(tri_1, out_area))\n",
    "plt.colorbar()\n",
    "\n",
    "plt.figure()\n",
    "plt.imshow(jnp.multiply(ptv[:,1].reshape(50,50), out_area))\n",
    "plt.colorbar()\n",
    "\n",
    "plt.figure()\n",
    "plt.imshow(jnp.multiply(ptv[:,2].reshape(50,50), out_area))\n",
    "plt.colorbar()"
   ]
  },
  {
   "cell_type": "code",
   "execution_count": null,
   "metadata": {},
   "outputs": [],
   "source": []
  },
  {
   "cell_type": "code",
   "execution_count": 121,
   "metadata": {},
   "outputs": [],
   "source": [
    "rr.log(\n",
    "    '/log_cloud',\n",
    "    rr.Points3D(out_cloud.reshape(-1,3))\n",
    ")"
   ]
  },
  {
   "cell_type": "code",
   "execution_count": 122,
   "metadata": {},
   "outputs": [],
   "source": [
    "# appproximate surface normal since no real triangle"
   ]
  },
  {
   "cell_type": "code",
   "execution_count": 123,
   "metadata": {},
   "outputs": [],
   "source": [
    "# from pc points, get triangle and normal\n",
    "# normal is cross product of two vectors on edges\n"
   ]
  },
  {
   "cell_type": "code",
   "execution_count": null,
   "metadata": {},
   "outputs": [],
   "source": [
    "# depth at centroid of triangle (axis mean for x, y, z)\n"
   ]
  },
  {
   "cell_type": "code",
   "execution_count": null,
   "metadata": {},
   "outputs": [],
   "source": []
  }
 ],
 "metadata": {
  "kernelspec": {
   "display_name": "b3d",
   "language": "python",
   "name": "python3"
  },
  "language_info": {
   "codemirror_mode": {
    "name": "ipython",
    "version": 3
   },
   "file_extension": ".py",
   "mimetype": "text/x-python",
   "name": "python",
   "nbconvert_exporter": "python",
   "pygments_lexer": "ipython3",
   "version": "3.11.8"
  }
 },
 "nbformat": 4,
 "nbformat_minor": 2
}
