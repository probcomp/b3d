{
 "cells": [
  {
   "cell_type": "code",
   "execution_count": 1,
   "metadata": {},
   "outputs": [],
   "source": [
    "import rerun as rr\n",
    "import genjax\n",
    "import os\n",
    "import numpy as np\n",
    "import jax.numpy as jnp\n",
    "import jax\n",
    "from b3d import Pose\n",
    "import b3d\n",
    "from tqdm import tqdm\n",
    "import trimesh\n",
    "import pytest\n",
    "from PIL import Image\n",
    "import matplotlib.pyplot as plt\n",
    "import matplotlib"
   ]
  },
  {
   "cell_type": "code",
   "execution_count": 2,
   "metadata": {},
   "outputs": [],
   "source": [
    "## L2 distance test\n",
    "\n",
    "PORT = 8812\n",
    "rr.init(\"233\")\n",
    "rr.connect(addr=f\"127.0.0.1:{PORT}\")"
   ]
  },
  {
   "cell_type": "code",
   "execution_count": 3,
   "metadata": {},
   "outputs": [],
   "source": [
    "def gaussian_depth_likelihood(observed_depth, rendered_depth, depth_variance):\n",
    "    return -jnp.power((observed_depth - rendered_depth) / depth_variance, 2)\n",
    "\n",
    "\n",
    "def gaussian_rgb_likelihood(observed_rgb, rendered_rgb, rgb_variance):\n",
    "    return -jnp.power(\n",
    "        (b3d.colors.rgb_to_lab(observed_rgb) - b3d.colors.rgb_to_lab(rendered_rgb))\n",
    "        / rgb_variance,\n",
    "        2,\n",
    "    )\n",
    "\n",
    "\n",
    "# TODO: L2 loss on color spacee\n",
    "def gaussian_likelihood(\n",
    "    observed_rgb,\n",
    "    rendered_rgb,\n",
    "    observed_depth,\n",
    "    rendered_depth,\n",
    "    depth_variance,\n",
    "    rgb_variance,\n",
    "):\n",
    "    rgb_score = gaussian_rgb_likelihood(observed_rgb, rendered_rgb, rgb_variance).sum(\n",
    "        axis=2\n",
    "    )\n",
    "    depth_score = gaussian_depth_likelihood(\n",
    "        observed_depth, rendered_depth, depth_variance\n",
    "    )\n",
    "    return {\n",
    "        \"score\": rgb_score + depth_score,\n",
    "        \"rgb_score\": rgb_score,\n",
    "        \"depth_score\": depth_score,\n",
    "    }"
   ]
  },
  {
   "cell_type": "code",
   "execution_count": 4,
   "metadata": {},
   "outputs": [],
   "source": [
    "likelihood = jax.vmap(gaussian_likelihood, in_axes=(None, 0, None, 0, None, None))"
   ]
  },
  {
   "cell_type": "code",
   "execution_count": 5,
   "metadata": {},
   "outputs": [
    {
     "name": "stderr",
     "output_type": "stream",
     "text": [
      "/opt/conda/envs/b3d2/lib/python3.12/site-packages/trimesh/grouping.py:99: RuntimeWarning: invalid value encountered in cast\n",
      "  stacked = np.column_stack(stacked).round().astype(np.int64)\n"
     ]
    },
    {
     "name": "stdout",
     "output_type": "stream",
     "text": [
      "Vertices dimensions : [0.116984   0.09313101 0.081303  ]\n"
     ]
    },
    {
     "data": {
      "image/jpeg": "[encoded data removed]",
      "image/png": "[encoded data removed]",
      "text/plain": [
       "<PIL.Image.Image image mode=RGB size=100x100>"
      ]
     },
     "execution_count": 5,
     "metadata": {},
     "output_type": "execute_result"
    }
   ],
   "source": [
    "image_width, image_height, fx, fy, cx, cy, near, far = (\n",
    "    100,\n",
    "    100,\n",
    "    200.0,\n",
    "    200.0,\n",
    "    50.0,\n",
    "    50.0,\n",
    "    0.01,\n",
    "    10.0,\n",
    ")\n",
    "renderer = b3d.Renderer(image_width, image_height, fx, fy, cx, cy, near, far)\n",
    "\n",
    "mesh_path = os.path.join(\n",
    "    b3d.get_root_path(), \"assets/shared_data_bucket/025_mug/textured.obj\"\n",
    ")\n",
    "mesh = trimesh.load(mesh_path)\n",
    "vertices = jnp.array(mesh.vertices)\n",
    "vertices = vertices - jnp.mean(vertices, axis=0)\n",
    "faces = jnp.array(mesh.faces)\n",
    "vertex_colors = vertices * 0.0 + jnp.array([1.0, 0.0, 0.0])\n",
    "vertex_colors = jnp.array(mesh.visual.to_color().vertex_colors)[..., :3] / 255.0\n",
    "print(\"Vertices dimensions :\", vertices.max(0) - vertices.min(0))\n",
    "\n",
    "key = jax.random.PRNGKey(0)\n",
    "\n",
    "camera_pose = Pose.from_position_and_target(\n",
    "    jnp.array([0.6, 0.0, 0.0]), jnp.array([0.0, 0.0, 0.0])\n",
    ")\n",
    "\n",
    "cp_to_pose = lambda cp: Pose(\n",
    "    jnp.array([cp[0], cp[1], 0.0]),\n",
    "    b3d.Rot.from_rotvec(jnp.array([0.0, 0.0, cp[2]])).as_quat(),\n",
    ")\n",
    "object_library = b3d.MeshLibrary.make_empty_library()\n",
    "object_library.add_object(vertices, faces, vertex_colors)\n",
    "\n",
    "cps_to_test = [\n",
    "    jnp.array([0.0, 0.0, jnp.pi]),  # Hidden\n",
    "    jnp.array([0.0, 0.0, -jnp.pi / 2]),  # Side\n",
    "    jnp.array([0.0, 0.0, 0.0]),  # Front\n",
    "    jnp.array([0.0, 0.0, +jnp.pi / 2]),  # Side\n",
    "]\n",
    "\n",
    "text_index = 0  # 1\n",
    "\n",
    "gt_cp = cps_to_test[text_index]\n",
    "\n",
    "object_pose = cp_to_pose(gt_cp)\n",
    "\n",
    "gt_img, gt_depth = renderer.render_attribute(\n",
    "    (camera_pose.inv() @ object_pose)[None, ...],\n",
    "    object_library.vertices,\n",
    "    object_library.faces,\n",
    "    object_library.ranges[jnp.array([0])],\n",
    "    object_library.attributes,\n",
    ")\n",
    "b3d.get_rgb_pil_image(gt_img)"
   ]
  },
  {
   "cell_type": "code",
   "execution_count": 6,
   "metadata": {},
   "outputs": [],
   "source": [
    "# delta_cps = jnp.stack(\n",
    "#     jnp.meshgrid(\n",
    "#         jnp.linspace(-0.02, 0.02, 31),\n",
    "#         jnp.linspace(-0.02, 0.02, 31),\n",
    "#         jnp.linspace(-jnp.pi, jnp.pi, 71),\n",
    "#     ),\n",
    "#     axis=-1,\n",
    "# ).reshape(-1, 3)\n",
    "\n",
    "delta_cps = jnp.stack(\n",
    "    jnp.meshgrid(\n",
    "        jnp.linspace(-0.1, 0.1, 30),\n",
    "        jnp.linspace(-0.1, 0.1, 30),\n",
    "        jnp.linspace(-jnp.pi, jnp.pi, 71),\n",
    "    ),\n",
    "    axis=-1,\n",
    ").reshape(-1, 3)\n",
    "\n",
    "cp_delta_poses = jax.vmap(cp_to_pose)(delta_cps)\n",
    "\n",
    "test_poses = object_pose @ cp_delta_poses\n",
    "\n",
    "test_poses_batches = test_poses.split(100)"
   ]
  },
  {
   "cell_type": "code",
   "execution_count": 7,
   "metadata": {},
   "outputs": [],
   "source": [
    "scores = []\n",
    "rgb_scores = []\n",
    "depth_scores = []\n",
    "depth_variance, rgb_variance = 1.0, 120.0  # 0.5, 60\n",
    "\n",
    "for batch in test_poses_batches:\n",
    "    rgb_ims, depth_ims = renderer.render_attribute_many(\n",
    "        (camera_pose.inv() @ batch)[:, None, ...],\n",
    "        object_library.vertices,\n",
    "        object_library.faces,\n",
    "        object_library.ranges[jnp.array([0])],\n",
    "        object_library.attributes,\n",
    "    )\n",
    "    scores_batch = likelihood(\n",
    "        gt_img, rgb_ims, gt_depth, depth_ims, depth_variance, rgb_variance\n",
    "    )[\"score\"]\n",
    "    scores.append(scores_batch.sum(axis=(1, 2)))\n",
    "    # inlier_scores.append(scores_dict['inlier_score'])\n",
    "\n",
    "\n",
    "scores = jnp.concatenate(scores)\n",
    "samples = jax.random.categorical(key, scores, shape=(50,))"
   ]
  },
  {
   "cell_type": "code",
   "execution_count": 8,
   "metadata": {},
   "outputs": [
    {
     "data": {
      "text/plain": [
       "<matplotlib.image.AxesImage at 0x7ff6210ddf10>"
      ]
     },
     "execution_count": 8,
     "metadata": {},
     "output_type": "execute_result"
    },
    {
     "data": {
      "image/png": "[encoded data removed]",
      "text/plain": [
       "<Figure size 640x480 with 3 Axes>"
      ]
     },
     "metadata": {},
     "output_type": "display_data"
    }
   ],
   "source": [
    "original_view_im, original_view_depth = renderer.render_attribute(\n",
    "    (camera_pose.inv() @ test_poses[jnp.argsort(scores)[::-1][2]])[None, ...],  #\n",
    "    object_library.vertices,\n",
    "    object_library.faces,\n",
    "    object_library.ranges[jnp.array([0])],\n",
    "    object_library.attributes,\n",
    ")\n",
    "\n",
    "# generate inlier/outlier maps\n",
    "\n",
    "\n",
    "pixel_scores = gaussian_likelihood(\n",
    "    gt_img,\n",
    "    original_view_im,\n",
    "    gt_depth,\n",
    "    original_view_depth,\n",
    "    depth_variance,\n",
    "    rgb_variance,\n",
    ")\n",
    "\n",
    "fig, (ax1, ax2, ax3) = plt.subplots(1, 3)\n",
    "fig.suptitle(\"Scores - GT pose (score, rgb score, depth score)\")\n",
    "ax1.imshow(pixel_scores[\"score\"])\n",
    "ax2.imshow(pixel_scores[\"rgb_score\"])\n",
    "ax3.imshow(pixel_scores[\"depth_score\"])"
   ]
  },
  {
   "cell_type": "code",
   "execution_count": 9,
   "metadata": {},
   "outputs": [
    {
     "name": "stdout",
     "output_type": "stream",
     "text": [
      "GT Contact Parameter : [0.        0.        3.1415927]\n",
      "Sampled Angle Range: 144.0\n"
     ]
    }
   ],
   "source": [
    "samples = jax.random.categorical(key, scores, shape=(50,))\n",
    "print(\"GT Contact Parameter :\", gt_cp)\n",
    "\n",
    "samples_deg_range = jnp.rad2deg(\n",
    "    (jnp.max(delta_cps[samples], axis=0) - jnp.min(delta_cps[samples], axis=0))[2]\n",
    ")\n",
    "\n",
    "print(\"Sampled Angle Range:\", samples_deg_range)\n",
    "pix_scores = scores"
   ]
  },
  {
   "cell_type": "code",
   "execution_count": 10,
   "metadata": {},
   "outputs": [],
   "source": [
    "alternate_camera_pose = Pose.from_position_and_target(\n",
    "    jnp.array([0.01, 0.000, 0.9]), object_pose.pos\n",
    ")\n",
    "alternate_view_images, _ = renderer.render_attribute_many(\n",
    "    (alternate_camera_pose.inv() @ test_poses[samples])[:, None, ...],\n",
    "    object_library.vertices,\n",
    "    object_library.faces,\n",
    "    object_library.ranges[jnp.array([0])],\n",
    "    object_library.attributes,\n",
    ")\n",
    "\n",
    "original_view_images, original_view_depths = renderer.render_attribute_many(\n",
    "    (camera_pose.inv() @ test_poses[samples])[:, None, ...],\n",
    "    object_library.vertices,\n",
    "    object_library.faces,\n",
    "    object_library.ranges[jnp.array([0])],\n",
    "    object_library.attributes,\n",
    ")\n",
    "\n",
    "\n",
    "pixel_scores = likelihood(\n",
    "    gt_img,\n",
    "    original_view_images,\n",
    "    gt_depth,\n",
    "    original_view_depths,\n",
    "    depth_variance,\n",
    "    rgb_variance,\n",
    ")\n",
    "\n",
    "for t in range(len(alternate_view_images)):\n",
    "    rr.set_time_sequence(\"time\", t)\n",
    "    rr.log(f\"samples/alternate_view\", rr.Image(alternate_view_images[t]))\n",
    "    # rr.log(f\"samples/original_view\", rr.Image(original_view_images[t]))\n",
    "    # rr.log(f\"samples/overlay_mask\", rr.Image((gt_img.sum(axis=2)>0)*1.0))\n",
    "    rr.log(\n",
    "        f\"samples/original_view\",\n",
    "        rr.Image(\n",
    "            (\n",
    "                original_view_images[t] * 0.7\n",
    "                + (gt_img.sum(axis=2) > 0)[..., None] * jnp.ones(3)[None, None, :] * 0.3\n",
    "            )\n",
    "        ),\n",
    "    )\n",
    "\n",
    "    pixel_im = pixel_scores[\"score\"][t]\n",
    "    cmap = matplotlib.colormaps[\"inferno\"]\n",
    "    norm = matplotlib.colors.Normalize(vmin=pixel_im.min(), vmax=pixel_im.max())\n",
    "    rr.log(f\"samples/heatmap\", rr.Image(cmap(norm(pixel_im))))"
   ]
  },
  {
   "cell_type": "code",
   "execution_count": 11,
   "metadata": {},
   "outputs": [
    {
     "data": {
      "text/plain": [
       "Array([-954.1264  , -953.676   , -952.9209  , ...,  -13.983586,\n",
       "        -13.854494,  -13.4123  ], dtype=float32)"
      ]
     },
     "execution_count": 11,
     "metadata": {},
     "output_type": "execute_result"
    }
   ],
   "source": [
    "jnp.sort(scores)"
   ]
  },
  {
   "cell_type": "code",
   "execution_count": 12,
   "metadata": {},
   "outputs": [],
   "source": [
    "## slightly offset grid and the scores will be wrong"
   ]
  },
  {
   "cell_type": "code",
   "execution_count": 13,
   "metadata": {},
   "outputs": [
    {
     "data": {
      "text/plain": [
       "Array(52.832283, dtype=float32)"
      ]
     },
     "execution_count": 13,
     "metadata": {},
     "output_type": "execute_result"
    }
   ],
   "source": [
    "jnp.max(b3d.colors.rgb_to_lab(original_view_images[0]))"
   ]
  },
  {
   "cell_type": "code",
   "execution_count": 14,
   "metadata": {},
   "outputs": [
    {
     "data": {
      "text/plain": [
       "Array(0., dtype=float32)"
      ]
     },
     "execution_count": 14,
     "metadata": {},
     "output_type": "execute_result"
    }
   ],
   "source": [
    "jnp.min(b3d.colors.rgb_to_lab(original_view_images[0]))"
   ]
  },
  {
   "cell_type": "code",
   "execution_count": null,
   "metadata": {},
   "outputs": [],
   "source": []
  }
 ],
 "metadata": {
  "kernelspec": {
   "display_name": "b3d2",
   "language": "python",
   "name": "python3"
  },
  "language_info": {
   "codemirror_mode": {
    "name": "ipython",
    "version": 3
   },
   "file_extension": ".py",
   "mimetype": "text/x-python",
   "name": "python",
   "nbconvert_exporter": "python",
   "pygments_lexer": "ipython3",
   "version": "3.12.4"
  }
 },
 "nbformat": 4,
 "nbformat_minor": 2
}
