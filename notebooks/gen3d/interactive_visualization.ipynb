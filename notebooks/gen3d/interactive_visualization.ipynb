{
 "cells": [
  {
   "cell_type": "code",
   "execution_count": 23,
   "metadata": {},
   "outputs": [],
   "source": [
    "import b3d.chisight.gen3d.image_kernel as image_kernel\n",
    "import b3d.chisight.gen3d.inference as inference\n",
    "import b3d.chisight.gen3d.transition_kernels as transition_kernels\n",
    "import jax\n",
    "import b3d\n",
    "import jax.numpy as jnp\n",
    "import pytest\n",
    "import matplotlib.pyplot as plt\n",
    "from genjax import Pytree"
   ]
  },
  {
   "cell_type": "code",
   "execution_count": 25,
   "metadata": {},
   "outputs": [],
   "source": [
    "import b3d.chisight.gen3d.settings \n",
    "b3d.reload(b3d.chisight.gen3d.settings)\n",
    "import b3d.chisight.gen3d.settings \n",
    "inference_hyperparams = b3d.chisight.gen3d.settings.inference_hyperparams\n",
    "hyperparams = b3d.chisight.gen3d.settings.hyperparams"
   ]
  },
  {
   "cell_type": "code",
   "execution_count": 26,
   "metadata": {},
   "outputs": [],
   "source": [
    "hyperparams[\"intrinsics\"] = {\n",
    "    \"fx\": 100.0,\n",
    "    \"fy\": 100.0,\n",
    "    \"cx\": 50.0,\n",
    "    \"cy\": 50.0,\n",
    "    \"near\": 0.01,\n",
    "    \"far\": 3.0,\n",
    "    \"image_width\": Pytree.const(100),\n",
    "    \"image_height\": Pytree.const(100),\n",
    "}"
   ]
  },
  {
   "cell_type": "code",
   "execution_count": 27,
   "metadata": {},
   "outputs": [
    {
     "data": {
      "application/vnd.jupyter.widget-view+json": {
       "model_id": "5a72a05ea10745219f303203b3c5cf4b",
       "version_major": 2,
       "version_minor": 0
      },
      "text/plain": [
       "interactive(children=(FloatSlider(value=0.11999999731779099, continuous_update=False, description='Observed R:…"
      ]
     },
     "metadata": {},
     "output_type": "display_data"
    }
   ],
   "source": [
    "from b3d.chisight.gen3d.visualization import create_interactive_visualization\n",
    "from b3d.chisight.gen3d.inference.point_attribute_proposals import _propose_a_points_attributes\n",
    "b3d.reload(b3d.chisight.gen3d.visualization)\n",
    "\n",
    "\n",
    "observed_rgbd_for_this_vertex = jnp.array([0.12, 0.22, 0.32, 1.0])\n",
    "latent_depth = 1.0\n",
    "previous_color = jnp.array([0.1, 0.2, 0.3])\n",
    "previous_visibility_prob = hyperparams[\"visibility_prob_kernel\"].support[-1]\n",
    "previous_dnrp = hyperparams[\"depth_nonreturn_prob_kernel\"].support[0]\n",
    "create_interactive_visualization(\n",
    "    observed_rgbd_for_this_vertex,\n",
    "    latent_depth,\n",
    "    hyperparams,\n",
    "    inference_hyperparams,\n",
    "    previous_color,\n",
    "    previous_visibility_prob,\n",
    "    previous_dnrp,\n",
    "    _propose_a_points_attributes\n",
    ")"
   ]
  },
  {
   "cell_type": "code",
   "execution_count": null,
   "metadata": {},
   "outputs": [],
   "source": []
  }
 ],
 "metadata": {
  "kernelspec": {
   "display_name": "b3d",
   "language": "python",
   "name": "python3"
  },
  "language_info": {
   "codemirror_mode": {
    "name": "ipython",
    "version": 3
   },
   "file_extension": ".py",
   "mimetype": "text/x-python",
   "name": "python",
   "nbconvert_exporter": "python",
   "pygments_lexer": "ipython3",
   "version": "3.12.5"
  }
 },
 "nbformat": 4,
 "nbformat_minor": 2
}
