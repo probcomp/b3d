{
 "cells": [
  {
   "cell_type": "code",
   "execution_count": 93,
   "metadata": {},
   "outputs": [],
   "source": [
    "import b3d.chisight.gen3d.image_kernel as image_kernel\n",
    "import b3d.chisight.gen3d.inference as inference\n",
    "import b3d.chisight.gen3d.inference_moves as inference_moves\n",
    "import b3d.chisight.gen3d.transition_kernels as transition_kernels\n",
    "import jax\n",
    "import b3d\n",
    "import jax.numpy as jnp\n",
    "import pytest\n",
    "import matplotlib.pyplot as plt"
   ]
  },
  {
   "cell_type": "code",
   "execution_count": 90,
   "metadata": {},
   "outputs": [],
   "source": [
    "near, far, image_height, image_width = 0.001, 5.0, 480, 640\n",
    "img_model = image_kernel.NoOcclusionPerVertexImageKernel(\n",
    "    near, far, image_height, image_width\n",
    ")\n",
    "color_transiton_scale = 0.05\n",
    "p_resample_color = 0.005\n",
    "\n",
    "# This parameter is needed for the inference hyperparameters.\n",
    "# See the `InferenceHyperparams` docstring in `inference.py` for details.\n",
    "effective_color_transition_scale = color_transiton_scale + p_resample_color * 1 / 2\n",
    "inference_hyperparams = inference.InferenceHyperparams(\n",
    "    n_poses=6000,\n",
    "    pose_proposal_std=0.04,\n",
    "    pose_proposal_conc=1000.0,\n",
    "    effective_color_transition_scale=effective_color_transition_scale,\n",
    ")\n",
    "\n",
    "hyperparams = {\n",
    "    \"pose_kernel\": transition_kernels.UniformPoseDriftKernel(max_shift=0.1),\n",
    "    \"color_kernel\": transition_kernels.MixtureDriftKernel(\n",
    "        [\n",
    "            transition_kernels.LaplaceNotTruncatedColorDriftKernel(\n",
    "                scale=color_transiton_scale\n",
    "            ),\n",
    "            transition_kernels.UniformDriftKernel(\n",
    "                max_shift=0.15, min_val=jnp.zeros(3), max_val=jnp.ones(3)\n",
    "            ),\n",
    "        ],\n",
    "        jnp.array([1 - p_resample_color, p_resample_color]),\n",
    "    ),\n",
    "    \"visibility_prob_kernel\": transition_kernels.DiscreteFlipKernel(\n",
    "        resample_probability=0.1, support=jnp.array([0.01, 0.99])\n",
    "    ),\n",
    "    \"depth_nonreturn_prob_kernel\": transition_kernels.DiscreteFlipKernel(\n",
    "        resample_probability=0.1, support=jnp.array([0.01, 0.99])\n",
    "    ),\n",
    "    \"depth_scale_kernel\": transition_kernels.DiscreteFlipKernel(\n",
    "        resample_probability=0.1,\n",
    "        support=jnp.array([0.0025, 0.01, 0.02, 0.1, 0.4, 1.0]),\n",
    "    ),\n",
    "    \"color_scale_kernel\": transition_kernels.DiscreteFlipKernel(\n",
    "        resample_probability=0.1, support=jnp.array([0.05, 0.1, 0.15, 0.3, 0.8])\n",
    "    ),\n",
    "    \"image_kernel\": img_model,\n",
    "}"
   ]
  },
  {
   "cell_type": "code",
   "execution_count": 98,
   "metadata": {},
   "outputs": [
    {
     "data": {
      "application/vnd.jupyter.widget-view+json": {
       "model_id": "93e5ff024b4a4a1eae7b646edd1cd2a8",
       "version_major": 2,
       "version_minor": 0
      },
      "text/plain": [
       "interactive(children=(ToggleButtons(description='Prev Vis Prob:', options=('0.01', '0.99'), value='0.01'), Tog…"
      ]
     },
     "metadata": {},
     "output_type": "display_data"
    }
   ],
   "source": [
    "from b3d.chisight.gen3d.visualization import create_interactive_visualization\n",
    "b3d.reload(b3d.chisight.gen3d.visualization)\n",
    "observed_rgbd_for_point = jnp.array([0.1, 0.2, 0.3, 0.4])\n",
    "create_interactive_visualization(\n",
    "    observed_rgbd_for_point,\n",
    "    hyperparams,\n",
    "    inference_hyperparams,\n",
    ")"
   ]
  }
 ],
 "metadata": {
  "kernelspec": {
   "display_name": "b3d",
   "language": "python",
   "name": "python3"
  },
  "language_info": {
   "codemirror_mode": {
    "name": "ipython",
    "version": 3
   },
   "file_extension": ".py",
   "mimetype": "text/x-python",
   "name": "python",
   "nbconvert_exporter": "python",
   "pygments_lexer": "ipython3",
   "version": "3.12.4"
  }
 },
 "nbformat": 4,
 "nbformat_minor": 2
}
