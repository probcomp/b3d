{
 "cells": [
  {
   "cell_type": "code",
   "execution_count": 26,
   "metadata": {},
   "outputs": [],
   "source": [
    "import b3d\n",
    "import b3d.chisight.gen3d.uniform_distributions as ud\n",
    "b3d.reload(ud)\n",
    "import jax.numpy as jnp"
   ]
  },
  {
   "cell_type": "code",
   "execution_count": 27,
   "metadata": {},
   "outputs": [
    {
     "data": {
      "text/html": [
       "<script> (()=>{ if (customElements.get('treescope-container') === undefined) { class TreescopeContainer extends HTMLElement { constructor() { super(); this.attachShadow({mode: \"open\"}); this.defns = {}; this.state = {}; } } customElements.define(\"treescope-container\", TreescopeContainer); } if (customElements.get('treescope-run-here') === undefined) { class RunHere extends HTMLElement { constructor() { super() } connectedCallback() { const run = child => { const fn = new Function(child.textContent); child.textContent = \"\"; fn.call(this); this.remove(); }; const child = this.querySelector(\"script\"); if (child) { run(child); } else { new MutationObserver(()=>{ run(this.querySelector(\"script\")); }).observe(this, {childList: true}); } } } customElements.define(\"treescope-run-here\", RunHere); } })(); </script> <treescope-container class=\"treescope_out_9541784294ff41718e660f7bfbea548e\" ></treescope-container> <treescope-run-here><script type=\"application/octet-stream\"> const root = ( Array.from(document.getElementsByClassName( \"treescope_out_9541784294ff41718e660f7bfbea548e\")) .filter((elt) => !elt.dataset.setup) )[0]; root.dataset.setup = 1; const msg = document.createElement(\"span\"); msg.style = \"color: #aaaaaa; font-family: monospace; transition: opacity 0.2s; opacity: 0.0;\"; msg.textContent = \"(Loading...)\"; root.state.loadingMsg = msg; root.shadowRoot.appendChild(msg); root.state.chain = new Promise((resolve, reject) => { const observer = new IntersectionObserver((entries) => { for (const entry of entries) { if (entry.isIntersecting) { resolve(); observer.disconnect(); return; } } }, {rootMargin: \"1000px\"}); window.setTimeout(() => { if (root.loadingMsg) { root.loadingMsg.style.opacity = \"1.0\"; } observer.observe(root); }, 0); }); root.state.deferring = false; const _insertNode = (node) => { for (let oldScript of node.querySelectorAll(\"script\")) { let newScript = document.createElement(\"script\"); newScript.type = oldScript.type; newScript.textContent = oldScript.textContent; oldScript.parentNode.replaceChild(newScript, oldScript); } if (root.state.loadingMsg) { root.state.loadingMsg.remove(); root.state.loadingMsg = null; } root.shadowRoot.appendChild(node); }; root.defns.insertContent = ((contentNode, compressed) => { if (compressed) { root.state.deferring = true; } if (root.state.deferring) { root.state.chain = (async () => { await root.state.chain; if (compressed) { const encoded = contentNode.textContent; const blob = new Blob([ Uint8Array.from(atob(encoded), (m) => m.codePointAt(0)) ]); const reader = blob.stream().pipeThrough( new DecompressionStream(\"deflate\") ).pipeThrough( new TextDecoderStream(\"utf-8\") ).getReader(); const parts = []; while (true) { const step = await reader.read(); if (step.done) { break; } parts.push(step.value); } const tpl = document.createElement('template'); tpl.innerHTML = parts.join(\"\"); _insertNode(tpl.content); } else { _insertNode(contentNode.content); } })(); } else { _insertNode(contentNode.content); } }); </script></treescope-run-here><div style=\"display:none\"> <script type=\"application/octet-stream\" >eNrtGgt32rz1r+ijZ1/Ml2AeAZKQkjOT8GqbpAlp03bbYbItbBXbcmQBITv977uSzcNASNpm3c42ck4A+b5fulfidSSmHjnRBSckslhI+pwxgf6BQhZRQVlQQ5x4WNAxOUYDFojcAPvUm9aQzwIWhdiC9YlLBcmpLzUUcljxaCRyinROTENYDVgAyya2hg5no8DOWcxjvBajHqPkm+kBANCjtnBraEAFgAWCBOIYhdi2aeDkPDIQNVSyXMkkIDmXUMeFlaJekWQCgSnIPEdLPuTGNKIm9agAyfFIsDlsjgaC0yCiVi6iDyR+moj77XU+Ns/ruXlyfBQATw5rkcVpKJDUr76Dw9CjFpYWyzNLEKk9J9jfOdG0bP0EDAr8IoFsMggiVEfCpZHuEHEN1r5gNtGyussioavnoBoRqB+SQKpsWJKqRPrL3zY96eDA9gg8Dkaedxxz0EHMHmMBrGoTxodZtCwDu4Ul+Si1LKglF0PCB4z7OLCIHrCJllX+BQba2hOUi5Feo/1SFujQAdJWpNY9EjjCRfU6KkiQraJzIkY8ALsj4kVkIZg7CqRkq6Qjlw6ElE8ByA/f4O8RDhpEVWCzic7J3YhEwgior9zV4tgnWmyTrKRxvMYoHEVubMbjDTrOWNRjNbZo+XwZpBSxIwVzHC/Oyr7KHIjWUNKSK8QTe4iMIcATT0rp1Hd9SKbS6BmekQIlwLrl4Sh6B8mZ0NUyc5p9H8IwM2P+LQv2hPBXMX7yOr8pAWw6RopgPZMuHxkksAmakvt6ppBBLABhQO0A4LaF/WZdNYkz0zIDaRcXLJMJwXxZAmoBE5o+YJ6NTcAOgGzNxZF24mGTeCfpJ/2Yh8KpWS6xhsTOZtEf0kizEiNYWEMFvVgh/nqRkWsPOaUcfD/eWCe/6aqe9bFpcjJWcazK26vqYQkXCgsAi/k+qLUEgdVLOmEFBMciu2xMeHYDfBq8P3FJ0Cf3IYQesV/MQo9xDUa+SfgSQOHosFipLgAiWWOdZQr7xUqxMgcgdl8aegGQ7ATrG8YYcy2XMz1mDeMliFiTcZvw2G/F8B5FzKP2Nsg4eJ4CBh+4UNw5SDbsc+JDCvWV/dGq0OtisqFnudph+U8ykMoVVCwcxRQnOOpDVjHPA3TB9AHlkeirMvpcqkdlvSjpFo5Qcb+qH2wkrPy3lV12jaHgOJhF8ypzVIwQwRGB0M+xEZQd1QxMVGKsPJNeTYXUI+0ECL0p8gDaplHo4emsbVgFRCdIRW6tZhLYkZbC5pWlXpvTMm4dckXZOyQtBuTinBcNVK6rGNjCU0XAOmcb82FEsAOFMFjHfqEMnMsgUTcjzeBTEqoeqIZ2/lqqmNbOv1O8NNKjQlZ/gZAqk4HxiEfSgSGDTpDwDXxp9HJsVSooRjm1o0WPxfjLcF2oJ8i9WOei06gflwQWxFVgPbW2pZJeqshs2ugq9NPixx5fFVFq5WPuQLGJxVAJ/e0nuUEtDKfmCPaFYGMBWjzeFLQZlFmBAkPCQLQZ+K+kWLYzK/PUzjmGqKDYQ72pbzIvQpcjIfW10WmMCe/hFBIDqq45hNlIoUc+dEsubK4wuQQC0CkUYns+Ub0iBfl3vB7mMbYaeQr6kWxr0lrG+bFBi83lboGp9hwLpiEw7BwfD0SqQZjV6W08V3DSLJdNn+zeNhY4hwNwrGqqs8vLkomcFJZ2uE3b2vepMpcAHEOJ/VtaEsUS/Ub9kHGBgzXaJmdDaNLkyqIYPW3dJbQle87c/E13LbevRvG+zI6ltjZOloIeZ+wSHFd7+AKQx83uHFI2u6Cq3bdgDrQ5CRLl05M2SJkGfLGuc56MydacSn4Le5ZWslyYRaGbi1uhSGCJP5f3XyZJ0k7GktjQVEKYyJ5yyR13I+wFMN31Q04G9B6IpBLvUCUejLJY9mETzAPwQH+2Vcy8Oxhgq7i/ATCEWXDNcaoeJkZKlnKJMxddXU1NNpjnHI5tCm7TivsVmzh7iEGOOAQVQLqq5e7FORMCW6hAagklVl4TZa1Uv5jhUy7PzSNz1dGPBeYq3LzxjR0IqZ0G+eWhW9DLlpt9jqy/JpbjoUhJtXE0So3KSg/wieeiP5BWBHWWURK6EUCRrDzcSGywQM09H3fGdzbAKcw5ydlqLln+hdZcjKDKgjmZVKMoUbBIfNDuccU2NFDf3b48FeL/SE3JsX9lqXrGlLwd+JsOFP8l5zALJ//MUYw6CQFhPRxCY/T0cPn9pn+cQzxSxuP58oHMIzAvIccmFomiaYA+40sHipvM8jj4y7h6D61cO+jpw0j0TIFXrTx3RR/wQATx02i/VN9nip9y6nZHPofrs0z0HFs+h9lTSr3EvYs8Cke/GZzjqT7gzNdsZo3k2aguG7BIH2NvRCItm9Uj5hNNtWXyEF2+6/FQJg/QnzmWZXZQFmXnVxaRS4iQ9xpkgk57vZ7UpifX5C2FeqhzAipbpDcNLO3vf05GQYvMGsTvHwvjvlJyknbkPvaOlw/paqgsj54jbtXQiHuanFFq8nl+wgaD0rEJU1C1vGcXjtrnjtEw1Kt7ZRhMfWpcT+B/p2UYTWPbq+EbhjNkb+1us3E6+WwYN59P3xjn3cap0XLuu513roga55Q4+62zT6V33erncS8c0ffnlZvim0/d64/n49vzB/F+2mqd7t46wxvaOCu49Oxq9KZpt78WOmZ+MO7a4d3bqnt3S+nV6Dxou53BB2F8qDYueNlodYNhs2p9GI2C3evKnRUNJ+NBy8vf3TtNduiYbybtw2LHyAfGdeUd52+K17vOQ+HaLhhvBkXn4uB00v5acgpsOro+OPCbxeqk8+no0nFCcjOclknXfKhYJr9sC2w4V92LyRmOptHVqNv9dNtsTYz3V2H3s/0hn991Dm4OPu2LwuDt+ztjXAGa74yLA+N8YvjOw3Vvd/SlR5qf7kuDqvVwUb7uTCujhvH2ofE1bIX7tHN12ix8Gb0v9w6CQeNds9M69w26ezhultyg6B7smh8nn75OOnx81v5wGnwdNJuO2L20vnjeQeXo9M2kcegelc/P27399hfD8buVr42rI3HTJp2jZqPRbe+fOeXr/Gdrahpt8OnHt3njqo0Ncn7qGZ2H5qXzRTjVxnvn8rJ71hjSqwppNT6dNloWLYQuZ2EAsRF+aZ4VH4rD3uB0INzp26Bj41bUGRQu/HbzotqwjbuPH0Msot4X37YxPSoNHo7KH+jXu2ro8+ol+3zao7ztj9+093u3vf1Ws2Q1rgY3ux2Phe1yK5pUsHNXPaRfSO/CC2+DRqdL7HNORrd37VO/eNviw17vvlKq3t5GEwMkyiJ1Rym0HRXWO7JD+Tv8m2c/tlkIc9oiJdXNqq7rWyD24pz9G9DafoPlqqs+NZzH5wZAG8IjsJAWj+/pi1hIwRsm0xfAkvFerkVQHiQJeV4hh3w8wVSgAI+pgwXjOlAOTYa5rU84FeSG3AttQUs2cDGtxW0fdFRaZukwQ97zAZcb6hM2EtrsIngNT956jMka6rc9VCoUCqpxheILQ4KmjuU28106scgshJMHkrMKJq9GM+gVamHqQWETDEng31Rlg+Y+gBkaqjEFmxFsywOX3WXbJXeWT9xWysOb2XXl4lpHwORAREaRyw3JFGLVrWcyafD0Bjl7qEptPZPqh2FWt83DcgUfb+r05X3DCun0HcPq/AzAcYfxmgbhKNnzMqqnMNl9ZiORpP0A1LxC+inNUxdESZ+P0idMz7JV8nDlMCRzEpLgAdNFz6DCPsTg5/4AfC6PK3TwK5A4Sd4uGKReQj2USmvp56/zicWW+a6dE6SHo8wW6DVQxinMmtjrwwbO699lXD2Fu8nUyUVp5uT3uxETx+qoFltylNFmste1lsew6MFMRrimuph6QS/sIZvE8Q+tUP33V/elg+N3WGXXRwkTr+xBNt3XixIcbBxKxCL0pc+meGlGhI8hRZ+mCW0KRB/0V3uobzO/r9QkUV2LsSbUBgvlZhompLLZWPG0T/fWI2zeJGdO0Ax4DWg2OaQtvbM4TN1BLDiVZa2+8511Xf0qIbuD5ie99YzmYd+0sfqtRU39T/s7m1mUjDkaNHhP4skj/9XDbcBTtU8GFnxONDxZzYXU2w/EOLV/NMKpvTG+418KZE6KpYNqtVQu7FerlYOj0n+bv6n9I94GrH+jr9Xm8oPelrjbdraX38i2/NwlszU0Xj0dP6mThqe2MBpO41oW6bP3edmGNiftl6WCvm2/2qbO2m3M1ueZk5fz6PKPmmCH8sSxeoDi2v2EHZY0j+F/d1bL/H9yQktz/EhKK7wfT+pHIx7KIPTLZxCC8iQAC3U4iorlImIDlHeZT/IOYeBiGIVcwqK8uW/n9ZDe0zwJxlHeCUd5j5r5cCpcFuzrxVI+kj/ihbZuiB0S5RfuzM/el90ZTreWnydr0op79/4fAs+r64/FxaxHX/wsEq1c8GZOst/nndQh3dZS8D/Ypn53hD+VyrKcPr+EImZ+JZaQiV+4PygXTfNw/9AcHBY2VNW8Tccn/wSwaOi9</script> <treescope-run-here><script type=\"application/octet-stream\"> const root = ( Array.from(document.getElementsByClassName( \"treescope_out_9541784294ff41718e660f7bfbea548e\")) .filter((elt) => !elt.dataset['step0']) )[0]; root.dataset['step0'] = 1; root.defns.insertContent( this.parentNode.querySelector('script[type=\"application/octet-stream\"]'), true ); this.parentNode.remove(); </script></treescope-run-here> </div>"
      ],
      "text/plain": [
       "<IPython.core.display.HTML object>"
      ]
     },
     "metadata": {},
     "output_type": "display_data"
    },
    {
     "data": {
      "application/vnd.jupyter.widget-view+json": {
       "model_id": "2f3eed4f891d4d9ea0efcb84bd96073f",
       "version_major": 2,
       "version_minor": 0
      },
      "text/html": [
       "<treescope-run-here><script type=\"application/octet-stream\"> const root = ( Array.from(document.getElementsByClassName( \"treescope_out_9541784294ff41718e660f7bfbea548e\")) .filter((elt) => !elt.dataset.stolen) )[0]; root.dataset.stolen = 1; this.parentNode.replaceChild(root, this); </script></treescope-run-here>"
      ],
      "text/plain": [
       "interactive(children=(FloatSlider(value=0.0, description='Latent Value', max=1.0, step=0.01), FloatSlider(valu…"
      ]
     },
     "metadata": {},
     "output_type": "display_data"
    }
   ],
   "source": [
    "prior = ud.Uniform(0.3, 0.7)\n",
    "obsmodel = ud.NiceTruncatedCenteredUniform(.05, 0., 1.)\n",
    "ud.create_interactive_posterior_viz(\n",
    "    prior,\n",
    "    obsmodel,\n",
    "    0,\n",
    "    1,\n",
    "    0,\n",
    "    1,\n",
    "    lambda obs, lat: jnp.exp(\n",
    "        ud.get_posterior_for_uniform_prior_ntcu_obs(\n",
    "            prior, obsmodel, obs\n",
    "        ).logpdf(lat)\n",
    "    )\n",
    ")"
   ]
  },
  {
   "cell_type": "code",
   "execution_count": 28,
   "metadata": {},
   "outputs": [
    {
     "data": {
      "text/html": [
       "<script> (()=>{ if (customElements.get('treescope-container') === undefined) { class TreescopeContainer extends HTMLElement { constructor() { super(); this.attachShadow({mode: \"open\"}); this.defns = {}; this.state = {}; } } customElements.define(\"treescope-container\", TreescopeContainer); } if (customElements.get('treescope-run-here') === undefined) { class RunHere extends HTMLElement { constructor() { super() } connectedCallback() { const run = child => { const fn = new Function(child.textContent); child.textContent = \"\"; fn.call(this); this.remove(); }; const child = this.querySelector(\"script\"); if (child) { run(child); } else { new MutationObserver(()=>{ run(this.querySelector(\"script\")); }).observe(this, {childList: true}); } } } customElements.define(\"treescope-run-here\", RunHere); } })(); </script> <treescope-container class=\"treescope_out_5698bdbce97c49c39ad5056a28ef4443\" ></treescope-container> <treescope-run-here><script type=\"application/octet-stream\"> const root = ( Array.from(document.getElementsByClassName( \"treescope_out_5698bdbce97c49c39ad5056a28ef4443\")) .filter((elt) => !elt.dataset.setup) )[0]; root.dataset.setup = 1; const msg = document.createElement(\"span\"); msg.style = \"color: #aaaaaa; font-family: monospace; transition: opacity 0.2s; opacity: 0.0;\"; msg.textContent = \"(Loading...)\"; root.state.loadingMsg = msg; root.shadowRoot.appendChild(msg); root.state.chain = new Promise((resolve, reject) => { const observer = new IntersectionObserver((entries) => { for (const entry of entries) { if (entry.isIntersecting) { resolve(); observer.disconnect(); return; } } }, {rootMargin: \"1000px\"}); window.setTimeout(() => { if (root.loadingMsg) { root.loadingMsg.style.opacity = \"1.0\"; } observer.observe(root); }, 0); }); root.state.deferring = false; const _insertNode = (node) => { for (let oldScript of node.querySelectorAll(\"script\")) { let newScript = document.createElement(\"script\"); newScript.type = oldScript.type; newScript.textContent = oldScript.textContent; oldScript.parentNode.replaceChild(newScript, oldScript); } if (root.state.loadingMsg) { root.state.loadingMsg.remove(); root.state.loadingMsg = null; } root.shadowRoot.appendChild(node); }; root.defns.insertContent = ((contentNode, compressed) => { if (compressed) { root.state.deferring = true; } if (root.state.deferring) { root.state.chain = (async () => { await root.state.chain; if (compressed) { const encoded = contentNode.textContent; const blob = new Blob([ Uint8Array.from(atob(encoded), (m) => m.codePointAt(0)) ]); const reader = blob.stream().pipeThrough( new DecompressionStream(\"deflate\") ).pipeThrough( new TextDecoderStream(\"utf-8\") ).getReader(); const parts = []; while (true) { const step = await reader.read(); if (step.done) { break; } parts.push(step.value); } const tpl = document.createElement('template'); tpl.innerHTML = parts.join(\"\"); _insertNode(tpl.content); } else { _insertNode(contentNode.content); } })(); } else { _insertNode(contentNode.content); } }); </script></treescope-run-here><div style=\"display:none\"> <script type=\"application/octet-stream\" >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</script> <treescope-run-here><script type=\"application/octet-stream\"> const root = ( Array.from(document.getElementsByClassName( \"treescope_out_5698bdbce97c49c39ad5056a28ef4443\")) .filter((elt) => !elt.dataset['step0']) )[0]; root.dataset['step0'] = 1; root.defns.insertContent( this.parentNode.querySelector('script[type=\"application/octet-stream\"]'), true ); this.parentNode.remove(); </script></treescope-run-here> </div>"
      ],
      "text/plain": [
       "<IPython.core.display.HTML object>"
      ]
     },
     "metadata": {},
     "output_type": "display_data"
    },
    {
     "data": {
      "application/vnd.jupyter.widget-view+json": {
       "model_id": "24c05690544a4af78ea9f554b9fdbe38",
       "version_major": 2,
       "version_minor": 0
      },
      "text/html": [
       "<treescope-run-here><script type=\"application/octet-stream\"> const root = ( Array.from(document.getElementsByClassName( \"treescope_out_5698bdbce97c49c39ad5056a28ef4443\")) .filter((elt) => !elt.dataset.stolen) )[0]; root.dataset.stolen = 1; this.parentNode.replaceChild(root, this); </script></treescope-run-here>"
      ],
      "text/plain": [
       "interactive(children=(FloatSlider(value=0.0, description='Latent Value', max=1.0, step=0.01), FloatSlider(valu…"
      ]
     },
     "metadata": {},
     "output_type": "display_data"
    }
   ],
   "source": [
    "prior = ud.MixtureOfUniforms(\n",
    "    jnp.array([0.7, 0.25, 0.05]),\n",
    "    ud.Uniform(\n",
    "        jnp.array([0.1, 0.4, 0.49]),\n",
    "        jnp.array([0.9, 0.6, 0.51])\n",
    "    )\n",
    ")\n",
    "obsmodel = ud.MixtureOfNiceTruncatedCenteredUniforms(\n",
    "    jnp.array([0.3, 0.7]),\n",
    "    ud.NiceTruncatedCenteredUniform(\n",
    "        jnp.array([0.1, 0.02]),\n",
    "        jnp.zeros(2),\n",
    "        jnp.ones(2)\n",
    "    )\n",
    "\n",
    ")\n",
    "ud.create_interactive_posterior_viz(\n",
    "    prior,\n",
    "    obsmodel,\n",
    "    0,\n",
    "    1,\n",
    "    0,\n",
    "    1,\n",
    "    lambda obs, lat: jnp.exp(\n",
    "        ud.get_posterior_from_mix_of_uniform_prior_and_mix_of_nctus_obs(\n",
    "            prior, obsmodel, obs\n",
    "        ).logpdf(lat)\n",
    "    )\n",
    ")"
   ]
  },
  {
   "cell_type": "code",
   "execution_count": 20,
   "metadata": {},
   "outputs": [
    {
     "data": {
      "text/html": [
       "<script> (()=>{ if (customElements.get('treescope-container') === undefined) { class TreescopeContainer extends HTMLElement { constructor() { super(); this.attachShadow({mode: \"open\"}); this.defns = {}; this.state = {}; } } customElements.define(\"treescope-container\", TreescopeContainer); } if (customElements.get('treescope-run-here') === undefined) { class RunHere extends HTMLElement { constructor() { super() } connectedCallback() { const run = child => { const fn = new Function(child.textContent); child.textContent = \"\"; fn.call(this); this.remove(); }; const child = this.querySelector(\"script\"); if (child) { run(child); } else { new MutationObserver(()=>{ run(this.querySelector(\"script\")); }).observe(this, {childList: true}); } } } customElements.define(\"treescope-run-here\", RunHere); } })(); </script> <treescope-container class=\"treescope_out_510ce56b8a1d4ec3ae3c1e5a950bba61\" ></treescope-container> <treescope-run-here><script type=\"application/octet-stream\"> const root = ( Array.from(document.getElementsByClassName( \"treescope_out_510ce56b8a1d4ec3ae3c1e5a950bba61\")) .filter((elt) => !elt.dataset.setup) )[0]; root.dataset.setup = 1; const msg = document.createElement(\"span\"); msg.style = \"color: #aaaaaa; font-family: monospace; transition: opacity 0.2s; opacity: 0.0;\"; msg.textContent = \"(Loading...)\"; root.state.loadingMsg = msg; root.shadowRoot.appendChild(msg); root.state.chain = new Promise((resolve, reject) => { const observer = new IntersectionObserver((entries) => { for (const entry of entries) { if (entry.isIntersecting) { resolve(); observer.disconnect(); return; } } }, {rootMargin: \"1000px\"}); window.setTimeout(() => { if (root.loadingMsg) { root.loadingMsg.style.opacity = \"1.0\"; } observer.observe(root); }, 0); }); root.state.deferring = false; const _insertNode = (node) => { for (let oldScript of node.querySelectorAll(\"script\")) { let newScript = document.createElement(\"script\"); newScript.type = oldScript.type; newScript.textContent = oldScript.textContent; oldScript.parentNode.replaceChild(newScript, oldScript); } if (root.state.loadingMsg) { root.state.loadingMsg.remove(); root.state.loadingMsg = null; } root.shadowRoot.appendChild(node); }; root.defns.insertContent = ((contentNode, compressed) => { if (compressed) { root.state.deferring = true; } if (root.state.deferring) { root.state.chain = (async () => { await root.state.chain; if (compressed) { const encoded = contentNode.textContent; const blob = new Blob([ Uint8Array.from(atob(encoded), (m) => m.codePointAt(0)) ]); const reader = blob.stream().pipeThrough( new DecompressionStream(\"deflate\") ).pipeThrough( new TextDecoderStream(\"utf-8\") ).getReader(); const parts = []; while (true) { const step = await reader.read(); if (step.done) { break; } parts.push(step.value); } const tpl = document.createElement('template'); tpl.innerHTML = parts.join(\"\"); _insertNode(tpl.content); } else { _insertNode(contentNode.content); } })(); } else { _insertNode(contentNode.content); } }); </script></treescope-run-here><div style=\"display:none\"> <script type=\"application/octet-stream\" >eNqNVE1v2zAM/SuCd6gNzG7aYsOaxAZ6GXYYdtgOOwxDoNi0LUSmNIlOlg3976PkJOtHVgw5xCKpx/cokktPew1VQQ7A18bCyhlD4rewxitSBufCgZaktrAQrUHKWzkovZ+LwaDxVtZs3/WKII+HubCOLVp5yiN0TnvLVjTI5rWsN50zIzZ5bbRx8+nqQhxOa80BjKca6ueiVcRhSIC0EFY2jcIu19DSXFzXfUiCkPegup4tV8WbAIMkFXM+XTt85Fvl1VppRcxcjmROsblCcgq9qnOvfsHkPdC9X15O5VmeypO7ETmnY5uvnbIkgr7yQlqrVS1DxS5NTRDUO5DDRZWmWVlxQTmfJ9FAi16Ugnrliw7oM1f7k2kgzYreeCqin6UBiZUFDJLv6oAaLn37fs7zQWKjgd04ar2YMhRM84sxyNZ0Z9wmEw85mK9sCq5HZlJ1MFpwrXGDxBoKNLs0i+/LCdJnHpFPl5bi5jpjHNWK9AnrQgN21IuyFLMQ8iJ1BzQ65LoL0B7+EutHDMyeQvtetRT4xYDwcc+/f2RIuauwMbvCwY8RPN2hGuJzvXdygHSqSRYwFs8S2dH3UxkXZzQeU5STjBdU/j+HwGJ6SDJdp6epXMXJ4W61AStYQNNrAVtu8MNLBnbxXGxgH4qeuCQQOgQXtZbef+ThPOCmyQlzNXAbJsfk9xnXk9s/9ni1vDw3AI3aighYJo/XRyJIrlkp/CyTWSIMMhmWjRz3Utuf15qGO0eVCY/dtLDixljhOKzBxU6JC+TV7Pbd1Zu3D0eX1xIeafY8q47XxmZF0jGNRDSSZM70rKS+TJLH4Q9zJNWsuLllVPZXpz8uQfUHfrDb8w==</script> <treescope-run-here><script type=\"application/octet-stream\"> const root = ( Array.from(document.getElementsByClassName( \"treescope_out_510ce56b8a1d4ec3ae3c1e5a950bba61\")) .filter((elt) => !elt.dataset['step0']) )[0]; root.dataset['step0'] = 1; root.defns.insertContent( this.parentNode.querySelector('script[type=\"application/octet-stream\"]'), true ); this.parentNode.remove(); </script></treescope-run-here> </div>"
      ],
      "text/plain": [
       "<IPython.core.display.HTML object>"
      ]
     },
     "metadata": {},
     "output_type": "display_data"
    },
    {
     "data": {
      "text/html": [
       "<treescope-run-here><script type=\"application/octet-stream\"> const root = ( Array.from(document.getElementsByClassName( \"treescope_out_510ce56b8a1d4ec3ae3c1e5a950bba61\")) .filter((elt) => !elt.dataset.stolen) )[0]; root.dataset.stolen = 1; this.parentNode.replaceChild(root, this); </script></treescope-run-here>"
      ],
      "text/plain": [
       "0.39"
      ]
     },
     "execution_count": 20,
     "metadata": {},
     "output_type": "execute_result"
    }
   ],
   "source": [
    "obs"
   ]
  },
  {
   "cell_type": "code",
   "execution_count": null,
   "metadata": {},
   "outputs": [],
   "source": []
  }
 ],
 "metadata": {
  "kernelspec": {
   "display_name": "gpu",
   "language": "python",
   "name": "python3"
  },
  "language_info": {
   "codemirror_mode": {
    "name": "ipython",
    "version": 3
   },
   "file_extension": ".py",
   "mimetype": "text/x-python",
   "name": "python",
   "nbconvert_exporter": "python",
   "pygments_lexer": "ipython3",
   "version": "3.12.5"
  }
 },
 "nbformat": 4,
 "nbformat_minor": 2
}
