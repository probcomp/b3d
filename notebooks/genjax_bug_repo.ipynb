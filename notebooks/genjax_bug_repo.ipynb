{
 "cells": [
  {
   "cell_type": "code",
   "execution_count": 3,
   "metadata": {},
   "outputs": [],
   "source": [
    "import jax\n",
    "import jax.numpy as jnp\n",
    "import genjax\n",
    "from genjax import gen, Mask\n",
    "from genjax import ChoiceMapBuilder as C\n",
    "genjax.pretty()\n",
    "\n",
    "def masked_scan_combinator(step, **scan_kwargs):\n",
    "    \"\"\"\n",
    "    Given a generative function `step` so that `step.scan(n=N)` is valid,\n",
    "    return a generative function accepting an input\n",
    "    `(initial_state, masked_input_values_array)` and returning a pair\n",
    "    `(masked_final_state, masked_returnvalue_sequence)`.\n",
    "    This operates similarly to `step.scan`, but the input values can be masked.\n",
    "    \"\"\"\n",
    "    mstep = step.mask().dimap(\n",
    "        pre=lambda masked_state, masked_inval: (\n",
    "            jnp.logical_and(masked_state.flag, masked_inval.flag),\n",
    "            masked_state.value,\n",
    "            masked_inval.value\n",
    "        ),\n",
    "        post=lambda args, masked_retval: (\n",
    "            Mask(masked_retval.flag, masked_retval.value[0]),\n",
    "            Mask(masked_retval.flag, masked_retval.value[1])\n",
    "        )\n",
    "    )\n",
    "\n",
    "    # This should be given a pair (\n",
    "    #     Mask(True, initial_state), \n",
    "    #     Mask(bools_indicating_active, input_vals)\n",
    "    # ).\n",
    "    # It will output a pair (masked_final_state, masked_returnvalue_sequence).\n",
    "    scanned = mstep.scan(**scan_kwargs)\n",
    "\n",
    "    scanned_nice = scanned.dimap(\n",
    "        pre=lambda initial_state, masked_input_values: (\n",
    "            Mask(True, initial_state),\n",
    "            Mask(masked_input_values.flag, masked_input_values.value)\n",
    "        ),\n",
    "        post=lambda args, retval: retval\n",
    "    )\n",
    "\n",
    "    return scanned_nice\n",
    "\n",
    "### Usage example ###\n",
    "@gen\n",
    "def step(state, sigma):\n",
    "    new_x = genjax.normal(state, sigma) @ \"x\"\n",
    "    return (new_x, new_x + 1)\n",
    "\n",
    "trace = masked_scan_combinator(step, n=10).simulate(\n",
    "    jax.random.PRNGKey(20), (\n",
    "        2.,\n",
    "        Mask(jnp.arange(10) < 5, jnp.arange(10, dtype=float))\n",
    "    )\n",
    ")"
   ]
  },
  {
   "cell_type": "code",
   "execution_count": 5,
   "metadata": {},
   "outputs": [
    {
     "ename": "TypeError",
     "evalue": "Method\u001b[1m\u001b[35m genjax._src.generative_functions.combinators.scan.ScanCombinator.update_change_target()\u001b[0m parameter \u001b[1m\u001b[34margdiffs\u001b[0m=\u001b[1m\u001b[31m(Mask(...), Mask(...))\u001b[0m violates type hint \u001b[1m\u001b[32mtyping.Annotated[tuple, Is[lambda v: Diff.static_check_tree_diff(v)]]\u001b[0m, as \u001b[1m\u001b[33mtuple \u001b[0m\u001b[1m\u001b[31m(Mask(...), Mask(...))\u001b[0m violates validator Is[lambda v: Diff.static_check_tree_diff(v)]:\n    False == Is[lambda v: Diff.static_check_tree_diff(v)].",
     "output_type": "error",
     "traceback": [
      "\u001b[0;31m---------------------------------------------------------------------------\u001b[0m",
      "\u001b[0;31mTypeError\u001b[0m                                 Traceback (most recent call last)",
      "Cell \u001b[0;32mIn[5], line 1\u001b[0m\n\u001b[0;32m----> 1\u001b[0m trace, weight \u001b[38;5;241m=\u001b[39m \u001b[43mmasked_scan_combinator\u001b[49m\u001b[43m(\u001b[49m\u001b[43mstep\u001b[49m\u001b[43m,\u001b[49m\u001b[43m \u001b[49m\u001b[43mn\u001b[49m\u001b[38;5;241;43m=\u001b[39;49m\u001b[38;5;241;43m10\u001b[39;49m\u001b[43m)\u001b[49m\u001b[38;5;241;43m.\u001b[39;49m\u001b[43mimportance\u001b[49m\u001b[43m(\u001b[49m\n\u001b[1;32m      2\u001b[0m \u001b[43m    \u001b[49m\u001b[43mjax\u001b[49m\u001b[38;5;241;43m.\u001b[39;49m\u001b[43mrandom\u001b[49m\u001b[38;5;241;43m.\u001b[39;49m\u001b[43mPRNGKey\u001b[49m\u001b[43m(\u001b[49m\u001b[38;5;241;43m20\u001b[39;49m\u001b[43m)\u001b[49m\u001b[43m,\u001b[49m\u001b[43m \u001b[49m\u001b[43mC\u001b[49m\u001b[38;5;241;43m.\u001b[39;49m\u001b[43mn\u001b[49m\u001b[43m(\u001b[49m\u001b[43m)\u001b[49m\u001b[43m,\u001b[49m\u001b[43m \u001b[49m\u001b[43m(\u001b[49m\n\u001b[1;32m      3\u001b[0m \u001b[43m        \u001b[49m\u001b[38;5;241;43m2.\u001b[39;49m\u001b[43m,\u001b[49m\n\u001b[1;32m      4\u001b[0m \u001b[43m        \u001b[49m\u001b[43mMask\u001b[49m\u001b[43m(\u001b[49m\u001b[43mjnp\u001b[49m\u001b[38;5;241;43m.\u001b[39;49m\u001b[43marange\u001b[49m\u001b[43m(\u001b[49m\u001b[38;5;241;43m10\u001b[39;49m\u001b[43m)\u001b[49m\u001b[43m \u001b[49m\u001b[38;5;241;43m<\u001b[39;49m\u001b[43m \u001b[49m\u001b[38;5;241;43m5\u001b[39;49m\u001b[43m,\u001b[49m\u001b[43m \u001b[49m\u001b[43mjnp\u001b[49m\u001b[38;5;241;43m.\u001b[39;49m\u001b[43marange\u001b[49m\u001b[43m(\u001b[49m\u001b[38;5;241;43m10\u001b[39;49m\u001b[43m,\u001b[49m\u001b[43m \u001b[49m\u001b[43mdtype\u001b[49m\u001b[38;5;241;43m=\u001b[39;49m\u001b[38;5;28;43mfloat\u001b[39;49m\u001b[43m)\u001b[49m\u001b[43m)\u001b[49m\n\u001b[1;32m      5\u001b[0m \u001b[43m    \u001b[49m\u001b[43m)\u001b[49m\n\u001b[1;32m      6\u001b[0m \u001b[43m)\u001b[49m\n",
      "File \u001b[0;32m<@beartype(genjax._src.core.generative.core.GenerativeFunction.importance) at 0x7fb4b82b4d60>:77\u001b[0m, in \u001b[0;36mimportance\u001b[0;34m(__beartype_object_140414162475712, __beartype_get_violation, __beartype_conf, __beartype_object_94552019677808, __beartype_object_94552019706960, __beartype_object_140414167455584, __beartype_object_140414165386048, __beartype_func, *args, **kwargs)\u001b[0m\n",
      "File \u001b[0;32m/opt/conda/envs/b3d-2/lib/python3.12/site-packages/genjax/_src/core/generative/core.py:790\u001b[0m, in \u001b[0;36mGenerativeFunction.importance\u001b[0;34m(self, key, constraint, args)\u001b[0m\n\u001b[1;32m    748\u001b[0m \u001b[38;5;129m@typecheck\u001b[39m\n\u001b[1;32m    749\u001b[0m \u001b[38;5;28;01mdef\u001b[39;00m \u001b[38;5;21mimportance\u001b[39m(\n\u001b[1;32m    750\u001b[0m     \u001b[38;5;28mself\u001b[39m,\n\u001b[0;32m   (...)\u001b[0m\n\u001b[1;32m    753\u001b[0m     args: Arguments,\n\u001b[1;32m    754\u001b[0m ) \u001b[38;5;241m-\u001b[39m\u001b[38;5;241m>\u001b[39m Tuple[Trace, Weight]:\n\u001b[1;32m    755\u001b[0m \u001b[38;5;250m    \u001b[39m\u001b[38;5;124;03m\"\"\"\u001b[39;00m\n\u001b[1;32m    756\u001b[0m \u001b[38;5;124;03m    Returns a properly weighted pair, a [`Trace`][genjax.core.Trace] and a [`Weight`][genjax.core.Weight], properly weighted for the target induced by the generative function for the provided constraint and arguments.\u001b[39;00m\n\u001b[1;32m    757\u001b[0m \n\u001b[0;32m   (...)\u001b[0m\n\u001b[1;32m    788\u001b[0m \u001b[38;5;124;03m    Under the hood, creates an [`UpdateProblem`][genjax.core.UpdateProblem] which requests that the generative function respond with a move from the _empty_ trace (the only possible value for _empty_ target $\\\\delta_\\\\emptyset$) to the target induced by the generative function for constraint $C$ with arguments $a$.\u001b[39;00m\n\u001b[1;32m    789\u001b[0m \u001b[38;5;124;03m    \"\"\"\u001b[39;00m\n\u001b[0;32m--> 790\u001b[0m     tr, w, _, _ \u001b[38;5;241m=\u001b[39m \u001b[38;5;28;43mself\u001b[39;49m\u001b[38;5;241;43m.\u001b[39;49m\u001b[43mupdate\u001b[49m\u001b[43m(\u001b[49m\n\u001b[1;32m    791\u001b[0m \u001b[43m        \u001b[49m\u001b[43mkey\u001b[49m\u001b[43m,\u001b[49m\n\u001b[1;32m    792\u001b[0m \u001b[43m        \u001b[49m\u001b[43mEmptyTrace\u001b[49m\u001b[43m(\u001b[49m\u001b[38;5;28;43mself\u001b[39;49m\u001b[43m)\u001b[49m\u001b[43m,\u001b[49m\n\u001b[1;32m    793\u001b[0m \u001b[43m        \u001b[49m\u001b[43mGenericProblem\u001b[49m\u001b[43m(\u001b[49m\u001b[43mDiff\u001b[49m\u001b[38;5;241;43m.\u001b[39;49m\u001b[43munknown_change\u001b[49m\u001b[43m(\u001b[49m\u001b[43margs\u001b[49m\u001b[43m)\u001b[49m\u001b[43m,\u001b[49m\u001b[43m \u001b[49m\u001b[43mImportanceProblem\u001b[49m\u001b[43m(\u001b[49m\u001b[43mconstraint\u001b[49m\u001b[43m)\u001b[49m\u001b[43m)\u001b[49m\u001b[43m,\u001b[49m\n\u001b[1;32m    794\u001b[0m \u001b[43m    \u001b[49m\u001b[43m)\u001b[49m\n\u001b[1;32m    795\u001b[0m     \u001b[38;5;28;01mreturn\u001b[39;00m tr, w\n",
      "File \u001b[0;32m<@beartype(genjax._src.generative_functions.combinators.dimap.DimapCombinator.update) at 0x7fb4b831f6a0>:78\u001b[0m, in \u001b[0;36mupdate\u001b[0;34m(__beartype_object_140414162475712, __beartype_get_violation, __beartype_conf, __beartype_object_94552019706960, __beartype_object_94552019664384, __beartype_object_140414167455584, __beartype_object_140414162419552, __beartype_object_140414165386048, __beartype_func, *args, **kwargs)\u001b[0m\n",
      "File \u001b[0;32m/opt/conda/envs/b3d-2/lib/python3.12/site-packages/genjax/_src/generative_functions/combinators/dimap.py:139\u001b[0m, in \u001b[0;36mDimapCombinator.update\u001b[0;34m(self, key, trace, update_problem)\u001b[0m\n\u001b[1;32m    137\u001b[0m \u001b[38;5;28;01mmatch\u001b[39;00m update_problem:\n\u001b[1;32m    138\u001b[0m     \u001b[38;5;28;01mcase\u001b[39;00m GenericProblem(argdiffs, subproblem):\n\u001b[0;32m--> 139\u001b[0m         \u001b[38;5;28;01mreturn\u001b[39;00m \u001b[38;5;28;43mself\u001b[39;49m\u001b[38;5;241;43m.\u001b[39;49m\u001b[43mupdate_change_target\u001b[49m\u001b[43m(\u001b[49m\u001b[43mkey\u001b[49m\u001b[43m,\u001b[49m\u001b[43m \u001b[49m\u001b[43mtrace\u001b[49m\u001b[43m,\u001b[49m\u001b[43m \u001b[49m\u001b[43msubproblem\u001b[49m\u001b[43m,\u001b[49m\u001b[43m \u001b[49m\u001b[43margdiffs\u001b[49m\u001b[43m)\u001b[49m\n\u001b[1;32m    140\u001b[0m     \u001b[38;5;28;01mcase\u001b[39;00m\u001b[38;5;250m \u001b[39m\u001b[38;5;28;01m_\u001b[39;00m:\n\u001b[1;32m    141\u001b[0m         \u001b[38;5;28;01mreturn\u001b[39;00m \u001b[38;5;28mself\u001b[39m\u001b[38;5;241m.\u001b[39mupdate_change_target(\n\u001b[1;32m    142\u001b[0m             key, trace, update_problem, Diff\u001b[38;5;241m.\u001b[39mno_change(trace\u001b[38;5;241m.\u001b[39mget_args())\n\u001b[1;32m    143\u001b[0m         )\n",
      "File \u001b[0;32m<@beartype(genjax._src.generative_functions.combinators.dimap.DimapCombinator.update_change_target) at 0x7fb4b831f560>:103\u001b[0m, in \u001b[0;36mupdate_change_target\u001b[0;34m(__beartype_object_140414162475712, __beartype_get_violation, __beartype_conf, __beartype_object_94552019706960, __beartype_object_94552019664384, __beartype_object_140414162418912, __beartype_object_140414167455584, __beartype_object_140414162419552, __beartype_object_140414165386048, __beartype_func, *args, **kwargs)\u001b[0m\n",
      "File \u001b[0;32m/opt/conda/envs/b3d-2/lib/python3.12/site-packages/genjax/_src/generative_functions/combinators/dimap.py:108\u001b[0m, in \u001b[0;36mDimapCombinator.update_change_target\u001b[0;34m(self, key, trace, update_problem, argdiffs)\u001b[0m\n\u001b[1;32m    106\u001b[0m     \u001b[38;5;28;01mcase\u001b[39;00m EmptyTrace():\n\u001b[1;32m    107\u001b[0m         inner_trace \u001b[38;5;241m=\u001b[39m EmptyTrace(\u001b[38;5;28mself\u001b[39m\u001b[38;5;241m.\u001b[39minner)\n\u001b[0;32m--> 108\u001b[0m tr, w, inner_retdiff, bwd_problem \u001b[38;5;241m=\u001b[39m \u001b[38;5;28;43mself\u001b[39;49m\u001b[38;5;241;43m.\u001b[39;49m\u001b[43minner\u001b[49m\u001b[38;5;241;43m.\u001b[39;49m\u001b[43mupdate\u001b[49m\u001b[43m(\u001b[49m\n\u001b[1;32m    109\u001b[0m \u001b[43m    \u001b[49m\u001b[43mkey\u001b[49m\u001b[43m,\u001b[49m\u001b[43m \u001b[49m\u001b[43minner_trace\u001b[49m\u001b[43m,\u001b[49m\u001b[43m \u001b[49m\u001b[43mGenericProblem\u001b[49m\u001b[43m(\u001b[49m\u001b[43minner_argdiffs\u001b[49m\u001b[43m,\u001b[49m\u001b[43m \u001b[49m\u001b[43mupdate_problem\u001b[49m\u001b[43m)\u001b[49m\n\u001b[1;32m    110\u001b[0m \u001b[43m\u001b[49m\u001b[43m)\u001b[49m\n\u001b[1;32m    111\u001b[0m inner_retval_primals \u001b[38;5;241m=\u001b[39m Diff\u001b[38;5;241m.\u001b[39mtree_primal((inner_retdiff,))\n\u001b[1;32m    112\u001b[0m inner_retval_tangents \u001b[38;5;241m=\u001b[39m Diff\u001b[38;5;241m.\u001b[39mtree_tangent((inner_retdiff,))\n",
      "    \u001b[0;31m[... skipping hidden 1 frame]\u001b[0m\n",
      "File \u001b[0;32m<@beartype(genjax._src.generative_functions.combinators.scan.ScanCombinator.update) at 0x7fb422571580>:78\u001b[0m, in \u001b[0;36mupdate\u001b[0;34m(__beartype_object_140414162475712, __beartype_get_violation, __beartype_conf, __beartype_object_94552019706960, __beartype_object_94552019664384, __beartype_object_140414167455584, __beartype_object_140414162419552, __beartype_object_140414165386048, __beartype_func, *args, **kwargs)\u001b[0m\n",
      "File \u001b[0;32m/opt/conda/envs/b3d-2/lib/python3.12/site-packages/genjax/_src/generative_functions/combinators/scan.py:441\u001b[0m, in \u001b[0;36mScanCombinator.update\u001b[0;34m(self, key, trace, update_problem)\u001b[0m\n\u001b[1;32m    439\u001b[0m \u001b[38;5;28;01mmatch\u001b[39;00m update_problem:\n\u001b[1;32m    440\u001b[0m     \u001b[38;5;28;01mcase\u001b[39;00m GenericProblem(argdiffs, subproblem):\n\u001b[0;32m--> 441\u001b[0m         \u001b[38;5;28;01mreturn\u001b[39;00m \u001b[38;5;28;43mself\u001b[39;49m\u001b[38;5;241;43m.\u001b[39;49m\u001b[43mupdate_change_target\u001b[49m\u001b[43m(\u001b[49m\u001b[43mkey\u001b[49m\u001b[43m,\u001b[49m\u001b[43m \u001b[49m\u001b[43mtrace\u001b[49m\u001b[43m,\u001b[49m\u001b[43m \u001b[49m\u001b[43msubproblem\u001b[49m\u001b[43m,\u001b[49m\u001b[43m \u001b[49m\u001b[43margdiffs\u001b[49m\u001b[43m)\u001b[49m\n\u001b[1;32m    443\u001b[0m     \u001b[38;5;28;01mcase\u001b[39;00m\u001b[38;5;250m \u001b[39m\u001b[38;5;28;01m_\u001b[39;00m:\n\u001b[1;32m    444\u001b[0m         \u001b[38;5;28;01mreturn\u001b[39;00m \u001b[38;5;28mself\u001b[39m\u001b[38;5;241m.\u001b[39mupdate(\n\u001b[1;32m    445\u001b[0m             key,\n\u001b[1;32m    446\u001b[0m             trace,\n\u001b[0;32m   (...)\u001b[0m\n\u001b[1;32m    450\u001b[0m             ),\n\u001b[1;32m    451\u001b[0m         )\n",
      "File \u001b[0;32m<@beartype(genjax._src.generative_functions.combinators.scan.ScanCombinator.update_change_target) at 0x7fb422571440>:100\u001b[0m, in \u001b[0;36mupdate_change_target\u001b[0;34m(__beartype_object_140414162475712, __beartype_get_violation, __beartype_conf, __beartype_object_94552019706960, __beartype_object_94552019664384, __beartype_object_140414162418912, __beartype_object_140414167455584, __beartype_object_140414162419552, __beartype_object_140414165386048, __beartype_func, *args, **kwargs)\u001b[0m\n",
      "\u001b[0;31mTypeError\u001b[0m: Method\u001b[1m\u001b[35m genjax._src.generative_functions.combinators.scan.ScanCombinator.update_change_target()\u001b[0m parameter \u001b[1m\u001b[34margdiffs\u001b[0m=\u001b[1m\u001b[31m(Mask(...), Mask(...))\u001b[0m violates type hint \u001b[1m\u001b[32mtyping.Annotated[tuple, Is[lambda v: Diff.static_check_tree_diff(v)]]\u001b[0m, as \u001b[1m\u001b[33mtuple \u001b[0m\u001b[1m\u001b[31m(Mask(...), Mask(...))\u001b[0m violates validator Is[lambda v: Diff.static_check_tree_diff(v)]:\n    False == Is[lambda v: Diff.static_check_tree_diff(v)]."
     ]
    }
   ],
   "source": [
    "trace, weight = masked_scan_combinator(step, n=10).importance(\n",
    "    jax.random.PRNGKey(20), C.n(), (\n",
    "        2.,\n",
    "        Mask(jnp.arange(10) < 5, jnp.arange(10, dtype=float))\n",
    "    )\n",
    ")"
   ]
  },
  {
   "cell_type": "code",
   "execution_count": null,
   "metadata": {},
   "outputs": [],
   "source": []
  }
 ],
 "metadata": {
  "kernelspec": {
   "display_name": "b3d-2",
   "language": "python",
   "name": "python3"
  },
  "language_info": {
   "codemirror_mode": {
    "name": "ipython",
    "version": 3
   },
   "file_extension": ".py",
   "mimetype": "text/x-python",
   "name": "python",
   "nbconvert_exporter": "python",
   "pygments_lexer": "ipython3",
   "version": "3.12.4"
  }
 },
 "nbformat": 4,
 "nbformat_minor": 2
}
