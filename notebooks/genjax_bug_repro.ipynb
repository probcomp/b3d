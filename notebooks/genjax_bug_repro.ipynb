{
 "cells": [
  {
   "cell_type": "code",
   "execution_count": 2,
   "metadata": {},
   "outputs": [],
   "source": [
    "import jax\n",
    "import jax.numpy as jnp\n",
    "import genjax\n",
    "from genjax import gen, Mask\n",
    "from genjax import ChoiceMapBuilder as C\n",
    "genjax.pretty()\n",
    "\n",
    "def masked_scan_combinator(step, **scan_kwargs):\n",
    "    \"\"\"\n",
    "    Given a generative function `step` so that `step.scan(n=N)` is valid,\n",
    "    return a generative function accepting an input\n",
    "    `(initial_state, masked_input_values_array)` and returning a pair\n",
    "    `(masked_final_state, masked_returnvalue_sequence)`.\n",
    "    This operates similarly to `step.scan`, but the input values can be masked.\n",
    "    \"\"\"\n",
    "    mstep = step.mask().dimap(\n",
    "        pre=lambda masked_state, masked_inval: (\n",
    "            jnp.logical_and(masked_state.flag, masked_inval.flag),\n",
    "            masked_state.value,\n",
    "            masked_inval.value\n",
    "        ),\n",
    "        post=lambda args, masked_retval: (\n",
    "            Mask(masked_retval.flag, masked_retval.value[0]),\n",
    "            Mask(masked_retval.flag, masked_retval.value[1])\n",
    "        )\n",
    "    )\n",
    "\n",
    "    # This should be given a pair (\n",
    "    #     Mask(True, initial_state), \n",
    "    #     Mask(bools_indicating_active, input_vals)\n",
    "    # ).\n",
    "    # It will output a pair (masked_final_state, masked_returnvalue_sequence).\n",
    "    scanned = mstep.scan(**scan_kwargs)\n",
    "\n",
    "    scanned_nice = scanned.dimap(\n",
    "        pre=lambda initial_state, masked_input_values: (\n",
    "            Mask(True, initial_state),\n",
    "            Mask(masked_input_values.flag, masked_input_values.value)\n",
    "        ),\n",
    "        post=lambda args, retval: retval\n",
    "    )\n",
    "\n",
    "    return scanned_nice\n",
    "\n",
    "### Usage example ###\n",
    "@gen\n",
    "def step(state, sigma):\n",
    "    new_x = genjax.normal(state, sigma) @ \"x\"\n",
    "    return (new_x, new_x + 1)\n",
    "\n",
    "trace = masked_scan_combinator(step, n=10).simulate(\n",
    "    jax.random.PRNGKey(20), (\n",
    "        2.,\n",
    "        Mask(jnp.arange(10) < 5, jnp.arange(10, dtype=float))\n",
    "    )\n",
    ")"
   ]
  },
  {
   "cell_type": "code",
   "execution_count": 3,
   "metadata": {},
   "outputs": [],
   "source": [
    "trace = step.scan(n=0).simulate(jax.random.PRNGKey(20), (2., jnp.arange(0, dtype=float)))"
   ]
  },
  {
   "cell_type": "code",
   "execution_count": 4,
   "metadata": {},
   "outputs": [
    {
     "data": {
      "text/html": [
       "<div id=\"output_24a99058caa947b9ae63ac3fc98a6da6\"><script> /* penzai.treescope rendering of a Python object (compressed) */ (()=>{ let observer; let lastStep = new Promise((resolve, reject) => { observer = new IntersectionObserver((entries) => { for (const entry of entries) { if (entry.isIntersecting) { resolve(); observer.disconnect(); return; } } }, {rootMargin: \"1000px\"}); }); window.treescope_decompress_enqueue = (encoded, destId) => { const previous = lastStep; const destElt = document.getElementById(destId); lastStep = (async () => { await previous; let blob = new Blob([ Uint8Array.from(atob(encoded), (m) => m.codePointAt(0)) ]); let reader = blob.stream().pipeThrough( new DecompressionStream(\"deflate\") ).pipeThrough( new TextDecoderStream(\"utf-8\") ).getReader(); let parts = []; while (true) { let step = await reader.read(); if (step.done) { break; } parts.push(step.value); } let newElt = document.createElement(\"div\"); newElt.innerHTML = parts.join(\"\"); destElt.parentNode.replaceChild(newElt, destElt); for (let oldScript of newElt.querySelectorAll(\"script\")) { let newScript = document.createElement(\"script\"); newScript.type = oldScript.type; newScript.textContent = oldScript.textContent; oldScript.parentNode.replaceChild(newScript, oldScript); } })(); requestAnimationFrame(() => { observer.observe(destElt); }); } })(); </script><div id=\"compress_html_b77cc562e94044618d77eb0b5932bd8d\"><script>window.treescope_decompress_enqueue(\"eNrFV91v2zYQ/1euGpDKQa0k9rykkm0g6DrsodhLB+xhGwRaOllcaFIjqSRe4f99R0q2ZVtuM6zY7AeZx/v43bc8NXYtcB5ZjWgyVWGqlbLwCSpluOVKxqBRMMsfMYFCSTss2IqLdQwrJZWpWEb0p5JbHPpDDJUmiuDGDr3qoV1XRJVKEnnBsoelVrXMh5kSSseNaALtaSGIgfTx3JYxFNwSm7QobQIrppdcDgUWNoZRVjobEocl8mVJlJtoksBmetW4MzWZ5pWdAy8gfOIyV097D2E2mwFBwIIU5APy9ZQDPm2SE3KUVihzLpf3mYuMIbZff/8i249M5sKplLUQPdxLtOlR9GcQboOeWjWA2ZxAXl3CB6UeKAkabIngOaXKMYLLKxBooZXtiPrUkPGwuXs1g1xl9YoCGi1UvoaLC3jlbqJMMGM+UNIiF3DGpQmDQ1DBAFyotjacUMU0aXovcOUztCHLttbSX9Kxx1ddy49KSefgk9IPrWdk0lhC9guR3NUB2fLMESvU5PiKyQwjqZ7Cwc61kxsYNkJTGI8c5L4aOE5lJFAubUmlAdd9FfH5nDZ+uwigMLiHXtbSYf+icVPywjqXvIT7saHvSzGEW06Nf9Zo7L3kK+Y4ftBshWET18GgPyPHUKralE1ukpcEbgti1oTin4Tu5bB7gaMkqRq/xwK1xvxnXFVU9mhOC6gSjrgrfBLT648oMLNK3wtBhd7KdodgLVNDlRoMEt9woesv0gSq8Aqdo/Ts9I3GlXrEg67p6DjXCeEWq9NfaPUXuubwmpvBdwg3DJrB5lQ6CTp1Xcs0khttQ3Z56Vfk5jAxN0b8qaXjs33XGOtc74mJh9P0+k9u3GikaGX4jtovD0nDG8fg8nQ2V1Ytl6IZI6mf/paA+SlHFBT2DeAjaW9D4crOn6MHXLuODHSwHT3E3Il5ozcMdjrTFQEMtjg2QPugWQTTnD+CF5wdzzWwbEGA8XkWXAegJBkl9LLD148/tCU3W+QBrZxmkeZtQaY+SKUSOWpfi37BfcNu3bddpV4kBm6Z4BnhjQpiZwsy5eb6mSW8gUO2tEFH3Dk3ZHS9XbbHjDAHwRYo4niBVNPYQZX5T9Jrr9m4wxu3ctvFfJ3sbXHp9/BCKLe5z9osqTn0qeWc6QeDbEmhlqfSsVQ2PCKVzIRzr3PeGwcvE2clZg+03AdwOdhjcKL9Qlv+A4S+/GN4/dtosshe/5/wDoXOgvzuPwDp8ugM19q4BFaKEwLdY5ebr2fWt4I3NPT9Zs7V+NexunfPzcFTKxE3acG1samSqSv/ntb6XCtFo4nrpt5Uwb+G32T8GKLz6uAd2jd05425YhJ4Pgt2Ayy7vWMTxNFoUrz99vqGsZvRYnz7djIeFePx+O4uaIXasXrY98fmiblxYsplVdMupf0zCzzshXoOepW0HtJl4918euWF6dnq6trvG7zB/ELY5A/2HN1rzdZQCMXseERLN4oiuFjahPwnHfPjB62L3Z+IF796hIPdvvkb1FzAfw==\", \"compress_html_b77cc562e94044618d77eb0b5932bd8d\");</script><span style=\"color: #aaaaaa; font-family: monospace\">(Loading...)</span></div></div>"
      ],
      "text/plain": [
       "<IPython.core.display.HTML object>"
      ]
     },
     "metadata": {},
     "output_type": "display_data"
    },
    {
     "data": {
      "text/html": [
       "<div id=\"compress_html_eee03f270c244b1098c96924caf63d49\"><script>window.treescope_decompress_enqueue(\"eNrtGYly2kj2V3qU2rEYB8x92tQKzOUEOzZO7Hg2RTVSS2qjy60GjKfy7/O6xSVMiCfrydRWLa4Co373/Zpjg05RyOcOOVEMGgYOnleR53tEQdQ4UUyfDQ1iEsaIMdRLZVwgJJstmJV8OoNxJjvKlSqFXNbM5XLlslI/DgPswbugV0+NfM5916EeqXo+V1Om7xh45JCh5xukauNQrTt4RJx6/GTIfctyIpyqbhN9TIxEAv2WQH+gABsG9awk94MqSqcyBeLWkOCQtAm1bF5FmZR89jWl+w4Ij0cjRqaAKb9W0ZtiOYvT6TWA7rsu8fhwZhNvSB5BfoMYrybvkiuWrzVXb+KOCNsASFfKmUJxDRByBnpuUshlCpnCCgDcIdReA4wcrI9raATvFvMnnpFcHEwxU5PJkePr4+hRAqB8ZhAWWTETPKLQd6ixDzJy5feAv6KUPQ8IA8nGQ0Zcn5Oh7U9B0W2hn4vpjx3dVsv5fwm35gsok65EFGc4HIY68x0H0LmfMikL+ZBTffxiqpV8KiPopisokyumSjsJS//tZZd4xpAz7IWUU9+rPmOOMiEiOCRJ6iX9CX+LTN/jyZkM060z4VVbt4eQPToZOsTkG6EuvopYL+h2HI5JSmtAFiXACpJCJHtc5K1NndcL6VWVkL6vIRczC9SIxNSxo6tZ3UZJESqRneNyMOL9baIsgjUSxYCQJYaM2DckLf6EUR4m2PGwS4YBIyZ9BCLSLSF9IsJ05ah2hBwLPiuJV36POKA6ioP8dOOmU3ndjsz7HVl/jrGjmiCl2lkZYnVb6gFh6tjoN6RmQJ1NlAXdEKBIIpFY2WCNmnw57pLvsn5JzBXJ5dPk4vFPtOa6AksLJhk26CRcKJghLmj3bcWkpP+dEN8N8T9iTSLyr8ilFzSJ/cBfU0DxbxkK1k7eNxfIRg/CODgIoT5sBLYYe17DtN/mQD0hU9R9NueNb8C8hhy7WCwUjQBky4JpI9hpCs4ICXU/gHbj+zy1Ah66wBjtobCtKgj3XcCXMPsmnYXI/5b13IQGuaztJnapAwAHfcwJo9hBg7k78p0QXUy44G2gJsBBj4LPYH5QW7QEMcQKsszFTm2ze1dRXkyQIdOraMIc1cAcV8X50cw3zWxtBJ29mH9rpCudvqU1NPnqXWqaL/9rXM3gvdvWtJa279VwNc0a+++MXqvRnH3WtOvPzTOt32s0tbb12Ou+t3nY6FNi5dqnt9n3veLn6SCY0A/9wnXm7LZ39ak/vek/8Q/zdrt5eGONr2njNG3T08vJWcvo3Ke7oyNz2jOCh3dF++GG0stJ3+vYXfMj1z4WG+csr7V73rhV1D9OJt7hVeFBD8ezqdl2jh4erZZftkZns04509WOPO2q8J6xs8zVofWUvjLS2pmZsc5LzVnnPmul/fnkqlRyW5nirHtbubCsgFyP53nSGz0V9BG76HCsWZe989kpDufh5aTXu71ptWfah8ug99n4eHR0aJWuS7c5njbffXjQpgWg+V47L2n9meZaT1eDw8ndgLRuH7NmUX86z19154VJQ3v31LgP2kGOdi+brfTd5EN+UPLMxvtWt913NXpYnraytpexS4ejT7Pb+1mXTU87H5vevdlqWfzwQr9znFKh0jybNcp2Jd/vdwa5zp1mub3CfeOywq87pFtpNRq9Tu7Uyl8dfdbnI60DPv307ki77GCN9JuO1n1qXVh33Co2PlgXF73TxpheFki7cdtstHWaDmzmBx7ERnDXOs08ZcYDs2lye/7O6xq4HXbN9LnbaZ0XG4b28OlTgHk4uHMNA9NK1nyq5D/S+4di4LLihf+5OaCs407POrnBzSDXbmX1xqV5fdh1/KCTb4ezArYeimV6RwbnTnDjNbo9YvQZmdw8dJpu5qbNxoPBYyFbvLkJZxpIlICYh9jn6oEM64NXaTuQ3fPRBOq0t7PcrI+r1REB/tGGI7OzihSkbEHBJCZWzp3A/yGZvKHUfrQIQLKPxhQwZTFwoSDZ0GSqCHsc0CnkuFFbbWfLAVOfsFA8CHwKxFgtPl1WZAeKaRmtRzu0kHQNzMYhwRbURW8LUy4qukOFYVf42OSxrVKXr/08t3DiLDdNv+jmotolsQeOxWLxSWw+FkwgTDbXol270F9TZSUBOIYS45e4JJIl+oW6gc84+Gab9oj5Y9mOg/lC8RdZdwNtw56rPeL4KLrjOIZVkQa8PoMlx5+tG1jKhqYLqSDwI9XQCYLq5ulIjTgk0Ek9Ui/kSGhy7YvAA7CFBOJZSLgUSphUyIFnmHLk4Sm1MPdZCigHIx8zIzVjlJNr8sjVNS0xmUW0dAeH4Xsa8hSMSqqyYW8FgIDLNXUJOEZVF2I9wxPb/JQ8Q/36FmXT6bQsDTrmMP2rJLELX/LdMKqyFo6D1MvcO0EquPcNamMK+zfiPhLAv8ichKndg+3NmcPIEHKCDRETh5u2k2J8rYFzIq/I6ygkhThR4qPK4q5qefUVG1LB0caonC/g2q7xGxK5psRJxyofouEwujTwPXlPAMBRhTymXjDhiM8D4Chr4sh/VHYSWZRPQD2SSHF+60sWDosM4Yo0QnJM5tAg7BNlS7zYpcVi+Ebx+wblJbZaHG6t0Eo9IN4TphvBL3wWYPDR0AR/iYuRFPhEXg1GH+c+v1pSD4TSavz8+GhhsU2+2xsLim8syh7oZ6A+o7AAYmfISMBO/pJxUzHcXaZeXN4p9V/fPGZLNY0xPId99y0ypOtNx8c8l01Ep3HF3z53w2qRUOpoCfwMaDnlx8U5WBe0A+R7TZG3Jwd7ipQKPS5MHKBVZT1RVAe7IwMjMZFX5XvcAAllnUMrNOiz38UTLXa7mQCeTGRhafh/daF8tOfjB5xOjR91OTV2Ojy6zlXqlXwxV8ln0sViPptP/y+7lho/4ljA+gfdKrPrBx0rcPdV9dcv4nt+flD2hsGbnbHyrCrf48dl1ZUVaF9p3cf92fXt3nOl/noO2PwFB4qpw2vyAEWFU+gnFYu+/mrx2p4Q+gdTSWj2I8kk8V4rnV6aalt2evt/W77IbLERa/27J9r6tUapJ/6aJ2K3Xd9Nj1VK7Jo2nufH8sOg09Uis9wAor0kStqeEcJg/rvy8h+Cv9QifOEEQH22HQHRYfyyT0WGr09EKRSHLYeIfxvznqGuZPg9/UVcfUeUTYYtN9oYVog6I7Dcny6+thcQ6gpH8Gk6PrjlZIWfwgGMr0ZT1C5VxowuIM6hfKucTeRlO+zkSHUIRxQQYfuj6HhtmZRDPIvb8PTwUGw+Ai463OTyTZ3oF2AgcEJ/wnRySqebGm2hyZ/jxc6zhR99hR0tcCDUbii31RW56AfMBRWpptj4VqeLvU5uTtGl6waRlcHEcUIAbaxW31h8ifcwIRNyuoiVa+ICPU5CNbHC/RPON2dE\", \"compress_html_eee03f270c244b1098c96924caf63d49\");</script></div>"
      ],
      "text/plain": [
       "<IPython.core.display.HTML object>"
      ]
     },
     "metadata": {},
     "output_type": "display_data"
    },
    {
     "data": {
      "text/html": [
       "<div id=\"output_dest_24a99058caa947b9ae63ac3fc98a6da6\"><script> (()=>{ const output = document.getElementById(\"output_24a99058caa947b9ae63ac3fc98a6da6\"); const dest = document.getElementById(\"output_dest_24a99058caa947b9ae63ac3fc98a6da6\"); dest.parentNode.replaceChild(output, dest); })(); </script></div>"
      ],
      "text/plain": [
       "<jax.Array(0., dtype=float32)>"
      ]
     },
     "execution_count": 4,
     "metadata": {},
     "output_type": "execute_result"
    }
   ],
   "source": [
    "trace.get_score()"
   ]
  },
  {
   "cell_type": "code",
   "execution_count": 5,
   "metadata": {},
   "outputs": [],
   "source": [
    "step.scan(n=0).importance(jax.random.PRNGKey(20), C.n(), (2., jnp.arange(0, dtype=float)))\n",
    "None"
   ]
  },
  {
   "cell_type": "code",
   "execution_count": 8,
   "metadata": {},
   "outputs": [
    {
     "ename": "IndexError",
     "evalue": "index is out of bounds for axis 0 with size 0",
     "output_type": "error",
     "traceback": [
      "\u001b[0;31m---------------------------------------------------------------------------\u001b[0m",
      "\u001b[0;31mIndexError\u001b[0m                                Traceback (most recent call last)",
      "Cell \u001b[0;32mIn[8], line 1\u001b[0m\n\u001b[0;32m----> 1\u001b[0m \u001b[43mstep\u001b[49m\u001b[38;5;241;43m.\u001b[39;49m\u001b[43mscan\u001b[49m\u001b[43m(\u001b[49m\u001b[43mn\u001b[49m\u001b[38;5;241;43m=\u001b[39;49m\u001b[38;5;241;43m2\u001b[39;49m\u001b[43m)\u001b[49m\u001b[38;5;241;43m.\u001b[39;49m\u001b[43mimportance\u001b[49m\u001b[43m(\u001b[49m\u001b[43mjax\u001b[49m\u001b[38;5;241;43m.\u001b[39;49m\u001b[43mrandom\u001b[49m\u001b[38;5;241;43m.\u001b[39;49m\u001b[43mPRNGKey\u001b[49m\u001b[43m(\u001b[49m\u001b[38;5;241;43m20\u001b[39;49m\u001b[43m)\u001b[49m\u001b[43m,\u001b[49m\u001b[43m \u001b[49m\u001b[43mtrace\u001b[49m\u001b[38;5;241;43m.\u001b[39;49m\u001b[43mget_choices\u001b[49m\u001b[43m(\u001b[49m\u001b[43m)\u001b[49m\u001b[43m,\u001b[49m\u001b[43m \u001b[49m\u001b[43m(\u001b[49m\u001b[38;5;241;43m2.\u001b[39;49m\u001b[43m,\u001b[49m\u001b[43m \u001b[49m\u001b[43mjnp\u001b[49m\u001b[38;5;241;43m.\u001b[39;49m\u001b[43marange\u001b[49m\u001b[43m(\u001b[49m\u001b[38;5;241;43m2\u001b[39;49m\u001b[43m,\u001b[49m\u001b[43m \u001b[49m\u001b[43mdtype\u001b[49m\u001b[38;5;241;43m=\u001b[39;49m\u001b[38;5;28;43mfloat\u001b[39;49m\u001b[43m)\u001b[49m\u001b[43m)\u001b[49m\u001b[43m)\u001b[49m\n\u001b[1;32m      2\u001b[0m \u001b[38;5;28;01mNone\u001b[39;00m\n",
      "File \u001b[0;32m<@beartype(genjax._src.core.generative.core.GenerativeFunction.importance) at 0x7f6b238b91c0>:77\u001b[0m, in \u001b[0;36mimportance\u001b[0;34m(__beartype_object_140098134508608, __beartype_get_violation, __beartype_conf, __beartype_object_94639289566560, __beartype_object_94639289588352, __beartype_object_140098141445056, __beartype_object_140098139336000, __beartype_func, *args, **kwargs)\u001b[0m\n",
      "File \u001b[0;32m/opt/conda/envs/b3d-2/lib/python3.12/site-packages/genjax/_src/core/generative/core.py:790\u001b[0m, in \u001b[0;36mGenerativeFunction.importance\u001b[0;34m(self, key, constraint, args)\u001b[0m\n\u001b[1;32m    748\u001b[0m \u001b[38;5;129m@typecheck\u001b[39m\n\u001b[1;32m    749\u001b[0m \u001b[38;5;28;01mdef\u001b[39;00m \u001b[38;5;21mimportance\u001b[39m(\n\u001b[1;32m    750\u001b[0m     \u001b[38;5;28mself\u001b[39m,\n\u001b[0;32m   (...)\u001b[0m\n\u001b[1;32m    753\u001b[0m     args: Arguments,\n\u001b[1;32m    754\u001b[0m ) \u001b[38;5;241m-\u001b[39m\u001b[38;5;241m>\u001b[39m Tuple[Trace, Weight]:\n\u001b[1;32m    755\u001b[0m \u001b[38;5;250m    \u001b[39m\u001b[38;5;124;03m\"\"\"\u001b[39;00m\n\u001b[1;32m    756\u001b[0m \u001b[38;5;124;03m    Returns a properly weighted pair, a [`Trace`][genjax.core.Trace] and a [`Weight`][genjax.core.Weight], properly weighted for the target induced by the generative function for the provided constraint and arguments.\u001b[39;00m\n\u001b[1;32m    757\u001b[0m \n\u001b[0;32m   (...)\u001b[0m\n\u001b[1;32m    788\u001b[0m \u001b[38;5;124;03m    Under the hood, creates an [`UpdateProblem`][genjax.core.UpdateProblem] which requests that the generative function respond with a move from the _empty_ trace (the only possible value for _empty_ target $\\\\delta_\\\\emptyset$) to the target induced by the generative function for constraint $C$ with arguments $a$.\u001b[39;00m\n\u001b[1;32m    789\u001b[0m \u001b[38;5;124;03m    \"\"\"\u001b[39;00m\n\u001b[0;32m--> 790\u001b[0m     tr, w, _, _ \u001b[38;5;241m=\u001b[39m \u001b[38;5;28;43mself\u001b[39;49m\u001b[38;5;241;43m.\u001b[39;49m\u001b[43mupdate\u001b[49m\u001b[43m(\u001b[49m\n\u001b[1;32m    791\u001b[0m \u001b[43m        \u001b[49m\u001b[43mkey\u001b[49m\u001b[43m,\u001b[49m\n\u001b[1;32m    792\u001b[0m \u001b[43m        \u001b[49m\u001b[43mEmptyTrace\u001b[49m\u001b[43m(\u001b[49m\u001b[38;5;28;43mself\u001b[39;49m\u001b[43m)\u001b[49m\u001b[43m,\u001b[49m\n\u001b[1;32m    793\u001b[0m \u001b[43m        \u001b[49m\u001b[43mGenericProblem\u001b[49m\u001b[43m(\u001b[49m\u001b[43mDiff\u001b[49m\u001b[38;5;241;43m.\u001b[39;49m\u001b[43munknown_change\u001b[49m\u001b[43m(\u001b[49m\u001b[43margs\u001b[49m\u001b[43m)\u001b[49m\u001b[43m,\u001b[49m\u001b[43m \u001b[49m\u001b[43mImportanceProblem\u001b[49m\u001b[43m(\u001b[49m\u001b[43mconstraint\u001b[49m\u001b[43m)\u001b[49m\u001b[43m)\u001b[49m\u001b[43m,\u001b[49m\n\u001b[1;32m    794\u001b[0m \u001b[43m    \u001b[49m\u001b[43m)\u001b[49m\n\u001b[1;32m    795\u001b[0m     \u001b[38;5;28;01mreturn\u001b[39;00m tr, w\n",
      "    \u001b[0;31m[... skipping hidden 1 frame]\u001b[0m\n",
      "File \u001b[0;32m<@beartype(genjax._src.generative_functions.combinators.scan.ScanCombinator.update) at 0x7f6a8db419e0>:78\u001b[0m, in \u001b[0;36mupdate\u001b[0;34m(__beartype_object_140098134508608, __beartype_get_violation, __beartype_conf, __beartype_object_94639289588352, __beartype_object_94639289553136, __beartype_object_140098141445056, __beartype_object_140098134443008, __beartype_object_140098139336000, __beartype_func, *args, **kwargs)\u001b[0m\n",
      "File \u001b[0;32m/opt/conda/envs/b3d-2/lib/python3.12/site-packages/genjax/_src/generative_functions/combinators/scan.py:441\u001b[0m, in \u001b[0;36mScanCombinator.update\u001b[0;34m(self, key, trace, update_problem)\u001b[0m\n\u001b[1;32m    439\u001b[0m \u001b[38;5;28;01mmatch\u001b[39;00m update_problem:\n\u001b[1;32m    440\u001b[0m     \u001b[38;5;28;01mcase\u001b[39;00m GenericProblem(argdiffs, subproblem):\n\u001b[0;32m--> 441\u001b[0m         \u001b[38;5;28;01mreturn\u001b[39;00m \u001b[38;5;28;43mself\u001b[39;49m\u001b[38;5;241;43m.\u001b[39;49m\u001b[43mupdate_change_target\u001b[49m\u001b[43m(\u001b[49m\u001b[43mkey\u001b[49m\u001b[43m,\u001b[49m\u001b[43m \u001b[49m\u001b[43mtrace\u001b[49m\u001b[43m,\u001b[49m\u001b[43m \u001b[49m\u001b[43msubproblem\u001b[49m\u001b[43m,\u001b[49m\u001b[43m \u001b[49m\u001b[43margdiffs\u001b[49m\u001b[43m)\u001b[49m\n\u001b[1;32m    443\u001b[0m     \u001b[38;5;28;01mcase\u001b[39;00m\u001b[38;5;250m \u001b[39m\u001b[38;5;28;01m_\u001b[39;00m:\n\u001b[1;32m    444\u001b[0m         \u001b[38;5;28;01mreturn\u001b[39;00m \u001b[38;5;28mself\u001b[39m\u001b[38;5;241m.\u001b[39mupdate(\n\u001b[1;32m    445\u001b[0m             key,\n\u001b[1;32m    446\u001b[0m             trace,\n\u001b[0;32m   (...)\u001b[0m\n\u001b[1;32m    450\u001b[0m             ),\n\u001b[1;32m    451\u001b[0m         )\n",
      "File \u001b[0;32m<@beartype(genjax._src.generative_functions.combinators.scan.ScanCombinator.update_change_target) at 0x7f6a8db418a0>:103\u001b[0m, in \u001b[0;36mupdate_change_target\u001b[0;34m(__beartype_object_140098134508608, __beartype_get_violation, __beartype_conf, __beartype_object_94639289588352, __beartype_object_94639289553136, __beartype_object_140098134442368, __beartype_object_140098141445056, __beartype_object_140098134443008, __beartype_object_140098139336000, __beartype_func, *args, **kwargs)\u001b[0m\n",
      "File \u001b[0;32m/opt/conda/envs/b3d-2/lib/python3.12/site-packages/genjax/_src/generative_functions/combinators/scan.py:418\u001b[0m, in \u001b[0;36mScanCombinator.update_change_target\u001b[0;34m(self, key, trace, update_problem, argdiffs)\u001b[0m\n\u001b[1;32m    416\u001b[0m \u001b[38;5;28;01mmatch\u001b[39;00m update_problem:\n\u001b[1;32m    417\u001b[0m     \u001b[38;5;28;01mcase\u001b[39;00m ImportanceProblem(constraint) \u001b[38;5;28;01mif\u001b[39;00m \u001b[38;5;28misinstance\u001b[39m(constraint, ChoiceMap):\n\u001b[0;32m--> 418\u001b[0m         \u001b[38;5;28;01mreturn\u001b[39;00m \u001b[38;5;28;43mself\u001b[39;49m\u001b[38;5;241;43m.\u001b[39;49m\u001b[43mupdate_importance\u001b[49m\u001b[43m(\u001b[49m\n\u001b[1;32m    419\u001b[0m \u001b[43m            \u001b[49m\u001b[43mkey\u001b[49m\u001b[43m,\u001b[49m\u001b[43m \u001b[49m\u001b[43mconstraint\u001b[49m\u001b[43m,\u001b[49m\u001b[43m \u001b[49m\u001b[43mDiff\u001b[49m\u001b[38;5;241;43m.\u001b[39;49m\u001b[43mtree_primal\u001b[49m\u001b[43m(\u001b[49m\u001b[43margdiffs\u001b[49m\u001b[43m)\u001b[49m\n\u001b[1;32m    420\u001b[0m \u001b[43m        \u001b[49m\u001b[43m)\u001b[49m\n\u001b[1;32m    421\u001b[0m     \u001b[38;5;28;01mcase\u001b[39;00m IndexProblem(index, subproblem):\n\u001b[1;32m    422\u001b[0m         \u001b[38;5;28;01mif\u001b[39;00m Diff\u001b[38;5;241m.\u001b[39mstatic_check_no_change(argdiffs):\n",
      "File \u001b[0;32m<@beartype(genjax._src.generative_functions.combinators.scan.ScanCombinator.update_importance) at 0x7f6a8db41120>:79\u001b[0m, in \u001b[0;36mupdate_importance\u001b[0;34m(__beartype_object_140098134508608, __beartype_get_violation, __beartype_conf, __beartype_object_94639289843904, __beartype_object_94639289588352, __beartype_object_140098141445056, __beartype_object_140098134443008, __beartype_object_94639289553136, __beartype_object_140098139336000, __beartype_func, *args, **kwargs)\u001b[0m\n",
      "File \u001b[0;32m/opt/conda/envs/b3d-2/lib/python3.12/site-packages/genjax/_src/generative_functions/combinators/scan.py:245\u001b[0m, in \u001b[0;36mScanCombinator.update_importance\u001b[0;34m(self, key, constraint, args)\u001b[0m\n\u001b[1;32m    241\u001b[0m     bwd_problem \u001b[38;5;241m=\u001b[39m ChoiceMap\u001b[38;5;241m.\u001b[39midx(idx, inner_bwd_problem)\n\u001b[1;32m    243\u001b[0m     \u001b[38;5;28;01mreturn\u001b[39;00m (key, idx \u001b[38;5;241m+\u001b[39m \u001b[38;5;241m1\u001b[39m, carry), (tr, scanned_out, score, w, bwd_problem)\n\u001b[0;32m--> 245\u001b[0m (_, _, carried_out), (tr, scanned_out, scores, ws, bwd_problems) \u001b[38;5;241m=\u001b[39m \u001b[43mjax\u001b[49m\u001b[38;5;241;43m.\u001b[39;49m\u001b[43mlax\u001b[49m\u001b[38;5;241;43m.\u001b[39;49m\u001b[43mscan\u001b[49m\u001b[43m(\u001b[49m\n\u001b[1;32m    246\u001b[0m \u001b[43m    \u001b[49m\u001b[43m_importance\u001b[49m\u001b[43m,\u001b[49m\n\u001b[1;32m    247\u001b[0m \u001b[43m    \u001b[49m\u001b[43m(\u001b[49m\u001b[43mkey\u001b[49m\u001b[43m,\u001b[49m\u001b[43m \u001b[49m\u001b[38;5;241;43m0\u001b[39;49m\u001b[43m,\u001b[49m\u001b[43m \u001b[49m\u001b[43mcarry\u001b[49m\u001b[43m)\u001b[49m\u001b[43m,\u001b[49m\n\u001b[1;32m    248\u001b[0m \u001b[43m    \u001b[49m\u001b[43mscanned_in\u001b[49m\u001b[43m,\u001b[49m\n\u001b[1;32m    249\u001b[0m \u001b[43m    \u001b[49m\u001b[43mlength\u001b[49m\u001b[38;5;241;43m=\u001b[39;49m\u001b[38;5;28;43mself\u001b[39;49m\u001b[38;5;241;43m.\u001b[39;49m\u001b[43mmax_length\u001b[49m\u001b[43m,\u001b[49m\n\u001b[1;32m    250\u001b[0m \u001b[43m\u001b[49m\u001b[43m)\u001b[49m\n\u001b[1;32m    251\u001b[0m \u001b[38;5;28;01mreturn\u001b[39;00m (\n\u001b[1;32m    252\u001b[0m     ScanTrace(\u001b[38;5;28mself\u001b[39m, tr, args, (carried_out, scanned_out), jnp\u001b[38;5;241m.\u001b[39msum(scores)),\n\u001b[1;32m    253\u001b[0m     jnp\u001b[38;5;241m.\u001b[39msum(ws),\n\u001b[1;32m    254\u001b[0m     Diff\u001b[38;5;241m.\u001b[39munknown_change((carried_out, scanned_out)),\n\u001b[1;32m    255\u001b[0m     bwd_problems,\n\u001b[1;32m    256\u001b[0m )\n",
      "    \u001b[0;31m[... skipping hidden 9 frame]\u001b[0m\n",
      "File \u001b[0;32m/opt/conda/envs/b3d-2/lib/python3.12/site-packages/genjax/_src/generative_functions/combinators/scan.py:237\u001b[0m, in \u001b[0;36mScanCombinator.update_importance.<locals>._importance\u001b[0;34m(carry, scanned_over)\u001b[0m\n\u001b[1;32m    235\u001b[0m key, idx, carried_value \u001b[38;5;241m=\u001b[39m carry\n\u001b[1;32m    236\u001b[0m key \u001b[38;5;241m=\u001b[39m jax\u001b[38;5;241m.\u001b[39mrandom\u001b[38;5;241m.\u001b[39mfold_in(key, idx)\n\u001b[0;32m--> 237\u001b[0m submap \u001b[38;5;241m=\u001b[39m \u001b[43mconstraint\u001b[49m\u001b[38;5;241;43m.\u001b[39;49m\u001b[43mget_submap\u001b[49m\u001b[43m(\u001b[49m\u001b[43midx\u001b[49m\u001b[43m)\u001b[49m\n\u001b[1;32m    238\u001b[0m (carry, score), (tr, scanned_out, w, inner_bwd_problem) \u001b[38;5;241m=\u001b[39m _inner_importance(\n\u001b[1;32m    239\u001b[0m     key, submap, carried_value, scanned_over\n\u001b[1;32m    240\u001b[0m )\n\u001b[1;32m    241\u001b[0m bwd_problem \u001b[38;5;241m=\u001b[39m ChoiceMap\u001b[38;5;241m.\u001b[39midx(idx, inner_bwd_problem)\n",
      "File \u001b[0;32m/opt/conda/envs/b3d-2/lib/python3.12/site-packages/genjax/_src/core/generative/choice_map.py:766\u001b[0m, in \u001b[0;36mIdxChm.get_submap\u001b[0;34m(self, addr)\u001b[0m\n\u001b[1;32m    757\u001b[0m     \u001b[38;5;28;01mreturn\u001b[39;00m jnp\u001b[38;5;241m.\u001b[39marray(idx \u001b[38;5;241m==\u001b[39m addr, copy\u001b[38;5;241m=\u001b[39m\u001b[38;5;28;01mFalse\u001b[39;00m)\n\u001b[1;32m    759\u001b[0m check \u001b[38;5;241m=\u001b[39m (\n\u001b[1;32m    760\u001b[0m     jax\u001b[38;5;241m.\u001b[39mvmap(check_fn, in_axes\u001b[38;5;241m=\u001b[39m(\u001b[38;5;28;01mNone\u001b[39;00m, \u001b[38;5;241m0\u001b[39m))(addr, \u001b[38;5;28mself\u001b[39m\u001b[38;5;241m.\u001b[39maddr)\n\u001b[1;32m    761\u001b[0m     \u001b[38;5;28;01mif\u001b[39;00m jnp\u001b[38;5;241m.\u001b[39marray(\u001b[38;5;28mself\u001b[39m\u001b[38;5;241m.\u001b[39maddr, copy\u001b[38;5;241m=\u001b[39m\u001b[38;5;28;01mFalse\u001b[39;00m)\u001b[38;5;241m.\u001b[39mshape\n\u001b[1;32m    762\u001b[0m     \u001b[38;5;28;01melse\u001b[39;00m check_fn(addr, \u001b[38;5;28mself\u001b[39m\u001b[38;5;241m.\u001b[39maddr)\n\u001b[1;32m    763\u001b[0m )\n\u001b[1;32m    765\u001b[0m \u001b[38;5;28;01mreturn\u001b[39;00m (\n\u001b[0;32m--> 766\u001b[0m     choice_map_masked(\u001b[43mcheck\u001b[49m\u001b[43m[\u001b[49m\u001b[43maddr\u001b[49m\u001b[43m]\u001b[49m, jtu\u001b[38;5;241m.\u001b[39mtree_map(\u001b[38;5;28;01mlambda\u001b[39;00m v: v[addr], \u001b[38;5;28mself\u001b[39m\u001b[38;5;241m.\u001b[39mc))\n\u001b[1;32m    767\u001b[0m     \u001b[38;5;28;01mif\u001b[39;00m jnp\u001b[38;5;241m.\u001b[39marray(check, copy\u001b[38;5;241m=\u001b[39m\u001b[38;5;28;01mFalse\u001b[39;00m)\u001b[38;5;241m.\u001b[39mshape\n\u001b[1;32m    768\u001b[0m     \u001b[38;5;28;01melse\u001b[39;00m choice_map_masked(check, \u001b[38;5;28mself\u001b[39m\u001b[38;5;241m.\u001b[39mc)\n\u001b[1;32m    769\u001b[0m )\n",
      "File \u001b[0;32m/opt/conda/envs/b3d-2/lib/python3.12/site-packages/jax/_src/numpy/array_methods.py:739\u001b[0m, in \u001b[0;36m_forward_operator_to_aval.<locals>.op\u001b[0;34m(self, *args)\u001b[0m\n\u001b[1;32m    738\u001b[0m \u001b[38;5;28;01mdef\u001b[39;00m \u001b[38;5;21mop\u001b[39m(\u001b[38;5;28mself\u001b[39m, \u001b[38;5;241m*\u001b[39margs):\n\u001b[0;32m--> 739\u001b[0m   \u001b[38;5;28;01mreturn\u001b[39;00m \u001b[38;5;28;43mgetattr\u001b[39;49m\u001b[43m(\u001b[49m\u001b[38;5;28;43mself\u001b[39;49m\u001b[38;5;241;43m.\u001b[39;49m\u001b[43maval\u001b[49m\u001b[43m,\u001b[49m\u001b[43m \u001b[49m\u001b[38;5;124;43mf\u001b[39;49m\u001b[38;5;124;43m\"\u001b[39;49m\u001b[38;5;124;43m_\u001b[39;49m\u001b[38;5;132;43;01m{\u001b[39;49;00m\u001b[43mname\u001b[49m\u001b[38;5;132;43;01m}\u001b[39;49;00m\u001b[38;5;124;43m\"\u001b[39;49m\u001b[43m)\u001b[49m\u001b[43m(\u001b[49m\u001b[38;5;28;43mself\u001b[39;49m\u001b[43m,\u001b[49m\u001b[43m \u001b[49m\u001b[38;5;241;43m*\u001b[39;49m\u001b[43margs\u001b[49m\u001b[43m)\u001b[49m\n",
      "File \u001b[0;32m/opt/conda/envs/b3d-2/lib/python3.12/site-packages/jax/_src/numpy/array_methods.py:352\u001b[0m, in \u001b[0;36m_getitem\u001b[0;34m(self, item)\u001b[0m\n\u001b[1;32m    351\u001b[0m \u001b[38;5;28;01mdef\u001b[39;00m \u001b[38;5;21m_getitem\u001b[39m(\u001b[38;5;28mself\u001b[39m, item):\n\u001b[0;32m--> 352\u001b[0m   \u001b[38;5;28;01mreturn\u001b[39;00m \u001b[43mlax_numpy\u001b[49m\u001b[38;5;241;43m.\u001b[39;49m\u001b[43m_rewriting_take\u001b[49m\u001b[43m(\u001b[49m\u001b[38;5;28;43mself\u001b[39;49m\u001b[43m,\u001b[49m\u001b[43m \u001b[49m\u001b[43mitem\u001b[49m\u001b[43m)\u001b[49m\n",
      "File \u001b[0;32m/opt/conda/envs/b3d-2/lib/python3.12/site-packages/jax/_src/numpy/lax_numpy.py:5616\u001b[0m, in \u001b[0;36m_rewriting_take\u001b[0;34m(arr, idx, indices_are_sorted, unique_indices, mode, fill_value)\u001b[0m\n\u001b[1;32m   5613\u001b[0m       \u001b[38;5;28;01mreturn\u001b[39;00m lax\u001b[38;5;241m.\u001b[39mdynamic_index_in_dim(arr, idx, keepdims\u001b[38;5;241m=\u001b[39m\u001b[38;5;28;01mFalse\u001b[39;00m)\n\u001b[1;32m   5615\u001b[0m treedef, static_idx, dynamic_idx \u001b[38;5;241m=\u001b[39m _split_index_for_jit(idx, arr\u001b[38;5;241m.\u001b[39mshape)\n\u001b[0;32m-> 5616\u001b[0m \u001b[38;5;28;01mreturn\u001b[39;00m \u001b[43m_gather\u001b[49m\u001b[43m(\u001b[49m\u001b[43marr\u001b[49m\u001b[43m,\u001b[49m\u001b[43m \u001b[49m\u001b[43mtreedef\u001b[49m\u001b[43m,\u001b[49m\u001b[43m \u001b[49m\u001b[43mstatic_idx\u001b[49m\u001b[43m,\u001b[49m\u001b[43m \u001b[49m\u001b[43mdynamic_idx\u001b[49m\u001b[43m,\u001b[49m\u001b[43m \u001b[49m\u001b[43mindices_are_sorted\u001b[49m\u001b[43m,\u001b[49m\n\u001b[1;32m   5617\u001b[0m \u001b[43m               \u001b[49m\u001b[43munique_indices\u001b[49m\u001b[43m,\u001b[49m\u001b[43m \u001b[49m\u001b[43mmode\u001b[49m\u001b[43m,\u001b[49m\u001b[43m \u001b[49m\u001b[43mfill_value\u001b[49m\u001b[43m)\u001b[49m\n",
      "File \u001b[0;32m/opt/conda/envs/b3d-2/lib/python3.12/site-packages/jax/_src/numpy/lax_numpy.py:5625\u001b[0m, in \u001b[0;36m_gather\u001b[0;34m(arr, treedef, static_idx, dynamic_idx, indices_are_sorted, unique_indices, mode, fill_value)\u001b[0m\n\u001b[1;32m   5622\u001b[0m \u001b[38;5;28;01mdef\u001b[39;00m \u001b[38;5;21m_gather\u001b[39m(arr, treedef, static_idx, dynamic_idx, indices_are_sorted,\n\u001b[1;32m   5623\u001b[0m             unique_indices, mode, fill_value):\n\u001b[1;32m   5624\u001b[0m   idx \u001b[38;5;241m=\u001b[39m _merge_static_and_dynamic_indices(treedef, static_idx, dynamic_idx)\n\u001b[0;32m-> 5625\u001b[0m   indexer \u001b[38;5;241m=\u001b[39m \u001b[43m_index_to_gather\u001b[49m\u001b[43m(\u001b[49m\u001b[43mshape\u001b[49m\u001b[43m(\u001b[49m\u001b[43marr\u001b[49m\u001b[43m)\u001b[49m\u001b[43m,\u001b[49m\u001b[43m \u001b[49m\u001b[43midx\u001b[49m\u001b[43m)\u001b[49m  \u001b[38;5;66;03m# shared with _scatter_update\u001b[39;00m\n\u001b[1;32m   5626\u001b[0m   y \u001b[38;5;241m=\u001b[39m arr\n\u001b[1;32m   5628\u001b[0m   \u001b[38;5;28;01mif\u001b[39;00m fill_value \u001b[38;5;129;01mis\u001b[39;00m \u001b[38;5;129;01mnot\u001b[39;00m \u001b[38;5;28;01mNone\u001b[39;00m:\n",
      "File \u001b[0;32m/opt/conda/envs/b3d-2/lib/python3.12/site-packages/jax/_src/numpy/lax_numpy.py:5843\u001b[0m, in \u001b[0;36m_index_to_gather\u001b[0;34m(x_shape, idx, normalize_indices)\u001b[0m\n\u001b[1;32m   5840\u001b[0m \u001b[38;5;28;01mif\u001b[39;00m \u001b[38;5;28misinstance\u001b[39m(abstract_i, (ConcreteArray, ShapedArray)) \u001b[38;5;129;01mand\u001b[39;00m _int(abstract_i):\n\u001b[1;32m   5841\u001b[0m   \u001b[38;5;28;01mif\u001b[39;00m core\u001b[38;5;241m.\u001b[39mdefinitely_equal(x_shape[x_axis], \u001b[38;5;241m0\u001b[39m):\n\u001b[1;32m   5842\u001b[0m     \u001b[38;5;66;03m# XLA gives error when indexing into an axis of size 0\u001b[39;00m\n\u001b[0;32m-> 5843\u001b[0m     \u001b[38;5;28;01mraise\u001b[39;00m \u001b[38;5;167;01mIndexError\u001b[39;00m(\u001b[38;5;124mf\u001b[39m\u001b[38;5;124m\"\u001b[39m\u001b[38;5;124mindex is out of bounds for axis \u001b[39m\u001b[38;5;132;01m{\u001b[39;00mx_axis\u001b[38;5;132;01m}\u001b[39;00m\u001b[38;5;124m with size 0\u001b[39m\u001b[38;5;124m\"\u001b[39m)\n\u001b[1;32m   5844\u001b[0m   i \u001b[38;5;241m=\u001b[39m _normalize_index(i, x_shape[x_axis]) \u001b[38;5;28;01mif\u001b[39;00m normalize_indices \u001b[38;5;28;01melse\u001b[39;00m i\n\u001b[1;32m   5845\u001b[0m   i_converted \u001b[38;5;241m=\u001b[39m lax\u001b[38;5;241m.\u001b[39mconvert_element_type(i, index_dtype)\n",
      "\u001b[0;31mIndexError\u001b[0m: index is out of bounds for axis 0 with size 0"
     ]
    }
   ],
   "source": [
    "step.scan(n=2).importance(jax.random.PRNGKey(20), trace.get_choices(), (2., jnp.arange(2, dtype=float)))\n",
    "None"
   ]
  },
  {
   "cell_type": "code",
   "execution_count": 12,
   "metadata": {},
   "outputs": [],
   "source": [
    "@gen\n",
    "def foo(length_const):\n",
    "    x = step.scan(n=length_const.const)(2., jnp.arange(length_const.const, dtype=float)) @ \"x\"\n",
    "    y = genjax.normal(0., 1.) @ \"y\"\n",
    "    return y"
   ]
  },
  {
   "cell_type": "code",
   "execution_count": 15,
   "metadata": {},
   "outputs": [],
   "source": [
    "trace = foo.simulate(jax.random.PRNGKey(20), (genjax.Pytree.const(0),))"
   ]
  },
  {
   "cell_type": "code",
   "execution_count": 19,
   "metadata": {},
   "outputs": [],
   "source": [
    "trace2 = foo.importance(jax.random.PRNGKey(20), C[\"y\"].set(2.), (genjax.Pytree.const(2),))"
   ]
  },
  {
   "cell_type": "code",
   "execution_count": null,
   "metadata": {},
   "outputs": [],
   "source": []
  }
 ],
 "metadata": {
  "kernelspec": {
   "display_name": "b3d-2",
   "language": "python",
   "name": "python3"
  },
  "language_info": {
   "codemirror_mode": {
    "name": "ipython",
    "version": 3
   },
   "file_extension": ".py",
   "mimetype": "text/x-python",
   "name": "python",
   "nbconvert_exporter": "python",
   "pygments_lexer": "ipython3",
   "version": "3.12.4"
  }
 },
 "nbformat": 4,
 "nbformat_minor": 2
}
