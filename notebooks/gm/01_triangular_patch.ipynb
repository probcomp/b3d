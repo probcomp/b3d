{
 "cells": [
  {
   "cell_type": "code",
   "execution_count": 1,
   "metadata": {},
   "outputs": [],
   "source": [
    "%load_ext autoreload\n",
    "%autoreload 2"
   ]
  },
  {
   "cell_type": "code",
   "execution_count": 10,
   "metadata": {},
   "outputs": [],
   "source": [
    "import b3d\n",
    "import sys\n",
    "import jax\n",
    "import jax.numpy as jnp\n",
    "import genjax\n",
    "import rerun as rr\n",
    "sys.path.append(str(b3d.get_root_path()))\n",
    "from tests.sama4d.data_curation import get_loaders_for_curated_unity_scenes\n",
    "from tests.sama4d.video_to_tracks.keypoint_tracking_task import KeypointTrackingTask\n",
    "\n",
    "genjax.pretty()"
   ]
  },
  {
   "cell_type": "code",
   "execution_count": 118,
   "metadata": {},
   "outputs": [],
   "source": [
    "scene_spec = get_loaders_for_curated_unity_scenes()[0]\n",
    "# For this task, I have found that all the keypoint indices between 206 and 215\n",
    "# are on a relatively textured object which is moving over time.\n",
    "task = KeypointTrackingTask(\n",
    "    (lambda: (\n",
    "        scene_spec[\"feature_track_data_loader\"]()\n",
    "        .remove_points_invisible_at_frame0()\n",
    "        .sparsify_points_to_minimum_2D_distance_at_frame0(5)\n",
    "        .slice_keypoints(jnp.array([210]))\n",
    "    )),\n",
    "    scene_name=scene_spec[\"scene_name\"],\n",
    "    preprocessing_fn=(lambda x: x),\n",
    "    n_frames=20\n",
    ")"
   ]
  },
  {
   "cell_type": "code",
   "execution_count": 122,
   "metadata": {},
   "outputs": [],
   "source": [
    "rr.init(f'triangle-fitting-03')\n",
    "rr.connect(\"127.0.0.1:8812\")\n",
    "rr.send_blueprint(task.get_rr_blueprint())\n",
    "task.visualize_task()"
   ]
  },
  {
   "cell_type": "code",
   "execution_count": null,
   "metadata": {},
   "outputs": [],
   "source": []
  }
 ],
 "metadata": {
  "kernelspec": {
   "display_name": "b3d-2",
   "language": "python",
   "name": "python3"
  },
  "language_info": {
   "codemirror_mode": {
    "name": "ipython",
    "version": 3
   },
   "file_extension": ".py",
   "mimetype": "text/x-python",
   "name": "python",
   "nbconvert_exporter": "python",
   "pygments_lexer": "ipython3",
   "version": "3.12.4"
  }
 },
 "nbformat": 4,
 "nbformat_minor": 2
}
