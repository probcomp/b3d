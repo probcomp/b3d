{
 "cells": [
  {
   "cell_type": "code",
   "execution_count": 2,
   "metadata": {},
   "outputs": [],
   "source": [
    "%load_ext autoreload\n",
    "%autoreload 2"
   ]
  },
  {
   "cell_type": "code",
   "execution_count": 3,
   "metadata": {},
   "outputs": [],
   "source": [
    "import b3d\n",
    "import matplotlib.pyplot as plt\n",
    "import jax.numpy as jnp\n",
    "import jax\n",
    "import rerun as rr\n",
    "import sys\n",
    "\n",
    "sys.path.append(str(b3d.get_root_path()))"
   ]
  },
  {
   "cell_type": "code",
   "execution_count": 4,
   "metadata": {},
   "outputs": [],
   "source": [
    "from tests.sama4d.video_to_tracks.registration import get_curated_single_patch_tracking_tasks\n",
    "from tests.sama4d.video_to_tracks.solvers.twod.single_patch_tracker import SinglePatchTracker2D\n",
    "tasks = get_curated_single_patch_tracking_tasks()\n",
    "solver = SinglePatchTracker2D()"
   ]
  },
  {
   "cell_type": "code",
   "execution_count": 16,
   "metadata": {},
   "outputs": [
    {
     "name": "stdout",
     "output_type": "stream",
     "text": [
      "Task 00: KeypointTrackingTask[pan_through_plantroom.npz]()\n",
      "Metrics: {'mean_distance_error': Array(nan, dtype=float32), 'n_errors_above_threshold_per_frame': Array([0, 0, 0, 0, 0, 0, 0, 0, 0, 0, 0, 0, 0, 0, 0, 0, 0, 0, 1, 0], dtype=int32)}\n",
      "Task 01: KeypointTrackingTask[pan_through_plantroom.npz]()\n",
      "Metrics: {'mean_distance_error': Array(57.832775, dtype=float32), 'n_errors_above_threshold_per_frame': Array([0, 1, 1, 1, 1, 0, 0, 0, 0, 0, 0, 0, 0, 0, 1, 1, 1, 1, 1, 1], dtype=int32)}\n",
      "Task 02: KeypointTrackingTask[pan_through_plantroom.npz]()\n",
      "Metrics: {'mean_distance_error': Array(1.6535362, dtype=float32), 'n_errors_above_threshold_per_frame': Array([0, 0, 0, 0, 0, 0, 0, 0, 0, 0, 0, 0, 0, 0, 0, 0, 0, 0, 0, 0], dtype=int32)}\n",
      "Task 03: KeypointTrackingTask[pan_through_plantroom.npz]()\n",
      "Metrics: {'mean_distance_error': Array(1.8179318, dtype=float32), 'n_errors_above_threshold_per_frame': Array([0, 0, 0, 0, 0, 0, 0, 0, 0, 0, 0, 0, 0, 0, 0, 0, 0, 0, 1, 1], dtype=int32)}\n",
      "Task 04: KeypointTrackingTask[pan_through_plantroom.npz]()\n",
      "Metrics: {'mean_distance_error': Array(2.9538, dtype=float32), 'n_errors_above_threshold_per_frame': Array([0, 0, 0, 0, 0, 0, 0, 0, 0, 0, 1, 0, 1, 1, 1, 1, 1, 1, 1, 1], dtype=int32)}\n",
      "Task 05: KeypointTrackingTask[pan_through_plantroom.npz]()\n",
      "Metrics: {'mean_distance_error': Array(0.47859702, dtype=float32), 'n_errors_above_threshold_per_frame': Array([0, 0, 0, 0, 0, 0, 0, 0, 0, 0, 0, 0, 0, 0, 0, 0, 0, 0, 0, 0], dtype=int32)}\n",
      "Task 06: KeypointTrackingTask[pan_around_blocks.npz]()\n",
      "Metrics: {'mean_distance_error': Array(2.0207322, dtype=float32), 'n_errors_above_threshold_per_frame': Array([0, 0, 0, 0, 0, 0, 0, 0, 0, 0, 0, 0, 0, 0, 0, 1, 1, 1, 1, 1], dtype=int32)}\n",
      "Task 07: KeypointTrackingTask[pan_around_blocks.npz]()\n",
      "Metrics: {'mean_distance_error': Array(45.09784, dtype=float32), 'n_errors_above_threshold_per_frame': Array([0, 0, 0, 0, 0, 0, 0, 0, 1, 1, 1, 1, 1, 1, 1, 1, 1, 1, 1, 1], dtype=int32)}\n",
      "Task 08: KeypointTrackingTask[pan_around_blocks.npz]()\n",
      "Metrics: {'mean_distance_error': Array(16.638441, dtype=float32), 'n_errors_above_threshold_per_frame': Array([0, 0, 0, 0, 0, 0, 0, 0, 0, 0, 0, 0, 0, 1, 0, 0, 0, 1, 1, 1], dtype=int32)}\n",
      "Task 09: KeypointTrackingTask[pan_around_blocks.npz]()\n",
      "Metrics: {'mean_distance_error': Array(9.097379, dtype=float32), 'n_errors_above_threshold_per_frame': Array([0, 0, 0, 1, 0, 1, 0, 0, 0, 0, 0, 0, 1, 1, 1, 1, 1, 1, 1, 1], dtype=int32)}\n",
      "Task 10: KeypointTrackingTask[pan_around_blocks.npz]()\n",
      "Metrics: {'mean_distance_error': Array(9.634666, dtype=float32), 'n_errors_above_threshold_per_frame': Array([0, 0, 0, 0, 0, 0, 0, 0, 1, 1, 1, 1, 1, 1, 1, 1, 1, 1, 1, 1], dtype=int32)}\n",
      "Task 11: KeypointTrackingTask[pan_around_blocks.npz]()\n",
      "Metrics: {'mean_distance_error': Array(3.4578137, dtype=float32), 'n_errors_above_threshold_per_frame': Array([0, 0, 0, 0, 0, 0, 0, 0, 0, 0, 0, 0, 0, 0, 0, 0, 0, 0, 0, 1], dtype=int32)}\n",
      "Task 12: KeypointTrackingTask[pan_around_blocks.npz]()\n",
      "Metrics: {'mean_distance_error': Array(18.222977, dtype=float32), 'n_errors_above_threshold_per_frame': Array([0, 0, 0, 0, 0, 1, 0, 1, 1, 1, 1, 1, 0, 1, 1, 1, 1, 1, 1, 1], dtype=int32)}\n",
      "Task 13: KeypointTrackingTask[pan_around_blocks.npz]()\n",
      "Metrics: {'mean_distance_error': Array(nan, dtype=float32), 'n_errors_above_threshold_per_frame': Array([0, 0, 1, 0, 0, 0, 0, 0, 0, 0, 0, 0, 0, 0, 0, 0, 0, 0, 0, 0], dtype=int32)}\n",
      "Task 14: KeypointTrackingTask[pan_around_blocks.npz]()\n",
      "Metrics: {'mean_distance_error': Array(nan, dtype=float32), 'n_errors_above_threshold_per_frame': Array([0, 0, 0, 0, 0, 1, 1, 0, 0, 0, 0, 0, 0, 0, 0, 0, 0, 0, 0, 0], dtype=int32)}\n",
      "Task 15: KeypointTrackingTask[pan_around_blocks.npz]()\n",
      "Metrics: {'mean_distance_error': Array(nan, dtype=float32), 'n_errors_above_threshold_per_frame': Array([0, 0, 0, 0, 0, 0, 0, 0, 0, 0, 0, 0, 0, 0, 0, 1, 1, 0, 0, 0], dtype=int32)}\n",
      "Task 16: KeypointTrackingTask[pan_around_blocks.npz]()\n",
      "Metrics: {'mean_distance_error': Array(nan, dtype=float32), 'n_errors_above_threshold_per_frame': Array([0, 0, 0, 0, 0, 0, 0, 0, 0, 1, 1, 1, 1, 0, 1, 0, 1, 1, 0, 0], dtype=int32)}\n",
      "Task 17: KeypointTrackingTask[pan_around_frog.npz]()\n",
      "Metrics: {'mean_distance_error': Array(2.9242592, dtype=float32), 'n_errors_above_threshold_per_frame': Array([0, 1, 1, 1, 0, 0, 0, 0, 0, 0, 0, 0, 0, 0, 0, 0, 0, 0, 0, 0], dtype=int32)}\n",
      "Task 18: KeypointTrackingTask[pan_around_frog.npz]()\n",
      "Metrics: {'mean_distance_error': Array(21.182297, dtype=float32), 'n_errors_above_threshold_per_frame': Array([0, 1, 1, 1, 1, 1, 1, 1, 1, 1, 1, 1, 1, 1, 1, 1, 1, 1, 1, 1], dtype=int32)}\n",
      "Task 19: KeypointTrackingTask[pan_around_frog.npz]()\n",
      "Metrics: {'mean_distance_error': Array(nan, dtype=float32), 'n_errors_above_threshold_per_frame': Array([0, 1, 0, 0, 0, 0, 0, 0, 0, 0, 0, 0, 0, 0, 0, 0, 0, 0, 0, 0], dtype=int32)}\n",
      "Task 20: KeypointTrackingTask[pan_around_frog.npz]()\n",
      "Metrics: {'mean_distance_error': Array(75.57516, dtype=float32), 'n_errors_above_threshold_per_frame': Array([0, 0, 0, 1, 1, 1, 1, 1, 1, 1, 1, 1, 1, 1, 1, 1, 1, 1, 1, 1], dtype=int32)}\n",
      "Task 21: KeypointTrackingTask[pan_around_frog.npz]()\n",
      "Metrics: {'mean_distance_error': Array(1.1912086, dtype=float32), 'n_errors_above_threshold_per_frame': Array([0, 0, 0, 0, 0, 0, 0, 0, 0, 0, 0, 0, 0, 0, 0, 0, 0, 0, 0, 0], dtype=int32)}\n",
      "Task 22: KeypointTrackingTask[pan_around_frog.npz]()\n",
      "Metrics: {'mean_distance_error': Array(0.46059856, dtype=float32), 'n_errors_above_threshold_per_frame': Array([0, 0, 0, 0, 0, 0, 0, 0, 0, 0, 0, 0, 0, 0, 0, 0, 0, 0, 0, 0], dtype=int32)}\n"
     ]
    }
   ],
   "source": [
    "for (i, task) in enumerate(tasks):\n",
    "    print(f\"Task {i:02d}: {task}\")\n",
    "    rr.init(f\"PT2D-{i:02d}-{task}\")\n",
    "    rr.connect(\"127.0.0.1:8812\")\n",
    "    task.visualize_task()\n",
    "    spec = task.get_task_specification()\n",
    "    solution = solver.solve(spec)\n",
    "    metrics = task.score(solution)\n",
    "    print(f\"Metrics: {metrics}\")\n",
    "    task.visualize_solution(solution, metrics)\n",
    "    rr.send_blueprint(task.rr_blueprint())"
   ]
  },
  {
   "cell_type": "code",
   "execution_count": null,
   "metadata": {},
   "outputs": [],
   "source": []
  },
  {
   "cell_type": "code",
   "execution_count": 5,
   "metadata": {},
   "outputs": [],
   "source": [
    "import os\n",
    "from datetime import datetime\n",
    "current_time = datetime.now().strftime(\"%Y-%m-%d--%H:%M\")\n",
    "folder_name = b3d.get_assets_path() / \"test_results\" / f\"patch_tracking_{current_time}\"\n",
    "os.mkdir(folder_name)"
   ]
  },
  {
   "cell_type": "code",
   "execution_count": 6,
   "metadata": {},
   "outputs": [
    {
     "data": {
      "text/plain": [
       "PosixPath('/home/georgematheos/b3d/assets/test_results/patch_tracking_2024-08-05--21:50')"
      ]
     },
     "execution_count": 6,
     "metadata": {},
     "output_type": "execute_result"
    }
   ],
   "source": [
    "folder_name"
   ]
  },
  {
   "cell_type": "code",
   "execution_count": 7,
   "metadata": {},
   "outputs": [
    {
     "name": "stdout",
     "output_type": "stream",
     "text": [
      "Metrics: {'mean_distance_error': Array(nan, dtype=float32), 'n_errors_above_threshold_per_frame': Array([0, 0, 0, 0, 0, 0, 0, 0, 0, 0, 0, 0, 0, 0, 0, 0, 0, 0, 1, 0], dtype=int32)}\n"
     ]
    },
    {
     "name": "stderr",
     "output_type": "stream",
     "text": [
      "Clipping input data to the valid range for imshow with RGB data ([0..1] for floats or [0..255] for integers).\n",
      "Clipping input data to the valid range for imshow with RGB data ([0..1] for floats or [0..255] for integers).\n",
      "Clipping input data to the valid range for imshow with RGB data ([0..1] for floats or [0..255] for integers).\n",
      "Clipping input data to the valid range for imshow with RGB data ([0..1] for floats or [0..255] for integers).\n",
      "Clipping input data to the valid range for imshow with RGB data ([0..1] for floats or [0..255] for integers).\n"
     ]
    },
    {
     "name": "stdout",
     "output_type": "stream",
     "text": [
      "Metrics: {'mean_distance_error': Array(57.832775, dtype=float32), 'n_errors_above_threshold_per_frame': Array([0, 1, 1, 1, 1, 0, 0, 0, 0, 0, 0, 0, 0, 0, 1, 1, 1, 1, 1, 1], dtype=int32)}\n"
     ]
    },
    {
     "name": "stderr",
     "output_type": "stream",
     "text": [
      "Clipping input data to the valid range for imshow with RGB data ([0..1] for floats or [0..255] for integers).\n",
      "Clipping input data to the valid range for imshow with RGB data ([0..1] for floats or [0..255] for integers).\n",
      "Clipping input data to the valid range for imshow with RGB data ([0..1] for floats or [0..255] for integers).\n",
      "Clipping input data to the valid range for imshow with RGB data ([0..1] for floats or [0..255] for integers).\n",
      "Clipping input data to the valid range for imshow with RGB data ([0..1] for floats or [0..255] for integers).\n",
      "Clipping input data to the valid range for imshow with RGB data ([0..1] for floats or [0..255] for integers).\n",
      "Clipping input data to the valid range for imshow with RGB data ([0..1] for floats or [0..255] for integers).\n",
      "Clipping input data to the valid range for imshow with RGB data ([0..1] for floats or [0..255] for integers).\n",
      "Clipping input data to the valid range for imshow with RGB data ([0..1] for floats or [0..255] for integers).\n",
      "Clipping input data to the valid range for imshow with RGB data ([0..1] for floats or [0..255] for integers).\n",
      "Clipping input data to the valid range for imshow with RGB data ([0..1] for floats or [0..255] for integers).\n",
      "Clipping input data to the valid range for imshow with RGB data ([0..1] for floats or [0..255] for integers).\n",
      "Clipping input data to the valid range for imshow with RGB data ([0..1] for floats or [0..255] for integers).\n",
      "Clipping input data to the valid range for imshow with RGB data ([0..1] for floats or [0..255] for integers).\n",
      "Clipping input data to the valid range for imshow with RGB data ([0..1] for floats or [0..255] for integers).\n",
      "Clipping input data to the valid range for imshow with RGB data ([0..1] for floats or [0..255] for integers).\n",
      "Clipping input data to the valid range for imshow with RGB data ([0..1] for floats or [0..255] for integers).\n",
      "Clipping input data to the valid range for imshow with RGB data ([0..1] for floats or [0..255] for integers).\n",
      "Clipping input data to the valid range for imshow with RGB data ([0..1] for floats or [0..255] for integers).\n",
      "Clipping input data to the valid range for imshow with RGB data ([0..1] for floats or [0..255] for integers).\n",
      "Clipping input data to the valid range for imshow with RGB data ([0..1] for floats or [0..255] for integers).\n",
      "Clipping input data to the valid range for imshow with RGB data ([0..1] for floats or [0..255] for integers).\n",
      "Clipping input data to the valid range for imshow with RGB data ([0..1] for floats or [0..255] for integers).\n",
      "Clipping input data to the valid range for imshow with RGB data ([0..1] for floats or [0..255] for integers).\n",
      "Clipping input data to the valid range for imshow with RGB data ([0..1] for floats or [0..255] for integers).\n",
      "Clipping input data to the valid range for imshow with RGB data ([0..1] for floats or [0..255] for integers).\n",
      "Clipping input data to the valid range for imshow with RGB data ([0..1] for floats or [0..255] for integers).\n",
      "Clipping input data to the valid range for imshow with RGB data ([0..1] for floats or [0..255] for integers).\n",
      "Clipping input data to the valid range for imshow with RGB data ([0..1] for floats or [0..255] for integers).\n",
      "Clipping input data to the valid range for imshow with RGB data ([0..1] for floats or [0..255] for integers).\n",
      "Clipping input data to the valid range for imshow with RGB data ([0..1] for floats or [0..255] for integers).\n",
      "Clipping input data to the valid range for imshow with RGB data ([0..1] for floats or [0..255] for integers).\n"
     ]
    },
    {
     "name": "stdout",
     "output_type": "stream",
     "text": [
      "Metrics: {'mean_distance_error': Array(1.6535362, dtype=float32), 'n_errors_above_threshold_per_frame': Array([0, 0, 0, 0, 0, 0, 0, 0, 0, 0, 0, 0, 0, 0, 0, 0, 0, 0, 0, 0], dtype=int32)}\n"
     ]
    }
   ],
   "source": [
    "# SAVE TO MP4\n",
    "for (i, task) in enumerate(tasks):\n",
    "    spec = task.get_task_specification()\n",
    "    solver = SinglePatchTracker2D()\n",
    "    solution = solver.solve(spec, log_to_self=True)\n",
    "    metrics = task.score(solution)\n",
    "    print(f\"Metrics: {metrics}\")\n",
    "    solver.export_mp4(\n",
    "        spec, task.keypoint_positions_2D,\n",
    "        solution,\n",
    "        folder_name / f\"{i:02d}_\"\n",
    "    )"
   ]
  },
  {
   "cell_type": "code",
   "execution_count": null,
   "metadata": {},
   "outputs": [],
   "source": []
  },
  {
   "cell_type": "markdown",
   "metadata": {},
   "source": [
    "# Below here is scratch work"
   ]
  },
  {
   "cell_type": "code",
   "execution_count": 56,
   "metadata": {},
   "outputs": [
    {
     "name": "stderr",
     "output_type": "stream",
     "text": [
      "Clipping input data to the valid range for imshow with RGB data ([0..1] for floats or [0..255] for integers).\n",
      "Clipping input data to the valid range for imshow with RGB data ([0..1] for floats or [0..255] for integers).\n"
     ]
    }
   ],
   "source": [
    "task = tasks[0]\n",
    "solver = SinglePatchTracker2D()\n",
    "spec = task.get_task_specification()\n",
    "solution = solver.solve(spec, log_to_self=True)\n",
    "task.export_2dpatchtracking_mp4(\n",
    "    solution, solver.patch, solver.inferred_patches,\n",
    "    solver.get_patches_over_time,\n",
    "    \"\"\n",
    ")"
   ]
  },
  {
   "cell_type": "code",
   "execution_count": null,
   "metadata": {},
   "outputs": [],
   "source": [
    "x = (solver.get_patches_over_time)"
   ]
  },
  {
   "cell_type": "code",
   "execution_count": null,
   "metadata": {},
   "outputs": [],
   "source": []
  },
  {
   "cell_type": "code",
   "execution_count": 37,
   "metadata": {},
   "outputs": [],
   "source": []
  },
  {
   "cell_type": "code",
   "execution_count": 36,
   "metadata": {},
   "outputs": [
    {
     "data": {
      "text/plain": [
       "<matplotlib.image.AxesImage at 0x7f8e9d0ddee0>"
      ]
     },
     "execution_count": 36,
     "metadata": {},
     "output_type": "execute_result"
    },
    {
     "data": {
      "image/png": "[encoded data removed]",
      "text/plain": [
       "<Figure size 640x480 with 1 Axes>"
      ]
     },
     "metadata": {},
     "output_type": "display_data"
    }
   ],
   "source": [
    "plt.imshow(solver.inferred_patches[9])"
   ]
  },
  {
   "cell_type": "code",
   "execution_count": 34,
   "metadata": {},
   "outputs": [
    {
     "data": {
      "text/plain": [
       "<matplotlib.image.AxesImage at 0x7f8e9d215460>"
      ]
     },
     "execution_count": 34,
     "metadata": {},
     "output_type": "execute_result"
    },
    {
     "data": {
      "image/png": "[encoded data removed]",
      "text/plain": [
       "<Figure size 640x480 with 1 Axes>"
      ]
     },
     "metadata": {},
     "output_type": "display_data"
    }
   ],
   "source": [
    "plt.imshow(solver.patch)"
   ]
  },
  {
   "cell_type": "code",
   "execution_count": null,
   "metadata": {},
   "outputs": [],
   "source": []
  }
 ],
 "metadata": {
  "kernelspec": {
   "display_name": "b3d-2",
   "language": "python",
   "name": "python3"
  },
  "language_info": {
   "codemirror_mode": {
    "name": "ipython",
    "version": 3
   },
   "file_extension": ".py",
   "mimetype": "text/x-python",
   "name": "python",
   "nbconvert_exporter": "python",
   "pygments_lexer": "ipython3",
   "version": "3.12.4"
  }
 },
 "nbformat": 4,
 "nbformat_minor": 2
}
