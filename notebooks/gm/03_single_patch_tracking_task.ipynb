{
 "cells": [
  {
   "cell_type": "code",
   "execution_count": 1,
   "metadata": {},
   "outputs": [],
   "source": [
    "%load_ext autoreload\n",
    "%autoreload 2"
   ]
  },
  {
   "cell_type": "code",
   "execution_count": 2,
   "metadata": {},
   "outputs": [],
   "source": [
    "import b3d\n",
    "import matplotlib.pyplot as plt\n",
    "import jax.numpy as jnp\n",
    "import jax\n",
    "import rerun as rr\n",
    "import sys\n",
    "\n",
    "sys.path.append(str(b3d.get_root_path()))"
   ]
  },
  {
   "cell_type": "code",
   "execution_count": 9,
   "metadata": {},
   "outputs": [],
   "source": [
    "from tests.sama4d.video_to_tracks.registration import get_curated_single_patch_tracking_tasks\n",
    "from tests.sama4d.video_to_tracks.solvers.twod.single_patch_tracker import SinglePatchTracker2D\n",
    "tasks = get_curated_single_patch_tracking_tasks()\n",
    "solver = SinglePatchTracker2D()"
   ]
  },
  {
   "cell_type": "code",
   "execution_count": 11,
   "metadata": {},
   "outputs": [
    {
     "name": "stdout",
     "output_type": "stream",
     "text": [
      "Task 0: KeypointTrackingTask[pan_through_plantroom.npz]()\n",
      "Metrics: {'mean_distance_error': Array(nan, dtype=float32), 'n_errors_above_threshold_per_frame': Array([0, 0, 0, 0, 0, 0, 0, 0, 0, 0, 0, 0, 0, 0, 0, 0, 0, 0, 1, 0], dtype=int32)}\n",
      "Task 1: KeypointTrackingTask[pan_through_plantroom.npz]()\n",
      "Metrics: {'mean_distance_error': Array(57.832775, dtype=float32), 'n_errors_above_threshold_per_frame': Array([0, 1, 1, 1, 1, 0, 0, 0, 0, 0, 0, 0, 0, 0, 1, 1, 1, 1, 1, 1], dtype=int32)}\n",
      "Task 2: KeypointTrackingTask[pan_through_plantroom.npz]()\n",
      "Metrics: {'mean_distance_error': Array(1.6535362, dtype=float32), 'n_errors_above_threshold_per_frame': Array([0, 0, 0, 0, 0, 0, 0, 0, 0, 0, 0, 0, 0, 0, 0, 0, 0, 0, 0, 0], dtype=int32)}\n",
      "Task 3: KeypointTrackingTask[pan_through_plantroom.npz]()\n",
      "Metrics: {'mean_distance_error': Array(1.8179318, dtype=float32), 'n_errors_above_threshold_per_frame': Array([0, 0, 0, 0, 0, 0, 0, 0, 0, 0, 0, 0, 0, 0, 0, 0, 0, 0, 1, 1], dtype=int32)}\n",
      "Task 4: KeypointTrackingTask[pan_through_plantroom.npz]()\n",
      "Metrics: {'mean_distance_error': Array(2.9538, dtype=float32), 'n_errors_above_threshold_per_frame': Array([0, 0, 0, 0, 0, 0, 0, 0, 0, 0, 1, 0, 1, 1, 1, 1, 1, 1, 1, 1], dtype=int32)}\n",
      "Task 5: KeypointTrackingTask[pan_through_plantroom.npz]()\n",
      "Metrics: {'mean_distance_error': Array(0.47859702, dtype=float32), 'n_errors_above_threshold_per_frame': Array([0, 0, 0, 0, 0, 0, 0, 0, 0, 0, 0, 0, 0, 0, 0, 0, 0, 0, 0, 0], dtype=int32)}\n",
      "Task 6: KeypointTrackingTask[pan_around_blocks.npz]()\n",
      "Metrics: {'mean_distance_error': Array(2.0207322, dtype=float32), 'n_errors_above_threshold_per_frame': Array([0, 0, 0, 0, 0, 0, 0, 0, 0, 0, 0, 0, 0, 0, 0, 1, 1, 1, 1, 1], dtype=int32)}\n",
      "Task 7: KeypointTrackingTask[pan_around_blocks.npz]()\n",
      "Metrics: {'mean_distance_error': Array(45.09784, dtype=float32), 'n_errors_above_threshold_per_frame': Array([0, 0, 0, 0, 0, 0, 0, 0, 1, 1, 1, 1, 1, 1, 1, 1, 1, 1, 1, 1], dtype=int32)}\n",
      "Task 8: KeypointTrackingTask[pan_around_blocks.npz]()\n",
      "Metrics: {'mean_distance_error': Array(16.638441, dtype=float32), 'n_errors_above_threshold_per_frame': Array([0, 0, 0, 0, 0, 0, 0, 0, 0, 0, 0, 0, 0, 1, 0, 0, 0, 1, 1, 1], dtype=int32)}\n",
      "Task 9: KeypointTrackingTask[pan_around_blocks.npz]()\n",
      "Metrics: {'mean_distance_error': Array(9.097379, dtype=float32), 'n_errors_above_threshold_per_frame': Array([0, 0, 0, 1, 0, 1, 0, 0, 0, 0, 0, 0, 1, 1, 1, 1, 1, 1, 1, 1], dtype=int32)}\n",
      "Task 10: KeypointTrackingTask[pan_around_blocks.npz]()\n",
      "Metrics: {'mean_distance_error': Array(9.634666, dtype=float32), 'n_errors_above_threshold_per_frame': Array([0, 0, 0, 0, 0, 0, 0, 0, 1, 1, 1, 1, 1, 1, 1, 1, 1, 1, 1, 1], dtype=int32)}\n",
      "Task 11: KeypointTrackingTask[pan_around_blocks.npz]()\n",
      "Metrics: {'mean_distance_error': Array(3.4578137, dtype=float32), 'n_errors_above_threshold_per_frame': Array([0, 0, 0, 0, 0, 0, 0, 0, 0, 0, 0, 0, 0, 0, 0, 0, 0, 0, 0, 1], dtype=int32)}\n",
      "Task 12: KeypointTrackingTask[pan_around_blocks.npz]()\n",
      "Metrics: {'mean_distance_error': Array(18.222977, dtype=float32), 'n_errors_above_threshold_per_frame': Array([0, 0, 0, 0, 0, 1, 0, 1, 1, 1, 1, 1, 0, 1, 1, 1, 1, 1, 1, 1], dtype=int32)}\n",
      "Task 13: KeypointTrackingTask[pan_around_blocks.npz]()\n",
      "Metrics: {'mean_distance_error': Array(nan, dtype=float32), 'n_errors_above_threshold_per_frame': Array([0, 0, 1, 0, 0, 0, 0, 0, 0, 0, 0, 0, 0, 0, 0, 0, 0, 0, 0, 0], dtype=int32)}\n",
      "Task 14: KeypointTrackingTask[pan_around_blocks.npz]()\n",
      "Metrics: {'mean_distance_error': Array(nan, dtype=float32), 'n_errors_above_threshold_per_frame': Array([0, 0, 0, 0, 0, 1, 1, 0, 0, 0, 0, 0, 0, 0, 0, 0, 0, 0, 0, 0], dtype=int32)}\n",
      "Task 15: KeypointTrackingTask[pan_around_blocks.npz]()\n",
      "Metrics: {'mean_distance_error': Array(nan, dtype=float32), 'n_errors_above_threshold_per_frame': Array([0, 0, 0, 0, 0, 0, 0, 0, 0, 0, 0, 0, 0, 0, 0, 1, 1, 0, 0, 0], dtype=int32)}\n",
      "Task 16: KeypointTrackingTask[pan_around_blocks.npz]()\n",
      "Metrics: {'mean_distance_error': Array(nan, dtype=float32), 'n_errors_above_threshold_per_frame': Array([0, 0, 0, 0, 0, 0, 0, 0, 0, 1, 1, 1, 1, 0, 1, 0, 1, 1, 0, 0], dtype=int32)}\n",
      "Task 17: KeypointTrackingTask[pan_around_frog.npz]()\n",
      "Metrics: {'mean_distance_error': Array(2.9242592, dtype=float32), 'n_errors_above_threshold_per_frame': Array([0, 1, 1, 1, 0, 0, 0, 0, 0, 0, 0, 0, 0, 0, 0, 0, 0, 0, 0, 0], dtype=int32)}\n",
      "Task 18: KeypointTrackingTask[pan_around_frog.npz]()\n",
      "Metrics: {'mean_distance_error': Array(21.182297, dtype=float32), 'n_errors_above_threshold_per_frame': Array([0, 1, 1, 1, 1, 1, 1, 1, 1, 1, 1, 1, 1, 1, 1, 1, 1, 1, 1, 1], dtype=int32)}\n",
      "Task 19: KeypointTrackingTask[pan_around_frog.npz]()\n",
      "Metrics: {'mean_distance_error': Array(nan, dtype=float32), 'n_errors_above_threshold_per_frame': Array([0, 1, 0, 0, 0, 0, 0, 0, 0, 0, 0, 0, 0, 0, 0, 0, 0, 0, 0, 0], dtype=int32)}\n",
      "Task 20: KeypointTrackingTask[pan_around_frog.npz]()\n",
      "Metrics: {'mean_distance_error': Array(75.57516, dtype=float32), 'n_errors_above_threshold_per_frame': Array([0, 0, 0, 1, 1, 1, 1, 1, 1, 1, 1, 1, 1, 1, 1, 1, 1, 1, 1, 1], dtype=int32)}\n",
      "Task 21: KeypointTrackingTask[pan_around_frog.npz]()\n",
      "Metrics: {'mean_distance_error': Array(1.1912086, dtype=float32), 'n_errors_above_threshold_per_frame': Array([0, 0, 0, 0, 0, 0, 0, 0, 0, 0, 0, 0, 0, 0, 0, 0, 0, 0, 0, 0], dtype=int32)}\n",
      "Task 22: KeypointTrackingTask[pan_around_frog.npz]()\n",
      "Metrics: {'mean_distance_error': Array(0.46059856, dtype=float32), 'n_errors_above_threshold_per_frame': Array([0, 0, 0, 0, 0, 0, 0, 0, 0, 0, 0, 0, 0, 0, 0, 0, 0, 0, 0, 0], dtype=int32)}\n"
     ]
    }
   ],
   "source": [
    "for (i, task) in enumerate(tasks):\n",
    "    print(f\"Task {i}: {task}\")\n",
    "    rr.init(f\"PT2D-{i}-{task}\")\n",
    "    rr.connect(\"127.0.0.1:8812\")\n",
    "    task.visualize_task()\n",
    "    spec = task.get_task_specification()\n",
    "    solution = solver.solve(spec)\n",
    "    metrics = task.score(solution)\n",
    "    print(f\"Metrics: {metrics}\")\n",
    "    task.visualize_solution(solution, metrics)"
   ]
  },
  {
   "cell_type": "code",
   "execution_count": null,
   "metadata": {},
   "outputs": [],
   "source": []
  }
 ],
 "metadata": {
  "kernelspec": {
   "display_name": "b3d-2",
   "language": "python",
   "name": "python3"
  },
  "language_info": {
   "codemirror_mode": {
    "name": "ipython",
    "version": 3
   },
   "file_extension": ".py",
   "mimetype": "text/x-python",
   "name": "python",
   "nbconvert_exporter": "python",
   "pygments_lexer": "ipython3",
   "version": "3.12.4"
  }
 },
 "nbformat": 4,
 "nbformat_minor": 2
}
