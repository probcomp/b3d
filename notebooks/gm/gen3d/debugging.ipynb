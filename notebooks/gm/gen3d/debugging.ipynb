{
 "cells": [
  {
   "cell_type": "code",
   "execution_count": 1,
   "metadata": {},
   "outputs": [],
   "source": [
    "import jax\n",
    "import jax.numpy as jnp\n",
    "import genjax\n",
    "genjax.pretty()\n",
    "import b3d\n",
    "import b3d.chisight.gen3d as gen3d\n",
    "import b3d.chisight.gen3d.inference.inference as inference\n",
    "from tqdm import tqdm"
   ]
  },
  {
   "cell_type": "code",
   "execution_count": 2,
   "metadata": {},
   "outputs": [],
   "source": [
    "problematic_scene_specs = [(2, 5), (3, 0), (3, 1), (3, 2), (4, 1), (4, 3), (5, 0)]\n",
    "spec = problematic_scene_specs[2]\n",
    "scene_id, object_idx = spec"
   ]
  },
  {
   "cell_type": "code",
   "execution_count": null,
   "metadata": {},
   "outputs": [],
   "source": [
    "all_data, meshes, renderer, intrinsics, initial_object_poses = gen3d.dataloading.load_scene(\n",
    "    scene_id, FRAME_RATE=50, subdir=\"train_real\"\n",
    ")\n",
    "b3d.viz_rgb(all_data[0][\"rgbd\"])"
   ]
  },
  {
   "cell_type": "code",
   "execution_count": 4,
   "metadata": {},
   "outputs": [],
   "source": [
    "template_pose, model_vertices, model_colors = gen3d.dataloading.load_object_given_scene(\n",
    "    all_data, meshes, renderer, object_idx\n",
    ")"
   ]
  },
  {
   "cell_type": "code",
   "execution_count": null,
   "metadata": {},
   "outputs": [],
   "source": [
    "hyperparams = gen3d.settings.hyperparams\n",
    "hyperparams[\"intrinsics\"] = intrinsics\n",
    "hyperparams[\"vertices\"] = model_vertices\n",
    "hyperparams"
   ]
  },
  {
   "cell_type": "code",
   "execution_count": null,
   "metadata": {},
   "outputs": [],
   "source": [
    "inference_hyperparams = gen3d.settings.inference_hyperparams\n",
    "inference_hyperparams = gen3d.hyperparams.InferenceHyperparams(**{\n",
    "    **inference_hyperparams.attributes_dict(),\n",
    "    # \"pose_proposal_args\": [(0.04, 1000.0)]\n",
    "})\n",
    "inference_hyperparams"
   ]
  },
  {
   "cell_type": "code",
   "execution_count": 7,
   "metadata": {},
   "outputs": [],
   "source": [
    "def get_gt_pose(T):\n",
    "    return (\n",
    "        all_data[T][\"camera_pose\"].inv()\n",
    "        @ all_data[T][\"object_poses\"][object_idx]\n",
    "    )"
   ]
  },
  {
   "cell_type": "code",
   "execution_count": 8,
   "metadata": {},
   "outputs": [],
   "source": [
    "initial_state = gen3d.dataloading.get_initial_state(\n",
    "    template_pose, model_vertices, model_colors, hyperparams\n",
    ")"
   ]
  },
  {
   "cell_type": "code",
   "execution_count": null,
   "metadata": {},
   "outputs": [],
   "source": [
    "key = jax.random.PRNGKey(156)\n",
    "og_trace = inference.get_initial_trace(\n",
    "    key, hyperparams, initial_state, all_data[0][\"rgbd\"]\n",
    ")"
   ]
  },
  {
   "cell_type": "code",
   "execution_count": 10,
   "metadata": {},
   "outputs": [],
   "source": [
    "b3d.rr_init(\"inference_debugging-3-1-2\")\n"
   ]
  },
  {
   "cell_type": "code",
   "execution_count": null,
   "metadata": {},
   "outputs": [],
   "source": [
    "b3d.reload(inference)\n",
    "b3d.reload(b3d.chisight.gen3d.point_attribute_proposals)"
   ]
  },
  {
   "cell_type": "code",
   "execution_count": null,
   "metadata": {},
   "outputs": [],
   "source": [
    "tracking_results = {}\n",
    "maxT = 20\n",
    "key = jax.random.PRNGKey(1)\n",
    "trace = og_trace\n",
    "for T in tqdm(range(maxT)):\n",
    "    key = b3d.split_key(key)\n",
    "    prev_trace = trace\n",
    "    trace, _, all_weights, all_poses, keys_to_regen = inference.inference_step(\n",
    "        key,\n",
    "        trace,\n",
    "        all_data[T][\"rgbd\"],\n",
    "        inference_hyperparams,\n",
    "        gt_pose=get_gt_pose(T),\n",
    "        use_gt_pose=True,\n",
    "        get_all_weights = True\n",
    "    )\n",
    "    tracking_results[T] = trace\n",
    "\n",
    "    gt_pose, gt_key = all_poses[0], keys_to_regen[0]\n",
    "    gt_trace = gen3d.inference.get_trace_generated_during_inference(\n",
    "        gt_key, prev_trace, gt_pose, inference_hyperparams,\n",
    "        observed_rgbd=all_data[T][\"rgbd\"]\n",
    "    )\n",
    "\n",
    "    gen3d.model.viz_trace(\n",
    "        trace,\n",
    "        T,\n",
    "        ground_truth_vertices=meshes[object_idx].vertices,\n",
    "        ground_truth_pose=get_gt_pose(T),\n",
    "    )\n",
    "\n",
    "    if jnp.linalg.norm(gt_pose.position - gen3d.model.get_new_state(trace)[\"pose\"].position) > 0.02:\n",
    "        b3d.rr_init(\"gt_pose_trace-3-1\")\n",
    "        gen3d.model.viz_trace(gt_trace, T, ground_truth_vertices=meshes[object_idx].vertices, ground_truth_pose=get_gt_pose(T))\n",
    "        break"
   ]
  },
  {
   "cell_type": "code",
   "execution_count": null,
   "metadata": {},
   "outputs": [],
   "source": [
    "trace.get_score()"
   ]
  },
  {
   "cell_type": "code",
   "execution_count": null,
   "metadata": {},
   "outputs": [],
   "source": [
    "gt_trace.get_score()"
   ]
  },
  {
   "cell_type": "code",
   "execution_count": null,
   "metadata": {},
   "outputs": [],
   "source": [
    "gt_trace.subtraces[6]"
   ]
  },
  {
   "cell_type": "code",
   "execution_count": 17,
   "metadata": {},
   "outputs": [],
   "source": [
    "observed_rgbd = all_data[6][\"rgbd\"]\n",
    "state = gen3d.model.get_new_state(gt_trace)\n",
    "intrinsics = hyperparams[\"intrinsics\"]\n",
    "(\n",
    "    observed_rgbd_per_point,\n",
    "    latent_rgbd_per_point,\n",
    "    is_valid,\n",
    "    _,\n",
    "    point_indices_for_observed_rgbds,\n",
    ") = gen3d.image_kernel.calculate_latent_and_observed_correspondences(\n",
    "    observed_rgbd, state, hyperparams\n",
    ")"
   ]
  },
  {
   "cell_type": "code",
   "execution_count": null,
   "metadata": {},
   "outputs": [],
   "source": [
    "state[\"depth_nonreturn_prob\"][point_indices_for_observed_rgbds[0]]"
   ]
  },
  {
   "cell_type": "code",
   "execution_count": null,
   "metadata": {},
   "outputs": [],
   "source": [
    "scores = jax.vmap(\n",
    "    hyperparams[\"image_kernel\"].get_rgbd_vertex_kernel().logpdf,\n",
    "    in_axes=(0, 0, None, None, 0, 0, None, None),\n",
    ")(\n",
    "    observed_rgbd_per_point,\n",
    "    latent_rgbd_per_point,\n",
    "    state[\"color_scale\"],\n",
    "    state[\"depth_scale\"],\n",
    "    state[\"visibility_prob\"][point_indices_for_observed_rgbds],\n",
    "    state[\"depth_nonreturn_prob\"][point_indices_for_observed_rgbds],\n",
    "    hyperparams[\"intrinsics\"],\n",
    "    hyperparams[\"unexplained_depth_nonreturn_prob\"]\n",
    ")\n",
    "jnp.isinf(scores)"
   ]
  },
  {
   "cell_type": "code",
   "execution_count": null,
   "metadata": {},
   "outputs": [],
   "source": [
    "observed_rgbd_per_point[-1]"
   ]
  },
  {
   "cell_type": "code",
   "execution_count": null,
   "metadata": {},
   "outputs": [],
   "source": [
    "is_valid[42]"
   ]
  },
  {
   "cell_type": "code",
   "execution_count": null,
   "metadata": {},
   "outputs": [],
   "source": [
    "latent_rgbd_per_point[42]"
   ]
  },
  {
   "cell_type": "code",
   "execution_count": null,
   "metadata": {},
   "outputs": [],
   "source": [
    "observed_rgbd_per_point[42]"
   ]
  },
  {
   "cell_type": "code",
   "execution_count": null,
   "metadata": {},
   "outputs": [],
   "source": [
    "state[\"visibility_prob\"][point_indices_for_observed_rgbds][42]"
   ]
  },
  {
   "cell_type": "code",
   "execution_count": null,
   "metadata": {},
   "outputs": [],
   "source": [
    "state[\"depth_nonreturn_prob\"][point_indices_for_observed_rgbds][42]"
   ]
  },
  {
   "cell_type": "code",
   "execution_count": null,
   "metadata": {},
   "outputs": [],
   "source": [
    "observed_rgbd = observed_rgbd_per_point[0]\n",
    "latent_rgbd = latent_rgbd_per_point[0]\n",
    "color_scale = state[\"color_scale\"]\n",
    "depth_scale = state[\"depth_scale\"]\n",
    "visibility_prob = state[\"visibility_prob\"][point_indices_for_observed_rgbds][0]\n",
    "depth_nonreturn_prob = state[\"depth_nonreturn_prob\"][point_indices_for_observed_rgbds][0]\n",
    "intrinsics = hyperparams[\"intrinsics\"]\n",
    "\n",
    "hyperparams[\"image_kernel\"].get_rgbd_vertex_kernel().logpdf(\n",
    "    observed_rgbd,\n",
    "    latent_rgbd,\n",
    "    color_scale,\n",
    "    depth_scale,\n",
    "    visibility_prob,\n",
    "    0.,\n",
    "    intrinsics,\n",
    "    hyperparams[\"unexplained_depth_nonreturn_prob\"]\n",
    ")"
   ]
  },
  {
   "cell_type": "code",
   "execution_count": null,
   "metadata": {},
   "outputs": [],
   "source": [
    "_, _, metadata = get_trace_generated_during_inference(\n",
    "    gt_key, prev_trace, gt_pose, inference_hyperparams,\n",
    "    observed_rgbd=all_data[T][\"rgbd\"],\n",
    "    just_return_trace=False\n",
    ")\n",
    "jax.tree.map(lambda x: x[0], metadata[\"point_attribute_proposal_metadata\"])"
   ]
  },
  {
   "cell_type": "code",
   "execution_count": null,
   "metadata": {},
   "outputs": [],
   "source": [
    "metadata[\"point_attribute_proposal_metadata\"]"
   ]
  },
  {
   "cell_type": "code",
   "execution_count": null,
   "metadata": {},
   "outputs": [],
   "source": []
  },
  {
   "cell_type": "code",
   "execution_count": null,
   "metadata": {},
   "outputs": [],
   "source": []
  },
  {
   "cell_type": "code",
   "execution_count": null,
   "metadata": {},
   "outputs": [],
   "source": [
    "hyperparams[\"image_kernel\"].get_rgbd_vertex_kernel().outlier_color_distribution.logpdf(\n",
    "    observed_rgbd[:3], latent_rgbd[:3], color_scale\n",
    ")"
   ]
  },
  {
   "cell_type": "code",
   "execution_count": 31,
   "metadata": {},
   "outputs": [],
   "source": [
    "s = hyperparams[\"image_kernel\"].get_rgbd_vertex_kernel()"
   ]
  },
  {
   "cell_type": "code",
   "execution_count": null,
   "metadata": {},
   "outputs": [],
   "source": [
    ".outlier_depth_distribution.logpdf(\n",
    "    observed_rgbd[3], latent_rgbd[3], depth_scale, intrinsics[\"near\"], intrinsics[\"far\"]\n",
    ")"
   ]
  },
  {
   "cell_type": "code",
   "execution_count": 86,
   "metadata": {},
   "outputs": [],
   "source": [
    "total_log_prob = 0.0\n",
    "is_depth_non_return = observed_rgbd[3] == 0.0\n",
    "\n",
    "# Is visible\n",
    "total_visible_log_prob = 0.0\n",
    "# color term\n",
    "total_visible_log_prob += s.inlier_color_distribution.logpdf(\n",
    "    observed_rgbd[:3], latent_rgbd[:3], color_scale\n",
    ")\n",
    "# depth term\n",
    "total_visible_log_prob += jnp.where(\n",
    "    is_depth_non_return,\n",
    "    jnp.log(depth_nonreturn_prob),\n",
    "    jnp.log(1 - depth_nonreturn_prob)\n",
    "    + s.inlier_depth_distribution.logpdf(\n",
    "        observed_rgbd[3],\n",
    "        latent_rgbd[3],\n",
    "        depth_scale,\n",
    "        intrinsics[\"near\"],\n",
    "        intrinsics[\"far\"],\n",
    "    ),\n",
    ")\n"
   ]
  },
  {
   "cell_type": "code",
   "execution_count": null,
   "metadata": {},
   "outputs": [],
   "source": [
    "jnp.log(1 - depth_nonreturn_prob)"
   ]
  },
  {
   "cell_type": "code",
   "execution_count": null,
   "metadata": {},
   "outputs": [],
   "source": [
    "total_not_visible_log_prob = 0.0\n",
    "# color term\n",
    "outlier_color_log_prob = s.outlier_color_distribution.logpdf(\n",
    "    observed_rgbd[:3],\n",
    "    latent_rgbd[:3],\n",
    "    color_scale,\n",
    ")\n",
    "outlier_depth_log_prob = s.outlier_depth_distribution.logpdf(\n",
    "    observed_rgbd[3],\n",
    "    latent_rgbd[3],\n",
    "    depth_scale,\n",
    "    intrinsics[\"near\"],\n",
    "    intrinsics[\"far\"],\n",
    ")\n",
    "outlier_depth_log_prob + outlier_color_log_prob"
   ]
  },
  {
   "cell_type": "code",
   "execution_count": null,
   "metadata": {},
   "outputs": [],
   "source": [
    "total_not_visible_log_prob += outlier_color_log_prob\n",
    "# depth term\n",
    "total_not_visible_log_prob += jnp.where(\n",
    "    is_depth_non_return,\n",
    "    jnp.log(depth_nonreturn_prob),\n",
    "    jnp.log(1 - depth_nonreturn_prob) + outlier_depth_log_prob,\n",
    ")\n",
    "total_not_visible_log_prob"
   ]
  },
  {
   "cell_type": "code",
   "execution_count": null,
   "metadata": {},
   "outputs": [],
   "source": []
  }
 ],
 "metadata": {
  "kernelspec": {
   "display_name": "gpu",
   "language": "python",
   "name": "python3"
  },
  "language_info": {
   "codemirror_mode": {
    "name": "ipython",
    "version": 3
   },
   "file_extension": ".py",
   "mimetype": "text/x-python",
   "name": "python",
   "nbconvert_exporter": "python",
   "pygments_lexer": "ipython3",
   "version": "3.12.5"
  }
 },
 "nbformat": 4,
 "nbformat_minor": 2
}
