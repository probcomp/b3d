{
 "cells": [
  {
   "cell_type": "code",
   "execution_count": 1,
   "metadata": {},
   "outputs": [],
   "source": [
    "import jax\n",
    "import jax.numpy as jnp\n",
    "import genjax\n",
    "genjax.pretty()\n",
    "import b3d\n",
    "import b3d.chisight.gen3d as gen3d\n",
    "from tqdm import tqdm"
   ]
  },
  {
   "cell_type": "code",
   "execution_count": 2,
   "metadata": {},
   "outputs": [],
   "source": [
    "problematic_scene_specs = [(2, 5), (3, 0), (3, 1), (3, 2), (4, 1), (4, 3), (5, 0)]\n",
    "spec = problematic_scene_specs[1]\n",
    "scene_id, object_idx = spec"
   ]
  },
  {
   "cell_type": "code",
   "execution_count": null,
   "metadata": {},
   "outputs": [],
   "source": [
    "all_data, meshes, renderer, intrinsics, initial_object_poses = gen3d.dataloading.load_scene(\n",
    "    scene_id, FRAME_RATE=50, subdir=\"train_real\"\n",
    ")\n",
    "b3d.viz_rgb(all_data[0][\"rgbd\"])"
   ]
  },
  {
   "cell_type": "code",
   "execution_count": 4,
   "metadata": {},
   "outputs": [],
   "source": [
    "template_pose, model_vertices, model_colors = gen3d.dataloading.load_object_given_scene(\n",
    "    all_data, meshes, renderer, object_idx\n",
    ")"
   ]
  },
  {
   "cell_type": "code",
   "execution_count": null,
   "metadata": {},
   "outputs": [],
   "source": [
    "hyperparams = gen3d.settings.hyperparams\n",
    "hyperparams[\"intrinsics\"] = intrinsics\n",
    "hyperparams[\"vertices\"] = model_vertices\n",
    "hyperparams"
   ]
  },
  {
   "cell_type": "code",
   "execution_count": null,
   "metadata": {},
   "outputs": [],
   "source": [
    "all_data"
   ]
  },
  {
   "cell_type": "code",
   "execution_count": null,
   "metadata": {},
   "outputs": [],
   "source": [
    "inference_hyperparams = gen3d.settings.inference_hyperparams\n",
    "inference_hyperparams = gen3d.hyperparams.InferenceHyperparams(**{\n",
    "    **inference_hyperparams.attributes_dict(),\n",
    "    \"pose_proposal_args\": [(0.04, 1000.0)]\n",
    "})\n",
    "inference_hyperparams"
   ]
  },
  {
   "cell_type": "code",
   "execution_count": 25,
   "metadata": {},
   "outputs": [],
   "source": [
    "def get_gt_pose(T):\n",
    "    return (\n",
    "        all_data[T][\"camera_pose\"].inv()\n",
    "        @ all_data[T][\"object_poses\"][object_idx]\n",
    "    )"
   ]
  },
  {
   "cell_type": "code",
   "execution_count": 26,
   "metadata": {},
   "outputs": [],
   "source": [
    "initial_state = gen3d.dataloading.get_initial_state(\n",
    "    template_pose, model_vertices, model_colors, hyperparams\n",
    ")"
   ]
  },
  {
   "cell_type": "code",
   "execution_count": 27,
   "metadata": {},
   "outputs": [],
   "source": [
    "key = jax.random.PRNGKey(156)\n",
    "og_trace = gen3d.inference.get_initial_trace(\n",
    "    key, hyperparams, initial_state, all_data[0][\"rgbd\"]\n",
    ")"
   ]
  },
  {
   "cell_type": "code",
   "execution_count": 28,
   "metadata": {},
   "outputs": [],
   "source": [
    "b3d.rr_init(\"inference_debugging-2\")\n"
   ]
  },
  {
   "cell_type": "code",
   "execution_count": null,
   "metadata": {},
   "outputs": [],
   "source": [
    "tracking_results = {}\n",
    "maxT = 20\n",
    "key = jax.random.PRNGKey(1)\n",
    "trace = og_trace\n",
    "for T in tqdm(range(maxT)):\n",
    "    key = b3d.split_key(key)\n",
    "    prev_trace = trace\n",
    "    trace, _, all_weights, all_poses, keys_to_regen = gen3d.inference.inference_step(\n",
    "        key,\n",
    "        trace,\n",
    "        all_data[T][\"rgbd\"],\n",
    "        inference_hyperparams,\n",
    "        gt_pose=get_gt_pose(T),\n",
    "        use_gt_pose=True,\n",
    "        get_all_weights = True\n",
    "    )\n",
    "    tracking_results[T] = trace\n",
    "\n",
    "    gt_pose, gt_key = all_poses[0], keys_to_regen[0]\n",
    "    gt_trace = gen3d.inference.get_trace_generated_during_inference(\n",
    "        gt_key, prev_trace, gt_pose, inference_hyperparams\n",
    "    )\n",
    "\n",
    "    gen3d.model.viz_trace(\n",
    "        trace,\n",
    "        T,\n",
    "        ground_truth_vertices=meshes[object_idx].vertices,\n",
    "        ground_truth_pose=get_gt_pose(T),\n",
    "    )\n",
    "\n",
    "    if jnp.linalg.norm(gt_pose.position - gen3d.model.get_new_state(trace)[\"pose\"].position) > 0.02:\n",
    "        b3d.rr_init(\"gt_pose_trace\")\n",
    "        gen3d.model.viz_trace(gt_trace, T, ground_truth_vertices=meshes[object_idx].vertices, ground_truth_pose=get_gt_pose(T))\n",
    "        break"
   ]
  },
  {
   "cell_type": "code",
   "execution_count": null,
   "metadata": {},
   "outputs": [],
   "source": []
  },
  {
   "cell_type": "code",
   "execution_count": null,
   "metadata": {},
   "outputs": [],
   "source": []
  }
 ],
 "metadata": {
  "kernelspec": {
   "display_name": "gpu",
   "language": "python",
   "name": "python3"
  },
  "language_info": {
   "codemirror_mode": {
    "name": "ipython",
    "version": 3
   },
   "file_extension": ".py",
   "mimetype": "text/x-python",
   "name": "python",
   "nbconvert_exporter": "python",
   "pygments_lexer": "ipython3",
   "version": "3.12.5"
  }
 },
 "nbformat": 4,
 "nbformat_minor": 2
}
