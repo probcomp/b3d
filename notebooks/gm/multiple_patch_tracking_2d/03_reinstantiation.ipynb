{
 "cells": [
  {
   "cell_type": "code",
   "execution_count": 1,
   "metadata": {},
   "outputs": [],
   "source": [
    "%load_ext autoreload\n",
    "%autoreload 2"
   ]
  },
  {
   "cell_type": "code",
   "execution_count": 2,
   "metadata": {},
   "outputs": [],
   "source": [
    "import b3d\n",
    "import sys\n",
    "\n",
    "sys.path.append(str(b3d.get_root_path()))"
   ]
  },
  {
   "cell_type": "code",
   "execution_count": 3,
   "metadata": {},
   "outputs": [],
   "source": [
    "from tests.sama4d.video_to_tracks.video_to_tracks_task import VideoToTracksTask\n",
    "import rerun"
   ]
  },
  {
   "cell_type": "code",
   "execution_count": 4,
   "metadata": {},
   "outputs": [],
   "source": [
    "path = b3d.get_assets_path() / 'shared_data_bucket/dynamic_SfM/feature_track_data/pan_around_blocks.npz'\n",
    "ftd_og = b3d.io.FeatureTrackData.load(str(path)).slice_time(20, 40)"
   ]
  },
  {
   "cell_type": "code",
   "execution_count": 5,
   "metadata": {},
   "outputs": [],
   "source": [
    "rerun.init(\"multiple_patch_with_reinstantiation\")\n",
    "rerun.connect(\"127.0.0.1:8812\")"
   ]
  },
  {
   "cell_type": "code",
   "execution_count": 6,
   "metadata": {},
   "outputs": [],
   "source": [
    "task = VideoToTracksTask.from_feature_track_data(ftd_og, has_no_moving_objects=True)\n",
    "task.visualize_task()"
   ]
  },
  {
   "cell_type": "code",
   "execution_count": 32,
   "metadata": {},
   "outputs": [],
   "source": [
    "from tests.sama4d.video_to_tracks.solvers.conv_with_reinstantiation import KeypointTracker2DWithReinitialization\n",
    "\n",
    "solver = KeypointTracker2DWithReinitialization(\n",
    "    patch_size=9,\n",
    "    num_tracks=40,\n",
    "    frames_before_adding_to_active_set=3,\n",
    "    reinitialize_patches=True,\n",
    "    culling_error_threshold=60,\n",
    "    culling_error_ratio_threshold=0.6,\n",
    "    mindist_for_second_error=4,\n",
    "    maxdist_for_second_error=40\n",
    ")"
   ]
  },
  {
   "cell_type": "code",
   "execution_count": 78,
   "metadata": {},
   "outputs": [],
   "source": [
    "spec = task.get_task_specification()\n",
    "solution = solver.solve(spec)"
   ]
  },
  {
   "cell_type": "code",
   "execution_count": null,
   "metadata": {},
   "outputs": [],
   "source": []
  },
  {
   "cell_type": "code",
   "execution_count": 70,
   "metadata": {},
   "outputs": [],
   "source": [
    "import jax\n",
    "import jax.numpy as jnp\n",
    "from functools import partial\n",
    "\n",
    "# @partial(jax.jit, static_argnums=(1,))\n",
    "def replace_using_elements_from_other_vector(\n",
    "    x,\n",
    "    condition_on_x,\n",
    "    new_values\n",
    "):\n",
    "    \"\"\"\n",
    "    This is used when we want to replace some values in x\n",
    "    using elements from new_values.\n",
    "    This function returns a version of x, where all elements\n",
    "    not satisfying condition_on_x are replaced with elements\n",
    "    from new_values.\n",
    "    The elements of new_values are pulled out in order.\n",
    "    This is JAX compatible.\n",
    "    \"\"\"\n",
    "\n",
    "    # state = (current_array, idx_in_x, idx_in_new_indices_full)\n",
    "    state = (x, 0, 0)\n",
    "\n",
    "    def step(state, _):\n",
    "        x, xidx, nidx = state\n",
    "        x = x.at[xidx].set(jnp.where(\n",
    "            condition_on_x(x[xidx]),\n",
    "            x[xidx],\n",
    "            new_values[nidx]\n",
    "        ))\n",
    "        new_nidx = jnp.where(\n",
    "            condition_on_x(x[xidx]), nidx, nidx + 1\n",
    "        )\n",
    "        new_xidx = xidx + 1\n",
    "        return (x, new_xidx, new_nidx), None\n",
    "\n",
    "    final_state, _ = jax.lax.scan(step, state, jnp.arange(x.size))\n",
    "    return final_state[0]"
   ]
  },
  {
   "cell_type": "code",
   "execution_count": 74,
   "metadata": {},
   "outputs": [
    {
     "data": {
      "text/plain": [
       "Array([1, 1, 1, 1, 1, 1, 6, 7, 8, 9], dtype=int32)"
      ]
     },
     "execution_count": 74,
     "metadata": {},
     "output_type": "execute_result"
    }
   ],
   "source": [
    "replace_using_elements_from_other_vector(\n",
    "    jnp.arange(10),\n",
    "    lambda x: x > 5,\n",
    "    jnp.ones(10, dtype=int)\n",
    ")"
   ]
  },
  {
   "cell_type": "code",
   "execution_count": null,
   "metadata": {},
   "outputs": [],
   "source": []
  },
  {
   "cell_type": "code",
   "execution_count": 47,
   "metadata": {},
   "outputs": [
    {
     "ename": "ValueError",
     "evalue": "Incompatible shapes for broadcasting: (10,) and requested shape (5,)",
     "output_type": "error",
     "traceback": [
      "\u001b[0;31m---------------------------------------------------------------------------\u001b[0m",
      "\u001b[0;31mValueError\u001b[0m                                Traceback (most recent call last)",
      "Cell \u001b[0;32mIn[47], line 2\u001b[0m\n\u001b[1;32m      1\u001b[0m \u001b[38;5;28;01mimport\u001b[39;00m \u001b[38;5;21;01mjax\u001b[39;00m\u001b[38;5;21;01m.\u001b[39;00m\u001b[38;5;21;01mnumpy\u001b[39;00m \u001b[38;5;28;01mas\u001b[39;00m \u001b[38;5;21;01mjnp\u001b[39;00m\n\u001b[0;32m----> 2\u001b[0m \u001b[43mjnp\u001b[49m\u001b[38;5;241;43m.\u001b[39;49m\u001b[43mzeros\u001b[49m\u001b[43m(\u001b[49m\u001b[38;5;241;43m10\u001b[39;49m\u001b[43m)\u001b[49m\u001b[38;5;241;43m.\u001b[39;49m\u001b[43mat\u001b[49m\u001b[43m[\u001b[49m\u001b[43mjnp\u001b[49m\u001b[38;5;241;43m.\u001b[39;49m\u001b[43marange\u001b[49m\u001b[43m(\u001b[49m\u001b[38;5;241;43m5\u001b[39;49m\u001b[43m)\u001b[49m\u001b[43m]\u001b[49m\u001b[38;5;241;43m.\u001b[39;49m\u001b[43mset\u001b[49m\u001b[43m(\u001b[49m\u001b[43mjnp\u001b[49m\u001b[38;5;241;43m.\u001b[39;49m\u001b[43mones\u001b[49m\u001b[43m(\u001b[49m\u001b[38;5;241;43m10\u001b[39;49m\u001b[43m)\u001b[49m\u001b[43m)\u001b[49m\n",
      "File \u001b[0;32m~/b3d/.pixi/envs/gpu/lib/python3.12/site-packages/jax/_src/numpy/array_methods.py:493\u001b[0m, in \u001b[0;36m_IndexUpdateRef.set\u001b[0;34m(self, values, indices_are_sorted, unique_indices, mode)\u001b[0m\n\u001b[1;32m    484\u001b[0m \u001b[38;5;28;01mdef\u001b[39;00m \u001b[38;5;21mset\u001b[39m(\u001b[38;5;28mself\u001b[39m, values, \u001b[38;5;241m*\u001b[39m, indices_are_sorted\u001b[38;5;241m=\u001b[39m\u001b[38;5;28;01mFalse\u001b[39;00m, unique_indices\u001b[38;5;241m=\u001b[39m\u001b[38;5;28;01mFalse\u001b[39;00m,\n\u001b[1;32m    485\u001b[0m         mode\u001b[38;5;241m=\u001b[39m\u001b[38;5;28;01mNone\u001b[39;00m):\n\u001b[1;32m    486\u001b[0m \u001b[38;5;250m  \u001b[39m\u001b[38;5;124;03m\"\"\"Pure equivalent of ``x[idx] = y``.\u001b[39;00m\n\u001b[1;32m    487\u001b[0m \n\u001b[1;32m    488\u001b[0m \u001b[38;5;124;03m  Returns the value of ``x`` that would result from the NumPy-style\u001b[39;00m\n\u001b[0;32m   (...)\u001b[0m\n\u001b[1;32m    491\u001b[0m \u001b[38;5;124;03m  See :mod:`jax.ops` for details.\u001b[39;00m\n\u001b[1;32m    492\u001b[0m \u001b[38;5;124;03m  \"\"\"\u001b[39;00m\n\u001b[0;32m--> 493\u001b[0m   \u001b[38;5;28;01mreturn\u001b[39;00m \u001b[43mscatter\u001b[49m\u001b[38;5;241;43m.\u001b[39;49m\u001b[43m_scatter_update\u001b[49m\u001b[43m(\u001b[49m\u001b[38;5;28;43mself\u001b[39;49m\u001b[38;5;241;43m.\u001b[39;49m\u001b[43marray\u001b[49m\u001b[43m,\u001b[49m\u001b[43m \u001b[49m\u001b[38;5;28;43mself\u001b[39;49m\u001b[38;5;241;43m.\u001b[39;49m\u001b[43mindex\u001b[49m\u001b[43m,\u001b[49m\u001b[43m \u001b[49m\u001b[43mvalues\u001b[49m\u001b[43m,\u001b[49m\u001b[43m \u001b[49m\u001b[43mlax\u001b[49m\u001b[38;5;241;43m.\u001b[39;49m\u001b[43mscatter\u001b[49m\u001b[43m,\u001b[49m\n\u001b[1;32m    494\u001b[0m \u001b[43m                                 \u001b[49m\u001b[43mindices_are_sorted\u001b[49m\u001b[38;5;241;43m=\u001b[39;49m\u001b[43mindices_are_sorted\u001b[49m\u001b[43m,\u001b[49m\n\u001b[1;32m    495\u001b[0m \u001b[43m                                 \u001b[49m\u001b[43munique_indices\u001b[49m\u001b[38;5;241;43m=\u001b[39;49m\u001b[43munique_indices\u001b[49m\u001b[43m,\u001b[49m\u001b[43m \u001b[49m\u001b[43mmode\u001b[49m\u001b[38;5;241;43m=\u001b[39;49m\u001b[43mmode\u001b[49m\u001b[43m)\u001b[49m\n",
      "File \u001b[0;32m~/b3d/.pixi/envs/gpu/lib/python3.12/site-packages/jax/_src/ops/scatter.py:80\u001b[0m, in \u001b[0;36m_scatter_update\u001b[0;34m(x, idx, y, scatter_op, indices_are_sorted, unique_indices, mode, normalize_indices)\u001b[0m\n\u001b[1;32m     77\u001b[0m \u001b[38;5;66;03m# XLA gathers and scatters are very similar in structure; the scatter logic\u001b[39;00m\n\u001b[1;32m     78\u001b[0m \u001b[38;5;66;03m# is more or less a transpose of the gather equivalent.\u001b[39;00m\n\u001b[1;32m     79\u001b[0m treedef, static_idx, dynamic_idx \u001b[38;5;241m=\u001b[39m jnp\u001b[38;5;241m.\u001b[39m_split_index_for_jit(idx, x\u001b[38;5;241m.\u001b[39mshape)\n\u001b[0;32m---> 80\u001b[0m \u001b[38;5;28;01mreturn\u001b[39;00m \u001b[43m_scatter_impl\u001b[49m\u001b[43m(\u001b[49m\u001b[43mx\u001b[49m\u001b[43m,\u001b[49m\u001b[43m \u001b[49m\u001b[43my\u001b[49m\u001b[43m,\u001b[49m\u001b[43m \u001b[49m\u001b[43mscatter_op\u001b[49m\u001b[43m,\u001b[49m\u001b[43m \u001b[49m\u001b[43mtreedef\u001b[49m\u001b[43m,\u001b[49m\u001b[43m \u001b[49m\u001b[43mstatic_idx\u001b[49m\u001b[43m,\u001b[49m\u001b[43m \u001b[49m\u001b[43mdynamic_idx\u001b[49m\u001b[43m,\u001b[49m\n\u001b[1;32m     81\u001b[0m \u001b[43m                     \u001b[49m\u001b[43mindices_are_sorted\u001b[49m\u001b[43m,\u001b[49m\u001b[43m \u001b[49m\u001b[43munique_indices\u001b[49m\u001b[43m,\u001b[49m\u001b[43m \u001b[49m\u001b[43mmode\u001b[49m\u001b[43m,\u001b[49m\n\u001b[1;32m     82\u001b[0m \u001b[43m                     \u001b[49m\u001b[43mnormalize_indices\u001b[49m\u001b[43m)\u001b[49m\n",
      "File \u001b[0;32m~/b3d/.pixi/envs/gpu/lib/python3.12/site-packages/jax/_src/ops/scatter.py:118\u001b[0m, in \u001b[0;36m_scatter_impl\u001b[0;34m(x, y, scatter_op, treedef, static_idx, dynamic_idx, indices_are_sorted, unique_indices, mode, normalize_indices)\u001b[0m\n\u001b[1;32m    115\u001b[0m x, y \u001b[38;5;241m=\u001b[39m promote_dtypes(x, y)\n\u001b[1;32m    117\u001b[0m \u001b[38;5;66;03m# Broadcast `y` to the slice output shape.\u001b[39;00m\n\u001b[0;32m--> 118\u001b[0m y \u001b[38;5;241m=\u001b[39m \u001b[43mjnp\u001b[49m\u001b[38;5;241;43m.\u001b[39;49m\u001b[43mbroadcast_to\u001b[49m\u001b[43m(\u001b[49m\u001b[43my\u001b[49m\u001b[43m,\u001b[49m\u001b[43m \u001b[49m\u001b[38;5;28;43mtuple\u001b[39;49m\u001b[43m(\u001b[49m\u001b[43mindexer\u001b[49m\u001b[38;5;241;43m.\u001b[39;49m\u001b[43mslice_shape\u001b[49m\u001b[43m)\u001b[49m\u001b[43m)\u001b[49m\n\u001b[1;32m    119\u001b[0m \u001b[38;5;66;03m# Collapse any `None`/`jnp.newaxis` dimensions.\u001b[39;00m\n\u001b[1;32m    120\u001b[0m y \u001b[38;5;241m=\u001b[39m jnp\u001b[38;5;241m.\u001b[39msqueeze(y, axis\u001b[38;5;241m=\u001b[39mindexer\u001b[38;5;241m.\u001b[39mnewaxis_dims)\n",
      "File \u001b[0;32m~/b3d/.pixi/envs/gpu/lib/python3.12/site-packages/jax/_src/numpy/lax_numpy.py:1481\u001b[0m, in \u001b[0;36mbroadcast_to\u001b[0;34m(array, shape)\u001b[0m\n\u001b[1;32m   1477\u001b[0m \u001b[38;5;129m@util\u001b[39m\u001b[38;5;241m.\u001b[39mimplements(np\u001b[38;5;241m.\u001b[39mbroadcast_to, lax_description\u001b[38;5;241m=\u001b[39m\u001b[38;5;124m\"\"\"\u001b[39m\u001b[38;5;130;01m\\\u001b[39;00m\n\u001b[1;32m   1478\u001b[0m \u001b[38;5;124mThe JAX version does not necessarily return a view of the input.\u001b[39m\n\u001b[1;32m   1479\u001b[0m \u001b[38;5;124m\"\"\"\u001b[39m)\n\u001b[1;32m   1480\u001b[0m \u001b[38;5;28;01mdef\u001b[39;00m \u001b[38;5;21mbroadcast_to\u001b[39m(array: ArrayLike, shape: DimSize \u001b[38;5;241m|\u001b[39m Shape) \u001b[38;5;241m-\u001b[39m\u001b[38;5;241m>\u001b[39m Array:\n\u001b[0;32m-> 1481\u001b[0m   \u001b[38;5;28;01mreturn\u001b[39;00m \u001b[43mutil\u001b[49m\u001b[38;5;241;43m.\u001b[39;49m\u001b[43m_broadcast_to\u001b[49m\u001b[43m(\u001b[49m\u001b[43marray\u001b[49m\u001b[43m,\u001b[49m\u001b[43m \u001b[49m\u001b[43mshape\u001b[49m\u001b[43m)\u001b[49m\n",
      "File \u001b[0;32m~/b3d/.pixi/envs/gpu/lib/python3.12/site-packages/jax/_src/numpy/util.py:430\u001b[0m, in \u001b[0;36m_broadcast_to\u001b[0;34m(arr, shape)\u001b[0m\n\u001b[1;32m    428\u001b[0m \u001b[38;5;28;01mif\u001b[39;00m nlead \u001b[38;5;241m<\u001b[39m \u001b[38;5;241m0\u001b[39m \u001b[38;5;129;01mor\u001b[39;00m \u001b[38;5;129;01mnot\u001b[39;00m compatible:\n\u001b[1;32m    429\u001b[0m   msg \u001b[38;5;241m=\u001b[39m \u001b[38;5;124m\"\u001b[39m\u001b[38;5;124mIncompatible shapes for broadcasting: \u001b[39m\u001b[38;5;132;01m{}\u001b[39;00m\u001b[38;5;124m and requested shape \u001b[39m\u001b[38;5;132;01m{}\u001b[39;00m\u001b[38;5;124m\"\u001b[39m\n\u001b[0;32m--> 430\u001b[0m   \u001b[38;5;28;01mraise\u001b[39;00m \u001b[38;5;167;01mValueError\u001b[39;00m(msg\u001b[38;5;241m.\u001b[39mformat(arr_shape, shape))\n\u001b[1;32m    431\u001b[0m diff, \u001b[38;5;241m=\u001b[39m np\u001b[38;5;241m.\u001b[39mwhere(\u001b[38;5;28mtuple\u001b[39m(\u001b[38;5;129;01mnot\u001b[39;00m core\u001b[38;5;241m.\u001b[39mdefinitely_equal(arr_d, shape_d)\n\u001b[1;32m    432\u001b[0m                        \u001b[38;5;28;01mfor\u001b[39;00m arr_d, shape_d \u001b[38;5;129;01min\u001b[39;00m safe_zip(arr_shape, shape_tail)))\n\u001b[1;32m    433\u001b[0m new_dims \u001b[38;5;241m=\u001b[39m \u001b[38;5;28mtuple\u001b[39m(\u001b[38;5;28mrange\u001b[39m(nlead)) \u001b[38;5;241m+\u001b[39m \u001b[38;5;28mtuple\u001b[39m(nlead \u001b[38;5;241m+\u001b[39m diff)\n",
      "\u001b[0;31mValueError\u001b[0m: Incompatible shapes for broadcasting: (10,) and requested shape (5,)"
     ]
    }
   ],
   "source": [
    "import jax.numpy as jnp\n",
    "import jax\n",
    "jnp.zeros(10).at[jnp.arange(5)].set(\n",
    "    jax.lax.dynamic_update_slice\n",
    "    jnp.ones(10))"
   ]
  },
  {
   "cell_type": "code",
   "execution_count": null,
   "metadata": {},
   "outputs": [],
   "source": []
  }
 ],
 "metadata": {
  "kernelspec": {
   "display_name": "gpu",
   "language": "python",
   "name": "python3"
  },
  "language_info": {
   "codemirror_mode": {
    "name": "ipython",
    "version": 3
   },
   "file_extension": ".py",
   "mimetype": "text/x-python",
   "name": "python",
   "nbconvert_exporter": "python",
   "pygments_lexer": "ipython3",
   "version": "3.12.5"
  }
 },
 "nbformat": 4,
 "nbformat_minor": 2
}
