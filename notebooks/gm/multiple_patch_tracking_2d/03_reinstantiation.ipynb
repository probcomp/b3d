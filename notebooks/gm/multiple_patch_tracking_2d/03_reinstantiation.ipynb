{
 "cells": [
  {
   "cell_type": "code",
   "execution_count": 1,
   "metadata": {},
   "outputs": [],
   "source": [
    "%load_ext autoreload\n",
    "%autoreload 2"
   ]
  },
  {
   "cell_type": "code",
   "execution_count": 2,
   "metadata": {},
   "outputs": [],
   "source": [
    "import b3d\n",
    "import sys\n",
    "\n",
    "sys.path.append(str(b3d.get_root_path()))"
   ]
  },
  {
   "cell_type": "code",
   "execution_count": 9,
   "metadata": {},
   "outputs": [],
   "source": [
    "from tests.sama4d.video_to_tracks.video_to_tracks_task import VideoToTracksTask\n",
    "from tests.sama4d.video_to_tracks.solvers.conv_with_reinstantiation import KeypointTracker2DWithReinitialization\n",
    "import genjax\n",
    "import rerun\n",
    "\n",
    "genjax.pretty()"
   ]
  },
  {
   "cell_type": "code",
   "execution_count": 4,
   "metadata": {},
   "outputs": [],
   "source": [
    "path = b3d.get_assets_path() / 'shared_data_bucket/dynamic_SfM/feature_track_data/pan_around_blocks.npz'\n",
    "ftd_og = b3d.io.FeatureTrackData.load(str(path)).slice_time(20, 40)"
   ]
  },
  {
   "cell_type": "code",
   "execution_count": 5,
   "metadata": {},
   "outputs": [],
   "source": [
    "rerun.init(\"multiple_patch_with_reinstantiation\")\n",
    "rerun.connect(\"127.0.0.1:8812\")"
   ]
  },
  {
   "cell_type": "code",
   "execution_count": 6,
   "metadata": {},
   "outputs": [],
   "source": [
    "task = VideoToTracksTask.from_feature_track_data(ftd_og, has_no_moving_objects=True)\n",
    "task.visualize_task()"
   ]
  },
  {
   "cell_type": "code",
   "execution_count": 23,
   "metadata": {},
   "outputs": [],
   "source": [
    "solver = KeypointTracker2DWithReinitialization(\n",
    "    patch_size=9,\n",
    "    num_tracks=40,\n",
    "    frames_before_adding_to_active_set=3,\n",
    "    reinitialize_patches=True,\n",
    "    culling_error_threshold=60,\n",
    "    culling_error_ratio_threshold=0.8,\n",
    "    mindist_for_second_error=4,\n",
    "    maxdist_for_second_error=40\n",
    ")"
   ]
  },
  {
   "cell_type": "code",
   "execution_count": 24,
   "metadata": {},
   "outputs": [],
   "source": [
    "spec = task.get_task_specification()\n",
    "solution = solver.solve(spec)"
   ]
  },
  {
   "cell_type": "code",
   "execution_count": 25,
   "metadata": {},
   "outputs": [
    {
     "data": {
      "text/html": [
       "<script> (()=>{ if (customElements.get('treescope-container') === undefined) { class TreescopeContainer extends HTMLElement { constructor() { super(); this.attachShadow({mode: \"open\"}); this.defns = {}; this.state = {}; } } customElements.define(\"treescope-container\", TreescopeContainer); } if (customElements.get('treescope-run-here') === undefined) { class RunHere extends HTMLElement { constructor() { super() } connectedCallback() { const run = child => { const fn = new Function(child.textContent); child.textContent = \"\"; fn.call(this); this.remove(); }; const child = this.querySelector(\"script\"); if (child) { run(child); } else { new MutationObserver(()=>{ run(this.querySelector(\"script\")); }).observe(this, {childList: true}); } } } customElements.define(\"treescope-run-here\", RunHere); } })(); </script> <treescope-container class=\"treescope_out_c08356c9dc7d40bb93f14de682dc6b79\" ></treescope-container> <treescope-run-here><script type=\"application/octet-stream\"> const root = ( Array.from(document.getElementsByClassName( \"treescope_out_c08356c9dc7d40bb93f14de682dc6b79\")) .filter((elt) => !elt.dataset.setup) )[0]; root.dataset.setup = 1; const msg = document.createElement(\"span\"); msg.style = \"color: #aaaaaa; font-family: monospace; transition: opacity 0.2s; opacity: 0.0;\"; msg.textContent = \"(Loading...)\"; root.state.loadingMsg = msg; root.shadowRoot.appendChild(msg); root.state.chain = new Promise((resolve, reject) => { const observer = new IntersectionObserver((entries) => { for (const entry of entries) { if (entry.isIntersecting) { resolve(); observer.disconnect(); return; } } }, {rootMargin: \"1000px\"}); window.setTimeout(() => { if (root.loadingMsg) { root.loadingMsg.style.opacity = \"1.0\"; } observer.observe(root); }, 0); }); root.state.deferring = false; const _insertNode = (node) => { for (let oldScript of node.querySelectorAll(\"script\")) { let newScript = document.createElement(\"script\"); newScript.type = oldScript.type; newScript.textContent = oldScript.textContent; oldScript.parentNode.replaceChild(newScript, oldScript); } if (root.state.loadingMsg) { root.state.loadingMsg.remove(); root.state.loadingMsg = null; } root.shadowRoot.appendChild(node); }; root.defns.insertContent = ((contentNode, compressed) => { if (compressed) { root.state.deferring = true; } if (root.state.deferring) { root.state.chain = (async () => { await root.state.chain; if (compressed) { const encoded = contentNode.textContent; const blob = new Blob([ Uint8Array.from(atob(encoded), (m) => m.codePointAt(0)) ]); const reader = blob.stream().pipeThrough( new DecompressionStream(\"deflate\") ).pipeThrough( new TextDecoderStream(\"utf-8\") ).getReader(); const parts = []; while (true) { const step = await reader.read(); if (step.done) { break; } parts.push(step.value); } const tpl = document.createElement('template'); tpl.innerHTML = parts.join(\"\"); _insertNode(tpl.content); } else { _insertNode(contentNode.content); } })(); } else { _insertNode(contentNode.content); } }); </script></treescope-run-here><div style=\"display:none\"> <script type=\"application/octet-stream\" >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</script> <treescope-run-here><script type=\"application/octet-stream\"> const root = ( Array.from(document.getElementsByClassName( \"treescope_out_c08356c9dc7d40bb93f14de682dc6b79\")) .filter((elt) => !elt.dataset['step0']) )[0]; root.dataset['step0'] = 1; root.defns.insertContent( this.parentNode.querySelector('script[type=\"application/octet-stream\"]'), true ); this.parentNode.remove(); </script></treescope-run-here> </div>"
      ],
      "text/plain": [
       "<IPython.core.display.HTML object>"
      ]
     },
     "metadata": {},
     "output_type": "display_data"
    },
    {
     "data": {
      "text/html": [
       "<div style=\"display:none\"> <script type=\"application/octet-stream\" >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</script> <treescope-run-here><script type=\"application/octet-stream\"> const root = ( Array.from(document.getElementsByClassName( \"treescope_out_c08356c9dc7d40bb93f14de682dc6b79\")) .filter((elt) => !elt.dataset['step1']) )[0]; root.dataset['step1'] = 1; root.defns.insertContent( this.parentNode.querySelector('script[type=\"application/octet-stream\"]'), true ); this.parentNode.remove(); </script></treescope-run-here> </div>"
      ],
      "text/plain": [
       "<IPython.core.display.HTML object>"
      ]
     },
     "metadata": {},
     "output_type": "display_data"
    },
    {
     "data": {
      "text/html": [
       "<treescope-run-here><script type=\"application/octet-stream\"> const root = ( Array.from(document.getElementsByClassName( \"treescope_out_c08356c9dc7d40bb93f14de682dc6b79\")) .filter((elt) => !elt.dataset.stolen) )[0]; root.dataset.stolen = 1; this.parentNode.replaceChild(root, this); </script></treescope-run-here>"
      ],
      "text/plain": [
       "{'keypoint_tracks': <jax.Array float32(20, 40, 2) ≈1e+02 ±5.5e+01 [≥4.0, ≤2e+02] nonzero:1_600\n",
       "   <Arrayviz rendering>\n",
       " >,\n",
       " 'keypoint_visibility': <jax.Array bool(20, 40) true:48 false:752>}"
      ]
     },
     "execution_count": 25,
     "metadata": {},
     "output_type": "execute_result"
    }
   ],
   "source": [
    "solution"
   ]
  },
  {
   "cell_type": "code",
   "execution_count": 26,
   "metadata": {},
   "outputs": [
    {
     "name": "stderr",
     "output_type": "stream",
     "text": [
      "/home/georgematheos/b3d/tests/sama4d/video_to_tracks/video_to_tracks_task.py:158: UserWarning: The current scoring logic is a placeholder; it needs to be implemented.\n",
      "  warnings.warn(\n"
     ]
    }
   ],
   "source": [
    "task.visualize_solution(solution, task.score(solution))"
   ]
  },
  {
   "cell_type": "code",
   "execution_count": null,
   "metadata": {},
   "outputs": [],
   "source": []
  }
 ],
 "metadata": {
  "kernelspec": {
   "display_name": "gpu",
   "language": "python",
   "name": "python3"
  },
  "language_info": {
   "codemirror_mode": {
    "name": "ipython",
    "version": 3
   },
   "file_extension": ".py",
   "mimetype": "text/x-python",
   "name": "python",
   "nbconvert_exporter": "python",
   "pygments_lexer": "ipython3",
   "version": "3.12.5"
  }
 },
 "nbformat": 4,
 "nbformat_minor": 2
}
