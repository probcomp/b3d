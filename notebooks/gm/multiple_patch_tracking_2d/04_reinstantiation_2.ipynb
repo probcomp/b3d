{
 "cells": [
  {
   "cell_type": "code",
   "execution_count": 1,
   "metadata": {},
   "outputs": [],
   "source": [
    "%load_ext autoreload\n",
    "%autoreload 2"
   ]
  },
  {
   "cell_type": "code",
   "execution_count": 2,
   "metadata": {},
   "outputs": [],
   "source": [
    "import b3d\n",
    "import sys\n",
    "\n",
    "sys.path.append(str(b3d.get_root_path()))"
   ]
  },
  {
   "cell_type": "code",
   "execution_count": null,
   "metadata": {},
   "outputs": [],
   "source": []
  },
  {
   "cell_type": "code",
   "execution_count": 3,
   "metadata": {},
   "outputs": [],
   "source": [
    "from tests.sama4d.video_to_tracks.video_to_tracks_task import VideoToTracksTask\n",
    "from tests.sama4d.video_to_tracks.solvers.conv_with_reinstantiation import PatchTracker2DSolver\n",
    "import genjax\n",
    "import rerun\n",
    "\n",
    "genjax.pretty()"
   ]
  },
  {
   "cell_type": "code",
   "execution_count": 4,
   "metadata": {},
   "outputs": [],
   "source": [
    "rerun.init(\"multiple_patch_with_reinstantiation--long\")\n",
    "rerun.connect(\"127.0.0.1:8812\")"
   ]
  },
  {
   "cell_type": "code",
   "execution_count": 5,
   "metadata": {},
   "outputs": [],
   "source": [
    "path = b3d.get_assets_path() / 'shared_data_bucket/dynamic_SfM/feature_track_data/pan_around_blocks.npz'\n",
    "ftd_og = b3d.io.FeatureTrackData.load(str(path)).slice_time(20, 40)"
   ]
  },
  {
   "cell_type": "code",
   "execution_count": 6,
   "metadata": {},
   "outputs": [],
   "source": [
    "task = VideoToTracksTask.from_feature_track_data(ftd_og, has_no_moving_objects=True)\n",
    "task.visualize_task()"
   ]
  },
  {
   "cell_type": "code",
   "execution_count": 7,
   "metadata": {},
   "outputs": [],
   "source": [
    "solver = PatchTracker2DSolver(\n",
    "    patch_size=11,\n",
    "    num_tracks=80,\n",
    "    frames_before_adding_to_active_set=7,\n",
    "    reinitialize_patches=True,\n",
    "    culling_error_threshold=60,\n",
    "    culling_error_ratio_threshold=0.8,\n",
    "    mindist_for_second_error=4,\n",
    "    maxdist_for_second_error=40\n",
    ")"
   ]
  },
  {
   "cell_type": "code",
   "execution_count": 8,
   "metadata": {},
   "outputs": [],
   "source": [
    "spec = task.get_task_specification()"
   ]
  },
  {
   "cell_type": "code",
   "execution_count": 11,
   "metadata": {},
   "outputs": [],
   "source": [
    "solution = solver.solve(spec)"
   ]
  },
  {
   "cell_type": "code",
   "execution_count": 12,
   "metadata": {},
   "outputs": [
    {
     "name": "stderr",
     "output_type": "stream",
     "text": [
      "/home/georgematheos/b3d/tests/sama4d/video_to_tracks/video_to_tracks_task.py:160: UserWarning: The current scoring logic is a placeholder; it needs to be implemented.\n",
      "  warnings.warn(\n"
     ]
    }
   ],
   "source": [
    "task.visualize_solution(solution, task.score(solution))"
   ]
  },
  {
   "cell_type": "code",
   "execution_count": 13,
   "metadata": {},
   "outputs": [],
   "source": [
    "task.matplotlib_visualization(solution, save_at=\"test.mp4\")"
   ]
  },
  {
   "cell_type": "code",
   "execution_count": null,
   "metadata": {},
   "outputs": [],
   "source": []
  },
  {
   "cell_type": "code",
   "execution_count": null,
   "metadata": {},
   "outputs": [],
   "source": []
  },
  {
   "cell_type": "code",
   "execution_count": null,
   "metadata": {},
   "outputs": [],
   "source": []
  },
  {
   "cell_type": "code",
   "execution_count": null,
   "metadata": {},
   "outputs": [],
   "source": [
    "### Scratch work! ###"
   ]
  },
  {
   "cell_type": "code",
   "execution_count": 104,
   "metadata": {},
   "outputs": [],
   "source": [
    "import jax.numpy as jnp\n",
    "\n",
    "def expand_keypoint_tracks(keypoint_tracks_2d, visibility, is_new):\n",
    "    T, N, _ = keypoint_tracks_2d.shape\n",
    "    \n",
    "    new_tracks = []\n",
    "    new_visibility = []\n",
    "\n",
    "    for n in range(N):\n",
    "        changepoints = jnp.concatenate([jnp.array([0]), jnp.where(is_new[:, n])[0], jnp.array([T])])\n",
    "        idx_pairs = jnp.stack([changepoints[:-1], changepoints[1:]], axis=1)\n",
    "        for low, high in idx_pairs:\n",
    "            # get the track with zeros everywhere but between the changepoints\n",
    "            track = jnp.zeros((T, 2)).at[low:high].set(keypoint_tracks_2d[low:high, n])\n",
    "            new_tracks.append(track)\n",
    "\n",
    "            # get the visibility with zeros everywhere but between the changepoints\n",
    "            vis = jnp.zeros(T, dtype=bool).at[low:high].set(visibility[low:high, n])\n",
    "            new_visibility.append(vis)\n",
    "\n",
    "    return jnp.stack(new_tracks, axis=1), jnp.stack(new_visibility, axis=1)"
   ]
  },
  {
   "cell_type": "code",
   "execution_count": 101,
   "metadata": {},
   "outputs": [
    {
     "data": {
      "text/html": [
       "<script> (()=>{ if (customElements.get('treescope-container') === undefined) { class TreescopeContainer extends HTMLElement { constructor() { super(); this.attachShadow({mode: \"open\"}); this.defns = {}; this.state = {}; } } customElements.define(\"treescope-container\", TreescopeContainer); } if (customElements.get('treescope-run-here') === undefined) { class RunHere extends HTMLElement { constructor() { super() } connectedCallback() { const run = child => { const fn = new Function(child.textContent); child.textContent = \"\"; fn.call(this); this.remove(); }; const child = this.querySelector(\"script\"); if (child) { run(child); } else { new MutationObserver(()=>{ run(this.querySelector(\"script\")); }).observe(this, {childList: true}); } } } customElements.define(\"treescope-run-here\", RunHere); } })(); </script> <treescope-container class=\"treescope_out_d35bfd47a69b4e95b166d0c224aa7585\" ></treescope-container> <treescope-run-here><script type=\"application/octet-stream\"> const root = ( Array.from(document.getElementsByClassName( \"treescope_out_d35bfd47a69b4e95b166d0c224aa7585\")) .filter((elt) => !elt.dataset.setup) )[0]; root.dataset.setup = 1; const msg = document.createElement(\"span\"); msg.style = \"color: #aaaaaa; font-family: monospace; transition: opacity 0.2s; opacity: 0.0;\"; msg.textContent = \"(Loading...)\"; root.state.loadingMsg = msg; root.shadowRoot.appendChild(msg); root.state.chain = new Promise((resolve, reject) => { const observer = new IntersectionObserver((entries) => { for (const entry of entries) { if (entry.isIntersecting) { resolve(); observer.disconnect(); return; } } }, {rootMargin: \"1000px\"}); window.setTimeout(() => { if (root.loadingMsg) { root.loadingMsg.style.opacity = \"1.0\"; } observer.observe(root); }, 0); }); root.state.deferring = false; const _insertNode = (node) => { for (let oldScript of node.querySelectorAll(\"script\")) { let newScript = document.createElement(\"script\"); newScript.type = oldScript.type; newScript.textContent = oldScript.textContent; oldScript.parentNode.replaceChild(newScript, oldScript); } if (root.state.loadingMsg) { root.state.loadingMsg.remove(); root.state.loadingMsg = null; } root.shadowRoot.appendChild(node); }; root.defns.insertContent = ((contentNode, compressed) => { if (compressed) { root.state.deferring = true; } if (root.state.deferring) { root.state.chain = (async () => { await root.state.chain; if (compressed) { const encoded = contentNode.textContent; const blob = new Blob([ Uint8Array.from(atob(encoded), (m) => m.codePointAt(0)) ]); const reader = blob.stream().pipeThrough( new DecompressionStream(\"deflate\") ).pipeThrough( new TextDecoderStream(\"utf-8\") ).getReader(); const parts = []; while (true) { const step = await reader.read(); if (step.done) { break; } parts.push(step.value); } const tpl = document.createElement('template'); tpl.innerHTML = parts.join(\"\"); _insertNode(tpl.content); } else { _insertNode(contentNode.content); } })(); } else { _insertNode(contentNode.content); } }); </script></treescope-run-here><div style=\"display:none\"> <script type=\"application/octet-stream\" >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</script> <treescope-run-here><script type=\"application/octet-stream\"> const root = ( Array.from(document.getElementsByClassName( \"treescope_out_d35bfd47a69b4e95b166d0c224aa7585\")) .filter((elt) => !elt.dataset['step0']) )[0]; root.dataset['step0'] = 1; root.defns.insertContent( this.parentNode.querySelector('script[type=\"application/octet-stream\"]'), true ); this.parentNode.remove(); </script></treescope-run-here> </div>"
      ],
      "text/plain": [
       "<IPython.core.display.HTML object>"
      ]
     },
     "metadata": {},
     "output_type": "display_data"
    },
    {
     "data": {
      "text/html": [
       "<treescope-run-here><script type=\"application/octet-stream\"> const root = ( Array.from(document.getElementsByClassName( \"treescope_out_d35bfd47a69b4e95b166d0c224aa7585\")) .filter((elt) => !elt.dataset.stolen) )[0]; root.dataset.stolen = 1; this.parentNode.replaceChild(root, this); </script></treescope-run-here>"
      ],
      "text/plain": [
       "(1,)"
      ]
     },
     "execution_count": 101,
     "metadata": {},
     "output_type": "execute_result"
    }
   ],
   "source": [
    "jnp.where(is_new[:, n])[0].shape"
   ]
  },
  {
   "cell_type": "code",
   "execution_count": 99,
   "metadata": {},
   "outputs": [
    {
     "data": {
      "text/html": [
       "<script> (()=>{ if (customElements.get('treescope-container') === undefined) { class TreescopeContainer extends HTMLElement { constructor() { super(); this.attachShadow({mode: \"open\"}); this.defns = {}; this.state = {}; } } customElements.define(\"treescope-container\", TreescopeContainer); } if (customElements.get('treescope-run-here') === undefined) { class RunHere extends HTMLElement { constructor() { super() } connectedCallback() { const run = child => { const fn = new Function(child.textContent); child.textContent = \"\"; fn.call(this); this.remove(); }; const child = this.querySelector(\"script\"); if (child) { run(child); } else { new MutationObserver(()=>{ run(this.querySelector(\"script\")); }).observe(this, {childList: true}); } } } customElements.define(\"treescope-run-here\", RunHere); } })(); </script> <treescope-container class=\"treescope_out_80751d94c33647169f1557a9eb6be1c0\" ></treescope-container> <treescope-run-here><script type=\"application/octet-stream\"> const root = ( Array.from(document.getElementsByClassName( \"treescope_out_80751d94c33647169f1557a9eb6be1c0\")) .filter((elt) => !elt.dataset.setup) )[0]; root.dataset.setup = 1; const msg = document.createElement(\"span\"); msg.style = \"color: #aaaaaa; font-family: monospace; transition: opacity 0.2s; opacity: 0.0;\"; msg.textContent = \"(Loading...)\"; root.state.loadingMsg = msg; root.shadowRoot.appendChild(msg); root.state.chain = new Promise((resolve, reject) => { const observer = new IntersectionObserver((entries) => { for (const entry of entries) { if (entry.isIntersecting) { resolve(); observer.disconnect(); return; } } }, {rootMargin: \"1000px\"}); window.setTimeout(() => { if (root.loadingMsg) { root.loadingMsg.style.opacity = \"1.0\"; } observer.observe(root); }, 0); }); root.state.deferring = false; const _insertNode = (node) => { for (let oldScript of node.querySelectorAll(\"script\")) { let newScript = document.createElement(\"script\"); newScript.type = oldScript.type; newScript.textContent = oldScript.textContent; oldScript.parentNode.replaceChild(newScript, oldScript); } if (root.state.loadingMsg) { root.state.loadingMsg.remove(); root.state.loadingMsg = null; } root.shadowRoot.appendChild(node); }; root.defns.insertContent = ((contentNode, compressed) => { if (compressed) { root.state.deferring = true; } if (root.state.deferring) { root.state.chain = (async () => { await root.state.chain; if (compressed) { const encoded = contentNode.textContent; const blob = new Blob([ Uint8Array.from(atob(encoded), (m) => m.codePointAt(0)) ]); const reader = blob.stream().pipeThrough( new DecompressionStream(\"deflate\") ).pipeThrough( new TextDecoderStream(\"utf-8\") ).getReader(); const parts = []; while (true) { const step = await reader.read(); if (step.done) { break; } parts.push(step.value); } const tpl = document.createElement('template'); tpl.innerHTML = parts.join(\"\"); _insertNode(tpl.content); } else { _insertNode(contentNode.content); } })(); } else { _insertNode(contentNode.content); } }); </script></treescope-run-here><div style=\"display:none\"> <script type=\"application/octet-stream\" >eNrlVktv4zYQ/iuEFthIi5WS2M7Dsi0gl6KHoocW6B7awqDEkcWGJlWSSuIt8t87pOQ4smU3RYP2UPkgazic75snOTd2IyBLrAYwhaphqZWy5A9SK8MtVzIlGgS1/AFmpFTSxiVdc7FJyVpJZWpaoPyx4hZi/5GSWqNEcGNjbzq2mxqlUkkU57S4X2nVSBYXSiidtltnpPvKBSqgPc5slZKSW1STFqSdkZoyxuUqFlDalIyKyoFIiCvgqwoll8mVMyMt5cj5ZVv3J37ghudccIvMaWPVi27MpdVcGl7Ehn+FdrWj+zw/b8MzfwlPrBuJmBplptC8tsT5tzijdS14QV3EzlVhwXmvga7PsjCMFhkGFPGMJQxKaciC2IqbZAX2B4z294pBGCWVMjbx6+gaWLKsQTqX7wpn1W36+dehlW+pZAJwWTZCzFqEBGn+qJREafio9H1EXnNQX1DklnpiywsnrEGXSq+pLCCR6jGMfH4RIDxYIXG7aU7Gowjt8JKEe6wTAXJlK7JYkAuncpK6BttoiXEnIAzsiFWNdMz2TZuKl9bx8wruzzP+jiCEWFWSqcdEw+8NGHsn+dqn6xtN1xC2MYmcjdkBUN2Yqg3jbMDHLcSideOEl2/n4Fi0ibRqtRJtVy5952C11s6Wk4Cwnwk8YIF3mXTs/HdyDxsX9EAHjlCnnBSCGvMdNmdnNwxebC7XWIbBFvw5wnhi+fsaz+bnQw3A+APxBhdBf3wExNIcPYWnRXARECWRDLotUe9U2Q/7Gro9Wy8DbLt2YPmJsSzUeo1yXyp+gnyg/nFe7KnQVCobppV6AB0N6DsOoDWwZY1TCColGOjXhm/crxuCnkRKuKXY9W5zieo0R/ISvToyPpFST23Z+ovajBsE3WzH5L4iyYigOYg0zQE7EF6xKvwzG8RrR2V86WZlN1IvZjssLv0AzYVyM/copg/YITKj+t4AXWHi5eFuH+s9UUVNmHmb2WAc2vwUFRT3wKKIfIp2HNzW4U1b/R5DP/NTcvbL6Covzv5Lev1NR0le/wskXR4dcKONS2Ct8OQDPYDLzfvB+lbwQLHvYHOsxt8HdeeehSd7iJJwsyy5Nnap5NKV/0BrnWqlZHTlumkwVeQf028zvk/RebWmeoV3lZaGb+jn5LECidNNCFobYH89Rf42oRMI7ezwGF4Jnmo85I7qvAePIYjO0VZhdzoOhaJ/QiX9Y4+csLDvquwdxMOKbwE7amf/7on3ark9Z/s0g26Rs0XwcnpNLm7G+SW7mrDJaHJDb3MoaFncXE9vp9OSTS6CvsX+0N+vPVRuEzXnsm66y27gU5Orp2DQSJdFXGwziLcHvxnfna3X+EOnbpB9FHb2G31K7rSmG4ysHY/C8WcshSQhH1fW3UzQRjb8OghYL9SDQWN5XoynUE6vynwCk/yWTSjLx9Ob8e3kenJJ/4dB2/Zb8JYK7BZ7N64gI+QD+YmbBi9JX/09l1ScMcDYS7IrfdcTR6jhDTP7E7quNEU=</script> <treescope-run-here><script type=\"application/octet-stream\"> const root = ( Array.from(document.getElementsByClassName( \"treescope_out_80751d94c33647169f1557a9eb6be1c0\")) .filter((elt) => !elt.dataset['step0']) )[0]; root.dataset['step0'] = 1; root.defns.insertContent( this.parentNode.querySelector('script[type=\"application/octet-stream\"]'), true ); this.parentNode.remove(); </script></treescope-run-here> </div>"
      ],
      "text/plain": [
       "<IPython.core.display.HTML object>"
      ]
     },
     "metadata": {},
     "output_type": "display_data"
    },
    {
     "data": {
      "text/html": [
       "<div style=\"display:none\"> <script type=\"application/octet-stream\" >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</script> <treescope-run-here><script type=\"application/octet-stream\"> const root = ( Array.from(document.getElementsByClassName( \"treescope_out_80751d94c33647169f1557a9eb6be1c0\")) .filter((elt) => !elt.dataset['step1']) )[0]; root.dataset['step1'] = 1; root.defns.insertContent( this.parentNode.querySelector('script[type=\"application/octet-stream\"]'), true ); this.parentNode.remove(); </script></treescope-run-here> </div>"
      ],
      "text/plain": [
       "<IPython.core.display.HTML object>"
      ]
     },
     "metadata": {},
     "output_type": "display_data"
    },
    {
     "data": {
      "text/html": [
       "<treescope-run-here><script type=\"application/octet-stream\"> const root = ( Array.from(document.getElementsByClassName( \"treescope_out_80751d94c33647169f1557a9eb6be1c0\")) .filter((elt) => !elt.dataset.stolen) )[0]; root.dataset.stolen = 1; this.parentNode.replaceChild(root, this); </script></treescope-run-here>"
      ],
      "text/plain": [
       "<Array([0, 1, 5], dtype=int32)\n",
       "  <Arrayviz rendering>\n",
       ">"
      ]
     },
     "execution_count": 99,
     "metadata": {},
     "output_type": "execute_result"
    }
   ],
   "source": [
    "T, N, _ = keypoint_tracks_2d.shape\n",
    "new_tracks = []\n",
    "new_visibility = []\n",
    "\n",
    "n = 0\n",
    "changepoints = jnp.concatenate([jnp.array([0]), jnp.where(is_new[:, n])[0], jnp.array([T])])\n",
    "changepoints"
   ]
  },
  {
   "cell_type": "code",
   "execution_count": 105,
   "metadata": {},
   "outputs": [],
   "source": [
    "# Example usage\n",
    "T, N = 5, 3  # T time steps, N keypoints\n",
    "keypoint_tracks_2d = jnp.ones((T, N, 2))  # Example keypoint coordinates\n",
    "visibility = jnp.array([[True, True, False], [True, False, True], [True, True, True], [True, True, False], [False, True, True]])\n",
    "is_new = jnp.array([[False, False, False], [True, False, False], [False, False, False], [False, True, False], [False, False, False]])\n",
    "\n",
    "keypoint_tracks_2d_new, visibility_new = expand_keypoint_tracks(keypoint_tracks_2d, visibility, is_new)"
   ]
  },
  {
   "cell_type": "code",
   "execution_count": 106,
   "metadata": {},
   "outputs": [
    {
     "data": {
      "text/html": [
       "<script> (()=>{ if (customElements.get('treescope-container') === undefined) { class TreescopeContainer extends HTMLElement { constructor() { super(); this.attachShadow({mode: \"open\"}); this.defns = {}; this.state = {}; } } customElements.define(\"treescope-container\", TreescopeContainer); } if (customElements.get('treescope-run-here') === undefined) { class RunHere extends HTMLElement { constructor() { super() } connectedCallback() { const run = child => { const fn = new Function(child.textContent); child.textContent = \"\"; fn.call(this); this.remove(); }; const child = this.querySelector(\"script\"); if (child) { run(child); } else { new MutationObserver(()=>{ run(this.querySelector(\"script\")); }).observe(this, {childList: true}); } } } customElements.define(\"treescope-run-here\", RunHere); } })(); </script> <treescope-container class=\"treescope_out_02e9d1b3f25048f6bfa215bcf514c176\" ></treescope-container> <treescope-run-here><script type=\"application/octet-stream\"> const root = ( Array.from(document.getElementsByClassName( \"treescope_out_02e9d1b3f25048f6bfa215bcf514c176\")) .filter((elt) => !elt.dataset.setup) )[0]; root.dataset.setup = 1; const msg = document.createElement(\"span\"); msg.style = \"color: #aaaaaa; font-family: monospace; transition: opacity 0.2s; opacity: 0.0;\"; msg.textContent = \"(Loading...)\"; root.state.loadingMsg = msg; root.shadowRoot.appendChild(msg); root.state.chain = new Promise((resolve, reject) => { const observer = new IntersectionObserver((entries) => { for (const entry of entries) { if (entry.isIntersecting) { resolve(); observer.disconnect(); return; } } }, {rootMargin: \"1000px\"}); window.setTimeout(() => { if (root.loadingMsg) { root.loadingMsg.style.opacity = \"1.0\"; } observer.observe(root); }, 0); }); root.state.deferring = false; const _insertNode = (node) => { for (let oldScript of node.querySelectorAll(\"script\")) { let newScript = document.createElement(\"script\"); newScript.type = oldScript.type; newScript.textContent = oldScript.textContent; oldScript.parentNode.replaceChild(newScript, oldScript); } if (root.state.loadingMsg) { root.state.loadingMsg.remove(); root.state.loadingMsg = null; } root.shadowRoot.appendChild(node); }; root.defns.insertContent = ((contentNode, compressed) => { if (compressed) { root.state.deferring = true; } if (root.state.deferring) { root.state.chain = (async () => { await root.state.chain; if (compressed) { const encoded = contentNode.textContent; const blob = new Blob([ Uint8Array.from(atob(encoded), (m) => m.codePointAt(0)) ]); const reader = blob.stream().pipeThrough( new DecompressionStream(\"deflate\") ).pipeThrough( new TextDecoderStream(\"utf-8\") ).getReader(); const parts = []; while (true) { const step = await reader.read(); if (step.done) { break; } parts.push(step.value); } const tpl = document.createElement('template'); tpl.innerHTML = parts.join(\"\"); _insertNode(tpl.content); } else { _insertNode(contentNode.content); } })(); } else { _insertNode(contentNode.content); } }); </script></treescope-run-here><div style=\"display:none\"> <script type=\"application/octet-stream\" >eNrlVktv4zYQ/iuEFthIxUqxnCip5QeQS9FDsYcWaA9tYdDiyGJDkypJJfEW+e8dUnIc2bKbokF7qHyQNRzO982TnBm7FbBIrAYwhaphqZWy5A9SK8MtVzInGgS1/AGmpFTSxiXdcLHNyUZJZWpaoPyx4hZi/5GTWqNEcGNjbzq22xqlUkkUr2hxv9aqkSwulFA6b7dOSfe1EqiA9jizVU5KblFNWpB2SmrKGJfrWEBpczIuKgciIa6AryuUpEnmzEhLOXJ+2db9iR+44SsuuEXmtLHqRTfm0mouDS9iw79Au9rRfZ5dtuGZvYQn1o1ETI0yU2heW+L8m1/Quha8oC5il6qw4LzXQDcXizCM5gsMKOIZSxiU0pA5sRU3yRrs9xjtz4pBGCWVMjbx6+gaWLKsQTqX7wpn1W36+dehlW+pZAJwWTZCTFuEBGn+oJREafio9H1EXnNQP6HILfXElhdOWIMuld5QWUAi1WMY+fwiQHi0QuJ204xcjSO0w0sSHrBOBMi1rch8TkZO5Sx1DbbREuNOQBjYE6sa6ZgdmjYVL63j5xXcn2f8nUAIsaokU4+Jht8bMPZO8o1P1zeabiBsYxI5G9MjoLoxVRvG6YCPO4h568YZL9/OwbFoE2nVei3arlz6zsFqrZ0tJwFhPxF4wALvMunY+e/kHrYu6IEOHKFOOSkENeY7bM7Obhi82FxusAyDHfhzhPHE8vc1vphdDjUA4w/EG5wH/fEREEtX6Ck8zYNRQJREMui2RL1zZT/sa+j27LwMsO3ageUnxrJQmw3Kfan4CfKB+sd5caBCc6lsmFfqAXQ0oO84gNbAljVOIaiUYKBfG751v24IehI54ZZi17vNJarTFZKX6NWJ8YmUemrL1l/UZtwg6HY3Jg8VyYIIugKR5yvADoRXrAr/TAfx2lEZp25WdiN1NN1jcekH6EooN3NPYvqAHSMzqu8N0DUmXh7v9rE+EFXUhAtvczEYhzY/RQXFPbAoIl9Few5u6/CmnX6PoZ/5Obn4ZZytiov/kl5/00mSN/8CSZdHB9xo4xJYKzz5QA/gcvN+sL4VPFDsO9icqvH3Qd27Z+HJHqMk3CxLro1dKrl05T/QWudaKRlnrpsGU0X+Mf0244cUnVcbqtd4V2lp+IZ+Th4rkDjdhKC1AfbXU+RvEzqD0M4Oj+GV4KnGQ+6kznvwGILoHG0V9qfjUCj6J1TSP/bIGQuHrsreQTys+Bawk3YO7554r5a7c7ZPM+gWOZsHL6dXlo4mtCwYpLf0+jZNJ9ejm6zMVhOW3UCaFUHfYn/oH9YeKreJmnFZN91lN/CpWamnYNBIl0VcbDOItwe/Gd+drdf4Q6dusPgo7PQ3+pTcaU23pBSK2qtxmH0iGZZDkpCPa+tuJ2hnMfw6Clov3IOBo1dp+jVjE7hKx9eM0cmEpgXNxjTNRtdjdvU/Ddyu74K3VGK32Lt5BQtCPpAfuWnwsvTF33dJxRkDjL8k+xZwvXGCGt40F38C9Tc1nA==</script> <treescope-run-here><script type=\"application/octet-stream\"> const root = ( Array.from(document.getElementsByClassName( \"treescope_out_02e9d1b3f25048f6bfa215bcf514c176\")) .filter((elt) => !elt.dataset['step0']) )[0]; root.dataset['step0'] = 1; root.defns.insertContent( this.parentNode.querySelector('script[type=\"application/octet-stream\"]'), true ); this.parentNode.remove(); </script></treescope-run-here> </div>"
      ],
      "text/plain": [
       "<IPython.core.display.HTML object>"
      ]
     },
     "metadata": {},
     "output_type": "display_data"
    },
    {
     "data": {
      "text/html": [
       "<div style=\"display:none\"> <script type=\"application/octet-stream\" >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</script> <treescope-run-here><script type=\"application/octet-stream\"> const root = ( Array.from(document.getElementsByClassName( \"treescope_out_02e9d1b3f25048f6bfa215bcf514c176\")) .filter((elt) => !elt.dataset['step1']) )[0]; root.dataset['step1'] = 1; root.defns.insertContent( this.parentNode.querySelector('script[type=\"application/octet-stream\"]'), true ); this.parentNode.remove(); </script></treescope-run-here> </div>"
      ],
      "text/plain": [
       "<IPython.core.display.HTML object>"
      ]
     },
     "metadata": {},
     "output_type": "display_data"
    },
    {
     "data": {
      "text/html": [
       "<treescope-run-here><script type=\"application/octet-stream\"> const root = ( Array.from(document.getElementsByClassName( \"treescope_out_02e9d1b3f25048f6bfa215bcf514c176\")) .filter((elt) => !elt.dataset.stolen) )[0]; root.dataset.stolen = 1; this.parentNode.replaceChild(root, this); </script></treescope-run-here>"
      ],
      "text/plain": [
       "<jax.Array float32(5, 5) ≈0.6 ±0.49 [≥0.0, ≤1.0] zero:10 nonzero:15\n",
       "  <Arrayviz rendering>\n",
       ">"
      ]
     },
     "execution_count": 106,
     "metadata": {},
     "output_type": "execute_result"
    }
   ],
   "source": [
    "keypoint_tracks_2d_new[:, :, 0]"
   ]
  },
  {
   "cell_type": "code",
   "execution_count": 108,
   "metadata": {},
   "outputs": [
    {
     "data": {
      "text/html": [
       "<script> (()=>{ if (customElements.get('treescope-container') === undefined) { class TreescopeContainer extends HTMLElement { constructor() { super(); this.attachShadow({mode: \"open\"}); this.defns = {}; this.state = {}; } } customElements.define(\"treescope-container\", TreescopeContainer); } if (customElements.get('treescope-run-here') === undefined) { class RunHere extends HTMLElement { constructor() { super() } connectedCallback() { const run = child => { const fn = new Function(child.textContent); child.textContent = \"\"; fn.call(this); this.remove(); }; const child = this.querySelector(\"script\"); if (child) { run(child); } else { new MutationObserver(()=>{ run(this.querySelector(\"script\")); }).observe(this, {childList: true}); } } } customElements.define(\"treescope-run-here\", RunHere); } })(); </script> <treescope-container class=\"treescope_out_2968fb8e661f4938b93835c3894f676d\" ></treescope-container> <treescope-run-here><script type=\"application/octet-stream\"> const root = ( Array.from(document.getElementsByClassName( \"treescope_out_2968fb8e661f4938b93835c3894f676d\")) .filter((elt) => !elt.dataset.setup) )[0]; root.dataset.setup = 1; const msg = document.createElement(\"span\"); msg.style = \"color: #aaaaaa; font-family: monospace; transition: opacity 0.2s; opacity: 0.0;\"; msg.textContent = \"(Loading...)\"; root.state.loadingMsg = msg; root.shadowRoot.appendChild(msg); root.state.chain = new Promise((resolve, reject) => { const observer = new IntersectionObserver((entries) => { for (const entry of entries) { if (entry.isIntersecting) { resolve(); observer.disconnect(); return; } } }, {rootMargin: \"1000px\"}); window.setTimeout(() => { if (root.loadingMsg) { root.loadingMsg.style.opacity = \"1.0\"; } observer.observe(root); }, 0); }); root.state.deferring = false; const _insertNode = (node) => { for (let oldScript of node.querySelectorAll(\"script\")) { let newScript = document.createElement(\"script\"); newScript.type = oldScript.type; newScript.textContent = oldScript.textContent; oldScript.parentNode.replaceChild(newScript, oldScript); } if (root.state.loadingMsg) { root.state.loadingMsg.remove(); root.state.loadingMsg = null; } root.shadowRoot.appendChild(node); }; root.defns.insertContent = ((contentNode, compressed) => { if (compressed) { root.state.deferring = true; } if (root.state.deferring) { root.state.chain = (async () => { await root.state.chain; if (compressed) { const encoded = contentNode.textContent; const blob = new Blob([ Uint8Array.from(atob(encoded), (m) => m.codePointAt(0)) ]); const reader = blob.stream().pipeThrough( new DecompressionStream(\"deflate\") ).pipeThrough( new TextDecoderStream(\"utf-8\") ).getReader(); const parts = []; while (true) { const step = await reader.read(); if (step.done) { break; } parts.push(step.value); } const tpl = document.createElement('template'); tpl.innerHTML = parts.join(\"\"); _insertNode(tpl.content); } else { _insertNode(contentNode.content); } })(); } else { _insertNode(contentNode.content); } }); </script></treescope-run-here><div style=\"display:none\"> <script type=\"application/octet-stream\" >eNrFVktv4zYQ/iuECmykYqU4znqTyg8gl6KHoof20ENbGBQ1kljTpEqOnbhF/nuHlGzHthwU6KK1DpaGM/N985RmDncKFhlaACdMC0trDLK/WGucRGl0ziwojnILU1YZjWnF11LtcrY22riWC5I/NxIhDQ85ay1JlHSYBtcp7lqSaqNJXHCxqq3Z6DIVRhmbd6ZT1j8VihTInyyxyVklkdQ0gsYpa3lZSl2nCirM2Vg0HkRD2oCsG5LcZRPvRiOXxPlg1t+kW+lkIZVEYs43aA66qdRopXZSpE7+Cd1pT/d1dtulZ3ZIT2o3mjAtyZywskXm45vf8LZVUnCfsVsjEHz0Fvj6ZhHHyXxBCSU8h6yESjs2Z9hIl9WAP1K2fzAlxEnWGIdZOKfQANmyBe1DfhLeqzf65behk++4LhXQsd4oNe0QMqL5kzGapPGzsauEveVgfiaRPzoRoxRe2IKtjF1zLSDT5jlOQn0JIL44YWlnNGP344T8yIrFZ6wzBbrGhs3nbORV3qVuATdWU94ZKAdHYs1Ge2bnrl0jK/T8goK/eaXrCkJMXaVL85xZ+GMDDp+0XIdyfWv5GuIuJ4n3Mb0Aajeu6dI4HYhxDzHvwngnyn/OwbPoCommrlU3lcswOdStrfflJaDwI4MtNXhfSc8uPGcr2PmkRzbyhHrlTCju3Pc0nL3fODr4XK6pDaM9+GtC+aT2Dz2+mN0ODUAptyw4nEen6yNiyAuKFF7m0ShiRhMZCluT3nttPxxr7G32UUY0dt3CIguwFsplSzsDGqNKsKFjwiL5ij/4q19ZwSRnEjnNKMWWVaTOC4LSxOHKsntlp2rLjh1pl9IR6G6/1M4V2YIpXoDK8wJoXuANKxF+00G8brGld36z9QtwND1iSR3WXaGM35BXMRuzBXuJXHK7csBrKpO+tM61wfhM1HAXL4LPxWAegk0uGhArKJOEfZ0cOXjTYaO9/gnDsKFzdvPreFKIm/+T3qnRVZKf/wOSvo4eeGOdL2Br6D0FdgBXui8HG0YhAKVh3ty1Hv8yqMfwEF7wEiWTbllJ63Bp9NK3/8BovTdK2Xjip2mwVOxf0+8qfk7RR7XmtqYvi45GGOjjlwR9JWkmy3l0WGCjbx6gKAXcjx7vPk0eRxw+T8bifvzw+GkM4k5EvVG/ak/n/hyelLsgZlK3m/7rJAq0C/MSDTrpI6TDLjpa98GY/ntfb/GHFm+0+KBw+jt/yZ6s5TtWGKPiyUc2SViWZexDjf5dQk4W53/0Dln8DX1htn4=</script> <treescope-run-here><script type=\"application/octet-stream\"> const root = ( Array.from(document.getElementsByClassName( \"treescope_out_2968fb8e661f4938b93835c3894f676d\")) .filter((elt) => !elt.dataset['step0']) )[0]; root.dataset['step0'] = 1; root.defns.insertContent( this.parentNode.querySelector('script[type=\"application/octet-stream\"]'), true ); this.parentNode.remove(); </script></treescope-run-here> </div>"
      ],
      "text/plain": [
       "<IPython.core.display.HTML object>"
      ]
     },
     "metadata": {},
     "output_type": "display_data"
    },
    {
     "data": {
      "text/html": [
       "<div style=\"display:none\"> <script type=\"application/octet-stream\" >eNrtGmlz2kj2+/6KjlI7FmMjDnNjUyMwlxPbsXFix9kU00gtqY2klqUGjKfy3/e1JG5MnGOyW1uLqwBJ7+p3v4ePdDpGAZ/a5FjSaeDZeFpBLnOJhKh+LBnM7+vEIL5P9H66XCQDXSOH6VImly+lMSnks9phtljKZYmW0aTaUeBhF94FvZoyYJwzx6YuqbiMy4rBbB0PbNJ3mU4qFg7kmo0HxK6tPulzZpp2hFPRLKINiZ5IoN8T6C/kYV2nrpnkzKugtJLJE6eKBIekRahp8QrKKOG9pyR1dfII11XksYByytwK8omNOR2TKvqiaMyGw+HBwCdjoBxeVtDrQimL0+kFgMYch7i8P7GI2yePcD6d6D/tPDOuOHwtuLojZ0D8JYB0uZTJFxYAAfdBD8sUDjP5TH4OAOYSalkADGysDatoAO+mz0aunowfjLEvJ5MDm2nD6FYCoJivEz/ScsZ7RAGzqb4LMjL114C/IMWaesQHyYZ9nziMk77FxnDQdaE3xWRDW7PkUu6fwuy5PMqkyxHFCQ76geYz2wZ0zhSD+gHvc6oNX0y1nFMygm66jDKHBaW4lXBov53sEhsMuY/dme+tM0eZABEcEHDUJBvxA2QwlycnoRuvPRNW/TFnA8G86WAERnJBrJVAD8+6eFypDAhEfeQ5LgfXryAJSWtQqIZEqG8F/hfJ5HRACM9jYIfawGnvDHPiU2yj3tQZMDtAFyMutKSjRoQJn950r4pABYMhBUyBHjiMcQs8vYKwywGdglb06tzrSVr8wfXID8QNj1Eg5sfMA/pERJooi4ywesrI7bacIqSrY38YEGz6hLhrmKEDaDYVip3jY4OvRKsWvnbzXMNZZbms+jiUdMxxErtgWCwcKrF8WzABp112t20+9m1HmUsAhqFEf7UqScgSvaKOx3wOtlmnPfDZEDKmuBMf/EXaXUJb0ufMzF8US7P6IKhG+jYx+FJFEJfC1nnNWoXzw4BaAPpRnZhDijoBR9X7mkVt3SdufHhMQy2GWgilXAX8aSVgHoxhrqwiB/smmCs6j4ZtTc5qFkqK1BrlpYBjgT+X92+TJM7tkSQ6ZHhwE5Hgl8zxMMK2ix3S93xi0EcgshJ4pTDwNiR+TsPrcPN0GkkCProK8sttkFZympV4iay/xihRqQ2l2lpwV9ql8Bzg9raFfkdyBo6zjBLTDQCKJBKJuQ4WqMmX4874ztqCEHNOcnY3Gd/+hdpcNDahBpM+1ukoiA+YIQ6c7vmDhZL+YB3+mov/tdJ7RfYVMfeC3ms38BcFKP4tvfjCyD/Sjof9NQhrYw8q/NYm5QdV/zwH6gqZo6Zvuc1/BuZnyLGNRXzQCCDsFKHJ97aqgkPtDKBIQnmDBkmZA/cdYIx2UFg/Kgj3VcCXMHuWTizyUSoaCo/mxJL+yAU38eEe9NPU44jDbHC8hz1wUy3scVJM4wSqCeBgZ69GDSSjV6rv46li+MyRdaaNxHCmiKITKGNsj0ggJxJKwBwih6UIHdfCTyVqRNHx8UtbUWkPGvpoRnMDjgKLEKCGXDJBjV6vJ07TE/dkCK7woeITOLJGelNXk//8I25/NTIrit/eCke1VHASevQdbFeXp4QKyolJNfC1Chr5tiz6sop4npoww8hWB9D5FXIHerrcPjPVuhq+upeqysJv9asJvHdaqtpUd73qjqqaQ/ZG7zbrjclHVb3+2DhVz7r1htoyH7udtxYP6meUmIetk9vs227h47jnjei7s/x15vS2e/XhbHxz9sTfTVutxv6NObym9ZO0RU8uR6dNvX2f7gxSxrirew9vCtbDDaWXozO3bXWM91x9X6if+zm11XWHzYL2fjRy96/yD1ownIyNlp16eDSbrGQOTiftUqajplz1Kv/W908zV/vmU/pKT6unRsY8LzYm7fusmWbT0VWx6DQzhUnntnxhmh65Hk5zpDt4ymsD/6LNsWpeds8nJziYBpejbvf2ptmaqO8uve5H/X0qtW8Wr4u3hzxtvHn3oI7zQPOtel5UzyaqYz5d9fZHdz3SvH3MGgXt6Tx31ZnmR3X1zVP93mt5h7Rz2Wim70bvcr2ia9TfNjutM0el+6VxM2u5Gau4P/gwub2fdPzxSft9w703mk2T719od7ZdzJcbp5N6ySrnzs7avcP2nWo63fx9/bLMr9ukU27W69324YmZu0p91KYDtQ02/fAmpV62sUrOGrbaeWpemHfcLNTfmRcX3ZP6kF7mSat+26i3NJr2LJ95LviGd9c8yTxlhj2jYXBr+sbt6LgVdIz0udNunhfquvrw4YOHedC7c3Qd03LWeCrn3tP7h4Ln+IUL9rHRo37bGZ+2D3s3vcNWM6vVL43r/Y7NvHauFUzy2HwolOgd6Z3b3o1b73SJfuaT0c1Du+Fkblr+sNd7zGcLNzfBRAWJEuDz4Ptc3gvdek8Usz/hbR79WGce9KaLkAwgTj8pirID4iCK2c9AC+bLQDEJv4Lkdg4ZTU4oFgu4ohPDDRQL0jQkdDGQRLMS0Ab3cDUkRyNLQqSYWZYQIXjNRPgCWDzSiHsBpAdBQsxoYrDBE0w5cvGYmpgzXwHK3oBhX1cmPuXkmjxyeUFL1PqIlmbjIHhLA3EkXZaWBjhJpCHCr6lDYNKT5VisDTyxdhmTDdQvByibTqfDHgeSL/STMklsww/5Lk1p0kI4DlLPMtgxpGoJvUYtTG1IbJwhAfwqzGzQB7owN0A2pqAzgnUxZO4v6y4U40sVikZYGWpHqa1lA0ooCiU7llYrXryJnC02V3ohGCf1QSmXx9VtXR60MVVplfRKUUc06EcrH+aGWx4Ajor/EXW9UVzEpLDcD9ijtJVI3BkAaipEWuW3WJFx6JcJl0LNJIdkCmFnHUtr4q2snOIeD62OydJLdBU/XJvopJpH3CdMF01A6MceBsP1DTCiWGspYKhw8Rt9nDOIpZi6Jw4trz4/SsUaW+a7MSOuNsbSDugNUAYzPnWx3YeK7B9/k3KVFdxtqo5Xr1Ltt9eP2WL1N5tX7/GjErYl0JIzW84foHwCAn1EKpkMAiUF8CX3m8mrEcqqNg42bTNvUqUamgFvAM06yFUZ9xa7lD3E3IaI8OO9b0xxsoBP7KH5oudYkm3sDHSMRAdYCd9XNZWQFsE2R4Ne56t4YuO3vtsCvDANCJPA9/nvCqkdH9/hHVT/Xt+g+lbPiLb2Uq1cLBQypUKuXCoXs6X/NXNT/XuMDVj/QVOHWfk7jS1wd5WEn18BdvzyJO10jddb/WcjpYt8FQOGaWtXXt7FfWN1uvO5VPt5Blj+8Q4yMeTg8AGKEuw8H8cpGjLvDhf6LwsvcdrvCbAQ72eF2EvDb013B//X7zfp99k+bvHTOVr7JUOqJb7NOiubGemHWs2/rxNG8X5sVz6cRfuPpMqlUiuSxgvcdZ5SX9Tk7ea4mYd+UeIN5ZY/fULXIO8BDGUg7QFavQo/Ph/8A0WvT88DxTefhd3C5Wt0l682Ybcwn9H9fID00NGEURLfkdN0Ov76UlJ6bikp1aK5Pwqfrh5uHqSX/8fM52q8N2CayDaAvZn8qvFuQQgZA8XgysOI+NMesYnGmS9La5taaY5q+Nh0orF8vhPRQH5OTuLLVgyxya5hM8hCx3MaCuiCuHpDeJY8A1I0ARXKK0JC/FZiMB/JNuGIAnK6Ch9HCzUpNnFNbsHd/X2xZhBw0cNlTnDZtIn4Wp92gdkM+xP9DAwETsBGvkZO6Ph5pbwW/8Mk9gtr6NHlbGl7Q7klz6lF/9UR8w5PKrYr86fxDiXcUsw1sExoRXeJr+wx/g1prCiQ</script> <treescope-run-here><script type=\"application/octet-stream\"> const root = ( Array.from(document.getElementsByClassName( \"treescope_out_2968fb8e661f4938b93835c3894f676d\")) .filter((elt) => !elt.dataset['step1']) )[0]; root.dataset['step1'] = 1; root.defns.insertContent( this.parentNode.querySelector('script[type=\"application/octet-stream\"]'), true ); this.parentNode.remove(); </script></treescope-run-here> </div>"
      ],
      "text/plain": [
       "<IPython.core.display.HTML object>"
      ]
     },
     "metadata": {},
     "output_type": "display_data"
    },
    {
     "data": {
      "text/html": [
       "<treescope-run-here><script type=\"application/octet-stream\"> const root = ( Array.from(document.getElementsByClassName( \"treescope_out_2968fb8e661f4938b93835c3894f676d\")) .filter((elt) => !elt.dataset.stolen) )[0]; root.dataset.stolen = 1; this.parentNode.replaceChild(root, this); </script></treescope-run-here>"
      ],
      "text/plain": [
       "# jax.Array bool(5, 5) true:11 false:14\n",
       "  Array([[ True, False,  True, False, False],\n",
       "         [False,  True, False, False,  True],\n",
       "         [False,  True,  True, False,  True],\n",
       "         [False,  True, False,  True, False],\n",
       "         [False, False, False,  True,  True]], dtype=bool)\n"
      ]
     },
     "execution_count": 108,
     "metadata": {},
     "output_type": "execute_result"
    }
   ],
   "source": [
    "visibility_new"
   ]
  },
  {
   "cell_type": "code",
   "execution_count": 98,
   "metadata": {},
   "outputs": [
    {
     "data": {
      "text/html": [
       "<script> (()=>{ if (customElements.get('treescope-container') === undefined) { class TreescopeContainer extends HTMLElement { constructor() { super(); this.attachShadow({mode: \"open\"}); this.defns = {}; this.state = {}; } } customElements.define(\"treescope-container\", TreescopeContainer); } if (customElements.get('treescope-run-here') === undefined) { class RunHere extends HTMLElement { constructor() { super() } connectedCallback() { const run = child => { const fn = new Function(child.textContent); child.textContent = \"\"; fn.call(this); this.remove(); }; const child = this.querySelector(\"script\"); if (child) { run(child); } else { new MutationObserver(()=>{ run(this.querySelector(\"script\")); }).observe(this, {childList: true}); } } } customElements.define(\"treescope-run-here\", RunHere); } })(); </script> <treescope-container class=\"treescope_out_f5881c2988e141d0b3aedc9bf13f1e41\" ></treescope-container> <treescope-run-here><script type=\"application/octet-stream\"> const root = ( Array.from(document.getElementsByClassName( \"treescope_out_f5881c2988e141d0b3aedc9bf13f1e41\")) .filter((elt) => !elt.dataset.setup) )[0]; root.dataset.setup = 1; const msg = document.createElement(\"span\"); msg.style = \"color: #aaaaaa; font-family: monospace; transition: opacity 0.2s; opacity: 0.0;\"; msg.textContent = \"(Loading...)\"; root.state.loadingMsg = msg; root.shadowRoot.appendChild(msg); root.state.chain = new Promise((resolve, reject) => { const observer = new IntersectionObserver((entries) => { for (const entry of entries) { if (entry.isIntersecting) { resolve(); observer.disconnect(); return; } } }, {rootMargin: \"1000px\"}); window.setTimeout(() => { if (root.loadingMsg) { root.loadingMsg.style.opacity = \"1.0\"; } observer.observe(root); }, 0); }); root.state.deferring = false; const _insertNode = (node) => { for (let oldScript of node.querySelectorAll(\"script\")) { let newScript = document.createElement(\"script\"); newScript.type = oldScript.type; newScript.textContent = oldScript.textContent; oldScript.parentNode.replaceChild(newScript, oldScript); } if (root.state.loadingMsg) { root.state.loadingMsg.remove(); root.state.loadingMsg = null; } root.shadowRoot.appendChild(node); }; root.defns.insertContent = ((contentNode, compressed) => { if (compressed) { root.state.deferring = true; } if (root.state.deferring) { root.state.chain = (async () => { await root.state.chain; if (compressed) { const encoded = contentNode.textContent; const blob = new Blob([ Uint8Array.from(atob(encoded), (m) => m.codePointAt(0)) ]); const reader = blob.stream().pipeThrough( new DecompressionStream(\"deflate\") ).pipeThrough( new TextDecoderStream(\"utf-8\") ).getReader(); const parts = []; while (true) { const step = await reader.read(); if (step.done) { break; } parts.push(step.value); } const tpl = document.createElement('template'); tpl.innerHTML = parts.join(\"\"); _insertNode(tpl.content); } else { _insertNode(contentNode.content); } })(); } else { _insertNode(contentNode.content); } }); </script></treescope-run-here><div style=\"display:none\"> <script type=\"application/octet-stream\" >eNrFVktv4zYQ/iuECmykxUqxEzuLyg8gl6KHoof20MO2MChqJLGmSZUcJ3GL/PcOKdmObTko0EVrHSwNZ+b75inNHe4ULDO0AE6YFlbWGGR/sdY4idLonFlQHOUTzFhlNKYV30i1y9nGaONaLkj+3EiENDzkrLUkUdJhGlynuGtJqo0mccHFurZmq8tUGGVs3pnOWP9UKFIgf7LEJmeVRFLTCBpnrOVlKXWdKqgwZ3ei8SAa0gZk3ZBknE29G41cEueDWX+TPkknC6kkEnO+RXPQTaVGK7WTInXyT+hOe7qv89suPfNDelK71YRpSeaElS0yH9/ihretkoL7jN0ageCjt8A3N8s4ThZLSijhOWQlVNqxBcNGuqwG/Imy/aMpIU6yxjjMwjmFBshWLWgf8qPwXr3Rl9+GTr7nulRAx3qr1KxDyIjmz8ZoksbPxq4T9paD+YVE/uhEjFJ4YQu2MnbDtYBMm+c4CfUlgPjihKWd0Zzd3yXkR1YsPmOdKdA1NmyxYCOv8i51C7i1mvLOQDk4Emu22jM7d+0aWaHnFxT8zStdVxBi6ipdmufMwh9bcPio5SaU6zvLNxB3OUm8j9kFULt1TZfG2UCMe4hFF8Y7Uf5zDp5FV0g0da26qVyFyaFubb0vLwGFnxg8UYP3lfTswnO2hp1PemQjT6hXzoTizv1Aw9n7jaODz9WG2jDag78mlE9q/9Djy/nt0ACU8okFh4vodH1EDHlBkcLLIhpFzGgiQ2Fr0nuv7Ydjjb3NPsqIxq5bWGQB1kK5amlnQGNUCTZ0TFgk3/DP/upXVjDJmUROM0qxZRWp84KgNHG4suxe2anaqmNH2qV0BLrbL7VzRbZkiheg8rwAmhd4w0qE32wQr1ts6dhvtn4BjmZHLKnDuiuU8RvyKmZjnsBeIpfcrh3wmsqkL61zbTA+EzXcxcvgczmYh2CTiwbEGsokYR+TIwdvOmy01z9hGDZ0zm5+vZsW4ub/pHdqdJXkw39A0tfRA2+t8wVsDb2nwA7gSvf1YMMoBKA0zJu71uNfB/UYHsILXqJk0q0qaR2ujF759h8YrfdGKbub+mkaLBX71/S7ip9T9FFtuK3py6KjEQb6+CVBX0mayXIRHRYYv5+IUSUeJuPRt5PpRHBRPvD7UTWelOPppPoc9Ub9qj2d+3N4Uu6CmEvdbvuvkyjQLsxLNOikj5AOu+ho3Qdj+u99vcUfWrzR8oPC2e/8JXu0lu9YYYyKp5/YfcKyLGMfavTvEnKyPP+jd8jyb58BtqA=</script> <treescope-run-here><script type=\"application/octet-stream\"> const root = ( Array.from(document.getElementsByClassName( \"treescope_out_f5881c2988e141d0b3aedc9bf13f1e41\")) .filter((elt) => !elt.dataset['step0']) )[0]; root.dataset['step0'] = 1; root.defns.insertContent( this.parentNode.querySelector('script[type=\"application/octet-stream\"]'), true ); this.parentNode.remove(); </script></treescope-run-here> </div>"
      ],
      "text/plain": [
       "<IPython.core.display.HTML object>"
      ]
     },
     "metadata": {},
     "output_type": "display_data"
    },
    {
     "data": {
      "text/html": [
       "<div style=\"display:none\"> <script type=\"application/octet-stream\" >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</script> <treescope-run-here><script type=\"application/octet-stream\"> const root = ( Array.from(document.getElementsByClassName( \"treescope_out_f5881c2988e141d0b3aedc9bf13f1e41\")) .filter((elt) => !elt.dataset['step1']) )[0]; root.dataset['step1'] = 1; root.defns.insertContent( this.parentNode.querySelector('script[type=\"application/octet-stream\"]'), true ); this.parentNode.remove(); </script></treescope-run-here> </div>"
      ],
      "text/plain": [
       "<IPython.core.display.HTML object>"
      ]
     },
     "metadata": {},
     "output_type": "display_data"
    },
    {
     "data": {
      "text/html": [
       "<treescope-run-here><script type=\"application/octet-stream\"> const root = ( Array.from(document.getElementsByClassName( \"treescope_out_f5881c2988e141d0b3aedc9bf13f1e41\")) .filter((elt) => !elt.dataset.stolen) )[0]; root.dataset.stolen = 1; this.parentNode.replaceChild(root, this); </script></treescope-run-here>"
      ],
      "text/plain": [
       "# jax.Array bool(5, 3) true:2 false:13\n",
       "  Array([[False, False, False],\n",
       "         [ True, False, False],\n",
       "         [False, False, False],\n",
       "         [False,  True, False],\n",
       "         [False, False, False]], dtype=bool)\n"
      ]
     },
     "execution_count": 98,
     "metadata": {},
     "output_type": "execute_result"
    }
   ],
   "source": [
    "is_new"
   ]
  },
  {
   "cell_type": "code",
   "execution_count": 60,
   "metadata": {},
   "outputs": [
    {
     "data": {
      "text/html": [
       "<script> (()=>{ if (customElements.get('treescope-container') === undefined) { class TreescopeContainer extends HTMLElement { constructor() { super(); this.attachShadow({mode: \"open\"}); this.defns = {}; this.state = {}; } } customElements.define(\"treescope-container\", TreescopeContainer); } if (customElements.get('treescope-run-here') === undefined) { class RunHere extends HTMLElement { constructor() { super() } connectedCallback() { const run = child => { const fn = new Function(child.textContent); child.textContent = \"\"; fn.call(this); this.remove(); }; const child = this.querySelector(\"script\"); if (child) { run(child); } else { new MutationObserver(()=>{ run(this.querySelector(\"script\")); }).observe(this, {childList: true}); } } } customElements.define(\"treescope-run-here\", RunHere); } })(); </script> <treescope-container class=\"treescope_out_4f0ae9e457684e10b0fea09400510529\" ></treescope-container> <treescope-run-here><script type=\"application/octet-stream\"> const root = ( Array.from(document.getElementsByClassName( \"treescope_out_4f0ae9e457684e10b0fea09400510529\")) .filter((elt) => !elt.dataset.setup) )[0]; root.dataset.setup = 1; const msg = document.createElement(\"span\"); msg.style = \"color: #aaaaaa; font-family: monospace; transition: opacity 0.2s; opacity: 0.0;\"; msg.textContent = \"(Loading...)\"; root.state.loadingMsg = msg; root.shadowRoot.appendChild(msg); root.state.chain = new Promise((resolve, reject) => { const observer = new IntersectionObserver((entries) => { for (const entry of entries) { if (entry.isIntersecting) { resolve(); observer.disconnect(); return; } } }, {rootMargin: \"1000px\"}); window.setTimeout(() => { if (root.loadingMsg) { root.loadingMsg.style.opacity = \"1.0\"; } observer.observe(root); }, 0); }); root.state.deferring = false; const _insertNode = (node) => { for (let oldScript of node.querySelectorAll(\"script\")) { let newScript = document.createElement(\"script\"); newScript.type = oldScript.type; newScript.textContent = oldScript.textContent; oldScript.parentNode.replaceChild(newScript, oldScript); } if (root.state.loadingMsg) { root.state.loadingMsg.remove(); root.state.loadingMsg = null; } root.shadowRoot.appendChild(node); }; root.defns.insertContent = ((contentNode, compressed) => { if (compressed) { root.state.deferring = true; } if (root.state.deferring) { root.state.chain = (async () => { await root.state.chain; if (compressed) { const encoded = contentNode.textContent; const blob = new Blob([ Uint8Array.from(atob(encoded), (m) => m.codePointAt(0)) ]); const reader = blob.stream().pipeThrough( new DecompressionStream(\"deflate\") ).pipeThrough( new TextDecoderStream(\"utf-8\") ).getReader(); const parts = []; while (true) { const step = await reader.read(); if (step.done) { break; } parts.push(step.value); } const tpl = document.createElement('template'); tpl.innerHTML = parts.join(\"\"); _insertNode(tpl.content); } else { _insertNode(contentNode.content); } })(); } else { _insertNode(contentNode.content); } }); </script></treescope-run-here><div style=\"display:none\"> <script type=\"application/octet-stream\" >eNrFVk1v4zYQ/SuECmykYqU43nWzK9sCcil6KHpoDz20hUFRI4k1TarkOIlb5L93SMl2bMtBgS5a62BpODPvzae0cLhTUGRoAZwwHaysMcj+Yp1xEqXRObOgOMpHmLPaaExrvpFql7ON0cZ1XJD8qZUIaXjIWWdJoqTDNLhOcdeRVBtN4pKLdWPNVlepMMrYvDeds+GpVKRA/mSFbc5qiaSmETTOWcerSuomVVBjzqai9SAa0hZk05LkLpt5Nxq5JM4Hs+EmfZROllJJJOZ8i+agm0qNVmonRerkn9CfDnRfFrd9ehaH9KR2qwnTkswJKztkPr7lDe86JQX3Gbs1AsFHb4Fvboo4TpYFJZTwHLIKau3YkmErXdYA/kjZ/sFUECdZaxxm4ZxCA2SrDrQP+UF4r97ol9/GTr7julJAx3qr1LxHyIjmT8ZoksZPxq4T9pqD+ZlE/uhEjFJ4YQe2NnbDtYBMm6c4CfUlgPjihKW90YJ9mCbkR9YsPmOdKdANtmy5ZBOv8iZ1C7i1mvLOQDk4Emu32jM7d+1aWaPnFxT8zQtdVxBi6ipdmafMwh9bcPig5SaU61vLNxD3OUm8j/kFULd1bZ/G+UiMe4hlH8YbUf5zDp5FX0g0TaP6qVyFyaFu7bwvLwGF7xk8UoMPlfTswnO2hp1PemQjT2hQzoTizn1Pwzn4jaODz9WG2jDag78klE9q/9DjxeJ2bAAq+ciCw2V0uj4ihrykSOF5GU0iZjSRobA16b3V9uOxxt5mH2VEY9cvLLIAa6FadbQzoDWqAhs6JiySr/i9v4aVFUxyJpHTjFJsWU3qvCQoTRyuLLsXdqq26tmRdiUdge72S+1ckRVM8RJUnpdA8wKvWInwm4/i9YstvfObbViAk/kRS+qw7kpl/Ia8itmaR7CXyBW3awe8oTLpS+tcG4zPRC13cRF8FqN5CDa5aEGsoUoS9nVy5OBNx432+icMw4bO2c2v01kpbv5PeqdGV0l+8x+Q9HX0wFvrfAE7Q+8psCO40n052DAKASgN8+au9fiXQT2Gh/CMlyiZdKtaWocro1e+/UdG661RyqYzP02jpWL/mn5f8XOKPqoNtw19WfQ0wkAfvyToK0kzWS2jwwK7FxMOXEyms4/w8dN9+Xk6uYdPs88wvROzyeQuGoyGVXs69+fwpNwHsZC62w5fJ1GgXZrnaNTJECEd9tHRug/G9D/4eo0/tnij4p3C+e/8OXuwlu9YaYyKZ+/Zh4RlWcbeNejfJeSkOP+jd0jxN1GJtkc=</script> <treescope-run-here><script type=\"application/octet-stream\"> const root = ( Array.from(document.getElementsByClassName( \"treescope_out_4f0ae9e457684e10b0fea09400510529\")) .filter((elt) => !elt.dataset['step0']) )[0]; root.dataset['step0'] = 1; root.defns.insertContent( this.parentNode.querySelector('script[type=\"application/octet-stream\"]'), true ); this.parentNode.remove(); </script></treescope-run-here> </div>"
      ],
      "text/plain": [
       "<IPython.core.display.HTML object>"
      ]
     },
     "metadata": {},
     "output_type": "display_data"
    },
    {
     "data": {
      "text/html": [
       "<div style=\"display:none\"> <script type=\"application/octet-stream\" >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</script> <treescope-run-here><script type=\"application/octet-stream\"> const root = ( Array.from(document.getElementsByClassName( \"treescope_out_4f0ae9e457684e10b0fea09400510529\")) .filter((elt) => !elt.dataset['step1']) )[0]; root.dataset['step1'] = 1; root.defns.insertContent( this.parentNode.querySelector('script[type=\"application/octet-stream\"]'), true ); this.parentNode.remove(); </script></treescope-run-here> </div>"
      ],
      "text/plain": [
       "<IPython.core.display.HTML object>"
      ]
     },
     "metadata": {},
     "output_type": "display_data"
    },
    {
     "data": {
      "text/html": [
       "<treescope-run-here><script type=\"application/octet-stream\"> const root = ( Array.from(document.getElementsByClassName( \"treescope_out_4f0ae9e457684e10b0fea09400510529\")) .filter((elt) => !elt.dataset.stolen) )[0]; root.dataset.stolen = 1; this.parentNode.replaceChild(root, this); </script></treescope-run-here>"
      ],
      "text/plain": [
       "# jax.Array bool(5, 3) true:9 false:6\n",
       "  Array([[ True,  True, False],\n",
       "         [False,  True,  True],\n",
       "         [False,  True,  True],\n",
       "         [False,  True,  True],\n",
       "         [False, False,  True]], dtype=bool)\n"
      ]
     },
     "execution_count": 60,
     "metadata": {},
     "output_type": "execute_result"
    }
   ],
   "source": [
    "visibility_new"
   ]
  },
  {
   "cell_type": "code",
   "execution_count": 45,
   "metadata": {},
   "outputs": [
    {
     "data": {
      "text/html": [
       "<script> (()=>{ if (customElements.get('treescope-container') === undefined) { class TreescopeContainer extends HTMLElement { constructor() { super(); this.attachShadow({mode: \"open\"}); this.defns = {}; this.state = {}; } } customElements.define(\"treescope-container\", TreescopeContainer); } if (customElements.get('treescope-run-here') === undefined) { class RunHere extends HTMLElement { constructor() { super() } connectedCallback() { const run = child => { const fn = new Function(child.textContent); child.textContent = \"\"; fn.call(this); this.remove(); }; const child = this.querySelector(\"script\"); if (child) { run(child); } else { new MutationObserver(()=>{ run(this.querySelector(\"script\")); }).observe(this, {childList: true}); } } } customElements.define(\"treescope-run-here\", RunHere); } })(); </script> <treescope-container class=\"treescope_out_fe827156f413402c9575e5e9a7e1e987\" ></treescope-container> <treescope-run-here><script type=\"application/octet-stream\"> const root = ( Array.from(document.getElementsByClassName( \"treescope_out_fe827156f413402c9575e5e9a7e1e987\")) .filter((elt) => !elt.dataset.setup) )[0]; root.dataset.setup = 1; const msg = document.createElement(\"span\"); msg.style = \"color: #aaaaaa; font-family: monospace; transition: opacity 0.2s; opacity: 0.0;\"; msg.textContent = \"(Loading...)\"; root.state.loadingMsg = msg; root.shadowRoot.appendChild(msg); root.state.chain = new Promise((resolve, reject) => { const observer = new IntersectionObserver((entries) => { for (const entry of entries) { if (entry.isIntersecting) { resolve(); observer.disconnect(); return; } } }, {rootMargin: \"1000px\"}); window.setTimeout(() => { if (root.loadingMsg) { root.loadingMsg.style.opacity = \"1.0\"; } observer.observe(root); }, 0); }); root.state.deferring = false; const _insertNode = (node) => { for (let oldScript of node.querySelectorAll(\"script\")) { let newScript = document.createElement(\"script\"); newScript.type = oldScript.type; newScript.textContent = oldScript.textContent; oldScript.parentNode.replaceChild(newScript, oldScript); } if (root.state.loadingMsg) { root.state.loadingMsg.remove(); root.state.loadingMsg = null; } root.shadowRoot.appendChild(node); }; root.defns.insertContent = ((contentNode, compressed) => { if (compressed) { root.state.deferring = true; } if (root.state.deferring) { root.state.chain = (async () => { await root.state.chain; if (compressed) { const encoded = contentNode.textContent; const blob = new Blob([ Uint8Array.from(atob(encoded), (m) => m.codePointAt(0)) ]); const reader = blob.stream().pipeThrough( new DecompressionStream(\"deflate\") ).pipeThrough( new TextDecoderStream(\"utf-8\") ).getReader(); const parts = []; while (true) { const step = await reader.read(); if (step.done) { break; } parts.push(step.value); } const tpl = document.createElement('template'); tpl.innerHTML = parts.join(\"\"); _insertNode(tpl.content); } else { _insertNode(contentNode.content); } })(); } else { _insertNode(contentNode.content); } }); </script></treescope-run-here><div style=\"display:none\"> <script type=\"application/octet-stream\" >eNrFVk2Po0YQ/SstIu1AtDAe73h3FttIc4lyiHJIDjkkkdVAAR23u0l34RlvNP891Q22xzYeRcoqMQdDdVW9V5+wsLiTkCVoAGyhW1gZrZH9xVptBQqtUmZAchRbmLNKK4wrvhFyl7KNVtq2vCD5UyMQYv+QstaQRAqLsXcd464lqdKKxDkv1rXRnSrjQktt0t50zoanXJIC+RMlNimrBJKaQlA4Zy0vS6HqWEKFKZsWjQNREDcg6oYkd8nMuVHIBXE+mA038VZYkQspkJjzDvVBNxYKjVBWFLEVX6A/Hei+LG779CwO6YlNpwjTkMwWRrTIXHzLG962UhTcZexWFwguegN8c5OFYbTMKKGEZ5GVUCnLlgwbYZMa8CfK9o+6hDBKGm0x8ecUGiBbtaBcyI+F8+qMfv197OR7rkoJdKw6Kec9QkI0f9ZakTR80mYdsdcc9C8kckcnYhSFE7ZgKm02XBWQKP0URr6+BBBenLC4N1qwD9OI/IiKhWesEwmqxoYtl2ziVN6kbgA7oyjvDKSFI7GmU47ZuWvbiAodP6/gbl7ouoIQUlepUj8lBv7swOKjEhtfru8M30DY5yRyPuYXQG1nmz6N85EY9xDLPow3ovznHByLvpCo61r2U7nyk0Pd2jpfTgIS3zPYUoMPlXTs/HOyhp1LemACR2hQTgrJrf2BhnPwGwYHn6sNtWGwB3+JKJ/U/r7Hs8Xt2ACUYsu8w2Vwuj4ChjynSOF5GUwCphWRobAV6b3V9uOxhs5mH2VAY9cvLLIAY6BctbQzoNGyBOM7xi+Sb/gndw0ry5ukTCCnGaXYkorUeU5QijhcWXYv7FRt1bMj7VJYAt3tl9q5IsuY5DnINM2B5gVesSr8bz6K1y+2+M5ttmEBTuZHLKH8usuldhvyKmajt2AukUtu1hZ4TWVSl9ap0hieiRpuw8z7zEbz4G3SooFiDWUUsW+jIwdnOm601z9h6Dd0ym5+m87y4ub/pHdqdJXkx/+ApKujA+6MdQVsNb2nwIzgCvv1YP0oeKDYz5u91uNfB/UYHsIzXqIkwq4qYSyutFq59h8ZrbdGKZnO3DSNlor9a/p9xc8puqg23NT0ZdHT8AN9/JKgryTFRLkMDgvsgU8eyvzh04QX9/cfy+ln4PmsnFbT+9nk8+SuCAajYdWezv05PCn3QSyEarvh6yTwtHP9HIw6GSKkwz46WvfemP4HX6/xxxZvkL2TOP+DPyePxvAdy7WW4ew9+xCxJEnYuxrdu4ScZOd/9A7J/gaovLao</script> <treescope-run-here><script type=\"application/octet-stream\"> const root = ( Array.from(document.getElementsByClassName( \"treescope_out_fe827156f413402c9575e5e9a7e1e987\")) .filter((elt) => !elt.dataset['step0']) )[0]; root.dataset['step0'] = 1; root.defns.insertContent( this.parentNode.querySelector('script[type=\"application/octet-stream\"]'), true ); this.parentNode.remove(); </script></treescope-run-here> </div>"
      ],
      "text/plain": [
       "<IPython.core.display.HTML object>"
      ]
     },
     "metadata": {},
     "output_type": "display_data"
    },
    {
     "data": {
      "text/html": [
       "<div style=\"display:none\"> <script type=\"application/octet-stream\" >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</script> <treescope-run-here><script type=\"application/octet-stream\"> const root = ( Array.from(document.getElementsByClassName( \"treescope_out_fe827156f413402c9575e5e9a7e1e987\")) .filter((elt) => !elt.dataset['step1']) )[0]; root.dataset['step1'] = 1; root.defns.insertContent( this.parentNode.querySelector('script[type=\"application/octet-stream\"]'), true ); this.parentNode.remove(); </script></treescope-run-here> </div>"
      ],
      "text/plain": [
       "<IPython.core.display.HTML object>"
      ]
     },
     "metadata": {},
     "output_type": "display_data"
    },
    {
     "data": {
      "text/html": [
       "<treescope-run-here><script type=\"application/octet-stream\"> const root = ( Array.from(document.getElementsByClassName( \"treescope_out_fe827156f413402c9575e5e9a7e1e987\")) .filter((elt) => !elt.dataset.stolen) )[0]; root.dataset.stolen = 1; this.parentNode.replaceChild(root, this); </script></treescope-run-here>"
      ],
      "text/plain": [
       "# jax.Array bool(5, 3) true:2 false:13\n",
       "  Array([[False, False, False],\n",
       "         [ True, False, False],\n",
       "         [False, False, False],\n",
       "         [False,  True, False],\n",
       "         [False, False, False]], dtype=bool)\n"
      ]
     },
     "execution_count": 45,
     "metadata": {},
     "output_type": "execute_result"
    }
   ],
   "source": [
    "is_new"
   ]
  },
  {
   "cell_type": "code",
   "execution_count": null,
   "metadata": {},
   "outputs": [],
   "source": []
  }
 ],
 "metadata": {
  "kernelspec": {
   "display_name": "gpu",
   "language": "python",
   "name": "python3"
  },
  "language_info": {
   "codemirror_mode": {
    "name": "ipython",
    "version": 3
   },
   "file_extension": ".py",
   "mimetype": "text/x-python",
   "name": "python",
   "nbconvert_exporter": "python",
   "pygments_lexer": "ipython3",
   "version": "3.12.5"
  }
 },
 "nbformat": 4,
 "nbformat_minor": 2
}
