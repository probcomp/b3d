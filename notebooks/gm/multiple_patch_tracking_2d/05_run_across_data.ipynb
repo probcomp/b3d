{
 "cells": [
  {
   "cell_type": "code",
   "execution_count": 1,
   "metadata": {},
   "outputs": [],
   "source": [
    "%load_ext autoreload\n",
    "%autoreload 2"
   ]
  },
  {
   "cell_type": "code",
   "execution_count": 2,
   "metadata": {},
   "outputs": [],
   "source": [
    "import b3d\n",
    "import sys\n",
    "\n",
    "sys.path.append(str(b3d.get_root_path()))"
   ]
  },
  {
   "cell_type": "code",
   "execution_count": 3,
   "metadata": {},
   "outputs": [],
   "source": [
    "from tests.sama4d.video_to_tracks.video_to_tracks_task import VideoToTracksTask\n",
    "from tests.sama4d.video_to_tracks.solvers.conv_with_reinstantiation import PatchTracker2DSolver\n",
    "import genjax\n",
    "import rerun\n",
    "\n",
    "genjax.pretty()"
   ]
  },
  {
   "cell_type": "code",
   "execution_count": null,
   "metadata": {},
   "outputs": [],
   "source": [
    "for filename in [\n",
    "    # \"pan_around_blocks.npz\",\n",
    "    \"pan_around_frog.npz\",\n",
    "    # \"pan_around_rocket.npz\",\n",
    "    # \"pan_through_plantroom.npz\",\n",
    "    \"grab_box_2_pixel4a.FeatureTrackData.npz\"\n",
    "]:\n",
    "    path = b3d.get_assets_path() / 'shared_data_bucket/dynamic_SfM/feature_track_data' / filename\n",
    "    ftd_og = b3d.io.FeatureTrackData.load(str(path)).slice_time(0, 20)\n",
    "\n",
    "    task = VideoToTracksTask.from_feature_track_data(ftd_og, has_no_moving_objects=True)\n",
    "\n",
    "    solver = PatchTracker2DSolver(\n",
    "        patch_size=11,\n",
    "        num_tracks=80,\n",
    "        frames_before_adding_to_active_set=7,\n",
    "        reinitialize_patches=True,\n",
    "        culling_error_threshold=60,\n",
    "        culling_error_ratio_threshold=0.8,\n",
    "        mindist_for_second_error=4,\n",
    "        maxdist_for_second_error=40\n",
    "    )"
   ]
  }
 ],
 "metadata": {
  "kernelspec": {
   "display_name": "gpu",
   "language": "python",
   "name": "python3"
  },
  "language_info": {
   "codemirror_mode": {
    "name": "ipython",
    "version": 3
   },
   "file_extension": ".py",
   "mimetype": "text/x-python",
   "name": "python",
   "nbconvert_exporter": "python",
   "pygments_lexer": "ipython3",
   "version": "3.12.5"
  }
 },
 "nbformat": 4,
 "nbformat_minor": 2
}
