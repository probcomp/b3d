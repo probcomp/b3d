{
 "cells": [
  {
   "cell_type": "code",
   "execution_count": 1,
   "metadata": {},
   "outputs": [],
   "source": [
    "import jax\n",
    "import jax.numpy as jnp"
   ]
  },
  {
   "cell_type": "code",
   "execution_count": 2,
   "metadata": {},
   "outputs": [],
   "source": [
    "N_pts = 200_000\n",
    "N_pix = 1_000_000"
   ]
  },
  {
   "cell_type": "code",
   "execution_count": 3,
   "metadata": {},
   "outputs": [
    {
     "data": {
      "text/plain": [
       "(200000,)"
      ]
     },
     "execution_count": 3,
     "metadata": {},
     "output_type": "execute_result"
    }
   ],
   "source": [
    "key = jax.random.PRNGKey(123)\n",
    "pix_idxs = jax.vmap(\n",
    "    lambda key: jax.random.randint(key, (), 0, N_pts // 4)\n",
    ")(jax.random.split(key, N_pts))\n",
    "pix_idxs.shape"
   ]
  },
  {
   "cell_type": "code",
   "execution_count": 4,
   "metadata": {},
   "outputs": [],
   "source": [
    "def _get_first_n(pix_idxs, n):\n",
    "    \"\"\"\n",
    "    Returns an array of shape (N_pix, n) containing the first n indices\n",
    "    into N_pts containing index i.\n",
    "    \"\"\"\n",
    "    arr = -jnp.ones((pix_idxs.shape[0], n), dtype=int)\n",
    "    for t in range(n):\n",
    "        vals, idx, cts = jnp.unique(pix_idxs, size=N_pix, return_counts=True, return_index=True)\n",
    "        arr = arr.at[idx, t].set(vals)\n",
    "        pix_idxs = pix_idxs.at[idx].set(-1)\n",
    "    return arr\n",
    "get_first_n = jax.jit(_get_first_n, static_argnums=(1,))"
   ]
  },
  {
   "cell_type": "code",
   "execution_count": 5,
   "metadata": {},
   "outputs": [],
   "source": [
    "import time"
   ]
  },
  {
   "cell_type": "code",
   "execution_count": 6,
   "metadata": {},
   "outputs": [
    {
     "data": {
      "text/plain": [
       "1.5504238605499268"
      ]
     },
     "execution_count": 6,
     "metadata": {},
     "output_type": "execute_result"
    }
   ],
   "source": [
    "st = time.time()\n",
    "get_first_n(pix_idxs, 1)\n",
    "time.time() - st"
   ]
  },
  {
   "cell_type": "code",
   "execution_count": 10,
   "metadata": {},
   "outputs": [],
   "source": [
    "tiled = jnp.tile(pix_idxs, (400, 1))"
   ]
  },
  {
   "cell_type": "code",
   "execution_count": 11,
   "metadata": {},
   "outputs": [],
   "source": [
    "get_first_n_vmapped = jax.jit(jax.vmap(get_first_n, in_axes=(0, None)), static_argnums=(1,))"
   ]
  },
  {
   "cell_type": "code",
   "execution_count": 14,
   "metadata": {},
   "outputs": [
    {
     "data": {
      "text/plain": [
       "0.6735115051269531"
      ]
     },
     "execution_count": 14,
     "metadata": {},
     "output_type": "execute_result"
    }
   ],
   "source": [
    "st = time.time()\n",
    "get_first_n_vmapped(tiled, 1)\n",
    "time.time() - st"
   ]
  },
  {
   "cell_type": "code",
   "execution_count": null,
   "metadata": {},
   "outputs": [],
   "source": [
    "# 400 max vs 4000 max; .67s vs .027s (25x faster)"
   ]
  },
  {
   "cell_type": "code",
   "execution_count": null,
   "metadata": {},
   "outputs": [],
   "source": []
  },
  {
   "cell_type": "code",
   "execution_count": 15,
   "metadata": {},
   "outputs": [],
   "source": [
    "def _get_first_n_v2(key ,pix_idxs, n):\n",
    "    arr = -jnp.ones((pix_idxs.shape[0], n), dtype=int)\n",
    "    pi = jax.random.shuffle(key, pix_idxs)\n",
    "    random_indices = jax.random.randint(key, pix_idxs.shape, 0, 10)\n",
    "    return arr.at[pix_idxs, random_indices].set(jnp.arange(pix_idxs.shape[0]))\n",
    "get_first_n_v2 = jax.jit(_get_first_n_v2, static_argnums=(2,))"
   ]
  },
  {
   "cell_type": "code",
   "execution_count": 16,
   "metadata": {},
   "outputs": [
    {
     "data": {
      "text/plain": [
       "0.7456269264221191"
      ]
     },
     "execution_count": 16,
     "metadata": {},
     "output_type": "execute_result"
    }
   ],
   "source": [
    "st = time.time()\n",
    "a = get_first_n_v2(key, pix_idxs, 1)\n",
    "time.time() - st\n",
    "# ~~ 0.0012 seconds"
   ]
  },
  {
   "cell_type": "code",
   "execution_count": 26,
   "metadata": {},
   "outputs": [],
   "source": [
    "tiled = jnp.tile(pix_idxs, (500, 1))"
   ]
  },
  {
   "cell_type": "code",
   "execution_count": 27,
   "metadata": {},
   "outputs": [],
   "source": [
    "get_first_n_v2_vmapped = jax.jit(jax.vmap(get_first_n_v2, in_axes=(None, 0, None)), static_argnums=(2,))"
   ]
  },
  {
   "cell_type": "code",
   "execution_count": 28,
   "metadata": {},
   "outputs": [
    {
     "data": {
      "text/plain": [
       "0.7378904819488525"
      ]
     },
     "execution_count": 28,
     "metadata": {},
     "output_type": "execute_result"
    }
   ],
   "source": [
    "st = time.time()\n",
    "a = get_first_n_v2_vmapped(key, tiled, 10)\n",
    "time.time() - st"
   ]
  },
  {
   "cell_type": "code",
   "execution_count": null,
   "metadata": {},
   "outputs": [],
   "source": []
  },
  {
   "cell_type": "code",
   "execution_count": 18,
   "metadata": {},
   "outputs": [
    {
     "data": {
      "text/plain": [
       "Array([    0,     1,     2, ..., 99997, 99998, 99999], dtype=int32)"
      ]
     },
     "execution_count": 18,
     "metadata": {},
     "output_type": "execute_result"
    }
   ],
   "source": [
    "vals, idx, cts = jnp.unique(pix_idxs, size=100_000, return_counts=True, return_index=True)\n",
    "vals"
   ]
  },
  {
   "cell_type": "code",
   "execution_count": null,
   "metadata": {},
   "outputs": [],
   "source": []
  }
 ],
 "metadata": {
  "kernelspec": {
   "display_name": "gpu",
   "language": "python",
   "name": "python3"
  },
  "language_info": {
   "codemirror_mode": {
    "name": "ipython",
    "version": 3
   },
   "file_extension": ".py",
   "mimetype": "text/x-python",
   "name": "python",
   "nbconvert_exporter": "python",
   "pygments_lexer": "ipython3",
   "version": "3.12.5"
  }
 },
 "nbformat": 4,
 "nbformat_minor": 2
}
