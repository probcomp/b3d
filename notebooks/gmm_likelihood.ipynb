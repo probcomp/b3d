{
 "cells": [
  {
   "cell_type": "code",
   "execution_count": 1,
   "metadata": {},
   "outputs": [],
   "source": [
    "import rerun as rr\n",
    "import genjax\n",
    "import os\n",
    "import numpy as np\n",
    "import jax.numpy as jnp\n",
    "import jax\n",
    "from b3d import Pose\n",
    "import b3d\n",
    "from tqdm import tqdm\n",
    "import trimesh\n",
    "import pytest\n",
    "from PIL import Image\n",
    "import matplotlib.pyplot as plt\n",
    "import matplotlib"
   ]
  },
  {
   "cell_type": "code",
   "execution_count": 2,
   "metadata": {},
   "outputs": [],
   "source": [
    "PORT = 8812\n",
    "rr.init(\"233\")\n",
    "rr.connect(addr=f\"127.0.0.1:{PORT}\")"
   ]
  },
  {
   "cell_type": "code",
   "execution_count": 3,
   "metadata": {},
   "outputs": [],
   "source": [
    "import functools\n",
    "\n",
    "import jax\n",
    "import jax.numpy as jnp\n",
    "\n",
    "\n",
    "###########\n",
    "@functools.partial(\n",
    "    jnp.vectorize,\n",
    "    signature=\"(m)->()\",\n",
    "    excluded=(\n",
    "        1,\n",
    "        2,\n",
    "        3,\n",
    "        4,\n",
    "        5,\n",
    "        6,\n",
    "    ),\n",
    ")\n",
    "def gausssian_mixture_vectorize_old(\n",
    "    ij,\n",
    "    observed_xyz: jnp.ndarray,\n",
    "    rendered_xyz_padded: jnp.ndarray,\n",
    "    variance,\n",
    "    outlier_prob: float,\n",
    "    outlier_volume: float,\n",
    "    filter_size: int,\n",
    "):\n",
    "    distances = observed_xyz[ij[0], ij[1], :3] - jax.lax.dynamic_slice(\n",
    "        rendered_xyz_padded,\n",
    "        (ij[0], ij[1], 0),\n",
    "        (2 * filter_size + 1, 2 * filter_size + 1, 3),\n",
    "    )\n",
    "    probabilities = jax.scipy.stats.norm.logpdf(\n",
    "        distances, loc=0.0, scale=jnp.sqrt(variance)\n",
    "    ).sum(-1) - jnp.log(observed_xyz.shape[0] * observed_xyz.shape[1])\n",
    "    # return jnp.logaddexp(\n",
    "    #     probabilities.max() + jnp.log(1.0 - outlier_prob),\n",
    "    #     jnp.log(outlier_prob) - jnp.log(outlier_volume),\n",
    "    # )\n",
    "    return {\n",
    "        \"inlier_score\": probabilities.max() + jnp.log(1.0 - outlier_prob),\n",
    "        \"outlier_score\": jnp.log(outlier_prob) - jnp.log(outlier_volume),\n",
    "    }\n",
    "\n",
    "\n",
    "def threedp3_likelihood_per_pixel_old(\n",
    "    observed_xyz: jnp.ndarray,\n",
    "    rendered_xyz: jnp.ndarray,\n",
    "    variance,\n",
    "    outlier_prob,\n",
    "    outlier_volume,\n",
    "    filter_size,\n",
    "):\n",
    "    rendered_xyz_padded = jax.lax.pad(\n",
    "        rendered_xyz,\n",
    "        -100.0,\n",
    "        (\n",
    "            (\n",
    "                filter_size,\n",
    "                filter_size,\n",
    "                0,\n",
    "            ),\n",
    "            (\n",
    "                filter_size,\n",
    "                filter_size,\n",
    "                0,\n",
    "            ),\n",
    "            (\n",
    "                0,\n",
    "                0,\n",
    "                0,\n",
    "            ),\n",
    "        ),\n",
    "    )\n",
    "    jj, ii = jnp.meshgrid(\n",
    "        jnp.arange(observed_xyz.shape[1]), jnp.arange(observed_xyz.shape[0])\n",
    "    )\n",
    "    indices = jnp.stack([ii, jj], axis=-1)\n",
    "    log_probabilities = gausssian_mixture_vectorize_old(\n",
    "        indices,\n",
    "        observed_xyz,\n",
    "        rendered_xyz_padded,\n",
    "        variance,\n",
    "        outlier_prob,\n",
    "        outlier_volume,\n",
    "        filter_size,\n",
    "    )\n",
    "    return log_probabilities\n",
    "\n",
    "\n",
    "def threedp3_likelihood_old(\n",
    "    observed_xyz: jnp.ndarray,\n",
    "    rendered_xyz: jnp.ndarray,\n",
    "    variance,\n",
    "    outlier_prob,\n",
    "    outlier_volume,\n",
    "    focal_length,\n",
    "    filter_size,\n",
    "):\n",
    "    log_probabilities_per_pixel = threedp3_likelihood_per_pixel_old(\n",
    "        observed_xyz, rendered_xyz, variance, outlier_prob, outlier_volume, filter_size\n",
    "    )\n",
    "    return log_probabilities_per_pixel  # .sum()\n",
    "\n",
    "\n",
    "def threedp3_likelihood(\n",
    "    observed_xyz: jnp.ndarray,\n",
    "    rendered_xyz: jnp.ndarray,\n",
    "    variance,\n",
    "    outlier_prob,\n",
    "):\n",
    "    distances = jnp.linalg.norm(observed_xyz - rendered_xyz, axis=-1)\n",
    "    probabilities_per_pixel = (distances < variance / 2) / variance\n",
    "    average_probability = probabilities_per_pixel.mean()\n",
    "    return average_probability"
   ]
  },
  {
   "cell_type": "code",
   "execution_count": 4,
   "metadata": {},
   "outputs": [],
   "source": [
    "likelihood = jax.vmap(\n",
    "    threedp3_likelihood_old, in_axes=(None, 0, None, None, None, None, None)\n",
    ")"
   ]
  },
  {
   "cell_type": "code",
   "execution_count": 5,
   "metadata": {},
   "outputs": [
    {
     "name": "stderr",
     "output_type": "stream",
     "text": [
      "/opt/conda/envs/b3d2/lib/python3.12/site-packages/trimesh/grouping.py:99: RuntimeWarning: invalid value encountered in cast\n",
      "  stacked = np.column_stack(stacked).round().astype(np.int64)\n"
     ]
    },
    {
     "name": "stdout",
     "output_type": "stream",
     "text": [
      "Vertices dimensions : [0.116984   0.09313101 0.081303  ]\n"
     ]
    },
    {
     "data": {
      "image/jpeg": "[encoded data removed]",
      "image/png": "[encoded data removed]",
      "text/plain": [
       "<PIL.Image.Image image mode=RGB size=100x100>"
      ]
     },
     "execution_count": 5,
     "metadata": {},
     "output_type": "execute_result"
    }
   ],
   "source": [
    "image_width, image_height, fx, fy, cx, cy, near, far = (\n",
    "    100,\n",
    "    100,\n",
    "    200.0,\n",
    "    200.0,\n",
    "    50.0,\n",
    "    50.0,\n",
    "    0.01,\n",
    "    10.0,\n",
    ")\n",
    "renderer = b3d.Renderer(image_width, image_height, fx, fy, cx, cy, near, far)\n",
    "\n",
    "mesh_path = os.path.join(\n",
    "    b3d.get_root_path(), \"assets/shared_data_bucket/025_mug/textured.obj\"\n",
    ")\n",
    "mesh = trimesh.load(mesh_path)\n",
    "vertices = jnp.array(mesh.vertices)\n",
    "vertices = vertices - jnp.mean(vertices, axis=0)\n",
    "faces = jnp.array(mesh.faces)\n",
    "vertex_colors = vertices * 0.0 + jnp.array([1.0, 0.0, 0.0])\n",
    "vertex_colors = jnp.array(mesh.visual.to_color().vertex_colors)[..., :3] / 255.0\n",
    "print(\"Vertices dimensions :\", vertices.max(0) - vertices.min(0))\n",
    "\n",
    "key = jax.random.PRNGKey(0)\n",
    "\n",
    "camera_pose = Pose.from_position_and_target(\n",
    "    jnp.array([0.6, 0.0, 0.0]), jnp.array([0.0, 0.0, 0.0])\n",
    ")\n",
    "\n",
    "cp_to_pose = lambda cp: Pose(\n",
    "    jnp.array([cp[0], cp[1], 0.0]),\n",
    "    b3d.Rot.from_rotvec(jnp.array([0.0, 0.0, cp[2]])).as_quat(),\n",
    ")\n",
    "object_library = b3d.MeshLibrary.make_empty_library()\n",
    "object_library.add_object(vertices, faces, vertex_colors)\n",
    "\n",
    "cps_to_test = [\n",
    "    jnp.array([0.0, 0.0, jnp.pi]),  # Hidden\n",
    "    jnp.array([0.0, 0.0, -jnp.pi / 2]),  # Side\n",
    "    jnp.array([0.0, 0.0, 0.0]),  # Front\n",
    "    jnp.array([0.0, 0.0, +jnp.pi / 2]),  # Side\n",
    "]\n",
    "\n",
    "text_index = 0  # 1\n",
    "\n",
    "gt_cp = cps_to_test[text_index]\n",
    "\n",
    "object_pose = cp_to_pose(gt_cp)\n",
    "\n",
    "gt_img, gt_depth = renderer.render_attribute(\n",
    "    (camera_pose.inv() @ object_pose)[None, ...],\n",
    "    object_library.vertices,\n",
    "    object_library.faces,\n",
    "    object_library.ranges[jnp.array([0])],\n",
    "    object_library.attributes,\n",
    ")\n",
    "b3d.get_rgb_pil_image(gt_img)"
   ]
  },
  {
   "cell_type": "code",
   "execution_count": 6,
   "metadata": {},
   "outputs": [],
   "source": [
    "delta_cps = jnp.stack(\n",
    "    jnp.meshgrid(\n",
    "        jnp.linspace(-0.02, 0.02, 31),\n",
    "        jnp.linspace(-0.02, 0.02, 31),\n",
    "        jnp.linspace(-jnp.pi, jnp.pi, 71),\n",
    "    ),\n",
    "    axis=-1,\n",
    ").reshape(-1, 3)\n",
    "\n",
    "\n",
    "cp_delta_poses = jax.vmap(cp_to_pose)(delta_cps)\n",
    "\n",
    "test_poses = object_pose @ cp_delta_poses\n",
    "\n",
    "test_poses_batches = test_poses.split(100)"
   ]
  },
  {
   "cell_type": "code",
   "execution_count": 7,
   "metadata": {},
   "outputs": [],
   "source": [
    "from b3d.camera import unproject_depth"
   ]
  },
  {
   "cell_type": "code",
   "execution_count": 8,
   "metadata": {},
   "outputs": [],
   "source": [
    "gt_depth_image = unproject_depth(\n",
    "    gt_depth,\n",
    "    (\n",
    "        100,\n",
    "        100,\n",
    "        200.0,\n",
    "        200.0,\n",
    "        50.0,\n",
    "        50.0,\n",
    "        0.01,\n",
    "        10.0,\n",
    "    ),\n",
    ")"
   ]
  },
  {
   "cell_type": "code",
   "execution_count": 9,
   "metadata": {},
   "outputs": [],
   "source": [
    "scores = []\n",
    "inlier_scores = []\n",
    "undecided_scores = []\n",
    "outlier_scores = []\n",
    "\n",
    "for batch in test_poses_batches:\n",
    "    rgb_ims, depth_ims = renderer.render_attribute_many(\n",
    "        (camera_pose.inv() @ batch)[:, None, ...],\n",
    "        object_library.vertices,\n",
    "        object_library.faces,\n",
    "        object_library.ranges[jnp.array([0])],\n",
    "        object_library.attributes,\n",
    "    )\n",
    "\n",
    "    unproject_depth_vec = jax.vmap(unproject_depth, (0, None))\n",
    "    rendered_images = unproject_depth_vec(\n",
    "        depth_ims,\n",
    "        (\n",
    "            100,\n",
    "            100,\n",
    "            200.0,\n",
    "            200.0,\n",
    "            50.0,\n",
    "            50.0,\n",
    "            0.01,\n",
    "            10.0,\n",
    "        ),\n",
    "    )\n",
    "    # 1.0 far plane is fixed, value is used for 'unexplained' pixels\n",
    "\n",
    "    # variance,outlier_prob,outlier_volume,focal_length,filter_size,\n",
    "    # 0.05, 0.1, 10**3, 0.1, 3\n",
    "    scores_batch = likelihood(gt_depth_image, rendered_images, 0.005, 0.1, 10, 0.1, 3)\n",
    "    scores_frame = jnp.logaddexp(\n",
    "        scores_batch[\"inlier_score\"], scores_batch[\"outlier_score\"]\n",
    "    )\n",
    "    scores.append(scores_frame.sum(axis=(1, 2)))\n",
    "\n",
    "    # modify to get inlier/outlier performance back in\n",
    "\n",
    "    # inlier_scores.append(scores_dict['inlier_score'])\n",
    "    # undecided_scores.append(scores_dict['undecided_score'])\n",
    "    # outlier_scores.append(scores_dict['outlier_score'])\n",
    "\n",
    "scores = jnp.concatenate(scores)\n",
    "samples = jax.random.categorical(key, scores, shape=(50,))"
   ]
  },
  {
   "cell_type": "code",
   "execution_count": 21,
   "metadata": {},
   "outputs": [
    {
     "data": {
      "text/plain": [
       "(682, 100, 100)"
      ]
     },
     "execution_count": 21,
     "metadata": {},
     "output_type": "execute_result"
    }
   ],
   "source": [
    "scores_batch[\"inlier_score\"].shape"
   ]
  },
  {
   "cell_type": "code",
   "execution_count": 10,
   "metadata": {},
   "outputs": [
    {
     "data": {
      "text/plain": [
       "(100, 100, 3)"
      ]
     },
     "execution_count": 10,
     "metadata": {},
     "output_type": "execute_result"
    }
   ],
   "source": [
    "gt_depth_image.shape"
   ]
  },
  {
   "cell_type": "code",
   "execution_count": 11,
   "metadata": {},
   "outputs": [
    {
     "data": {
      "text/plain": [
       "<matplotlib.colorbar.Colorbar at 0x7fac44cf2a20>"
      ]
     },
     "execution_count": 11,
     "metadata": {},
     "output_type": "execute_result"
    },
    {
     "data": {
      "image/png": "[encoded data removed]",
      "text/plain": [
       "<Figure size 640x480 with 2 Axes>"
      ]
     },
     "metadata": {},
     "output_type": "display_data"
    }
   ],
   "source": [
    "original_view_im, original_view_depth = renderer.render_attribute(\n",
    "    (camera_pose.inv() @ test_poses[jnp.argsort(scores)[::-1][2]])[None, ...],  #\n",
    "    object_library.vertices,\n",
    "    object_library.faces,\n",
    "    object_library.ranges[jnp.array([0])],\n",
    "    object_library.attributes,\n",
    ")\n",
    "\n",
    "# generate inlier/outlier maps\n",
    "\n",
    "xyz = unproject_depth(\n",
    "    original_view_depth,\n",
    "    (\n",
    "        100,\n",
    "        100,\n",
    "        200.0,\n",
    "        200.0,\n",
    "        50.0,\n",
    "        50.0,\n",
    "        0.01,\n",
    "        10.0,\n",
    "    ),\n",
    ")\n",
    "pixel_scores = likelihood(gt_depth_image, xyz[None, ...], 0.005, 0.1, 10, None, 3)\n",
    "\n",
    "# fig, (ax1, ax2, ax3) = plt.subplots(1, 3)\n",
    "# fig.suptitle('Masks (inlier, teleport outlier, nonteleport outlier)')\n",
    "# ax1.imshow(pixel_scores[0])\n",
    "\n",
    "plt.imshow(pixel_scores[\"inlier_score\"][0])\n",
    "plt.axis(\"off\")\n",
    "plt.title(\"inlier heatmap\")\n",
    "plt.colorbar()"
   ]
  },
  {
   "cell_type": "code",
   "execution_count": 12,
   "metadata": {},
   "outputs": [
    {
     "data": {
      "text/plain": [
       "<matplotlib.image.AxesImage at 0x7fac4490ad80>"
      ]
     },
     "execution_count": 12,
     "metadata": {},
     "output_type": "execute_result"
    },
    {
     "data": {
      "image/png": "[encoded data removed]",
      "text/plain": [
       "<Figure size 640x480 with 1 Axes>"
      ]
     },
     "metadata": {},
     "output_type": "display_data"
    }
   ],
   "source": [
    "plt.imshow(original_view_im)"
   ]
  },
  {
   "cell_type": "code",
   "execution_count": null,
   "metadata": {},
   "outputs": [],
   "source": []
  },
  {
   "cell_type": "code",
   "execution_count": null,
   "metadata": {},
   "outputs": [],
   "source": []
  },
  {
   "cell_type": "code",
   "execution_count": 13,
   "metadata": {},
   "outputs": [],
   "source": [
    "# weights_new = likelihood(gt_image, rendered_images, 0.05, 0.1, 10**3, 0.1, 3)"
   ]
  },
  {
   "cell_type": "code",
   "execution_count": 14,
   "metadata": {},
   "outputs": [
    {
     "name": "stdout",
     "output_type": "stream",
     "text": [
      "GT Contact Parameter : [0.        0.        3.1415927]\n",
      "Sampled Angle Range: 334.2857\n"
     ]
    }
   ],
   "source": [
    "samples = jax.random.categorical(key, scores, shape=(50,))\n",
    "print(\"GT Contact Parameter :\", gt_cp)\n",
    "\n",
    "samples_deg_range = jnp.rad2deg(\n",
    "    (jnp.max(delta_cps[samples], axis=0) - jnp.min(delta_cps[samples], axis=0))[2]\n",
    ")\n",
    "\n",
    "print(\"Sampled Angle Range:\", samples_deg_range)\n",
    "pix_scores = scores"
   ]
  },
  {
   "cell_type": "code",
   "execution_count": 15,
   "metadata": {},
   "outputs": [],
   "source": [
    "alternate_camera_pose = Pose.from_position_and_target(\n",
    "    jnp.array([0.01, 0.000, 0.9]), object_pose.pos\n",
    ")\n",
    "alternate_view_images, _ = renderer.render_attribute_many(\n",
    "    (alternate_camera_pose.inv() @ test_poses[samples])[:, None, ...],\n",
    "    object_library.vertices,\n",
    "    object_library.faces,\n",
    "    object_library.ranges[jnp.array([0])],\n",
    "    object_library.attributes,\n",
    ")\n",
    "\n",
    "original_view_images, original_view_depths = renderer.render_attribute_many(\n",
    "    (camera_pose.inv() @ test_poses[samples])[:, None, ...],\n",
    "    object_library.vertices,\n",
    "    object_library.faces,\n",
    "    object_library.ranges[jnp.array([0])],\n",
    "    object_library.attributes,\n",
    ")\n",
    "\n",
    "xyzs = unproject_depth_vec(\n",
    "    original_view_depths,\n",
    "    (\n",
    "        100,\n",
    "        100,\n",
    "        200.0,\n",
    "        200.0,\n",
    "        50.0,\n",
    "        50.0,\n",
    "        0.01,\n",
    "        10.0,\n",
    "    ),\n",
    ")\n",
    "pixel_scores = likelihood(gt_depth_image, xyzs, 0.005, 0.1, 10, None, 3)\n",
    "\n",
    "for t in range(len(alternate_view_images)):\n",
    "    rr.set_time_sequence(\"time\", t)\n",
    "    rr.log(f\"samples/alternate_view\", rr.Image(alternate_view_images[t]))\n",
    "    # rr.log(f\"samples/original_view\", rr.Image(original_view_images[t]))\n",
    "    # rr.log(f\"samples/overlay_mask\", rr.Image((gt_img.sum(axis=2)>0)*1.0))\n",
    "    rr.log(\n",
    "        f\"samples/original_view\",\n",
    "        rr.Image(\n",
    "            (\n",
    "                original_view_images[t] * 0.7\n",
    "                + (gt_img.sum(axis=2) > 0)[..., None] * jnp.ones(3)[None, None, :] * 0.3\n",
    "            )\n",
    "        ),\n",
    "    )\n",
    "\n",
    "    pixel_im = pixel_scores[\"inlier_score\"][t]\n",
    "    cmap = matplotlib.colormaps[\"inferno\"]\n",
    "    norm = matplotlib.colors.Normalize(vmin=pixel_im.min(), vmax=pixel_im.max())\n",
    "    rr.log(f\"samples/heatmap\", rr.Image(cmap(norm(pixel_im))))"
   ]
  },
  {
   "cell_type": "code",
   "execution_count": 16,
   "metadata": {},
   "outputs": [],
   "source": [
    "# b3d.make_gif_from_pil_images([b3d.overlay_image(Image.fromarray(np.array(original_view_image*255).astype(np.uint8)), Image.fromarray(np.array(gt_img*255).astype(np.uint8)))\n",
    "#                               for original_view_image in original_view_images], 'gaussian_posterior_coarse_samples.gif'\n",
    "# )"
   ]
  },
  {
   "cell_type": "code",
   "execution_count": 17,
   "metadata": {},
   "outputs": [
    {
     "data": {
      "text/plain": [
       "[<matplotlib.lines.Line2D at 0x7fabe2d48a40>]"
      ]
     },
     "execution_count": 17,
     "metadata": {},
     "output_type": "execute_result"
    },
    {
     "data": {
      "image/png": "[encoded data removed]",
      "text/plain": [
       "<Figure size 640x480 with 1 Axes>"
      ]
     },
     "metadata": {},
     "output_type": "display_data"
    }
   ],
   "source": [
    "plt.plot(scores)"
   ]
  },
  {
   "cell_type": "code",
   "execution_count": 18,
   "metadata": {},
   "outputs": [],
   "source": [
    "# samples = jax.random.categorical(key, jnp.zeros(test_poses.shape), shape=(50,))\n",
    "\n",
    "# alternate_view_images, alternate_view_depths = renderer.render_attribute_many(\n",
    "#     (alternate_camera_pose.inv() @ test_poses[samples])[:, None, ...],\n",
    "#     object_library.vertices,\n",
    "#     object_library.faces,\n",
    "#     object_library.ranges[jnp.array([0])],\n",
    "#     object_library.attributes,\n",
    "# )\n",
    "\n",
    "# original_view_images, original_view_depths = renderer.render_attribute_many(\n",
    "#     (camera_pose.inv() @ test_poses[samples])[:, None, ...],\n",
    "#     object_library.vertices,\n",
    "#     object_library.faces,\n",
    "#     object_library.ranges[jnp.array([0])],\n",
    "#     object_library.attributes,\n",
    "# )\n",
    "\n",
    "# for t in range(len(alternate_view_images)):\n",
    "#     rr.set_time_sequence(\"time\", t)\n",
    "#     rr.log(f\"random/alternate_view\", rr.Image(alternate_view_images[t]))\n",
    "#     rr.log(f\"random/original_view\", rr.Image(original_view_images[t]))\n",
    "#     # rr.log(f\"random/alternate_view_depths\", rr.DepthImage(alternate_view_depths[t]))\n",
    "#     # rr.log(f\"random/original_view_depths\", rr.DepthImage(original_view_depths[t]))"
   ]
  },
  {
   "cell_type": "code",
   "execution_count": 19,
   "metadata": {},
   "outputs": [],
   "source": [
    "# b3d.make_gif_from_pil_images([b3d.overlay_image(Image.fromarray(np.array(original_view_image*255).astype(np.uint8)), Image.fromarray(np.array(gt_img*255).astype(np.uint8)))\n",
    "#                               for original_view_image in original_view_images], 'gaussian_random_coarse_samples.gif'\n",
    "# )"
   ]
  },
  {
   "cell_type": "code",
   "execution_count": null,
   "metadata": {},
   "outputs": [],
   "source": []
  },
  {
   "cell_type": "code",
   "execution_count": null,
   "metadata": {},
   "outputs": [],
   "source": []
  }
 ],
 "metadata": {
  "kernelspec": {
   "display_name": "b3d2",
   "language": "python",
   "name": "python3"
  },
  "language_info": {
   "codemirror_mode": {
    "name": "ipython",
    "version": 3
   },
   "file_extension": ".py",
   "mimetype": "text/x-python",
   "name": "python",
   "nbconvert_exporter": "python",
   "pygments_lexer": "ipython3",
   "version": "3.12.4"
  }
 },
 "nbformat": 4,
 "nbformat_minor": 2
}
