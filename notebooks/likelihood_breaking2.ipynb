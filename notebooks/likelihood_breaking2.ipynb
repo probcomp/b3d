{
 "cells": [
  {
   "cell_type": "code",
   "execution_count": 1,
   "metadata": {},
   "outputs": [],
   "source": [
    "import jax.numpy as jnp\n",
    "import b3d\n",
    "import os\n",
    "import trimesh\n",
    "import matplotlib.pyplot as plt\n",
    "import jax"
   ]
  },
  {
   "cell_type": "code",
   "execution_count": 2,
   "metadata": {},
   "outputs": [
    {
     "name": "stderr",
     "output_type": "stream",
     "text": [
      "/opt/conda/envs/b3d/lib/python3.11/site-packages/trimesh/grouping.py:99: RuntimeWarning: invalid value encountered in cast\n",
      "  stacked = np.column_stack(stacked).round().astype(np.int64)\n"
     ]
    }
   ],
   "source": [
    "mesh_path = os.path.join(\n",
    "    b3d.get_root_path(), \"assets/shared_data_bucket/025_mug/textured.obj\"\n",
    ")\n",
    "mesh = trimesh.load(mesh_path)\n",
    "mesh.vertices = mesh.vertices - mesh.vertices.mean(axis=0)\n",
    "\n",
    "object_library = b3d.MeshLibrary.make_empty_library()\n",
    "object_library.add_trimesh(mesh)"
   ]
  },
  {
   "cell_type": "code",
   "execution_count": 3,
   "metadata": {},
   "outputs": [
    {
     "name": "stdout",
     "output_type": "stream",
     "text": [
      "Number of vertices:  10689\n"
     ]
    }
   ],
   "source": [
    "print(\"Number of vertices: \", object_library.vertices.shape[0])\n"
   ]
  },
  {
   "cell_type": "code",
   "execution_count": 4,
   "metadata": {},
   "outputs": [],
   "source": [
    "def gaussian_logpdf(obs_image, rendered_image,b, multiplier, a, outlier_prob):\n",
    "    probabilities = jax.scipy.stats.norm.logpdf(\n",
    "        obs_image, rendered_image, multiplier\n",
    "    )\n",
    "    probabilities_adjusted = jnp.logaddexp(\n",
    "        probabilities + jnp.log(1.0 - outlier_prob),\n",
    "        jnp.log(outlier_prob)\n",
    "    )\n",
    "    return probabilities_adjusted.sum()\n",
    "\n",
    "def gaussian_sample(key, rendered_image, b,multiplier, a, outlier_prob):\n",
    "    return jax.random.normal(\n",
    "        key, shape=rendered_image.shape\n",
    "    ) * multiplier + rendered_image\n",
    "\n",
    "\n",
    "def new_logpdf(observed_rgb, rendered_rgb, rendered_depth, multiplier, color_tolerance, outlier_prob):\n",
    "    observed_lab = b3d.rgb_to_lab(observed_rgb)\n",
    "    rendered_lab = b3d.rgb_to_lab(rendered_rgb)\n",
    "    error = (\n",
    "        jnp.linalg.norm(observed_lab[...,1:3] - rendered_lab[...,1:3], axis=-1) + \n",
    "        jnp.abs(observed_lab[...,0] - rendered_lab[...,0])\n",
    "    )\n",
    "\n",
    "    valid_data_mask = (rendered_rgb.sum(-1) != 0.0)\n",
    "\n",
    "    color_inliers = (error < color_tolerance) * valid_data_mask\n",
    "    inliers = color_inliers\n",
    "    outliers = jnp.logical_not(inliers) * valid_data_mask\n",
    "    undecided = jnp.logical_not(inliers) * jnp.logical_not(outliers)\n",
    "\n",
    "    corrected_depth = rendered_depth + (rendered_depth == 0.0) * 1.0\n",
    "    areas = (corrected_depth / fx) * (corrected_depth / fy)\n",
    "\n",
    "    inlier_score = 4.0\n",
    "    return jnp.log(\n",
    "        # This is leaving out a 1/A (which does depend upon the scene)\n",
    "        inlier_score * jnp.sum(inliers * areas) +\n",
    "        1.0 * jnp.sum(undecided * areas)  +\n",
    "        outlier_prob * jnp.sum(outliers * areas)\n",
    "    ) * multiplier\n"
   ]
  },
  {
   "cell_type": "code",
   "execution_count": 5,
   "metadata": {},
   "outputs": [],
   "source": [
    "linear_pose_from_points = lambda points1, points2, alpha: b3d.Pose.from_position_and_target(\n",
    "    jnp.array([0.0, -2, 0.1]),\n",
    "    jnp.zeros(3)\n",
    ").inv() @ b3d.Pose.from_translation((1 - alpha) * points1 + alpha * points2 )"
   ]
  },
  {
   "cell_type": "code",
   "execution_count": 6,
   "metadata": {},
   "outputs": [],
   "source": [
    "point1 = jnp.array([-0.3,0,0])\n",
    "point2 = jnp.array([0.3,2,0])"
   ]
  },
  {
   "cell_type": "code",
   "execution_count": 7,
   "metadata": {},
   "outputs": [],
   "source": [
    "alphas = jnp.linspace(0, 1, 15)\n",
    "vec_fun = jax.vmap(linear_pose_from_points, (None, None, 0))"
   ]
  },
  {
   "cell_type": "code",
   "execution_count": 8,
   "metadata": {},
   "outputs": [],
   "source": [
    "linear_poses = vec_fun(point1, point2, alphas)\n",
    "transformed_vertices = jax.vmap(lambda i: linear_poses[i].apply(object_library.vertices))(jnp.arange(len(linear_poses)))"
   ]
  },
  {
   "cell_type": "code",
   "execution_count": null,
   "metadata": {},
   "outputs": [],
   "source": []
  },
  {
   "cell_type": "code",
   "execution_count": 9,
   "metadata": {},
   "outputs": [],
   "source": [
    "h,w,fx,fy,cx,cy = 50, 50, 100.0, 100.0, 25.0, 25.0\n",
    "renderers = [\n",
    "    b3d.RendererOriginal(scale * h, scale *w, scale * fx, scale * fy, scale * cx, scale * cy, 0.01, 10.0)\n",
    "    for scale in [1, 3, 5, 7, 9]\n",
    "]"
   ]
  },
  {
   "cell_type": "code",
   "execution_count": 10,
   "metadata": {},
   "outputs": [],
   "source": [
    "def render_rgbd_many(renderer, vertices, faces, attributes):\n",
    "    return renderer.render_many(\n",
    "        transformed_vertices,\n",
    "        object_library.faces,\n",
    "        jnp.concatenate([attributes, transformed_vertices[...,-1:]],axis=-1)\n",
    "    )"
   ]
  },
  {
   "cell_type": "code",
   "execution_count": 11,
   "metadata": {},
   "outputs": [
    {
     "name": "stdout",
     "output_type": "stream",
     "text": [
      "(150, 150, 4)\n"
     ]
    },
    {
     "data": {
      "text/plain": [
       "(-0.5, 149.5, 149.5, -0.5)"
      ]
     },
     "execution_count": 11,
     "metadata": {},
     "output_type": "execute_result"
    },
    {
     "data": {
      "image/png": "[encoded data removed]",
      "text/plain": [
       "<Figure size 1000x500 with 2 Axes>"
      ]
     },
     "metadata": {},
     "output_type": "display_data"
    }
   ],
   "source": [
    "N = len(linear_poses)\n",
    "\n",
    "all_images = [\n",
    "        render_rgbd_many(r,\n",
    "        transformed_vertices,\n",
    "        object_library.faces,\n",
    "        jnp.tile(object_library.attributes, (N,1,1)),\n",
    "    )\n",
    "    for r in renderers\n",
    "]\n",
    "images = all_images[1]\n",
    "gt_image = images[0]\n",
    "print(gt_image.shape)\n",
    "fig, (ax1, ax2) = plt.subplots(1, 2, figsize=(10, 5))\n",
    "# Display the first image in the first subplot\n",
    "ax1.imshow(gt_image[...,:3])\n",
    "ax1.axis('off')  # Hide the axis\n",
    "\n",
    "# Display the second image in the second subplot\n",
    "ax2.matshow(gt_image[...,3])\n",
    "ax2.axis('off')  # Hide the axis\n"
   ]
  },
  {
   "cell_type": "code",
   "execution_count": 12,
   "metadata": {},
   "outputs": [
    {
     "data": {
      "text/plain": [
       "<matplotlib.image.AxesImage at 0x7f6eee4a5ed0>"
      ]
     },
     "execution_count": 12,
     "metadata": {},
     "output_type": "execute_result"
    },
    {
     "data": {
      "image/png": "[encoded data removed]",
      "text/plain": [
       "<Figure size 640x480 with 1 Axes>"
      ]
     },
     "metadata": {},
     "output_type": "display_data"
    }
   ],
   "source": [
    "plt.imshow(images[-1,...,:3])"
   ]
  },
  {
   "cell_type": "code",
   "execution_count": null,
   "metadata": {},
   "outputs": [],
   "source": []
  },
  {
   "cell_type": "code",
   "execution_count": null,
   "metadata": {},
   "outputs": [],
   "source": []
  },
  {
   "cell_type": "code",
   "execution_count": null,
   "metadata": {},
   "outputs": [],
   "source": []
  }
 ],
 "metadata": {
  "kernelspec": {
   "display_name": "b3d",
   "language": "python",
   "name": "python3"
  },
  "language_info": {
   "codemirror_mode": {
    "name": "ipython",
    "version": 3
   },
   "file_extension": ".py",
   "mimetype": "text/x-python",
   "name": "python",
   "nbconvert_exporter": "python",
   "pygments_lexer": "ipython3",
   "version": "3.11.8"
  }
 },
 "nbformat": 4,
 "nbformat_minor": 2
}
