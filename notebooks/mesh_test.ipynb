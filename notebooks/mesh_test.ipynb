{
 "cells": [
  {
   "cell_type": "code",
   "execution_count": 1,
   "metadata": {},
   "outputs": [
    {
     "name": "stderr",
     "output_type": "stream",
     "text": [
      "/home/tiffa/b3d/b3d/pose/core.py:24: SyntaxWarning: invalid escape sequence '\\p'\n",
      "  \"\"\"\n",
      "/home/tiffa/b3d/b3d/pose/core.py:175: SyntaxWarning: invalid escape sequence '\\p'\n",
      "  \"\"\"\n",
      "/home/tiffa/b3d/b3d/pose/pose_utils.py:38: SyntaxWarning: invalid escape sequence '\\c'\n",
      "  \"\"\"\n",
      "/home/tiffa/b3d/b3d/io/video_input.py:9: SyntaxWarning: invalid escape sequence '\\ '\n",
      "  \"\"\"\n",
      "/home/tiffa/b3d/b3d/chisight/sparse/gps_utils.py:49: SyntaxWarning: invalid escape sequence '\\m'\n",
      "  \"\"\"\n"
     ]
    }
   ],
   "source": [
    "import b3d"
   ]
  },
  {
   "cell_type": "code",
   "execution_count": 13,
   "metadata": {},
   "outputs": [
    {
     "ename": "AttributeError",
     "evalue": "'TextureVisuals' object has no attribute 'face_colors'",
     "output_type": "error",
     "traceback": [
      "\u001b[0;31m---------------------------------------------------------------------------\u001b[0m",
      "\u001b[0;31mAttributeError\u001b[0m                            Traceback (most recent call last)",
      "Cell \u001b[0;32mIn[13], line 42\u001b[0m\n\u001b[1;32m     29\u001b[0m trimesh_mesh \u001b[38;5;241m=\u001b[39m trimesh\u001b[38;5;241m.\u001b[39mload_mesh(filepath)\n\u001b[1;32m     31\u001b[0m \u001b[38;5;66;03m# Check if the mesh is loaded correctly\u001b[39;00m\n\u001b[1;32m     32\u001b[0m \u001b[38;5;66;03m# if isinstance(trimesh_mesh, trimesh.Trimesh):\u001b[39;00m\n\u001b[1;32m     33\u001b[0m \u001b[38;5;66;03m#     print(\"Mesh loaded successfully!\")\u001b[39;00m\n\u001b[0;32m   (...)\u001b[0m\n\u001b[1;32m     39\u001b[0m \u001b[38;5;66;03m# trimesh_mesh.vertex_attributes\u001b[39;00m\n\u001b[1;32m     40\u001b[0m \u001b[38;5;66;03m# trimesh_mesh.vertices\u001b[39;00m\n\u001b[0;32m---> 42\u001b[0m \u001b[38;5;28mprint\u001b[39m(\u001b[43mtrimesh_mesh\u001b[49m\u001b[38;5;241;43m.\u001b[39;49m\u001b[43mvisual\u001b[49m\u001b[38;5;241;43m.\u001b[39;49m\u001b[43mface_colors\u001b[49m)\n\u001b[1;32m     43\u001b[0m trimesh_mesh\u001b[38;5;241m.\u001b[39mshow()\n",
      "\u001b[0;31mAttributeError\u001b[0m: 'TextureVisuals' object has no attribute 'face_colors'"
     ]
    }
   ],
   "source": [
    "import trimesh\n",
    "\n",
    "\n",
    "def as_mesh(scene_or_mesh):\n",
    "    \"\"\"\n",
    "    Convert a possible scene to a mesh.\n",
    "\n",
    "    If conversion occurs, the returned mesh has only vertex and face data.\n",
    "    \"\"\"\n",
    "    if isinstance(scene_or_mesh, trimesh.Scene):\n",
    "        if len(scene_or_mesh.geometry) == 0:\n",
    "            mesh = None  # empty scene\n",
    "        else:\n",
    "            # we lose texture information here\n",
    "            mesh = trimesh.util.concatenate(\n",
    "                tuple(trimesh.Trimesh(vertices=g.vertices, faces=g.faces)\n",
    "                    for g in scene_or_mesh.geometry.values()))\n",
    "    else:\n",
    "        assert(isinstance(scene_or_mesh, trimesh.Trimesh))\n",
    "        mesh = scene_or_mesh\n",
    "    return mesh\n",
    "\n",
    "filepath = \"/home/tiffa/b3d/assets/large_data_bucket/unity/primitives/identicalroomsroaming/additional_data/mesh/identical_rooms_single_mesh.obj\"#\n",
    "# filepath = \"/home/tiffa/b3d/assets/large_data_bucket/unity/primitives/identicalroomsroaming/additional_data/mesh/box.obj\"\n",
    "# filepath = \"/home/tiffa/b3d/assets/shared_data_bucket/ycb_video_models/models/002_master_chef_can/textured_simple.obj\"\n",
    "# mesh = b3d.mesh.Mesh.from_obj_file(filepath)\n",
    "\n",
    "\n",
    "trimesh_mesh = trimesh.load_mesh(filepath)\n",
    "\n",
    "# Check if the mesh is loaded correctly\n",
    "# if isinstance(trimesh_mesh, trimesh.Trimesh):\n",
    "#     print(\"Mesh loaded successfully!\")\n",
    "# else:\n",
    "#     print(\"Loaded a scene, not a mesh.\")\n",
    "#     print(trimesh_mesh.geometry.values())\n",
    "\n",
    "# trimesh_mesh = as_mesh(trimesh_mesh)\n",
    "# trimesh_mesh.vertex_attributes\n",
    "# trimesh_mesh.vertices\n",
    "\n",
    "# print(trimesh_mesh.visual.face_colors)\n",
    "trimesh_mesh.show()"
   ]
  }
 ],
 "metadata": {
  "kernelspec": {
   "display_name": "b3d",
   "language": "python",
   "name": "python3"
  },
  "language_info": {
   "codemirror_mode": {
    "name": "ipython",
    "version": 3
   },
   "file_extension": ".py",
   "mimetype": "text/x-python",
   "name": "python",
   "nbconvert_exporter": "python",
   "pygments_lexer": "ipython3",
   "version": "3.12.4"
  }
 },
 "nbformat": 4,
 "nbformat_minor": 2
}
