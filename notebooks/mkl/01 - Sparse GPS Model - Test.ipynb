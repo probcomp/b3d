{
 "cells": [
  {
   "cell_type": "code",
   "execution_count": 1,
   "metadata": {},
   "outputs": [],
   "source": [
    "%load_ext autoreload\n",
    "%autoreload 2"
   ]
  },
  {
   "cell_type": "code",
   "execution_count": 2,
   "metadata": {},
   "outputs": [],
   "source": [
    "import matplotlib.pyplot as plt\n",
    "import genjax\n",
    "import jax\n",
    "import jax.numpy as jnp \n",
    "from b3d.utils import keysplit\n",
    "from b3d.camera import Intrinsics, screen_from_camera\n",
    "from b3d.pose import Pose, camera_from_position_and_target\n",
    "from b3d.pose.pose_utils import uniform_pose_in_ball\n",
    "\n",
    "\n",
    "key = jax.random.PRNGKey(0)"
   ]
  },
  {
   "cell_type": "code",
   "execution_count": 3,
   "metadata": {},
   "outputs": [],
   "source": [
    "from b3d.chisight.sparse.gps_utils import add_dummy_var\n",
    "\n",
    "\n",
    "p0 = Pose.identity()\n",
    "args = (p0, 2., 0.5)\n",
    "dummy_mapped_uniform_pose = add_dummy_var(uniform_pose_in_ball).vmap(in_axes=(0,None,None,None))\n",
    "\n",
    "dummy_mapped_uniform_pose.simulate(key, (jnp.arange(4), *args));"
   ]
  },
  {
   "cell_type": "code",
   "execution_count": 4,
   "metadata": {},
   "outputs": [
    {
     "data": {
      "text/plain": [
       "<matplotlib.collections.PathCollection at 0x7fb72b171910>"
      ]
     },
     "execution_count": 4,
     "metadata": {},
     "output_type": "execute_result"
    },
    {
     "data": {
      "image/png": "[encoded data removed]",
      "text/plain": [
       "<Figure size 640x480 with 1 Axes>"
      ]
     },
     "metadata": {},
     "output_type": "display_data"
    }
   ],
   "source": [
    "from b3d.chisight.sparse.sparse_gps_model import minimal_observation_model\n",
    "from b3d.camera import screen_from_world\n",
    "\n",
    "\n",
    "T = 2\n",
    "N = 10\n",
    "\n",
    "key = keysplit(key)\n",
    "vis = jax.random.randint(key, (N,), 0, 1).astype(bool)\n",
    "\n",
    "key, keys = keysplit(key, 1, N)\n",
    "p0 = Pose.id()\n",
    "ps = jax.vmap(uniform_pose_in_ball.sample, (0,None,None,None))(keys, p0, 1., 0.1)\n",
    "\n",
    "cam = Pose.from_pos(jnp.array([0.,0.,-2.]))\n",
    "intr = Intrinsics(20,20,100.,100.,10.,10.,0.1e-3,1e3)\n",
    "sigma = 2.\n",
    "\n",
    "key = keysplit(key)\n",
    "tr = minimal_observation_model.simulate(key, (vis, ps, cam, intr, sigma));\n",
    "uv_ = tr.get_retval()\n",
    "uv = screen_from_world(ps.pos, cam, intr)\n",
    "# ==============================\n",
    "plt.gca().set_aspect(1)\n",
    "plt.scatter(*uv.T)\n",
    "plt.scatter(*uv_.T)"
   ]
  },
  {
   "cell_type": "code",
   "execution_count": 5,
   "metadata": {},
   "outputs": [
    {
     "name": "stdout",
     "output_type": "stream",
     "text": [
      "Help on function make_sparse_gps_model in module b3d.chisight.sparse.sparse_gps_model:\n",
      "\n",
      "make_sparse_gps_model(T, N, K, F, particle_pose_prior, particle_pose_prior_args, object_pose_prior, object_pose_prior_args, camera_pose_prior, camera_pose_prior_args, observation_model, observation_model_args, object_motion_model, object_motion_model_args, camera_motion_model, camera_motion_model_args)\n",
      "    Models independently moving rigid object as clusters of\n",
      "    Gaussians which specify the position, pose, and uncertainty of 3d keypoints in space.\n",
      "    \n",
      "    For simplicity we assume that keypoints can only emit a single constant feature,\n",
      "    that we may interpret as a \"point light\".\n",
      "    \n",
      "    We can easily extend this model to handle feature vectors.\n",
      "    \n",
      "    Args:\n",
      "        `T`: Number of time steps\n",
      "        `N`: Number of particles\n",
      "        `K`: Number of object clusters\n",
      "        `F`: Feature dimension\n",
      "        `particle_pose_prior`: Particle pose model `(nums: Array, *args) -> poses`.\n",
      "        `particle_pose_prior_args`: Arguments for the particle pose prior\n",
      "        `object_pose_prior`: Cluster prior model `(nums: Array, *args) -> poses`.\n",
      "        `object_pose_prior_args`: Arguments for the object cluster pose prior\n",
      "        `camera_pose_prior`: Camera pose prior model `(*args) -> pose`.\n",
      "        `camera_pose_prior_args`: Arguments for the camera pose prior.\n",
      "        `observation_model`: Observation model `(vis: Array: Array, mus, cam, intr, *args) -> observations`.\n",
      "        `observation_model_args`: Arguments for the observation model\n",
      "        `object_motion_model`: Object motion model `(poses, *args) -> poses`.\n",
      "        `object_motion_model_args`: Arguments for the object motion model\n",
      "        `camera_motion_model`: Camera motion model `(pose, *args) -> pose`.\n",
      "        `camera_motion_model_args`: Arguments for the camera motion model\n",
      "\n"
     ]
    }
   ],
   "source": [
    "from b3d.chisight.sparse.sparse_gps_model import make_sparse_gps_model\n",
    "help(make_sparse_gps_model)"
   ]
  },
  {
   "cell_type": "code",
   "execution_count": 6,
   "metadata": {},
   "outputs": [],
   "source": [
    "logit = jax.scipy.special.logit"
   ]
  },
  {
   "cell_type": "code",
   "execution_count": 7,
   "metadata": {},
   "outputs": [
    {
     "data": {
      "text/plain": [
       "Array(5022, dtype=int32)"
      ]
     },
     "execution_count": 7,
     "metadata": {},
     "output_type": "execute_result"
    }
   ],
   "source": [
    "key, keys = keysplit(key, 1, 10_000)\n",
    "jax.vmap(lambda key: genjax.bernoulli.sample(key, logit(0.5)))(keys).sum()"
   ]
  },
  {
   "cell_type": "code",
   "execution_count": 8,
   "metadata": {},
   "outputs": [],
   "source": [
    "intr = Intrinsics(100, 50, 100., 100., 50., 25., 1e-6, 100.)\n",
    "outlier_prob = 0.0\n",
    "\n",
    "p0 = Pose.identity()\n",
    "particle_pose_prior = dummy_mapped_uniform_pose\n",
    "particle_pose_prior_args = (p0, .5, 0.25)\n",
    "\n",
    "object_pose_prior = dummy_mapped_uniform_pose\n",
    "object_pose_prior_args = (p0, 2., 0.5)\n",
    "\n",
    "camera_pose_prior = uniform_pose_in_ball\n",
    "camera_pose_prior_args = (p0, 0.1, 0.1)\n",
    "\n",
    "observation_model = minimal_observation_model\n",
    "observation_model_args = (2.,)\n",
    "\n",
    "object_motion_model = uniform_pose_in_ball.vmap(in_axes=(0, None, None))\n",
    "object_motion_model_args = (0.1, 0.1)\n",
    "\n",
    "camera_motion_model = uniform_pose_in_ball\n",
    "camera_motion_model_args = (0.1, 0.2)"
   ]
  },
  {
   "cell_type": "code",
   "execution_count": 9,
   "metadata": {},
   "outputs": [],
   "source": [
    "T,N,K = 2, 3, 3\n",
    "F = 0\n",
    "maker_args = (\n",
    "    T,N,K,F,\n",
    "    particle_pose_prior,\n",
    "    particle_pose_prior_args,\n",
    "    object_pose_prior,\n",
    "    object_pose_prior_args,\n",
    "    camera_pose_prior,\n",
    "    camera_pose_prior_args,\n",
    "    observation_model,\n",
    "    observation_model_args,\n",
    "    object_motion_model,\n",
    "    object_motion_model_args,\n",
    "    camera_motion_model,\n",
    "    camera_motion_model_args\n",
    ")\n",
    "model = make_sparse_gps_model(*maker_args)\n",
    "jimportance = jax.jit(model.importance)\n",
    "jsimulate = jax.jit(model.simulate)"
   ]
  },
  {
   "cell_type": "code",
   "execution_count": 21,
   "metadata": {},
   "outputs": [],
   "source": [
    "key = keysplit(key)\n",
    "tr = jsimulate(key, (intr,))"
   ]
  },
  {
   "cell_type": "code",
   "execution_count": null,
   "metadata": {},
   "outputs": [],
   "source": []
  },
  {
   "cell_type": "code",
   "execution_count": 11,
   "metadata": {},
   "outputs": [],
   "source": [
    "# from b3d.chisight.sparse.sparse_gps_model import get_dynamic_gps, get_particle_poses, get_object_poses\n",
    "\n",
    "# Currently not working\n",
    "# ps = get_particle_poses(tr)\n",
    "# qs = get_object_poses(tr)\n",
    "# gps = get_dynamic_gps(tr)"
   ]
  },
  {
   "cell_type": "code",
   "execution_count": null,
   "metadata": {},
   "outputs": [],
   "source": []
  }
 ],
 "metadata": {
  "kernelspec": {
   "display_name": "dcolmap",
   "language": "python",
   "name": "python3"
  },
  "language_info": {
   "codemirror_mode": {
    "name": "ipython",
    "version": 3
   },
   "file_extension": ".py",
   "mimetype": "text/x-python",
   "name": "python",
   "nbconvert_exporter": "python",
   "pygments_lexer": "ipython3",
   "version": "3.11.9"
  }
 },
 "nbformat": 4,
 "nbformat_minor": 2
}
