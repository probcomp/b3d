{
 "cells": [
  {
   "cell_type": "code",
   "execution_count": 1,
   "metadata": {},
   "outputs": [],
   "source": [
    "import jax.numpy as jnp\n",
    "import jax\n",
    "import matplotlib.pyplot as plt\n",
    "import numpy as np\n",
    "import os\n",
    "import trimesh\n",
    "import b3d\n",
    "from jax.scipy.spatial.transform import Rotation as Rot\n",
    "from b3d import Pose\n",
    "#from b3d.utils import unproject_depth\n",
    "import rerun as rr\n",
    "import genjax\n",
    "from tqdm import tqdm\n",
    "\n",
    "\n",
    "rr.init(\"demo.py\")\n",
    "rr.connect(\"127.0.0.1:8812\")\n",
    "rr.save('multi_particle_visualization.rrd')\n"
   ]
  },
  {
   "cell_type": "code",
   "execution_count": 2,
   "metadata": {},
   "outputs": [],
   "source": [
    "width=128\n",
    "height=128\n",
    "fx=64.0\n",
    "fy=64.0\n",
    "cx=64.0\n",
    "cy=64.0\n",
    "near=0.001\n",
    "far=16.0\n",
    "renderer = b3d.Renderer(\n",
    "    width, height, fx, fy, cx, cy, near, far\n",
    ")"
   ]
  },
  {
   "cell_type": "code",
   "execution_count": 3,
   "metadata": {},
   "outputs": [],
   "source": [
    "def rotation_from_axis_angle(axis, angle):\n",
    "    \"\"\"Creates a rotation matrix from an axis and angle.\n",
    "\n",
    "    Args:\n",
    "        axis (jnp.ndarray): The axis vector. Shape (3,)\n",
    "        angle (float): The angle in radians.\n",
    "    Returns:\n",
    "        jnp.ndarray: The rotation matrix. Shape (3, 3)\n",
    "    \"\"\"\n",
    "    sina = jnp.sin(angle)\n",
    "    cosa = jnp.cos(angle)\n",
    "    direction = axis / jnp.linalg.norm(axis)\n",
    "    # rotation matrix around unit vector\n",
    "    R = jnp.diag(jnp.array([cosa, cosa, cosa]))\n",
    "    R = R + jnp.outer(direction, direction) * (1.0 - cosa)\n",
    "    direction = direction * sina\n",
    "    R = R + jnp.array(\n",
    "        [\n",
    "            [0.0, -direction[2], direction[1]],\n",
    "            [direction[2], 0.0, -direction[0]],\n",
    "            [-direction[1], direction[0], 0.0],\n",
    "        ]\n",
    "    )\n",
    "    return R\n",
    "\n",
    "def transform_from_rot(rotation):\n",
    "    \"\"\"Creates a pose matrix from a rotation matrix.\n",
    "\n",
    "    Args:\n",
    "        rotation (jnp.ndarray): The rotation matrix. Shape (3, 3)\n",
    "    Returns:\n",
    "        jnp.ndarray: The pose matrix. Shape (4, 4)\n",
    "    \"\"\"\n",
    "    return jnp.vstack(\n",
    "        [jnp.hstack([rotation, jnp.zeros((3, 1))]), jnp.array([0.0, 0.0, 0.0, 1.0])]\n",
    "    )\n",
    "\n",
    "def transform_from_axis_angle(axis, angle):\n",
    "    \"\"\"Creates a pose matrix from an axis and angle.\n",
    "\n",
    "    Args:\n",
    "        axis (jnp.ndarray): The axis vector. Shape (3,)\n",
    "        angle (float): The angle in radians.\n",
    "    Returns:\n",
    "        jnp.ndarray: The pose matrix. Shape (4, 4)\n",
    "    \"\"\"\n",
    "    return transform_from_rot(rotation_from_axis_angle(axis, angle))\n",
    "\n"
   ]
  },
  {
   "cell_type": "code",
   "execution_count": 4,
   "metadata": {},
   "outputs": [],
   "source": [
    "r_mat = transform_from_axis_angle(jnp.array([0,0,1]), jnp.pi/2)"
   ]
  },
  {
   "cell_type": "code",
   "execution_count": 5,
   "metadata": {},
   "outputs": [],
   "source": [
    "\n",
    "vec_transform_axis_angle = jax.vmap(transform_from_axis_angle, (None, 0))\n",
    "rots = vec_transform_axis_angle(jnp.array([0,0,1]), jnp.linspace(jnp.pi/4, 3*jnp.pi/4, 30))"
   ]
  },
  {
   "cell_type": "code",
   "execution_count": 6,
   "metadata": {},
   "outputs": [],
   "source": [
    "mesh_path = os.path.join(b3d.get_root_path(),\n",
    "    \"assets/shared_data_bucket/ycb_video_models/models/003_cracker_box/textured_simple.obj\")\n",
    "mesh = trimesh.load(mesh_path)\n",
    "\n",
    "object_library = b3d.MeshLibrary.make_empty_library()\n",
    "object_library.add_trimesh(mesh)\n",
    "\n",
    "cam_inv_pose = b3d.Pose.from_position_and_target(\n",
    "    jnp.array([0.15, 0.15, 0.0]),\n",
    "    jnp.array([0.0, 0.0, 0.0])\n",
    ").inv()\n",
    "\n",
    "\n",
    "in_place_rots = b3d.Pose.from_matrix(rots)\n",
    "\n",
    "\n",
    "compound_pose = cam_inv_pose @ in_place_rots #in_place_rot\n",
    "\n",
    "rgbs, depths = renderer.render_attribute_many(\n",
    "    compound_pose[:,None,...],\n",
    "    object_library.vertices,\n",
    "    object_library.faces,\n",
    "    jnp.array([[0, len(object_library.faces)]]),\n",
    "    object_library.attributes\n",
    ")\n",
    "#b3d.get_rgb_pil_image(rgb).save(b3d.get_root_path() / \"assets/test_ycb.png\")"
   ]
  },
  {
   "cell_type": "code",
   "execution_count": 7,
   "metadata": {},
   "outputs": [],
   "source": [
    "class Intrinsics:\n",
    "    width=128\n",
    "    height=128\n",
    "    fx=64.0\n",
    "    fy=64.0\n",
    "    cx=64.0\n",
    "    cy=64.0\n",
    "    near=0.001\n",
    "    far=16.0\n",
    "\n",
    "intrinsics = Intrinsics()\n",
    "\n",
    "def unproject_depth(depth, intrinsics):\n",
    "    \"\"\"Unprojects a depth image into a point cloud.\n",
    "\n",
    "    Args:\n",
    "        depth (jnp.ndarray): The depth image. Shape (H, W)\n",
    "        intrinsics (b.camera.Intrinsics): The camera intrinsics.\n",
    "    Returns:\n",
    "        jnp.ndarray: The point cloud. Shape (H, W, 3)\n",
    "    \"\"\"\n",
    "    mask = (depth < intrinsics.far) * (depth > intrinsics.near)\n",
    "    depth = depth * mask + intrinsics.far * (1.0 - mask)\n",
    "    y, x = jnp.mgrid[: depth.shape[0], : depth.shape[1]]\n",
    "    x = (x - intrinsics.cx) / intrinsics.fx\n",
    "    y = (y - intrinsics.cy) / intrinsics.fy\n",
    "    point_cloud_image = jnp.stack([x, y, jnp.ones_like(x)], axis=-1) * depth[:, :, None]\n",
    "    return point_cloud_image"
   ]
  },
  {
   "cell_type": "code",
   "execution_count": 8,
   "metadata": {},
   "outputs": [],
   "source": [
    "unproject_depth_vec = jax.vmap(unproject_depth, (0, None))"
   ]
  },
  {
   "cell_type": "code",
   "execution_count": 9,
   "metadata": {},
   "outputs": [],
   "source": [
    "xyzs = unproject_depth_vec(depths, intrinsics)"
   ]
  },
  {
   "cell_type": "code",
   "execution_count": 10,
   "metadata": {},
   "outputs": [],
   "source": [
    "from b3d import Pose\n",
    "\n",
    "num_layers = 2048\n",
    "renderer = b3d.Renderer(width, height, fx, fy, cx, cy, near, far, num_layers)\n",
    "model = b3d.model_multiobject_gl_factory(renderer)\n",
    "importance_jit = jax.jit(model.importance)\n",
    "update_jit = jax.jit(model.update)\n",
    "\n",
    "# Arguments of the generative model.\n",
    "# These control the inlier / outlier decision boundary for color error and depth error.\n",
    "#color_error, depth_error = (jnp.float32(30.0), jnp.float32(0.02))\n",
    "color_error, depth_error = (jnp.float32(30.0), jnp.float32(0.01))\n",
    "# TODO: explain\n",
    "inlier_score, outlier_prob = (jnp.float32(50.0), jnp.float32(0.001)) # 5\n",
    "# TODO: explain\n",
    "color_multiplier, depth_multiplier = (jnp.float32(3000.0), jnp.float32(3000.0))\n",
    "\n",
    "\n",
    "# Defines the enumeration schedule.\n",
    "key = jax.random.PRNGKey(0)\n",
    "# Gridding on translation only.\n",
    "\n",
    "delta = 0.01\n",
    "translation_deltas = Pose.concatenate_poses([jax.vmap(lambda p: Pose.from_translation(p))(jnp.stack(\n",
    "    jnp.meshgrid(\n",
    "        jnp.linspace(-delta, delta, 11),\n",
    "        jnp.linspace(-delta, delta, 11),\n",
    "        jnp.linspace(-delta, delta, 11),\n",
    "    ),\n",
    "    axis=-1,\n",
    ").reshape(-1, 3)), Pose.identity()[None,...]])\n",
    "# Sample orientations from a VMF to define a \"grid\" over orientations.\n",
    "rotation_deltas = Pose.concatenate_poses([jax.vmap(Pose.sample_gaussian_vmf_pose, in_axes=(0,None, None, None))(\n",
    "    jax.random.split(jax.random.PRNGKey(0), 11*11*11),\n",
    "    Pose.identity(),\n",
    "    0.00001, 1000.0\n",
    "), Pose.identity()[None,...]])\n",
    "all_deltas =  Pose.stack_poses([translation_deltas, rotation_deltas])"
   ]
  },
  {
   "cell_type": "code",
   "execution_count": null,
   "metadata": {},
   "outputs": [],
   "source": []
  },
  {
   "cell_type": "code",
   "execution_count": 11,
   "metadata": {},
   "outputs": [],
   "source": [
    "#(y, x)\n",
    "#(38, 30)\n",
    "#(90, 100)"
   ]
  },
  {
   "cell_type": "code",
   "execution_count": 12,
   "metadata": {},
   "outputs": [],
   "source": [
    "def get_trajs(key, x_center, y_center, del_pix=5):\n",
    "    # Make empty library\n",
    "    object_library = b3d.MeshLibrary.make_empty_library()\n",
    "\n",
    "    # x_center = 35\n",
    "    # y_center = 45 \n",
    "    # del_pix = 5 \n",
    "\n",
    "    local_points = xyzs[0,x_center-del_pix:x_center+del_pix,y_center-del_pix:y_center+del_pix,:].reshape(-1,3)\n",
    "    local_rgbs = rgbs[0,x_center-del_pix:x_center+del_pix,y_center-del_pix:y_center+del_pix,:].reshape(-1,3)\n",
    "    patch_center = xyzs[0,x_center,y_center,:]\n",
    "\n",
    "    point_cloud = local_points\n",
    "    point_cloud_colors = local_rgbs\n",
    "\n",
    "    # Create new mesh.\n",
    "    vertices, faces, vertex_colors, face_colors = b3d.make_mesh_from_point_cloud_and_resolution(\n",
    "        point_cloud, point_cloud_colors, point_cloud[:,2] / fx * 2.0\n",
    "    )\n",
    "    object_pose = Pose.from_translation(vertices.mean(0))\n",
    "    vertices = object_pose.inverse().apply(vertices)\n",
    "    object_library.add_object(vertices, faces, vertex_colors)\n",
    "    model_args = b3d.model.ModelArgs(color_error, depth_error,\n",
    "                                inlier_score, outlier_prob,\n",
    "                                color_multiplier, depth_multiplier)\n",
    "\n",
    "    trace, _ = importance_jit(\n",
    "        jax.random.PRNGKey(0),\n",
    "        genjax.choice_map(\n",
    "            dict([\n",
    "                (\"camera_pose\", Pose.identity()),\n",
    "                (\"object_pose_0\", object_pose),\n",
    "                (\"object_0\", 0),\n",
    "                (\"observed_rgb_depth\", (rgbs[0], xyzs[0,...,2])),\n",
    "            ])\n",
    "        ),\n",
    "        (jnp.arange(1),model_args, object_library)\n",
    "    )\n",
    "\n",
    "\n",
    "    FINAL_T = len(xyzs)\n",
    "    patches = []\n",
    "    patch_centers = []\n",
    "\n",
    "    for T_observed_image in tqdm(range(0, FINAL_T)):\n",
    "        # Constrain on new RGB and Depth data.\n",
    "        trace = b3d.update_choices_jit(trace, key,\n",
    "            genjax.Pytree.const([\"observed_rgb_depth\"]),\n",
    "            (rgbs[T_observed_image],xyzs[T_observed_image,...,2])\n",
    "        )\n",
    "        trace,key = b3d.enumerate_and_select_best_move(trace, genjax.Pytree.const([\"camera_pose\"]), key, all_deltas)\n",
    "        trace,key = b3d.enumerate_and_select_best_move(trace, genjax.Pytree.const([f\"object_pose_0\"]), key, all_deltas)\n",
    "\n",
    "        patch_center = (trace[\"camera_pose\"].inv() @ trace[f\"object_pose_0\"]).apply(jnp.mean(object_library.vertices,axis=0))\n",
    "        patch = (trace[\"camera_pose\"].inv() @ trace[f\"object_pose_0\"]).apply(object_library.vertices)\n",
    "        patches.append(patch)\n",
    "        patch_centers.append(patch_center)\n",
    "\n",
    "    return jnp.array(patches), jnp.array(patch_centers)\n"
   ]
  },
  {
   "cell_type": "code",
   "execution_count": 13,
   "metadata": {},
   "outputs": [
    {
     "name": "stderr",
     "output_type": "stream",
     "text": [
      "100%|██████████| 30/30 [00:16<00:00,  1.83it/s]\n"
     ]
    }
   ],
   "source": [
    "patches, patch_centers = get_trajs(key, 35,45)"
   ]
  },
  {
   "cell_type": "code",
   "execution_count": 15,
   "metadata": {},
   "outputs": [
    {
     "name": "stderr",
     "output_type": "stream",
     "text": [
      "100%|██████████| 30/30 [00:07<00:00,  4.17it/s]\n",
      "100%|██████████| 30/30 [00:07<00:00,  4.03it/s]\n",
      "100%|██████████| 30/30 [00:07<00:00,  4.10it/s]\n",
      "100%|██████████| 30/30 [00:07<00:00,  4.15it/s]\n",
      "100%|██████████| 30/30 [00:07<00:00,  4.19it/s]\n",
      "100%|██████████| 30/30 [00:07<00:00,  4.17it/s]\n",
      "100%|██████████| 30/30 [00:07<00:00,  4.15it/s]\n",
      "100%|██████████| 30/30 [00:07<00:00,  3.94it/s]\n",
      "100%|██████████| 30/30 [00:07<00:00,  4.06it/s]\n",
      "100%|██████████| 30/30 [00:07<00:00,  4.15it/s]\n",
      "100%|██████████| 30/30 [00:07<00:00,  4.13it/s]\n",
      "100%|██████████| 30/30 [00:07<00:00,  4.15it/s]\n",
      "100%|██████████| 30/30 [00:07<00:00,  4.20it/s]\n",
      "100%|██████████| 30/30 [00:07<00:00,  4.20it/s]\n",
      "100%|██████████| 30/30 [00:07<00:00,  4.16it/s]\n",
      "100%|██████████| 30/30 [00:07<00:00,  4.17it/s]\n",
      "100%|██████████| 30/30 [00:07<00:00,  4.21it/s]\n",
      "100%|██████████| 30/30 [00:07<00:00,  4.23it/s]\n",
      "100%|██████████| 30/30 [00:07<00:00,  4.14it/s]\n",
      "100%|██████████| 30/30 [00:07<00:00,  4.20it/s]\n",
      "100%|██████████| 30/30 [00:07<00:00,  4.18it/s]\n",
      "100%|██████████| 30/30 [00:07<00:00,  4.18it/s]\n",
      "100%|██████████| 30/30 [00:07<00:00,  4.16it/s]\n",
      "100%|██████████| 30/30 [00:07<00:00,  4.16it/s]\n",
      "100%|██████████| 30/30 [00:07<00:00,  4.12it/s]\n",
      "100%|██████████| 30/30 [00:07<00:00,  4.13it/s]\n",
      "100%|██████████| 30/30 [00:07<00:00,  4.17it/s]\n",
      "100%|██████████| 30/30 [00:07<00:00,  4.06it/s]\n",
      "100%|██████████| 30/30 [00:07<00:00,  4.13it/s]\n",
      "100%|██████████| 30/30 [00:07<00:00,  4.08it/s]\n",
      "100%|██████████| 30/30 [00:07<00:00,  4.16it/s]\n",
      "100%|██████████| 30/30 [00:07<00:00,  3.96it/s]\n",
      "100%|██████████| 30/30 [00:07<00:00,  3.90it/s]\n",
      "100%|██████████| 30/30 [00:07<00:00,  3.94it/s]\n",
      "100%|██████████| 30/30 [00:07<00:00,  4.11it/s]\n"
     ]
    }
   ],
   "source": [
    "center_arr = []\n",
    "for i in np.arange(35,100,10):\n",
    "    row_arr = []\n",
    "    for j in np.arange(45,90,10):\n",
    "        row_arr.append(get_trajs(key, i, j)[1])\n",
    "    center_arr.append(row_arr)"
   ]
  },
  {
   "cell_type": "code",
   "execution_count": 16,
   "metadata": {},
   "outputs": [],
   "source": [
    "center_arr = jnp.array(center_arr)\n",
    "center_arr = center_arr.reshape(-1,len(xyzs),3)"
   ]
  },
  {
   "cell_type": "code",
   "execution_count": 17,
   "metadata": {},
   "outputs": [],
   "source": [
    "num_points = center_arr.shape[0]\n",
    "\n",
    "for t in range(len(xyzs)):\n",
    "    rr.set_time_sequence(\"frame\", t)\n",
    "\n",
    "    indices = xyzs[t,...,2] < far\n",
    "    points = rr.Points3D(xyzs[t,indices,:].reshape(-1,3), colors=rgbs[t,indices,:].reshape(-1,3), radii = 0.0005*np.ones(xyzs[t,indices,:].reshape(-1,3).shape[0]))\n",
    "    rr.log(\"cloud1\", points)\n",
    "\n",
    "    points2 = rr.Points3D(center_arr[:,t,:], radii=0.0075*np.ones(center_arr.shape[0]), colors =np.repeat(np.array([0,0,255])[None,...], num_points, axis=0))\n",
    "    rr.log(\"cloud2\", points2)\n",
    "\n",
    "    rr.log(\"/rendered_im\", rr.Image(rgbs[t]))\n",
    "\n",
    "    num_frames_trail = 5\n",
    "    if t > num_frames_trail:\n",
    "        rr.log(\n",
    "            \"strips\",\n",
    "            rr.LineStrips3D(np.array(center_arr[:,t:t-num_frames_trail:-1,...]), colors=np.repeat(np.array([0,255,0])[None,...], num_points, axis=0), \n",
    "            radii= 0.0025*np.ones(num_points))\n",
    "        )"
   ]
  },
  {
   "cell_type": "code",
   "execution_count": null,
   "metadata": {},
   "outputs": [],
   "source": [
    "# plot depth image evolving as a point cloud\n",
    "# plot location of tracker centroids\n",
    "# plot location of tail plots"
   ]
  },
  {
   "cell_type": "code",
   "execution_count": null,
   "metadata": {},
   "outputs": [],
   "source": []
  },
  {
   "cell_type": "code",
   "execution_count": null,
   "metadata": {},
   "outputs": [],
   "source": []
  },
  {
   "cell_type": "code",
   "execution_count": null,
   "metadata": {},
   "outputs": [],
   "source": []
  }
 ],
 "metadata": {
  "kernelspec": {
   "display_name": "b3d",
   "language": "python",
   "name": "python3"
  },
  "language_info": {
   "codemirror_mode": {
    "name": "ipython",
    "version": 3
   },
   "file_extension": ".py",
   "mimetype": "text/x-python",
   "name": "python",
   "nbconvert_exporter": "python",
   "pygments_lexer": "ipython3",
   "version": "3.11.8"
  }
 },
 "nbformat": 4,
 "nbformat_minor": 2
}
