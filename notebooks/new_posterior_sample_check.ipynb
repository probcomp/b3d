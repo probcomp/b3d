{
 "cells": [
  {
   "cell_type": "code",
   "execution_count": 1,
   "metadata": {},
   "outputs": [],
   "source": [
    "import jax.numpy as jnp\n",
    "import jax\n",
    "import matplotlib.pyplot as plt\n",
    "import numpy as np\n",
    "import os\n",
    "import trimesh\n",
    "import b3d\n",
    "from jax.scipy.spatial.transform import Rotation as Rot\n",
    "from b3d import Pose\n",
    "#from b3d.utils import unproject_depth\n",
    "import rerun as rr\n",
    "import genjax\n",
    "from tqdm import tqdm\n",
    "\n",
    "\n",
    "rr.init(\"demo.py\")\n",
    "rr.connect(\"127.0.0.1:8812\")"
   ]
  },
  {
   "cell_type": "code",
   "execution_count": 2,
   "metadata": {},
   "outputs": [],
   "source": [
    "width=128\n",
    "height=128\n",
    "fx=64.0\n",
    "fy=64.0\n",
    "cx=64.0\n",
    "cy=64.0\n",
    "near=0.001\n",
    "far=16.0\n",
    "renderer = b3d.Renderer(\n",
    "    width, height, fx, fy, cx, cy, near, far\n",
    ")"
   ]
  },
  {
   "cell_type": "code",
   "execution_count": 3,
   "metadata": {},
   "outputs": [],
   "source": [
    "from b3d.pose import from_axis_angle"
   ]
  },
  {
   "cell_type": "code",
   "execution_count": 4,
   "metadata": {},
   "outputs": [],
   "source": [
    "r_mat = from_axis_angle(jnp.array([0,0,1]), jnp.pi/2)"
   ]
  },
  {
   "cell_type": "code",
   "execution_count": 5,
   "metadata": {},
   "outputs": [],
   "source": [
    "vec_transform_axis_angle = jax.vmap(from_axis_angle, (None, 0))\n",
    "rots = vec_transform_axis_angle(jnp.array([0,0,1]), jnp.linspace(0, 4*jnp.pi/8, 30)) \n",
    "#rots = vec_transform_axis_angle(jnp.array([0,0,1]), jnp.linspace(0, 7*jnp.pi/8, 30)) "
   ]
  },
  {
   "cell_type": "code",
   "execution_count": 6,
   "metadata": {},
   "outputs": [],
   "source": [
    "mesh_path = os.path.join(b3d.get_root_path(),\n",
    "    \"assets/shared_data_bucket/ycb_video_models/models/003_cracker_box/textured_simple.obj\")\n",
    "mesh = trimesh.load(mesh_path)\n",
    "\n",
    "object_library = b3d.MeshLibrary.make_empty_library()\n",
    "object_library.add_trimesh(mesh)\n",
    "\n",
    "cam_inv_pose = b3d.Pose.from_position_and_target(\n",
    "    jnp.array([0.15, 0.15, 0.0]),\n",
    "    jnp.array([0.0, 0.0, 0.0])\n",
    ").inv()\n",
    "\n",
    "\n",
    "in_place_rots = rots\n",
    "\n",
    "\n",
    "compound_pose = cam_inv_pose @ in_place_rots #in_place_rot\n",
    "\n",
    "\n",
    "rgbs, depths = renderer.render_attribute_many(\n",
    "    compound_pose[:,None,...],\n",
    "    object_library.vertices,\n",
    "    object_library.faces,\n",
    "    jnp.array([[0, len(object_library.faces)]]),\n",
    "    object_library.attributes\n",
    ")"
   ]
  },
  {
   "cell_type": "code",
   "execution_count": 7,
   "metadata": {},
   "outputs": [],
   "source": [
    "from b3d.utils import unproject_depth\n",
    "unproject_depth_vec = jax.vmap(unproject_depth, (0, None))\n",
    "xyzs = unproject_depth_vec(depths, renderer)"
   ]
  },
  {
   "cell_type": "code",
   "execution_count": 8,
   "metadata": {},
   "outputs": [],
   "source": [
    "from b3d import Pose\n",
    "\n",
    "num_layers = 2048\n",
    "renderer = b3d.Renderer(width, height, fx, fy, cx, cy, near, far, num_layers)\n",
    "model = b3d.model_multiobject_gl_factory(renderer)\n",
    "importance_jit = jax.jit(model.importance)\n",
    "update_jit = jax.jit(model.update)\n",
    "\n",
    "# Arguments of the generative model.\n",
    "# These control the inlier / outlier decision boundary for color error and depth error.\n",
    "#color_error, depth_error = (jnp.float32(30.0), jnp.float32(0.02))\n",
    "color_error, depth_error = (jnp.float32(30.0), jnp.float32(0.01))\n",
    "# TODO: explain\n",
    "inlier_score, outlier_prob = (jnp.float32(50.0), jnp.float32(0.001)) # 5\n",
    "# TODO: explain\n",
    "color_multiplier, depth_multiplier = (jnp.float32(3000.0), jnp.float32(3000.0))\n",
    "\n",
    "\n",
    "# Defines the enumeration schedule.\n",
    "key = jax.random.PRNGKey(0)\n",
    "# Gridding on translation only.\n",
    "\n",
    "delta = 0.0015 #0.005\n",
    "grid_dim = 23\n",
    "translation_deltas = Pose.concatenate_poses([jax.vmap(lambda p: Pose.from_translation(p))(jnp.stack(\n",
    "    jnp.meshgrid(\n",
    "        jnp.linspace(-delta, delta, grid_dim),\n",
    "        jnp.linspace(-delta, delta, grid_dim),\n",
    "        jnp.linspace(-delta, delta, grid_dim),\n",
    "    ),\n",
    "    axis=-1,\n",
    ").reshape(-1, 3)), Pose.identity()[None,...]])\n",
    "# Sample orientations from a VMF to define a \"grid\" over orientations.\n",
    "rotation_deltas = Pose.concatenate_poses([jax.vmap(Pose.sample_gaussian_vmf_pose, in_axes=(0,None, None, None))(\n",
    "    jax.random.split(jax.random.PRNGKey(0), grid_dim*grid_dim*grid_dim),\n",
    "    Pose.identity(),\n",
    "    0.00001, 10.0\n",
    "), Pose.identity()[None,...]])\n",
    "all_deltas =  Pose.stack_poses([translation_deltas, rotation_deltas])\n",
    "all_deltas = (all_deltas[0] @ all_deltas[1])[None,...]"
   ]
  },
  {
   "cell_type": "code",
   "execution_count": null,
   "metadata": {},
   "outputs": [],
   "source": []
  },
  {
   "cell_type": "code",
   "execution_count": 9,
   "metadata": {},
   "outputs": [],
   "source": [
    "# Make empty library\n",
    "object_library = b3d.MeshLibrary.make_empty_library()\n",
    "\n",
    "x_center = 64\n",
    "y_center = 64 \n",
    "del_pix = 5 \n",
    "\n",
    "local_points = xyzs[0,x_center-del_pix:x_center+del_pix,y_center-del_pix:y_center+del_pix,:].reshape(-1,3)\n",
    "local_rgbs = rgbs[0,x_center-del_pix:x_center+del_pix,y_center-del_pix:y_center+del_pix,:].reshape(-1,3)\n",
    "patch_center = xyzs[0,x_center,y_center,:]\n",
    "\n",
    "point_cloud = local_points\n",
    "point_cloud_colors = local_rgbs"
   ]
  },
  {
   "cell_type": "code",
   "execution_count": 10,
   "metadata": {},
   "outputs": [],
   "source": [
    "def _enumerate_and_return_scores(trace, addressses, key, all_deltas):\n",
    "    addr = addressses.const[0]\n",
    "    current_pose = trace[addr]\n",
    "    for i in range(len(all_deltas)):\n",
    "        test_poses = current_pose @ all_deltas[i]\n",
    "        potential_scores = b3d.enumerate_choices_get_scores(\n",
    "            trace, jax.random.PRNGKey(0), addressses, test_poses\n",
    "        )\n",
    "        #current_pose = test_poses[potential_scores.argmax()]\n",
    "    #trace = b3d.update_choices(trace, key, addressses, current_pose)\n",
    "    return test_poses, potential_scores\n",
    "\n",
    "\n",
    "enumerate_and_return_scores = jax.jit(\n",
    "    _enumerate_and_return_scores, static_argnames=[\"addressses\"]\n",
    ")"
   ]
  },
  {
   "cell_type": "code",
   "execution_count": 11,
   "metadata": {},
   "outputs": [],
   "source": [
    "# Create new mesh.\n",
    "vertices, faces, vertex_colors, face_colors = b3d.make_mesh_from_point_cloud_and_resolution(\n",
    "    point_cloud, point_cloud_colors, point_cloud[:,2] / fx * 2.0\n",
    ")\n",
    "object_pose = Pose.from_translation(vertices.mean(0))\n",
    "vertices = object_pose.inverse().apply(vertices)\n",
    "object_library.add_object(vertices, faces, vertex_colors)\n"
   ]
  },
  {
   "cell_type": "code",
   "execution_count": null,
   "metadata": {},
   "outputs": [],
   "source": []
  },
  {
   "cell_type": "code",
   "execution_count": 12,
   "metadata": {},
   "outputs": [
    {
     "name": "stderr",
     "output_type": "stream",
     "text": [
      "  0%|          | 0/30 [00:00<?, ?it/s]/var/tmp/ipykernel_80323/552221741.py:82: DeprecationWarning: Use the `Scalar` + (optional) `SeriesLine`/`SeriesPoint` archetypes instead, logged on the same entity. See [0.13 migration guide](https://www.rerun.io/docs/reference/migration/migration-0-13).\n",
      "  rr.log('/vmf_score_loglik', rr.TimeSeriesScalar(score))\n",
      "100%|██████████| 30/30 [01:04<00:00,  2.16s/it]\n"
     ]
    }
   ],
   "source": [
    "\n",
    "model_args = b3d.model.ModelArgs(color_error, depth_error,\n",
    "                            inlier_score, outlier_prob,\n",
    "                            color_multiplier, depth_multiplier)\n",
    "\n",
    "trace, _ = importance_jit(\n",
    "    jax.random.PRNGKey(0),\n",
    "    genjax.choice_map(\n",
    "        dict([\n",
    "            (\"camera_pose\", Pose.identity()),\n",
    "            (\"object_pose_0\", object_pose),\n",
    "            (\"object_0\", 0),\n",
    "            (\"observed_rgb_depth\", (rgbs[0], xyzs[0,...,2])),\n",
    "        ])\n",
    "    ),\n",
    "    (jnp.arange(1),model_args, object_library)\n",
    ")\n",
    "\n",
    "# Visualize trace\n",
    "#b3d.rerun_visualize_trace_t(trace, 0)\n",
    "\n",
    "FINAL_T = len(xyzs)\n",
    "scores = []\n",
    "score_entrs = []\n",
    "for T_observed_image in tqdm(range(0, FINAL_T)):\n",
    "    # Constrain on new RGB and Depth data.\n",
    "    trace = b3d.update_choices_jit(trace, key,\n",
    "        genjax.Pytree.const([\"observed_rgb_depth\"]),\n",
    "        (rgbs[T_observed_image],xyzs[T_observed_image,...,2])\n",
    "    )\n",
    "    trace,key = b3d.enumerate_and_select_best_move(trace, genjax.Pytree.const([\"camera_pose\"]), key, all_deltas)\n",
    "    # trace,key = b3d.enumerate_and_select_best_move(trace, genjax.Pytree.const([f\"object_pose_0\"]), key, all_deltas)\n",
    "\n",
    "    poses, grid_scores = enumerate_and_return_scores(trace, genjax.Pytree.const([\"object_pose_0\"]), key, all_deltas)\n",
    "    indices = jnp.argsort(-grid_scores)\n",
    "    (observed_rgb, rendered_rgb), (observed_depth, rendered_depth) = trace.get_retval()\n",
    "\n",
    "    image_sum = np.zeros(rendered_rgb.shape)\n",
    "\n",
    "    # this is wrong, just a visualization of the fineness of the grid\n",
    "\n",
    "    # this looks at the highest-scoring 50 samples!, but uniformly weights them\n",
    "\n",
    "    \n",
    "    # for ind in indices[:50:5]:\n",
    "    #     temp_trace = b3d.update_choices_jit(trace, key, genjax.Pytree.const([f\"object_pose_0\"]), poses[ind])\n",
    "    #     (observed_rgb, rendered_rgb), (observed_depth, rendered_depth) = temp_trace.get_retval()\n",
    "    #     scores.append(temp_trace.get_score())\n",
    "    #     image_sum += np.array(rendered_rgb)\n",
    "    \n",
    "    score_probs = jnp.exp(grid_scores - jax.scipy.special.logsumexp(grid_scores))\n",
    "\n",
    "    num_samples = 50\n",
    "\n",
    "    #print(score_probs[jnp.argsort(-score_probs)[:num_samples]])\n",
    "    sampled_indices = jax.random.choice(key, jnp.arange(len(score_probs)), shape = (num_samples,), p=score_probs)\n",
    "    score_entr = jnp.sum(jax.scipy.special.entr(score_probs))\n",
    "\n",
    "    for ind in sampled_indices:\n",
    "        temp_trace = b3d.update_choices_jit(trace, key, genjax.Pytree.const([f\"object_pose_0\"]), poses[ind])\n",
    "        (observed_rgb, rendered_rgb), (observed_depth, rendered_depth) = temp_trace.get_retval()\n",
    "        image_sum += np.array(rendered_rgb)\n",
    "\n",
    "    \n",
    "    image_sum /= num_samples\n",
    "    \n",
    "    trace,key = b3d.enumerate_and_select_best_move(trace, genjax.Pytree.const([f\"object_pose_0\"]), key, all_deltas)\n",
    "    #trace,key = b3d.enumerate_and_sample(trace, genjax.Pytree.const([f\"object_pose_0\"]), key, all_deltas)\n",
    "    # enumerate and sample does worse?\n",
    "\n",
    "    (observed_rgb, rendered_rgb), (observed_depth, rendered_depth) = trace.get_retval()\n",
    "\n",
    "    score = trace.get_score()\n",
    "    scores.append(score)\n",
    "    score_entrs.append(score_entr)\n",
    "    #b3d.rerun_visualize_trace_t(trace, T_observed_image)\n",
    "\n",
    "    rr.set_time_sequence(\"frame\", T_observed_image)\n",
    "    rr.log(\"/vmf_tracking\", rr.Image(observed_rgb))\n",
    "    rr.log(\"/vmf_tracking/rgb_rendering\", rr.Image(rendered_rgb))\n",
    "    rr.log(\"/observed_im\", rr.Image(observed_rgb))\n",
    "    rr.log(\"/alpha_blend_patch\", rr.Image(image_sum))\n",
    "    rr.log('/vmf_score_loglik', rr.TimeSeriesScalar(score))\n",
    "\n",
    "    (inliers, color_inliers, depth_inliers, outliers, undecided, valid_data_mask) = b3d.get_rgb_depth_inliers_from_trace(trace)\n",
    "    rr.log(\"/color_inliers\", rr.DepthImage(color_inliers * 1.0))"
   ]
  },
  {
   "cell_type": "code",
   "execution_count": 13,
   "metadata": {},
   "outputs": [
    {
     "data": {
      "text/plain": [
       "Text(0.5, 1.0, 'unoccluded path (discrete entropy on truncated posterior grid)')"
      ]
     },
     "execution_count": 13,
     "metadata": {},
     "output_type": "execute_result"
    },
    {
     "data": {
      "image/png": "[encoded data removed]",
      "text/plain": [
       "<Figure size 640x480 with 1 Axes>"
      ]
     },
     "metadata": {},
     "output_type": "display_data"
    }
   ],
   "source": [
    "# make a version where the patch disappears and reappears (uniform entropy)\n",
    "# make a version with this scaled to real data\n",
    "# make version with actual posterior samples vs argmaxing\n",
    "\n",
    "plt.plot(score_entrs)\n",
    "plt.xlabel('timestep')\n",
    "plt.ylabel('posterior entropy')\n",
    "plt.title('unoccluded path (discrete entropy on truncated posterior grid)')"
   ]
  },
  {
   "cell_type": "code",
   "execution_count": 14,
   "metadata": {},
   "outputs": [],
   "source": [
    "# marginalize out scores along an axis\n",
    "# plot 2d projection of bayesian grid approximation? need x and y grid sample location data"
   ]
  },
  {
   "cell_type": "code",
   "execution_count": 15,
   "metadata": {},
   "outputs": [
    {
     "data": {
      "text/plain": [
       "(1, 12168)"
      ]
     },
     "execution_count": 15,
     "metadata": {},
     "output_type": "execute_result"
    }
   ],
   "source": [
    "all_deltas.shape"
   ]
  },
  {
   "cell_type": "code",
   "execution_count": 16,
   "metadata": {},
   "outputs": [
    {
     "name": "stderr",
     "output_type": "stream",
     "text": [
      "/opt/conda/envs/b3d/lib/python3.11/site-packages/jax/_src/api_util.py:233: SyntaxWarning: Jitted function has invalid argnames {'addressses'} in static_argnames. Function does not take these args.This warning will be replaced by an error after 2022-08-20 at the earliest.\n",
      "  warnings.warn(f\"Jitted function has invalid argnames {invalid_argnames} \"\n"
     ]
    }
   ],
   "source": [
    "enumerator = jax.jit(\n",
    "    b3d.enumerate_choices_get_scores, static_argnames=[\"addressses\"]\n",
    ")\n",
    "\n",
    "grid_scores = enumerator(trace, jax.random.PRNGKey(0), genjax.Pytree.const([\"object_pose_0\"]), trace[\"object_pose_0\"] @ all_deltas[0])"
   ]
  },
  {
   "cell_type": "code",
   "execution_count": 17,
   "metadata": {},
   "outputs": [
    {
     "data": {
      "text/plain": [
       "Text(0.5, 1.0, 'X-Y dimension posterior marginal logprobs')"
      ]
     },
     "execution_count": 17,
     "metadata": {},
     "output_type": "execute_result"
    },
    {
     "data": {
      "image/png": "[encoded data removed]",
      "text/plain": [
       "<Figure size 640x480 with 1 Axes>"
      ]
     },
     "metadata": {},
     "output_type": "display_data"
    }
   ],
   "source": [
    "# want x-y axis marginal\n",
    "marginal = grid_scores[:-1].reshape(jnp.meshgrid(\n",
    "        jnp.linspace(-delta, delta, grid_dim),\n",
    "        jnp.linspace(-delta, delta, grid_dim),\n",
    "        jnp.linspace(-delta, delta, grid_dim),\n",
    "    )[0].shape).sum(axis=2)\n",
    "\n",
    "# plot of logprobs\n",
    "marginal = marginal - jax.scipy.special.logsumexp(marginal)\n",
    "\n",
    "plt.imshow(marginal, extent=(-grid_dim//2, grid_dim//2, -grid_dim//2, grid_dim//2))\n",
    "plt.xlabel('x-axis grid index')\n",
    "plt.ylabel('y-axis grid index')\n",
    "plt.title('X-Y dimension posterior marginal logprobs')"
   ]
  },
  {
   "cell_type": "code",
   "execution_count": null,
   "metadata": {},
   "outputs": [],
   "source": []
  },
  {
   "cell_type": "code",
   "execution_count": null,
   "metadata": {},
   "outputs": [],
   "source": []
  },
  {
   "cell_type": "code",
   "execution_count": null,
   "metadata": {},
   "outputs": [],
   "source": []
  },
  {
   "cell_type": "code",
   "execution_count": 18,
   "metadata": {},
   "outputs": [],
   "source": [
    "# TODO: extend results on natural video!\n",
    "\n",
    "# patch track on natural video\n",
    "# intrinsic image estimation (which can only be done on natural video)\n",
    "# lambertian lighting model"
   ]
  },
  {
   "cell_type": "code",
   "execution_count": 19,
   "metadata": {},
   "outputs": [],
   "source": [
    "# combined statistical power of tests\n",
    "# approximate scene renderer\n",
    "# estimation of appearance features\n",
    "# visibility indicator variable to hierarchically estimate intrinsic image from features\n",
    "\n",
    "# intrinsic image estimation given geometry and lambertian illumination model\n",
    "\n",
    "# gradient moves only estimate one position in space, but evaluating the neighborhood gives you access to the local posterior\n",
    "\n",
    "# frame this in terms of generic viewpoint assumption\n",
    "\n",
    "# joint estimation problem of assumed light direction\n",
    "\n",
    "# cosine correction is baked into lambertian appearance model\n",
    "\n",
    "# ambient light factors from phuong shading"
   ]
  },
  {
   "cell_type": "code",
   "execution_count": null,
   "metadata": {},
   "outputs": [],
   "source": []
  },
  {
   "cell_type": "code",
   "execution_count": null,
   "metadata": {},
   "outputs": [],
   "source": []
  }
 ],
 "metadata": {
  "kernelspec": {
   "display_name": "b3d",
   "language": "python",
   "name": "python3"
  },
  "language_info": {
   "codemirror_mode": {
    "name": "ipython",
    "version": 3
   },
   "file_extension": ".py",
   "mimetype": "text/x-python",
   "name": "python",
   "nbconvert_exporter": "python",
   "pygments_lexer": "ipython3",
   "version": "3.11.8"
  }
 },
 "nbformat": 4,
 "nbformat_minor": 2
}
