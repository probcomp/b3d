{
 "cells": [
  {
   "cell_type": "code",
   "execution_count": 1,
   "metadata": {},
   "outputs": [],
   "source": [
    "import jax.numpy as jnp\n",
    "import jax\n",
    "import matplotlib.pyplot as plt\n",
    "import numpy as np\n",
    "import os\n",
    "import trimesh\n",
    "import b3d\n",
    "from jax.scipy.spatial.transform import Rotation as Rot\n",
    "from b3d import Pose\n",
    "from b3d.utils import unproject_depth\n",
    "import rerun as rr\n"
   ]
  },
  {
   "cell_type": "code",
   "execution_count": 2,
   "metadata": {},
   "outputs": [
    {
     "name": "stderr",
     "output_type": "stream",
     "text": [
      "[2024-04-12T19:07:49Z WARN  re_sdk_comms::buffered_client] Failed to send message after 3 attempts: Failed to connect to Rerun server at 127.0.0.1:8812: Connection refused (os error 111)\n",
      "[2024-04-12T19:07:51Z WARN  re_sdk_comms::buffered_client] Dropping messages because tcp client has timed out.\n",
      "[2024-04-12T19:07:51Z WARN  re_sdk_comms::buffered_client] Dropping messages because tcp client has timed out.\n",
      "[2024-04-12T19:07:51Z WARN  re_sdk_comms::tcp_client] Tried to flush while TCP stream was still Pending. Data was possibly dropped.\n"
     ]
    }
   ],
   "source": [
    "rr.init(\"demo.py\")\n",
    "rr.connect(\"127.0.0.1:8812\")"
   ]
  },
  {
   "cell_type": "code",
   "execution_count": 3,
   "metadata": {},
   "outputs": [],
   "source": [
    "width=100\n",
    "height=100\n",
    "fx=50.0\n",
    "fy=50.0\n",
    "cx=50.0\n",
    "cy=50.0\n",
    "near=0.001\n",
    "far=16.0\n",
    "renderer = b3d.Renderer(\n",
    "    width, height, fx, fy, cx, cy, near, far\n",
    ")"
   ]
  },
  {
   "cell_type": "code",
   "execution_count": 4,
   "metadata": {},
   "outputs": [],
   "source": [
    "## Render color\n",
    "from pathlib import Path\n",
    "mesh_path = Path(b3d.__file__).parents[1] / \"assets/006_mustard_bottle/textured_simple.obj\"\n",
    "mesh = trimesh.load(mesh_path)\n",
    "\n",
    "vertices = jnp.array(mesh.vertices) * 20.0\n",
    "vertices = vertices - vertices.mean(0)\n",
    "faces = jnp.array(mesh.faces)\n",
    "vertex_colors = jnp.array(mesh.visual.to_color().vertex_colors)[...,:3] / 255.0\n",
    "ranges = jnp.array([[0, len(faces)]])\n",
    "\n",
    "pose = Pose.from_position_and_target(\n",
    "    jnp.array([3.0, 3.0, 0.0]),\n",
    "    jnp.array([0.0, 2, 0.0])\n",
    "\n",
    ").inverse()"
   ]
  },
  {
   "cell_type": "code",
   "execution_count": 5,
   "metadata": {},
   "outputs": [],
   "source": [
    "rr.log(\n",
    "    \"/3d/mesh\",\n",
    "    rr.Mesh3D(\n",
    "        vertex_positions=vertices,\n",
    "        indices=faces,\n",
    "        vertex_colors=vertex_colors\n",
    "    ),\n",
    "    timeless=True\n",
    ")"
   ]
  },
  {
   "cell_type": "code",
   "execution_count": 6,
   "metadata": {},
   "outputs": [],
   "source": [
    "num_frames = 5"
   ]
  },
  {
   "cell_type": "code",
   "execution_count": 7,
   "metadata": {},
   "outputs": [],
   "source": [
    "poses = [\n",
    "    pose\n",
    "]\n",
    "delta_pose = Pose(\n",
    "    jnp.array([0.0, 0.5, 0.0]),\n",
    "    Rot.from_euler(\"zyx\", [-1.0, 0.1, 2.0], degrees=True).as_quat()\n",
    ")\n",
    "for t in range(num_frames - 1):\n",
    "    poses.append(poses[-1] @ delta_pose)\n",
    "\n",
    "\n",
    "all_gt_poses = Pose.stack_poses(poses)"
   ]
  },
  {
   "cell_type": "code",
   "execution_count": 8,
   "metadata": {},
   "outputs": [
    {
     "data": {
      "text/plain": [
       "(5, 1, 4, 4)"
      ]
     },
     "execution_count": 8,
     "metadata": {},
     "output_type": "execute_result"
    }
   ],
   "source": [
    "all_gt_poses.as_matrix()[:,None,...].shape"
   ]
  },
  {
   "cell_type": "code",
   "execution_count": 9,
   "metadata": {},
   "outputs": [
    {
     "data": {
      "text/plain": [
       "Array([[0.8823529 , 0.7843137 , 0.23921567],\n",
       "       [0.890196  , 0.7921568 , 0.25490195],\n",
       "       [0.8823529 , 0.78823525, 0.2352941 ],\n",
       "       ...,\n",
       "       [0.79999995, 0.67843133, 0.13333333],\n",
       "       [0.8470588 , 0.6980392 , 0.16470587],\n",
       "       [0.8431372 , 0.69019604, 0.15686274]],      dtype=float32, weak_type=True)"
      ]
     },
     "execution_count": 9,
     "metadata": {},
     "output_type": "execute_result"
    }
   ],
   "source": [
    "vertex_colors"
   ]
  },
  {
   "cell_type": "code",
   "execution_count": 16,
   "metadata": {},
   "outputs": [
    {
     "data": {
      "text/plain": [
       "Array([[[[-3.16227794e-01,  9.48683262e-01, -8.94069672e-08,\n",
       "          -1.89736640e+00],\n",
       "         [ 8.94069672e-08, -4.47034836e-08, -1.00000000e+00,\n",
       "          -1.34110451e-07],\n",
       "         [-9.48683262e-01, -3.16227794e-01, -2.98023224e-08,\n",
       "           3.79473305e+00],\n",
       "         [ 0.00000000e+00,  0.00000000e+00,  0.00000000e+00,\n",
       "           1.00000000e+00]]],\n",
       "\n",
       "\n",
       "       [[[-3.32668185e-01,  9.42443132e-01, -3.36605012e-02,\n",
       "          -1.42302477e+00],\n",
       "         [ 2.35316157e-03, -3.48637998e-02, -9.99389410e-01,\n",
       "          -1.56462193e-07],\n",
       "         [-9.43041086e-01, -3.32544208e-01,  9.38035548e-03,\n",
       "           3.63661909e+00],\n",
       "         [ 0.00000000e+00,  0.00000000e+00,  0.00000000e+00,\n",
       "           1.00000000e+00]]],\n",
       "\n",
       "\n",
       "       [[[-3.48918289e-01,  9.34747219e-01, -6.71113133e-02,\n",
       "          -9.51803207e-01],\n",
       "         [ 5.31038642e-03, -6.96386993e-02, -9.97558236e-01,\n",
       "          -1.74320564e-02],\n",
       "         [-9.37138259e-01, -3.48422617e-01,  1.93343461e-02,\n",
       "           3.47034693e+00],\n",
       "         [ 0.00000000e+00,  0.00000000e+00,  0.00000000e+00,\n",
       "           1.00000000e+00]]],\n",
       "\n",
       "\n",
       "       [[[-3.64953399e-01,  9.25607324e-01, -1.00301564e-01,\n",
       "          -4.84429598e-01],\n",
       "         [ 8.86729360e-03, -1.04271755e-01, -9.94509459e-01,\n",
       "          -5.22514060e-02],\n",
       "         [-9.30983722e-01, -3.63838941e-01,  2.98466831e-02,\n",
       "           3.29613566e+00],\n",
       "         [ 0.00000000e+00,  0.00000000e+00,  0.00000000e+00,\n",
       "           1.00000000e+00]]],\n",
       "\n",
       "\n",
       "       [[[-3.80749077e-01,  9.15037215e-01, -1.33180320e-01,\n",
       "          -2.16259360e-02],\n",
       "         [ 1.30184293e-02, -1.38709933e-01, -9.90247488e-01,\n",
       "          -1.04387283e-01],\n",
       "         [-9.24586713e-01, -3.78769636e-01,  4.09013331e-02,\n",
       "           3.11421609e+00],\n",
       "         [ 0.00000000e+00,  0.00000000e+00,  0.00000000e+00,\n",
       "           1.00000000e+00]]]], dtype=float32)"
      ]
     },
     "execution_count": 16,
     "metadata": {},
     "output_type": "execute_result"
    }
   ],
   "source": [
    "all_gt_poses.as_matrix()[:,None,...]"
   ]
  },
  {
   "cell_type": "code",
   "execution_count": 19,
   "metadata": {},
   "outputs": [
    {
     "data": {
      "text/plain": [
       "Pose(position=Array([[[-1.8973664e+00, -1.3411045e-07,  3.7947330e+00]],\n",
       "\n",
       "       [[-1.4230248e+00, -1.5646219e-07,  3.6366191e+00]],\n",
       "\n",
       "       [[-9.5180321e-01, -1.7432056e-02,  3.4703469e+00]],\n",
       "\n",
       "       [[-4.8442960e-01, -5.2251406e-02,  3.2961357e+00]],\n",
       "\n",
       "       [[-2.1625936e-02, -1.0438728e-01,  3.1142161e+00]]], dtype=float32), quaternion=Array([[[-0.41345263, -0.57363486,  0.5736349 , -0.41345254]],\n",
       "\n",
       "       [[-0.41617763, -0.56754386,  0.5867095 , -0.40057722]],\n",
       "\n",
       "       [[-0.41874403, -0.56123644,  0.5995605 , -0.3875492 ]],\n",
       "\n",
       "       [[-0.42115074, -0.55471504,  0.6121829 , -0.37437338]],\n",
       "\n",
       "       [[-0.4233968 , -0.54798216,  0.624572  , -0.3610548 ]]],      dtype=float32))"
      ]
     },
     "execution_count": 19,
     "metadata": {},
     "output_type": "execute_result"
    }
   ],
   "source": [
    "Pose.from_matrix(all_gt_poses.as_matrix()[:,None,...])"
   ]
  },
  {
   "cell_type": "code",
   "execution_count": 20,
   "metadata": {},
   "outputs": [],
   "source": [
    "#images, depths = renderer.render_attribute_many(all_gt_poses.as_matrix()[:,None,...], vertices, faces, ranges, vertex_colors)\n",
    "images, depths = renderer.render_attribute_many(Pose.from_matrix(all_gt_poses.as_matrix()[:,None,...]), vertices, faces, ranges, vertex_colors)"
   ]
  },
  {
   "cell_type": "code",
   "execution_count": 21,
   "metadata": {},
   "outputs": [
    {
     "data": {
      "text/plain": [
       "<matplotlib.image.AxesImage at 0x7f8b0a62d9d0>"
      ]
     },
     "execution_count": 21,
     "metadata": {},
     "output_type": "execute_result"
    },
    {
     "data": {
      "image/png": "[encoded data removed]",
      "text/plain": [
       "<Figure size 640x480 with 1 Axes>"
      ]
     },
     "metadata": {},
     "output_type": "display_data"
    }
   ],
   "source": [
    "plt.imshow(images[0])"
   ]
  },
  {
   "cell_type": "code",
   "execution_count": 22,
   "metadata": {},
   "outputs": [
    {
     "data": {
      "text/plain": [
       "(100, 100, 3)"
      ]
     },
     "execution_count": 22,
     "metadata": {},
     "output_type": "execute_result"
    }
   ],
   "source": [
    "images[4].shape"
   ]
  },
  {
   "cell_type": "code",
   "execution_count": 23,
   "metadata": {},
   "outputs": [],
   "source": [
    "## drawing a triangle of triangles in the scene"
   ]
  },
  {
   "cell_type": "code",
   "execution_count": 24,
   "metadata": {},
   "outputs": [],
   "source": [
    "# mesh objects can be created from existing faces and vertex data\n",
    "mesh = trimesh.Trimesh(vertices=[[0, 0, 0], [0, 0, 1], [0, 1, 0], [1, 1, 1], [1, 1, 2], [1, 2, 1]],\n",
    "                       faces=[[0, 1, 2], [3, 4, 5]])"
   ]
  },
  {
   "cell_type": "code",
   "execution_count": 25,
   "metadata": {},
   "outputs": [],
   "source": [
    "vertices = jnp.array(mesh.vertices) * 20.0\n",
    "vertices = vertices - vertices.mean(0)\n",
    "faces = jnp.array(mesh.faces)\n",
    "#vertex_colors = jnp.array(mesh.visual.to_color().vertex_colors)[...,:3] / 255.0\n",
    "\n",
    "\n",
    "rr.log(\n",
    "    \"/3d/mesh2\",\n",
    "    rr.Mesh3D(\n",
    "        vertex_positions=mesh.vertices,\n",
    "        indices=mesh.faces,\n",
    "        vertex_colors=jnp.array([[255,0,0], [0,255,0], [255,0,0], [0,255,0], [255,0,0], [0,255,0]])\n",
    "    ),\n",
    "    timeless=True\n",
    ")"
   ]
  },
  {
   "cell_type": "code",
   "execution_count": 26,
   "metadata": {},
   "outputs": [],
   "source": [
    "# propose circle mask\n",
    "# pick vertices on the mask\n",
    "# make triangle based on texture\n",
    "# generate movement proposals\n",
    "# marginalize out over movement proposals to find the best features"
   ]
  },
  {
   "cell_type": "code",
   "execution_count": 27,
   "metadata": {},
   "outputs": [],
   "source": [
    "indices = jnp.indices((height, width)).transpose(1,2,0)\n",
    "# restrict to circles not within 3 of the edge\n",
    "edge_buffer = triangle_boundary_radius = 5\n",
    "indices = indices[edge_buffer:height-edge_buffer, edge_buffer:width-edge_buffer, :]\n",
    "indices = indices.reshape(-1, 2)\n"
   ]
  },
  {
   "cell_type": "code",
   "execution_count": 28,
   "metadata": {},
   "outputs": [],
   "source": [
    "key = jax.random.PRNGKey(15)\n",
    "triangles = 500\n",
    "choices = jax.random.choice(key, indices, shape=(triangles,))"
   ]
  },
  {
   "cell_type": "code",
   "execution_count": 29,
   "metadata": {},
   "outputs": [],
   "source": [
    "# r = jax.random.uniform(key, shape=(triangles*2,)) * triangle_radius\n",
    "# theta = jax.random.uniform(key, shape=(triangles*2,)) * 2 * jnp.pi\n",
    "\n",
    "r = triangle_boundary_radius\n",
    "theta_1 = jax.random.uniform(key, shape=(triangles,)) * 2 * jnp.pi / 3 \n",
    "theta_2 = theta_1 + 2 * jnp.pi / 3 \n",
    "theta_3 = theta_1 + 4 * jnp.pi / 3\n"
   ]
  },
  {
   "cell_type": "code",
   "execution_count": 30,
   "metadata": {},
   "outputs": [],
   "source": [
    "vertex1 = jnp.round(choices + jnp.array([jnp.multiply(r,jnp.cos(theta_1)), jnp.multiply(r,jnp.sin(theta_1))]).T).astype(int)\n",
    "vertex2 = jnp.round(choices + jnp.array([jnp.multiply(r,jnp.cos(theta_2)), jnp.multiply(r,jnp.sin(theta_2))]).T).astype(int)\n",
    "vertex3 = jnp.round(choices + jnp.array([jnp.multiply(r,jnp.cos(theta_3)), jnp.multiply(r,jnp.sin(theta_3))]).T).astype(int)"
   ]
  },
  {
   "cell_type": "code",
   "execution_count": 31,
   "metadata": {},
   "outputs": [],
   "source": [
    "vertices = jnp.array([vertex1, vertex2, vertex3]).transpose(1,0,2)"
   ]
  },
  {
   "cell_type": "code",
   "execution_count": 32,
   "metadata": {},
   "outputs": [
    {
     "data": {
      "text/plain": [
       "(500, 3, 2)"
      ]
     },
     "execution_count": 32,
     "metadata": {},
     "output_type": "execute_result"
    }
   ],
   "source": [
    "vertices.shape"
   ]
  },
  {
   "cell_type": "code",
   "execution_count": 33,
   "metadata": {},
   "outputs": [],
   "source": [
    "vertices_flattened = vertices.reshape(-1,2)"
   ]
  },
  {
   "cell_type": "code",
   "execution_count": 34,
   "metadata": {},
   "outputs": [],
   "source": [
    "# unproject point cloud and index the depth image"
   ]
  },
  {
   "cell_type": "code",
   "execution_count": 35,
   "metadata": {},
   "outputs": [],
   "source": [
    "intrinsics = (width, height, fx, fy, cx, cy, near, far)\n",
    "pc = unproject_depth(depths[4], intrinsics)"
   ]
  },
  {
   "cell_type": "code",
   "execution_count": 36,
   "metadata": {},
   "outputs": [],
   "source": [
    "triangle_vertices = pc[tuple(vertices_flattened.T)]"
   ]
  },
  {
   "cell_type": "code",
   "execution_count": 37,
   "metadata": {},
   "outputs": [],
   "source": [
    "triangle_indices = jnp.arange(0,300).reshape(100,3)"
   ]
  },
  {
   "cell_type": "code",
   "execution_count": 38,
   "metadata": {},
   "outputs": [],
   "source": [
    "mesh = trimesh.Trimesh(vertices=triangle_vertices, faces=triangle_indices)"
   ]
  },
  {
   "cell_type": "code",
   "execution_count": 39,
   "metadata": {},
   "outputs": [],
   "source": [
    "rr.log(\n",
    "    \"/3d/mesh3\",\n",
    "    rr.Mesh3D(\n",
    "        vertex_positions=triangle_vertices,\n",
    "        indices=triangle_indices,\n",
    "        #vertex_colors=jnp.array([[255,0,0], [0,255,0], [255,0,0], [0,255,0], [255,0,0], [0,255,0]])\n",
    "    ),\n",
    "    timeless=True\n",
    ")"
   ]
  },
  {
   "cell_type": "code",
   "execution_count": 40,
   "metadata": {},
   "outputs": [],
   "source": [
    "rr.log(\n",
    "    '/log_cloud',\n",
    "    rr.Points3D(pc.reshape(-1,3)),\n",
    "    timeless=True\n",
    ")"
   ]
  },
  {
   "cell_type": "code",
   "execution_count": 41,
   "metadata": {},
   "outputs": [],
   "source": [
    " #rr.log('/pinhole', rr.Pinhole(camera_xyz=…))\n",
    "rr.log(\"world\", rr.ViewCoordinates.RIGHT_HAND_Z_UP, timeless=True)\n",
    "rr.log(\n",
    "    \"world/xyz\",\n",
    "    rr.Arrows3D(\n",
    "        vectors=[[1, 0, 0], [0, 1, 0], [0, 0, 1]],\n",
    "        colors=[[255, 0, 0], [0, 255, 0], [0, 0, 255]],\n",
    "    ),\n",
    ")"
   ]
  },
  {
   "cell_type": "code",
   "execution_count": 42,
   "metadata": {},
   "outputs": [],
   "source": [
    "# rr.log(\n",
    "#     \"world/xyz\",\n",
    "#     rr.Arrows3D(\n",
    "#         vectors=pose.inv().as_matrix()[0:3,0:3],\n",
    "#         colors=[[255, 0, 0], [0, 255, 0], [0, 0, 255]],\n",
    "#     ),\n",
    "# )"
   ]
  },
  {
   "cell_type": "code",
   "execution_count": 43,
   "metadata": {},
   "outputs": [
    {
     "data": {
      "text/plain": [
       "Array([[-3.1622779e-01,  9.4868326e-01, -8.9406967e-08],\n",
       "       [ 8.9406967e-08, -4.4703484e-08, -1.0000000e+00],\n",
       "       [-9.4868326e-01, -3.1622779e-01, -2.9802322e-08]], dtype=float32)"
      ]
     },
     "execution_count": 43,
     "metadata": {},
     "output_type": "execute_result"
    }
   ],
   "source": [
    "pose.as_matrix()[0:3,0:3]"
   ]
  },
  {
   "cell_type": "code",
   "execution_count": 44,
   "metadata": {},
   "outputs": [],
   "source": [
    "# subtriangles\n",
    "# recursively turn each triangle into four triangle \n",
    "\n"
   ]
  },
  {
   "cell_type": "code",
   "execution_count": 45,
   "metadata": {},
   "outputs": [],
   "source": [
    "triangle_vertices = jnp.array([triangle_vertices])\n",
    "triangle_indices = jnp.array([triangle_indices])"
   ]
  },
  {
   "cell_type": "code",
   "execution_count": 46,
   "metadata": {},
   "outputs": [
    {
     "data": {
      "text/plain": [
       "1500"
      ]
     },
     "execution_count": 46,
     "metadata": {},
     "output_type": "execute_result"
    }
   ],
   "source": [
    "len(triangle_vertices[0])"
   ]
  },
  {
   "cell_type": "code",
   "execution_count": 47,
   "metadata": {},
   "outputs": [
    {
     "data": {
      "text/plain": [
       "(1500, 2)"
      ]
     },
     "execution_count": 47,
     "metadata": {},
     "output_type": "execute_result"
    }
   ],
   "source": [
    "vertices_flattened.shape"
   ]
  },
  {
   "cell_type": "code",
   "execution_count": 48,
   "metadata": {},
   "outputs": [],
   "source": [
    "#jax routine to interpolate\n",
    "\n",
    "#given a list of 4 vertex meshes, returns subdivided high-resolution mesh\n",
    " \n",
    "def subdivide_triangles(triangle_vertices_list, triangle_indices_list, triangle_vertex_projections):\n",
    "    # input triangle \n",
    "    num_triangle_vertices = len(triangle_vertices_list)\n",
    "    num_triangles = len(triangle_indices_list)\n",
    "    triangle_vertices_out = jnp.zeros((num_triangle_vertices*2, 3))\n",
    "    triangle_vertex_projections_out = jnp.zeros((num_triangle_vertices*2, 2))\n",
    "    \n",
    "    triangle_vertices_out = triangle_vertices_out.at[0:num_triangle_vertices].set(triangle_vertices_list)\n",
    "    triangle_indices_list_out = jnp.zeros((num_triangles*4, 3))\n",
    "    triangle_vertex_projections_out = triangle_vertex_projections_out.at[0:num_triangle_vertices].set(triangle_vertex_projections)\n",
    "\n",
    "    for ind, triangle_indices in enumerate(triangle_indices_list):\n",
    "        p1, p2, p3 = triangle_vertices_list[triangle_indices]\n",
    "        m1, m2, m3 = (p1 + p2)/2, (p2 + p3)/2, (p3 + p1)/2\n",
    "        p1_pix, p2_pix, p3_pix = triangle_vertex_projections[triangle_indices]\n",
    "        m1_pix, m2_pix, m3_pix = (p1_pix + p2_pix)/2, (p2_pix + p3_pix)/2, (p3_pix + p1_pix)/2\n",
    "        \n",
    "        triangle_vertices_out = triangle_vertices_out.at[num_triangle_vertices + 3*ind:num_triangle_vertices + 3*(ind+1)].set(jnp.array([m1, m2, m3]))\n",
    "        triangle_vertex_projections_out = triangle_vertex_projections_out.at[num_triangle_vertices + 3*ind:num_triangle_vertices + 3*(ind+1)].set(jnp.array([m1_pix, m2_pix, m3_pix]))\n",
    "        triangle_indices_list_out = triangle_indices_list_out.at[ind].set(np.array([num_triangle_vertices + 3*ind, num_triangle_vertices + 3*ind + 1, num_triangle_vertices + 3*ind + 2]))\n",
    "        triangle_indices_list_out = triangle_indices_list_out.at[num_triangles + ind].set(np.array([triangle_indices[0], num_triangle_vertices + 3*ind, num_triangle_vertices + 3*ind + 2]))\n",
    "        triangle_indices_list_out = triangle_indices_list_out.at[2*num_triangles + ind].set(np.array([triangle_indices[1], num_triangle_vertices + 3*ind, num_triangle_vertices + 3*ind + 1]))\n",
    "        triangle_indices_list_out = triangle_indices_list_out.at[3*num_triangles + ind].set(np.array([triangle_indices[2], num_triangle_vertices + 3*ind + 1, num_triangle_vertices + 3*ind + 2]))\n",
    "\n",
    "    return triangle_vertices_out, triangle_indices_list_out.astype(int), jnp.round(triangle_vertex_projections_out).astype(int)\n",
    "        \n",
    "\n",
    "# todo: grab color value from nearest point\n",
    "\n",
    "# make these individual"
   ]
  },
  {
   "cell_type": "code",
   "execution_count": 49,
   "metadata": {},
   "outputs": [],
   "source": [
    "sub_v, sub_i, sub_vf = subdivide_triangles(triangle_vertices[0], triangle_indices[0], vertices_flattened)\n"
   ]
  },
  {
   "cell_type": "code",
   "execution_count": 50,
   "metadata": {},
   "outputs": [],
   "source": [
    "rr.log(\n",
    "    \"/3d/mesh4\",\n",
    "    rr.Mesh3D(\n",
    "        vertex_positions=sub_v,\n",
    "        indices=sub_i[0:100],\n",
    "        #vertex_colors=jnp.array([[255,0,0], [0,255,0], [255,0,0], [0,255,0], [255,0,0], [0,255,0]])\n",
    "    ),\n",
    "    timeless=True\n",
    ")"
   ]
  },
  {
   "cell_type": "code",
   "execution_count": 51,
   "metadata": {},
   "outputs": [
    {
     "data": {
      "text/plain": [
       "(3000, 3)"
      ]
     },
     "execution_count": 51,
     "metadata": {},
     "output_type": "execute_result"
    }
   ],
   "source": [
    "images[4][*sub_vf.T].shape"
   ]
  },
  {
   "cell_type": "code",
   "execution_count": 52,
   "metadata": {},
   "outputs": [],
   "source": [
    "colors = jnp.round(images[4][*sub_vf.T]*255).astype(int)"
   ]
  },
  {
   "cell_type": "code",
   "execution_count": 53,
   "metadata": {},
   "outputs": [],
   "source": [
    "rr.log(\n",
    "    \"/3d/mesh5\",\n",
    "    rr.Mesh3D(\n",
    "        vertex_positions=sub_v,\n",
    "        indices=sub_i,\n",
    "        vertex_colors=colors\n",
    "    ),\n",
    "    timeless=True\n",
    ")"
   ]
  },
  {
   "cell_type": "code",
   "execution_count": 54,
   "metadata": {},
   "outputs": [
    {
     "data": {
      "text/plain": [
       "(3000, 3)"
      ]
     },
     "execution_count": 54,
     "metadata": {},
     "output_type": "execute_result"
    }
   ],
   "source": [
    "sub_v.shape"
   ]
  },
  {
   "cell_type": "code",
   "execution_count": 55,
   "metadata": {},
   "outputs": [
    {
     "data": {
      "text/plain": [
       "(3000, 2)"
      ]
     },
     "execution_count": 55,
     "metadata": {},
     "output_type": "execute_result"
    }
   ],
   "source": [
    "sub_vf.shape"
   ]
  },
  {
   "cell_type": "code",
   "execution_count": 56,
   "metadata": {},
   "outputs": [
    {
     "data": {
      "text/plain": [
       "Array([[0, 0, 0],\n",
       "       [0, 0, 0],\n",
       "       [0, 0, 0],\n",
       "       ...,\n",
       "       [0, 0, 0],\n",
       "       [0, 0, 0],\n",
       "       [0, 0, 0]], dtype=int32)"
      ]
     },
     "execution_count": 56,
     "metadata": {},
     "output_type": "execute_result"
    }
   ],
   "source": [
    "colors"
   ]
  },
  {
   "cell_type": "code",
   "execution_count": 57,
   "metadata": {},
   "outputs": [
    {
     "data": {
      "text/plain": [
       "(1, 4, 4)"
      ]
     },
     "execution_count": 57,
     "metadata": {},
     "output_type": "execute_result"
    }
   ],
   "source": [
    "Pose.identity().as_matrix()[None,...].shape"
   ]
  },
  {
   "cell_type": "code",
   "execution_count": null,
   "metadata": {},
   "outputs": [],
   "source": [
    "Pose.from_matrix(Pose.identity().as_matrix()[None,...])"
   ]
  },
  {
   "cell_type": "code",
   "execution_count": 59,
   "metadata": {},
   "outputs": [],
   "source": [
    "ranges = jnp.array([[0, len(sub_i)]])\n",
    "im_mesh, depth_mesh = renderer.render_attribute(Pose.from_matrix(Pose.identity().as_matrix()[None,...]), sub_v, sub_i, ranges, colors/255.0)"
   ]
  },
  {
   "cell_type": "code",
   "execution_count": 60,
   "metadata": {},
   "outputs": [
    {
     "name": "stderr",
     "output_type": "stream",
     "text": [
      "Clipping input data to the valid range for imshow with RGB data ([0..1] for floats or [0..255] for integers).\n"
     ]
    },
    {
     "data": {
      "text/plain": [
       "<matplotlib.image.AxesImage at 0x7f8b15f1d9d0>"
      ]
     },
     "execution_count": 60,
     "metadata": {},
     "output_type": "execute_result"
    },
    {
     "data": {
      "image/png": "[encoded data removed]",
      "text/plain": [
       "<Figure size 640x480 with 1 Axes>"
      ]
     },
     "metadata": {},
     "output_type": "display_data"
    }
   ],
   "source": [
    "plt.imshow(im_mesh)"
   ]
  },
  {
   "cell_type": "code",
   "execution_count": 61,
   "metadata": {},
   "outputs": [
    {
     "data": {
      "text/plain": [
       "Array([[1500, 1501, 1502],\n",
       "       [1503, 1504, 1505],\n",
       "       [1506, 1507, 1508],\n",
       "       ...,\n",
       "       [ 293, 1792, 1793],\n",
       "       [ 296, 1795, 1796],\n",
       "       [ 299, 1798, 1799]], dtype=int32)"
      ]
     },
     "execution_count": 61,
     "metadata": {},
     "output_type": "execute_result"
    }
   ],
   "source": [
    "sub_i"
   ]
  },
  {
   "cell_type": "code",
   "execution_count": 62,
   "metadata": {},
   "outputs": [
    {
     "data": {
      "text/plain": [
       "400"
      ]
     },
     "execution_count": 62,
     "metadata": {},
     "output_type": "execute_result"
    }
   ],
   "source": [
    "len(sub_i)"
   ]
  },
  {
   "cell_type": "code",
   "execution_count": 63,
   "metadata": {},
   "outputs": [
    {
     "data": {
      "text/plain": [
       "Array([[1500, 1501, 1502],\n",
       "       [1503, 1504, 1505],\n",
       "       [1506, 1507, 1508],\n",
       "       ...,\n",
       "       [ 293, 1792, 1793],\n",
       "       [ 296, 1795, 1796],\n",
       "       [ 299, 1798, 1799]], dtype=int32)"
      ]
     },
     "execution_count": 63,
     "metadata": {},
     "output_type": "execute_result"
    }
   ],
   "source": [
    "sub_i[:,:,]"
   ]
  },
  {
   "cell_type": "code",
   "execution_count": 64,
   "metadata": {},
   "outputs": [],
   "source": [
    "#v_pc = voxelize(pc.reshape(-1,3), 0.1)"
   ]
  },
  {
   "cell_type": "code",
   "execution_count": 65,
   "metadata": {},
   "outputs": [
    {
     "data": {
      "text/plain": [
       "(100, 100, 3)"
      ]
     },
     "execution_count": 65,
     "metadata": {},
     "output_type": "execute_result"
    }
   ],
   "source": [
    "pc.shape"
   ]
  },
  {
   "cell_type": "code",
   "execution_count": 66,
   "metadata": {},
   "outputs": [
    {
     "data": {
      "text/plain": [
       "(100, 100, 3)"
      ]
     },
     "execution_count": 66,
     "metadata": {},
     "output_type": "execute_result"
    }
   ],
   "source": [
    "images[4].shape"
   ]
  },
  {
   "cell_type": "code",
   "execution_count": 67,
   "metadata": {},
   "outputs": [],
   "source": [
    "from b3d.utils import make_mesh_from_point_cloud_and_resolution\n",
    "voxelized_mesh = make_mesh_from_point_cloud_and_resolution(pc.reshape(-1,3), images[4].reshape(-1,3), pc.reshape(-1,3)[:,2] / fx * 4.0)"
   ]
  },
  {
   "cell_type": "code",
   "execution_count": 68,
   "metadata": {},
   "outputs": [
    {
     "data": {
      "text/plain": [
       "(Array([[-16.64    , -16.64    ,  15.36    ],\n",
       "        [-16.64    , -16.64    ,  16.64    ],\n",
       "        [-16.64    , -15.36    ,  15.36    ],\n",
       "        ...,\n",
       "        [ 16.32    ,  15.039999,  16.64    ],\n",
       "        [ 16.32    ,  16.32    ,  15.36    ],\n",
       "        [ 16.32    ,  16.32    ,  16.64    ]], dtype=float32),\n",
       " Array([[    1,     3,     0],\n",
       "        [    4,     1,     0],\n",
       "        [    0,     3,     2],\n",
       "        ...,\n",
       "        [79994, 79999, 79998],\n",
       "        [79998, 79997, 79996],\n",
       "        [79999, 79997, 79998]], dtype=int32),\n",
       " Array([[0., 0., 0.],\n",
       "        [0., 0., 0.],\n",
       "        [0., 0., 0.],\n",
       "        ...,\n",
       "        [0., 0., 0.],\n",
       "        [0., 0., 0.],\n",
       "        [0., 0., 0.]], dtype=float32),\n",
       " Array([[0., 0., 0.],\n",
       "        [0., 0., 0.],\n",
       "        [0., 0., 0.],\n",
       "        ...,\n",
       "        [0., 0., 0.],\n",
       "        [0., 0., 0.],\n",
       "        [0., 0., 0.]], dtype=float32))"
      ]
     },
     "execution_count": 68,
     "metadata": {},
     "output_type": "execute_result"
    }
   ],
   "source": [
    "voxelized_mesh"
   ]
  },
  {
   "cell_type": "code",
   "execution_count": 69,
   "metadata": {},
   "outputs": [],
   "source": [
    "rr.log(\n",
    "    \"/3d/mesh6\",\n",
    "    rr.Mesh3D(\n",
    "        vertex_positions=voxelized_mesh[0],\n",
    "        indices=voxelized_mesh[1],\n",
    "        vertex_colors=colors[2]\n",
    "    ),\n",
    "    timeless=True\n",
    ")"
   ]
  },
  {
   "cell_type": "code",
   "execution_count": 70,
   "metadata": {},
   "outputs": [],
   "source": [
    "# determine if point is inside triangle\n",
    "def sign(p1, p2, p3):\n",
    "    return (p1[0] - p3[0]) * (p2[1] - p3[1]) - (p2[0] - p3[0]) * (p1[1] - p3[1])\n",
    "\n",
    "def point_in_triangle(pt, v1, v2, v3):\n",
    "    d1 = sign(pt, v1, v2)\n",
    "    d2 = sign(pt, v2, v3)\n",
    "    d3 = sign(pt, v3, v1)\n",
    "\n",
    "    has_neg = (d1 < 0) | (d2 < 0) | (d3 < 0)\n",
    "    has_pos = (d1 > 0) | (d2 > 0) | (d3 > 0)\n",
    "\n",
    "    return jnp.logical_not(jnp.array((has_neg & has_pos)))\n",
    "\n",
    "point_in_triangles_vec = jax.vmap(point_in_triangle, in_axes=(None, 0, 0, 0))\n",
    "points_in_triangles_vec = jax.vmap(point_in_triangles_vec, in_axes=(0, None, None, None))"
   ]
  },
  {
   "cell_type": "code",
   "execution_count": 71,
   "metadata": {},
   "outputs": [],
   "source": [
    "indices = jnp.indices((height, width)).transpose(1,2,0).reshape(-1,2)\n",
    "ptv = points_in_triangles_vec(indices, vertex1, vertex2, vertex3)"
   ]
  },
  {
   "cell_type": "code",
   "execution_count": 72,
   "metadata": {},
   "outputs": [
    {
     "data": {
      "text/plain": [
       "<matplotlib.image.AxesImage at 0x7f8b0a71d9d0>"
      ]
     },
     "execution_count": 72,
     "metadata": {},
     "output_type": "execute_result"
    },
    {
     "data": {
      "image/png": "[encoded data removed]",
      "text/plain": [
       "<Figure size 640x480 with 1 Axes>"
      ]
     },
     "metadata": {},
     "output_type": "display_data"
    }
   ],
   "source": [
    "plt.imshow(np.multiply(images[4],ptv[:,10].reshape(100,100)[:,:,None]))"
   ]
  },
  {
   "cell_type": "code",
   "execution_count": 73,
   "metadata": {},
   "outputs": [
    {
     "name": "stderr",
     "output_type": "stream",
     "text": [
      "Clipping input data to the valid range for imshow with RGB data ([0..1] for floats or [0..255] for integers).\n"
     ]
    },
    {
     "data": {
      "text/plain": [
       "<matplotlib.image.AxesImage at 0x7f8b15d17a90>"
      ]
     },
     "execution_count": 73,
     "metadata": {},
     "output_type": "execute_result"
    },
    {
     "data": {
      "image/png": "[encoded data removed]",
      "text/plain": [
       "<Figure size 640x480 with 1 Axes>"
      ]
     },
     "metadata": {},
     "output_type": "display_data"
    }
   ],
   "source": [
    "plt.imshow(np.multiply(images[4],jnp.sum(ptv, axis=1).reshape(100,100)[:,:,None]))"
   ]
  },
  {
   "cell_type": "code",
   "execution_count": 74,
   "metadata": {},
   "outputs": [],
   "source": [
    "test_triangle = ptv[:,12].reshape(100,100)"
   ]
  },
  {
   "cell_type": "code",
   "execution_count": 75,
   "metadata": {},
   "outputs": [
    {
     "data": {
      "text/plain": [
       "<matplotlib.image.AxesImage at 0x7f8b15dcd9d0>"
      ]
     },
     "execution_count": 75,
     "metadata": {},
     "output_type": "execute_result"
    },
    {
     "data": {
      "image/png": "[encoded data removed]",
      "text/plain": [
       "<Figure size 640x480 with 1 Axes>"
      ]
     },
     "metadata": {},
     "output_type": "display_data"
    }
   ],
   "source": [
    "plt.imshow(test_triangle)"
   ]
  },
  {
   "cell_type": "code",
   "execution_count": 76,
   "metadata": {},
   "outputs": [],
   "source": [
    "# voxelize the features into clouds "
   ]
  },
  {
   "cell_type": "code",
   "execution_count": 77,
   "metadata": {},
   "outputs": [],
   "source": [
    "v, f, vc, fc = make_mesh_from_point_cloud_and_resolution(pc[test_triangle], images[4][test_triangle], pc[test_triangle][:,2] / fx * 4.0)"
   ]
  },
  {
   "cell_type": "code",
   "execution_count": 79,
   "metadata": {},
   "outputs": [],
   "source": [
    "im_feat, depth_feat = renderer.render_attribute(Pose.from_matrix(Pose.identity().as_matrix()[None,...]), v, f, ranges = jnp.array([[0, len(f)]]),\n",
    "                                                 attributes=vc)"
   ]
  },
  {
   "cell_type": "code",
   "execution_count": 80,
   "metadata": {},
   "outputs": [
    {
     "data": {
      "text/plain": [
       "<matplotlib.image.AxesImage at 0x7f8b15c6d9d0>"
      ]
     },
     "execution_count": 80,
     "metadata": {},
     "output_type": "execute_result"
    },
    {
     "data": {
      "image/png": "[encoded data removed]",
      "text/plain": [
       "<Figure size 640x480 with 1 Axes>"
      ]
     },
     "metadata": {},
     "output_type": "display_data"
    }
   ],
   "source": [
    "plt.imshow(im_feat)"
   ]
  },
  {
   "cell_type": "code",
   "execution_count": 81,
   "metadata": {},
   "outputs": [],
   "source": [
    "rr.log(\n",
    "    \"/3d/mesh6\",\n",
    "    rr.Mesh3D(\n",
    "        vertex_positions=v,\n",
    "        indices=f,\n",
    "        vertex_colors=vc\n",
    "    ),\n",
    "    timeless=True\n",
    ")"
   ]
  },
  {
   "cell_type": "code",
   "execution_count": 82,
   "metadata": {},
   "outputs": [],
   "source": [
    "# take mesh, generate motion proposal, and score in parallel"
   ]
  },
  {
   "cell_type": "code",
   "execution_count": 83,
   "metadata": {},
   "outputs": [],
   "source": [
    "object_library = b3d.MeshLibrary.make_empty_library()"
   ]
  },
  {
   "cell_type": "code",
   "execution_count": 84,
   "metadata": {},
   "outputs": [],
   "source": [
    "object_library.add_object(v, f, vc)"
   ]
  },
  {
   "cell_type": "code",
   "execution_count": 85,
   "metadata": {},
   "outputs": [
    {
     "data": {
      "text/plain": [
       "Array([[  1,   3,   0],\n",
       "       [  4,   1,   0],\n",
       "       [  0,   3,   2],\n",
       "       ...,\n",
       "       [298, 303, 302],\n",
       "       [302, 301, 300],\n",
       "       [303, 301, 302]], dtype=int32)"
      ]
     },
     "execution_count": 85,
     "metadata": {},
     "output_type": "execute_result"
    }
   ],
   "source": [
    "object_library.faces"
   ]
  },
  {
   "cell_type": "code",
   "execution_count": 86,
   "metadata": {},
   "outputs": [],
   "source": [
    "for i in range(ptv.shape[1]):\n",
    "    test_triangle = ptv[:,i].reshape(100,100)\n",
    "    v, f, vc, fc = make_mesh_from_point_cloud_and_resolution(pc[test_triangle], images[4][test_triangle], pc[test_triangle][:,2] / fx * 4.0)\n",
    "    object_library.add_object(v, f, vc)"
   ]
  },
  {
   "cell_type": "code",
   "execution_count": 87,
   "metadata": {},
   "outputs": [
    {
     "data": {
      "text/plain": [
       "(220416, 3)"
      ]
     },
     "execution_count": 87,
     "metadata": {},
     "output_type": "execute_result"
    }
   ],
   "source": [
    "object_library.faces.shape"
   ]
  },
  {
   "cell_type": "code",
   "execution_count": 88,
   "metadata": {},
   "outputs": [
    {
     "data": {
      "text/plain": [
       "(444, 3)"
      ]
     },
     "execution_count": 88,
     "metadata": {},
     "output_type": "execute_result"
    }
   ],
   "source": [
    "f.shape"
   ]
  },
  {
   "cell_type": "code",
   "execution_count": 89,
   "metadata": {},
   "outputs": [],
   "source": [
    "model = b3d.model_multiobject_gl_factory(renderer)"
   ]
  },
  {
   "cell_type": "code",
   "execution_count": 90,
   "metadata": {},
   "outputs": [
    {
     "data": {
      "text/plain": [
       "(146944, 3)"
      ]
     },
     "execution_count": 90,
     "metadata": {},
     "output_type": "execute_result"
    }
   ],
   "source": [
    "object_library.attributes.shape"
   ]
  },
  {
   "cell_type": "code",
   "execution_count": 91,
   "metadata": {},
   "outputs": [
    {
     "data": {
      "text/plain": [
       "Array([[     0,    456],\n",
       "       [   456,    444],\n",
       "       [   900,    444],\n",
       "       ...,\n",
       "       [219108,    408],\n",
       "       [219516,    456],\n",
       "       [219972,    444]], dtype=int32)"
      ]
     },
     "execution_count": 91,
     "metadata": {},
     "output_type": "execute_result"
    }
   ],
   "source": [
    "object_library.ranges"
   ]
  },
  {
   "cell_type": "code",
   "execution_count": 92,
   "metadata": {},
   "outputs": [
    {
     "data": {
      "text/plain": [
       "Array([  0, 456], dtype=int32)"
      ]
     },
     "execution_count": 92,
     "metadata": {},
     "output_type": "execute_result"
    }
   ],
   "source": [
    "object_library.ranges[0]"
   ]
  },
  {
   "cell_type": "code",
   "execution_count": 93,
   "metadata": {},
   "outputs": [
    {
     "data": {
      "text/plain": [
       "(146944, 3)"
      ]
     },
     "execution_count": 93,
     "metadata": {},
     "output_type": "execute_result"
    }
   ],
   "source": [
    "object_library.vertices.shape"
   ]
  },
  {
   "cell_type": "code",
   "execution_count": 94,
   "metadata": {},
   "outputs": [],
   "source": [
    "library_obj_indices_to_render = jnp.empty((0,), dtype=int)\n",
    "object_identity=11\n",
    "library_obj_indices_to_render = jnp.concatenate((library_obj_indices_to_render, jnp.array([object_identity])))\n"
   ]
  },
  {
   "cell_type": "code",
   "execution_count": 95,
   "metadata": {},
   "outputs": [
    {
     "data": {
      "text/plain": [
       "Array([11], dtype=int32)"
      ]
     },
     "execution_count": 95,
     "metadata": {},
     "output_type": "execute_result"
    }
   ],
   "source": [
    "library_obj_indices_to_render"
   ]
  },
  {
   "cell_type": "code",
   "execution_count": 96,
   "metadata": {},
   "outputs": [
    {
     "data": {
      "text/plain": [
       "(Array([[-0.40442047, -0.96049863,  2.4265227 ],\n",
       "        [-0.40442047, -0.96049863,  2.6287332 ],\n",
       "        [-0.40442047, -0.75828844,  2.4265227 ],\n",
       "        ...,\n",
       "        [-5.7599998 ,  7.36      , 16.64      ],\n",
       "        [-5.7599998 ,  8.64      , 15.36      ],\n",
       "        [-5.7599998 ,  8.64      , 16.64      ]], dtype=float32),\n",
       " Array([[     1,      3,      0],\n",
       "        [     4,      1,      0],\n",
       "        [     0,      3,      2],\n",
       "        ...,\n",
       "        [146938, 146943, 146942],\n",
       "        [146942, 146941, 146940],\n",
       "        [146943, 146941, 146942]], dtype=int32),\n",
       " Array([[4800,  444]], dtype=int32),\n",
       " Array([[0.56117225, 0.53203773, 0.25071576],\n",
       "        [0.56117225, 0.53203773, 0.25071576],\n",
       "        [0.56117225, 0.53203773, 0.25071576],\n",
       "        ...,\n",
       "        [0.        , 0.        , 0.        ],\n",
       "        [0.        , 0.        , 0.        ],\n",
       "        [0.        , 0.        , 0.        ]], dtype=float32))"
      ]
     },
     "execution_count": 96,
     "metadata": {},
     "output_type": "execute_result"
    }
   ],
   "source": [
    "object_library.vertices, object_library.faces, object_library.ranges[library_obj_indices_to_render] * (library_obj_indices_to_render >= 0).reshape(-1,1), object_library.attributes"
   ]
  },
  {
   "cell_type": "code",
   "execution_count": 101,
   "metadata": {},
   "outputs": [],
   "source": [
    "im_feat, depth_feat = renderer.render_attribute(Pose.from_matrix(Pose.identity().as_matrix()[None,...]), object_library.vertices, object_library.faces, object_library.ranges[library_obj_indices_to_render] * (library_obj_indices_to_render >= 0).reshape(-1,1), object_library.attributes)"
   ]
  },
  {
   "cell_type": "code",
   "execution_count": 102,
   "metadata": {},
   "outputs": [
    {
     "data": {
      "text/plain": [
       "<matplotlib.image.AxesImage at 0x7f8b12057c10>"
      ]
     },
     "execution_count": 102,
     "metadata": {},
     "output_type": "execute_result"
    },
    {
     "data": {
      "image/png": "[encoded data removed]",
      "text/plain": [
       "<Figure size 640x480 with 1 Axes>"
      ]
     },
     "metadata": {},
     "output_type": "display_data"
    }
   ],
   "source": [
    "plt.imshow(im_feat)"
   ]
  },
  {
   "cell_type": "code",
   "execution_count": 103,
   "metadata": {},
   "outputs": [
    {
     "data": {
      "text/plain": [
       "Array([11], dtype=int32)"
      ]
     },
     "execution_count": 103,
     "metadata": {},
     "output_type": "execute_result"
    },
    {
     "ename": "",
     "evalue": "",
     "output_type": "error",
     "traceback": [
      "\u001b[1;31mThe Kernel crashed while executing code in the current cell or a previous cell. \n",
      "\u001b[1;31mPlease review the code in the cell(s) to identify a possible cause of the failure. \n",
      "\u001b[1;31mClick <a href='https://aka.ms/vscodeJupyterKernelCrash'>here</a> for more info. \n",
      "\u001b[1;31mView Jupyter <a href='command:jupyter.viewOutput'>log</a> for further details."
     ]
    }
   ],
   "source": [
    "library_obj_indices_to_render"
   ]
  },
  {
   "cell_type": "code",
   "execution_count": null,
   "metadata": {},
   "outputs": [],
   "source": []
  },
  {
   "cell_type": "code",
   "execution_count": null,
   "metadata": {},
   "outputs": [],
   "source": []
  },
  {
   "cell_type": "code",
   "execution_count": null,
   "metadata": {},
   "outputs": [],
   "source": []
  },
  {
   "cell_type": "code",
   "execution_count": null,
   "metadata": {},
   "outputs": [],
   "source": []
  }
 ],
 "metadata": {
  "kernelspec": {
   "display_name": "b3d",
   "language": "python",
   "name": "python3"
  },
  "language_info": {
   "codemirror_mode": {
    "name": "ipython",
    "version": 3
   },
   "file_extension": ".py",
   "mimetype": "text/x-python",
   "name": "python",
   "nbconvert_exporter": "python",
   "pygments_lexer": "ipython3",
   "version": "3.11.8"
  }
 },
 "nbformat": 4,
 "nbformat_minor": 2
}
