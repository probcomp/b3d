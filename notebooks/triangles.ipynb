{
 "cells": [
  {
   "cell_type": "code",
   "execution_count": 1,
   "metadata": {},
   "outputs": [],
   "source": [
    "import jax.numpy as jnp\n",
    "import jax\n",
    "import matplotlib.pyplot as plt\n",
    "import numpy as np\n",
    "import os\n",
    "import trimesh\n",
    "import b3d\n",
    "from jax.scipy.spatial.transform import Rotation as Rot\n",
    "from b3d import Pose\n",
    "from b3d.utils import unproject_depth, voxelize\n",
    "from b3d.mesh import make_voxel_mesh_from_point_cloud\n",
    "import rerun as rr\n"
   ]
  },
  {
   "cell_type": "code",
   "execution_count": 2,
   "metadata": {},
   "outputs": [],
   "source": [
    "rr.init(\"demo.py\")\n",
    "rr.connect(\"127.0.0.1:8812\")"
   ]
  },
  {
   "cell_type": "code",
   "execution_count": 3,
   "metadata": {},
   "outputs": [],
   "source": [
    "width=100\n",
    "height=100\n",
    "fx=50.0\n",
    "fy=50.0\n",
    "cx=50.0\n",
    "cy=50.0\n",
    "near=0.001\n",
    "far=16.0\n",
    "renderer = b3d.Renderer(\n",
    "    width, height, fx, fy, cx, cy, near, far\n",
    ")"
   ]
  },
  {
   "cell_type": "code",
   "execution_count": 4,
   "metadata": {},
   "outputs": [],
   "source": [
    "## Render color\n",
    "from pathlib import Path\n",
    "mesh_path = Path(b3d.__file__).parents[1] / \"assets/006_mustard_bottle/textured_simple.obj\"\n",
    "mesh = trimesh.load(mesh_path)\n",
    "\n",
    "vertices = jnp.array(mesh.vertices) * 20.0\n",
    "vertices = vertices - vertices.mean(0)\n",
    "faces = jnp.array(mesh.faces)\n",
    "vertex_colors = jnp.array(mesh.visual.to_color().vertex_colors)[...,:3] / 255.0\n",
    "ranges = jnp.array([[0, len(faces)]])\n",
    "\n",
    "pose = Pose.from_position_and_target(\n",
    "    jnp.array([3.0, 3.0, 0.0]),\n",
    "    jnp.array([0.0, 2, 0.0])\n",
    "\n",
    ").inverse()"
   ]
  },
  {
   "cell_type": "code",
   "execution_count": 5,
   "metadata": {},
   "outputs": [],
   "source": [
    "rr.log(\n",
    "    \"/3d/mesh\",\n",
    "    rr.Mesh3D(\n",
    "        vertex_positions=vertices,\n",
    "        indices=faces,\n",
    "        vertex_colors=vertex_colors\n",
    "    ),\n",
    "    timeless=True\n",
    ")"
   ]
  },
  {
   "cell_type": "code",
   "execution_count": 6,
   "metadata": {},
   "outputs": [],
   "source": [
    "num_frames = 5"
   ]
  },
  {
   "cell_type": "code",
   "execution_count": 7,
   "metadata": {},
   "outputs": [],
   "source": [
    "poses = [\n",
    "    pose\n",
    "]\n",
    "delta_pose = Pose(\n",
    "    jnp.array([0.0, 0.5, 0.0]),\n",
    "    Rot.from_euler(\"zyx\", [-1.0, 0.1, 2.0], degrees=True).as_quat()\n",
    ")\n",
    "for t in range(num_frames - 1):\n",
    "    poses.append(poses[-1] @ delta_pose)\n",
    "\n",
    "\n",
    "all_gt_poses = Pose.stack_poses(poses)"
   ]
  },
  {
   "cell_type": "code",
   "execution_count": 8,
   "metadata": {},
   "outputs": [
    {
     "data": {
      "text/plain": [
       "(5, 1, 4, 4)"
      ]
     },
     "execution_count": 8,
     "metadata": {},
     "output_type": "execute_result"
    }
   ],
   "source": [
    "all_gt_poses.as_matrix()[:,None,...].shape"
   ]
  },
  {
   "cell_type": "code",
   "execution_count": 9,
   "metadata": {},
   "outputs": [
    {
     "data": {
      "text/plain": [
       "Array([[0.8823529 , 0.7843137 , 0.23921567],\n",
       "       [0.890196  , 0.7921568 , 0.25490195],\n",
       "       [0.8823529 , 0.78823525, 0.2352941 ],\n",
       "       ...,\n",
       "       [0.79999995, 0.67843133, 0.13333333],\n",
       "       [0.8470588 , 0.6980392 , 0.16470587],\n",
       "       [0.8431372 , 0.69019604, 0.15686274]],      dtype=float32, weak_type=True)"
      ]
     },
     "execution_count": 9,
     "metadata": {},
     "output_type": "execute_result"
    }
   ],
   "source": [
    "vertex_colors"
   ]
  },
  {
   "cell_type": "code",
   "execution_count": 10,
   "metadata": {},
   "outputs": [],
   "source": [
    "images, depths = renderer.render_attribute_many(all_gt_poses.as_matrix()[:,None,...], vertices, faces, ranges, vertex_colors)"
   ]
  },
  {
   "cell_type": "code",
   "execution_count": 11,
   "metadata": {},
   "outputs": [
    {
     "data": {
      "text/plain": [
       "<matplotlib.image.AxesImage at 0x7f7824502710>"
      ]
     },
     "execution_count": 11,
     "metadata": {},
     "output_type": "execute_result"
    },
    {
     "data": {
      "image/png": "[encoded data removed]",
      "text/plain": [
       "<Figure size 640x480 with 1 Axes>"
      ]
     },
     "metadata": {},
     "output_type": "display_data"
    }
   ],
   "source": [
    "plt.imshow(images[0])"
   ]
  },
  {
   "cell_type": "code",
   "execution_count": 12,
   "metadata": {},
   "outputs": [
    {
     "data": {
      "text/plain": [
       "(100, 100, 3)"
      ]
     },
     "execution_count": 12,
     "metadata": {},
     "output_type": "execute_result"
    }
   ],
   "source": [
    "images[4].shape"
   ]
  },
  {
   "cell_type": "code",
   "execution_count": 13,
   "metadata": {},
   "outputs": [],
   "source": [
    "## drawing a triangle of triangles in the scene"
   ]
  },
  {
   "cell_type": "code",
   "execution_count": 14,
   "metadata": {},
   "outputs": [],
   "source": [
    "# mesh objects can be created from existing faces and vertex data\n",
    "mesh = trimesh.Trimesh(vertices=[[0, 0, 0], [0, 0, 1], [0, 1, 0], [1, 1, 1], [1, 1, 2], [1, 2, 1]],\n",
    "                       faces=[[0, 1, 2], [3, 4, 5]])"
   ]
  },
  {
   "cell_type": "code",
   "execution_count": 15,
   "metadata": {},
   "outputs": [],
   "source": [
    "vertices = jnp.array(mesh.vertices) * 20.0\n",
    "vertices = vertices - vertices.mean(0)\n",
    "faces = jnp.array(mesh.faces)\n",
    "#vertex_colors = jnp.array(mesh.visual.to_color().vertex_colors)[...,:3] / 255.0\n",
    "\n",
    "\n",
    "rr.log(\n",
    "    \"/3d/mesh2\",\n",
    "    rr.Mesh3D(\n",
    "        vertex_positions=mesh.vertices,\n",
    "        indices=mesh.faces,\n",
    "        vertex_colors=jnp.array([[255,0,0], [0,255,0], [255,0,0], [0,255,0], [255,0,0], [0,255,0]])\n",
    "    ),\n",
    "    timeless=True\n",
    ")"
   ]
  },
  {
   "cell_type": "code",
   "execution_count": 16,
   "metadata": {},
   "outputs": [],
   "source": [
    "# propose circle mask\n",
    "# pick vertices on the mask\n",
    "# make triangle based on texture\n",
    "# generate movement proposals\n",
    "# marginalize out over movement proposals to find the best features"
   ]
  },
  {
   "cell_type": "code",
   "execution_count": 17,
   "metadata": {},
   "outputs": [],
   "source": [
    "indices = jnp.indices((height, width)).transpose(1,2,0)\n",
    "# restrict to circles not within 3 of the edge\n",
    "edge_buffer = triangle_boundary_radius = 5\n",
    "indices = indices[edge_buffer:height-edge_buffer, edge_buffer:width-edge_buffer, :]\n",
    "indices = indices.reshape(-1, 2)\n"
   ]
  },
  {
   "cell_type": "code",
   "execution_count": 18,
   "metadata": {},
   "outputs": [],
   "source": [
    "key = jax.random.PRNGKey(15)\n",
    "triangles = 500\n",
    "choices = jax.random.choice(key, indices, shape=(triangles,))"
   ]
  },
  {
   "cell_type": "code",
   "execution_count": 19,
   "metadata": {},
   "outputs": [],
   "source": [
    "# r = jax.random.uniform(key, shape=(triangles*2,)) * triangle_radius\n",
    "# theta = jax.random.uniform(key, shape=(triangles*2,)) * 2 * jnp.pi\n",
    "\n",
    "r = triangle_boundary_radius\n",
    "theta_1 = jax.random.uniform(key, shape=(triangles,)) * 2 * jnp.pi / 3 \n",
    "theta_2 = theta_1 + 2 * jnp.pi / 3 \n",
    "theta_3 = theta_1 + 4 * jnp.pi / 3\n"
   ]
  },
  {
   "cell_type": "code",
   "execution_count": 20,
   "metadata": {},
   "outputs": [],
   "source": [
    "vertex1 = jnp.round(choices + jnp.array([jnp.multiply(r,jnp.cos(theta_1)), jnp.multiply(r,jnp.sin(theta_1))]).T).astype(int)\n",
    "vertex2 = jnp.round(choices + jnp.array([jnp.multiply(r,jnp.cos(theta_2)), jnp.multiply(r,jnp.sin(theta_2))]).T).astype(int)\n",
    "vertex3 = jnp.round(choices + jnp.array([jnp.multiply(r,jnp.cos(theta_3)), jnp.multiply(r,jnp.sin(theta_3))]).T).astype(int)"
   ]
  },
  {
   "cell_type": "code",
   "execution_count": 21,
   "metadata": {},
   "outputs": [],
   "source": [
    "vertices = jnp.array([vertex1, vertex2, vertex3]).transpose(1,0,2)"
   ]
  },
  {
   "cell_type": "code",
   "execution_count": 22,
   "metadata": {},
   "outputs": [
    {
     "data": {
      "text/plain": [
       "(500, 3, 2)"
      ]
     },
     "execution_count": 22,
     "metadata": {},
     "output_type": "execute_result"
    }
   ],
   "source": [
    "vertices.shape"
   ]
  },
  {
   "cell_type": "code",
   "execution_count": 23,
   "metadata": {},
   "outputs": [],
   "source": [
    "vertices_flattened = vertices.reshape(-1,2)"
   ]
  },
  {
   "cell_type": "code",
   "execution_count": 24,
   "metadata": {},
   "outputs": [],
   "source": [
    "# unproject point cloud and index the depth image"
   ]
  },
  {
   "cell_type": "code",
   "execution_count": 25,
   "metadata": {},
   "outputs": [],
   "source": [
    "intrinsics = (width, height, fx, fy, cx, cy, near, far)\n",
    "pc = unproject_depth(depths[4], intrinsics)"
   ]
  },
  {
   "cell_type": "code",
   "execution_count": 26,
   "metadata": {},
   "outputs": [],
   "source": [
    "triangle_vertices = pc[tuple(vertices_flattened.T)]"
   ]
  },
  {
   "cell_type": "code",
   "execution_count": 27,
   "metadata": {},
   "outputs": [],
   "source": [
    "triangle_indices = jnp.arange(0,300).reshape(100,3)"
   ]
  },
  {
   "cell_type": "code",
   "execution_count": 28,
   "metadata": {},
   "outputs": [],
   "source": [
    "mesh = trimesh.Trimesh(vertices=triangle_vertices, faces=triangle_indices)"
   ]
  },
  {
   "cell_type": "code",
   "execution_count": 29,
   "metadata": {},
   "outputs": [],
   "source": [
    "rr.log(\n",
    "    \"/3d/mesh3\",\n",
    "    rr.Mesh3D(\n",
    "        vertex_positions=triangle_vertices,\n",
    "        indices=triangle_indices,\n",
    "        #vertex_colors=jnp.array([[255,0,0], [0,255,0], [255,0,0], [0,255,0], [255,0,0], [0,255,0]])\n",
    "    ),\n",
    "    timeless=True\n",
    ")"
   ]
  },
  {
   "cell_type": "code",
   "execution_count": 30,
   "metadata": {},
   "outputs": [],
   "source": [
    "rr.log(\n",
    "    '/log_cloud',\n",
    "    rr.Points3D(pc.reshape(-1,3)),\n",
    "    timeless=True\n",
    ")"
   ]
  },
  {
   "cell_type": "code",
   "execution_count": 31,
   "metadata": {},
   "outputs": [],
   "source": [
    " #rr.log('/pinhole', rr.Pinhole(camera_xyz=…))\n",
    "rr.log(\"world\", rr.ViewCoordinates.RIGHT_HAND_Z_UP, timeless=True)\n",
    "rr.log(\n",
    "    \"world/xyz\",\n",
    "    rr.Arrows3D(\n",
    "        vectors=[[1, 0, 0], [0, 1, 0], [0, 0, 1]],\n",
    "        colors=[[255, 0, 0], [0, 255, 0], [0, 0, 255]],\n",
    "    ),\n",
    ")"
   ]
  },
  {
   "cell_type": "code",
   "execution_count": 32,
   "metadata": {},
   "outputs": [],
   "source": [
    "# rr.log(\n",
    "#     \"world/xyz\",\n",
    "#     rr.Arrows3D(\n",
    "#         vectors=pose.inv().as_matrix()[0:3,0:3],\n",
    "#         colors=[[255, 0, 0], [0, 255, 0], [0, 0, 255]],\n",
    "#     ),\n",
    "# )"
   ]
  },
  {
   "cell_type": "code",
   "execution_count": 33,
   "metadata": {},
   "outputs": [
    {
     "data": {
      "text/plain": [
       "Array([[-3.1622779e-01,  9.4868326e-01, -8.9406967e-08],\n",
       "       [ 8.9406967e-08, -4.4703484e-08, -1.0000000e+00],\n",
       "       [-9.4868326e-01, -3.1622779e-01, -2.9802322e-08]], dtype=float32)"
      ]
     },
     "execution_count": 33,
     "metadata": {},
     "output_type": "execute_result"
    }
   ],
   "source": [
    "pose.as_matrix()[0:3,0:3]"
   ]
  },
  {
   "cell_type": "code",
   "execution_count": 34,
   "metadata": {},
   "outputs": [],
   "source": [
    "# subtriangles\n",
    "# recursively turn each triangle into four triangle \n",
    "\n"
   ]
  },
  {
   "cell_type": "code",
   "execution_count": 35,
   "metadata": {},
   "outputs": [],
   "source": [
    "triangle_vertices = jnp.array([triangle_vertices])\n",
    "triangle_indices = jnp.array([triangle_indices])"
   ]
  },
  {
   "cell_type": "code",
   "execution_count": 36,
   "metadata": {},
   "outputs": [
    {
     "data": {
      "text/plain": [
       "1500"
      ]
     },
     "execution_count": 36,
     "metadata": {},
     "output_type": "execute_result"
    }
   ],
   "source": [
    "len(triangle_vertices[0])"
   ]
  },
  {
   "cell_type": "code",
   "execution_count": 37,
   "metadata": {},
   "outputs": [
    {
     "data": {
      "text/plain": [
       "(1500, 2)"
      ]
     },
     "execution_count": 37,
     "metadata": {},
     "output_type": "execute_result"
    }
   ],
   "source": [
    "vertices_flattened.shape"
   ]
  },
  {
   "cell_type": "code",
   "execution_count": 38,
   "metadata": {},
   "outputs": [],
   "source": [
    "#jax routine to interpolate\n",
    "\n",
    "#given a list of 4 vertex meshes, returns subdivided high-resolution mesh\n",
    " \n",
    "def subdivide_triangles(triangle_vertices_list, triangle_indices_list, triangle_vertex_projections):\n",
    "    # input triangle \n",
    "    num_triangle_vertices = len(triangle_vertices_list)\n",
    "    num_triangles = len(triangle_indices_list)\n",
    "    triangle_vertices_out = jnp.zeros((num_triangle_vertices*2, 3))\n",
    "    triangle_vertex_projections_out = jnp.zeros((num_triangle_vertices*2, 2))\n",
    "    \n",
    "    triangle_vertices_out = triangle_vertices_out.at[0:num_triangle_vertices].set(triangle_vertices_list)\n",
    "    triangle_indices_list_out = jnp.zeros((num_triangles*4, 3))\n",
    "    triangle_vertex_projections_out = triangle_vertex_projections_out.at[0:num_triangle_vertices].set(triangle_vertex_projections)\n",
    "\n",
    "    for ind, triangle_indices in enumerate(triangle_indices_list):\n",
    "        p1, p2, p3 = triangle_vertices_list[triangle_indices]\n",
    "        m1, m2, m3 = (p1 + p2)/2, (p2 + p3)/2, (p3 + p1)/2\n",
    "        p1_pix, p2_pix, p3_pix = triangle_vertex_projections[triangle_indices]\n",
    "        m1_pix, m2_pix, m3_pix = (p1_pix + p2_pix)/2, (p2_pix + p3_pix)/2, (p3_pix + p1_pix)/2\n",
    "        \n",
    "        triangle_vertices_out = triangle_vertices_out.at[num_triangle_vertices + 3*ind:num_triangle_vertices + 3*(ind+1)].set(jnp.array([m1, m2, m3]))\n",
    "        triangle_vertex_projections_out = triangle_vertex_projections_out.at[num_triangle_vertices + 3*ind:num_triangle_vertices + 3*(ind+1)].set(jnp.array([m1_pix, m2_pix, m3_pix]))\n",
    "        triangle_indices_list_out = triangle_indices_list_out.at[ind].set(np.array([num_triangle_vertices + 3*ind, num_triangle_vertices + 3*ind + 1, num_triangle_vertices + 3*ind + 2]))\n",
    "        triangle_indices_list_out = triangle_indices_list_out.at[num_triangles + ind].set(np.array([triangle_indices[0], num_triangle_vertices + 3*ind, num_triangle_vertices + 3*ind + 2]))\n",
    "        triangle_indices_list_out = triangle_indices_list_out.at[2*num_triangles + ind].set(np.array([triangle_indices[1], num_triangle_vertices + 3*ind, num_triangle_vertices + 3*ind + 1]))\n",
    "        triangle_indices_list_out = triangle_indices_list_out.at[3*num_triangles + ind].set(np.array([triangle_indices[2], num_triangle_vertices + 3*ind + 1, num_triangle_vertices + 3*ind + 2]))\n",
    "\n",
    "    return triangle_vertices_out, triangle_indices_list_out.astype(int), jnp.round(triangle_vertex_projections_out).astype(int)\n",
    "        \n",
    "\n",
    "# todo: grab color value from nearest point\n",
    "\n",
    "# make these individual"
   ]
  },
  {
   "cell_type": "code",
   "execution_count": 39,
   "metadata": {},
   "outputs": [],
   "source": [
    "sub_v, sub_i, sub_vf = subdivide_triangles(triangle_vertices[0], triangle_indices[0], vertices_flattened)\n"
   ]
  },
  {
   "cell_type": "code",
   "execution_count": 40,
   "metadata": {},
   "outputs": [],
   "source": [
    "rr.log(\n",
    "    \"/3d/mesh4\",\n",
    "    rr.Mesh3D(\n",
    "        vertex_positions=sub_v,\n",
    "        indices=sub_i[0:100],\n",
    "        #vertex_colors=jnp.array([[255,0,0], [0,255,0], [255,0,0], [0,255,0], [255,0,0], [0,255,0]])\n",
    "    ),\n",
    "    timeless=True\n",
    ")"
   ]
  },
  {
   "cell_type": "code",
   "execution_count": 41,
   "metadata": {},
   "outputs": [
    {
     "data": {
      "text/plain": [
       "(3000, 3)"
      ]
     },
     "execution_count": 41,
     "metadata": {},
     "output_type": "execute_result"
    }
   ],
   "source": [
    "images[4][*sub_vf.T].shape"
   ]
  },
  {
   "cell_type": "code",
   "execution_count": 42,
   "metadata": {},
   "outputs": [],
   "source": [
    "colors = jnp.round(images[4][*sub_vf.T]*255).astype(int)"
   ]
  },
  {
   "cell_type": "code",
   "execution_count": 43,
   "metadata": {},
   "outputs": [],
   "source": [
    "rr.log(\n",
    "    \"/3d/mesh5\",\n",
    "    rr.Mesh3D(\n",
    "        vertex_positions=sub_v,\n",
    "        indices=sub_i,\n",
    "        vertex_colors=colors\n",
    "    ),\n",
    "    timeless=True\n",
    ")"
   ]
  },
  {
   "cell_type": "code",
   "execution_count": 44,
   "metadata": {},
   "outputs": [
    {
     "data": {
      "text/plain": [
       "(3000, 3)"
      ]
     },
     "execution_count": 44,
     "metadata": {},
     "output_type": "execute_result"
    }
   ],
   "source": [
    "sub_v.shape"
   ]
  },
  {
   "cell_type": "code",
   "execution_count": 45,
   "metadata": {},
   "outputs": [
    {
     "data": {
      "text/plain": [
       "(3000, 2)"
      ]
     },
     "execution_count": 45,
     "metadata": {},
     "output_type": "execute_result"
    }
   ],
   "source": [
    "sub_vf.shape"
   ]
  },
  {
   "cell_type": "code",
   "execution_count": 46,
   "metadata": {},
   "outputs": [
    {
     "data": {
      "text/plain": [
       "Array([[0, 0, 0],\n",
       "       [0, 0, 0],\n",
       "       [0, 0, 0],\n",
       "       ...,\n",
       "       [0, 0, 0],\n",
       "       [0, 0, 0],\n",
       "       [0, 0, 0]], dtype=int32)"
      ]
     },
     "execution_count": 46,
     "metadata": {},
     "output_type": "execute_result"
    }
   ],
   "source": [
    "colors"
   ]
  },
  {
   "cell_type": "code",
   "execution_count": 47,
   "metadata": {},
   "outputs": [
    {
     "data": {
      "text/plain": [
       "(1, 4, 4)"
      ]
     },
     "execution_count": 47,
     "metadata": {},
     "output_type": "execute_result"
    }
   ],
   "source": [
    "Pose.identity().as_matrix()[None,...].shape"
   ]
  },
  {
   "cell_type": "code",
   "execution_count": 48,
   "metadata": {},
   "outputs": [],
   "source": [
    "ranges = jnp.array([[0, len(sub_i)]])\n",
    "im_mesh, depth_mesh = renderer.render_attribute(Pose.identity().as_matrix()[None,...], sub_v, sub_i, ranges, colors/255.0)"
   ]
  },
  {
   "cell_type": "code",
   "execution_count": 49,
   "metadata": {},
   "outputs": [
    {
     "name": "stderr",
     "output_type": "stream",
     "text": [
      "Clipping input data to the valid range for imshow with RGB data ([0..1] for floats or [0..255] for integers).\n"
     ]
    },
    {
     "data": {
      "text/plain": [
       "<matplotlib.image.AxesImage at 0x7f78054bad10>"
      ]
     },
     "execution_count": 49,
     "metadata": {},
     "output_type": "execute_result"
    },
    {
     "data": {
      "image/png": "[encoded data removed]",
      "text/plain": [
       "<Figure size 640x480 with 1 Axes>"
      ]
     },
     "metadata": {},
     "output_type": "display_data"
    }
   ],
   "source": [
    "plt.imshow(im_mesh)"
   ]
  },
  {
   "cell_type": "code",
   "execution_count": 50,
   "metadata": {},
   "outputs": [
    {
     "data": {
      "text/plain": [
       "Array([[1500, 1501, 1502],\n",
       "       [1503, 1504, 1505],\n",
       "       [1506, 1507, 1508],\n",
       "       ...,\n",
       "       [ 293, 1792, 1793],\n",
       "       [ 296, 1795, 1796],\n",
       "       [ 299, 1798, 1799]], dtype=int32)"
      ]
     },
     "execution_count": 50,
     "metadata": {},
     "output_type": "execute_result"
    }
   ],
   "source": [
    "sub_i"
   ]
  },
  {
   "cell_type": "code",
   "execution_count": 51,
   "metadata": {},
   "outputs": [
    {
     "data": {
      "text/plain": [
       "400"
      ]
     },
     "execution_count": 51,
     "metadata": {},
     "output_type": "execute_result"
    }
   ],
   "source": [
    "len(sub_i)"
   ]
  },
  {
   "cell_type": "code",
   "execution_count": 52,
   "metadata": {},
   "outputs": [
    {
     "data": {
      "text/plain": [
       "Array([[1500, 1501, 1502],\n",
       "       [1503, 1504, 1505],\n",
       "       [1506, 1507, 1508],\n",
       "       ...,\n",
       "       [ 293, 1792, 1793],\n",
       "       [ 296, 1795, 1796],\n",
       "       [ 299, 1798, 1799]], dtype=int32)"
      ]
     },
     "execution_count": 52,
     "metadata": {},
     "output_type": "execute_result"
    }
   ],
   "source": [
    "sub_i[:,:,]"
   ]
  },
  {
   "cell_type": "code",
   "execution_count": 53,
   "metadata": {},
   "outputs": [],
   "source": [
    "v_pc = voxelize(pc.reshape(-1,3), 0.1)"
   ]
  },
  {
   "cell_type": "code",
   "execution_count": 54,
   "metadata": {},
   "outputs": [],
   "source": [
    "voxelized_mesh = make_voxel_mesh_from_point_cloud(v_pc, 0.1)"
   ]
  },
  {
   "cell_type": "code",
   "execution_count": 55,
   "metadata": {},
   "outputs": [],
   "source": [
    "rr.log(\n",
    "    \"/3d/mesh6\",\n",
    "    rr.Mesh3D(\n",
    "        vertex_positions=voxelized_mesh.vertices,\n",
    "        indices=voxelized_mesh.faces,\n",
    "        #vertex_colors=colors\n",
    "    ),\n",
    "    timeless=True\n",
    ")"
   ]
  },
  {
   "cell_type": "code",
   "execution_count": 56,
   "metadata": {},
   "outputs": [
    {
     "data": {
      "text/plain": [
       "TrackedArray([[    1,     3,     0],\n",
       "              [    4,     1,     0],\n",
       "              [    0,     3,     2],\n",
       "              ...,\n",
       "              [73634, 73639, 73638],\n",
       "              [73638, 73637, 73636],\n",
       "              [73639, 73637, 73638]])"
      ]
     },
     "execution_count": 56,
     "metadata": {},
     "output_type": "execute_result"
    }
   ],
   "source": [
    "voxelized_mesh.faces"
   ]
  },
  {
   "cell_type": "code",
   "execution_count": 57,
   "metadata": {},
   "outputs": [
    {
     "data": {
      "text/plain": [
       "Array(95.942696, dtype=float32, weak_type=True)"
      ]
     },
     "execution_count": 57,
     "metadata": {},
     "output_type": "execute_result"
    }
   ],
   "source": [
    "jnp.sqrt(len(v_pc))"
   ]
  },
  {
   "cell_type": "code",
   "execution_count": 58,
   "metadata": {},
   "outputs": [],
   "source": [
    "# determine if point is inside triangle\n",
    "def sign(p1, p2, p3):\n",
    "    return (p1[0] - p3[0]) * (p2[1] - p3[1]) - (p2[0] - p3[0]) * (p1[1] - p3[1])\n",
    "\n",
    "def point_in_triangle(pt, v1, v2, v3):\n",
    "    d1 = sign(pt, v1, v2)\n",
    "    d2 = sign(pt, v2, v3)\n",
    "    d3 = sign(pt, v3, v1)\n",
    "\n",
    "    has_neg = (d1 < 0) | (d2 < 0) | (d3 < 0)\n",
    "    has_pos = (d1 > 0) | (d2 > 0) | (d3 > 0)\n",
    "\n",
    "    return jnp.logical_not(jnp.array((has_neg & has_pos)))\n",
    "\n",
    "point_in_triangles_vec = jax.vmap(point_in_triangle, in_axes=(None, 0, 0, 0))\n",
    "points_in_triangles_vec = jax.vmap(point_in_triangles_vec, in_axes=(0, None, None, None))"
   ]
  },
  {
   "cell_type": "code",
   "execution_count": 59,
   "metadata": {},
   "outputs": [],
   "source": [
    "indices = jnp.indices((height, width)).transpose(1,2,0).reshape(-1,2)\n",
    "ptv = points_in_triangles_vec(indices, vertex1, vertex2, vertex3)"
   ]
  },
  {
   "cell_type": "code",
   "execution_count": 60,
   "metadata": {},
   "outputs": [
    {
     "data": {
      "text/plain": [
       "<matplotlib.image.AxesImage at 0x7f78088ce510>"
      ]
     },
     "execution_count": 60,
     "metadata": {},
     "output_type": "execute_result"
    },
    {
     "data": {
      "image/png": "[encoded data removed]",
      "text/plain": [
       "<Figure size 640x480 with 1 Axes>"
      ]
     },
     "metadata": {},
     "output_type": "display_data"
    }
   ],
   "source": [
    "plt.imshow(images[4][ptv[:,12].reshape(100,100)])"
   ]
  },
  {
   "cell_type": "code",
   "execution_count": 61,
   "metadata": {},
   "outputs": [
    {
     "data": {
      "text/plain": [
       "<matplotlib.image.AxesImage at 0x7f780891cfd0>"
      ]
     },
     "execution_count": 61,
     "metadata": {},
     "output_type": "execute_result"
    },
    {
     "data": {
      "image/png": "[encoded data removed]",
      "text/plain": [
       "<Figure size 640x480 with 1 Axes>"
      ]
     },
     "metadata": {},
     "output_type": "display_data"
    }
   ],
   "source": [
    "plt.imshow(np.multiply(images[4],ptv[:,10].reshape(100,100)[:,:,None]))"
   ]
  },
  {
   "cell_type": "code",
   "execution_count": 62,
   "metadata": {},
   "outputs": [
    {
     "name": "stderr",
     "output_type": "stream",
     "text": [
      "Clipping input data to the valid range for imshow with RGB data ([0..1] for floats or [0..255] for integers).\n"
     ]
    },
    {
     "data": {
      "text/plain": [
       "<matplotlib.image.AxesImage at 0x7f78091dced0>"
      ]
     },
     "execution_count": 62,
     "metadata": {},
     "output_type": "execute_result"
    },
    {
     "data": {
      "image/png": "[encoded data removed]",
      "text/plain": [
       "<Figure size 640x480 with 1 Axes>"
      ]
     },
     "metadata": {},
     "output_type": "display_data"
    }
   ],
   "source": [
    "plt.imshow(np.multiply(images[4],jnp.sum(ptv, axis=1).reshape(100,100)[:,:,None]))"
   ]
  },
  {
   "cell_type": "code",
   "execution_count": 63,
   "metadata": {},
   "outputs": [],
   "source": [
    "test_triangle = ptv[:,12].reshape(100,100)"
   ]
  },
  {
   "cell_type": "code",
   "execution_count": 64,
   "metadata": {},
   "outputs": [
    {
     "data": {
      "text/plain": [
       "<matplotlib.image.AxesImage at 0x7f780936c610>"
      ]
     },
     "execution_count": 64,
     "metadata": {},
     "output_type": "execute_result"
    },
    {
     "data": {
      "image/png": "[encoded data removed]",
      "text/plain": [
       "<Figure size 640x480 with 1 Axes>"
      ]
     },
     "metadata": {},
     "output_type": "display_data"
    }
   ],
   "source": [
    "plt.imshow(test_triangle)"
   ]
  },
  {
   "cell_type": "code",
   "execution_count": 65,
   "metadata": {},
   "outputs": [],
   "source": [
    "v_feat = voxelize(pc[test_triangle], 0.001)\n",
    "m_feat = make_voxel_mesh_from_point_cloud(v_feat, 0.001)"
   ]
  },
  {
   "cell_type": "code",
   "execution_count": 66,
   "metadata": {},
   "outputs": [
    {
     "data": {
      "text/plain": [
       "<trimesh.Trimesh(vertices.shape=(304, 3), faces.shape=(456, 3))>"
      ]
     },
     "execution_count": 66,
     "metadata": {},
     "output_type": "execute_result"
    }
   ],
   "source": [
    "m_feat"
   ]
  },
  {
   "cell_type": "code",
   "execution_count": 67,
   "metadata": {},
   "outputs": [],
   "source": [
    "im_feat, depth_feat = renderer.render_attribute(Pose.identity().as_matrix()[None,...], m_feat.vertices, m_feat.faces, ranges = jnp.array([[0, len(m_feat.faces)]]),\n",
    "                                                 attributes=colors/255.0)"
   ]
  },
  {
   "cell_type": "code",
   "execution_count": 68,
   "metadata": {},
   "outputs": [
    {
     "data": {
      "text/plain": [
       "<matplotlib.image.AxesImage at 0x7f7809442c10>"
      ]
     },
     "execution_count": 68,
     "metadata": {},
     "output_type": "execute_result"
    },
    {
     "data": {
      "image/png": "[encoded data removed]",
      "text/plain": [
       "<Figure size 640x480 with 1 Axes>"
      ]
     },
     "metadata": {},
     "output_type": "display_data"
    }
   ],
   "source": [
    "plt.imshow(im_feat)"
   ]
  },
  {
   "cell_type": "code",
   "execution_count": 69,
   "metadata": {},
   "outputs": [],
   "source": [
    "# voxelize the features into clouds "
   ]
  },
  {
   "cell_type": "code",
   "execution_count": 70,
   "metadata": {},
   "outputs": [],
   "source": [
    "test_mesh = trimesh.Trimesh(m_feat.vertices, m_feat.faces)"
   ]
  },
  {
   "cell_type": "code",
   "execution_count": 71,
   "metadata": {},
   "outputs": [],
   "source": [
    "from b3d.utils import make_mesh_from_point_cloud_and_resolution"
   ]
  },
  {
   "cell_type": "code",
   "execution_count": 72,
   "metadata": {},
   "outputs": [
    {
     "data": {
      "text/plain": [
       "Array([[0.56117225, 0.53203773, 0.2507158 ],\n",
       "       [0.8237617 , 0.6899372 , 0.17592633],\n",
       "       [0.830988  , 0.697527  , 0.1984636 ],\n",
       "       [0.8384028 , 0.7074575 , 0.22416463],\n",
       "       [0.83217764, 0.69905275, 0.19322425],\n",
       "       [0.8471503 , 0.7254444 , 0.29415095],\n",
       "       [0.8412826 , 0.70940566, 0.24216045],\n",
       "       [0.8316873 , 0.6997064 , 0.20028567],\n",
       "       [0.7721838 , 0.65715927, 0.19320877],\n",
       "       [0.44097257, 0.45021498, 0.34310693],\n",
       "       [0.84584504, 0.7190102 , 0.25400704],\n",
       "       [0.853521  , 0.73277754, 0.2820614 ],\n",
       "       [0.8407154 , 0.70383924, 0.20735666],\n",
       "       [0.85137904, 0.7216446 , 0.28618467],\n",
       "       [0.84077895, 0.71388096, 0.253542  ],\n",
       "       [0.8246818 , 0.6871467 , 0.19212905],\n",
       "       [0.7164664 , 0.60556656, 0.26508737],\n",
       "       [0.08029404, 0.2807907 , 0.4333272 ],\n",
       "       [0.8468872 , 0.7220164 , 0.27152732],\n",
       "       [0.84206   , 0.7131    , 0.24792168],\n",
       "       [0.84511656, 0.7199695 , 0.2761747 ],\n",
       "       [0.8371234 , 0.7041664 , 0.22831365],\n",
       "       [0.82063586, 0.6857798 , 0.18092547],\n",
       "       [0.47588646, 0.4983781 , 0.2969939 ],\n",
       "       [0.84852695, 0.717528  , 0.26137674],\n",
       "       [0.83036596, 0.6945978 , 0.22123048],\n",
       "       [0.8298124 , 0.6947184 , 0.21384811],\n",
       "       [0.70519286, 0.62274414, 0.22721069],\n",
       "       [0.08699469, 0.2905073 , 0.45239455],\n",
       "       [0.84488004, 0.71038634, 0.23642217],\n",
       "       [0.83184385, 0.69866943, 0.21396115],\n",
       "       [0.8033646 , 0.68211395, 0.2142204 ],\n",
       "       [0.45626742, 0.47608405, 0.3164629 ],\n",
       "       [0.8341389 , 0.6986922 , 0.21510868],\n",
       "       [0.82753634, 0.69239676, 0.19748862],\n",
       "       [0.55320656, 0.53437996, 0.2822832 ],\n",
       "       [0.8287419 , 0.6914869 , 0.19930565],\n",
       "       [0.7533932 , 0.6497103 , 0.24211264]], dtype=float32)"
      ]
     },
     "execution_count": 72,
     "metadata": {},
     "output_type": "execute_result"
    }
   ],
   "source": [
    "images[4][test_triangle]"
   ]
  },
  {
   "cell_type": "code",
   "execution_count": 73,
   "metadata": {},
   "outputs": [
    {
     "data": {
      "text/plain": [
       "Array([[-0.30331534, -0.85939354,  2.527628  ],\n",
       "       [-0.81222063, -0.8663687 ,  2.7074022 ],\n",
       "       [-0.72187877, -0.8250043 ,  2.5781384 ],\n",
       "       [-0.6526564 , -0.8032694 ,  2.510217  ],\n",
       "       [-0.59224486, -0.7896598 ,  2.467687  ],\n",
       "       [-0.53997475, -0.7854178 ,  2.4544306 ],\n",
       "       [-0.4906799 , -0.7850879 ,  2.4533997 ],\n",
       "       [-0.44340536, -0.7882762 ,  2.4633632 ],\n",
       "       [-0.39676964, -0.7935393 ,  2.4798102 ],\n",
       "       [-0.3502163 , -0.8004944 ,  2.501545  ],\n",
       "       [-0.71106535, -0.76185566,  2.539519  ],\n",
       "       [-0.644971  , -0.7441973 ,  2.4806578 ],\n",
       "       [-0.588506  , -0.7356325 ,  2.4521084 ],\n",
       "       [-0.5374989 , -0.73295295,  2.4431767 ],\n",
       "       [-0.4892349 , -0.7338523 ,  2.4461746 ],\n",
       "       [-0.44262838, -0.73771393,  2.4590466 ],\n",
       "       [-0.39626175, -0.74299073,  2.476636  ],\n",
       "       [-0.34961775, -0.74918085,  2.4972696 ],\n",
       "       [-0.6406589 , -0.68994045,  2.464073  ],\n",
       "       [-0.5858113 , -0.6834465 ,  2.4408805 ],\n",
       "       [-0.53572655, -0.68183374,  2.4351206 ],\n",
       "       [-0.4879901 , -0.6831862 ,  2.4399507 ],\n",
       "       [-0.44182163, -0.68727815,  2.4545648 ],\n",
       "       [-0.39571753, -0.6925057 ,  2.4732347 ],\n",
       "       [-0.5833669 , -0.6319808 ,  2.4306953 ],\n",
       "       [-0.5339163 , -0.630992  ,  2.4268923 ],\n",
       "       [-0.48723117, -0.63340056,  2.436156  ],\n",
       "       [-0.44103295, -0.6370476 ,  2.4501832 ],\n",
       "       [-0.39491916, -0.6417436 ,  2.4682448 ],\n",
       "       [-0.5817645 , -0.5817645 ,  2.4240189 ],\n",
       "       [-0.53300214, -0.58145684,  2.422737  ],\n",
       "       [-0.48611844, -0.58334213,  2.4305923 ],\n",
       "       [-0.44026056, -0.5870141 ,  2.445892  ],\n",
       "       [-0.53193957, -0.53193957,  2.417907  ],\n",
       "       [-0.4852699 , -0.5337969 ,  2.4263496 ],\n",
       "       [-0.43952855, -0.5372016 ,  2.4418254 ],\n",
       "       [-0.48450223, -0.48450223,  2.4225113 ],\n",
       "       [-0.48364416, -0.43527976,  2.418221  ]], dtype=float32)"
      ]
     },
     "execution_count": 73,
     "metadata": {},
     "output_type": "execute_result"
    }
   ],
   "source": [
    "pc[test_triangle]"
   ]
  },
  {
   "cell_type": "code",
   "execution_count": null,
   "metadata": {},
   "outputs": [],
   "source": []
  },
  {
   "cell_type": "code",
   "execution_count": 74,
   "metadata": {},
   "outputs": [],
   "source": [
    "v, f, vc, fc = make_mesh_from_point_cloud_and_resolution(pc[test_triangle], images[4][test_triangle], pc[test_triangle][:,2] / fx * 4.0)"
   ]
  },
  {
   "cell_type": "code",
   "execution_count": 75,
   "metadata": {},
   "outputs": [],
   "source": [
    "im_feat, depth_feat = renderer.render_attribute(Pose.identity().as_matrix()[None,...], v, f, ranges = jnp.array([[0, len(f)]]),\n",
    "                                                 attributes=vc)"
   ]
  },
  {
   "cell_type": "code",
   "execution_count": 76,
   "metadata": {},
   "outputs": [
    {
     "data": {
      "text/plain": [
       "<matplotlib.image.AxesImage at 0x7f78095bf7d0>"
      ]
     },
     "execution_count": 76,
     "metadata": {},
     "output_type": "execute_result"
    },
    {
     "data": {
      "image/png": "[encoded data removed]",
      "text/plain": [
       "<Figure size 640x480 with 1 Axes>"
      ]
     },
     "metadata": {},
     "output_type": "display_data"
    }
   ],
   "source": [
    "plt.imshow(im_feat)"
   ]
  },
  {
   "cell_type": "code",
   "execution_count": 77,
   "metadata": {},
   "outputs": [],
   "source": [
    "rr.log(\n",
    "    \"/3d/mesh6\",\n",
    "    rr.Mesh3D(\n",
    "        vertex_positions=v,\n",
    "        indices=f,\n",
    "        vertex_colors=vc\n",
    "    ),\n",
    "    timeless=True\n",
    ")"
   ]
  },
  {
   "cell_type": "code",
   "execution_count": 78,
   "metadata": {},
   "outputs": [],
   "source": [
    "# take mesh, generate motion proposal, and score in parallel"
   ]
  },
  {
   "cell_type": "code",
   "execution_count": 79,
   "metadata": {},
   "outputs": [],
   "source": [
    "object_library = b3d.MeshLibrary.make_empty_library()"
   ]
  },
  {
   "cell_type": "code",
   "execution_count": 80,
   "metadata": {},
   "outputs": [],
   "source": [
    "object_library.add_object(v, f, vc)"
   ]
  },
  {
   "cell_type": "code",
   "execution_count": 81,
   "metadata": {},
   "outputs": [
    {
     "data": {
      "text/plain": [
       "Array([[  1,   3,   0],\n",
       "       [  4,   1,   0],\n",
       "       [  0,   3,   2],\n",
       "       ...,\n",
       "       [298, 303, 302],\n",
       "       [302, 301, 300],\n",
       "       [303, 301, 302]], dtype=int32)"
      ]
     },
     "execution_count": 81,
     "metadata": {},
     "output_type": "execute_result"
    }
   ],
   "source": [
    "object_library.faces"
   ]
  },
  {
   "cell_type": "code",
   "execution_count": 82,
   "metadata": {},
   "outputs": [],
   "source": [
    "for i in range(ptv.shape[1]):\n",
    "    test_triangle = ptv[:,i].reshape(100,100)\n",
    "    v, f, vc, fc = make_mesh_from_point_cloud_and_resolution(pc[test_triangle], images[4][test_triangle], pc[test_triangle][:,2] / fx * 4.0)\n",
    "    object_library.add_object(v, f, vc)"
   ]
  },
  {
   "cell_type": "code",
   "execution_count": 83,
   "metadata": {},
   "outputs": [
    {
     "data": {
      "text/plain": [
       "(220416, 3)"
      ]
     },
     "execution_count": 83,
     "metadata": {},
     "output_type": "execute_result"
    }
   ],
   "source": [
    "object_library.faces.shape"
   ]
  },
  {
   "cell_type": "code",
   "execution_count": 84,
   "metadata": {},
   "outputs": [
    {
     "data": {
      "text/plain": [
       "(444, 3)"
      ]
     },
     "execution_count": 84,
     "metadata": {},
     "output_type": "execute_result"
    }
   ],
   "source": [
    "f.shape"
   ]
  },
  {
   "cell_type": "code",
   "execution_count": 85,
   "metadata": {},
   "outputs": [],
   "source": [
    "model = b3d.model_multiobject_gl_factory(renderer)"
   ]
  },
  {
   "cell_type": "code",
   "execution_count": null,
   "metadata": {},
   "outputs": [],
   "source": [
    "trace, _ = model.importance(\n",
    "    jax.random.PRNGKey(0),\n",
    "    genjax.choice_map(\n",
    "        dict([\n",
    "            (\"camera_pose\", Pose.identity()),\n",
    "            *[(f\"object_pose_{i}\", all_poses[i]) for i in range(num_objects)],\n",
    "            *[(f\"object_{i}\", i) for i in range(num_objects)],\n",
    "            (\"observed_rgb\", rgbs_resized[START_T]),\n",
    "            (\"observed_depth\", xyzs[START_T,...,2]),\n",
    "        ])\n",
    "    ),\n",
    "    arguments\n",
    ")"
   ]
  },
  {
   "cell_type": "code",
   "execution_count": 87,
   "metadata": {},
   "outputs": [
    {
     "data": {
      "text/plain": [
       "(146944, 3)"
      ]
     },
     "execution_count": 87,
     "metadata": {},
     "output_type": "execute_result"
    }
   ],
   "source": [
    "object_library.attributes.shape"
   ]
  },
  {
   "cell_type": "code",
   "execution_count": 88,
   "metadata": {},
   "outputs": [
    {
     "data": {
      "text/plain": [
       "Array([[     0,    456],\n",
       "       [   456,    444],\n",
       "       [   900,    444],\n",
       "       ...,\n",
       "       [219108,    408],\n",
       "       [219516,    456],\n",
       "       [219972,    444]], dtype=int32)"
      ]
     },
     "execution_count": 88,
     "metadata": {},
     "output_type": "execute_result"
    }
   ],
   "source": [
    "object_library.ranges"
   ]
  },
  {
   "cell_type": "code",
   "execution_count": 89,
   "metadata": {},
   "outputs": [
    {
     "data": {
      "text/plain": [
       "Array([  0, 456], dtype=int32)"
      ]
     },
     "execution_count": 89,
     "metadata": {},
     "output_type": "execute_result"
    }
   ],
   "source": [
    "object_library.ranges[0]"
   ]
  },
  {
   "cell_type": "code",
   "execution_count": 92,
   "metadata": {},
   "outputs": [
    {
     "data": {
      "text/plain": [
       "(146944, 3)"
      ]
     },
     "execution_count": 92,
     "metadata": {},
     "output_type": "execute_result"
    }
   ],
   "source": [
    "object_library.vertices.shape"
   ]
  },
  {
   "cell_type": "code",
   "execution_count": 99,
   "metadata": {},
   "outputs": [],
   "source": [
    "library_obj_indices_to_render = jnp.empty((0,), dtype=int)\n",
    "object_identity=11\n",
    "library_obj_indices_to_render = jnp.concatenate((library_obj_indices_to_render, jnp.array([object_identity])))\n"
   ]
  },
  {
   "cell_type": "code",
   "execution_count": 100,
   "metadata": {},
   "outputs": [
    {
     "data": {
      "text/plain": [
       "Array([11], dtype=int32)"
      ]
     },
     "execution_count": 100,
     "metadata": {},
     "output_type": "execute_result"
    }
   ],
   "source": [
    "library_obj_indices_to_render"
   ]
  },
  {
   "cell_type": "code",
   "execution_count": 101,
   "metadata": {},
   "outputs": [
    {
     "data": {
      "text/plain": [
       "(Array([[-0.40442047, -0.96049863,  2.4265227 ],\n",
       "        [-0.40442047, -0.96049863,  2.6287332 ],\n",
       "        [-0.40442047, -0.75828844,  2.4265227 ],\n",
       "        ...,\n",
       "        [-5.7599998 ,  7.36      , 16.64      ],\n",
       "        [-5.7599998 ,  8.64      , 15.36      ],\n",
       "        [-5.7599998 ,  8.64      , 16.64      ]], dtype=float32),\n",
       " Array([[     1,      3,      0],\n",
       "        [     4,      1,      0],\n",
       "        [     0,      3,      2],\n",
       "        ...,\n",
       "        [146938, 146943, 146942],\n",
       "        [146942, 146941, 146940],\n",
       "        [146943, 146941, 146942]], dtype=int32),\n",
       " Array([[4800,  444]], dtype=int32),\n",
       " Array([[0.56117225, 0.53203773, 0.2507158 ],\n",
       "        [0.56117225, 0.53203773, 0.2507158 ],\n",
       "        [0.56117225, 0.53203773, 0.2507158 ],\n",
       "        ...,\n",
       "        [0.        , 0.        , 0.        ],\n",
       "        [0.        , 0.        , 0.        ],\n",
       "        [0.        , 0.        , 0.        ]], dtype=float32))"
      ]
     },
     "execution_count": 101,
     "metadata": {},
     "output_type": "execute_result"
    }
   ],
   "source": [
    "object_library.vertices, object_library.faces, object_library.ranges[library_obj_indices_to_render] * (library_obj_indices_to_render >= 0).reshape(-1,1), object_library.attributes"
   ]
  },
  {
   "cell_type": "code",
   "execution_count": 102,
   "metadata": {},
   "outputs": [],
   "source": [
    "im_feat, depth_feat = renderer.render_attribute(Pose.identity().as_matrix()[None,...], object_library.vertices, object_library.faces, object_library.ranges[library_obj_indices_to_render] * (library_obj_indices_to_render >= 0).reshape(-1,1), object_library.attributes)"
   ]
  },
  {
   "cell_type": "code",
   "execution_count": 103,
   "metadata": {},
   "outputs": [
    {
     "data": {
      "text/plain": [
       "<matplotlib.image.AxesImage at 0x7f7808c5d750>"
      ]
     },
     "execution_count": 103,
     "metadata": {},
     "output_type": "execute_result"
    },
    {
     "data": {
      "image/png": "[encoded data removed]",
      "text/plain": [
       "<Figure size 640x480 with 1 Axes>"
      ]
     },
     "metadata": {},
     "output_type": "display_data"
    }
   ],
   "source": [
    "plt.imshow(im_feat)"
   ]
  },
  {
   "cell_type": "code",
   "execution_count": 104,
   "metadata": {},
   "outputs": [
    {
     "data": {
      "text/plain": [
       "Array([11], dtype=int32)"
      ]
     },
     "execution_count": 104,
     "metadata": {},
     "output_type": "execute_result"
    }
   ],
   "source": [
    "library_obj_indices_to_render"
   ]
  },
  {
   "cell_type": "code",
   "execution_count": null,
   "metadata": {},
   "outputs": [],
   "source": []
  },
  {
   "cell_type": "code",
   "execution_count": null,
   "metadata": {},
   "outputs": [],
   "source": []
  },
  {
   "cell_type": "code",
   "execution_count": null,
   "metadata": {},
   "outputs": [],
   "source": []
  },
  {
   "cell_type": "code",
   "execution_count": null,
   "metadata": {},
   "outputs": [],
   "source": []
  }
 ],
 "metadata": {
  "kernelspec": {
   "display_name": "b3d",
   "language": "python",
   "name": "python3"
  },
  "language_info": {
   "codemirror_mode": {
    "name": "ipython",
    "version": 3
   },
   "file_extension": ".py",
   "mimetype": "text/x-python",
   "name": "python",
   "nbconvert_exporter": "python",
   "pygments_lexer": "ipython3",
   "version": "3.11.8"
  }
 },
 "nbformat": 4,
 "nbformat_minor": 2
}
