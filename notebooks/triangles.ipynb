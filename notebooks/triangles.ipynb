{
 "cells": [
  {
   "cell_type": "code",
   "execution_count": 1,
   "metadata": {},
   "outputs": [],
   "source": [
    "import jax.numpy as jnp\n",
    "import jax\n",
    "import matplotlib.pyplot as plt\n",
    "import numpy as np\n",
    "import os\n",
    "import trimesh\n",
    "import b3d\n",
    "from jax.scipy.spatial.transform import Rotation as Rot\n",
    "from b3d import Pose\n",
    "from b3d.utils import unproject_depth\n",
    "import rerun as rr\n"
   ]
  },
  {
   "cell_type": "code",
   "execution_count": 2,
   "metadata": {},
   "outputs": [],
   "source": [
    "rr.init(\"demo.py\")\n",
    "rr.connect(\"127.0.0.1:8812\")"
   ]
  },
  {
   "cell_type": "code",
   "execution_count": 305,
   "metadata": {},
   "outputs": [],
   "source": [
    "width=100\n",
    "height=100\n",
    "fx=50.0\n",
    "fy=50.0\n",
    "cx=50.0\n",
    "cy=50.0\n",
    "near=0.001\n",
    "far=16.0\n",
    "renderer = b3d.Renderer(\n",
    "    width, height, fx, fy, cx, cy, near, far\n",
    ")"
   ]
  },
  {
   "cell_type": "code",
   "execution_count": 306,
   "metadata": {},
   "outputs": [],
   "source": [
    "## Render color\n",
    "from pathlib import Path\n",
    "mesh_path = Path(b3d.__file__).parents[1] / \"assets/006_mustard_bottle/textured_simple.obj\"\n",
    "mesh = trimesh.load(mesh_path)\n",
    "\n",
    "vertices = jnp.array(mesh.vertices) * 20.0\n",
    "vertices = vertices - vertices.mean(0)\n",
    "faces = jnp.array(mesh.faces)\n",
    "vertex_colors = jnp.array(mesh.visual.to_color().vertex_colors)[...,:3] / 255.0\n",
    "ranges = jnp.array([[0, len(faces)]])\n",
    "\n",
    "pose = Pose.from_position_and_target(\n",
    "    jnp.array([3.0, 3.0, 0.0]),\n",
    "    jnp.array([0.0, 2, 0.0])\n",
    "\n",
    ").inverse()"
   ]
  },
  {
   "cell_type": "code",
   "execution_count": 307,
   "metadata": {},
   "outputs": [],
   "source": [
    "rr.log(\n",
    "    \"/3d/mesh\",\n",
    "    rr.Mesh3D(\n",
    "        vertex_positions=vertices,\n",
    "        indices=faces,\n",
    "        vertex_colors=vertex_colors\n",
    "    ),\n",
    "    timeless=True\n",
    ")"
   ]
  },
  {
   "cell_type": "code",
   "execution_count": 308,
   "metadata": {},
   "outputs": [],
   "source": [
    "num_frames = 5"
   ]
  },
  {
   "cell_type": "code",
   "execution_count": 309,
   "metadata": {},
   "outputs": [],
   "source": [
    "poses = [\n",
    "    pose\n",
    "]\n",
    "delta_pose = Pose(\n",
    "    jnp.array([0.0, 0.5, 0.0]),\n",
    "    Rot.from_euler(\"zyx\", [-1.0, 0.1, 2.0], degrees=True).as_quat()\n",
    ")\n",
    "for t in range(num_frames - 1):\n",
    "    poses.append(poses[-1] @ delta_pose)\n",
    "\n",
    "\n",
    "all_gt_poses = Pose.stack_poses(poses)"
   ]
  },
  {
   "cell_type": "code",
   "execution_count": 310,
   "metadata": {},
   "outputs": [
    {
     "data": {
      "text/plain": [
       "(5, 1, 4, 4)"
      ]
     },
     "execution_count": 310,
     "metadata": {},
     "output_type": "execute_result"
    }
   ],
   "source": [
    "all_gt_poses.as_matrix()[:,None,...].shape"
   ]
  },
  {
   "cell_type": "code",
   "execution_count": 316,
   "metadata": {},
   "outputs": [
    {
     "data": {
      "text/plain": [
       "Array([[0.8823529 , 0.7843137 , 0.23921567],\n",
       "       [0.890196  , 0.7921568 , 0.25490195],\n",
       "       [0.8823529 , 0.78823525, 0.2352941 ],\n",
       "       ...,\n",
       "       [0.79999995, 0.67843133, 0.13333333],\n",
       "       [0.8470588 , 0.6980392 , 0.16470587],\n",
       "       [0.8431372 , 0.69019604, 0.15686274]],      dtype=float32, weak_type=True)"
      ]
     },
     "execution_count": 316,
     "metadata": {},
     "output_type": "execute_result"
    }
   ],
   "source": [
    "vertex_colors"
   ]
  },
  {
   "cell_type": "code",
   "execution_count": 311,
   "metadata": {},
   "outputs": [],
   "source": [
    "images, depths = renderer.render_attribute_many(all_gt_poses.as_matrix()[:,None,...], vertices, faces, ranges, vertex_colors)"
   ]
  },
  {
   "cell_type": "code",
   "execution_count": 312,
   "metadata": {},
   "outputs": [
    {
     "data": {
      "text/plain": [
       "<matplotlib.image.AxesImage at 0x7f32dd78fe50>"
      ]
     },
     "execution_count": 312,
     "metadata": {},
     "output_type": "execute_result"
    },
    {
     "data": {
      "image/png": "[encoded data removed]",
      "text/plain": [
       "<Figure size 640x480 with 1 Axes>"
      ]
     },
     "metadata": {},
     "output_type": "display_data"
    }
   ],
   "source": [
    "plt.imshow(images[0])"
   ]
  },
  {
   "cell_type": "code",
   "execution_count": 11,
   "metadata": {},
   "outputs": [
    {
     "data": {
      "text/plain": [
       "(100, 100, 3)"
      ]
     },
     "execution_count": 11,
     "metadata": {},
     "output_type": "execute_result"
    }
   ],
   "source": [
    "images[4].shape"
   ]
  },
  {
   "cell_type": "code",
   "execution_count": 12,
   "metadata": {},
   "outputs": [],
   "source": [
    "## drawing a triangle of triangles in the scene"
   ]
  },
  {
   "cell_type": "code",
   "execution_count": 13,
   "metadata": {},
   "outputs": [],
   "source": [
    "# mesh objects can be created from existing faces and vertex data\n",
    "mesh = trimesh.Trimesh(vertices=[[0, 0, 0], [0, 0, 1], [0, 1, 0], [1, 1, 1], [1, 1, 2], [1, 2, 1]],\n",
    "                       faces=[[0, 1, 2], [3, 4, 5]])"
   ]
  },
  {
   "cell_type": "code",
   "execution_count": 14,
   "metadata": {},
   "outputs": [],
   "source": [
    "vertices = jnp.array(mesh.vertices) * 20.0\n",
    "vertices = vertices - vertices.mean(0)\n",
    "faces = jnp.array(mesh.faces)\n",
    "#vertex_colors = jnp.array(mesh.visual.to_color().vertex_colors)[...,:3] / 255.0\n",
    "\n",
    "\n",
    "rr.log(\n",
    "    \"/3d/mesh2\",\n",
    "    rr.Mesh3D(\n",
    "        vertex_positions=mesh.vertices,\n",
    "        indices=mesh.faces,\n",
    "        vertex_colors=jnp.array([[255,0,0], [0,255,0], [255,0,0], [0,255,0], [255,0,0], [0,255,0]])\n",
    "    ),\n",
    "    timeless=True\n",
    ")"
   ]
  },
  {
   "cell_type": "code",
   "execution_count": 15,
   "metadata": {},
   "outputs": [],
   "source": [
    "# propose circle mask\n",
    "# pick vertices on the mask\n",
    "# make triangle based on texture\n",
    "# generate movement proposals\n",
    "# marginalize out over movement proposals to find the best features"
   ]
  },
  {
   "cell_type": "code",
   "execution_count": 360,
   "metadata": {},
   "outputs": [],
   "source": [
    "indices = jnp.indices((height, width)).transpose(1,2,0)\n",
    "# restrict to circles not within 3 of the edge\n",
    "edge_buffer = triangle_boundary_radius = 3\n",
    "indices = indices[edge_buffer:height-edge_buffer, edge_buffer:width-edge_buffer, :]\n",
    "indices = indices.reshape(-1, 2)\n"
   ]
  },
  {
   "cell_type": "code",
   "execution_count": 361,
   "metadata": {},
   "outputs": [],
   "source": [
    "key = jax.random.PRNGKey(15)\n",
    "triangles = 500\n",
    "choices = jax.random.choice(key, indices, shape=(triangles,))"
   ]
  },
  {
   "cell_type": "code",
   "execution_count": 362,
   "metadata": {},
   "outputs": [],
   "source": [
    "# r = jax.random.uniform(key, shape=(triangles*2,)) * triangle_radius\n",
    "# theta = jax.random.uniform(key, shape=(triangles*2,)) * 2 * jnp.pi\n",
    "\n",
    "r = triangle_boundary_radius\n",
    "theta_1 = jax.random.uniform(key, shape=(triangles,)) * 2 * jnp.pi / 3 \n",
    "theta_2 = theta_1 + 2 * jnp.pi / 3 \n",
    "theta_3 = theta_1 + 4 * jnp.pi / 3\n"
   ]
  },
  {
   "cell_type": "code",
   "execution_count": 363,
   "metadata": {},
   "outputs": [],
   "source": [
    "vertex1 = jnp.round(choices + jnp.array([jnp.multiply(r,jnp.cos(theta_1)), jnp.multiply(r,jnp.sin(theta_1))]).T).astype(int)\n",
    "vertex2 = jnp.round(choices + jnp.array([jnp.multiply(r,jnp.cos(theta_2)), jnp.multiply(r,jnp.sin(theta_2))]).T).astype(int)\n",
    "vertex3 = jnp.round(choices + jnp.array([jnp.multiply(r,jnp.cos(theta_3)), jnp.multiply(r,jnp.sin(theta_3))]).T).astype(int)"
   ]
  },
  {
   "cell_type": "code",
   "execution_count": 364,
   "metadata": {},
   "outputs": [],
   "source": [
    "vertices = jnp.array([vertex1, vertex2, vertex3]).transpose(1,0,2)"
   ]
  },
  {
   "cell_type": "code",
   "execution_count": 365,
   "metadata": {},
   "outputs": [
    {
     "data": {
      "text/plain": [
       "(500, 3, 2)"
      ]
     },
     "execution_count": 365,
     "metadata": {},
     "output_type": "execute_result"
    }
   ],
   "source": [
    "vertices.shape"
   ]
  },
  {
   "cell_type": "code",
   "execution_count": 366,
   "metadata": {},
   "outputs": [],
   "source": [
    "vertices_flattened = vertices.reshape(-1,2)"
   ]
  },
  {
   "cell_type": "code",
   "execution_count": 367,
   "metadata": {},
   "outputs": [],
   "source": [
    "# unproject point cloud and index the depth image"
   ]
  },
  {
   "cell_type": "code",
   "execution_count": 368,
   "metadata": {},
   "outputs": [],
   "source": [
    "intrinsics = (width, height, fx, fy, cx, cy, near, far)\n",
    "pc = unproject_depth(depths[4], intrinsics)"
   ]
  },
  {
   "cell_type": "code",
   "execution_count": 369,
   "metadata": {},
   "outputs": [],
   "source": [
    "triangle_vertices = pc[tuple(vertices_flattened.T)]"
   ]
  },
  {
   "cell_type": "code",
   "execution_count": 370,
   "metadata": {},
   "outputs": [],
   "source": [
    "triangle_indices = jnp.arange(0,300).reshape(100,3)"
   ]
  },
  {
   "cell_type": "code",
   "execution_count": 371,
   "metadata": {},
   "outputs": [],
   "source": [
    "mesh = trimesh.Trimesh(vertices=triangle_vertices, faces=triangle_indices)"
   ]
  },
  {
   "cell_type": "code",
   "execution_count": 372,
   "metadata": {},
   "outputs": [],
   "source": [
    "rr.log(\n",
    "    \"/3d/mesh3\",\n",
    "    rr.Mesh3D(\n",
    "        vertex_positions=triangle_vertices,\n",
    "        indices=triangle_indices,\n",
    "        #vertex_colors=jnp.array([[255,0,0], [0,255,0], [255,0,0], [0,255,0], [255,0,0], [0,255,0]])\n",
    "    ),\n",
    "    timeless=True\n",
    ")"
   ]
  },
  {
   "cell_type": "code",
   "execution_count": 373,
   "metadata": {},
   "outputs": [],
   "source": [
    "rr.log(\n",
    "    '/log_cloud',\n",
    "    rr.Points3D(pc.reshape(-1,3)),\n",
    "    timeless=True\n",
    ")"
   ]
  },
  {
   "cell_type": "code",
   "execution_count": 374,
   "metadata": {},
   "outputs": [],
   "source": [
    " #rr.log('/pinhole', rr.Pinhole(camera_xyz=…))\n",
    "rr.log(\"world\", rr.ViewCoordinates.RIGHT_HAND_Z_UP, timeless=True)\n",
    "rr.log(\n",
    "    \"world/xyz\",\n",
    "    rr.Arrows3D(\n",
    "        vectors=[[1, 0, 0], [0, 1, 0], [0, 0, 1]],\n",
    "        colors=[[255, 0, 0], [0, 255, 0], [0, 0, 255]],\n",
    "    ),\n",
    ")"
   ]
  },
  {
   "cell_type": "code",
   "execution_count": 375,
   "metadata": {},
   "outputs": [],
   "source": [
    "# rr.log(\n",
    "#     \"world/xyz\",\n",
    "#     rr.Arrows3D(\n",
    "#         vectors=pose.inv().as_matrix()[0:3,0:3],\n",
    "#         colors=[[255, 0, 0], [0, 255, 0], [0, 0, 255]],\n",
    "#     ),\n",
    "# )"
   ]
  },
  {
   "cell_type": "code",
   "execution_count": 376,
   "metadata": {},
   "outputs": [
    {
     "data": {
      "text/plain": [
       "Array([[-3.1622779e-01,  9.4868326e-01, -8.9406967e-08],\n",
       "       [ 8.9406967e-08, -4.4703484e-08, -1.0000000e+00],\n",
       "       [-9.4868326e-01, -3.1622779e-01, -2.9802322e-08]], dtype=float32)"
      ]
     },
     "execution_count": 376,
     "metadata": {},
     "output_type": "execute_result"
    }
   ],
   "source": [
    "pose.as_matrix()[0:3,0:3]"
   ]
  },
  {
   "cell_type": "code",
   "execution_count": 377,
   "metadata": {},
   "outputs": [],
   "source": [
    "# subtriangles\n",
    "# recursively turn each triangle into four triangle \n",
    "\n"
   ]
  },
  {
   "cell_type": "code",
   "execution_count": 378,
   "metadata": {},
   "outputs": [],
   "source": [
    "triangle_vertices = jnp.array([triangle_vertices])\n",
    "triangle_indices = jnp.array([triangle_indices])"
   ]
  },
  {
   "cell_type": "code",
   "execution_count": 379,
   "metadata": {},
   "outputs": [
    {
     "data": {
      "text/plain": [
       "1500"
      ]
     },
     "execution_count": 379,
     "metadata": {},
     "output_type": "execute_result"
    }
   ],
   "source": [
    "len(triangle_vertices[0])"
   ]
  },
  {
   "cell_type": "code",
   "execution_count": 380,
   "metadata": {},
   "outputs": [
    {
     "data": {
      "text/plain": [
       "(1500, 2)"
      ]
     },
     "execution_count": 380,
     "metadata": {},
     "output_type": "execute_result"
    }
   ],
   "source": [
    "vertices_flattened.shape"
   ]
  },
  {
   "cell_type": "code",
   "execution_count": 381,
   "metadata": {},
   "outputs": [],
   "source": [
    "#jax routine to interpolate\n",
    "\n",
    "#given a list of 4 vertex meshes, returns subdivided high-resolution mesh\n",
    " \n",
    "def subdivide_triangles(triangle_vertices_list, triangle_indices_list, triangle_vertex_projections):\n",
    "    # input triangle \n",
    "    num_triangle_vertices = len(triangle_vertices_list)\n",
    "    num_triangles = len(triangle_indices_list)\n",
    "    triangle_vertices_out = jnp.zeros((num_triangle_vertices*2, 3))\n",
    "    triangle_vertex_projections_out = jnp.zeros((num_triangle_vertices*2, 2))\n",
    "    \n",
    "    triangle_vertices_out = triangle_vertices_out.at[0:num_triangle_vertices].set(triangle_vertices_list)\n",
    "    triangle_indices_list_out = jnp.zeros((num_triangles*4, 3))\n",
    "    triangle_vertex_projections_out = triangle_vertex_projections_out.at[0:num_triangle_vertices].set(triangle_vertex_projections)\n",
    "\n",
    "    for ind, triangle_indices in enumerate(triangle_indices_list):\n",
    "        p1, p2, p3 = triangle_vertices_list[triangle_indices]\n",
    "        m1, m2, m3 = (p1 + p2)/2, (p2 + p3)/2, (p3 + p1)/2\n",
    "        p1_pix, p2_pix, p3_pix = triangle_vertex_projections[triangle_indices]\n",
    "        m1_pix, m2_pix, m3_pix = (p1_pix + p2_pix)/2, (p2_pix + p3_pix)/2, (p3_pix + p1_pix)/2\n",
    "        \n",
    "        triangle_vertices_out = triangle_vertices_out.at[num_triangle_vertices + 3*ind:num_triangle_vertices + 3*(ind+1)].set(jnp.array([m1, m2, m3]))\n",
    "        triangle_vertex_projections_out = triangle_vertex_projections_out.at[num_triangle_vertices + 3*ind:num_triangle_vertices + 3*(ind+1)].set(jnp.array([m1_pix, m2_pix, m3_pix]))\n",
    "        triangle_indices_list_out = triangle_indices_list_out.at[ind].set(np.array([num_triangle_vertices + 3*ind, num_triangle_vertices + 3*ind + 1, num_triangle_vertices + 3*ind + 2]))\n",
    "        triangle_indices_list_out = triangle_indices_list_out.at[num_triangles + ind].set(np.array([triangle_indices[0], num_triangle_vertices + 3*ind, num_triangle_vertices + 3*ind + 2]))\n",
    "        triangle_indices_list_out = triangle_indices_list_out.at[2*num_triangles + ind].set(np.array([triangle_indices[1], num_triangle_vertices + 3*ind, num_triangle_vertices + 3*ind + 1]))\n",
    "        triangle_indices_list_out = triangle_indices_list_out.at[3*num_triangles + ind].set(np.array([triangle_indices[2], num_triangle_vertices + 3*ind + 1, num_triangle_vertices + 3*ind + 2]))\n",
    "\n",
    "    return triangle_vertices_out, triangle_indices_list_out.astype(int), jnp.round(triangle_vertex_projections_out).astype(int)\n",
    "        \n",
    "\n",
    "# todo: grab color value from nearest point\n",
    "\n",
    "# make these individual"
   ]
  },
  {
   "cell_type": "code",
   "execution_count": 382,
   "metadata": {},
   "outputs": [],
   "source": [
    "sub_v, sub_i, sub_vf = subdivide_triangles(triangle_vertices[0], triangle_indices[0], vertices_flattened)\n"
   ]
  },
  {
   "cell_type": "code",
   "execution_count": 383,
   "metadata": {},
   "outputs": [],
   "source": [
    "rr.log(\n",
    "    \"/3d/mesh4\",\n",
    "    rr.Mesh3D(\n",
    "        vertex_positions=sub_v,\n",
    "        indices=sub_i[0:100],\n",
    "        #vertex_colors=jnp.array([[255,0,0], [0,255,0], [255,0,0], [0,255,0], [255,0,0], [0,255,0]])\n",
    "    ),\n",
    "    timeless=True\n",
    ")"
   ]
  },
  {
   "cell_type": "code",
   "execution_count": 384,
   "metadata": {},
   "outputs": [
    {
     "data": {
      "text/plain": [
       "(3000, 3)"
      ]
     },
     "execution_count": 384,
     "metadata": {},
     "output_type": "execute_result"
    }
   ],
   "source": [
    "images[4][*sub_vf.T].shape"
   ]
  },
  {
   "cell_type": "code",
   "execution_count": 385,
   "metadata": {},
   "outputs": [],
   "source": [
    "colors = jnp.round(images[4][*sub_vf.T]*255).astype(int)"
   ]
  },
  {
   "cell_type": "code",
   "execution_count": 386,
   "metadata": {},
   "outputs": [],
   "source": [
    "rr.log(\n",
    "    \"/3d/mesh5\",\n",
    "    rr.Mesh3D(\n",
    "        vertex_positions=sub_v,\n",
    "        indices=sub_i,\n",
    "        vertex_colors=colors\n",
    "    ),\n",
    "    timeless=True\n",
    ")"
   ]
  },
  {
   "cell_type": "code",
   "execution_count": 387,
   "metadata": {},
   "outputs": [
    {
     "data": {
      "text/plain": [
       "(3000, 3)"
      ]
     },
     "execution_count": 387,
     "metadata": {},
     "output_type": "execute_result"
    }
   ],
   "source": [
    "sub_v.shape"
   ]
  },
  {
   "cell_type": "code",
   "execution_count": 388,
   "metadata": {},
   "outputs": [
    {
     "data": {
      "text/plain": [
       "(3000, 2)"
      ]
     },
     "execution_count": 388,
     "metadata": {},
     "output_type": "execute_result"
    }
   ],
   "source": [
    "sub_vf.shape"
   ]
  },
  {
   "cell_type": "code",
   "execution_count": 389,
   "metadata": {},
   "outputs": [
    {
     "data": {
      "text/plain": [
       "Array([[0, 0, 0],\n",
       "       [0, 0, 0],\n",
       "       [0, 0, 0],\n",
       "       ...,\n",
       "       [0, 0, 0],\n",
       "       [0, 0, 0],\n",
       "       [0, 0, 0]], dtype=int32)"
      ]
     },
     "execution_count": 389,
     "metadata": {},
     "output_type": "execute_result"
    }
   ],
   "source": [
    "colors"
   ]
  },
  {
   "cell_type": "code",
   "execution_count": 390,
   "metadata": {},
   "outputs": [
    {
     "data": {
      "text/plain": [
       "(1, 4, 4)"
      ]
     },
     "execution_count": 390,
     "metadata": {},
     "output_type": "execute_result"
    }
   ],
   "source": [
    "Pose.identity().as_matrix()[None,...].shape"
   ]
  },
  {
   "cell_type": "code",
   "execution_count": 391,
   "metadata": {},
   "outputs": [],
   "source": [
    "ranges = jnp.array([[0, len(sub_i)]])\n",
    "im_mesh, depth_mesh = renderer.render_attribute(Pose.identity().as_matrix()[None,...], sub_v, sub_i, ranges, colors/255.0)"
   ]
  },
  {
   "cell_type": "code",
   "execution_count": 392,
   "metadata": {},
   "outputs": [
    {
     "name": "stderr",
     "output_type": "stream",
     "text": [
      "Clipping input data to the valid range for imshow with RGB data ([0..1] for floats or [0..255] for integers).\n"
     ]
    },
    {
     "data": {
      "text/plain": [
       "<matplotlib.image.AxesImage at 0x7f331f623810>"
      ]
     },
     "execution_count": 392,
     "metadata": {},
     "output_type": "execute_result"
    },
    {
     "data": {
      "image/png": "[encoded data removed]",
      "text/plain": [
       "<Figure size 640x480 with 1 Axes>"
      ]
     },
     "metadata": {},
     "output_type": "display_data"
    }
   ],
   "source": [
    "plt.imshow(im_mesh)"
   ]
  },
  {
   "cell_type": "code",
   "execution_count": 394,
   "metadata": {},
   "outputs": [
    {
     "data": {
      "text/plain": [
       "Array([[1500, 1501, 1502],\n",
       "       [1503, 1504, 1505],\n",
       "       [1506, 1507, 1508],\n",
       "       ...,\n",
       "       [ 293, 1792, 1793],\n",
       "       [ 296, 1795, 1796],\n",
       "       [ 299, 1798, 1799]], dtype=int32)"
      ]
     },
     "execution_count": 394,
     "metadata": {},
     "output_type": "execute_result"
    }
   ],
   "source": [
    "sub_i"
   ]
  },
  {
   "cell_type": "code",
   "execution_count": 396,
   "metadata": {},
   "outputs": [
    {
     "data": {
      "text/plain": [
       "400"
      ]
     },
     "execution_count": 396,
     "metadata": {},
     "output_type": "execute_result"
    }
   ],
   "source": [
    "len(sub_i)"
   ]
  },
  {
   "cell_type": "code",
   "execution_count": null,
   "metadata": {},
   "outputs": [],
   "source": [
    "sub_i[:,:,]"
   ]
  }
 ],
 "metadata": {
  "kernelspec": {
   "display_name": "b3d",
   "language": "python",
   "name": "python3"
  },
  "language_info": {
   "codemirror_mode": {
    "name": "ipython",
    "version": 3
   },
   "file_extension": ".py",
   "mimetype": "text/x-python",
   "name": "python",
   "nbconvert_exporter": "python",
   "pygments_lexer": "ipython3",
   "version": "3.11.8"
  }
 },
 "nbformat": 4,
 "nbformat_minor": 2
}
