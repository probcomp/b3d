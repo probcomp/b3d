{
 "cells": [
  {
   "cell_type": "code",
   "execution_count": 14,
   "metadata": {},
   "outputs": [],
   "source": [
    "import os\n",
    "from pathlib import Path\n",
    "import b3d\n",
    "from b3d.io.feature_track_data import FeatureTrackData\n",
    "from b3d.unity.os_codes.generate_visualization import create_video, create_rgb_image\n",
    "import json"
   ]
  },
  {
   "cell_type": "code",
   "execution_count": 3,
   "metadata": {},
   "outputs": [],
   "source": [
    "root_dir = str(b3d.get_shared_large() / 'unity').strip()"
   ]
  },
  {
   "cell_type": "code",
   "execution_count": 21,
   "metadata": {},
   "outputs": [],
   "source": [
    "def get_tags(data_name):\n",
    "    tags_dict = {\n",
    "        1: 'self-occlusion',\n",
    "        2: 'occlusion',\n",
    "        3: 'dynamic camera',\n",
    "        4: 'dynamic objects',\n",
    "        5: 'panning',\n",
    "        6: 'deformable objects',\n",
    "    }\n",
    "    \n",
    "    print(f\"Available tags for {data_name}:\")\n",
    "    for key, value in tags_dict.items():\n",
    "        print(f\"{key}: {value}\")\n",
    "    \n",
    "    selected_tags = input(f\"Enter the numbers corresponding to the tags for {data_name}, separated by commas: \").strip()\n",
    "    if (selected_tags == \"\"):\n",
    "        return []\n",
    "    \n",
    "    tags = [tags_dict[int(num)] for num in selected_tags.split(\",\") if int(num) in tags_dict]\n",
    "    \n",
    "    return tags"
   ]
  },
  {
   "cell_type": "code",
   "execution_count": 30,
   "metadata": {},
   "outputs": [
    {
     "name": "stdout",
     "output_type": "stream",
     "text": [
      "Processing cubespheretest\n",
      "removing /home/tiffa/b3d/assets/large_data_bucket/unity/primitives/cubespheretest/feature_track_data/cubespheretest_lit_nobg_keypoints.gif\n",
      "editing /home/tiffa/b3d/assets/large_data_bucket/unity/primitives/cubespheretest/metadata.json\n",
      "Current tags: {'tags': ['self-occlusion', 'dynamic objects', 'occlusion', 'panning', 'dynamic camera']}\n",
      "Available tags for cubespheretest:\n",
      "1: dynamic camera\n",
      "2: dynamic objects\n",
      "3: panning\n",
      "4: deformable objects\n",
      "5: self-occlusion\n",
      "6: occlusion\n",
      "Edited tags: {'tags': ['self-occlusion', 'dynamic objects', 'occlusion', 'panning', 'dynamic camera']}\n"
     ]
    }
   ],
   "source": [
    "def process(root_dir):\n",
    "    root_path = Path(root_dir)\n",
    "    for scene_folder in root_path.iterdir():\n",
    "        for data_folder in scene_folder.iterdir():\n",
    "            print(f\"Processing {data_folder.name}\")\n",
    "            for data_class_content in data_folder.iterdir():\n",
    "                if (os.path.isdir(data_class_content)):\n",
    "                    data_class_folder = data_class_content\n",
    "                    for files in data_class_folder.iterdir():\n",
    "                        if files.name.endswith('.gif'):\n",
    "                            print(f\"removing {files}\")\n",
    "                            os.remove(files)\n",
    "                if (data_class_content.name.endswith('.json')):\n",
    "                    print(f\"editing {data_class_content}\")\n",
    "                    metadata_file = data_class_content\n",
    "                    combined_metadata = {\"tags\": []}\n",
    "                    with metadata_file.open('r') as f:\n",
    "                        metadata = json.load(f)\n",
    "                        combined_metadata[\"tags\"].extend(metadata.get(\"tags\", []))\n",
    "                        print(f\"Current tags: {combined_metadata}\")\n",
    "\n",
    "                        additional_tags = get_tags(data_folder.name)\n",
    "                        combined_metadata[\"tags\"].extend(additional_tags)\n",
    "                        # Remove duplicates from combined_metadata\n",
    "                        combined_metadata[\"tags\"] = list(set(combined_metadata[\"tags\"]))\n",
    "\n",
    "                    # Save the combined metadata at the data_folder level\n",
    "                    with metadata_file.open('w') as f:\n",
    "                        json.dump(combined_metadata, f, indent=4)\n",
    "                        print(f\"Edited tags: {combined_metadata}\")\n",
    "        \n",
    "process(root_dir)"
   ]
  },
  {
   "cell_type": "code",
   "execution_count": null,
   "metadata": {},
   "outputs": [],
   "source": []
  }
 ],
 "metadata": {
  "kernelspec": {
   "display_name": "b3d",
   "language": "python",
   "name": "python3"
  },
  "language_info": {
   "codemirror_mode": {
    "name": "ipython",
    "version": 3
   },
   "file_extension": ".py",
   "mimetype": "text/x-python",
   "name": "python",
   "nbconvert_exporter": "python",
   "pygments_lexer": "ipython3",
   "version": "3.12.4"
  }
 },
 "nbformat": 4,
 "nbformat_minor": 2
}
