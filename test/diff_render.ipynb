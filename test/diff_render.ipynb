{
 "cells": [
  {
   "cell_type": "code",
   "execution_count": 127,
   "metadata": {},
   "outputs": [],
   "source": [
    "import jax.numpy as jnp\n",
    "import jax\n",
    "import matplotlib.pyplot as plt\n",
    "import numpy as np\n",
    "import os\n",
    "import trimesh\n",
    "import b3d\n",
    "from jax.scipy.spatial.transform import Rotation as Rot\n",
    "from b3d import Pose\n",
    "import rerun as rr\n",
    "import functools\n",
    "\n",
    "rr.init(\"demo22.py\")\n",
    "rr.connect(\"127.0.0.1:8812\")\n",
    "\n",
    "image_width=100\n",
    "image_height=100\n",
    "fx=50.0\n",
    "fy=50.0\n",
    "cx=50.0\n",
    "cy=50.0\n",
    "near=0.001\n",
    "far=16.0\n",
    "renderer = b3d.Renderer(\n",
    "    image_width, image_height, fx, fy, cx, cy, near, far\n",
    ")\n",
    "\n",
    "## Render color\n",
    "from pathlib import Path\n",
    "mesh_path = Path(b3d.__file__).parents[1] / \"assets/006_mustard_bottle/textured_simple.obj\"\n",
    "mesh = trimesh.load(mesh_path)\n",
    "\n",
    "vertices = jnp.array(mesh.vertices) * 20.0\n",
    "vertices = vertices - vertices.mean(0)\n",
    "faces = jnp.array(mesh.faces)\n",
    "vertex_colors = jnp.array(mesh.visual.to_color().vertex_colors)[...,:3] / 255.0\n",
    "ranges = jnp.array([[0, len(faces)]])\n",
    "\n",
    "# vertices = jnp.array([\n",
    "#     [0.0, 0.0, 0.0],\n",
    "#     [1.0, 0.0, 0.0],\n",
    "#     [0.0, 1.0, 0.0],\n",
    "# ])\n",
    "# faces = jnp.array([\n",
    "#     [0, 1, 2]\n",
    "# ])\n",
    "# ranges = jnp.array([[0, 1]])\n",
    "# vertex_colors = jnp.array([\n",
    "#     [1.0, 0.0, 0.0],\n",
    "#     [1.0, 0.0, 0.0],\n",
    "#     [1.0, 0.0, 0.0],\n",
    "# ])\n",
    "\n",
    "gt_pose = Pose.from_position_and_target(\n",
    "    jnp.array([1.5, 1.5, 0.0]),\n",
    "    jnp.zeros(3)\n",
    ").inv()\n",
    "\n",
    "target_image, depth = renderer.render_attribute(gt_pose.as_matrix()[None,...], vertices, faces, ranges, vertex_colors)\n",
    "rr.log(\"/rgb\", rr.Image(target_image), timeless=True)\n"
   ]
  },
  {
   "cell_type": "code",
   "execution_count": 128,
   "metadata": {},
   "outputs": [
    {
     "data": {
      "text/plain": [
       "Array(0., dtype=float32)"
      ]
     },
     "execution_count": 128,
     "metadata": {},
     "output_type": "execute_result"
    }
   ],
   "source": [
    "jnp.linalg.norm(jnp.zeros(3))"
   ]
  },
  {
   "cell_type": "code",
   "execution_count": 129,
   "metadata": {},
   "outputs": [
    {
     "data": {
      "text/plain": [
       "<function jax._src.numpy.reductions.max(a: 'ArrayLike', axis: 'Axis' = None, out: 'None' = None, keepdims: 'bool' = False, initial: 'ArrayLike | None' = None, where: 'ArrayLike | None' = None) -> 'Array'>"
      ]
     },
     "execution_count": 129,
     "metadata": {},
     "output_type": "execute_result"
    }
   ],
   "source": [
    "jnp.max"
   ]
  },
  {
   "cell_type": "code",
   "execution_count": 131,
   "metadata": {},
   "outputs": [
    {
     "name": "stdout",
     "output_type": "stream",
     "text": [
      "[0.5773518 0.5773518 0.5773518]\n",
      "[0. 0. 0.]\n"
     ]
    }
   ],
   "source": [
    "print(jax.grad(lambda p: jnp.linalg.norm(p + 1e-20))(jnp.zeros(3)))\n",
    "\n",
    "@functools.partial(\n",
    "    jnp.vectorize,\n",
    "    signature=\"(3)->()\",\n",
    "    excluded=(\n",
    "        1,\n",
    "    ),\n",
    ")\n",
    "def point_to_line_distance(point, vector):\n",
    "    unit_vector = vector / jnp.linalg.norm(vector)\n",
    "    return jnp.linalg.norm(point - (1e-5 + jnp.dot(point, unit_vector)) * unit_vector) + 1e-5\n",
    "\n",
    "print(jax.grad(lambda p: 1.0 /point_to_line_distance(p, jnp.ones(3)).sum())(jnp.zeros(3)))"
   ]
  },
  {
   "cell_type": "code",
   "execution_count": 143,
   "metadata": {},
   "outputs": [],
   "source": [
    "\n",
    "def render(pose):\n",
    "    width = 3\n",
    "    _, _, triangle_ids, _ = renderer.render(pose.as_matrix()[None,...], vertices, faces, ranges)\n",
    "    vertices_transformed_by_pose = pose.apply(vertices)\n",
    "    triangle_ids_padded = jnp.pad(triangle_ids, pad_width=[(width, width)])\n",
    "    ijs = jnp.moveaxis(jnp.mgrid[: image_height, : image_width], 0, -1)\n",
    "    ijs_padded  = jnp.pad(ijs, pad_width=[(width, width),(width, width), (0,0)])\n",
    "\n",
    "    @functools.partial(\n",
    "        jnp.vectorize,\n",
    "        signature=\"(2)->(3)\",\n",
    "    )\n",
    "    def get_mixed_color(ij):\n",
    "        i,j = ij\n",
    "        triangle_ids_patch = jax.lax.dynamic_slice(\n",
    "            triangle_ids_padded,\n",
    "            jnp.array([i,j]),\n",
    "            (2*width+1, 2*width+1),\n",
    "        )\n",
    "        ijs_patch = jax.lax.dynamic_slice(\n",
    "            ijs_padded,\n",
    "            jnp.array([i,j, 0]),\n",
    "            (2*width+1, 2*width+1,2),\n",
    "        )\n",
    "\n",
    "        pixel_vectors = jnp.concatenate([(ijs_patch - jnp.array([cx, cy])) / jnp.array([fx, fy]), jnp.ones_like(ijs_patch[...,0:1])], axis=-1)\n",
    "\n",
    "        pixel_vector = pixel_vectors[width, width]\n",
    "\n",
    "        center_points_of_triangle =(\n",
    "            vertices_transformed_by_pose[faces[triangle_ids_patch-1]]\n",
    "        ).mean(-2) * (triangle_ids_patch > 0)[...,None] + (1.0 - (triangle_ids_patch > 0)[...,None]) * pixel_vectors * 10.0\n",
    "\n",
    "        distances = point_to_line_distance(center_points_of_triangle, pixel_vector) + 1e-10\n",
    "        # return distances\n",
    "        weights = 1 / (distances + 1e-10)**2\n",
    "        # return weights\n",
    "        normalized_weights = weights / weights.sum()\n",
    "        \n",
    "        colors_patch = (vertex_colors[faces[triangle_ids_patch-1]] * (triangle_ids_patch > 0)[...,None,None]).mean(-2)\n",
    "        final_color = (colors_patch * normalized_weights[...,None]).sum(0).sum(0)\n",
    "        return jnp.clip(final_color, 0.0, 1.0)\n",
    "    mixed_image = get_mixed_color(ijs)\n",
    "    return mixed_image\n",
    "render_jit = jax.jit(render)"
   ]
  },
  {
   "cell_type": "code",
   "execution_count": 144,
   "metadata": {},
   "outputs": [],
   "source": [
    "pose = Pose.from_position_and_target(\n",
    "    jnp.array([1.3, 1.5, 0.0]),\n",
    "    jnp.zeros(3)\n",
    ").inv()\n",
    "\n",
    "mixed_image = render_jit(pose)\n",
    "rr.log(\"/rgb/reconstruction\", rr.Image(mixed_image), timeless=True)\n"
   ]
  },
  {
   "cell_type": "code",
   "execution_count": 147,
   "metadata": {},
   "outputs": [
    {
     "name": "stdout",
     "output_type": "stream",
     "text": [
      "(Array(34.69789, dtype=float32), Pose(position=Array([ 3.6451669 ,  2.092086  , -0.49895382], dtype=float32), quaternion=Array([ 1.9135023 , -1.0528479 , -0.3247652 , -0.34368014], dtype=float32)))\n",
      "34.69789\n",
      "34.631855\n",
      "34.69833\n",
      "34.697136\n",
      "34.60359\n",
      "34.631237\n",
      "34.82761\n",
      "34.918217\n",
      "34.95508\n",
      "35.083687\n",
      "35.092987\n",
      "34.986073\n",
      "35.021503\n",
      "35.07751\n",
      "35.02602\n",
      "35.043663\n",
      "35.03674\n",
      "35.094616\n",
      "35.135773\n",
      "35.177944\n",
      "35.16743\n",
      "35.22364\n",
      "35.178173\n",
      "35.18571\n",
      "35.156693\n",
      "35.184204\n",
      "35.20005\n",
      "35.1813\n",
      "35.196766\n",
      "35.22987\n",
      "35.263264\n",
      "35.28628\n",
      "35.35964\n",
      "35.411514\n",
      "35.436497\n",
      "35.43949\n",
      "35.445797\n",
      "35.537056\n",
      "35.55499\n",
      "35.668697\n",
      "35.67976\n",
      "35.650578\n",
      "35.66643\n",
      "35.768482\n",
      "35.874866\n",
      "35.82325\n",
      "35.87125\n",
      "35.936207\n",
      "35.926006\n",
      "35.938522\n",
      "36.075573\n",
      "36.034767\n",
      "35.97648\n",
      "35.918198\n",
      "35.90619\n",
      "35.96716\n",
      "35.92005\n",
      "35.94612\n",
      "35.89702\n",
      "35.948463\n",
      "35.956238\n",
      "36.042915\n",
      "36.139084\n",
      "36.143463\n",
      "36.235386\n",
      "36.299976\n",
      "36.333378\n",
      "36.42592\n",
      "36.59348\n",
      "36.653328\n",
      "36.754612\n",
      "36.76366\n",
      "36.851364\n",
      "36.914455\n",
      "36.95285\n",
      "37.063515\n",
      "37.158\n",
      "37.251373\n",
      "37.26795\n",
      "37.314274\n",
      "37.36315\n",
      "37.47473\n",
      "37.585007\n",
      "37.71823\n",
      "37.838818\n",
      "37.970875\n",
      "38.06991\n",
      "38.138794\n",
      "38.32083\n",
      "38.280666\n",
      "38.381443\n",
      "38.41077\n",
      "38.45675\n",
      "38.606003\n",
      "39.157196\n",
      "39.122906\n",
      "39.210533\n",
      "39.090904\n",
      "39.061237\n",
      "39.091976\n"
     ]
    }
   ],
   "source": [
    "pose = Pose.from_position_and_target(\n",
    "    jnp.array([1.3, 1.1, 0.0]),\n",
    "    jnp.zeros(3)\n",
    ").inv()\n",
    "\n",
    "mixed_image = render_jit(pose)\n",
    "rr.log(\"/rgb/reconstruction\", rr.Image(mixed_image), timeless=True)\n",
    "\n",
    "\n",
    "grad_func = jax.jit(jax.value_and_grad(lambda pose: jnp.linalg.norm(render(pose) - target_image)))\n",
    "print(grad_func(pose))\n",
    "\n",
    "for _ in range(100):\n",
    "    loss, pose_grad = grad_func(pose)\n",
    "    pose = pose - pose_grad * 0.001\n",
    "    print(loss)\n",
    "    mixed_image = render_jit(pose)\n",
    "    rr.log(\"/rgb/reconstruction\", rr.Image(mixed_image), timeless=True)\n",
    "\n"
   ]
  },
  {
   "cell_type": "code",
   "execution_count": 121,
   "metadata": {},
   "outputs": [
    {
     "data": {
      "text/plain": [
       "Pose(position=Array([ 0.05088093, -0.04757963, -0.02065831], dtype=float32), quaternion=Array([-0.00589564, -0.00238853,  0.00535257, -0.00713056], dtype=float32))"
      ]
     },
     "execution_count": 121,
     "metadata": {},
     "output_type": "execute_result"
    }
   ],
   "source": [
    "pose_grad"
   ]
  },
  {
   "cell_type": "code",
   "execution_count": 66,
   "metadata": {},
   "outputs": [
    {
     "ename": "NameError",
     "evalue": "name 'mixed_image' is not defined",
     "output_type": "error",
     "traceback": [
      "\u001b[0;31m---------------------------------------------------------------------------\u001b[0m",
      "\u001b[0;31mNameError\u001b[0m                                 Traceback (most recent call last)",
      "Cell \u001b[0;32mIn[66], line 1\u001b[0m\n\u001b[0;32m----> 1\u001b[0m \u001b[43mmixed_image\u001b[49m(render, pose, \u001b[38;5;241m0\u001b[39m, \u001b[38;5;241m0\u001b[39m)\n",
      "\u001b[0;31mNameError\u001b[0m: name 'mixed_image' is not defined"
     ]
    }
   ],
   "source": [
    "mixed_image = render(render, pose, 0, 0)"
   ]
  },
  {
   "cell_type": "code",
   "execution_count": null,
   "metadata": {},
   "outputs": [],
   "source": []
  },
  {
   "cell_type": "code",
   "execution_count": null,
   "metadata": {},
   "outputs": [],
   "source": []
  }
 ],
 "metadata": {
  "kernelspec": {
   "display_name": "dcolmap",
   "language": "python",
   "name": "python3"
  },
  "language_info": {
   "codemirror_mode": {
    "name": "ipython",
    "version": 3
   },
   "file_extension": ".py",
   "mimetype": "text/x-python",
   "name": "python",
   "nbconvert_exporter": "python",
   "pygments_lexer": "ipython3",
   "version": "3.11.8"
  }
 },
 "nbformat": 4,
 "nbformat_minor": 2
}
