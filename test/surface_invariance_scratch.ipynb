{
 "cells": [
  {
   "cell_type": "code",
   "execution_count": 1,
   "metadata": {},
   "outputs": [],
   "source": [
    "import b3d\n",
    "import os\n",
    "import jax.numpy as jnp\n",
    "import rerun as rr\n",
    "import jax\n",
    "import trimesh\n",
    "import matplotlib.pyplot as plt"
   ]
  },
  {
   "cell_type": "code",
   "execution_count": 2,
   "metadata": {},
   "outputs": [],
   "source": [
    "PORT = 8812\n",
    "rr.init(\"real\")\n",
    "rr.connect(addr=f\"127.0.0.1:{PORT}\")"
   ]
  },
  {
   "cell_type": "code",
   "execution_count": 3,
   "metadata": {},
   "outputs": [],
   "source": [
    "def renderer():\n",
    "\n",
    "    width = 200\n",
    "    height = 200\n",
    "    fx = 200.0\n",
    "    fy = 200.0\n",
    "    cx = 100.0\n",
    "    cy = 100.0\n",
    "    near = 0.001\n",
    "    far = 16.0\n",
    "    renderer = b3d.Renderer(width, height, fx, fy, cx, cy, near, far, 1024)\n",
    "    return renderer\n",
    "\n",
    "renderer = renderer()"
   ]
  },
  {
   "cell_type": "code",
   "execution_count": 4,
   "metadata": {},
   "outputs": [
    {
     "name": "stderr",
     "output_type": "stream",
     "text": [
      "/opt/conda/envs/b3d/lib/python3.11/site-packages/trimesh/grouping.py:99: RuntimeWarning: invalid value encountered in cast\n",
      "  stacked = np.column_stack(stacked).round().astype(np.int64)\n"
     ]
    }
   ],
   "source": [
    "mesh_path = os.path.join(\n",
    "    b3d.get_root_path(), \"assets/shared_data_bucket/025_mug/textured.obj\"\n",
    ")\n",
    "mesh = trimesh.load(mesh_path)\n",
    "mesh.vertices = mesh.vertices - mesh.vertices.mean(axis=0)\n",
    "object_library = b3d.MeshLibrary.make_empty_library()\n",
    "object_library.add_trimesh(mesh)\n",
    "\n",
    "\n",
    "object_library = b3d.MeshLibrary.make_empty_library()\n",
    "occluder = trimesh.creation.box(extents=jnp.array([0.001, 0.1, 0.1]))\n",
    "occluder_colors = jnp.tile(jnp.array([0.8, 0.8, 0.8])[None,...], (occluder.vertices.shape[0], 1))\n",
    "object_library = b3d.MeshLibrary.make_empty_library()\n",
    "object_library.add_object(occluder.vertices, occluder.faces, attributes=occluder_colors)\n",
    "\n",
    "image_width = 200\n",
    "image_height = 200\n",
    "fx = 200.0\n",
    "fy = 200.0\n",
    "cx = 100.0\n",
    "cy = 100.0\n",
    "near = 0.001\n",
    "far = 16.0\n",
    "renderer.set_intrinsics(image_width, image_height, fx, fy, cx, cy, near, far)\n"
   ]
  },
  {
   "cell_type": "code",
   "execution_count": 5,
   "metadata": {},
   "outputs": [],
   "source": [
    "from b3d.pose import from_axis_angle"
   ]
  },
  {
   "cell_type": "code",
   "execution_count": 6,
   "metadata": {},
   "outputs": [],
   "source": [
    "map_trans = jax.vmap(from_axis_angle, (None, 0))"
   ]
  },
  {
   "cell_type": "code",
   "execution_count": 7,
   "metadata": {},
   "outputs": [],
   "source": [
    "in_place_rots = map_trans(jnp.array([0,0,1]), jnp.linspace(0, jnp.pi/2, 10))"
   ]
  },
  {
   "cell_type": "code",
   "execution_count": 8,
   "metadata": {},
   "outputs": [],
   "source": [
    "\n",
    "near_pose = b3d.Pose.from_position_and_target(\n",
    "    jnp.array([0.3, 0.0, 0.0]), jnp.array([0.0, 0.0, 0.0]), jnp.array([0.0, 0.0, 1.0])\n",
    ").inv()\n",
    "\n",
    "far_pose = near_pose @ in_place_rots[5]\n",
    "\n",
    "rgb_near, depth_near = renderer.render_attribute(\n",
    "    near_pose[None, ...],\n",
    "    object_library.vertices,\n",
    "    object_library.faces,\n",
    "    object_library.ranges,\n",
    "    object_library.attributes,\n",
    ")"
   ]
  },
  {
   "cell_type": "code",
   "execution_count": 9,
   "metadata": {},
   "outputs": [
    {
     "data": {
      "text/plain": [
       "<matplotlib.image.AxesImage at 0x7f9d95138150>"
      ]
     },
     "execution_count": 9,
     "metadata": {},
     "output_type": "execute_result"
    },
    {
     "data": {
      "image/png": "[encoded data removed]",
      "text/plain": [
       "<Figure size 640x480 with 1 Axes>"
      ]
     },
     "metadata": {},
     "output_type": "display_data"
    }
   ],
   "source": [
    "plt.imshow(rgb_near)"
   ]
  },
  {
   "cell_type": "code",
   "execution_count": 10,
   "metadata": {},
   "outputs": [],
   "source": [
    "rgb_far, depth_far = renderer.render_attribute(\n",
    "    far_pose[None, ...],\n",
    "    object_library.vertices,\n",
    "    object_library.faces,\n",
    "    object_library.ranges,\n",
    "    object_library.attributes,\n",
    ")\n"
   ]
  },
  {
   "cell_type": "code",
   "execution_count": 11,
   "metadata": {},
   "outputs": [
    {
     "data": {
      "text/plain": [
       "<matplotlib.image.AxesImage at 0x7f9d951cab50>"
      ]
     },
     "execution_count": 11,
     "metadata": {},
     "output_type": "execute_result"
    },
    {
     "data": {
      "image/png": "[encoded data removed]",
      "text/plain": [
       "<Figure size 640x480 with 1 Axes>"
      ]
     },
     "metadata": {},
     "output_type": "display_data"
    }
   ],
   "source": [
    "plt.imshow(rgb_far)"
   ]
  },
  {
   "cell_type": "code",
   "execution_count": 12,
   "metadata": {},
   "outputs": [],
   "source": [
    "def unproject_depth(depth, intrinsics):\n",
    "    \"\"\"Unprojects a depth image into a point cloud.\n",
    "\n",
    "    Args:\n",
    "        depth (jnp.ndarray): The depth image. Shape (H, W)\n",
    "        intrinsics (b.camera.Intrinsics): The camera intrinsics.\n",
    "    Returns:\n",
    "        jnp.ndarray: The point cloud. Shape (H, W, 3)\n",
    "    \"\"\"\n",
    "    mask = (depth < intrinsics.far) * (depth > intrinsics.near)\n",
    "    depth = depth * mask + intrinsics.far * (1.0 - mask)\n",
    "    y, x = jnp.mgrid[: depth.shape[0], : depth.shape[1]]\n",
    "    x = (x - intrinsics.cx) / intrinsics.fx\n",
    "    y = (y - intrinsics.cy) / intrinsics.fy\n",
    "    point_cloud_image = jnp.stack([x, y, jnp.ones_like(x)], axis=-1) * depth[:, :, None]\n",
    "    return point_cloud_image"
   ]
  },
  {
   "cell_type": "code",
   "execution_count": null,
   "metadata": {},
   "outputs": [],
   "source": []
  },
  {
   "cell_type": "code",
   "execution_count": 13,
   "metadata": {},
   "outputs": [],
   "source": [
    "# normal visualizer testing"
   ]
  },
  {
   "cell_type": "code",
   "execution_count": 14,
   "metadata": {},
   "outputs": [],
   "source": [
    "# need to draw posterior samples"
   ]
  },
  {
   "cell_type": "code",
   "execution_count": null,
   "metadata": {},
   "outputs": [],
   "source": []
  },
  {
   "cell_type": "code",
   "execution_count": 15,
   "metadata": {},
   "outputs": [],
   "source": [
    "## just a flat surface, no cube"
   ]
  },
  {
   "cell_type": "code",
   "execution_count": 32,
   "metadata": {},
   "outputs": [],
   "source": [
    "def test_patch_orientation_invariance(renderer):\n",
    "\n",
    "    object_library = b3d.MeshLibrary.make_empty_library()\n",
    "    occluder = trimesh.creation.box(extents=jnp.array([0.0001, 0.1, 0.1]))\n",
    "    occluder_colors = jnp.tile(jnp.array([0.8, 0.8, 0.8])[None,...], (occluder.vertices.shape[0], 1))\n",
    "    object_library = b3d.MeshLibrary.make_empty_library()\n",
    "    object_library.add_object(occluder.vertices, occluder.faces, attributes=occluder_colors)\n",
    "\n",
    "    image_width = 200\n",
    "    image_height = 200\n",
    "    fx = 200.0\n",
    "    fy = 200.0\n",
    "    cx = 100.0\n",
    "    cy = 100.0\n",
    "    near = 0.001\n",
    "    far = 16.0\n",
    "    renderer.set_intrinsics(image_width, image_height, fx, fy, cx, cy, near, far)\n",
    "\n",
    "    flat_pose = b3d.Pose.from_position_and_target(\n",
    "        jnp.array([0.3, 0.0, 0.0]), jnp.array([0.0, 0.0, 0.0]), jnp.array([0.0, 0.0, 1.0])\n",
    "    ).inv()\n",
    "\n",
    "\n",
    "    transform_vec = jax.vmap(from_axis_angle, (None, 0))\n",
    "    in_place_rots = transform_vec(jnp.array([0,0,1]), jnp.linspace(0, jnp.pi/4, 10))\n",
    "    tilt_pose = flat_pose @ in_place_rots[5]\n",
    "\n",
    "    rgb_flat, depth_flat = renderer.render_attribute(\n",
    "        flat_pose[None, ...],\n",
    "        object_library.vertices,\n",
    "        object_library.faces,\n",
    "        object_library.ranges,\n",
    "        object_library.attributes,\n",
    "    )\n",
    "\n",
    "    rgb_tilt, depth_tilt = renderer.render_attribute(\n",
    "        tilt_pose[None, ...],\n",
    "        object_library.vertices,\n",
    "        object_library.faces,\n",
    "        object_library.ranges,\n",
    "        object_library.attributes,\n",
    "    )\n",
    "\n",
    "\n",
    "    color_error, depth_error = (50.0, 0.01)\n",
    "    inlier_score, outlier_prob = (4.0, 0.000001)\n",
    "    color_multiplier, depth_multiplier = (100.0, 1.0)\n",
    "    model_args = b3d.ModelArgs(\n",
    "        color_error,\n",
    "        depth_error,\n",
    "        inlier_score,\n",
    "        outlier_prob,\n",
    "        color_multiplier,\n",
    "        depth_multiplier,\n",
    "    )\n",
    "\n",
    "    from genjax.generative_functions.distributions import ExactDensity\n",
    "    import genjax\n",
    "\n",
    "\n",
    "    rr.log(\"/rgb_flat\", rr.Image(rgb_flat))\n",
    "    rr.log(\"/rgb_tilt\", rr.Image(rgb_tilt))\n",
    "    rr.log(\"/depth_flat\", rr.DepthImage(depth_flat))\n",
    "    rr.log(\"/depth_tilt\", rr.DepthImage(depth_tilt))\n",
    "\n",
    "\n",
    "    area_flat = ((depth_flat / fx) * (depth_flat / fy)).sum()\n",
    "    area_tilt = ((depth_tilt / fx) * (depth_tilt / fy)).sum()\n",
    "    print('Depth correction only:\\n')\n",
    "    print('corrected area flat: ' + str(area_flat), 'corrected area tilt: ' + str(area_tilt))\n",
    "\n",
    "    flat_score = (\n",
    "        b3d.rgbd_sensor_model.logpdf(\n",
    "            (rgb_flat, depth_flat), rgb_flat, depth_flat, model_args, fx, fy, 0.0\n",
    "        )\n",
    "    )\n",
    "\n",
    "    tilt_score = (\n",
    "        b3d.rgbd_sensor_model.logpdf(\n",
    "            (rgb_tilt, depth_tilt), rgb_tilt, depth_tilt, model_args, fx, fy, 0.0\n",
    "        )\n",
    "    )\n",
    "    print('corrected flat score: ' + str(flat_score), 'corrected tilt score: ' + str(tilt_score))\n",
    "    print('normalized scores: ' + str(b3d.normalize_log_scores(jnp.array([flat_score, tilt_score]))))\n",
    "    print('isClose: ' + str(jnp.isclose(flat_score, tilt_score, rtol=0.05)))"
   ]
  },
  {
   "cell_type": "code",
   "execution_count": 33,
   "metadata": {},
   "outputs": [
    {
     "name": "stdout",
     "output_type": "stream",
     "text": [
      "Depth correction only:\n",
      "\n",
      "corrected area flat: 0.010096883 corrected area tilt: 0.0091231605\n",
      "corrected flat score: -320.92343 corrected tilt score: -331.06445\n",
      "normalized scores: [9.9996948e-01 3.9427294e-05]\n",
      "isClose: True\n"
     ]
    }
   ],
   "source": [
    "test_patch_orientation_invariance(renderer)"
   ]
  },
  {
   "cell_type": "code",
   "execution_count": 34,
   "metadata": {},
   "outputs": [],
   "source": [
    "## add back in the cosine invariance structure"
   ]
  },
  {
   "cell_type": "code",
   "execution_count": 35,
   "metadata": {},
   "outputs": [],
   "source": [
    "## surface normal info from where?"
   ]
  },
  {
   "cell_type": "code",
   "execution_count": 36,
   "metadata": {},
   "outputs": [],
   "source": [
    "def test_patch_orientation_invariance_norm_correct(renderer):\n",
    "\n",
    "    object_library = b3d.MeshLibrary.make_empty_library()\n",
    "    occluder = trimesh.creation.box(extents=jnp.array([0.0001, 0.1, 0.1]))\n",
    "    occluder_colors = jnp.tile(jnp.array([0.8, 0.8, 0.8])[None,...], (occluder.vertices.shape[0], 1))\n",
    "    object_library = b3d.MeshLibrary.make_empty_library()\n",
    "    object_library.add_object(occluder.vertices, occluder.faces, attributes=occluder_colors)\n",
    "\n",
    "    image_width = 200\n",
    "    image_height = 200\n",
    "    fx = 200.0\n",
    "    fy = 200.0\n",
    "    cx = 100.0\n",
    "    cy = 100.0\n",
    "    near = 0.001\n",
    "    far = 16.0\n",
    "    renderer.set_intrinsics(image_width, image_height, fx, fy, cx, cy, near, far)\n",
    "\n",
    "    flat_pose = b3d.Pose.from_position_and_target(\n",
    "        jnp.array([0.3, 0.0, 0.0]), jnp.array([0.0, 0.0, 0.0]), jnp.array([0.0, 0.0, 1.0])\n",
    "    ).inv()\n",
    "\n",
    "\n",
    "    transform_vec = jax.vmap(from_axis_angle, (None, 0))\n",
    "    in_place_rots = transform_vec(jnp.array([0,0,1]), jnp.linspace(0, jnp.pi/4, 10))\n",
    "    tilt_pose = flat_pose @ in_place_rots[5]\n",
    "\n",
    "    rgb_flat, depth_flat, norm_im_flat = renderer.render_attribute_normal(\n",
    "        flat_pose[None, ...],\n",
    "        object_library.vertices,\n",
    "        object_library.faces,\n",
    "        object_library.ranges,\n",
    "        object_library.attributes,\n",
    "    )\n",
    "\n",
    "    rgb_tilt, depth_tilt, norm_im_tilt = renderer.render_attribute_normal(\n",
    "        tilt_pose[None, ...],\n",
    "        object_library.vertices,\n",
    "        object_library.faces,\n",
    "        object_library.ranges,\n",
    "        object_library.attributes,\n",
    "    )\n",
    "\n",
    "\n",
    "    color_error, depth_error = (50.0, 0.01)\n",
    "    inlier_score, outlier_prob = (4.0, 0.000001)\n",
    "    color_multiplier, depth_multiplier = (100.0, 1.0)\n",
    "    model_args = b3d.ModelArgs(\n",
    "        color_error,\n",
    "        depth_error,\n",
    "        inlier_score,\n",
    "        outlier_prob,\n",
    "        color_multiplier,\n",
    "        depth_multiplier,\n",
    "    )\n",
    "\n",
    "    from genjax.generative_functions.distributions import ExactDensity\n",
    "    import genjax\n",
    "\n",
    "\n",
    "    rr.log(\"/rgb_flat\", rr.Image(rgb_flat))\n",
    "    rr.log(\"/rgb_tilt\", rr.Image(rgb_tilt))\n",
    "    rr.log(\"/depth_flat\", rr.DepthImage(depth_flat))\n",
    "    rr.log(\"/depth_tilt\", rr.DepthImage(depth_tilt))\n",
    "    \n",
    "\n",
    "    flat_cos = jnp.abs(norm_im_flat @ jnp.array([0,0,1]))\n",
    "    tilt_cos = jnp.abs(norm_im_tilt @ jnp.array([0,0,1]))\n",
    "\n",
    "    inv_clip_cos_flat = jnp.multiply(1/jnp.clip(flat_cos, 0.01, 1), (depth_flat != 0.0) * 1)\n",
    "    inv_clip_cos_tilt = jnp.multiply(1/jnp.clip(tilt_cos, 0.01, 1), (depth_tilt != 0.0) * 1)\n",
    "\n",
    "    depth_flat_corr = jnp.multiply(inv_clip_cos_flat, depth_flat)\n",
    "    depth_tilt_corr = jnp.multiply(inv_clip_cos_tilt, depth_tilt)\n",
    "\n",
    "    area_flat = ((depth_flat_corr / fx) * (depth_flat_corr / fy)).sum()\n",
    "    area_tilt = ((depth_tilt_corr / fx) * (depth_tilt_corr / fy)).sum()\n",
    "    print('Depth correction + surface normal cosine approximation:\\n')\n",
    "    print('corrected area flat: ' + str(area_flat), 'corrected area tilt: ' + str(area_tilt))\n",
    "\n",
    "    flat_score = (\n",
    "        b3d.rgbd_sensor_model_surfacenorm.logpdf(\n",
    "            (rgb_flat, depth_flat), rgb_flat, depth_flat, norm_im_flat, model_args, fx, fy, 0.0\n",
    "        )\n",
    "    )\n",
    "\n",
    "    tilt_score = (\n",
    "        b3d.rgbd_sensor_model_surfacenorm.logpdf(\n",
    "            (rgb_tilt, depth_tilt), rgb_tilt, depth_tilt, norm_im_tilt, model_args, fx, fy, 0.0\n",
    "        )\n",
    "    )\n",
    "    print('corrected flat score: ' + str(flat_score), 'corrected tilt score: ' + str(tilt_score))\n",
    "    print('normalized scores: ' + str(b3d.normalize_log_scores(jnp.array([flat_score, tilt_score]))))\n",
    "    print('isClose: ' + str(jnp.isclose(flat_score, tilt_score, rtol=0.05)))"
   ]
  },
  {
   "cell_type": "code",
   "execution_count": 37,
   "metadata": {},
   "outputs": [
    {
     "name": "stdout",
     "output_type": "stream",
     "text": [
      "Depth correction + surface normal cosine approximation:\n",
      "\n",
      "corrected area flat: 0.010096883 corrected area tilt: 0.011106927\n",
      "corrected flat score: -320.92343 corrected tilt score: -311.38922\n",
      "normalized scores: [7.2330025e-05 9.9993896e-01]\n",
      "isClose: True\n"
     ]
    }
   ],
   "source": [
    "test_patch_orientation_invariance_norm_correct(renderer)"
   ]
  },
  {
   "cell_type": "code",
   "execution_count": 22,
   "metadata": {},
   "outputs": [],
   "source": [
    "# 0.010096883 0.011106927\n",
    "# -320.92343 -350.73972\n",
    "# [1.0000000e+00 1.1244815e-13]\n",
    "# -320.92343 -350.73972\n",
    "# False"
   ]
  },
  {
   "cell_type": "code",
   "execution_count": 23,
   "metadata": {},
   "outputs": [],
   "source": [
    "# generate posterior samples"
   ]
  },
  {
   "cell_type": "code",
   "execution_count": null,
   "metadata": {},
   "outputs": [],
   "source": []
  },
  {
   "cell_type": "code",
   "execution_count": null,
   "metadata": {},
   "outputs": [],
   "source": []
  },
  {
   "cell_type": "code",
   "execution_count": null,
   "metadata": {},
   "outputs": [],
   "source": []
  }
 ],
 "metadata": {
  "kernelspec": {
   "display_name": "b3d",
   "language": "python",
   "name": "python3"
  },
  "language_info": {
   "codemirror_mode": {
    "name": "ipython",
    "version": 3
   },
   "file_extension": ".py",
   "mimetype": "text/x-python",
   "name": "python",
   "nbconvert_exporter": "python",
   "pygments_lexer": "ipython3",
   "version": "3.11.8"
  }
 },
 "nbformat": 4,
 "nbformat_minor": 2
}
