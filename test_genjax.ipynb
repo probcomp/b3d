{
 "cells": [
  {
   "cell_type": "code",
   "execution_count": 1,
   "id": "436e05d2",
   "metadata": {},
   "outputs": [],
   "source": [
    "import os\n",
    "os.environ['XLA_PYTHON_CLIENT_PREALLOCATE'] = 'false'\n",
    "os.environ['XLA_PYTHON_CLIENT_ALLOCATOR'] = \"platform\"\n",
    "\n",
    "import jax\n",
    "from jax import jit\n",
    "\n",
    "from genjax import ChoiceMapBuilder as C\n",
    "from genjax import (\n",
    "    Diff,\n",
    "    NoChange,\n",
    "    UnknownChange,\n",
    "    bernoulli,\n",
    "    beta,\n",
    "    gen,\n",
    "    pretty,\n",
    ")\n",
    "key = jax.random.key(0)\n",
    "pretty()"
   ]
  },
  {
   "cell_type": "code",
   "execution_count": 2,
   "id": "430ff2f1",
   "metadata": {},
   "outputs": [],
   "source": [
    "@gen\n",
    "def beta_bernoulli_process(x):\n",
    "    u = x + 1\n",
    "    p = beta(1.0, u) @ \"p\"\n",
    "    v = bernoulli(p) @ \"v\"\n",
    "    z = 2*v\n",
    "    return {'u': u, 'p': p, 'v': v, 'z': z}"
   ]
  },
  {
   "cell_type": "code",
   "execution_count": null,
   "id": "0a8baf4e",
   "metadata": {},
   "outputs": [],
   "source": []
  },
  {
   "cell_type": "code",
   "execution_count": null,
   "id": "f4a99112",
   "metadata": {},
   "outputs": [],
   "source": []
  },
  {
   "cell_type": "code",
   "execution_count": null,
   "id": "92086f05",
   "metadata": {},
   "outputs": [],
   "source": []
  },
  {
   "cell_type": "code",
   "execution_count": 1,
   "id": "63232bc8",
   "metadata": {},
   "outputs": [],
   "source": [
    "import os\n",
    "os.environ['XLA_PYTHON_CLIENT_PREALLOCATE'] = 'false'\n",
    "os.environ['XLA_PYTHON_CLIENT_ALLOCATOR'] = \"platform\"\n",
    "\n",
    "import jax\n",
    "from jax import jit\n",
    "\n",
    "from genjax import ChoiceMapBuilder as C\n",
    "from genjax import (\n",
    "    Diff,\n",
    "    NoChange,\n",
    "    UnknownChange,\n",
    "    bernoulli,\n",
    "    beta,\n",
    "    gen,\n",
    "    pretty,\n",
    ")\n",
    "key = jax.random.key(0)\n",
    "pretty()"
   ]
  },
  {
   "cell_type": "code",
   "execution_count": 2,
   "id": "ec6e6f54",
   "metadata": {},
   "outputs": [],
   "source": [
    "@gen\n",
    "def beta_bernoulli_process(x):\n",
    "    jax.debug.print(\"x: {x}\", x=x)\n",
    "    u = x + 1\n",
    "    jax.debug.print(\"u: {u}\", u=u)\n",
    "    p = beta(1.0, u) @ \"p\"\n",
    "    v = bernoulli(p) @ \"v\"\n",
    "    z = 2*v\n",
    "    return {'u': u, 'p': p, 'v': v, 'z': z}"
   ]
  },
  {
   "cell_type": "code",
   "execution_count": 3,
   "id": "b8095a5f",
   "metadata": {},
   "outputs": [
    {
     "name": "stdout",
     "output_type": "stream",
     "text": [
      "x: 1.0\n",
      "u: 2.0\n"
     ]
    },
    {
     "data": {
      "text/html": [
       "<script> (()=>{ if (customElements.get('treescope-container') === undefined) { class TreescopeContainer extends HTMLElement { constructor() { super(); this.attachShadow({mode: \"open\"}); this.defns = {}; this.state = {}; } } customElements.define(\"treescope-container\", TreescopeContainer); } if (customElements.get('treescope-run-here') === undefined) { class RunHere extends HTMLElement { constructor() { super() } connectedCallback() { const run = child => { const fn = new Function(child.textContent); child.textContent = \"\"; fn.call(this); this.remove(); }; const child = this.querySelector(\"script\"); if (child) { run(child); } else { new MutationObserver(()=>{ run(this.querySelector(\"script\")); }).observe(this, {childList: true}); } } } customElements.define(\"treescope-run-here\", RunHere); } })(); </script> <treescope-container class=\"treescope_out_212749679a6e4f518db2c7a8f695f656\" style=\"display:block\"></treescope-container> <treescope-run-here><script type=\"application/octet-stream\"> const root = ( Array.from(document.getElementsByClassName( \"treescope_out_212749679a6e4f518db2c7a8f695f656\")) .filter((elt) => !elt.dataset.setup) )[0]; root.dataset.setup = 1; const msg = document.createElement(\"span\"); msg.style = \"color: #cccccc; font-family: monospace;\"; msg.textContent = \"(Loading...)\"; root.state.loadingMsg = msg; root.shadowRoot.appendChild(msg); root.state.chain = new Promise((resolve, reject) => { const observer = new IntersectionObserver((entries) => { for (const entry of entries) { if (entry.isIntersecting) { resolve(); observer.disconnect(); return; } } }, {rootMargin: \"1000px\"}); window.setTimeout(() => { observer.observe(root); }, 0); }); root.state.deferring = false; const _insertNode = (node) => { for (let oldScript of node.querySelectorAll(\"script\")) { let newScript = document.createElement(\"script\"); newScript.type = oldScript.type; newScript.textContent = oldScript.textContent; oldScript.parentNode.replaceChild(newScript, oldScript); } if (root.state.loadingMsg) { root.state.loadingMsg.remove(); root.state.loadingMsg = null; } root.shadowRoot.appendChild(node); }; root.defns.insertContent = ((contentNode, compressed) => { if (compressed) { root.state.deferring = true; } if (root.state.deferring) { root.state.chain = (async () => { await root.state.chain; if (compressed) { const encoded = contentNode.textContent; const blob = new Blob([ Uint8Array.from(atob(encoded), (m) => m.codePointAt(0)) ]); const reader = blob.stream().pipeThrough( new DecompressionStream(\"deflate\") ).pipeThrough( new TextDecoderStream(\"utf-8\") ).getReader(); const parts = []; while (true) { const step = await reader.read(); if (step.done) { break; } parts.push(step.value); } const tpl = document.createElement('template'); tpl.innerHTML = parts.join(\"\"); _insertNode(tpl.content); } else { _insertNode(contentNode.content); } })(); } else { _insertNode(contentNode.content); } }); </script></treescope-run-here><div style=\"display:none\"> <script type=\"application/octet-stream\" >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</script> <treescope-run-here><script type=\"application/octet-stream\"> const root = ( Array.from(document.getElementsByClassName( \"treescope_out_212749679a6e4f518db2c7a8f695f656\")) .filter((elt) => !elt.dataset['step0']) )[0]; root.dataset['step0'] = 1; root.defns.insertContent( this.parentNode.querySelector('script[type=\"application/octet-stream\"]'), true ); this.parentNode.remove(); </script></treescope-run-here> </div>"
      ],
      "text/plain": [
       "<IPython.core.display.HTML object>"
      ]
     },
     "metadata": {},
     "output_type": "display_data"
    },
    {
     "data": {
      "text/html": [
       "<div style=\"display:none\"> <script type=\"application/octet-stream\" >eNq1U99v0zAQ/lcsI02t2mZp7fwibSXYQNoLD4DEwzRVjn1pDW4cHLcQIf53nDRt1zG0VRovcc733Xd33/mmQm5RZWsFMyxkVSpWv0aFLgAjKWY412YhIAdjQCxoFpBIRGMR0IzSTCQiphwIySEkLAp8PJ9WJSt2X8QVq6oZ5lo5DpZlBrZ4fqFs+pX99N4Yw+qe703CmIQkDIZI2LqEWa40s2TSv1jadHq5Y9sfrtL59IxygzAIaR6QcBxSmvs8nkDI43AMfpRMEhKdXe7Ee1DmEP0A9m3RXn02G3iRsoUgUR5RSGhEaUKCLOeEZBn1kxACTpPzVd5XLYuXkjaK81j445AF1KdRLBjJxiyLMwp5HAc++W81WgNQcV3CyGyK0QoMuBzcyNKiNhyzslSSMyt1cam5BTuqXAxb4znXReVQzCzB3ogKzdAtfv7THiL8/Id1H/zkOO+Dn9T1Lt21ITQ3WlvXhF3JynMtfXTmBy2g109R16rTqgN1cO/7Bkz9CRRwq00Pewc5F40b/xV6pdz8mySd7fHmok1jm/eeHj0G3Ivh8EXaVe8k/ECaG7ZcQ9HVs2l+Pe5mY+G6M993iKaHPdpzE4VCXK2kEgfixq8N6imwSDo+P3XH9DhcT0GxtCt3Oxj00S/U4HZOBz4wO/Odgub3bX3jyPfRt/LOJWhiKr0xHK7dYvxTw1fNYmA0QA/Cd+aJLAc2L5em2uduO3MBR6+Btd62g/x9OolHRe43m9KugFuSR/bjD21p/fw=</script> <treescope-run-here><script type=\"application/octet-stream\"> const root = ( Array.from(document.getElementsByClassName( \"treescope_out_212749679a6e4f518db2c7a8f695f656\")) .filter((elt) => !elt.dataset['step1']) )[0]; root.dataset['step1'] = 1; root.defns.insertContent( this.parentNode.querySelector('script[type=\"application/octet-stream\"]'), true ); this.parentNode.remove(); </script></treescope-run-here> </div>"
      ],
      "text/plain": [
       "<IPython.core.display.HTML object>"
      ]
     },
     "metadata": {},
     "output_type": "display_data"
    },
    {
     "data": {
      "text/html": [
       "<treescope-run-here><script type=\"application/octet-stream\"> const root = ( Array.from(document.getElementsByClassName( \"treescope_out_212749679a6e4f518db2c7a8f695f656\")) .filter((elt) => !elt.dataset.stolen) )[0]; root.dataset.stolen = 1; const temp = document.createElement(\"div\"); temp.style = \"height: 1px; width: 1px;\"; root.parentNode.insertBefore(temp, root); this.parentNode.replaceChild(root, this); temp.remove(); root.style.paddingTop = \"1px\"; </script></treescope-run-here>"
      ],
      "text/plain": [
       "{'p': <jax.Array(0.26836365, dtype=float32)>,\n",
       " 'u': <jax.Array(2., dtype=float32, weak_type=True)>,\n",
       " 'v': <jax.Array(0, dtype=int32)>,\n",
       " 'z': <jax.Array(0, dtype=int32)>}"
      ]
     },
     "execution_count": 3,
     "metadata": {},
     "output_type": "execute_result"
    }
   ],
   "source": [
    "key, subkey = jax.random.split(key)\n",
    "jitted = jit(beta_bernoulli_process.simulate)\n",
    "old_trace = jitted(subkey, (1.0,))\n",
    "old_trace.get_retval()"
   ]
  },
  {
   "cell_type": "code",
   "execution_count": 4,
   "id": "e00ac134",
   "metadata": {},
   "outputs": [],
   "source": [
    "constraint = C[\"v\"].set(1)\n",
    "# constraint = C.n()\n",
    "# arg_diff = (Diff(5.0, UnknownChange),)\n",
    "arg_diff = (Diff(1.0, NoChange),)"
   ]
  },
  {
   "cell_type": "code",
   "execution_count": 5,
   "id": "c71cfb80",
   "metadata": {},
   "outputs": [
    {
     "name": "stdout",
     "output_type": "stream",
     "text": [
      "x: 1.0\n",
      "u: 2.0\n"
     ]
    },
    {
     "data": {
      "text/html": [
       "<script> (()=>{ if (customElements.get('treescope-container') === undefined) { class TreescopeContainer extends HTMLElement { constructor() { super(); this.attachShadow({mode: \"open\"}); this.defns = {}; this.state = {}; } } customElements.define(\"treescope-container\", TreescopeContainer); } if (customElements.get('treescope-run-here') === undefined) { class RunHere extends HTMLElement { constructor() { super() } connectedCallback() { const run = child => { const fn = new Function(child.textContent); child.textContent = \"\"; fn.call(this); this.remove(); }; const child = this.querySelector(\"script\"); if (child) { run(child); } else { new MutationObserver(()=>{ run(this.querySelector(\"script\")); }).observe(this, {childList: true}); } } } customElements.define(\"treescope-run-here\", RunHere); } })(); </script> <treescope-container class=\"treescope_out_3f49168b0dff438bb9249b0565fd3f78\" style=\"display:block\"></treescope-container> <treescope-run-here><script type=\"application/octet-stream\"> const root = ( Array.from(document.getElementsByClassName( \"treescope_out_3f49168b0dff438bb9249b0565fd3f78\")) .filter((elt) => !elt.dataset.setup) )[0]; root.dataset.setup = 1; const msg = document.createElement(\"span\"); msg.style = \"color: #cccccc; font-family: monospace;\"; msg.textContent = \"(Loading...)\"; root.state.loadingMsg = msg; root.shadowRoot.appendChild(msg); root.state.chain = new Promise((resolve, reject) => { const observer = new IntersectionObserver((entries) => { for (const entry of entries) { if (entry.isIntersecting) { resolve(); observer.disconnect(); return; } } }, {rootMargin: \"1000px\"}); window.setTimeout(() => { observer.observe(root); }, 0); }); root.state.deferring = false; const _insertNode = (node) => { for (let oldScript of node.querySelectorAll(\"script\")) { let newScript = document.createElement(\"script\"); newScript.type = oldScript.type; newScript.textContent = oldScript.textContent; oldScript.parentNode.replaceChild(newScript, oldScript); } if (root.state.loadingMsg) { root.state.loadingMsg.remove(); root.state.loadingMsg = null; } root.shadowRoot.appendChild(node); }; root.defns.insertContent = ((contentNode, compressed) => { if (compressed) { root.state.deferring = true; } if (root.state.deferring) { root.state.chain = (async () => { await root.state.chain; if (compressed) { const encoded = contentNode.textContent; const blob = new Blob([ Uint8Array.from(atob(encoded), (m) => m.codePointAt(0)) ]); const reader = blob.stream().pipeThrough( new DecompressionStream(\"deflate\") ).pipeThrough( new TextDecoderStream(\"utf-8\") ).getReader(); const parts = []; while (true) { const step = await reader.read(); if (step.done) { break; } parts.push(step.value); } const tpl = document.createElement('template'); tpl.innerHTML = parts.join(\"\"); _insertNode(tpl.content); } else { _insertNode(contentNode.content); } })(); } else { _insertNode(contentNode.content); } }); </script></treescope-run-here><div style=\"display:none\"> <script type=\"application/octet-stream\" >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</script> <treescope-run-here><script type=\"application/octet-stream\"> const root = ( Array.from(document.getElementsByClassName( \"treescope_out_3f49168b0dff438bb9249b0565fd3f78\")) .filter((elt) => !elt.dataset['step0']) )[0]; root.dataset['step0'] = 1; root.defns.insertContent( this.parentNode.querySelector('script[type=\"application/octet-stream\"]'), true ); this.parentNode.remove(); </script></treescope-run-here> </div>"
      ],
      "text/plain": [
       "<IPython.core.display.HTML object>"
      ]
     },
     "metadata": {},
     "output_type": "display_data"
    },
    {
     "data": {
      "text/html": [
       "<div style=\"display:none\"> <script type=\"application/octet-stream\" >eNq1U21v0zAQ/iuWkaZWbbO8N6YvEmwg7QsfAIkP01Q59qU1uHFw3EKE+O/YadquY9NWCb7EOd/z3D1355tysUW1aSTMMBd1JWnzGpWqBIwEn+FC6QWHArQGvsgTSpIoC7OM8dhnjDAISFBAwanv0yjA82ld0XL3RUzSup5hpqSNQfNcwxbPL6SZfKU/vTda06bne2GaRWmUJkPETVPBrJCKmijsXyzNZHq5i7Y/rNL59Ay5nAUsT0gMfsriIkgJYVmS5T7J4vEYUnK23NB7IHOIfgD9tmivPusN/BPZ4PMiIDGnJEvjOAtzP4/83C/4mIY0DaKzZQd71aL8X5rjBEIejpOAQRiHwHPOi4iEhCYpZGEM57f6RPPTGo0GqJmqYKQ35WgFGmwOpkVlUEvHtKqkYNQIVV4qZsCMasuhazxnqqwtiuolmBteoxm6xS9/6kOEX/7Q7oOfHe998LN9vZvsyuCKaaWMLcKsRO3Zkj5a84Pi0OtPUFeq7VUH6uDe9w3o5hNIYEbpHvYO7Vw4N/6LeiXt/F2SzvaYu2jTGPeWJkePBvtiGHwRZtU7oR+CFpou11B2ejbu12N2NgauO/N9h3A17NGenSiU/GolJD8Edn6lUU+CQcLG8yf2mB6H60kol2ZlbweDPvqFHG7ntOBDZGu+k+B+3zY3NviefSvubALHqdVGM7i2i/FkD1+5xcBogB7Qd+ZJWw7RvELoep+7rcwSjl4Na7VtB/n7dBKPNrnvNqVdAbskj+zHH9U+Bxw=</script> <treescope-run-here><script type=\"application/octet-stream\"> const root = ( Array.from(document.getElementsByClassName( \"treescope_out_3f49168b0dff438bb9249b0565fd3f78\")) .filter((elt) => !elt.dataset['step1']) )[0]; root.dataset['step1'] = 1; root.defns.insertContent( this.parentNode.querySelector('script[type=\"application/octet-stream\"]'), true ); this.parentNode.remove(); </script></treescope-run-here> </div>"
      ],
      "text/plain": [
       "<IPython.core.display.HTML object>"
      ]
     },
     "metadata": {},
     "output_type": "display_data"
    },
    {
     "data": {
      "text/html": [
       "<treescope-run-here><script type=\"application/octet-stream\"> const root = ( Array.from(document.getElementsByClassName( \"treescope_out_3f49168b0dff438bb9249b0565fd3f78\")) .filter((elt) => !elt.dataset.stolen) )[0]; root.dataset.stolen = 1; const temp = document.createElement(\"div\"); temp.style = \"height: 1px; width: 1px;\"; root.parentNode.insertBefore(temp, root); this.parentNode.replaceChild(root, this); temp.remove(); root.style.paddingTop = \"1px\"; </script></treescope-run-here>"
      ],
      "text/plain": [
       "{'p': <jax.Array(0.26836365, dtype=float32)>,\n",
       " 'u': <jax.Array(2., dtype=float32, weak_type=True)>,\n",
       " 'v': <jax.Array(1, dtype=int32, weak_type=True)>,\n",
       " 'z': <jax.Array(2, dtype=int32)>}"
      ]
     },
     "execution_count": 5,
     "metadata": {},
     "output_type": "execute_result"
    }
   ],
   "source": [
    "jitted_update = jit(beta_bernoulli_process.update)\n",
    "\n",
    "key, subkey = jax.random.split(key)\n",
    "new_trace, weight_diff, ret_diff, discard_choice = jitted_update(\n",
    "    subkey, old_trace, constraint, arg_diff\n",
    ")\n",
    "new_trace.get_retval()"
   ]
  },
  {
   "cell_type": "code",
   "execution_count": 6,
   "id": "7d15cbec",
   "metadata": {},
   "outputs": [
    {
     "data": {
      "text/html": [
       "<script> (()=>{ if (customElements.get('treescope-container') === undefined) { class TreescopeContainer extends HTMLElement { constructor() { super(); this.attachShadow({mode: \"open\"}); this.defns = {}; this.state = {}; } } customElements.define(\"treescope-container\", TreescopeContainer); } if (customElements.get('treescope-run-here') === undefined) { class RunHere extends HTMLElement { constructor() { super() } connectedCallback() { const run = child => { const fn = new Function(child.textContent); child.textContent = \"\"; fn.call(this); this.remove(); }; const child = this.querySelector(\"script\"); if (child) { run(child); } else { new MutationObserver(()=>{ run(this.querySelector(\"script\")); }).observe(this, {childList: true}); } } } customElements.define(\"treescope-run-here\", RunHere); } })(); </script> <treescope-container class=\"treescope_out_828ae0c3e2f04aa79438794b04377022\" style=\"display:block\"></treescope-container> <treescope-run-here><script type=\"application/octet-stream\"> const root = ( Array.from(document.getElementsByClassName( \"treescope_out_828ae0c3e2f04aa79438794b04377022\")) .filter((elt) => !elt.dataset.setup) )[0]; root.dataset.setup = 1; const msg = document.createElement(\"span\"); msg.style = \"color: #cccccc; font-family: monospace;\"; msg.textContent = \"(Loading...)\"; root.state.loadingMsg = msg; root.shadowRoot.appendChild(msg); root.state.chain = new Promise((resolve, reject) => { const observer = new IntersectionObserver((entries) => { for (const entry of entries) { if (entry.isIntersecting) { resolve(); observer.disconnect(); return; } } }, {rootMargin: \"1000px\"}); window.setTimeout(() => { observer.observe(root); }, 0); }); root.state.deferring = false; const _insertNode = (node) => { for (let oldScript of node.querySelectorAll(\"script\")) { let newScript = document.createElement(\"script\"); newScript.type = oldScript.type; newScript.textContent = oldScript.textContent; oldScript.parentNode.replaceChild(newScript, oldScript); } if (root.state.loadingMsg) { root.state.loadingMsg.remove(); root.state.loadingMsg = null; } root.shadowRoot.appendChild(node); }; root.defns.insertContent = ((contentNode, compressed) => { if (compressed) { root.state.deferring = true; } if (root.state.deferring) { root.state.chain = (async () => { await root.state.chain; if (compressed) { const encoded = contentNode.textContent; const blob = new Blob([ Uint8Array.from(atob(encoded), (m) => m.codePointAt(0)) ]); const reader = blob.stream().pipeThrough( new DecompressionStream(\"deflate\") ).pipeThrough( new TextDecoderStream(\"utf-8\") ).getReader(); const parts = []; while (true) { const step = await reader.read(); if (step.done) { break; } parts.push(step.value); } const tpl = document.createElement('template'); tpl.innerHTML = parts.join(\"\"); _insertNode(tpl.content); } else { _insertNode(contentNode.content); } })(); } else { _insertNode(contentNode.content); } }); </script></treescope-run-here><div style=\"display:none\"> <script type=\"application/octet-stream\" >eNqNVE2P00AM/SujILSJRLLdRVyaptJeEAfEAZA4IFRNEyexduIJM067Be1/x5OkZT/KivaSebafnz32rDwfDKwzdgC+tD1snLWsfqveemS0tFQOjGbcQa5qS5zWukNzWKrOkvW9LgXft8iQjoel6p0gBj2nI3XKh15QsiTwVpe3jbMDVWlpjXXLKTRX82lrxEH4sOJ2qWpkcSMG4lx1SOmMXy0Wr4XL3qUefyE1EmddBS4VKFe9rioBUwM1L9V12QY1BGkL2LSCXGXvQj5ijVLciX/+SHfocYsGWUrUA9uTb4rEDsljGdLCZJ3rul9dTn1cnfqYuoEkpxPMlw57VqERxYXue4OlDq29tCVDaJMD3V2s4zgp1tJ5yedZVVCTV4XiFn3WAH+Wa/lkK4iTrLWes9EupQGrTQ8USr4pA2sI+v7jnOWDpsqAmGkwJp8yZCLzi7UkaLy37jZRDzXYbwIF0yOYsQxgD662rtNUQkZ2HyfjIEiC+JlFpVPQSr29ToQHaxU/UZ0ZoIZbVRRqEVxelO6AB0fSdwXGw19h7UBB2VNq32LNQd/oED7u5f+PDLGMH1V2nzn4OYDnG8JuvK73TncQTz1JAkf+LFE/+HZqY36mxmOKYirjhSr/X0NQMV0k26Yx0/puxhWTae0DV0DA8BsFOxnw+SaDuvGc3cIhND1yURA0O2el0d5/lC2eeePoxLnpZAyjY/L7RPop4z/O+Hp1eW4BKtypkbCIHr8zkWK9lUrhrogWkayu4+culkSiNIPE9NIynO9AHGKOtUeyjNN7Nz44GyGW26rGARofoFcL+dX1w42WZ42O6h9FReuvbgDxEwcpXIpc/wEFH+Cs</script> <treescope-run-here><script type=\"application/octet-stream\"> const root = ( Array.from(document.getElementsByClassName( \"treescope_out_828ae0c3e2f04aa79438794b04377022\")) .filter((elt) => !elt.dataset['step0']) )[0]; root.dataset['step0'] = 1; root.defns.insertContent( this.parentNode.querySelector('script[type=\"application/octet-stream\"]'), true ); this.parentNode.remove(); </script></treescope-run-here> </div>"
      ],
      "text/plain": [
       "<IPython.core.display.HTML object>"
      ]
     },
     "metadata": {},
     "output_type": "display_data"
    },
    {
     "data": {
      "text/html": [
       "<treescope-run-here><script type=\"application/octet-stream\"> const root = ( Array.from(document.getElementsByClassName( \"treescope_out_828ae0c3e2f04aa79438794b04377022\")) .filter((elt) => !elt.dataset.stolen) )[0]; root.dataset.stolen = 1; const temp = document.createElement(\"div\"); temp.style = \"height: 1px; width: 1px;\"; root.parentNode.insertBefore(temp, root); this.parentNode.replaceChild(root, this); temp.remove(); root.style.paddingTop = \"1px\"; </script></treescope-run-here>"
      ],
      "text/plain": [
       "True"
      ]
     },
     "execution_count": 6,
     "metadata": {},
     "output_type": "execute_result"
    }
   ],
   "source": [
    "old_trace.get_choices() == new_trace.get_choices()"
   ]
  },
  {
   "cell_type": "code",
   "execution_count": 7,
   "id": "cad66fea",
   "metadata": {},
   "outputs": [
    {
     "data": {
      "text/html": [
       "<script> (()=>{ if (customElements.get('treescope-container') === undefined) { class TreescopeContainer extends HTMLElement { constructor() { super(); this.attachShadow({mode: \"open\"}); this.defns = {}; this.state = {}; } } customElements.define(\"treescope-container\", TreescopeContainer); } if (customElements.get('treescope-run-here') === undefined) { class RunHere extends HTMLElement { constructor() { super() } connectedCallback() { const run = child => { const fn = new Function(child.textContent); child.textContent = \"\"; fn.call(this); this.remove(); }; const child = this.querySelector(\"script\"); if (child) { run(child); } else { new MutationObserver(()=>{ run(this.querySelector(\"script\")); }).observe(this, {childList: true}); } } } customElements.define(\"treescope-run-here\", RunHere); } })(); </script> <treescope-container class=\"treescope_out_164d8404630349fe8f3f47791e5a71ab\" style=\"display:block\"></treescope-container> <treescope-run-here><script type=\"application/octet-stream\"> const root = ( Array.from(document.getElementsByClassName( \"treescope_out_164d8404630349fe8f3f47791e5a71ab\")) .filter((elt) => !elt.dataset.setup) )[0]; root.dataset.setup = 1; const msg = document.createElement(\"span\"); msg.style = \"color: #cccccc; font-family: monospace;\"; msg.textContent = \"(Loading...)\"; root.state.loadingMsg = msg; root.shadowRoot.appendChild(msg); root.state.chain = new Promise((resolve, reject) => { const observer = new IntersectionObserver((entries) => { for (const entry of entries) { if (entry.isIntersecting) { resolve(); observer.disconnect(); return; } } }, {rootMargin: \"1000px\"}); window.setTimeout(() => { observer.observe(root); }, 0); }); root.state.deferring = false; const _insertNode = (node) => { for (let oldScript of node.querySelectorAll(\"script\")) { let newScript = document.createElement(\"script\"); newScript.type = oldScript.type; newScript.textContent = oldScript.textContent; oldScript.parentNode.replaceChild(newScript, oldScript); } if (root.state.loadingMsg) { root.state.loadingMsg.remove(); root.state.loadingMsg = null; } root.shadowRoot.appendChild(node); }; root.defns.insertContent = ((contentNode, compressed) => { if (compressed) { root.state.deferring = true; } if (root.state.deferring) { root.state.chain = (async () => { await root.state.chain; if (compressed) { const encoded = contentNode.textContent; const blob = new Blob([ Uint8Array.from(atob(encoded), (m) => m.codePointAt(0)) ]); const reader = blob.stream().pipeThrough( new DecompressionStream(\"deflate\") ).pipeThrough( new TextDecoderStream(\"utf-8\") ).getReader(); const parts = []; while (true) { const step = await reader.read(); if (step.done) { break; } parts.push(step.value); } const tpl = document.createElement('template'); tpl.innerHTML = parts.join(\"\"); _insertNode(tpl.content); } else { _insertNode(contentNode.content); } })(); } else { _insertNode(contentNode.content); } }); </script></treescope-run-here><div style=\"display:none\"> <script type=\"application/octet-stream\" >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</script> <treescope-run-here><script type=\"application/octet-stream\"> const root = ( Array.from(document.getElementsByClassName( \"treescope_out_164d8404630349fe8f3f47791e5a71ab\")) .filter((elt) => !elt.dataset['step0']) )[0]; root.dataset['step0'] = 1; root.defns.insertContent( this.parentNode.querySelector('script[type=\"application/octet-stream\"]'), true ); this.parentNode.remove(); </script></treescope-run-here> </div>"
      ],
      "text/plain": [
       "<IPython.core.display.HTML object>"
      ]
     },
     "metadata": {},
     "output_type": "display_data"
    },
    {
     "data": {
      "text/html": [
       "<div style=\"display:none\"> <script type=\"application/octet-stream\" >eNqVUstu2zAQ/BWCBQIbjhXJYmSrfgBt0gK59NAccggCgyJXNgtaVEnaqFD037uUZQVu0yK5kFzu7My+FlIdiPONhiWVytWaN+9JZSqgRMklLY1dSyjBWpDrPGPTbJrnkrGCxZzlLI9nLE0Shv8yzuhq4WpeHU8iNHduSYXRyMGLwsKBri60n3/jP6IP1vJmEF8S6Zsalqry6WR4sfHzxdWR4nRheqvFG3KMIZ8kJZvKMk5Zllznac54XBRJMiszWZRvzzGaZLM0S7PrU7KlNvy/6XoL4ISpYWz31XgLFlBOWFV70hJQXtdaCe6Vqa6M8ODHDmP4jq6EqRyiuN2Av5OOLMkjfX3/Lwl9fSOe5kcxaYQ1xqOU3yoXofBXNL8YCYPhnHQJYUUdqINH3/dgm3vQILyxAxr1Ra+Dm/4VeqNxYEGksyMRPloZb/eA+N5jAUcs4EH57eAsvCctLd/soOry2YdnJLCDHm4783OHCDWc0BH2HSp5s1Va9sTBbywZaPBEIV88x2vxPIJIQ7XxW/wdjYbkJwm4oxPBPTOanzSE58fmDslP0Y/qCQVCjDN7K+AWN/mfPXwXNpmSEfkj/GietaVni0pl3Um7rQwDnr0WdubQDvLX+SRebPIw7HO7qLjKL2zxb3m/b6c=</script> <treescope-run-here><script type=\"application/octet-stream\"> const root = ( Array.from(document.getElementsByClassName( \"treescope_out_164d8404630349fe8f3f47791e5a71ab\")) .filter((elt) => !elt.dataset['step1']) )[0]; root.dataset['step1'] = 1; root.defns.insertContent( this.parentNode.querySelector('script[type=\"application/octet-stream\"]'), true ); this.parentNode.remove(); </script></treescope-run-here> </div>"
      ],
      "text/plain": [
       "<IPython.core.display.HTML object>"
      ]
     },
     "metadata": {},
     "output_type": "display_data"
    },
    {
     "data": {
      "text/html": [
       "<treescope-run-here><script type=\"application/octet-stream\"> const root = ( Array.from(document.getElementsByClassName( \"treescope_out_164d8404630349fe8f3f47791e5a71ab\")) .filter((elt) => !elt.dataset.stolen) )[0]; root.dataset.stolen = 1; const temp = document.createElement(\"div\"); temp.style = \"height: 1px; width: 1px;\"; root.parentNode.insertBefore(temp, root); this.parentNode.replaceChild(root, this); temp.remove(); root.style.paddingTop = \"1px\"; </script></treescope-run-here>"
      ],
      "text/plain": [
       "Static({\n",
       "  'v': Choice(v=<jax.Array(0, dtype=int32)>),\n",
       "  'p': Choice(v=<jax.Array(0.26836365, dtype=float32)>),\n",
       "})"
      ]
     },
     "execution_count": 7,
     "metadata": {},
     "output_type": "execute_result"
    }
   ],
   "source": [
    "old_trace.get_choices()"
   ]
  },
  {
   "cell_type": "code",
   "execution_count": 8,
   "id": "212ded40",
   "metadata": {},
   "outputs": [
    {
     "data": {
      "text/html": [
       "<script> (()=>{ if (customElements.get('treescope-container') === undefined) { class TreescopeContainer extends HTMLElement { constructor() { super(); this.attachShadow({mode: \"open\"}); this.defns = {}; this.state = {}; } } customElements.define(\"treescope-container\", TreescopeContainer); } if (customElements.get('treescope-run-here') === undefined) { class RunHere extends HTMLElement { constructor() { super() } connectedCallback() { const run = child => { const fn = new Function(child.textContent); child.textContent = \"\"; fn.call(this); this.remove(); }; const child = this.querySelector(\"script\"); if (child) { run(child); } else { new MutationObserver(()=>{ run(this.querySelector(\"script\")); }).observe(this, {childList: true}); } } } customElements.define(\"treescope-run-here\", RunHere); } })(); </script> <treescope-container class=\"treescope_out_93af14e3db334b52b6c56e1a236fc5ed\" style=\"display:block\"></treescope-container> <treescope-run-here><script type=\"application/octet-stream\"> const root = ( Array.from(document.getElementsByClassName( \"treescope_out_93af14e3db334b52b6c56e1a236fc5ed\")) .filter((elt) => !elt.dataset.setup) )[0]; root.dataset.setup = 1; const msg = document.createElement(\"span\"); msg.style = \"color: #cccccc; font-family: monospace;\"; msg.textContent = \"(Loading...)\"; root.state.loadingMsg = msg; root.shadowRoot.appendChild(msg); root.state.chain = new Promise((resolve, reject) => { const observer = new IntersectionObserver((entries) => { for (const entry of entries) { if (entry.isIntersecting) { resolve(); observer.disconnect(); return; } } }, {rootMargin: \"1000px\"}); window.setTimeout(() => { observer.observe(root); }, 0); }); root.state.deferring = false; const _insertNode = (node) => { for (let oldScript of node.querySelectorAll(\"script\")) { let newScript = document.createElement(\"script\"); newScript.type = oldScript.type; newScript.textContent = oldScript.textContent; oldScript.parentNode.replaceChild(newScript, oldScript); } if (root.state.loadingMsg) { root.state.loadingMsg.remove(); root.state.loadingMsg = null; } root.shadowRoot.appendChild(node); }; root.defns.insertContent = ((contentNode, compressed) => { if (compressed) { root.state.deferring = true; } if (root.state.deferring) { root.state.chain = (async () => { await root.state.chain; if (compressed) { const encoded = contentNode.textContent; const blob = new Blob([ Uint8Array.from(atob(encoded), (m) => m.codePointAt(0)) ]); const reader = blob.stream().pipeThrough( new DecompressionStream(\"deflate\") ).pipeThrough( new TextDecoderStream(\"utf-8\") ).getReader(); const parts = []; while (true) { const step = await reader.read(); if (step.done) { break; } parts.push(step.value); } const tpl = document.createElement('template'); tpl.innerHTML = parts.join(\"\"); _insertNode(tpl.content); } else { _insertNode(contentNode.content); } })(); } else { _insertNode(contentNode.content); } }); </script></treescope-run-here><div style=\"display:none\"> <script type=\"application/octet-stream\" >eNrtGYtS47b2V9Ts3JKUjck7JCzMdUJe7AILYRd2206q2LItYkvGVhJCh3+/R7bzcGICO/toO7cwQ4J0dF46b73xxcwmR4rwCPE17pKBx7lAfyKX+1RQzurIIzYWdEIOkMGZyBrYofasjhzOuO9iDdanFhUkG/xTR64HKzb1RTZAnRUzF1YZZ7A8xNrI9PiY6VmN29yrh0cPUPTf0AYAwEd1YdWRQQWAMUGYOEAOZdloPZ/L/Qdw8fusTx8oM+Ec93TiZWHpALlY12ExaxND1FFBsyQ3jGQtQk0LVvJKWdJjAlMQboE/+pKdUJ8OqU0FiIjHgi9gs5QJjzKfapIsCXcjuR7f7IV6fLPQY9YbM6DpwZqvedQVSCricAe7rk01LFW7xzVBpJo8gp2do3Q6c3gEmgd6vkA6MZiPDpGwqK+YRFzCtZxxnaQzisV9oQT7IBoRaOASJkVWNYlVHvr196SdLma6TWCbjW37IKSgAJt9zhmspqfcG2XQKg/8GpbkVmxZUE0uusQzuOdgphGF8Wk6ExgCEEhv7KBseOgNKhYygIcaKL3GtWITZgoLHR6inATZyrpHxNhjoHdEbJ8sGbPGTHK2jtq3qCEkfwGA/PIIv09QSIP5MZ1PFY/cjYkvVEad4LraHnZIOtRJRuI42CDkjn0rVONBgoxzEoehGFukfDkPkovwIgU3TTt030HgYmCtrsQlV4gtXiMyAQOPblJyF/yvjMhMKj3lpSRDEbCi2dj334EXR3jTqQXOgQNmmJoTf8yAPsH8Axs/erOX5AA6naAA4WEqHmdSSOAhSEruD1O5FLiuJzZBOAMWQRkMtrY5Q7IG0vLMXPYUOGMY74ZcCO7IwFBnXKQVg9s6HsJpBmjrFvbTRzYeEvsovjMIaQRn6ppFtBHRMxn0i1TdPPAI7tZRTsmXibMZeuTaQzYQGf4/SAyzj0oQDgd4OPTIJLDuIDq+quwXcC63BNC444BYKxA4+JFXswaCQ5YtPiFeJgE+AvdliDNXERbz5Xx5AUD0gZRoCRBF7M3APsFeOpsd2lwbhUuZg3mYDhSUd++Rz22qb4MMb+k54Ed5/8STzLnADrHgxoi3KkRV/kb5KzCAOqICQxyWh2MX/ETmA30m2QFA69QHorN5hlsHREcosKN6fUggJq5o7pUW/CSbQJi8snmZvaKsB/e+oEVZYFeBGrbQDG57k7KOvZFPsAl+xjZPfyN/WPAgjyYfmsPHOAyycB3t/FYoD7Wdv5K9+KEnmaz8ACblPUrCY8+XF+hyqEWIl0CX+t+ObOAKAaFsED39p2z821BdiifIvdikolB/YFDPFwPOwiC06VrbXEkplKU3JV4V+mr2wxtfZ1FK5WDPhOoxZCNw6MevpAah2J0NxxAaWWIAWm4nGW0KpdagQJFQuycD/0byJT21VvrvnGKwCopt1J85Q2776HwspLw6aoYn4dOdgWNkp2Q4gjI+jLwOZGYrKNgxE3CcYp/oi+L/FcnJ34NNMw9PB0V3TqnJFBqXMvSPBCmSw93ypDLF/kCDPACKXZzHhohlj3mc3kZz7Uyc5KrqowSmY4GzmMHFBmVdZnVZEpG1qofZ3JoDtCjvIwIag+ohy8fiy0RZcAAXQ4n+U5yTgCT6iTou9wRmG7iHHh8RNpAry2D0vHZXjq3oc37Nj4qlWYOgaxxI71gpoUJnySmhx67AebKQWgH0wsJqASkLKxBVH2jQiegeYZHw8V4PuIwDfrMacOGMUWqOOb+GbS0NDSl0Q1DQBAW04gsszy/4/W6cRBVVyIkOdRWYiSyrVq7jboxtBv3FAFp4g94Dkpjj7QeOt8HxUxpeh1sUkCEnYKNxkB9+BzmlpFmZl/D6Yy4lLHADrhLL3Fh/EcgBZm9b6BeUzoM4q0civD5AkYzsEyMdLI9mX352TndejAcnFyjnq9lo+Qdqc9lOBBrMelinYz8SME8ckO5pwRIqgS/Ow8+Z+J+xjie8X+lzL+h4tgM/Qq/rfpfmdXnJX9O/Ti0I+7J9TapPZLkIykuECRubFSjg9SlEIQZQiY1dqCOe78W+/IKfprBkNAQi95Bw9SdhvgUfSSRiqlhOfZJUER+rKPFxDtqCYV1UFhswJQO+hNiTeL7hTFWOudBPqufhmWJ43EnrXBvLgYgiU5uvTLA9JmBoGcXnDkkHCU8OyOSnEpa7cjj2woI3tYMyKLMYR/oWIULOLMkUNfv9vpSmL9fkBDLYVDwSTCz6M6al//hvVGRrZJ56v7zgXh1xMDmDtaO1aeTDJTlA8j2tjsaenZbVX13u7025YRQOhlBfVkqv9Vytc2qqDTX46V2oKg++NS6n8LfbVtWWuu2n4aiqOeJv9V6r0Zx+UtWrT80T9bTXaKpt877XfWcJv3FKiVlsH98U3vUqnyZ9d0zfn5av8ic3vcuPp5Pr0wfxftZuN3evzdEVbRznLHp8MT5p6Z3bXHe4Z0x6unv3tmLdXVN6MT5lHatrfBDqh0rjzCup7R4btSrah/GY7V6W7zR/NJ0YbXvv7t5s8X1zeDLt7Oe76h5TL8vvPO8kf7lrPuQu9Zx6YuTNs2pz2rktmDk+G19Wq04rX5l2b2rnpumSq9GsRHrDh7I29M47AqvmRe9seoz9mX8x7vVurlvtqfr+wu190j/s7e2a1avqTVHkjLfv79RJGXC+U8+q6ulUdcyHy/7u+HOftG7uC0ZFezgrXXZn5XFDffvQuHXbbpF2L5qt3Ofx+1K/yozGu1a3feqodHd/0ipYLG9Vd4cfpze30643Oe58aLJbo9Uyxe659tm2q+Va82Ta2LdqpdPTTr/Y+ayaTq9827ioiasO6dZajUavUzw2S5d7n7TZUO3AnX58u6dedLBKTpu22n1onZufhVlpvDfPz3vHjRG9KJN246bZaGs051oedxnYhvu5dZx/yI/6RtMQ1uwt6+q47XeN3JnTaZ1VGrp69/Gji4Xf/+zoOqa1gvFQK32gt3cV1/Eq5/xTs0+9jjM56RT71/1iu1XQGhfG1W7X5m6n1PanZWzeVfbpZ9I/s91r1uj2iH7qkfH1Xafp5K/b3qjfvy8XKtfX/lQFjjIoeH8Q6Z3ArHdkyvwD/iy8H+vchQp46ZLBq4miKFsgXoc++zvg2j6HtoIxftD2hB0Z4AbzYBpKh41R/JEFXPCKS/cFsKhxkms+hAeJQnaCsn3CU0wFYnhCTSy4pwBmd8ixpytTjwpyRe5FeolLVhQhruUkH1J8OrXSJsoZPlC5og6BfjI9f+TZOOcRB3q+jaOPr1Ehl8sFlRQEX6ha08HAI5nuSi+YWjInRz3zCCafPVLoFWpjakNgExxJ4J+CyAbVJoPuBKIxBZ0RrMtWdndVd9F7xDMvEbItRkF4PEzFiqo64iNbs6Ckru6XZfWTK6JCtaoUaqVaIb9fLaM9KH9A2KRqUg5nUxHy6J0jPpBdnwsBcJj+31DmjqM0lgoS/pDfpxKRRLUBbIZ1AUgYHI7TjU3poyIRxfvsNU7jiT919LMtpBYBYjtcbHOtdUwdmYTd4ntlAJkGrNgj4C2MeEGBqGgWp8CLg11lTij86MtpiJb+c7EaKWmF0s68INyJL8ulgT2x48upjWY1XqGntkBvB119LgGdvbovVA8m4UfEfR19mbWVy0qxms/Vis/ZWn6rrX2NaX0vk/oOptIMNtLbLGU5iNpBnDVl4Drc+cLIHbweZnbQYkp2mPp1Z7Lze2p5rYutOvr5bszFQQAQfj1AG6M+KOaCeAX50ILvkXKO4tL9rSw+kjTp8Ww+0svlCoWyAXY5iQQ4DI9S/TC1eJvTCuVyuVas4RzBpVylOswXi8QoVY1qZVisVHNrrCW96UXRKVk70oiCSh8laXHRbgaAcxDKRLGQzvxsLmPeU6Fv3n6ljl6/AOaHWaIyedYWlclXWuMLPp5QdULMjF6kn040q4/fqSOoyZ4GWuLafoGxELZ8+kdrg+XUUSZRutebN70YCqSO0N/JHL53YHpax1+ZPN1/k+f/RfJ0n7NR99/kmZA8K2Vc3se1fUyMfEkf5nG1XK4WcN7QK5A/9dpfkTwNm+N/dPp0n0+f7r/p86vT5z/GGL53YPorDaEAcYc4/o+1h8fM9lHDJpm1D51Ojv4HXcxRiw==</script> <treescope-run-here><script type=\"application/octet-stream\"> const root = ( Array.from(document.getElementsByClassName( \"treescope_out_93af14e3db334b52b6c56e1a236fc5ed\")) .filter((elt) => !elt.dataset['step0']) )[0]; root.dataset['step0'] = 1; root.defns.insertContent( this.parentNode.querySelector('script[type=\"application/octet-stream\"]'), true ); this.parentNode.remove(); </script></treescope-run-here> </div>"
      ],
      "text/plain": [
       "<IPython.core.display.HTML object>"
      ]
     },
     "metadata": {},
     "output_type": "display_data"
    },
    {
     "data": {
      "text/html": [
       "<div style=\"display:none\"> <script type=\"application/octet-stream\" >eNqVUk1v2zAM/SuCBhQO0rhJHNvJ8gFs7Qb0ssN22KEoAlmiEw2K5VFKMGPYfx+VOC6ydUN7sUzx8b0nkgulD8z5xsCSK+1qI5q3rLIVcKbVkpcW1wpKQAS1luM0TWfJTAxBTIZZXoySBMpJXuZZkWT5kK8WrhbV6cukEc4tubSGOERRIBz46sr4+TfxI36HKJpoeM2Ub2pY6son497Vxs8XNyeK80H2VotXeMxSkU7FbCqgHE1UMRJ5muZjMSpVRjbV7PUe43E2TbIkS89mS2PFf+16BHDS1jDAfTXYAgLJSdS1Z0cCLuraaCm8ttWNlR78wFGN2PGVtJUjlMAN+Hvl2JI98Jf3/5rxlzficX4SU1aitZ6k/Fa7mIQ/U/jJKoh6c9Yaohe1oBYef98DNl/AgPQWIx53j16HNP+r9NbQwIJIG8cyXBxlPO6B8F0GgUYs4av22+iivCMtUWx2ULV+9uE3ltRBD3dt+LFFhDec0TH1HSp1u9VGdcQhb5FFBjzTxDec07F4GkFsoNr4Ld32+z32kwXcKUngjpnCDwbC7/vmnsjP1Q/6kQRCjbN7lHBHm/zPHr4Jm8xZn/1Rfgov2tKxxaVGd9Y+vowKnrIIO3s4DvLX5SSebXIv7PNxUWmVn9ni34lKckc=</script> <treescope-run-here><script type=\"application/octet-stream\"> const root = ( Array.from(document.getElementsByClassName( \"treescope_out_93af14e3db334b52b6c56e1a236fc5ed\")) .filter((elt) => !elt.dataset['step1']) )[0]; root.dataset['step1'] = 1; root.defns.insertContent( this.parentNode.querySelector('script[type=\"application/octet-stream\"]'), true ); this.parentNode.remove(); </script></treescope-run-here> </div>"
      ],
      "text/plain": [
       "<IPython.core.display.HTML object>"
      ]
     },
     "metadata": {},
     "output_type": "display_data"
    },
    {
     "data": {
      "text/html": [
       "<treescope-run-here><script type=\"application/octet-stream\"> const root = ( Array.from(document.getElementsByClassName( \"treescope_out_93af14e3db334b52b6c56e1a236fc5ed\")) .filter((elt) => !elt.dataset.stolen) )[0]; root.dataset.stolen = 1; const temp = document.createElement(\"div\"); temp.style = \"height: 1px; width: 1px;\"; root.parentNode.insertBefore(temp, root); this.parentNode.replaceChild(root, this); temp.remove(); root.style.paddingTop = \"1px\"; </script></treescope-run-here>"
      ],
      "text/plain": [
       "Static({\n",
       "  'v': Choice(v=<jax.Array(0, dtype=int32)>),\n",
       "  'p': Choice(v=<jax.Array(0.26836365, dtype=float32)>),\n",
       "})"
      ]
     },
     "execution_count": 8,
     "metadata": {},
     "output_type": "execute_result"
    }
   ],
   "source": [
    "new_trace.get_choices()"
   ]
  },
  {
   "cell_type": "code",
   "execution_count": 9,
   "id": "31e47f3f",
   "metadata": {},
   "outputs": [
    {
     "data": {
      "text/html": [
       "<script> (()=>{ if (customElements.get('treescope-container') === undefined) { class TreescopeContainer extends HTMLElement { constructor() { super(); this.attachShadow({mode: \"open\"}); this.defns = {}; this.state = {}; } } customElements.define(\"treescope-container\", TreescopeContainer); } if (customElements.get('treescope-run-here') === undefined) { class RunHere extends HTMLElement { constructor() { super() } connectedCallback() { const run = child => { const fn = new Function(child.textContent); child.textContent = \"\"; fn.call(this); this.remove(); }; const child = this.querySelector(\"script\"); if (child) { run(child); } else { new MutationObserver(()=>{ run(this.querySelector(\"script\")); }).observe(this, {childList: true}); } } } customElements.define(\"treescope-run-here\", RunHere); } })(); </script> <treescope-container class=\"treescope_out_924724760b59430fab68a726646bbed8\" style=\"display:block\"></treescope-container> <treescope-run-here><script type=\"application/octet-stream\"> const root = ( Array.from(document.getElementsByClassName( \"treescope_out_924724760b59430fab68a726646bbed8\")) .filter((elt) => !elt.dataset.setup) )[0]; root.dataset.setup = 1; const msg = document.createElement(\"span\"); msg.style = \"color: #cccccc; font-family: monospace;\"; msg.textContent = \"(Loading...)\"; root.state.loadingMsg = msg; root.shadowRoot.appendChild(msg); root.state.chain = new Promise((resolve, reject) => { const observer = new IntersectionObserver((entries) => { for (const entry of entries) { if (entry.isIntersecting) { resolve(); observer.disconnect(); return; } } }, {rootMargin: \"1000px\"}); window.setTimeout(() => { observer.observe(root); }, 0); }); root.state.deferring = false; const _insertNode = (node) => { for (let oldScript of node.querySelectorAll(\"script\")) { let newScript = document.createElement(\"script\"); newScript.type = oldScript.type; newScript.textContent = oldScript.textContent; oldScript.parentNode.replaceChild(newScript, oldScript); } if (root.state.loadingMsg) { root.state.loadingMsg.remove(); root.state.loadingMsg = null; } root.shadowRoot.appendChild(node); }; root.defns.insertContent = ((contentNode, compressed) => { if (compressed) { root.state.deferring = true; } if (root.state.deferring) { root.state.chain = (async () => { await root.state.chain; if (compressed) { const encoded = contentNode.textContent; const blob = new Blob([ Uint8Array.from(atob(encoded), (m) => m.codePointAt(0)) ]); const reader = blob.stream().pipeThrough( new DecompressionStream(\"deflate\") ).pipeThrough( new TextDecoderStream(\"utf-8\") ).getReader(); const parts = []; while (true) { const step = await reader.read(); if (step.done) { break; } parts.push(step.value); } const tpl = document.createElement('template'); tpl.innerHTML = parts.join(\"\"); _insertNode(tpl.content); } else { _insertNode(contentNode.content); } })(); } else { _insertNode(contentNode.content); } }); </script></treescope-run-here><div style=\"display:none\"> <script type=\"application/octet-stream\" >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</script> <treescope-run-here><script type=\"application/octet-stream\"> const root = ( Array.from(document.getElementsByClassName( \"treescope_out_924724760b59430fab68a726646bbed8\")) .filter((elt) => !elt.dataset['step0']) )[0]; root.dataset['step0'] = 1; root.defns.insertContent( this.parentNode.querySelector('script[type=\"application/octet-stream\"]'), true ); this.parentNode.remove(); </script></treescope-run-here> </div>"
      ],
      "text/plain": [
       "<IPython.core.display.HTML object>"
      ]
     },
     "metadata": {},
     "output_type": "display_data"
    },
    {
     "data": {
      "text/html": [
       "<div style=\"display:none\"> <script type=\"application/octet-stream\" >eNqVUllr20AQ/ivLFoKNY8XWEVn1AW3SQl760Bb6EILZY2RvWWvV3bWpCP3vnbVkBbcJJC+SRvMdcy2kOhDnGw1LKpWrNWvek8pUQImSS1oau5ZQgrUg1wkkGc+5EJzLFIqEyUKUKZ8UOZcsLjhdLVzNqvZJhGbOLakwGjUY5xYOdHWh/fwn+x19sJY1g/EkmmbTOM+y2SWRvqlhWWrDfBIPLzZ+vrhq5U4vLHW1eEO9IMo4m7IZK+JpmqfF7HoWX2d5liQpT3NZvLne73YPp0K5MfrlKr0FcMLUMLb7arwFC+girKo9ObIpq2utBPPKVFdGePBjhxy2oythKocoZjfg76QjS3JPX7+CS0Jf3//DvDWTRlhjPFr5rXIRGn/F8IuRMBjOSVcQdtSBOnj0aw+2+QYahDd2QKO+6XVI0/+oNxr3FEy6OBLhx9HG42QR32cs4GYF/FB+Ozij96KlZZsdVF09+/AZCZygh9su/NwhQg8ndIRzh0rebJWWvXDIG0sGGjxRqDeZ42vxtIJIQ7XxW/w7Gg3JIwm4NongXhnDTxrC58fmDsVP7Hv1gAaB48zeCrjFA35xhu/CAVMyIv/Q2/BsLL1aVCrrTt7HzpDwlLWwM4fjIv+cb+LZIQ/DPR8PFU/5mSv+C0QkdP0=</script> <treescope-run-here><script type=\"application/octet-stream\"> const root = ( Array.from(document.getElementsByClassName( \"treescope_out_924724760b59430fab68a726646bbed8\")) .filter((elt) => !elt.dataset['step1']) )[0]; root.dataset['step1'] = 1; root.defns.insertContent( this.parentNode.querySelector('script[type=\"application/octet-stream\"]'), true ); this.parentNode.remove(); </script></treescope-run-here> </div>"
      ],
      "text/plain": [
       "<IPython.core.display.HTML object>"
      ]
     },
     "metadata": {},
     "output_type": "display_data"
    },
    {
     "data": {
      "text/html": [
       "<treescope-run-here><script type=\"application/octet-stream\"> const root = ( Array.from(document.getElementsByClassName( \"treescope_out_924724760b59430fab68a726646bbed8\")) .filter((elt) => !elt.dataset.stolen) )[0]; root.dataset.stolen = 1; const temp = document.createElement(\"div\"); temp.style = \"height: 1px; width: 1px;\"; root.parentNode.insertBefore(temp, root); this.parentNode.replaceChild(root, this); temp.remove(); root.style.paddingTop = \"1px\"; </script></treescope-run-here>"
      ],
      "text/plain": [
       "(<jax.Array(-0.15127558, dtype=float32)>, <jax.Array(True, dtype=bool)>)"
      ]
     },
     "execution_count": 9,
     "metadata": {},
     "output_type": "execute_result"
    }
   ],
   "source": [
    "weight_diff, old_trace.get_score() + weight_diff == new_trace.get_score()"
   ]
  },
  {
   "cell_type": "code",
   "execution_count": 10,
   "id": "e643e656",
   "metadata": {},
   "outputs": [
    {
     "data": {
      "text/html": [
       "<script> (()=>{ if (customElements.get('treescope-container') === undefined) { class TreescopeContainer extends HTMLElement { constructor() { super(); this.attachShadow({mode: \"open\"}); this.defns = {}; this.state = {}; } } customElements.define(\"treescope-container\", TreescopeContainer); } if (customElements.get('treescope-run-here') === undefined) { class RunHere extends HTMLElement { constructor() { super() } connectedCallback() { const run = child => { const fn = new Function(child.textContent); child.textContent = \"\"; fn.call(this); this.remove(); }; const child = this.querySelector(\"script\"); if (child) { run(child); } else { new MutationObserver(()=>{ run(this.querySelector(\"script\")); }).observe(this, {childList: true}); } } } customElements.define(\"treescope-run-here\", RunHere); } })(); </script> <treescope-container class=\"treescope_out_c2c96e47c89240ed805aac4930a2e37f\" style=\"display:block\"></treescope-container> <treescope-run-here><script type=\"application/octet-stream\"> const root = ( Array.from(document.getElementsByClassName( \"treescope_out_c2c96e47c89240ed805aac4930a2e37f\")) .filter((elt) => !elt.dataset.setup) )[0]; root.dataset.setup = 1; const msg = document.createElement(\"span\"); msg.style = \"color: #cccccc; font-family: monospace;\"; msg.textContent = \"(Loading...)\"; root.state.loadingMsg = msg; root.shadowRoot.appendChild(msg); root.state.chain = new Promise((resolve, reject) => { const observer = new IntersectionObserver((entries) => { for (const entry of entries) { if (entry.isIntersecting) { resolve(); observer.disconnect(); return; } } }, {rootMargin: \"1000px\"}); window.setTimeout(() => { observer.observe(root); }, 0); }); root.state.deferring = false; const _insertNode = (node) => { for (let oldScript of node.querySelectorAll(\"script\")) { let newScript = document.createElement(\"script\"); newScript.type = oldScript.type; newScript.textContent = oldScript.textContent; oldScript.parentNode.replaceChild(newScript, oldScript); } if (root.state.loadingMsg) { root.state.loadingMsg.remove(); root.state.loadingMsg = null; } root.shadowRoot.appendChild(node); }; root.defns.insertContent = ((contentNode, compressed) => { if (compressed) { root.state.deferring = true; } if (root.state.deferring) { root.state.chain = (async () => { await root.state.chain; if (compressed) { const encoded = contentNode.textContent; const blob = new Blob([ Uint8Array.from(atob(encoded), (m) => m.codePointAt(0)) ]); const reader = blob.stream().pipeThrough( new DecompressionStream(\"deflate\") ).pipeThrough( new TextDecoderStream(\"utf-8\") ).getReader(); const parts = []; while (true) { const step = await reader.read(); if (step.done) { break; } parts.push(step.value); } const tpl = document.createElement('template'); tpl.innerHTML = parts.join(\"\"); _insertNode(tpl.content); } else { _insertNode(contentNode.content); } })(); } else { _insertNode(contentNode.content); } }); </script></treescope-run-here><div style=\"display:none\"> <script type=\"application/octet-stream\" >eNqNVE1v2zAM/SuChzUOMLtp+rk4DtDLsMOww3bYYRgCxaZjrgrlSUzTbOh/H2U7WT/SYvDB9hP5+EiRnHreGpil7AB8YRuYO2tZ/VGN9choaaIcGM14C5mqLHFS6RWa7UStLFnf6ELwTY0MSfszUY0TxKDnpKVOeNsISpYEXujiZunsmsqksMa6Seeaqf5vYcRA+LDkeqIqZDEjBuJMrZCSHj8Zjd4Kl71LPP5GWoqfdSW4RKBMNbosBUwMVDxR46IOagiSGnBZC3KSnod4xBoluT1//5HcoscFGmRJUa/Z7m0TJHZIHosQFrrTPq/76XFXx+m+jolbk8R0gvnCYcMqFCIf6KYxWOhQ2mNbMIQyOdCrwSyOh/lMKi/xPKsSKvIqV1yjT5fAX+RaPtsS4mFaW89pey6pAat5AxRSvi4Ca3D6/uPQyUdNpQE5prUxWRchFZlfrSVB4411N0P1UIP9JlA4egQzFgFswFXWrTQVkJLdxMO2ESRA/OxEJZ3TVJ2Oh8KDlYqfqE4N0JJrledqFExele6A146k7gqMh3/C6jUFZU+pfY0VB32tQfi4l+eFCLG0H5V2kzr4tQbP14Sr9ro+OL2CuKvJMHBkzwI1a193ZcwO5LgLkXdpvJLl/2sIKrqLZLtcmm585+2ISbc2gSsgYPidgltp8P4mg7r2P72BbSh65KIgqDdOC6O9/yRT3PPG0Z5zvpI2jHbB74dST2n/tsdn0+NDA1DirWoJ8+jxnokU64VkCnd5NIpkdB0/N7EkEqUYJEevDcPhCsTBZ5d7JMPY7TvxAOegnDeycqC2RvZH20ftHnqjL8PTb7zWZaKQtUyuZJxuaqC5XiyCR4leKLa7DXevJuil4Q/bIIVV9MCKROoLRPuVInuVFJZ5tNd8qavzcxiVFydXF2f68kRfnS3OTuH9+ALGpzA6j3qnvuaHco1mR4azh2aDnZbB7Ke+S6+d01slIsTiEd1gn1lruDOpjNV8Oo6HR0vOdm67lzTA7C+j/kCB</script> <treescope-run-here><script type=\"application/octet-stream\"> const root = ( Array.from(document.getElementsByClassName( \"treescope_out_c2c96e47c89240ed805aac4930a2e37f\")) .filter((elt) => !elt.dataset['step0']) )[0]; root.dataset['step0'] = 1; root.defns.insertContent( this.parentNode.querySelector('script[type=\"application/octet-stream\"]'), true ); this.parentNode.remove(); </script></treescope-run-here> </div>"
      ],
      "text/plain": [
       "<IPython.core.display.HTML object>"
      ]
     },
     "metadata": {},
     "output_type": "display_data"
    },
    {
     "data": {
      "text/html": [
       "<div style=\"display:none\"> <script type=\"application/octet-stream\" >eNqNUlFv2jAQ/iuWK1UghksDBFog0tZuUl/2sD3soaqQsS/Ek4mzs0GLpv73nUNIx9ZJfUl8vu/7zvfdLbU5MB9qCyuuja+srG9Z6UrgzOgVzx2uNeSACHo9k/l0CiOdXs/TiZxdy/lkMxnDTZJCMobRlGdLX8mSvlEvE8pZosvNBuHAfrEmvGUX6TyRo9GCPS+vjsCGxZSV3q/4nySeXdqw+C5/iveIsu4NR2IynabJbP6O6VBXsMqtk2Gc9C+3YUFyTfXTjzrLlgEBvHIVDHFfDgvAWE6hqQJrBLisKmuUDMaVV04FCENPHLnjmXKlJ5TELYQH7dmKPfK3e/G0OPK1U+hcIHYojBek9YXCz05Dr79gbQ16ZAtq4eLHHrD+ChZUcNjjoutjHdP8H+qdpZnFIm0sVLxoygTcA+G7DAJNWcE3E4reGb0TzVFud1C279nHo1BkSoD7NvzUImIPJ7QgK6HUd4WxuhOOeYesZyEwQ3o0d8OWL64KC+U2FHQ7GPRpSSLumCRwp0zhRwvx+KF+IPET+9E8UYHI8W6PCu5pmf/r4UVcZs4G7C/6MTyzpVMTuUF/qt10RoSXLMLOHZpBPp9P4lWT+3FFm92j7XxlMX8DIko+8A==</script> <treescope-run-here><script type=\"application/octet-stream\"> const root = ( Array.from(document.getElementsByClassName( \"treescope_out_c2c96e47c89240ed805aac4930a2e37f\")) .filter((elt) => !elt.dataset['step1']) )[0]; root.dataset['step1'] = 1; root.defns.insertContent( this.parentNode.querySelector('script[type=\"application/octet-stream\"]'), true ); this.parentNode.remove(); </script></treescope-run-here> </div>"
      ],
      "text/plain": [
       "<IPython.core.display.HTML object>"
      ]
     },
     "metadata": {},
     "output_type": "display_data"
    },
    {
     "data": {
      "text/html": [
       "<treescope-run-here><script type=\"application/octet-stream\"> const root = ( Array.from(document.getElementsByClassName( \"treescope_out_c2c96e47c89240ed805aac4930a2e37f\")) .filter((elt) => !elt.dataset.stolen) )[0]; root.dataset.stolen = 1; const temp = document.createElement(\"div\"); temp.style = \"height: 1px; width: 1px;\"; root.parentNode.insertBefore(temp, root); this.parentNode.replaceChild(root, this); temp.remove(); root.style.paddingTop = \"1px\"; </script></treescope-run-here>"
      ],
      "text/plain": [
       "<jax.Array(-0.4556278, dtype=float32)>"
      ]
     },
     "execution_count": 10,
     "metadata": {},
     "output_type": "execute_result"
    }
   ],
   "source": [
    "old_trace.get_score()"
   ]
  },
  {
   "cell_type": "code",
   "execution_count": 11,
   "id": "03c6eeed",
   "metadata": {},
   "outputs": [
    {
     "data": {
      "text/html": [
       "<script> (()=>{ if (customElements.get('treescope-container') === undefined) { class TreescopeContainer extends HTMLElement { constructor() { super(); this.attachShadow({mode: \"open\"}); this.defns = {}; this.state = {}; } } customElements.define(\"treescope-container\", TreescopeContainer); } if (customElements.get('treescope-run-here') === undefined) { class RunHere extends HTMLElement { constructor() { super() } connectedCallback() { const run = child => { const fn = new Function(child.textContent); child.textContent = \"\"; fn.call(this); this.remove(); }; const child = this.querySelector(\"script\"); if (child) { run(child); } else { new MutationObserver(()=>{ run(this.querySelector(\"script\")); }).observe(this, {childList: true}); } } } customElements.define(\"treescope-run-here\", RunHere); } })(); </script> <treescope-container class=\"treescope_out_94bdc4d8122c428c87041a60249438b3\" style=\"display:block\"></treescope-container> <treescope-run-here><script type=\"application/octet-stream\"> const root = ( Array.from(document.getElementsByClassName( \"treescope_out_94bdc4d8122c428c87041a60249438b3\")) .filter((elt) => !elt.dataset.setup) )[0]; root.dataset.setup = 1; const msg = document.createElement(\"span\"); msg.style = \"color: #cccccc; font-family: monospace;\"; msg.textContent = \"(Loading...)\"; root.state.loadingMsg = msg; root.shadowRoot.appendChild(msg); root.state.chain = new Promise((resolve, reject) => { const observer = new IntersectionObserver((entries) => { for (const entry of entries) { if (entry.isIntersecting) { resolve(); observer.disconnect(); return; } } }, {rootMargin: \"1000px\"}); window.setTimeout(() => { observer.observe(root); }, 0); }); root.state.deferring = false; const _insertNode = (node) => { for (let oldScript of node.querySelectorAll(\"script\")) { let newScript = document.createElement(\"script\"); newScript.type = oldScript.type; newScript.textContent = oldScript.textContent; oldScript.parentNode.replaceChild(newScript, oldScript); } if (root.state.loadingMsg) { root.state.loadingMsg.remove(); root.state.loadingMsg = null; } root.shadowRoot.appendChild(node); }; root.defns.insertContent = ((contentNode, compressed) => { if (compressed) { root.state.deferring = true; } if (root.state.deferring) { root.state.chain = (async () => { await root.state.chain; if (compressed) { const encoded = contentNode.textContent; const blob = new Blob([ Uint8Array.from(atob(encoded), (m) => m.codePointAt(0)) ]); const reader = blob.stream().pipeThrough( new DecompressionStream(\"deflate\") ).pipeThrough( new TextDecoderStream(\"utf-8\") ).getReader(); const parts = []; while (true) { const step = await reader.read(); if (step.done) { break; } parts.push(step.value); } const tpl = document.createElement('template'); tpl.innerHTML = parts.join(\"\"); _insertNode(tpl.content); } else { _insertNode(contentNode.content); } })(); } else { _insertNode(contentNode.content); } }); </script></treescope-run-here><div style=\"display:none\"> <script type=\"application/octet-stream\" >eNqNVN9v00AM/ldOQdBUIlm7jY01TaW9IB4QD/DAA0LVNXEas6sv3LnrCur/ji9Jy350E8pDku/sz599tqeetwZmKTsAX9gG5s5aVn9UYz0yWpooB0Yz3kKmKkucVHqFZjtRK0vWN7oQfFMjQ9L+TFTjBDHoOWmpE942gpIlgRe6uFk6u6YyKayxbtK5Zqr/WxgxED4suZ6oClnMiIE4UyukpMfHo9Fr4bJ3icffSEvxs64ElwiUqUaXpYCJgYon6rSogxqCpAZc1oKM03chHrFGSe7A338kt+hxgQZZUtRrtgfbBIkdkscihIXutM9rNz3p6jg91DFxa5KYTjBfOGxYhULkA900BgsdSntiC4ZQJgd6NZjF8TCfSeUlnmdVQkVe5Ypr9OkS+Itcy2dbQjxMa+s5bc8lNWA1b4BCytdFYA1O338cO/moqTQgx7Q2JusipCLzq7UkaLyx7mao7muw3wQKRw9gxiKADbjKupWmAlKym3jYNoIEiJ+cqKRzmqqz06HwYKXiR6pTA7TkWuW5GgWTF6U74LUjqbsC4+GfsHpNQdljal9jxUFfaxA+dvI8EyGW9qPSblIHv9bg+Zpw1V7XB6dXEHc1GQaO7EmgZu3rrozZkRz3IfIujRey/H8NQUV3kWyXS9ON77wdMenWJnAFBAy/VXArDd7fZFDX/qc3sA1Fj1wUBPXGaWG0959kinveODpwzlfShtE++G4o9ZT2b3t8Nj05NgAl3qqWMI8e7plIsV5IpnCXR6NIRtfxUxNLIlGKQXL00jAcr0AcfPa5RzKM3b4TD3AOynkjKwdqa2R/tH3U7qFX+jI8/cZrXSYKWcvkSsbppgaa68UieJTohWK733A7NUEvDX/cBimsontWJFKfITqsFNmrpLDMo4Pmq/GlPtOjKz2+gnN9dbEox+8LGF1cwMXovDo/j3qnvubHco1mbwxn980Gey2D2U99l147p7dKRIjFA7rBIbPWcG9SGav57DQevllytnfbv6QBZn8BwEtAsQ==</script> <treescope-run-here><script type=\"application/octet-stream\"> const root = ( Array.from(document.getElementsByClassName( \"treescope_out_94bdc4d8122c428c87041a60249438b3\")) .filter((elt) => !elt.dataset['step0']) )[0]; root.dataset['step0'] = 1; root.defns.insertContent( this.parentNode.querySelector('script[type=\"application/octet-stream\"]'), true ); this.parentNode.remove(); </script></treescope-run-here> </div>"
      ],
      "text/plain": [
       "<IPython.core.display.HTML object>"
      ]
     },
     "metadata": {},
     "output_type": "display_data"
    },
    {
     "data": {
      "text/html": [
       "<div style=\"display:none\"> <script type=\"application/octet-stream\" >eNqNUsFu2zAM/RVBBYoEWVSnMby6iQ1s7Qb0ssN22KEoAkWiEw2K5VFKMGPov49yHHfZOmAXWxTfexQfudTmwHxoLRRcG99Y2d6y2tXAmdEFrxyuNFSACHqVz97KuUxyOcshlXm21rMbBUmWQZakVZrycukbWdM36pVCOUt0uV4jHNhP1oW37CK7uZZJsmDPy6sjsGMxZaX3Bf+dxMtLGxbf5A/xDlG2o2kisiTLk3n6hunQNlBU1skwvx5fbsKC5Lrqpx91Vi4DAnjlGpjivp5uAWM5haYJrBPgsmmsUTIYV185FSBMPXHkjpfK1Z5QEjcQHrRnBXvk/+/F0+LI106hc4HYYWu8IK3PFH5yGkbjBetr0CN7UA8X3/eA7RewoILDERdDH6uY5n9R7yzNLBbpY6HiRVcm4B4IP2QQaMoKvpqwHZ3RB9EK5WYHdf+efTwKRaYEuO/Djz0i9nBCC7ISan23NVYPwjHvkI0sBGZIj+Zu2PLFVWGh3oQt3U4mY1qSiDsmCTwoU/jBQjy+bx9I/MR+NE9UIHK826OCe1rmf3p4EZeZswn7g34Mz2wZ1ERl0J9qd50R4SWLsHOHbpDP55N41eRxXNFu92g7X1nMXw9FP0c=</script> <treescope-run-here><script type=\"application/octet-stream\"> const root = ( Array.from(document.getElementsByClassName( \"treescope_out_94bdc4d8122c428c87041a60249438b3\")) .filter((elt) => !elt.dataset['step1']) )[0]; root.dataset['step1'] = 1; root.defns.insertContent( this.parentNode.querySelector('script[type=\"application/octet-stream\"]'), true ); this.parentNode.remove(); </script></treescope-run-here> </div>"
      ],
      "text/plain": [
       "<IPython.core.display.HTML object>"
      ]
     },
     "metadata": {},
     "output_type": "display_data"
    },
    {
     "data": {
      "text/html": [
       "<treescope-run-here><script type=\"application/octet-stream\"> const root = ( Array.from(document.getElementsByClassName( \"treescope_out_94bdc4d8122c428c87041a60249438b3\")) .filter((elt) => !elt.dataset.stolen) )[0]; root.dataset.stolen = 1; const temp = document.createElement(\"div\"); temp.style = \"height: 1px; width: 1px;\"; root.parentNode.insertBefore(temp, root); this.parentNode.replaceChild(root, this); temp.remove(); root.style.paddingTop = \"1px\"; </script></treescope-run-here>"
      ],
      "text/plain": [
       "<jax.Array(-0.6069034, dtype=float32)>"
      ]
     },
     "execution_count": 11,
     "metadata": {},
     "output_type": "execute_result"
    }
   ],
   "source": [
    "new_trace.get_score()"
   ]
  },
  {
   "cell_type": "code",
   "execution_count": null,
   "id": "d7857e7a",
   "metadata": {},
   "outputs": [],
   "source": []
  }
 ],
 "metadata": {
  "kernelspec": {
   "display_name": "Python 3 (ipykernel)",
   "language": "python",
   "name": "python3"
  },
  "language_info": {
   "codemirror_mode": {
    "name": "ipython",
    "version": 3
   },
   "file_extension": ".py",
   "mimetype": "text/x-python",
   "name": "python",
   "nbconvert_exporter": "python",
   "pygments_lexer": "ipython3",
   "version": "3.12.11"
  }
 },
 "nbformat": 4,
 "nbformat_minor": 5
}
