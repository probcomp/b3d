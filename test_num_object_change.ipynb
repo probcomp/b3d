{
 "cells": [
  {
   "cell_type": "code",
   "execution_count": null,
   "metadata": {},
   "outputs": [],
   "source": [
    "import io\n",
    "import numpy as np\n",
    "from PIL import Image\n",
    "import h5py\n",
    "import os\n",
    "import matplotlib.pyplot as plt\n",
    "import argparse\n",
    "from os.path import isfile, join\n",
    "from os import listdir\n",
    "import json\n",
    "\n",
    "\n",
    "parser = argparse.ArgumentParser(description='Download all stimuli from S3.')\n",
    "parser.add_argument('--scenario', type=str, default='Dominoes', help='name of the scenarios')\n",
    "args = parser.parse_args()\n",
    "scenario = args.scenario\n",
    "print(scenario)\n",
    "\n",
    "source_path = '/ccn2/u/rmvenkat/data/testing_physion/regenerate_from_old_commit/test_humans_consolidated/lf_0/'\n",
    "save_path = '/ccn2/u/haw027/b3d_ipe/num_obj'\n",
    "scenario_path = join(source_path, scenario+'_all_movies')\n",
    "onlyhdf5 = [f for f in listdir(scenario_path) if isfile(join(scenario_path, f)) and join(scenario_path, f).endswith('.hdf5')]\n",
    "\n",
    "all_data = {}\n",
    "# fig = plt.figure()\n",
    "for hdf5_file in onlyhdf5:\n",
    "    trial_name = hdf5_file[:-5]\n",
    "    print('\\t', trial_name)\n",
    "    hdf5_file_path = join(scenario_path, hdf5_file)\n",
    "    num_objs = []\n",
    "    with h5py.File(hdf5_file_path, \"r\") as f:\n",
    "        im_seg = np.array(Image.open(io.BytesIO(f['frames']['0000']['images']['_id_cam0'][:])))\n",
    "        counter = np.unique(im_seg.reshape(-1, im_seg.shape[2]), axis=0)\n",
    "        init_num = counter.shape[0]-1\n",
    "        for key in f['frames'].keys():\n",
    "            im_seg = np.array(Image.open(io.BytesIO(f['frames'][key]['images']['_id_cam0'][:])))\n",
    "            counter = np.unique(im_seg.reshape(-1, im_seg.shape[2]), axis=0)\n",
    "            num = counter.shape[0]-1-init_num\n",
    "            num_objs.append(num)\n",
    "    # plt.plot(range(len(num_objs)), num_objs)\n",
    "    all_data[trial_name] = num_objs\n",
    "\n",
    "# plt.xlabel(\"frame\")\n",
    "# plt.ylabel(\"num obj\")\n",
    "# plt.title(\"num obj over time\")\n",
    "# fig.savefig(join(save_path, f'{scenario}.png'))\n",
    "with open(f'/ccn2/u/haw027/b3d_ipe/num_obj/{scenario}.json', \"w\") as f:\n",
    "    json.dump(all_data, f)"
   ]
  },
  {
   "cell_type": "code",
   "execution_count": null,
   "metadata": {},
   "outputs": [],
   "source": []
  }
 ],
 "metadata": {
  "kernelspec": {
   "display_name": "gpu",
   "language": "python",
   "name": "python3"
  },
  "language_info": {
   "codemirror_mode": {
    "name": "ipython",
    "version": 3
   },
   "file_extension": ".py",
   "mimetype": "text/x-python",
   "name": "python",
   "nbconvert_exporter": "python",
   "pygments_lexer": "ipython3",
   "version": "3.1.undefined"
  }
 },
 "nbformat": 4,
 "nbformat_minor": 2
}
