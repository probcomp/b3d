{
 "cells": [
  {
   "cell_type": "code",
   "execution_count": 1,
   "metadata": {},
   "outputs": [],
   "source": [
    "import os\n",
    "import io\n",
    "import trimesh\n",
    "import b3d\n",
    "import genjax\n",
    "import jax\n",
    "import b3d.bayes3d as bayes3d\n",
    "import jax.numpy as jnp\n",
    "import numpy as np\n",
    "import rerun as rr\n",
    "from PIL import Image\n",
    "import matplotlib.pyplot as plt\n",
    "import h5py\n",
    "from tqdm import tqdm\n",
    "from genjax import Pytree\n",
    "import b3d.chisight.dense.dense_model\n",
    "import b3d.chisight.dense.likelihoods.laplace_likelihood\n",
    "genjax.pretty()\n",
    "# from genjax._src.core.serialization.msgpack import msgpack_serialize"
   ]
  },
  {
   "cell_type": "markdown",
   "metadata": {},
   "source": [
    "## define helper functions"
   ]
  },
  {
   "cell_type": "code",
   "execution_count": 2,
   "metadata": {},
   "outputs": [],
   "source": [
    "def scale_mesh(vertices, scale_factor):\n",
    "    vertices[:, 0] *= scale_factor[0]\n",
    "    vertices[:, 1] *= scale_factor[1]\n",
    "    vertices[:, 2] *= scale_factor[2]\n",
    "    return vertices\n",
    "\n",
    "def euler_angles_to_quaternion(euler: np.ndarray) -> np.ndarray:\n",
    "    \"\"\"\n",
    "    Convert Euler angles to a quaternion.\n",
    "\n",
    "    Source: https://pastebin.com/riRLRvch\n",
    "\n",
    "    :param euler: The Euler angles vector.\n",
    "\n",
    "    :return: The quaternion representation of the Euler angles.\n",
    "    \"\"\"\n",
    "    pitch = np.radians(euler[0] * 0.5)\n",
    "    cp = np.cos(pitch)\n",
    "    sp = np.sin(pitch)\n",
    "\n",
    "    yaw = np.radians(euler[1] * 0.5)\n",
    "    cy = np.cos(yaw)\n",
    "    sy = np.sin(yaw)\n",
    "\n",
    "    roll = np.radians(euler[2] * 0.5)\n",
    "    cr = np.cos(roll)\n",
    "    sr = np.sin(roll)\n",
    "\n",
    "    x = sy * cp * sr + cy * sp * cr\n",
    "    y = sy * cp * cr - cy * sp * sr\n",
    "    z = cy * cp * sr - sy * sp * cr\n",
    "    w = cy * cp * cr + sy * sp * sr\n",
    "    return np.array([x, y, z, w])\n",
    "\n",
    "def get_mask_area(color, seg_img):\n",
    "    arr = seg_img == color\n",
    "    arr = arr.min(-1).astype('float')\n",
    "    arr = arr.reshape((arr.shape[-1], arr.shape[-1]))\n",
    "    return arr.astype(bool)\n",
    "\n",
    "def unproject_pixels(mask, depth_map, cam_matrix, fx, fy, vfov=54.43222, near_plane=0.1, far_plane=100):\n",
    "    '''\n",
    "    pts: [N, 2] pixel coords\n",
    "    depth: [N, ] depth values\n",
    "    returns: [N, 3] world coords\n",
    "    '''\n",
    "    depth = depth_map[mask]\n",
    "    pts = np.array([[x,y] for x,y in zip(np.nonzero(mask)[0], np.nonzero(mask)[1])])\n",
    "    camera_matrix = np.linalg.inv(cam_matrix.reshape((4, 4)))\n",
    "\n",
    "    # Different from real-world camera coordinate system.\n",
    "    # OpenGL uses negative z axis as the camera front direction.\n",
    "    # x axes are same, hence y axis is reversed as well.\n",
    "    # Source: https://learnopengl.com/Getting-started/Camera\n",
    "    rot = np.array([[1, 0, 0, 0],\n",
    "                    [0, -1, 0, 0],\n",
    "                    [0, 0, -1, 0],\n",
    "                    [0, 0, 0, 1]])\n",
    "    camera_matrix = np.dot(camera_matrix, rot)\n",
    "\n",
    "\n",
    "    height = depth_map.shape[0]\n",
    "    width = depth_map.shape[1]\n",
    "\n",
    "    img_pixs = pts[:, [1, 0]].T\n",
    "    img_pix_ones = np.concatenate((img_pixs, np.ones((1, img_pixs.shape[1]))))\n",
    "\n",
    "    # Calculate the intrinsic matrix from vertical_fov.\n",
    "    # Motice that hfov and vfov are different if height != width\n",
    "    # We can also get the intrinsic matrix from opengl's perspective matrix.\n",
    "    # http://kgeorge.github.io/2014/03/08/calculating-opengl-perspective-matrix-from-opencv-intrinsic-matrix\n",
    "    intrinsics = np.array([[fx, 0, width/ 2.0],\n",
    "                           [0, fy, height / 2.0],\n",
    "                           [0, 0, 1]])\n",
    "    img_inv = np.linalg.inv(intrinsics[:3, :3])\n",
    "    cam_img_mat = np.dot(img_inv, img_pix_ones)\n",
    "\n",
    "    points_in_cam = np.multiply(cam_img_mat, depth.reshape(-1))\n",
    "    points_in_cam = np.concatenate((points_in_cam, np.ones((1, points_in_cam.shape[1]))), axis=0)\n",
    "    points_in_world = np.dot(camera_matrix, points_in_cam)\n",
    "    points_in_world = points_in_world[:3, :].T#.reshape(3, height, width)\n",
    "    points_in_cam = points_in_cam[:3, :].T#.reshape(3, height, width)\n",
    "    \n",
    "    return points_in_world\n",
    "\n",
    "def set_axes_equal(ax):\n",
    "    \"\"\"\n",
    "    Make axes of 3D plot have equal scale so that spheres appear as spheres,\n",
    "    cubes as cubes, etc.\n",
    "\n",
    "    Input\n",
    "      ax: a matplotlib axis, e.g., as output from plt.gca().\n",
    "    \"\"\"\n",
    "\n",
    "    x_limits = ax.get_xlim3d()\n",
    "    y_limits = ax.get_ylim3d()\n",
    "    z_limits = ax.get_zlim3d()\n",
    "\n",
    "    x_range = abs(x_limits[1] - x_limits[0])\n",
    "    x_middle = np.mean(x_limits)\n",
    "    y_range = abs(y_limits[1] - y_limits[0])\n",
    "    y_middle = np.mean(y_limits)\n",
    "    z_range = abs(z_limits[1] - z_limits[0])\n",
    "    z_middle = np.mean(z_limits)\n",
    "\n",
    "    # The plot bounding box is a sphere in the sense of the infinity\n",
    "    # norm, hence I call half the max range the plot radius.\n",
    "    plot_radius = 0.5*max([x_range, y_range, z_range])\n",
    "\n",
    "    ax.set_xlim3d([x_middle - plot_radius, x_middle + plot_radius])\n",
    "    ax.set_ylim3d([y_middle - plot_radius, y_middle + plot_radius])\n",
    "    ax.set_zlim3d([z_middle - plot_radius, z_middle + plot_radius])\n"
   ]
  },
  {
   "cell_type": "markdown",
   "metadata": {},
   "source": [
    "## load basic information from hdf5"
   ]
  },
  {
   "cell_type": "code",
   "execution_count": 3,
   "metadata": {},
   "outputs": [],
   "source": [
    "# paths for reading physion metadata\n",
    "physion_assets_path = os.path.join(\n",
    "    b3d.get_root_path(),\n",
    "    \"assets/physion/\",)\n",
    "\n",
    "# stim_name = 'lf_0/dominoes_all_movies/pilot_dominoes_0mid_d3chairs_o1plants_tdwroom_0012'\n",
    "stim_name = '0012_dominoes'\n",
    "\n",
    "hdf5_file_path = os.path.join(physion_assets_path,\n",
    "    f\"{stim_name}.hdf5\",\n",
    ")\n",
    "\n",
    "mesh_file_path = os.path.join(physion_assets_path,\n",
    "    f\"all_flex_meshes/\",\n",
    ")"
   ]
  },
  {
   "cell_type": "code",
   "execution_count": 4,
   "metadata": {},
   "outputs": [],
   "source": [
    "vfov = 54.43222 \n",
    "near_plane = 0.1\n",
    "far_plane = 100\n",
    "depth_arr = []\n",
    "image_arr = []\n",
    "with h5py.File(hdf5_file_path, \"r\") as f:\n",
    "    # extract depth info\n",
    "    for key in f['frames'].keys():\n",
    "        depth = jnp.flip(jnp.array(f['frames'][key]['images']['_depth_cam0']), 0)\n",
    "        depth_arr.append(depth)\n",
    "        image = jnp.array(Image.open(io.BytesIO(f['frames'][key]['images']['_img_cam0'][:])))\n",
    "        image_arr.append(image)\n",
    "    depth_arr = jnp.asarray(depth_arr)\n",
    "    image_arr = jnp.asarray(image_arr)/255\n",
    "    FINAL_T, height, width = image_arr.shape[0], image_arr.shape[1], image_arr.shape[2]\n",
    "\n",
    "    # extract camera info\n",
    "    camera_azimuth = np.array(f['azimuth']['cam_0'])\n",
    "    camera_matrix = np.array(f['frames']['0000']['camera_matrices']['camera_matrix_cam0']).reshape((4, 4))\n",
    "    projection_matrix = np.array(f['frames']['0000']['camera_matrices']['projection_matrix_cam0']).reshape((4, 4))\n",
    "    im_seg = np.array(Image.open(io.BytesIO(f['frames']['0000']['images']['_id_cam0'][:])))\n",
    "\n",
    "    vfov = vfov / 180.0 * np.pi\n",
    "    tan_half_vfov = np.tan(vfov / 2.0)\n",
    "    tan_half_hfov = tan_half_vfov * width / float(height)\n",
    "    fx = width / 2.0 / tan_half_hfov  # focal length in pixel space\n",
    "    fy = height / 2.0 / tan_half_vfov\n",
    "\n",
    "    # extract object info\n",
    "    object_ids = np.array(f['static']['object_ids'])\n",
    "    model_names = np.array(f['static']['model_names'])\n",
    "    assert len(object_ids) == len(model_names)\n",
    "    object_segmentation_colors = np.array(f['static']['object_segmentation_colors'])\n",
    "    initial_position = np.array(f['static']['initial_position'])\n",
    "    initial_rotation = np.array(f['static']['initial_rotation'])\n",
    "    scales = jnp.array(f['static']['scale'])"
   ]
  },
  {
   "cell_type": "code",
   "execution_count": 5,
   "metadata": {},
   "outputs": [
    {
     "name": "stdout",
     "output_type": "stream",
     "text": [
      "[[0.5       0.01      2.       ]\n",
      " [0.1       0.5       0.25     ]\n",
      " [0.1       0.4793447 0.2752273]\n",
      " [1.        1.        1.       ]\n",
      " [2.3146927 2.3146927 2.3146927]]\n"
     ]
    }
   ],
   "source": [
    "print(scales)"
   ]
  },
  {
   "cell_type": "code",
   "execution_count": 6,
   "metadata": {},
   "outputs": [
    {
     "name": "stdout",
     "output_type": "stream",
     "text": [
      "[b'cube' b'cube' b'cube' b'chair_thonet_marshall' b'vase_03']\n"
     ]
    }
   ],
   "source": [
    "print(model_names)"
   ]
  },
  {
   "cell_type": "code",
   "execution_count": 7,
   "metadata": {},
   "outputs": [
    {
     "name": "stdout",
     "output_type": "stream",
     "text": [
      "[[  0.          0.          0.       ]\n",
      " [  0.          0.          0.       ]\n",
      " [  0.         11.613795    0.       ]\n",
      " [  0.         -3.7296226   0.       ]\n",
      " [  0.        113.39555     0.       ]]\n"
     ]
    }
   ],
   "source": [
    "print(initial_rotation)"
   ]
  },
  {
   "cell_type": "markdown",
   "metadata": {},
   "source": [
    "## b3d modeling"
   ]
  },
  {
   "cell_type": "code",
   "execution_count": 8,
   "metadata": {},
   "outputs": [],
   "source": [
    "rr.init(\"demo\")\n",
    "rr.connect(\"127.0.0.1:8812\")\n",
    "rr.log(\"/\", rr.ViewCoordinates.LEFT_HAND_Y_UP, static=True)  # Set an up-axis"
   ]
  },
  {
   "cell_type": "code",
   "execution_count": 9,
   "metadata": {},
   "outputs": [],
   "source": [
    "counter = np.unique(im_seg.reshape(-1, im_seg.shape[2]), axis=0)\n",
    "num_obj = counter.shape[0]-1"
   ]
  },
  {
   "cell_type": "code",
   "execution_count": 10,
   "metadata": {},
   "outputs": [
    {
     "name": "stdout",
     "output_type": "stream",
     "text": [
      "[0.502324   0.01942078 1.9540823 ]\n",
      "[0.09917077 0.4963319  0.2503813 ]\n",
      "[0.15172005 0.4762464  0.28268576]\n",
      "[0.9909255  0.94450396 0.9329673 ]\n",
      "[2.1415155 2.1600735 1.9355137]\n"
     ]
    }
   ],
   "source": [
    "# skipping the object id inference step, assuming that we already know which segment mask corresponds to which mesh\n",
    "START_T = 0\n",
    "pose_mesh_color_scale_from_point_cloud = []\n",
    "for (model_name, color) in zip(model_names, object_segmentation_colors):\n",
    "    area = get_mask_area(im_seg, color)\n",
    "    point_cloud = jnp.asarray(unproject_pixels(area, depth_arr[START_T], camera_matrix, fx, fy))\n",
    "    point_cloud_centroid = point_cloud.mean(0)\n",
    "    point_cloud_bottom = min(point_cloud[:,1])\n",
    "    object_pose = b3d.Pose.from_translation(jnp.array([point_cloud_centroid[0], point_cloud_bottom, point_cloud_centroid[2]]))\n",
    "    object_colors = jnp.asarray(image_arr[START_T][area])\n",
    "    mean_object_colors = np.mean(object_colors, axis=0)\n",
    "    trim = trimesh.load(os.path.join(mesh_file_path, f\"{model_name.decode('UTF-8')}.obj\"))\n",
    "    bounding_box = trim.bounding_box\n",
    "    bbox_corners = bounding_box.vertices\n",
    "    original_size = jnp.array((max(bbox_corners[:,0])-min(bbox_corners[:,0]), max(bbox_corners[:,1])-min(bbox_corners[:,1]), max(bbox_corners[:,2])-min(bbox_corners[:,2])))\n",
    "    point_cloud_size = jnp.array((max(point_cloud[:,0])-min(point_cloud[:,0]), max(point_cloud[:,1])-min(point_cloud[:,1]), max(point_cloud[:,2])-min(point_cloud[:,2])))\n",
    "    object_scale = (point_cloud_size/original_size)\n",
    "    print(object_scale)\n",
    "    mesh_info = (scale_mesh(trim.vertices, object_scale), trim.faces, jnp.ones(trim.vertices.shape)*mean_object_colors)\n",
    "    pose_mesh_color_scale_from_point_cloud.append((object_pose, mesh_info))"
   ]
  },
  {
   "cell_type": "code",
   "execution_count": 11,
   "metadata": {},
   "outputs": [],
   "source": [
    "# %matplotlib widget\n",
    "\n",
    "# for idx, (_, mesh) in enumerate(pose_mesh_color_scale_from_point_cloud):\n",
    "#       fig = plt.figure()\n",
    "#       ax = fig.add_subplot(projection='3d')\n",
    "#       ax.set_box_aspect([1,1,1])\n",
    "#       ax.plot_trisurf(mesh[0][:, 0], mesh[0][:,2], mesh[0][:,1], triangles=mesh[1], color=np.mean(mesh[2], axis=0).tolist())\n",
    "#       ax.set_title(idx)\n",
    "#       set_axes_equal(ax)"
   ]
  },
  {
   "cell_type": "code",
   "execution_count": 12,
   "metadata": {},
   "outputs": [],
   "source": [
    "# all_object_poses_gt = []\n",
    "# for idx in range(len(object_ids)):\n",
    "#     object_pose = b3d.Pose(jnp.asarray(initial_position[idx]), jnp.asarray(euler_angles_to_quaternion(initial_rotation[idx])))\n",
    "#     all_object_poses_gt.append(object_pose)\n",
    "# all_object_poses_gt"
   ]
  },
  {
   "cell_type": "code",
   "execution_count": 13,
   "metadata": {},
   "outputs": [
    {
     "name": "stdout",
     "output_type": "stream",
     "text": [
      "5 objects in library\n"
     ]
    }
   ],
   "source": [
    "object_library = []\n",
    "for (_, obj) in pose_mesh_color_scale_from_point_cloud:\n",
    "    object_library.append(b3d.Mesh(obj[0], obj[1], obj[2]))\n",
    "\n",
    "print(f\"{len(object_library)} objects in library\")"
   ]
  },
  {
   "cell_type": "code",
   "execution_count": 14,
   "metadata": {},
   "outputs": [],
   "source": [
    "R = camera_matrix[:3,:3]\n",
    "T = camera_matrix[0:3, 3]\n",
    "a = np.array([-R[0,:], -R[1,:], -R[2,:]])\n",
    "b = np.array(T)\n",
    "camera_position_from_matrix = np.linalg.solve(a, b)\n",
    "camera_rotation_from_matrix = -np.transpose(R)\n",
    "camera_pose = b3d.Pose(\n",
    "    camera_position_from_matrix,\n",
    "    b3d.Rot.from_matrix(camera_rotation_from_matrix).as_quat()\n",
    ")"
   ]
  },
  {
   "cell_type": "code",
   "execution_count": 15,
   "metadata": {},
   "outputs": [
    {
     "name": "stderr",
     "output_type": "stream",
     "text": [
      "/home/hlwang_ipe_genjax/b3d/.pixi/envs/gpu/lib/python3.12/site-packages/torch/utils/cpp_extension.py:1967: UserWarning: TORCH_CUDA_ARCH_LIST is not set, all archs for visible cards are included for compilation. \n",
      "If this is not desired, please set os.environ['TORCH_CUDA_ARCH_LIST'].\n",
      "  warnings.warn(\n"
     ]
    }
   ],
   "source": [
    "# Defines the enumeration schedule.\n",
    "scaling_factor = 1.0\n",
    "renderer = b3d.renderer.renderer_original.RendererOriginal(\n",
    "    width * scaling_factor,\n",
    "    height * scaling_factor,\n",
    "    fx * scaling_factor,\n",
    "    fy * scaling_factor,\n",
    "    (width/2) * scaling_factor,\n",
    "    (height/2) * scaling_factor,\n",
    "    near_plane,\n",
    "    far_plane,\n",
    ")\n",
    "\n",
    "b3d.reload(b3d.chisight.dense.dense_model)\n",
    "b3d.reload(b3d.chisight.dense.likelihoods.laplace_likelihood)\n",
    "likelihood_func = b3d.chisight.dense.likelihoods.laplace_likelihood.likelihood_func\n",
    "model, viz_trace, info_from_trace = (\n",
    "    b3d.chisight.dense.dense_model.make_dense_multiobject_model(\n",
    "        renderer, likelihood_func\n",
    "    )\n",
    ")\n",
    "importance_jit = jax.jit(model.importance)\n",
    "\n",
    "likelihood_args = {\n",
    "    \"fx\": renderer.fx,\n",
    "    \"fy\": renderer.fy,\n",
    "    \"cx\": renderer.cx,\n",
    "    \"cy\": renderer.cy,\n",
    "    \"image_width\": Pytree.const(renderer.width),\n",
    "    \"image_height\": Pytree.const(renderer.height),\n",
    "}\n"
   ]
  },
  {
   "cell_type": "code",
   "execution_count": 16,
   "metadata": {},
   "outputs": [],
   "source": [
    "# Gridding on translation only.\n",
    "translation_deltas = b3d.Pose.concatenate_poses(\n",
    "    [\n",
    "        jax.vmap(lambda p: b3d.Pose.from_translation(p))(\n",
    "            jnp.stack(\n",
    "                jnp.meshgrid(\n",
    "                    jnp.linspace(-0.2, 0.2, 11),\n",
    "                    jnp.linspace(-0.2, 0.2, 11),\n",
    "                    jnp.linspace(-0.2, 0.2, 11),\n",
    "                ),\n",
    "                axis=-1,\n",
    "            ).reshape(-1, 3)\n",
    "        ),\n",
    "        b3d.Pose.identity()[None, ...],\n",
    "    ]\n",
    ")\n",
    "# Sample orientations from a VMF to define a \"grid\" over orientations.\n",
    "rotation_deltas = b3d.Pose.concatenate_poses(\n",
    "    [\n",
    "        jax.vmap(b3d.Pose.sample_gaussian_vmf_pose, in_axes=(0, None, None, None))(\n",
    "            jax.random.split(jax.random.PRNGKey(0), 11 * 11 * 11),\n",
    "            b3d.Pose.identity(),\n",
    "            0.0001,\n",
    "            100.0,\n",
    "        ),\n",
    "        b3d.Pose.identity()[None, ...],\n",
    "    ]\n",
    ")\n",
    "all_deltas = b3d.Pose.stack_poses([translation_deltas, rotation_deltas])\n",
    "\n",
    "# Sample scales.\n",
    "scale_deltas = jnp.stack(\n",
    "                    jnp.meshgrid(\n",
    "                        jnp.linspace(0.1, 2, 11),\n",
    "                        jnp.linspace(0.1, 2, 11),\n",
    "                        jnp.linspace(0.1, 2, 11),\n",
    "                    ),\n",
    "                    axis=-1,\n",
    "                ).reshape(-1, 3)"
   ]
  },
  {
   "cell_type": "code",
   "execution_count": 17,
   "metadata": {},
   "outputs": [
    {
     "data": {
      "text/html": [
       "<script> (()=>{ if (customElements.get('treescope-container') === undefined) { class TreescopeContainer extends HTMLElement { constructor() { super(); this.attachShadow({mode: \"open\"}); this.defns = {}; this.state = {}; } } customElements.define(\"treescope-container\", TreescopeContainer); } if (customElements.get('treescope-run-here') === undefined) { class RunHere extends HTMLElement { constructor() { super() } connectedCallback() { const run = child => { const fn = new Function(child.textContent); child.textContent = \"\"; fn.call(this); this.remove(); }; const child = this.querySelector(\"script\"); if (child) { run(child); } else { new MutationObserver(()=>{ run(this.querySelector(\"script\")); }).observe(this, {childList: true}); } } } customElements.define(\"treescope-run-here\", RunHere); } })(); </script> <treescope-container class=\"treescope_out_0f6b5b3a8a1d42729f2ee4ba5ebdd083\" ></treescope-container> <treescope-run-here><script type=\"application/octet-stream\"> const root = ( Array.from(document.getElementsByClassName( \"treescope_out_0f6b5b3a8a1d42729f2ee4ba5ebdd083\")) .filter((elt) => !elt.dataset.setup) )[0]; root.dataset.setup = 1; const msg = document.createElement(\"span\"); msg.style = \"color: #aaaaaa; font-family: monospace; transition: opacity 0.2s; opacity: 0.0;\"; msg.textContent = \"(Loading...)\"; root.state.loadingMsg = msg; root.shadowRoot.appendChild(msg); root.state.chain = new Promise((resolve, reject) => { const observer = new IntersectionObserver((entries) => { for (const entry of entries) { if (entry.isIntersecting) { resolve(); observer.disconnect(); return; } } }, {rootMargin: \"1000px\"}); window.setTimeout(() => { if (root.loadingMsg) { root.loadingMsg.style.opacity = \"1.0\"; } observer.observe(root); }, 0); }); root.state.deferring = false; const _insertNode = (node) => { for (let oldScript of node.querySelectorAll(\"script\")) { let newScript = document.createElement(\"script\"); newScript.type = oldScript.type; newScript.textContent = oldScript.textContent; oldScript.parentNode.replaceChild(newScript, oldScript); } if (root.state.loadingMsg) { root.state.loadingMsg.remove(); root.state.loadingMsg = null; } root.shadowRoot.appendChild(node); }; root.defns.insertContent = ((contentNode, compressed) => { if (compressed) { root.state.deferring = true; } if (root.state.deferring) { root.state.chain = (async () => { await root.state.chain; if (compressed) { const encoded = contentNode.textContent; const blob = new Blob([ Uint8Array.from(atob(encoded), (m) => m.codePointAt(0)) ]); const reader = blob.stream().pipeThrough( new DecompressionStream(\"deflate\") ).pipeThrough( new TextDecoderStream(\"utf-8\") ).getReader(); const parts = []; while (true) { const step = await reader.read(); if (step.done) { break; } parts.push(step.value); } const tpl = document.createElement('template'); tpl.innerHTML = parts.join(\"\"); _insertNode(tpl.content); } else { _insertNode(contentNode.content); } })(); } else { _insertNode(contentNode.content); } }); </script></treescope-run-here><div style=\"display:none\"> <script type=\"application/octet-stream\" >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</script> <treescope-run-here><script type=\"application/octet-stream\"> const root = ( Array.from(document.getElementsByClassName( \"treescope_out_0f6b5b3a8a1d42729f2ee4ba5ebdd083\")) .filter((elt) => !elt.dataset['step0']) )[0]; root.dataset['step0'] = 1; root.defns.insertContent( this.parentNode.querySelector('script[type=\"application/octet-stream\"]'), true ); this.parentNode.remove(); </script></treescope-run-here> </div>"
      ],
      "text/plain": [
       "<IPython.core.display.HTML object>"
      ]
     },
     "metadata": {},
     "output_type": "display_data"
    },
    {
     "data": {
      "text/html": [
       "<treescope-run-here><script type=\"application/octet-stream\"> const root = ( Array.from(document.getElementsByClassName( \"treescope_out_0f6b5b3a8a1d42729f2ee4ba5ebdd083\")) .filter((elt) => !elt.dataset.stolen) )[0]; root.dataset.stolen = 1; this.parentNode.replaceChild(root, this); </script></treescope-run-here>"
      ],
      "text/plain": [
       "(145, 350, 350, 4)"
      ]
     },
     "execution_count": 17,
     "metadata": {},
     "output_type": "execute_result"
    }
   ],
   "source": [
    "rgbds = jnp.concatenate([jnp.flip(image_arr,2), jnp.reshape(jnp.flip(depth_arr,2), depth_arr.shape+(1,))], axis=-1)\n",
    "rgbds.shape"
   ]
  },
  {
   "cell_type": "code",
   "execution_count": 18,
   "metadata": {},
   "outputs": [],
   "source": [
    "# fig = plt.figure(figsize=[10, 5])\n",
    "# ax = fig.add_subplot(121)\n",
    "# ax.imshow(rgbds[START_T][..., 0:3])\n",
    "\n",
    "# ax = fig.add_subplot(122)\n",
    "# ax.imshow(rgbds[START_T][..., -1])"
   ]
  },
  {
   "cell_type": "code",
   "execution_count": 28,
   "metadata": {},
   "outputs": [],
   "source": [
    "# Initial trace for timestep 0\n",
    "choice_map = dict([(\"camera_pose\", camera_pose), \n",
    "                   (\"rgbd\", rgbds[START_T]), \n",
    "                   (\"depth_noise_variance\", 0.005),\n",
    "                   (\"color_noise_variance\", 0.1),\n",
    "                   (\"outlier_probability\", 0.1)] + \n",
    "                   [(f\"object_pose_{idx}\", pose_mesh_color_scale_from_point_cloud[idx][0]) for idx in range(num_obj)]\n",
    "                   + [(f\"object_scale_{idx}\", jnp.array([1.0, 1.0, 1.0])) for idx in range(num_obj)]\n",
    "                   )\n",
    "\n",
    "trace, _ = importance_jit(\n",
    "    jax.random.PRNGKey(0),\n",
    "    genjax.ChoiceMap.d(\n",
    "        choice_map\n",
    "    ),\n",
    "    (\n",
    "        {\n",
    "            \"num_objects\": Pytree.const(num_obj),\n",
    "            \"meshes\": object_library,\n",
    "            \"likelihood_args\": likelihood_args,\n",
    "        },\n",
    "    ),\n",
    ")\n"
   ]
  },
  {
   "cell_type": "code",
   "execution_count": 29,
   "metadata": {},
   "outputs": [],
   "source": [
    "viz_trace(trace, START_T)"
   ]
  },
  {
   "cell_type": "code",
   "execution_count": 30,
   "metadata": {},
   "outputs": [
    {
     "data": {
      "text/html": [
       "<script> (()=>{ if (customElements.get('treescope-container') === undefined) { class TreescopeContainer extends HTMLElement { constructor() { super(); this.attachShadow({mode: \"open\"}); this.defns = {}; this.state = {}; } } customElements.define(\"treescope-container\", TreescopeContainer); } if (customElements.get('treescope-run-here') === undefined) { class RunHere extends HTMLElement { constructor() { super() } connectedCallback() { const run = child => { const fn = new Function(child.textContent); child.textContent = \"\"; fn.call(this); this.remove(); }; const child = this.querySelector(\"script\"); if (child) { run(child); } else { new MutationObserver(()=>{ run(this.querySelector(\"script\")); }).observe(this, {childList: true}); } } } customElements.define(\"treescope-run-here\", RunHere); } })(); </script> <treescope-container class=\"treescope_out_90ba9d737c6e4dca9e60c247c8d322e6\" ></treescope-container> <treescope-run-here><script type=\"application/octet-stream\"> const root = ( Array.from(document.getElementsByClassName( \"treescope_out_90ba9d737c6e4dca9e60c247c8d322e6\")) .filter((elt) => !elt.dataset.setup) )[0]; root.dataset.setup = 1; const msg = document.createElement(\"span\"); msg.style = \"color: #aaaaaa; font-family: monospace; transition: opacity 0.2s; opacity: 0.0;\"; msg.textContent = \"(Loading...)\"; root.state.loadingMsg = msg; root.shadowRoot.appendChild(msg); root.state.chain = new Promise((resolve, reject) => { const observer = new IntersectionObserver((entries) => { for (const entry of entries) { if (entry.isIntersecting) { resolve(); observer.disconnect(); return; } } }, {rootMargin: \"1000px\"}); window.setTimeout(() => { if (root.loadingMsg) { root.loadingMsg.style.opacity = \"1.0\"; } observer.observe(root); }, 0); }); root.state.deferring = false; const _insertNode = (node) => { for (let oldScript of node.querySelectorAll(\"script\")) { let newScript = document.createElement(\"script\"); newScript.type = oldScript.type; newScript.textContent = oldScript.textContent; oldScript.parentNode.replaceChild(newScript, oldScript); } if (root.state.loadingMsg) { root.state.loadingMsg.remove(); root.state.loadingMsg = null; } root.shadowRoot.appendChild(node); }; root.defns.insertContent = ((contentNode, compressed) => { if (compressed) { root.state.deferring = true; } if (root.state.deferring) { root.state.chain = (async () => { await root.state.chain; if (compressed) { const encoded = contentNode.textContent; const blob = new Blob([ Uint8Array.from(atob(encoded), (m) => m.codePointAt(0)) ]); const reader = blob.stream().pipeThrough( new DecompressionStream(\"deflate\") ).pipeThrough( new TextDecoderStream(\"utf-8\") ).getReader(); const parts = []; while (true) { const step = await reader.read(); if (step.done) { break; } parts.push(step.value); } const tpl = document.createElement('template'); tpl.innerHTML = parts.join(\"\"); _insertNode(tpl.content); } else { _insertNode(contentNode.content); } })(); } else { _insertNode(contentNode.content); } }); </script></treescope-run-here><div style=\"display:none\"> <script type=\"application/octet-stream\" >eNrFVk1v4zYQ/SuECmykolISr+PsyraAXIoeih7aQw9tYVDSSGJNkyo5cuIW+e8dUrId23JQoIvWPtgazsx78ykuLO4kZAkaAFvoFlZGa2R/sVZbgUKrlBmQHMUW5qzSCuOKb4TcpWyjlbYtL0j+3AiE2D+krDUkkcJi7F3HuGtJqrQicc6LdW10p8q40FKbtDeds+Epl6RA/kSJTcoqgaSmEBTOWcvLUqg6llBhyiZF40AUxA2IuiHJffLg3CjkgjgfzIY/8VZYkQspkJjzDvVBNxYKjVBWFLEVf0J/OtB9Xdz26Vkc0hObThGmIZktjGiRufiWN7xtpSi4y9itLhBc9Ab45iYLw2iZUUIJzyIroVKWLRk2wiY14I+U7R90CWGUNNpi4s8pNEC2akG5kJ8K59UZ/fLb2Ml3XJUS6Fh1Us57hIRo/qS1Imn4rM06Ym856J9J5I5OxCgKJ2zBVNpsuCogUfo5jHx9CSC8OGFxb7RgHycR+REVC89YJxJUjQ1bLtmdU3mXugHsjKK8M5AWjsSaTjlm565tIyp0/LyC+/NK3ysIIXWVKvVzYuCPDiw+KbHx5frW8A2EfU4i52N+AdR2tunTOB+JcQ+x7MN4J8p/zsGx6AuJuq5lP5UrPznUra3z5SQg8RsGW2rwoZKOnX9O1rBzSQ9M4AgNykkhubXf03AOfsPg4HO1oTYM9uCvEeWT2t/3eLa4HRuAUmyZd7gMTtdHwJDnFCm8LIO7gGlFZChsRXrvtf14rKGz2UcZ0Nj1C4sswBgoVy3tDGi0LMH4jvGL5Cv+6L7DyvImKRPIaUYptqQidZ4TlCIOV5bdKztVW/XsSLsUlkB3+6V2rsgyJnkOMk1zoHmBN6wK/5mP4vWLLb53m21YgHfzI5ZQft3lUrsNeRWz0Vswl8glN2sLvKYyqUvrVGkMz0QNt2HmfWajefA2adFAsYYyitjX0ZGDMx032uufMPQbOmU3v04e8uLm/6R3anSV5Ow/IOnq6IA7Y10BW03vKTAjuMJ+OVg/Ch4o9vNmr/X4l0E9hofwgpcoibCrShiLK61Wrv1HRuu9UUomD26aRkvF/jX9vuLnFF1UG25quln0NPxAH28SdEtSTJTL4LDAZkU+5fnsc/WYT6ef8/LTp2pS3E8ns8nDdJY/lsFgNKza07k/hyflPoiFUG033E4CTzvXL8GokyFCOuyjo3Xvjel38PUWf2zxBtkHifPf+UvyZAzfsUpqjh8ndENIkoR9qNG9SshHdv5Dr5Dsbxhbttg=</script> <treescope-run-here><script type=\"application/octet-stream\"> const root = ( Array.from(document.getElementsByClassName( \"treescope_out_90ba9d737c6e4dca9e60c247c8d322e6\")) .filter((elt) => !elt.dataset['step0']) )[0]; root.dataset['step0'] = 1; root.defns.insertContent( this.parentNode.querySelector('script[type=\"application/octet-stream\"]'), true ); this.parentNode.remove(); </script></treescope-run-here> </div>"
      ],
      "text/plain": [
       "<IPython.core.display.HTML object>"
      ]
     },
     "metadata": {},
     "output_type": "display_data"
    },
    {
     "data": {
      "text/html": [
       "<div style=\"display:none\"> <script type=\"application/octet-stream\" >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</script> <treescope-run-here><script type=\"application/octet-stream\"> const root = ( Array.from(document.getElementsByClassName( \"treescope_out_90ba9d737c6e4dca9e60c247c8d322e6\")) .filter((elt) => !elt.dataset['step1']) )[0]; root.dataset['step1'] = 1; root.defns.insertContent( this.parentNode.querySelector('script[type=\"application/octet-stream\"]'), true ); this.parentNode.remove(); </script></treescope-run-here> </div>"
      ],
      "text/plain": [
       "<IPython.core.display.HTML object>"
      ]
     },
     "metadata": {},
     "output_type": "display_data"
    },
    {
     "data": {
      "text/html": [
       "<treescope-run-here><script type=\"application/octet-stream\"> const root = ( Array.from(document.getElementsByClassName( \"treescope_out_90ba9d737c6e4dca9e60c247c8d322e6\")) .filter((elt) => !elt.dataset.stolen) )[0]; root.dataset.stolen = 1; this.parentNode.replaceChild(root, this); </script></treescope-run-here>"
      ],
      "text/plain": [
       "<jax.Array(36877.477, dtype=float32)>"
      ]
     },
     "execution_count": 30,
     "metadata": {},
     "output_type": "execute_result"
    }
   ],
   "source": [
    "trace.get_score()"
   ]
  },
  {
   "cell_type": "code",
   "execution_count": 22,
   "metadata": {},
   "outputs": [
    {
     "name": "stdout",
     "output_type": "stream",
     "text": [
      "0\n",
      "94164.555\n",
      "1\n",
      "103987.086\n",
      "2\n",
      "104684.14\n",
      "3\n",
      "104956.305\n",
      "4\n",
      "104956.305\n",
      "5\n",
      "104956.305\n",
      "6\n",
      "104954.81\n",
      "7\n",
      "104954.81\n",
      "8\n",
      "104954.81\n",
      "9\n",
      "104954.81\n"
     ]
    }
   ],
   "source": [
    "for seed in range(10):\n",
    "    print(seed)\n",
    "    key = jax.random.PRNGKey(seed)\n",
    "    for idx in range(num_obj):\n",
    "        trace, key = bayes3d.enumerate_and_select_best_move(\n",
    "            trace, Pytree.const((f\"object_pose_{idx}\",)), key, all_deltas\n",
    "        )\n",
    "        trace, key = bayes3d.enumerate_and_select_best_move_scale(\n",
    "            trace, Pytree.const((f\"object_scale_{idx}\",)), key, scale_deltas\n",
    "        )\n",
    "    print(trace.get_score())\n",
    "    viz_trace(trace, START_T)"
   ]
  },
  {
   "cell_type": "code",
   "execution_count": 23,
   "metadata": {},
   "outputs": [
    {
     "data": {
      "text/html": [
       "<script> (()=>{ if (customElements.get('treescope-container') === undefined) { class TreescopeContainer extends HTMLElement { constructor() { super(); this.attachShadow({mode: \"open\"}); this.defns = {}; this.state = {}; } } customElements.define(\"treescope-container\", TreescopeContainer); } if (customElements.get('treescope-run-here') === undefined) { class RunHere extends HTMLElement { constructor() { super() } connectedCallback() { const run = child => { const fn = new Function(child.textContent); child.textContent = \"\"; fn.call(this); this.remove(); }; const child = this.querySelector(\"script\"); if (child) { run(child); } else { new MutationObserver(()=>{ run(this.querySelector(\"script\")); }).observe(this, {childList: true}); } } } customElements.define(\"treescope-run-here\", RunHere); } })(); </script> <treescope-container class=\"treescope_out_f334642511ca49ed9960b7c4d5693a43\" ></treescope-container> <treescope-run-here><script type=\"application/octet-stream\"> const root = ( Array.from(document.getElementsByClassName( \"treescope_out_f334642511ca49ed9960b7c4d5693a43\")) .filter((elt) => !elt.dataset.setup) )[0]; root.dataset.setup = 1; const msg = document.createElement(\"span\"); msg.style = \"color: #aaaaaa; font-family: monospace; transition: opacity 0.2s; opacity: 0.0;\"; msg.textContent = \"(Loading...)\"; root.state.loadingMsg = msg; root.shadowRoot.appendChild(msg); root.state.chain = new Promise((resolve, reject) => { const observer = new IntersectionObserver((entries) => { for (const entry of entries) { if (entry.isIntersecting) { resolve(); observer.disconnect(); return; } } }, {rootMargin: \"1000px\"}); window.setTimeout(() => { if (root.loadingMsg) { root.loadingMsg.style.opacity = \"1.0\"; } observer.observe(root); }, 0); }); root.state.deferring = false; const _insertNode = (node) => { for (let oldScript of node.querySelectorAll(\"script\")) { let newScript = document.createElement(\"script\"); newScript.type = oldScript.type; newScript.textContent = oldScript.textContent; oldScript.parentNode.replaceChild(newScript, oldScript); } if (root.state.loadingMsg) { root.state.loadingMsg.remove(); root.state.loadingMsg = null; } root.shadowRoot.appendChild(node); }; root.defns.insertContent = ((contentNode, compressed) => { if (compressed) { root.state.deferring = true; } if (root.state.deferring) { root.state.chain = (async () => { await root.state.chain; if (compressed) { const encoded = contentNode.textContent; const blob = new Blob([ Uint8Array.from(atob(encoded), (m) => m.codePointAt(0)) ]); const reader = blob.stream().pipeThrough( new DecompressionStream(\"deflate\") ).pipeThrough( new TextDecoderStream(\"utf-8\") ).getReader(); const parts = []; while (true) { const step = await reader.read(); if (step.done) { break; } parts.push(step.value); } const tpl = document.createElement('template'); tpl.innerHTML = parts.join(\"\"); _insertNode(tpl.content); } else { _insertNode(contentNode.content); } })(); } else { _insertNode(contentNode.content); } }); </script></treescope-run-here><div style=\"display:none\"> <script type=\"application/octet-stream\" >eNrlVktv4zYQ/iuEFthIxUqJrfUjsi0gl6KHoocWaA9tYVDSyGJDkypJJfEW+e8dUnIc2bKbokF7qHyQNRzO982TXGqz45BGRgHoXNawVlIa8geppWaGSZEQBZwa9gALUkphwpJuGd8lZCuF1DXNUf5YMQOh+0hIrVDCmTahMx2aXY1SIQWKM5rfb5RsRBHmkkuVtFsXpPvKOCqgPVaYKiElM6gmDAizIDUtCiY2IYfSJGScVxZEQFgB21QoGUUTa0YYypDzy7buT/jANMsYZwaZ08bIF92QCaOY0CwPNfsC7WpH93l53YZn+RKeUDUCMRXKdK5YbYj1b3VF65qznNqIXcvcgPVeAd1epb4frFIMKOJpQwoohSYrYiqmow2Y7zHa38kC/CCqpDaRW0fXwJB1DcK6fJdbq3bTz78OrXxDRcEBl0XD+aJFiJDmD1IKlPqPUt0H5DUH+ROK7FJPbFhuhTWoUqotFTlEQj76gcsvAvgnKyRsNy1JPA7QDiuJf8Q64iA2piKrFbmxKhepKzCNEhh3AlzDgVjVCMvs2LSuWGksP6dg/zzj7wyCj1UlCvkYKfi9AW3uBNu6dH2t6Bb8NiaBtbE4AaobXbVhXAz4uIdYtW5c8PLtHCyLNpFGbja87cq16xys1trashLg5hOBByzwLpOWnfuO7mFng+4pzxLqlKOcU62/xebs7Prei831FsvQ24M/BxhPLH9X4+nyeqgBCvZAnMGV1x8fHjE0Q0/haeXdeEQKJINuC9S7VPbDvvp2z95LD9uuHVhuYqxzud2i3JWKmyAfqHusF0cqNBHS+EklH0AFA/qWAygFxbrGKQSV5AWo14Zn9tcNQUciIcxQ7Hq7uUR1miF5gV6dGZ9Iqae2bv1F7YJpBN3tx+SxIkkJpxnwJMkAOxBescrdsxjEa0dlOLKzshupN4sDFhNugGZc2pl7FtMF7BS5oOpeA91g4sXpbhfrI1FFtZ86m+lgHNr85BXk91AEAfkqOHCwW4c37fV7DN3MT8jVL+NJll/9l/T6m86SnP4LJG0eLXCjtE1gLfHkAzWAy/T7wbpWcECh62B9rsbfB/XgnoEnc4oSMb0umdJmLcXalv9Aa11qpWg8sd00mCryj+m3GT+maL3aUrXBu0pLwzX0c/RYgcDpxjmtNRR/PUX+NqELCO3scBhOCZ5qPOTO6rwHjyGIztFW4XA6DoWif0JF/WOPXLBw7KroHcTDim8BO2vn+O6J92qxP2f7NL1ukRUr7+X0Gk1ns9HoJh/dxrPP8XQ6n5XzeDov5+PRJB6V1Otb7A/949pD5TZRSybqprvsei41mXzyBo10WcTFNoN4e3Cb8d3Zeo0/dOp66UduFr/Rp+hOKbojJZfUxGM//oTFEEXk48bYuwlaSYdfJyHrBXswbNl8Sqcl5KPJbfyZzmfzcTwrYAI0vh1Ns0n8vwzbvue8t1Rht9i7dXkpIR/Ij0w3eFH64u66pGJFARh9QQ7lb/viDDW8ZaZ/AgscM9E=</script> <treescope-run-here><script type=\"application/octet-stream\"> const root = ( Array.from(document.getElementsByClassName( \"treescope_out_f334642511ca49ed9960b7c4d5693a43\")) .filter((elt) => !elt.dataset['step0']) )[0]; root.dataset['step0'] = 1; root.defns.insertContent( this.parentNode.querySelector('script[type=\"application/octet-stream\"]'), true ); this.parentNode.remove(); </script></treescope-run-here> </div>"
      ],
      "text/plain": [
       "<IPython.core.display.HTML object>"
      ]
     },
     "metadata": {},
     "output_type": "display_data"
    },
    {
     "data": {
      "text/html": [
       "<div style=\"display:none\"> <script type=\"application/octet-stream\" >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</script> <treescope-run-here><script type=\"application/octet-stream\"> const root = ( Array.from(document.getElementsByClassName( \"treescope_out_f334642511ca49ed9960b7c4d5693a43\")) .filter((elt) => !elt.dataset['step1']) )[0]; root.dataset['step1'] = 1; root.defns.insertContent( this.parentNode.querySelector('script[type=\"application/octet-stream\"]'), true ); this.parentNode.remove(); </script></treescope-run-here> </div>"
      ],
      "text/plain": [
       "<IPython.core.display.HTML object>"
      ]
     },
     "metadata": {},
     "output_type": "display_data"
    },
    {
     "data": {
      "text/html": [
       "<treescope-run-here><script type=\"application/octet-stream\"> const root = ( Array.from(document.getElementsByClassName( \"treescope_out_f334642511ca49ed9960b7c4d5693a43\")) .filter((elt) => !elt.dataset.stolen) )[0]; root.dataset.stolen = 1; this.parentNode.replaceChild(root, this); </script></treescope-run-here>"
      ],
      "text/plain": [
       "<Array([1.05, 1.05, 1.05], dtype=float32)\n",
       "  <Arrayviz rendering>\n",
       ">"
      ]
     },
     "execution_count": 23,
     "metadata": {},
     "output_type": "execute_result"
    }
   ],
   "source": [
    "addr = \"object_scale_2\"\n",
    "current_scale = trace.get_choices()[addr]\n",
    "current_scale"
   ]
  },
  {
   "cell_type": "code",
   "execution_count": 24,
   "metadata": {},
   "outputs": [],
   "source": [
    "new_scale = jnp.array([0.67,1.0,1.0])\n",
    "new_trace = trace.update(\n",
    "        jax.random.PRNGKey(0),\n",
    "        genjax.ChoiceMap.d({'object_scale_2': new_scale,}),\n",
    "    )[0]"
   ]
  },
  {
   "cell_type": "code",
   "execution_count": 25,
   "metadata": {},
   "outputs": [
    {
     "name": "stdout",
     "output_type": "stream",
     "text": [
      "91783.89\n"
     ]
    }
   ],
   "source": [
    "print(new_trace.get_score())"
   ]
  },
  {
   "cell_type": "code",
   "execution_count": 26,
   "metadata": {},
   "outputs": [],
   "source": [
    "viz_trace(new_trace, START_T)"
   ]
  },
  {
   "cell_type": "code",
   "execution_count": 27,
   "metadata": {},
   "outputs": [],
   "source": [
    "viz_trace(trace, START_T)"
   ]
  },
  {
   "cell_type": "code",
   "execution_count": 23,
   "metadata": {},
   "outputs": [
    {
     "name": "stderr",
     "output_type": "stream",
     "text": [
      " 90%|█████████ | 131/145 [03:18<00:21,  1.52s/it]\n"
     ]
    },
    {
     "ename": "KeyboardInterrupt",
     "evalue": "",
     "output_type": "error",
     "traceback": [
      "\u001b[0;31m---------------------------------------------------------------------------\u001b[0m",
      "\u001b[0;31mKeyboardInterrupt\u001b[0m                         Traceback (most recent call last)",
      "Cell \u001b[0;32mIn[23], line 11\u001b[0m\n\u001b[1;32m      4\u001b[0m trace \u001b[38;5;241m=\u001b[39m b3d\u001b[38;5;241m.\u001b[39mupdate_choices(\n\u001b[1;32m      5\u001b[0m     trace,\n\u001b[1;32m      6\u001b[0m     Pytree\u001b[38;5;241m.\u001b[39mconst((\u001b[38;5;124m\"\u001b[39m\u001b[38;5;124mrgbd\u001b[39m\u001b[38;5;124m\"\u001b[39m,)),\n\u001b[1;32m      7\u001b[0m     rgbds[T_observed_image],\n\u001b[1;32m      8\u001b[0m )\n\u001b[1;32m     10\u001b[0m \u001b[38;5;28;01mfor\u001b[39;00m idx \u001b[38;5;129;01min\u001b[39;00m \u001b[38;5;28mrange\u001b[39m(num_obj):\n\u001b[0;32m---> 11\u001b[0m     trace, key \u001b[38;5;241m=\u001b[39m \u001b[43mbayes3d\u001b[49m\u001b[38;5;241;43m.\u001b[39;49m\u001b[43menumerate_and_select_best_move\u001b[49m\u001b[43m(\u001b[49m\n\u001b[1;32m     12\u001b[0m \u001b[43m        \u001b[49m\u001b[43mtrace\u001b[49m\u001b[43m,\u001b[49m\u001b[43m \u001b[49m\u001b[43mPytree\u001b[49m\u001b[38;5;241;43m.\u001b[39;49m\u001b[43mconst\u001b[49m\u001b[43m(\u001b[49m\u001b[43m(\u001b[49m\u001b[38;5;124;43mf\u001b[39;49m\u001b[38;5;124;43m\"\u001b[39;49m\u001b[38;5;124;43mobject_pose_\u001b[39;49m\u001b[38;5;132;43;01m{\u001b[39;49;00m\u001b[43midx\u001b[49m\u001b[38;5;132;43;01m}\u001b[39;49;00m\u001b[38;5;124;43m\"\u001b[39;49m\u001b[43m,\u001b[49m\u001b[43m)\u001b[49m\u001b[43m)\u001b[49m\u001b[43m,\u001b[49m\u001b[43m \u001b[49m\u001b[43mkey\u001b[49m\u001b[43m,\u001b[49m\u001b[43m \u001b[49m\u001b[43mall_deltas\u001b[49m\n\u001b[1;32m     13\u001b[0m \u001b[43m    \u001b[49m\u001b[43m)\u001b[49m\n\u001b[1;32m     14\u001b[0m     \u001b[38;5;66;03m# trace, key = bayes3d.enumerate_and_select_best_move_scale(\u001b[39;00m\n\u001b[1;32m     15\u001b[0m     \u001b[38;5;66;03m#     trace, Pytree.const((f\"object_scale_{idx}\",)), key, scale_deltas\u001b[39;00m\n\u001b[1;32m     16\u001b[0m     \u001b[38;5;66;03m# )\u001b[39;00m\n\u001b[1;32m     17\u001b[0m \u001b[38;5;66;03m# bayes3d.rerun_visualize_trace_t(trace, T_observed_image)\u001b[39;00m\n\u001b[1;32m     18\u001b[0m viz_trace(trace, T_observed_image)\n",
      "File \u001b[0;32m~/b3d/.pixi/envs/gpu/lib/python3.12/site-packages/penzai/core/struct.py:630\u001b[0m, in \u001b[0;36mStruct.tree_unflatten\u001b[0;34m(cls, aux_data, children)\u001b[0m\n\u001b[1;32m    627\u001b[0m       children\u001b[38;5;241m.\u001b[39mappend(value)\n\u001b[1;32m    628\u001b[0m   \u001b[38;5;28;01mreturn\u001b[39;00m children, StructStaticMetadata(child_field_names, static_fields)\n\u001b[0;32m--> 630\u001b[0m \u001b[38;5;129m@typing\u001b[39m\u001b[38;5;241m.\u001b[39mfinal\n\u001b[1;32m    631\u001b[0m \u001b[38;5;129m@classmethod\u001b[39m\n\u001b[1;32m    632\u001b[0m \u001b[38;5;28;01mdef\u001b[39;00m \u001b[38;5;21mtree_unflatten\u001b[39m(\u001b[38;5;28mcls\u001b[39m, aux_data: Any, children: Sequence[Any]) \u001b[38;5;241m-\u001b[39m\u001b[38;5;241m>\u001b[39m Struct:\n\u001b[1;32m    633\u001b[0m \u001b[38;5;250m  \u001b[39m\u001b[38;5;124;03m\"\"\"Unflattens this tree node.\u001b[39;00m\n\u001b[1;32m    634\u001b[0m \n\u001b[1;32m    635\u001b[0m \u001b[38;5;124;03m  See `jax.tree_util.register_pytree_with_keys_class`.\u001b[39;00m\n\u001b[0;32m   (...)\u001b[0m\n\u001b[1;32m    649\u001b[0m \u001b[38;5;124;03m    An instance of the struct.\u001b[39;00m\n\u001b[1;32m    650\u001b[0m \u001b[38;5;124;03m  \"\"\"\u001b[39;00m\n\u001b[1;32m    651\u001b[0m   \u001b[38;5;28;01massert\u001b[39;00m \u001b[38;5;28misinstance\u001b[39m(aux_data, StructStaticMetadata)\n",
      "\u001b[0;31mKeyboardInterrupt\u001b[0m: "
     ]
    }
   ],
   "source": [
    "FINAL_T = len(image_arr)\n",
    "for T_observed_image in tqdm(range(FINAL_T)):\n",
    "    # Constrain on new RGB and Depth data.\n",
    "    trace = b3d.update_choices(\n",
    "        trace,\n",
    "        Pytree.const((\"rgbd\",)),\n",
    "        rgbds[T_observed_image],\n",
    "    )\n",
    " \n",
    "    for idx in range(num_obj):\n",
    "        trace, key = bayes3d.enumerate_and_select_best_move(\n",
    "            trace, Pytree.const((f\"object_pose_{idx}\",)), key, all_deltas\n",
    "        )\n",
    "        # trace, key = bayes3d.enumerate_and_select_best_move_scale(\n",
    "        #     trace, Pytree.const((f\"object_scale_{idx}\",)), key, scale_deltas\n",
    "        # )\n",
    "    # bayes3d.rerun_visualize_trace_t(trace, T_observed_image)\n",
    "    viz_trace(trace, T_observed_image)"
   ]
  },
  {
   "cell_type": "code",
   "execution_count": null,
   "metadata": {},
   "outputs": [],
   "source": []
  },
  {
   "cell_type": "code",
   "execution_count": null,
   "metadata": {},
   "outputs": [],
   "source": []
  }
 ],
 "metadata": {
  "kernelspec": {
   "display_name": "gpu",
   "language": "python",
   "name": "python3"
  },
  "language_info": {
   "codemirror_mode": {
    "name": "ipython",
    "version": 3
   },
   "file_extension": ".py",
   "mimetype": "text/x-python",
   "name": "python",
   "nbconvert_exporter": "python",
   "pygments_lexer": "ipython3",
   "version": "3.12.5"
  }
 },
 "nbformat": 4,
 "nbformat_minor": 2
}
