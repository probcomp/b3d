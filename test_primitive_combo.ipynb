{
 "cells": [
  {
   "cell_type": "code",
   "execution_count": 1,
   "metadata": {},
   "outputs": [],
   "source": [
    "import os\n",
    "import io\n",
    "import trimesh\n",
    "import b3d\n",
    "import genjax\n",
    "import jax\n",
    "import jax.numpy as jnp\n",
    "import numpy as np\n",
    "import rerun as rr\n",
    "from PIL import Image\n",
    "from b3d import Pose\n",
    "from b3d import Mesh, Pose\n",
    "from b3d.pose import Pose, camera_from_position_and_target\n",
    "import matplotlib.pyplot as plt\n",
    "import h5py\n",
    "import b3d.utils as utils\n",
    "from scipy.spatial.transform import Rotation as scipyR"
   ]
  },
  {
   "cell_type": "code",
   "execution_count": 2,
   "metadata": {},
   "outputs": [],
   "source": [
    "def scale_mesh(vertices, scale_factor):\n",
    "    vertices[:, 0] *= scale_factor[0]\n",
    "    vertices[:, 1] *= scale_factor[1]\n",
    "    vertices[:, 2] *= scale_factor[2]\n",
    "    return vertices\n",
    "\n",
    "def euler_angles_to_quaternion(euler: np.ndarray) -> np.ndarray:\n",
    "    \"\"\"\n",
    "    Convert Euler angles to a quaternion.\n",
    "\n",
    "    Source: https://pastebin.com/riRLRvch\n",
    "\n",
    "    :param euler: The Euler angles vector.\n",
    "\n",
    "    :return: The quaternion representation of the Euler angles.\n",
    "    \"\"\"\n",
    "    pitch = np.radians(euler[0] * 0.5)\n",
    "    cp = np.cos(pitch)\n",
    "    sp = np.sin(pitch)\n",
    "\n",
    "    yaw = np.radians(euler[1] * 0.5)\n",
    "    cy = np.cos(yaw)\n",
    "    sy = np.sin(yaw)\n",
    "\n",
    "    roll = np.radians(euler[2] * 0.5)\n",
    "    cr = np.cos(roll)\n",
    "    sr = np.sin(roll)\n",
    "\n",
    "    x = sy * cp * sr + cy * sp * cr\n",
    "    y = sy * cp * cr - cy * sp * sr\n",
    "    z = cy * cp * sr - sy * sp * cr\n",
    "    w = cy * cp * cr + sy * sp * sr\n",
    "    return np.array([x, y, z, w])\n",
    "\n"
   ]
  },
  {
   "cell_type": "code",
   "execution_count": 3,
   "metadata": {},
   "outputs": [],
   "source": [
    "# paths for reading physion metadata\n",
    "physion_assets_path = os.path.join(\n",
    "    b3d.get_root_path(),\n",
    "    \"assets/physion/\",)\n",
    "\n",
    "resnet_inference_path = os.path.join(\n",
    "    b3d.get_root_path(),\n",
    "    \"resnet_results/\",)\n",
    "\n",
    "stim_name = 'pilot_linking_nl2-3_mg01_aCone_bCyl_boxroom_0004'\n",
    "\n",
    "hdf5_file_path = os.path.join(physion_assets_path,\n",
    "    f\"{stim_name}.hdf5\",\n",
    ")\n",
    "\n",
    "mesh_file_path = os.path.join(physion_assets_path,\n",
    "    f\"all_flex_meshes/core\",\n",
    ")\n",
    "\n",
    "json_file_path = os.path.join(resnet_inference_path,\n",
    "    f\"{stim_name}.json\",\n",
    ")\n",
    "\n",
    "im_width = 350\n",
    "im_height = 350"
   ]
  },
  {
   "cell_type": "code",
   "execution_count": 4,
   "metadata": {},
   "outputs": [
    {
     "name": "stdout",
     "output_type": "stream",
     "text": [
      "4 b'cylinder' 5 b'cone' True True True False\n"
     ]
    }
   ],
   "source": [
    "vfov = 54.43222 \n",
    "near_plane = 0.1\n",
    "far_plane = 100\n",
    "depth_arr = []\n",
    "image_arr = []\n",
    "with h5py.File(hdf5_file_path, \"r\") as f:\n",
    "    # extract depth info\n",
    "    for key in f['frames'].keys():\n",
    "        depth = jnp.array(f['frames'][key]['images']['_depth_cam0'])\n",
    "        depth_arr.append(depth)\n",
    "        image = jnp.array(Image.open(io.BytesIO(f['frames'][key]['images']['_img_cam0'][:])))\n",
    "        image_arr.append(image)\n",
    "    depth_arr = jnp.asarray(depth_arr)\n",
    "    image_arr = jnp.asarray(image_arr)\n",
    "    im_seg = np.array(Image.open(io.BytesIO(f['frames']['0000']['images']['_id_cam0'][:])).resize((im_width, im_height), Image.BICUBIC))\n",
    "    FINAL_T, height, width = image_arr.shape[0], image_arr.shape[1], image_arr.shape[2]\n",
    "\n",
    "    # extract camera info\n",
    "    camera_azimuth = np.array(f['azimuth']['cam_0'])\n",
    "    camera_matrix = np.array(f['frames']['0000']['camera_matrices']['camera_matrix_cam0']).reshape((4, 4))\n",
    "    projection_matrix = np.array(f['frames']['0010']['camera_matrices']['projection_matrix_cam0']).reshape((4, 4))\n",
    "  \n",
    "    # Calculate the intrinsic matrix from vertical_fov.\n",
    "    # Motice that hfov and vfov are different if height != width\n",
    "    # We can also get the intrinsic matrix from opengl's perspective matrix.\n",
    "    # http://kgeorge.github.io/2014/03/08/calculating-opengl-perspective-matrix-from-opencv-intrinsic-matrix\n",
    "    vfov = vfov / 180.0 * np.pi\n",
    "    tan_half_vfov = np.tan(vfov / 2.0)\n",
    "    tan_half_hfov = tan_half_vfov * width / float(height)\n",
    "    fx = width / 2.0 / tan_half_hfov  # focal length in pixel space\n",
    "    fy = height / 2.0 / tan_half_vfov\n",
    "\n",
    "    # extract object info\n",
    "    object_ids = np.array(f['static']['object_ids'])\n",
    "    model_names = np.array(f['static']['model_names'])\n",
    "    assert len(object_ids) == len(model_names)\n",
    "    distractors = np.array(f['static']['distractors']) if np.array(f['static']['distractors']).size != 0 else None\n",
    "    occluders = np.array(f['static']['occluders']) if np.array(f['static']['occluders']).size != 0 else None\n",
    "    initial_position = np.array(f['static']['initial_position'])\n",
    "    initial_rotation = np.array(f['static']['initial_rotation'])\n",
    "    scales = np.array(f['static']['scale'])\n",
    "    if \"base_id\" in np.array(f['static']) and \"attachment_id\" in np.array(f['static']):\n",
    "        base_id = np.array(f['static']['base_id'])\n",
    "        base_type = np.array(f['static']['base_type'])\n",
    "        attachment_id = np.array(f['static']['attachment_id'])\n",
    "        attachent_type = np.array(f['static']['attachent_type'])\n",
    "        attachment_fixed = np.array(f['static']['attachment_fixed'])\n",
    "        use_attachment = np.array(f['static']['use_attachment'])\n",
    "        use_base = np.array(f['static']['use_base'])\n",
    "        use_cap = np.array(f['static']['use_cap'])\n",
    "        assert attachment_id.size==1\n",
    "        assert base_id.size==1\n",
    "        attachment_id = attachment_id.item()\n",
    "        base_id = base_id.item()\n",
    "        print(base_id, base_type, attachment_id, attachent_type, attachment_fixed, use_attachment, use_base, use_cap)"
   ]
  },
  {
   "cell_type": "code",
   "execution_count": 5,
   "metadata": {},
   "outputs": [
    {
     "data": {
      "text/plain": [
       "array([[7.        , 0.02      , 7.        ],\n",
       "       [0.4       , 0.4       , 0.4       ],\n",
       "       [0.52601004, 0.1       , 0.52601004],\n",
       "       [0.3684644 , 0.41977426, 0.35671315],\n",
       "       [0.3502259 , 0.45      , 0.39841333],\n",
       "       [0.3712331 , 0.35      , 0.3739284 ]], dtype=float32)"
      ]
     },
     "execution_count": 5,
     "metadata": {},
     "output_type": "execute_result"
    }
   ],
   "source": [
    "scales"
   ]
  },
  {
   "cell_type": "code",
   "execution_count": 6,
   "metadata": {},
   "outputs": [
    {
     "data": {
      "text/plain": [
       "<matplotlib.image.AxesImage at 0x7f856f860a70>"
      ]
     },
     "execution_count": 6,
     "metadata": {},
     "output_type": "execute_result"
    },
    {
     "data": {
      "image/png": "[encoded data removed]",
      "text/plain": [
       "<Figure size 500x500 with 1 Axes>"
      ]
     },
     "metadata": {},
     "output_type": "display_data"
    }
   ],
   "source": [
    "fig = plt.figure(figsize=[5, 5])\n",
    "ax = fig.add_subplot(111)\n",
    "ax.imshow(im_seg)"
   ]
  },
  {
   "cell_type": "code",
   "execution_count": 7,
   "metadata": {},
   "outputs": [],
   "source": [
    "distractor_ids = np.concatenate([np.where(model_names==distractor)[0] for distractor in distractors], axis=0).tolist() if distractors else []\n",
    "occluder_ids = np.concatenate([np.where(model_names==occluder)[0] for occluder in occluders], axis=0).tolist() if occluders else []\n",
    "excluded_model_ids = distractor_ids+occluder_ids\n",
    "included_model_ids = [idx for idx in range(len(object_ids)) if idx not in excluded_model_ids]\n",
    "included_model_names = [model_names[idx] for idx in included_model_ids]\n"
   ]
  },
  {
   "cell_type": "code",
   "execution_count": 8,
   "metadata": {},
   "outputs": [],
   "source": [
    "object_initial_positions = [pos for idx, pos in enumerate(initial_position) if idx in included_model_ids]\n",
    "object_initial_rotations = [rot for idx, rot in enumerate(initial_rotation) if idx in included_model_ids]\n",
    "object_scales = [scale for idx, scale in enumerate(scales) if idx in included_model_ids]\n",
    "object_meshes = []\n",
    "for idx, model_name in enumerate(included_model_names):\n",
    "    trim = trimesh.load(os.path.join(mesh_file_path, f\"{model_name.decode('UTF-8')}.obj\"))\n",
    "    object_meshes.append((scale_mesh(trim.vertices, object_scales[idx]), trim.faces))\n"
   ]
  },
  {
   "cell_type": "code",
   "execution_count": 9,
   "metadata": {},
   "outputs": [
    {
     "data": {
      "text/plain": [
       "[b'cube', b'sphere', b'cylinder', b'cone', b'torus', b'torus']"
      ]
     },
     "execution_count": 9,
     "metadata": {},
     "output_type": "execute_result"
    }
   ],
   "source": [
    "included_model_names"
   ]
  },
  {
   "cell_type": "code",
   "execution_count": 10,
   "metadata": {},
   "outputs": [],
   "source": [
    "b3d.rr_init(\"demo_physion\")"
   ]
  },
  {
   "cell_type": "code",
   "execution_count": 32,
   "metadata": {},
   "outputs": [
    {
     "name": "stdout",
     "output_type": "stream",
     "text": [
      "96 188\n",
      "191 378\n"
     ]
    }
   ],
   "source": [
    "all_object_poses = []\n",
    "all_meshes = []\n",
    "for idx in range(len(included_model_ids)):\n",
    "    if idx in [2,3]:\n",
    "        print(len(object_meshes[idx][0]), len(object_meshes[idx][1]))\n",
    "        object_pose = Pose(jnp.asarray(object_initial_positions[idx]), jnp.asarray(euler_angles_to_quaternion(object_initial_rotations[idx])))\n",
    "        # print(object_pose)\n",
    "        b3d.rr_log_pose(f\"{idx}\", object_pose)\n",
    "        all_object_poses.append(object_pose)\n",
    "\n",
    "        mesh = trimesh.Trimesh(vertices=object_meshes[idx][0], faces=object_meshes[idx][1])\n",
    "        mesh = b3d.Mesh.from_trimesh(mesh)\n",
    "        all_meshes.append(mesh)\n",
    "        mesh.transform(object_pose).rr_visualize(f\"mesh_{idx}\")"
   ]
  },
  {
   "cell_type": "code",
   "execution_count": null,
   "metadata": {},
   "outputs": [],
   "source": [
    "merged_mesh = b3d.Mesh.transform_and_merge_meshes(all_meshes, all_object_poses)\n",
    "merged_mesh.save('/home/haoliangwang/b3d/assets/physion/all_flex_meshes/core/cone_cyn_96_191.obj')"
   ]
  },
  {
   "cell_type": "code",
   "execution_count": 15,
   "metadata": {},
   "outputs": [
    {
     "data": {
      "text/plain": [
       "TrackedArray([[ 0.        ,  0.1       , -0.17835657],\n",
       "              [ 0.        ,  0.1       ,  0.17835657],\n",
       "              [ 0.        ,  0.51977426,  0.        ],\n",
       "              [ 0.        ,  0.23992461,  0.11890426],\n",
       "              [ 0.        ,  0.23992461, -0.11890426],\n",
       "              [ 0.        ,  0.37984964,  0.05945231],\n",
       "              [ 0.        ,  0.37984964, -0.05945231],\n",
       "              [-0.03460286,  0.1       ,  0.17354023],\n",
       "              [-0.03460286,  0.1       , -0.17354023],\n",
       "              [-0.03460286,  0.23992461, -0.11408792],\n",
       "              [-0.03460286,  0.23992461,  0.11408792],\n",
       "              [-0.03696103,  0.1       , -0.05316845],\n",
       "              [ 0.06780408,  0.1       ,  0.16410232],\n",
       "              [ 0.06780408,  0.1       , -0.16410232],\n",
       "              [ 0.03320122,  0.1       ,  0.16891865],\n",
       "              [ 0.03320122,  0.37984964,  0.0500144 ],\n",
       "              [ 0.03320122,  0.37984964, -0.0500144 ],\n",
       "              [ 0.06531105,  0.1       ,  0.01046168],\n",
       "              [-0.10636389,  0.1       ,  0.13175556],\n",
       "              [ 0.09282245,  0.23992461, -0.07786585],\n",
       "              [-0.17743257,  0.1       , -0.04161915],\n",
       "              [-0.17743257,  0.1       ,  0.02469739],\n",
       "              [-0.17743257,  0.1       ,  0.04161915],\n",
       "              [-0.17743257,  0.1       ,  0.00777563],\n",
       "              [ 0.13547331,  0.1       ,  0.11364453],\n",
       "              [ 0.06640244,  0.23992461,  0.10002879],\n",
       "              [ 0.06640244,  0.23992461, -0.10002879],\n",
       "              [-0.0837037 ,  0.1       ,  0.15707257],\n",
       "              [-0.0837037 ,  0.1       , -0.15707257],\n",
       "              [-0.07316266,  0.1       ,  0.14119348],\n",
       "              [-0.07552084,  0.1       , -0.13490961],\n",
       "              [ 0.12602367,  0.1       , -0.12788025],\n",
       "              [-0.11012369,  0.1       , -0.13490961],\n",
       "              [ 0.15813351,  0.1       , -0.03893274],\n",
       "              [ 0.15813351,  0.1       , -0.08832752],\n",
       "              [ 0.15813351,  0.1       ,  0.08832752],\n",
       "              [ 0.15813351,  0.1       ,  0.01046204],\n",
       "              [ 0.09960367,  0.1       , -0.15004283],\n",
       "              [-0.16305803,  0.1       , -0.07209101],\n",
       "              [-0.16305803,  0.1       , -0.02269659],\n",
       "              [-0.05050247,  0.23992461, -0.10705817],\n",
       "              [-0.05050247,  0.23992461,  0.10705817],\n",
       "              [ 0.05190447,  0.1       , -0.17113172],\n",
       "              [ 0.01730162,  0.1       , -0.1759484 ],\n",
       "              [ 0.01730162,  0.1       , -0.13490961],\n",
       "              [ 0.01730162,  0.23992461, -0.11649609],\n",
       "              [ 0.01730162,  0.37984964, -0.05704378],\n",
       "              [-0.12157115,  0.23992461,  0.        ],\n",
       "              [-0.12157115,  0.23992461,  0.01692176],\n",
       "              [-0.12157115,  0.23992461, -0.01692176],\n",
       "              [-0.11172246,  0.1       ,  0.10884673],\n",
       "              [-0.11172246,  0.23992461, -0.04939479],\n",
       "              [-0.11172246,  0.23992461,  0.04939479],\n",
       "              [-0.01730125,  0.1       ,  0.1759484 ],\n",
       "              [-0.01730125,  0.1       , -0.1759484 ],\n",
       "              [-0.01730125,  0.23992461,  0.11649609],\n",
       "              [-0.01730125,  0.23992461, -0.11649609],\n",
       "              [-0.01730125,  0.37984964,  0.05704414],\n",
       "              [-0.01730125,  0.37984964, -0.05704414],\n",
       "              [-0.12226349,  0.1       ,  0.12472618],\n",
       "              [ 0.17250805,  0.1       ,  0.0409339 ],\n",
       "              [ 0.17250805,  0.1       , -0.05785531],\n",
       "              [ 0.17250805,  0.1       , -0.00846088],\n",
       "              [ 0.17250805,  0.1       ,  0.05785566],\n",
       "              [-0.1486835 ,  0.1       , -0.10256323],\n",
       "              [-0.1486835 ,  0.1       ,  0.10256323],\n",
       "              [-0.1486835 ,  0.1       , -0.05316845],\n",
       "              [-0.05190411,  0.1       , -0.17113172],\n",
       "              [-0.05190411,  0.1       ,  0.17113172],\n",
       "              [ 0.05050284,  0.23992461, -0.10705817],\n",
       "              [-0.0996033 ,  0.1       ,  0.15004317],\n",
       "              [-0.0996033 ,  0.1       , -0.15004317],\n",
       "              [-0.12602329,  0.1       , -0.12788025],\n",
       "              [-0.12602329,  0.1       ,  0.12788025],\n",
       "              [ 0.08370406,  0.1       , -0.15707257],\n",
       "              [-0.05586105,  0.1       ,  0.14360166],\n",
       "              [-0.05586105,  0.37984964,  0.02469739],\n",
       "              [-0.05586105,  0.37984964, -0.02469739],\n",
       "              [-0.09046391,  0.1       ,  0.1387853 ],\n",
       "              [-0.09282207,  0.23992461,  0.07786585],\n",
       "              [ 0.04641104,  0.1       , -0.11679859],\n",
       "              [ 0.04641104,  0.37984964, -0.03893274],\n",
       "              [ 0.04641104,  0.37984964,  0.0389331 ],\n",
       "              [ 0.00945001,  0.1       ,  0.0452166 ],\n",
       "              [ 0.07961226,  0.23992461,  0.08894713],\n",
       "              [ 0.07961226,  0.23992461, -0.08894713],\n",
       "              [-0.18235709,  0.1       ,  0.00846088],\n",
       "              [-0.18235709,  0.1       , -0.02538264],\n",
       "              [-0.18235709,  0.1       ,  0.02538264],\n",
       "              [-0.18235709,  0.1       , -0.00846088],\n",
       "              [ 0.06078557,  0.37984964,  0.00846088],\n",
       "              [ 0.06078557,  0.37984964, -0.00846088],\n",
       "              [-0.1290237 ,  0.1       ,  0.10643856],\n",
       "              [ 0.13923348,  0.1       , -0.11679859],\n",
       "              [ 0.13923348,  0.1       ,  0.11679894],\n",
       "              [-0.09691387,  0.1       , -0.14599127],\n",
       "              [ 0.10227245,  0.23992461,  0.06363013],\n",
       "              [ 0.10227245,  0.23992461, -0.06363013],\n",
       "              [ 0.11281349,  0.1       ,  0.13896152],\n",
       "              [ 0.11281349,  0.1       , -0.13896152],\n",
       "              [-0.16798256,  0.1       , -0.05585486],\n",
       "              [-0.02910979,  0.1       , -0.15542918],\n",
       "              [ 0.14492331,  0.1       ,  0.09940918],\n",
       "              [-0.06371266,  0.1       , -0.15542918],\n",
       "              [-0.16758351,  0.1       , -0.07409181],\n",
       "              [-0.16758351,  0.1       ,  0.07409217],\n",
       "              [ 0.11664699,  0.23992461, -0.03315827],\n",
       "              [ 0.11664699,  0.23992461,  0.03315827],\n",
       "              [-0.11664699,  0.23992461, -0.03315827],\n",
       "              [-0.11664699,  0.23992461,  0.03315827],\n",
       "              [ 0.16758351,  0.1       , -0.02469704],\n",
       "              [ 0.16758351,  0.1       ,  0.02469739],\n",
       "              [ 0.16758351,  0.1       , -0.07409181],\n",
       "              [ 0.16758351,  0.1       ,  0.07409217],\n",
       "              [-0.15360802,  0.1       , -0.08632672],\n",
       "              [-0.14492331,  0.1       ,  0.09940918],\n",
       "              [-0.11281349,  0.1       ,  0.13896152],\n",
       "              [-0.11281349,  0.1       , -0.13896152],\n",
       "              [-0.10227245,  0.1       ,  0.0452166 ],\n",
       "              [-0.10227245,  0.23992461,  0.06363013],\n",
       "              [-0.10227245,  0.23992461, -0.06363013],\n",
       "              [ 0.09691387,  0.1       , -0.14599127],\n",
       "              [-0.13923348,  0.1       ,  0.11679859],\n",
       "              [-0.13923348,  0.1       , -0.11679859],\n",
       "              [-0.06078557,  0.37984964,  0.00846088],\n",
       "              [-0.06078557,  0.37984964, -0.00846088],\n",
       "              [ 0.18235709,  0.1       ,  0.02538299],\n",
       "              [ 0.18235709,  0.1       ,  0.00846088],\n",
       "              [ 0.18235709,  0.1       , -0.02538264],\n",
       "              [ 0.18235709,  0.1       , -0.00846088],\n",
       "              [-0.07961226,  0.23992461,  0.08894713],\n",
       "              [-0.07961226,  0.23992461, -0.08894713],\n",
       "              [-0.01180818,  0.1       , -0.15302067],\n",
       "              [-0.04641104,  0.1       ,  0.07997152],\n",
       "              [-0.04641104,  0.1       , -0.15783736],\n",
       "              [-0.04641104,  0.1       , -0.11679859],\n",
       "              [-0.04641104,  0.37984964, -0.03893274],\n",
       "              [-0.04641104,  0.37984964,  0.03893274],\n",
       "              [-0.0810139 ,  0.1       , -0.15302067],\n",
       "              [ 0.09282207,  0.23992461,  0.07786585],\n",
       "              [ 0.05586105,  0.1       ,  0.14360166],\n",
       "              [ 0.05586105,  0.1       , -0.05316845],\n",
       "              [ 0.05586105,  0.37984964,  0.02469739],\n",
       "              [ 0.05586105,  0.37984964, -0.02469739],\n",
       "              [ 0.06640208,  0.1       ,  0.15948109],\n",
       "              [ 0.08101427,  0.1       , -0.15302067],\n",
       "              [ 0.12602329,  0.1       ,  0.12788025],\n",
       "              [ 0.0996033 ,  0.1       ,  0.15004317],\n",
       "              [ 0.08906227,  0.1       ,  0.13416409],\n",
       "              [ 0.05190411,  0.1       ,  0.17113206],\n",
       "              [ 0.1486835 ,  0.1       ,  0.10256323],\n",
       "              [ 0.1486835 ,  0.1       , -0.10256287],\n",
       "              [ 0.1486835 ,  0.1       , -0.05316845],\n",
       "              [-0.17250805,  0.1       , -0.05785566],\n",
       "              [-0.17250805,  0.1       ,  0.0409339 ],\n",
       "              [-0.17250805,  0.1       ,  0.05785566],\n",
       "              [ 0.12226349,  0.1       ,  0.12472618],\n",
       "              [ 0.01730125,  0.1       ,  0.1759484 ],\n",
       "              [ 0.01730125,  0.23992461,  0.11649609],\n",
       "              [ 0.01730125,  0.37984964,  0.05704414],\n",
       "              [ 0.11172246,  0.1       ,  0.1088471 ],\n",
       "              [ 0.11172246,  0.23992461,  0.04939479],\n",
       "              [ 0.11172246,  0.23992461, -0.04939443],\n",
       "              [ 0.12157115,  0.23992461,  0.        ],\n",
       "              [ 0.12157115,  0.23992461,  0.01692176],\n",
       "              [ 0.12157115,  0.23992461, -0.01692176],\n",
       "              [ 0.05050247,  0.1       ,  0.16651049],\n",
       "              [ 0.05050247,  0.23992461,  0.10705817],\n",
       "              [-0.15813351,  0.1       ,  0.01046168],\n",
       "              [-0.15813351,  0.1       , -0.08832752],\n",
       "              [-0.15813351,  0.1       ,  0.08832752],\n",
       "              [ 0.11012369,  0.1       , -0.13490961],\n",
       "              [ 0.0837037 ,  0.1       ,  0.15707257],\n",
       "              [-0.06640244,  0.23992461,  0.10002879],\n",
       "              [-0.06640244,  0.23992461, -0.10002879],\n",
       "              [-0.13547331,  0.1       ,  0.11364453],\n",
       "              [ 0.17743257,  0.1       , -0.04161915],\n",
       "              [ 0.17743257,  0.1       ,  0.02469739],\n",
       "              [ 0.17743257,  0.1       ,  0.04161915],\n",
       "              [ 0.17743257,  0.1       ,  0.00777563],\n",
       "              [-0.09282245,  0.1       , -0.13731815],\n",
       "              [-0.09282245,  0.1       , -0.01841353],\n",
       "              [-0.09282245,  0.23992461, -0.07786585],\n",
       "              [-0.03320122,  0.37984964,  0.0500144 ],\n",
       "              [-0.03320122,  0.37984964, -0.0500144 ],\n",
       "              [-0.06780408,  0.1       ,  0.16410232],\n",
       "              [-0.06780408,  0.1       , -0.16410232],\n",
       "              [ 0.03460286,  0.1       ,  0.17354023],\n",
       "              [ 0.03460286,  0.1       , -0.17354023],\n",
       "              [ 0.03460286,  0.23992461, -0.11408792],\n",
       "              [ 0.03460286,  0.23992461,  0.11408792]])"
      ]
     },
     "execution_count": 15,
     "metadata": {},
     "output_type": "execute_result"
    }
   ],
   "source": [
    "mesh.vertices[96:]"
   ]
  },
  {
   "cell_type": "code",
   "execution_count": 19,
   "metadata": {},
   "outputs": [
    {
     "ename": "TypeError",
     "evalue": "object of type 'int' has no len()",
     "output_type": "error",
     "traceback": [
      "\u001b[0;31m---------------------------------------------------------------------------\u001b[0m",
      "\u001b[0;31mTypeError\u001b[0m                                 Traceback (most recent call last)",
      "Cell \u001b[0;32mIn[19], line 2\u001b[0m\n\u001b[1;32m      1\u001b[0m a \u001b[38;5;241m=\u001b[39m \u001b[38;5;241m1\u001b[39m\n\u001b[0;32m----> 2\u001b[0m \u001b[38;5;28;43mlen\u001b[39;49m\u001b[43m(\u001b[49m\u001b[43ma\u001b[49m\u001b[43m)\u001b[49m\n",
      "\u001b[0;31mTypeError\u001b[0m: object of type 'int' has no len()"
     ]
    }
   ],
   "source": [
    "a = 1\n",
    "len(a)"
   ]
  },
  {
   "cell_type": "code",
   "execution_count": 18,
   "metadata": {},
   "outputs": [
    {
     "ename": "IndexError",
     "evalue": "index 195 is out of bounds for axis 0 with size 191",
     "output_type": "error",
     "traceback": [
      "\u001b[0;31m---------------------------------------------------------------------------\u001b[0m",
      "\u001b[0;31mIndexError\u001b[0m                                Traceback (most recent call last)",
      "Cell \u001b[0;32mIn[18], line 3\u001b[0m\n\u001b[1;32m      1\u001b[0m mesh \u001b[38;5;241m=\u001b[39m trimesh\u001b[38;5;241m.\u001b[39mload(\u001b[38;5;124m'\u001b[39m\u001b[38;5;124m/home/haoliangwang/b3d/assets/physion/all_flex_meshes/core/cone_cyn_96_191.obj\u001b[39m\u001b[38;5;124m'\u001b[39m)\n\u001b[0;32m----> 3\u001b[0m mesh \u001b[38;5;241m=\u001b[39m \u001b[43mtrimesh\u001b[49m\u001b[38;5;241;43m.\u001b[39;49m\u001b[43mTrimesh\u001b[49m\u001b[43m(\u001b[49m\u001b[43mvertices\u001b[49m\u001b[38;5;241;43m=\u001b[39;49m\u001b[43mmesh\u001b[49m\u001b[38;5;241;43m.\u001b[39;49m\u001b[43mvertices\u001b[49m\u001b[43m[\u001b[49m\u001b[38;5;241;43m96\u001b[39;49m\u001b[43m:\u001b[49m\u001b[43m]\u001b[49m\u001b[43m,\u001b[49m\u001b[43m \u001b[49m\u001b[43mfaces\u001b[49m\u001b[38;5;241;43m=\u001b[39;49m\u001b[43mmesh\u001b[49m\u001b[38;5;241;43m.\u001b[39;49m\u001b[43mfaces\u001b[49m\u001b[43m[\u001b[49m\u001b[38;5;241;43m188\u001b[39;49m\u001b[43m:\u001b[49m\u001b[43m]\u001b[49m\u001b[43m)\u001b[49m\n\u001b[1;32m      4\u001b[0m mesh \u001b[38;5;241m=\u001b[39m b3d\u001b[38;5;241m.\u001b[39mMesh\u001b[38;5;241m.\u001b[39mfrom_trimesh(mesh)\n\u001b[1;32m      5\u001b[0m mesh\u001b[38;5;241m.\u001b[39mrr_visualize(\u001b[38;5;124mf\u001b[39m\u001b[38;5;124m\"\u001b[39m\u001b[38;5;124mmesh_\u001b[39m\u001b[38;5;132;01m{\u001b[39;00midx\u001b[38;5;132;01m}\u001b[39;00m\u001b[38;5;124m\"\u001b[39m)\n",
      "File \u001b[0;32m~/b3d/.pixi/envs/gpu/lib/python3.12/site-packages/trimesh/base.py:207\u001b[0m, in \u001b[0;36mTrimesh.__init__\u001b[0;34m(self, vertices, faces, face_normals, vertex_normals, face_colors, vertex_colors, face_attributes, vertex_attributes, metadata, process, validate, merge_tex, merge_norm, use_embree, initial_cache, visual, **kwargs)\u001b[0m\n\u001b[1;32m    204\u001b[0m \u001b[38;5;66;03m# process will remove NaN and Inf values and merge vertices\u001b[39;00m\n\u001b[1;32m    205\u001b[0m \u001b[38;5;66;03m# if validate, will remove degenerate and duplicate faces\u001b[39;00m\n\u001b[1;32m    206\u001b[0m \u001b[38;5;28;01mif\u001b[39;00m process \u001b[38;5;129;01mor\u001b[39;00m validate:\n\u001b[0;32m--> 207\u001b[0m     \u001b[38;5;28;43mself\u001b[39;49m\u001b[38;5;241;43m.\u001b[39;49m\u001b[43mprocess\u001b[49m\u001b[43m(\u001b[49m\u001b[43mvalidate\u001b[49m\u001b[38;5;241;43m=\u001b[39;49m\u001b[43mvalidate\u001b[49m\u001b[43m,\u001b[49m\u001b[43m \u001b[49m\u001b[43mmerge_tex\u001b[49m\u001b[38;5;241;43m=\u001b[39;49m\u001b[43mmerge_tex\u001b[49m\u001b[43m,\u001b[49m\u001b[43m \u001b[49m\u001b[43mmerge_norm\u001b[49m\u001b[38;5;241;43m=\u001b[39;49m\u001b[43mmerge_norm\u001b[49m\u001b[43m)\u001b[49m\n",
      "File \u001b[0;32m~/b3d/.pixi/envs/gpu/lib/python3.12/site-packages/trimesh/base.py:258\u001b[0m, in \u001b[0;36mTrimesh.process\u001b[0;34m(self, validate, merge_tex, merge_norm)\u001b[0m\n\u001b[1;32m    253\u001b[0m     \u001b[38;5;66;03m# since none of our process operations moved vertices or faces\u001b[39;00m\n\u001b[1;32m    254\u001b[0m     \u001b[38;5;66;03m# we can keep face and vertex normals in the cache without recomputing\u001b[39;00m\n\u001b[1;32m    255\u001b[0m     \u001b[38;5;66;03m# if faces or vertices have been removed, normals are validated before\u001b[39;00m\n\u001b[1;32m    256\u001b[0m     \u001b[38;5;66;03m# being returned so there is no danger of inconsistent dimensions\u001b[39;00m\n\u001b[1;32m    257\u001b[0m     \u001b[38;5;28mself\u001b[39m\u001b[38;5;241m.\u001b[39mremove_infinite_values()\n\u001b[0;32m--> 258\u001b[0m     \u001b[38;5;28;43mself\u001b[39;49m\u001b[38;5;241;43m.\u001b[39;49m\u001b[43mmerge_vertices\u001b[49m\u001b[43m(\u001b[49m\u001b[43mmerge_tex\u001b[49m\u001b[38;5;241;43m=\u001b[39;49m\u001b[43mmerge_tex\u001b[49m\u001b[43m,\u001b[49m\u001b[43m \u001b[49m\u001b[43mmerge_norm\u001b[49m\u001b[38;5;241;43m=\u001b[39;49m\u001b[43mmerge_norm\u001b[49m\u001b[43m)\u001b[49m\n\u001b[1;32m    259\u001b[0m     \u001b[38;5;28mself\u001b[39m\u001b[38;5;241m.\u001b[39m_cache\u001b[38;5;241m.\u001b[39mclear(exclude\u001b[38;5;241m=\u001b[39m{\u001b[38;5;124m\"\u001b[39m\u001b[38;5;124mface_normals\u001b[39m\u001b[38;5;124m\"\u001b[39m, \u001b[38;5;124m\"\u001b[39m\u001b[38;5;124mvertex_normals\u001b[39m\u001b[38;5;124m\"\u001b[39m})\n\u001b[1;32m    261\u001b[0m \u001b[38;5;28mself\u001b[39m\u001b[38;5;241m.\u001b[39mmetadata[\u001b[38;5;124m\"\u001b[39m\u001b[38;5;124mprocessed\u001b[39m\u001b[38;5;124m\"\u001b[39m] \u001b[38;5;241m=\u001b[39m \u001b[38;5;28;01mTrue\u001b[39;00m\n",
      "File \u001b[0;32m~/b3d/.pixi/envs/gpu/lib/python3.12/site-packages/trimesh/base.py:1129\u001b[0m, in \u001b[0;36mTrimesh.merge_vertices\u001b[0;34m(self, merge_tex, merge_norm, digits_vertex, digits_norm, digits_uv)\u001b[0m\n\u001b[1;32m   1100\u001b[0m \u001b[38;5;28;01mdef\u001b[39;00m \u001b[38;5;21mmerge_vertices\u001b[39m(\n\u001b[1;32m   1101\u001b[0m     \u001b[38;5;28mself\u001b[39m,\n\u001b[1;32m   1102\u001b[0m     merge_tex: Optional[\u001b[38;5;28mbool\u001b[39m] \u001b[38;5;241m=\u001b[39m \u001b[38;5;28;01mNone\u001b[39;00m,\n\u001b[0;32m   (...)\u001b[0m\n\u001b[1;32m   1106\u001b[0m     digits_uv: Optional[\u001b[38;5;28mbool\u001b[39m] \u001b[38;5;241m=\u001b[39m \u001b[38;5;28;01mNone\u001b[39;00m,\n\u001b[1;32m   1107\u001b[0m ) \u001b[38;5;241m-\u001b[39m\u001b[38;5;241m>\u001b[39m \u001b[38;5;28;01mNone\u001b[39;00m:\n\u001b[1;32m   1108\u001b[0m \u001b[38;5;250m    \u001b[39m\u001b[38;5;124;03m\"\"\"\u001b[39;00m\n\u001b[1;32m   1109\u001b[0m \u001b[38;5;124;03m    Removes duplicate vertices grouped by position and\u001b[39;00m\n\u001b[1;32m   1110\u001b[0m \u001b[38;5;124;03m    optionally texture coordinate and normal.\u001b[39;00m\n\u001b[0;32m   (...)\u001b[0m\n\u001b[1;32m   1127\u001b[0m \u001b[38;5;124;03m      Number of digits to consider for UV coordinates\u001b[39;00m\n\u001b[1;32m   1128\u001b[0m \u001b[38;5;124;03m    \"\"\"\u001b[39;00m\n\u001b[0;32m-> 1129\u001b[0m     \u001b[43mgrouping\u001b[49m\u001b[38;5;241;43m.\u001b[39;49m\u001b[43mmerge_vertices\u001b[49m\u001b[43m(\u001b[49m\n\u001b[1;32m   1130\u001b[0m \u001b[43m        \u001b[49m\u001b[43mmesh\u001b[49m\u001b[38;5;241;43m=\u001b[39;49m\u001b[38;5;28;43mself\u001b[39;49m\u001b[43m,\u001b[49m\n\u001b[1;32m   1131\u001b[0m \u001b[43m        \u001b[49m\u001b[43mmerge_tex\u001b[49m\u001b[38;5;241;43m=\u001b[39;49m\u001b[43mmerge_tex\u001b[49m\u001b[43m,\u001b[49m\n\u001b[1;32m   1132\u001b[0m \u001b[43m        \u001b[49m\u001b[43mmerge_norm\u001b[49m\u001b[38;5;241;43m=\u001b[39;49m\u001b[43mmerge_norm\u001b[49m\u001b[43m,\u001b[49m\n\u001b[1;32m   1133\u001b[0m \u001b[43m        \u001b[49m\u001b[43mdigits_vertex\u001b[49m\u001b[38;5;241;43m=\u001b[39;49m\u001b[43mdigits_vertex\u001b[49m\u001b[43m,\u001b[49m\n\u001b[1;32m   1134\u001b[0m \u001b[43m        \u001b[49m\u001b[43mdigits_norm\u001b[49m\u001b[38;5;241;43m=\u001b[39;49m\u001b[43mdigits_norm\u001b[49m\u001b[43m,\u001b[49m\n\u001b[1;32m   1135\u001b[0m \u001b[43m        \u001b[49m\u001b[43mdigits_uv\u001b[49m\u001b[38;5;241;43m=\u001b[39;49m\u001b[43mdigits_uv\u001b[49m\u001b[43m,\u001b[49m\n\u001b[1;32m   1136\u001b[0m \u001b[43m    \u001b[49m\u001b[43m)\u001b[49m\n",
      "File \u001b[0;32m~/b3d/.pixi/envs/gpu/lib/python3.12/site-packages/trimesh/grouping.py:72\u001b[0m, in \u001b[0;36mmerge_vertices\u001b[0;34m(mesh, merge_tex, merge_norm, digits_vertex, digits_norm, digits_uv)\u001b[0m\n\u001b[1;32m     70\u001b[0m \u001b[38;5;28;01mif\u001b[39;00m \u001b[38;5;28mhasattr\u001b[39m(mesh, \u001b[38;5;124m\"\u001b[39m\u001b[38;5;124mfaces\u001b[39m\u001b[38;5;124m\"\u001b[39m) \u001b[38;5;129;01mand\u001b[39;00m \u001b[38;5;28mlen\u001b[39m(mesh\u001b[38;5;241m.\u001b[39mfaces) \u001b[38;5;241m>\u001b[39m \u001b[38;5;241m0\u001b[39m:\n\u001b[1;32m     71\u001b[0m     referenced \u001b[38;5;241m=\u001b[39m np\u001b[38;5;241m.\u001b[39mzeros(\u001b[38;5;28mlen\u001b[39m(mesh\u001b[38;5;241m.\u001b[39mvertices), dtype\u001b[38;5;241m=\u001b[39m\u001b[38;5;28mbool\u001b[39m)\n\u001b[0;32m---> 72\u001b[0m     \u001b[43mreferenced\u001b[49m\u001b[43m[\u001b[49m\u001b[43mmesh\u001b[49m\u001b[38;5;241;43m.\u001b[39;49m\u001b[43mfaces\u001b[49m\u001b[43m]\u001b[49m \u001b[38;5;241m=\u001b[39m \u001b[38;5;28;01mTrue\u001b[39;00m\n\u001b[1;32m     73\u001b[0m \u001b[38;5;28;01melse\u001b[39;00m:\n\u001b[1;32m     74\u001b[0m     \u001b[38;5;66;03m# this is used for geometry without faces\u001b[39;00m\n\u001b[1;32m     75\u001b[0m     referenced \u001b[38;5;241m=\u001b[39m np\u001b[38;5;241m.\u001b[39mones(\u001b[38;5;28mlen\u001b[39m(mesh\u001b[38;5;241m.\u001b[39mvertices), dtype\u001b[38;5;241m=\u001b[39m\u001b[38;5;28mbool\u001b[39m)\n",
      "\u001b[0;31mIndexError\u001b[0m: index 195 is out of bounds for axis 0 with size 191"
     ]
    }
   ],
   "source": [
    "mesh = trimesh.load('/home/haoliangwang/b3d/assets/physion/all_flex_meshes/core/cone_cyn_96_191.obj')\n",
    "\n",
    "mesh = trimesh.Trimesh(vertices=mesh.vertices[96:], faces=mesh.faces[188:])\n",
    "mesh = b3d.Mesh.from_trimesh(mesh)\n",
    "mesh.rr_visualize(f\"mesh_{idx}\")"
   ]
  },
  {
   "cell_type": "code",
   "execution_count": null,
   "metadata": {},
   "outputs": [],
   "source": [
    "scale_mesh\n",
    "\n",
    "mesh = trimesh.Trimesh(vertices=mesh.vertices[96:], faces=mesh.faces[188:])\n",
    "mesh = b3d.Mesh.from_trimesh(mesh)\n",
    "mesh.rr_visualize(f\"mesh_{idx}\")"
   ]
  }
 ],
 "metadata": {
  "kernelspec": {
   "display_name": "gpu",
   "language": "python",
   "name": "python3"
  },
  "language_info": {
   "codemirror_mode": {
    "name": "ipython",
    "version": 3
   },
   "file_extension": ".py",
   "mimetype": "text/x-python",
   "name": "python",
   "nbconvert_exporter": "python",
   "pygments_lexer": "ipython3",
   "version": "3.12.5"
  }
 },
 "nbformat": 4,
 "nbformat_minor": 2
}
