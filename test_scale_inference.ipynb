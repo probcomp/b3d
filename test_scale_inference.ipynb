{
 "cells": [
  {
   "cell_type": "code",
   "execution_count": 1,
   "metadata": {},
   "outputs": [],
   "source": [
    "import os\n",
    "import io\n",
    "import trimesh\n",
    "import b3d\n",
    "import genjax\n",
    "import jax\n",
    "import b3d.bayes3d as bayes3d\n",
    "import jax.numpy as jnp\n",
    "import numpy as np\n",
    "import rerun as rr\n",
    "from PIL import Image\n",
    "import matplotlib.pyplot as plt\n",
    "import h5py\n",
    "from tqdm import tqdm\n",
    "from genjax import Pytree\n",
    "import b3d.chisight.dense.dense_model\n",
    "import b3d.chisight.dense.likelihoods.laplace_likelihood\n",
    "genjax.pretty()\n"
   ]
  },
  {
   "cell_type": "markdown",
   "metadata": {},
   "source": [
    "## define helper functions"
   ]
  },
  {
   "cell_type": "code",
   "execution_count": 2,
   "metadata": {},
   "outputs": [],
   "source": [
    "def scale_mesh(vertices, scale_factor):\n",
    "    vertices[:, 0] *= scale_factor[0]\n",
    "    vertices[:, 1] *= scale_factor[1]\n",
    "    vertices[:, 2] *= scale_factor[2]\n",
    "    return vertices\n",
    "\n",
    "def euler_angles_to_quaternion(euler: np.ndarray) -> np.ndarray:\n",
    "    \"\"\"\n",
    "    Convert Euler angles to a quaternion.\n",
    "\n",
    "    Source: https://pastebin.com/riRLRvch\n",
    "\n",
    "    :param euler: The Euler angles vector.\n",
    "\n",
    "    :return: The quaternion representation of the Euler angles.\n",
    "    \"\"\"\n",
    "    pitch = np.radians(euler[0] * 0.5)\n",
    "    cp = np.cos(pitch)\n",
    "    sp = np.sin(pitch)\n",
    "\n",
    "    yaw = np.radians(euler[1] * 0.5)\n",
    "    cy = np.cos(yaw)\n",
    "    sy = np.sin(yaw)\n",
    "\n",
    "    roll = np.radians(euler[2] * 0.5)\n",
    "    cr = np.cos(roll)\n",
    "    sr = np.sin(roll)\n",
    "\n",
    "    x = sy * cp * sr + cy * sp * cr\n",
    "    y = sy * cp * cr - cy * sp * sr\n",
    "    z = cy * cp * sr - sy * sp * cr\n",
    "    w = cy * cp * cr + sy * sp * sr\n",
    "    return np.array([x, y, z, w])\n",
    "\n",
    "def get_mask_area(color, seg_img):\n",
    "    arr = seg_img == color\n",
    "    arr = arr.min(-1).astype('float')\n",
    "    arr = arr.reshape((arr.shape[-1], arr.shape[-1]))\n",
    "    return arr.astype(bool)\n",
    "\n",
    "def unproject_pixels(mask, depth_map, cam_matrix, fx, fy, vfov=54.43222, near_plane=0.1, far_plane=100):\n",
    "    '''\n",
    "    pts: [N, 2] pixel coords\n",
    "    depth: [N, ] depth values\n",
    "    returns: [N, 3] world coords\n",
    "    '''\n",
    "    depth = depth_map[mask]\n",
    "    pts = np.array([[x,y] for x,y in zip(np.nonzero(mask)[0], np.nonzero(mask)[1])])\n",
    "    camera_matrix = np.linalg.inv(cam_matrix.reshape((4, 4)))\n",
    "\n",
    "    # Different from real-world camera coordinate system.\n",
    "    # OpenGL uses negative z axis as the camera front direction.\n",
    "    # x axes are same, hence y axis is reversed as well.\n",
    "    # Source: https://learnopengl.com/Getting-started/Camera\n",
    "    rot = np.array([[1, 0, 0, 0],\n",
    "                    [0, -1, 0, 0],\n",
    "                    [0, 0, -1, 0],\n",
    "                    [0, 0, 0, 1]])\n",
    "    camera_matrix = np.dot(camera_matrix, rot)\n",
    "\n",
    "\n",
    "    height = depth_map.shape[0]\n",
    "    width = depth_map.shape[1]\n",
    "\n",
    "    img_pixs = pts[:, [1, 0]].T\n",
    "    img_pix_ones = np.concatenate((img_pixs, np.ones((1, img_pixs.shape[1]))))\n",
    "\n",
    "    # Calculate the intrinsic matrix from vertical_fov.\n",
    "    # Motice that hfov and vfov are different if height != width\n",
    "    # We can also get the intrinsic matrix from opengl's perspective matrix.\n",
    "    # http://kgeorge.github.io/2014/03/08/calculating-opengl-perspective-matrix-from-opencv-intrinsic-matrix\n",
    "    intrinsics = np.array([[fx, 0, width/ 2.0],\n",
    "                           [0, fy, height / 2.0],\n",
    "                           [0, 0, 1]])\n",
    "    img_inv = np.linalg.inv(intrinsics[:3, :3])\n",
    "    cam_img_mat = np.dot(img_inv, img_pix_ones)\n",
    "\n",
    "    points_in_cam = np.multiply(cam_img_mat, depth.reshape(-1))\n",
    "    points_in_cam = np.concatenate((points_in_cam, np.ones((1, points_in_cam.shape[1]))), axis=0)\n",
    "    points_in_world = np.dot(camera_matrix, points_in_cam)\n",
    "    points_in_world = points_in_world[:3, :].T#.reshape(3, height, width)\n",
    "    points_in_cam = points_in_cam[:3, :].T#.reshape(3, height, width)\n",
    "    \n",
    "    return points_in_world\n",
    "\n",
    "def set_axes_equal(ax):\n",
    "    \"\"\"\n",
    "    Make axes of 3D plot have equal scale so that spheres appear as spheres,\n",
    "    cubes as cubes, etc.\n",
    "\n",
    "    Input\n",
    "      ax: a matplotlib axis, e.g., as output from plt.gca().\n",
    "    \"\"\"\n",
    "\n",
    "    x_limits = ax.get_xlim3d()\n",
    "    y_limits = ax.get_ylim3d()\n",
    "    z_limits = ax.get_zlim3d()\n",
    "\n",
    "    x_range = abs(x_limits[1] - x_limits[0])\n",
    "    x_middle = np.mean(x_limits)\n",
    "    y_range = abs(y_limits[1] - y_limits[0])\n",
    "    y_middle = np.mean(y_limits)\n",
    "    z_range = abs(z_limits[1] - z_limits[0])\n",
    "    z_middle = np.mean(z_limits)\n",
    "\n",
    "    # The plot bounding box is a sphere in the sense of the infinity\n",
    "    # norm, hence I call half the max range the plot radius.\n",
    "    plot_radius = 0.5*max([x_range, y_range, z_range])\n",
    "\n",
    "    ax.set_xlim3d([x_middle - plot_radius, x_middle + plot_radius])\n",
    "    ax.set_ylim3d([y_middle - plot_radius, y_middle + plot_radius])\n",
    "    ax.set_zlim3d([z_middle - plot_radius, z_middle + plot_radius])\n"
   ]
  },
  {
   "cell_type": "markdown",
   "metadata": {},
   "source": [
    "## load basic information from hdf5"
   ]
  },
  {
   "cell_type": "code",
   "execution_count": 3,
   "metadata": {},
   "outputs": [],
   "source": [
    "# paths for reading physion metadata\n",
    "physion_assets_path = os.path.join(\n",
    "    b3d.get_root_path(),\n",
    "    \"assets/physion/\",)\n",
    "\n",
    "# stim_name = 'lf_0/dominoes_all_movies/pilot_dominoes_0mid_d3chairs_o1plants_tdwroom_0012'\n",
    "stim_name = '0012_dominoes'\n",
    "\n",
    "hdf5_file_path = os.path.join(physion_assets_path,\n",
    "    f\"{stim_name}.hdf5\",\n",
    ")\n",
    "\n",
    "mesh_file_path = os.path.join(physion_assets_path,\n",
    "    f\"all_flex_meshes/all\",\n",
    ")"
   ]
  },
  {
   "cell_type": "code",
   "execution_count": 4,
   "metadata": {},
   "outputs": [],
   "source": [
    "vfov = 54.43222 \n",
    "near_plane = 0.1\n",
    "far_plane = 100\n",
    "depth_arr = []\n",
    "image_arr = []\n",
    "with h5py.File(hdf5_file_path, \"r\") as f:\n",
    "    # extract depth info\n",
    "    for key in f['frames'].keys():\n",
    "        depth = jnp.flip(jnp.array(f['frames'][key]['images']['_depth_cam0']), 0)\n",
    "        depth_arr.append(depth)\n",
    "        image = jnp.array(Image.open(io.BytesIO(f['frames'][key]['images']['_img_cam0'][:])))\n",
    "        image_arr.append(image)\n",
    "    depth_arr = jnp.asarray(depth_arr)\n",
    "    image_arr = jnp.asarray(image_arr)/255\n",
    "    FINAL_T, height, width = image_arr.shape[0], image_arr.shape[1], image_arr.shape[2]\n",
    "\n",
    "    # extract camera info\n",
    "    camera_azimuth = np.array(f['azimuth']['cam_0'])\n",
    "    camera_matrix = np.array(f['frames']['0000']['camera_matrices']['camera_matrix_cam0']).reshape((4, 4))\n",
    "    projection_matrix = np.array(f['frames']['0000']['camera_matrices']['projection_matrix_cam0']).reshape((4, 4))\n",
    "    im_seg = np.array(Image.open(io.BytesIO(f['frames']['0000']['images']['_id_cam0'][:])))\n",
    "\n",
    "    vfov = vfov / 180.0 * np.pi\n",
    "    tan_half_vfov = np.tan(vfov / 2.0)\n",
    "    tan_half_hfov = tan_half_vfov * width / float(height)\n",
    "    fx = width / 2.0 / tan_half_hfov  # focal length in pixel space\n",
    "    fy = height / 2.0 / tan_half_vfov\n",
    "\n",
    "    # extract object info\n",
    "    object_ids = np.array(f['static']['object_ids'])\n",
    "    model_names = np.array(f['static']['model_names'])\n",
    "    assert len(object_ids) == len(model_names)\n",
    "    object_segmentation_colors = np.array(f['static']['object_segmentation_colors'])\n",
    "    initial_position = np.array(f['static']['initial_position'])\n",
    "    initial_rotation = np.array(f['static']['initial_rotation'])\n",
    "    scales = jnp.array(f['static']['scale'])"
   ]
  },
  {
   "cell_type": "code",
   "execution_count": 5,
   "metadata": {},
   "outputs": [],
   "source": [
    "# print(scales)"
   ]
  },
  {
   "cell_type": "markdown",
   "metadata": {},
   "source": [
    "## b3d modeling"
   ]
  },
  {
   "cell_type": "code",
   "execution_count": 6,
   "metadata": {},
   "outputs": [],
   "source": [
    "counter = np.unique(im_seg.reshape(-1, im_seg.shape[2]), axis=0)\n",
    "num_obj = counter.shape[0]-1"
   ]
  },
  {
   "cell_type": "code",
   "execution_count": 7,
   "metadata": {},
   "outputs": [],
   "source": [
    "# skipping the object id inference step, assuming that we already know which segment mask corresponds to which mesh\n",
    "START_T = 0\n",
    "pose_mesh_color_scale_from_point_cloud = []\n",
    "for (model_name, color, scale) in zip(model_names, object_segmentation_colors, scales):\n",
    "    area = get_mask_area(im_seg, color)\n",
    "    point_cloud = jnp.asarray(unproject_pixels(area, depth_arr[START_T], camera_matrix, fx, fy))\n",
    "    point_cloud_centroid = point_cloud.mean(0)\n",
    "    point_cloud_bottom = min(point_cloud[:,1])\n",
    "    object_pose = b3d.Pose.from_translation(jnp.array([point_cloud_centroid[0], point_cloud_bottom, point_cloud_centroid[2]]))\n",
    "    # print(\"gt pose: \", object_pose)\n",
    "    object_colors = jnp.asarray(image_arr[START_T][area])\n",
    "    mean_object_colors = np.mean(object_colors, axis=0)\n",
    "    trim = trimesh.load(os.path.join(mesh_file_path, f\"{model_name.decode('UTF-8')}.obj\"))\n",
    "    bounding_box = trim.bounding_box\n",
    "    bbox_corners = bounding_box.vertices\n",
    "    original_size = jnp.array((max(bbox_corners[:,0])-min(bbox_corners[:,0]), max(bbox_corners[:,1])-min(bbox_corners[:,1]), max(bbox_corners[:,2])-min(bbox_corners[:,2])))\n",
    "    point_cloud_size = jnp.array((max(point_cloud[:,0])-min(point_cloud[:,0]), max(point_cloud[:,1])-min(point_cloud[:,1]), max(point_cloud[:,2])-min(point_cloud[:,2])))\n",
    "    object_scale = jnp.abs(point_cloud_size/original_size)\n",
    "    mesh_info = (scale_mesh(trim.vertices, object_scale), trim.faces, jnp.ones(trim.vertices.shape)*mean_object_colors)\n",
    "    # mesh_info = (scale_mesh(trim.vertices, scale), trim.faces, jnp.ones(trim.vertices.shape)*mean_object_colors)\n",
    "    # print(object_scale)\n",
    "    pose_mesh_color_scale_from_point_cloud.append((object_pose, mesh_info))"
   ]
  },
  {
   "cell_type": "code",
   "execution_count": 8,
   "metadata": {},
   "outputs": [],
   "source": [
    "# %matplotlib widget\n",
    "\n",
    "# for idx, (_, mesh) in enumerate(pose_mesh_color_scale_from_point_cloud):\n",
    "#       fig = plt.figure()\n",
    "#       ax = fig.add_subplot(projection='3d')\n",
    "#       ax.set_box_aspect([1,1,1])\n",
    "#       ax.plot_trisurf(mesh[0][:, 0], mesh[0][:,2], mesh[0][:,1], triangles=mesh[1], color=np.mean(mesh[2], axis=0).tolist())\n",
    "#       ax.set_title(idx)\n",
    "#       set_axes_equal(ax)"
   ]
  },
  {
   "cell_type": "code",
   "execution_count": 9,
   "metadata": {},
   "outputs": [],
   "source": [
    "# all_object_poses_gt = []\n",
    "# for idx in range(len(object_ids)):\n",
    "#     object_pose = b3d.Pose(jnp.asarray(initial_position[idx]), jnp.asarray(euler_angles_to_quaternion(initial_rotation[idx])))\n",
    "#     all_object_poses_gt.append(object_pose)\n",
    "# all_object_poses_gt"
   ]
  },
  {
   "cell_type": "code",
   "execution_count": 10,
   "metadata": {},
   "outputs": [
    {
     "name": "stdout",
     "output_type": "stream",
     "text": [
      "5 objects in library\n"
     ]
    }
   ],
   "source": [
    "object_library = []\n",
    "for (_, obj) in pose_mesh_color_scale_from_point_cloud:\n",
    "    object_library.append(b3d.Mesh(obj[0], obj[1], obj[2]))\n",
    "\n",
    "print(f\"{len(object_library)} objects in library\")"
   ]
  },
  {
   "cell_type": "code",
   "execution_count": 11,
   "metadata": {},
   "outputs": [],
   "source": [
    "R = camera_matrix[:3,:3]\n",
    "T = camera_matrix[0:3, 3]\n",
    "a = np.array([-R[0,:], -R[1,:], -R[2,:]])\n",
    "b = np.array(T)\n",
    "camera_position_from_matrix = np.linalg.solve(a, b)\n",
    "camera_rotation_from_matrix = -np.transpose(R)\n",
    "camera_pose = b3d.Pose(\n",
    "    camera_position_from_matrix,\n",
    "    b3d.Rot.from_matrix(camera_rotation_from_matrix).as_quat()\n",
    ")"
   ]
  },
  {
   "cell_type": "code",
   "execution_count": 12,
   "metadata": {},
   "outputs": [
    {
     "name": "stderr",
     "output_type": "stream",
     "text": [
      "/home/hlwang_ipe_genjax/b3d/.pixi/envs/gpu/lib/python3.12/site-packages/torch/utils/cpp_extension.py:1967: UserWarning: TORCH_CUDA_ARCH_LIST is not set, all archs for visible cards are included for compilation. \n",
      "If this is not desired, please set os.environ['TORCH_CUDA_ARCH_LIST'].\n",
      "  warnings.warn(\n"
     ]
    }
   ],
   "source": [
    "# Defines the enumeration schedule.\n",
    "scaling_factor = 1.0\n",
    "renderer = b3d.renderer.renderer_original.RendererOriginal(\n",
    "    width * scaling_factor,\n",
    "    height * scaling_factor,\n",
    "    fx * scaling_factor,\n",
    "    fy * scaling_factor,\n",
    "    (width/2) * scaling_factor,\n",
    "    (height/2) * scaling_factor,\n",
    "    near_plane,\n",
    "    far_plane,\n",
    ")\n",
    "\n",
    "b3d.reload(b3d.chisight.dense.dense_model)\n",
    "b3d.reload(b3d.chisight.dense.likelihoods.laplace_likelihood)\n",
    "likelihood_func = b3d.chisight.dense.likelihoods.laplace_likelihood.likelihood_func\n",
    "model, viz_trace, info_from_trace = (\n",
    "    b3d.chisight.dense.dense_model.make_dense_multiobject_model(\n",
    "        renderer, likelihood_func\n",
    "    )\n",
    ")\n",
    "importance_jit = jax.jit(model.importance)\n",
    "\n",
    "likelihood_args = {\n",
    "    \"fx\": renderer.fx,\n",
    "    \"fy\": renderer.fy,\n",
    "    \"cx\": renderer.cx,\n",
    "    \"cy\": renderer.cy,\n",
    "    \"image_width\": Pytree.const(renderer.width),\n",
    "    \"image_height\": Pytree.const(renderer.height),\n",
    "}\n"
   ]
  },
  {
   "cell_type": "code",
   "execution_count": 13,
   "metadata": {},
   "outputs": [],
   "source": [
    "num_pose_grid = 9\n",
    "\n",
    "# Gridding on translation only.\n",
    "translation_deltas = b3d.Pose.concatenate_poses(\n",
    "    [\n",
    "        jax.vmap(lambda p: b3d.Pose.from_translation(p))(\n",
    "            jnp.stack(\n",
    "                jnp.meshgrid(\n",
    "                    jnp.linspace(-0.1, 0.1, num_pose_grid),\n",
    "                    jnp.linspace(-0.1, 0.1, num_pose_grid),\n",
    "                    jnp.linspace(-0.1, 0.1, num_pose_grid),\n",
    "                ),\n",
    "                axis=-1,\n",
    "            ).reshape(-1, 3)\n",
    "        ),\n",
    "        b3d.Pose.identity()[None, ...],\n",
    "    ]\n",
    ")\n",
    "# Sample orientations from a VMF to define a \"grid\" over orientations.\n",
    "rotation_deltas = b3d.Pose.concatenate_poses(\n",
    "    [\n",
    "        jax.vmap(b3d.Pose.sample_gaussian_vmf_pose, in_axes=(0, None, None, None))(\n",
    "            jax.random.split(jax.random.PRNGKey(0), num_pose_grid * num_pose_grid * num_pose_grid),\n",
    "            b3d.Pose.identity(),\n",
    "            0.0001,\n",
    "            100.0,\n",
    "        ),\n",
    "        b3d.Pose.identity()[None, ...],\n",
    "    ]\n",
    ")\n",
    "all_deltas = b3d.Pose.stack_poses([translation_deltas, rotation_deltas])\n",
    "\n",
    "num_scale_grid = 5\n",
    "scale_deltas = dict(\n",
    "    [(\"x\", jnp.array([[x,1,1] for x in jnp.linspace(0.6, 1.1, num_scale_grid)]+[[1,1,1]]).reshape(-1, 3)), \n",
    "     (\"y\", jnp.array([[1,y,1] for y in jnp.linspace(0.6, 1.1, num_scale_grid)]+[[1,1,1]]).reshape(-1, 3)), \n",
    "     (\"z\", jnp.array([[1,1,z] for z in jnp.linspace(0.6, 1.1, num_scale_grid)]+[[1,1,1]]).reshape(-1, 3))])"
   ]
  },
  {
   "cell_type": "code",
   "execution_count": 14,
   "metadata": {},
   "outputs": [],
   "source": [
    "rgbds = jnp.concatenate([jnp.flip(image_arr,2), jnp.reshape(jnp.flip(depth_arr,2), depth_arr.shape+(1,))], axis=-1)\n",
    "# rgbds.shape"
   ]
  },
  {
   "cell_type": "code",
   "execution_count": 15,
   "metadata": {},
   "outputs": [],
   "source": [
    "# fig = plt.figure(figsize=[10, 5])\n",
    "# ax = fig.add_subplot(121)\n",
    "# ax.imshow(rgbds[START_T][..., 0:3])\n",
    "\n",
    "# ax = fig.add_subplot(122)\n",
    "# ax.imshow(rgbds[START_T][..., -1])"
   ]
  },
  {
   "cell_type": "code",
   "execution_count": 21,
   "metadata": {},
   "outputs": [],
   "source": [
    "rr.init(\"demo\")\n",
    "rr.connect(\"127.0.0.1:8812\")\n",
    "# b3d.rr_init(\"demo\")\n",
    "rr.log(\"/\", rr.ViewCoordinates.LEFT_HAND_Y_UP, static=True)  # Set an up-axis"
   ]
  },
  {
   "cell_type": "code",
   "execution_count": 22,
   "metadata": {},
   "outputs": [],
   "source": [
    "# Initial trace for timestep 0\n",
    "choice_map = dict([(\"camera_pose\", camera_pose), \n",
    "                   (\"rgbd\", rgbds[START_T]), \n",
    "                   (\"depth_noise_variance\", 0.01),\n",
    "                   (\"color_noise_variance\", 0.08),\n",
    "                   (\"outlier_probability\", 0.1)] + \n",
    "                   [(f\"object_pose_{idx}\", pose_mesh_color_scale_from_point_cloud[idx][0]) for idx in range(num_obj)]\n",
    "                   + [(f\"object_scale_{idx}\", jnp.array([1.0, 1.0, 1.0])) for idx in range(num_obj)]\n",
    "                   )\n",
    "\n",
    "trace, _ = importance_jit(\n",
    "    jax.random.PRNGKey(0),\n",
    "    genjax.ChoiceMap.d(\n",
    "        choice_map\n",
    "    ),\n",
    "    (\n",
    "        {\n",
    "            \"num_objects\": Pytree.const(num_obj),\n",
    "            \"meshes\": object_library,\n",
    "            \"likelihood_args\": likelihood_args,\n",
    "            # \"check_interp\": Pytree.const(False),\n",
    "        },\n",
    "    ),\n",
    ")\n",
    "original_trace = trace\n",
    "viz_trace(trace, 0, cloud=True)"
   ]
  },
  {
   "cell_type": "code",
   "execution_count": 18,
   "metadata": {},
   "outputs": [
    {
     "name": "stdout",
     "output_type": "stream",
     "text": [
      "58654.45\n"
     ]
    }
   ],
   "source": [
    "print(trace.get_score())"
   ]
  },
  {
   "cell_type": "code",
   "execution_count": 19,
   "metadata": {},
   "outputs": [
    {
     "name": "stdout",
     "output_type": "stream",
     "text": [
      "0\n",
      "obj 0\n"
     ]
    },
    {
     "name": "stderr",
     "output_type": "stream",
     "text": [
      "2024-09-18 20:02:58.566745: W external/xla/xla/service/hlo_rematerialization.cc:2948] Can't reduce memory use below 16.67GiB (17895516261 bytes) by rematerialization; only reduced to 17.54GiB (18838890356 bytes), down from 17.54GiB (18838913116 bytes) originally\n"
     ]
    },
    {
     "ename": "RuntimeError",
     "evalue": "OpenGL error: GL_INVALID_VALUE 1281[glTexImage3D(GL_TEXTURE_2D_ARRAY, 0, GL_RGBA32F, s.width, s.height, s.depth, 0, GL_RGBA, GL_UNSIGNED_BYTE, 0);]\nException raised from rasterizeResizeBuffers at /home/hlwang_ipe_genjax/b3d/src/b3d/renderer/nvdiffrast_jax/nvdiffrast/common/rasterize_gl.cpp:413 (most recent call first):\nframe #0: c10::Error::Error(c10::SourceLocation, std::__cxx11::basic_string<char, std::char_traits<char>, std::allocator<char> >) + 0xb2 (0x7f69bf54ef12 in /home/hlwang_ipe_genjax/b3d/.pixi/envs/gpu/lib/python3.12/site-packages/torch/lib/../../../../libc10.so)\nframe #1: c10::detail::torchCheckFail(char const*, char const*, unsigned int, std::__cxx11::basic_string<char, std::char_traits<char>, std::allocator<char> > const&) + 0xd2 (0x7f69bf4f9958 in /home/hlwang_ipe_genjax/b3d/.pixi/envs/gpu/lib/python3.12/site-packages/torch/lib/../../../../libc10.so)\nframe #2: rasterizeResizeBuffers(int, RasterizeGLState&, bool&, int, int, int, int, int) + 0xbdd (0x7f6dbdc6a468 in /home/hlwang_ipe_genjax/.cache/torch_extensions/py312_cu120/nvdiffrast_plugin_original_gl/nvdiffrast_plugin_original_gl.so)\nframe #3: _rasterize_fwd_gl(CUstream_st*, RasterizeGLStateWrapper&, float const*, int const*, std::vector<int, std::allocator<int> >, std::vector<int, std::allocator<int> >, float*, float*) + 0x1b0 (0x7f6dbdc911f4 in /home/hlwang_ipe_genjax/.cache/torch_extensions/py312_cu120/nvdiffrast_plugin_original_gl/nvdiffrast_plugin_original_gl.so)\nframe #4: jax_rasterize_fwd_gl(CUstream_st*, void**, char const*, unsigned long) + 0x279 (0x7f6dbdc91551 in /home/hlwang_ipe_genjax/.cache/torch_extensions/py312_cu120/nvdiffrast_plugin_original_gl/nvdiffrast_plugin_original_gl.so)\nframe #5: <unknown function> + 0x3cee0fe (0x7f6c9ac190fe in /home/hlwang_ipe_genjax/b3d/.pixi/envs/gpu/lib/python3.12/site-packages/jaxlib/xla_extension.so)\nframe #6: <unknown function> + 0x3cf0c15 (0x7f6c9ac1bc15 in /home/hlwang_ipe_genjax/b3d/.pixi/envs/gpu/lib/python3.12/site-packages/jaxlib/xla_extension.so)\nframe #7: <unknown function> + 0x4a9a3dd (0x7f6c9b9c53dd in /home/hlwang_ipe_genjax/b3d/.pixi/envs/gpu/lib/python3.12/site-packages/jaxlib/xla_extension.so)\nframe #8: <unknown function> + 0x4a9c0c0 (0x7f6c9b9c70c0 in /home/hlwang_ipe_genjax/b3d/.pixi/envs/gpu/lib/python3.12/site-packages/jaxlib/xla_extension.so)\nframe #9: <unknown function> + 0x4a9c81f (0x7f6c9b9c781f in /home/hlwang_ipe_genjax/b3d/.pixi/envs/gpu/lib/python3.12/site-packages/jaxlib/xla_extension.so)\nframe #10: <unknown function> + 0x70d7d16 (0x7f6c9e002d16 in /home/hlwang_ipe_genjax/b3d/.pixi/envs/gpu/lib/python3.12/site-packages/jaxlib/xla_extension.so)\nframe #11: <unknown function> + 0x1555791 (0x7f6c98480791 in /home/hlwang_ipe_genjax/b3d/.pixi/envs/gpu/lib/python3.12/site-packages/jaxlib/xla_extension.so)\nframe #12: <unknown function> + 0x15561ea (0x7f6c984811ea in /home/hlwang_ipe_genjax/b3d/.pixi/envs/gpu/lib/python3.12/site-packages/jaxlib/xla_extension.so)\nframe #13: <unknown function> + 0x14d2add (0x7f6c983fdadd in /home/hlwang_ipe_genjax/b3d/.pixi/envs/gpu/lib/python3.12/site-packages/jaxlib/xla_extension.so)\nframe #14: <unknown function> + 0x14d3f35 (0x7f6c983fef35 in /home/hlwang_ipe_genjax/b3d/.pixi/envs/gpu/lib/python3.12/site-packages/jaxlib/xla_extension.so)\nframe #15: <unknown function> + 0x14d62e4 (0x7f6c984012e4 in /home/hlwang_ipe_genjax/b3d/.pixi/envs/gpu/lib/python3.12/site-packages/jaxlib/xla_extension.so)\nframe #16: <unknown function> + 0x15b6330 (0x7f6c984e1330 in /home/hlwang_ipe_genjax/b3d/.pixi/envs/gpu/lib/python3.12/site-packages/jaxlib/xla_extension.so)\nframe #17: <unknown function> + 0x14569b9 (0x7f6c983819b9 in /home/hlwang_ipe_genjax/b3d/.pixi/envs/gpu/lib/python3.12/site-packages/jaxlib/xla_extension.so)\nframe #18: <unknown function> + 0x1458512 (0x7f6c98383512 in /home/hlwang_ipe_genjax/b3d/.pixi/envs/gpu/lib/python3.12/site-packages/jaxlib/xla_extension.so)\nframe #19: <unknown function> + 0xa0aa79 (0x7f6c97935a79 in /home/hlwang_ipe_genjax/b3d/.pixi/envs/gpu/lib/python3.12/site-packages/jaxlib/xla_extension.so)\nframe #20: <unknown function> + 0x1601bec (0x7f6c9852cbec in /home/hlwang_ipe_genjax/b3d/.pixi/envs/gpu/lib/python3.12/site-packages/jaxlib/xla_extension.so)\nframe #21: PyObject_Vectorcall + 0x4f (0x556a0de48fcf in /home/hlwang_ipe_genjax/b3d/.pixi/envs/gpu/bin/python)\nframe #22: <unknown function> + 0x113f65 (0x556a0dd3af65 in /home/hlwang_ipe_genjax/b3d/.pixi/envs/gpu/bin/python)\nframe #23: _PyObject_FastCallDictTstate + 0x1fa (0x556a0de36c1a in /home/hlwang_ipe_genjax/b3d/.pixi/envs/gpu/bin/python)\nframe #24: _PyObject_Call_Prepend + 0xe9 (0x556a0de62899 in /home/hlwang_ipe_genjax/b3d/.pixi/envs/gpu/bin/python)\nframe #25: <unknown function> + 0x311693 (0x556a0df38693 in /home/hlwang_ipe_genjax/b3d/.pixi/envs/gpu/bin/python)\nframe #26: _PyObject_Call + 0xb5 (0x556a0de652e5 in /home/hlwang_ipe_genjax/b3d/.pixi/envs/gpu/bin/python)\nframe #27: <unknown function> + 0x114ca6 (0x556a0dd3bca6 in /home/hlwang_ipe_genjax/b3d/.pixi/envs/gpu/bin/python)\nframe #28: PyObject_Vectorcall + 0x4f (0x556a0de48fcf in /home/hlwang_ipe_genjax/b3d/.pixi/envs/gpu/bin/python)\nframe #29: <unknown function> + 0xa7d848 (0x7f6c979a8848 in /home/hlwang_ipe_genjax/b3d/.pixi/envs/gpu/lib/python3.12/site-packages/jaxlib/xla_extension.so)\nframe #30: <unknown function> + 0xa7e3cc (0x7f6c979a93cc in /home/hlwang_ipe_genjax/b3d/.pixi/envs/gpu/lib/python3.12/site-packages/jaxlib/xla_extension.so)\nframe #31: <unknown function> + 0x114ca6 (0x556a0dd3bca6 in /home/hlwang_ipe_genjax/b3d/.pixi/envs/gpu/bin/python)\nframe #32: <unknown function> + 0x25aeec (0x556a0de81eec in /home/hlwang_ipe_genjax/b3d/.pixi/envs/gpu/bin/python)\nframe #33: <unknown function> + 0x25a9fd (0x556a0de819fd in /home/hlwang_ipe_genjax/b3d/.pixi/envs/gpu/bin/python)\nframe #34: _PyObject_Call + 0x123 (0x556a0de65353 in /home/hlwang_ipe_genjax/b3d/.pixi/envs/gpu/bin/python)\nframe #35: <unknown function> + 0x114ca6 (0x556a0dd3bca6 in /home/hlwang_ipe_genjax/b3d/.pixi/envs/gpu/bin/python)\nframe #36: PyObject_Vectorcall + 0x4f (0x556a0de48fcf in /home/hlwang_ipe_genjax/b3d/.pixi/envs/gpu/bin/python)\nframe #37: <unknown function> + 0xa7d848 (0x7f6c979a8848 in /home/hlwang_ipe_genjax/b3d/.pixi/envs/gpu/lib/python3.12/site-packages/jaxlib/xla_extension.so)\nframe #38: <unknown function> + 0xa7e3cc (0x7f6c979a93cc in /home/hlwang_ipe_genjax/b3d/.pixi/envs/gpu/lib/python3.12/site-packages/jaxlib/xla_extension.so)\nframe #39: PyObject_Vectorcall + 0x4f (0x556a0de48fcf in /home/hlwang_ipe_genjax/b3d/.pixi/envs/gpu/bin/python)\nframe #40: <unknown function> + 0x113f65 (0x556a0dd3af65 in /home/hlwang_ipe_genjax/b3d/.pixi/envs/gpu/bin/python)\nframe #41: PyEval_EvalCode + 0xae (0x556a0deeeece in /home/hlwang_ipe_genjax/b3d/.pixi/envs/gpu/bin/python)\nframe #42: <unknown function> + 0x2e3edd (0x556a0df0aedd in /home/hlwang_ipe_genjax/b3d/.pixi/envs/gpu/bin/python)\nframe #43: <unknown function> + 0x115857 (0x556a0dd3c857 in /home/hlwang_ipe_genjax/b3d/.pixi/envs/gpu/bin/python)\nframe #44: <unknown function> + 0x2de852 (0x556a0df05852 in /home/hlwang_ipe_genjax/b3d/.pixi/envs/gpu/bin/python)\nframe #45: <unknown function> + 0x2dfb87 (0x556a0df06b87 in /home/hlwang_ipe_genjax/b3d/.pixi/envs/gpu/bin/python)\nframe #46: <unknown function> + 0x116206 (0x556a0dd3d206 in /home/hlwang_ipe_genjax/b3d/.pixi/envs/gpu/bin/python)\nframe #47: <unknown function> + 0x25aeec (0x556a0de81eec in /home/hlwang_ipe_genjax/b3d/.pixi/envs/gpu/bin/python)\nframe #48: <unknown function> + 0x25a9fd (0x556a0de819fd in /home/hlwang_ipe_genjax/b3d/.pixi/envs/gpu/bin/python)\nframe #49: _PyObject_Call + 0x123 (0x556a0de65353 in /home/hlwang_ipe_genjax/b3d/.pixi/envs/gpu/bin/python)\nframe #50: <unknown function> + 0x114ca6 (0x556a0dd3bca6 in /home/hlwang_ipe_genjax/b3d/.pixi/envs/gpu/bin/python)\nframe #51: <unknown function> + 0x2de852 (0x556a0df05852 in /home/hlwang_ipe_genjax/b3d/.pixi/envs/gpu/bin/python)\nframe #52: <unknown function> + 0x8200 (0x7f6dd93f1200 in /home/hlwang_ipe_genjax/b3d/.pixi/envs/gpu/lib/python3.12/lib-dynload/_asyncio.cpython-312-x86_64-linux-gnu.so)\nframe #53: <unknown function> + 0x89b4 (0x7f6dd93f19b4 in /home/hlwang_ipe_genjax/b3d/.pixi/envs/gpu/lib/python3.12/lib-dynload/_asyncio.cpython-312-x86_64-linux-gnu.so)\nframe #54: <unknown function> + 0x22beaa (0x556a0de52eaa in /home/hlwang_ipe_genjax/b3d/.pixi/envs/gpu/bin/python)\nframe #55: <unknown function> + 0x35de9c (0x556a0df84e9c in /home/hlwang_ipe_genjax/b3d/.pixi/envs/gpu/bin/python)\nframe #56: <unknown function> + 0x1ca7b3 (0x556a0ddf17b3 in /home/hlwang_ipe_genjax/b3d/.pixi/envs/gpu/bin/python)\nframe #57: <unknown function> + 0x222246 (0x556a0de49246 in /home/hlwang_ipe_genjax/b3d/.pixi/envs/gpu/bin/python)\nframe #58: <unknown function> + 0x114ca6 (0x556a0dd3bca6 in /home/hlwang_ipe_genjax/b3d/.pixi/envs/gpu/bin/python)\nframe #59: PyEval_EvalCode + 0xae (0x556a0deeeece in /home/hlwang_ipe_genjax/b3d/.pixi/envs/gpu/bin/python)\nframe #60: <unknown function> + 0x2e3edd (0x556a0df0aedd in /home/hlwang_ipe_genjax/b3d/.pixi/envs/gpu/bin/python)\nframe #61: <unknown function> + 0x222246 (0x556a0de49246 in /home/hlwang_ipe_genjax/b3d/.pixi/envs/gpu/bin/python)\nframe #62: PyObject_Vectorcall + 0x4f (0x556a0de48fcf in /home/hlwang_ipe_genjax/b3d/.pixi/envs/gpu/bin/python)\nframe #63: <unknown function> + 0x113f65 (0x556a0dd3af65 in /home/hlwang_ipe_genjax/b3d/.pixi/envs/gpu/bin/python)\n",
     "output_type": "error",
     "traceback": [
      "\u001b[0;31m---------------------------------------------------------------------------\u001b[0m",
      "\u001b[0;31mRuntimeError\u001b[0m                              Traceback (most recent call last)",
      "Cell \u001b[0;32mIn[19], line 12\u001b[0m\n\u001b[1;32m      7\u001b[0m \u001b[38;5;28mprint\u001b[39m(\u001b[38;5;124mf\u001b[39m\u001b[38;5;124m\"\u001b[39m\u001b[38;5;124mobj \u001b[39m\u001b[38;5;132;01m{\u001b[39;00midx\u001b[38;5;132;01m}\u001b[39;00m\u001b[38;5;124m\"\u001b[39m)\n\u001b[1;32m      8\u001b[0m \u001b[38;5;66;03m# trace, key = bayes3d.enumerate_and_select_best_move_new(\u001b[39;00m\n\u001b[1;32m      9\u001b[0m \u001b[38;5;66;03m#     trace, Pytree.const((f\"object_pose_{idx}\", f\"object_scale_{idx}\",)), key, [all_deltas, scale_deltas['x']]\u001b[39;00m\n\u001b[1;32m     10\u001b[0m \u001b[38;5;66;03m#     # trace, Pytree.const((f\"object_pose_{idx}\",)), key, [all_deltas]\u001b[39;00m\n\u001b[1;32m     11\u001b[0m \u001b[38;5;66;03m# )\u001b[39;00m\n\u001b[0;32m---> 12\u001b[0m trace, key \u001b[38;5;241m=\u001b[39m \u001b[43mbayes3d\u001b[49m\u001b[38;5;241;43m.\u001b[39;49m\u001b[43menumerate_and_select_best_move\u001b[49m\u001b[43m(\u001b[49m\n\u001b[1;32m     13\u001b[0m \u001b[43m    \u001b[49m\u001b[43mtrace\u001b[49m\u001b[43m,\u001b[49m\u001b[43m \u001b[49m\u001b[43mPytree\u001b[49m\u001b[38;5;241;43m.\u001b[39;49m\u001b[43mconst\u001b[49m\u001b[43m(\u001b[49m\u001b[43m(\u001b[49m\u001b[38;5;124;43mf\u001b[39;49m\u001b[38;5;124;43m\"\u001b[39;49m\u001b[38;5;124;43mobject_pose_\u001b[39;49m\u001b[38;5;132;43;01m{\u001b[39;49;00m\u001b[43midx\u001b[49m\u001b[38;5;132;43;01m}\u001b[39;49;00m\u001b[38;5;124;43m\"\u001b[39;49m\u001b[43m,\u001b[49m\u001b[43m \u001b[49m\u001b[38;5;124;43mf\u001b[39;49m\u001b[38;5;124;43m\"\u001b[39;49m\u001b[38;5;124;43mobject_scale_\u001b[39;49m\u001b[38;5;132;43;01m{\u001b[39;49;00m\u001b[43midx\u001b[49m\u001b[38;5;132;43;01m}\u001b[39;49;00m\u001b[38;5;124;43m\"\u001b[39;49m\u001b[43m,\u001b[49m\u001b[43m)\u001b[49m\u001b[43m)\u001b[49m\u001b[43m,\u001b[49m\u001b[43m \u001b[49m\u001b[43mkey\u001b[49m\u001b[43m,\u001b[49m\u001b[43m \u001b[49m\u001b[43m[\u001b[49m\u001b[43mall_deltas\u001b[49m\u001b[43m,\u001b[49m\u001b[43m \u001b[49m\u001b[43mscale_deltas\u001b[49m\u001b[43m[\u001b[49m\u001b[38;5;124;43m'\u001b[39;49m\u001b[38;5;124;43mx\u001b[39;49m\u001b[38;5;124;43m'\u001b[39;49m\u001b[43m]\u001b[49m\u001b[43m]\u001b[49m\n\u001b[1;32m     14\u001b[0m \u001b[43m    \u001b[49m\u001b[38;5;66;43;03m# trace, Pytree.const((f\"object_pose_{idx}\",)), key, [all_deltas]\u001b[39;49;00m\n\u001b[1;32m     15\u001b[0m \u001b[43m\u001b[49m\u001b[43m)\u001b[49m\n\u001b[1;32m     16\u001b[0m trace, key \u001b[38;5;241m=\u001b[39m bayes3d\u001b[38;5;241m.\u001b[39menumerate_and_select_best_move(\n\u001b[1;32m     17\u001b[0m     trace, Pytree\u001b[38;5;241m.\u001b[39mconst((\u001b[38;5;124mf\u001b[39m\u001b[38;5;124m\"\u001b[39m\u001b[38;5;124mobject_pose_\u001b[39m\u001b[38;5;132;01m{\u001b[39;00midx\u001b[38;5;132;01m}\u001b[39;00m\u001b[38;5;124m\"\u001b[39m, \u001b[38;5;124mf\u001b[39m\u001b[38;5;124m\"\u001b[39m\u001b[38;5;124mobject_scale_\u001b[39m\u001b[38;5;132;01m{\u001b[39;00midx\u001b[38;5;132;01m}\u001b[39;00m\u001b[38;5;124m\"\u001b[39m,)), key, [all_deltas, scale_deltas[\u001b[38;5;124m'\u001b[39m\u001b[38;5;124my\u001b[39m\u001b[38;5;124m'\u001b[39m]]\n\u001b[1;32m     18\u001b[0m )\n\u001b[1;32m     19\u001b[0m trace, key \u001b[38;5;241m=\u001b[39m bayes3d\u001b[38;5;241m.\u001b[39menumerate_and_select_best_move(\n\u001b[1;32m     20\u001b[0m     trace, Pytree\u001b[38;5;241m.\u001b[39mconst((\u001b[38;5;124mf\u001b[39m\u001b[38;5;124m\"\u001b[39m\u001b[38;5;124mobject_pose_\u001b[39m\u001b[38;5;132;01m{\u001b[39;00midx\u001b[38;5;132;01m}\u001b[39;00m\u001b[38;5;124m\"\u001b[39m, \u001b[38;5;124mf\u001b[39m\u001b[38;5;124m\"\u001b[39m\u001b[38;5;124mobject_scale_\u001b[39m\u001b[38;5;132;01m{\u001b[39;00midx\u001b[38;5;132;01m}\u001b[39;00m\u001b[38;5;124m\"\u001b[39m,)), key, [all_deltas, scale_deltas[\u001b[38;5;124m'\u001b[39m\u001b[38;5;124mz\u001b[39m\u001b[38;5;124m'\u001b[39m]]\n\u001b[1;32m     21\u001b[0m )\n",
      "    \u001b[0;31m[... skipping hidden 10 frame]\u001b[0m\n",
      "File \u001b[0;32m~/b3d/.pixi/envs/gpu/lib/python3.12/site-packages/jax/_src/interpreters/pxla.py:1185\u001b[0m, in \u001b[0;36mExecuteReplicated.__call__\u001b[0;34m(self, *args)\u001b[0m\n\u001b[1;32m   1183\u001b[0m   \u001b[38;5;28mself\u001b[39m\u001b[38;5;241m.\u001b[39m_handle_token_bufs(result_token_bufs, sharded_runtime_token)\n\u001b[1;32m   1184\u001b[0m \u001b[38;5;28;01melse\u001b[39;00m:\n\u001b[0;32m-> 1185\u001b[0m   results \u001b[38;5;241m=\u001b[39m \u001b[38;5;28;43mself\u001b[39;49m\u001b[38;5;241;43m.\u001b[39;49m\u001b[43mxla_executable\u001b[49m\u001b[38;5;241;43m.\u001b[39;49m\u001b[43mexecute_sharded\u001b[49m\u001b[43m(\u001b[49m\u001b[43minput_bufs\u001b[49m\u001b[43m)\u001b[49m\n\u001b[1;32m   1186\u001b[0m \u001b[38;5;28;01mif\u001b[39;00m dispatch\u001b[38;5;241m.\u001b[39mneeds_check_special():\n\u001b[1;32m   1187\u001b[0m   out_arrays \u001b[38;5;241m=\u001b[39m results\u001b[38;5;241m.\u001b[39mdisassemble_into_single_device_arrays()\n",
      "\u001b[0;31mRuntimeError\u001b[0m: OpenGL error: GL_INVALID_VALUE 1281[glTexImage3D(GL_TEXTURE_2D_ARRAY, 0, GL_RGBA32F, s.width, s.height, s.depth, 0, GL_RGBA, GL_UNSIGNED_BYTE, 0);]\nException raised from rasterizeResizeBuffers at /home/hlwang_ipe_genjax/b3d/src/b3d/renderer/nvdiffrast_jax/nvdiffrast/common/rasterize_gl.cpp:413 (most recent call first):\nframe #0: c10::Error::Error(c10::SourceLocation, std::__cxx11::basic_string<char, std::char_traits<char>, std::allocator<char> >) + 0xb2 (0x7f69bf54ef12 in /home/hlwang_ipe_genjax/b3d/.pixi/envs/gpu/lib/python3.12/site-packages/torch/lib/../../../../libc10.so)\nframe #1: c10::detail::torchCheckFail(char const*, char const*, unsigned int, std::__cxx11::basic_string<char, std::char_traits<char>, std::allocator<char> > const&) + 0xd2 (0x7f69bf4f9958 in /home/hlwang_ipe_genjax/b3d/.pixi/envs/gpu/lib/python3.12/site-packages/torch/lib/../../../../libc10.so)\nframe #2: rasterizeResizeBuffers(int, RasterizeGLState&, bool&, int, int, int, int, int) + 0xbdd (0x7f6dbdc6a468 in /home/hlwang_ipe_genjax/.cache/torch_extensions/py312_cu120/nvdiffrast_plugin_original_gl/nvdiffrast_plugin_original_gl.so)\nframe #3: _rasterize_fwd_gl(CUstream_st*, RasterizeGLStateWrapper&, float const*, int const*, std::vector<int, std::allocator<int> >, std::vector<int, std::allocator<int> >, float*, float*) + 0x1b0 (0x7f6dbdc911f4 in /home/hlwang_ipe_genjax/.cache/torch_extensions/py312_cu120/nvdiffrast_plugin_original_gl/nvdiffrast_plugin_original_gl.so)\nframe #4: jax_rasterize_fwd_gl(CUstream_st*, void**, char const*, unsigned long) + 0x279 (0x7f6dbdc91551 in /home/hlwang_ipe_genjax/.cache/torch_extensions/py312_cu120/nvdiffrast_plugin_original_gl/nvdiffrast_plugin_original_gl.so)\nframe #5: <unknown function> + 0x3cee0fe (0x7f6c9ac190fe in /home/hlwang_ipe_genjax/b3d/.pixi/envs/gpu/lib/python3.12/site-packages/jaxlib/xla_extension.so)\nframe #6: <unknown function> + 0x3cf0c15 (0x7f6c9ac1bc15 in /home/hlwang_ipe_genjax/b3d/.pixi/envs/gpu/lib/python3.12/site-packages/jaxlib/xla_extension.so)\nframe #7: <unknown function> + 0x4a9a3dd (0x7f6c9b9c53dd in /home/hlwang_ipe_genjax/b3d/.pixi/envs/gpu/lib/python3.12/site-packages/jaxlib/xla_extension.so)\nframe #8: <unknown function> + 0x4a9c0c0 (0x7f6c9b9c70c0 in /home/hlwang_ipe_genjax/b3d/.pixi/envs/gpu/lib/python3.12/site-packages/jaxlib/xla_extension.so)\nframe #9: <unknown function> + 0x4a9c81f (0x7f6c9b9c781f in /home/hlwang_ipe_genjax/b3d/.pixi/envs/gpu/lib/python3.12/site-packages/jaxlib/xla_extension.so)\nframe #10: <unknown function> + 0x70d7d16 (0x7f6c9e002d16 in /home/hlwang_ipe_genjax/b3d/.pixi/envs/gpu/lib/python3.12/site-packages/jaxlib/xla_extension.so)\nframe #11: <unknown function> + 0x1555791 (0x7f6c98480791 in /home/hlwang_ipe_genjax/b3d/.pixi/envs/gpu/lib/python3.12/site-packages/jaxlib/xla_extension.so)\nframe #12: <unknown function> + 0x15561ea (0x7f6c984811ea in /home/hlwang_ipe_genjax/b3d/.pixi/envs/gpu/lib/python3.12/site-packages/jaxlib/xla_extension.so)\nframe #13: <unknown function> + 0x14d2add (0x7f6c983fdadd in /home/hlwang_ipe_genjax/b3d/.pixi/envs/gpu/lib/python3.12/site-packages/jaxlib/xla_extension.so)\nframe #14: <unknown function> + 0x14d3f35 (0x7f6c983fef35 in /home/hlwang_ipe_genjax/b3d/.pixi/envs/gpu/lib/python3.12/site-packages/jaxlib/xla_extension.so)\nframe #15: <unknown function> + 0x14d62e4 (0x7f6c984012e4 in /home/hlwang_ipe_genjax/b3d/.pixi/envs/gpu/lib/python3.12/site-packages/jaxlib/xla_extension.so)\nframe #16: <unknown function> + 0x15b6330 (0x7f6c984e1330 in /home/hlwang_ipe_genjax/b3d/.pixi/envs/gpu/lib/python3.12/site-packages/jaxlib/xla_extension.so)\nframe #17: <unknown function> + 0x14569b9 (0x7f6c983819b9 in /home/hlwang_ipe_genjax/b3d/.pixi/envs/gpu/lib/python3.12/site-packages/jaxlib/xla_extension.so)\nframe #18: <unknown function> + 0x1458512 (0x7f6c98383512 in /home/hlwang_ipe_genjax/b3d/.pixi/envs/gpu/lib/python3.12/site-packages/jaxlib/xla_extension.so)\nframe #19: <unknown function> + 0xa0aa79 (0x7f6c97935a79 in /home/hlwang_ipe_genjax/b3d/.pixi/envs/gpu/lib/python3.12/site-packages/jaxlib/xla_extension.so)\nframe #20: <unknown function> + 0x1601bec (0x7f6c9852cbec in /home/hlwang_ipe_genjax/b3d/.pixi/envs/gpu/lib/python3.12/site-packages/jaxlib/xla_extension.so)\nframe #21: PyObject_Vectorcall + 0x4f (0x556a0de48fcf in /home/hlwang_ipe_genjax/b3d/.pixi/envs/gpu/bin/python)\nframe #22: <unknown function> + 0x113f65 (0x556a0dd3af65 in /home/hlwang_ipe_genjax/b3d/.pixi/envs/gpu/bin/python)\nframe #23: _PyObject_FastCallDictTstate + 0x1fa (0x556a0de36c1a in /home/hlwang_ipe_genjax/b3d/.pixi/envs/gpu/bin/python)\nframe #24: _PyObject_Call_Prepend + 0xe9 (0x556a0de62899 in /home/hlwang_ipe_genjax/b3d/.pixi/envs/gpu/bin/python)\nframe #25: <unknown function> + 0x311693 (0x556a0df38693 in /home/hlwang_ipe_genjax/b3d/.pixi/envs/gpu/bin/python)\nframe #26: _PyObject_Call + 0xb5 (0x556a0de652e5 in /home/hlwang_ipe_genjax/b3d/.pixi/envs/gpu/bin/python)\nframe #27: <unknown function> + 0x114ca6 (0x556a0dd3bca6 in /home/hlwang_ipe_genjax/b3d/.pixi/envs/gpu/bin/python)\nframe #28: PyObject_Vectorcall + 0x4f (0x556a0de48fcf in /home/hlwang_ipe_genjax/b3d/.pixi/envs/gpu/bin/python)\nframe #29: <unknown function> + 0xa7d848 (0x7f6c979a8848 in /home/hlwang_ipe_genjax/b3d/.pixi/envs/gpu/lib/python3.12/site-packages/jaxlib/xla_extension.so)\nframe #30: <unknown function> + 0xa7e3cc (0x7f6c979a93cc in /home/hlwang_ipe_genjax/b3d/.pixi/envs/gpu/lib/python3.12/site-packages/jaxlib/xla_extension.so)\nframe #31: <unknown function> + 0x114ca6 (0x556a0dd3bca6 in /home/hlwang_ipe_genjax/b3d/.pixi/envs/gpu/bin/python)\nframe #32: <unknown function> + 0x25aeec (0x556a0de81eec in /home/hlwang_ipe_genjax/b3d/.pixi/envs/gpu/bin/python)\nframe #33: <unknown function> + 0x25a9fd (0x556a0de819fd in /home/hlwang_ipe_genjax/b3d/.pixi/envs/gpu/bin/python)\nframe #34: _PyObject_Call + 0x123 (0x556a0de65353 in /home/hlwang_ipe_genjax/b3d/.pixi/envs/gpu/bin/python)\nframe #35: <unknown function> + 0x114ca6 (0x556a0dd3bca6 in /home/hlwang_ipe_genjax/b3d/.pixi/envs/gpu/bin/python)\nframe #36: PyObject_Vectorcall + 0x4f (0x556a0de48fcf in /home/hlwang_ipe_genjax/b3d/.pixi/envs/gpu/bin/python)\nframe #37: <unknown function> + 0xa7d848 (0x7f6c979a8848 in /home/hlwang_ipe_genjax/b3d/.pixi/envs/gpu/lib/python3.12/site-packages/jaxlib/xla_extension.so)\nframe #38: <unknown function> + 0xa7e3cc (0x7f6c979a93cc in /home/hlwang_ipe_genjax/b3d/.pixi/envs/gpu/lib/python3.12/site-packages/jaxlib/xla_extension.so)\nframe #39: PyObject_Vectorcall + 0x4f (0x556a0de48fcf in /home/hlwang_ipe_genjax/b3d/.pixi/envs/gpu/bin/python)\nframe #40: <unknown function> + 0x113f65 (0x556a0dd3af65 in /home/hlwang_ipe_genjax/b3d/.pixi/envs/gpu/bin/python)\nframe #41: PyEval_EvalCode + 0xae (0x556a0deeeece in /home/hlwang_ipe_genjax/b3d/.pixi/envs/gpu/bin/python)\nframe #42: <unknown function> + 0x2e3edd (0x556a0df0aedd in /home/hlwang_ipe_genjax/b3d/.pixi/envs/gpu/bin/python)\nframe #43: <unknown function> + 0x115857 (0x556a0dd3c857 in /home/hlwang_ipe_genjax/b3d/.pixi/envs/gpu/bin/python)\nframe #44: <unknown function> + 0x2de852 (0x556a0df05852 in /home/hlwang_ipe_genjax/b3d/.pixi/envs/gpu/bin/python)\nframe #45: <unknown function> + 0x2dfb87 (0x556a0df06b87 in /home/hlwang_ipe_genjax/b3d/.pixi/envs/gpu/bin/python)\nframe #46: <unknown function> + 0x116206 (0x556a0dd3d206 in /home/hlwang_ipe_genjax/b3d/.pixi/envs/gpu/bin/python)\nframe #47: <unknown function> + 0x25aeec (0x556a0de81eec in /home/hlwang_ipe_genjax/b3d/.pixi/envs/gpu/bin/python)\nframe #48: <unknown function> + 0x25a9fd (0x556a0de819fd in /home/hlwang_ipe_genjax/b3d/.pixi/envs/gpu/bin/python)\nframe #49: _PyObject_Call + 0x123 (0x556a0de65353 in /home/hlwang_ipe_genjax/b3d/.pixi/envs/gpu/bin/python)\nframe #50: <unknown function> + 0x114ca6 (0x556a0dd3bca6 in /home/hlwang_ipe_genjax/b3d/.pixi/envs/gpu/bin/python)\nframe #51: <unknown function> + 0x2de852 (0x556a0df05852 in /home/hlwang_ipe_genjax/b3d/.pixi/envs/gpu/bin/python)\nframe #52: <unknown function> + 0x8200 (0x7f6dd93f1200 in /home/hlwang_ipe_genjax/b3d/.pixi/envs/gpu/lib/python3.12/lib-dynload/_asyncio.cpython-312-x86_64-linux-gnu.so)\nframe #53: <unknown function> + 0x89b4 (0x7f6dd93f19b4 in /home/hlwang_ipe_genjax/b3d/.pixi/envs/gpu/lib/python3.12/lib-dynload/_asyncio.cpython-312-x86_64-linux-gnu.so)\nframe #54: <unknown function> + 0x22beaa (0x556a0de52eaa in /home/hlwang_ipe_genjax/b3d/.pixi/envs/gpu/bin/python)\nframe #55: <unknown function> + 0x35de9c (0x556a0df84e9c in /home/hlwang_ipe_genjax/b3d/.pixi/envs/gpu/bin/python)\nframe #56: <unknown function> + 0x1ca7b3 (0x556a0ddf17b3 in /home/hlwang_ipe_genjax/b3d/.pixi/envs/gpu/bin/python)\nframe #57: <unknown function> + 0x222246 (0x556a0de49246 in /home/hlwang_ipe_genjax/b3d/.pixi/envs/gpu/bin/python)\nframe #58: <unknown function> + 0x114ca6 (0x556a0dd3bca6 in /home/hlwang_ipe_genjax/b3d/.pixi/envs/gpu/bin/python)\nframe #59: PyEval_EvalCode + 0xae (0x556a0deeeece in /home/hlwang_ipe_genjax/b3d/.pixi/envs/gpu/bin/python)\nframe #60: <unknown function> + 0x2e3edd (0x556a0df0aedd in /home/hlwang_ipe_genjax/b3d/.pixi/envs/gpu/bin/python)\nframe #61: <unknown function> + 0x222246 (0x556a0de49246 in /home/hlwang_ipe_genjax/b3d/.pixi/envs/gpu/bin/python)\nframe #62: PyObject_Vectorcall + 0x4f (0x556a0de48fcf in /home/hlwang_ipe_genjax/b3d/.pixi/envs/gpu/bin/python)\nframe #63: <unknown function> + 0x113f65 (0x556a0dd3af65 in /home/hlwang_ipe_genjax/b3d/.pixi/envs/gpu/bin/python)\n"
     ]
    }
   ],
   "source": [
    "trace = original_trace\n",
    "num_inference_step = 5\n",
    "for seed in range(num_inference_step):\n",
    "    print(seed)\n",
    "    key = jax.random.PRNGKey(seed)\n",
    "    for idx in range(num_obj):\n",
    "        print(f\"obj {idx}\")\n",
    "        # trace, key = bayes3d.enumerate_and_select_best_move_new(\n",
    "        #     trace, Pytree.const((f\"object_pose_{idx}\", f\"object_scale_{idx}\",)), key, [all_deltas, scale_deltas['x']]\n",
    "        #     # trace, Pytree.const((f\"object_pose_{idx}\",)), key, [all_deltas]\n",
    "        # )\n",
    "        trace, key = bayes3d.enumerate_and_select_best_move(\n",
    "            trace, Pytree.const((f\"object_pose_{idx}\", f\"object_scale_{idx}\",)), key, [all_deltas, scale_deltas['x']]\n",
    "            # trace, Pytree.const((f\"object_pose_{idx}\",)), key, [all_deltas]\n",
    "        )\n",
    "        trace, key = bayes3d.enumerate_and_select_best_move(\n",
    "            trace, Pytree.const((f\"object_pose_{idx}\", f\"object_scale_{idx}\",)), key, [all_deltas, scale_deltas['y']]\n",
    "        )\n",
    "        trace, key = bayes3d.enumerate_and_select_best_move(\n",
    "            trace, Pytree.const((f\"object_pose_{idx}\", f\"object_scale_{idx}\",)), key, [all_deltas, scale_deltas['z']]\n",
    "        )\n",
    "        print(trace.get_score())\n",
    "    viz_trace(trace, seed+1, cloud=True)"
   ]
  },
  {
   "cell_type": "code",
   "execution_count": 23,
   "metadata": {},
   "outputs": [
    {
     "name": "stdout",
     "output_type": "stream",
     "text": [
      "0\n",
      "obj 0\n",
      "60722.027\n",
      "obj 1\n",
      "72385.97\n",
      "obj 2\n",
      "90382.625\n",
      "obj 3\n",
      "92462.89\n",
      "obj 4\n",
      "111269.84\n",
      "1\n",
      "obj 0\n",
      "111335.3\n",
      "obj 1\n",
      "111335.3\n",
      "obj 2\n",
      "111557.016\n",
      "obj 3\n",
      "111552.56\n",
      "obj 4\n",
      "112445.72\n",
      "2\n",
      "obj 0\n",
      "112445.72\n",
      "obj 1\n",
      "112445.72\n",
      "obj 2\n",
      "112445.72\n",
      "obj 3\n",
      "112445.72\n",
      "obj 4\n",
      "113298.53\n",
      "3\n",
      "obj 0\n",
      "113298.53\n",
      "obj 1\n",
      "113298.53\n",
      "obj 2\n",
      "113298.53\n",
      "obj 3\n",
      "113298.53\n",
      "obj 4\n",
      "113298.53\n",
      "4\n",
      "obj 0\n",
      "113298.53\n",
      "obj 1\n",
      "113298.53\n",
      "obj 2\n",
      "113298.53\n",
      "obj 3\n",
      "113298.53\n",
      "obj 4\n",
      "113298.53\n"
     ]
    }
   ],
   "source": [
    "trace = original_trace\n",
    "num_inference_step = 5\n",
    "for seed in range(num_inference_step):\n",
    "    print(seed)\n",
    "    key = jax.random.PRNGKey(seed)\n",
    "    for idx in range(num_obj):\n",
    "        print(f\"obj {idx}\")\n",
    "        trace, key = bayes3d.enumerate_and_select_best_move_new(\n",
    "            trace, Pytree.const((f\"object_pose_{idx}\", f\"object_scale_{idx}\",)), key, [all_deltas, scale_deltas['x']]\n",
    "        )\n",
    "        trace, key = bayes3d.enumerate_and_select_best_move_new(\n",
    "            trace, Pytree.const((f\"object_pose_{idx}\", f\"object_scale_{idx}\",)), key, [all_deltas, scale_deltas['y']]\n",
    "        )\n",
    "        trace, key = bayes3d.enumerate_and_select_best_move_new(\n",
    "            trace, Pytree.const((f\"object_pose_{idx}\", f\"object_scale_{idx}\",)), key, [all_deltas, scale_deltas['z']]\n",
    "        )\n",
    "        # trace, key = bayes3d.enumerate_and_select_best_move(\n",
    "        #     trace, Pytree.const((f\"object_pose_{idx}\", f\"object_scale_{idx}\",)), key, [all_deltas, scale_deltas['x']]\n",
    "        #     # trace, Pytree.const((f\"object_pose_{idx}\",)), key, [all_deltas]\n",
    "        # )\n",
    "        # trace, key = bayes3d.enumerate_and_select_best_move(\n",
    "        #     trace, Pytree.const((f\"object_pose_{idx}\", f\"object_scale_{idx}\",)), key, [all_deltas, scale_deltas['y']]\n",
    "        # )\n",
    "        # trace, key = bayes3d.enumerate_and_select_best_move(\n",
    "        #     trace, Pytree.const((f\"object_pose_{idx}\", f\"object_scale_{idx}\",)), key, [all_deltas, scale_deltas['z']]\n",
    "        # )\n",
    "        print(trace.get_score())\n",
    "    viz_trace(trace, seed+1, cloud=True)"
   ]
  },
  {
   "cell_type": "code",
   "execution_count": 20,
   "metadata": {},
   "outputs": [],
   "source": [
    "# for idx in range(num_obj):\n",
    "#     addr = f\"object_scale_{idx}\"\n",
    "#     current_scale = trace.get_choices()[addr]\n",
    "#     print(current_scale) "
   ]
  },
  {
   "cell_type": "code",
   "execution_count": 21,
   "metadata": {},
   "outputs": [],
   "source": [
    "# new_scale = jnp.array([0.1,0.1,0.1])\n",
    "# new_trace = trace.update(\n",
    "#         jax.random.PRNGKey(0),\n",
    "#         genjax.ChoiceMap.d({'object_scale_3': new_scale,}),\n",
    "#     )[0]\n",
    "# viz_trace(new_trace, START_T, cloud=True)"
   ]
  },
  {
   "cell_type": "code",
   "execution_count": 22,
   "metadata": {},
   "outputs": [],
   "source": [
    "# print(new_trace.get_score())"
   ]
  },
  {
   "cell_type": "code",
   "execution_count": 23,
   "metadata": {},
   "outputs": [],
   "source": [
    "# viz_trace(new_trace, START_T, cloud=True)"
   ]
  },
  {
   "cell_type": "code",
   "execution_count": 24,
   "metadata": {},
   "outputs": [],
   "source": [
    "# viz_trace(trace, START_T)"
   ]
  },
  {
   "cell_type": "code",
   "execution_count": 1,
   "metadata": {},
   "outputs": [
    {
     "ename": "NameError",
     "evalue": "name 'image_arr' is not defined",
     "output_type": "error",
     "traceback": [
      "\u001b[0;31m---------------------------------------------------------------------------\u001b[0m",
      "\u001b[0;31mNameError\u001b[0m                                 Traceback (most recent call last)",
      "Cell \u001b[0;32mIn[1], line 1\u001b[0m\n\u001b[0;32m----> 1\u001b[0m FINAL_T \u001b[38;5;241m=\u001b[39m \u001b[38;5;28mlen\u001b[39m(\u001b[43mimage_arr\u001b[49m)\n\u001b[1;32m      2\u001b[0m \u001b[38;5;28;01mfor\u001b[39;00m T_observed_image \u001b[38;5;129;01min\u001b[39;00m tqdm(\u001b[38;5;28mrange\u001b[39m(FINAL_T)):\n\u001b[1;32m      3\u001b[0m     \u001b[38;5;66;03m# Constrain on new RGB and Depth data.\u001b[39;00m\n\u001b[1;32m      4\u001b[0m     trace \u001b[38;5;241m=\u001b[39m b3d\u001b[38;5;241m.\u001b[39mupdate_choices(\n\u001b[1;32m      5\u001b[0m         trace,\n\u001b[1;32m      6\u001b[0m         Pytree\u001b[38;5;241m.\u001b[39mconst((\u001b[38;5;124m\"\u001b[39m\u001b[38;5;124mrgbd\u001b[39m\u001b[38;5;124m\"\u001b[39m,)),\n\u001b[1;32m      7\u001b[0m         rgbds[T_observed_image],\n\u001b[1;32m      8\u001b[0m     )\n",
      "\u001b[0;31mNameError\u001b[0m: name 'image_arr' is not defined"
     ]
    }
   ],
   "source": [
    "FINAL_T = len(image_arr)\n",
    "for T_observed_image in tqdm(range(FINAL_T)):\n",
    "    # Constrain on new RGB and Depth data.\n",
    "    trace = b3d.update_choices(\n",
    "        trace,\n",
    "        Pytree.const((\"rgbd\",)),\n",
    "        rgbds[T_observed_image],\n",
    "    )\n",
    " \n",
    "    for idx in range(num_obj):\n",
    "        trace, key = bayes3d.enumerate_and_select_best_move_new(\n",
    "            trace, Pytree.const((f\"object_pose_{idx}\", f\"object_scale_{idx}\",)), key, [all_deltas, scale_deltas['x']]\n",
    "        )\n",
    "        trace, key = bayes3d.enumerate_and_select_best_move_new(\n",
    "            trace, Pytree.const((f\"object_pose_{idx}\", f\"object_scale_{idx}\",)), key, [all_deltas, scale_deltas['y']]\n",
    "        )\n",
    "        trace, key = bayes3d.enumerate_and_select_best_move_new(\n",
    "            trace, Pytree.const((f\"object_pose_{idx}\", f\"object_scale_{idx}\",)), key, [all_deltas, scale_deltas['z']]\n",
    "        )\n",
    "    viz_trace(trace, T_observed_image+num_inference_step, cloud=True)"
   ]
  },
  {
   "cell_type": "code",
   "execution_count": null,
   "metadata": {},
   "outputs": [],
   "source": []
  },
  {
   "cell_type": "code",
   "execution_count": null,
   "metadata": {},
   "outputs": [],
   "source": []
  }
 ],
 "metadata": {
  "kernelspec": {
   "display_name": "gpu",
   "language": "python",
   "name": "python3"
  },
  "language_info": {
   "codemirror_mode": {
    "name": "ipython",
    "version": 3
   },
   "file_extension": ".py",
   "mimetype": "text/x-python",
   "name": "python",
   "nbconvert_exporter": "python",
   "pygments_lexer": "ipython3",
   "version": "3.12.5"
  }
 },
 "nbformat": 4,
 "nbformat_minor": 2
}
