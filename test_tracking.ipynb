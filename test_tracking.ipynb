{
 "cells": [
  {
   "cell_type": "code",
   "execution_count": 1,
   "metadata": {},
   "outputs": [],
   "source": [
    "import os\n",
    "import io\n",
    "import trimesh\n",
    "import b3d\n",
    "import genjax\n",
    "import jax\n",
    "import b3d.bayes3d as bayes3d\n",
    "import jax.numpy as jnp\n",
    "import numpy as np\n",
    "import rerun as rr\n",
    "from PIL import Image\n",
    "import matplotlib.pyplot as plt\n",
    "import h5py\n",
    "from tqdm import tqdm\n",
    "from genjax import Pytree\n",
    "# from genjax._src.core.serialization.msgpack import msgpack_serialize"
   ]
  },
  {
   "cell_type": "markdown",
   "metadata": {},
   "source": [
    "## define helper functions"
   ]
  },
  {
   "cell_type": "code",
   "execution_count": 2,
   "metadata": {},
   "outputs": [],
   "source": [
    "def scale_mesh(vertices, scale_factor):\n",
    "    vertices[:, 0] *= scale_factor[0]\n",
    "    vertices[:, 1] *= scale_factor[1]\n",
    "    vertices[:, 2] *= scale_factor[2]\n",
    "    return vertices\n",
    "\n",
    "def euler_angles_to_quaternion(euler: np.ndarray) -> np.ndarray:\n",
    "    \"\"\"\n",
    "    Convert Euler angles to a quaternion.\n",
    "\n",
    "    Source: https://pastebin.com/riRLRvch\n",
    "\n",
    "    :param euler: The Euler angles vector.\n",
    "\n",
    "    :return: The quaternion representation of the Euler angles.\n",
    "    \"\"\"\n",
    "    pitch = np.radians(euler[0] * 0.5)\n",
    "    cp = np.cos(pitch)\n",
    "    sp = np.sin(pitch)\n",
    "\n",
    "    yaw = np.radians(euler[1] * 0.5)\n",
    "    cy = np.cos(yaw)\n",
    "    sy = np.sin(yaw)\n",
    "\n",
    "    roll = np.radians(euler[2] * 0.5)\n",
    "    cr = np.cos(roll)\n",
    "    sr = np.sin(roll)\n",
    "\n",
    "    x = sy * cp * sr + cy * sp * cr\n",
    "    y = sy * cp * cr - cy * sp * sr\n",
    "    z = cy * cp * sr - sy * sp * cr\n",
    "    w = cy * cp * cr + sy * sp * sr\n",
    "    return np.array([x, y, z, w])"
   ]
  },
  {
   "cell_type": "markdown",
   "metadata": {},
   "source": [
    "## load basic information from hdf5"
   ]
  },
  {
   "cell_type": "code",
   "execution_count": 3,
   "metadata": {},
   "outputs": [],
   "source": [
    "# paths for reading physion metadata\n",
    "physion_assets_path = os.path.join(\n",
    "    b3d.get_root_path(),\n",
    "    \"assets/physion/\",)\n",
    "\n",
    "# stim_name = 'lf_0/dominoes_all_movies/pilot_dominoes_0mid_d3chairs_o1plants_tdwroom_0012'\n",
    "stim_name = '0012_350'\n",
    "\n",
    "hdf5_file_path = os.path.join(physion_assets_path,\n",
    "    f\"{stim_name}.hdf5\",\n",
    ")\n",
    "\n",
    "mesh_file_path = os.path.join(physion_assets_path,\n",
    "    f\"all_flex_meshes/\",\n",
    ")"
   ]
  },
  {
   "cell_type": "code",
   "execution_count": 4,
   "metadata": {},
   "outputs": [],
   "source": [
    "vfov = 54.43222 \n",
    "near_plane = 0.1\n",
    "far_plane = 100\n",
    "depth_arr = []\n",
    "image_arr = []\n",
    "with h5py.File(hdf5_file_path, \"r\") as f:\n",
    "    # extract depth info\n",
    "    for key in f['frames'].keys():\n",
    "        depth = jnp.array(f['frames'][key]['images']['_depth_cam0'])\n",
    "        depth_arr.append(depth)\n",
    "        image = jnp.array(Image.open(io.BytesIO(f['frames'][key]['images']['_img_cam0'][:])))\n",
    "        image_arr.append(image)\n",
    "    depth_arr = jnp.asarray(depth_arr)\n",
    "    image_arr = jnp.asarray(image_arr)/255\n",
    "    FINAL_T, height, width = image_arr.shape[0], image_arr.shape[1], image_arr.shape[2]\n",
    "\n",
    "    # extract camera info\n",
    "    camera_azimuth = np.array(f['azimuth']['cam_0'])\n",
    "    camera_matrix = np.array(f['frames']['0000']['camera_matrices']['camera_matrix_cam0']).reshape((4, 4))\n",
    "    projection_matrix = np.array(f['frames']['0010']['camera_matrices']['projection_matrix_cam0']).reshape((4, 4))\n",
    "  \n",
    "    # Calculate the intrinsic matrix from vertical_fov.\n",
    "    # Motice that hfov and vfov are different if height != width\n",
    "    # We can also get the intrinsic matrix from opengl's perspective matrix.\n",
    "    # http://kgeorge.github.io/2014/03/08/calculating-opengl-perspective-matrix-from-opencv-intrinsic-matrix\n",
    "    vfov = vfov / 180.0 * np.pi\n",
    "    tan_half_vfov = np.tan(vfov / 2.0)\n",
    "    tan_half_hfov = tan_half_vfov * width / float(height)\n",
    "    fx = width / 2.0 / tan_half_hfov  # focal length in pixel space\n",
    "    fy = height / 2.0 / tan_half_vfov\n",
    "\n",
    "    # extract object info\n",
    "    object_ids = np.array(f['static']['object_ids'])\n",
    "    model_names = np.array(f['static']['model_names'])\n",
    "    assert len(object_ids) == len(model_names)\n",
    "    distractors = np.array(f['static']['distractors']) if np.array(f['static']['distractors']).size != 0 else None\n",
    "    occluders = np.array(f['static']['occluders']) if np.array(f['static']['occluders']).size != 0 else None\n",
    "    initial_position = np.array(f['static']['initial_position'])\n",
    "    initial_rotation = np.array(f['static']['initial_rotation'])\n",
    "    scales = np.array(f['static']['scale'])"
   ]
  },
  {
   "cell_type": "code",
   "execution_count": 5,
   "metadata": {},
   "outputs": [],
   "source": [
    "distractor_ids = np.concatenate([np.where(model_names==distractor)[0] for distractor in distractors], axis=0).tolist() if distractors else []\n",
    "occluder_ids = np.concatenate([np.where(model_names==occluder)[0] for occluder in occluders], axis=0).tolist() if occluders else []\n",
    "excluded_model_ids = distractor_ids+occluder_ids\n",
    "included_model_ids = [idx for idx in range(len(object_ids)) if idx not in excluded_model_ids]\n",
    "included_model_names = [model_names[idx] for idx in included_model_ids]"
   ]
  },
  {
   "cell_type": "code",
   "execution_count": 6,
   "metadata": {},
   "outputs": [],
   "source": [
    "object_initial_positions = [pos for idx, pos in enumerate(initial_position) if idx in included_model_ids]\n",
    "object_initial_rotations = [rot for idx, rot in enumerate(initial_rotation) if idx in included_model_ids]\n",
    "object_scales = [scale for idx, scale in enumerate(scales) if idx in included_model_ids]\n",
    "object_meshes = []\n",
    "for idx, model_name in enumerate(included_model_names):\n",
    "    trim = trimesh.load(os.path.join(mesh_file_path, f\"{model_name.decode('UTF-8')}.obj\"))\n",
    "    object_meshes.append((scale_mesh(trim.vertices, object_scales[idx]), trim.faces))"
   ]
  },
  {
   "cell_type": "markdown",
   "metadata": {},
   "source": [
    "## b3d modeling"
   ]
  },
  {
   "cell_type": "code",
   "execution_count": 7,
   "metadata": {},
   "outputs": [],
   "source": [
    "rr.init(\"demo\")\n",
    "rr.connect(\"127.0.0.1:8812\")\n",
    "rr.log(\"/\", rr.ViewCoordinates.LEFT_HAND_Y_UP, static=True)  # Set an up-axis"
   ]
  },
  {
   "cell_type": "code",
   "execution_count": 8,
   "metadata": {},
   "outputs": [],
   "source": [
    "all_object_poses = []\n",
    "for idx in range(len(included_model_ids)):\n",
    "    object_pose = b3d.Pose(jnp.asarray(object_initial_positions[idx]), jnp.asarray(euler_angles_to_quaternion(object_initial_rotations[idx])))\n",
    "    all_object_poses.append(object_pose)"
   ]
  },
  {
   "cell_type": "code",
   "execution_count": 9,
   "metadata": {},
   "outputs": [
    {
     "name": "stdout",
     "output_type": "stream",
     "text": [
      "3 objects in library\n"
     ]
    }
   ],
   "source": [
    "# load original meshes without scaling\n",
    "object_library = bayes3d.MeshLibrary.make_empty_library()\n",
    "\n",
    "for obj in object_meshes:\n",
    "    vertex_colors = jnp.full(obj[0].shape, 0.4)\n",
    "    object_library.add_object(obj[0], obj[1], vertex_colors)\n",
    "\n",
    "print(f\"{object_library.get_num_objects()} objects in library\")"
   ]
  },
  {
   "cell_type": "code",
   "execution_count": 10,
   "metadata": {},
   "outputs": [],
   "source": [
    "R = camera_matrix[:3,:3]\n",
    "T = camera_matrix[0:3, 3]\n",
    "a = np.array([-R[0,:], -R[1,:], -R[2,:]])\n",
    "b = np.array(T)\n",
    "camera_position_from_matrix = np.linalg.solve(a, b)\n",
    "camera_rotation_from_matrix = -np.transpose(R)\n",
    "camera_pose = b3d.Pose(\n",
    "    camera_position_from_matrix,\n",
    "    b3d.Rot.from_matrix(camera_rotation_from_matrix).as_quat()\n",
    ")"
   ]
  },
  {
   "cell_type": "code",
   "execution_count": 11,
   "metadata": {},
   "outputs": [
    {
     "name": "stderr",
     "output_type": "stream",
     "text": [
      "/home/hlwang_ipe_genjax/b3d/.pixi/envs/gpu/lib/python3.12/site-packages/torch/utils/cpp_extension.py:1967: UserWarning: TORCH_CUDA_ARCH_LIST is not set, all archs for visible cards are included for compilation. \n",
      "If this is not desired, please set os.environ['TORCH_CUDA_ARCH_LIST'].\n",
      "  warnings.warn(\n"
     ]
    }
   ],
   "source": [
    "# Defines the enumeration schedule.\n",
    "key = jax.random.PRNGKey(0)\n",
    "renderer = b3d.Renderer(\n",
    "    width=width,\n",
    "    height=height,\n",
    "    fx=fx,\n",
    "    fy=fy,\n",
    "    cx=width/2,\n",
    "    cy=height/2,\n",
    "    near=near_plane,\n",
    "    far=far_plane,\n",
    ")\n",
    "model = bayes3d.model_multiobject_gl_factory(renderer)\n",
    "importance_jit = jax.jit(model.importance)\n",
    "\n",
    "# Arguments of the generative model.\n",
    "# These control the inlier / outlier decision boundary for color error and depth error.\n",
    "color_error, depth_error = (1e100, 0.01)\n",
    "inlier_score, outlier_prob = (5.0, 0.00001)\n",
    "color_multiplier, depth_multiplier = (10000.0, 500.0)\n",
    "model_args = bayes3d.ModelArgs(\n",
    "    color_error,\n",
    "    depth_error,\n",
    "    inlier_score,\n",
    "    outlier_prob,\n",
    "    color_multiplier,\n",
    "    depth_multiplier,\n",
    ")"
   ]
  },
  {
   "cell_type": "code",
   "execution_count": 12,
   "metadata": {},
   "outputs": [
    {
     "name": "stderr",
     "output_type": "stream",
     "text": [
      "/home/hlwang_ipe_genjax/b3d/.pixi/envs/gpu/lib/python3.12/site-packages/jax/_src/abstract_arrays.py:68: RuntimeWarning: overflow encountered in cast\n",
      "  return canonical_concrete_aval(np.array(x, dtype=dtype), weak_type=weak_type)\n",
      "/home/hlwang_ipe_genjax/b3d/.pixi/envs/gpu/lib/python3.12/site-packages/jax/_src/interpreters/xla.py:158: RuntimeWarning: overflow encountered in cast\n",
      "  return np.asarray(\n"
     ]
    }
   ],
   "source": [
    "# Initial trace for timestep 0\n",
    "START_T = 0\n",
    "trace, _ = importance_jit(\n",
    "    jax.random.PRNGKey(0),\n",
    "    genjax.ChoiceMap.d(\n",
    "        dict(\n",
    "            [\n",
    "                (\"camera_pose\", camera_pose),\n",
    "                (\"object_pose_0\", all_object_poses[0]),\n",
    "                (\"object_pose_1\", all_object_poses[1]),\n",
    "                (\"object_pose_2\", all_object_poses[2]),\n",
    "                (\"object_0\", 0),\n",
    "                (\"object_1\", 1),\n",
    "                (\"object_2\", 2),\n",
    "                (\"observed_rgb_depth\",\n",
    "                    (jnp.flip(image_arr[START_T],1), jnp.flip(jnp.flip(depth_arr[START_T],0),1)),\n",
    "                ),\n",
    "            ]\n",
    "        )\n",
    "    ),\n",
    "    (jnp.arange(3), model_args, object_library),\n",
    ")"
   ]
  },
  {
   "cell_type": "code",
   "execution_count": 13,
   "metadata": {},
   "outputs": [],
   "source": [
    "bayes3d.rerun_visualize_trace_t(trace, 0)"
   ]
  },
  {
   "cell_type": "code",
   "execution_count": 14,
   "metadata": {},
   "outputs": [],
   "source": [
    "# with open(\"/home/hlwang_ipe_genjax/b3d/saved_traces/test.pickle\", \"wb\") as output_file:\n",
    "#     msgpack_serialize.dump(trace, output_file)"
   ]
  },
  {
   "cell_type": "code",
   "execution_count": 15,
   "metadata": {},
   "outputs": [],
   "source": [
    "# with open(\"/home/hlwang_ipe_genjax/b3d/saved_traces/test.pickle\", \"rb\") as output_file:\n",
    "#     retrieved_tr = msgpack_serialize.load(output_file, model, (jnp.arange(3), model_args, object_library))\n",
    "# bayes3d.rerun_visualize_trace_t(retrieved_tr, 0)"
   ]
  },
  {
   "cell_type": "code",
   "execution_count": 14,
   "metadata": {},
   "outputs": [],
   "source": [
    "# Gridding on translation only.\n",
    "translation_deltas = b3d.Pose.concatenate_poses(\n",
    "    [\n",
    "        jax.vmap(lambda p: b3d.Pose.from_translation(p))(\n",
    "            jnp.stack(\n",
    "                jnp.meshgrid(\n",
    "                    jnp.linspace(-0.01, 0.01, 11),\n",
    "                    jnp.linspace(-0.01, 0.01, 11),\n",
    "                    jnp.linspace(-0.01, 0.01, 11),\n",
    "                ),\n",
    "                axis=-1,\n",
    "            ).reshape(-1, 3)\n",
    "        ),\n",
    "        b3d.Pose.identity()[None, ...],\n",
    "    ]\n",
    ")\n",
    "# Sample orientations from a VMF to define a \"grid\" over orientations.\n",
    "rotation_deltas = b3d.Pose.concatenate_poses(\n",
    "    [\n",
    "        jax.vmap(b3d.Pose.sample_gaussian_vmf_pose, in_axes=(0, None, None, None))(\n",
    "            jax.random.split(jax.random.PRNGKey(0), 11 * 11 * 11),\n",
    "            b3d.Pose.identity(),\n",
    "            0.00001,\n",
    "            1000.0,\n",
    "        ),\n",
    "        b3d.Pose.identity()[None, ...],\n",
    "    ]\n",
    ")\n",
    "all_deltas = b3d.Pose.stack_poses([translation_deltas, rotation_deltas])"
   ]
  },
  {
   "cell_type": "code",
   "execution_count": 15,
   "metadata": {},
   "outputs": [
    {
     "name": "stderr",
     "output_type": "stream",
     "text": [
      " 40%|████      | 58/145 [02:06<03:10,  2.19s/it]\n"
     ]
    },
    {
     "ename": "KeyboardInterrupt",
     "evalue": "",
     "output_type": "error",
     "traceback": [
      "\u001b[0;31m---------------------------------------------------------------------------\u001b[0m",
      "\u001b[0;31mKeyboardInterrupt\u001b[0m                         Traceback (most recent call last)",
      "Cell \u001b[0;32mIn[15], line 22\u001b[0m\n\u001b[1;32m     16\u001b[0m trace, key \u001b[38;5;241m=\u001b[39m bayes3d\u001b[38;5;241m.\u001b[39menumerate_and_select_best_move(\n\u001b[1;32m     17\u001b[0m     trace, Pytree\u001b[38;5;241m.\u001b[39mconst((\u001b[38;5;124m\"\u001b[39m\u001b[38;5;124mobject_pose_1\u001b[39m\u001b[38;5;124m\"\u001b[39m,)), key, all_deltas\n\u001b[1;32m     18\u001b[0m )\n\u001b[1;32m     19\u001b[0m trace, key \u001b[38;5;241m=\u001b[39m bayes3d\u001b[38;5;241m.\u001b[39menumerate_and_select_best_move(\n\u001b[1;32m     20\u001b[0m     trace, Pytree\u001b[38;5;241m.\u001b[39mconst((\u001b[38;5;124m\"\u001b[39m\u001b[38;5;124mobject_pose_2\u001b[39m\u001b[38;5;124m\"\u001b[39m,)), key, all_deltas\n\u001b[1;32m     21\u001b[0m )\n\u001b[0;32m---> 22\u001b[0m \u001b[43mbayes3d\u001b[49m\u001b[38;5;241;43m.\u001b[39;49m\u001b[43mrerun_visualize_trace_t\u001b[49m\u001b[43m(\u001b[49m\u001b[43mtrace\u001b[49m\u001b[43m,\u001b[49m\u001b[43m \u001b[49m\u001b[43mT_observed_image\u001b[49m\u001b[43m)\u001b[49m\n",
      "File \u001b[0;32m~/b3d/src/b3d/bayes3d/model.py:179\u001b[0m, in \u001b[0;36mrerun_visualize_trace_t\u001b[0;34m(trace, t, modes)\u001b[0m\n\u001b[1;32m    169\u001b[0m info_string \u001b[38;5;241m=\u001b[39m \u001b[38;5;124mf\u001b[39m\u001b[38;5;124m\"\u001b[39m\u001b[38;5;124m# Score : \u001b[39m\u001b[38;5;132;01m{\u001b[39;00mtrace\u001b[38;5;241m.\u001b[39mget_score()\u001b[38;5;132;01m}\u001b[39;00m\u001b[38;5;124m\"\u001b[39m\n\u001b[1;32m    171\u001b[0m \u001b[38;5;28;01mif\u001b[39;00m \u001b[38;5;124m\"\u001b[39m\u001b[38;5;124minliers\u001b[39m\u001b[38;5;124m\"\u001b[39m \u001b[38;5;129;01min\u001b[39;00m modes:\n\u001b[1;32m    172\u001b[0m     (\n\u001b[1;32m    173\u001b[0m         inliers,\n\u001b[1;32m    174\u001b[0m         _color_inliers,\n\u001b[1;32m    175\u001b[0m         _depth_inliers,\n\u001b[1;32m    176\u001b[0m         outliers,\n\u001b[1;32m    177\u001b[0m         undecided,\n\u001b[1;32m    178\u001b[0m         _valid_data_mask,\n\u001b[0;32m--> 179\u001b[0m     ) \u001b[38;5;241m=\u001b[39m \u001b[43mget_rgb_depth_inliers_from_trace\u001b[49m\u001b[43m(\u001b[49m\u001b[43mtrace\u001b[49m\u001b[43m)\u001b[49m\n\u001b[1;32m    180\u001b[0m     rr\u001b[38;5;241m.\u001b[39mlog(\u001b[38;5;124m\"\u001b[39m\u001b[38;5;124m/image/overlay/inliers\u001b[39m\u001b[38;5;124m\"\u001b[39m, rr\u001b[38;5;241m.\u001b[39mDepthImage(inliers \u001b[38;5;241m*\u001b[39m \u001b[38;5;241m1.0\u001b[39m))\n\u001b[1;32m    181\u001b[0m     rr\u001b[38;5;241m.\u001b[39mlog(\u001b[38;5;124m\"\u001b[39m\u001b[38;5;124m/image/overlay/outliers\u001b[39m\u001b[38;5;124m\"\u001b[39m, rr\u001b[38;5;241m.\u001b[39mDepthImage(outliers \u001b[38;5;241m*\u001b[39m \u001b[38;5;241m1.0\u001b[39m))\n",
      "File \u001b[0;32m~/b3d/src/b3d/bayes3d/model.py:27\u001b[0m, in \u001b[0;36mget_rgb_depth_inliers_from_trace\u001b[0;34m(trace)\u001b[0m\n\u001b[1;32m     25\u001b[0m (observed_rgb, rendered_rgb), (observed_depth, rendered_depth) \u001b[38;5;241m=\u001b[39m trace\u001b[38;5;241m.\u001b[39mget_retval()\n\u001b[1;32m     26\u001b[0m model_args \u001b[38;5;241m=\u001b[39m trace\u001b[38;5;241m.\u001b[39mget_args()[\u001b[38;5;241m1\u001b[39m]\n\u001b[0;32m---> 27\u001b[0m \u001b[38;5;28;01mreturn\u001b[39;00m \u001b[43mget_rgb_depth_inliers_from_observed_rendered_args\u001b[49m\u001b[43m(\u001b[49m\n\u001b[1;32m     28\u001b[0m \u001b[43m    \u001b[49m\u001b[43mobserved_rgb\u001b[49m\u001b[43m,\u001b[49m\u001b[43m \u001b[49m\u001b[43mrendered_rgb\u001b[49m\u001b[43m,\u001b[49m\u001b[43m \u001b[49m\u001b[43mobserved_depth\u001b[49m\u001b[43m,\u001b[49m\u001b[43m \u001b[49m\u001b[43mrendered_depth\u001b[49m\u001b[43m,\u001b[49m\u001b[43m \u001b[49m\u001b[43mmodel_args\u001b[49m\n\u001b[1;32m     29\u001b[0m \u001b[43m\u001b[49m\u001b[43m)\u001b[49m\n",
      "File \u001b[0;32m~/b3d/src/b3d/bayes3d/model.py:35\u001b[0m, in \u001b[0;36mget_rgb_depth_inliers_from_observed_rendered_args\u001b[0;34m(observed_rgb, rendered_rgb, observed_depth, rendered_depth, model_args)\u001b[0m\n\u001b[1;32m     32\u001b[0m \u001b[38;5;28;01mdef\u001b[39;00m \u001b[38;5;21mget_rgb_depth_inliers_from_observed_rendered_args\u001b[39m(\n\u001b[1;32m     33\u001b[0m     observed_rgb, rendered_rgb, observed_depth, rendered_depth, model_args\n\u001b[1;32m     34\u001b[0m ):\n\u001b[0;32m---> 35\u001b[0m     observed_lab \u001b[38;5;241m=\u001b[39m \u001b[43mb3d\u001b[49m\u001b[38;5;241;43m.\u001b[39;49m\u001b[43mcolors\u001b[49m\u001b[38;5;241;43m.\u001b[39;49m\u001b[43mrgb_to_lab\u001b[49m\u001b[43m(\u001b[49m\u001b[43mobserved_rgb\u001b[49m\u001b[43m)\u001b[49m\n\u001b[1;32m     36\u001b[0m     rendered_lab \u001b[38;5;241m=\u001b[39m b3d\u001b[38;5;241m.\u001b[39mcolors\u001b[38;5;241m.\u001b[39mrgb_to_lab(rendered_rgb)\n\u001b[1;32m     37\u001b[0m     error \u001b[38;5;241m=\u001b[39m jnp\u001b[38;5;241m.\u001b[39mlinalg\u001b[38;5;241m.\u001b[39mnorm(\n\u001b[1;32m     38\u001b[0m         observed_lab[\u001b[38;5;241m.\u001b[39m\u001b[38;5;241m.\u001b[39m\u001b[38;5;241m.\u001b[39m, \u001b[38;5;241m1\u001b[39m:\u001b[38;5;241m3\u001b[39m] \u001b[38;5;241m-\u001b[39m rendered_lab[\u001b[38;5;241m.\u001b[39m\u001b[38;5;241m.\u001b[39m\u001b[38;5;241m.\u001b[39m, \u001b[38;5;241m1\u001b[39m:\u001b[38;5;241m3\u001b[39m], axis\u001b[38;5;241m=\u001b[39m\u001b[38;5;241m-\u001b[39m\u001b[38;5;241m1\u001b[39m\n\u001b[1;32m     39\u001b[0m     ) \u001b[38;5;241m+\u001b[39m jnp\u001b[38;5;241m.\u001b[39mabs(observed_lab[\u001b[38;5;241m.\u001b[39m\u001b[38;5;241m.\u001b[39m\u001b[38;5;241m.\u001b[39m, \u001b[38;5;241m0\u001b[39m] \u001b[38;5;241m-\u001b[39m rendered_lab[\u001b[38;5;241m.\u001b[39m\u001b[38;5;241m.\u001b[39m\u001b[38;5;241m.\u001b[39m, \u001b[38;5;241m0\u001b[39m])\n",
      "File \u001b[0;32m~/b3d/.pixi/envs/gpu/lib/python3.12/site-packages/jax/_src/numpy/vectorize.py:321\u001b[0m, in \u001b[0;36mvectorize.<locals>.wrapped\u001b[0;34m(*args, **kwargs)\u001b[0m\n\u001b[1;32m    319\u001b[0m   \u001b[38;5;28;01melse\u001b[39;00m:\n\u001b[1;32m    320\u001b[0m     vectorized_func \u001b[38;5;241m=\u001b[39m api\u001b[38;5;241m.\u001b[39mvmap(vectorized_func, in_axes)\n\u001b[0;32m--> 321\u001b[0m result \u001b[38;5;241m=\u001b[39m \u001b[43mvectorized_func\u001b[49m\u001b[43m(\u001b[49m\u001b[38;5;241;43m*\u001b[39;49m\u001b[43msqueezed_args\u001b[49m\u001b[43m)\u001b[49m\n\u001b[1;32m    323\u001b[0m \u001b[38;5;28;01mif\u001b[39;00m \u001b[38;5;129;01mnot\u001b[39;00m dims_to_expand:\n\u001b[1;32m    324\u001b[0m   \u001b[38;5;28;01mreturn\u001b[39;00m result\n",
      "    \u001b[0;31m[... skipping hidden 1 frame]\u001b[0m\n",
      "File \u001b[0;32m~/b3d/.pixi/envs/gpu/lib/python3.12/site-packages/jax/_src/api.py:1214\u001b[0m, in \u001b[0;36mvmap.<locals>.vmap_f\u001b[0;34m(*args, **kwargs)\u001b[0m\n\u001b[1;32m   1211\u001b[0m in_axes_flat \u001b[38;5;241m=\u001b[39m flatten_axes(\u001b[38;5;124m\"\u001b[39m\u001b[38;5;124mvmap in_axes\u001b[39m\u001b[38;5;124m\"\u001b[39m, in_tree, (in_axes, \u001b[38;5;241m0\u001b[39m), kws\u001b[38;5;241m=\u001b[39m\u001b[38;5;28;01mTrue\u001b[39;00m)\n\u001b[1;32m   1212\u001b[0m axis_size_ \u001b[38;5;241m=\u001b[39m (axis_size \u001b[38;5;28;01mif\u001b[39;00m axis_size \u001b[38;5;129;01mis\u001b[39;00m \u001b[38;5;129;01mnot\u001b[39;00m \u001b[38;5;28;01mNone\u001b[39;00m \u001b[38;5;28;01melse\u001b[39;00m\n\u001b[1;32m   1213\u001b[0m               _mapped_axis_size(fun, in_tree, args_flat, in_axes_flat, \u001b[38;5;124m\"\u001b[39m\u001b[38;5;124mvmap\u001b[39m\u001b[38;5;124m\"\u001b[39m))\n\u001b[0;32m-> 1214\u001b[0m out_flat \u001b[38;5;241m=\u001b[39m \u001b[43mbatching\u001b[49m\u001b[38;5;241;43m.\u001b[39;49m\u001b[43mbatch\u001b[49m\u001b[43m(\u001b[49m\n\u001b[1;32m   1215\u001b[0m \u001b[43m    \u001b[49m\u001b[43mflat_fun\u001b[49m\u001b[43m,\u001b[49m\u001b[43m \u001b[49m\u001b[43maxis_name\u001b[49m\u001b[43m,\u001b[49m\u001b[43m \u001b[49m\u001b[43maxis_size_\u001b[49m\u001b[43m,\u001b[49m\u001b[43m \u001b[49m\u001b[43min_axes_flat\u001b[49m\u001b[43m,\u001b[49m\n\u001b[1;32m   1216\u001b[0m \u001b[43m    \u001b[49m\u001b[38;5;28;43;01mlambda\u001b[39;49;00m\u001b[43m:\u001b[49m\u001b[43m \u001b[49m\u001b[43mflatten_axes\u001b[49m\u001b[43m(\u001b[49m\u001b[38;5;124;43m\"\u001b[39;49m\u001b[38;5;124;43mvmap out_axes\u001b[39;49m\u001b[38;5;124;43m\"\u001b[39;49m\u001b[43m,\u001b[49m\u001b[43m \u001b[49m\u001b[43mout_tree\u001b[49m\u001b[43m(\u001b[49m\u001b[43m)\u001b[49m\u001b[43m,\u001b[49m\u001b[43m \u001b[49m\u001b[43mout_axes\u001b[49m\u001b[43m)\u001b[49m\u001b[43m,\u001b[49m\n\u001b[1;32m   1217\u001b[0m \u001b[43m    \u001b[49m\u001b[43mspmd_axis_name\u001b[49m\u001b[38;5;241;43m=\u001b[39;49m\u001b[43mspmd_axis_name\u001b[49m\n\u001b[1;32m   1218\u001b[0m \u001b[43m\u001b[49m\u001b[43m)\u001b[49m\u001b[38;5;241;43m.\u001b[39;49m\u001b[43mcall_wrapped\u001b[49m\u001b[43m(\u001b[49m\u001b[38;5;241;43m*\u001b[39;49m\u001b[43margs_flat\u001b[49m\u001b[43m)\u001b[49m\n\u001b[1;32m   1219\u001b[0m \u001b[38;5;28;01mreturn\u001b[39;00m tree_unflatten(out_tree(), out_flat)\n",
      "File \u001b[0;32m~/b3d/.pixi/envs/gpu/lib/python3.12/site-packages/jax/_src/linear_util.py:192\u001b[0m, in \u001b[0;36mWrappedFun.call_wrapped\u001b[0;34m(self, *args, **kwargs)\u001b[0m\n\u001b[1;32m    189\u001b[0m gen \u001b[38;5;241m=\u001b[39m gen_static_args \u001b[38;5;241m=\u001b[39m out_store \u001b[38;5;241m=\u001b[39m \u001b[38;5;28;01mNone\u001b[39;00m\n\u001b[1;32m    191\u001b[0m \u001b[38;5;28;01mtry\u001b[39;00m:\n\u001b[0;32m--> 192\u001b[0m   ans \u001b[38;5;241m=\u001b[39m \u001b[38;5;28;43mself\u001b[39;49m\u001b[38;5;241;43m.\u001b[39;49m\u001b[43mf\u001b[49m\u001b[43m(\u001b[49m\u001b[38;5;241;43m*\u001b[39;49m\u001b[43margs\u001b[49m\u001b[43m,\u001b[49m\u001b[43m \u001b[49m\u001b[38;5;241;43m*\u001b[39;49m\u001b[38;5;241;43m*\u001b[39;49m\u001b[38;5;28;43mdict\u001b[39;49m\u001b[43m(\u001b[49m\u001b[38;5;28;43mself\u001b[39;49m\u001b[38;5;241;43m.\u001b[39;49m\u001b[43mparams\u001b[49m\u001b[43m,\u001b[49m\u001b[43m \u001b[49m\u001b[38;5;241;43m*\u001b[39;49m\u001b[38;5;241;43m*\u001b[39;49m\u001b[43mkwargs\u001b[49m\u001b[43m)\u001b[49m\u001b[43m)\u001b[49m\n\u001b[1;32m    193\u001b[0m \u001b[38;5;28;01mexcept\u001b[39;00m:\n\u001b[1;32m    194\u001b[0m   \u001b[38;5;66;03m# Some transformations yield from inside context managers, so we have to\u001b[39;00m\n\u001b[1;32m    195\u001b[0m   \u001b[38;5;66;03m# interrupt them before reraising the exception. Otherwise they will only\u001b[39;00m\n\u001b[1;32m    196\u001b[0m   \u001b[38;5;66;03m# get garbage-collected at some later time, running their cleanup tasks\u001b[39;00m\n\u001b[1;32m    197\u001b[0m   \u001b[38;5;66;03m# only after this exception is handled, which can corrupt the global\u001b[39;00m\n\u001b[1;32m    198\u001b[0m   \u001b[38;5;66;03m# state.\u001b[39;00m\n\u001b[1;32m    199\u001b[0m   \u001b[38;5;28;01mwhile\u001b[39;00m stack:\n",
      "    \u001b[0;31m[... skipping hidden 1 frame]\u001b[0m\n",
      "File \u001b[0;32m~/b3d/.pixi/envs/gpu/lib/python3.12/site-packages/jax/_src/api.py:1214\u001b[0m, in \u001b[0;36mvmap.<locals>.vmap_f\u001b[0;34m(*args, **kwargs)\u001b[0m\n\u001b[1;32m   1211\u001b[0m in_axes_flat \u001b[38;5;241m=\u001b[39m flatten_axes(\u001b[38;5;124m\"\u001b[39m\u001b[38;5;124mvmap in_axes\u001b[39m\u001b[38;5;124m\"\u001b[39m, in_tree, (in_axes, \u001b[38;5;241m0\u001b[39m), kws\u001b[38;5;241m=\u001b[39m\u001b[38;5;28;01mTrue\u001b[39;00m)\n\u001b[1;32m   1212\u001b[0m axis_size_ \u001b[38;5;241m=\u001b[39m (axis_size \u001b[38;5;28;01mif\u001b[39;00m axis_size \u001b[38;5;129;01mis\u001b[39;00m \u001b[38;5;129;01mnot\u001b[39;00m \u001b[38;5;28;01mNone\u001b[39;00m \u001b[38;5;28;01melse\u001b[39;00m\n\u001b[1;32m   1213\u001b[0m               _mapped_axis_size(fun, in_tree, args_flat, in_axes_flat, \u001b[38;5;124m\"\u001b[39m\u001b[38;5;124mvmap\u001b[39m\u001b[38;5;124m\"\u001b[39m))\n\u001b[0;32m-> 1214\u001b[0m out_flat \u001b[38;5;241m=\u001b[39m \u001b[43mbatching\u001b[49m\u001b[38;5;241;43m.\u001b[39;49m\u001b[43mbatch\u001b[49m\u001b[43m(\u001b[49m\n\u001b[1;32m   1215\u001b[0m \u001b[43m    \u001b[49m\u001b[43mflat_fun\u001b[49m\u001b[43m,\u001b[49m\u001b[43m \u001b[49m\u001b[43maxis_name\u001b[49m\u001b[43m,\u001b[49m\u001b[43m \u001b[49m\u001b[43maxis_size_\u001b[49m\u001b[43m,\u001b[49m\u001b[43m \u001b[49m\u001b[43min_axes_flat\u001b[49m\u001b[43m,\u001b[49m\n\u001b[1;32m   1216\u001b[0m \u001b[43m    \u001b[49m\u001b[38;5;28;43;01mlambda\u001b[39;49;00m\u001b[43m:\u001b[49m\u001b[43m \u001b[49m\u001b[43mflatten_axes\u001b[49m\u001b[43m(\u001b[49m\u001b[38;5;124;43m\"\u001b[39;49m\u001b[38;5;124;43mvmap out_axes\u001b[39;49m\u001b[38;5;124;43m\"\u001b[39;49m\u001b[43m,\u001b[49m\u001b[43m \u001b[49m\u001b[43mout_tree\u001b[49m\u001b[43m(\u001b[49m\u001b[43m)\u001b[49m\u001b[43m,\u001b[49m\u001b[43m \u001b[49m\u001b[43mout_axes\u001b[49m\u001b[43m)\u001b[49m\u001b[43m,\u001b[49m\n\u001b[1;32m   1217\u001b[0m \u001b[43m    \u001b[49m\u001b[43mspmd_axis_name\u001b[49m\u001b[38;5;241;43m=\u001b[39;49m\u001b[43mspmd_axis_name\u001b[49m\n\u001b[1;32m   1218\u001b[0m \u001b[43m\u001b[49m\u001b[43m)\u001b[49m\u001b[38;5;241;43m.\u001b[39;49m\u001b[43mcall_wrapped\u001b[49m\u001b[43m(\u001b[49m\u001b[38;5;241;43m*\u001b[39;49m\u001b[43margs_flat\u001b[49m\u001b[43m)\u001b[49m\n\u001b[1;32m   1219\u001b[0m \u001b[38;5;28;01mreturn\u001b[39;00m tree_unflatten(out_tree(), out_flat)\n",
      "File \u001b[0;32m~/b3d/.pixi/envs/gpu/lib/python3.12/site-packages/jax/_src/linear_util.py:192\u001b[0m, in \u001b[0;36mWrappedFun.call_wrapped\u001b[0;34m(self, *args, **kwargs)\u001b[0m\n\u001b[1;32m    189\u001b[0m gen \u001b[38;5;241m=\u001b[39m gen_static_args \u001b[38;5;241m=\u001b[39m out_store \u001b[38;5;241m=\u001b[39m \u001b[38;5;28;01mNone\u001b[39;00m\n\u001b[1;32m    191\u001b[0m \u001b[38;5;28;01mtry\u001b[39;00m:\n\u001b[0;32m--> 192\u001b[0m   ans \u001b[38;5;241m=\u001b[39m \u001b[38;5;28;43mself\u001b[39;49m\u001b[38;5;241;43m.\u001b[39;49m\u001b[43mf\u001b[49m\u001b[43m(\u001b[49m\u001b[38;5;241;43m*\u001b[39;49m\u001b[43margs\u001b[49m\u001b[43m,\u001b[49m\u001b[43m \u001b[49m\u001b[38;5;241;43m*\u001b[39;49m\u001b[38;5;241;43m*\u001b[39;49m\u001b[38;5;28;43mdict\u001b[39;49m\u001b[43m(\u001b[49m\u001b[38;5;28;43mself\u001b[39;49m\u001b[38;5;241;43m.\u001b[39;49m\u001b[43mparams\u001b[49m\u001b[43m,\u001b[49m\u001b[43m \u001b[49m\u001b[38;5;241;43m*\u001b[39;49m\u001b[38;5;241;43m*\u001b[39;49m\u001b[43mkwargs\u001b[49m\u001b[43m)\u001b[49m\u001b[43m)\u001b[49m\n\u001b[1;32m    193\u001b[0m \u001b[38;5;28;01mexcept\u001b[39;00m:\n\u001b[1;32m    194\u001b[0m   \u001b[38;5;66;03m# Some transformations yield from inside context managers, so we have to\u001b[39;00m\n\u001b[1;32m    195\u001b[0m   \u001b[38;5;66;03m# interrupt them before reraising the exception. Otherwise they will only\u001b[39;00m\n\u001b[1;32m    196\u001b[0m   \u001b[38;5;66;03m# get garbage-collected at some later time, running their cleanup tasks\u001b[39;00m\n\u001b[1;32m    197\u001b[0m   \u001b[38;5;66;03m# only after this exception is handled, which can corrupt the global\u001b[39;00m\n\u001b[1;32m    198\u001b[0m   \u001b[38;5;66;03m# state.\u001b[39;00m\n\u001b[1;32m    199\u001b[0m   \u001b[38;5;28;01mwhile\u001b[39;00m stack:\n",
      "File \u001b[0;32m~/b3d/.pixi/envs/gpu/lib/python3.12/site-packages/jax/_src/numpy/vectorize.py:138\u001b[0m, in \u001b[0;36m_check_output_dims.<locals>.wrapped\u001b[0;34m(*args)\u001b[0m\n\u001b[1;32m    137\u001b[0m \u001b[38;5;28;01mdef\u001b[39;00m \u001b[38;5;21mwrapped\u001b[39m(\u001b[38;5;241m*\u001b[39margs):\n\u001b[0;32m--> 138\u001b[0m   out \u001b[38;5;241m=\u001b[39m \u001b[43mfunc\u001b[49m\u001b[43m(\u001b[49m\u001b[38;5;241;43m*\u001b[39;49m\u001b[43margs\u001b[49m\u001b[43m)\u001b[49m\n\u001b[1;32m    139\u001b[0m   out_shapes \u001b[38;5;241m=\u001b[39m \u001b[38;5;28mmap\u001b[39m(jnp\u001b[38;5;241m.\u001b[39mshape, out \u001b[38;5;28;01mif\u001b[39;00m \u001b[38;5;28misinstance\u001b[39m(out, \u001b[38;5;28mtuple\u001b[39m) \u001b[38;5;28;01melse\u001b[39;00m [out])\n\u001b[1;32m    141\u001b[0m   \u001b[38;5;28;01mif\u001b[39;00m expected_output_core_dims \u001b[38;5;129;01mis\u001b[39;00m \u001b[38;5;28;01mNone\u001b[39;00m:\n",
      "File \u001b[0;32m~/b3d/src/b3d/colors.py:11\u001b[0m, in \u001b[0;36mrgb_to_lab\u001b[0;34m(rgb)\u001b[0m\n\u001b[1;32m      8\u001b[0m \u001b[38;5;129m@partial\u001b[39m(jnp\u001b[38;5;241m.\u001b[39mvectorize, signature\u001b[38;5;241m=\u001b[39m\u001b[38;5;124m\"\u001b[39m\u001b[38;5;124m(k)->(k)\u001b[39m\u001b[38;5;124m\"\u001b[39m)\n\u001b[1;32m      9\u001b[0m \u001b[38;5;28;01mdef\u001b[39;00m \u001b[38;5;21mrgb_to_lab\u001b[39m(rgb):\n\u001b[1;32m     10\u001b[0m     \u001b[38;5;66;03m# Convert sRGB to linear RGB\u001b[39;00m\n\u001b[0;32m---> 11\u001b[0m     rgb \u001b[38;5;241m=\u001b[39m \u001b[43mjnp\u001b[49m\u001b[38;5;241;43m.\u001b[39;49m\u001b[43mclip\u001b[49m\u001b[43m(\u001b[49m\u001b[43mrgb\u001b[49m\u001b[43m,\u001b[49m\u001b[43m \u001b[49m\u001b[38;5;241;43m0\u001b[39;49m\u001b[43m,\u001b[49m\u001b[43m \u001b[49m\u001b[38;5;241;43m1\u001b[39;49m\u001b[43m)\u001b[49m\n\u001b[1;32m     12\u001b[0m     mask \u001b[38;5;241m=\u001b[39m rgb \u001b[38;5;241m>\u001b[39m \u001b[38;5;241m0.04045\u001b[39m\n\u001b[1;32m     13\u001b[0m     rgb \u001b[38;5;241m=\u001b[39m jnp\u001b[38;5;241m.\u001b[39mwhere(mask, jnp\u001b[38;5;241m.\u001b[39mpower((rgb \u001b[38;5;241m+\u001b[39m \u001b[38;5;241m0.055\u001b[39m) \u001b[38;5;241m/\u001b[39m \u001b[38;5;241m1.055\u001b[39m, \u001b[38;5;241m2.4\u001b[39m), rgb \u001b[38;5;241m/\u001b[39m \u001b[38;5;241m12.92\u001b[39m)\n",
      "    \u001b[0;31m[... skipping hidden 1 frame]\u001b[0m\n",
      "File \u001b[0;32m~/b3d/.pixi/envs/gpu/lib/python3.12/site-packages/jax/_src/pjit.py:304\u001b[0m, in \u001b[0;36m_cpp_pjit.<locals>.cache_miss\u001b[0;34m(*args, **kwargs)\u001b[0m\n\u001b[1;32m    302\u001b[0m \u001b[38;5;129m@api_boundary\u001b[39m\n\u001b[1;32m    303\u001b[0m \u001b[38;5;28;01mdef\u001b[39;00m \u001b[38;5;21mcache_miss\u001b[39m(\u001b[38;5;241m*\u001b[39margs, \u001b[38;5;241m*\u001b[39m\u001b[38;5;241m*\u001b[39mkwargs):\n\u001b[0;32m--> 304\u001b[0m   outs, out_flat, out_tree, args_flat, jaxpr, attrs_tracked \u001b[38;5;241m=\u001b[39m \u001b[43m_python_pjit_helper\u001b[49m\u001b[43m(\u001b[49m\n\u001b[1;32m    305\u001b[0m \u001b[43m      \u001b[49m\u001b[43mjit_info\u001b[49m\u001b[43m,\u001b[49m\u001b[43m \u001b[49m\u001b[38;5;241;43m*\u001b[39;49m\u001b[43margs\u001b[49m\u001b[43m,\u001b[49m\u001b[43m \u001b[49m\u001b[38;5;241;43m*\u001b[39;49m\u001b[38;5;241;43m*\u001b[39;49m\u001b[43mkwargs\u001b[49m\u001b[43m)\u001b[49m\n\u001b[1;32m    306\u001b[0m   executable \u001b[38;5;241m=\u001b[39m _read_most_recent_pjit_call_executable(jaxpr)\n\u001b[1;32m    307\u001b[0m   maybe_fastpath_data \u001b[38;5;241m=\u001b[39m _get_fastpath_data(\n\u001b[1;32m    308\u001b[0m       executable, out_tree, args_flat, out_flat, attrs_tracked, jaxpr\u001b[38;5;241m.\u001b[39meffects,\n\u001b[1;32m    309\u001b[0m       jaxpr\u001b[38;5;241m.\u001b[39mconsts, jit_info\u001b[38;5;241m.\u001b[39mabstracted_axes)\n",
      "File \u001b[0;32m~/b3d/.pixi/envs/gpu/lib/python3.12/site-packages/jax/_src/pjit.py:181\u001b[0m, in \u001b[0;36m_python_pjit_helper\u001b[0;34m(jit_info, *args, **kwargs)\u001b[0m\n\u001b[1;32m    178\u001b[0m   args_flat \u001b[38;5;241m=\u001b[39m [\u001b[38;5;241m*\u001b[39minit_states, \u001b[38;5;241m*\u001b[39margs_flat]\n\u001b[1;32m    180\u001b[0m \u001b[38;5;28;01mtry\u001b[39;00m:\n\u001b[0;32m--> 181\u001b[0m   out_flat \u001b[38;5;241m=\u001b[39m \u001b[43mpjit_p\u001b[49m\u001b[38;5;241;43m.\u001b[39;49m\u001b[43mbind\u001b[49m\u001b[43m(\u001b[49m\u001b[38;5;241;43m*\u001b[39;49m\u001b[43margs_flat\u001b[49m\u001b[43m,\u001b[49m\u001b[43m \u001b[49m\u001b[38;5;241;43m*\u001b[39;49m\u001b[38;5;241;43m*\u001b[39;49m\u001b[43mparams\u001b[49m\u001b[43m)\u001b[49m\n\u001b[1;32m    182\u001b[0m \u001b[38;5;28;01mexcept\u001b[39;00m pxla\u001b[38;5;241m.\u001b[39mDeviceAssignmentMismatchError \u001b[38;5;28;01mas\u001b[39;00m e:\n\u001b[1;32m    183\u001b[0m   fails, \u001b[38;5;241m=\u001b[39m e\u001b[38;5;241m.\u001b[39margs\n",
      "File \u001b[0;32m~/b3d/.pixi/envs/gpu/lib/python3.12/site-packages/jax/_src/core.py:2789\u001b[0m, in \u001b[0;36mAxisPrimitive.bind\u001b[0;34m(self, *args, **params)\u001b[0m\n\u001b[1;32m   2785\u001b[0m axis_main \u001b[38;5;241m=\u001b[39m \u001b[38;5;28mmax\u001b[39m((axis_frame(a)\u001b[38;5;241m.\u001b[39mmain_trace \u001b[38;5;28;01mfor\u001b[39;00m a \u001b[38;5;129;01min\u001b[39;00m used_axis_names(\u001b[38;5;28mself\u001b[39m, params)),\n\u001b[1;32m   2786\u001b[0m                 default\u001b[38;5;241m=\u001b[39m\u001b[38;5;28;01mNone\u001b[39;00m, key\u001b[38;5;241m=\u001b[39m\u001b[38;5;28;01mlambda\u001b[39;00m t: \u001b[38;5;28mgetattr\u001b[39m(t, \u001b[38;5;124m'\u001b[39m\u001b[38;5;124mlevel\u001b[39m\u001b[38;5;124m'\u001b[39m, \u001b[38;5;241m-\u001b[39m\u001b[38;5;241m1\u001b[39m))\n\u001b[1;32m   2787\u001b[0m top_trace \u001b[38;5;241m=\u001b[39m (top_trace \u001b[38;5;28;01mif\u001b[39;00m \u001b[38;5;129;01mnot\u001b[39;00m axis_main \u001b[38;5;129;01mor\u001b[39;00m axis_main\u001b[38;5;241m.\u001b[39mlevel \u001b[38;5;241m<\u001b[39m top_trace\u001b[38;5;241m.\u001b[39mlevel\n\u001b[1;32m   2788\u001b[0m              \u001b[38;5;28;01melse\u001b[39;00m axis_main\u001b[38;5;241m.\u001b[39mwith_cur_sublevel())\n\u001b[0;32m-> 2789\u001b[0m \u001b[38;5;28;01mreturn\u001b[39;00m \u001b[38;5;28;43mself\u001b[39;49m\u001b[38;5;241;43m.\u001b[39;49m\u001b[43mbind_with_trace\u001b[49m\u001b[43m(\u001b[49m\u001b[43mtop_trace\u001b[49m\u001b[43m,\u001b[49m\u001b[43m \u001b[49m\u001b[43margs\u001b[49m\u001b[43m,\u001b[49m\u001b[43m \u001b[49m\u001b[43mparams\u001b[49m\u001b[43m)\u001b[49m\n",
      "File \u001b[0;32m~/b3d/.pixi/envs/gpu/lib/python3.12/site-packages/jax/_src/core.py:391\u001b[0m, in \u001b[0;36mPrimitive.bind_with_trace\u001b[0;34m(self, trace, args, params)\u001b[0m\n\u001b[1;32m    389\u001b[0m \u001b[38;5;28;01mdef\u001b[39;00m \u001b[38;5;21mbind_with_trace\u001b[39m(\u001b[38;5;28mself\u001b[39m, trace, args, params):\n\u001b[1;32m    390\u001b[0m   \u001b[38;5;28;01mwith\u001b[39;00m pop_level(trace\u001b[38;5;241m.\u001b[39mlevel):\n\u001b[0;32m--> 391\u001b[0m     out \u001b[38;5;241m=\u001b[39m \u001b[43mtrace\u001b[49m\u001b[38;5;241;43m.\u001b[39;49m\u001b[43mprocess_primitive\u001b[49m\u001b[43m(\u001b[49m\u001b[38;5;28;43mself\u001b[39;49m\u001b[43m,\u001b[49m\u001b[43m \u001b[49m\u001b[38;5;28;43mmap\u001b[39;49m\u001b[43m(\u001b[49m\u001b[43mtrace\u001b[49m\u001b[38;5;241;43m.\u001b[39;49m\u001b[43mfull_raise\u001b[49m\u001b[43m,\u001b[49m\u001b[43m \u001b[49m\u001b[43margs\u001b[49m\u001b[43m)\u001b[49m\u001b[43m,\u001b[49m\u001b[43m \u001b[49m\u001b[43mparams\u001b[49m\u001b[43m)\u001b[49m\n\u001b[1;32m    392\u001b[0m   \u001b[38;5;28;01mreturn\u001b[39;00m \u001b[38;5;28mmap\u001b[39m(full_lower, out) \u001b[38;5;28;01mif\u001b[39;00m \u001b[38;5;28mself\u001b[39m\u001b[38;5;241m.\u001b[39mmultiple_results \u001b[38;5;28;01melse\u001b[39;00m full_lower(out)\n",
      "File \u001b[0;32m~/b3d/.pixi/envs/gpu/lib/python3.12/site-packages/jax/_src/interpreters/batching.py:433\u001b[0m, in \u001b[0;36mBatchTrace.process_primitive\u001b[0;34m(self, primitive, tracers, params)\u001b[0m\n\u001b[1;32m    431\u001b[0m   frame \u001b[38;5;241m=\u001b[39m \u001b[38;5;28mself\u001b[39m\u001b[38;5;241m.\u001b[39mget_frame(vals_in, dims_in)\n\u001b[1;32m    432\u001b[0m   batched_primitive \u001b[38;5;241m=\u001b[39m \u001b[38;5;28mself\u001b[39m\u001b[38;5;241m.\u001b[39mget_primitive_batcher(primitive, frame)\n\u001b[0;32m--> 433\u001b[0m   val_out, dim_out \u001b[38;5;241m=\u001b[39m \u001b[43mbatched_primitive\u001b[49m\u001b[43m(\u001b[49m\u001b[43mvals_in\u001b[49m\u001b[43m,\u001b[49m\u001b[43m \u001b[49m\u001b[43mdims_in\u001b[49m\u001b[43m,\u001b[49m\u001b[43m \u001b[49m\u001b[38;5;241;43m*\u001b[39;49m\u001b[38;5;241;43m*\u001b[39;49m\u001b[43mparams\u001b[49m\u001b[43m)\u001b[49m\n\u001b[1;32m    434\u001b[0m src \u001b[38;5;241m=\u001b[39m source_info_util\u001b[38;5;241m.\u001b[39mcurrent()\n\u001b[1;32m    435\u001b[0m \u001b[38;5;28;01mif\u001b[39;00m primitive\u001b[38;5;241m.\u001b[39mmultiple_results:\n",
      "File \u001b[0;32m~/b3d/.pixi/envs/gpu/lib/python3.12/site-packages/jax/_src/pjit.py:1718\u001b[0m, in \u001b[0;36m_pjit_batcher\u001b[0;34m(insert_axis, spmd_axis_name, axis_size, axis_name, main_type, vals_in, dims_in, jaxpr, in_shardings, out_shardings, in_layouts, out_layouts, resource_env, donated_invars, name, keep_unused, inline)\u001b[0m\n\u001b[1;32m   1712\u001b[0m \u001b[38;5;28;01mdef\u001b[39;00m \u001b[38;5;21m_pjit_batcher\u001b[39m(insert_axis, spmd_axis_name,\n\u001b[1;32m   1713\u001b[0m                   axis_size, axis_name, main_type,\n\u001b[1;32m   1714\u001b[0m                   vals_in, dims_in,\n\u001b[1;32m   1715\u001b[0m                   jaxpr, in_shardings, out_shardings, in_layouts, out_layouts,\n\u001b[1;32m   1716\u001b[0m                   resource_env, donated_invars, name, keep_unused, inline):\n\u001b[1;32m   1717\u001b[0m   segment_lens, dims_in \u001b[38;5;241m=\u001b[39m batching\u001b[38;5;241m.\u001b[39mindirectify_ragged_axes(dims_in)\n\u001b[0;32m-> 1718\u001b[0m   new_jaxpr, axes_out \u001b[38;5;241m=\u001b[39m \u001b[43mbatching\u001b[49m\u001b[38;5;241;43m.\u001b[39;49m\u001b[43mbatch_jaxpr2\u001b[49m\u001b[43m(\u001b[49m\n\u001b[1;32m   1719\u001b[0m \u001b[43m      \u001b[49m\u001b[43mjaxpr\u001b[49m\u001b[43m,\u001b[49m\u001b[43m \u001b[49m\u001b[43maxis_size\u001b[49m\u001b[43m,\u001b[49m\u001b[43m \u001b[49m\u001b[43mdims_in\u001b[49m\u001b[43m,\u001b[49m\u001b[43m \u001b[49m\u001b[43maxis_name\u001b[49m\u001b[38;5;241;43m=\u001b[39;49m\u001b[43maxis_name\u001b[49m\u001b[43m,\u001b[49m\n\u001b[1;32m   1720\u001b[0m \u001b[43m      \u001b[49m\u001b[43mspmd_axis_name\u001b[49m\u001b[38;5;241;43m=\u001b[39;49m\u001b[43mspmd_axis_name\u001b[49m\u001b[43m,\u001b[49m\u001b[43m \u001b[49m\u001b[43mmain_type\u001b[49m\u001b[38;5;241;43m=\u001b[39;49m\u001b[43mmain_type\u001b[49m\u001b[43m)\u001b[49m\n\u001b[1;32m   1722\u001b[0m   \u001b[38;5;66;03m# `insert_axis` is set to True only for some `xmap` uses.\u001b[39;00m\n\u001b[1;32m   1723\u001b[0m   new_parts \u001b[38;5;241m=\u001b[39m (axis_name,) \u001b[38;5;28;01mif\u001b[39;00m insert_axis \u001b[38;5;28;01melse\u001b[39;00m (\n\u001b[1;32m   1724\u001b[0m       () \u001b[38;5;28;01mif\u001b[39;00m spmd_axis_name \u001b[38;5;129;01mis\u001b[39;00m \u001b[38;5;28;01mNone\u001b[39;00m \u001b[38;5;28;01melse\u001b[39;00m spmd_axis_name)\n",
      "File \u001b[0;32m~/b3d/.pixi/envs/gpu/lib/python3.12/site-packages/jax/_src/interpreters/batching.py:769\u001b[0m, in \u001b[0;36mbatch_jaxpr2\u001b[0;34m(closed_jaxpr, axis_size, in_axes, axis_name, spmd_axis_name, main_type)\u001b[0m\n\u001b[1;32m    756\u001b[0m \u001b[38;5;28;01mdef\u001b[39;00m \u001b[38;5;21mbatch_jaxpr2\u001b[39m(\n\u001b[1;32m    757\u001b[0m     closed_jaxpr: core\u001b[38;5;241m.\u001b[39mClosedJaxpr,\n\u001b[1;32m    758\u001b[0m     axis_size: core\u001b[38;5;241m.\u001b[39mAxisSize,\n\u001b[0;32m   (...)\u001b[0m\n\u001b[1;32m    767\u001b[0m   \u001b[38;5;66;03m# consistency constraints, such as type-agreement across arms of a\u001b[39;00m\n\u001b[1;32m    768\u001b[0m   \u001b[38;5;66;03m# `lax.cond`, or input-output agreement for the body of a `lax.scan`.\u001b[39;00m\n\u001b[0;32m--> 769\u001b[0m   \u001b[38;5;28;01mreturn\u001b[39;00m \u001b[43m_batch_jaxpr2\u001b[49m\u001b[43m(\u001b[49m\u001b[43mclosed_jaxpr\u001b[49m\u001b[43m,\u001b[49m\u001b[43m \u001b[49m\u001b[43maxis_size\u001b[49m\u001b[43m,\u001b[49m\u001b[43m \u001b[49m\u001b[38;5;28;43mtuple\u001b[39;49m\u001b[43m(\u001b[49m\u001b[43min_axes\u001b[49m\u001b[43m)\u001b[49m\u001b[43m,\u001b[49m\u001b[43m \u001b[49m\u001b[43maxis_name\u001b[49m\u001b[43m,\u001b[49m\n\u001b[1;32m    770\u001b[0m \u001b[43m                       \u001b[49m\u001b[43mspmd_axis_name\u001b[49m\u001b[43m,\u001b[49m\u001b[43m \u001b[49m\u001b[43mmain_type\u001b[49m\u001b[43m)\u001b[49m\n",
      "File \u001b[0;32m~/b3d/.pixi/envs/gpu/lib/python3.12/site-packages/jax/_src/config.py:209\u001b[0m, in \u001b[0;36mtrace_context\u001b[0;34m()\u001b[0m\n\u001b[1;32m    206\u001b[0m \u001b[38;5;28;01mif\u001b[39;00m context \u001b[38;5;129;01mand\u001b[39;00m context\u001b[38;5;241m.\u001b[39mmesh_context_manager:\n\u001b[1;32m    207\u001b[0m   mesh_context_manager \u001b[38;5;241m=\u001b[39m context\u001b[38;5;241m.\u001b[39mmesh_context_manager\n\u001b[1;32m    208\u001b[0m \u001b[38;5;28;01mreturn\u001b[39;00m (axis_env_state, mesh_context_manager, enable_x64\u001b[38;5;241m.\u001b[39mvalue,\n\u001b[0;32m--> 209\u001b[0m         numpy_rank_promotion\u001b[38;5;241m.\u001b[39mvalue, \u001b[43mdefault_matmul_precision\u001b[49m\u001b[38;5;241;43m.\u001b[39;49m\u001b[43mvalue\u001b[49m,\n\u001b[1;32m    210\u001b[0m         dynamic_shapes\u001b[38;5;241m.\u001b[39mvalue, numpy_dtype_promotion\u001b[38;5;241m.\u001b[39mvalue,\n\u001b[1;32m    211\u001b[0m         default_device\u001b[38;5;241m.\u001b[39mvalue, random_seed_offset\u001b[38;5;241m.\u001b[39mvalue,\n\u001b[1;32m    212\u001b[0m         threefry_partitionable\u001b[38;5;241m.\u001b[39mvalue,\n\u001b[1;32m    213\u001b[0m         threefry_gpu_kernel_lowering\u001b[38;5;241m.\u001b[39mvalue,\n\u001b[1;32m    214\u001b[0m         softmax_custom_jvp\u001b[38;5;241m.\u001b[39mvalue,\n\u001b[1;32m    215\u001b[0m         enable_memories\u001b[38;5;241m.\u001b[39mvalue,\n\u001b[1;32m    216\u001b[0m         disable_jit\u001b[38;5;241m.\u001b[39mvalue,\n\u001b[1;32m    217\u001b[0m         debug_key_reuse\u001b[38;5;241m.\u001b[39mvalue,\n\u001b[1;32m    218\u001b[0m         jax_xla_profile_version\u001b[38;5;241m.\u001b[39mvalue,\n\u001b[1;32m    219\u001b[0m         \u001b[38;5;66;03m# Technically this affects jaxpr->stablehlo lowering, not tracing.\u001b[39;00m\n\u001b[1;32m    220\u001b[0m         hlo_source_file_canonicalization_regex\u001b[38;5;241m.\u001b[39mvalue)\n",
      "File \u001b[0;32m~/b3d/.pixi/envs/gpu/lib/python3.12/site-packages/jax/_src/config.py:278\u001b[0m, in \u001b[0;36m_StateContextManager.value\u001b[0;34m(self)\u001b[0m\n\u001b[1;32m    276\u001b[0m \u001b[38;5;129m@property\u001b[39m\n\u001b[1;32m    277\u001b[0m \u001b[38;5;28;01mdef\u001b[39;00m \u001b[38;5;21mvalue\u001b[39m(\u001b[38;5;28mself\u001b[39m) \u001b[38;5;241m-\u001b[39m\u001b[38;5;241m>\u001b[39m _T:\n\u001b[0;32m--> 278\u001b[0m   val \u001b[38;5;241m=\u001b[39m \u001b[43m_thread_local_state\u001b[49m\u001b[38;5;241;43m.\u001b[39;49m\u001b[38;5;18;43m__dict__\u001b[39;49m\u001b[38;5;241;43m.\u001b[39;49m\u001b[43mget\u001b[49m\u001b[43m(\u001b[49m\u001b[38;5;28;43mself\u001b[39;49m\u001b[38;5;241;43m.\u001b[39;49m\u001b[43m_name\u001b[49m\u001b[43m,\u001b[49m\u001b[43m \u001b[49m\u001b[43munset\u001b[49m\u001b[43m)\u001b[49m\n\u001b[1;32m    279\u001b[0m   \u001b[38;5;28;01mreturn\u001b[39;00m cast(_T, val) \u001b[38;5;28;01mif\u001b[39;00m val \u001b[38;5;129;01mis\u001b[39;00m \u001b[38;5;129;01mnot\u001b[39;00m unset \u001b[38;5;28;01melse\u001b[39;00m \u001b[38;5;28mself\u001b[39m\u001b[38;5;241m.\u001b[39m_value\n",
      "\u001b[0;31mKeyboardInterrupt\u001b[0m: "
     ]
    }
   ],
   "source": [
    "FINAL_T = len(image_arr)\n",
    "for T_observed_image in tqdm(range(FINAL_T)):\n",
    "    # Constrain on new RGB and Depth data.\n",
    "    trace = b3d.update_choices(\n",
    "        trace,\n",
    "        Pytree.const((\"observed_rgb_depth\",)),\n",
    "        (jnp.flip(image_arr[T_observed_image],1), jnp.flip(jnp.flip(depth_arr[T_observed_image],0),1)),\n",
    "    )\n",
    "    # camera pose doesn't change in physion\n",
    "    # trace, key = bayes3d.enumerate_and_select_best_move(\n",
    "    #     trace, Pytree.const((\"camera_pose\",)), key, all_deltas\n",
    "    # )\n",
    "    trace, key = bayes3d.enumerate_and_select_best_move(\n",
    "        trace, Pytree.const((\"object_pose_0\",)), key, all_deltas\n",
    "    )\n",
    "    trace, key = bayes3d.enumerate_and_select_best_move(\n",
    "        trace, Pytree.const((\"object_pose_1\",)), key, all_deltas\n",
    "    )\n",
    "    trace, key = bayes3d.enumerate_and_select_best_move(\n",
    "        trace, Pytree.const((\"object_pose_2\",)), key, all_deltas\n",
    "    )\n",
    "    bayes3d.rerun_visualize_trace_t(trace, T_observed_image)"
   ]
  },
  {
   "cell_type": "code",
   "execution_count": null,
   "metadata": {},
   "outputs": [],
   "source": []
  }
 ],
 "metadata": {
  "kernelspec": {
   "display_name": "gpu",
   "language": "python",
   "name": "python3"
  },
  "language_info": {
   "codemirror_mode": {
    "name": "ipython",
    "version": 3
   },
   "file_extension": ".py",
   "mimetype": "text/x-python",
   "name": "python",
   "nbconvert_exporter": "python",
   "pygments_lexer": "ipython3",
   "version": "3.12.5"
  }
 },
 "nbformat": 4,
 "nbformat_minor": 2
}
