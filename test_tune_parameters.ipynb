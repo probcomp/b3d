{
 "cells": [
  {
   "cell_type": "code",
   "execution_count": null,
   "metadata": {},
   "outputs": [],
   "source": [
    "import io\n",
    "import json\n",
    "import os\n",
    "from functools import reduce\n",
    "import h5py\n",
    "import numpy as np\n",
    "import trimesh\n",
    "from PIL import Image\n",
    "import matplotlib.pyplot as plt\n",
    "from scipy.spatial.transform import Rotation"
   ]
  },
  {
   "cell_type": "code",
   "execution_count": null,
   "metadata": {},
   "outputs": [],
   "source": [
    "config = 'pilot_dominoes_1mid_J025R45_boxroom'\n",
    "trial_index = str(3)\n",
    "\n",
    "gt_hdf5_file_path = f'/home/haoliangwang/data/physion_hdf5/dominoes_all_movies/{config}_{trial_index.zfill(4)}.hdf5'\n",
    "with open(f'/home/haoliangwang/data/b3d_tracking_results/test/dominoes_verbose/{config}_{trial_index.zfill(4)}.json') as f:\n",
    "    tracking_per_frame = json.load(f)\n",
    "with open(f'/home/haoliangwang/data/b3d_tracking_results/test/dominoes/{config}_{trial_index.zfill(4)}.json') as f:\n",
    "    tracking_final_frame = json.load(f)\n"
   ]
  },
  {
   "cell_type": "code",
   "execution_count": null,
   "metadata": {},
   "outputs": [],
   "source": [
    "NUM_SAMPLE_FROM_POSTERIOR = 20\n",
    "SMOOTHING_WINDOW_SIZE = 3\n",
    "FPS = 100\n",
    "STATIC_POSITION_THRESHHOLD = 0.007\n",
    "STATIC_ROTATION_THRESHHOLD = 0.001\n",
    "\n",
    "def compute_angular_velocity(q1, q2, dt):\n",
    "    # Convert quaternions to scipy Rotation objects\n",
    "    rot1 = Rotation.from_quat(q1)\n",
    "    rot2 = Rotation.from_quat(q2)\n",
    "\n",
    "    # Compute the relative rotation\n",
    "    relative_rotation = rot2 * rot1.inv()\n",
    "\n",
    "    # Convert the relative rotation to angle-axis representation\n",
    "    angle = relative_rotation.magnitude()  # Rotation angle in radians\n",
    "    axis = (\n",
    "        relative_rotation.as_rotvec() / angle if angle != 0 else np.zeros(3)\n",
    "    )  # Rotation axis\n",
    "\n",
    "    # Compute angular velocity\n",
    "    angular_velocity = (axis * angle) / dt\n",
    "    return {\n",
    "        \"x\": angular_velocity[0].astype(float).item(),\n",
    "        \"y\": angular_velocity[1].astype(float).item(),\n",
    "        \"z\": angular_velocity[2].astype(float).item(),\n",
    "    }\n",
    "\n",
    "def sample_from_posterior(log_probs_categories, option=\"rank\"):\n",
    "    log_probs = [item[0] for item in log_probs_categories]\n",
    "    categories = [item[1] for item in log_probs_categories]\n",
    "    num_categories = len(log_probs)\n",
    "\n",
    "    if option == \"uniform\":\n",
    "\n",
    "        def draw_single_sample():\n",
    "            index = np.random.choice(num_categories)\n",
    "            return categories[index]\n",
    "    elif option == \"veridical\":\n",
    "\n",
    "        def draw_single_sample():\n",
    "            # see this: https://stackoverflow.com/questions/58339083/how-to-sample-from-a-log-probability-distribution\n",
    "            gumbels = np.random.gumbel(size=num_categories)\n",
    "            index = np.argmax(log_probs + gumbels)\n",
    "            return categories[index]\n",
    "    elif option == \"rank\":\n",
    "\n",
    "        def draw_single_sample():\n",
    "            weights = np.array([1 / (n + 1) for n in range(num_categories)])\n",
    "            weights_norm = weights / weights.sum()\n",
    "            index = np.random.choice(num_categories, p=weights_norm)\n",
    "            return categories[index]\n",
    "    elif option == \"mix\":\n",
    "\n",
    "        def draw_single_sample():\n",
    "            t = 0.5\n",
    "            t * np.array(log_probs) + (1 - t) * (1 / num_categories)\n",
    "            return\n",
    "    else:\n",
    "        raise NotImplementedError\n",
    "\n",
    "    samples = []\n",
    "    np.random.seed(42)\n",
    "    for _ in range(NUM_SAMPLE_FROM_POSTERIOR):\n",
    "        sample = draw_single_sample()\n",
    "        samples.append(sample)\n",
    "    return samples\n"
   ]
  },
  {
   "cell_type": "code",
   "execution_count": null,
   "metadata": {},
   "outputs": [],
   "source": []
  },
  {
   "cell_type": "code",
   "execution_count": null,
   "metadata": {},
   "outputs": [],
   "source": []
  },
  {
   "cell_type": "code",
   "execution_count": null,
   "metadata": {},
   "outputs": [],
   "source": []
  }
 ],
 "metadata": {
  "kernelspec": {
   "display_name": "gpu",
   "language": "python",
   "name": "python3"
  },
  "language_info": {
   "name": "python",
   "version": "3.12.5"
  }
 },
 "nbformat": 4,
 "nbformat_minor": 2
}
