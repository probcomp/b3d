{
 "cells": [
  {
   "cell_type": "code",
   "execution_count": 2,
   "metadata": {},
   "outputs": [],
   "source": [
    "%load_ext autoreload\n",
    "%autoreload 2"
   ]
  },
  {
   "cell_type": "code",
   "execution_count": 3,
   "metadata": {},
   "outputs": [],
   "source": [
    "import b3d\n",
    "import sys\n",
    "\n",
    "sys.path.append(str(b3d.get_root_path()))"
   ]
  },
  {
   "cell_type": "code",
   "execution_count": 4,
   "metadata": {},
   "outputs": [],
   "source": [
    "from tests.sama4d.video_to_tracks.from_initialization.keypoint_tracking_task import KeypointTrackingTask\n",
    "import rerun as rr"
   ]
  },
  {
   "cell_type": "code",
   "execution_count": 5,
   "metadata": {},
   "outputs": [],
   "source": [
    "from tests.sama4d.data_curation import get_loaders_for_all_curated_scenes\n",
    "\n",
    "all_scenes = get_loaders_for_all_curated_scenes()"
   ]
  },
  {
   "cell_type": "code",
   "execution_count": 16,
   "metadata": {},
   "outputs": [],
   "source": [
    "scene_spec = all_scenes[0]\n",
    "task = KeypointTrackingTask(\n",
    "    scene_spec[\"feature_track_data_loader\"],\n",
    "    scene_name=scene_spec[\"scene_name\"],\n",
    "    n_frames=4,\n",
    ")"
   ]
  },
  {
   "cell_type": "code",
   "execution_count": 10,
   "metadata": {},
   "outputs": [],
   "source": [
    "rr.init(f\"task--{task.name}-3\")\n",
    "rr.connect(\"127.0.0.1:8812\")\n",
    "task.visualize_task()"
   ]
  },
  {
   "cell_type": "code",
   "execution_count": 11,
   "metadata": {},
   "outputs": [],
   "source": [
    "task_spec = task.get_task_specification()"
   ]
  },
  {
   "cell_type": "code",
   "execution_count": 12,
   "metadata": {},
   "outputs": [],
   "source": [
    "from tests.sama4d.video_to_tracks.from_initialization.solvers.particle_system_patch_tracking_solver import (\n",
    "    AdamPatchTracker_UsingSingleframeParticleSystemTraces,\n",
    ")\n",
    "\n",
    "solver = AdamPatchTracker_UsingSingleframeParticleSystemTraces()\n",
    "solution = solver.solve(task_spec)"
   ]
  },
  {
   "cell_type": "code",
   "execution_count": 13,
   "metadata": {},
   "outputs": [],
   "source": [
    "metrics = task.score(solution)\n",
    "task.visualize_solution(solution, metrics)"
   ]
  },
  {
   "cell_type": "code",
   "execution_count": 14,
   "metadata": {},
   "outputs": [],
   "source": [
    "solver.visualize_solver_state(task_spec)"
   ]
  },
  {
   "cell_type": "code",
   "execution_count": 15,
   "metadata": {},
   "outputs": [],
   "source": [
    "import rerun.blueprint as rrb\n",
    "\n",
    "bp = rrb.Blueprint(\n",
    "    rrb.Horizontal(\n",
    "        rrb.Spatial3DView(),\n",
    "        rrb.Vertical(\n",
    "            rrb.Spatial2DView(\n",
    "                contents=[\"groundtruth_solution/keypoints_2d\", \"solution/keypoints_2D\"]\n",
    "            ),\n",
    "            rrb.Spatial2DView(),\n",
    "        ),\n",
    "    )\n",
    ")\n",
    "rr.send_blueprint(bp)"
   ]
  },
  {
   "cell_type": "code",
   "execution_count": null,
   "metadata": {},
   "outputs": [],
   "source": []
  }
 ],
 "metadata": {
  "kernelspec": {
   "display_name": "b3d",
   "language": "python",
   "name": "python3"
  },
  "language_info": {
   "codemirror_mode": {
    "name": "ipython",
    "version": 3
   },
   "file_extension": ".py",
   "mimetype": "text/x-python",
   "name": "python",
   "nbconvert_exporter": "python",
   "pygments_lexer": "ipython3",
   "version": "3.12.4"
  }
 },
 "nbformat": 4,
 "nbformat_minor": 2
}
