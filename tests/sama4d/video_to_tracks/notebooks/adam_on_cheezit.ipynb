{
 "cells": [
  {
   "cell_type": "code",
   "execution_count": 1,
   "metadata": {},
   "outputs": [],
   "source": [
    "%load_ext autoreload\n",
    "%autoreload 2"
   ]
  },
  {
   "cell_type": "code",
   "execution_count": 2,
   "metadata": {},
   "outputs": [],
   "source": [
    "import b3d\n",
    "import sys\n",
    "\n",
    "sys.path.append(str(b3d.get_root_path()))\n",
    "\n",
    "from tests.sama4d.video_to_tracks.keypoint_tracking_task import KeypointTrackingTask\n",
    "from tests.sama4d.data_curation import get_cheezitbox_scene_loader\n",
    "import rerun as rr"
   ]
  },
  {
   "cell_type": "code",
   "execution_count": 3,
   "metadata": {},
   "outputs": [],
   "source": [
    "scene_spec = get_cheezitbox_scene_loader()\n",
    "task = KeypointTrackingTask(\n",
    "    scene_spec[\"feature_track_data_loader\"],\n",
    "    scene_name=scene_spec[\"scene_name\"],\n",
    "    n_frames=2,\n",
    ")"
   ]
  },
  {
   "cell_type": "code",
   "execution_count": 4,
   "metadata": {},
   "outputs": [],
   "source": [
    "rr.init(f'task--{task.name}-003')\n",
    "rr.connect(\"127.0.0.1:8812\")\n",
    "task.visualize_task()"
   ]
  },
  {
   "cell_type": "code",
   "execution_count": 5,
   "metadata": {},
   "outputs": [],
   "source": [
    "task_spec = task.get_task_specification()"
   ]
  },
  {
   "cell_type": "code",
   "execution_count": 11,
   "metadata": {},
   "outputs": [],
   "source": [
    "from tests.sama4d.video_to_tracks.solvers.particle_system_patch_tracking_solver import (\n",
    "    AdamPatchTracker_UsingSingleframeParticleSystemTraces,\n",
    ")\n",
    "\n",
    "solver = AdamPatchTracker_UsingSingleframeParticleSystemTraces()\n",
    "solution = solver.solve(task_spec)"
   ]
  },
  {
   "cell_type": "code",
   "execution_count": 12,
   "metadata": {},
   "outputs": [
    {
     "data": {
      "text/plain": [
       "{'mean_distance_error': Array(1.5791383, dtype=float32),\n",
       " 'n_errors_above_threshold_per_frame': Array([2, 4], dtype=int32)}"
      ]
     },
     "execution_count": 12,
     "metadata": {},
     "output_type": "execute_result"
    }
   ],
   "source": [
    "metrics = task.score(solution)\n",
    "metrics"
   ]
  },
  {
   "cell_type": "code",
   "execution_count": 13,
   "metadata": {},
   "outputs": [],
   "source": [
    "task.visualize_solution(solution, metrics)"
   ]
  },
  {
   "cell_type": "code",
   "execution_count": 14,
   "metadata": {},
   "outputs": [],
   "source": [
    "import rerun.blueprint as rrb\n",
    "\n",
    "bp = rrb.Blueprint(\n",
    "    rrb.Horizontal(\n",
    "        rrb.Spatial3DView(),\n",
    "        rrb.Vertical(\n",
    "            rrb.Spatial2DView(\n",
    "                contents=[\"groundtruth_solution/keypoints_2d\", \"solution/keypoints_2D\"]\n",
    "            ),\n",
    "            rrb.Spatial2DView(),\n",
    "        ),\n",
    "    )\n",
    ")\n",
    "rr.send_blueprint(bp)"
   ]
  },
  {
   "cell_type": "code",
   "execution_count": 15,
   "metadata": {},
   "outputs": [],
   "source": [
    "solver.visualize_solver_state(task_spec)"
   ]
  },
  {
   "cell_type": "code",
   "execution_count": null,
   "metadata": {},
   "outputs": [],
   "source": []
  },
  {
   "cell_type": "code",
   "execution_count": null,
   "metadata": {},
   "outputs": [],
   "source": [
    "from tests.sama4d.video_to_tracks.solvers.dense_only_patch_tracking_solver import (\n",
    "    AdamPatchTracker_UsingDenseOnlyTraces,\n",
    ")\n",
    "\n",
    "solver_og = AdamPatchTracker_UsingDenseOnlyTraces()\n",
    "solution_og = solver_og.solve(task_spec)"
   ]
  },
  {
   "cell_type": "code",
   "execution_count": null,
   "metadata": {},
   "outputs": [
    {
     "data": {
      "text/plain": [
       "{'mean_distance_error': Array(1.9814739, dtype=float32),\n",
       " 'n_errors_above_threshold_per_frame': Array([0, 4, 4, 7, 5, 7, 8, 8, 9, 9], dtype=int32)}"
      ]
     },
     "execution_count": 12,
     "metadata": {},
     "output_type": "execute_result"
    }
   ],
   "source": [
    "metrics_og = task.score(solution_og)\n",
    "metrics_og"
   ]
  },
  {
   "cell_type": "code",
   "execution_count": null,
   "metadata": {},
   "outputs": [
    {
     "data": {
      "text/plain": [
       "{'mean_distance_error': Array(2.096604, dtype=float32),\n",
       " 'n_errors_above_threshold_per_frame': Array([ 1,  3,  3,  6,  8,  6, 11, 13, 14, 15], dtype=int32)}"
      ]
     },
     "execution_count": 13,
     "metadata": {},
     "output_type": "execute_result"
    }
   ],
   "source": [
    "# from newer version\n",
    "metrics"
   ]
  },
  {
   "cell_type": "code",
   "execution_count": null,
   "metadata": {},
   "outputs": [],
   "source": []
  }
 ],
 "metadata": {
  "kernelspec": {
   "display_name": "b3d",
   "language": "python",
   "name": "python3"
  },
  "language_info": {
   "codemirror_mode": {
    "name": "ipython",
    "version": 3
   },
   "file_extension": ".py",
   "mimetype": "text/x-python",
   "name": "python",
   "nbconvert_exporter": "python",
   "pygments_lexer": "ipython3",
   "version": "3.12.4"
  }
 },
 "nbformat": 4,
 "nbformat_minor": 2
}
