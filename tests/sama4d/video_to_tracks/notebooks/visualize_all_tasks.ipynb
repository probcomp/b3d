{
 "cells": [
  {
   "cell_type": "code",
   "execution_count": 1,
   "metadata": {},
   "outputs": [],
   "source": [
    "%load_ext autoreload\n",
    "%autoreload 2"
   ]
  },
  {
   "cell_type": "code",
   "execution_count": 2,
   "metadata": {},
   "outputs": [],
   "source": [
    "import b3d\n",
    "import sys\n",
    "sys.path.append(b3d.get_root_path())"
   ]
  },
  {
   "cell_type": "code",
   "execution_count": 3,
   "metadata": {},
   "outputs": [],
   "source": [
    "from tests.sama4d.video_to_tracks.keypoint_tracking_task import KeypointTrackingTask\n",
    "from tests.sama4d.data_curation import get_loaders_for_all_curated_scenes\n",
    "import rerun as rr"
   ]
  },
  {
   "cell_type": "code",
   "execution_count": 7,
   "metadata": {},
   "outputs": [
    {
     "name": "stdout",
     "output_type": "stream",
     "text": [
      "Processing scene plantRoomLookingThrough_30fps_lit_bg_800p.input.npz...\n"
     ]
    }
   ],
   "source": [
    "for spec in get_loaders_for_all_curated_scenes()[:1]:\n",
    "    print(f'Processing scene {spec[\"scene_name\"]}...')\n",
    "    scene = spec[\"feature_track_data_loader\"]()\n",
    "    task = KeypointTrackingTask(scene, n_frames=5)\n",
    "    rr.init(f'task--{spec[\"scene_name\"]}')\n",
    "    rr.connect(\"127.0.0.1:8812\")\n",
    "    task.visualize_task()"
   ]
  },
  {
   "cell_type": "code",
   "execution_count": null,
   "metadata": {},
   "outputs": [],
   "source": []
  }
 ],
 "metadata": {
  "kernelspec": {
   "display_name": "b3d",
   "language": "python",
   "name": "python3"
  },
  "language_info": {
   "codemirror_mode": {
    "name": "ipython",
    "version": 3
   },
   "file_extension": ".py",
   "mimetype": "text/x-python",
   "name": "python",
   "nbconvert_exporter": "python",
   "pygments_lexer": "ipython3",
   "version": "3.10.14"
  }
 },
 "nbformat": 4,
 "nbformat_minor": 2
}
