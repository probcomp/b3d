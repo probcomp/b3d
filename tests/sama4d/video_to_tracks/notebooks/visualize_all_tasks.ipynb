{
 "cells": [
  {
   "cell_type": "code",
   "execution_count": 1,
   "metadata": {},
   "outputs": [],
   "source": [
    "%load_ext autoreload\n",
    "%autoreload 2"
   ]
  },
  {
   "cell_type": "code",
   "execution_count": 2,
   "metadata": {},
   "outputs": [],
   "source": [
    "import b3d\n",
    "import sys\n",
    "sys.path.append(b3d.get_root_path())"
   ]
  },
  {
   "cell_type": "code",
   "execution_count": 1,
   "metadata": {},
   "outputs": [],
   "source": [
    "from tests.sama4d.video_to_tracks.registration import all_tasks\n",
    "import rerun as rr"
   ]
  },
  {
   "cell_type": "code",
   "execution_count": 3,
   "metadata": {},
   "outputs": [
    {
     "name": "stdout",
     "output_type": "stream",
     "text": [
      "Processing task KeypointTrackingTask[plantRoomLookingThrough_30fps_lit_bg_800p.input.npz]()...\n",
      "Processing task KeypointTrackingTask[slidingBooks_60fps_lit_bg_800p.input.npz]()...\n",
      "Processing task KeypointTrackingTask[slidingPiledBooks_60fps_lit_bg_800p.input.npz]()...\n",
      "Processing task KeypointTrackingTask[rotating_cheezit_box]()...\n"
     ]
    }
   ],
   "source": [
    "for task in all_tasks:\n",
    "    print(f'Processing task {task}...')\n",
    "    rr.init(task.name)\n",
    "    rr.connect(\"127.0.0.1:8812\")\n",
    "    task.visualize_task()"
   ]
  },
  {
   "cell_type": "code",
   "execution_count": null,
   "metadata": {},
   "outputs": [],
   "source": []
  }
 ],
 "metadata": {
  "kernelspec": {
   "display_name": "b3d",
   "language": "python",
   "name": "python3"
  },
  "language_info": {
   "codemirror_mode": {
    "name": "ipython",
    "version": 3
   },
   "file_extension": ".py",
   "mimetype": "text/x-python",
   "name": "python",
   "nbconvert_exporter": "python",
   "pygments_lexer": "ipython3",
   "version": "3.12.4"
  }
 },
 "nbformat": 4,
 "nbformat_minor": 2
}
