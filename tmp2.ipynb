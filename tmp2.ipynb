{
 "cells": [
  {
   "cell_type": "code",
   "execution_count": 1,
   "metadata": {},
   "outputs": [],
   "source": [
    "%load_ext autoreload\n",
    "%autoreload 2"
   ]
  },
  {
   "cell_type": "code",
   "execution_count": 2,
   "metadata": {},
   "outputs": [],
   "source": [
    "import rerun as rr\n",
    "import genjax\n",
    "import os\n",
    "import numpy as np\n",
    "import jax.numpy as jnp\n",
    "import jax\n",
    "from b3d import Pose\n",
    "import b3d\n",
    "from tqdm   import tqdm\n",
    "\n",
    "PORT = 8812\n",
    "rr.init(\"online_learning\")\n",
    "rr.connect(addr=f'127.0.0.1:{PORT}')\n"
   ]
  },
  {
   "cell_type": "code",
   "execution_count": 3,
   "metadata": {},
   "outputs": [],
   "source": [
    "\n",
    "path = os.path.join(b3d.get_assets_path(),\n",
    "#  \"shared_data_bucket/input_data/orange_mug_pan_around_and_pickup.r3d.video_input.npz\")\n",
    "# \"shared_data_bucket/input_data/shout_on_desk.r3d.video_input.npz\")\n",
    "\"shared_data_bucket/input_data/desk_ramen2_spray1.r3d.video_input.npz\")\n",
    "video_input = b3d.VideoInput.load(path)"
   ]
  },
  {
   "cell_type": "code",
   "execution_count": 5,
   "metadata": {},
   "outputs": [],
   "source": [
    "image_width, image_height, fx,fy, cx,cy,near,far = np.array(video_input.camera_intrinsics_depth)\n",
    "image_width, image_height = int(image_width), int(image_height)\n",
    "fx,fy, cx,cy,near,far = float(fx),float(fy), float(cx),float(cy),float(near),float(far)\n",
    "\n",
    "rgbs = video_input.rgb[::3] / 255.0\n",
    "xyzs = video_input.xyz[::3]\n",
    "# Resize rgbs to be same size as depth.\n",
    "rgbs_resized = jnp.clip(jax.vmap(jax.image.resize, in_axes=(0, None, None))(\n",
    "    rgbs, (video_input.xyz.shape[1], video_input.xyz.shape[2], 3), \"linear\"\n",
    "), 0.0, 1.0)\n",
    "\n",
    "point_cloud_og = xyzs[0].reshape(-1,3)\n",
    "colors_og = rgbs_resized[0].reshape(-1,3)"
   ]
  },
  {
   "cell_type": "code",
   "execution_count": 19,
   "metadata": {},
   "outputs": [
    {
     "data": {
      "text/plain": [
       "(427, 256, 192, 3)"
      ]
     },
     "execution_count": 19,
     "metadata": {},
     "output_type": "execute_result"
    }
   ],
   "source": [
    "rgbs_resized.shape"
   ]
  },
  {
   "cell_type": "code",
   "execution_count": 20,
   "metadata": {},
   "outputs": [
    {
     "data": {
      "text/plain": [
       "(49152, 3)"
      ]
     },
     "execution_count": 20,
     "metadata": {},
     "output_type": "execute_result"
    }
   ],
   "source": [
    "colors_og.shape"
   ]
  },
  {
   "cell_type": "code",
   "execution_count": 21,
   "metadata": {},
   "outputs": [
    {
     "data": {
      "text/plain": [
       "(49152, 3)"
      ]
     },
     "execution_count": 21,
     "metadata": {},
     "output_type": "execute_result"
    }
   ],
   "source": [
    "point_cloud_og.shape"
   ]
  },
  {
   "cell_type": "code",
   "execution_count": 22,
   "metadata": {},
   "outputs": [
    {
     "data": {
      "text/plain": [
       "192.0"
      ]
     },
     "execution_count": 22,
     "metadata": {},
     "output_type": "execute_result"
    }
   ],
   "source": [
    "49152 / 256"
   ]
  },
  {
   "cell_type": "code",
   "execution_count": 6,
   "metadata": {},
   "outputs": [],
   "source": [
    "object_library = b3d.MeshLibrary.make_empty_library()"
   ]
  },
  {
   "cell_type": "code",
   "execution_count": 16,
   "metadata": {},
   "outputs": [
    {
     "data": {
      "text/plain": [
       "(2457, 3)"
      ]
     },
     "execution_count": 16,
     "metadata": {},
     "output_type": "execute_result"
    }
   ],
   "source": [
    "point_cloud.shape"
   ]
  },
  {
   "cell_type": "code",
   "execution_count": 17,
   "metadata": {},
   "outputs": [
    {
     "data": {
      "text/plain": [
       "(2457, 3)"
      ]
     },
     "execution_count": 17,
     "metadata": {},
     "output_type": "execute_result"
    }
   ],
   "source": [
    "colors.shape"
   ]
  },
  {
   "cell_type": "code",
   "execution_count": 18,
   "metadata": {},
   "outputs": [
    {
     "data": {
      "text/plain": [
       "(192, 256)"
      ]
     },
     "execution_count": 18,
     "metadata": {},
     "output_type": "execute_result"
    }
   ],
   "source": [
    "image_width, image_height"
   ]
  },
  {
   "cell_type": "code",
   "execution_count": 13,
   "metadata": {},
   "outputs": [],
   "source": [
    "# sub = jax.random.choice(jax.random.PRNGKey(0), jnp.arange(len(point_cloud)), (len(point_cloud)//6,), replace=False)\n",
    "DIV = 20\n",
    "sub = jnp.linspace(0, point_cloud_og.shape[0], num=point_cloud_og.shape[0]//DIV, dtype=int)\n",
    "point_cloud = point_cloud_og[sub]\n",
    "colors = colors_og[sub]\n",
    "vertices, faces, vertex_colors, face_colors = b3d.make_mesh_from_point_cloud_and_resolution_2(\n",
    "    point_cloud, colors,\n",
    "    point_cloud[:,2] / fx * 2.0 * jnp.sqrt(DIV) * 1.25,\n",
    "    # jnp.concatenate([\n",
    "    #     jnp.ones(point_cloud.shape[0] - 1000, dtype=int),\n",
    "    #     jnp.zeros(1000, dtype=int)\n",
    "    # ])\n",
    "    jnp.ones(point_cloud.shape[0], dtype=int)\n",
    ")\n",
    "# object_pose = Pose.from_translation(vertices.mean(0))\n",
    "# vertices = object_pose.inverse().apply(vertices)\n",
    "object_library.add_object(vertices, faces, vertex_colors)"
   ]
  },
  {
   "cell_type": "code",
   "execution_count": 14,
   "metadata": {},
   "outputs": [
    {
     "data": {
      "text/plain": [
       "2457"
      ]
     },
     "execution_count": 14,
     "metadata": {},
     "output_type": "execute_result"
    }
   ],
   "source": [
    "point_cloud.shape[0]"
   ]
  },
  {
   "cell_type": "code",
   "execution_count": 15,
   "metadata": {},
   "outputs": [],
   "source": [
    "rr.log(\n",
    "    \"/3d/mesh\",\n",
    "    rr.Mesh3D(\n",
    "        vertex_positions=vertices,\n",
    "        indices=faces,\n",
    "        vertex_colors=vertex_colors\n",
    "    ),\n",
    "    timeless=True\n",
    ")"
   ]
  },
  {
   "cell_type": "code",
   "execution_count": 16,
   "metadata": {},
   "outputs": [],
   "source": [
    "renderer = b3d.Renderer(image_width, image_height, fx, fy, cx, cy, near, far)\n"
   ]
  },
  {
   "cell_type": "code",
   "execution_count": 17,
   "metadata": {},
   "outputs": [
    {
     "ename": "RuntimeError",
     "evalue": "Cuda error: 2[cudaGraphicsGLRegisterImage(&s.cudaColorBuffer[i], s.glColorBuffer[i], GL_TEXTURE_3D, cudaGraphicsRegisterFlagsReadOnly);]\nException raised from rasterizeResizeBuffers at /home/georgematheos/b3d/b3d/nvdiffrast/common/rasterize_gl.cpp:461 (most recent call first):\nframe #0: c10::Error::Error(c10::SourceLocation, std::string) + 0x57 (0x7f7855b13d87 in /opt/conda/envs/b3d/lib/python3.10/site-packages/torch/lib/libc10.so)\nframe #1: c10::detail::torchCheckFail(char const*, char const*, unsigned int, std::string const&) + 0x64 (0x7f7855ac475f in /opt/conda/envs/b3d/lib/python3.10/site-packages/torch/lib/libc10.so)\nframe #2: rasterizeResizeBuffers(int, RasterizeGLState&, bool&, int, int, int, int, int) + 0x15c7 (0x7f78ebf6f62c in /home/georgematheos/.cache/torch_extensions/py310_cu121/nvdiffrast_plugin_differentiable_gl/nvdiffrast_plugin_differentiable_gl.so)\nframe #3: jax_rasterize_fwd_gl(CUstream_st*, void**, char const*, unsigned long) + 0x4d5 (0x7f78ebf8b775 in /home/georgematheos/.cache/torch_extensions/py310_cu121/nvdiffrast_plugin_differentiable_gl/nvdiffrast_plugin_differentiable_gl.so)\nframe #4: <unknown function> + 0x45fabbf (0x7f78bf76bbbf in /opt/conda/envs/b3d/lib/python3.10/site-packages/jaxlib/xla_extension.so)\nframe #5: <unknown function> + 0x45fb5b5 (0x7f78bf76c5b5 in /opt/conda/envs/b3d/lib/python3.10/site-packages/jaxlib/xla_extension.so)\nframe #6: <unknown function> + 0x554a4a3 (0x7f78c06bb4a3 in /opt/conda/envs/b3d/lib/python3.10/site-packages/jaxlib/xla_extension.so)\nframe #7: <unknown function> + 0x5547c49 (0x7f78c06b8c49 in /opt/conda/envs/b3d/lib/python3.10/site-packages/jaxlib/xla_extension.so)\nframe #8: <unknown function> + 0x5546304 (0x7f78c06b7304 in /opt/conda/envs/b3d/lib/python3.10/site-packages/jaxlib/xla_extension.so)\nframe #9: <unknown function> + 0x5545c4f (0x7f78c06b6c4f in /opt/conda/envs/b3d/lib/python3.10/site-packages/jaxlib/xla_extension.so)\nframe #10: <unknown function> + 0x75cef66 (0x7f78c273ff66 in /opt/conda/envs/b3d/lib/python3.10/site-packages/jaxlib/xla_extension.so)\nframe #11: <unknown function> + 0x11f7825 (0x7f78bc368825 in /opt/conda/envs/b3d/lib/python3.10/site-packages/jaxlib/xla_extension.so)\nframe #12: <unknown function> + 0x11f8178 (0x7f78bc369178 in /opt/conda/envs/b3d/lib/python3.10/site-packages/jaxlib/xla_extension.so)\nframe #13: <unknown function> + 0x11665b5 (0x7f78bc2d75b5 in /opt/conda/envs/b3d/lib/python3.10/site-packages/jaxlib/xla_extension.so)\nframe #14: <unknown function> + 0x1168d74 (0x7f78bc2d9d74 in /opt/conda/envs/b3d/lib/python3.10/site-packages/jaxlib/xla_extension.so)\nframe #15: <unknown function> + 0x116b2b0 (0x7f78bc2dc2b0 in /opt/conda/envs/b3d/lib/python3.10/site-packages/jaxlib/xla_extension.so)\nframe #16: <unknown function> + 0x10262f1 (0x7f78bc1972f1 in /opt/conda/envs/b3d/lib/python3.10/site-packages/jaxlib/xla_extension.so)\nframe #17: <unknown function> + 0xfe2f09 (0x7f78bc153f09 in /opt/conda/envs/b3d/lib/python3.10/site-packages/jaxlib/xla_extension.so)\nframe #18: <unknown function> + 0xfe432c (0x7f78bc15532c in /opt/conda/envs/b3d/lib/python3.10/site-packages/jaxlib/xla_extension.so)\nframe #19: <unknown function> + 0x685ca5 (0x7f78bb7f6ca5 in /opt/conda/envs/b3d/lib/python3.10/site-packages/jaxlib/xla_extension.so)\nframe #20: <unknown function> + 0x685add (0x7f78bb7f6add in /opt/conda/envs/b3d/lib/python3.10/site-packages/jaxlib/xla_extension.so)\nframe #21: <unknown function> + 0x10c7cec (0x7f78bc238cec in /opt/conda/envs/b3d/lib/python3.10/site-packages/jaxlib/xla_extension.so)\nframe #22: _PyEval_EvalFrameDefault + 0x72c (0x5653f6eabc5c in /opt/conda/envs/b3d/bin/python)\nframe #23: _PyFunction_Vectorcall + 0x6c (0x5653f6ebba2c in /opt/conda/envs/b3d/bin/python)\nframe #24: _PyEval_EvalFrameDefault + 0x2d83 (0x5653f6eae2b3 in /opt/conda/envs/b3d/bin/python)\nframe #25: _PyObject_FastCallDictTstate + 0xd0 (0x5653f6eb3f50 in /opt/conda/envs/b3d/bin/python)\nframe #26: _PyObject_Call_Prepend + 0xe9 (0x5653f6ec5cb9 in /opt/conda/envs/b3d/bin/python)\nframe #27: <unknown function> + 0x211239 (0x5653f6f88239 in /opt/conda/envs/b3d/bin/python)\nframe #28: PyObject_Call + 0x207 (0x5653f6ec8067 in /opt/conda/envs/b3d/bin/python)\nframe #29: _PyEval_EvalFrameDefault + 0x2d83 (0x5653f6eae2b3 in /opt/conda/envs/b3d/bin/python)\nframe #30: _PyFunction_Vectorcall + 0x6c (0x5653f6ebba2c in /opt/conda/envs/b3d/bin/python)\nframe #31: PyObject_Call + 0xbc (0x5653f6ec7f1c in /opt/conda/envs/b3d/bin/python)\nframe #32: _PyEval_EvalFrameDefault + 0x2d83 (0x5653f6eae2b3 in /opt/conda/envs/b3d/bin/python)\nframe #33: _PyFunction_Vectorcall + 0x6c (0x5653f6ebba2c in /opt/conda/envs/b3d/bin/python)\nframe #34: <unknown function> + 0x6e160a (0x7f78bb85260a in /opt/conda/envs/b3d/lib/python3.10/site-packages/jaxlib/xla_extension.so)\nframe #35: <unknown function> + 0x6dff03 (0x7f78bb850f03 in /opt/conda/envs/b3d/lib/python3.10/site-packages/jaxlib/xla_extension.so)\nframe #36: _PyEval_EvalFrameDefault + 0x2d83 (0x5653f6eae2b3 in /opt/conda/envs/b3d/bin/python)\nframe #37: _PyFunction_Vectorcall + 0x6c (0x5653f6ebba2c in /opt/conda/envs/b3d/bin/python)\nframe #38: PyObject_Call + 0xbc (0x5653f6ec7f1c in /opt/conda/envs/b3d/bin/python)\nframe #39: _PyEval_EvalFrameDefault + 0x2d83 (0x5653f6eae2b3 in /opt/conda/envs/b3d/bin/python)\nframe #40: _PyFunction_Vectorcall + 0x6c (0x5653f6ebba2c in /opt/conda/envs/b3d/bin/python)\nframe #41: _PyEval_EvalFrameDefault + 0x72c (0x5653f6eabc5c in /opt/conda/envs/b3d/bin/python)\nframe #42: _PyFunction_Vectorcall + 0x6c (0x5653f6ebba2c in /opt/conda/envs/b3d/bin/python)\nframe #43: _PyEval_EvalFrameDefault + 0x72c (0x5653f6eabc5c in /opt/conda/envs/b3d/bin/python)\nframe #44: <unknown function> + 0x150582 (0x5653f6ec7582 in /opt/conda/envs/b3d/bin/python)\nframe #45: PyObject_Call + 0xbc (0x5653f6ec7f1c in /opt/conda/envs/b3d/bin/python)\nframe #46: _PyEval_EvalFrameDefault + 0x2d83 (0x5653f6eae2b3 in /opt/conda/envs/b3d/bin/python)\nframe #47: _PyFunction_Vectorcall + 0x6c (0x5653f6ebba2c in /opt/conda/envs/b3d/bin/python)\nframe #48: _PyEval_EvalFrameDefault + 0x2d83 (0x5653f6eae2b3 in /opt/conda/envs/b3d/bin/python)\nframe #49: _PyFunction_Vectorcall + 0x6c (0x5653f6ebba2c in /opt/conda/envs/b3d/bin/python)\nframe #50: _PyEval_EvalFrameDefault + 0x2d83 (0x5653f6eae2b3 in /opt/conda/envs/b3d/bin/python)\nframe #51: _PyFunction_Vectorcall + 0x6c (0x5653f6ebba2c in /opt/conda/envs/b3d/bin/python)\nframe #52: <unknown function> + 0x6e160a (0x7f78bb85260a in /opt/conda/envs/b3d/lib/python3.10/site-packages/jaxlib/xla_extension.so)\nframe #53: <unknown function> + 0x6dff03 (0x7f78bb850f03 in /opt/conda/envs/b3d/lib/python3.10/site-packages/jaxlib/xla_extension.so)\nframe #54: _PyEval_EvalFrameDefault + 0x2d83 (0x5653f6eae2b3 in /opt/conda/envs/b3d/bin/python)\nframe #55: _PyFunction_Vectorcall + 0x6c (0x5653f6ebba2c in /opt/conda/envs/b3d/bin/python)\nframe #56: <unknown function> + 0x1d6242 (0x5653f6f4d242 in /opt/conda/envs/b3d/bin/python)\nframe #57: <unknown function> + 0xa226b (0x5653f6e1926b in /opt/conda/envs/b3d/bin/python)\nframe #58: _PyEval_EvalFrameDefault + 0x2d83 (0x5653f6eae2b3 in /opt/conda/envs/b3d/bin/python)\nframe #59: _PyFunction_Vectorcall + 0x6c (0x5653f6ebba2c in /opt/conda/envs/b3d/bin/python)\nframe #60: _PyEval_EvalFrameDefault + 0x72c (0x5653f6eabc5c in /opt/conda/envs/b3d/bin/python)\nframe #61: _PyFunction_Vectorcall + 0x6c (0x5653f6ebba2c in /opt/conda/envs/b3d/bin/python)\nframe #62: _PyEval_EvalFrameDefault + 0x72c (0x5653f6eabc5c in /opt/conda/envs/b3d/bin/python)\nframe #63: _PyFunction_Vectorcall + 0x6c (0x5653f6ebba2c in /opt/conda/envs/b3d/bin/python)\n",
     "output_type": "error",
     "traceback": [
      "\u001b[0;31m---------------------------------------------------------------------------\u001b[0m",
      "\u001b[0;31mRuntimeError\u001b[0m                              Traceback (most recent call last)",
      "Cell \u001b[0;32mIn[17], line 3\u001b[0m\n\u001b[1;32m      1\u001b[0m object_poses \u001b[38;5;241m=\u001b[39m Pose(jnp\u001b[38;5;241m.\u001b[39mzeros((\u001b[38;5;241m0\u001b[39m,\u001b[38;5;241m3\u001b[39m)), jnp\u001b[38;5;241m.\u001b[39mzeros((\u001b[38;5;241m0\u001b[39m,\u001b[38;5;241m4\u001b[39m)))\n\u001b[1;32m      2\u001b[0m object_indices \u001b[38;5;241m=\u001b[39m jnp\u001b[38;5;241m.\u001b[39mempty((\u001b[38;5;241m0\u001b[39m,), dtype\u001b[38;5;241m=\u001b[39m\u001b[38;5;28mint\u001b[39m)\n\u001b[0;32m----> 3\u001b[0m rendered_rgb, rendered_depth \u001b[38;5;241m=\u001b[39m \u001b[43mrenderer\u001b[49m\u001b[38;5;241;43m.\u001b[39;49m\u001b[43mrender_attribute\u001b[49m\u001b[43m(\u001b[49m\n\u001b[1;32m      4\u001b[0m \u001b[43m        \u001b[49m\u001b[43mobject_poses\u001b[49m\u001b[43m,\u001b[49m\n\u001b[1;32m      5\u001b[0m \u001b[43m        \u001b[49m\u001b[43mobject_library\u001b[49m\u001b[38;5;241;43m.\u001b[39;49m\u001b[43mvertices\u001b[49m\u001b[43m,\u001b[49m\n\u001b[1;32m      6\u001b[0m \u001b[43m        \u001b[49m\u001b[43mobject_library\u001b[49m\u001b[38;5;241;43m.\u001b[39;49m\u001b[43mfaces\u001b[49m\u001b[43m,\u001b[49m\n\u001b[1;32m      7\u001b[0m \u001b[43m        \u001b[49m\u001b[43mobject_library\u001b[49m\u001b[38;5;241;43m.\u001b[39;49m\u001b[43mranges\u001b[49m\u001b[43m[\u001b[49m\u001b[43mobject_indices\u001b[49m\u001b[43m]\u001b[49m\u001b[43m \u001b[49m\u001b[38;5;241;43m*\u001b[39;49m\u001b[43m \u001b[49m\u001b[43m(\u001b[49m\u001b[43mobject_indices\u001b[49m\u001b[43m \u001b[49m\u001b[38;5;241;43m>\u001b[39;49m\u001b[38;5;241;43m=\u001b[39;49m\u001b[43m \u001b[49m\u001b[38;5;241;43m0\u001b[39;49m\u001b[43m)\u001b[49m\u001b[38;5;241;43m.\u001b[39;49m\u001b[43mreshape\u001b[49m\u001b[43m(\u001b[49m\u001b[38;5;241;43m-\u001b[39;49m\u001b[38;5;241;43m1\u001b[39;49m\u001b[43m,\u001b[49m\u001b[38;5;241;43m1\u001b[39;49m\u001b[43m)\u001b[49m\u001b[43m,\u001b[49m\n\u001b[1;32m      8\u001b[0m \u001b[43m        \u001b[49m\u001b[43mobject_library\u001b[49m\u001b[38;5;241;43m.\u001b[39;49m\u001b[43mattributes\u001b[49m\n\u001b[1;32m      9\u001b[0m \u001b[43m    \u001b[49m\u001b[43m)\u001b[49m\n",
      "File \u001b[0;32m~/b3d/b3d/renderer.py:225\u001b[0m, in \u001b[0;36mRenderer.render_attribute\u001b[0;34m(self, pose, vertices, faces, ranges, attributes)\u001b[0m\n\u001b[1;32m    201\u001b[0m \u001b[38;5;28;01mdef\u001b[39;00m \u001b[38;5;21mrender_attribute\u001b[39m(\u001b[38;5;28mself\u001b[39m, pose, vertices, faces, ranges, attributes):\n\u001b[1;32m    202\u001b[0m \u001b[38;5;250m    \u001b[39m\u001b[38;5;124;03m\"\"\"\u001b[39;00m\n\u001b[1;32m    203\u001b[0m \u001b[38;5;124;03m    Render a single scenes to an image by rasterizing and then interpolating attributes.\u001b[39;00m\n\u001b[1;32m    204\u001b[0m \n\u001b[0;32m   (...)\u001b[0m\n\u001b[1;32m    223\u001b[0m \u001b[38;5;124;03m            Depth of the intersection point. Zero if the pixel ray doesn't collide a triangle.\u001b[39;00m\n\u001b[1;32m    224\u001b[0m \u001b[38;5;124;03m    \"\"\"\u001b[39;00m\n\u001b[0;32m--> 225\u001b[0m     image, zs \u001b[38;5;241m=\u001b[39m  \u001b[38;5;28;43mself\u001b[39;49m\u001b[38;5;241;43m.\u001b[39;49m\u001b[43mrender_attribute_many\u001b[49m\u001b[43m(\u001b[49m\u001b[43mpose\u001b[49m\u001b[43m[\u001b[49m\u001b[38;5;28;43;01mNone\u001b[39;49;00m\u001b[43m,\u001b[49m\u001b[38;5;241;43m.\u001b[39;49m\u001b[38;5;241;43m.\u001b[39;49m\u001b[38;5;241;43m.\u001b[39;49m\u001b[43m]\u001b[49m\u001b[43m,\u001b[49m\u001b[43m \u001b[49m\u001b[43mvertices\u001b[49m\u001b[43m,\u001b[49m\u001b[43m \u001b[49m\u001b[43mfaces\u001b[49m\u001b[43m,\u001b[49m\u001b[43m \u001b[49m\u001b[43mranges\u001b[49m\u001b[43m,\u001b[49m\u001b[43m \u001b[49m\u001b[43mattributes\u001b[49m\u001b[43m)\u001b[49m\n\u001b[1;32m    226\u001b[0m     \u001b[38;5;28;01mreturn\u001b[39;00m image[\u001b[38;5;241m0\u001b[39m], zs[\u001b[38;5;241m0\u001b[39m]\n",
      "File \u001b[0;32m~/b3d/b3d/renderer.py:190\u001b[0m, in \u001b[0;36mRenderer.render_attribute_many\u001b[0;34m(self, poses, vertices, faces, ranges, attributes)\u001b[0m\n\u001b[1;32m    166\u001b[0m \u001b[38;5;28;01mdef\u001b[39;00m \u001b[38;5;21mrender_attribute_many\u001b[39m(\u001b[38;5;28mself\u001b[39m, poses, vertices, faces, ranges, attributes):\n\u001b[1;32m    167\u001b[0m \u001b[38;5;250m    \u001b[39m\u001b[38;5;124;03m\"\"\"\u001b[39;00m\n\u001b[1;32m    168\u001b[0m \u001b[38;5;124;03m    Render many scenes to an image by rasterizing and then interpolating attributes.\u001b[39;00m\n\u001b[1;32m    169\u001b[0m \n\u001b[0;32m   (...)\u001b[0m\n\u001b[1;32m    188\u001b[0m \u001b[38;5;124;03m            Depth of the intersection point. Zero if the pixel ray doesn't collide a triangle.\u001b[39;00m\n\u001b[1;32m    189\u001b[0m \u001b[38;5;124;03m    \"\"\"\u001b[39;00m\n\u001b[0;32m--> 190\u001b[0m     uvs, object_ids, triangle_ids, zs \u001b[38;5;241m=\u001b[39m \u001b[38;5;28;43mself\u001b[39;49m\u001b[38;5;241;43m.\u001b[39;49m\u001b[43mrasterize_many\u001b[49m\u001b[43m(\u001b[49m\u001b[43mposes\u001b[49m\u001b[43m,\u001b[49m\u001b[43m \u001b[49m\u001b[43mvertices\u001b[49m\u001b[43m,\u001b[49m\u001b[43m \u001b[49m\u001b[43mfaces\u001b[49m\u001b[43m,\u001b[49m\u001b[43m \u001b[49m\u001b[43mranges\u001b[49m\u001b[43m)\u001b[49m\n\u001b[1;32m    191\u001b[0m     mask \u001b[38;5;241m=\u001b[39m object_ids \u001b[38;5;241m>\u001b[39m \u001b[38;5;241m0\u001b[39m\n\u001b[1;32m    193\u001b[0m     interpolated_values \u001b[38;5;241m=\u001b[39m \u001b[38;5;28mself\u001b[39m\u001b[38;5;241m.\u001b[39minterpolate_many(\n\u001b[1;32m    194\u001b[0m         attributes,\n\u001b[1;32m    195\u001b[0m         uvs, triangle_ids, faces\n\u001b[1;32m    196\u001b[0m     )\n",
      "File \u001b[0;32m~/b3d/b3d/renderer.py:126\u001b[0m, in \u001b[0;36mRenderer.rasterize_many\u001b[0;34m(self, poses, vertices, faces, ranges)\u001b[0m\n\u001b[1;32m     99\u001b[0m \u001b[38;5;250m\u001b[39m\u001b[38;5;124;03m\"\"\"\u001b[39;00m\n\u001b[1;32m    100\u001b[0m \u001b[38;5;124;03mRasterize many scenes in parallel. For scene number S and pixel at row i and column j,\u001b[39;00m\n\u001b[1;32m    101\u001b[0m \u001b[38;5;124;03muvs[S, i, j] contains the u and v barycentric coordinates of the intersection point with\u001b[39;00m\n\u001b[0;32m   (...)\u001b[0m\n\u001b[1;32m    123\u001b[0m \u001b[38;5;124;03m        Depth of the intersection point. Zero if the pixel ray doesn't collide a triangle.\u001b[39;00m\n\u001b[1;32m    124\u001b[0m \u001b[38;5;124;03m\"\"\"\u001b[39;00m\n\u001b[1;32m    125\u001b[0m vertices_h \u001b[38;5;241m=\u001b[39m jnp\u001b[38;5;241m.\u001b[39mconcatenate([vertices, jnp\u001b[38;5;241m.\u001b[39mones((vertices\u001b[38;5;241m.\u001b[39mshape[\u001b[38;5;241m0\u001b[39m], \u001b[38;5;241m1\u001b[39m))], axis\u001b[38;5;241m=\u001b[39m\u001b[38;5;241m-\u001b[39m\u001b[38;5;241m1\u001b[39m)\n\u001b[0;32m--> 126\u001b[0m rast_out, rast_out_aux \u001b[38;5;241m=\u001b[39m \u001b[38;5;28;43mself\u001b[39;49m\u001b[38;5;241;43m.\u001b[39;49m\u001b[43m_rasterize_partial\u001b[49m\u001b[43m(\u001b[49m\n\u001b[1;32m    127\u001b[0m \u001b[43m    \u001b[49m\u001b[43mposes\u001b[49m\u001b[38;5;241;43m.\u001b[39;49m\u001b[43mas_matrix\u001b[49m\u001b[43m(\u001b[49m\u001b[43m)\u001b[49m\u001b[43m,\u001b[49m\n\u001b[1;32m    128\u001b[0m \u001b[43m    \u001b[49m\u001b[43mvertices_h\u001b[49m\u001b[43m,\u001b[49m\n\u001b[1;32m    129\u001b[0m \u001b[43m    \u001b[49m\u001b[43mfaces\u001b[49m\u001b[43m,\u001b[49m\n\u001b[1;32m    130\u001b[0m \u001b[43m    \u001b[49m\u001b[43mranges\u001b[49m\u001b[43m,\u001b[49m\n\u001b[1;32m    131\u001b[0m \u001b[43m    \u001b[49m\u001b[38;5;28;43mself\u001b[39;49m\u001b[38;5;241;43m.\u001b[39;49m\u001b[43mprojection_matrix\u001b[49m\u001b[43m,\u001b[49m\n\u001b[1;32m    132\u001b[0m \u001b[43m    \u001b[49m\u001b[38;5;28;43mself\u001b[39;49m\u001b[38;5;241;43m.\u001b[39;49m\u001b[43mresolution\u001b[49m\n\u001b[1;32m    133\u001b[0m \u001b[43m\u001b[49m\u001b[43m)\u001b[49m\n\u001b[1;32m    134\u001b[0m uvs \u001b[38;5;241m=\u001b[39m rast_out[\u001b[38;5;241m.\u001b[39m\u001b[38;5;241m.\u001b[39m\u001b[38;5;241m.\u001b[39m,:\u001b[38;5;241m2\u001b[39m]\n\u001b[1;32m    135\u001b[0m zs \u001b[38;5;241m=\u001b[39m rast_out[\u001b[38;5;241m.\u001b[39m\u001b[38;5;241m.\u001b[39m\u001b[38;5;241m.\u001b[39m,\u001b[38;5;241m3\u001b[39m]\n",
      "    \u001b[0;31m[... skipping hidden 5 frame]\u001b[0m\n",
      "File \u001b[0;32m~/b3d/b3d/renderer.py:75\u001b[0m, in \u001b[0;36mRenderer._rasterize\u001b[0;34m(self, pose, pos, tri, ranges, projMatrix, resolution)\u001b[0m\n\u001b[1;32m     73\u001b[0m \u001b[38;5;129m@functools\u001b[39m\u001b[38;5;241m.\u001b[39mpartial(jax\u001b[38;5;241m.\u001b[39mcustom_vjp, nondiff_argnums\u001b[38;5;241m=\u001b[39m(\u001b[38;5;241m0\u001b[39m,))\n\u001b[1;32m     74\u001b[0m \u001b[38;5;28;01mdef\u001b[39;00m \u001b[38;5;21m_rasterize\u001b[39m(\u001b[38;5;28mself\u001b[39m, pose, pos, tri, ranges, projMatrix, resolution):\n\u001b[0;32m---> 75\u001b[0m     \u001b[38;5;28;01mreturn\u001b[39;00m \u001b[43m_rasterize_fwd_custom_call\u001b[49m\u001b[43m(\u001b[49m\u001b[38;5;28;43mself\u001b[39;49m\u001b[43m,\u001b[49m\u001b[43m \u001b[49m\u001b[43mpose\u001b[49m\u001b[43m,\u001b[49m\u001b[43m \u001b[49m\u001b[43mpos\u001b[49m\u001b[43m,\u001b[49m\u001b[43m \u001b[49m\u001b[43mtri\u001b[49m\u001b[43m,\u001b[49m\u001b[43m \u001b[49m\u001b[43mranges\u001b[49m\u001b[43m,\u001b[49m\u001b[43m \u001b[49m\u001b[43mprojMatrix\u001b[49m\u001b[43m,\u001b[49m\u001b[43m \u001b[49m\u001b[43mresolution\u001b[49m\u001b[43m)\u001b[49m\n",
      "File \u001b[0;32m~/b3d/b3d/renderer.py:251\u001b[0m, in \u001b[0;36m_rasterize_fwd_custom_call\u001b[0;34m(r, pose, pos, tri, ranges, projMatrix, resolution)\u001b[0m\n\u001b[1;32m    250\u001b[0m \u001b[38;5;28;01mdef\u001b[39;00m \u001b[38;5;21m_rasterize_fwd_custom_call\u001b[39m(r: \u001b[38;5;124m\"\u001b[39m\u001b[38;5;124mRenderer\u001b[39m\u001b[38;5;124m\"\u001b[39m, pose, pos, tri, ranges, projMatrix, resolution):\n\u001b[0;32m--> 251\u001b[0m     \u001b[38;5;28;01mreturn\u001b[39;00m \u001b[43m_build_rasterize_fwd_primitive\u001b[49m\u001b[43m(\u001b[49m\u001b[43mr\u001b[49m\u001b[43m)\u001b[49m\u001b[38;5;241;43m.\u001b[39;49m\u001b[43mbind\u001b[49m\u001b[43m(\u001b[49m\u001b[43mpose\u001b[49m\u001b[43m,\u001b[49m\u001b[43m \u001b[49m\u001b[43mpos\u001b[49m\u001b[43m,\u001b[49m\u001b[43m \u001b[49m\u001b[43mtri\u001b[49m\u001b[43m,\u001b[49m\u001b[43m \u001b[49m\u001b[43mranges\u001b[49m\u001b[43m,\u001b[49m\u001b[43m \u001b[49m\u001b[43mprojMatrix\u001b[49m\u001b[43m,\u001b[49m\u001b[43m \u001b[49m\u001b[43mresolution\u001b[49m\u001b[43m)\u001b[49m\n",
      "    \u001b[0;31m[... skipping hidden 14 frame]\u001b[0m\n",
      "File \u001b[0;32m/opt/conda/envs/b3d/lib/python3.10/site-packages/jax/_src/interpreters/pxla.py:1213\u001b[0m, in \u001b[0;36mExecuteReplicated.__call__\u001b[0;34m(self, *args)\u001b[0m\n\u001b[1;32m   1211\u001b[0m   \u001b[38;5;28mself\u001b[39m\u001b[38;5;241m.\u001b[39m_handle_token_bufs(result_token_bufs, sharded_runtime_token)\n\u001b[1;32m   1212\u001b[0m \u001b[38;5;28;01melse\u001b[39;00m:\n\u001b[0;32m-> 1213\u001b[0m   results \u001b[38;5;241m=\u001b[39m \u001b[38;5;28;43mself\u001b[39;49m\u001b[38;5;241;43m.\u001b[39;49m\u001b[43mxla_executable\u001b[49m\u001b[38;5;241;43m.\u001b[39;49m\u001b[43mexecute_sharded\u001b[49m\u001b[43m(\u001b[49m\u001b[43minput_bufs\u001b[49m\u001b[43m)\u001b[49m\n\u001b[1;32m   1214\u001b[0m \u001b[38;5;28;01mif\u001b[39;00m dispatch\u001b[38;5;241m.\u001b[39mneeds_check_special():\n\u001b[1;32m   1215\u001b[0m   out_arrays \u001b[38;5;241m=\u001b[39m results\u001b[38;5;241m.\u001b[39mdisassemble_into_single_device_arrays()\n",
      "\u001b[0;31mRuntimeError\u001b[0m: Cuda error: 2[cudaGraphicsGLRegisterImage(&s.cudaColorBuffer[i], s.glColorBuffer[i], GL_TEXTURE_3D, cudaGraphicsRegisterFlagsReadOnly);]\nException raised from rasterizeResizeBuffers at /home/georgematheos/b3d/b3d/nvdiffrast/common/rasterize_gl.cpp:461 (most recent call first):\nframe #0: c10::Error::Error(c10::SourceLocation, std::string) + 0x57 (0x7f7855b13d87 in /opt/conda/envs/b3d/lib/python3.10/site-packages/torch/lib/libc10.so)\nframe #1: c10::detail::torchCheckFail(char const*, char const*, unsigned int, std::string const&) + 0x64 (0x7f7855ac475f in /opt/conda/envs/b3d/lib/python3.10/site-packages/torch/lib/libc10.so)\nframe #2: rasterizeResizeBuffers(int, RasterizeGLState&, bool&, int, int, int, int, int) + 0x15c7 (0x7f78ebf6f62c in /home/georgematheos/.cache/torch_extensions/py310_cu121/nvdiffrast_plugin_differentiable_gl/nvdiffrast_plugin_differentiable_gl.so)\nframe #3: jax_rasterize_fwd_gl(CUstream_st*, void**, char const*, unsigned long) + 0x4d5 (0x7f78ebf8b775 in /home/georgematheos/.cache/torch_extensions/py310_cu121/nvdiffrast_plugin_differentiable_gl/nvdiffrast_plugin_differentiable_gl.so)\nframe #4: <unknown function> + 0x45fabbf (0x7f78bf76bbbf in /opt/conda/envs/b3d/lib/python3.10/site-packages/jaxlib/xla_extension.so)\nframe #5: <unknown function> + 0x45fb5b5 (0x7f78bf76c5b5 in /opt/conda/envs/b3d/lib/python3.10/site-packages/jaxlib/xla_extension.so)\nframe #6: <unknown function> + 0x554a4a3 (0x7f78c06bb4a3 in /opt/conda/envs/b3d/lib/python3.10/site-packages/jaxlib/xla_extension.so)\nframe #7: <unknown function> + 0x5547c49 (0x7f78c06b8c49 in /opt/conda/envs/b3d/lib/python3.10/site-packages/jaxlib/xla_extension.so)\nframe #8: <unknown function> + 0x5546304 (0x7f78c06b7304 in /opt/conda/envs/b3d/lib/python3.10/site-packages/jaxlib/xla_extension.so)\nframe #9: <unknown function> + 0x5545c4f (0x7f78c06b6c4f in /opt/conda/envs/b3d/lib/python3.10/site-packages/jaxlib/xla_extension.so)\nframe #10: <unknown function> + 0x75cef66 (0x7f78c273ff66 in /opt/conda/envs/b3d/lib/python3.10/site-packages/jaxlib/xla_extension.so)\nframe #11: <unknown function> + 0x11f7825 (0x7f78bc368825 in /opt/conda/envs/b3d/lib/python3.10/site-packages/jaxlib/xla_extension.so)\nframe #12: <unknown function> + 0x11f8178 (0x7f78bc369178 in /opt/conda/envs/b3d/lib/python3.10/site-packages/jaxlib/xla_extension.so)\nframe #13: <unknown function> + 0x11665b5 (0x7f78bc2d75b5 in /opt/conda/envs/b3d/lib/python3.10/site-packages/jaxlib/xla_extension.so)\nframe #14: <unknown function> + 0x1168d74 (0x7f78bc2d9d74 in /opt/conda/envs/b3d/lib/python3.10/site-packages/jaxlib/xla_extension.so)\nframe #15: <unknown function> + 0x116b2b0 (0x7f78bc2dc2b0 in /opt/conda/envs/b3d/lib/python3.10/site-packages/jaxlib/xla_extension.so)\nframe #16: <unknown function> + 0x10262f1 (0x7f78bc1972f1 in /opt/conda/envs/b3d/lib/python3.10/site-packages/jaxlib/xla_extension.so)\nframe #17: <unknown function> + 0xfe2f09 (0x7f78bc153f09 in /opt/conda/envs/b3d/lib/python3.10/site-packages/jaxlib/xla_extension.so)\nframe #18: <unknown function> + 0xfe432c (0x7f78bc15532c in /opt/conda/envs/b3d/lib/python3.10/site-packages/jaxlib/xla_extension.so)\nframe #19: <unknown function> + 0x685ca5 (0x7f78bb7f6ca5 in /opt/conda/envs/b3d/lib/python3.10/site-packages/jaxlib/xla_extension.so)\nframe #20: <unknown function> + 0x685add (0x7f78bb7f6add in /opt/conda/envs/b3d/lib/python3.10/site-packages/jaxlib/xla_extension.so)\nframe #21: <unknown function> + 0x10c7cec (0x7f78bc238cec in /opt/conda/envs/b3d/lib/python3.10/site-packages/jaxlib/xla_extension.so)\nframe #22: _PyEval_EvalFrameDefault + 0x72c (0x5653f6eabc5c in /opt/conda/envs/b3d/bin/python)\nframe #23: _PyFunction_Vectorcall + 0x6c (0x5653f6ebba2c in /opt/conda/envs/b3d/bin/python)\nframe #24: _PyEval_EvalFrameDefault + 0x2d83 (0x5653f6eae2b3 in /opt/conda/envs/b3d/bin/python)\nframe #25: _PyObject_FastCallDictTstate + 0xd0 (0x5653f6eb3f50 in /opt/conda/envs/b3d/bin/python)\nframe #26: _PyObject_Call_Prepend + 0xe9 (0x5653f6ec5cb9 in /opt/conda/envs/b3d/bin/python)\nframe #27: <unknown function> + 0x211239 (0x5653f6f88239 in /opt/conda/envs/b3d/bin/python)\nframe #28: PyObject_Call + 0x207 (0x5653f6ec8067 in /opt/conda/envs/b3d/bin/python)\nframe #29: _PyEval_EvalFrameDefault + 0x2d83 (0x5653f6eae2b3 in /opt/conda/envs/b3d/bin/python)\nframe #30: _PyFunction_Vectorcall + 0x6c (0x5653f6ebba2c in /opt/conda/envs/b3d/bin/python)\nframe #31: PyObject_Call + 0xbc (0x5653f6ec7f1c in /opt/conda/envs/b3d/bin/python)\nframe #32: _PyEval_EvalFrameDefault + 0x2d83 (0x5653f6eae2b3 in /opt/conda/envs/b3d/bin/python)\nframe #33: _PyFunction_Vectorcall + 0x6c (0x5653f6ebba2c in /opt/conda/envs/b3d/bin/python)\nframe #34: <unknown function> + 0x6e160a (0x7f78bb85260a in /opt/conda/envs/b3d/lib/python3.10/site-packages/jaxlib/xla_extension.so)\nframe #35: <unknown function> + 0x6dff03 (0x7f78bb850f03 in /opt/conda/envs/b3d/lib/python3.10/site-packages/jaxlib/xla_extension.so)\nframe #36: _PyEval_EvalFrameDefault + 0x2d83 (0x5653f6eae2b3 in /opt/conda/envs/b3d/bin/python)\nframe #37: _PyFunction_Vectorcall + 0x6c (0x5653f6ebba2c in /opt/conda/envs/b3d/bin/python)\nframe #38: PyObject_Call + 0xbc (0x5653f6ec7f1c in /opt/conda/envs/b3d/bin/python)\nframe #39: _PyEval_EvalFrameDefault + 0x2d83 (0x5653f6eae2b3 in /opt/conda/envs/b3d/bin/python)\nframe #40: _PyFunction_Vectorcall + 0x6c (0x5653f6ebba2c in /opt/conda/envs/b3d/bin/python)\nframe #41: _PyEval_EvalFrameDefault + 0x72c (0x5653f6eabc5c in /opt/conda/envs/b3d/bin/python)\nframe #42: _PyFunction_Vectorcall + 0x6c (0x5653f6ebba2c in /opt/conda/envs/b3d/bin/python)\nframe #43: _PyEval_EvalFrameDefault + 0x72c (0x5653f6eabc5c in /opt/conda/envs/b3d/bin/python)\nframe #44: <unknown function> + 0x150582 (0x5653f6ec7582 in /opt/conda/envs/b3d/bin/python)\nframe #45: PyObject_Call + 0xbc (0x5653f6ec7f1c in /opt/conda/envs/b3d/bin/python)\nframe #46: _PyEval_EvalFrameDefault + 0x2d83 (0x5653f6eae2b3 in /opt/conda/envs/b3d/bin/python)\nframe #47: _PyFunction_Vectorcall + 0x6c (0x5653f6ebba2c in /opt/conda/envs/b3d/bin/python)\nframe #48: _PyEval_EvalFrameDefault + 0x2d83 (0x5653f6eae2b3 in /opt/conda/envs/b3d/bin/python)\nframe #49: _PyFunction_Vectorcall + 0x6c (0x5653f6ebba2c in /opt/conda/envs/b3d/bin/python)\nframe #50: _PyEval_EvalFrameDefault + 0x2d83 (0x5653f6eae2b3 in /opt/conda/envs/b3d/bin/python)\nframe #51: _PyFunction_Vectorcall + 0x6c (0x5653f6ebba2c in /opt/conda/envs/b3d/bin/python)\nframe #52: <unknown function> + 0x6e160a (0x7f78bb85260a in /opt/conda/envs/b3d/lib/python3.10/site-packages/jaxlib/xla_extension.so)\nframe #53: <unknown function> + 0x6dff03 (0x7f78bb850f03 in /opt/conda/envs/b3d/lib/python3.10/site-packages/jaxlib/xla_extension.so)\nframe #54: _PyEval_EvalFrameDefault + 0x2d83 (0x5653f6eae2b3 in /opt/conda/envs/b3d/bin/python)\nframe #55: _PyFunction_Vectorcall + 0x6c (0x5653f6ebba2c in /opt/conda/envs/b3d/bin/python)\nframe #56: <unknown function> + 0x1d6242 (0x5653f6f4d242 in /opt/conda/envs/b3d/bin/python)\nframe #57: <unknown function> + 0xa226b (0x5653f6e1926b in /opt/conda/envs/b3d/bin/python)\nframe #58: _PyEval_EvalFrameDefault + 0x2d83 (0x5653f6eae2b3 in /opt/conda/envs/b3d/bin/python)\nframe #59: _PyFunction_Vectorcall + 0x6c (0x5653f6ebba2c in /opt/conda/envs/b3d/bin/python)\nframe #60: _PyEval_EvalFrameDefault + 0x72c (0x5653f6eabc5c in /opt/conda/envs/b3d/bin/python)\nframe #61: _PyFunction_Vectorcall + 0x6c (0x5653f6ebba2c in /opt/conda/envs/b3d/bin/python)\nframe #62: _PyEval_EvalFrameDefault + 0x72c (0x5653f6eabc5c in /opt/conda/envs/b3d/bin/python)\nframe #63: _PyFunction_Vectorcall + 0x6c (0x5653f6ebba2c in /opt/conda/envs/b3d/bin/python)\n"
     ]
    }
   ],
   "source": [
    "object_poses = Pose(jnp.zeros((0,3)), jnp.zeros((0,4)))\n",
    "object_indices = jnp.empty((0,), dtype=int)\n",
    "rendered_rgb, rendered_depth = renderer.render_attribute(\n",
    "        object_poses,\n",
    "        object_library.vertices,\n",
    "        object_library.faces,\n",
    "        object_library.ranges[object_indices] * (object_indices >= 0).reshape(-1,1),\n",
    "        object_library.attributes\n",
    "    )\n"
   ]
  },
  {
   "cell_type": "code",
   "execution_count": 11,
   "metadata": {},
   "outputs": [],
   "source": [
    "rr.log(\"should_be_nothing\", rr.Image(rendered_rgb))"
   ]
  },
  {
   "cell_type": "code",
   "execution_count": 12,
   "metadata": {},
   "outputs": [],
   "source": [
    "renderer = b3d.Renderer(image_width, image_height, fx, fy, cx, cy, near, far)\n",
    "model = b3d.model_multiobject_gl_factory(renderer)\n",
    "\n",
    "color_error, depth_error = (jnp.float32(30.0), jnp.float32(0.02))\n",
    "inlier_score, outlier_prob = (jnp.float32(5.0), jnp.float32(0.001))\n",
    "color_multiplier, depth_multiplier = (jnp.float32(3000.0), jnp.float32(3000.0))"
   ]
  },
  {
   "cell_type": "code",
   "execution_count": 13,
   "metadata": {},
   "outputs": [],
   "source": [
    "key = jax.random.PRNGKey(0)\n",
    "translation_deltas = Pose.concatenate_poses([jax.vmap(lambda p: Pose.from_translation(p))(jnp.stack(\n",
    "    jnp.meshgrid(\n",
    "        jnp.linspace(-0.01, 0.01, 11),\n",
    "        jnp.linspace(-0.01, 0.01, 11),\n",
    "        jnp.linspace(-0.01, 0.01, 11),\n",
    "    ),\n",
    "    axis=-1,\n",
    ").reshape(-1, 3)), Pose.identity()[None,...]])\n",
    "\n",
    "rotation_deltas = Pose.concatenate_poses([jax.vmap(Pose.sample_gaussian_vmf_pose, in_axes=(0,None, None, None))(\n",
    "    jax.random.split(jax.random.PRNGKey(0), 11*11*11),\n",
    "    Pose.identity(),\n",
    "    0.00001, 1000.0\n",
    "), Pose.identity()[None,...]])\n"
   ]
  },
  {
   "cell_type": "code",
   "execution_count": 6,
   "metadata": {},
   "outputs": [],
   "source": [
    "\n",
    "all_deltas =  Pose.stack_poses([translation_deltas, rotation_deltas])\n",
    "\n",
    "from functools import partial\n",
    "@partial(jax.jit, static_argnames=['addressses'])\n",
    "def enumerative_proposal(trace, addressses, key, all_deltas):\n",
    "    addr = addressses.const[0]\n",
    "    current_pose = trace[addr]\n",
    "    for i in range(len(all_deltas)):\n",
    "        test_poses = current_pose @ all_deltas[i]\n",
    "        potential_scores = b3d.enumerate_choices_get_scores(\n",
    "            trace, jax.random.PRNGKey(0), addressses, test_poses\n",
    "        )\n",
    "        current_pose = test_poses[potential_scores.argmax()]\n",
    "    trace = b3d.update_choices(\n",
    "        trace, key, addressses, current_pose\n",
    "    )\n",
    "    return trace, key\n",
    "\n",
    "\n",
    "REAQUISITION_TS = [0, 95,222,355, len(rgbs_resized)]\n",
    "\n",
    "importance_jit = jax.jit(model.importance)\n",
    "update_jit = jax.jit(model.update)\n",
    "\n",
    "START_T = 0\n",
    "trace, _ = importance_jit(\n",
    "    jax.random.PRNGKey(0),\n",
    "    genjax.choice_map(\n",
    "        dict([\n",
    "            (\"camera_pose\", Pose.identity()),\n",
    "            (\"object_pose_0\", Pose.identity()),\n",
    "            (\"object_0\", 0),\n",
    "            (\"object_1\", -1),\n",
    "            (\"object_2\", -1),\n",
    "            (\"object_3\", -1),\n",
    "            (\"observed_rgb\", rgbs_resized[START_T]),\n",
    "            (\"observed_depth\", xyzs[START_T,...,2]),\n",
    "        ])\n",
    "    ),\n",
    "    (jnp.arange(4),color_error,depth_error,inlier_score,outlier_prob,color_multiplier,depth_multiplier, object_library)\n",
    ")\n",
    "b3d.rerun_visualize_trace_t(trace, 0)"
   ]
  },
  {
   "cell_type": "code",
   "execution_count": 7,
   "metadata": {},
   "outputs": [
    {
     "name": "stderr",
     "output_type": "stream",
     "text": [
      "100%|██████████| 95/95 [01:07<00:00,  1.41it/s]\n",
      "100%|██████████| 127/127 [02:40<00:00,  1.26s/it]\n",
      "100%|██████████| 133/133 [04:08<00:00,  1.87s/it]\n",
      "100%|██████████| 72/72 [03:12<00:00,  2.68s/it]\n"
     ]
    }
   ],
   "source": [
    "key = jax.random.PRNGKey(0)\n",
    "\n",
    "inference_data_over_time = []\n",
    "for reaquisition_phase in range(len(REAQUISITION_TS)-1):\n",
    "    for T_observed_image in tqdm(range(REAQUISITION_TS[reaquisition_phase], REAQUISITION_TS[reaquisition_phase+1])):\n",
    "        trace = b3d.update_choices_jit(trace, key,\n",
    "            genjax.Pytree.const([\"observed_rgb\", \"observed_depth\"]),\n",
    "            rgbs_resized[T_observed_image],\n",
    "            xyzs[T_observed_image,...,2]\n",
    "        )\n",
    "        trace,key = enumerative_proposal(trace, genjax.Pytree.const([\"camera_pose\"]), key, all_deltas)\n",
    "        for i in range(1, len(object_library.ranges)):\n",
    "            trace,key = enumerative_proposal(trace, genjax.Pytree.const([f\"object_pose_{i}\"]), key, all_deltas)\n",
    "        b3d.rerun_visualize_trace_t(trace, T_observed_image)\n",
    "        inference_data_over_time.append((b3d.get_poses_from_trace(trace),b3d.get_object_ids_from_trace(trace), trace[\"camera_pose\"], T_observed_image ))\n",
    "\n",
    "    rgb_inliers, rgb_outliers = b3d.get_rgb_inlier_outlier_from_trace(trace)\n",
    "    depth_inliers, depth_outliers = b3d.get_depth_inlier_outlier_from_trace(trace)\n",
    "    rr.set_time_sequence(\"frame\", T_observed_image)\n",
    "    rr.log(\"/rgb/rgb_outliers\", rr.Image(jnp.tile((rgb_outliers*1.0)[...,None], (1,1,3))))\n",
    "    rr.log(\"/rgb/depth_outliers\", rr.Image(jnp.tile((depth_outliers*1.0)[...,None], (1,1,3))))\n",
    "\n",
    "    outler_mask = jnp.logical_and(rgb_outliers , depth_outliers)\n",
    "    rr.log(\"outliers\", rr.Image(jnp.tile((outler_mask*1.0)[...,None], (1,1,3))))\n",
    "\n",
    "    point_cloud = b3d.xyz_from_depth(trace[\"observed_depth\"], fx,fy,cx,cy)[outler_mask]\n",
    "    point_cloud_colors = trace[\"observed_rgb\"][outler_mask]\n",
    "\n",
    "    assignment = b3d.segment_point_cloud(point_cloud)\n",
    "\n",
    "    point_cloud = point_cloud.reshape(-1,3)[assignment==0]\n",
    "    point_cloud_colors = point_cloud_colors.reshape(-1,3)[assignment==0]\n",
    "    \n",
    "    sub = jax.random.choice(jax.random.PRNGKey(0), jnp.arange(len(point_cloud)), (len(point_cloud)//4,), replace=False)\n",
    "    point_cloud = point_cloud[sub]\n",
    "    colors = point_cloud_colors[sub]\n",
    "\n",
    "    vertices, faces, vertex_colors, face_colors = b3d.make_mesh_from_point_cloud_and_resolution(\n",
    "        point_cloud, colors, point_cloud[:,2] / fx * 2.0\n",
    "    )\n",
    "\n",
    "    object_pose = Pose.from_translation(vertices.mean(0))\n",
    "    vertices = object_pose.inverse().apply(vertices)\n",
    "    object_library.add_object(vertices, faces, vertex_colors)\n",
    "\n",
    "    REAQUISITION_T = REAQUISITION_TS[reaquisition_phase+1]-1\n",
    "    next_object_id = len(object_library.ranges)-1\n",
    "    trace = trace.update(\n",
    "        key,\n",
    "        genjax.choice_map({f\"object_{next_object_id}\": next_object_id, f\"object_pose_{next_object_id}\": trace[\"camera_pose\"] @ object_pose, \"observed_rgb\": rgbs_resized[REAQUISITION_T], \"observed_depth\": xyzs[REAQUISITION_T,...,2] }),\n",
    "        # genjax.Diff.tree_diff_unknown_change((jnp.arange(2), *trace.get_args()[1:]))\n",
    "        genjax.Diff.tree_diff_unknown_change((jnp.arange(4),color_error,depth_error,inlier_score,outlier_prob,color_multiplier,depth_multiplier, object_library))\n",
    "    )[0]\n",
    "    b3d.rerun_visualize_trace_t(trace, REAQUISITION_T)\n",
    "    inference_data_over_time.append((b3d.get_poses_from_trace(trace),b3d.get_object_ids_from_trace(trace), trace[\"camera_pose\"], T_observed_image ))\n"
   ]
  },
  {
   "cell_type": "code",
   "execution_count": 8,
   "metadata": {},
   "outputs": [
    {
     "name": "stderr",
     "output_type": "stream",
     "text": [
      "100%|██████████| 431/431 [00:40<00:00, 10.55it/s]\n"
     ]
    }
   ],
   "source": [
    "for i in tqdm(range(len(inference_data_over_time))):\n",
    "    poses, object_ids, camera_pose, t = inference_data_over_time[i]\n",
    "    trace = update_jit(\n",
    "        key,\n",
    "        trace,\n",
    "        genjax.choice_map(\n",
    "            dict([\n",
    "                *[(f\"object_pose_{i}\", poses[i]) for i in range(len(poses))],\n",
    "                *[(f\"object_{i}\", object_ids[i])for i in range(len(object_ids))],\n",
    "                (\"camera_pose\", camera_pose),\n",
    "                (\"observed_rgb\", rgbs_resized[t]),\n",
    "                (\"observed_depth\", xyzs[t,...,2]),\n",
    "            ])\n",
    "        ),\n",
    "        genjax.Diff.tree_diff_unknown_change((jnp.arange(4),color_error,depth_error,inlier_score,outlier_prob,color_multiplier,depth_multiplier, object_library))\n",
    "    )[0]\n",
    "    b3d.rerun_visualize_trace_t(trace, t)\n",
    "    rr.set_time_sequence(\"frame\", t)\n",
    "    outler_mask = jnp.logical_and(rgb_outliers , depth_outliers)\n",
    "\n",
    "    rgb_inliers, rgb_outliers = b3d.get_rgb_inlier_outlier_from_trace(trace)\n",
    "    depth_inliers, depth_outliers = b3d.get_depth_inlier_outlier_from_trace(trace)\n",
    "\n",
    "    rr.log(\"outliers\", rr.Image(jnp.tile((outler_mask*1.0)[...,None], (1,1,3))))\n"
   ]
  },
  {
   "cell_type": "code",
   "execution_count": null,
   "metadata": {},
   "outputs": [],
   "source": []
  }
 ],
 "metadata": {
  "kernelspec": {
   "display_name": "b3d",
   "language": "python",
   "name": "python3"
  },
  "language_info": {
   "codemirror_mode": {
    "name": "ipython",
    "version": 3
   },
   "file_extension": ".py",
   "mimetype": "text/x-python",
   "name": "python",
   "nbconvert_exporter": "python",
   "pygments_lexer": "ipython3",
   "version": "3.10.14"
  }
 },
 "nbformat": 4,
 "nbformat_minor": 2
}
