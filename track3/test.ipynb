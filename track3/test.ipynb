{
 "cells": [
  {
   "cell_type": "code",
   "execution_count": 1,
   "metadata": {},
   "outputs": [],
   "source": [
    "%load_ext autoreload\n",
    "%autoreload 2"
   ]
  },
  {
   "cell_type": "code",
   "execution_count": 2,
   "metadata": {},
   "outputs": [],
   "source": [
    "import jax\n",
    "import jax.numpy as jnp\n",
    "import genjax\n",
    "import rerun as rr"
   ]
  },
  {
   "cell_type": "code",
   "execution_count": 3,
   "metadata": {},
   "outputs": [],
   "source": [
    "from tracking.model import model_factory, rerun_log_trace"
   ]
  },
  {
   "cell_type": "code",
   "execution_count": 4,
   "metadata": {},
   "outputs": [],
   "source": [
    "PORT = 8812\n",
    "rr.init(\"tracking\")\n",
    "rr.connect(addr=f'127.0.0.1:{PORT}')"
   ]
  },
  {
   "cell_type": "code",
   "execution_count": 9,
   "metadata": {},
   "outputs": [
    {
     "name": "stderr",
     "output_type": "stream",
     "text": [
      "E0430 02:23:51.687578   42342 cuda_executor.cc:856] failed to record completion event; therefore, failed to create inter-stream dependency\n"
     ]
    },
    {
     "ename": "XlaRuntimeError",
     "evalue": "INTERNAL: stream cannot wait for other",
     "output_type": "error",
     "traceback": [
      "\u001b[0;31m---------------------------------------------------------------------------\u001b[0m",
      "\u001b[0;31mJaxStackTraceBeforeTransformation\u001b[0m         Traceback (most recent call last)",
      "File \u001b[0;32m/opt/conda/envs/b3d/lib/python3.10/runpy.py:196\u001b[0m, in \u001b[0;36m_run_module_as_main\u001b[0;34m()\u001b[0m\n\u001b[1;32m    195\u001b[0m     sys\u001b[38;5;241m.\u001b[39margv[\u001b[38;5;241m0\u001b[39m] \u001b[38;5;241m=\u001b[39m mod_spec\u001b[38;5;241m.\u001b[39morigin\n\u001b[0;32m--> 196\u001b[0m \u001b[38;5;28;01mreturn\u001b[39;00m _run_code(code, main_globals, \u001b[38;5;28;01mNone\u001b[39;00m,\n\u001b[1;32m    197\u001b[0m                  \u001b[38;5;124m\"\u001b[39m\u001b[38;5;124m__main__\u001b[39m\u001b[38;5;124m\"\u001b[39m, mod_spec)\n",
      "File \u001b[0;32m/opt/conda/envs/b3d/lib/python3.10/runpy.py:86\u001b[0m, in \u001b[0;36m_run_code\u001b[0;34m()\u001b[0m\n\u001b[1;32m     79\u001b[0m run_globals\u001b[38;5;241m.\u001b[39mupdate(\u001b[38;5;18m__name__\u001b[39m \u001b[38;5;241m=\u001b[39m mod_name,\n\u001b[1;32m     80\u001b[0m                    \u001b[38;5;18m__file__\u001b[39m \u001b[38;5;241m=\u001b[39m fname,\n\u001b[1;32m     81\u001b[0m                    __cached__ \u001b[38;5;241m=\u001b[39m cached,\n\u001b[0;32m   (...)\u001b[0m\n\u001b[1;32m     84\u001b[0m                    __package__ \u001b[38;5;241m=\u001b[39m pkg_name,\n\u001b[1;32m     85\u001b[0m                    __spec__ \u001b[38;5;241m=\u001b[39m mod_spec)\n\u001b[0;32m---> 86\u001b[0m exec(code, run_globals)\n\u001b[1;32m     87\u001b[0m \u001b[38;5;28;01mreturn\u001b[39;00m run_globals\n",
      "File \u001b[0;32m/opt/conda/envs/b3d/lib/python3.10/site-packages/ipykernel_launcher.py:18\u001b[0m\n\u001b[1;32m     16\u001b[0m \u001b[38;5;28;01mfrom\u001b[39;00m \u001b[38;5;21;01mipykernel\u001b[39;00m \u001b[38;5;28;01mimport\u001b[39;00m kernelapp \u001b[38;5;28;01mas\u001b[39;00m app\n\u001b[0;32m---> 18\u001b[0m app\u001b[38;5;241m.\u001b[39mlaunch_new_instance()\n",
      "File \u001b[0;32m/opt/conda/envs/b3d/lib/python3.10/site-packages/traitlets/config/application.py:1075\u001b[0m, in \u001b[0;36mlaunch_instance\u001b[0;34m()\u001b[0m\n\u001b[1;32m   1074\u001b[0m app\u001b[38;5;241m.\u001b[39minitialize(argv)\n\u001b[0;32m-> 1075\u001b[0m app\u001b[38;5;241m.\u001b[39mstart()\n",
      "File \u001b[0;32m/opt/conda/envs/b3d/lib/python3.10/site-packages/ipykernel/kernelapp.py:739\u001b[0m, in \u001b[0;36mstart\u001b[0;34m()\u001b[0m\n\u001b[1;32m    738\u001b[0m \u001b[38;5;28;01mtry\u001b[39;00m:\n\u001b[0;32m--> 739\u001b[0m     \u001b[38;5;28mself\u001b[39m\u001b[38;5;241m.\u001b[39mio_loop\u001b[38;5;241m.\u001b[39mstart()\n\u001b[1;32m    740\u001b[0m \u001b[38;5;28;01mexcept\u001b[39;00m \u001b[38;5;167;01mKeyboardInterrupt\u001b[39;00m:\n",
      "File \u001b[0;32m/opt/conda/envs/b3d/lib/python3.10/site-packages/tornado/platform/asyncio.py:205\u001b[0m, in \u001b[0;36mstart\u001b[0;34m()\u001b[0m\n\u001b[1;32m    204\u001b[0m \u001b[38;5;28;01mdef\u001b[39;00m \u001b[38;5;21mstart\u001b[39m(\u001b[38;5;28mself\u001b[39m) \u001b[38;5;241m-\u001b[39m\u001b[38;5;241m>\u001b[39m \u001b[38;5;28;01mNone\u001b[39;00m:\n\u001b[0;32m--> 205\u001b[0m     \u001b[38;5;28mself\u001b[39m\u001b[38;5;241m.\u001b[39masyncio_loop\u001b[38;5;241m.\u001b[39mrun_forever()\n",
      "File \u001b[0;32m/opt/conda/envs/b3d/lib/python3.10/asyncio/base_events.py:603\u001b[0m, in \u001b[0;36mrun_forever\u001b[0;34m()\u001b[0m\n\u001b[1;32m    602\u001b[0m \u001b[38;5;28;01mwhile\u001b[39;00m \u001b[38;5;28;01mTrue\u001b[39;00m:\n\u001b[0;32m--> 603\u001b[0m     \u001b[38;5;28mself\u001b[39m\u001b[38;5;241m.\u001b[39m_run_once()\n\u001b[1;32m    604\u001b[0m     \u001b[38;5;28;01mif\u001b[39;00m \u001b[38;5;28mself\u001b[39m\u001b[38;5;241m.\u001b[39m_stopping:\n",
      "File \u001b[0;32m/opt/conda/envs/b3d/lib/python3.10/asyncio/base_events.py:1909\u001b[0m, in \u001b[0;36m_run_once\u001b[0;34m()\u001b[0m\n\u001b[1;32m   1908\u001b[0m     \u001b[38;5;28;01melse\u001b[39;00m:\n\u001b[0;32m-> 1909\u001b[0m         handle\u001b[38;5;241m.\u001b[39m_run()\n\u001b[1;32m   1910\u001b[0m handle \u001b[38;5;241m=\u001b[39m \u001b[38;5;28;01mNone\u001b[39;00m\n",
      "File \u001b[0;32m/opt/conda/envs/b3d/lib/python3.10/asyncio/events.py:80\u001b[0m, in \u001b[0;36m_run\u001b[0;34m()\u001b[0m\n\u001b[1;32m     79\u001b[0m \u001b[38;5;28;01mtry\u001b[39;00m:\n\u001b[0;32m---> 80\u001b[0m     \u001b[38;5;28mself\u001b[39m\u001b[38;5;241m.\u001b[39m_context\u001b[38;5;241m.\u001b[39mrun(\u001b[38;5;28mself\u001b[39m\u001b[38;5;241m.\u001b[39m_callback, \u001b[38;5;241m*\u001b[39m\u001b[38;5;28mself\u001b[39m\u001b[38;5;241m.\u001b[39m_args)\n\u001b[1;32m     81\u001b[0m \u001b[38;5;28;01mexcept\u001b[39;00m (\u001b[38;5;167;01mSystemExit\u001b[39;00m, \u001b[38;5;167;01mKeyboardInterrupt\u001b[39;00m):\n",
      "File \u001b[0;32m/opt/conda/envs/b3d/lib/python3.10/site-packages/ipykernel/kernelbase.py:545\u001b[0m, in \u001b[0;36mdispatch_queue\u001b[0;34m()\u001b[0m\n\u001b[1;32m    544\u001b[0m \u001b[38;5;28;01mtry\u001b[39;00m:\n\u001b[0;32m--> 545\u001b[0m     \u001b[38;5;28;01mawait\u001b[39;00m \u001b[38;5;28mself\u001b[39m\u001b[38;5;241m.\u001b[39mprocess_one()\n\u001b[1;32m    546\u001b[0m \u001b[38;5;28;01mexcept\u001b[39;00m \u001b[38;5;167;01mException\u001b[39;00m:\n",
      "File \u001b[0;32m/opt/conda/envs/b3d/lib/python3.10/site-packages/ipykernel/kernelbase.py:534\u001b[0m, in \u001b[0;36mprocess_one\u001b[0;34m()\u001b[0m\n\u001b[1;32m    533\u001b[0m         \u001b[38;5;28;01mreturn\u001b[39;00m\n\u001b[0;32m--> 534\u001b[0m \u001b[38;5;28;01mawait\u001b[39;00m dispatch(\u001b[38;5;241m*\u001b[39margs)\n",
      "File \u001b[0;32m/opt/conda/envs/b3d/lib/python3.10/site-packages/ipykernel/kernelbase.py:437\u001b[0m, in \u001b[0;36mdispatch_shell\u001b[0;34m()\u001b[0m\n\u001b[1;32m    436\u001b[0m     \u001b[38;5;28;01mif\u001b[39;00m inspect\u001b[38;5;241m.\u001b[39misawaitable(result):\n\u001b[0;32m--> 437\u001b[0m         \u001b[38;5;28;01mawait\u001b[39;00m result\n\u001b[1;32m    438\u001b[0m \u001b[38;5;28;01mexcept\u001b[39;00m \u001b[38;5;167;01mException\u001b[39;00m:\n",
      "File \u001b[0;32m/opt/conda/envs/b3d/lib/python3.10/site-packages/ipykernel/ipkernel.py:362\u001b[0m, in \u001b[0;36mexecute_request\u001b[0;34m()\u001b[0m\n\u001b[1;32m    361\u001b[0m \u001b[38;5;28mself\u001b[39m\u001b[38;5;241m.\u001b[39m_associate_new_top_level_threads_with(parent_header)\n\u001b[0;32m--> 362\u001b[0m \u001b[38;5;28;01mawait\u001b[39;00m \u001b[38;5;28msuper\u001b[39m()\u001b[38;5;241m.\u001b[39mexecute_request(stream, ident, parent)\n",
      "File \u001b[0;32m/opt/conda/envs/b3d/lib/python3.10/site-packages/ipykernel/kernelbase.py:778\u001b[0m, in \u001b[0;36mexecute_request\u001b[0;34m()\u001b[0m\n\u001b[1;32m    777\u001b[0m \u001b[38;5;28;01mif\u001b[39;00m inspect\u001b[38;5;241m.\u001b[39misawaitable(reply_content):\n\u001b[0;32m--> 778\u001b[0m     reply_content \u001b[38;5;241m=\u001b[39m \u001b[38;5;28;01mawait\u001b[39;00m reply_content\n\u001b[1;32m    780\u001b[0m \u001b[38;5;66;03m# Flush output before sending the reply.\u001b[39;00m\n",
      "File \u001b[0;32m/opt/conda/envs/b3d/lib/python3.10/site-packages/ipykernel/ipkernel.py:449\u001b[0m, in \u001b[0;36mdo_execute\u001b[0;34m()\u001b[0m\n\u001b[1;32m    448\u001b[0m \u001b[38;5;28;01mif\u001b[39;00m accepts_params[\u001b[38;5;124m\"\u001b[39m\u001b[38;5;124mcell_id\u001b[39m\u001b[38;5;124m\"\u001b[39m]:\n\u001b[0;32m--> 449\u001b[0m     res \u001b[38;5;241m=\u001b[39m shell\u001b[38;5;241m.\u001b[39mrun_cell(\n\u001b[1;32m    450\u001b[0m         code,\n\u001b[1;32m    451\u001b[0m         store_history\u001b[38;5;241m=\u001b[39mstore_history,\n\u001b[1;32m    452\u001b[0m         silent\u001b[38;5;241m=\u001b[39msilent,\n\u001b[1;32m    453\u001b[0m         cell_id\u001b[38;5;241m=\u001b[39mcell_id,\n\u001b[1;32m    454\u001b[0m     )\n\u001b[1;32m    455\u001b[0m \u001b[38;5;28;01melse\u001b[39;00m:\n",
      "File \u001b[0;32m/opt/conda/envs/b3d/lib/python3.10/site-packages/ipykernel/zmqshell.py:549\u001b[0m, in \u001b[0;36mrun_cell\u001b[0;34m()\u001b[0m\n\u001b[1;32m    548\u001b[0m \u001b[38;5;28mself\u001b[39m\u001b[38;5;241m.\u001b[39m_last_traceback \u001b[38;5;241m=\u001b[39m \u001b[38;5;28;01mNone\u001b[39;00m\n\u001b[0;32m--> 549\u001b[0m \u001b[38;5;28;01mreturn\u001b[39;00m \u001b[38;5;28msuper\u001b[39m()\u001b[38;5;241m.\u001b[39mrun_cell(\u001b[38;5;241m*\u001b[39margs, \u001b[38;5;241m*\u001b[39m\u001b[38;5;241m*\u001b[39mkwargs)\n",
      "File \u001b[0;32m/opt/conda/envs/b3d/lib/python3.10/site-packages/IPython/core/interactiveshell.py:3075\u001b[0m, in \u001b[0;36mrun_cell\u001b[0;34m()\u001b[0m\n\u001b[1;32m   3074\u001b[0m \u001b[38;5;28;01mtry\u001b[39;00m:\n\u001b[0;32m-> 3075\u001b[0m     result \u001b[38;5;241m=\u001b[39m \u001b[38;5;28mself\u001b[39m\u001b[38;5;241m.\u001b[39m_run_cell(\n\u001b[1;32m   3076\u001b[0m         raw_cell, store_history, silent, shell_futures, cell_id\n\u001b[1;32m   3077\u001b[0m     )\n\u001b[1;32m   3078\u001b[0m \u001b[38;5;28;01mfinally\u001b[39;00m:\n",
      "File \u001b[0;32m/opt/conda/envs/b3d/lib/python3.10/site-packages/IPython/core/interactiveshell.py:3130\u001b[0m, in \u001b[0;36m_run_cell\u001b[0;34m()\u001b[0m\n\u001b[1;32m   3129\u001b[0m \u001b[38;5;28;01mtry\u001b[39;00m:\n\u001b[0;32m-> 3130\u001b[0m     result \u001b[38;5;241m=\u001b[39m runner(coro)\n\u001b[1;32m   3131\u001b[0m \u001b[38;5;28;01mexcept\u001b[39;00m \u001b[38;5;167;01mBaseException\u001b[39;00m \u001b[38;5;28;01mas\u001b[39;00m e:\n",
      "File \u001b[0;32m/opt/conda/envs/b3d/lib/python3.10/site-packages/IPython/core/async_helpers.py:129\u001b[0m, in \u001b[0;36m_pseudo_sync_runner\u001b[0;34m()\u001b[0m\n\u001b[1;32m    128\u001b[0m \u001b[38;5;28;01mtry\u001b[39;00m:\n\u001b[0;32m--> 129\u001b[0m     coro\u001b[38;5;241m.\u001b[39msend(\u001b[38;5;28;01mNone\u001b[39;00m)\n\u001b[1;32m    130\u001b[0m \u001b[38;5;28;01mexcept\u001b[39;00m \u001b[38;5;167;01mStopIteration\u001b[39;00m \u001b[38;5;28;01mas\u001b[39;00m exc:\n",
      "File \u001b[0;32m/opt/conda/envs/b3d/lib/python3.10/site-packages/IPython/core/interactiveshell.py:3334\u001b[0m, in \u001b[0;36mrun_cell_async\u001b[0;34m()\u001b[0m\n\u001b[1;32m   3331\u001b[0m interactivity \u001b[38;5;241m=\u001b[39m \u001b[38;5;124m\"\u001b[39m\u001b[38;5;124mnone\u001b[39m\u001b[38;5;124m\"\u001b[39m \u001b[38;5;28;01mif\u001b[39;00m silent \u001b[38;5;28;01melse\u001b[39;00m \u001b[38;5;28mself\u001b[39m\u001b[38;5;241m.\u001b[39mast_node_interactivity\n\u001b[0;32m-> 3334\u001b[0m has_raised \u001b[38;5;241m=\u001b[39m \u001b[38;5;28;01mawait\u001b[39;00m \u001b[38;5;28mself\u001b[39m\u001b[38;5;241m.\u001b[39mrun_ast_nodes(code_ast\u001b[38;5;241m.\u001b[39mbody, cell_name,\n\u001b[1;32m   3335\u001b[0m        interactivity\u001b[38;5;241m=\u001b[39minteractivity, compiler\u001b[38;5;241m=\u001b[39mcompiler, result\u001b[38;5;241m=\u001b[39mresult)\n\u001b[1;32m   3337\u001b[0m \u001b[38;5;28mself\u001b[39m\u001b[38;5;241m.\u001b[39mlast_execution_succeeded \u001b[38;5;241m=\u001b[39m \u001b[38;5;129;01mnot\u001b[39;00m has_raised\n",
      "File \u001b[0;32m/opt/conda/envs/b3d/lib/python3.10/site-packages/IPython/core/interactiveshell.py:3517\u001b[0m, in \u001b[0;36mrun_ast_nodes\u001b[0;34m()\u001b[0m\n\u001b[1;32m   3516\u001b[0m     asy \u001b[38;5;241m=\u001b[39m compare(code)\n\u001b[0;32m-> 3517\u001b[0m \u001b[38;5;28;01mif\u001b[39;00m \u001b[38;5;28;01mawait\u001b[39;00m \u001b[38;5;28mself\u001b[39m\u001b[38;5;241m.\u001b[39mrun_code(code, result, async_\u001b[38;5;241m=\u001b[39masy):\n\u001b[1;32m   3518\u001b[0m     \u001b[38;5;28;01mreturn\u001b[39;00m \u001b[38;5;28;01mTrue\u001b[39;00m\n",
      "File \u001b[0;32m/opt/conda/envs/b3d/lib/python3.10/site-packages/IPython/core/interactiveshell.py:3577\u001b[0m, in \u001b[0;36mrun_code\u001b[0;34m()\u001b[0m\n\u001b[1;32m   3576\u001b[0m     \u001b[38;5;28;01melse\u001b[39;00m:\n\u001b[0;32m-> 3577\u001b[0m         exec(code_obj, \u001b[38;5;28mself\u001b[39m\u001b[38;5;241m.\u001b[39muser_global_ns, \u001b[38;5;28mself\u001b[39m\u001b[38;5;241m.\u001b[39muser_ns)\n\u001b[1;32m   3578\u001b[0m \u001b[38;5;28;01mfinally\u001b[39;00m:\n\u001b[1;32m   3579\u001b[0m     \u001b[38;5;66;03m# Reset our crash handler in place\u001b[39;00m\n",
      "Cell \u001b[0;32mIn[9], line 12\u001b[0m\n\u001b[1;32m     11\u001b[0m key \u001b[38;5;241m=\u001b[39m jax\u001b[38;5;241m.\u001b[39mrandom\u001b[38;5;241m.\u001b[39mPRNGKey(\u001b[38;5;241m3\u001b[39m)\n\u001b[0;32m---> 12\u001b[0m trace \u001b[38;5;241m=\u001b[39m model\u001b[38;5;241m.\u001b[39msimulate(key, (\u001b[38;5;241m10\u001b[39m,))\n",
      "File \u001b[0;32m<@beartype(genjax._src.generative_functions.static.static_gen_fn.StaticGenerativeFunction.simulate) at 0x7fb48d124a60>:53\u001b[0m, in \u001b[0;36msimulate\u001b[0;34m()\u001b[0m\n",
      "File \u001b[0;32m/opt/conda/envs/b3d/lib/python3.10/site-packages/genjax/_src/generative_functions/static/static_gen_fn.py:129\u001b[0m, in \u001b[0;36msimulate\u001b[0;34m()\u001b[0m\n\u001b[1;32m    126\u001b[0m syntax_sugar_handled \u001b[38;5;241m=\u001b[39m push_trace_overload_stack(\n\u001b[1;32m    127\u001b[0m     handler_trace_with_static, \u001b[38;5;28mself\u001b[39m\u001b[38;5;241m.\u001b[39msource\n\u001b[1;32m    128\u001b[0m )\n\u001b[0;32m--> 129\u001b[0m (args, retval, address_choices, score), cache_state \u001b[38;5;241m=\u001b[39m simulate_transform(\n\u001b[1;32m    130\u001b[0m     syntax_sugar_handled\n\u001b[1;32m    131\u001b[0m )(key, args)\n\u001b[1;32m    132\u001b[0m \u001b[38;5;28;01mreturn\u001b[39;00m StaticTrace(\n\u001b[1;32m    133\u001b[0m     \u001b[38;5;28mself\u001b[39m,\n\u001b[1;32m    134\u001b[0m     args,\n\u001b[0;32m   (...)\u001b[0m\n\u001b[1;32m    138\u001b[0m     score,\n\u001b[1;32m    139\u001b[0m )\n",
      "File \u001b[0;32m/opt/conda/envs/b3d/lib/python3.10/site-packages/genjax/_src/generative_functions/static/static_transforms.py:285\u001b[0m, in \u001b[0;36mwrapper\u001b[0;34m()\u001b[0m\n\u001b[1;32m    284\u001b[0m stateful_handler \u001b[38;5;241m=\u001b[39m SimulateHandler(key)\n\u001b[0;32m--> 285\u001b[0m retval \u001b[38;5;241m=\u001b[39m forward(source_fn)(stateful_handler, \u001b[38;5;241m*\u001b[39margs)\n\u001b[1;32m    286\u001b[0m (\n\u001b[1;32m    287\u001b[0m     address_choices,\n\u001b[1;32m    288\u001b[0m     cache_state,\n\u001b[1;32m    289\u001b[0m     score,\n\u001b[1;32m    290\u001b[0m ) \u001b[38;5;241m=\u001b[39m stateful_handler\u001b[38;5;241m.\u001b[39myield_state()\n",
      "File \u001b[0;32m<@beartype(genjax._src.core.interpreters.forward.forward.wrapped) at 0x7fb4cd0aab00>:31\u001b[0m, in \u001b[0;36mwrapped\u001b[0;34m()\u001b[0m\n",
      "File \u001b[0;32m/opt/conda/envs/b3d/lib/python3.10/site-packages/genjax/_src/core/interpreters/forward.py:242\u001b[0m, in \u001b[0;36mwrapped\u001b[0;34m()\u001b[0m\n\u001b[1;32m    241\u001b[0m interpreter \u001b[38;5;241m=\u001b[39m ForwardInterpreter()\n\u001b[0;32m--> 242\u001b[0m \u001b[38;5;28;01mreturn\u001b[39;00m interpreter\u001b[38;5;241m.\u001b[39mrun_interpreter(\n\u001b[1;32m    243\u001b[0m     stateful_handler,\n\u001b[1;32m    244\u001b[0m     f,\n\u001b[1;32m    245\u001b[0m     \u001b[38;5;241m*\u001b[39margs,\n\u001b[1;32m    246\u001b[0m )\n",
      "File \u001b[0;32m/opt/conda/envs/b3d/lib/python3.10/site-packages/genjax/_src/core/interpreters/forward.py:227\u001b[0m, in \u001b[0;36mrun_interpreter\u001b[0;34m()\u001b[0m\n\u001b[1;32m    226\u001b[0m _jaxpr, consts \u001b[38;5;241m=\u001b[39m _closed_jaxpr\u001b[38;5;241m.\u001b[39mjaxpr, _closed_jaxpr\u001b[38;5;241m.\u001b[39mliterals\n\u001b[0;32m--> 227\u001b[0m flat_out \u001b[38;5;241m=\u001b[39m \u001b[38;5;28mself\u001b[39m\u001b[38;5;241m.\u001b[39m_eval_jaxpr_forward(\n\u001b[1;32m    228\u001b[0m     stateful_handler,\n\u001b[1;32m    229\u001b[0m     _jaxpr,\n\u001b[1;32m    230\u001b[0m     consts,\n\u001b[1;32m    231\u001b[0m     flat_args,\n\u001b[1;32m    232\u001b[0m )\n\u001b[1;32m    233\u001b[0m \u001b[38;5;28;01mreturn\u001b[39;00m jtu\u001b[38;5;241m.\u001b[39mtree_unflatten(out_tree(), flat_out)\n",
      "File \u001b[0;32m/opt/conda/envs/b3d/lib/python3.10/site-packages/genjax/_src/core/interpreters/forward.py:212\u001b[0m, in \u001b[0;36m_eval_jaxpr_forward\u001b[0;34m()\u001b[0m\n\u001b[1;32m    211\u001b[0m \u001b[38;5;28;01mif\u001b[39;00m stateful_handler\u001b[38;5;241m.\u001b[39mhandles(eqn\u001b[38;5;241m.\u001b[39mprimitive):\n\u001b[0;32m--> 212\u001b[0m     outvals \u001b[38;5;241m=\u001b[39m stateful_handler\u001b[38;5;241m.\u001b[39mdispatch(eqn\u001b[38;5;241m.\u001b[39mprimitive, \u001b[38;5;241m*\u001b[39margs, \u001b[38;5;241m*\u001b[39m\u001b[38;5;241m*\u001b[39mparams)\n\u001b[1;32m    213\u001b[0m \u001b[38;5;28;01melse\u001b[39;00m:\n",
      "File \u001b[0;32m/opt/conda/envs/b3d/lib/python3.10/site-packages/genjax/_src/generative_functions/static/static_transforms.py:234\u001b[0m, in \u001b[0;36mdispatch\u001b[0;34m()\u001b[0m\n\u001b[1;32m    233\u001b[0m \u001b[38;5;28;01mif\u001b[39;00m prim \u001b[38;5;241m==\u001b[39m trace_p:\n\u001b[0;32m--> 234\u001b[0m     \u001b[38;5;28;01mreturn\u001b[39;00m \u001b[38;5;28mself\u001b[39m\u001b[38;5;241m.\u001b[39mhandle_trace(\u001b[38;5;241m*\u001b[39mtracers, \u001b[38;5;241m*\u001b[39m\u001b[38;5;241m*\u001b[39m_params)\n\u001b[1;32m    235\u001b[0m \u001b[38;5;28;01melif\u001b[39;00m prim \u001b[38;5;241m==\u001b[39m cache_p:\n",
      "File \u001b[0;32m/opt/conda/envs/b3d/lib/python3.10/site-packages/genjax/_src/generative_functions/static/static_transforms.py:270\u001b[0m, in \u001b[0;36mhandle_trace\u001b[0;34m()\u001b[0m\n\u001b[1;32m    269\u001b[0m \u001b[38;5;28mself\u001b[39m\u001b[38;5;241m.\u001b[39mkey, sub_key \u001b[38;5;241m=\u001b[39m jax\u001b[38;5;241m.\u001b[39mrandom\u001b[38;5;241m.\u001b[39msplit(\u001b[38;5;28mself\u001b[39m\u001b[38;5;241m.\u001b[39mkey)\n\u001b[0;32m--> 270\u001b[0m tr \u001b[38;5;241m=\u001b[39m gen_fn\u001b[38;5;241m.\u001b[39msimulate(sub_key, call_args)\n\u001b[1;32m    271\u001b[0m score \u001b[38;5;241m=\u001b[39m tr\u001b[38;5;241m.\u001b[39mget_score()\n",
      "File \u001b[0;32m<@beartype(genjax._src.generative_functions.combinators.vector.map_combinator.MapCombinator.simulate) at 0x7fb48d15b0a0>:53\u001b[0m, in \u001b[0;36msimulate\u001b[0;34m()\u001b[0m\n",
      "File \u001b[0;32m/opt/conda/envs/b3d/lib/python3.10/site-packages/genjax/_src/generative_functions/combinators/vector/map_combinator.py:212\u001b[0m, in \u001b[0;36msimulate\u001b[0;34m()\u001b[0m\n\u001b[1;32m    211\u001b[0m sub_keys \u001b[38;5;241m=\u001b[39m jax\u001b[38;5;241m.\u001b[39mrandom\u001b[38;5;241m.\u001b[39msplit(key, broadcast_dim_length)\n\u001b[0;32m--> 212\u001b[0m tr \u001b[38;5;241m=\u001b[39m jax\u001b[38;5;241m.\u001b[39mvmap(\u001b[38;5;28mself\u001b[39m\u001b[38;5;241m.\u001b[39mkernel\u001b[38;5;241m.\u001b[39msimulate, in_axes\u001b[38;5;241m=\u001b[39m(\u001b[38;5;241m0\u001b[39m, \u001b[38;5;28mself\u001b[39m\u001b[38;5;241m.\u001b[39min_axes))(sub_keys, args)\n\u001b[1;32m    213\u001b[0m retval \u001b[38;5;241m=\u001b[39m tr\u001b[38;5;241m.\u001b[39mget_retval()\n",
      "File \u001b[0;32m<@beartype(genjax._src.generative_functions.static.static_gen_fn.StaticGenerativeFunction.simulate) at 0x7fb48d124a60>:53\u001b[0m, in \u001b[0;36msimulate\u001b[0;34m()\u001b[0m\n",
      "File \u001b[0;32m/opt/conda/envs/b3d/lib/python3.10/site-packages/genjax/_src/generative_functions/static/static_gen_fn.py:129\u001b[0m, in \u001b[0;36msimulate\u001b[0;34m()\u001b[0m\n\u001b[1;32m    126\u001b[0m syntax_sugar_handled \u001b[38;5;241m=\u001b[39m push_trace_overload_stack(\n\u001b[1;32m    127\u001b[0m     handler_trace_with_static, \u001b[38;5;28mself\u001b[39m\u001b[38;5;241m.\u001b[39msource\n\u001b[1;32m    128\u001b[0m )\n\u001b[0;32m--> 129\u001b[0m (args, retval, address_choices, score), cache_state \u001b[38;5;241m=\u001b[39m simulate_transform(\n\u001b[1;32m    130\u001b[0m     syntax_sugar_handled\n\u001b[1;32m    131\u001b[0m )(key, args)\n\u001b[1;32m    132\u001b[0m \u001b[38;5;28;01mreturn\u001b[39;00m StaticTrace(\n\u001b[1;32m    133\u001b[0m     \u001b[38;5;28mself\u001b[39m,\n\u001b[1;32m    134\u001b[0m     args,\n\u001b[0;32m   (...)\u001b[0m\n\u001b[1;32m    138\u001b[0m     score,\n\u001b[1;32m    139\u001b[0m )\n",
      "File \u001b[0;32m/opt/conda/envs/b3d/lib/python3.10/site-packages/genjax/_src/generative_functions/static/static_transforms.py:285\u001b[0m, in \u001b[0;36mwrapper\u001b[0;34m()\u001b[0m\n\u001b[1;32m    284\u001b[0m stateful_handler \u001b[38;5;241m=\u001b[39m SimulateHandler(key)\n\u001b[0;32m--> 285\u001b[0m retval \u001b[38;5;241m=\u001b[39m forward(source_fn)(stateful_handler, \u001b[38;5;241m*\u001b[39margs)\n\u001b[1;32m    286\u001b[0m (\n\u001b[1;32m    287\u001b[0m     address_choices,\n\u001b[1;32m    288\u001b[0m     cache_state,\n\u001b[1;32m    289\u001b[0m     score,\n\u001b[1;32m    290\u001b[0m ) \u001b[38;5;241m=\u001b[39m stateful_handler\u001b[38;5;241m.\u001b[39myield_state()\n",
      "File \u001b[0;32m<@beartype(genjax._src.core.interpreters.forward.forward.wrapped) at 0x7fb4ccde1e10>:31\u001b[0m, in \u001b[0;36mwrapped\u001b[0;34m()\u001b[0m\n",
      "File \u001b[0;32m/opt/conda/envs/b3d/lib/python3.10/site-packages/genjax/_src/core/interpreters/forward.py:242\u001b[0m, in \u001b[0;36mwrapped\u001b[0;34m()\u001b[0m\n\u001b[1;32m    241\u001b[0m interpreter \u001b[38;5;241m=\u001b[39m ForwardInterpreter()\n\u001b[0;32m--> 242\u001b[0m \u001b[38;5;28;01mreturn\u001b[39;00m interpreter\u001b[38;5;241m.\u001b[39mrun_interpreter(\n\u001b[1;32m    243\u001b[0m     stateful_handler,\n\u001b[1;32m    244\u001b[0m     f,\n\u001b[1;32m    245\u001b[0m     \u001b[38;5;241m*\u001b[39margs,\n\u001b[1;32m    246\u001b[0m )\n",
      "File \u001b[0;32m/opt/conda/envs/b3d/lib/python3.10/site-packages/genjax/_src/core/interpreters/forward.py:225\u001b[0m, in \u001b[0;36mrun_interpreter\u001b[0;34m()\u001b[0m\n\u001b[1;32m    223\u001b[0m     \u001b[38;5;28;01mreturn\u001b[39;00m fn(\u001b[38;5;241m*\u001b[39margs, \u001b[38;5;241m*\u001b[39m\u001b[38;5;241m*\u001b[39mkwargs)\n\u001b[0;32m--> 225\u001b[0m _closed_jaxpr, (flat_args, _, out_tree) \u001b[38;5;241m=\u001b[39m stage(_inner)(\u001b[38;5;241m*\u001b[39margs)\n\u001b[1;32m    226\u001b[0m _jaxpr, consts \u001b[38;5;241m=\u001b[39m _closed_jaxpr\u001b[38;5;241m.\u001b[39mjaxpr, _closed_jaxpr\u001b[38;5;241m.\u001b[39mliterals\n",
      "File \u001b[0;32m/opt/conda/envs/b3d/lib/python3.10/site-packages/genjax/_src/core/interpreters/staging.py:68\u001b[0m, in \u001b[0;36mwrapped\u001b[0;34m()\u001b[0m\n\u001b[1;32m     67\u001b[0m flat_avals \u001b[38;5;241m=\u001b[39m safe_map(get_shaped_aval, flat_args)\n\u001b[0;32m---> 68\u001b[0m typed_jaxpr \u001b[38;5;241m=\u001b[39m cached_stage_dynamic(flat_fun, \u001b[38;5;28mtuple\u001b[39m(flat_avals))\n\u001b[1;32m     69\u001b[0m \u001b[38;5;28;01mreturn\u001b[39;00m typed_jaxpr, (flat_args, in_tree, out_tree)\n",
      "File \u001b[0;32m/opt/conda/envs/b3d/lib/python3.10/site-packages/genjax/_src/core/interpreters/staging.py:55\u001b[0m, in \u001b[0;36mcached_stage_dynamic\u001b[0;34m()\u001b[0m\n\u001b[1;32m     53\u001b[0m \u001b[38;5;129m@lu\u001b[39m\u001b[38;5;241m.\u001b[39mcache\n\u001b[1;32m     54\u001b[0m \u001b[38;5;28;01mdef\u001b[39;00m \u001b[38;5;21mcached_stage_dynamic\u001b[39m(flat_fun, in_avals):\n\u001b[0;32m---> 55\u001b[0m     jaxpr, _, consts \u001b[38;5;241m=\u001b[39m pe\u001b[38;5;241m.\u001b[39mtrace_to_jaxpr_dynamic(flat_fun, in_avals)\n\u001b[1;32m     56\u001b[0m     typed_jaxpr \u001b[38;5;241m=\u001b[39m jc\u001b[38;5;241m.\u001b[39mClosedJaxpr(jaxpr, consts)\n",
      "File \u001b[0;32m/opt/conda/envs/b3d/lib/python3.10/site-packages/genjax/_src/core/interpreters/forward.py:223\u001b[0m, in \u001b[0;36m_inner\u001b[0;34m()\u001b[0m\n\u001b[1;32m    222\u001b[0m \u001b[38;5;28;01mdef\u001b[39;00m \u001b[38;5;21m_inner\u001b[39m(\u001b[38;5;241m*\u001b[39margs):\n\u001b[0;32m--> 223\u001b[0m     \u001b[38;5;28;01mreturn\u001b[39;00m fn(\u001b[38;5;241m*\u001b[39margs, \u001b[38;5;241m*\u001b[39m\u001b[38;5;241m*\u001b[39mkwargs)\n",
      "File \u001b[0;32m/opt/conda/envs/b3d/lib/python3.10/site-packages/genjax/_src/generative_functions/supports_callees.py:46\u001b[0m, in \u001b[0;36mwrapped\u001b[0;34m()\u001b[0m\n\u001b[1;32m     45\u001b[0m GLOBAL_TRACE_HANDLER_STACK\u001b[38;5;241m.\u001b[39mappend(handler)\n\u001b[0;32m---> 46\u001b[0m ret \u001b[38;5;241m=\u001b[39m fn(\u001b[38;5;241m*\u001b[39margs)\n\u001b[1;32m     47\u001b[0m GLOBAL_TRACE_HANDLER_STACK\u001b[38;5;241m.\u001b[39mpop()\n",
      "File \u001b[0;32m~/b3d/track3/tracking/model.py:107\u001b[0m, in \u001b[0;36mobs_model\u001b[0;34m()\u001b[0m\n\u001b[1;32m    104\u001b[0m \u001b[38;5;129m@genjax\u001b[39m\u001b[38;5;241m.\u001b[39mmap_combinator(in_axes\u001b[38;5;241m=\u001b[39m(\u001b[38;5;241m0\u001b[39m, \u001b[38;5;28;01mNone\u001b[39;00m))\n\u001b[1;32m    105\u001b[0m \u001b[38;5;129m@genjax\u001b[39m\u001b[38;5;241m.\u001b[39mstatic_gen_fn\n\u001b[1;32m    106\u001b[0m \u001b[38;5;28;01mdef\u001b[39;00m \u001b[38;5;21mobs_model\u001b[39m(keypoint_pose, keypoint_mesh : Mesh):\n\u001b[0;32m--> 107\u001b[0m     deterministic_image \u001b[38;5;241m=\u001b[39m keypoint_mesh\u001b[38;5;241m.\u001b[39mto_image(\n\u001b[1;32m    108\u001b[0m         keypoint_pose, width, height,\n\u001b[1;32m    109\u001b[0m         \u001b[38;5;28;01mlambda\u001b[39;00m rgbd: rgbd[\u001b[38;5;241m-\u001b[39m\u001b[38;5;241m1\u001b[39m],\n\u001b[1;32m    110\u001b[0m         jnp\u001b[38;5;241m.\u001b[39marray([\u001b[38;5;241m0.\u001b[39m, \u001b[38;5;241m0.\u001b[39m, \u001b[38;5;241m0.\u001b[39m, DEFAULT_DEPTH])\n\u001b[1;32m    111\u001b[0m     )\n\u001b[1;32m    112\u001b[0m     observed_image \u001b[38;5;241m=\u001b[39m image_noise(deterministic_image) \u001b[38;5;241m@\u001b[39m \u001b[38;5;124m\"\u001b[39m\u001b[38;5;124mobserved_image\u001b[39m\u001b[38;5;124m\"\u001b[39m\n",
      "File \u001b[0;32m~/b3d/track3/tracking/mesh.py:152\u001b[0m, in \u001b[0;36mto_image\u001b[0;34m()\u001b[0m\n\u001b[1;32m    140\u001b[0m \u001b[38;5;250m\u001b[39m\u001b[38;5;124;03m\"\"\"\u001b[39;00m\n\u001b[1;32m    141\u001b[0m \u001b[38;5;124;03mGet a width by height image of the 2D mesh at pose `pose_2d`.\u001b[39;00m\n\u001b[1;32m    142\u001b[0m \u001b[38;5;124;03mArgs:\u001b[39;00m\n\u001b[0;32m   (...)\u001b[0m\n\u001b[1;32m    150\u001b[0m \u001b[38;5;124;03m    - Image: jnp.array(width, height, A) where A is the attribute dimension.\u001b[39;00m\n\u001b[1;32m    151\u001b[0m \u001b[38;5;124;03m\"\"\"\u001b[39;00m\n\u001b[0;32m--> 152\u001b[0m \u001b[38;5;28;01mreturn\u001b[39;00m rasterize_mesh(\u001b[38;5;28mself\u001b[39m, pose_2d, width, height, attributes_to_depth, default_attribute)\n",
      "File \u001b[0;32m~/b3d/track3/tracking/mesh.py:228\u001b[0m, in \u001b[0;36mrasterize_mesh\u001b[0;34m()\u001b[0m\n\u001b[1;32m    221\u001b[0m pose_3d \u001b[38;5;241m=\u001b[39m jnp\u001b[38;5;241m.\u001b[39marray([\n\u001b[1;32m    222\u001b[0m     [jnp\u001b[38;5;241m.\u001b[39mcos(\u001b[38;5;241m-\u001b[39mtheta), \u001b[38;5;241m-\u001b[39mjnp\u001b[38;5;241m.\u001b[39msin(\u001b[38;5;241m-\u001b[39mtheta), \u001b[38;5;241m0\u001b[39m, x],\n\u001b[1;32m    223\u001b[0m     [jnp\u001b[38;5;241m.\u001b[39msin(\u001b[38;5;241m-\u001b[39mtheta), jnp\u001b[38;5;241m.\u001b[39mcos(\u001b[38;5;241m-\u001b[39mtheta), \u001b[38;5;241m0\u001b[39m, y],\n\u001b[1;32m    224\u001b[0m     [\u001b[38;5;241m0\u001b[39m, \u001b[38;5;241m0\u001b[39m, \u001b[38;5;241m1\u001b[39m, \u001b[38;5;241m0\u001b[39m],\n\u001b[1;32m    225\u001b[0m     [\u001b[38;5;241m0\u001b[39m, \u001b[38;5;241m0\u001b[39m, \u001b[38;5;241m0\u001b[39m, \u001b[38;5;241m1\u001b[39m]\n\u001b[1;32m    226\u001b[0m ])\n\u001b[0;32m--> 228\u001b[0m rendered \u001b[38;5;241m=\u001b[39m renderer\u001b[38;5;241m.\u001b[39mrender_attribute(\n\u001b[1;32m    229\u001b[0m     pose_3d[\u001b[38;5;28;01mNone\u001b[39;00m, \u001b[38;5;241m.\u001b[39m\u001b[38;5;241m.\u001b[39m\u001b[38;5;241m.\u001b[39m],\n\u001b[1;32m    230\u001b[0m     vertices,\n\u001b[1;32m    231\u001b[0m     mesh\u001b[38;5;241m.\u001b[39mfaces,\n\u001b[1;32m    232\u001b[0m     jnp\u001b[38;5;241m.\u001b[39marray([\u001b[38;5;241m0\u001b[39m, mesh\u001b[38;5;241m.\u001b[39mfaces\u001b[38;5;241m.\u001b[39mshape[\u001b[38;5;241m0\u001b[39m]])\u001b[38;5;241m.\u001b[39mreshape(\u001b[38;5;241m1\u001b[39m, \u001b[38;5;241m2\u001b[39m), \u001b[38;5;66;03m# 1 object, with all faces\u001b[39;00m\n\u001b[1;32m    233\u001b[0m     mesh\u001b[38;5;241m.\u001b[39mattributes\n\u001b[1;32m    234\u001b[0m )[\u001b[38;5;241m0\u001b[39m]\n\u001b[1;32m    236\u001b[0m image \u001b[38;5;241m=\u001b[39m jnp\u001b[38;5;241m.\u001b[39mwhere(\n\u001b[1;32m    237\u001b[0m     (rendered[\u001b[38;5;241m.\u001b[39m\u001b[38;5;241m.\u001b[39m\u001b[38;5;241m.\u001b[39m, \u001b[38;5;241m3\u001b[39m] \u001b[38;5;241m==\u001b[39m \u001b[38;5;241m0\u001b[39m)[\u001b[38;5;241m.\u001b[39m\u001b[38;5;241m.\u001b[39m\u001b[38;5;241m.\u001b[39m, \u001b[38;5;28;01mNone\u001b[39;00m],\n\u001b[1;32m    238\u001b[0m     default_attribute,\n\u001b[1;32m    239\u001b[0m     rendered[\u001b[38;5;241m.\u001b[39m\u001b[38;5;241m.\u001b[39m\u001b[38;5;241m.\u001b[39m]\n\u001b[1;32m    240\u001b[0m )\n",
      "File \u001b[0;32m~/b3d/b3d/renderer.py:270\u001b[0m, in \u001b[0;36mrender_attribute\u001b[0;34m()\u001b[0m\n\u001b[1;32m    247\u001b[0m \u001b[38;5;250m\u001b[39m\u001b[38;5;124;03m\"\"\"\u001b[39;00m\n\u001b[1;32m    248\u001b[0m \u001b[38;5;124;03mRender a single scenes to an image by rasterizing and then interpolating attributes.\u001b[39;00m\n\u001b[1;32m    249\u001b[0m \n\u001b[0;32m   (...)\u001b[0m\n\u001b[1;32m    268\u001b[0m \u001b[38;5;124;03m        Depth of the intersection point. Zero if the pixel ray doesn't collide a triangle.\u001b[39;00m\n\u001b[1;32m    269\u001b[0m \u001b[38;5;124;03m\"\"\"\u001b[39;00m\n\u001b[0;32m--> 270\u001b[0m image, zs \u001b[38;5;241m=\u001b[39m \u001b[38;5;28mself\u001b[39m\u001b[38;5;241m.\u001b[39mrender_attribute_many(\n\u001b[1;32m    271\u001b[0m     pose[\u001b[38;5;28;01mNone\u001b[39;00m, \u001b[38;5;241m.\u001b[39m\u001b[38;5;241m.\u001b[39m\u001b[38;5;241m.\u001b[39m], vertices, faces, ranges, attributes\n\u001b[1;32m    272\u001b[0m )\n\u001b[1;32m    273\u001b[0m \u001b[38;5;28;01mreturn\u001b[39;00m image[\u001b[38;5;241m0\u001b[39m], zs[\u001b[38;5;241m0\u001b[39m]\n",
      "File \u001b[0;32m~/b3d/b3d/renderer.py:234\u001b[0m, in \u001b[0;36mrender_attribute_many\u001b[0;34m()\u001b[0m\n\u001b[1;32m    211\u001b[0m \u001b[38;5;250m\u001b[39m\u001b[38;5;124;03m\"\"\"\u001b[39;00m\n\u001b[1;32m    212\u001b[0m \u001b[38;5;124;03mRender many scenes to an image by rasterizing and then interpolating attributes.\u001b[39;00m\n\u001b[1;32m    213\u001b[0m \n\u001b[0;32m   (...)\u001b[0m\n\u001b[1;32m    232\u001b[0m \u001b[38;5;124;03m        Depth of the intersection point. Zero if the pixel ray doesn't collide a triangle.\u001b[39;00m\n\u001b[1;32m    233\u001b[0m \u001b[38;5;124;03m\"\"\"\u001b[39;00m\n\u001b[0;32m--> 234\u001b[0m uvs, object_ids, triangle_ids, zs \u001b[38;5;241m=\u001b[39m \u001b[38;5;28mself\u001b[39m\u001b[38;5;241m.\u001b[39mrasterize_many(\n\u001b[1;32m    235\u001b[0m     poses, vertices, faces, ranges\n\u001b[1;32m    236\u001b[0m )\n\u001b[1;32m    237\u001b[0m mask \u001b[38;5;241m=\u001b[39m object_ids \u001b[38;5;241m>\u001b[39m \u001b[38;5;241m0\u001b[39m\n",
      "File \u001b[0;32m~/b3d/b3d/renderer.py:168\u001b[0m, in \u001b[0;36mrasterize_many\u001b[0;34m()\u001b[0m\n\u001b[1;32m    165\u001b[0m vertices_h \u001b[38;5;241m=\u001b[39m jnp\u001b[38;5;241m.\u001b[39mconcatenate(\n\u001b[1;32m    166\u001b[0m     [vertices, jnp\u001b[38;5;241m.\u001b[39mones((vertices\u001b[38;5;241m.\u001b[39mshape[\u001b[38;5;241m0\u001b[39m], \u001b[38;5;241m1\u001b[39m))], axis\u001b[38;5;241m=\u001b[39m\u001b[38;5;241m-\u001b[39m\u001b[38;5;241m1\u001b[39m\n\u001b[1;32m    167\u001b[0m )\n\u001b[0;32m--> 168\u001b[0m rast_out, rast_out_aux \u001b[38;5;241m=\u001b[39m \u001b[38;5;28mself\u001b[39m\u001b[38;5;241m.\u001b[39m_rasterize_partial(\n\u001b[1;32m    169\u001b[0m     poses,\n\u001b[1;32m    170\u001b[0m     vertices_h,\n\u001b[1;32m    171\u001b[0m     faces,\n\u001b[1;32m    172\u001b[0m     ranges,\n\u001b[1;32m    173\u001b[0m     \u001b[38;5;28mself\u001b[39m\u001b[38;5;241m.\u001b[39mprojection_matrix,\n\u001b[1;32m    174\u001b[0m     \u001b[38;5;28mself\u001b[39m\u001b[38;5;241m.\u001b[39mresolution,\n\u001b[1;32m    175\u001b[0m )\n\u001b[1;32m    176\u001b[0m uvs \u001b[38;5;241m=\u001b[39m rast_out[\u001b[38;5;241m.\u001b[39m\u001b[38;5;241m.\u001b[39m\u001b[38;5;241m.\u001b[39m, :\u001b[38;5;241m2\u001b[39m]\n",
      "File \u001b[0;32m~/b3d/b3d/renderer.py:85\u001b[0m, in \u001b[0;36m_rasterize\u001b[0;34m()\u001b[0m\n\u001b[1;32m     83\u001b[0m \u001b[38;5;129m@functools\u001b[39m\u001b[38;5;241m.\u001b[39mpartial(jax\u001b[38;5;241m.\u001b[39mcustom_vjp, nondiff_argnums\u001b[38;5;241m=\u001b[39m(\u001b[38;5;241m0\u001b[39m,))\n\u001b[1;32m     84\u001b[0m \u001b[38;5;28;01mdef\u001b[39;00m \u001b[38;5;21m_rasterize\u001b[39m(\u001b[38;5;28mself\u001b[39m, pose, pos, tri, ranges, projMatrix, resolution):\n\u001b[0;32m---> 85\u001b[0m     \u001b[38;5;28;01mreturn\u001b[39;00m _rasterize_fwd_custom_call(\n\u001b[1;32m     86\u001b[0m         \u001b[38;5;28mself\u001b[39m, pose, pos, tri, ranges, projMatrix, resolution\n\u001b[1;32m     87\u001b[0m     )\n",
      "File \u001b[0;32m~/b3d/b3d/renderer.py:299\u001b[0m, in \u001b[0;36m_rasterize_fwd_custom_call\u001b[0;34m()\u001b[0m\n\u001b[1;32m    296\u001b[0m \u001b[38;5;28;01mdef\u001b[39;00m \u001b[38;5;21m_rasterize_fwd_custom_call\u001b[39m(\n\u001b[1;32m    297\u001b[0m     r: \u001b[38;5;124m\"\u001b[39m\u001b[38;5;124mRenderer\u001b[39m\u001b[38;5;124m\"\u001b[39m, pose, pos, tri, ranges, projMatrix, resolution\n\u001b[1;32m    298\u001b[0m ):\n\u001b[0;32m--> 299\u001b[0m     \u001b[38;5;28;01mreturn\u001b[39;00m _build_rasterize_fwd_primitive(r)\u001b[38;5;241m.\u001b[39mbind(\n\u001b[1;32m    300\u001b[0m         pose, pos, tri, ranges, projMatrix, resolution\n\u001b[1;32m    301\u001b[0m     )\n",
      "\u001b[0;31mJaxStackTraceBeforeTransformation\u001b[0m: jaxlib.xla_extension.XlaRuntimeError: INTERNAL: stream cannot wait for other\n\nThe preceding stack trace is the source of the JAX operation that, once transformed by JAX, triggered the following exception.\n\n--------------------",
      "\nThe above exception was the direct cause of the following exception:\n",
      "\u001b[0;31mXlaRuntimeError\u001b[0m                           Traceback (most recent call last)",
      "Cell \u001b[0;32mIn[9], line 12\u001b[0m\n\u001b[1;32m      1\u001b[0m model \u001b[38;5;241m=\u001b[39m model_factory(\n\u001b[1;32m      2\u001b[0m     max_T \u001b[38;5;241m=\u001b[39m \u001b[38;5;241m100\u001b[39m,\n\u001b[1;32m      3\u001b[0m     width \u001b[38;5;241m=\u001b[39m \u001b[38;5;241m320\u001b[39m,\n\u001b[0;32m   (...)\u001b[0m\n\u001b[1;32m      8\u001b[0m     max_depth \u001b[38;5;241m=\u001b[39m \u001b[38;5;241m20.0\u001b[39m\n\u001b[1;32m      9\u001b[0m )\n\u001b[1;32m     11\u001b[0m key \u001b[38;5;241m=\u001b[39m jax\u001b[38;5;241m.\u001b[39mrandom\u001b[38;5;241m.\u001b[39mPRNGKey(\u001b[38;5;241m3\u001b[39m)\n\u001b[0;32m---> 12\u001b[0m trace \u001b[38;5;241m=\u001b[39m \u001b[43mmodel\u001b[49m\u001b[38;5;241;43m.\u001b[39;49m\u001b[43msimulate\u001b[49m\u001b[43m(\u001b[49m\u001b[43mkey\u001b[49m\u001b[43m,\u001b[49m\u001b[43m \u001b[49m\u001b[43m(\u001b[49m\u001b[38;5;241;43m10\u001b[39;49m\u001b[43m,\u001b[49m\u001b[43m)\u001b[49m\u001b[43m)\u001b[49m\n",
      "    \u001b[0;31m[... skipping hidden 1 frame]\u001b[0m\n",
      "File \u001b[0;32m<@beartype(genjax._src.generative_functions.static.static_gen_fn.StaticGenerativeFunction.simulate) at 0x7fb48d124a60>:53\u001b[0m, in \u001b[0;36msimulate\u001b[0;34m(__beartype_func, __beartype_conf, __beartype_get_violation, __beartype_object_140413803992640, __beartype_object_94699217941616, *args, **kwargs)\u001b[0m\n",
      "File \u001b[0;32m/opt/conda/envs/b3d/lib/python3.10/site-packages/genjax/_src/generative_functions/static/static_gen_fn.py:129\u001b[0m, in \u001b[0;36mStaticGenerativeFunction.simulate\u001b[0;34m(self, key, args)\u001b[0m\n\u001b[1;32m    120\u001b[0m \u001b[38;5;129m@typecheck\u001b[39m\n\u001b[1;32m    121\u001b[0m \u001b[38;5;28;01mdef\u001b[39;00m \u001b[38;5;21msimulate\u001b[39m(\n\u001b[1;32m    122\u001b[0m     \u001b[38;5;28mself\u001b[39m,\n\u001b[1;32m    123\u001b[0m     key: PRNGKey,\n\u001b[1;32m    124\u001b[0m     args: Tuple,\n\u001b[1;32m    125\u001b[0m ) \u001b[38;5;241m-\u001b[39m\u001b[38;5;241m>\u001b[39m StaticTrace:\n\u001b[1;32m    126\u001b[0m     syntax_sugar_handled \u001b[38;5;241m=\u001b[39m push_trace_overload_stack(\n\u001b[1;32m    127\u001b[0m         handler_trace_with_static, \u001b[38;5;28mself\u001b[39m\u001b[38;5;241m.\u001b[39msource\n\u001b[1;32m    128\u001b[0m     )\n\u001b[0;32m--> 129\u001b[0m     (args, retval, address_choices, score), cache_state \u001b[38;5;241m=\u001b[39m \u001b[43msimulate_transform\u001b[49m\u001b[43m(\u001b[49m\n\u001b[1;32m    130\u001b[0m \u001b[43m        \u001b[49m\u001b[43msyntax_sugar_handled\u001b[49m\n\u001b[1;32m    131\u001b[0m \u001b[43m    \u001b[49m\u001b[43m)\u001b[49m\u001b[43m(\u001b[49m\u001b[43mkey\u001b[49m\u001b[43m,\u001b[49m\u001b[43m \u001b[49m\u001b[43margs\u001b[49m\u001b[43m)\u001b[49m\n\u001b[1;32m    132\u001b[0m     \u001b[38;5;28;01mreturn\u001b[39;00m StaticTrace(\n\u001b[1;32m    133\u001b[0m         \u001b[38;5;28mself\u001b[39m,\n\u001b[1;32m    134\u001b[0m         args,\n\u001b[0;32m   (...)\u001b[0m\n\u001b[1;32m    138\u001b[0m         score,\n\u001b[1;32m    139\u001b[0m     )\n",
      "File \u001b[0;32m/opt/conda/envs/b3d/lib/python3.10/site-packages/genjax/_src/generative_functions/static/static_transforms.py:285\u001b[0m, in \u001b[0;36msimulate_transform.<locals>.wrapper\u001b[0;34m(key, args)\u001b[0m\n\u001b[1;32m    282\u001b[0m \u001b[38;5;129m@functools\u001b[39m\u001b[38;5;241m.\u001b[39mwraps(source_fn)\n\u001b[1;32m    283\u001b[0m \u001b[38;5;28;01mdef\u001b[39;00m \u001b[38;5;21mwrapper\u001b[39m(key, args):\n\u001b[1;32m    284\u001b[0m     stateful_handler \u001b[38;5;241m=\u001b[39m SimulateHandler(key)\n\u001b[0;32m--> 285\u001b[0m     retval \u001b[38;5;241m=\u001b[39m \u001b[43mforward\u001b[49m\u001b[43m(\u001b[49m\u001b[43msource_fn\u001b[49m\u001b[43m)\u001b[49m\u001b[43m(\u001b[49m\u001b[43mstateful_handler\u001b[49m\u001b[43m,\u001b[49m\u001b[43m \u001b[49m\u001b[38;5;241;43m*\u001b[39;49m\u001b[43margs\u001b[49m\u001b[43m)\u001b[49m\n\u001b[1;32m    286\u001b[0m     (\n\u001b[1;32m    287\u001b[0m         address_choices,\n\u001b[1;32m    288\u001b[0m         cache_state,\n\u001b[1;32m    289\u001b[0m         score,\n\u001b[1;32m    290\u001b[0m     ) \u001b[38;5;241m=\u001b[39m stateful_handler\u001b[38;5;241m.\u001b[39myield_state()\n\u001b[1;32m    291\u001b[0m     \u001b[38;5;28;01mreturn\u001b[39;00m (\n\u001b[1;32m    292\u001b[0m         args,\n\u001b[1;32m    293\u001b[0m         retval,\n\u001b[1;32m    294\u001b[0m         address_choices,\n\u001b[1;32m    295\u001b[0m         score,\n\u001b[1;32m    296\u001b[0m     ), cache_state\n",
      "File \u001b[0;32m<@beartype(genjax._src.core.interpreters.forward.forward.wrapped) at 0x7fb4cd0aab00>:31\u001b[0m, in \u001b[0;36mwrapped\u001b[0;34m(__beartype_func, __beartype_conf, __beartype_get_violation, __beartype_object_94699208219376, *args, **kwargs)\u001b[0m\n",
      "File \u001b[0;32m/opt/conda/envs/b3d/lib/python3.10/site-packages/genjax/_src/core/interpreters/forward.py:242\u001b[0m, in \u001b[0;36mforward.<locals>.wrapped\u001b[0;34m(stateful_handler, *args)\u001b[0m\n\u001b[1;32m    238\u001b[0m \u001b[38;5;129m@functools\u001b[39m\u001b[38;5;241m.\u001b[39mwraps(f)\n\u001b[1;32m    239\u001b[0m \u001b[38;5;129m@typecheck\u001b[39m\n\u001b[1;32m    240\u001b[0m \u001b[38;5;28;01mdef\u001b[39;00m \u001b[38;5;21mwrapped\u001b[39m(stateful_handler: StatefulHandler, \u001b[38;5;241m*\u001b[39margs):\n\u001b[1;32m    241\u001b[0m     interpreter \u001b[38;5;241m=\u001b[39m ForwardInterpreter()\n\u001b[0;32m--> 242\u001b[0m     \u001b[38;5;28;01mreturn\u001b[39;00m \u001b[43minterpreter\u001b[49m\u001b[38;5;241;43m.\u001b[39;49m\u001b[43mrun_interpreter\u001b[49m\u001b[43m(\u001b[49m\n\u001b[1;32m    243\u001b[0m \u001b[43m        \u001b[49m\u001b[43mstateful_handler\u001b[49m\u001b[43m,\u001b[49m\n\u001b[1;32m    244\u001b[0m \u001b[43m        \u001b[49m\u001b[43mf\u001b[49m\u001b[43m,\u001b[49m\n\u001b[1;32m    245\u001b[0m \u001b[43m        \u001b[49m\u001b[38;5;241;43m*\u001b[39;49m\u001b[43margs\u001b[49m\u001b[43m,\u001b[49m\n\u001b[1;32m    246\u001b[0m \u001b[43m    \u001b[49m\u001b[43m)\u001b[49m\n",
      "    \u001b[0;31m[... skipping hidden 1 frame]\u001b[0m\n",
      "File \u001b[0;32m/opt/conda/envs/b3d/lib/python3.10/site-packages/genjax/_src/core/interpreters/forward.py:227\u001b[0m, in \u001b[0;36mForwardInterpreter.run_interpreter\u001b[0;34m(self, stateful_handler, fn, *args, **kwargs)\u001b[0m\n\u001b[1;32m    225\u001b[0m _closed_jaxpr, (flat_args, _, out_tree) \u001b[38;5;241m=\u001b[39m stage(_inner)(\u001b[38;5;241m*\u001b[39margs)\n\u001b[1;32m    226\u001b[0m _jaxpr, consts \u001b[38;5;241m=\u001b[39m _closed_jaxpr\u001b[38;5;241m.\u001b[39mjaxpr, _closed_jaxpr\u001b[38;5;241m.\u001b[39mliterals\n\u001b[0;32m--> 227\u001b[0m flat_out \u001b[38;5;241m=\u001b[39m \u001b[38;5;28;43mself\u001b[39;49m\u001b[38;5;241;43m.\u001b[39;49m\u001b[43m_eval_jaxpr_forward\u001b[49m\u001b[43m(\u001b[49m\n\u001b[1;32m    228\u001b[0m \u001b[43m    \u001b[49m\u001b[43mstateful_handler\u001b[49m\u001b[43m,\u001b[49m\n\u001b[1;32m    229\u001b[0m \u001b[43m    \u001b[49m\u001b[43m_jaxpr\u001b[49m\u001b[43m,\u001b[49m\n\u001b[1;32m    230\u001b[0m \u001b[43m    \u001b[49m\u001b[43mconsts\u001b[49m\u001b[43m,\u001b[49m\n\u001b[1;32m    231\u001b[0m \u001b[43m    \u001b[49m\u001b[43mflat_args\u001b[49m\u001b[43m,\u001b[49m\n\u001b[1;32m    232\u001b[0m \u001b[43m\u001b[49m\u001b[43m)\u001b[49m\n\u001b[1;32m    233\u001b[0m \u001b[38;5;28;01mreturn\u001b[39;00m jtu\u001b[38;5;241m.\u001b[39mtree_unflatten(out_tree(), flat_out)\n",
      "    \u001b[0;31m[... skipping hidden 1 frame]\u001b[0m\n",
      "File \u001b[0;32m/opt/conda/envs/b3d/lib/python3.10/site-packages/genjax/_src/core/interpreters/forward.py:212\u001b[0m, in \u001b[0;36mForwardInterpreter._eval_jaxpr_forward\u001b[0;34m(self, stateful_handler, _jaxpr, consts, args)\u001b[0m\n\u001b[1;32m    210\u001b[0m args \u001b[38;5;241m=\u001b[39m subfuns \u001b[38;5;241m+\u001b[39m invals\n\u001b[1;32m    211\u001b[0m \u001b[38;5;28;01mif\u001b[39;00m stateful_handler\u001b[38;5;241m.\u001b[39mhandles(eqn\u001b[38;5;241m.\u001b[39mprimitive):\n\u001b[0;32m--> 212\u001b[0m     outvals \u001b[38;5;241m=\u001b[39m \u001b[43mstateful_handler\u001b[49m\u001b[38;5;241;43m.\u001b[39;49m\u001b[43mdispatch\u001b[49m\u001b[43m(\u001b[49m\u001b[43meqn\u001b[49m\u001b[38;5;241;43m.\u001b[39;49m\u001b[43mprimitive\u001b[49m\u001b[43m,\u001b[49m\u001b[43m \u001b[49m\u001b[38;5;241;43m*\u001b[39;49m\u001b[43margs\u001b[49m\u001b[43m,\u001b[49m\u001b[43m \u001b[49m\u001b[38;5;241;43m*\u001b[39;49m\u001b[38;5;241;43m*\u001b[39;49m\u001b[43mparams\u001b[49m\u001b[43m)\u001b[49m\n\u001b[1;32m    213\u001b[0m \u001b[38;5;28;01melse\u001b[39;00m:\n\u001b[1;32m    214\u001b[0m     outvals \u001b[38;5;241m=\u001b[39m eqn\u001b[38;5;241m.\u001b[39mprimitive\u001b[38;5;241m.\u001b[39mbind(\u001b[38;5;241m*\u001b[39margs, \u001b[38;5;241m*\u001b[39m\u001b[38;5;241m*\u001b[39mparams)\n",
      "File \u001b[0;32m/opt/conda/envs/b3d/lib/python3.10/site-packages/genjax/_src/generative_functions/static/static_transforms.py:234\u001b[0m, in \u001b[0;36mStaticLanguageHandler.dispatch\u001b[0;34m(self, prim, *tracers, **_params)\u001b[0m\n\u001b[1;32m    232\u001b[0m \u001b[38;5;28;01mdef\u001b[39;00m \u001b[38;5;21mdispatch\u001b[39m(\u001b[38;5;28mself\u001b[39m, prim, \u001b[38;5;241m*\u001b[39mtracers, \u001b[38;5;241m*\u001b[39m\u001b[38;5;241m*\u001b[39m_params):\n\u001b[1;32m    233\u001b[0m     \u001b[38;5;28;01mif\u001b[39;00m prim \u001b[38;5;241m==\u001b[39m trace_p:\n\u001b[0;32m--> 234\u001b[0m         \u001b[38;5;28;01mreturn\u001b[39;00m \u001b[38;5;28;43mself\u001b[39;49m\u001b[38;5;241;43m.\u001b[39;49m\u001b[43mhandle_trace\u001b[49m\u001b[43m(\u001b[49m\u001b[38;5;241;43m*\u001b[39;49m\u001b[43mtracers\u001b[49m\u001b[43m,\u001b[49m\u001b[43m \u001b[49m\u001b[38;5;241;43m*\u001b[39;49m\u001b[38;5;241;43m*\u001b[39;49m\u001b[43m_params\u001b[49m\u001b[43m)\u001b[49m\n\u001b[1;32m    235\u001b[0m     \u001b[38;5;28;01melif\u001b[39;00m prim \u001b[38;5;241m==\u001b[39m cache_p:\n\u001b[1;32m    236\u001b[0m         \u001b[38;5;28;01mreturn\u001b[39;00m \u001b[38;5;28mself\u001b[39m\u001b[38;5;241m.\u001b[39mhandle_cache(\u001b[38;5;241m*\u001b[39mtracers, \u001b[38;5;241m*\u001b[39m\u001b[38;5;241m*\u001b[39m_params)\n",
      "File \u001b[0;32m/opt/conda/envs/b3d/lib/python3.10/site-packages/genjax/_src/generative_functions/static/static_transforms.py:270\u001b[0m, in \u001b[0;36mSimulateHandler.handle_trace\u001b[0;34m(self, *tracers, **_params)\u001b[0m\n\u001b[1;32m    268\u001b[0m call_args \u001b[38;5;241m=\u001b[39m \u001b[38;5;28mtuple\u001b[39m(call_args)\n\u001b[1;32m    269\u001b[0m \u001b[38;5;28mself\u001b[39m\u001b[38;5;241m.\u001b[39mkey, sub_key \u001b[38;5;241m=\u001b[39m jax\u001b[38;5;241m.\u001b[39mrandom\u001b[38;5;241m.\u001b[39msplit(\u001b[38;5;28mself\u001b[39m\u001b[38;5;241m.\u001b[39mkey)\n\u001b[0;32m--> 270\u001b[0m tr \u001b[38;5;241m=\u001b[39m \u001b[43mgen_fn\u001b[49m\u001b[38;5;241;43m.\u001b[39;49m\u001b[43msimulate\u001b[49m\u001b[43m(\u001b[49m\u001b[43msub_key\u001b[49m\u001b[43m,\u001b[49m\u001b[43m \u001b[49m\u001b[43mcall_args\u001b[49m\u001b[43m)\u001b[49m\n\u001b[1;32m    271\u001b[0m score \u001b[38;5;241m=\u001b[39m tr\u001b[38;5;241m.\u001b[39mget_score()\n\u001b[1;32m    272\u001b[0m \u001b[38;5;28mself\u001b[39m\u001b[38;5;241m.\u001b[39mset_choice_state(addr, tr)\n",
      "    \u001b[0;31m[... skipping hidden 1 frame]\u001b[0m\n",
      "File \u001b[0;32m<@beartype(genjax._src.generative_functions.combinators.vector.map_combinator.MapCombinator.simulate) at 0x7fb48d15b0a0>:53\u001b[0m, in \u001b[0;36msimulate\u001b[0;34m(__beartype_func, __beartype_conf, __beartype_get_violation, __beartype_object_140413803992640, __beartype_object_94699213113888, *args, **kwargs)\u001b[0m\n",
      "File \u001b[0;32m/opt/conda/envs/b3d/lib/python3.10/site-packages/genjax/_src/generative_functions/combinators/vector/map_combinator.py:212\u001b[0m, in \u001b[0;36mMapCombinator.simulate\u001b[0;34m(self, key, args)\u001b[0m\n\u001b[1;32m    210\u001b[0m broadcast_dim_length \u001b[38;5;241m=\u001b[39m \u001b[38;5;28mself\u001b[39m\u001b[38;5;241m.\u001b[39m_static_broadcast_dim_length(args)\n\u001b[1;32m    211\u001b[0m sub_keys \u001b[38;5;241m=\u001b[39m jax\u001b[38;5;241m.\u001b[39mrandom\u001b[38;5;241m.\u001b[39msplit(key, broadcast_dim_length)\n\u001b[0;32m--> 212\u001b[0m tr \u001b[38;5;241m=\u001b[39m \u001b[43mjax\u001b[49m\u001b[38;5;241;43m.\u001b[39;49m\u001b[43mvmap\u001b[49m\u001b[43m(\u001b[49m\u001b[38;5;28;43mself\u001b[39;49m\u001b[38;5;241;43m.\u001b[39;49m\u001b[43mkernel\u001b[49m\u001b[38;5;241;43m.\u001b[39;49m\u001b[43msimulate\u001b[49m\u001b[43m,\u001b[49m\u001b[43m \u001b[49m\u001b[43min_axes\u001b[49m\u001b[38;5;241;43m=\u001b[39;49m\u001b[43m(\u001b[49m\u001b[38;5;241;43m0\u001b[39;49m\u001b[43m,\u001b[49m\u001b[43m \u001b[49m\u001b[38;5;28;43mself\u001b[39;49m\u001b[38;5;241;43m.\u001b[39;49m\u001b[43min_axes\u001b[49m\u001b[43m)\u001b[49m\u001b[43m)\u001b[49m\u001b[43m(\u001b[49m\u001b[43msub_keys\u001b[49m\u001b[43m,\u001b[49m\u001b[43m \u001b[49m\u001b[43margs\u001b[49m\u001b[43m)\u001b[49m\n\u001b[1;32m    213\u001b[0m retval \u001b[38;5;241m=\u001b[39m tr\u001b[38;5;241m.\u001b[39mget_retval()\n\u001b[1;32m    214\u001b[0m scores \u001b[38;5;241m=\u001b[39m tr\u001b[38;5;241m.\u001b[39mget_score()\n",
      "    \u001b[0;31m[... skipping hidden 4 frame]\u001b[0m\n",
      "File \u001b[0;32m<@beartype(genjax._src.generative_functions.static.static_gen_fn.StaticGenerativeFunction.simulate) at 0x7fb48d124a60>:53\u001b[0m, in \u001b[0;36msimulate\u001b[0;34m(__beartype_func, __beartype_conf, __beartype_get_violation, __beartype_object_140413803992640, __beartype_object_94699217941616, *args, **kwargs)\u001b[0m\n",
      "File \u001b[0;32m/opt/conda/envs/b3d/lib/python3.10/site-packages/genjax/_src/generative_functions/static/static_gen_fn.py:129\u001b[0m, in \u001b[0;36mStaticGenerativeFunction.simulate\u001b[0;34m(self, key, args)\u001b[0m\n\u001b[1;32m    120\u001b[0m \u001b[38;5;129m@typecheck\u001b[39m\n\u001b[1;32m    121\u001b[0m \u001b[38;5;28;01mdef\u001b[39;00m \u001b[38;5;21msimulate\u001b[39m(\n\u001b[1;32m    122\u001b[0m     \u001b[38;5;28mself\u001b[39m,\n\u001b[1;32m    123\u001b[0m     key: PRNGKey,\n\u001b[1;32m    124\u001b[0m     args: Tuple,\n\u001b[1;32m    125\u001b[0m ) \u001b[38;5;241m-\u001b[39m\u001b[38;5;241m>\u001b[39m StaticTrace:\n\u001b[1;32m    126\u001b[0m     syntax_sugar_handled \u001b[38;5;241m=\u001b[39m push_trace_overload_stack(\n\u001b[1;32m    127\u001b[0m         handler_trace_with_static, \u001b[38;5;28mself\u001b[39m\u001b[38;5;241m.\u001b[39msource\n\u001b[1;32m    128\u001b[0m     )\n\u001b[0;32m--> 129\u001b[0m     (args, retval, address_choices, score), cache_state \u001b[38;5;241m=\u001b[39m \u001b[43msimulate_transform\u001b[49m\u001b[43m(\u001b[49m\n\u001b[1;32m    130\u001b[0m \u001b[43m        \u001b[49m\u001b[43msyntax_sugar_handled\u001b[49m\n\u001b[1;32m    131\u001b[0m \u001b[43m    \u001b[49m\u001b[43m)\u001b[49m\u001b[43m(\u001b[49m\u001b[43mkey\u001b[49m\u001b[43m,\u001b[49m\u001b[43m \u001b[49m\u001b[43margs\u001b[49m\u001b[43m)\u001b[49m\n\u001b[1;32m    132\u001b[0m     \u001b[38;5;28;01mreturn\u001b[39;00m StaticTrace(\n\u001b[1;32m    133\u001b[0m         \u001b[38;5;28mself\u001b[39m,\n\u001b[1;32m    134\u001b[0m         args,\n\u001b[0;32m   (...)\u001b[0m\n\u001b[1;32m    138\u001b[0m         score,\n\u001b[1;32m    139\u001b[0m     )\n",
      "File \u001b[0;32m/opt/conda/envs/b3d/lib/python3.10/site-packages/genjax/_src/generative_functions/static/static_transforms.py:285\u001b[0m, in \u001b[0;36msimulate_transform.<locals>.wrapper\u001b[0;34m(key, args)\u001b[0m\n\u001b[1;32m    282\u001b[0m \u001b[38;5;129m@functools\u001b[39m\u001b[38;5;241m.\u001b[39mwraps(source_fn)\n\u001b[1;32m    283\u001b[0m \u001b[38;5;28;01mdef\u001b[39;00m \u001b[38;5;21mwrapper\u001b[39m(key, args):\n\u001b[1;32m    284\u001b[0m     stateful_handler \u001b[38;5;241m=\u001b[39m SimulateHandler(key)\n\u001b[0;32m--> 285\u001b[0m     retval \u001b[38;5;241m=\u001b[39m \u001b[43mforward\u001b[49m\u001b[43m(\u001b[49m\u001b[43msource_fn\u001b[49m\u001b[43m)\u001b[49m\u001b[43m(\u001b[49m\u001b[43mstateful_handler\u001b[49m\u001b[43m,\u001b[49m\u001b[43m \u001b[49m\u001b[38;5;241;43m*\u001b[39;49m\u001b[43margs\u001b[49m\u001b[43m)\u001b[49m\n\u001b[1;32m    286\u001b[0m     (\n\u001b[1;32m    287\u001b[0m         address_choices,\n\u001b[1;32m    288\u001b[0m         cache_state,\n\u001b[1;32m    289\u001b[0m         score,\n\u001b[1;32m    290\u001b[0m     ) \u001b[38;5;241m=\u001b[39m stateful_handler\u001b[38;5;241m.\u001b[39myield_state()\n\u001b[1;32m    291\u001b[0m     \u001b[38;5;28;01mreturn\u001b[39;00m (\n\u001b[1;32m    292\u001b[0m         args,\n\u001b[1;32m    293\u001b[0m         retval,\n\u001b[1;32m    294\u001b[0m         address_choices,\n\u001b[1;32m    295\u001b[0m         score,\n\u001b[1;32m    296\u001b[0m     ), cache_state\n",
      "File \u001b[0;32m<@beartype(genjax._src.core.interpreters.forward.forward.wrapped) at 0x7fb4ccde1e10>:31\u001b[0m, in \u001b[0;36mwrapped\u001b[0;34m(__beartype_func, __beartype_conf, __beartype_get_violation, __beartype_object_94699208219376, *args, **kwargs)\u001b[0m\n",
      "File \u001b[0;32m/opt/conda/envs/b3d/lib/python3.10/site-packages/genjax/_src/core/interpreters/forward.py:242\u001b[0m, in \u001b[0;36mforward.<locals>.wrapped\u001b[0;34m(stateful_handler, *args)\u001b[0m\n\u001b[1;32m    238\u001b[0m \u001b[38;5;129m@functools\u001b[39m\u001b[38;5;241m.\u001b[39mwraps(f)\n\u001b[1;32m    239\u001b[0m \u001b[38;5;129m@typecheck\u001b[39m\n\u001b[1;32m    240\u001b[0m \u001b[38;5;28;01mdef\u001b[39;00m \u001b[38;5;21mwrapped\u001b[39m(stateful_handler: StatefulHandler, \u001b[38;5;241m*\u001b[39margs):\n\u001b[1;32m    241\u001b[0m     interpreter \u001b[38;5;241m=\u001b[39m ForwardInterpreter()\n\u001b[0;32m--> 242\u001b[0m     \u001b[38;5;28;01mreturn\u001b[39;00m \u001b[43minterpreter\u001b[49m\u001b[38;5;241;43m.\u001b[39;49m\u001b[43mrun_interpreter\u001b[49m\u001b[43m(\u001b[49m\n\u001b[1;32m    243\u001b[0m \u001b[43m        \u001b[49m\u001b[43mstateful_handler\u001b[49m\u001b[43m,\u001b[49m\n\u001b[1;32m    244\u001b[0m \u001b[43m        \u001b[49m\u001b[43mf\u001b[49m\u001b[43m,\u001b[49m\n\u001b[1;32m    245\u001b[0m \u001b[43m        \u001b[49m\u001b[38;5;241;43m*\u001b[39;49m\u001b[43margs\u001b[49m\u001b[43m,\u001b[49m\n\u001b[1;32m    246\u001b[0m \u001b[43m    \u001b[49m\u001b[43m)\u001b[49m\n",
      "    \u001b[0;31m[... skipping hidden 1 frame]\u001b[0m\n",
      "File \u001b[0;32m/opt/conda/envs/b3d/lib/python3.10/site-packages/genjax/_src/core/interpreters/forward.py:227\u001b[0m, in \u001b[0;36mForwardInterpreter.run_interpreter\u001b[0;34m(self, stateful_handler, fn, *args, **kwargs)\u001b[0m\n\u001b[1;32m    225\u001b[0m _closed_jaxpr, (flat_args, _, out_tree) \u001b[38;5;241m=\u001b[39m stage(_inner)(\u001b[38;5;241m*\u001b[39margs)\n\u001b[1;32m    226\u001b[0m _jaxpr, consts \u001b[38;5;241m=\u001b[39m _closed_jaxpr\u001b[38;5;241m.\u001b[39mjaxpr, _closed_jaxpr\u001b[38;5;241m.\u001b[39mliterals\n\u001b[0;32m--> 227\u001b[0m flat_out \u001b[38;5;241m=\u001b[39m \u001b[38;5;28;43mself\u001b[39;49m\u001b[38;5;241;43m.\u001b[39;49m\u001b[43m_eval_jaxpr_forward\u001b[49m\u001b[43m(\u001b[49m\n\u001b[1;32m    228\u001b[0m \u001b[43m    \u001b[49m\u001b[43mstateful_handler\u001b[49m\u001b[43m,\u001b[49m\n\u001b[1;32m    229\u001b[0m \u001b[43m    \u001b[49m\u001b[43m_jaxpr\u001b[49m\u001b[43m,\u001b[49m\n\u001b[1;32m    230\u001b[0m \u001b[43m    \u001b[49m\u001b[43mconsts\u001b[49m\u001b[43m,\u001b[49m\n\u001b[1;32m    231\u001b[0m \u001b[43m    \u001b[49m\u001b[43mflat_args\u001b[49m\u001b[43m,\u001b[49m\n\u001b[1;32m    232\u001b[0m \u001b[43m\u001b[49m\u001b[43m)\u001b[49m\n\u001b[1;32m    233\u001b[0m \u001b[38;5;28;01mreturn\u001b[39;00m jtu\u001b[38;5;241m.\u001b[39mtree_unflatten(out_tree(), flat_out)\n",
      "    \u001b[0;31m[... skipping hidden 1 frame]\u001b[0m\n",
      "File \u001b[0;32m/opt/conda/envs/b3d/lib/python3.10/site-packages/genjax/_src/core/interpreters/forward.py:214\u001b[0m, in \u001b[0;36mForwardInterpreter._eval_jaxpr_forward\u001b[0;34m(self, stateful_handler, _jaxpr, consts, args)\u001b[0m\n\u001b[1;32m    212\u001b[0m     outvals \u001b[38;5;241m=\u001b[39m stateful_handler\u001b[38;5;241m.\u001b[39mdispatch(eqn\u001b[38;5;241m.\u001b[39mprimitive, \u001b[38;5;241m*\u001b[39margs, \u001b[38;5;241m*\u001b[39m\u001b[38;5;241m*\u001b[39mparams)\n\u001b[1;32m    213\u001b[0m \u001b[38;5;28;01melse\u001b[39;00m:\n\u001b[0;32m--> 214\u001b[0m     outvals \u001b[38;5;241m=\u001b[39m \u001b[43meqn\u001b[49m\u001b[38;5;241;43m.\u001b[39;49m\u001b[43mprimitive\u001b[49m\u001b[38;5;241;43m.\u001b[39;49m\u001b[43mbind\u001b[49m\u001b[43m(\u001b[49m\u001b[38;5;241;43m*\u001b[39;49m\u001b[43margs\u001b[49m\u001b[43m,\u001b[49m\u001b[43m \u001b[49m\u001b[38;5;241;43m*\u001b[39;49m\u001b[38;5;241;43m*\u001b[39;49m\u001b[43mparams\u001b[49m\u001b[43m)\u001b[49m\n\u001b[1;32m    215\u001b[0m \u001b[38;5;28;01mif\u001b[39;00m \u001b[38;5;129;01mnot\u001b[39;00m eqn\u001b[38;5;241m.\u001b[39mprimitive\u001b[38;5;241m.\u001b[39mmultiple_results:\n\u001b[1;32m    216\u001b[0m     outvals \u001b[38;5;241m=\u001b[39m [outvals]\n",
      "    \u001b[0;31m[... skipping hidden 24 frame]\u001b[0m\n",
      "File \u001b[0;32m/opt/conda/envs/b3d/lib/python3.10/site-packages/jax/_src/interpreters/pxla.py:1213\u001b[0m, in \u001b[0;36mExecuteReplicated.__call__\u001b[0;34m(self, *args)\u001b[0m\n\u001b[1;32m   1211\u001b[0m   \u001b[38;5;28mself\u001b[39m\u001b[38;5;241m.\u001b[39m_handle_token_bufs(result_token_bufs, sharded_runtime_token)\n\u001b[1;32m   1212\u001b[0m \u001b[38;5;28;01melse\u001b[39;00m:\n\u001b[0;32m-> 1213\u001b[0m   results \u001b[38;5;241m=\u001b[39m \u001b[38;5;28;43mself\u001b[39;49m\u001b[38;5;241;43m.\u001b[39;49m\u001b[43mxla_executable\u001b[49m\u001b[38;5;241;43m.\u001b[39;49m\u001b[43mexecute_sharded\u001b[49m\u001b[43m(\u001b[49m\u001b[43minput_bufs\u001b[49m\u001b[43m)\u001b[49m\n\u001b[1;32m   1214\u001b[0m \u001b[38;5;28;01mif\u001b[39;00m dispatch\u001b[38;5;241m.\u001b[39mneeds_check_special():\n\u001b[1;32m   1215\u001b[0m   out_arrays \u001b[38;5;241m=\u001b[39m results\u001b[38;5;241m.\u001b[39mdisassemble_into_single_device_arrays()\n",
      "\u001b[0;31mXlaRuntimeError\u001b[0m: INTERNAL: stream cannot wait for other"
     ]
    }
   ],
   "source": [
    "model = model_factory(\n",
    "    max_T = 100,\n",
    "    width = 320,\n",
    "    height = 240,\n",
    "    pose_kernel_params = (1.0, 1.0),\n",
    "    max_keypoint_mesh_width = 4,\n",
    "    max_keypoint_mesh_height = 4,\n",
    "    max_depth = 20.0\n",
    ")\n",
    "\n",
    "key = jax.random.PRNGKey(3)\n",
    "trace = model.simulate(key, (10,))"
   ]
  },
  {
   "cell_type": "code",
   "execution_count": 8,
   "metadata": {},
   "outputs": [],
   "source": [
    "rerun_log_trace(trace)"
   ]
  },
  {
   "cell_type": "code",
   "execution_count": null,
   "metadata": {},
   "outputs": [],
   "source": []
  },
  {
   "cell_type": "code",
   "execution_count": null,
   "metadata": {},
   "outputs": [],
   "source": []
  },
  {
   "cell_type": "code",
   "execution_count": null,
   "metadata": {},
   "outputs": [],
   "source": []
  },
  {
   "cell_type": "code",
   "execution_count": null,
   "metadata": {},
   "outputs": [],
   "source": []
  },
  {
   "cell_type": "code",
   "execution_count": null,
   "metadata": {},
   "outputs": [],
   "source": []
  },
  {
   "cell_type": "code",
   "execution_count": null,
   "metadata": {},
   "outputs": [],
   "source": []
  },
  {
   "cell_type": "code",
   "execution_count": null,
   "metadata": {},
   "outputs": [],
   "source": []
  },
  {
   "cell_type": "code",
   "execution_count": 79,
   "metadata": {},
   "outputs": [
    {
     "data": {
      "text/plain": [
       "(64, 64, 4)"
      ]
     },
     "execution_count": 79,
     "metadata": {},
     "output_type": "execute_result"
    }
   ],
   "source": [
    "from tracking.mesh import Mesh\n",
    "\n",
    "# sq = jax.vmap(\n",
    "#     lambda x: Mesh.square_mesh([0., 0.], [x, x], jnp.array([0., 0., 0., 1.]))\n",
    "# )(jnp.array([20., 30.]))\n",
    "\n",
    "sq = Mesh.square_mesh(jnp.array([0.1, 0.]), jnp.array([20., 20.]), jnp.array([0., 0., 0., 1.]))\n",
    "\n",
    "def render_mesh(mesh, pose):\n",
    "    return mesh.to_image(\n",
    "            jnp.zeros(3),\n",
    "            64, 64,\n",
    "            lambda rgbd: rgbd[-1],\n",
    "            jnp.array([1., 1., 1., 10.])\n",
    "        )\n",
    "\n",
    "img = jax.vmap(render_mesh, in_axes=(None, 0))(sq, jnp.zeros((2, 3)))\n",
    "img[0].shape"
   ]
  },
  {
   "cell_type": "code",
   "execution_count": 88,
   "metadata": {},
   "outputs": [
    {
     "data": {
      "text/plain": [
       "(22, 4)"
      ]
     },
     "execution_count": 88,
     "metadata": {},
     "output_type": "execute_result"
    }
   ],
   "source": [
    "from tracking.mesh import Mesh\n",
    "\n",
    "sq = Mesh.square_mesh(jnp.array([.1, 0.]), jnp.array([20., 20.]), jnp.array([0., 0., 0., 1.]))\n",
    "\n",
    "img = sq.to_image(jnp.zeros(3), 22, 22,\n",
    "        lambda rgbd: rgbd[-1],\n",
    "        jnp.array([1., 1., 1., 10.])\n",
    "    )\n",
    "\n",
    "img[0].shape"
   ]
  },
  {
   "cell_type": "code",
   "execution_count": 89,
   "metadata": {},
   "outputs": [
    {
     "name": "stderr",
     "output_type": "stream",
     "text": [
      "Clipping input data to the valid range for imshow with RGB data ([0..1] for floats or [0..255] for integers).\n"
     ]
    },
    {
     "data": {
      "text/plain": [
       "<matplotlib.image.AxesImage at 0x7f213f279960>"
      ]
     },
     "execution_count": 89,
     "metadata": {},
     "output_type": "execute_result"
    },
    {
     "data": {
      "image/png": "[encoded data removed]",
      "text/plain": [
       "<Figure size 640x480 with 1 Axes>"
      ]
     },
     "metadata": {},
     "output_type": "display_data"
    }
   ],
   "source": [
    "import matplotlib.pyplot as plt\n",
    "plt.imshow(img)"
   ]
  },
  {
   "cell_type": "code",
   "execution_count": 124,
   "metadata": {},
   "outputs": [
    {
     "data": {
      "text/plain": [
       "(400, 2)"
      ]
     },
     "execution_count": 124,
     "metadata": {},
     "output_type": "execute_result"
    }
   ],
   "source": [
    "width, height = 20, 20\n",
    "bottom_lefts = jnp.meshgrid(jnp.arange(width), jnp.arange(height))\n",
    "bottom_lefts = jnp.stack(bottom_lefts, axis=-1).reshape(-1, 2)\n",
    "bottom_lefts.shape"
   ]
  },
  {
   "cell_type": "code",
   "execution_count": 131,
   "metadata": {},
   "outputs": [],
   "source": [
    "from tracking.mesh import Mesh"
   ]
  },
  {
   "cell_type": "code",
   "execution_count": 132,
   "metadata": {},
   "outputs": [],
   "source": [
    "width, height = 12, 15\n",
    "attributes = jnp.ones((width, height, 4))"
   ]
  },
  {
   "cell_type": "code",
   "execution_count": 133,
   "metadata": {},
   "outputs": [],
   "source": [
    "bottom_lefts = jnp.meshgrid(jnp.arange(width), jnp.arange(height))\n",
    "bottom_lefts = jnp.stack(bottom_lefts, axis=-1).reshape(-1, 2)\n",
    "widthheights = jnp.ones((width * height, 2))\n",
    "attributes = attributes.reshape((-1, attributes.shape[-1]))\n"
   ]
  },
  {
   "cell_type": "code",
   "execution_count": 135,
   "metadata": {},
   "outputs": [],
   "source": [
    "vmapped_mesh = jax.vmap(Mesh.square_mesh, in_axes=(0, 0, 0))(bottom_lefts, widthheights, attributes)\n"
   ]
  },
  {
   "cell_type": "code",
   "execution_count": 136,
   "metadata": {},
   "outputs": [],
   "source": [
    "vertices = vmapped_mesh.vertices.reshape((-1, 2))\n",
    "n_vertices_per_face = vmapped_mesh.vertices.shape[1]\n"
   ]
  },
  {
   "cell_type": "code",
   "execution_count": 143,
   "metadata": {},
   "outputs": [
    {
     "data": {
      "text/plain": [
       "(180, 2, 3)"
      ]
     },
     "execution_count": 143,
     "metadata": {},
     "output_type": "execute_result"
    }
   ],
   "source": [
    "vmapped_mesh.faces.shape"
   ]
  },
  {
   "cell_type": "code",
   "execution_count": 144,
   "metadata": {},
   "outputs": [
    {
     "data": {
      "text/plain": [
       "Array([[  0,   1,   2],\n",
       "       [  0,   2,   3],\n",
       "       [  0,   1,   2],\n",
       "       ...,\n",
       "       [356, 358, 359],\n",
       "       [356, 357, 358],\n",
       "       [356, 358, 359]], dtype=int32)"
      ]
     },
     "execution_count": 144,
     "metadata": {},
     "output_type": "execute_result"
    }
   ],
   "source": [
    "# Generate the base array\n",
    "# arr = jnp.arange(vertices.shape[0])\n",
    "\n",
    "\n"
   ]
  },
  {
   "cell_type": "code",
   "execution_count": null,
   "metadata": {},
   "outputs": [],
   "source": []
  }
 ],
 "metadata": {
  "kernelspec": {
   "display_name": "b3d",
   "language": "python",
   "name": "python3"
  },
  "language_info": {
   "codemirror_mode": {
    "name": "ipython",
    "version": 3
   },
   "file_extension": ".py",
   "mimetype": "text/x-python",
   "name": "python",
   "nbconvert_exporter": "python",
   "pygments_lexer": "ipython3",
   "version": "3.10.14"
  }
 },
 "nbformat": 4,
 "nbformat_minor": 2
}
