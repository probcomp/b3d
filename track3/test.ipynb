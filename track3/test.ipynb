{
 "cells": [
  {
   "cell_type": "code",
   "execution_count": 4,
   "metadata": {},
   "outputs": [],
   "source": [
    "%load_ext autoreload\n",
    "%autoreload 2"
   ]
  },
  {
   "cell_type": "code",
   "execution_count": 5,
   "metadata": {},
   "outputs": [],
   "source": [
    "import jax\n",
    "import jax.numpy as jnp\n",
    "import genjax\n",
    "import rerun as rr"
   ]
  },
  {
   "cell_type": "code",
   "execution_count": 6,
   "metadata": {},
   "outputs": [],
   "source": [
    "from tracking.model import model_factory, rerun_log_trace"
   ]
  },
  {
   "cell_type": "code",
   "execution_count": 7,
   "metadata": {},
   "outputs": [],
   "source": [
    "PORT = 8812\n",
    "rr.init(\"tracking\")\n",
    "rr.connect(addr=f'127.0.0.1:{PORT}')"
   ]
  },
  {
   "cell_type": "code",
   "execution_count": 18,
   "metadata": {},
   "outputs": [],
   "source": [
    "model = model_factory(\n",
    "    max_T = 10,\n",
    "    width = 160,\n",
    "    height = 120,\n",
    "    pose_kernel_params = (1.0, 1.0),\n",
    "    max_keypoint_mesh_width = 4,\n",
    "    max_keypoint_mesh_height = 4,\n",
    "    max_depth = 20.0\n",
    ")\n",
    "\n",
    "key = jax.random.PRNGKey(3)\n",
    "trace = model.simulate(key, (10,))"
   ]
  },
  {
   "cell_type": "code",
   "execution_count": 19,
   "metadata": {},
   "outputs": [],
   "source": [
    "rerun_log_trace(trace)"
   ]
  },
  {
   "cell_type": "code",
   "execution_count": null,
   "metadata": {},
   "outputs": [],
   "source": []
  },
  {
   "cell_type": "code",
   "execution_count": 20,
   "metadata": {},
   "outputs": [],
   "source": [
    "from tracking.sensor_model import lab_to_rgb"
   ]
  },
  {
   "cell_type": "code",
   "execution_count": 21,
   "metadata": {},
   "outputs": [],
   "source": [
    "from b3d.utils import rgb_to_lab"
   ]
  },
  {
   "cell_type": "code",
   "execution_count": 22,
   "metadata": {},
   "outputs": [],
   "source": [
    "for i in range(100):\n",
    "    subkey, key = jax.random.split(key)\n",
    "    rgb = jax.random.uniform(subkey, (3,))\n",
    "    lab = rgb_to_lab(rgb)\n",
    "    rgb2 = lab_to_rgb(lab)\n",
    "    assert jnp.allclose(rgb, rgb2, atol=1e-3), f\"{rgb} != {rgb2}\"\n"
   ]
  },
  {
   "cell_type": "code",
   "execution_count": 23,
   "metadata": {},
   "outputs": [
    {
     "ename": "AssertionError",
     "evalue": "[ 39.77536   86.08844  -78.404785] != [ 41.83797   79.807625 -75.01977 ]",
     "output_type": "error",
     "traceback": [
      "\u001b[0;31m---------------------------------------------------------------------------\u001b[0m",
      "\u001b[0;31mAssertionError\u001b[0m                            Traceback (most recent call last)",
      "Cell \u001b[0;32mIn[23], line 7\u001b[0m\n\u001b[1;32m      5\u001b[0m rgb \u001b[38;5;241m=\u001b[39m lab_to_rgb(lab)\n\u001b[1;32m      6\u001b[0m lab2 \u001b[38;5;241m=\u001b[39m rgb_to_lab(rgb)\n\u001b[0;32m----> 7\u001b[0m \u001b[38;5;28;01massert\u001b[39;00m jnp\u001b[38;5;241m.\u001b[39mallclose(lab, lab2, atol\u001b[38;5;241m=\u001b[39m\u001b[38;5;241m4\u001b[39m), \u001b[38;5;124mf\u001b[39m\u001b[38;5;124m\"\u001b[39m\u001b[38;5;132;01m{\u001b[39;00mlab\u001b[38;5;132;01m}\u001b[39;00m\u001b[38;5;124m != \u001b[39m\u001b[38;5;132;01m{\u001b[39;00mlab2\u001b[38;5;132;01m}\u001b[39;00m\u001b[38;5;124m\"\u001b[39m\n",
      "\u001b[0;31mAssertionError\u001b[0m: [ 39.77536   86.08844  -78.404785] != [ 41.83797   79.807625 -75.01977 ]"
     ]
    }
   ],
   "source": [
    "for i in range(100):\n",
    "    subkey, key = jax.random.split(key)\n",
    "    lab = jax.random.uniform(subkey, (3,))\n",
    "    lab = lab * jnp.array([100.0, 256.0, 256.0]) - jnp.array([0.0, 128.0, 128.0])\n",
    "    rgb = lab_to_rgb(lab)\n",
    "    lab2 = rgb_to_lab(rgb)\n",
    "    assert jnp.allclose(lab, lab2, atol=4), f\"{lab} != {lab2}\"\n"
   ]
  },
  {
   "cell_type": "code",
   "execution_count": null,
   "metadata": {},
   "outputs": [],
   "source": []
  },
  {
   "cell_type": "code",
   "execution_count": null,
   "metadata": {},
   "outputs": [],
   "source": [
    "from tracking.sensor_model import gaussian_rgbd_sensor_model, laplace_rgbd_sensor_model, uniform_rgbd_sensor_model"
   ]
  },
  {
   "cell_type": "code",
   "execution_count": 25,
   "metadata": {},
   "outputs": [],
   "source": [
    "img = trace.get_retval()[-1][0, ...]\n",
    "rgb = img[..., :3]\n",
    "depth = img[..., 3]"
   ]
  },
  {
   "cell_type": "code",
   "execution_count": 26,
   "metadata": {},
   "outputs": [],
   "source": [
    "key, subkey = jax.random.split(key)\n",
    "keys = jax.random.split(subkey, 20)\n",
    "rendered_rgbs_gaussian, rendered_depths_gaussian = jax.vmap(\n",
    "    gaussian_rgbd_sensor_model.sample, in_axes=(0, None, None, None, None)\n",
    ")(\n",
    "    keys, rgb, depth, 10.0, 1.0\n",
    ")\n",
    "key, subkey = jax.random.split(key)\n",
    "keys = jax.random.split(subkey, 20)\n",
    "rendered_rgbs_laplace, rendered_depths_laplace = jax.vmap(\n",
    "    laplace_rgbd_sensor_model.sample, in_axes=(0, None, None, None, None)\n",
    ")(\n",
    "    keys, rgb, depth, 10.0, 1.0\n",
    ")\n",
    "key, subkey = jax.random.split(key)\n",
    "keys = jax.random.split(subkey, 20)\n",
    "rendered_rgbs_uniform, rendered_depths_uniform = jax.vmap(\n",
    "    uniform_rgbd_sensor_model.sample, in_axes=(0, None, None, (None, None))\n",
    ")(\n",
    "    keys, rgb, depth, (0., 10.)\n",
    "\n",
    ")"
   ]
  },
  {
   "cell_type": "code",
   "execution_count": 27,
   "metadata": {},
   "outputs": [],
   "source": [
    "for i in range(20):\n",
    "    rendered_rgb_g = rendered_rgbs_gaussian[i, ...]\n",
    "    rendered_depth_g = rendered_depths_gaussian[i, ...]\n",
    "    rendered_rgb_l = rendered_rgbs_laplace[i, ...]\n",
    "    rendered_depth_l = rendered_depths_laplace[i, ...]\n",
    "    rendered_rgb_u = rendered_rgbs_uniform[i, ...]\n",
    "    rendered_depth_u = rendered_depths_uniform[i, ...]\n",
    "    rr.set_time_sequence(\"img_sample\", i)\n",
    "    rr.log(\"/likelihood_experiment/rgb/original\", rr.Image(rgb))\n",
    "    rr.log(\"/likelihood_experiment/rgb/rendered_gaussian\", rr.Image(rendered_rgb_g))\n",
    "    rr.log(\"/likelihood_experiment/rgb/rendered_laplace\", rr.Image(rendered_rgb_l))\n",
    "    rr.log(\"/likelihood_experiment/rgb/rendered_uniform\", rr.Image(rendered_rgb_u))\n",
    "    rr.log(\"/likelihood_experiment/depth/original\", rr.DepthImage(depth))\n",
    "    rr.log(\"/likelihood_experiment/depth/rendered_gausian\", rr.DepthImage(rendered_depth_g))\n",
    "    rr.log(\"/likelihood_experiment/depth/rendered_laplace\", rr.DepthImage(rendered_depth_l))\n",
    "    rr.log(\"/likelihood_experiment/depth/rendered_uniform\", rr.DepthImage(rendered_depth_u))"
   ]
  },
  {
   "cell_type": "code",
   "execution_count": null,
   "metadata": {},
   "outputs": [],
   "source": []
  },
  {
   "cell_type": "code",
   "execution_count": 28,
   "metadata": {},
   "outputs": [],
   "source": [
    "from tracking.sensor_model import mixture_rgbd_sensor_model\n",
    "probs = [0.05, 0.8, 0.15]\n",
    "args = [\n",
    "    ((0., 10.),),\n",
    "    (10.0, 1.0),\n",
    "    (10.0, 1.0),\n",
    "]\n"
   ]
  },
  {
   "cell_type": "code",
   "execution_count": 29,
   "metadata": {},
   "outputs": [
    {
     "ename": "TypeError",
     "evalue": "UniformRGBDSensorModel.sample() takes from 4 to 5 positional arguments but 6 were given",
     "output_type": "error",
     "traceback": [
      "\u001b[0;31m---------------------------------------------------------------------------\u001b[0m",
      "\u001b[0;31mTypeError\u001b[0m                                 Traceback (most recent call last)",
      "Cell \u001b[0;32mIn[29], line 3\u001b[0m\n\u001b[1;32m      1\u001b[0m key, subkey \u001b[38;5;241m=\u001b[39m jax\u001b[38;5;241m.\u001b[39mrandom\u001b[38;5;241m.\u001b[39msplit(key)\n\u001b[1;32m      2\u001b[0m keys \u001b[38;5;241m=\u001b[39m jax\u001b[38;5;241m.\u001b[39mrandom\u001b[38;5;241m.\u001b[39msplit(subkey, \u001b[38;5;241m20\u001b[39m)\n\u001b[0;32m----> 3\u001b[0m rendered_rgbs, rendered_depths \u001b[38;5;241m=\u001b[39m \u001b[43mjax\u001b[49m\u001b[38;5;241;43m.\u001b[39;49m\u001b[43mvmap\u001b[49m\u001b[43m(\u001b[49m\n\u001b[1;32m      4\u001b[0m \u001b[43m    \u001b[49m\u001b[43mmixture_rgbd_sensor_model\u001b[49m\u001b[38;5;241;43m.\u001b[39;49m\u001b[43msample\u001b[49m\u001b[43m,\u001b[49m\u001b[43m \u001b[49m\u001b[43min_axes\u001b[49m\u001b[38;5;241;43m=\u001b[39;49m\u001b[43m(\u001b[49m\n\u001b[1;32m      5\u001b[0m \u001b[43m        \u001b[49m\u001b[38;5;241;43m0\u001b[39;49m\u001b[43m,\u001b[49m\u001b[43m \u001b[49m\u001b[38;5;28;43;01mNone\u001b[39;49;00m\u001b[43m,\u001b[49m\u001b[43m \u001b[49m\u001b[38;5;28;43;01mNone\u001b[39;49;00m\u001b[43m,\u001b[49m\u001b[43m \u001b[49m\u001b[38;5;28;43;01mNone\u001b[39;49;00m\u001b[43m,\u001b[49m\u001b[43m \u001b[49m\u001b[38;5;28;43;01mNone\u001b[39;49;00m\n\u001b[1;32m      6\u001b[0m \u001b[43m    \u001b[49m\u001b[43m)\u001b[49m\n\u001b[1;32m      7\u001b[0m \u001b[43m)\u001b[49m\u001b[43m(\u001b[49m\n\u001b[1;32m      8\u001b[0m \u001b[43m    \u001b[49m\u001b[43mkeys\u001b[49m\u001b[43m,\u001b[49m\u001b[43m \u001b[49m\u001b[43mprobs\u001b[49m\u001b[43m,\u001b[49m\u001b[43m \u001b[49m\u001b[43mrgb\u001b[49m\u001b[43m,\u001b[49m\u001b[43m \u001b[49m\u001b[43mdepth\u001b[49m\u001b[43m,\u001b[49m\u001b[43m \u001b[49m\u001b[43margs\u001b[49m\n\u001b[1;32m      9\u001b[0m \u001b[43m)\u001b[49m\n",
      "    \u001b[0;31m[... skipping hidden 4 frame]\u001b[0m\n",
      "File \u001b[0;32m~/b3d/track3/tracking/sensor_model.py:128\u001b[0m, in \u001b[0;36mRGBDMixtureDistribution.sample\u001b[0;34m(self, key, probs, rgb, depth, submodel_args)\u001b[0m\n\u001b[1;32m    125\u001b[0m keys \u001b[38;5;241m=\u001b[39m jax\u001b[38;5;241m.\u001b[39mrandom\u001b[38;5;241m.\u001b[39msplit(subkey, \u001b[38;5;241m3\u001b[39m)\n\u001b[1;32m    126\u001b[0m idx \u001b[38;5;241m=\u001b[39m genjax\u001b[38;5;241m.\u001b[39mcategorical\u001b[38;5;241m.\u001b[39msample(key, probs)\n\u001b[1;32m    127\u001b[0m \u001b[38;5;28;01mreturn\u001b[39;00m [\n\u001b[0;32m--> 128\u001b[0m     \u001b[43muniform_rgbd_sensor_model\u001b[49m\u001b[38;5;241;43m.\u001b[39;49m\u001b[43msample\u001b[49m\u001b[43m(\u001b[49m\u001b[43mkeys\u001b[49m\u001b[43m[\u001b[49m\u001b[38;5;241;43m0\u001b[39;49m\u001b[43m]\u001b[49m\u001b[43m,\u001b[49m\u001b[43m \u001b[49m\u001b[43mrgb\u001b[49m\u001b[43m,\u001b[49m\u001b[43m \u001b[49m\u001b[43mdepth\u001b[49m\u001b[43m,\u001b[49m\u001b[43m \u001b[49m\u001b[38;5;241;43m*\u001b[39;49m\u001b[43msubmodel_args\u001b[49m\u001b[43m[\u001b[49m\u001b[38;5;241;43m0\u001b[39;49m\u001b[43m]\u001b[49m\u001b[43m)\u001b[49m,\n\u001b[1;32m    129\u001b[0m     gaussian_rgbd_sensor_model\u001b[38;5;241m.\u001b[39msample(keys[\u001b[38;5;241m1\u001b[39m], rgb, depth, \u001b[38;5;241m*\u001b[39msubmodel_args[\u001b[38;5;241m1\u001b[39m]),\n\u001b[1;32m    130\u001b[0m     laplace_rgbd_sensor_model\u001b[38;5;241m.\u001b[39msample(keys[\u001b[38;5;241m2\u001b[39m], rgb, depth, \u001b[38;5;241m*\u001b[39msubmodel_args[\u001b[38;5;241m2\u001b[39m]),\n\u001b[1;32m    131\u001b[0m ][idx]\n",
      "File \u001b[0;32m/opt/conda/envs/b3d/lib/python3.10/site-packages/equinox/_module.py:935\u001b[0m, in \u001b[0;36mBoundMethod.__call__\u001b[0;34m(self, *args, **kwargs)\u001b[0m\n\u001b[1;32m    933\u001b[0m \u001b[38;5;28;01mdef\u001b[39;00m \u001b[38;5;21m__call__\u001b[39m(\u001b[38;5;28mself\u001b[39m, \u001b[38;5;241m*\u001b[39margs, \u001b[38;5;241m*\u001b[39m\u001b[38;5;241m*\u001b[39mkwargs):\n\u001b[1;32m    934\u001b[0m     __tracebackhide__ \u001b[38;5;241m=\u001b[39m \u001b[38;5;28;01mTrue\u001b[39;00m\n\u001b[0;32m--> 935\u001b[0m     \u001b[38;5;28;01mreturn\u001b[39;00m \u001b[38;5;28;43mself\u001b[39;49m\u001b[38;5;241;43m.\u001b[39;49m\u001b[38;5;18;43m__func__\u001b[39;49m\u001b[43m(\u001b[49m\u001b[38;5;28;43mself\u001b[39;49m\u001b[38;5;241;43m.\u001b[39;49m\u001b[38;5;18;43m__self__\u001b[39;49m\u001b[43m,\u001b[49m\u001b[43m \u001b[49m\u001b[38;5;241;43m*\u001b[39;49m\u001b[43margs\u001b[49m\u001b[43m,\u001b[49m\u001b[43m \u001b[49m\u001b[38;5;241;43m*\u001b[39;49m\u001b[38;5;241;43m*\u001b[39;49m\u001b[43mkwargs\u001b[49m\u001b[43m)\u001b[49m\n",
      "\u001b[0;31mTypeError\u001b[0m: UniformRGBDSensorModel.sample() takes from 4 to 5 positional arguments but 6 were given"
     ]
    }
   ],
   "source": [
    "key, subkey = jax.random.split(key)\n",
    "keys = jax.random.split(subkey, 20)\n",
    "rendered_rgbs, rendered_depths = jax.vmap(\n",
    "    mixture_rgbd_sensor_model.sample, in_axes=(\n",
    "        0, None, None, None, None\n",
    "    )\n",
    ")(\n",
    "    keys, probs, rgb, depth, args\n",
    ")"
   ]
  },
  {
   "cell_type": "markdown",
   "metadata": {},
   "source": []
  },
  {
   "cell_type": "code",
   "execution_count": 79,
   "metadata": {},
   "outputs": [
    {
     "data": {
      "text/plain": [
       "(64, 64, 4)"
      ]
     },
     "execution_count": 79,
     "metadata": {},
     "output_type": "execute_result"
    }
   ],
   "source": [
    "from tracking.mesh import Mesh\n",
    "\n",
    "# sq = jax.vmap(\n",
    "#     lambda x: Mesh.square_mesh([0., 0.], [x, x], jnp.array([0., 0., 0., 1.]))\n",
    "# )(jnp.array([20., 30.]))\n",
    "\n",
    "sq = Mesh.square_mesh(jnp.array([0.1, 0.]), jnp.array([20., 20.]), jnp.array([0., 0., 0., 1.]))\n",
    "\n",
    "def render_mesh(mesh, pose):\n",
    "    return mesh.to_image(\n",
    "            jnp.zeros(3),\n",
    "            64, 64,\n",
    "            lambda rgbd: rgbd[-1],\n",
    "            jnp.array([1., 1., 1., 10.])\n",
    "        )\n",
    "\n",
    "img = jax.vmap(render_mesh, in_axes=(None, 0))(sq, jnp.zeros((2, 3)))\n",
    "img[0].shape"
   ]
  },
  {
   "cell_type": "code",
   "execution_count": 88,
   "metadata": {},
   "outputs": [
    {
     "data": {
      "text/plain": [
       "(22, 4)"
      ]
     },
     "execution_count": 88,
     "metadata": {},
     "output_type": "execute_result"
    }
   ],
   "source": [
    "from tracking.mesh import Mesh\n",
    "\n",
    "sq = Mesh.square_mesh(jnp.array([.1, 0.]), jnp.array([20., 20.]), jnp.array([0., 0., 0., 1.]))\n",
    "\n",
    "img = sq.to_image(jnp.zeros(3), 22, 22,\n",
    "        lambda rgbd: rgbd[-1],\n",
    "        jnp.array([1., 1., 1., 10.])\n",
    "    )\n",
    "\n",
    "img[0].shape"
   ]
  },
  {
   "cell_type": "code",
   "execution_count": 89,
   "metadata": {},
   "outputs": [
    {
     "name": "stderr",
     "output_type": "stream",
     "text": [
      "Clipping input data to the valid range for imshow with RGB data ([0..1] for floats or [0..255] for integers).\n"
     ]
    },
    {
     "data": {
      "text/plain": [
       "<matplotlib.image.AxesImage at 0x7f213f279960>"
      ]
     },
     "execution_count": 89,
     "metadata": {},
     "output_type": "execute_result"
    },
    {
     "data": {
      "image/png": "[encoded data removed]",
      "text/plain": [
       "<Figure size 640x480 with 1 Axes>"
      ]
     },
     "metadata": {},
     "output_type": "display_data"
    }
   ],
   "source": [
    "import matplotlib.pyplot as plt\n",
    "plt.imshow(img)"
   ]
  },
  {
   "cell_type": "code",
   "execution_count": 124,
   "metadata": {},
   "outputs": [
    {
     "data": {
      "text/plain": [
       "(400, 2)"
      ]
     },
     "execution_count": 124,
     "metadata": {},
     "output_type": "execute_result"
    }
   ],
   "source": [
    "width, height = 20, 20\n",
    "bottom_lefts = jnp.meshgrid(jnp.arange(width), jnp.arange(height))\n",
    "bottom_lefts = jnp.stack(bottom_lefts, axis=-1).reshape(-1, 2)\n",
    "bottom_lefts.shape"
   ]
  },
  {
   "cell_type": "code",
   "execution_count": 131,
   "metadata": {},
   "outputs": [],
   "source": [
    "from tracking.mesh import Mesh"
   ]
  },
  {
   "cell_type": "code",
   "execution_count": 132,
   "metadata": {},
   "outputs": [],
   "source": [
    "width, height = 12, 15\n",
    "attributes = jnp.ones((width, height, 4))"
   ]
  },
  {
   "cell_type": "code",
   "execution_count": 133,
   "metadata": {},
   "outputs": [],
   "source": [
    "bottom_lefts = jnp.meshgrid(jnp.arange(width), jnp.arange(height))\n",
    "bottom_lefts = jnp.stack(bottom_lefts, axis=-1).reshape(-1, 2)\n",
    "widthheights = jnp.ones((width * height, 2))\n",
    "attributes = attributes.reshape((-1, attributes.shape[-1]))\n"
   ]
  },
  {
   "cell_type": "code",
   "execution_count": 135,
   "metadata": {},
   "outputs": [],
   "source": [
    "vmapped_mesh = jax.vmap(Mesh.square_mesh, in_axes=(0, 0, 0))(bottom_lefts, widthheights, attributes)\n"
   ]
  },
  {
   "cell_type": "code",
   "execution_count": 136,
   "metadata": {},
   "outputs": [],
   "source": [
    "vertices = vmapped_mesh.vertices.reshape((-1, 2))\n",
    "n_vertices_per_face = vmapped_mesh.vertices.shape[1]\n"
   ]
  },
  {
   "cell_type": "code",
   "execution_count": 143,
   "metadata": {},
   "outputs": [
    {
     "data": {
      "text/plain": [
       "(180, 2, 3)"
      ]
     },
     "execution_count": 143,
     "metadata": {},
     "output_type": "execute_result"
    }
   ],
   "source": [
    "vmapped_mesh.faces.shape"
   ]
  },
  {
   "cell_type": "code",
   "execution_count": 144,
   "metadata": {},
   "outputs": [
    {
     "data": {
      "text/plain": [
       "Array([[  0,   1,   2],\n",
       "       [  0,   2,   3],\n",
       "       [  0,   1,   2],\n",
       "       ...,\n",
       "       [356, 358, 359],\n",
       "       [356, 357, 358],\n",
       "       [356, 358, 359]], dtype=int32)"
      ]
     },
     "execution_count": 144,
     "metadata": {},
     "output_type": "execute_result"
    }
   ],
   "source": [
    "# Generate the base array\n",
    "# arr = jnp.arange(vertices.shape[0])\n",
    "\n",
    "\n"
   ]
  },
  {
   "cell_type": "code",
   "execution_count": null,
   "metadata": {},
   "outputs": [],
   "source": []
  }
 ],
 "metadata": {
  "kernelspec": {
   "display_name": "b3d",
   "language": "python",
   "name": "python3"
  },
  "language_info": {
   "codemirror_mode": {
    "name": "ipython",
    "version": 3
   },
   "file_extension": ".py",
   "mimetype": "text/x-python",
   "name": "python",
   "nbconvert_exporter": "python",
   "pygments_lexer": "ipython3",
   "version": "3.10.14"
  }
 },
 "nbformat": 4,
 "nbformat_minor": 2
}
