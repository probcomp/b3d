{
 "cells": [
  {
   "cell_type": "code",
   "execution_count": 1,
   "metadata": {},
   "outputs": [],
   "source": [
    "%load_ext autoreload\n",
    "%autoreload 2"
   ]
  },
  {
   "cell_type": "code",
   "execution_count": 2,
   "metadata": {},
   "outputs": [],
   "source": [
    "import jax\n",
    "import jax.numpy as jnp\n",
    "import genjax\n",
    "import rerun as rr"
   ]
  },
  {
   "cell_type": "code",
   "execution_count": 3,
   "metadata": {},
   "outputs": [],
   "source": [
    "from tracking.model import model_factory, rerun_log_trace"
   ]
  },
  {
   "cell_type": "code",
   "execution_count": 4,
   "metadata": {},
   "outputs": [],
   "source": [
    "PORT = 8812\n",
    "rr.init(\"tracking\")\n",
    "rr.connect(addr=f'127.0.0.1:{PORT}')"
   ]
  },
  {
   "cell_type": "code",
   "execution_count": 31,
   "metadata": {},
   "outputs": [],
   "source": [
    "model = model_factory(\n",
    "    max_T = 100,\n",
    "    width = 50,\n",
    "    height = 40,\n",
    "    pose_kernel_params = (1.0, 1.0),\n",
    "    max_keypoint_mesh_width = 4,\n",
    "    max_keypoint_mesh_height = 4,\n",
    "    max_depth = 20.0\n",
    ")\n",
    "\n",
    "key = jax.random.PRNGKey(3)\n",
    "trace = model.simulate(key, (100,))"
   ]
  },
  {
   "cell_type": "code",
   "execution_count": 32,
   "metadata": {},
   "outputs": [
    {
     "name": "stderr",
     "output_type": "stream",
     "text": [
      "/home/georgematheos/b3d/track3/tracking/model.py:150: RerunWarning: log_components: ValueError(Each cell must contain either 0, 1 or `num_instances` instances, but cell 'rerun.components.Color' in '/keypoint_triangles' holds 64 instances (expected 32))\n",
      "  rr.log(\"/keypoint_triangles\", rerun_mesh_rep(kp_mesh))\n"
     ]
    }
   ],
   "source": [
    "rerun_log_trace(trace)"
   ]
  },
  {
   "cell_type": "code",
   "execution_count": null,
   "metadata": {},
   "outputs": [],
   "source": []
  },
  {
   "cell_type": "code",
   "execution_count": null,
   "metadata": {},
   "outputs": [],
   "source": []
  },
  {
   "cell_type": "code",
   "execution_count": null,
   "metadata": {},
   "outputs": [],
   "source": []
  },
  {
   "cell_type": "code",
   "execution_count": null,
   "metadata": {},
   "outputs": [],
   "source": []
  },
  {
   "cell_type": "code",
   "execution_count": null,
   "metadata": {},
   "outputs": [],
   "source": []
  },
  {
   "cell_type": "code",
   "execution_count": null,
   "metadata": {},
   "outputs": [],
   "source": []
  },
  {
   "cell_type": "code",
   "execution_count": null,
   "metadata": {},
   "outputs": [],
   "source": []
  },
  {
   "cell_type": "code",
   "execution_count": 15,
   "metadata": {},
   "outputs": [
    {
     "data": {
      "text/plain": [
       "(2, 64, 64, 4)"
      ]
     },
     "execution_count": 15,
     "metadata": {},
     "output_type": "execute_result"
    }
   ],
   "source": [
    "from tracking.mesh import Mesh\n",
    "\n",
    "# sq = jax.vmap(\n",
    "#     lambda x: Mesh.square_mesh([0., 0.], [x, x], jnp.array([0., 0., 0., 1.]))\n",
    "# )(jnp.array([20., 30.]))\n",
    "\n",
    "sq = Mesh.square_mesh(jnp.array([0., 0.]), jnp.array([20., 20.]), jnp.array([0., 0., 0., 1.]))\n",
    "\n",
    "def render_mesh(mesh, pose):\n",
    "    return mesh.to_image(\n",
    "            jnp.zeros(3),\n",
    "            64, 64,\n",
    "            lambda rgbd: rgbd[-1],\n",
    "            jnp.array([1., 1., 1., 10.])\n",
    "        )\n",
    "\n",
    "img = jax.vmap(render_mesh, in_axes=(None, 0))(sq, jnp.zeros((2, 3)))\n",
    "img[0].shape"
   ]
  },
  {
   "cell_type": "code",
   "execution_count": 11,
   "metadata": {},
   "outputs": [
    {
     "data": {
      "text/plain": [
       "(64, 4)"
      ]
     },
     "execution_count": 11,
     "metadata": {},
     "output_type": "execute_result"
    }
   ],
   "source": [
    "from tracking.mesh import Mesh\n",
    "\n",
    "sq = Mesh.square_mesh(jnp.array([0., 0.]), jnp.array([20., 20.]), jnp.array([0., 0., 0., 1.]))\n",
    "\n",
    "img = sq.to_image(jnp.zeros(3), 64, 64,\n",
    "        lambda rgbd: rgbd[-1],\n",
    "        jnp.array([1., 1., 1., 10.])\n",
    "    )\n",
    "\n",
    "img[0].shape"
   ]
  },
  {
   "cell_type": "code",
   "execution_count": 12,
   "metadata": {},
   "outputs": [
    {
     "data": {
      "text/plain": [
       "<matplotlib.image.AxesImage at 0x7f211cf98e20>"
      ]
     },
     "execution_count": 12,
     "metadata": {},
     "output_type": "execute_result"
    },
    {
     "data": {
      "image/png": "[encoded data removed]",
      "text/plain": [
       "<Figure size 640x480 with 1 Axes>"
      ]
     },
     "metadata": {},
     "output_type": "display_data"
    }
   ],
   "source": [
    "import matplotlib.pyplot as plt\n",
    "plt.imshow(img)"
   ]
  },
  {
   "cell_type": "code",
   "execution_count": 124,
   "metadata": {},
   "outputs": [
    {
     "data": {
      "text/plain": [
       "(400, 2)"
      ]
     },
     "execution_count": 124,
     "metadata": {},
     "output_type": "execute_result"
    }
   ],
   "source": [
    "width, height = 20, 20\n",
    "bottom_lefts = jnp.meshgrid(jnp.arange(width), jnp.arange(height))\n",
    "bottom_lefts = jnp.stack(bottom_lefts, axis=-1).reshape(-1, 2)\n",
    "bottom_lefts.shape"
   ]
  },
  {
   "cell_type": "code",
   "execution_count": 131,
   "metadata": {},
   "outputs": [],
   "source": [
    "from tracking.mesh import Mesh"
   ]
  },
  {
   "cell_type": "code",
   "execution_count": 132,
   "metadata": {},
   "outputs": [],
   "source": [
    "width, height = 12, 15\n",
    "attributes = jnp.ones((width, height, 4))"
   ]
  },
  {
   "cell_type": "code",
   "execution_count": 133,
   "metadata": {},
   "outputs": [],
   "source": [
    "bottom_lefts = jnp.meshgrid(jnp.arange(width), jnp.arange(height))\n",
    "bottom_lefts = jnp.stack(bottom_lefts, axis=-1).reshape(-1, 2)\n",
    "widthheights = jnp.ones((width * height, 2))\n",
    "attributes = attributes.reshape((-1, attributes.shape[-1]))\n"
   ]
  },
  {
   "cell_type": "code",
   "execution_count": 135,
   "metadata": {},
   "outputs": [],
   "source": [
    "vmapped_mesh = jax.vmap(Mesh.square_mesh, in_axes=(0, 0, 0))(bottom_lefts, widthheights, attributes)\n"
   ]
  },
  {
   "cell_type": "code",
   "execution_count": 136,
   "metadata": {},
   "outputs": [],
   "source": [
    "vertices = vmapped_mesh.vertices.reshape((-1, 2))\n",
    "n_vertices_per_face = vmapped_mesh.vertices.shape[1]\n"
   ]
  },
  {
   "cell_type": "code",
   "execution_count": 143,
   "metadata": {},
   "outputs": [
    {
     "data": {
      "text/plain": [
       "(180, 2, 3)"
      ]
     },
     "execution_count": 143,
     "metadata": {},
     "output_type": "execute_result"
    }
   ],
   "source": [
    "vmapped_mesh.faces.shape"
   ]
  },
  {
   "cell_type": "code",
   "execution_count": 144,
   "metadata": {},
   "outputs": [
    {
     "data": {
      "text/plain": [
       "Array([[  0,   1,   2],\n",
       "       [  0,   2,   3],\n",
       "       [  0,   1,   2],\n",
       "       ...,\n",
       "       [356, 358, 359],\n",
       "       [356, 357, 358],\n",
       "       [356, 358, 359]], dtype=int32)"
      ]
     },
     "execution_count": 144,
     "metadata": {},
     "output_type": "execute_result"
    }
   ],
   "source": [
    "# Generate the base array\n",
    "# arr = jnp.arange(vertices.shape[0])\n",
    "\n",
    "\n"
   ]
  },
  {
   "cell_type": "code",
   "execution_count": null,
   "metadata": {},
   "outputs": [],
   "source": []
  }
 ],
 "metadata": {
  "kernelspec": {
   "display_name": "b3d",
   "language": "python",
   "name": "python3"
  },
  "language_info": {
   "codemirror_mode": {
    "name": "ipython",
    "version": 3
   },
   "file_extension": ".py",
   "mimetype": "text/x-python",
   "name": "python",
   "nbconvert_exporter": "python",
   "pygments_lexer": "ipython3",
   "version": "3.10.14"
  }
 },
 "nbformat": 4,
 "nbformat_minor": 2
}
