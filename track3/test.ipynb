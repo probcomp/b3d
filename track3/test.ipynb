{
 "cells": [
  {
   "cell_type": "code",
   "execution_count": 1,
   "metadata": {},
   "outputs": [],
   "source": [
    "%load_ext autoreload\n",
    "%autoreload 2"
   ]
  },
  {
   "cell_type": "code",
   "execution_count": 2,
   "metadata": {},
   "outputs": [],
   "source": [
    "import jax\n",
    "import jax.numpy as jnp\n",
    "import genjax\n",
    "import rerun as rr"
   ]
  },
  {
   "cell_type": "code",
   "execution_count": 3,
   "metadata": {},
   "outputs": [],
   "source": [
    "from tracking.model import model_factory, rerun_log_trace"
   ]
  },
  {
   "cell_type": "code",
   "execution_count": 4,
   "metadata": {},
   "outputs": [],
   "source": [
    "PORT = 8812\n",
    "rr.init(\"tracking\")\n",
    "rr.connect(addr=f'127.0.0.1:{PORT}')"
   ]
  },
  {
   "cell_type": "code",
   "execution_count": 5,
   "metadata": {},
   "outputs": [],
   "source": [
    "model = model_factory(\n",
    "    max_T = 10,\n",
    "    width = 50,\n",
    "    height = 40,\n",
    "    pose_kernel_params = (1.0, 1.0),\n",
    "    max_keypoint_mesh_width = 4,\n",
    "    max_keypoint_mesh_height = 4,\n",
    "    max_depth = 20.0\n",
    ")\n",
    "\n",
    "key = jax.random.PRNGKey(3)\n",
    "trace = model.simulate(key, (10,))"
   ]
  },
  {
   "cell_type": "code",
   "execution_count": 6,
   "metadata": {},
   "outputs": [
    {
     "data": {
      "text/plain": [
       "(Array([[[0.       , 0.       , 0.       , 0.       ],\n",
       "         [0.       , 0.       , 0.       , 0.       ],\n",
       "         [0.       , 0.       , 0.       , 0.       ],\n",
       "         ...,\n",
       "         [0.       , 0.       , 0.       , 0.       ],\n",
       "         [0.       , 0.       , 0.       , 0.       ],\n",
       "         [0.       , 0.       , 0.       , 0.       ]],\n",
       " \n",
       "        [[0.       , 0.       , 0.       , 0.       ],\n",
       "         [0.       , 0.       , 0.       , 0.       ],\n",
       "         [0.       , 0.       , 0.       , 0.       ],\n",
       "         ...,\n",
       "         [0.       , 0.       , 0.       , 0.       ],\n",
       "         [0.       , 0.       , 0.       , 0.       ],\n",
       "         [0.       , 0.       , 0.       , 0.       ]],\n",
       " \n",
       "        [[0.       , 0.       , 0.       , 0.       ],\n",
       "         [0.       , 0.       , 0.       , 0.       ],\n",
       "         [0.       , 0.       , 0.       , 0.       ],\n",
       "         ...,\n",
       "         [0.       , 0.       , 0.       , 0.       ],\n",
       "         [0.       , 0.       , 0.       , 0.       ],\n",
       "         [0.       , 0.       , 0.       , 0.       ]],\n",
       " \n",
       "        ...,\n",
       " \n",
       "        [[0.       , 0.       , 0.       , 0.       ],\n",
       "         [0.       , 0.       , 0.       , 0.       ],\n",
       "         [0.       , 0.       , 0.       , 0.       ],\n",
       "         ...,\n",
       "         [1.       , 1.       , 1.       , 5.       ],\n",
       "         [1.       , 1.       , 1.       , 5.       ],\n",
       "         [1.       , 1.       , 1.       , 5.       ]],\n",
       " \n",
       "        [[0.       , 0.       , 0.       , 0.       ],\n",
       "         [0.       , 0.       , 0.       , 0.       ],\n",
       "         [0.       , 0.       , 0.       , 0.       ],\n",
       "         ...,\n",
       "         [1.       , 1.       , 1.       , 5.0000005],\n",
       "         [1.       , 1.       , 1.       , 5.0000005],\n",
       "         [1.       , 1.       , 1.       , 5.0000005]],\n",
       " \n",
       "        [[0.       , 0.       , 0.       , 0.       ],\n",
       "         [0.       , 0.       , 0.       , 0.       ],\n",
       "         [0.       , 0.       , 0.       , 0.       ],\n",
       "         ...,\n",
       "         [1.       , 1.       , 1.       , 5.       ],\n",
       "         [1.       , 1.       , 1.       , 4.9999995],\n",
       "         [1.       , 1.       , 1.       , 5.       ]]], dtype=float32),\n",
       " Array([[   0.,    0.,    0., ...,    0.,    0.,    0.],\n",
       "        [   0.,    0.,    0., ...,    0.,    0.,    0.],\n",
       "        [   0.,    0.,    0., ...,    0.,    0.,    0.],\n",
       "        ...,\n",
       "        [   0.,    0.,    0., ..., 4096., 4096., 4096.],\n",
       "        [   0.,    0.,    0., ..., 4096., 4096., 4096.],\n",
       "        [   0.,    0.,    0., ..., 4096., 4096., 4096.]], dtype=float32))"
      ]
     },
     "execution_count": 6,
     "metadata": {},
     "output_type": "execute_result"
    }
   ],
   "source": [
    "trace.get_retval()[2]"
   ]
  },
  {
   "cell_type": "code",
   "execution_count": 7,
   "metadata": {},
   "outputs": [
    {
     "ename": "TypeError",
     "evalue": "tuple indices must be integers or slices, not tuple",
     "output_type": "error",
     "traceback": [
      "\u001b[0;31m---------------------------------------------------------------------------\u001b[0m",
      "\u001b[0;31mTypeError\u001b[0m                                 Traceback (most recent call last)",
      "Cell \u001b[0;32mIn[7], line 1\u001b[0m\n\u001b[0;32m----> 1\u001b[0m \u001b[43mrerun_log_trace\u001b[49m\u001b[43m(\u001b[49m\u001b[43mtrace\u001b[49m\u001b[43m)\u001b[49m\n",
      "File \u001b[0;32m~/b3d/track3/tracking/model.py:143\u001b[0m, in \u001b[0;36mrerun_log_trace\u001b[0;34m(trace)\u001b[0m\n\u001b[1;32m    141\u001b[0m \u001b[38;5;28;01mfor\u001b[39;00m t \u001b[38;5;129;01min\u001b[39;00m \u001b[38;5;28mrange\u001b[39m(T):\n\u001b[1;32m    142\u001b[0m     rr\u001b[38;5;241m.\u001b[39mset_time_sequence(\u001b[38;5;124m\"\u001b[39m\u001b[38;5;124mframes\u001b[39m\u001b[38;5;124m\"\u001b[39m, t)\n\u001b[0;32m--> 143\u001b[0m     rr\u001b[38;5;241m.\u001b[39mlog(\u001b[38;5;124m\"\u001b[39m\u001b[38;5;124m/obs/rgb\u001b[39m\u001b[38;5;124m\"\u001b[39m, rr\u001b[38;5;241m.\u001b[39mImage(\u001b[43mobs\u001b[49m\u001b[43m[\u001b[49m\u001b[43mt\u001b[49m\u001b[43m,\u001b[49m\u001b[43m \u001b[49m\u001b[38;5;241;43m.\u001b[39;49m\u001b[38;5;241;43m.\u001b[39;49m\u001b[38;5;241;43m.\u001b[39;49m\u001b[43m,\u001b[49m\u001b[43m \u001b[49m\u001b[43m:\u001b[49m\u001b[38;5;241;43m3\u001b[39;49m\u001b[43m]\u001b[49m))\n\u001b[1;32m    144\u001b[0m     rr\u001b[38;5;241m.\u001b[39mlog(\u001b[38;5;124m\"\u001b[39m\u001b[38;5;124m/obs/depth\u001b[39m\u001b[38;5;124m\"\u001b[39m, rr\u001b[38;5;241m.\u001b[39mDepthImage(obs[t, \u001b[38;5;241m.\u001b[39m\u001b[38;5;241m.\u001b[39m\u001b[38;5;241m.\u001b[39m, \u001b[38;5;241m3\u001b[39m]))\n\u001b[1;32m    146\u001b[0m     kp_mesh \u001b[38;5;241m=\u001b[39m keypoint_mesh\u001b[38;5;241m.\u001b[39mtransform_by_pose(poses[t])\n",
      "\u001b[0;31mTypeError\u001b[0m: tuple indices must be integers or slices, not tuple"
     ]
    }
   ],
   "source": [
    "rerun_log_trace(trace)"
   ]
  },
  {
   "cell_type": "code",
   "execution_count": 17,
   "metadata": {},
   "outputs": [
    {
     "ename": "AttributeError",
     "evalue": "'Pose' object has no attribute 'ndim'",
     "output_type": "error",
     "traceback": [
      "\u001b[0;31m---------------------------------------------------------------------------\u001b[0m",
      "\u001b[0;31mAttributeError\u001b[0m                            Traceback (most recent call last)",
      "Cell \u001b[0;32mIn[17], line 13\u001b[0m\n\u001b[1;32m      7\u001b[0m \u001b[38;5;28;01mdef\u001b[39;00m \u001b[38;5;21mrender_mesh\u001b[39m(mesh):\n\u001b[1;32m      8\u001b[0m     \u001b[38;5;28;01mreturn\u001b[39;00m mesh\u001b[38;5;241m.\u001b[39mto_image(\u001b[38;5;241m64\u001b[39m, \u001b[38;5;241m64\u001b[39m,\n\u001b[1;32m      9\u001b[0m             \u001b[38;5;28;01mlambda\u001b[39;00m rgbd: rgbd[\u001b[38;5;241m-\u001b[39m\u001b[38;5;241m1\u001b[39m],\n\u001b[1;32m     10\u001b[0m             jnp\u001b[38;5;241m.\u001b[39marray([\u001b[38;5;241m1.\u001b[39m, \u001b[38;5;241m1.\u001b[39m, \u001b[38;5;241m1.\u001b[39m, \u001b[38;5;241m10.\u001b[39m])\n\u001b[1;32m     11\u001b[0m         )\n\u001b[0;32m---> 13\u001b[0m img \u001b[38;5;241m=\u001b[39m \u001b[43mjax\u001b[49m\u001b[38;5;241;43m.\u001b[39;49m\u001b[43mvmap\u001b[49m\u001b[43m(\u001b[49m\u001b[43mrender_mesh\u001b[49m\u001b[43m)\u001b[49m\u001b[43m(\u001b[49m\u001b[43msq\u001b[49m\u001b[43m)\u001b[49m\n\u001b[1;32m     14\u001b[0m img[\u001b[38;5;241m0\u001b[39m]\u001b[38;5;241m.\u001b[39mshape\n",
      "    \u001b[0;31m[... skipping hidden 3 frame]\u001b[0m\n",
      "Cell \u001b[0;32mIn[17], line 8\u001b[0m, in \u001b[0;36mrender_mesh\u001b[0;34m(mesh)\u001b[0m\n\u001b[1;32m      7\u001b[0m \u001b[38;5;28;01mdef\u001b[39;00m \u001b[38;5;21mrender_mesh\u001b[39m(mesh):\n\u001b[0;32m----> 8\u001b[0m     \u001b[38;5;28;01mreturn\u001b[39;00m \u001b[43mmesh\u001b[49m\u001b[38;5;241;43m.\u001b[39;49m\u001b[43mto_image\u001b[49m\u001b[43m(\u001b[49m\u001b[38;5;241;43m64\u001b[39;49m\u001b[43m,\u001b[49m\u001b[43m \u001b[49m\u001b[38;5;241;43m64\u001b[39;49m\u001b[43m,\u001b[49m\n\u001b[1;32m      9\u001b[0m \u001b[43m            \u001b[49m\u001b[38;5;28;43;01mlambda\u001b[39;49;00m\u001b[43m \u001b[49m\u001b[43mrgbd\u001b[49m\u001b[43m:\u001b[49m\u001b[43m \u001b[49m\u001b[43mrgbd\u001b[49m\u001b[43m[\u001b[49m\u001b[38;5;241;43m-\u001b[39;49m\u001b[38;5;241;43m1\u001b[39;49m\u001b[43m]\u001b[49m\u001b[43m,\u001b[49m\n\u001b[1;32m     10\u001b[0m \u001b[43m            \u001b[49m\u001b[43mjnp\u001b[49m\u001b[38;5;241;43m.\u001b[39;49m\u001b[43marray\u001b[49m\u001b[43m(\u001b[49m\u001b[43m[\u001b[49m\u001b[38;5;241;43m1.\u001b[39;49m\u001b[43m,\u001b[49m\u001b[43m \u001b[49m\u001b[38;5;241;43m1.\u001b[39;49m\u001b[43m,\u001b[49m\u001b[43m \u001b[49m\u001b[38;5;241;43m1.\u001b[39;49m\u001b[43m,\u001b[49m\u001b[43m \u001b[49m\u001b[38;5;241;43m10.\u001b[39;49m\u001b[43m]\u001b[49m\u001b[43m)\u001b[49m\n\u001b[1;32m     11\u001b[0m \u001b[43m        \u001b[49m\u001b[43m)\u001b[49m\n",
      "File \u001b[0;32m~/b3d/track3/tracking/mesh.py:224\u001b[0m, in \u001b[0;36mMesh.to_image\u001b[0;34m(self, width, height, attributes_to_depth, default_attribute)\u001b[0m\n\u001b[1;32m    213\u001b[0m \u001b[38;5;250m\u001b[39m\u001b[38;5;124;03m\"\"\"\u001b[39;00m\n\u001b[1;32m    214\u001b[0m \u001b[38;5;124;03mConvert mesh to an image.\u001b[39;00m\n\u001b[1;32m    215\u001b[0m \u001b[38;5;124;03mArgs:\u001b[39;00m\n\u001b[0;32m   (...)\u001b[0m\n\u001b[1;32m    220\u001b[0m \u001b[38;5;124;03m    - default_attribute : The value returned at pixels where no triangle is visible.\u001b[39;00m\n\u001b[1;32m    221\u001b[0m \u001b[38;5;124;03m\"\"\"\u001b[39;00m\n\u001b[1;32m    222\u001b[0m \u001b[38;5;66;03m# get_pixel = lambda i, j: self._get_pixel(i, j, attributes_to_depth, default_attribute)\u001b[39;00m\n\u001b[1;32m    223\u001b[0m \u001b[38;5;66;03m# return jax.vmap(jax.vmap(get_pixel, in_axes=(0, None)), in_axes=(None, 0))(jnp.arange(width), jnp.arange(height))\u001b[39;00m\n\u001b[0;32m--> 224\u001b[0m \u001b[38;5;28;01mreturn\u001b[39;00m \u001b[43mrasterize_mesh\u001b[49m\u001b[43m(\u001b[49m\u001b[38;5;28;43mself\u001b[39;49m\u001b[43m,\u001b[49m\u001b[43m \u001b[49m\u001b[43mwidth\u001b[49m\u001b[43m,\u001b[49m\u001b[43m \u001b[49m\u001b[43mheight\u001b[49m\u001b[43m,\u001b[49m\u001b[43m \u001b[49m\u001b[43mattributes_to_depth\u001b[49m\u001b[43m,\u001b[49m\u001b[43m \u001b[49m\u001b[43mdefault_attribute\u001b[49m\u001b[43m)\u001b[49m\n",
      "File \u001b[0;32m~/b3d/track3/tracking/mesh.py:289\u001b[0m, in \u001b[0;36mrasterize_mesh\u001b[0;34m(mesh, width, height, attributes_to_depth, default_attribute)\u001b[0m\n\u001b[1;32m    285\u001b[0m vertices \u001b[38;5;241m+\u001b[39m\u001b[38;5;241m=\u001b[39m (jnp\u001b[38;5;241m.\u001b[39marray([\u001b[38;5;241m0\u001b[39m, \u001b[38;5;241m0\u001b[39m, \u001b[38;5;241m1\u001b[39m\u001b[38;5;241m/\u001b[39m(\u001b[38;5;241m100\u001b[39m \u001b[38;5;241m*\u001b[39m fx)])\u001b[38;5;241m.\u001b[39mreshape(\u001b[38;5;241m-\u001b[39m\u001b[38;5;241m1\u001b[39m, \u001b[38;5;241m1\u001b[39m) \u001b[38;5;241m@\u001b[39m depths\u001b[38;5;241m.\u001b[39mreshape(\u001b[38;5;241m1\u001b[39m, \u001b[38;5;241m-\u001b[39m\u001b[38;5;241m1\u001b[39m))\u001b[38;5;241m.\u001b[39mtranspose()\n\u001b[1;32m    287\u001b[0m identity_pose_3d \u001b[38;5;241m=\u001b[39m Pose\u001b[38;5;241m.\u001b[39midentity() \u001b[38;5;66;03m#.as_matrix()\u001b[39;00m\n\u001b[0;32m--> 289\u001b[0m rendered \u001b[38;5;241m=\u001b[39m \u001b[43mrenderer\u001b[49m\u001b[38;5;241;43m.\u001b[39;49m\u001b[43mrender_attribute\u001b[49m\u001b[43m(\u001b[49m\n\u001b[1;32m    290\u001b[0m \u001b[43m    \u001b[49m\u001b[43midentity_pose_3d\u001b[49m\u001b[43m[\u001b[49m\u001b[38;5;28;43;01mNone\u001b[39;49;00m\u001b[43m,\u001b[49m\u001b[43m \u001b[49m\u001b[38;5;241;43m.\u001b[39;49m\u001b[38;5;241;43m.\u001b[39;49m\u001b[38;5;241;43m.\u001b[39;49m\u001b[43m]\u001b[49m\u001b[43m,\u001b[49m\n\u001b[1;32m    291\u001b[0m \u001b[43m    \u001b[49m\u001b[43mvertices\u001b[49m\u001b[43m,\u001b[49m\n\u001b[1;32m    292\u001b[0m \u001b[43m    \u001b[49m\u001b[43mmesh\u001b[49m\u001b[38;5;241;43m.\u001b[39;49m\u001b[43mfaces\u001b[49m\u001b[43m,\u001b[49m\n\u001b[1;32m    293\u001b[0m \u001b[43m    \u001b[49m\u001b[43mjnp\u001b[49m\u001b[38;5;241;43m.\u001b[39;49m\u001b[43marray\u001b[49m\u001b[43m(\u001b[49m\u001b[43m[\u001b[49m\u001b[38;5;241;43m0\u001b[39;49m\u001b[43m,\u001b[49m\u001b[43m \u001b[49m\u001b[43mmesh\u001b[49m\u001b[38;5;241;43m.\u001b[39;49m\u001b[43mfaces\u001b[49m\u001b[38;5;241;43m.\u001b[39;49m\u001b[43mshape\u001b[49m\u001b[43m[\u001b[49m\u001b[38;5;241;43m0\u001b[39;49m\u001b[43m]\u001b[49m\u001b[43m]\u001b[49m\u001b[43m)\u001b[49m\u001b[38;5;241;43m.\u001b[39;49m\u001b[43mreshape\u001b[49m\u001b[43m(\u001b[49m\u001b[38;5;241;43m1\u001b[39;49m\u001b[43m,\u001b[49m\u001b[43m \u001b[49m\u001b[38;5;241;43m2\u001b[39;49m\u001b[43m)\u001b[49m\u001b[43m,\u001b[49m\u001b[43m \u001b[49m\u001b[38;5;66;43;03m# 1 object, with all faces\u001b[39;49;00m\n\u001b[1;32m    294\u001b[0m \u001b[43m    \u001b[49m\u001b[43mmesh\u001b[49m\u001b[38;5;241;43m.\u001b[39;49m\u001b[43mattributes\u001b[49m\n\u001b[1;32m    295\u001b[0m \u001b[43m\u001b[49m\u001b[43m)\u001b[49m\n\u001b[1;32m    297\u001b[0m \u001b[38;5;28;01mreturn\u001b[39;00m rendered\n",
      "File \u001b[0;32m~/b3d/b3d/renderer.py:270\u001b[0m, in \u001b[0;36mRenderer.render_attribute\u001b[0;34m(self, pose, vertices, faces, ranges, attributes)\u001b[0m\n\u001b[1;32m    246\u001b[0m \u001b[38;5;28;01mdef\u001b[39;00m \u001b[38;5;21mrender_attribute\u001b[39m(\u001b[38;5;28mself\u001b[39m, pose, vertices, faces, ranges, attributes):\n\u001b[1;32m    247\u001b[0m \u001b[38;5;250m    \u001b[39m\u001b[38;5;124;03m\"\"\"\u001b[39;00m\n\u001b[1;32m    248\u001b[0m \u001b[38;5;124;03m    Render a single scenes to an image by rasterizing and then interpolating attributes.\u001b[39;00m\n\u001b[1;32m    249\u001b[0m \n\u001b[0;32m   (...)\u001b[0m\n\u001b[1;32m    268\u001b[0m \u001b[38;5;124;03m            Depth of the intersection point. Zero if the pixel ray doesn't collide a triangle.\u001b[39;00m\n\u001b[1;32m    269\u001b[0m \u001b[38;5;124;03m    \"\"\"\u001b[39;00m\n\u001b[0;32m--> 270\u001b[0m     image, zs \u001b[38;5;241m=\u001b[39m \u001b[38;5;28;43mself\u001b[39;49m\u001b[38;5;241;43m.\u001b[39;49m\u001b[43mrender_attribute_many\u001b[49m\u001b[43m(\u001b[49m\n\u001b[1;32m    271\u001b[0m \u001b[43m        \u001b[49m\u001b[43mpose\u001b[49m\u001b[43m[\u001b[49m\u001b[38;5;28;43;01mNone\u001b[39;49;00m\u001b[43m,\u001b[49m\u001b[43m \u001b[49m\u001b[38;5;241;43m.\u001b[39;49m\u001b[38;5;241;43m.\u001b[39;49m\u001b[38;5;241;43m.\u001b[39;49m\u001b[43m]\u001b[49m\u001b[43m,\u001b[49m\u001b[43m \u001b[49m\u001b[43mvertices\u001b[49m\u001b[43m,\u001b[49m\u001b[43m \u001b[49m\u001b[43mfaces\u001b[49m\u001b[43m,\u001b[49m\u001b[43m \u001b[49m\u001b[43mranges\u001b[49m\u001b[43m,\u001b[49m\u001b[43m \u001b[49m\u001b[43mattributes\u001b[49m\n\u001b[1;32m    272\u001b[0m \u001b[43m    \u001b[49m\u001b[43m)\u001b[49m\n\u001b[1;32m    273\u001b[0m     \u001b[38;5;28;01mreturn\u001b[39;00m image[\u001b[38;5;241m0\u001b[39m], zs[\u001b[38;5;241m0\u001b[39m]\n",
      "File \u001b[0;32m~/b3d/b3d/renderer.py:234\u001b[0m, in \u001b[0;36mRenderer.render_attribute_many\u001b[0;34m(self, poses, vertices, faces, ranges, attributes)\u001b[0m\n\u001b[1;32m    210\u001b[0m \u001b[38;5;28;01mdef\u001b[39;00m \u001b[38;5;21mrender_attribute_many\u001b[39m(\u001b[38;5;28mself\u001b[39m, poses, vertices, faces, ranges, attributes):\n\u001b[1;32m    211\u001b[0m \u001b[38;5;250m    \u001b[39m\u001b[38;5;124;03m\"\"\"\u001b[39;00m\n\u001b[1;32m    212\u001b[0m \u001b[38;5;124;03m    Render many scenes to an image by rasterizing and then interpolating attributes.\u001b[39;00m\n\u001b[1;32m    213\u001b[0m \n\u001b[0;32m   (...)\u001b[0m\n\u001b[1;32m    232\u001b[0m \u001b[38;5;124;03m            Depth of the intersection point. Zero if the pixel ray doesn't collide a triangle.\u001b[39;00m\n\u001b[1;32m    233\u001b[0m \u001b[38;5;124;03m    \"\"\"\u001b[39;00m\n\u001b[0;32m--> 234\u001b[0m     uvs, object_ids, triangle_ids, zs \u001b[38;5;241m=\u001b[39m \u001b[38;5;28;43mself\u001b[39;49m\u001b[38;5;241;43m.\u001b[39;49m\u001b[43mrasterize_many\u001b[49m\u001b[43m(\u001b[49m\n\u001b[1;32m    235\u001b[0m \u001b[43m        \u001b[49m\u001b[43mposes\u001b[49m\u001b[43m,\u001b[49m\u001b[43m \u001b[49m\u001b[43mvertices\u001b[49m\u001b[43m,\u001b[49m\u001b[43m \u001b[49m\u001b[43mfaces\u001b[49m\u001b[43m,\u001b[49m\u001b[43m \u001b[49m\u001b[43mranges\u001b[49m\n\u001b[1;32m    236\u001b[0m \u001b[43m    \u001b[49m\u001b[43m)\u001b[49m\n\u001b[1;32m    237\u001b[0m     mask \u001b[38;5;241m=\u001b[39m object_ids \u001b[38;5;241m>\u001b[39m \u001b[38;5;241m0\u001b[39m\n\u001b[1;32m    239\u001b[0m     interpolated_values \u001b[38;5;241m=\u001b[39m \u001b[38;5;28mself\u001b[39m\u001b[38;5;241m.\u001b[39minterpolate_many(\n\u001b[1;32m    240\u001b[0m         attributes, uvs, triangle_ids, faces\n\u001b[1;32m    241\u001b[0m     )\n",
      "File \u001b[0;32m~/b3d/b3d/renderer.py:168\u001b[0m, in \u001b[0;36mRenderer.rasterize_many\u001b[0;34m(self, poses, vertices, faces, ranges)\u001b[0m\n\u001b[1;32m    139\u001b[0m \u001b[38;5;250m\u001b[39m\u001b[38;5;124;03m\"\"\"\u001b[39;00m\n\u001b[1;32m    140\u001b[0m \u001b[38;5;124;03mRasterize many scenes in parallel. For scene number S and pixel at row i and column j,\u001b[39;00m\n\u001b[1;32m    141\u001b[0m \u001b[38;5;124;03muvs[S, i, j] contains the u and v barycentric coordinates of the intersection point with\u001b[39;00m\n\u001b[0;32m   (...)\u001b[0m\n\u001b[1;32m    163\u001b[0m \u001b[38;5;124;03m        Depth of the intersection point. Zero if the pixel ray doesn't collide a triangle.\u001b[39;00m\n\u001b[1;32m    164\u001b[0m \u001b[38;5;124;03m\"\"\"\u001b[39;00m\n\u001b[1;32m    165\u001b[0m vertices_h \u001b[38;5;241m=\u001b[39m jnp\u001b[38;5;241m.\u001b[39mconcatenate(\n\u001b[1;32m    166\u001b[0m     [vertices, jnp\u001b[38;5;241m.\u001b[39mones((vertices\u001b[38;5;241m.\u001b[39mshape[\u001b[38;5;241m0\u001b[39m], \u001b[38;5;241m1\u001b[39m))], axis\u001b[38;5;241m=\u001b[39m\u001b[38;5;241m-\u001b[39m\u001b[38;5;241m1\u001b[39m\n\u001b[1;32m    167\u001b[0m )\n\u001b[0;32m--> 168\u001b[0m rast_out, rast_out_aux \u001b[38;5;241m=\u001b[39m \u001b[38;5;28;43mself\u001b[39;49m\u001b[38;5;241;43m.\u001b[39;49m\u001b[43m_rasterize_partial\u001b[49m\u001b[43m(\u001b[49m\n\u001b[1;32m    169\u001b[0m \u001b[43m    \u001b[49m\u001b[43mposes\u001b[49m\u001b[43m,\u001b[49m\n\u001b[1;32m    170\u001b[0m \u001b[43m    \u001b[49m\u001b[43mvertices_h\u001b[49m\u001b[43m,\u001b[49m\n\u001b[1;32m    171\u001b[0m \u001b[43m    \u001b[49m\u001b[43mfaces\u001b[49m\u001b[43m,\u001b[49m\n\u001b[1;32m    172\u001b[0m \u001b[43m    \u001b[49m\u001b[43mranges\u001b[49m\u001b[43m,\u001b[49m\n\u001b[1;32m    173\u001b[0m \u001b[43m    \u001b[49m\u001b[38;5;28;43mself\u001b[39;49m\u001b[38;5;241;43m.\u001b[39;49m\u001b[43mprojection_matrix\u001b[49m\u001b[43m,\u001b[49m\n\u001b[1;32m    174\u001b[0m \u001b[43m    \u001b[49m\u001b[38;5;28;43mself\u001b[39;49m\u001b[38;5;241;43m.\u001b[39;49m\u001b[43mresolution\u001b[49m\u001b[43m,\u001b[49m\n\u001b[1;32m    175\u001b[0m \u001b[43m\u001b[49m\u001b[43m)\u001b[49m\n\u001b[1;32m    176\u001b[0m uvs \u001b[38;5;241m=\u001b[39m rast_out[\u001b[38;5;241m.\u001b[39m\u001b[38;5;241m.\u001b[39m\u001b[38;5;241m.\u001b[39m, :\u001b[38;5;241m2\u001b[39m]\n\u001b[1;32m    177\u001b[0m zs \u001b[38;5;241m=\u001b[39m rast_out[\u001b[38;5;241m.\u001b[39m\u001b[38;5;241m.\u001b[39m\u001b[38;5;241m.\u001b[39m, \u001b[38;5;241m3\u001b[39m]\n",
      "    \u001b[0;31m[... skipping hidden 7 frame]\u001b[0m\n",
      "File \u001b[0;32m~/b3d/b3d/renderer.py:85\u001b[0m, in \u001b[0;36mRenderer._rasterize\u001b[0;34m(self, pose, pos, tri, ranges, projMatrix, resolution)\u001b[0m\n\u001b[1;32m     83\u001b[0m \u001b[38;5;129m@functools\u001b[39m\u001b[38;5;241m.\u001b[39mpartial(jax\u001b[38;5;241m.\u001b[39mcustom_vjp, nondiff_argnums\u001b[38;5;241m=\u001b[39m(\u001b[38;5;241m0\u001b[39m,))\n\u001b[1;32m     84\u001b[0m \u001b[38;5;28;01mdef\u001b[39;00m \u001b[38;5;21m_rasterize\u001b[39m(\u001b[38;5;28mself\u001b[39m, pose, pos, tri, ranges, projMatrix, resolution):\n\u001b[0;32m---> 85\u001b[0m     \u001b[38;5;28;01mreturn\u001b[39;00m \u001b[43m_rasterize_fwd_custom_call\u001b[49m\u001b[43m(\u001b[49m\n\u001b[1;32m     86\u001b[0m \u001b[43m        \u001b[49m\u001b[38;5;28;43mself\u001b[39;49m\u001b[43m,\u001b[49m\u001b[43m \u001b[49m\u001b[43mpose\u001b[49m\u001b[43m,\u001b[49m\u001b[43m \u001b[49m\u001b[43mpos\u001b[49m\u001b[43m,\u001b[49m\u001b[43m \u001b[49m\u001b[43mtri\u001b[49m\u001b[43m,\u001b[49m\u001b[43m \u001b[49m\u001b[43mranges\u001b[49m\u001b[43m,\u001b[49m\u001b[43m \u001b[49m\u001b[43mprojMatrix\u001b[49m\u001b[43m,\u001b[49m\u001b[43m \u001b[49m\u001b[43mresolution\u001b[49m\n\u001b[1;32m     87\u001b[0m \u001b[43m    \u001b[49m\u001b[43m)\u001b[49m\n",
      "File \u001b[0;32m~/b3d/b3d/renderer.py:299\u001b[0m, in \u001b[0;36m_rasterize_fwd_custom_call\u001b[0;34m(r, pose, pos, tri, ranges, projMatrix, resolution)\u001b[0m\n\u001b[1;32m    296\u001b[0m \u001b[38;5;28;01mdef\u001b[39;00m \u001b[38;5;21m_rasterize_fwd_custom_call\u001b[39m(\n\u001b[1;32m    297\u001b[0m     r: \u001b[38;5;124m\"\u001b[39m\u001b[38;5;124mRenderer\u001b[39m\u001b[38;5;124m\"\u001b[39m, pose, pos, tri, ranges, projMatrix, resolution\n\u001b[1;32m    298\u001b[0m ):\n\u001b[0;32m--> 299\u001b[0m     \u001b[38;5;28;01mreturn\u001b[39;00m \u001b[43m_build_rasterize_fwd_primitive\u001b[49m\u001b[43m(\u001b[49m\u001b[43mr\u001b[49m\u001b[43m)\u001b[49m\u001b[38;5;241;43m.\u001b[39;49m\u001b[43mbind\u001b[49m\u001b[43m(\u001b[49m\n\u001b[1;32m    300\u001b[0m \u001b[43m        \u001b[49m\u001b[43mpose\u001b[49m\u001b[43m,\u001b[49m\u001b[43m \u001b[49m\u001b[43mpos\u001b[49m\u001b[43m,\u001b[49m\u001b[43m \u001b[49m\u001b[43mtri\u001b[49m\u001b[43m,\u001b[49m\u001b[43m \u001b[49m\u001b[43mranges\u001b[49m\u001b[43m,\u001b[49m\u001b[43m \u001b[49m\u001b[43mprojMatrix\u001b[49m\u001b[43m,\u001b[49m\u001b[43m \u001b[49m\u001b[43mresolution\u001b[49m\n\u001b[1;32m    301\u001b[0m \u001b[43m    \u001b[49m\u001b[43m)\u001b[49m\n",
      "    \u001b[0;31m[... skipping hidden 3 frame]\u001b[0m\n",
      "File \u001b[0;32m~/b3d/b3d/renderer.py:423\u001b[0m, in \u001b[0;36m_build_rasterize_fwd_primitive.<locals>._render_batch\u001b[0;34m(args, axes)\u001b[0m\n\u001b[1;32m    421\u001b[0m \u001b[38;5;28;01mdef\u001b[39;00m \u001b[38;5;21m_render_batch\u001b[39m(args, axes):\n\u001b[1;32m    422\u001b[0m     pose, pos, tri, ranges, projMatrix, resolution \u001b[38;5;241m=\u001b[39m args\n\u001b[0;32m--> 423\u001b[0m     \u001b[38;5;28;01mif\u001b[39;00m \u001b[43mpose\u001b[49m\u001b[38;5;241;43m.\u001b[39;49m\u001b[43mndim\u001b[49m \u001b[38;5;241m!=\u001b[39m \u001b[38;5;241m5\u001b[39m:\n\u001b[1;32m    424\u001b[0m         \u001b[38;5;28;01mraise\u001b[39;00m \u001b[38;5;167;01mNotImplementedError\u001b[39;00m(\u001b[38;5;124m\"\u001b[39m\u001b[38;5;124mUnderlying primitive must operate on 4D poses.\u001b[39m\u001b[38;5;124m\"\u001b[39m)\n\u001b[1;32m    426\u001b[0m     original_shape \u001b[38;5;241m=\u001b[39m pose\u001b[38;5;241m.\u001b[39mshape\n",
      "\u001b[0;31mAttributeError\u001b[0m: 'Pose' object has no attribute 'ndim'"
     ]
    }
   ],
   "source": [
    "from tracking.mesh import Mesh\n",
    "\n",
    "sq = jax.vmap(\n",
    "    lambda x: Mesh.square_mesh([0., 0.], [x, x], jnp.array([0., 0., 0., 1.]))\n",
    ")(jnp.array([20., 30.]))\n",
    "\n",
    "def render_mesh(mesh):\n",
    "    return mesh.to_image(64, 64,\n",
    "            lambda rgbd: rgbd[-1],\n",
    "            jnp.array([1., 1., 1., 10.])\n",
    "        )\n",
    "\n",
    "img = jax.vmap(render_mesh)(sq)\n",
    "img[0].shape"
   ]
  },
  {
   "cell_type": "code",
   "execution_count": 20,
   "metadata": {},
   "outputs": [
    {
     "ename": "TypeError",
     "evalue": "Value Pose(position=Traced<ShapedArray(float32[1,1,3])>with<DynamicJaxprTrace(level=1/1)>, quaternion=Traced<ShapedArray(float32[1,1,4])>with<DynamicJaxprTrace(level=1/1)>) with type <class 'b3d.pose.Pose'> is not a valid JAX type",
     "output_type": "error",
     "traceback": [
      "\u001b[0;31m---------------------------------------------------------------------------\u001b[0m",
      "\u001b[0;31mTypeError\u001b[0m                                 Traceback (most recent call last)",
      "Cell \u001b[0;32mIn[20], line 5\u001b[0m\n\u001b[1;32m      1\u001b[0m \u001b[38;5;28;01mfrom\u001b[39;00m \u001b[38;5;21;01mtracking\u001b[39;00m\u001b[38;5;21;01m.\u001b[39;00m\u001b[38;5;21;01mmesh\u001b[39;00m \u001b[38;5;28;01mimport\u001b[39;00m Mesh\n\u001b[1;32m      3\u001b[0m sq \u001b[38;5;241m=\u001b[39m Mesh\u001b[38;5;241m.\u001b[39msquare_mesh(jnp\u001b[38;5;241m.\u001b[39marray([\u001b[38;5;241m0.\u001b[39m, \u001b[38;5;241m0.\u001b[39m]), jnp\u001b[38;5;241m.\u001b[39marray([\u001b[38;5;241m20.\u001b[39m, \u001b[38;5;241m20.\u001b[39m]), jnp\u001b[38;5;241m.\u001b[39marray([\u001b[38;5;241m0.\u001b[39m, \u001b[38;5;241m0.\u001b[39m, \u001b[38;5;241m0.\u001b[39m, \u001b[38;5;241m1.\u001b[39m]))\n\u001b[0;32m----> 5\u001b[0m img \u001b[38;5;241m=\u001b[39m \u001b[43msq\u001b[49m\u001b[38;5;241;43m.\u001b[39;49m\u001b[43mto_image\u001b[49m\u001b[43m(\u001b[49m\u001b[38;5;241;43m64\u001b[39;49m\u001b[43m,\u001b[49m\u001b[43m \u001b[49m\u001b[38;5;241;43m64\u001b[39;49m\u001b[43m,\u001b[49m\n\u001b[1;32m      6\u001b[0m \u001b[43m        \u001b[49m\u001b[38;5;28;43;01mlambda\u001b[39;49;00m\u001b[43m \u001b[49m\u001b[43mrgbd\u001b[49m\u001b[43m:\u001b[49m\u001b[43m \u001b[49m\u001b[43mrgbd\u001b[49m\u001b[43m[\u001b[49m\u001b[38;5;241;43m-\u001b[39;49m\u001b[38;5;241;43m1\u001b[39;49m\u001b[43m]\u001b[49m\u001b[43m,\u001b[49m\n\u001b[1;32m      7\u001b[0m \u001b[43m        \u001b[49m\u001b[43mjnp\u001b[49m\u001b[38;5;241;43m.\u001b[39;49m\u001b[43marray\u001b[49m\u001b[43m(\u001b[49m\u001b[43m[\u001b[49m\u001b[38;5;241;43m1.\u001b[39;49m\u001b[43m,\u001b[49m\u001b[43m \u001b[49m\u001b[38;5;241;43m1.\u001b[39;49m\u001b[43m,\u001b[49m\u001b[43m \u001b[49m\u001b[38;5;241;43m1.\u001b[39;49m\u001b[43m,\u001b[49m\u001b[43m \u001b[49m\u001b[38;5;241;43m10.\u001b[39;49m\u001b[43m]\u001b[49m\u001b[43m)\u001b[49m\n\u001b[1;32m      8\u001b[0m \u001b[43m    \u001b[49m\u001b[43m)\u001b[49m\n\u001b[1;32m     10\u001b[0m img[\u001b[38;5;241m0\u001b[39m]\u001b[38;5;241m.\u001b[39mshape\n",
      "File \u001b[0;32m~/b3d/track3/tracking/mesh.py:224\u001b[0m, in \u001b[0;36mMesh.to_image\u001b[0;34m(self, width, height, attributes_to_depth, default_attribute)\u001b[0m\n\u001b[1;32m    213\u001b[0m \u001b[38;5;250m\u001b[39m\u001b[38;5;124;03m\"\"\"\u001b[39;00m\n\u001b[1;32m    214\u001b[0m \u001b[38;5;124;03mConvert mesh to an image.\u001b[39;00m\n\u001b[1;32m    215\u001b[0m \u001b[38;5;124;03mArgs:\u001b[39;00m\n\u001b[0;32m   (...)\u001b[0m\n\u001b[1;32m    220\u001b[0m \u001b[38;5;124;03m    - default_attribute : The value returned at pixels where no triangle is visible.\u001b[39;00m\n\u001b[1;32m    221\u001b[0m \u001b[38;5;124;03m\"\"\"\u001b[39;00m\n\u001b[1;32m    222\u001b[0m \u001b[38;5;66;03m# get_pixel = lambda i, j: self._get_pixel(i, j, attributes_to_depth, default_attribute)\u001b[39;00m\n\u001b[1;32m    223\u001b[0m \u001b[38;5;66;03m# return jax.vmap(jax.vmap(get_pixel, in_axes=(0, None)), in_axes=(None, 0))(jnp.arange(width), jnp.arange(height))\u001b[39;00m\n\u001b[0;32m--> 224\u001b[0m \u001b[38;5;28;01mreturn\u001b[39;00m \u001b[43mrasterize_mesh\u001b[49m\u001b[43m(\u001b[49m\u001b[38;5;28;43mself\u001b[39;49m\u001b[43m,\u001b[49m\u001b[43m \u001b[49m\u001b[43mwidth\u001b[49m\u001b[43m,\u001b[49m\u001b[43m \u001b[49m\u001b[43mheight\u001b[49m\u001b[43m,\u001b[49m\u001b[43m \u001b[49m\u001b[43mattributes_to_depth\u001b[49m\u001b[43m,\u001b[49m\u001b[43m \u001b[49m\u001b[43mdefault_attribute\u001b[49m\u001b[43m)\u001b[49m\n",
      "File \u001b[0;32m~/b3d/track3/tracking/mesh.py:289\u001b[0m, in \u001b[0;36mrasterize_mesh\u001b[0;34m(mesh, width, height, attributes_to_depth, default_attribute)\u001b[0m\n\u001b[1;32m    285\u001b[0m vertices \u001b[38;5;241m+\u001b[39m\u001b[38;5;241m=\u001b[39m (jnp\u001b[38;5;241m.\u001b[39marray([\u001b[38;5;241m0\u001b[39m, \u001b[38;5;241m0\u001b[39m, \u001b[38;5;241m1\u001b[39m\u001b[38;5;241m/\u001b[39m(\u001b[38;5;241m100\u001b[39m \u001b[38;5;241m*\u001b[39m fx)])\u001b[38;5;241m.\u001b[39mreshape(\u001b[38;5;241m-\u001b[39m\u001b[38;5;241m1\u001b[39m, \u001b[38;5;241m1\u001b[39m) \u001b[38;5;241m@\u001b[39m depths\u001b[38;5;241m.\u001b[39mreshape(\u001b[38;5;241m1\u001b[39m, \u001b[38;5;241m-\u001b[39m\u001b[38;5;241m1\u001b[39m))\u001b[38;5;241m.\u001b[39mtranspose()\n\u001b[1;32m    287\u001b[0m identity_pose_3d \u001b[38;5;241m=\u001b[39m Pose\u001b[38;5;241m.\u001b[39midentity() \u001b[38;5;66;03m#.as_matrix()\u001b[39;00m\n\u001b[0;32m--> 289\u001b[0m rendered \u001b[38;5;241m=\u001b[39m \u001b[43mrenderer\u001b[49m\u001b[38;5;241;43m.\u001b[39;49m\u001b[43mrender_attribute\u001b[49m\u001b[43m(\u001b[49m\n\u001b[1;32m    290\u001b[0m \u001b[43m    \u001b[49m\u001b[43midentity_pose_3d\u001b[49m\u001b[43m[\u001b[49m\u001b[38;5;28;43;01mNone\u001b[39;49;00m\u001b[43m,\u001b[49m\u001b[43m \u001b[49m\u001b[38;5;241;43m.\u001b[39;49m\u001b[38;5;241;43m.\u001b[39;49m\u001b[38;5;241;43m.\u001b[39;49m\u001b[43m]\u001b[49m\u001b[43m,\u001b[49m\n\u001b[1;32m    291\u001b[0m \u001b[43m    \u001b[49m\u001b[43mvertices\u001b[49m\u001b[43m,\u001b[49m\n\u001b[1;32m    292\u001b[0m \u001b[43m    \u001b[49m\u001b[43mmesh\u001b[49m\u001b[38;5;241;43m.\u001b[39;49m\u001b[43mfaces\u001b[49m\u001b[43m,\u001b[49m\n\u001b[1;32m    293\u001b[0m \u001b[43m    \u001b[49m\u001b[43mjnp\u001b[49m\u001b[38;5;241;43m.\u001b[39;49m\u001b[43marray\u001b[49m\u001b[43m(\u001b[49m\u001b[43m[\u001b[49m\u001b[38;5;241;43m0\u001b[39;49m\u001b[43m,\u001b[49m\u001b[43m \u001b[49m\u001b[43mmesh\u001b[49m\u001b[38;5;241;43m.\u001b[39;49m\u001b[43mfaces\u001b[49m\u001b[38;5;241;43m.\u001b[39;49m\u001b[43mshape\u001b[49m\u001b[43m[\u001b[49m\u001b[38;5;241;43m0\u001b[39;49m\u001b[43m]\u001b[49m\u001b[43m]\u001b[49m\u001b[43m)\u001b[49m\u001b[38;5;241;43m.\u001b[39;49m\u001b[43mreshape\u001b[49m\u001b[43m(\u001b[49m\u001b[38;5;241;43m1\u001b[39;49m\u001b[43m,\u001b[49m\u001b[43m \u001b[49m\u001b[38;5;241;43m2\u001b[39;49m\u001b[43m)\u001b[49m\u001b[43m,\u001b[49m\u001b[43m \u001b[49m\u001b[38;5;66;43;03m# 1 object, with all faces\u001b[39;49;00m\n\u001b[1;32m    294\u001b[0m \u001b[43m    \u001b[49m\u001b[43mmesh\u001b[49m\u001b[38;5;241;43m.\u001b[39;49m\u001b[43mattributes\u001b[49m\n\u001b[1;32m    295\u001b[0m \u001b[43m\u001b[49m\u001b[43m)\u001b[49m\n\u001b[1;32m    297\u001b[0m \u001b[38;5;28;01mreturn\u001b[39;00m rendered\n",
      "File \u001b[0;32m~/b3d/b3d/renderer.py:270\u001b[0m, in \u001b[0;36mRenderer.render_attribute\u001b[0;34m(self, pose, vertices, faces, ranges, attributes)\u001b[0m\n\u001b[1;32m    246\u001b[0m \u001b[38;5;28;01mdef\u001b[39;00m \u001b[38;5;21mrender_attribute\u001b[39m(\u001b[38;5;28mself\u001b[39m, pose, vertices, faces, ranges, attributes):\n\u001b[1;32m    247\u001b[0m \u001b[38;5;250m    \u001b[39m\u001b[38;5;124;03m\"\"\"\u001b[39;00m\n\u001b[1;32m    248\u001b[0m \u001b[38;5;124;03m    Render a single scenes to an image by rasterizing and then interpolating attributes.\u001b[39;00m\n\u001b[1;32m    249\u001b[0m \n\u001b[0;32m   (...)\u001b[0m\n\u001b[1;32m    268\u001b[0m \u001b[38;5;124;03m            Depth of the intersection point. Zero if the pixel ray doesn't collide a triangle.\u001b[39;00m\n\u001b[1;32m    269\u001b[0m \u001b[38;5;124;03m    \"\"\"\u001b[39;00m\n\u001b[0;32m--> 270\u001b[0m     image, zs \u001b[38;5;241m=\u001b[39m \u001b[38;5;28;43mself\u001b[39;49m\u001b[38;5;241;43m.\u001b[39;49m\u001b[43mrender_attribute_many\u001b[49m\u001b[43m(\u001b[49m\n\u001b[1;32m    271\u001b[0m \u001b[43m        \u001b[49m\u001b[43mpose\u001b[49m\u001b[43m[\u001b[49m\u001b[38;5;28;43;01mNone\u001b[39;49;00m\u001b[43m,\u001b[49m\u001b[43m \u001b[49m\u001b[38;5;241;43m.\u001b[39;49m\u001b[38;5;241;43m.\u001b[39;49m\u001b[38;5;241;43m.\u001b[39;49m\u001b[43m]\u001b[49m\u001b[43m,\u001b[49m\u001b[43m \u001b[49m\u001b[43mvertices\u001b[49m\u001b[43m,\u001b[49m\u001b[43m \u001b[49m\u001b[43mfaces\u001b[49m\u001b[43m,\u001b[49m\u001b[43m \u001b[49m\u001b[43mranges\u001b[49m\u001b[43m,\u001b[49m\u001b[43m \u001b[49m\u001b[43mattributes\u001b[49m\n\u001b[1;32m    272\u001b[0m \u001b[43m    \u001b[49m\u001b[43m)\u001b[49m\n\u001b[1;32m    273\u001b[0m     \u001b[38;5;28;01mreturn\u001b[39;00m image[\u001b[38;5;241m0\u001b[39m], zs[\u001b[38;5;241m0\u001b[39m]\n",
      "File \u001b[0;32m~/b3d/b3d/renderer.py:234\u001b[0m, in \u001b[0;36mRenderer.render_attribute_many\u001b[0;34m(self, poses, vertices, faces, ranges, attributes)\u001b[0m\n\u001b[1;32m    210\u001b[0m \u001b[38;5;28;01mdef\u001b[39;00m \u001b[38;5;21mrender_attribute_many\u001b[39m(\u001b[38;5;28mself\u001b[39m, poses, vertices, faces, ranges, attributes):\n\u001b[1;32m    211\u001b[0m \u001b[38;5;250m    \u001b[39m\u001b[38;5;124;03m\"\"\"\u001b[39;00m\n\u001b[1;32m    212\u001b[0m \u001b[38;5;124;03m    Render many scenes to an image by rasterizing and then interpolating attributes.\u001b[39;00m\n\u001b[1;32m    213\u001b[0m \n\u001b[0;32m   (...)\u001b[0m\n\u001b[1;32m    232\u001b[0m \u001b[38;5;124;03m            Depth of the intersection point. Zero if the pixel ray doesn't collide a triangle.\u001b[39;00m\n\u001b[1;32m    233\u001b[0m \u001b[38;5;124;03m    \"\"\"\u001b[39;00m\n\u001b[0;32m--> 234\u001b[0m     uvs, object_ids, triangle_ids, zs \u001b[38;5;241m=\u001b[39m \u001b[38;5;28;43mself\u001b[39;49m\u001b[38;5;241;43m.\u001b[39;49m\u001b[43mrasterize_many\u001b[49m\u001b[43m(\u001b[49m\n\u001b[1;32m    235\u001b[0m \u001b[43m        \u001b[49m\u001b[43mposes\u001b[49m\u001b[43m,\u001b[49m\u001b[43m \u001b[49m\u001b[43mvertices\u001b[49m\u001b[43m,\u001b[49m\u001b[43m \u001b[49m\u001b[43mfaces\u001b[49m\u001b[43m,\u001b[49m\u001b[43m \u001b[49m\u001b[43mranges\u001b[49m\n\u001b[1;32m    236\u001b[0m \u001b[43m    \u001b[49m\u001b[43m)\u001b[49m\n\u001b[1;32m    237\u001b[0m     mask \u001b[38;5;241m=\u001b[39m object_ids \u001b[38;5;241m>\u001b[39m \u001b[38;5;241m0\u001b[39m\n\u001b[1;32m    239\u001b[0m     interpolated_values \u001b[38;5;241m=\u001b[39m \u001b[38;5;28mself\u001b[39m\u001b[38;5;241m.\u001b[39minterpolate_many(\n\u001b[1;32m    240\u001b[0m         attributes, uvs, triangle_ids, faces\n\u001b[1;32m    241\u001b[0m     )\n",
      "File \u001b[0;32m~/b3d/b3d/renderer.py:168\u001b[0m, in \u001b[0;36mRenderer.rasterize_many\u001b[0;34m(self, poses, vertices, faces, ranges)\u001b[0m\n\u001b[1;32m    139\u001b[0m \u001b[38;5;250m\u001b[39m\u001b[38;5;124;03m\"\"\"\u001b[39;00m\n\u001b[1;32m    140\u001b[0m \u001b[38;5;124;03mRasterize many scenes in parallel. For scene number S and pixel at row i and column j,\u001b[39;00m\n\u001b[1;32m    141\u001b[0m \u001b[38;5;124;03muvs[S, i, j] contains the u and v barycentric coordinates of the intersection point with\u001b[39;00m\n\u001b[0;32m   (...)\u001b[0m\n\u001b[1;32m    163\u001b[0m \u001b[38;5;124;03m        Depth of the intersection point. Zero if the pixel ray doesn't collide a triangle.\u001b[39;00m\n\u001b[1;32m    164\u001b[0m \u001b[38;5;124;03m\"\"\"\u001b[39;00m\n\u001b[1;32m    165\u001b[0m vertices_h \u001b[38;5;241m=\u001b[39m jnp\u001b[38;5;241m.\u001b[39mconcatenate(\n\u001b[1;32m    166\u001b[0m     [vertices, jnp\u001b[38;5;241m.\u001b[39mones((vertices\u001b[38;5;241m.\u001b[39mshape[\u001b[38;5;241m0\u001b[39m], \u001b[38;5;241m1\u001b[39m))], axis\u001b[38;5;241m=\u001b[39m\u001b[38;5;241m-\u001b[39m\u001b[38;5;241m1\u001b[39m\n\u001b[1;32m    167\u001b[0m )\n\u001b[0;32m--> 168\u001b[0m rast_out, rast_out_aux \u001b[38;5;241m=\u001b[39m \u001b[38;5;28;43mself\u001b[39;49m\u001b[38;5;241;43m.\u001b[39;49m\u001b[43m_rasterize_partial\u001b[49m\u001b[43m(\u001b[49m\n\u001b[1;32m    169\u001b[0m \u001b[43m    \u001b[49m\u001b[43mposes\u001b[49m\u001b[43m,\u001b[49m\n\u001b[1;32m    170\u001b[0m \u001b[43m    \u001b[49m\u001b[43mvertices_h\u001b[49m\u001b[43m,\u001b[49m\n\u001b[1;32m    171\u001b[0m \u001b[43m    \u001b[49m\u001b[43mfaces\u001b[49m\u001b[43m,\u001b[49m\n\u001b[1;32m    172\u001b[0m \u001b[43m    \u001b[49m\u001b[43mranges\u001b[49m\u001b[43m,\u001b[49m\n\u001b[1;32m    173\u001b[0m \u001b[43m    \u001b[49m\u001b[38;5;28;43mself\u001b[39;49m\u001b[38;5;241;43m.\u001b[39;49m\u001b[43mprojection_matrix\u001b[49m\u001b[43m,\u001b[49m\n\u001b[1;32m    174\u001b[0m \u001b[43m    \u001b[49m\u001b[38;5;28;43mself\u001b[39;49m\u001b[38;5;241;43m.\u001b[39;49m\u001b[43mresolution\u001b[49m\u001b[43m,\u001b[49m\n\u001b[1;32m    175\u001b[0m \u001b[43m\u001b[49m\u001b[43m)\u001b[49m\n\u001b[1;32m    176\u001b[0m uvs \u001b[38;5;241m=\u001b[39m rast_out[\u001b[38;5;241m.\u001b[39m\u001b[38;5;241m.\u001b[39m\u001b[38;5;241m.\u001b[39m, :\u001b[38;5;241m2\u001b[39m]\n\u001b[1;32m    177\u001b[0m zs \u001b[38;5;241m=\u001b[39m rast_out[\u001b[38;5;241m.\u001b[39m\u001b[38;5;241m.\u001b[39m\u001b[38;5;241m.\u001b[39m, \u001b[38;5;241m3\u001b[39m]\n",
      "    \u001b[0;31m[... skipping hidden 5 frame]\u001b[0m\n",
      "File \u001b[0;32m~/b3d/b3d/renderer.py:85\u001b[0m, in \u001b[0;36mRenderer._rasterize\u001b[0;34m(self, pose, pos, tri, ranges, projMatrix, resolution)\u001b[0m\n\u001b[1;32m     83\u001b[0m \u001b[38;5;129m@functools\u001b[39m\u001b[38;5;241m.\u001b[39mpartial(jax\u001b[38;5;241m.\u001b[39mcustom_vjp, nondiff_argnums\u001b[38;5;241m=\u001b[39m(\u001b[38;5;241m0\u001b[39m,))\n\u001b[1;32m     84\u001b[0m \u001b[38;5;28;01mdef\u001b[39;00m \u001b[38;5;21m_rasterize\u001b[39m(\u001b[38;5;28mself\u001b[39m, pose, pos, tri, ranges, projMatrix, resolution):\n\u001b[0;32m---> 85\u001b[0m     \u001b[38;5;28;01mreturn\u001b[39;00m \u001b[43m_rasterize_fwd_custom_call\u001b[49m\u001b[43m(\u001b[49m\n\u001b[1;32m     86\u001b[0m \u001b[43m        \u001b[49m\u001b[38;5;28;43mself\u001b[39;49m\u001b[43m,\u001b[49m\u001b[43m \u001b[49m\u001b[43mpose\u001b[49m\u001b[43m,\u001b[49m\u001b[43m \u001b[49m\u001b[43mpos\u001b[49m\u001b[43m,\u001b[49m\u001b[43m \u001b[49m\u001b[43mtri\u001b[49m\u001b[43m,\u001b[49m\u001b[43m \u001b[49m\u001b[43mranges\u001b[49m\u001b[43m,\u001b[49m\u001b[43m \u001b[49m\u001b[43mprojMatrix\u001b[49m\u001b[43m,\u001b[49m\u001b[43m \u001b[49m\u001b[43mresolution\u001b[49m\n\u001b[1;32m     87\u001b[0m \u001b[43m    \u001b[49m\u001b[43m)\u001b[49m\n",
      "File \u001b[0;32m~/b3d/b3d/renderer.py:299\u001b[0m, in \u001b[0;36m_rasterize_fwd_custom_call\u001b[0;34m(r, pose, pos, tri, ranges, projMatrix, resolution)\u001b[0m\n\u001b[1;32m    296\u001b[0m \u001b[38;5;28;01mdef\u001b[39;00m \u001b[38;5;21m_rasterize_fwd_custom_call\u001b[39m(\n\u001b[1;32m    297\u001b[0m     r: \u001b[38;5;124m\"\u001b[39m\u001b[38;5;124mRenderer\u001b[39m\u001b[38;5;124m\"\u001b[39m, pose, pos, tri, ranges, projMatrix, resolution\n\u001b[1;32m    298\u001b[0m ):\n\u001b[0;32m--> 299\u001b[0m     \u001b[38;5;28;01mreturn\u001b[39;00m \u001b[43m_build_rasterize_fwd_primitive\u001b[49m\u001b[43m(\u001b[49m\u001b[43mr\u001b[49m\u001b[43m)\u001b[49m\u001b[38;5;241;43m.\u001b[39;49m\u001b[43mbind\u001b[49m\u001b[43m(\u001b[49m\n\u001b[1;32m    300\u001b[0m \u001b[43m        \u001b[49m\u001b[43mpose\u001b[49m\u001b[43m,\u001b[49m\u001b[43m \u001b[49m\u001b[43mpos\u001b[49m\u001b[43m,\u001b[49m\u001b[43m \u001b[49m\u001b[43mtri\u001b[49m\u001b[43m,\u001b[49m\u001b[43m \u001b[49m\u001b[43mranges\u001b[49m\u001b[43m,\u001b[49m\u001b[43m \u001b[49m\u001b[43mprojMatrix\u001b[49m\u001b[43m,\u001b[49m\u001b[43m \u001b[49m\u001b[43mresolution\u001b[49m\n\u001b[1;32m    301\u001b[0m \u001b[43m    \u001b[49m\u001b[43m)\u001b[49m\n",
      "    \u001b[0;31m[... skipping hidden 21 frame]\u001b[0m\n",
      "File \u001b[0;32m/opt/conda/envs/b3d/lib/python3.10/site-packages/jax/_src/core.py:1472\u001b[0m, in \u001b[0;36mconcrete_aval\u001b[0;34m(x)\u001b[0m\n\u001b[1;32m   1470\u001b[0m \u001b[38;5;28;01mif\u001b[39;00m \u001b[38;5;28mhasattr\u001b[39m(x, \u001b[38;5;124m'\u001b[39m\u001b[38;5;124m__jax_array__\u001b[39m\u001b[38;5;124m'\u001b[39m):\n\u001b[1;32m   1471\u001b[0m   \u001b[38;5;28;01mreturn\u001b[39;00m concrete_aval(x\u001b[38;5;241m.\u001b[39m__jax_array__())\n\u001b[0;32m-> 1472\u001b[0m \u001b[38;5;28;01mraise\u001b[39;00m \u001b[38;5;167;01mTypeError\u001b[39;00m(\u001b[38;5;124mf\u001b[39m\u001b[38;5;124m\"\u001b[39m\u001b[38;5;124mValue \u001b[39m\u001b[38;5;132;01m{\u001b[39;00mx\u001b[38;5;132;01m!r}\u001b[39;00m\u001b[38;5;124m with type \u001b[39m\u001b[38;5;132;01m{\u001b[39;00m\u001b[38;5;28mtype\u001b[39m(x)\u001b[38;5;132;01m}\u001b[39;00m\u001b[38;5;124m is not a valid JAX \u001b[39m\u001b[38;5;124m\"\u001b[39m\n\u001b[1;32m   1473\u001b[0m                  \u001b[38;5;124m\"\u001b[39m\u001b[38;5;124mtype\u001b[39m\u001b[38;5;124m\"\u001b[39m)\n",
      "\u001b[0;31mTypeError\u001b[0m: Value Pose(position=Traced<ShapedArray(float32[1,1,3])>with<DynamicJaxprTrace(level=1/1)>, quaternion=Traced<ShapedArray(float32[1,1,4])>with<DynamicJaxprTrace(level=1/1)>) with type <class 'b3d.pose.Pose'> is not a valid JAX type"
     ]
    }
   ],
   "source": [
    "from tracking.mesh import Mesh\n",
    "\n",
    "sq = Mesh.square_mesh(jnp.array([0., 0.]), jnp.array([20., 20.]), jnp.array([0., 0., 0., 1.]))\n",
    "\n",
    "img = sq.to_image(64, 64,\n",
    "        lambda rgbd: rgbd[-1],\n",
    "        jnp.array([1., 1., 1., 10.])\n",
    "    )\n",
    "\n",
    "img[0].shape"
   ]
  },
  {
   "cell_type": "code",
   "execution_count": 13,
   "metadata": {},
   "outputs": [
    {
     "ename": "NameError",
     "evalue": "name 'attributes_to_depth' is not defined",
     "output_type": "error",
     "traceback": [
      "\u001b[0;31m---------------------------------------------------------------------------\u001b[0m",
      "\u001b[0;31mNameError\u001b[0m                                 Traceback (most recent call last)",
      "Cell \u001b[0;32mIn[13], line 2\u001b[0m\n\u001b[1;32m      1\u001b[0m mesh \u001b[38;5;241m=\u001b[39m sq\n\u001b[0;32m----> 2\u001b[0m depths \u001b[38;5;241m=\u001b[39m jax\u001b[38;5;241m.\u001b[39mvmap(jax\u001b[38;5;241m.\u001b[39mvmap(\u001b[43mattributes_to_depth\u001b[49m))(mesh\u001b[38;5;241m.\u001b[39mattributes)\n",
      "\u001b[0;31mNameError\u001b[0m: name 'attributes_to_depth' is not defined"
     ]
    }
   ],
   "source": [
    "mesh = sq\n",
    "depths = jax.vmap(jax.vmap(attributes_to_depth))(mesh.attributes)\n"
   ]
  },
  {
   "cell_type": "code",
   "execution_count": 11,
   "metadata": {},
   "outputs": [
    {
     "data": {
      "text/plain": [
       "<matplotlib.image.AxesImage at 0x7f3e54416ad0>"
      ]
     },
     "execution_count": 11,
     "metadata": {},
     "output_type": "execute_result"
    },
    {
     "data": {
      "image/png": "[encoded data removed]",
      "text/plain": [
       "<Figure size 640x480 with 1 Axes>"
      ]
     },
     "metadata": {},
     "output_type": "display_data"
    }
   ],
   "source": [
    "import matplotlib.pyplot as plt\n",
    "plt.imshow(img[0])"
   ]
  },
  {
   "cell_type": "code",
   "execution_count": 124,
   "metadata": {},
   "outputs": [
    {
     "data": {
      "text/plain": [
       "(400, 2)"
      ]
     },
     "execution_count": 124,
     "metadata": {},
     "output_type": "execute_result"
    }
   ],
   "source": [
    "width, height = 20, 20\n",
    "bottom_lefts = jnp.meshgrid(jnp.arange(width), jnp.arange(height))\n",
    "bottom_lefts = jnp.stack(bottom_lefts, axis=-1).reshape(-1, 2)\n",
    "bottom_lefts.shape"
   ]
  },
  {
   "cell_type": "code",
   "execution_count": 131,
   "metadata": {},
   "outputs": [],
   "source": [
    "from tracking.mesh import Mesh"
   ]
  },
  {
   "cell_type": "code",
   "execution_count": 132,
   "metadata": {},
   "outputs": [],
   "source": [
    "width, height = 12, 15\n",
    "attributes = jnp.ones((width, height, 4))"
   ]
  },
  {
   "cell_type": "code",
   "execution_count": 133,
   "metadata": {},
   "outputs": [],
   "source": [
    "bottom_lefts = jnp.meshgrid(jnp.arange(width), jnp.arange(height))\n",
    "bottom_lefts = jnp.stack(bottom_lefts, axis=-1).reshape(-1, 2)\n",
    "widthheights = jnp.ones((width * height, 2))\n",
    "attributes = attributes.reshape((-1, attributes.shape[-1]))\n"
   ]
  },
  {
   "cell_type": "code",
   "execution_count": 135,
   "metadata": {},
   "outputs": [],
   "source": [
    "vmapped_mesh = jax.vmap(Mesh.square_mesh, in_axes=(0, 0, 0))(bottom_lefts, widthheights, attributes)\n"
   ]
  },
  {
   "cell_type": "code",
   "execution_count": 136,
   "metadata": {},
   "outputs": [],
   "source": [
    "vertices = vmapped_mesh.vertices.reshape((-1, 2))\n",
    "n_vertices_per_face = vmapped_mesh.vertices.shape[1]\n"
   ]
  },
  {
   "cell_type": "code",
   "execution_count": 143,
   "metadata": {},
   "outputs": [
    {
     "data": {
      "text/plain": [
       "(180, 2, 3)"
      ]
     },
     "execution_count": 143,
     "metadata": {},
     "output_type": "execute_result"
    }
   ],
   "source": [
    "vmapped_mesh.faces.shape"
   ]
  },
  {
   "cell_type": "code",
   "execution_count": 144,
   "metadata": {},
   "outputs": [
    {
     "data": {
      "text/plain": [
       "Array([[  0,   1,   2],\n",
       "       [  0,   2,   3],\n",
       "       [  0,   1,   2],\n",
       "       ...,\n",
       "       [356, 358, 359],\n",
       "       [356, 357, 358],\n",
       "       [356, 358, 359]], dtype=int32)"
      ]
     },
     "execution_count": 144,
     "metadata": {},
     "output_type": "execute_result"
    }
   ],
   "source": [
    "# Generate the base array\n",
    "# arr = jnp.arange(vertices.shape[0])\n",
    "\n",
    "\n"
   ]
  },
  {
   "cell_type": "code",
   "execution_count": null,
   "metadata": {},
   "outputs": [],
   "source": []
  }
 ],
 "metadata": {
  "kernelspec": {
   "display_name": "b3d",
   "language": "python",
   "name": "python3"
  },
  "language_info": {
   "codemirror_mode": {
    "name": "ipython",
    "version": 3
   },
   "file_extension": ".py",
   "mimetype": "text/x-python",
   "name": "python",
   "nbconvert_exporter": "python",
   "pygments_lexer": "ipython3",
   "version": "3.10.14"
  }
 },
 "nbformat": 4,
 "nbformat_minor": 2
}
