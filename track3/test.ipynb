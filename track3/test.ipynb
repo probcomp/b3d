{
 "cells": [
  {
   "cell_type": "code",
   "execution_count": 1,
   "metadata": {},
   "outputs": [],
   "source": [
    "%load_ext autoreload\n",
    "%autoreload 2"
   ]
  },
  {
   "cell_type": "code",
   "execution_count": 2,
   "metadata": {},
   "outputs": [],
   "source": [
    "import jax\n",
    "import jax.numpy as jnp\n",
    "import genjax"
   ]
  },
  {
   "cell_type": "code",
   "execution_count": 3,
   "metadata": {},
   "outputs": [],
   "source": [
    "from tracking.model import model_factory"
   ]
  },
  {
   "cell_type": "code",
   "execution_count": 26,
   "metadata": {},
   "outputs": [],
   "source": [
    "model = model_factory(\n",
    "    max_T = 10,\n",
    "    width = 240,\n",
    "    height = 320,\n",
    "    pose_kernel_params = (1.0, 1.0)\n",
    ")"
   ]
  },
  {
   "cell_type": "code",
   "execution_count": 27,
   "metadata": {},
   "outputs": [],
   "source": [
    "key = jax.random.PRNGKey(1)\n",
    "trace = model.simulate(key, (4,))"
   ]
  },
  {
   "cell_type": "code",
   "execution_count": 28,
   "metadata": {},
   "outputs": [
    {
     "data": {
      "text/plain": [
       "(Array([[ 9.6480873e+01,  2.1060333e+02,  5.4421717e-01],\n",
       "        [ 9.4966339e+01,  2.1043172e+02,  2.7124362e+00],\n",
       "        [ 9.5183731e+01,  2.1158604e+02, -2.8669615e+00],\n",
       "        [ 9.5091530e+01,  2.1141847e+02,  1.3867779e+00],\n",
       "        [ 9.3629852e+01,  2.1206841e+02,  2.9440856e-01],\n",
       "        [ 9.3335396e+01,  2.1236569e+02,  8.4228814e-02],\n",
       "        [ 9.3335396e+01,  2.1236569e+02,  8.4228814e-02],\n",
       "        [ 9.3335396e+01,  2.1236569e+02,  8.4228814e-02],\n",
       "        [ 9.3335396e+01,  2.1236569e+02,  8.4228814e-02],\n",
       "        [ 9.3335396e+01,  2.1236569e+02,  8.4228814e-02],\n",
       "        [ 9.3335396e+01,  2.1236569e+02,  8.4228814e-02]], dtype=float32),\n",
       " array([0., 0., 0.], dtype=float32),\n",
       " None)"
      ]
     },
     "execution_count": 28,
     "metadata": {},
     "output_type": "execute_result"
    }
   ],
   "source": [
    "trace.get_retval()"
   ]
  },
  {
   "cell_type": "code",
   "execution_count": null,
   "metadata": {},
   "outputs": [],
   "source": []
  }
 ],
 "metadata": {
  "kernelspec": {
   "display_name": "b3d",
   "language": "python",
   "name": "python3"
  },
  "language_info": {
   "codemirror_mode": {
    "name": "ipython",
    "version": 3
   },
   "file_extension": ".py",
   "mimetype": "text/x-python",
   "name": "python",
   "nbconvert_exporter": "python",
   "pygments_lexer": "ipython3",
   "version": "3.10.14"
  }
 },
 "nbformat": 4,
 "nbformat_minor": 2
}
