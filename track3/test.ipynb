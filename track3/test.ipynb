{
 "cells": [
  {
   "cell_type": "code",
   "execution_count": 1,
   "metadata": {},
   "outputs": [],
   "source": [
    "%load_ext autoreload\n",
    "%autoreload 2"
   ]
  },
  {
   "cell_type": "code",
   "execution_count": 2,
   "metadata": {},
   "outputs": [],
   "source": [
    "import jax\n",
    "import jax.numpy as jnp\n",
    "import genjax\n",
    "import rerun as rr"
   ]
  },
  {
   "cell_type": "code",
   "execution_count": 3,
   "metadata": {},
   "outputs": [],
   "source": [
    "from tracking.model import model_factory, rerun_log_trace"
   ]
  },
  {
   "cell_type": "code",
   "execution_count": 4,
   "metadata": {},
   "outputs": [],
   "source": [
    "PORT = 8812\n",
    "rr.init(\"tracking\")\n",
    "rr.connect(addr=f'127.0.0.1:{PORT}')"
   ]
  },
  {
   "cell_type": "code",
   "execution_count": 21,
   "metadata": {},
   "outputs": [],
   "source": [
    "model = model_factory(\n",
    "    max_T = 10,\n",
    "    width = 50,\n",
    "    height = 40,\n",
    "    pose_kernel_params = (1.0, 1.0),\n",
    "    max_keypoint_mesh_width = 4,\n",
    "    max_keypoint_mesh_height = 4,\n",
    "    max_depth = 20.0\n",
    ")\n",
    "\n",
    "key = jax.random.PRNGKey(3)\n",
    "trace = model.simulate(key, (10,))"
   ]
  },
  {
   "cell_type": "code",
   "execution_count": 22,
   "metadata": {},
   "outputs": [],
   "source": [
    "rerun_log_trace(trace)"
   ]
  },
  {
   "cell_type": "code",
   "execution_count": null,
   "metadata": {},
   "outputs": [],
   "source": []
  },
  {
   "cell_type": "code",
   "execution_count": 124,
   "metadata": {},
   "outputs": [
    {
     "data": {
      "text/plain": [
       "(400, 2)"
      ]
     },
     "execution_count": 124,
     "metadata": {},
     "output_type": "execute_result"
    }
   ],
   "source": [
    "width, height = 20, 20\n",
    "bottom_lefts = jnp.meshgrid(jnp.arange(width), jnp.arange(height))\n",
    "bottom_lefts = jnp.stack(bottom_lefts, axis=-1).reshape(-1, 2)\n",
    "bottom_lefts.shape"
   ]
  },
  {
   "cell_type": "code",
   "execution_count": 131,
   "metadata": {},
   "outputs": [],
   "source": [
    "from tracking.mesh import Mesh"
   ]
  },
  {
   "cell_type": "code",
   "execution_count": 132,
   "metadata": {},
   "outputs": [],
   "source": [
    "width, height = 12, 15\n",
    "attributes = jnp.ones((width, height, 4))"
   ]
  },
  {
   "cell_type": "code",
   "execution_count": 133,
   "metadata": {},
   "outputs": [],
   "source": [
    "bottom_lefts = jnp.meshgrid(jnp.arange(width), jnp.arange(height))\n",
    "bottom_lefts = jnp.stack(bottom_lefts, axis=-1).reshape(-1, 2)\n",
    "widthheights = jnp.ones((width * height, 2))\n",
    "attributes = attributes.reshape((-1, attributes.shape[-1]))\n"
   ]
  },
  {
   "cell_type": "code",
   "execution_count": 135,
   "metadata": {},
   "outputs": [],
   "source": [
    "vmapped_mesh = jax.vmap(Mesh.square_mesh, in_axes=(0, 0, 0))(bottom_lefts, widthheights, attributes)\n"
   ]
  },
  {
   "cell_type": "code",
   "execution_count": 136,
   "metadata": {},
   "outputs": [],
   "source": [
    "vertices = vmapped_mesh.vertices.reshape((-1, 2))\n",
    "n_vertices_per_face = vmapped_mesh.vertices.shape[1]\n"
   ]
  },
  {
   "cell_type": "code",
   "execution_count": 143,
   "metadata": {},
   "outputs": [
    {
     "data": {
      "text/plain": [
       "(180, 2, 3)"
      ]
     },
     "execution_count": 143,
     "metadata": {},
     "output_type": "execute_result"
    }
   ],
   "source": [
    "vmapped_mesh.faces.shape"
   ]
  },
  {
   "cell_type": "code",
   "execution_count": 144,
   "metadata": {},
   "outputs": [
    {
     "data": {
      "text/plain": [
       "Array([[  0,   1,   2],\n",
       "       [  0,   2,   3],\n",
       "       [  0,   1,   2],\n",
       "       ...,\n",
       "       [356, 358, 359],\n",
       "       [356, 357, 358],\n",
       "       [356, 358, 359]], dtype=int32)"
      ]
     },
     "execution_count": 144,
     "metadata": {},
     "output_type": "execute_result"
    }
   ],
   "source": [
    "# Generate the base array\n",
    "# arr = jnp.arange(vertices.shape[0])\n",
    "\n",
    "\n"
   ]
  },
  {
   "cell_type": "code",
   "execution_count": null,
   "metadata": {},
   "outputs": [],
   "source": []
  }
 ],
 "metadata": {
  "kernelspec": {
   "display_name": "b3d",
   "language": "python",
   "name": "python3"
  },
  "language_info": {
   "codemirror_mode": {
    "name": "ipython",
    "version": 3
   },
   "file_extension": ".py",
   "mimetype": "text/x-python",
   "name": "python",
   "nbconvert_exporter": "python",
   "pygments_lexer": "ipython3",
   "version": "3.10.14"
  }
 },
 "nbformat": 4,
 "nbformat_minor": 2
}
